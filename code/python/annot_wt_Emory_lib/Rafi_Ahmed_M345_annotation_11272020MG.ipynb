{
 "cells": [
  {
   "cell_type": "markdown",
   "metadata": {},
   "source": [
    "# Annotation by Emory IROA library (Rafi Ahmed's exhausted CD8 T cell)\n",
    "- Operater: Minghao Gong\n",
    "- Run time: 11/27/2020\n",
    "- Data: Rafi Ahmed, Chris, CD8 exhuasted T cell project\n",
    "- Note: \n",
    "  * The notebook is modified from Shuzhao Li's previous annotation project\n",
    "  * The LC-MS used in the experiment does not generally distinguish L or D isomers. Thus, the chiral notion from a library should be removed when reporting the identity of a compound."
   ]
  },
  {
   "cell_type": "code",
   "execution_count": 34,
   "metadata": {},
   "outputs": [],
   "source": [
    "import pandas as pd\n",
    "from emory_iroa_libs import HILIC_pos, C18_neg #import the json files which have annotation information wrapped."
   ]
  },
  {
   "cell_type": "markdown",
   "metadata": {},
   "source": [
    "#### You can reverse the json file to dataframe"
   ]
  },
  {
   "cell_type": "code",
   "execution_count": 35,
   "metadata": {},
   "outputs": [],
   "source": [
    "#pd.DataFrame(HILIC_pos['compounds']).to_csv(\"HILIC_pos_annot_2017_KenLiu.csv\")\n",
    "#pd.DataFrame(C18_neg['compounds']).to_csv(\"C18_neg_annot_2017_KenLiu.csv\")"
   ]
  },
  {
   "cell_type": "markdown",
   "metadata": {},
   "source": [
    "### HILIC_pos annotation library: metadata structure"
   ]
  },
  {
   "cell_type": "code",
   "execution_count": 36,
   "metadata": {
    "scrolled": true
   },
   "outputs": [
    {
     "name": "stdout",
     "output_type": "stream",
     "text": [
      "library : IROA \n",
      "instrument : Orbitrap QE\n",
      "chromatography_column : HILIC\n",
      "chromatography_time : 10 minutes\n",
      "ionization : ESI\n",
      "ionization_mode : positive\n",
      "expt_contact : Ken Liu\n",
      "expt_data_generated : 2017\n",
      "data_processed_by : Shuzhao Li\n",
      "version : 2020-08-02\n"
     ]
    }
   ],
   "source": [
    "for k,v in HILIC_pos['metadata'].items():  #the HILIC_pos metadata is a dicionary of library specifics\n",
    "    print(k + \" : \" + v)"
   ]
  },
  {
   "cell_type": "code",
   "execution_count": 37,
   "metadata": {
    "scrolled": true
   },
   "outputs": [
    {
     "name": "stdout",
     "output_type": "stream",
     "text": [
      "name : L-CYSTINE\n",
      "observed_ion : M+H\n",
      "observed_rtime : 211\n",
      "parent_KEGG : C01420\n",
      "HMDB : HMDB00192\n",
      "HMDB_conc_range (uM) : 8-68\n",
      "observed_mz : 241.03165\n"
     ]
    }
   ],
   "source": [
    "for k,v in HILIC_pos['compounds'][32].items(): #the HILIC_pos is a list of dictionary. \n",
    "    print(k + \" : \" + v)                       #Here we show one of the #32 compound dictionary"
   ]
  },
  {
   "cell_type": "markdown",
   "metadata": {},
   "source": [
    "# Input the file path"
   ]
  },
  {
   "cell_type": "code",
   "execution_count": 38,
   "metadata": {},
   "outputs": [],
   "source": [
    "file1_wt_path = \"../data/processed/result_apLCMS_HilicPos_Rafi_M345_v2_labelled_cells.txt\"\n",
    "file2_wt_path = \"../data/processed/result_apLCMS_C18_Rafi_M345_v2_labelled_cells.txt\"\n",
    "output_path = \"../data/processed/\"\n",
    "infile1 = file1_wt_path.split(\"/\")[-1]\n",
    "infile2 = file2_wt_path.split(\"/\")[-1]"
   ]
  },
  {
   "cell_type": "markdown",
   "metadata": {},
   "source": [
    "### match2 function "
   ]
  },
  {
   "cell_type": "code",
   "execution_count": 41,
   "metadata": {},
   "outputs": [],
   "source": [
    "PPM_tolerance = 0.000010\n",
    "RTime_tolerance = 100       # seconds in retention time, usually a small number\n",
    "                            # more lenient for diff instruments\n",
    "                            # and possible diff void volume\n",
    "\n",
    "def match2(F1, F2):\n",
    "    # The input format: F1, F2 = (mz, rt), (mz, rt)\n",
    "    if abs(F1[0]-F2[0])/F1[0] < PPM_tolerance and abs(F1[1] - F2[1]) < RTime_tolerance:\n",
    "        return True\n",
    "    else:\n",
    "        return False"
   ]
  },
  {
   "cell_type": "markdown",
   "metadata": {},
   "source": [
    "---"
   ]
  },
  {
   "cell_type": "markdown",
   "metadata": {},
   "source": [
    "----"
   ]
  },
  {
   "cell_type": "markdown",
   "metadata": {},
   "source": [
    "# Step 1: First do HILIC_pos"
   ]
  },
  {
   "cell_type": "markdown",
   "metadata": {},
   "source": [
    "### Read the table and visualize the data structure"
   ]
  },
  {
   "cell_type": "code",
   "execution_count": 39,
   "metadata": {
    "scrolled": true
   },
   "outputs": [
    {
     "data": {
      "text/plain": [
       "'result_apLCMS_HilicPos_Rafi_M345_v2_labelled_cells.txt'"
      ]
     },
     "execution_count": 39,
     "metadata": {},
     "output_type": "execute_result"
    }
   ],
   "source": [
    "infile1"
   ]
  },
  {
   "cell_type": "code",
   "execution_count": 42,
   "metadata": {},
   "outputs": [
    {
     "name": "stdout",
     "output_type": "stream",
     "text": [
      "(6328, 11)\n"
     ]
    },
    {
     "data": {
      "text/html": [
       "<div>\n",
       "<style scoped>\n",
       "    .dataframe tbody tr th:only-of-type {\n",
       "        vertical-align: middle;\n",
       "    }\n",
       "\n",
       "    .dataframe tbody tr th {\n",
       "        vertical-align: top;\n",
       "    }\n",
       "\n",
       "    .dataframe thead th {\n",
       "        text-align: right;\n",
       "    }\n",
       "</style>\n",
       "<table border=\"1\" class=\"dataframe\">\n",
       "  <thead>\n",
       "    <tr style=\"text-align: right;\">\n",
       "      <th></th>\n",
       "      <th>mz</th>\n",
       "      <th>time</th>\n",
       "      <th>G2_R5pos1_1</th>\n",
       "      <th>G2_R5pos2_1</th>\n",
       "      <th>G2_R5pos3_1</th>\n",
       "      <th>G1_Naive1_1</th>\n",
       "      <th>G1_Naive2_1</th>\n",
       "      <th>G1_Naive3_1</th>\n",
       "      <th>G3_R5neg1a_1</th>\n",
       "      <th>G3_R5neg2a_1</th>\n",
       "      <th>G3_R5neg3a_1</th>\n",
       "    </tr>\n",
       "  </thead>\n",
       "  <tbody>\n",
       "    <tr>\n",
       "      <th>0</th>\n",
       "      <td>85.028385</td>\n",
       "      <td>512.954463</td>\n",
       "      <td>4.137588e+06</td>\n",
       "      <td>2.081908e+06</td>\n",
       "      <td>2.702356e+05</td>\n",
       "      <td>0.000000e+00</td>\n",
       "      <td>1.022535e+06</td>\n",
       "      <td>2.492206e+06</td>\n",
       "      <td>1.380191e+06</td>\n",
       "      <td>2.156244e+06</td>\n",
       "      <td>1.683666e+06</td>\n",
       "    </tr>\n",
       "    <tr>\n",
       "      <th>1</th>\n",
       "      <td>85.047678</td>\n",
       "      <td>60.262585</td>\n",
       "      <td>0.000000e+00</td>\n",
       "      <td>0.000000e+00</td>\n",
       "      <td>0.000000e+00</td>\n",
       "      <td>0.000000e+00</td>\n",
       "      <td>0.000000e+00</td>\n",
       "      <td>0.000000e+00</td>\n",
       "      <td>0.000000e+00</td>\n",
       "      <td>0.000000e+00</td>\n",
       "      <td>0.000000e+00</td>\n",
       "    </tr>\n",
       "    <tr>\n",
       "      <th>2</th>\n",
       "      <td>85.063203</td>\n",
       "      <td>61.252789</td>\n",
       "      <td>3.041608e+06</td>\n",
       "      <td>2.739611e+06</td>\n",
       "      <td>3.320548e+06</td>\n",
       "      <td>2.928846e+06</td>\n",
       "      <td>3.058198e+06</td>\n",
       "      <td>3.977670e+06</td>\n",
       "      <td>4.058808e+06</td>\n",
       "      <td>3.675497e+06</td>\n",
       "      <td>4.022472e+06</td>\n",
       "    </tr>\n",
       "    <tr>\n",
       "      <th>3</th>\n",
       "      <td>85.064743</td>\n",
       "      <td>419.269460</td>\n",
       "      <td>2.660129e+05</td>\n",
       "      <td>1.700608e+06</td>\n",
       "      <td>7.029027e+05</td>\n",
       "      <td>0.000000e+00</td>\n",
       "      <td>2.150794e+06</td>\n",
       "      <td>3.018997e+06</td>\n",
       "      <td>3.647949e+06</td>\n",
       "      <td>2.074642e+06</td>\n",
       "      <td>0.000000e+00</td>\n",
       "    </tr>\n",
       "    <tr>\n",
       "      <th>4</th>\n",
       "      <td>85.077739</td>\n",
       "      <td>63.327942</td>\n",
       "      <td>4.023038e+08</td>\n",
       "      <td>2.345690e+09</td>\n",
       "      <td>4.717437e+08</td>\n",
       "      <td>4.524576e+08</td>\n",
       "      <td>4.717964e+08</td>\n",
       "      <td>5.728635e+08</td>\n",
       "      <td>6.979878e+08</td>\n",
       "      <td>6.845533e+08</td>\n",
       "      <td>6.799926e+08</td>\n",
       "    </tr>\n",
       "  </tbody>\n",
       "</table>\n",
       "</div>"
      ],
      "text/plain": [
       "          mz        time   G2_R5pos1_1   G2_R5pos2_1   G2_R5pos3_1  \\\n",
       "0  85.028385  512.954463  4.137588e+06  2.081908e+06  2.702356e+05   \n",
       "1  85.047678   60.262585  0.000000e+00  0.000000e+00  0.000000e+00   \n",
       "2  85.063203   61.252789  3.041608e+06  2.739611e+06  3.320548e+06   \n",
       "3  85.064743  419.269460  2.660129e+05  1.700608e+06  7.029027e+05   \n",
       "4  85.077739   63.327942  4.023038e+08  2.345690e+09  4.717437e+08   \n",
       "\n",
       "    G1_Naive1_1   G1_Naive2_1   G1_Naive3_1  G3_R5neg1a_1  G3_R5neg2a_1  \\\n",
       "0  0.000000e+00  1.022535e+06  2.492206e+06  1.380191e+06  2.156244e+06   \n",
       "1  0.000000e+00  0.000000e+00  0.000000e+00  0.000000e+00  0.000000e+00   \n",
       "2  2.928846e+06  3.058198e+06  3.977670e+06  4.058808e+06  3.675497e+06   \n",
       "3  0.000000e+00  2.150794e+06  3.018997e+06  3.647949e+06  2.074642e+06   \n",
       "4  4.524576e+08  4.717964e+08  5.728635e+08  6.979878e+08  6.845533e+08   \n",
       "\n",
       "   G3_R5neg3a_1  \n",
       "0  1.683666e+06  \n",
       "1  0.000000e+00  \n",
       "2  4.022472e+06  \n",
       "3  0.000000e+00  \n",
       "4  6.799926e+08  "
      ]
     },
     "execution_count": 42,
     "metadata": {},
     "output_type": "execute_result"
    }
   ],
   "source": [
    "if \".csv\" in infile1:\n",
    "    hilic = pd.read_csv(file1_wt_path)\n",
    "elif \".txt\" in infile1:\n",
    "     hilic = pd.read_csv(file1_wt_path, sep = \"\\t\")\n",
    "print(hilic.shape)\n",
    "hilic.head()  #this check will be important to determine the later part: F1 = c18.iloc[ii, 1:3]"
   ]
  },
  {
   "cell_type": "code",
   "execution_count": 43,
   "metadata": {
    "scrolled": true
   },
   "outputs": [
    {
     "data": {
      "text/plain": [
       "Index(['mz', 'time', 'G2_R5pos1_1', 'G2_R5pos2_1', 'G2_R5pos3_1',\n",
       "       'G1_Naive1_1', 'G1_Naive2_1', 'G1_Naive3_1', 'G3_R5neg1a_1',\n",
       "       'G3_R5neg2a_1', 'G3_R5neg3a_1'],\n",
       "      dtype='object')"
      ]
     },
     "execution_count": 43,
     "metadata": {},
     "output_type": "execute_result"
    }
   ],
   "source": [
    "hilic.columns"
   ]
  },
  {
   "cell_type": "markdown",
   "metadata": {},
   "source": [
    "### Excutive the matching and export a tab split tablem"
   ]
  },
  {
   "cell_type": "code",
   "execution_count": 52,
   "metadata": {},
   "outputs": [],
   "source": [
    "s = 'Name\\tKEGG ID\\tion\\tlibrary_mz\\tlib_retention_time\\tHMDB\\t' + \\\n",
    "    '\\t'.join(list(hilic.columns)[0:]) + '\\n' # \"input_raw_number\\t\" if the first column is indexes; 1 or 0 dependent on the what is the first column (index or mz value)\n",
    "\n",
    "for ii in range(hilic.shape[0]):\n",
    "    F1 = hilic.iloc[ii, 0:2]\n",
    "    for cpd in HILIC_pos['compounds']:\n",
    "        F2 = ( float(cpd['observed_mz']), float(cpd['observed_rtime']) )\n",
    "        if match2(F1, F2):\n",
    "            s += '\\t'.join([cpd[x] for x in ['name', 'parent_KEGG', 'observed_ion', 'observed_mz', \n",
    "                                             'observed_rtime', 'HMDB']] + \n",
    "                           [str(x) for x in list(hilic.iloc[ii,:])]) + '\\n'\n",
    "        else:\n",
    "            pass\n",
    "\n",
    "with open(output_path + \"hilic_annotate_\" + infile1.split(\".\",-1)[0] + \".txt\", 'w') as file:\n",
    "        file.write( s )"
   ]
  },
  {
   "cell_type": "markdown",
   "metadata": {},
   "source": [
    "---"
   ]
  },
  {
   "cell_type": "markdown",
   "metadata": {},
   "source": [
    "---"
   ]
  },
  {
   "cell_type": "markdown",
   "metadata": {},
   "source": [
    "# Step 2: now do C18"
   ]
  },
  {
   "cell_type": "code",
   "execution_count": 53,
   "metadata": {},
   "outputs": [
    {
     "data": {
      "text/plain": [
       "'result_apLCMS_C18_Rafi_M345_v2_labelled_cells.txt'"
      ]
     },
     "execution_count": 53,
     "metadata": {},
     "output_type": "execute_result"
    }
   ],
   "source": [
    "infile2"
   ]
  },
  {
   "cell_type": "code",
   "execution_count": 54,
   "metadata": {},
   "outputs": [
    {
     "name": "stdout",
     "output_type": "stream",
     "text": [
      "(6788, 11)\n"
     ]
    },
    {
     "data": {
      "text/html": [
       "<div>\n",
       "<style scoped>\n",
       "    .dataframe tbody tr th:only-of-type {\n",
       "        vertical-align: middle;\n",
       "    }\n",
       "\n",
       "    .dataframe tbody tr th {\n",
       "        vertical-align: top;\n",
       "    }\n",
       "\n",
       "    .dataframe thead th {\n",
       "        text-align: right;\n",
       "    }\n",
       "</style>\n",
       "<table border=\"1\" class=\"dataframe\">\n",
       "  <thead>\n",
       "    <tr style=\"text-align: right;\">\n",
       "      <th></th>\n",
       "      <th>mz</th>\n",
       "      <th>time</th>\n",
       "      <th>G2_R5pos1_2</th>\n",
       "      <th>G2_R5pos2_2</th>\n",
       "      <th>G2_R5pos3_2</th>\n",
       "      <th>G1_Naive1_2</th>\n",
       "      <th>G1_Naive2_2</th>\n",
       "      <th>G1_Naive3_2</th>\n",
       "      <th>G3_R5neg1a_2</th>\n",
       "      <th>G3_R5neg2a_2</th>\n",
       "      <th>G3_R5neg3a_2</th>\n",
       "    </tr>\n",
       "  </thead>\n",
       "  <tbody>\n",
       "    <tr>\n",
       "      <th>0</th>\n",
       "      <td>85.004359</td>\n",
       "      <td>23.403797</td>\n",
       "      <td>255885.7816</td>\n",
       "      <td>241225.43650</td>\n",
       "      <td>261371.3941</td>\n",
       "      <td>233516.7742</td>\n",
       "      <td>200427.0297</td>\n",
       "      <td>1.108122e+06</td>\n",
       "      <td>754709.5351</td>\n",
       "      <td>349273.1576</td>\n",
       "      <td>307586.2969</td>\n",
       "    </tr>\n",
       "    <tr>\n",
       "      <th>1</th>\n",
       "      <td>85.029443</td>\n",
       "      <td>496.707362</td>\n",
       "      <td>832199.4676</td>\n",
       "      <td>699751.91930</td>\n",
       "      <td>892857.4503</td>\n",
       "      <td>545464.8925</td>\n",
       "      <td>691852.3427</td>\n",
       "      <td>1.050214e+05</td>\n",
       "      <td>717910.4874</td>\n",
       "      <td>509590.9577</td>\n",
       "      <td>396236.3903</td>\n",
       "    </tr>\n",
       "    <tr>\n",
       "      <th>2</th>\n",
       "      <td>86.024788</td>\n",
       "      <td>24.344410</td>\n",
       "      <td>161684.2699</td>\n",
       "      <td>358662.95460</td>\n",
       "      <td>161028.7944</td>\n",
       "      <td>226776.3941</td>\n",
       "      <td>484026.6393</td>\n",
       "      <td>3.758812e+05</td>\n",
       "      <td>610733.8297</td>\n",
       "      <td>530186.2340</td>\n",
       "      <td>537828.7317</td>\n",
       "    </tr>\n",
       "    <tr>\n",
       "      <th>3</th>\n",
       "      <td>86.125346</td>\n",
       "      <td>52.196204</td>\n",
       "      <td>0.0000</td>\n",
       "      <td>0.00000</td>\n",
       "      <td>0.0000</td>\n",
       "      <td>0.0000</td>\n",
       "      <td>0.0000</td>\n",
       "      <td>0.000000e+00</td>\n",
       "      <td>444088.2758</td>\n",
       "      <td>0.0000</td>\n",
       "      <td>0.0000</td>\n",
       "    </tr>\n",
       "    <tr>\n",
       "      <th>4</th>\n",
       "      <td>86.929766</td>\n",
       "      <td>462.739243</td>\n",
       "      <td>461946.2655</td>\n",
       "      <td>97022.95061</td>\n",
       "      <td>608263.9383</td>\n",
       "      <td>114798.1548</td>\n",
       "      <td>656612.2372</td>\n",
       "      <td>1.036861e+05</td>\n",
       "      <td>103740.9231</td>\n",
       "      <td>138806.2424</td>\n",
       "      <td>566692.0540</td>\n",
       "    </tr>\n",
       "  </tbody>\n",
       "</table>\n",
       "</div>"
      ],
      "text/plain": [
       "          mz        time  G2_R5pos1_2   G2_R5pos2_2  G2_R5pos3_2  G1_Naive1_2  \\\n",
       "0  85.004359   23.403797  255885.7816  241225.43650  261371.3941  233516.7742   \n",
       "1  85.029443  496.707362  832199.4676  699751.91930  892857.4503  545464.8925   \n",
       "2  86.024788   24.344410  161684.2699  358662.95460  161028.7944  226776.3941   \n",
       "3  86.125346   52.196204       0.0000       0.00000       0.0000       0.0000   \n",
       "4  86.929766  462.739243  461946.2655   97022.95061  608263.9383  114798.1548   \n",
       "\n",
       "   G1_Naive2_2   G1_Naive3_2  G3_R5neg1a_2  G3_R5neg2a_2  G3_R5neg3a_2  \n",
       "0  200427.0297  1.108122e+06   754709.5351   349273.1576   307586.2969  \n",
       "1  691852.3427  1.050214e+05   717910.4874   509590.9577   396236.3903  \n",
       "2  484026.6393  3.758812e+05   610733.8297   530186.2340   537828.7317  \n",
       "3       0.0000  0.000000e+00   444088.2758        0.0000        0.0000  \n",
       "4  656612.2372  1.036861e+05   103740.9231   138806.2424   566692.0540  "
      ]
     },
     "execution_count": 54,
     "metadata": {},
     "output_type": "execute_result"
    }
   ],
   "source": [
    "if \".csv\" in infile2:\n",
    "    c18 = pd.read_csv(file2_wt_path)\n",
    "elif \".txt\" in infile2:\n",
    "    c18 = pd.read_csv(file2_wt_path, sep = \"\\t\")\n",
    "print(c18.shape)\n",
    "c18.head() #this check will be important to determine the later part: F1 = c18.iloc[ii, 1:3]"
   ]
  },
  {
   "cell_type": "code",
   "execution_count": 56,
   "metadata": {},
   "outputs": [],
   "source": [
    "s = 'Name\\tKEGG ID\\tion\\tlibrary_mz\\tlib_retention_time\\tHMDB\\t' + \\\n",
    "    '\\t'.join(list(c18.columns)[0:]) + '\\n' # \"input_raw_number\\t\" if the first column is indexes; 1 or 0 dependent on the what is the first column (index or mz value)\n",
    "\n",
    "for ii in range(c18.shape[0]):\n",
    "    F1 = c18.iloc[ii, 0:2]   #May need to modify accordingly\n",
    "    for cpd in C18_neg['compounds']:\n",
    "        F2 = ( float(cpd['observed_mz']), float(cpd['observed_rtime']) )\n",
    "        if match2(F1, F2):\n",
    "            s += '\\t'.join([cpd[x] for x in ['name', 'parent_KEGG', 'observed_ion', 'observed_mz', \n",
    "                                            'observed_rtime', 'HMDB']] + [str(x) for x in list(c18.iloc[ii,:])]) + '\\n'\n",
    "        else:\n",
    "            pass\n",
    "\n",
    "with open(output_path + \"c18_annotate_\" + infile2.split(\".\",-1)[0] + \".txt\", 'w') as file:\n",
    "        file.write( s )"
   ]
  },
  {
   "cell_type": "markdown",
   "metadata": {},
   "source": [
    "## Note\n",
    "\n",
    "The LC-MS used in the experiment does not generally distinguish L or D isomers. Thus, the chiral notion from a library should be removed when reporting the identity of a compound."
   ]
  }
 ],
 "metadata": {
  "kernelspec": {
   "display_name": "Python 3",
   "language": "python",
   "name": "python3"
  },
  "language_info": {
   "codemirror_mode": {
    "name": "ipython",
    "version": 3
   },
   "file_extension": ".py",
   "mimetype": "text/x-python",
   "name": "python",
   "nbconvert_exporter": "python",
   "pygments_lexer": "ipython3",
   "version": "3.6.5"
  }
 },
 "nbformat": 4,
 "nbformat_minor": 2
}
