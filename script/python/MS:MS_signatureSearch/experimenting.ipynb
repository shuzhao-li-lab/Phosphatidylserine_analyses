{
 "cells": [
  {
   "cell_type": "markdown",
   "id": "14944495",
   "metadata": {},
   "source": [
    "# Extract the MS2 scan and do signature neutral loss search"
   ]
  },
  {
   "cell_type": "code",
   "execution_count": 33,
   "id": "95a5988e",
   "metadata": {},
   "outputs": [],
   "source": [
    "# !pip install pymzml\n",
    "%matplotlib inline"
   ]
  },
  {
   "cell_type": "code",
   "execution_count": 3,
   "id": "58711f6b",
   "metadata": {},
   "outputs": [],
   "source": [
    "import numpy as np\n",
    "from matplotlib import pyplot as plt\n",
    "import pymzml"
   ]
  },
  {
   "cell_type": "code",
   "execution_count": 4,
   "id": "08c14530",
   "metadata": {},
   "outputs": [],
   "source": [
    "# https://github.com/shuzhao-li/asari/blob/284d49db05bc95377072a865663550f59340aca3/asari/tools/plot.py\n",
    "def get_plot_region_from_file(infile, min_scan_number, max_scan_number, min_mz, max_mz, ms_level=1):\n",
    "    '''\n",
    "    input\n",
    "    -----\n",
    "    infile: mzML file as input\n",
    "    return \n",
    "    ------\n",
    "    list, [(scan_number, mz, intensity value), ...]\n",
    "    '''\n",
    "    alldata = []\n",
    "    exp = pymzml.run.Reader(infile)\n",
    "    ii = 0   # scan_number starts with 0\n",
    "    for spec in exp:\n",
    "        if min_scan_number < ii < max_scan_number:\n",
    "            if spec.ms_level == ms_level:\n",
    "                _NN = spec.mz.size\n",
    "                for jj in range(_NN):\n",
    "                    if min_mz < spec.mz[jj] < max_mz:\n",
    "                        alldata.append((ii, spec.mz[jj], int(spec.i[jj])))\n",
    "                \n",
    "        ii += 1\n",
    "    return alldata\n"
   ]
  },
  {
   "cell_type": "code",
   "execution_count": 101,
   "id": "5344537f",
   "metadata": {},
   "outputs": [],
   "source": [
    "infile = \"../../../../MS_MS_raw_mzML/AX_RPneg_TDcells/mzML/ID_02.mzML\""
   ]
  },
  {
   "cell_type": "code",
   "execution_count": 19,
   "id": "64677a4b",
   "metadata": {},
   "outputs": [
    {
     "name": "stdout",
     "output_type": "stream",
     "text": [
      "[Warning] Not index found and build_index_from_scratch is False\n"
     ]
    }
   ],
   "source": [
    "exp = pymzml.run.Reader(infile)"
   ]
  },
  {
   "cell_type": "markdown",
   "id": "289ee957",
   "metadata": {},
   "source": [
    "# Basic information"
   ]
  },
  {
   "cell_type": "code",
   "execution_count": 20,
   "id": "c87fe005",
   "metadata": {},
   "outputs": [
    {
     "data": {
      "text/plain": [
       "4009"
      ]
     },
     "execution_count": 20,
     "metadata": {},
     "output_type": "execute_result"
    }
   ],
   "source": [
    "# How many spectra\n",
    "exp.get_spectrum_count()"
   ]
  },
  {
   "cell_type": "code",
   "execution_count": 21,
   "id": "472a5727",
   "metadata": {},
   "outputs": [
    {
     "data": {
      "text/plain": [
       "{None: 0.0001, 0: 0.0001, 1: 5e-06, 2: 2e-05}"
      ]
     },
     "execution_count": 21,
     "metadata": {},
     "output_type": "execute_result"
    }
   ],
   "source": [
    "exp.ms_precisions # ms-level 1: ppm 5; ms-level 2: ppm 20?"
   ]
  },
  {
   "cell_type": "markdown",
   "id": "e68a5228",
   "metadata": {},
   "source": [
    "##### summary\n",
    "- a probably 12 min run (720 secs) for 4008 scans"
   ]
  },
  {
   "cell_type": "code",
   "execution_count": 102,
   "id": "bd58dcb7",
   "metadata": {},
   "outputs": [
    {
     "name": "stdout",
     "output_type": "stream",
     "text": [
      "[Warning] Not index found and build_index_from_scratch is False\n",
      "[Warning] Not index found and build_index_from_scratch is False\n"
     ]
    },
    {
     "data": {
      "text/plain": [
       "[(1684, 834.5263061523438, 478981), (1704, 834.5263671875, 715394)]"
      ]
     },
     "execution_count": 102,
     "metadata": {},
     "output_type": "execute_result"
    }
   ],
   "source": [
    "get_plot_region_from_file(infile, \n",
    "                          min_scan_number = 1600, \n",
    "                          max_scan_number = 1800, \n",
    "                          min_mz = 834.5200, \n",
    "                          max_mz = 834.5300, \n",
    "                          ms_level=2)"
   ]
  },
  {
   "cell_type": "code",
   "execution_count": 104,
   "id": "0d075b0c",
   "metadata": {},
   "outputs": [],
   "source": [
    "import pymzml\n",
    "import matplotlib.pyplot as plt\n",
    "\n",
    "def plot_ms2_scan(filename, scan_number):\n",
    "    \"\"\"Plot a specific MS2 scan from a mzML file using pymzML.\n",
    "\n",
    "    Args:\n",
    "        filename (str): Path to the mzML file.\n",
    "        scan_number (int): The scan number of the MS2 scan to plot.\n",
    "\n",
    "    Returns:\n",
    "        None.\n",
    "    \"\"\"\n",
    "    # Load the mzML file\n",
    "    run = pymzml.run.Reader(filename)\n",
    "\n",
    "    # Iterate through the scans in the file\n",
    "    for spectrum in run:\n",
    "        # Check if the scan is an MS2 scan with the specified scan number\n",
    "        if spectrum['ms level'] == 2 and spectrum['id'] == scan_number:\n",
    "            # Get the m/z and intensity values for the MS2 spectrum\n",
    "            mz_values = spectrum.mz\n",
    "            intensity_values = spectrum.i\n",
    "\n",
    "            # Plot the MS2 spectrum\n",
    "            plt.plot(mz_values, intensity_values)\n",
    "            plt.title(f\"MS2 scan {scan_number}\")\n",
    "            plt.xlabel(\"m/z\")\n",
    "            plt.ylabel(\"Intensity\")\n",
    "            plt.show()\n",
    "\n",
    "            break  # Stop iterating through the scans once the desired scan is found"
   ]
  },
  {
   "cell_type": "code",
   "execution_count": 105,
   "id": "f4a2fbd3",
   "metadata": {},
   "outputs": [
    {
     "name": "stdout",
     "output_type": "stream",
     "text": [
      "[Warning] Not index found and build_index_from_scratch is False\n",
      "[Warning] Not index found and build_index_from_scratch is False\n"
     ]
    }
   ],
   "source": [
    "# Load the mzML file\n",
    "run = pymzml.run.Reader(infile)\n",
    "\n",
    "# Iterate through the scans in the file\n",
    "for spectrum in run:\n",
    "    # Check if the scan is an MS2 scan with the specified scan number\n",
    "    if spectrum['ms level'] == 2 and spectrum['id'] == 1704:\n",
    "        # Get the m/z and intensity values for the MS2 spectrum\n",
    "\n",
    "        # Plot the MS2 spectrum\n",
    "        plt.bar(spectrum.mz, spectrum.i)\n",
    "        plt.title(f\"MS2 scan {scan_number}\")\n",
    "        plt.xlabel(\"m/z\")\n",
    "        plt.ylabel(\"Intensity\")\n",
    "        plt.show()"
   ]
  },
  {
   "cell_type": "code",
   "execution_count": 111,
   "id": "c6dce06b",
   "metadata": {},
   "outputs": [
    {
     "name": "stdout",
     "output_type": "stream",
     "text": [
      "[Warning] Not index found and build_index_from_scratch is False\n"
     ]
    }
   ],
   "source": [
    "spectrums = [spectrum for spectrum in run if spectrum['ms level'] == 2]"
   ]
  },
  {
   "cell_type": "code",
   "execution_count": 116,
   "id": "6e86b5fb",
   "metadata": {},
   "outputs": [
    {
     "data": {
      "text/plain": [
       "[{'mz': 417.320373535156, 'charge': 1, 'precursor id': '2'}]"
      ]
     },
     "execution_count": 116,
     "metadata": {},
     "output_type": "execute_result"
    }
   ],
   "source": [
    "spectrum.selected_precursors"
   ]
  },
  {
   "cell_type": "code",
   "execution_count": 114,
   "id": "e0576e89",
   "metadata": {},
   "outputs": [],
   "source": [
    "spectrum = spectrums[0]"
   ]
  },
  {
   "cell_type": "code",
   "execution_count": 73,
   "id": "7fe7c631",
   "metadata": {},
   "outputs": [
    {
     "data": {
      "image/png": "[encoded data removed]",
      "text/plain": [
       "<Figure size 432x288 with 1 Axes>"
      ]
     },
     "metadata": {
      "needs_background": "light"
     },
     "output_type": "display_data"
    }
   ],
   "source": [
    "# Get the m/z and intensity values for the spectrum\n",
    "mz_values = spectrum.mz\n",
    "intensity_values = spectrum.i\n",
    "\n",
    "# Sort the m/z and intensity values by ascending m/z values\n",
    "indices = np.argsort(mz_values)\n",
    "mz_values = mz_values[indices]\n",
    "intensity_values = intensity_values[indices]\n",
    "\n",
    "# Create a vertical bar plot of the spectrum\n",
    "plt.bar(mz_values, intensity_values, align='center', width=0.1)\n",
    "plt.title(f\"MS2 spectrum (scan number {1704})\")\n",
    "plt.xlabel(\"m/z\")\n",
    "plt.ylabel(\"Intensity\")\n",
    "plt.show()\n",
    "\n",
    "\n"
   ]
  },
  {
   "cell_type": "code",
   "execution_count": 123,
   "id": "cb169aca",
   "metadata": {},
   "outputs": [
    {
     "data": {
      "image/png": "[encoded data removed]",
      "text/plain": [
       "<Figure size 432x288 with 1 Axes>"
      ]
     },
     "metadata": {
      "needs_background": "light"
     },
     "output_type": "display_data"
    }
   ],
   "source": [
    "import matplotlib.pyplot as plt\n",
    "\n",
    "plt.bar([435.02883911, 517.17883301, 548.85778809, 567.3213501 , 694.06628418, 896.10949707], \n",
    "        [2100.06201172, 2124.39208984, 1945.05871582, 2084.15356445, 1850.16674805, 2077.42773438],width = 1)\n",
    "plt.title(f\"MS2 scan {1704}\")\n",
    "plt.xlabel(\"m/z\")\n",
    "plt.ylabel(\"Intensity\")\n",
    "plt.show()"
   ]
  }
 ],
 "metadata": {
  "kernelspec": {
   "display_name": "Python 3 (ipykernel)",
   "language": "python",
   "name": "python3"
  },
  "language_info": {
   "codemirror_mode": {
    "name": "ipython",
    "version": 3
   },
   "file_extension": ".py",
   "mimetype": "text/x-python",
   "name": "python",
   "nbconvert_exporter": "python",
   "pygments_lexer": "ipython3",
   "version": "3.8.5"
  }
 },
 "nbformat": 4,
 "nbformat_minor": 5
}
