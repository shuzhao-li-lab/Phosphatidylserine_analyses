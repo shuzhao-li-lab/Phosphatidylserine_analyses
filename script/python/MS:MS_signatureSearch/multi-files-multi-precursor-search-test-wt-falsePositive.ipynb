{
 "cells": [
  {
   "cell_type": "markdown",
   "id": "18873269",
   "metadata": {},
   "source": [
    "# Extract the MS2 scan and do signature neutral loss search\n",
    "- run multiple files\n",
    "- need to define a precursor target list & scan range (let's just try to do more inclusive one)"
   ]
  },
  {
   "cell_type": "code",
   "execution_count": 1,
   "id": "51517ffc",
   "metadata": {},
   "outputs": [],
   "source": [
    "# !pip install pymzml\n",
    "%matplotlib inline"
   ]
  },
  {
   "cell_type": "code",
   "execution_count": 2,
   "id": "95a45c36",
   "metadata": {},
   "outputs": [],
   "source": [
    "import numpy as np\n",
    "from matplotlib import pyplot as plt\n",
    "import pymzml\n",
    "import os\n",
    "import pandas as pd\n",
    "import sys"
   ]
  },
  {
   "cell_type": "code",
   "execution_count": 3,
   "id": "1d884749",
   "metadata": {},
   "outputs": [],
   "source": [
    "sys.path.append('../pyutils/')  # add the second parent directory\n",
    "from searchMS2 import *"
   ]
  },
  {
   "cell_type": "code",
   "execution_count": 4,
   "id": "08e8f98d",
   "metadata": {},
   "outputs": [],
   "source": [
    "# spectrum.selected_precursors\n",
    "# [{'mz': 417.320373535156, 'charge': 1, 'precursor id': '2'}]"
   ]
  },
  {
   "cell_type": "code",
   "execution_count": 5,
   "id": "a45377f5",
   "metadata": {},
   "outputs": [],
   "source": [
    "dir_path = \"../../../../MS_MS_raw_mzML/AX_RPneg_TDcells/mzML/\"\n",
    "files_and_dirs = os.listdir(dir_path)\n",
    "\n",
    "# Get the full path for each file/directory in the list\n",
    "infiles = [os.path.join(dir_path, file) for file in files_and_dirs]"
   ]
  },
  {
   "cell_type": "code",
   "execution_count": 6,
   "id": "7840a5c9",
   "metadata": {},
   "outputs": [
    {
     "name": "stdout",
     "output_type": "stream",
     "text": [
      "[Warning] Not index found and build_index_from_scratch is False\n",
      "[Warning] Not index found and build_index_from_scratch is False\n",
      "[Warning] Not index found and build_index_from_scratch is False\n",
      "[Warning] Not index found and build_index_from_scratch is False\n"
     ]
    }
   ],
   "source": [
    "exps = []\n",
    "for infile in infiles:\n",
    "    exps.append(pymzml.run.Reader(infile))"
   ]
  },
  {
   "cell_type": "markdown",
   "id": "88ec9229",
   "metadata": {},
   "source": [
    "## Basic information - using the first instance"
   ]
  },
  {
   "cell_type": "code",
   "execution_count": 7,
   "id": "41e3827a",
   "metadata": {},
   "outputs": [
    {
     "name": "stdout",
     "output_type": "stream",
     "text": [
      "[Warning] Not index found and build_index_from_scratch is False\n"
     ]
    }
   ],
   "source": [
    "exp = pymzml.run.Reader(infiles[0])"
   ]
  },
  {
   "cell_type": "code",
   "execution_count": 8,
   "id": "215f047d",
   "metadata": {},
   "outputs": [
    {
     "data": {
      "text/plain": [
       "4008"
      ]
     },
     "execution_count": 8,
     "metadata": {},
     "output_type": "execute_result"
    }
   ],
   "source": [
    "# How many spectra\n",
    "exp.get_spectrum_count()"
   ]
  },
  {
   "cell_type": "code",
   "execution_count": 9,
   "id": "753c3b7d",
   "metadata": {},
   "outputs": [
    {
     "data": {
      "text/plain": [
       "{None: 0.0001, 0: 0.0001, 1: 5e-06, 2: 2e-05}"
      ]
     },
     "execution_count": 9,
     "metadata": {},
     "output_type": "execute_result"
    }
   ],
   "source": [
    "exp.ms_precisions # ms-level 1: ppm 5; ms-level 2: ppm 20?"
   ]
  },
  {
   "cell_type": "markdown",
   "id": "021fba76",
   "metadata": {},
   "source": [
    "##### summary\n",
    "- a probably 12 min run (720 secs) for 4008 scans\n",
    "- 0.17964 second/scan"
   ]
  },
  {
   "cell_type": "markdown",
   "id": "c4c52706",
   "metadata": {},
   "source": [
    "## Load target list"
   ]
  },
  {
   "cell_type": "code",
   "execution_count": 10,
   "id": "95891885",
   "metadata": {},
   "outputs": [],
   "source": [
    "df_sel = pd.read_csv(\"./data/input/test.csv\")"
   ]
  },
  {
   "cell_type": "code",
   "execution_count": 11,
   "id": "c4e60de2",
   "metadata": {},
   "outputs": [
    {
     "data": {
      "text/html": [
       "<div>\n",
       "<style scoped>\n",
       "    .dataframe tbody tr th:only-of-type {\n",
       "        vertical-align: middle;\n",
       "    }\n",
       "\n",
       "    .dataframe tbody tr th {\n",
       "        vertical-align: top;\n",
       "    }\n",
       "\n",
       "    .dataframe thead th {\n",
       "        text-align: right;\n",
       "    }\n",
       "</style>\n",
       "<table border=\"1\" class=\"dataframe\">\n",
       "  <thead>\n",
       "    <tr style=\"text-align: right;\">\n",
       "      <th></th>\n",
       "      <th>id_number</th>\n",
       "      <th>X.M.H.</th>\n",
       "      <th>Species.Shorthand</th>\n",
       "      <th>Formula</th>\n",
       "    </tr>\n",
       "  </thead>\n",
       "  <tbody>\n",
       "    <tr>\n",
       "      <th>0</th>\n",
       "      <td>F5343</td>\n",
       "      <td>662.439697</td>\n",
       "      <td>PS O-28:1</td>\n",
       "      <td>C34H66NO9P</td>\n",
       "    </tr>\n",
       "    <tr>\n",
       "      <th>1</th>\n",
       "      <td>F5983</td>\n",
       "      <td>572.298847</td>\n",
       "      <td>LPS 22:4</td>\n",
       "      <td>C28H48NO9P</td>\n",
       "    </tr>\n",
       "    <tr>\n",
       "      <th>2</th>\n",
       "      <td>F7394</td>\n",
       "      <td>678.434612</td>\n",
       "      <td>PS 28:0</td>\n",
       "      <td>C34H66NO10P</td>\n",
       "    </tr>\n",
       "    <tr>\n",
       "      <th>3</th>\n",
       "      <td>F9383</td>\n",
       "      <td>692.450262</td>\n",
       "      <td>PS 29:0</td>\n",
       "      <td>C35H68NO10P</td>\n",
       "    </tr>\n",
       "    <tr>\n",
       "      <th>4</th>\n",
       "      <td>F9458</td>\n",
       "      <td>756.517947</td>\n",
       "      <td>PS O-35:3</td>\n",
       "      <td>C41H76NO9P</td>\n",
       "    </tr>\n",
       "    <tr>\n",
       "      <th>5</th>\n",
       "      <td>F9693</td>\n",
       "      <td>794.533597</td>\n",
       "      <td>PS O-38:5</td>\n",
       "      <td>C44H78NO9P</td>\n",
       "    </tr>\n",
       "    <tr>\n",
       "      <th>6</th>\n",
       "      <td>F9945</td>\n",
       "      <td>728.450262</td>\n",
       "      <td>PS 32:3</td>\n",
       "      <td>C38H68NO10P</td>\n",
       "    </tr>\n",
       "    <tr>\n",
       "      <th>7</th>\n",
       "      <td>F13468</td>\n",
       "      <td>834.528512</td>\n",
       "      <td>PS 42:6</td>\n",
       "      <td>C46H78NO10P</td>\n",
       "    </tr>\n",
       "  </tbody>\n",
       "</table>\n",
       "</div>"
      ],
      "text/plain": [
       "  id_number      X.M.H. Species.Shorthand      Formula\n",
       "0     F5343  662.439697         PS O-28:1   C34H66NO9P\n",
       "1     F5983  572.298847          LPS 22:4   C28H48NO9P\n",
       "2     F7394  678.434612           PS 28:0  C34H66NO10P\n",
       "3     F9383  692.450262           PS 29:0  C35H68NO10P\n",
       "4     F9458  756.517947         PS O-35:3   C41H76NO9P\n",
       "5     F9693  794.533597         PS O-38:5   C44H78NO9P\n",
       "6     F9945  728.450262           PS 32:3  C38H68NO10P\n",
       "7    F13468  834.528512           PS 42:6  C46H78NO10P"
      ]
     },
     "execution_count": 11,
     "metadata": {},
     "output_type": "execute_result"
    }
   ],
   "source": [
    "df_sel.head(10)"
   ]
  },
  {
   "cell_type": "code",
   "execution_count": 12,
   "id": "0961cd74",
   "metadata": {},
   "outputs": [],
   "source": [
    "FTIDs = df_sel['id_number'].tolist()"
   ]
  },
  {
   "cell_type": "code",
   "execution_count": 13,
   "id": "3e9feb7b",
   "metadata": {},
   "outputs": [],
   "source": [
    "df_feat_annot = pd.read_csv(\"../../../../asari-output-RPneg/output_asari_project_31312361/Feature_annotation.tsv\",\n",
    "                           sep = '\\t', index_col=0)"
   ]
  },
  {
   "cell_type": "code",
   "execution_count": 14,
   "id": "6e673d4b",
   "metadata": {},
   "outputs": [],
   "source": [
    "# Select the desired rows and columns from the DataFrame\n",
    "subset = df_feat_annot.loc[FTIDs, ['mz', 'rtime', 'apex(scan number)']]\n",
    "# drop duplicates\n",
    "subset_dd = subset.drop_duplicates() \n",
    "# Convert the subset to a dictionary with row-wise orientation\n",
    "target_dict = subset_dd.to_dict(orient='index')"
   ]
  },
  {
   "cell_type": "code",
   "execution_count": 15,
   "id": "53cdea49",
   "metadata": {},
   "outputs": [
    {
     "data": {
      "text/plain": [
       "{'F5343': {'mz': 662.4425735, 'rtime': 206.4148905, 'apex(scan number)': 927},\n",
       " 'F5983': {'mz': 572.2992706, 'rtime': 217.4495763, 'apex(scan number)': 978},\n",
       " 'F7394': {'mz': 678.4376984, 'rtime': 208.1129785, 'apex(scan number)': 935},\n",
       " 'F9383': {'mz': 692.4490967, 'rtime': 117.5625151, 'apex(scan number)': 522},\n",
       " 'F9458': {'mz': 756.5157776, 'rtime': 408.8880167, 'apex(scan number)': 1888},\n",
       " 'F9693': {'mz': 794.5301132, 'rtime': 334.5268382, 'apex(scan number)': 1533},\n",
       " 'F9945': {'mz': 728.4467087, 'rtime': 196.421451, 'apex(scan number)': 881},\n",
       " 'F13468': {'mz': 834.5291901,\n",
       "  'rtime': 262.3327382,\n",
       "  'apex(scan number)': 1188}}"
      ]
     },
     "execution_count": 15,
     "metadata": {},
     "output_type": "execute_result"
    }
   ],
   "source": [
    "target_dict"
   ]
  },
  {
   "cell_type": "code",
   "execution_count": 16,
   "id": "b5c76f9b",
   "metadata": {},
   "outputs": [
    {
     "data": {
      "text/plain": [
       "('F5343', {'mz': 662.4425735, 'rtime': 206.4148905, 'apex(scan number)': 927})"
      ]
     },
     "execution_count": 16,
     "metadata": {},
     "output_type": "execute_result"
    }
   ],
   "source": [
    "list(target_dict.items())[0]"
   ]
  },
  {
   "cell_type": "markdown",
   "id": "eed0abef",
   "metadata": {},
   "source": [
    "## get potential precursor from multiple files"
   ]
  },
  {
   "cell_type": "code",
   "execution_count": 17,
   "id": "ae573d1b",
   "metadata": {},
   "outputs": [
    {
     "name": "stdout",
     "output_type": "stream",
     "text": [
      "[Warning] Not index found and build_index_from_scratch is False\n",
      "[Warning] Not index found and build_index_from_scratch is False\n",
      "[Warning] Not index found and build_index_from_scratch is False\n",
      "[Warning] Not index found and build_index_from_scratch is False\n",
      "[Warning] Not index found and build_index_from_scratch is False\n",
      "[Warning] Not index found and build_index_from_scratch is False\n",
      "[Warning] Not index found and build_index_from_scratch is False\n",
      "[Warning] Not index found and build_index_from_scratch is False\n",
      "[Warning] Not index found and build_index_from_scratch is False\n",
      "[Warning] Not index found and build_index_from_scratch is False\n",
      "[Warning] Not index found and build_index_from_scratch is False\n",
      "[Warning] Not index found and build_index_from_scratch is False\n",
      "[Warning] Not index found and build_index_from_scratch is False\n",
      "[Warning] Not index found and build_index_from_scratch is False\n",
      "[Warning] Not index found and build_index_from_scratch is False\n",
      "[Warning] Not index found and build_index_from_scratch is False\n",
      "[Warning] Not index found and build_index_from_scratch is False\n",
      "[Warning] Not index found and build_index_from_scratch is False\n",
      "[Warning] Not index found and build_index_from_scratch is False\n",
      "[Warning] Not index found and build_index_from_scratch is False\n",
      "[Warning] Not index found and build_index_from_scratch is False\n",
      "[Warning] Not index found and build_index_from_scratch is False\n",
      "[Warning] Not index found and build_index_from_scratch is False\n",
      "[Warning] Not index found and build_index_from_scratch is False\n",
      "[Warning] Not index found and build_index_from_scratch is False\n",
      "[Warning] Not index found and build_index_from_scratch is False\n",
      "[Warning] Not index found and build_index_from_scratch is False\n",
      "[Warning] Not index found and build_index_from_scratch is False\n",
      "[Warning] Not index found and build_index_from_scratch is False\n",
      "[Warning] Not index found and build_index_from_scratch is False\n",
      "[Warning] Not index found and build_index_from_scratch is False\n",
      "[Warning] Not index found and build_index_from_scratch is False\n"
     ]
    }
   ],
   "source": [
    "res_dict = {}\n",
    "for exp in exps:\n",
    "    for k,v in target_dict.items():\n",
    "        spectra = get_potental_precursor_from_exp(exp, \n",
    "                              min_scan_number = v['apex(scan number)']-2000, \n",
    "                              max_scan_number = v['apex(scan number)']+2000, \n",
    "                              min_mz = np.floor(v['mz']), \n",
    "                              max_mz = np.ceil(v['mz']), \n",
    "                              ms_level=2)\n",
    "        res_dict[k] = spectra"
   ]
  },
  {
   "cell_type": "code",
   "execution_count": 18,
   "id": "4a960b08",
   "metadata": {},
   "outputs": [
    {
     "data": {
      "text/plain": [
       "{'F5343': [<__main__.Spectrum object with native ID 1475 at 0x7fc4d82456d0>,\n",
       "  <__main__.Spectrum object with native ID 1477 at 0x7fc4d1d28310>],\n",
       " 'F5983': [],\n",
       " 'F7394': [],\n",
       " 'F9383': [<__main__.Spectrum object with native ID 1966 at 0x7fc4d83e3a30>,\n",
       "  <__main__.Spectrum object with native ID 1968 at 0x7fc4d8456100>,\n",
       "  <__main__.Spectrum object with native ID 1986 at 0x7fc4d8413520>,\n",
       "  <__main__.Spectrum object with native ID 1988 at 0x7fc4d83fc4f0>],\n",
       " 'F9458': [],\n",
       " 'F9693': [<__main__.Spectrum object with native ID 2346 at 0x7fc4d8426310>,\n",
       "  <__main__.Spectrum object with native ID 2348 at 0x7fc4d83fcca0>,\n",
       "  <__main__.Spectrum object with native ID 2365 at 0x7fc4d8426790>,\n",
       "  <__main__.Spectrum object with native ID 2367 at 0x7fc4d8426130>],\n",
       " 'F9945': [],\n",
       " 'F13468': [<__main__.Spectrum object with native ID 1685 at 0x7fc4d1d6faf0>,\n",
       "  <__main__.Spectrum object with native ID 1687 at 0x7fc4d8413880>,\n",
       "  <__main__.Spectrum object with native ID 1705 at 0x7fc4d84268e0>,\n",
       "  <__main__.Spectrum object with native ID 1707 at 0x7fc4d8426820>]}"
      ]
     },
     "execution_count": 18,
     "metadata": {},
     "output_type": "execute_result"
    }
   ],
   "source": [
    "res_dict"
   ]
  },
  {
   "cell_type": "code",
   "execution_count": 19,
   "id": "4a558649",
   "metadata": {},
   "outputs": [],
   "source": [
    "res_dict_clean = {k:v for k,v in res_dict.items() if len(v) != 0}"
   ]
  },
  {
   "cell_type": "code",
   "execution_count": 20,
   "id": "ac24d93b",
   "metadata": {},
   "outputs": [
    {
     "data": {
      "text/plain": [
       "{'F5343': [<__main__.Spectrum object with native ID 1475 at 0x7fc4d82456d0>,\n",
       "  <__main__.Spectrum object with native ID 1477 at 0x7fc4d1d28310>],\n",
       " 'F9383': [<__main__.Spectrum object with native ID 1966 at 0x7fc4d83e3a30>,\n",
       "  <__main__.Spectrum object with native ID 1968 at 0x7fc4d8456100>,\n",
       "  <__main__.Spectrum object with native ID 1986 at 0x7fc4d8413520>,\n",
       "  <__main__.Spectrum object with native ID 1988 at 0x7fc4d83fc4f0>],\n",
       " 'F9693': [<__main__.Spectrum object with native ID 2346 at 0x7fc4d8426310>,\n",
       "  <__main__.Spectrum object with native ID 2348 at 0x7fc4d83fcca0>,\n",
       "  <__main__.Spectrum object with native ID 2365 at 0x7fc4d8426790>,\n",
       "  <__main__.Spectrum object with native ID 2367 at 0x7fc4d8426130>],\n",
       " 'F13468': [<__main__.Spectrum object with native ID 1685 at 0x7fc4d1d6faf0>,\n",
       "  <__main__.Spectrum object with native ID 1687 at 0x7fc4d8413880>,\n",
       "  <__main__.Spectrum object with native ID 1705 at 0x7fc4d84268e0>,\n",
       "  <__main__.Spectrum object with native ID 1707 at 0x7fc4d8426820>]}"
      ]
     },
     "execution_count": 20,
     "metadata": {},
     "output_type": "execute_result"
    }
   ],
   "source": [
    "res_dict_clean"
   ]
  },
  {
   "cell_type": "code",
   "execution_count": 21,
   "id": "6fa5d733",
   "metadata": {},
   "outputs": [],
   "source": [
    "# this function only works for situation where you look at charge state = 1\n",
    "def search_NL(spectra,\n",
    "              NL_mz = 87.03124,\n",
    "              ppm = 100):\n",
    "    res_data = []\n",
    "\n",
    "    for spec in spectra:\n",
    "        selected_precursor_mz = spec.selected_precursors[0]['mz'] # this m/z will not be exactly the precursor m/z\n",
    "        sel_mz = [mz for mz in spec.mz if abs(mz - selected_precursor_mz) < np.ceil(NL_mz)]\n",
    "\n",
    "        for mz in sel_mz:\n",
    "            calc_ppm = abs(((selected_precursor_mz - mz) - NL_mz)*1000000/NL_mz)\n",
    "            if calc_ppm < ppm:\n",
    "                print(calc_ppm)\n",
    "                res_data.append(spec)\n",
    "                break\n",
    "    return res_data"
   ]
  },
  {
   "cell_type": "code",
   "execution_count": 22,
   "id": "19d08575",
   "metadata": {},
   "outputs": [
    {
     "name": "stdout",
     "output_type": "stream",
     "text": [
      "26.063064038620475\n",
      "26.764365734999846\n",
      "22.55655555672363\n",
      "23.257857253102998\n"
     ]
    }
   ],
   "source": [
    "res_dict = {}\n",
    "for FTID, spectra in res_dict_clean.items():\n",
    "    res_dict.update({FTID: search_NL(spectra)})"
   ]
  },
  {
   "cell_type": "code",
   "execution_count": 23,
   "id": "1b5d7117",
   "metadata": {},
   "outputs": [
    {
     "data": {
      "text/plain": [
       "{'F5343': [],\n",
       " 'F9383': [],\n",
       " 'F9693': [],\n",
       " 'F13468': [<__main__.Spectrum object with native ID 1685 at 0x7fc4d1d6faf0>,\n",
       "  <__main__.Spectrum object with native ID 1687 at 0x7fc4d8413880>,\n",
       "  <__main__.Spectrum object with native ID 1705 at 0x7fc4d84268e0>,\n",
       "  <__main__.Spectrum object with native ID 1707 at 0x7fc4d8426820>]}"
      ]
     },
     "execution_count": 23,
     "metadata": {},
     "output_type": "execute_result"
    }
   ],
   "source": [
    "res_dict"
   ]
  },
  {
   "cell_type": "code",
   "execution_count": 24,
   "id": "e613606d",
   "metadata": {},
   "outputs": [
    {
     "data": {
      "image/png": "[encoded data removed]",
      "text/plain": [
       "<Figure size 576x432 with 1 Axes>"
      ]
     },
     "metadata": {
      "needs_background": "light"
     },
     "output_type": "display_data"
    },
    {
     "data": {
      "image/png": "[encoded data removed]",
      "text/plain": [
       "<Figure size 576x432 with 1 Axes>"
      ]
     },
     "metadata": {
      "needs_background": "light"
     },
     "output_type": "display_data"
    },
    {
     "data": {
      "image/png": "[encoded data removed]",
      "text/plain": [
       "<Figure size 576x432 with 1 Axes>"
      ]
     },
     "metadata": {
      "needs_background": "light"
     },
     "output_type": "display_data"
    },
    {
     "data": {
      "image/png": "[encoded data removed]",
      "text/plain": [
       "<Figure size 576x432 with 1 Axes>"
      ]
     },
     "metadata": {
      "needs_background": "light"
     },
     "output_type": "display_data"
    }
   ],
   "source": [
    "plot_spectra(spectra = res_dict_clean['F13468'])"
   ]
  }
 ],
 "metadata": {
  "kernelspec": {
   "display_name": "Python 3 (ipykernel)",
   "language": "python",
   "name": "python3"
  },
  "language_info": {
   "codemirror_mode": {
    "name": "ipython",
    "version": 3
   },
   "file_extension": ".py",
   "mimetype": "text/x-python",
   "name": "python",
   "nbconvert_exporter": "python",
   "pygments_lexer": "ipython3",
   "version": "3.8.5"
  }
 },
 "nbformat": 4,
 "nbformat_minor": 5
}
