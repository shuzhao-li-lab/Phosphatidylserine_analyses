{
 "cells": [
  {
   "cell_type": "markdown",
   "id": "f987c447-dd37-4b22-b87d-74301c663e86",
   "metadata": {
    "tags": []
   },
   "source": [
    "# Do targeted search in asari output\n",
    "- This is an example to perform targeted search in asari output feature table\n",
    "- search for PS species"
   ]
  },
  {
   "cell_type": "code",
   "execution_count": 4,
   "id": "7a271ebc-be8d-495c-a825-2ecae42bc86e",
   "metadata": {
    "tags": []
   },
   "outputs": [],
   "source": [
    "# !pip install -q --upgrade mass2chem khipu-metabolomics jms-metabolite-services"
   ]
  },
  {
   "cell_type": "code",
   "execution_count": 5,
   "id": "ff1a2080-be1e-42b3-a97f-bc401ff39a97",
   "metadata": {
    "tags": []
   },
   "outputs": [],
   "source": [
    "import json\n",
    "import numpy as np\n",
    "import pandas as pd\n",
    "\n",
    "from mass2chem.search import build_centurion_tree, find_all_matches_centurion_indexed_list"
   ]
  },
  {
   "cell_type": "code",
   "execution_count": 6,
   "id": "509ae1f7-e5a6-462b-8a2c-7a3f4ae41d97",
   "metadata": {
    "tags": []
   },
   "outputs": [],
   "source": [
    "import os\n",
    "output_dir = '../../input/HILICpos_mzML/output_asari_project_224113827_targeted_search/' # here I just used the original asari output\n",
    "try:\n",
    "    os.mkdir(output_dir)\n",
    "except:\n",
    "    None"
   ]
  },
  {
   "cell_type": "code",
   "execution_count": 7,
   "id": "65204030-08d7-46c9-8d57-5d37f197d06d",
   "metadata": {
    "tags": []
   },
   "outputs": [],
   "source": [
    "epds = json.load(open('../../input/HILICpos_mzML/output_asari_project_224113827_targeted_search/Annotated_empricalCompounds.json'))\n",
    "target_df = pd.read_excel(\"../../input/HILICpos_mzML/PS_target_list_to_Minghao.xlsx\")"
   ]
  },
  {
   "cell_type": "code",
   "execution_count": 8,
   "id": "8117a6a9-0cec-4e6e-997c-c0134aa163f5",
   "metadata": {
    "tags": []
   },
   "outputs": [
    {
     "data": {
      "text/html": [
       "<div>\n",
       "<style scoped>\n",
       "    .dataframe tbody tr th:only-of-type {\n",
       "        vertical-align: middle;\n",
       "    }\n",
       "\n",
       "    .dataframe tbody tr th {\n",
       "        vertical-align: top;\n",
       "    }\n",
       "\n",
       "    .dataframe thead th {\n",
       "        text-align: right;\n",
       "    }\n",
       "</style>\n",
       "<table border=\"1\" class=\"dataframe\">\n",
       "  <thead>\n",
       "    <tr style=\"text-align: right;\">\n",
       "      <th></th>\n",
       "      <th>Common Name</th>\n",
       "      <th>Systematic Name</th>\n",
       "      <th>Species Shorthand</th>\n",
       "      <th>Formula</th>\n",
       "      <th>H</th>\n",
       "      <th>[M-H]</th>\n",
       "      <th>Mass</th>\n",
       "    </tr>\n",
       "  </thead>\n",
       "  <tbody>\n",
       "    <tr>\n",
       "      <th>0</th>\n",
       "      <td>PS(12:0/13:0)</td>\n",
       "      <td>1-dodecanoyl-2-tridecanoyl-sn-glycero-3-phosph...</td>\n",
       "      <td>PS 25:0</td>\n",
       "      <td>637.395487</td>\n",
       "      <td>1.007825</td>\n",
       "      <td>636.387662</td>\n",
       "      <td>C31H60NO10P</td>\n",
       "    </tr>\n",
       "    <tr>\n",
       "      <th>1</th>\n",
       "      <td>PS(17:0/20:4(5Z,8Z,11Z,14Z))</td>\n",
       "      <td>1-heptadecanoyl, 2-(5Z,8Z,11Z,14Z-eicosatetrae...</td>\n",
       "      <td>PS 37:4</td>\n",
       "      <td>797.520687</td>\n",
       "      <td>1.007825</td>\n",
       "      <td>796.512862</td>\n",
       "      <td>C43H76NO10P</td>\n",
       "    </tr>\n",
       "    <tr>\n",
       "      <th>2</th>\n",
       "      <td>PS(21:0/22:6(4Z,7Z,10Z,13Z,16Z,19Z))</td>\n",
       "      <td>1-heneicosanoyl-2-(4Z,7Z,10Z,13Z,16Z,19Z-docos...</td>\n",
       "      <td>PS 43:6</td>\n",
       "      <td>877.583287</td>\n",
       "      <td>1.007825</td>\n",
       "      <td>876.575462</td>\n",
       "      <td>C49H84NO10P</td>\n",
       "    </tr>\n",
       "    <tr>\n",
       "      <th>3</th>\n",
       "      <td>PS(17:0/14:1(9Z))</td>\n",
       "      <td>1-heptadecanoyl-2-(9Z-tetradecenoyl)-sn-glycer...</td>\n",
       "      <td>PS 31:1</td>\n",
       "      <td>719.473737</td>\n",
       "      <td>1.007825</td>\n",
       "      <td>718.465912</td>\n",
       "      <td>C37H70NO10P</td>\n",
       "    </tr>\n",
       "    <tr>\n",
       "      <th>4</th>\n",
       "      <td>PS(16:0/18:1(11Z))</td>\n",
       "      <td>1-hexadecanoyl-2-(11Z-octadecenoyl)-sn-glycero...</td>\n",
       "      <td>PS 34:1</td>\n",
       "      <td>761.520687</td>\n",
       "      <td>1.007825</td>\n",
       "      <td>760.512862</td>\n",
       "      <td>C40H76NO10P</td>\n",
       "    </tr>\n",
       "  </tbody>\n",
       "</table>\n",
       "</div>"
      ],
      "text/plain": [
       "                            Common Name  \\\n",
       "0                         PS(12:0/13:0)   \n",
       "1          PS(17:0/20:4(5Z,8Z,11Z,14Z))   \n",
       "2  PS(21:0/22:6(4Z,7Z,10Z,13Z,16Z,19Z))   \n",
       "3                     PS(17:0/14:1(9Z))   \n",
       "4                    PS(16:0/18:1(11Z))   \n",
       "\n",
       "                                     Systematic Name Species Shorthand  \\\n",
       "0  1-dodecanoyl-2-tridecanoyl-sn-glycero-3-phosph...           PS 25:0   \n",
       "1  1-heptadecanoyl, 2-(5Z,8Z,11Z,14Z-eicosatetrae...           PS 37:4   \n",
       "2  1-heneicosanoyl-2-(4Z,7Z,10Z,13Z,16Z,19Z-docos...           PS 43:6   \n",
       "3  1-heptadecanoyl-2-(9Z-tetradecenoyl)-sn-glycer...           PS 31:1   \n",
       "4  1-hexadecanoyl-2-(11Z-octadecenoyl)-sn-glycero...           PS 34:1   \n",
       "\n",
       "      Formula         H       [M-H]         Mass  \n",
       "0  637.395487  1.007825  636.387662  C31H60NO10P  \n",
       "1  797.520687  1.007825  796.512862  C43H76NO10P  \n",
       "2  877.583287  1.007825  876.575462  C49H84NO10P  \n",
       "3  719.473737  1.007825  718.465912  C37H70NO10P  \n",
       "4  761.520687  1.007825  760.512862  C40H76NO10P  "
      ]
     },
     "execution_count": 8,
     "metadata": {},
     "output_type": "execute_result"
    }
   ],
   "source": [
    "target_df.head()"
   ]
  },
  {
   "cell_type": "code",
   "execution_count": 9,
   "id": "dc5db65d-4459-41d5-ad05-d371dc558e18",
   "metadata": {
    "tags": []
   },
   "outputs": [
    {
     "data": {
      "text/plain": [
       "[('19115',\n",
       "  {'interim_id': 19115,\n",
       "   'neutral_formula_mass': 789.551984778,\n",
       "   'neutral_formula': 'C42H80NO10P',\n",
       "   'MS1_pseudo_Spectra': [{'apex': 103,\n",
       "     'peak_area': 14797245,\n",
       "     'height': 4209606,\n",
       "     'left_base': 100,\n",
       "     'right_base': 108,\n",
       "     'goodness_fitting': 0.9199423968322258,\n",
       "     'cSelectivity': 1.0,\n",
       "     'parent_masstrack_id': 14971,\n",
       "     'mz': 790.5562896728516,\n",
       "     'snr': 4209,\n",
       "     'id_number': 'F18471',\n",
       "     'rtime': 27.268622999999998,\n",
       "     'rtime_left_base': 26.4803868,\n",
       "     'rtime_right_base': 28.5822258,\n",
       "     'representative_intensity': 14797245,\n",
       "     'id': 'F18471'}]})]"
      ]
     },
     "execution_count": 9,
     "metadata": {},
     "output_type": "execute_result"
    }
   ],
   "source": [
    "# Some ids just include indices\n",
    "[x for x in list(epds.items()) if x[0] == '19115']"
   ]
  },
  {
   "cell_type": "code",
   "execution_count": 10,
   "id": "7c08debf-fd3b-4769-95cd-4d4ca614309b",
   "metadata": {
    "tags": []
   },
   "outputs": [
    {
     "data": {
      "text/plain": [
       "[('kp1253_789.551',\n",
       "  {'interim_id': 'kp1253_789.551',\n",
       "   'neutral_formula_mass': 789.5509837399358,\n",
       "   'neutral_formula': None,\n",
       "   'Database_referred': [],\n",
       "   'identity': [],\n",
       "   'MS1_pseudo_Spectra': [{'apex': 120,\n",
       "     'peak_area': 11069601,\n",
       "     'height': 1495130,\n",
       "     'left_base': 111,\n",
       "     'right_base': 128,\n",
       "     'goodness_fitting': 0.5969813037105616,\n",
       "     'cSelectivity': 1.0,\n",
       "     'parent_masstrack_id': 14971,\n",
       "     'mz': 790.5562896728516,\n",
       "     'snr': 1495,\n",
       "     'id_number': 'F18472',\n",
       "     'rtime': 31.7351988,\n",
       "     'rtime_left_base': 29.370471000000002,\n",
       "     'rtime_right_base': 33.837181799999996,\n",
       "     'representative_intensity': 11069601,\n",
       "     'id': 'F18472',\n",
       "     'isotope': 'M0',\n",
       "     'modification': 'M+H+',\n",
       "     'ion_relation': 'M0,M+H+',\n",
       "     'parent_epd_id': 'kp1253_789.551'},\n",
       "    {'apex': 118,\n",
       "     'peak_area': 9052198,\n",
       "     'height': 741044,\n",
       "     'left_base': 107,\n",
       "     'right_base': 130,\n",
       "     'goodness_fitting': 0.7809889324932886,\n",
       "     'cSelectivity': 1.0,\n",
       "     'parent_masstrack_id': 15174,\n",
       "     'mz': 813.5445709228516,\n",
       "     'snr': 741,\n",
       "     'id_number': 'F16852',\n",
       "     'rtime': 31.209708599999995,\n",
       "     'rtime_left_base': 28.319472,\n",
       "     'rtime_right_base': 34.362684,\n",
       "     'representative_intensity': 9052198,\n",
       "     'id': 'F16852',\n",
       "     'isotope': '13C/12C',\n",
       "     'modification': 'Na/H',\n",
       "     'ion_relation': '13C/12C,Na/H',\n",
       "     'parent_epd_id': 'kp1253_789.551'},\n",
       "    {'apex': 117,\n",
       "     'peak_area': 23102765,\n",
       "     'height': 2234295,\n",
       "     'left_base': 107,\n",
       "     'right_base': 129,\n",
       "     'goodness_fitting': 0.760074751214455,\n",
       "     'cSelectivity': 0.9,\n",
       "     'parent_masstrack_id': 15163,\n",
       "     'mz': 812.5412750244141,\n",
       "     'snr': 2234,\n",
       "     'id_number': 'F18893',\n",
       "     'rtime': 30.946960800000003,\n",
       "     'rtime_left_base': 28.319472,\n",
       "     'rtime_right_base': 34.099938,\n",
       "     'representative_intensity': 23102765,\n",
       "     'id': 'F18893',\n",
       "     'isotope': 'M0',\n",
       "     'modification': 'Na/H',\n",
       "     'ion_relation': 'M0,Na/H',\n",
       "     'parent_epd_id': 'kp1253_789.551'}],\n",
       "   'MS2_Spectra': [],\n",
       "   'list_matches': [['C42H80NO10P_789.551985', '', 1]]})]"
      ]
     },
     "execution_count": 10,
     "metadata": {},
     "output_type": "execute_result"
    }
   ],
   "source": [
    "# Some ids just include indices\n",
    "[x for x in list(epds.items()) if x[0] == 'kp1253_789.551']"
   ]
  },
  {
   "cell_type": "code",
   "execution_count": 11,
   "id": "96b2d411-f1d6-4b58-8c15-b146a80c0cf0",
   "metadata": {
    "tags": []
   },
   "outputs": [
    {
     "data": {
      "text/plain": [
       "('kp1_84.0705',\n",
       " {'interim_id': 'kp1_84.0705',\n",
       "  'neutral_formula_mass': 84.0704689970972,\n",
       "  'neutral_formula': None,\n",
       "  'Database_referred': [],\n",
       "  'identity': [],\n",
       "  'MS1_pseudo_Spectra': [{'apex': 240,\n",
       "    'peak_area': 12452356,\n",
       "    'height': 662709,\n",
       "    'left_base': 228,\n",
       "    'right_base': 252,\n",
       "    'goodness_fitting': 0.9395043495299495,\n",
       "    'cSelectivity': 1.0,\n",
       "    'parent_masstrack_id': 45,\n",
       "    'mz': 87.08445358276367,\n",
       "    'snr': 662,\n",
       "    'id_number': 'F120',\n",
       "    'rtime': 63.264846,\n",
       "    'rtime_left_base': 60.111869999999996,\n",
       "    'rtime_right_base': 66.417822,\n",
       "    'representative_intensity': 12452356,\n",
       "    'id': 'F120',\n",
       "    'isotope': '13C/12C*2',\n",
       "    'modification': 'M+H+',\n",
       "    'ion_relation': '13C/12C*2,M+H+',\n",
       "    'parent_epd_id': 'kp1_84.0705'},\n",
       "   {'apex': 240,\n",
       "    'peak_area': 693023365,\n",
       "    'height': 36754666,\n",
       "    'left_base': 229,\n",
       "    'right_base': 250,\n",
       "    'goodness_fitting': 0.5182421267290913,\n",
       "    'cSelectivity': 0.6875,\n",
       "    'parent_masstrack_id': 22,\n",
       "    'mz': 86.08110046386719,\n",
       "    'snr': 64,\n",
       "    'id_number': 'F64',\n",
       "    'rtime': 63.264846,\n",
       "    'rtime_left_base': 60.374615999999996,\n",
       "    'rtime_right_base': 65.89233,\n",
       "    'representative_intensity': 693023365,\n",
       "    'id': 'F64',\n",
       "    'isotope': '13C/12C',\n",
       "    'modification': 'M+H+',\n",
       "    'ion_relation': '13C/12C,M+H+',\n",
       "    'parent_epd_id': 'kp1_84.0705'},\n",
       "   {'apex': 240,\n",
       "    'peak_area': 1869203458,\n",
       "    'height': 358337415,\n",
       "    'left_base': 229,\n",
       "    'right_base': 250,\n",
       "    'goodness_fitting': 0.5056759154011037,\n",
       "    'cSelectivity': 0.7096774193548387,\n",
       "    'parent_masstrack_id': 5,\n",
       "    'mz': 85.0777473449707,\n",
       "    'snr': 18,\n",
       "    'id_number': 'F19',\n",
       "    'rtime': 63.264846,\n",
       "    'rtime_left_base': 60.374615999999996,\n",
       "    'rtime_right_base': 65.89233,\n",
       "    'representative_intensity': 1869203458,\n",
       "    'id': 'F19',\n",
       "    'isotope': 'M0',\n",
       "    'modification': 'M+H+',\n",
       "    'ion_relation': 'M0,M+H+',\n",
       "    'parent_epd_id': 'kp1_84.0705'}],\n",
       "  'MS2_Spectra': []})"
      ]
     },
     "execution_count": 11,
     "metadata": {},
     "output_type": "execute_result"
    }
   ],
   "source": [
    "[x for x in list(epds.items())][0]"
   ]
  },
  {
   "cell_type": "code",
   "execution_count": 12,
   "id": "8e561b41-57be-428e-9e4c-14da99593949",
   "metadata": {
    "tags": []
   },
   "outputs": [
    {
     "name": "stdout",
     "output_type": "stream",
     "text": [
      "[{'id': 'kp23_115.0633', 'mz': 115.0632522362573, 'rtime': 42.80346457499999, 'id_numbers': 'F291', 'ion_relation': 'M0,M+H+'}, {'id': 'kp24_137.0451', 'mz': 137.04507306237429, 'rtime': 52.980143828571435, 'id_numbers': 'F292', 'ion_relation': 'undetermined'}]\n"
     ]
    }
   ],
   "source": [
    "neutrals = []\n",
    "for k,v in epds.items():\n",
    "    p = {}\n",
    "    p['id'] = k    #  k may differ from v['interim_id']\n",
    "    if v['neutral_formula_mass']:\n",
    "        # print(v['interim_id'])\n",
    "        p['mz'] = v['neutral_formula_mass']\n",
    "        p['rtime'] = np.mean([x['rtime'] for x in v['MS1_pseudo_Spectra']])\n",
    "        \n",
    "        max_area = np.max([x['peak_area'] for x in v['MS1_pseudo_Spectra']])\n",
    "        for pseudo_spectrum in v['MS1_pseudo_Spectra']:\n",
    "            if pseudo_spectrum['peak_area'] == max_area:\n",
    "                p['id_numbers'] = pseudo_spectrum['id_number']\n",
    "                if 'ion_relation' in pseudo_spectrum.keys():\n",
    "                    p['ion_relation'] = pseudo_spectrum['ion_relation']\n",
    "        \n",
    "        neutrals.append(p)\n",
    "    \n",
    "print(neutrals[22:24])"
   ]
  },
  {
   "cell_type": "code",
   "execution_count": 13,
   "id": "79b9d1c0-aaf8-4640-a5a9-5a25376bc32e",
   "metadata": {
    "tags": []
   },
   "outputs": [
    {
     "data": {
      "text/html": [
       "<div>\n",
       "<style scoped>\n",
       "    .dataframe tbody tr th:only-of-type {\n",
       "        vertical-align: middle;\n",
       "    }\n",
       "\n",
       "    .dataframe tbody tr th {\n",
       "        vertical-align: top;\n",
       "    }\n",
       "\n",
       "    .dataframe thead th {\n",
       "        text-align: right;\n",
       "    }\n",
       "</style>\n",
       "<table border=\"1\" class=\"dataframe\">\n",
       "  <thead>\n",
       "    <tr style=\"text-align: right;\">\n",
       "      <th></th>\n",
       "      <th>Common Name</th>\n",
       "      <th>Systematic Name</th>\n",
       "      <th>Species Shorthand</th>\n",
       "      <th>Formula</th>\n",
       "      <th>H</th>\n",
       "      <th>[M-H]</th>\n",
       "      <th>Mass</th>\n",
       "    </tr>\n",
       "  </thead>\n",
       "  <tbody>\n",
       "    <tr>\n",
       "      <th>0</th>\n",
       "      <td>PS(12:0/13:0)</td>\n",
       "      <td>1-dodecanoyl-2-tridecanoyl-sn-glycero-3-phosph...</td>\n",
       "      <td>PS 25:0</td>\n",
       "      <td>637.395487</td>\n",
       "      <td>1.007825</td>\n",
       "      <td>636.387662</td>\n",
       "      <td>C31H60NO10P</td>\n",
       "    </tr>\n",
       "    <tr>\n",
       "      <th>1</th>\n",
       "      <td>PS(17:0/20:4(5Z,8Z,11Z,14Z))</td>\n",
       "      <td>1-heptadecanoyl, 2-(5Z,8Z,11Z,14Z-eicosatetrae...</td>\n",
       "      <td>PS 37:4</td>\n",
       "      <td>797.520687</td>\n",
       "      <td>1.007825</td>\n",
       "      <td>796.512862</td>\n",
       "      <td>C43H76NO10P</td>\n",
       "    </tr>\n",
       "    <tr>\n",
       "      <th>2</th>\n",
       "      <td>PS(21:0/22:6(4Z,7Z,10Z,13Z,16Z,19Z))</td>\n",
       "      <td>1-heneicosanoyl-2-(4Z,7Z,10Z,13Z,16Z,19Z-docos...</td>\n",
       "      <td>PS 43:6</td>\n",
       "      <td>877.583287</td>\n",
       "      <td>1.007825</td>\n",
       "      <td>876.575462</td>\n",
       "      <td>C49H84NO10P</td>\n",
       "    </tr>\n",
       "    <tr>\n",
       "      <th>3</th>\n",
       "      <td>PS(17:0/14:1(9Z))</td>\n",
       "      <td>1-heptadecanoyl-2-(9Z-tetradecenoyl)-sn-glycer...</td>\n",
       "      <td>PS 31:1</td>\n",
       "      <td>719.473737</td>\n",
       "      <td>1.007825</td>\n",
       "      <td>718.465912</td>\n",
       "      <td>C37H70NO10P</td>\n",
       "    </tr>\n",
       "    <tr>\n",
       "      <th>4</th>\n",
       "      <td>PS(16:0/18:1(11Z))</td>\n",
       "      <td>1-hexadecanoyl-2-(11Z-octadecenoyl)-sn-glycero...</td>\n",
       "      <td>PS 34:1</td>\n",
       "      <td>761.520687</td>\n",
       "      <td>1.007825</td>\n",
       "      <td>760.512862</td>\n",
       "      <td>C40H76NO10P</td>\n",
       "    </tr>\n",
       "  </tbody>\n",
       "</table>\n",
       "</div>"
      ],
      "text/plain": [
       "                            Common Name  \\\n",
       "0                         PS(12:0/13:0)   \n",
       "1          PS(17:0/20:4(5Z,8Z,11Z,14Z))   \n",
       "2  PS(21:0/22:6(4Z,7Z,10Z,13Z,16Z,19Z))   \n",
       "3                     PS(17:0/14:1(9Z))   \n",
       "4                    PS(16:0/18:1(11Z))   \n",
       "\n",
       "                                     Systematic Name Species Shorthand  \\\n",
       "0  1-dodecanoyl-2-tridecanoyl-sn-glycero-3-phosph...           PS 25:0   \n",
       "1  1-heptadecanoyl, 2-(5Z,8Z,11Z,14Z-eicosatetrae...           PS 37:4   \n",
       "2  1-heneicosanoyl-2-(4Z,7Z,10Z,13Z,16Z,19Z-docos...           PS 43:6   \n",
       "3  1-heptadecanoyl-2-(9Z-tetradecenoyl)-sn-glycer...           PS 31:1   \n",
       "4  1-hexadecanoyl-2-(11Z-octadecenoyl)-sn-glycero...           PS 34:1   \n",
       "\n",
       "      Formula         H       [M-H]         Mass  \n",
       "0  637.395487  1.007825  636.387662  C31H60NO10P  \n",
       "1  797.520687  1.007825  796.512862  C43H76NO10P  \n",
       "2  877.583287  1.007825  876.575462  C49H84NO10P  \n",
       "3  719.473737  1.007825  718.465912  C37H70NO10P  \n",
       "4  761.520687  1.007825  760.512862  C40H76NO10P  "
      ]
     },
     "execution_count": 13,
     "metadata": {},
     "output_type": "execute_result"
    }
   ],
   "source": [
    "target_df.head()"
   ]
  },
  {
   "cell_type": "code",
   "execution_count": 14,
   "id": "4903188b-5d8c-4ce4-98b4-8a6ed8e4b1ed",
   "metadata": {
    "tags": []
   },
   "outputs": [],
   "source": [
    "sim_targeted_df = target_df.loc[:,['Species Shorthand','Formula','Mass']].drop_duplicates()\n",
    "sim_targeted_df.columns = ['Species Shorthand','Mass','Formula']"
   ]
  },
  {
   "cell_type": "code",
   "execution_count": 15,
   "id": "63500ee2-4217-4375-b04e-9960691982db",
   "metadata": {
    "tags": []
   },
   "outputs": [
    {
     "data": {
      "text/plain": [
       "260"
      ]
     },
     "execution_count": 15,
     "metadata": {},
     "output_type": "execute_result"
    }
   ],
   "source": [
    "sim_targeted_df.shape[0]"
   ]
  },
  {
   "cell_type": "code",
   "execution_count": 16,
   "id": "ba6493c9-1cf0-4a45-ac92-ad0168bce9cd",
   "metadata": {
    "tags": []
   },
   "outputs": [
    {
     "data": {
      "text/plain": [
       "252"
      ]
     },
     "execution_count": 16,
     "metadata": {},
     "output_type": "execute_result"
    }
   ],
   "source": [
    "len(set(sim_targeted_df['Mass']))"
   ]
  },
  {
   "cell_type": "markdown",
   "id": "9f998410-8567-4b2e-aa4f-b79e13d37fb7",
   "metadata": {},
   "source": [
    "-----"
   ]
  },
  {
   "cell_type": "markdown",
   "id": "e8f368b9-3088-4f4c-9fe8-9a465b524fee",
   "metadata": {},
   "source": [
    "-----"
   ]
  },
  {
   "cell_type": "markdown",
   "id": "89406110-f9ee-4efd-9bc8-2b0e32086b6a",
   "metadata": {},
   "source": [
    "-----"
   ]
  },
  {
   "cell_type": "code",
   "execution_count": 17,
   "id": "78e3ce4a-4135-4db1-b2fc-2fc15dfcc4a4",
   "metadata": {
    "tags": []
   },
   "outputs": [],
   "source": [
    "mztree = build_centurion_tree(neutrals)\n",
    "sim_targeted_df.index = sim_targeted_df['Species Shorthand']"
   ]
  },
  {
   "cell_type": "code",
   "execution_count": 18,
   "id": "0e6d7045-96d1-4b53-a7f7-fab3b4837719",
   "metadata": {
    "tags": []
   },
   "outputs": [],
   "source": [
    "target_dict = sim_targeted_df.to_dict(orient=\"index\")"
   ]
  },
  {
   "cell_type": "code",
   "execution_count": 19,
   "id": "edbb9a0c-ab08-4723-a621-2b166987a4c6",
   "metadata": {
    "tags": []
   },
   "outputs": [
    {
     "data": {
      "text/plain": [
       "('PS 25:0',\n",
       " {'Species Shorthand': 'PS 25:0',\n",
       "  'Mass': 637.395487,\n",
       "  'Formula': 'C31H60NO10P'})"
      ]
     },
     "execution_count": 19,
     "metadata": {},
     "output_type": "execute_result"
    }
   ],
   "source": [
    "list(target_dict.items())[0]"
   ]
  },
  {
   "cell_type": "code",
   "execution_count": 35,
   "id": "472e1428-d295-4c79-8a0a-eacb9018e5b0",
   "metadata": {
    "tags": []
   },
   "outputs": [
    {
     "name": "stdout",
     "output_type": "stream",
     "text": [
      "29\n"
     ]
    }
   ],
   "source": [
    "dict_PS = {}\n",
    "for k,v in target_dict.items():\n",
    "    match = find_all_matches_centurion_indexed_list(v['Mass'], mztree, 5)\n",
    "    if match:\n",
    "        v['matched'] = match\n",
    "        v['id_numbers'] = [x['id_numbers'] for x in v['matched']]\n",
    "        dict_PS.update({k:v})\n",
    "        \n",
    "print(len(dict_PS))"
   ]
  },
  {
   "cell_type": "code",
   "execution_count": 36,
   "id": "950ac4bb-8b9c-49bc-93d1-dae4b8027450",
   "metadata": {
    "tags": []
   },
   "outputs": [
    {
     "data": {
      "text/plain": [
       "[('PS 36:1',\n",
       "  {'Species Shorthand': 'PS 36:1',\n",
       "   'Mass': 789.551987,\n",
       "   'Formula': 'C42H80NO10P',\n",
       "   'matched': [{'id': 'kp1253_789.551',\n",
       "     'mz': 789.5509837399358,\n",
       "     'rtime': 31.297289399999997,\n",
       "     'id_numbers': 'F18893',\n",
       "     'ion_relation': 'M0,Na/H'},\n",
       "    {'id': '19115',\n",
       "     'mz': 789.551984778,\n",
       "     'rtime': 27.268622999999998,\n",
       "     'id_numbers': 'F18471'},\n",
       "    {'id': '19116',\n",
       "     'mz': 789.551984778,\n",
       "     'rtime': 36.727417800000005,\n",
       "     'id_numbers': 'F18473'}],\n",
       "   'id_numbers': ['F18893', 'F18471', 'F18473']}),\n",
       " ('PS 24:0',\n",
       "  {'Species Shorthand': 'PS 24:0',\n",
       "   'Mass': 623.379837,\n",
       "   'Formula': 'C30H58NO10P',\n",
       "   'matched': [{'id': '17538',\n",
       "     'mz': 623.379834,\n",
       "     'rtime': 25.692121800000002,\n",
       "     'id_numbers': 'F14501'}],\n",
       "   'id_numbers': ['F14501']})]"
      ]
     },
     "execution_count": 36,
     "metadata": {},
     "output_type": "execute_result"
    }
   ],
   "source": [
    "list(dict_PS.items())[0:2]"
   ]
  },
  {
   "cell_type": "code",
   "execution_count": 31,
   "id": "18fcbe6d-e569-41b5-87c0-b00b345cb3e2",
   "metadata": {
    "tags": []
   },
   "outputs": [],
   "source": [
    "reshuffled_dict = {}\n",
    "\n",
    "for k, v in dict_PS.items():\n",
    "    for item in v['matched']:\n",
    "        ion_relation = item.get('ion_relation') # .get() this can avoid empty of the ion_relation!\n",
    "        reshuffled_dict[item['id_numbers']] = {\n",
    "            'FTID': item['id_numbers'],\n",
    "            'formula': v['Formula'],\n",
    "            'neutral_mass': v['Mass'],\n",
    "            'short_name': v['Species Shorthand'],\n",
    "            'ion_relation': ion_relation,\n",
    "            'interium_id': item['id']\n",
    "        }"
   ]
  },
  {
   "cell_type": "code",
   "execution_count": 32,
   "id": "08b8d354-6090-4d48-9787-ea56aacf5f20",
   "metadata": {
    "tags": []
   },
   "outputs": [],
   "source": [
    "matched_df = pd.DataFrame(reshuffled_dict).transpose()"
   ]
  },
  {
   "cell_type": "code",
   "execution_count": 38,
   "id": "61c9202e-f9dc-4947-8a40-246b25fb7de1",
   "metadata": {
    "tags": []
   },
   "outputs": [
    {
     "data": {
      "text/html": [
       "<div>\n",
       "<style scoped>\n",
       "    .dataframe tbody tr th:only-of-type {\n",
       "        vertical-align: middle;\n",
       "    }\n",
       "\n",
       "    .dataframe tbody tr th {\n",
       "        vertical-align: top;\n",
       "    }\n",
       "\n",
       "    .dataframe thead th {\n",
       "        text-align: right;\n",
       "    }\n",
       "</style>\n",
       "<table border=\"1\" class=\"dataframe\">\n",
       "  <thead>\n",
       "    <tr style=\"text-align: right;\">\n",
       "      <th></th>\n",
       "      <th>FTID</th>\n",
       "      <th>formula</th>\n",
       "      <th>neutral_mass</th>\n",
       "      <th>short_name</th>\n",
       "      <th>ion_relation</th>\n",
       "      <th>interium_id</th>\n",
       "    </tr>\n",
       "  </thead>\n",
       "  <tbody>\n",
       "    <tr>\n",
       "      <th>F18893</th>\n",
       "      <td>F18893</td>\n",
       "      <td>C42H80NO10P</td>\n",
       "      <td>789.551987</td>\n",
       "      <td>PS 36:1</td>\n",
       "      <td>M0,Na/H</td>\n",
       "      <td>kp1253_789.551</td>\n",
       "    </tr>\n",
       "    <tr>\n",
       "      <th>F18471</th>\n",
       "      <td>F18471</td>\n",
       "      <td>C42H80NO10P</td>\n",
       "      <td>789.551987</td>\n",
       "      <td>PS 36:1</td>\n",
       "      <td>None</td>\n",
       "      <td>19115</td>\n",
       "    </tr>\n",
       "    <tr>\n",
       "      <th>F18473</th>\n",
       "      <td>F18473</td>\n",
       "      <td>C42H80NO10P</td>\n",
       "      <td>789.551987</td>\n",
       "      <td>PS 36:1</td>\n",
       "      <td>None</td>\n",
       "      <td>19116</td>\n",
       "    </tr>\n",
       "    <tr>\n",
       "      <th>F14501</th>\n",
       "      <td>F14501</td>\n",
       "      <td>C30H58NO10P</td>\n",
       "      <td>623.379837</td>\n",
       "      <td>PS 24:0</td>\n",
       "      <td>None</td>\n",
       "      <td>17538</td>\n",
       "    </tr>\n",
       "    <tr>\n",
       "      <th>F17414</th>\n",
       "      <td>F17414</td>\n",
       "      <td>C46H78NO10P</td>\n",
       "      <td>835.536337</td>\n",
       "      <td>PS 40:6</td>\n",
       "      <td>M0,M+H+</td>\n",
       "      <td>kp1134_835.5335</td>\n",
       "    </tr>\n",
       "  </tbody>\n",
       "</table>\n",
       "</div>"
      ],
      "text/plain": [
       "          FTID      formula neutral_mass short_name ion_relation  \\\n",
       "F18893  F18893  C42H80NO10P   789.551987    PS 36:1      M0,Na/H   \n",
       "F18471  F18471  C42H80NO10P   789.551987    PS 36:1         None   \n",
       "F18473  F18473  C42H80NO10P   789.551987    PS 36:1         None   \n",
       "F14501  F14501  C30H58NO10P   623.379837    PS 24:0         None   \n",
       "F17414  F17414  C46H78NO10P   835.536337    PS 40:6      M0,M+H+   \n",
       "\n",
       "            interium_id  \n",
       "F18893   kp1253_789.551  \n",
       "F18471            19115  \n",
       "F18473            19116  \n",
       "F14501            17538  \n",
       "F17414  kp1134_835.5335  "
      ]
     },
     "execution_count": 38,
     "metadata": {},
     "output_type": "execute_result"
    }
   ],
   "source": [
    "matched_df.head()"
   ]
  },
  {
   "cell_type": "code",
   "execution_count": 39,
   "id": "9684c608-19d6-45ca-ab5a-c497f421425e",
   "metadata": {
    "tags": []
   },
   "outputs": [],
   "source": [
    "matched_df.to_csv(os.path.join(output_dir,\"matched2targetPS.csv\"),sep = ',',index = False)"
   ]
  },
  {
   "cell_type": "markdown",
   "id": "26a7af90-d3c6-447e-9481-a26c58a508c5",
   "metadata": {},
   "source": [
    "-----"
   ]
  },
  {
   "cell_type": "markdown",
   "id": "2a3f0873-c4e8-4f79-9129-d046d67447af",
   "metadata": {},
   "source": [
    "-----"
   ]
  },
  {
   "cell_type": "markdown",
   "id": "c1e54ca1-7cf4-4d08-bbe0-2ec8ba2cff64",
   "metadata": {},
   "source": [
    "-----"
   ]
  },
  {
   "cell_type": "markdown",
   "id": "93748dda-1173-4b58-b810-60f0a8886749",
   "metadata": {},
   "source": [
    "-----"
   ]
  }
 ],
 "metadata": {
  "kernelspec": {
   "display_name": "Python 3 (ipykernel)",
   "language": "python",
   "name": "python3"
  },
  "language_info": {
   "codemirror_mode": {
    "name": "ipython",
    "version": 3
   },
   "file_extension": ".py",
   "mimetype": "text/x-python",
   "name": "python",
   "nbconvert_exporter": "python",
   "pygments_lexer": "ipython3",
   "version": "3.10.9"
  }
 },
 "nbformat": 4,
 "nbformat_minor": 5
}
