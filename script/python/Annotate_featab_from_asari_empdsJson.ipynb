{
 "cells": [
  {
   "cell_type": "markdown",
   "id": "d086ff21",
   "metadata": {
    "tags": []
   },
   "source": [
    "# Do targeted search in asari output\n",
    "- This is an example to perform targeted search in asari output feature table\n",
    "- search for PS species"
   ]
  },
  {
   "cell_type": "code",
   "execution_count": 4,
   "id": "63c3a712",
   "metadata": {
    "tags": []
   },
   "outputs": [],
   "source": [
    "# !pip install -q --upgrade mass2chem khipu-metabolomics jms-metabolite-services"
   ]
  },
  {
   "cell_type": "code",
   "execution_count": 2,
   "id": "17e60b17",
   "metadata": {
    "tags": []
   },
   "outputs": [],
   "source": [
    "import json\n",
    "import numpy as np\n",
    "import pandas as pd\n",
    "\n",
    "from mass2chem.search import build_centurion_tree, find_all_matches_centurion_indexed_list"
   ]
  },
  {
   "cell_type": "code",
   "execution_count": 3,
   "id": "f98b6d0d",
   "metadata": {
    "tags": []
   },
   "outputs": [],
   "source": [
    "import os\n",
    "output_dir = '../../../output/preproc_fultab_lab_targlist_79_rmTn750K/' # here I just used the original asari output\n",
    "try:\n",
    "    os.mkdir(output_dir)\n",
    "except:\n",
    "    None"
   ]
  },
  {
   "cell_type": "code",
   "execution_count": 7,
   "id": "213df725",
   "metadata": {
    "tags": []
   },
   "outputs": [],
   "source": [
    "epds = json.load(open('../../../../asari-output-RPneg/output_asari_project_31312361/Annotated_empricalCompounds.json'))\n",
    "target_df = pd.read_excel(\"../../../../target_list/PS_target_list_to_Minghao.xlsx\")"
   ]
  },
  {
   "cell_type": "code",
   "execution_count": 8,
   "id": "bea91ef0",
   "metadata": {
    "tags": []
   },
   "outputs": [
    {
     "data": {
      "text/html": [
       "<div>\n",
       "<style scoped>\n",
       "    .dataframe tbody tr th:only-of-type {\n",
       "        vertical-align: middle;\n",
       "    }\n",
       "\n",
       "    .dataframe tbody tr th {\n",
       "        vertical-align: top;\n",
       "    }\n",
       "\n",
       "    .dataframe thead th {\n",
       "        text-align: right;\n",
       "    }\n",
       "</style>\n",
       "<table border=\"1\" class=\"dataframe\">\n",
       "  <thead>\n",
       "    <tr style=\"text-align: right;\">\n",
       "      <th></th>\n",
       "      <th>Common Name</th>\n",
       "      <th>Systematic Name</th>\n",
       "      <th>Species Shorthand</th>\n",
       "      <th>Neutral_Mass</th>\n",
       "      <th>H</th>\n",
       "      <th>[M-H]</th>\n",
       "      <th>Formula</th>\n",
       "    </tr>\n",
       "  </thead>\n",
       "  <tbody>\n",
       "    <tr>\n",
       "      <th>0</th>\n",
       "      <td>PS(12:0/13:0)</td>\n",
       "      <td>1-dodecanoyl-2-tridecanoyl-sn-glycero-3-phosph...</td>\n",
       "      <td>PS 25:0</td>\n",
       "      <td>637.395487</td>\n",
       "      <td>1.007825</td>\n",
       "      <td>636.387662</td>\n",
       "      <td>C31H60NO10P</td>\n",
       "    </tr>\n",
       "    <tr>\n",
       "      <th>1</th>\n",
       "      <td>PS(17:0/20:4(5Z,8Z,11Z,14Z))</td>\n",
       "      <td>1-heptadecanoyl, 2-(5Z,8Z,11Z,14Z-eicosatetrae...</td>\n",
       "      <td>PS 37:4</td>\n",
       "      <td>797.520687</td>\n",
       "      <td>1.007825</td>\n",
       "      <td>796.512862</td>\n",
       "      <td>C43H76NO10P</td>\n",
       "    </tr>\n",
       "    <tr>\n",
       "      <th>2</th>\n",
       "      <td>PS(21:0/22:6(4Z,7Z,10Z,13Z,16Z,19Z))</td>\n",
       "      <td>1-heneicosanoyl-2-(4Z,7Z,10Z,13Z,16Z,19Z-docos...</td>\n",
       "      <td>PS 43:6</td>\n",
       "      <td>877.583287</td>\n",
       "      <td>1.007825</td>\n",
       "      <td>876.575462</td>\n",
       "      <td>C49H84NO10P</td>\n",
       "    </tr>\n",
       "    <tr>\n",
       "      <th>3</th>\n",
       "      <td>PS(17:0/14:1(9Z))</td>\n",
       "      <td>1-heptadecanoyl-2-(9Z-tetradecenoyl)-sn-glycer...</td>\n",
       "      <td>PS 31:1</td>\n",
       "      <td>719.473737</td>\n",
       "      <td>1.007825</td>\n",
       "      <td>718.465912</td>\n",
       "      <td>C37H70NO10P</td>\n",
       "    </tr>\n",
       "    <tr>\n",
       "      <th>4</th>\n",
       "      <td>PS(16:0/18:1(11Z))</td>\n",
       "      <td>1-hexadecanoyl-2-(11Z-octadecenoyl)-sn-glycero...</td>\n",
       "      <td>PS 34:1</td>\n",
       "      <td>761.520687</td>\n",
       "      <td>1.007825</td>\n",
       "      <td>760.512862</td>\n",
       "      <td>C40H76NO10P</td>\n",
       "    </tr>\n",
       "  </tbody>\n",
       "</table>\n",
       "</div>"
      ],
      "text/plain": [
       "                            Common Name  \\\n",
       "0                         PS(12:0/13:0)   \n",
       "1          PS(17:0/20:4(5Z,8Z,11Z,14Z))   \n",
       "2  PS(21:0/22:6(4Z,7Z,10Z,13Z,16Z,19Z))   \n",
       "3                     PS(17:0/14:1(9Z))   \n",
       "4                    PS(16:0/18:1(11Z))   \n",
       "\n",
       "                                     Systematic Name Species Shorthand  \\\n",
       "0  1-dodecanoyl-2-tridecanoyl-sn-glycero-3-phosph...           PS 25:0   \n",
       "1  1-heptadecanoyl, 2-(5Z,8Z,11Z,14Z-eicosatetrae...           PS 37:4   \n",
       "2  1-heneicosanoyl-2-(4Z,7Z,10Z,13Z,16Z,19Z-docos...           PS 43:6   \n",
       "3  1-heptadecanoyl-2-(9Z-tetradecenoyl)-sn-glycer...           PS 31:1   \n",
       "4  1-hexadecanoyl-2-(11Z-octadecenoyl)-sn-glycero...           PS 34:1   \n",
       "\n",
       "   Neutral_Mass         H       [M-H]      Formula  \n",
       "0    637.395487  1.007825  636.387662  C31H60NO10P  \n",
       "1    797.520687  1.007825  796.512862  C43H76NO10P  \n",
       "2    877.583287  1.007825  876.575462  C49H84NO10P  \n",
       "3    719.473737  1.007825  718.465912  C37H70NO10P  \n",
       "4    761.520687  1.007825  760.512862  C40H76NO10P  "
      ]
     },
     "execution_count": 8,
     "metadata": {},
     "output_type": "execute_result"
    }
   ],
   "source": [
    "target_df.head()"
   ]
  },
  {
   "cell_type": "code",
   "execution_count": 9,
   "id": "f859f2c0",
   "metadata": {
    "tags": []
   },
   "outputs": [
    {
     "data": {
      "text/plain": [
       "[('19115',\n",
       "  {'interim_id': 19115,\n",
       "   'neutral_formula_mass': 828.414350622,\n",
       "   'neutral_formula': 'C41H64O17',\n",
       "   'MS1_pseudo_Spectra': [{'apex': 2280,\n",
       "     'peak_area': 6171488,\n",
       "     'height': 441141,\n",
       "     'left_base': 2279,\n",
       "     'right_base': 2290,\n",
       "     'goodness_fitting': 0.7591443039532613,\n",
       "     'cSelectivity': 0.7457627118644068,\n",
       "     'parent_masstrack_id': 6659,\n",
       "     'mz': 828.4175262451172,\n",
       "     'snr': 9,\n",
       "     'id_number': 'F13610',\n",
       "     'rtime': 491.44769495800017,\n",
       "     'rtime_left_base': 491.226361326,\n",
       "     'rtime_right_base': 493.6659285259998,\n",
       "     'representative_intensity': 6171488,\n",
       "     'id': 'F13610'}]})]"
      ]
     },
     "execution_count": 9,
     "metadata": {},
     "output_type": "execute_result"
    }
   ],
   "source": [
    "# Some ids just include indices\n",
    "[x for x in list(epds.items()) if x[0] == '19115']"
   ]
  },
  {
   "cell_type": "code",
   "execution_count": 10,
   "id": "da77d0ca",
   "metadata": {
    "tags": []
   },
   "outputs": [
    {
     "data": {
      "text/plain": [
       "[]"
      ]
     },
     "execution_count": 10,
     "metadata": {},
     "output_type": "execute_result"
    }
   ],
   "source": [
    "# Some ids just include indices\n",
    "[x for x in list(epds.items()) if x[0] == 'kp1253_789.551']"
   ]
  },
  {
   "cell_type": "code",
   "execution_count": 11,
   "id": "ac0ca1f8",
   "metadata": {
    "tags": []
   },
   "outputs": [
    {
     "data": {
      "text/plain": [
       "('kp1_506.1566',\n",
       " {'interim_id': 'kp1_506.1566',\n",
       "  'neutral_formula_mass': 506.1566342756079,\n",
       "  'neutral_formula': None,\n",
       "  'Database_referred': [],\n",
       "  'identity': [],\n",
       "  'MS1_pseudo_Spectra': [{'apex': 626,\n",
       "    'peak_area': 581602790,\n",
       "    'height': 25271266,\n",
       "    'left_base': 614,\n",
       "    'right_base': 627,\n",
       "    'goodness_fitting': 0.8663527581277897,\n",
       "    'cSelectivity': 0.39215686274509803,\n",
       "    'parent_masstrack_id': 1672,\n",
       "    'mz': 505.15032958984375,\n",
       "    'snr': 130,\n",
       "    'id_number': 'F22',\n",
       "    'rtime': 140.6143289269998,\n",
       "    'rtime_left_base': 137.9998779679998,\n",
       "    'rtime_right_base': 140.8318076629998,\n",
       "    'representative_intensity': 581602790,\n",
       "    'id': 'F22',\n",
       "    'isotope': 'M0',\n",
       "    'modification': 'M-H-',\n",
       "    'ion_relation': 'M0,M-H-',\n",
       "    'parent_epd_id': 'kp1_506.1566'},\n",
       "   {'apex': 626,\n",
       "    'peak_area': 261273807,\n",
       "    'height': 17350189,\n",
       "    'left_base': 614,\n",
       "    'right_base': 629,\n",
       "    'goodness_fitting': 0.7719853481133973,\n",
       "    'cSelectivity': 0.3076923076923077,\n",
       "    'parent_masstrack_id': 1689,\n",
       "    'mz': 506.15174102783203,\n",
       "    'snr': 137,\n",
       "    'id_number': 'F144',\n",
       "    'rtime': 140.6143289269998,\n",
       "    'rtime_left_base': 137.9998779679998,\n",
       "    'rtime_right_base': 141.2667071989998,\n",
       "    'representative_intensity': 261273807,\n",
       "    'id': 'F144',\n",
       "    'isotope': '13C/12C',\n",
       "    'modification': 'M-H-',\n",
       "    'ion_relation': '13C/12C,M-H-',\n",
       "    'parent_epd_id': 'kp1_506.1566'}],\n",
       "  'MS2_Spectra': [],\n",
       "  'list_matches': [['C28H26O9_506.157682', '', 1]]})"
      ]
     },
     "execution_count": 11,
     "metadata": {},
     "output_type": "execute_result"
    }
   ],
   "source": [
    "[x for x in list(epds.items())][0]"
   ]
  },
  {
   "cell_type": "code",
   "execution_count": 12,
   "id": "9fe7d938",
   "metadata": {
    "tags": []
   },
   "outputs": [
    {
     "name": "stdout",
     "output_type": "stream",
     "text": [
      "[{'id': 'kp23_435.3147', 'mz': 435.3147328274471, 'rtime': 239.0297789600001, 'id_numbers': 'F4993', 'ion_relation': 'M0,M-H-'}, {'id': 'kp24_402.2408', 'mz': 402.2407750531958, 'rtime': 20.357172351000003, 'id_numbers': 'F157', 'ion_relation': 'M0,M-H-'}]\n"
     ]
    }
   ],
   "source": [
    "neutrals = []\n",
    "for k,v in epds.items():\n",
    "    p = {}\n",
    "    p['id'] = k    #  k may differ from v['interim_id']\n",
    "    if v['neutral_formula_mass']:\n",
    "        # print(v['interim_id'])\n",
    "        p['mz'] = v['neutral_formula_mass']\n",
    "        p['rtime'] = np.mean([x['rtime'] for x in v['MS1_pseudo_Spectra']])\n",
    "        \n",
    "        max_area = np.max([x['peak_area'] for x in v['MS1_pseudo_Spectra']])\n",
    "        for pseudo_spectrum in v['MS1_pseudo_Spectra']:\n",
    "            if pseudo_spectrum['peak_area'] == max_area:\n",
    "                p['id_numbers'] = pseudo_spectrum['id_number']\n",
    "                if 'ion_relation' in pseudo_spectrum.keys():\n",
    "                    p['ion_relation'] = pseudo_spectrum['ion_relation']\n",
    "        \n",
    "        neutrals.append(p)\n",
    "    \n",
    "print(neutrals[22:24])"
   ]
  },
  {
   "cell_type": "code",
   "execution_count": 15,
   "id": "0238bcc1",
   "metadata": {
    "tags": []
   },
   "outputs": [
    {
     "data": {
      "text/html": [
       "<div>\n",
       "<style scoped>\n",
       "    .dataframe tbody tr th:only-of-type {\n",
       "        vertical-align: middle;\n",
       "    }\n",
       "\n",
       "    .dataframe tbody tr th {\n",
       "        vertical-align: top;\n",
       "    }\n",
       "\n",
       "    .dataframe thead th {\n",
       "        text-align: right;\n",
       "    }\n",
       "</style>\n",
       "<table border=\"1\" class=\"dataframe\">\n",
       "  <thead>\n",
       "    <tr style=\"text-align: right;\">\n",
       "      <th></th>\n",
       "      <th>Common Name</th>\n",
       "      <th>Systematic Name</th>\n",
       "      <th>Species Shorthand</th>\n",
       "      <th>Neutral_Mass</th>\n",
       "      <th>H</th>\n",
       "      <th>[M-H]</th>\n",
       "      <th>Formula</th>\n",
       "    </tr>\n",
       "  </thead>\n",
       "  <tbody>\n",
       "    <tr>\n",
       "      <th>0</th>\n",
       "      <td>PS(12:0/13:0)</td>\n",
       "      <td>1-dodecanoyl-2-tridecanoyl-sn-glycero-3-phosph...</td>\n",
       "      <td>PS 25:0</td>\n",
       "      <td>637.395487</td>\n",
       "      <td>1.007825</td>\n",
       "      <td>636.387662</td>\n",
       "      <td>C31H60NO10P</td>\n",
       "    </tr>\n",
       "    <tr>\n",
       "      <th>1</th>\n",
       "      <td>PS(17:0/20:4(5Z,8Z,11Z,14Z))</td>\n",
       "      <td>1-heptadecanoyl, 2-(5Z,8Z,11Z,14Z-eicosatetrae...</td>\n",
       "      <td>PS 37:4</td>\n",
       "      <td>797.520687</td>\n",
       "      <td>1.007825</td>\n",
       "      <td>796.512862</td>\n",
       "      <td>C43H76NO10P</td>\n",
       "    </tr>\n",
       "    <tr>\n",
       "      <th>2</th>\n",
       "      <td>PS(21:0/22:6(4Z,7Z,10Z,13Z,16Z,19Z))</td>\n",
       "      <td>1-heneicosanoyl-2-(4Z,7Z,10Z,13Z,16Z,19Z-docos...</td>\n",
       "      <td>PS 43:6</td>\n",
       "      <td>877.583287</td>\n",
       "      <td>1.007825</td>\n",
       "      <td>876.575462</td>\n",
       "      <td>C49H84NO10P</td>\n",
       "    </tr>\n",
       "    <tr>\n",
       "      <th>3</th>\n",
       "      <td>PS(17:0/14:1(9Z))</td>\n",
       "      <td>1-heptadecanoyl-2-(9Z-tetradecenoyl)-sn-glycer...</td>\n",
       "      <td>PS 31:1</td>\n",
       "      <td>719.473737</td>\n",
       "      <td>1.007825</td>\n",
       "      <td>718.465912</td>\n",
       "      <td>C37H70NO10P</td>\n",
       "    </tr>\n",
       "    <tr>\n",
       "      <th>4</th>\n",
       "      <td>PS(16:0/18:1(11Z))</td>\n",
       "      <td>1-hexadecanoyl-2-(11Z-octadecenoyl)-sn-glycero...</td>\n",
       "      <td>PS 34:1</td>\n",
       "      <td>761.520687</td>\n",
       "      <td>1.007825</td>\n",
       "      <td>760.512862</td>\n",
       "      <td>C40H76NO10P</td>\n",
       "    </tr>\n",
       "  </tbody>\n",
       "</table>\n",
       "</div>"
      ],
      "text/plain": [
       "                            Common Name  \\\n",
       "0                         PS(12:0/13:0)   \n",
       "1          PS(17:0/20:4(5Z,8Z,11Z,14Z))   \n",
       "2  PS(21:0/22:6(4Z,7Z,10Z,13Z,16Z,19Z))   \n",
       "3                     PS(17:0/14:1(9Z))   \n",
       "4                    PS(16:0/18:1(11Z))   \n",
       "\n",
       "                                     Systematic Name Species Shorthand  \\\n",
       "0  1-dodecanoyl-2-tridecanoyl-sn-glycero-3-phosph...           PS 25:0   \n",
       "1  1-heptadecanoyl, 2-(5Z,8Z,11Z,14Z-eicosatetrae...           PS 37:4   \n",
       "2  1-heneicosanoyl-2-(4Z,7Z,10Z,13Z,16Z,19Z-docos...           PS 43:6   \n",
       "3  1-heptadecanoyl-2-(9Z-tetradecenoyl)-sn-glycer...           PS 31:1   \n",
       "4  1-hexadecanoyl-2-(11Z-octadecenoyl)-sn-glycero...           PS 34:1   \n",
       "\n",
       "   Neutral_Mass         H       [M-H]      Formula  \n",
       "0    637.395487  1.007825  636.387662  C31H60NO10P  \n",
       "1    797.520687  1.007825  796.512862  C43H76NO10P  \n",
       "2    877.583287  1.007825  876.575462  C49H84NO10P  \n",
       "3    719.473737  1.007825  718.465912  C37H70NO10P  \n",
       "4    761.520687  1.007825  760.512862  C40H76NO10P  "
      ]
     },
     "execution_count": 15,
     "metadata": {},
     "output_type": "execute_result"
    }
   ],
   "source": [
    "target_df.head()"
   ]
  },
  {
   "cell_type": "code",
   "execution_count": 17,
   "id": "beeab2d0",
   "metadata": {
    "tags": []
   },
   "outputs": [],
   "source": [
    "sim_targeted_df = target_df.loc[:,['Species Shorthand','Formula','Neutral_Mass']].drop_duplicates()"
   ]
  },
  {
   "cell_type": "code",
   "execution_count": 18,
   "id": "526fb154",
   "metadata": {
    "tags": []
   },
   "outputs": [
    {
     "data": {
      "text/plain": [
       "260"
      ]
     },
     "execution_count": 18,
     "metadata": {},
     "output_type": "execute_result"
    }
   ],
   "source": [
    "sim_targeted_df.shape[0]"
   ]
  },
  {
   "cell_type": "code",
   "execution_count": 19,
   "id": "4e0d54a2",
   "metadata": {
    "tags": []
   },
   "outputs": [
    {
     "data": {
      "text/plain": [
       "252"
      ]
     },
     "execution_count": 19,
     "metadata": {},
     "output_type": "execute_result"
    }
   ],
   "source": [
    "len(set(sim_targeted_df['Neutral_Mass']))"
   ]
  },
  {
   "cell_type": "markdown",
   "id": "2f2d9443",
   "metadata": {},
   "source": [
    "-----"
   ]
  },
  {
   "cell_type": "markdown",
   "id": "4edb9d8e",
   "metadata": {},
   "source": [
    "-----"
   ]
  },
  {
   "cell_type": "markdown",
   "id": "fde7920d",
   "metadata": {},
   "source": [
    "-----"
   ]
  },
  {
   "cell_type": "code",
   "execution_count": 20,
   "id": "cd3daac5",
   "metadata": {
    "tags": []
   },
   "outputs": [],
   "source": [
    "mztree = build_centurion_tree(neutrals)\n",
    "sim_targeted_df.index = sim_targeted_df['Species Shorthand']"
   ]
  },
  {
   "cell_type": "code",
   "execution_count": 21,
   "id": "69905619",
   "metadata": {
    "tags": []
   },
   "outputs": [],
   "source": [
    "target_dict = sim_targeted_df.to_dict(orient=\"index\")"
   ]
  },
  {
   "cell_type": "code",
   "execution_count": 22,
   "id": "e1900f9c",
   "metadata": {
    "tags": []
   },
   "outputs": [
    {
     "data": {
      "text/plain": [
       "('PS 25:0',\n",
       " {'Species Shorthand': 'PS 25:0',\n",
       "  'Formula': 'C31H60NO10P',\n",
       "  'Neutral_Mass': 637.395487})"
      ]
     },
     "execution_count": 22,
     "metadata": {},
     "output_type": "execute_result"
    }
   ],
   "source": [
    "list(target_dict.items())[0]"
   ]
  },
  {
   "cell_type": "code",
   "execution_count": 23,
   "id": "760c9ea2",
   "metadata": {
    "tags": []
   },
   "outputs": [
    {
     "name": "stdout",
     "output_type": "stream",
     "text": [
      "101\n"
     ]
    }
   ],
   "source": [
    "dict_PS = {}\n",
    "for k,v in target_dict.items():\n",
    "    match = find_all_matches_centurion_indexed_list(v['Neutral_Mass'], mztree, 5)\n",
    "    if match:\n",
    "        v['matched'] = match\n",
    "        v['id_numbers'] = [x['id_numbers'] for x in v['matched']]\n",
    "        dict_PS.update({k:v})\n",
    "        \n",
    "print(len(dict_PS))"
   ]
  },
  {
   "cell_type": "code",
   "execution_count": 24,
   "id": "af1d43f5",
   "metadata": {
    "tags": []
   },
   "outputs": [
    {
     "data": {
      "text/plain": [
       "[('PS 37:4',\n",
       "  {'Species Shorthand': 'PS 37:4',\n",
       "   'Formula': 'C43H76NO10P',\n",
       "   'Neutral_Mass': 797.520687,\n",
       "   'matched': [{'id': '18057',\n",
       "     'mz': 797.520684649,\n",
       "     'rtime': 69.724569168,\n",
       "     'id_numbers': 'F9994'},\n",
       "    {'id': '18058',\n",
       "     'mz': 797.520684649,\n",
       "     'rtime': 231.765959151,\n",
       "     'id_numbers': 'F9995'},\n",
       "    {'id': '18059',\n",
       "     'mz': 797.520684649,\n",
       "     'rtime': 314.77413931099983,\n",
       "     'id_numbers': 'F9997'},\n",
       "    {'id': '18060',\n",
       "     'mz': 797.520684649,\n",
       "     'rtime': 223.2727396480002,\n",
       "     'id_numbers': 'F12378'},\n",
       "    {'id': '18061',\n",
       "     'mz': 797.520684649,\n",
       "     'rtime': 238.8745125919998,\n",
       "     'id_numbers': 'F12379'}],\n",
       "   'id_numbers': ['F9994', 'F9995', 'F9997', 'F12378', 'F12379']}),\n",
       " ('PS 34:1',\n",
       "  {'Species Shorthand': 'PS 34:1',\n",
       "   'Formula': 'C40H76NO10P',\n",
       "   'Neutral_Mass': 761.520687,\n",
       "   'matched': [{'id': '18676',\n",
       "     'mz': 761.520684649,\n",
       "     'rtime': 271.2273671029998,\n",
       "     'id_numbers': 'F11972'}],\n",
       "   'id_numbers': ['F11972']})]"
      ]
     },
     "execution_count": 24,
     "metadata": {},
     "output_type": "execute_result"
    }
   ],
   "source": [
    "list(dict_PS.items())[0:2]"
   ]
  },
  {
   "cell_type": "code",
   "execution_count": 25,
   "id": "fd285f02",
   "metadata": {
    "tags": []
   },
   "outputs": [],
   "source": [
    "reshuffled_dict = {}\n",
    "\n",
    "for k, v in dict_PS.items():\n",
    "    for item in v['matched']:\n",
    "        ion_relation = item.get('ion_relation') # .get() this can avoid empty of the ion_relation!\n",
    "        reshuffled_dict[item['id_numbers']] = {\n",
    "            'FTID': item['id_numbers'],\n",
    "            'formula': v['Formula'],\n",
    "            'neutral_mass': v['Neutral_Mass'],\n",
    "            'short_name': v['Species Shorthand'],\n",
    "            'ion_relation': ion_relation,\n",
    "            'interium_id': item['id']\n",
    "        }"
   ]
  },
  {
   "cell_type": "code",
   "execution_count": 26,
   "id": "6a05d5fd",
   "metadata": {
    "tags": []
   },
   "outputs": [],
   "source": [
    "matched_df = pd.DataFrame(reshuffled_dict).transpose()"
   ]
  },
  {
   "cell_type": "code",
   "execution_count": 27,
   "id": "943d5a49",
   "metadata": {
    "tags": []
   },
   "outputs": [
    {
     "data": {
      "text/html": [
       "<div>\n",
       "<style scoped>\n",
       "    .dataframe tbody tr th:only-of-type {\n",
       "        vertical-align: middle;\n",
       "    }\n",
       "\n",
       "    .dataframe tbody tr th {\n",
       "        vertical-align: top;\n",
       "    }\n",
       "\n",
       "    .dataframe thead th {\n",
       "        text-align: right;\n",
       "    }\n",
       "</style>\n",
       "<table border=\"1\" class=\"dataframe\">\n",
       "  <thead>\n",
       "    <tr style=\"text-align: right;\">\n",
       "      <th></th>\n",
       "      <th>FTID</th>\n",
       "      <th>formula</th>\n",
       "      <th>neutral_mass</th>\n",
       "      <th>short_name</th>\n",
       "      <th>ion_relation</th>\n",
       "      <th>interium_id</th>\n",
       "    </tr>\n",
       "  </thead>\n",
       "  <tbody>\n",
       "    <tr>\n",
       "      <th>F9994</th>\n",
       "      <td>F9994</td>\n",
       "      <td>C43H76NO10P</td>\n",
       "      <td>797.520687</td>\n",
       "      <td>PS 37:4</td>\n",
       "      <td>None</td>\n",
       "      <td>18057</td>\n",
       "    </tr>\n",
       "    <tr>\n",
       "      <th>F9995</th>\n",
       "      <td>F9995</td>\n",
       "      <td>C43H76NO10P</td>\n",
       "      <td>797.520687</td>\n",
       "      <td>PS 37:4</td>\n",
       "      <td>None</td>\n",
       "      <td>18058</td>\n",
       "    </tr>\n",
       "    <tr>\n",
       "      <th>F9997</th>\n",
       "      <td>F9997</td>\n",
       "      <td>C43H76NO10P</td>\n",
       "      <td>797.520687</td>\n",
       "      <td>PS 37:4</td>\n",
       "      <td>None</td>\n",
       "      <td>18059</td>\n",
       "    </tr>\n",
       "    <tr>\n",
       "      <th>F12378</th>\n",
       "      <td>F12378</td>\n",
       "      <td>C43H76NO10P</td>\n",
       "      <td>797.520687</td>\n",
       "      <td>PS 37:4</td>\n",
       "      <td>None</td>\n",
       "      <td>18060</td>\n",
       "    </tr>\n",
       "    <tr>\n",
       "      <th>F12379</th>\n",
       "      <td>F12379</td>\n",
       "      <td>C43H76NO10P</td>\n",
       "      <td>797.520687</td>\n",
       "      <td>PS 37:4</td>\n",
       "      <td>None</td>\n",
       "      <td>18061</td>\n",
       "    </tr>\n",
       "  </tbody>\n",
       "</table>\n",
       "</div>"
      ],
      "text/plain": [
       "          FTID      formula neutral_mass short_name ion_relation interium_id\n",
       "F9994    F9994  C43H76NO10P   797.520687    PS 37:4         None       18057\n",
       "F9995    F9995  C43H76NO10P   797.520687    PS 37:4         None       18058\n",
       "F9997    F9997  C43H76NO10P   797.520687    PS 37:4         None       18059\n",
       "F12378  F12378  C43H76NO10P   797.520687    PS 37:4         None       18060\n",
       "F12379  F12379  C43H76NO10P   797.520687    PS 37:4         None       18061"
      ]
     },
     "execution_count": 27,
     "metadata": {},
     "output_type": "execute_result"
    }
   ],
   "source": [
    "matched_df.head()"
   ]
  },
  {
   "cell_type": "code",
   "execution_count": 28,
   "id": "ebadeb03",
   "metadata": {
    "tags": []
   },
   "outputs": [],
   "source": [
    "matched_df.to_csv(os.path.join(output_dir,\"matched2targetPS.csv\"),sep = ',',index = False)"
   ]
  },
  {
   "cell_type": "markdown",
   "id": "7d8b0440",
   "metadata": {},
   "source": [
    "-----"
   ]
  },
  {
   "cell_type": "markdown",
   "id": "b98a8157",
   "metadata": {},
   "source": [
    "-----"
   ]
  },
  {
   "cell_type": "markdown",
   "id": "43c815e8",
   "metadata": {},
   "source": [
    "-----"
   ]
  },
  {
   "cell_type": "markdown",
   "id": "49e79bcf",
   "metadata": {},
   "source": [
    "-----"
   ]
  }
 ],
 "metadata": {
  "kernelspec": {
   "display_name": "Python 3 (ipykernel)",
   "language": "python",
   "name": "python3"
  },
  "language_info": {
   "codemirror_mode": {
    "name": "ipython",
    "version": 3
   },
   "file_extension": ".py",
   "mimetype": "text/x-python",
   "name": "python",
   "nbconvert_exporter": "python",
   "pygments_lexer": "ipython3",
   "version": "3.8.5"
  }
 },
 "nbformat": 4,
 "nbformat_minor": 5
}
