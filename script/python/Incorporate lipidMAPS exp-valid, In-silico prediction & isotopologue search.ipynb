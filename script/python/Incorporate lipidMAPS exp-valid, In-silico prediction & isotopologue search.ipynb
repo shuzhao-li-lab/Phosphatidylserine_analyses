{
 "cells": [
  {
   "cell_type": "markdown",
   "id": "8dbf10bb-3eed-44fe-b27d-0a5dcaa1920e",
   "metadata": {},
   "source": [
    "## Incorporate In-silico prediction & isotopologue search"
   ]
  },
  {
   "cell_type": "code",
   "execution_count": 1,
   "id": "9871f3ee-3971-4247-979a-5690210575e1",
   "metadata": {
    "tags": []
   },
   "outputs": [],
   "source": [
    "import json\n",
    "import pandas as pd"
   ]
  },
  {
   "cell_type": "code",
   "execution_count": 2,
   "id": "9b97e5fb-217f-4304-bb4c-a441943c667c",
   "metadata": {
    "tags": []
   },
   "outputs": [],
   "source": [
    "## missing the rtime range parameters\n",
    "df_feat = pd.read_csv(\"../../../asari-output-RPneg/output_asari_project_31312361/export/full_Feature_table.tsv\",\n",
    "                      sep = '\\t', index_col=0)"
   ]
  },
  {
   "cell_type": "code",
   "execution_count": 3,
   "id": "0dedd545-837f-4940-9db1-302f5bfc32ed",
   "metadata": {
    "tags": []
   },
   "outputs": [],
   "source": [
    "annot_dict = {}\n",
    "for ftID,row in df_feat.iterrows():\n",
    "    annot_dict.update({ftID:{}})\n",
    "    annot_dict[ftID]['mz'] = row['mz']\n",
    "    annot_dict[ftID]['rtime'] = row['rtime']\n",
    "    annot_dict[ftID]['rtime_left_base'] = row['rtime_left_base']\n",
    "    annot_dict[ftID]['rtime_right_base'] = row['rtime_right_base']\n",
    "    annot_dict[ftID]['cSelectivity'] = row['cSelectivity']\n",
    "    annot_dict[ftID]['goodness_fitting'] = row['goodness_fitting']\n",
    "    annot_dict[ftID]['snr'] = row['snr']\n",
    "    annot_dict[ftID]['annotation_evidence'] = {}"
   ]
  },
  {
   "cell_type": "code",
   "execution_count": 4,
   "id": "783636a6-33d3-4f3c-b898-a15c11b8138e",
   "metadata": {
    "tags": []
   },
   "outputs": [],
   "source": [
    "with open(\"../../reference/theoretical_PS_search_results_MG_3_24_2023.json\") as f:\n",
    "    PS2feature = json.load(f)"
   ]
  },
  {
   "cell_type": "code",
   "execution_count": 5,
   "id": "13d4ede1-8568-42a5-9964-0efbd931dd33",
   "metadata": {
    "tags": []
   },
   "outputs": [],
   "source": [
    "new_feat_list = []\n",
    "iso_feat_list = []\n",
    "for item in PS2feature:\n",
    "    if len(item['mz_only_hits'])>0:\n",
    "        new_feat_list.append(item)\n",
    "        if 'hits_isotopologue_chain' in item:\n",
    "            iso_feat_list.append(item)"
   ]
  },
  {
   "cell_type": "code",
   "execution_count": 6,
   "id": "1a292142-f120-4bce-9e2c-7c059dc05468",
   "metadata": {
    "tags": []
   },
   "outputs": [
    {
     "data": {
      "text/plain": [
       "{'name': 'PS 11:6',\n",
       " 'neutral_mass': 429.08248284315,\n",
       " 'formula': 'C17H20NO10P',\n",
       " 'formula_dict': {'C': 17, 'H': 20, 'O': 10, 'N': 1, 'P': 1},\n",
       " 'isomers': [],\n",
       " '[M-H+e]': 428.07520639082907,\n",
       " 'mz_only_hits': ['F4086']}"
      ]
     },
     "execution_count": 6,
     "metadata": {},
     "output_type": "execute_result"
    }
   ],
   "source": [
    "new_feat_list[0]"
   ]
  },
  {
   "cell_type": "code",
   "execution_count": 7,
   "id": "d23eed55-5876-487e-8864-40ced2e1b4c3",
   "metadata": {
    "tags": []
   },
   "outputs": [],
   "source": [
    "feat_wt_matches_dict = {}\n",
    "for item in new_feat_list:\n",
    "    for featID in item['mz_only_hits']:\n",
    "        temp_dict = {featID: {k:v for k,v in item.items() if 'mz_only_hits' not in k}}\n",
    "        \n",
    "        temp_dict[featID]['annotation_evidence'] = {'in-silico': \"1\"}\n",
    "        \n",
    "        feat_wt_matches_dict.update(temp_dict)"
   ]
  },
  {
   "cell_type": "code",
   "execution_count": 8,
   "id": "96262488-4d28-41c6-80e5-0db706a6b6ce",
   "metadata": {
    "tags": []
   },
   "outputs": [
    {
     "data": {
      "text/plain": [
       "('F1406',\n",
       " {'name': 'PS 12:3',\n",
       "  'neutral_mass': 449.14508310099,\n",
       "  'formula': 'C18H28NO10P',\n",
       "  'formula_dict': {'C': 18, 'H': 28, 'O': 10, 'N': 1, 'P': 1},\n",
       "  'isomers': [],\n",
       "  '[M-H+e]': 448.1378066486691,\n",
       "  'annotation_evidence': {'in-silico': '1'}})"
      ]
     },
     "execution_count": 8,
     "metadata": {},
     "output_type": "execute_result"
    }
   ],
   "source": [
    "list(feat_wt_matches_dict.items())[1]"
   ]
  },
  {
   "cell_type": "code",
   "execution_count": 9,
   "id": "ca65a0c9-e228-485f-8173-9d8e4a4c3764",
   "metadata": {
    "tags": []
   },
   "outputs": [
    {
     "name": "stdout",
     "output_type": "stream",
     "text": [
      "1144\n"
     ]
    }
   ],
   "source": [
    "print(len(list(feat_wt_matches_dict.items())))"
   ]
  },
  {
   "cell_type": "code",
   "execution_count": 10,
   "id": "bc7beb2a-4dc0-45c4-bd70-c3db6608df1b",
   "metadata": {
    "tags": []
   },
   "outputs": [],
   "source": [
    "feat_wt_isotopes_found = []\n",
    "for item in iso_feat_list:\n",
    "    for k,v in item['hits_isotopologue_chain'].items():\n",
    "        feat_wt_isotopes_found.extend(v['0'])"
   ]
  },
  {
   "cell_type": "code",
   "execution_count": 11,
   "id": "2725003c-4927-4fba-8cb9-ca60849f392d",
   "metadata": {
    "tags": []
   },
   "outputs": [],
   "source": [
    "for featID in feat_wt_isotopes_found:\n",
    "    if featID in feat_wt_matches_dict:\n",
    "        feat_wt_matches_dict[featID]['annotation_evidence']['isotopes'] = \"1\"\n",
    "    else:\n",
    "        print(featID)"
   ]
  },
  {
   "cell_type": "code",
   "execution_count": 12,
   "id": "84c09e8e-a606-4915-a7c0-8ed3b360ad7b",
   "metadata": {
    "tags": []
   },
   "outputs": [],
   "source": [
    "for k,v in annot_dict.items():\n",
    "    if k in feat_wt_matches_dict:\n",
    "        annot_dict[k].update(feat_wt_matches_dict[k])"
   ]
  },
  {
   "cell_type": "markdown",
   "id": "c64d394e-4374-4166-9521-c32c8e05e2e0",
   "metadata": {},
   "source": [
    "## incorporate lipidmaps experimental database"
   ]
  },
  {
   "cell_type": "code",
   "execution_count": 13,
   "id": "ef45676e-8c76-4497-9b82-eb5e1c92c840",
   "metadata": {
    "tags": []
   },
   "outputs": [],
   "source": [
    "lipid_db_matched_df = pd.read_csv(\"../../../RPneg-lipidomics/output/preproc_fultab_lab_targlist_79_rmTn750K/features_matched2targetPS_M-Honly.csv\",\n",
    "                                 index_col=0)"
   ]
  },
  {
   "cell_type": "code",
   "execution_count": 14,
   "id": "a01b2cba-33bf-4893-86ff-f097aa12ebda",
   "metadata": {
    "tags": []
   },
   "outputs": [
    {
     "data": {
      "text/plain": [
       "('F10004',\n",
       " {'mz': 796.5467,\n",
       "  'rtime': 373.01,\n",
       "  'rtime_left_base': 370.53,\n",
       "  'rtime_right_base': 375.49,\n",
       "  'cSelectivity': 0.7,\n",
       "  'goodness_fitting': 0.89,\n",
       "  'snr': 22.0,\n",
       "  'annotation_evidence': {'in-silico': '1'},\n",
       "  'name': 'LPS 38:4',\n",
       "  'neutral_mass': 797.55707015738,\n",
       "  'formula': 'C44H80NO9P',\n",
       "  'formula_dict': {'C': 44, 'H': 80, 'O': 9, 'N': 1, 'P': 1},\n",
       "  'isomers': ['PS O-38:4', 'LPS O-38:5;O'],\n",
       "  '[M-H+e]': 796.5497937050591})"
      ]
     },
     "execution_count": 14,
     "metadata": {},
     "output_type": "execute_result"
    }
   ],
   "source": [
    "list(annot_dict.items())[10003]"
   ]
  },
  {
   "cell_type": "code",
   "execution_count": 15,
   "id": "15a87fcc-ab48-45fd-84e6-b57212ec6a06",
   "metadata": {
    "tags": []
   },
   "outputs": [],
   "source": [
    "for ftID,row in lipid_db_matched_df.iterrows():\n",
    "    annot_dict[ftID]['name'] = row['short_name']\n",
    "    annot_dict[ftID]['neutral_mass'] = row['neutral_mass']\n",
    "    annot_dict[ftID]['formula'] = row['formula']\n",
    "    annot_dict[ftID]['annotation_evidence'].update({'LMSD':\"1\"})"
   ]
  },
  {
   "cell_type": "code",
   "execution_count": 16,
   "id": "7354db49-a101-40a7-98d4-dff69b6ae0a8",
   "metadata": {
    "tags": []
   },
   "outputs": [],
   "source": [
    "PSonly_annot_dict = {}\n",
    "for ftID,v in annot_dict.items():\n",
    "    if len(v['annotation_evidence']) > 0:\n",
    "        PSonly_annot_dict.update({ftID:v})"
   ]
  },
  {
   "cell_type": "code",
   "execution_count": 17,
   "id": "a0b2100f-6d45-470c-9527-71b361c190a7",
   "metadata": {
    "tags": []
   },
   "outputs": [
    {
     "data": {
      "text/plain": [
       "1147"
      ]
     },
     "execution_count": 17,
     "metadata": {},
     "output_type": "execute_result"
    }
   ],
   "source": [
    "len(list(PSonly_annot_dict.items()))"
   ]
  },
  {
   "cell_type": "code",
   "execution_count": 18,
   "id": "e870de56-47f9-4ed2-8761-50c0f98e7667",
   "metadata": {
    "tags": []
   },
   "outputs": [
    {
     "data": {
      "text/plain": [
       "99"
      ]
     },
     "execution_count": 18,
     "metadata": {},
     "output_type": "execute_result"
    }
   ],
   "source": [
    "len([k for k,v in PSonly_annot_dict.items() if len(v['annotation_evidence'].keys()) == 3 ])"
   ]
  },
  {
   "cell_type": "code",
   "execution_count": 19,
   "id": "20b65497-c781-4b76-a8a7-36928ecd51d9",
   "metadata": {
    "tags": []
   },
   "outputs": [],
   "source": [
    "with open(\"./chainable_annotations.json\", \"w\") as f:\n",
    "    json.dump(PSonly_annot_dict, f, indent=2)"
   ]
  },
  {
   "cell_type": "code",
   "execution_count": 20,
   "id": "3be3ab42-bc3f-4372-bca5-03c769875841",
   "metadata": {
    "tags": []
   },
   "outputs": [],
   "source": [
    "threeLevelConf_dict = {k:v for k,v in PSonly_annot_dict.items() if (len(v['annotation_evidence'].keys()) == 3) & (200 < v['rtime'] < 500)}"
   ]
  },
  {
   "cell_type": "code",
   "execution_count": 21,
   "id": "067600f3-0898-4349-9749-4578bed64616",
   "metadata": {
    "tags": []
   },
   "outputs": [],
   "source": [
    "with open(\"./highConf_level4_chainable_annotations.json\", \"w\") as f:\n",
    "    json.dump(threeLevelConf_dict, f, indent=2)"
   ]
  }
 ],
 "metadata": {
  "kernelspec": {
   "display_name": "Python 3 (ipykernel)",
   "language": "python",
   "name": "python3"
  },
  "language_info": {
   "codemirror_mode": {
    "name": "ipython",
    "version": 3
   },
   "file_extension": ".py",
   "mimetype": "text/x-python",
   "name": "python",
   "nbconvert_exporter": "python",
   "pygments_lexer": "ipython3",
   "version": "3.10.9"
  }
 },
 "nbformat": 4,
 "nbformat_minor": 5
}
