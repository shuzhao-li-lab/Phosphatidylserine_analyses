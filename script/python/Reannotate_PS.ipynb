{
 "cells": [
  {
   "cell_type": "markdown",
   "id": "dda390cf",
   "metadata": {},
   "source": [
    "# reannotate the PS label and selections\n",
    "- Previous PS_lab or PS_sel has issues with `asari extract`\n",
    "- Thus need to redo them separately"
   ]
  },
  {
   "cell_type": "code",
   "execution_count": 1,
   "id": "6bbd3256",
   "metadata": {},
   "outputs": [],
   "source": [
    "import pandas as pd"
   ]
  },
  {
   "cell_type": "code",
   "execution_count": 2,
   "id": "f85d51f5",
   "metadata": {},
   "outputs": [],
   "source": [
    "targeted_matched_df = pd.read_csv(\"../../output/preproc_fultab_lab_targlist_79_rmTn750K/features_matched2targetPS_M-Honly.csv\", index_col= 0)"
   ]
  },
  {
   "cell_type": "code",
   "execution_count": 3,
   "id": "e714fe91",
   "metadata": {},
   "outputs": [
    {
     "data": {
      "text/html": [
       "<div>\n",
       "<style scoped>\n",
       "    .dataframe tbody tr th:only-of-type {\n",
       "        vertical-align: middle;\n",
       "    }\n",
       "\n",
       "    .dataframe tbody tr th {\n",
       "        vertical-align: top;\n",
       "    }\n",
       "\n",
       "    .dataframe thead th {\n",
       "        text-align: right;\n",
       "    }\n",
       "</style>\n",
       "<table border=\"1\" class=\"dataframe\">\n",
       "  <thead>\n",
       "    <tr style=\"text-align: right;\">\n",
       "      <th></th>\n",
       "      <th>formula</th>\n",
       "      <th>neutral_mass</th>\n",
       "      <th>short_name</th>\n",
       "    </tr>\n",
       "    <tr>\n",
       "      <th>FTID</th>\n",
       "      <th></th>\n",
       "      <th></th>\n",
       "      <th></th>\n",
       "    </tr>\n",
       "  </thead>\n",
       "  <tbody>\n",
       "    <tr>\n",
       "      <th>F9996</th>\n",
       "      <td>C43H76NO10P</td>\n",
       "      <td>797.520687</td>\n",
       "      <td>PS 37:4</td>\n",
       "    </tr>\n",
       "    <tr>\n",
       "      <th>F9994</th>\n",
       "      <td>C43H76NO10P</td>\n",
       "      <td>797.520687</td>\n",
       "      <td>PS 37:4</td>\n",
       "    </tr>\n",
       "    <tr>\n",
       "      <th>F9995</th>\n",
       "      <td>C43H76NO10P</td>\n",
       "      <td>797.520687</td>\n",
       "      <td>PS 37:4</td>\n",
       "    </tr>\n",
       "    <tr>\n",
       "      <th>F9997</th>\n",
       "      <td>C43H76NO10P</td>\n",
       "      <td>797.520687</td>\n",
       "      <td>PS 37:4</td>\n",
       "    </tr>\n",
       "    <tr>\n",
       "      <th>F14243</th>\n",
       "      <td>C49H84NO10P</td>\n",
       "      <td>877.583287</td>\n",
       "      <td>PS 43:6</td>\n",
       "    </tr>\n",
       "  </tbody>\n",
       "</table>\n",
       "</div>"
      ],
      "text/plain": [
       "            formula  neutral_mass short_name\n",
       "FTID                                        \n",
       "F9996   C43H76NO10P    797.520687    PS 37:4\n",
       "F9994   C43H76NO10P    797.520687    PS 37:4\n",
       "F9995   C43H76NO10P    797.520687    PS 37:4\n",
       "F9997   C43H76NO10P    797.520687    PS 37:4\n",
       "F14243  C49H84NO10P    877.583287    PS 43:6"
      ]
     },
     "execution_count": 3,
     "metadata": {},
     "output_type": "execute_result"
    }
   ],
   "source": [
    "targeted_matched_df.head(5)"
   ]
  },
  {
   "cell_type": "code",
   "execution_count": 4,
   "id": "f17240a2",
   "metadata": {},
   "outputs": [],
   "source": [
    "annot_df = pd.read_csv(\"../../../asari-output-RPneg/output_asari_project_31312361/Feature_annotation.tsv\", \n",
    "                       sep  = '\\t', index_col=0)"
   ]
  },
  {
   "cell_type": "code",
   "execution_count": 5,
   "id": "792c7410",
   "metadata": {},
   "outputs": [],
   "source": [
    "# Drop duplicate rows based on index\n",
    "annot_df = annot_df.loc[~annot_df.index.duplicated(keep='first')]"
   ]
  },
  {
   "cell_type": "code",
   "execution_count": 6,
   "id": "f7bee157",
   "metadata": {},
   "outputs": [
    {
     "data": {
      "text/html": [
       "<div>\n",
       "<style scoped>\n",
       "    .dataframe tbody tr th:only-of-type {\n",
       "        vertical-align: middle;\n",
       "    }\n",
       "\n",
       "    .dataframe tbody tr th {\n",
       "        vertical-align: top;\n",
       "    }\n",
       "\n",
       "    .dataframe thead th {\n",
       "        text-align: right;\n",
       "    }\n",
       "</style>\n",
       "<table border=\"1\" class=\"dataframe\">\n",
       "  <thead>\n",
       "    <tr style=\"text-align: right;\">\n",
       "      <th></th>\n",
       "      <th>mz</th>\n",
       "      <th>rtime</th>\n",
       "      <th>apex(scan number)</th>\n",
       "      <th>[EmpCpd]interim_id</th>\n",
       "    </tr>\n",
       "    <tr>\n",
       "      <th>[peak]id_number</th>\n",
       "      <th></th>\n",
       "      <th></th>\n",
       "      <th></th>\n",
       "      <th></th>\n",
       "    </tr>\n",
       "  </thead>\n",
       "  <tbody>\n",
       "    <tr>\n",
       "      <th>F22</th>\n",
       "      <td>505.150330</td>\n",
       "      <td>140.614329</td>\n",
       "      <td>626</td>\n",
       "      <td>kp1_506.1566</td>\n",
       "    </tr>\n",
       "    <tr>\n",
       "      <th>F144</th>\n",
       "      <td>506.151741</td>\n",
       "      <td>140.614329</td>\n",
       "      <td>626</td>\n",
       "      <td>kp1_506.1566</td>\n",
       "    </tr>\n",
       "    <tr>\n",
       "      <th>F190</th>\n",
       "      <td>401.305092</td>\n",
       "      <td>149.563090</td>\n",
       "      <td>666</td>\n",
       "      <td>kp2_401.3091</td>\n",
       "    </tr>\n",
       "    <tr>\n",
       "      <th>F24</th>\n",
       "      <td>400.301849</td>\n",
       "      <td>149.563090</td>\n",
       "      <td>666</td>\n",
       "      <td>kp2_401.3091</td>\n",
       "    </tr>\n",
       "    <tr>\n",
       "      <th>F193</th>\n",
       "      <td>401.309975</td>\n",
       "      <td>189.834108</td>\n",
       "      <td>850</td>\n",
       "      <td>kp3_401.3133</td>\n",
       "    </tr>\n",
       "  </tbody>\n",
       "</table>\n",
       "</div>"
      ],
      "text/plain": [
       "                         mz       rtime  apex(scan number) [EmpCpd]interim_id\n",
       "[peak]id_number                                                              \n",
       "F22              505.150330  140.614329                626       kp1_506.1566\n",
       "F144             506.151741  140.614329                626       kp1_506.1566\n",
       "F190             401.305092  149.563090                666       kp2_401.3091\n",
       "F24              400.301849  149.563090                666       kp2_401.3091\n",
       "F193             401.309975  189.834108                850       kp3_401.3133"
      ]
     },
     "execution_count": 6,
     "metadata": {},
     "output_type": "execute_result"
    }
   ],
   "source": [
    "annot_df.iloc[:,0:4].head()"
   ]
  },
  {
   "cell_type": "code",
   "execution_count": 20,
   "id": "b74a3ccb",
   "metadata": {},
   "outputs": [],
   "source": [
    "m_tar_matched_df = pd.merge(targeted_matched_df,\n",
    "                             annot_df,\n",
    "                             left_index = True,\n",
    "                             right_index = True,\n",
    "                             how = \"left\")"
   ]
  },
  {
   "cell_type": "code",
   "execution_count": 21,
   "id": "9862b547",
   "metadata": {},
   "outputs": [],
   "source": [
    "m_tar_matched_df.to_csv(\"../../output/preproc_fultab_lab_targlist_79_rmTn750K/features_matched2targetPS_M-Honly_wtMzRt.csv\")"
   ]
  },
  {
   "cell_type": "code",
   "execution_count": 7,
   "id": "16d508ae",
   "metadata": {},
   "outputs": [
    {
     "data": {
      "text/plain": [
       "(262, 3)"
      ]
     },
     "execution_count": 7,
     "metadata": {},
     "output_type": "execute_result"
    }
   ],
   "source": [
    "targeted_matched_df.shape"
   ]
  },
  {
   "cell_type": "code",
   "execution_count": 8,
   "id": "2250138e",
   "metadata": {},
   "outputs": [],
   "source": [
    "targeted_matched_df_upd = pd.merge(targeted_matched_df,annot_df.iloc[:,0:4],left_index=True,right_index=True, how = 'left')"
   ]
  },
  {
   "cell_type": "code",
   "execution_count": 9,
   "id": "7c45c7e1",
   "metadata": {},
   "outputs": [
    {
     "data": {
      "text/html": [
       "<div>\n",
       "<style scoped>\n",
       "    .dataframe tbody tr th:only-of-type {\n",
       "        vertical-align: middle;\n",
       "    }\n",
       "\n",
       "    .dataframe tbody tr th {\n",
       "        vertical-align: top;\n",
       "    }\n",
       "\n",
       "    .dataframe thead th {\n",
       "        text-align: right;\n",
       "    }\n",
       "</style>\n",
       "<table border=\"1\" class=\"dataframe\">\n",
       "  <thead>\n",
       "    <tr style=\"text-align: right;\">\n",
       "      <th></th>\n",
       "      <th>formula</th>\n",
       "      <th>neutral_mass</th>\n",
       "      <th>short_name</th>\n",
       "      <th>mz</th>\n",
       "      <th>rtime</th>\n",
       "      <th>apex(scan number)</th>\n",
       "      <th>[EmpCpd]interim_id</th>\n",
       "    </tr>\n",
       "    <tr>\n",
       "      <th>FTID</th>\n",
       "      <th></th>\n",
       "      <th></th>\n",
       "      <th></th>\n",
       "      <th></th>\n",
       "      <th></th>\n",
       "      <th></th>\n",
       "      <th></th>\n",
       "    </tr>\n",
       "  </thead>\n",
       "  <tbody>\n",
       "    <tr>\n",
       "      <th>F9996</th>\n",
       "      <td>C43H76NO10P</td>\n",
       "      <td>797.520687</td>\n",
       "      <td>PS 37:4</td>\n",
       "      <td>796.513412</td>\n",
       "      <td>247.572266</td>\n",
       "      <td>1119</td>\n",
       "      <td>kp1701_795.5159</td>\n",
       "    </tr>\n",
       "    <tr>\n",
       "      <th>F9994</th>\n",
       "      <td>C43H76NO10P</td>\n",
       "      <td>797.520687</td>\n",
       "      <td>PS 37:4</td>\n",
       "      <td>796.513412</td>\n",
       "      <td>69.724569</td>\n",
       "      <td>310</td>\n",
       "      <td>18057</td>\n",
       "    </tr>\n",
       "    <tr>\n",
       "      <th>F9995</th>\n",
       "      <td>C43H76NO10P</td>\n",
       "      <td>797.520687</td>\n",
       "      <td>PS 37:4</td>\n",
       "      <td>796.513412</td>\n",
       "      <td>231.765959</td>\n",
       "      <td>1045</td>\n",
       "      <td>18058</td>\n",
       "    </tr>\n",
       "    <tr>\n",
       "      <th>F9997</th>\n",
       "      <td>C43H76NO10P</td>\n",
       "      <td>797.520687</td>\n",
       "      <td>PS 37:4</td>\n",
       "      <td>796.513412</td>\n",
       "      <td>314.774139</td>\n",
       "      <td>1438</td>\n",
       "      <td>18059</td>\n",
       "    </tr>\n",
       "    <tr>\n",
       "      <th>F14243</th>\n",
       "      <td>C49H84NO10P</td>\n",
       "      <td>877.583287</td>\n",
       "      <td>PS 43:6</td>\n",
       "      <td>876.571709</td>\n",
       "      <td>369.491301</td>\n",
       "      <td>1702</td>\n",
       "      <td>kp2224_816.6371</td>\n",
       "    </tr>\n",
       "  </tbody>\n",
       "</table>\n",
       "</div>"
      ],
      "text/plain": [
       "            formula  neutral_mass short_name          mz       rtime  \\\n",
       "FTID                                                                   \n",
       "F9996   C43H76NO10P    797.520687    PS 37:4  796.513412  247.572266   \n",
       "F9994   C43H76NO10P    797.520687    PS 37:4  796.513412   69.724569   \n",
       "F9995   C43H76NO10P    797.520687    PS 37:4  796.513412  231.765959   \n",
       "F9997   C43H76NO10P    797.520687    PS 37:4  796.513412  314.774139   \n",
       "F14243  C49H84NO10P    877.583287    PS 43:6  876.571709  369.491301   \n",
       "\n",
       "        apex(scan number) [EmpCpd]interim_id  \n",
       "FTID                                          \n",
       "F9996                1119    kp1701_795.5159  \n",
       "F9994                 310              18057  \n",
       "F9995                1045              18058  \n",
       "F9997                1438              18059  \n",
       "F14243               1702    kp2224_816.6371  "
      ]
     },
     "execution_count": 9,
     "metadata": {},
     "output_type": "execute_result"
    }
   ],
   "source": [
    "targeted_matched_df_upd.head()"
   ]
  },
  {
   "cell_type": "code",
   "execution_count": 10,
   "id": "fb639928",
   "metadata": {},
   "outputs": [],
   "source": [
    "feat_df = pd.read_csv(\"../../output/preproc_fultab_lab_targlist_79_rmTn750K/FC_log2_hMinImp_TICn_groupFil0.3_RPneg_blkM_featab.csv\",\n",
    "           index_col = 0)"
   ]
  },
  {
   "cell_type": "code",
   "execution_count": 11,
   "id": "d8fd7e9f",
   "metadata": {},
   "outputs": [],
   "source": [
    "PS_lab_feat_df = pd.merge(targeted_matched_df_upd, feat_df, left_index=True,right_index=True, how = 'right')"
   ]
  },
  {
   "cell_type": "code",
   "execution_count": 12,
   "id": "9d253582",
   "metadata": {},
   "outputs": [],
   "source": [
    "PS_sel_feat_df = pd.merge(targeted_matched_df_upd, feat_df, left_index=True,right_index=True, how = 'inner')"
   ]
  },
  {
   "cell_type": "code",
   "execution_count": 13,
   "id": "df9b6de8",
   "metadata": {},
   "outputs": [
    {
     "data": {
      "text/plain": [
       "(104, 28)"
      ]
     },
     "execution_count": 13,
     "metadata": {},
     "output_type": "execute_result"
    }
   ],
   "source": [
    "# PS_sel_feat_df.head()\n",
    "PS_sel_feat_df.shape"
   ]
  },
  {
   "cell_type": "code",
   "execution_count": 14,
   "id": "2aa3f8ea",
   "metadata": {},
   "outputs": [],
   "source": [
    "PS_lab_feat_df.to_csv(\"../../output/preproc_fultab_lab_targlist_79_rmTn750K/updPSlab_FC_log2_hMinImp_TICn_groupFil0.3_RPneg_blkM_featab.csv\")\n",
    "PS_sel_feat_df.to_csv(\"../../output/preproc_fultab_lab_targlist_79_rmTn750K/updPSsel_FC_log2_hMinImp_TICn_groupFil0.3_RPneg_blkM_featab.csv\")"
   ]
  },
  {
   "cell_type": "markdown",
   "id": "65f2439d",
   "metadata": {},
   "source": [
    "-------"
   ]
  },
  {
   "cell_type": "markdown",
   "id": "e7508a96",
   "metadata": {},
   "source": [
    "-------"
   ]
  },
  {
   "cell_type": "markdown",
   "id": "0a9b167e",
   "metadata": {},
   "source": [
    "-------"
   ]
  },
  {
   "cell_type": "markdown",
   "id": "cb529e89",
   "metadata": {},
   "source": [
    "-----"
   ]
  },
  {
   "cell_type": "code",
   "execution_count": 15,
   "id": "0f2abd11",
   "metadata": {},
   "outputs": [],
   "source": [
    "stat_df = pd.read_csv(\"../../output/hMinImp_TICnorm_groupFil0.3_RPneg_1wayANOVA/one_wayANOVA_hMinImp_TICnorm_groupFil0.3_RPneg_fullreport.csv\",\n",
    "                index_col = 0)"
   ]
  },
  {
   "cell_type": "code",
   "execution_count": 16,
   "id": "f23b5099",
   "metadata": {},
   "outputs": [],
   "source": [
    "PS_lab_stat_df = pd.merge(targeted_matched_df_upd,stat_df,left_index=True,right_index=True, how = 'right')"
   ]
  },
  {
   "cell_type": "code",
   "execution_count": 17,
   "id": "2c83fa59",
   "metadata": {},
   "outputs": [],
   "source": [
    "PS_sel_stat_df = pd.merge(targeted_matched_df_upd,stat_df,left_index=True,right_index=True, how = 'inner')"
   ]
  },
  {
   "cell_type": "code",
   "execution_count": 18,
   "id": "81964c49",
   "metadata": {},
   "outputs": [],
   "source": [
    "PS_lab_stat_df.to_csv(\"../../output/hMinImp_TICnorm_groupFil0.3_RPneg_1wayANOVA/updPS_lab_one_wayANOVA_hMinImp_TICnorm_groupFil0.3_RPneg_fullreport.csv\")\n",
    "PS_sel_stat_df.to_csv(\"../../output/hMinImp_TICnorm_groupFil0.3_RPneg_1wayANOVA/updPS_sel_one_wayANOVA_hMinImp_TICnorm_groupFil0.3_RPneg_fullreport.csv\")"
   ]
  }
 ],
 "metadata": {
  "kernelspec": {
   "display_name": "Python 3 (ipykernel)",
   "language": "python",
   "name": "python3"
  },
  "language_info": {
   "codemirror_mode": {
    "name": "ipython",
    "version": 3
   },
   "file_extension": ".py",
   "mimetype": "text/x-python",
   "name": "python",
   "nbconvert_exporter": "python",
   "pygments_lexer": "ipython3",
   "version": "3.8.5"
  }
 },
 "nbformat": 4,
 "nbformat_minor": 5
}
