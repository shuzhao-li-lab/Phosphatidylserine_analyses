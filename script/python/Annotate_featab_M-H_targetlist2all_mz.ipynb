{
 "cells": [
  {
   "cell_type": "markdown",
   "id": "39ead2e5",
   "metadata": {
    "tags": []
   },
   "source": [
    "# Do targeted search in asari output\n",
    "- This is an example to perform targeted search in asari output feature table\n",
    "- search for PS species"
   ]
  },
  {
   "cell_type": "code",
   "execution_count": 1,
   "id": "2469d54b",
   "metadata": {
    "tags": []
   },
   "outputs": [],
   "source": [
    "# !pip install -q --upgrade mass2chem khipu-metabolomics jms-metabolite-services"
   ]
  },
  {
   "cell_type": "code",
   "execution_count": 2,
   "id": "b2275c22",
   "metadata": {
    "tags": []
   },
   "outputs": [],
   "source": [
    "import json\n",
    "import numpy as np\n",
    "import pandas as pd\n",
    "\n",
    "from mass2chem.search import build_centurion_tree, find_all_matches_centurion_indexed_list"
   ]
  },
  {
   "cell_type": "code",
   "execution_count": 3,
   "id": "64b85a77",
   "metadata": {
    "tags": []
   },
   "outputs": [],
   "source": [
    "import os\n",
    "output_dir = '../../output/preproc_fultab_lab_targlist_79_rmTn750K/' # here I just used the original asari output\n",
    "try:\n",
    "    os.mkdir(output_dir)\n",
    "except:\n",
    "    None"
   ]
  },
  {
   "cell_type": "code",
   "execution_count": 4,
   "id": "b133848a",
   "metadata": {
    "tags": []
   },
   "outputs": [],
   "source": [
    "annot_df = pd.read_csv(\"../../../asari-output-RPneg/output_asari_project_31312361/Feature_annotation.tsv\", sep = '\\t')\n",
    "target_df = pd.read_excel(\"../../../target_list/PS_target_list_to_Minghao_corr.xlsx\")"
   ]
  },
  {
   "cell_type": "code",
   "execution_count": 5,
   "id": "110fe33f",
   "metadata": {
    "tags": []
   },
   "outputs": [
    {
     "data": {
      "text/html": [
       "<div>\n",
       "<style scoped>\n",
       "    .dataframe tbody tr th:only-of-type {\n",
       "        vertical-align: middle;\n",
       "    }\n",
       "\n",
       "    .dataframe tbody tr th {\n",
       "        vertical-align: top;\n",
       "    }\n",
       "\n",
       "    .dataframe thead th {\n",
       "        text-align: right;\n",
       "    }\n",
       "</style>\n",
       "<table border=\"1\" class=\"dataframe\">\n",
       "  <thead>\n",
       "    <tr style=\"text-align: right;\">\n",
       "      <th></th>\n",
       "      <th>Common Name</th>\n",
       "      <th>Systematic Name</th>\n",
       "      <th>Species Shorthand</th>\n",
       "      <th>Neutral_Mass</th>\n",
       "      <th>proton</th>\n",
       "      <th>[M-H]-</th>\n",
       "      <th>Formula</th>\n",
       "    </tr>\n",
       "  </thead>\n",
       "  <tbody>\n",
       "    <tr>\n",
       "      <th>0</th>\n",
       "      <td>PS(12:0/13:0)</td>\n",
       "      <td>1-dodecanoyl-2-tridecanoyl-sn-glycero-3-phosph...</td>\n",
       "      <td>PS 25:0</td>\n",
       "      <td>637.395487</td>\n",
       "      <td>1.007276</td>\n",
       "      <td>636.388211</td>\n",
       "      <td>C31H60NO10P</td>\n",
       "    </tr>\n",
       "    <tr>\n",
       "      <th>1</th>\n",
       "      <td>PS(17:0/20:4(5Z,8Z,11Z,14Z))</td>\n",
       "      <td>1-heptadecanoyl, 2-(5Z,8Z,11Z,14Z-eicosatetrae...</td>\n",
       "      <td>PS 37:4</td>\n",
       "      <td>797.520687</td>\n",
       "      <td>1.007276</td>\n",
       "      <td>796.513411</td>\n",
       "      <td>C43H76NO10P</td>\n",
       "    </tr>\n",
       "    <tr>\n",
       "      <th>2</th>\n",
       "      <td>PS(21:0/22:6(4Z,7Z,10Z,13Z,16Z,19Z))</td>\n",
       "      <td>1-heneicosanoyl-2-(4Z,7Z,10Z,13Z,16Z,19Z-docos...</td>\n",
       "      <td>PS 43:6</td>\n",
       "      <td>877.583287</td>\n",
       "      <td>1.007276</td>\n",
       "      <td>876.576011</td>\n",
       "      <td>C49H84NO10P</td>\n",
       "    </tr>\n",
       "    <tr>\n",
       "      <th>3</th>\n",
       "      <td>PS(17:0/14:1(9Z))</td>\n",
       "      <td>1-heptadecanoyl-2-(9Z-tetradecenoyl)-sn-glycer...</td>\n",
       "      <td>PS 31:1</td>\n",
       "      <td>719.473737</td>\n",
       "      <td>1.007276</td>\n",
       "      <td>718.466461</td>\n",
       "      <td>C37H70NO10P</td>\n",
       "    </tr>\n",
       "    <tr>\n",
       "      <th>4</th>\n",
       "      <td>PS(16:0/18:1(11Z))</td>\n",
       "      <td>1-hexadecanoyl-2-(11Z-octadecenoyl)-sn-glycero...</td>\n",
       "      <td>PS 34:1</td>\n",
       "      <td>761.520687</td>\n",
       "      <td>1.007276</td>\n",
       "      <td>760.513411</td>\n",
       "      <td>C40H76NO10P</td>\n",
       "    </tr>\n",
       "  </tbody>\n",
       "</table>\n",
       "</div>"
      ],
      "text/plain": [
       "                            Common Name  \\\n",
       "0                         PS(12:0/13:0)   \n",
       "1          PS(17:0/20:4(5Z,8Z,11Z,14Z))   \n",
       "2  PS(21:0/22:6(4Z,7Z,10Z,13Z,16Z,19Z))   \n",
       "3                     PS(17:0/14:1(9Z))   \n",
       "4                    PS(16:0/18:1(11Z))   \n",
       "\n",
       "                                     Systematic Name Species Shorthand  \\\n",
       "0  1-dodecanoyl-2-tridecanoyl-sn-glycero-3-phosph...           PS 25:0   \n",
       "1  1-heptadecanoyl, 2-(5Z,8Z,11Z,14Z-eicosatetrae...           PS 37:4   \n",
       "2  1-heneicosanoyl-2-(4Z,7Z,10Z,13Z,16Z,19Z-docos...           PS 43:6   \n",
       "3  1-heptadecanoyl-2-(9Z-tetradecenoyl)-sn-glycer...           PS 31:1   \n",
       "4  1-hexadecanoyl-2-(11Z-octadecenoyl)-sn-glycero...           PS 34:1   \n",
       "\n",
       "   Neutral_Mass    proton      [M-H]-      Formula  \n",
       "0    637.395487  1.007276  636.388211  C31H60NO10P  \n",
       "1    797.520687  1.007276  796.513411  C43H76NO10P  \n",
       "2    877.583287  1.007276  876.576011  C49H84NO10P  \n",
       "3    719.473737  1.007276  718.466461  C37H70NO10P  \n",
       "4    761.520687  1.007276  760.513411  C40H76NO10P  "
      ]
     },
     "execution_count": 5,
     "metadata": {},
     "output_type": "execute_result"
    }
   ],
   "source": [
    "target_df.head()"
   ]
  },
  {
   "cell_type": "code",
   "execution_count": 6,
   "id": "620cc0f5",
   "metadata": {},
   "outputs": [],
   "source": [
    "annot_df.index = annot_df['[peak]id_number']\n",
    "\n",
    "# Drop duplicate rows based on index\n",
    "annot_df = annot_df.loc[~annot_df.index.duplicated(keep='first')]\n",
    "\n",
    "# Convert selected columns to a dictionary with unique index as keys\n",
    "features = [{'id':row['[peak]id_number'],\n",
    "             'mz':row['mz'],\n",
    "             'rt':row['rtime']} for i,row in annot_df.iterrows()]"
   ]
  },
  {
   "cell_type": "code",
   "execution_count": 7,
   "id": "63454455",
   "metadata": {
    "tags": []
   },
   "outputs": [
    {
     "data": {
      "text/plain": [
       "[{'id': 'F22', 'mz': 505.1503296, 'rt': 140.6143289},\n",
       " {'id': 'F144', 'mz': 506.151741, 'rt': 140.6143289}]"
      ]
     },
     "execution_count": 7,
     "metadata": {},
     "output_type": "execute_result"
    }
   ],
   "source": [
    "features[0:2]"
   ]
  },
  {
   "cell_type": "code",
   "execution_count": 8,
   "id": "66851bb3",
   "metadata": {
    "tags": []
   },
   "outputs": [
    {
     "data": {
      "text/html": [
       "<div>\n",
       "<style scoped>\n",
       "    .dataframe tbody tr th:only-of-type {\n",
       "        vertical-align: middle;\n",
       "    }\n",
       "\n",
       "    .dataframe tbody tr th {\n",
       "        vertical-align: top;\n",
       "    }\n",
       "\n",
       "    .dataframe thead th {\n",
       "        text-align: right;\n",
       "    }\n",
       "</style>\n",
       "<table border=\"1\" class=\"dataframe\">\n",
       "  <thead>\n",
       "    <tr style=\"text-align: right;\">\n",
       "      <th></th>\n",
       "      <th>Common Name</th>\n",
       "      <th>Systematic Name</th>\n",
       "      <th>Species Shorthand</th>\n",
       "      <th>Neutral_Mass</th>\n",
       "      <th>proton</th>\n",
       "      <th>[M-H]-</th>\n",
       "      <th>Formula</th>\n",
       "    </tr>\n",
       "  </thead>\n",
       "  <tbody>\n",
       "    <tr>\n",
       "      <th>0</th>\n",
       "      <td>PS(12:0/13:0)</td>\n",
       "      <td>1-dodecanoyl-2-tridecanoyl-sn-glycero-3-phosph...</td>\n",
       "      <td>PS 25:0</td>\n",
       "      <td>637.395487</td>\n",
       "      <td>1.007276</td>\n",
       "      <td>636.388211</td>\n",
       "      <td>C31H60NO10P</td>\n",
       "    </tr>\n",
       "    <tr>\n",
       "      <th>1</th>\n",
       "      <td>PS(17:0/20:4(5Z,8Z,11Z,14Z))</td>\n",
       "      <td>1-heptadecanoyl, 2-(5Z,8Z,11Z,14Z-eicosatetrae...</td>\n",
       "      <td>PS 37:4</td>\n",
       "      <td>797.520687</td>\n",
       "      <td>1.007276</td>\n",
       "      <td>796.513411</td>\n",
       "      <td>C43H76NO10P</td>\n",
       "    </tr>\n",
       "    <tr>\n",
       "      <th>2</th>\n",
       "      <td>PS(21:0/22:6(4Z,7Z,10Z,13Z,16Z,19Z))</td>\n",
       "      <td>1-heneicosanoyl-2-(4Z,7Z,10Z,13Z,16Z,19Z-docos...</td>\n",
       "      <td>PS 43:6</td>\n",
       "      <td>877.583287</td>\n",
       "      <td>1.007276</td>\n",
       "      <td>876.576011</td>\n",
       "      <td>C49H84NO10P</td>\n",
       "    </tr>\n",
       "    <tr>\n",
       "      <th>3</th>\n",
       "      <td>PS(17:0/14:1(9Z))</td>\n",
       "      <td>1-heptadecanoyl-2-(9Z-tetradecenoyl)-sn-glycer...</td>\n",
       "      <td>PS 31:1</td>\n",
       "      <td>719.473737</td>\n",
       "      <td>1.007276</td>\n",
       "      <td>718.466461</td>\n",
       "      <td>C37H70NO10P</td>\n",
       "    </tr>\n",
       "    <tr>\n",
       "      <th>4</th>\n",
       "      <td>PS(16:0/18:1(11Z))</td>\n",
       "      <td>1-hexadecanoyl-2-(11Z-octadecenoyl)-sn-glycero...</td>\n",
       "      <td>PS 34:1</td>\n",
       "      <td>761.520687</td>\n",
       "      <td>1.007276</td>\n",
       "      <td>760.513411</td>\n",
       "      <td>C40H76NO10P</td>\n",
       "    </tr>\n",
       "  </tbody>\n",
       "</table>\n",
       "</div>"
      ],
      "text/plain": [
       "                            Common Name  \\\n",
       "0                         PS(12:0/13:0)   \n",
       "1          PS(17:0/20:4(5Z,8Z,11Z,14Z))   \n",
       "2  PS(21:0/22:6(4Z,7Z,10Z,13Z,16Z,19Z))   \n",
       "3                     PS(17:0/14:1(9Z))   \n",
       "4                    PS(16:0/18:1(11Z))   \n",
       "\n",
       "                                     Systematic Name Species Shorthand  \\\n",
       "0  1-dodecanoyl-2-tridecanoyl-sn-glycero-3-phosph...           PS 25:0   \n",
       "1  1-heptadecanoyl, 2-(5Z,8Z,11Z,14Z-eicosatetrae...           PS 37:4   \n",
       "2  1-heneicosanoyl-2-(4Z,7Z,10Z,13Z,16Z,19Z-docos...           PS 43:6   \n",
       "3  1-heptadecanoyl-2-(9Z-tetradecenoyl)-sn-glycer...           PS 31:1   \n",
       "4  1-hexadecanoyl-2-(11Z-octadecenoyl)-sn-glycero...           PS 34:1   \n",
       "\n",
       "   Neutral_Mass    proton      [M-H]-      Formula  \n",
       "0    637.395487  1.007276  636.388211  C31H60NO10P  \n",
       "1    797.520687  1.007276  796.513411  C43H76NO10P  \n",
       "2    877.583287  1.007276  876.576011  C49H84NO10P  \n",
       "3    719.473737  1.007276  718.466461  C37H70NO10P  \n",
       "4    761.520687  1.007276  760.513411  C40H76NO10P  "
      ]
     },
     "execution_count": 8,
     "metadata": {},
     "output_type": "execute_result"
    }
   ],
   "source": [
    "target_df.head()"
   ]
  },
  {
   "cell_type": "code",
   "execution_count": 9,
   "id": "459f2d5d",
   "metadata": {
    "tags": []
   },
   "outputs": [],
   "source": [
    "sim_targeted_df = target_df.loc[:,['Species Shorthand','Formula','Neutral_Mass','[M-H]-']].drop_duplicates()"
   ]
  },
  {
   "cell_type": "code",
   "execution_count": 10,
   "id": "53aae7f6",
   "metadata": {
    "tags": []
   },
   "outputs": [
    {
     "data": {
      "text/plain": [
       "260"
      ]
     },
     "execution_count": 10,
     "metadata": {},
     "output_type": "execute_result"
    }
   ],
   "source": [
    "sim_targeted_df.shape[0]"
   ]
  },
  {
   "cell_type": "code",
   "execution_count": 11,
   "id": "f7784ba1",
   "metadata": {
    "tags": []
   },
   "outputs": [
    {
     "data": {
      "text/plain": [
       "252"
      ]
     },
     "execution_count": 11,
     "metadata": {},
     "output_type": "execute_result"
    }
   ],
   "source": [
    "len(set(sim_targeted_df['[M-H]-']))"
   ]
  },
  {
   "cell_type": "markdown",
   "id": "a40a3f64",
   "metadata": {},
   "source": [
    "-----"
   ]
  },
  {
   "cell_type": "markdown",
   "id": "4a4008ed",
   "metadata": {},
   "source": [
    "-----"
   ]
  },
  {
   "cell_type": "markdown",
   "id": "fdbb4794",
   "metadata": {},
   "source": [
    "-----"
   ]
  },
  {
   "cell_type": "code",
   "execution_count": 12,
   "id": "ac1bbd29",
   "metadata": {
    "tags": []
   },
   "outputs": [],
   "source": [
    "mztree = build_centurion_tree(features)\n",
    "sim_targeted_df.index = sim_targeted_df['Species Shorthand']"
   ]
  },
  {
   "cell_type": "code",
   "execution_count": 13,
   "id": "ee3bbb36",
   "metadata": {
    "tags": []
   },
   "outputs": [],
   "source": [
    "target_dict = sim_targeted_df.to_dict(orient=\"index\")"
   ]
  },
  {
   "cell_type": "code",
   "execution_count": 14,
   "id": "caef4ee7",
   "metadata": {
    "tags": []
   },
   "outputs": [
    {
     "data": {
      "text/plain": [
       "('PS 25:0',\n",
       " {'Species Shorthand': 'PS 25:0',\n",
       "  'Formula': 'C31H60NO10P',\n",
       "  'Neutral_Mass': 637.395487,\n",
       "  '[M-H]-': 636.38821053323})"
      ]
     },
     "execution_count": 14,
     "metadata": {},
     "output_type": "execute_result"
    }
   ],
   "source": [
    "list(target_dict.items())[0]"
   ]
  },
  {
   "cell_type": "code",
   "execution_count": 15,
   "id": "f069e422",
   "metadata": {
    "tags": []
   },
   "outputs": [
    {
     "name": "stdout",
     "output_type": "stream",
     "text": [
      "105\n"
     ]
    }
   ],
   "source": [
    "dict_PS = {}\n",
    "for k,v in target_dict.items():\n",
    "    match = find_all_matches_centurion_indexed_list(v['[M-H]-'], mztree, 5)\n",
    "    if match:\n",
    "        v['matched'] = match\n",
    "        v['id_numbers'] = [x['id'] for x in v['matched']]\n",
    "        dict_PS.update({k:v})\n",
    "        \n",
    "print(len(dict_PS))"
   ]
  },
  {
   "cell_type": "code",
   "execution_count": 16,
   "id": "98d8c0e9",
   "metadata": {
    "tags": []
   },
   "outputs": [
    {
     "data": {
      "text/plain": [
       "[{'PS 40:6': {'Species Shorthand': 'PS 40:6',\n",
       "   'Formula': 'C46H78NO10P',\n",
       "   'Neutral_Mass': 835.536337,\n",
       "   '[M-H]-': 834.52906053323,\n",
       "   'matched': [{'id': 'F13468', 'mz': 834.5291901, 'rt': 262.3327382},\n",
       "    {'id': 'F13469', 'mz': 834.5291901, 'rt': 301.5134942},\n",
       "    {'id': 'F13470', 'mz': 834.5291901, 'rt': 308.1190798}],\n",
       "   'id_numbers': ['F13468', 'F13469', 'F13470']}}]"
      ]
     },
     "execution_count": 16,
     "metadata": {},
     "output_type": "execute_result"
    }
   ],
   "source": [
    "# benchmarked PS species\n",
    "[{k:v} for k,v in dict_PS.items() if 'PS 40:6' in k]"
   ]
  },
  {
   "cell_type": "code",
   "execution_count": 17,
   "id": "7be30d32",
   "metadata": {
    "tags": []
   },
   "outputs": [],
   "source": [
    "reshuffled_dict = {}\n",
    "\n",
    "for k, v in dict_PS.items():\n",
    "    for item in v['matched']:\n",
    "        ion_relation = item.get('ion_relation') # .get() this can avoid empty of the ion_relation!\n",
    "        reshuffled_dict[item['id']] = {\n",
    "            'FTID': item['id'],\n",
    "            'formula': v['Formula'],\n",
    "            'neutral_mass': v['Neutral_Mass'],\n",
    "            'short_name': v['Species Shorthand']\n",
    "        }"
   ]
  },
  {
   "cell_type": "code",
   "execution_count": 18,
   "id": "3e78edf0",
   "metadata": {
    "tags": []
   },
   "outputs": [],
   "source": [
    "matched_df = pd.DataFrame(reshuffled_dict).transpose()"
   ]
  },
  {
   "cell_type": "code",
   "execution_count": 19,
   "id": "080adddc",
   "metadata": {
    "tags": []
   },
   "outputs": [
    {
     "data": {
      "text/html": [
       "<div>\n",
       "<style scoped>\n",
       "    .dataframe tbody tr th:only-of-type {\n",
       "        vertical-align: middle;\n",
       "    }\n",
       "\n",
       "    .dataframe tbody tr th {\n",
       "        vertical-align: top;\n",
       "    }\n",
       "\n",
       "    .dataframe thead th {\n",
       "        text-align: right;\n",
       "    }\n",
       "</style>\n",
       "<table border=\"1\" class=\"dataframe\">\n",
       "  <thead>\n",
       "    <tr style=\"text-align: right;\">\n",
       "      <th></th>\n",
       "      <th>FTID</th>\n",
       "      <th>formula</th>\n",
       "      <th>neutral_mass</th>\n",
       "      <th>short_name</th>\n",
       "    </tr>\n",
       "  </thead>\n",
       "  <tbody>\n",
       "    <tr>\n",
       "      <th>F9996</th>\n",
       "      <td>F9996</td>\n",
       "      <td>C43H76NO10P</td>\n",
       "      <td>797.520687</td>\n",
       "      <td>PS 37:4</td>\n",
       "    </tr>\n",
       "    <tr>\n",
       "      <th>F9994</th>\n",
       "      <td>F9994</td>\n",
       "      <td>C43H76NO10P</td>\n",
       "      <td>797.520687</td>\n",
       "      <td>PS 37:4</td>\n",
       "    </tr>\n",
       "    <tr>\n",
       "      <th>F9995</th>\n",
       "      <td>F9995</td>\n",
       "      <td>C43H76NO10P</td>\n",
       "      <td>797.520687</td>\n",
       "      <td>PS 37:4</td>\n",
       "    </tr>\n",
       "    <tr>\n",
       "      <th>F9997</th>\n",
       "      <td>F9997</td>\n",
       "      <td>C43H76NO10P</td>\n",
       "      <td>797.520687</td>\n",
       "      <td>PS 37:4</td>\n",
       "    </tr>\n",
       "    <tr>\n",
       "      <th>F14243</th>\n",
       "      <td>F14243</td>\n",
       "      <td>C49H84NO10P</td>\n",
       "      <td>877.583287</td>\n",
       "      <td>PS 43:6</td>\n",
       "    </tr>\n",
       "  </tbody>\n",
       "</table>\n",
       "</div>"
      ],
      "text/plain": [
       "          FTID      formula neutral_mass short_name\n",
       "F9996    F9996  C43H76NO10P   797.520687    PS 37:4\n",
       "F9994    F9994  C43H76NO10P   797.520687    PS 37:4\n",
       "F9995    F9995  C43H76NO10P   797.520687    PS 37:4\n",
       "F9997    F9997  C43H76NO10P   797.520687    PS 37:4\n",
       "F14243  F14243  C49H84NO10P   877.583287    PS 43:6"
      ]
     },
     "execution_count": 19,
     "metadata": {},
     "output_type": "execute_result"
    }
   ],
   "source": [
    "matched_df.head()"
   ]
  },
  {
   "cell_type": "code",
   "execution_count": 20,
   "id": "ae0e5b13",
   "metadata": {
    "tags": []
   },
   "outputs": [],
   "source": [
    "matched_df.to_csv(os.path.join(output_dir,\"features_matched2targetPS_M-Honly.csv\"),sep = ',',index = False)"
   ]
  },
  {
   "cell_type": "markdown",
   "id": "2975d157",
   "metadata": {},
   "source": [
    "-----"
   ]
  },
  {
   "cell_type": "markdown",
   "id": "2110e91e",
   "metadata": {},
   "source": [
    "-----"
   ]
  }
 ],
 "metadata": {
  "kernelspec": {
   "display_name": "Python 3 (ipykernel)",
   "language": "python",
   "name": "python3"
  },
  "language_info": {
   "codemirror_mode": {
    "name": "ipython",
    "version": 3
   },
   "file_extension": ".py",
   "mimetype": "text/x-python",
   "name": "python",
   "nbconvert_exporter": "python",
   "pygments_lexer": "ipython3",
   "version": "3.10.9"
  }
 },
 "nbformat": 4,
 "nbformat_minor": 5
}
