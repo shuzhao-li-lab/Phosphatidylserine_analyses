{
 "cells": [
  {
   "cell_type": "markdown",
   "id": "fe523e51-02e2-460a-b877-cc659d18a752",
   "metadata": {},
   "source": [
    "# Asari table preprocessing"
   ]
  },
  {
   "cell_type": "code",
   "execution_count": 1,
   "id": "a4761690-3eee-4754-b96b-22c8cc5bad54",
   "metadata": {},
   "outputs": [
    {
     "name": "stdout",
     "output_type": "stream",
     "text": [
      "Collecting seaborn\n",
      "  Downloading seaborn-0.11.2-py3-none-any.whl (292 kB)\n",
      "\u001b[2K     \u001b[90m━━━━━━━━━━━━━━━━━━━━━━━━━━━━━━━━━━━━━━━\u001b[0m \u001b[32m292.8/292.8 kB\u001b[0m \u001b[31m6.2 MB/s\u001b[0m eta \u001b[36m0:00:00\u001b[0m00:01\u001b[0m\n",
      "\u001b[?25hCollecting matplotlib>=2.2\n",
      "  Downloading matplotlib-3.5.2-cp310-cp310-manylinux_2_17_x86_64.manylinux2014_x86_64.whl (11.9 MB)\n",
      "\u001b[2K     \u001b[90m━━━━━━━━━━━━━━━━━━━━━━━━━━━━━━━━━━━━━━━━\u001b[0m \u001b[32m11.9/11.9 MB\u001b[0m \u001b[31m16.7 MB/s\u001b[0m eta \u001b[36m0:00:00\u001b[0m00:01\u001b[0m00:01\u001b[0m\n",
      "\u001b[?25hCollecting scipy>=1.0\n",
      "  Downloading scipy-1.8.1-cp310-cp310-manylinux_2_17_x86_64.manylinux2014_x86_64.whl (42.2 MB)\n",
      "\u001b[2K     \u001b[90m━━━━━━━━━━━━━━━━━━━━━━━━━━━━━━━━━━━━━━━━\u001b[0m \u001b[32m42.2/42.2 MB\u001b[0m \u001b[31m16.0 MB/s\u001b[0m eta \u001b[36m0:00:00\u001b[0m00:01\u001b[0m00:01\u001b[0m\n",
      "\u001b[?25hRequirement already satisfied: pandas>=0.23 in /opt/conda/lib/python3.10/site-packages (from seaborn) (1.4.3)\n",
      "Requirement already satisfied: numpy>=1.15 in /opt/conda/lib/python3.10/site-packages (from seaborn) (1.23.1)\n",
      "Requirement already satisfied: packaging>=20.0 in /opt/conda/lib/python3.10/site-packages (from matplotlib>=2.2->seaborn) (21.3)\n",
      "Collecting kiwisolver>=1.0.1\n",
      "  Downloading kiwisolver-1.4.4-cp310-cp310-manylinux_2_12_x86_64.manylinux2010_x86_64.whl (1.6 MB)\n",
      "\u001b[2K     \u001b[90m━━━━━━━━━━━━━━━━━━━━━━━━━━━━━━━━━━━━━━━━\u001b[0m \u001b[32m1.6/1.6 MB\u001b[0m \u001b[31m16.0 MB/s\u001b[0m eta \u001b[36m0:00:00\u001b[0ma \u001b[36m0:00:01\u001b[0m\n",
      "\u001b[?25hRequirement already satisfied: python-dateutil>=2.7 in /opt/conda/lib/python3.10/site-packages (from matplotlib>=2.2->seaborn) (2.8.2)\n",
      "Requirement already satisfied: pyparsing>=2.2.1 in /opt/conda/lib/python3.10/site-packages (from matplotlib>=2.2->seaborn) (3.0.9)\n",
      "Collecting fonttools>=4.22.0\n",
      "  Downloading fonttools-4.34.4-py3-none-any.whl (944 kB)\n",
      "\u001b[2K     \u001b[90m━━━━━━━━━━━━━━━━━━━━━━━━━━━━━━━━━━━━━━\u001b[0m \u001b[32m944.1/944.1 kB\u001b[0m \u001b[31m12.9 MB/s\u001b[0m eta \u001b[36m0:00:00\u001b[0m00:01\u001b[0m00:01\u001b[0m\n",
      "\u001b[?25hCollecting pillow>=6.2.0\n",
      "  Downloading Pillow-9.2.0-cp310-cp310-manylinux_2_28_x86_64.whl (3.2 MB)\n",
      "\u001b[2K     \u001b[90m━━━━━━━━━━━━━━━━━━━━━━━━━━━━━━━━━━━━━━━━\u001b[0m \u001b[32m3.2/3.2 MB\u001b[0m \u001b[31m18.1 MB/s\u001b[0m eta \u001b[36m0:00:00\u001b[0m00:01\u001b[0m00:01\u001b[0m\n",
      "\u001b[?25hCollecting cycler>=0.10\n",
      "  Downloading cycler-0.11.0-py3-none-any.whl (6.4 kB)\n",
      "Requirement already satisfied: pytz>=2020.1 in /opt/conda/lib/python3.10/site-packages (from pandas>=0.23->seaborn) (2022.1)\n",
      "Requirement already satisfied: six>=1.5 in /opt/conda/lib/python3.10/site-packages (from python-dateutil>=2.7->matplotlib>=2.2->seaborn) (1.16.0)\n",
      "Installing collected packages: scipy, pillow, kiwisolver, fonttools, cycler, matplotlib, seaborn\n",
      "Successfully installed cycler-0.11.0 fonttools-4.34.4 kiwisolver-1.4.4 matplotlib-3.5.2 pillow-9.2.0 scipy-1.8.1 seaborn-0.11.2\n",
      "Note: you may need to restart the kernel to use updated packages.\n"
     ]
    }
   ],
   "source": [
    "pip install seaborn"
   ]
  },
  {
   "cell_type": "code",
   "execution_count": 1,
   "id": "d64df4c7-5f81-444a-85c5-bba07533bfb1",
   "metadata": {
    "tags": []
   },
   "outputs": [],
   "source": [
    "import pandas as pd\n",
    "import os\n",
    "import json\n",
    "import numpy as np\n",
    "import seaborn as sns\n",
    "import matplotlib.pyplot as plt\n",
    "import re\n",
    "from random import randrange"
   ]
  },
  {
   "cell_type": "code",
   "execution_count": 2,
   "id": "8cb37788-fb87-4f7c-9c2f-5fadd7834713",
   "metadata": {},
   "outputs": [],
   "source": [
    "pd.set_option('display.max_rows', 1000)\n",
    "pd.set_option('display.max_columns', 500)\n",
    "pd.set_option('display.width', 1000)"
   ]
  },
  {
   "cell_type": "code",
   "execution_count": 238,
   "id": "b482d3f8-1db4-4544-8b33-0373806009be",
   "metadata": {},
   "outputs": [],
   "source": [
    "asari_out_fdr = \"../../input/HILICpos_mzML/asari_project_output_727153535/\"\n",
    "metadata_file = \"../../input/sequence_file/CD8_Tcell_05222018_180522154617.csv\"\n",
    "mode = \"HILICpos\"\n",
    "group_percNA_threshold = 0.3 # < percNA, should be presented in any group"
   ]
  },
  {
   "cell_type": "code",
   "execution_count": 305,
   "id": "b801641d-d2a7-41fa-a1e6-cc8d9ba2dd4d",
   "metadata": {},
   "outputs": [],
   "source": [
    "output_dir = \"../../output/preprocessing_\" + str(randrange(0,100))"
   ]
  },
  {
   "cell_type": "code",
   "execution_count": 306,
   "id": "429a7649-480e-4ad0-9fba-1288af654ecc",
   "metadata": {},
   "outputs": [],
   "source": [
    "try:\n",
    "    os.mkdir(output_dir)\n",
    "except:\n",
    "    print(\"not done\")"
   ]
  },
  {
   "cell_type": "code",
   "execution_count": 4,
   "id": "2bff6408-9448-4c63-a399-a8b8e6e17422",
   "metadata": {},
   "outputs": [],
   "source": [
    "feat_df = pd.read_csv(os.path.join(asari_out_fdr,'preferred_Feature_table.tsv'),sep = '\\t')"
   ]
  },
  {
   "cell_type": "code",
   "execution_count": 5,
   "id": "7613846c-14cc-4c03-b001-a5123ae1c078",
   "metadata": {},
   "outputs": [
    {
     "data": {
      "text/html": [
       "<div>\n",
       "<style scoped>\n",
       "    .dataframe tbody tr th:only-of-type {\n",
       "        vertical-align: middle;\n",
       "    }\n",
       "\n",
       "    .dataframe tbody tr th {\n",
       "        vertical-align: top;\n",
       "    }\n",
       "\n",
       "    .dataframe thead th {\n",
       "        text-align: right;\n",
       "    }\n",
       "</style>\n",
       "<table border=\"1\" class=\"dataframe\">\n",
       "  <thead>\n",
       "    <tr style=\"text-align: right;\">\n",
       "      <th></th>\n",
       "      <th>id_number</th>\n",
       "      <th>mz</th>\n",
       "      <th>rtime</th>\n",
       "      <th>rtime_left_base</th>\n",
       "      <th>rtime_right_base</th>\n",
       "      <th>parent_masstrack_id</th>\n",
       "      <th>peak_area</th>\n",
       "      <th>cSelectivity</th>\n",
       "      <th>goodness_fitting</th>\n",
       "      <th>snr</th>\n",
       "      <th>detection_counts</th>\n",
       "      <th>q3June2014_2a_2</th>\n",
       "      <th>G1_Naive_1_300_2</th>\n",
       "      <th>G1_Naive_2_300_2</th>\n",
       "      <th>G1_Naive_3_300_2</th>\n",
       "      <th>G2_R5pos_1_142_2</th>\n",
       "      <th>G2_R5pos_2_200_2</th>\n",
       "      <th>G2_R5pos_3_150_2</th>\n",
       "      <th>G3_R5neg_1a_655_2</th>\n",
       "      <th>G3_R5neg_1b_655_2</th>\n",
       "      <th>G3_R5neg_2a_687_2</th>\n",
       "      <th>G3_R5neg_2b_687_2</th>\n",
       "      <th>G3_R5neg_3a_865_2</th>\n",
       "      <th>G3_R5neg_3b_865_2</th>\n",
       "      <th>nist_2</th>\n",
       "      <th>nist_4</th>\n",
       "      <th>nist_6</th>\n",
       "      <th>q3June2014_1b_2</th>\n",
       "      <th>q3June2014_1b_4</th>\n",
       "      <th>q3June2014_1b_6</th>\n",
       "      <th>q3June2014_2a_4</th>\n",
       "      <th>q3June2014_2a_6</th>\n",
       "      <th>q3June2014_2b_2</th>\n",
       "      <th>q3June2014_2b_4</th>\n",
       "      <th>q3June2014_2b_6</th>\n",
       "    </tr>\n",
       "  </thead>\n",
       "  <tbody>\n",
       "    <tr>\n",
       "      <th>0</th>\n",
       "      <td>F1</td>\n",
       "      <td>85.0044</td>\n",
       "      <td>26.00</td>\n",
       "      <td>19.67</td>\n",
       "      <td>28.11</td>\n",
       "      <td>0</td>\n",
       "      <td>2003055</td>\n",
       "      <td>0.96</td>\n",
       "      <td>0.93</td>\n",
       "      <td>106</td>\n",
       "      <td>23</td>\n",
       "      <td>82606</td>\n",
       "      <td>27701</td>\n",
       "      <td>94249</td>\n",
       "      <td>89481</td>\n",
       "      <td>0</td>\n",
       "      <td>43734</td>\n",
       "      <td>22457</td>\n",
       "      <td>106522</td>\n",
       "      <td>117992</td>\n",
       "      <td>132798</td>\n",
       "      <td>117319</td>\n",
       "      <td>132436</td>\n",
       "      <td>103354</td>\n",
       "      <td>68263</td>\n",
       "      <td>101396</td>\n",
       "      <td>64873</td>\n",
       "      <td>93459</td>\n",
       "      <td>62270</td>\n",
       "      <td>86003</td>\n",
       "      <td>105882</td>\n",
       "      <td>68765</td>\n",
       "      <td>76538</td>\n",
       "      <td>160572</td>\n",
       "      <td>70725</td>\n",
       "    </tr>\n",
       "    <tr>\n",
       "      <th>1</th>\n",
       "      <td>F4</td>\n",
       "      <td>105.0378</td>\n",
       "      <td>29.94</td>\n",
       "      <td>21.80</td>\n",
       "      <td>48.60</td>\n",
       "      <td>491</td>\n",
       "      <td>319536206</td>\n",
       "      <td>1.00</td>\n",
       "      <td>0.97</td>\n",
       "      <td>91</td>\n",
       "      <td>24</td>\n",
       "      <td>2632356</td>\n",
       "      <td>18042890</td>\n",
       "      <td>23587830</td>\n",
       "      <td>23522578</td>\n",
       "      <td>12798823</td>\n",
       "      <td>15422758</td>\n",
       "      <td>17903307</td>\n",
       "      <td>37784533</td>\n",
       "      <td>38169479</td>\n",
       "      <td>31623646</td>\n",
       "      <td>31050101</td>\n",
       "      <td>43125736</td>\n",
       "      <td>40203363</td>\n",
       "      <td>3190800</td>\n",
       "      <td>3377094</td>\n",
       "      <td>2753837</td>\n",
       "      <td>2356543</td>\n",
       "      <td>2954096</td>\n",
       "      <td>3629525</td>\n",
       "      <td>2852568</td>\n",
       "      <td>2322411</td>\n",
       "      <td>2764957</td>\n",
       "      <td>2776460</td>\n",
       "      <td>2503286</td>\n",
       "    </tr>\n",
       "    <tr>\n",
       "      <th>2</th>\n",
       "      <td>F5</td>\n",
       "      <td>85.3615</td>\n",
       "      <td>32.57</td>\n",
       "      <td>31.00</td>\n",
       "      <td>34.67</td>\n",
       "      <td>3</td>\n",
       "      <td>6553147</td>\n",
       "      <td>1.00</td>\n",
       "      <td>0.74</td>\n",
       "      <td>102</td>\n",
       "      <td>8</td>\n",
       "      <td>0</td>\n",
       "      <td>0</td>\n",
       "      <td>0</td>\n",
       "      <td>0</td>\n",
       "      <td>0</td>\n",
       "      <td>0</td>\n",
       "      <td>0</td>\n",
       "      <td>0</td>\n",
       "      <td>0</td>\n",
       "      <td>0</td>\n",
       "      <td>0</td>\n",
       "      <td>0</td>\n",
       "      <td>0</td>\n",
       "      <td>0</td>\n",
       "      <td>0</td>\n",
       "      <td>0</td>\n",
       "      <td>699388</td>\n",
       "      <td>875997</td>\n",
       "      <td>1293132</td>\n",
       "      <td>670703</td>\n",
       "      <td>635428</td>\n",
       "      <td>700917</td>\n",
       "      <td>770668</td>\n",
       "      <td>847395</td>\n",
       "    </tr>\n",
       "    <tr>\n",
       "      <th>3</th>\n",
       "      <td>F6</td>\n",
       "      <td>85.3615</td>\n",
       "      <td>35.72</td>\n",
       "      <td>34.67</td>\n",
       "      <td>37.04</td>\n",
       "      <td>3</td>\n",
       "      <td>1573214</td>\n",
       "      <td>0.95</td>\n",
       "      <td>0.95</td>\n",
       "      <td>31</td>\n",
       "      <td>7</td>\n",
       "      <td>0</td>\n",
       "      <td>0</td>\n",
       "      <td>0</td>\n",
       "      <td>0</td>\n",
       "      <td>0</td>\n",
       "      <td>0</td>\n",
       "      <td>0</td>\n",
       "      <td>0</td>\n",
       "      <td>0</td>\n",
       "      <td>0</td>\n",
       "      <td>0</td>\n",
       "      <td>0</td>\n",
       "      <td>0</td>\n",
       "      <td>0</td>\n",
       "      <td>0</td>\n",
       "      <td>0</td>\n",
       "      <td>0</td>\n",
       "      <td>70986</td>\n",
       "      <td>51664</td>\n",
       "      <td>217983</td>\n",
       "      <td>229394</td>\n",
       "      <td>185677</td>\n",
       "      <td>347305</td>\n",
       "      <td>191157</td>\n",
       "    </tr>\n",
       "    <tr>\n",
       "      <th>4</th>\n",
       "      <td>F9</td>\n",
       "      <td>105.9573</td>\n",
       "      <td>29.68</td>\n",
       "      <td>26.79</td>\n",
       "      <td>30.73</td>\n",
       "      <td>495</td>\n",
       "      <td>4314816</td>\n",
       "      <td>1.00</td>\n",
       "      <td>0.85</td>\n",
       "      <td>568</td>\n",
       "      <td>11</td>\n",
       "      <td>0</td>\n",
       "      <td>495727</td>\n",
       "      <td>0</td>\n",
       "      <td>376749</td>\n",
       "      <td>0</td>\n",
       "      <td>350334</td>\n",
       "      <td>0</td>\n",
       "      <td>0</td>\n",
       "      <td>0</td>\n",
       "      <td>0</td>\n",
       "      <td>0</td>\n",
       "      <td>338732</td>\n",
       "      <td>0</td>\n",
       "      <td>704164</td>\n",
       "      <td>654014</td>\n",
       "      <td>0</td>\n",
       "      <td>0</td>\n",
       "      <td>482596</td>\n",
       "      <td>502803</td>\n",
       "      <td>507673</td>\n",
       "      <td>0</td>\n",
       "      <td>427380</td>\n",
       "      <td>0</td>\n",
       "      <td>447753</td>\n",
       "    </tr>\n",
       "  </tbody>\n",
       "</table>\n",
       "</div>"
      ],
      "text/plain": [
       "  id_number        mz  rtime  rtime_left_base  rtime_right_base  parent_masstrack_id  peak_area  cSelectivity  goodness_fitting  snr  detection_counts  q3June2014_2a_2  G1_Naive_1_300_2  G1_Naive_2_300_2  G1_Naive_3_300_2  G2_R5pos_1_142_2  G2_R5pos_2_200_2  G2_R5pos_3_150_2  G3_R5neg_1a_655_2  G3_R5neg_1b_655_2  G3_R5neg_2a_687_2  G3_R5neg_2b_687_2  G3_R5neg_3a_865_2  G3_R5neg_3b_865_2   nist_2   nist_4   nist_6  q3June2014_1b_2  q3June2014_1b_4  q3June2014_1b_6  q3June2014_2a_4  q3June2014_2a_6  q3June2014_2b_2  q3June2014_2b_4  q3June2014_2b_6\n",
       "0        F1   85.0044  26.00            19.67             28.11                    0    2003055          0.96              0.93  106                23            82606             27701             94249             89481                 0             43734             22457             106522             117992             132798             117319             132436             103354    68263   101396    64873            93459            62270            86003           105882            68765            76538           160572            70725\n",
       "1        F4  105.0378  29.94            21.80             48.60                  491  319536206          1.00              0.97   91                24          2632356          18042890          23587830          23522578          12798823          15422758          17903307           37784533           38169479           31623646           31050101           43125736           40203363  3190800  3377094  2753837          2356543          2954096          3629525          2852568          2322411          2764957          2776460          2503286\n",
       "2        F5   85.3615  32.57            31.00             34.67                    3    6553147          1.00              0.74  102                 8                0                 0                 0                 0                 0                 0                 0                  0                  0                  0                  0                  0                  0        0        0        0           699388           875997          1293132           670703           635428           700917           770668           847395\n",
       "3        F6   85.3615  35.72            34.67             37.04                    3    1573214          0.95              0.95   31                 7                0                 0                 0                 0                 0                 0                 0                  0                  0                  0                  0                  0                  0        0        0        0                0            70986            51664           217983           229394           185677           347305           191157\n",
       "4        F9  105.9573  29.68            26.79             30.73                  495    4314816          1.00              0.85  568                11                0            495727                 0            376749                 0            350334                 0                  0                  0                  0                  0             338732                  0   704164   654014        0                0           482596           502803           507673                0           427380                0           447753"
      ]
     },
     "execution_count": 5,
     "metadata": {},
     "output_type": "execute_result"
    }
   ],
   "source": [
    "feat_df.head()"
   ]
  },
  {
   "cell_type": "code",
   "execution_count": 6,
   "id": "9ef71721-afd4-494d-b398-e224439a5e77",
   "metadata": {},
   "outputs": [
    {
     "name": "stdout",
     "output_type": "stream",
     "text": [
      "number of features are: 9431\n"
     ]
    }
   ],
   "source": [
    "print(f'number of features are: {feat_df.shape[0]}')"
   ]
  },
  {
   "cell_type": "code",
   "execution_count": 8,
   "id": "96f8eae7-e506-45c8-a13e-7204f24d50b3",
   "metadata": {},
   "outputs": [],
   "source": [
    "meta_df = pd.read_csv(\"../../input/sequence_file/CD8_Tcell_05222018_180522154617.csv\", header = 1 )"
   ]
  },
  {
   "cell_type": "code",
   "execution_count": 9,
   "id": "97541308-17a9-424e-9359-674cb162e6ae",
   "metadata": {},
   "outputs": [
    {
     "data": {
      "text/plain": [
       "Index(['Sample Type', 'File Name', 'Sample ID', 'Path', 'Instrument Method', 'Process Method', 'Calibration File', 'Position', 'Inj Vol', 'Comment', 'Sample Name'], dtype='object')"
      ]
     },
     "execution_count": 9,
     "metadata": {},
     "output_type": "execute_result"
    }
   ],
   "source": [
    "meta_df.columns"
   ]
  },
  {
   "cell_type": "code",
   "execution_count": 106,
   "id": "4482c5ab-6b73-42e4-954f-c28f8d7b2e3b",
   "metadata": {},
   "outputs": [],
   "source": [
    "def extract_list2list(regExpr,a_list):\n",
    "    return([re.search(regExpr,x)[0] for x in a_list if re.search(regExpr,x)])\n",
    "\n",
    "def extract_list2dict(regExpr,a_list):\n",
    "    return({x:re.search(regExpr,x)[0] for x in a_list if re.search(regExpr,x)})"
   ]
  },
  {
   "cell_type": "code",
   "execution_count": 107,
   "id": "4bc11c09-2412-47e7-b926-5d3abab3a812",
   "metadata": {},
   "outputs": [],
   "source": [
    "def refactor_metadata(meta_df):\n",
    "    rs_d = extract_list2dict(\"([R|N][0-9|a-z]+)\\\\_[a-z|0-9]+\",sample_col)\n",
    "    qstd_d = extract_list2dict(\"(q3June2014\\\\_[a-z|0-9]+)\",sample_col)\n",
    "    nist_d = extract_list2dict(\"(nist\\\\_[a-z|0-9])\",sample_col)\n",
    "\n",
    "    full_d = {}\n",
    "    full_d.update(rs_d)\n",
    "    full_d.update(qstd_d)\n",
    "    full_d.update(nist_d) \n",
    "    for i, row in meta_df.iterrows():\n",
    "        if row['Sample ID'] in full_d:\n",
    "            meta_df.loc[i,'tID'] = full_d[row['Sample ID']]\n",
    "    \n",
    "    subset_meta_df = meta_df.loc[[isinstance(x,str) for x in meta_df['tID']],['tID','Sample ID']]\n",
    "    subset_meta_df['tID_dedup'] = extract_list2list(\"(?i)([0-9|a-z]+\\\\_[0-9])\",subset_meta_df['tID'])\n",
    "    subset_meta_df['class'] = extract_list2list(\"(?i)([0-9|a-z])+\",subset_meta_df['tID_dedup'])\n",
    "    return(subset_meta_df)"
   ]
  },
  {
   "cell_type": "code",
   "execution_count": 108,
   "id": "009701bd-cb89-49a7-9636-5f8c4ffd41ec",
   "metadata": {},
   "outputs": [],
   "source": [
    "clean_meta_df = refactor_metadata(meta_df)\n",
    "clean_meta_df = clean_meta_df.reset_index()"
   ]
  },
  {
   "cell_type": "code",
   "execution_count": 109,
   "id": "94ebc0d2-301a-4682-9ce1-6abeb4364e10",
   "metadata": {},
   "outputs": [],
   "source": [
    "# Define biological samples\n",
    "clean_meta_df['biological_samples'] = 'No'\n",
    "clean_meta_df.loc[clean_meta_df['class'].isin(['R5pos','Naive','R5neg']),'biological_samples'] = 'Yes'"
   ]
  },
  {
   "cell_type": "code",
   "execution_count": 113,
   "id": "2eb606f4-fa8e-47f5-b890-75613ebef310",
   "metadata": {},
   "outputs": [],
   "source": [
    "test_list = clean_meta_df.loc[clean_meta_df['biological_samples'] == 'Yes','Sample ID']\n",
    "clean_meta_df.loc[clean_meta_df['biological_samples'] == 'Yes','cell_number'] = [re.search('[a-z]+\\\\_[0-9|a-z]+\\\\_([0-9]+)',x)[1] for x in test_list if re.search('[a-z]+\\\\_[0-9|a-z]+\\\\_([0-9]+)',x)]"
   ]
  },
  {
   "cell_type": "markdown",
   "id": "d7de24a9-2af5-4c93-b533-fd9a666f1615",
   "metadata": {},
   "source": [
    "#### correct the nist which should be actually technical duplicates"
   ]
  },
  {
   "cell_type": "code",
   "execution_count": 128,
   "id": "5584a958-d4c9-46c3-adb2-222f4ea408c7",
   "metadata": {},
   "outputs": [],
   "source": [
    "clean_meta_df.loc[clean_meta_df['class'] == 'nist', 'tID_dedup'] = 'nist'"
   ]
  },
  {
   "cell_type": "code",
   "execution_count": 131,
   "id": "7c3edf82-7735-4bf6-86d5-92bc39d7d645",
   "metadata": {},
   "outputs": [
    {
     "data": {
      "text/html": [
       "<div>\n",
       "<style scoped>\n",
       "    .dataframe tbody tr th:only-of-type {\n",
       "        vertical-align: middle;\n",
       "    }\n",
       "\n",
       "    .dataframe tbody tr th {\n",
       "        vertical-align: top;\n",
       "    }\n",
       "\n",
       "    .dataframe thead th {\n",
       "        text-align: right;\n",
       "    }\n",
       "</style>\n",
       "<table border=\"1\" class=\"dataframe\">\n",
       "  <thead>\n",
       "    <tr style=\"text-align: right;\">\n",
       "      <th></th>\n",
       "      <th>index</th>\n",
       "      <th>tID</th>\n",
       "      <th>Sample ID</th>\n",
       "      <th>tID_dedup</th>\n",
       "      <th>class</th>\n",
       "      <th>biological_samples</th>\n",
       "      <th>cell_number</th>\n",
       "    </tr>\n",
       "  </thead>\n",
       "  <tbody>\n",
       "    <tr>\n",
       "      <th>0</th>\n",
       "      <td>1</td>\n",
       "      <td>nist_2</td>\n",
       "      <td>nist_2</td>\n",
       "      <td>nist</td>\n",
       "      <td>nist</td>\n",
       "      <td>No</td>\n",
       "      <td>NaN</td>\n",
       "    </tr>\n",
       "    <tr>\n",
       "      <th>1</th>\n",
       "      <td>3</td>\n",
       "      <td>nist_4</td>\n",
       "      <td>nist_4</td>\n",
       "      <td>nist</td>\n",
       "      <td>nist</td>\n",
       "      <td>No</td>\n",
       "      <td>NaN</td>\n",
       "    </tr>\n",
       "    <tr>\n",
       "      <th>2</th>\n",
       "      <td>5</td>\n",
       "      <td>nist_6</td>\n",
       "      <td>nist_6</td>\n",
       "      <td>nist</td>\n",
       "      <td>nist</td>\n",
       "      <td>No</td>\n",
       "      <td>NaN</td>\n",
       "    </tr>\n",
       "    <tr>\n",
       "      <th>3</th>\n",
       "      <td>13</td>\n",
       "      <td>q3June2014_1b</td>\n",
       "      <td>q3June2014_1b_2</td>\n",
       "      <td>q3June2014_1</td>\n",
       "      <td>q3June2014</td>\n",
       "      <td>No</td>\n",
       "      <td>NaN</td>\n",
       "    </tr>\n",
       "    <tr>\n",
       "      <th>4</th>\n",
       "      <td>15</td>\n",
       "      <td>q3June2014_1b</td>\n",
       "      <td>q3June2014_1b_4</td>\n",
       "      <td>q3June2014_1</td>\n",
       "      <td>q3June2014</td>\n",
       "      <td>No</td>\n",
       "      <td>NaN</td>\n",
       "    </tr>\n",
       "    <tr>\n",
       "      <th>5</th>\n",
       "      <td>17</td>\n",
       "      <td>q3June2014_1b</td>\n",
       "      <td>q3June2014_1b_6</td>\n",
       "      <td>q3June2014_1</td>\n",
       "      <td>q3June2014</td>\n",
       "      <td>No</td>\n",
       "      <td>NaN</td>\n",
       "    </tr>\n",
       "    <tr>\n",
       "      <th>6</th>\n",
       "      <td>19</td>\n",
       "      <td>R5pos_1</td>\n",
       "      <td>G2_R5pos_1_142_2</td>\n",
       "      <td>R5pos_1</td>\n",
       "      <td>R5pos</td>\n",
       "      <td>Yes</td>\n",
       "      <td>142</td>\n",
       "    </tr>\n",
       "    <tr>\n",
       "      <th>7</th>\n",
       "      <td>21</td>\n",
       "      <td>R5pos_2</td>\n",
       "      <td>G2_R5pos_2_200_2</td>\n",
       "      <td>R5pos_2</td>\n",
       "      <td>R5pos</td>\n",
       "      <td>Yes</td>\n",
       "      <td>200</td>\n",
       "    </tr>\n",
       "    <tr>\n",
       "      <th>8</th>\n",
       "      <td>23</td>\n",
       "      <td>R5pos_3</td>\n",
       "      <td>G2_R5pos_3_150_2</td>\n",
       "      <td>R5pos_3</td>\n",
       "      <td>R5pos</td>\n",
       "      <td>Yes</td>\n",
       "      <td>150</td>\n",
       "    </tr>\n",
       "    <tr>\n",
       "      <th>9</th>\n",
       "      <td>25</td>\n",
       "      <td>Naive_1</td>\n",
       "      <td>G1_Naive_1_300_2</td>\n",
       "      <td>Naive_1</td>\n",
       "      <td>Naive</td>\n",
       "      <td>Yes</td>\n",
       "      <td>300</td>\n",
       "    </tr>\n",
       "    <tr>\n",
       "      <th>10</th>\n",
       "      <td>27</td>\n",
       "      <td>Naive_2</td>\n",
       "      <td>G1_Naive_2_300_2</td>\n",
       "      <td>Naive_2</td>\n",
       "      <td>Naive</td>\n",
       "      <td>Yes</td>\n",
       "      <td>300</td>\n",
       "    </tr>\n",
       "    <tr>\n",
       "      <th>11</th>\n",
       "      <td>29</td>\n",
       "      <td>Naive_3</td>\n",
       "      <td>G1_Naive_3_300_2</td>\n",
       "      <td>Naive_3</td>\n",
       "      <td>Naive</td>\n",
       "      <td>Yes</td>\n",
       "      <td>300</td>\n",
       "    </tr>\n",
       "    <tr>\n",
       "      <th>12</th>\n",
       "      <td>31</td>\n",
       "      <td>R5neg_1a</td>\n",
       "      <td>G3_R5neg_1a_655_2</td>\n",
       "      <td>R5neg_1</td>\n",
       "      <td>R5neg</td>\n",
       "      <td>Yes</td>\n",
       "      <td>655</td>\n",
       "    </tr>\n",
       "    <tr>\n",
       "      <th>13</th>\n",
       "      <td>33</td>\n",
       "      <td>R5neg_1b</td>\n",
       "      <td>G3_R5neg_1b_655_2</td>\n",
       "      <td>R5neg_1</td>\n",
       "      <td>R5neg</td>\n",
       "      <td>Yes</td>\n",
       "      <td>655</td>\n",
       "    </tr>\n",
       "    <tr>\n",
       "      <th>14</th>\n",
       "      <td>35</td>\n",
       "      <td>R5neg_2a</td>\n",
       "      <td>G3_R5neg_2a_687_2</td>\n",
       "      <td>R5neg_2</td>\n",
       "      <td>R5neg</td>\n",
       "      <td>Yes</td>\n",
       "      <td>687</td>\n",
       "    </tr>\n",
       "    <tr>\n",
       "      <th>15</th>\n",
       "      <td>37</td>\n",
       "      <td>R5neg_2b</td>\n",
       "      <td>G3_R5neg_2b_687_2</td>\n",
       "      <td>R5neg_2</td>\n",
       "      <td>R5neg</td>\n",
       "      <td>Yes</td>\n",
       "      <td>687</td>\n",
       "    </tr>\n",
       "    <tr>\n",
       "      <th>16</th>\n",
       "      <td>39</td>\n",
       "      <td>R5neg_3a</td>\n",
       "      <td>G3_R5neg_3a_865_2</td>\n",
       "      <td>R5neg_3</td>\n",
       "      <td>R5neg</td>\n",
       "      <td>Yes</td>\n",
       "      <td>865</td>\n",
       "    </tr>\n",
       "    <tr>\n",
       "      <th>17</th>\n",
       "      <td>41</td>\n",
       "      <td>R5neg_3b</td>\n",
       "      <td>G3_R5neg_3b_865_2</td>\n",
       "      <td>R5neg_3</td>\n",
       "      <td>R5neg</td>\n",
       "      <td>Yes</td>\n",
       "      <td>865</td>\n",
       "    </tr>\n",
       "    <tr>\n",
       "      <th>18</th>\n",
       "      <td>43</td>\n",
       "      <td>q3June2014_2a</td>\n",
       "      <td>q3June2014_2a_2</td>\n",
       "      <td>q3June2014_2</td>\n",
       "      <td>q3June2014</td>\n",
       "      <td>No</td>\n",
       "      <td>NaN</td>\n",
       "    </tr>\n",
       "    <tr>\n",
       "      <th>19</th>\n",
       "      <td>45</td>\n",
       "      <td>q3June2014_2a</td>\n",
       "      <td>q3June2014_2a_4</td>\n",
       "      <td>q3June2014_2</td>\n",
       "      <td>q3June2014</td>\n",
       "      <td>No</td>\n",
       "      <td>NaN</td>\n",
       "    </tr>\n",
       "    <tr>\n",
       "      <th>20</th>\n",
       "      <td>47</td>\n",
       "      <td>q3June2014_2a</td>\n",
       "      <td>q3June2014_2a_6</td>\n",
       "      <td>q3June2014_2</td>\n",
       "      <td>q3June2014</td>\n",
       "      <td>No</td>\n",
       "      <td>NaN</td>\n",
       "    </tr>\n",
       "    <tr>\n",
       "      <th>21</th>\n",
       "      <td>49</td>\n",
       "      <td>q3June2014_2b</td>\n",
       "      <td>q3June2014_2b_2</td>\n",
       "      <td>q3June2014_2</td>\n",
       "      <td>q3June2014</td>\n",
       "      <td>No</td>\n",
       "      <td>NaN</td>\n",
       "    </tr>\n",
       "    <tr>\n",
       "      <th>22</th>\n",
       "      <td>51</td>\n",
       "      <td>q3June2014_2b</td>\n",
       "      <td>q3June2014_2b_4</td>\n",
       "      <td>q3June2014_2</td>\n",
       "      <td>q3June2014</td>\n",
       "      <td>No</td>\n",
       "      <td>NaN</td>\n",
       "    </tr>\n",
       "    <tr>\n",
       "      <th>23</th>\n",
       "      <td>53</td>\n",
       "      <td>q3June2014_2b</td>\n",
       "      <td>q3June2014_2b_6</td>\n",
       "      <td>q3June2014_2</td>\n",
       "      <td>q3June2014</td>\n",
       "      <td>No</td>\n",
       "      <td>NaN</td>\n",
       "    </tr>\n",
       "  </tbody>\n",
       "</table>\n",
       "</div>"
      ],
      "text/plain": [
       "    index            tID          Sample ID     tID_dedup       class biological_samples cell_number\n",
       "0       1         nist_2             nist_2          nist        nist                 No         NaN\n",
       "1       3         nist_4             nist_4          nist        nist                 No         NaN\n",
       "2       5         nist_6             nist_6          nist        nist                 No         NaN\n",
       "3      13  q3June2014_1b    q3June2014_1b_2  q3June2014_1  q3June2014                 No         NaN\n",
       "4      15  q3June2014_1b    q3June2014_1b_4  q3June2014_1  q3June2014                 No         NaN\n",
       "5      17  q3June2014_1b    q3June2014_1b_6  q3June2014_1  q3June2014                 No         NaN\n",
       "6      19        R5pos_1   G2_R5pos_1_142_2       R5pos_1       R5pos                Yes         142\n",
       "7      21        R5pos_2   G2_R5pos_2_200_2       R5pos_2       R5pos                Yes         200\n",
       "8      23        R5pos_3   G2_R5pos_3_150_2       R5pos_3       R5pos                Yes         150\n",
       "9      25        Naive_1   G1_Naive_1_300_2       Naive_1       Naive                Yes         300\n",
       "10     27        Naive_2   G1_Naive_2_300_2       Naive_2       Naive                Yes         300\n",
       "11     29        Naive_3   G1_Naive_3_300_2       Naive_3       Naive                Yes         300\n",
       "12     31       R5neg_1a  G3_R5neg_1a_655_2       R5neg_1       R5neg                Yes         655\n",
       "13     33       R5neg_1b  G3_R5neg_1b_655_2       R5neg_1       R5neg                Yes         655\n",
       "14     35       R5neg_2a  G3_R5neg_2a_687_2       R5neg_2       R5neg                Yes         687\n",
       "15     37       R5neg_2b  G3_R5neg_2b_687_2       R5neg_2       R5neg                Yes         687\n",
       "16     39       R5neg_3a  G3_R5neg_3a_865_2       R5neg_3       R5neg                Yes         865\n",
       "17     41       R5neg_3b  G3_R5neg_3b_865_2       R5neg_3       R5neg                Yes         865\n",
       "18     43  q3June2014_2a    q3June2014_2a_2  q3June2014_2  q3June2014                 No         NaN\n",
       "19     45  q3June2014_2a    q3June2014_2a_4  q3June2014_2  q3June2014                 No         NaN\n",
       "20     47  q3June2014_2a    q3June2014_2a_6  q3June2014_2  q3June2014                 No         NaN\n",
       "21     49  q3June2014_2b    q3June2014_2b_2  q3June2014_2  q3June2014                 No         NaN\n",
       "22     51  q3June2014_2b    q3June2014_2b_4  q3June2014_2  q3June2014                 No         NaN\n",
       "23     53  q3June2014_2b    q3June2014_2b_6  q3June2014_2  q3June2014                 No         NaN"
      ]
     },
     "execution_count": 131,
     "metadata": {},
     "output_type": "execute_result"
    }
   ],
   "source": [
    "clean_meta_df"
   ]
  },
  {
   "cell_type": "markdown",
   "id": "7355081d-79b3-47bb-979c-e7b376189de0",
   "metadata": {},
   "source": [
    "#### create a dictionary to map samples with technical duplicates"
   ]
  },
  {
   "cell_type": "code",
   "execution_count": 181,
   "id": "7c0d8b0c-f882-4e21-b9bc-dd2300c48a70",
   "metadata": {},
   "outputs": [],
   "source": [
    "dedup_dict = {}\n",
    "dedupIDs = set(clean_meta_df['tID_dedup'])\n",
    "for dedupID in dedupIDs:\n",
    "    dedup_dict[dedupID] = clean_meta_df.loc[clean_meta_df['tID_dedup'] == dedupID,'Sample ID'].tolist()"
   ]
  },
  {
   "cell_type": "code",
   "execution_count": 182,
   "id": "d2166c0d-7d9c-489b-8ff1-33ff24e7cb9b",
   "metadata": {},
   "outputs": [
    {
     "data": {
      "text/plain": [
       "{'R5neg_1': ['G3_R5neg_1a_655_2', 'G3_R5neg_1b_655_2'],\n",
       " 'R5pos_2': ['G2_R5pos_2_200_2'],\n",
       " 'nist': ['nist_2', 'nist_4', 'nist_6'],\n",
       " 'R5neg_3': ['G3_R5neg_3a_865_2', 'G3_R5neg_3b_865_2'],\n",
       " 'R5pos_1': ['G2_R5pos_1_142_2'],\n",
       " 'q3June2014_2': ['q3June2014_2a_2',\n",
       "  'q3June2014_2a_4',\n",
       "  'q3June2014_2a_6',\n",
       "  'q3June2014_2b_2',\n",
       "  'q3June2014_2b_4',\n",
       "  'q3June2014_2b_6'],\n",
       " 'Naive_1': ['G1_Naive_1_300_2'],\n",
       " 'R5pos_3': ['G2_R5pos_3_150_2'],\n",
       " 'Naive_3': ['G1_Naive_3_300_2'],\n",
       " 'R5neg_2': ['G3_R5neg_2a_687_2', 'G3_R5neg_2b_687_2'],\n",
       " 'Naive_2': ['G1_Naive_2_300_2'],\n",
       " 'q3June2014_1': ['q3June2014_1b_2', 'q3June2014_1b_4', 'q3June2014_1b_6']}"
      ]
     },
     "execution_count": 182,
     "metadata": {},
     "output_type": "execute_result"
    }
   ],
   "source": [
    "dedup_dict"
   ]
  },
  {
   "cell_type": "code",
   "execution_count": 130,
   "id": "e7047192-3f41-4630-9784-51c688334270",
   "metadata": {},
   "outputs": [],
   "source": [
    "clean_meta_df.to_csv(\"../../input/sequence_file/clean_meta_df.csv\",index = False)"
   ]
  },
  {
   "cell_type": "markdown",
   "id": "647f4573-a6ef-45e8-8c3a-7f1939cb5c49",
   "metadata": {},
   "source": [
    "---------"
   ]
  },
  {
   "cell_type": "markdown",
   "id": "bd8661af-b218-4c3c-824f-f6f47324e1ef",
   "metadata": {},
   "source": [
    "## Preprocess the asari table \n",
    "- Separate metainfo_df & data_df; convert zero to np.nan"
   ]
  },
  {
   "cell_type": "code",
   "execution_count": 170,
   "id": "2ac644b2-323a-4c7c-a27d-1f557b4c3850",
   "metadata": {},
   "outputs": [],
   "source": [
    "feat_df.index = feat_df['id_number']"
   ]
  },
  {
   "cell_type": "code",
   "execution_count": 171,
   "id": "0c4d2766-aef1-4ca2-8915-584941c503d9",
   "metadata": {},
   "outputs": [],
   "source": [
    "end_index = 11"
   ]
  },
  {
   "cell_type": "code",
   "execution_count": 207,
   "id": "b3a0e0ee-c063-47eb-aeeb-0a573d7c8535",
   "metadata": {},
   "outputs": [],
   "source": [
    "data_df = feat_df.iloc[:,end_index:]"
   ]
  },
  {
   "cell_type": "code",
   "execution_count": 208,
   "id": "3aa3a32d-4899-43d3-b04a-9af551b38928",
   "metadata": {},
   "outputs": [],
   "source": [
    "metainfo_df = feat_df.iloc[:,0:end_index]"
   ]
  },
  {
   "cell_type": "code",
   "execution_count": 209,
   "id": "116ce475-237c-4b33-bb35-11f5af408bf5",
   "metadata": {},
   "outputs": [],
   "source": [
    "# turn all zero to NA for easy manipulation later\n",
    "data_df[data_df == 0 ] = np.nan"
   ]
  },
  {
   "cell_type": "markdown",
   "id": "19b69a56-c95b-40ef-9928-0f2d666649d4",
   "metadata": {},
   "source": [
    "---"
   ]
  },
  {
   "cell_type": "markdown",
   "id": "dc1d5bcc-0526-4858-8cf1-a2817d53dbd9",
   "metadata": {
    "tags": []
   },
   "source": [
    "## Perform deduplication of technical replicates"
   ]
  },
  {
   "cell_type": "code",
   "execution_count": 218,
   "id": "1f76d541-b428-4d80-9bcc-638431b8f398",
   "metadata": {},
   "outputs": [],
   "source": [
    "def deduplicate(data_df,dedup_dict = dedup_dict):\n",
    "    if data_df.eq(0).any().any(): # a way to check if any cell is zero\n",
    "        print(\"warning: detet zero in dataset\")\n",
    "    else:\n",
    "        new_df = pd.DataFrame()\n",
    "        for dedup_name,dup_name_list in dedup_dict.items():\n",
    "            print(dedup_name)\n",
    "            subset_df = data_df[dup_name_list]\n",
    "            print(subset_df.columns)\n",
    "            averaged_list = subset_df.apply(lambda x: x.mean(skipna = True), axis = 1)\n",
    "            new_df[dedup_name] = averaged_list\n",
    "        new_df = new_df[new_df.columns.sort_values()]\n",
    "        return(new_df)"
   ]
  },
  {
   "cell_type": "code",
   "execution_count": 220,
   "id": "e7835062-93f3-4dcd-b5b3-4c66d02f8b86",
   "metadata": {},
   "outputs": [
    {
     "name": "stdout",
     "output_type": "stream",
     "text": [
      "R5neg_1\n",
      "Index(['G3_R5neg_1a_655_2', 'G3_R5neg_1b_655_2'], dtype='object')\n",
      "R5pos_2\n",
      "Index(['G2_R5pos_2_200_2'], dtype='object')\n",
      "nist\n",
      "Index(['nist_2', 'nist_4', 'nist_6'], dtype='object')\n",
      "R5neg_3\n",
      "Index(['G3_R5neg_3a_865_2', 'G3_R5neg_3b_865_2'], dtype='object')\n",
      "R5pos_1\n",
      "Index(['G2_R5pos_1_142_2'], dtype='object')\n",
      "q3June2014_2\n",
      "Index(['q3June2014_2a_2', 'q3June2014_2a_4', 'q3June2014_2a_6', 'q3June2014_2b_2', 'q3June2014_2b_4', 'q3June2014_2b_6'], dtype='object')\n",
      "Naive_1\n",
      "Index(['G1_Naive_1_300_2'], dtype='object')\n",
      "R5pos_3\n",
      "Index(['G2_R5pos_3_150_2'], dtype='object')\n",
      "Naive_3\n",
      "Index(['G1_Naive_3_300_2'], dtype='object')\n",
      "R5neg_2\n",
      "Index(['G3_R5neg_2a_687_2', 'G3_R5neg_2b_687_2'], dtype='object')\n",
      "Naive_2\n",
      "Index(['G1_Naive_2_300_2'], dtype='object')\n",
      "q3June2014_1\n",
      "Index(['q3June2014_1b_2', 'q3June2014_1b_4', 'q3June2014_1b_6'], dtype='object')\n"
     ]
    }
   ],
   "source": [
    "data_df_dedup = deduplicate(data_df,dedup_dict)"
   ]
  },
  {
   "cell_type": "markdown",
   "id": "582b5496-8839-4b0e-81b6-da0a1b0fc895",
   "metadata": {},
   "source": [
    "#### Quick deduplicated data reporting"
   ]
  },
  {
   "cell_type": "code",
   "execution_count": 221,
   "id": "345efe4d-6e86-4652-8f1e-8d673af7bca6",
   "metadata": {},
   "outputs": [
    {
     "data": {
      "text/plain": [
       "<AxesSubplot:>"
      ]
     },
     "execution_count": 221,
     "metadata": {},
     "output_type": "execute_result"
    },
    {
     "data": {
      "image/png": "[encoded data removed]",
      "text/plain": [
       "<Figure size 432x288 with 2 Axes>"
      ]
     },
     "metadata": {
      "needs_background": "light"
     },
     "output_type": "display_data"
    }
   ],
   "source": [
    "# quickly check if blank needs to be removed\n",
    "# Note that for drawing this, it will be better to not convert 0 to NA\n",
    "sns.heatmap(data_df_dedup.corr())"
   ]
  },
  {
   "cell_type": "markdown",
   "id": "c7cec478-1730-4112-a613-04a3c35becc0",
   "metadata": {},
   "source": [
    "-----"
   ]
  },
  {
   "cell_type": "markdown",
   "id": "c492f8c6-92e0-4523-a46d-6cce8f45f502",
   "metadata": {},
   "source": [
    "## Sample present reporting"
   ]
  },
  {
   "cell_type": "markdown",
   "id": "05184fa6-79a4-4c53-87b1-4a4479ae18ed",
   "metadata": {
    "tags": []
   },
   "source": [
    "### functions"
   ]
  },
  {
   "cell_type": "code",
   "execution_count": 229,
   "id": "11cac605-1a39-4369-a056-771ad6b54261",
   "metadata": {},
   "outputs": [],
   "source": [
    "def select_column_regExpr(feat_df,regPattern):\n",
    "    res_df = feat_df.loc[:,[x for x in feat_df.columns \\\n",
    "                            if re.search(regPattern,x)]]\n",
    "    return(res_df)\n",
    "\n",
    "def report_basic_stat(df):\n",
    "    '''\n",
    "    Default calculate mean and percentage of NA for any table.\n",
    "    Before inputting the table, filtering steps may need to be done like correlation of blank matrix and filter out samples.\n",
    "    '''\n",
    "    if any(df == 0):\n",
    "        df[df == 0] = np.nan\n",
    "    mean_list = df.apply(lambda x: x.mean(skipna = True), axis=1)\n",
    "    percNA_list = df.apply(lambda x: x.isna()).sum(axis = 1)/df.shape[1]\n",
    "    df_stat_tab = pd.DataFrame({\n",
    "                           'percNA':percNA_list, \n",
    "                           'mean': mean_list})\n",
    "    df_dict = df_stat_tab.to_dict('index')\n",
    "    return(df_dict)\n",
    "\n",
    "def select_and_report(feat_df,regPattern):\n",
    "    sel_df = select_column_regExpr(feat_df,regPattern)\n",
    "    rep_dict = report_basic_stat(sel_df)\n",
    "    return(rep_dict)"
   ]
  },
  {
   "cell_type": "markdown",
   "id": "52fcb6e5-1f78-4357-bbf8-80361ac0fd8a",
   "metadata": {},
   "source": [
    "### perform sample present report"
   ]
  },
  {
   "cell_type": "code",
   "execution_count": 259,
   "id": "44987879-bd3f-46a5-afb9-6a1dbd550095",
   "metadata": {},
   "outputs": [],
   "source": [
    "naive_dict = select_and_report(data_df_dedup,'Naive')\n",
    "R5neg_dict = select_and_report(data_df_dedup,'R5neg')\n",
    "R5pos_dict = select_and_report(data_df_dedup,'R5pos')"
   ]
  },
  {
   "cell_type": "code",
   "execution_count": 260,
   "id": "d94ef2c1-2b05-4207-b578-5a04ba36a715",
   "metadata": {},
   "outputs": [],
   "source": [
    "dict_of_dict = {'Naive': naive_dict,\n",
    "                'R5neg': R5neg_dict,\n",
    "                'R5pos': R5pos_dict\n",
    "}"
   ]
  },
  {
   "cell_type": "code",
   "execution_count": 261,
   "id": "8734547f-69ff-4c66-945d-414073db372b",
   "metadata": {},
   "outputs": [],
   "source": [
    "def dicts2table(dict_of_dict):\n",
    "    new_df = pd.DataFrame()\n",
    "    for k,v in dict_of_dict.items():\n",
    "        tab = pd.DataFrame(v).transpose()\n",
    "        tab.columns = [k + \"_\" + x for x in tab.columns]\n",
    "        new_df =  pd.concat([new_df, tab], axis=1)\n",
    "    return(new_df)"
   ]
  },
  {
   "cell_type": "code",
   "execution_count": 262,
   "id": "d781d26e-e554-4f3e-8c8b-c564eac17ac6",
   "metadata": {},
   "outputs": [],
   "source": [
    "stat_tab = dicts2table(dict_of_dict)"
   ]
  },
  {
   "cell_type": "code",
   "execution_count": 263,
   "id": "e950b25d-7cce-4c9b-b2fc-dabb7972ef87",
   "metadata": {},
   "outputs": [
    {
     "data": {
      "text/html": [
       "<div>\n",
       "<style scoped>\n",
       "    .dataframe tbody tr th:only-of-type {\n",
       "        vertical-align: middle;\n",
       "    }\n",
       "\n",
       "    .dataframe tbody tr th {\n",
       "        vertical-align: top;\n",
       "    }\n",
       "\n",
       "    .dataframe thead th {\n",
       "        text-align: right;\n",
       "    }\n",
       "</style>\n",
       "<table border=\"1\" class=\"dataframe\">\n",
       "  <thead>\n",
       "    <tr style=\"text-align: right;\">\n",
       "      <th></th>\n",
       "      <th>Naive_percNA</th>\n",
       "      <th>Naive_mean</th>\n",
       "      <th>R5neg_percNA</th>\n",
       "      <th>R5neg_mean</th>\n",
       "      <th>R5pos_percNA</th>\n",
       "      <th>R5pos_mean</th>\n",
       "    </tr>\n",
       "  </thead>\n",
       "  <tbody>\n",
       "    <tr>\n",
       "      <th>F1</th>\n",
       "      <td>0.000000</td>\n",
       "      <td>70477.0</td>\n",
       "      <td>0.000000</td>\n",
       "      <td>1.184035e+05</td>\n",
       "      <td>0.333333</td>\n",
       "      <td>3.309550e+04</td>\n",
       "    </tr>\n",
       "    <tr>\n",
       "      <th>F4</th>\n",
       "      <td>0.000000</td>\n",
       "      <td>21717766.0</td>\n",
       "      <td>0.000000</td>\n",
       "      <td>3.699281e+07</td>\n",
       "      <td>0.000000</td>\n",
       "      <td>1.537496e+07</td>\n",
       "    </tr>\n",
       "    <tr>\n",
       "      <th>F5</th>\n",
       "      <td>1.000000</td>\n",
       "      <td>NaN</td>\n",
       "      <td>1.000000</td>\n",
       "      <td>NaN</td>\n",
       "      <td>1.000000</td>\n",
       "      <td>NaN</td>\n",
       "    </tr>\n",
       "    <tr>\n",
       "      <th>F6</th>\n",
       "      <td>1.000000</td>\n",
       "      <td>NaN</td>\n",
       "      <td>1.000000</td>\n",
       "      <td>NaN</td>\n",
       "      <td>1.000000</td>\n",
       "      <td>NaN</td>\n",
       "    </tr>\n",
       "    <tr>\n",
       "      <th>F9</th>\n",
       "      <td>0.333333</td>\n",
       "      <td>436238.0</td>\n",
       "      <td>0.666667</td>\n",
       "      <td>3.387320e+05</td>\n",
       "      <td>0.666667</td>\n",
       "      <td>3.503340e+05</td>\n",
       "    </tr>\n",
       "    <tr>\n",
       "      <th>...</th>\n",
       "      <td>...</td>\n",
       "      <td>...</td>\n",
       "      <td>...</td>\n",
       "      <td>...</td>\n",
       "      <td>...</td>\n",
       "      <td>...</td>\n",
       "    </tr>\n",
       "    <tr>\n",
       "      <th>F14975</th>\n",
       "      <td>1.000000</td>\n",
       "      <td>NaN</td>\n",
       "      <td>1.000000</td>\n",
       "      <td>NaN</td>\n",
       "      <td>1.000000</td>\n",
       "      <td>NaN</td>\n",
       "    </tr>\n",
       "    <tr>\n",
       "      <th>F14976</th>\n",
       "      <td>1.000000</td>\n",
       "      <td>NaN</td>\n",
       "      <td>1.000000</td>\n",
       "      <td>NaN</td>\n",
       "      <td>1.000000</td>\n",
       "      <td>NaN</td>\n",
       "    </tr>\n",
       "    <tr>\n",
       "      <th>F14977</th>\n",
       "      <td>1.000000</td>\n",
       "      <td>NaN</td>\n",
       "      <td>1.000000</td>\n",
       "      <td>NaN</td>\n",
       "      <td>1.000000</td>\n",
       "      <td>NaN</td>\n",
       "    </tr>\n",
       "    <tr>\n",
       "      <th>F14979</th>\n",
       "      <td>1.000000</td>\n",
       "      <td>NaN</td>\n",
       "      <td>1.000000</td>\n",
       "      <td>NaN</td>\n",
       "      <td>1.000000</td>\n",
       "      <td>NaN</td>\n",
       "    </tr>\n",
       "    <tr>\n",
       "      <th>F14980</th>\n",
       "      <td>1.000000</td>\n",
       "      <td>NaN</td>\n",
       "      <td>1.000000</td>\n",
       "      <td>NaN</td>\n",
       "      <td>1.000000</td>\n",
       "      <td>NaN</td>\n",
       "    </tr>\n",
       "  </tbody>\n",
       "</table>\n",
       "<p>9431 rows × 6 columns</p>\n",
       "</div>"
      ],
      "text/plain": [
       "        Naive_percNA  Naive_mean  R5neg_percNA    R5neg_mean  R5pos_percNA    R5pos_mean\n",
       "F1          0.000000     70477.0      0.000000  1.184035e+05      0.333333  3.309550e+04\n",
       "F4          0.000000  21717766.0      0.000000  3.699281e+07      0.000000  1.537496e+07\n",
       "F5          1.000000         NaN      1.000000           NaN      1.000000           NaN\n",
       "F6          1.000000         NaN      1.000000           NaN      1.000000           NaN\n",
       "F9          0.333333    436238.0      0.666667  3.387320e+05      0.666667  3.503340e+05\n",
       "...              ...         ...           ...           ...           ...           ...\n",
       "F14975      1.000000         NaN      1.000000           NaN      1.000000           NaN\n",
       "F14976      1.000000         NaN      1.000000           NaN      1.000000           NaN\n",
       "F14977      1.000000         NaN      1.000000           NaN      1.000000           NaN\n",
       "F14979      1.000000         NaN      1.000000           NaN      1.000000           NaN\n",
       "F14980      1.000000         NaN      1.000000           NaN      1.000000           NaN\n",
       "\n",
       "[9431 rows x 6 columns]"
      ]
     },
     "execution_count": 263,
     "metadata": {},
     "output_type": "execute_result"
    }
   ],
   "source": [
    "stat_tab"
   ]
  },
  {
   "cell_type": "markdown",
   "id": "68576797-1e28-4ed6-9aa2-c3a44d5dfdef",
   "metadata": {},
   "source": [
    "------"
   ]
  },
  {
   "cell_type": "markdown",
   "id": "a55e9649-2be0-4e14-a688-731ff394de5e",
   "metadata": {},
   "source": [
    "## add stat into feature table and rearrange sample order"
   ]
  },
  {
   "cell_type": "code",
   "execution_count": 264,
   "id": "46c1beef-e71f-4ba1-8143-5b07f8099064",
   "metadata": {},
   "outputs": [
    {
     "data": {
      "text/plain": [
       "Index(['id_number', 'mz', 'rtime', 'rtime_left_base', 'rtime_right_base', 'parent_masstrack_id', 'peak_area', 'cSelectivity', 'goodness_fitting', 'snr', 'detection_counts'], dtype='object')"
      ]
     },
     "execution_count": 264,
     "metadata": {},
     "output_type": "execute_result"
    }
   ],
   "source": [
    "metainfo_df.columns"
   ]
  },
  {
   "cell_type": "code",
   "execution_count": 266,
   "id": "96de4751-17a3-4414-90a6-aedea230bc2a",
   "metadata": {},
   "outputs": [
    {
     "data": {
      "text/plain": [
       "Index(['Naive_1', 'Naive_2', 'Naive_3', 'R5neg_1', 'R5neg_2', 'R5neg_3', 'R5pos_1', 'R5pos_2', 'R5pos_3', 'nist', 'q3June2014_1', 'q3June2014_2'], dtype='object')"
      ]
     },
     "execution_count": 266,
     "metadata": {},
     "output_type": "execute_result"
    }
   ],
   "source": [
    "data_df_dedup.columns"
   ]
  },
  {
   "cell_type": "code",
   "execution_count": 286,
   "id": "fb62cef7-7268-44ff-b33b-8b6f730a89d9",
   "metadata": {},
   "outputs": [],
   "source": [
    "def group_filtering(feat_df = data_df_dedup,\n",
    "                    stat_df = stat_tab,\n",
    "                    group_percNA_threshold = group_percNA_threshold,\n",
    "                    group_signature = ['R5pos','R5neg','Naive'], # the group you would like to do filtering\n",
    "                    percNA_suffix_inRegExpr = '\\\\_percNA'):\n",
    "    '''\n",
    "    Perform group filtering\n",
    "    \n",
    "    '''\n",
    "    group_percNA_df = select_column_regExpr(stat_df,('|').join([x + percNA_suffix_inRegExpr \\\n",
    "                                                                            for x in group_signature]))\n",
    "    group_percNA_df_filtered = group_percNA_df.loc[group_percNA_df.apply(lambda x: x < group_percNA_threshold,\n",
    "                                                                         axis =1).any(axis = 1),\n",
    "                                                   :]\n",
    "    new_stat_df = stat_df.loc[group_percNA_df_filtered.index,:]\n",
    "    new_feat_df = feat_df.loc[group_percNA_df_filtered.index,:]\n",
    "    \n",
    "    return(new_feat_df,new_stat_df)"
   ]
  },
  {
   "cell_type": "code",
   "execution_count": 288,
   "id": "2d8f8a81-01f0-4ce0-a272-84889223a2fb",
   "metadata": {},
   "outputs": [],
   "source": [
    "grp_filt_df, grp_filt_stat_df = group_filtering(feat_df = data_df_dedup,\n",
    "                                                stat_df = stat_tab,\n",
    "                                                group_percNA_threshold = group_percNA_threshold,\n",
    "                                                group_signature = ['R5pos','R5neg','Naive'],\n",
    "                                                percNA_suffix_inRegExpr = '\\\\_percNA')"
   ]
  },
  {
   "cell_type": "code",
   "execution_count": 289,
   "id": "d0e25d27-6fee-42d7-a45a-ce223c15d220",
   "metadata": {},
   "outputs": [
    {
     "data": {
      "text/plain": [
       "(4370, 6)"
      ]
     },
     "execution_count": 289,
     "metadata": {},
     "output_type": "execute_result"
    }
   ],
   "source": [
    "grp_filt_stat_df.shape"
   ]
  },
  {
   "cell_type": "code",
   "execution_count": 290,
   "id": "4c768163-1205-4bc6-87f7-0ce45f80ceb6",
   "metadata": {},
   "outputs": [
    {
     "name": "stdout",
     "output_type": "stream",
     "text": [
      "Before filtering, there are 9431 number of features\n",
      " finally after group filtering, there are 4370 number of features\n"
     ]
    }
   ],
   "source": [
    "print(f\"Before filtering, there are {feat_df.shape[0]} number of features\\n \\\n",
    "finally after group filtering, there are {grp_filt_df.shape[0]} number of features\")"
   ]
  },
  {
   "cell_type": "code",
   "execution_count": 323,
   "id": "1aa626a1-6cc6-4531-9660-297d02f0704f",
   "metadata": {},
   "outputs": [],
   "source": [
    "def combine_tables(list_df = [metainfo_df,grp_filt_stat_df,grp_filt_df],\n",
    "                key_index_df = stat_tab):\n",
    "    index = key_index_df.index\n",
    "    new_list_df = []\n",
    "    for df in list_df:\n",
    "        new_list_df.append(df.loc[index,:])\n",
    "    merge_df = pd.concat(new_list_df,axis =1)\n",
    "    return(merge_df)"
   ]
  },
  {
   "cell_type": "code",
   "execution_count": 324,
   "id": "ba20d820-00ee-41e9-9445-60923a13db4a",
   "metadata": {},
   "outputs": [],
   "source": [
    "m_df = combine_tables(list_df = [metainfo_df,grp_filt_stat_df,grp_filt_df],  # the order of df directly afffects the order of the columns\n",
    "                    key_index_df = grp_filt_stat_df)"
   ]
  },
  {
   "cell_type": "code",
   "execution_count": 325,
   "id": "fcec6ef8-9da1-47ca-bd7d-6e4608549b45",
   "metadata": {},
   "outputs": [],
   "source": [
    "m_df.to_csv(\n",
    "    os.path.join(output_dir,\n",
    "                   f\"groupFil{group_percNA_threshold}_{mode}_featab.csv\"),index = False)\n",
    "\n",
    "grp_filt_stat_df.to_csv(\n",
    "    os.path.join(output_dir,\n",
    "                   f\"groupFil{group_percNA_threshold}_{mode}_stattab.csv\"))"
   ]
  },
  {
   "cell_type": "markdown",
   "id": "e1487e6f-44a2-4a16-a4d3-b6e23c7afed6",
   "metadata": {},
   "source": [
    "---"
   ]
  },
  {
   "cell_type": "markdown",
   "id": "ab7cdb70-8be1-41a1-ab16-484007dddd4e",
   "metadata": {},
   "source": [
    "---"
   ]
  },
  {
   "cell_type": "markdown",
   "id": "4213dd19-f72d-4a3f-ae2a-1340510b3311",
   "metadata": {},
   "source": [
    "---"
   ]
  },
  {
   "cell_type": "markdown",
   "id": "e3a7162a-7fa4-4969-ae81-8f5878de143f",
   "metadata": {},
   "source": [
    "## Filtering samples based on QC report (if needed)"
   ]
  },
  {
   "cell_type": "code",
   "execution_count": 329,
   "id": "65c91f62-a389-4d4e-854e-ea933b9346d1",
   "metadata": {},
   "outputs": [],
   "source": [
    "# No outliers identified in this analysis, thus the outliers list is empty\n",
    "outliers = []"
   ]
  },
  {
   "cell_type": "code",
   "execution_count": 327,
   "id": "debb15db-6952-4512-ad04-caa585baa313",
   "metadata": {},
   "outputs": [],
   "source": [
    "def dropSamples(feat_df,dropSampleList):\n",
    "    fil_feat_df = feat_df.drop(dropSampleList, axis = 1)\n",
    "    return(fil_feat_df)"
   ]
  },
  {
   "cell_type": "code",
   "execution_count": 331,
   "id": "95812003-8c78-499b-ab67-42c285413e4f",
   "metadata": {},
   "outputs": [],
   "source": [
    "if outliers:\n",
    "    outDrop_grp_filt_df = dropSamples(grp_filt_df, outliers)\n",
    "    outDrop_grp_filt_df.to_csv(\n",
    "        os.path.join(output_dir,\n",
    "                       f\"outDrop_blankM_groupFil{group_percNA_threshold}_{mode}_featab.csv\"),index = False)\n",
    "else:\n",
    "    outDrop_grp_filt_df = m_df"
   ]
  },
  {
   "cell_type": "markdown",
   "id": "7967e5d5-299c-4f4d-93b3-6123dee444e1",
   "metadata": {
    "tags": []
   },
   "source": [
    "## TIC normalization for top 1000 features"
   ]
  },
  {
   "cell_type": "code",
   "execution_count": 332,
   "id": "512f575c-0d07-4792-ba5c-63bbbfc18bce",
   "metadata": {},
   "outputs": [],
   "source": [
    "data_df = select_column_regExpr(outDrop_grp_filt_df,'R5pos\\\\_[0-9]+|R5neg\\\\_[0-9]+|Naive\\\\_[0-9]+')"
   ]
  },
  {
   "cell_type": "code",
   "execution_count": 333,
   "id": "1fdc31b1-cdf0-4eb1-883a-13ead3fa76ba",
   "metadata": {},
   "outputs": [
    {
     "data": {
      "text/html": [
       "<div>\n",
       "<style scoped>\n",
       "    .dataframe tbody tr th:only-of-type {\n",
       "        vertical-align: middle;\n",
       "    }\n",
       "\n",
       "    .dataframe tbody tr th {\n",
       "        vertical-align: top;\n",
       "    }\n",
       "\n",
       "    .dataframe thead th {\n",
       "        text-align: right;\n",
       "    }\n",
       "</style>\n",
       "<table border=\"1\" class=\"dataframe\">\n",
       "  <thead>\n",
       "    <tr style=\"text-align: right;\">\n",
       "      <th></th>\n",
       "      <th>Naive_1</th>\n",
       "      <th>Naive_2</th>\n",
       "      <th>Naive_3</th>\n",
       "      <th>R5neg_1</th>\n",
       "      <th>R5neg_2</th>\n",
       "      <th>R5neg_3</th>\n",
       "      <th>R5pos_1</th>\n",
       "      <th>R5pos_2</th>\n",
       "      <th>R5pos_3</th>\n",
       "    </tr>\n",
       "  </thead>\n",
       "  <tbody>\n",
       "    <tr>\n",
       "      <th>F1</th>\n",
       "      <td>27701.0</td>\n",
       "      <td>94249.0</td>\n",
       "      <td>89481.0</td>\n",
       "      <td>112257.0</td>\n",
       "      <td>125058.5</td>\n",
       "      <td>117895.0</td>\n",
       "      <td>NaN</td>\n",
       "      <td>43734.0</td>\n",
       "      <td>22457.0</td>\n",
       "    </tr>\n",
       "    <tr>\n",
       "      <th>F4</th>\n",
       "      <td>18042890.0</td>\n",
       "      <td>23587830.0</td>\n",
       "      <td>23522578.0</td>\n",
       "      <td>37977006.0</td>\n",
       "      <td>31336873.5</td>\n",
       "      <td>41664549.5</td>\n",
       "      <td>12798823.0</td>\n",
       "      <td>15422758.0</td>\n",
       "      <td>17903307.0</td>\n",
       "    </tr>\n",
       "    <tr>\n",
       "      <th>F20</th>\n",
       "      <td>131751.0</td>\n",
       "      <td>445307.0</td>\n",
       "      <td>75659.0</td>\n",
       "      <td>247920.5</td>\n",
       "      <td>271441.0</td>\n",
       "      <td>156271.5</td>\n",
       "      <td>83564.0</td>\n",
       "      <td>145807.0</td>\n",
       "      <td>170846.0</td>\n",
       "    </tr>\n",
       "    <tr>\n",
       "      <th>F24</th>\n",
       "      <td>71436.0</td>\n",
       "      <td>69595.0</td>\n",
       "      <td>287939.0</td>\n",
       "      <td>314947.0</td>\n",
       "      <td>231693.5</td>\n",
       "      <td>348396.5</td>\n",
       "      <td>NaN</td>\n",
       "      <td>NaN</td>\n",
       "      <td>188441.0</td>\n",
       "    </tr>\n",
       "    <tr>\n",
       "      <th>F25</th>\n",
       "      <td>1586601.0</td>\n",
       "      <td>3078699.0</td>\n",
       "      <td>2724799.0</td>\n",
       "      <td>5243289.5</td>\n",
       "      <td>4150817.5</td>\n",
       "      <td>5506156.0</td>\n",
       "      <td>NaN</td>\n",
       "      <td>1334698.0</td>\n",
       "      <td>1406772.0</td>\n",
       "    </tr>\n",
       "    <tr>\n",
       "      <th>...</th>\n",
       "      <td>...</td>\n",
       "      <td>...</td>\n",
       "      <td>...</td>\n",
       "      <td>...</td>\n",
       "      <td>...</td>\n",
       "      <td>...</td>\n",
       "      <td>...</td>\n",
       "      <td>...</td>\n",
       "      <td>...</td>\n",
       "    </tr>\n",
       "    <tr>\n",
       "      <th>F14949</th>\n",
       "      <td>15732177.0</td>\n",
       "      <td>15209789.0</td>\n",
       "      <td>14528583.0</td>\n",
       "      <td>14824290.0</td>\n",
       "      <td>11951061.0</td>\n",
       "      <td>8457684.0</td>\n",
       "      <td>14030294.0</td>\n",
       "      <td>15458848.0</td>\n",
       "      <td>14729906.0</td>\n",
       "    </tr>\n",
       "    <tr>\n",
       "      <th>F14950</th>\n",
       "      <td>3163233.0</td>\n",
       "      <td>3176760.0</td>\n",
       "      <td>2967251.0</td>\n",
       "      <td>3196840.5</td>\n",
       "      <td>2565017.5</td>\n",
       "      <td>1655951.0</td>\n",
       "      <td>3344036.0</td>\n",
       "      <td>3253317.0</td>\n",
       "      <td>3139357.0</td>\n",
       "    </tr>\n",
       "    <tr>\n",
       "      <th>F14958</th>\n",
       "      <td>2326336.0</td>\n",
       "      <td>2307527.0</td>\n",
       "      <td>2207683.0</td>\n",
       "      <td>2280426.5</td>\n",
       "      <td>1695742.5</td>\n",
       "      <td>1242849.0</td>\n",
       "      <td>1952295.0</td>\n",
       "      <td>2232922.0</td>\n",
       "      <td>2262042.0</td>\n",
       "    </tr>\n",
       "    <tr>\n",
       "      <th>F14962</th>\n",
       "      <td>393065.0</td>\n",
       "      <td>320235.0</td>\n",
       "      <td>316018.0</td>\n",
       "      <td>385911.0</td>\n",
       "      <td>268114.0</td>\n",
       "      <td>153413.0</td>\n",
       "      <td>367600.0</td>\n",
       "      <td>271134.0</td>\n",
       "      <td>346727.0</td>\n",
       "    </tr>\n",
       "    <tr>\n",
       "      <th>F14963</th>\n",
       "      <td>198373.0</td>\n",
       "      <td>177229.0</td>\n",
       "      <td>158079.0</td>\n",
       "      <td>209609.5</td>\n",
       "      <td>150973.0</td>\n",
       "      <td>95745.0</td>\n",
       "      <td>188829.0</td>\n",
       "      <td>143583.0</td>\n",
       "      <td>182647.0</td>\n",
       "    </tr>\n",
       "  </tbody>\n",
       "</table>\n",
       "<p>4370 rows × 9 columns</p>\n",
       "</div>"
      ],
      "text/plain": [
       "           Naive_1     Naive_2     Naive_3     R5neg_1     R5neg_2     R5neg_3     R5pos_1     R5pos_2     R5pos_3\n",
       "F1         27701.0     94249.0     89481.0    112257.0    125058.5    117895.0         NaN     43734.0     22457.0\n",
       "F4      18042890.0  23587830.0  23522578.0  37977006.0  31336873.5  41664549.5  12798823.0  15422758.0  17903307.0\n",
       "F20       131751.0    445307.0     75659.0    247920.5    271441.0    156271.5     83564.0    145807.0    170846.0\n",
       "F24        71436.0     69595.0    287939.0    314947.0    231693.5    348396.5         NaN         NaN    188441.0\n",
       "F25      1586601.0   3078699.0   2724799.0   5243289.5   4150817.5   5506156.0         NaN   1334698.0   1406772.0\n",
       "...            ...         ...         ...         ...         ...         ...         ...         ...         ...\n",
       "F14949  15732177.0  15209789.0  14528583.0  14824290.0  11951061.0   8457684.0  14030294.0  15458848.0  14729906.0\n",
       "F14950   3163233.0   3176760.0   2967251.0   3196840.5   2565017.5   1655951.0   3344036.0   3253317.0   3139357.0\n",
       "F14958   2326336.0   2307527.0   2207683.0   2280426.5   1695742.5   1242849.0   1952295.0   2232922.0   2262042.0\n",
       "F14962    393065.0    320235.0    316018.0    385911.0    268114.0    153413.0    367600.0    271134.0    346727.0\n",
       "F14963    198373.0    177229.0    158079.0    209609.5    150973.0     95745.0    188829.0    143583.0    182647.0\n",
       "\n",
       "[4370 rows x 9 columns]"
      ]
     },
     "execution_count": 333,
     "metadata": {},
     "output_type": "execute_result"
    }
   ],
   "source": [
    "data_df"
   ]
  },
  {
   "cell_type": "code",
   "execution_count": 334,
   "id": "8fdaa648-50f4-41fe-b55f-500ae196a77d",
   "metadata": {},
   "outputs": [],
   "source": [
    "import copy\n",
    "def TIC_Normalization_TopN(data_df,\n",
    "                           topN = 1000):\n",
    "    if any(data_df.apply(lambda x: x == 0).any()):\n",
    "        data_df[data_df == 0] = np.nan\n",
    "    feature_ids = data_df.sum(axis = 1, \n",
    "                              skipna = True\n",
    "                             ).sort_values(ascending = False)[0:topN].index\n",
    "    meanTIC = data_df.loc[feature_ids,:].mean(axis=0,skipna = True)\n",
    "    # print mean of TIC of the topN features\n",
    "    print(meanTIC[0:5])\n",
    "    factor_dict = dict(meanTIC/meanTIC.median())\n",
    "    new_data_df = copy.deepcopy(data_df)\n",
    "    for k,v in factor_dict.items():\n",
    "        new_data_df[k] = [x/v for x in new_data_df[k]]\n",
    "    # print meanTIC of topN features post-TIC normalization, should be the same\n",
    "    print(new_data_df.loc[feature_ids,:].mean(axis=0,skipna = True)[0:5])\n",
    "    \n",
    "    # print meanTIC of all features post-TIC normalization, should be closed\n",
    "    print(new_data_df.mean(axis=0,skipna = True)[0:5])\n",
    "    \n",
    "    return(new_data_df)"
   ]
  },
  {
   "cell_type": "code",
   "execution_count": 335,
   "id": "52c2218d-e499-4d47-84ae-343d985c6df0",
   "metadata": {},
   "outputs": [
    {
     "name": "stdout",
     "output_type": "stream",
     "text": [
      "Naive_1    6.764542e+07\n",
      "Naive_2    6.634030e+07\n",
      "Naive_3    6.561877e+07\n",
      "R5neg_1    5.654417e+07\n",
      "R5neg_2    5.917028e+07\n",
      "dtype: float64\n",
      "Naive_1    6.634030e+07\n",
      "Naive_2    6.634030e+07\n",
      "Naive_3    6.634030e+07\n",
      "R5neg_1    6.634030e+07\n",
      "R5neg_2    6.634030e+07\n",
      "dtype: float64\n",
      "Naive_1    1.785576e+07\n",
      "Naive_2    1.696040e+07\n",
      "Naive_3    1.735074e+07\n",
      "R5neg_1    1.683282e+07\n",
      "R5neg_2    1.682219e+07\n",
      "dtype: float64\n"
     ]
    }
   ],
   "source": [
    "TICnorm_data_df = TIC_Normalization_TopN(data_df,topN = 1000)"
   ]
  },
  {
   "cell_type": "code",
   "execution_count": 346,
   "id": "59b821c7-17d5-4419-aee7-f4f9ea63cff8",
   "metadata": {},
   "outputs": [],
   "source": [
    "import numpy as np\n",
    "import matplotlib.pyplot as plt\n",
    "\n",
    "def bar_plot_TIC(df):\n",
    "    TIC = df.sum(axis = 0)\n",
    "    plt.bar(TIC.index, TIC)\n",
    "    plt.show()"
   ]
  },
  {
   "cell_type": "code",
   "execution_count": 398,
   "id": "12db85ba-0bf8-4e0c-a948-8c24106a925b",
   "metadata": {},
   "outputs": [
    {
     "data": {
      "image/png": "[encoded data removed]",
      "text/plain": [
       "<Figure size 432x288 with 1 Axes>"
      ]
     },
     "metadata": {
      "needs_background": "light"
     },
     "output_type": "display_data"
    },
    {
     "data": {
      "image/png": "[encoded data removed]",
      "text/plain": [
       "<Figure size 432x288 with 1 Axes>"
      ]
     },
     "metadata": {
      "needs_background": "light"
     },
     "output_type": "display_data"
    }
   ],
   "source": [
    "bar_plot_TIC(data_df)\n",
    "bar_plot_TIC(TICnorm_data_df)"
   ]
  },
  {
   "cell_type": "code",
   "execution_count": 349,
   "id": "ddbb1633-2232-4491-ae8b-02d003bb0b36",
   "metadata": {
    "tags": []
   },
   "outputs": [],
   "source": [
    "# I decide to just replace the \n",
    "def replace_col_wtTICnorm(feat_df = outDrop_grp_filt_df,\n",
    "                          data_df = TICnorm_data_df):\n",
    "    '''\n",
    "    replace the same column of feature dataframe (feat_df) with the data_df that have the same column\n",
    "    Return the feature dataframe. Note that the function is not limited to TIC normalized data.\n",
    "    '''\n",
    "    new_feat_df = copy.deepcopy(feat_df)\n",
    "    for col in data_df.columns:\n",
    "        new_feat_df[col] = data_df[col]\n",
    "\n",
    "    return(new_feat_df)"
   ]
  },
  {
   "cell_type": "code",
   "execution_count": 354,
   "id": "71891ba3-1876-44c5-90de-6720d34a6e83",
   "metadata": {},
   "outputs": [],
   "source": [
    "TICnorm_feat_df = replace_col_wtTICnorm(feat_df = outDrop_grp_filt_df,\n",
    "                          data_df = TICnorm_data_df)"
   ]
  },
  {
   "cell_type": "code",
   "execution_count": 355,
   "id": "1dd7e4e1-ad12-4903-8606-1b18c579c37d",
   "metadata": {},
   "outputs": [],
   "source": [
    "TICnorm_feat_df.to_csv(\n",
    "        os.path.join(output_dir,\n",
    "                       f\"TICnorm_groupFil{group_percNA_threshold}_{mode}_featab.csv\"),index = False) # rename if needed"
   ]
  },
  {
   "cell_type": "markdown",
   "id": "a1c0b8f7-082c-429d-8a9d-60e8cb4a9690",
   "metadata": {},
   "source": [
    "------"
   ]
  },
  {
   "cell_type": "markdown",
   "id": "7bb61a20-443b-4410-a1c2-e85ea6b835e1",
   "metadata": {},
   "source": [
    "------"
   ]
  },
  {
   "cell_type": "markdown",
   "id": "33abc238-176a-4260-bbf1-aa2a50111730",
   "metadata": {},
   "source": [
    "------"
   ]
  },
  {
   "cell_type": "markdown",
   "id": "32fd6fbe-3d25-4bda-a002-83ffca07254d",
   "metadata": {},
   "source": [
    "------"
   ]
  },
  {
   "cell_type": "markdown",
   "id": "37b1cd80-d06d-4dd7-ba58-ff1632e37898",
   "metadata": {},
   "source": [
    "------"
   ]
  },
  {
   "cell_type": "markdown",
   "id": "da2134c6-b770-4c81-b6ad-4b07ada6a959",
   "metadata": {},
   "source": [
    "## Normalization by cell number"
   ]
  },
  {
   "cell_type": "code",
   "execution_count": 379,
   "id": "a15c9a1e-f885-4460-aa17-58be7d71e866",
   "metadata": {},
   "outputs": [],
   "source": [
    "import statistics as stat\n",
    "def create_factor_dict(clean_meta_df,column2factor):\n",
    "    factor_dict = {}\n",
    "    new_df = clean_meta_df.loc[clean_meta_df['biological_samples'] == 'Yes',:]\n",
    "    factor_dict = {row['tID_dedup']:row[column2factor] for i,row in new_df.iterrows()}\n",
    "    median_value = stat.median(factor_dict.values())\n",
    "    new_factor_dict = {k : float(v)/float(median_value) for k,v in factor_dict.items()}\n",
    "    return(new_factor_dict)"
   ]
  },
  {
   "cell_type": "code",
   "execution_count": 390,
   "id": "dfb9e408-0912-4d77-866e-8e6babe93c3f",
   "metadata": {},
   "outputs": [],
   "source": [
    "def Customized_Normalization(data_df,\n",
    "                           factor_dict = factor_dict):\n",
    "    if data_df.apply(lambda x: x == 0).any().any():\n",
    "        data_df[data_df == 0] = np.nan\n",
    "        \n",
    "    new_data_df = copy.deepcopy(data_df)\n",
    "    for k,v in factor_dict.items():\n",
    "        new_data_df[k] = [x/v for x in new_data_df[k]]\n",
    "    \n",
    "    # print meanTIC of all features post-TIC normalization, should be closed\n",
    "    print(new_data_df.mean(axis=0,skipna = True)[0:5])\n",
    "    \n",
    "    return(new_data_df)"
   ]
  },
  {
   "cell_type": "code",
   "execution_count": 391,
   "id": "0fb010a0-5cae-4f02-9a8c-a97a555a56cf",
   "metadata": {},
   "outputs": [
    {
     "name": "stdout",
     "output_type": "stream",
     "text": [
      "300\n"
     ]
    },
    {
     "data": {
      "text/plain": [
       "{'R5pos_1': 0.47333333333333333,\n",
       " 'R5pos_2': 0.6666666666666666,\n",
       " 'R5pos_3': 0.5,\n",
       " 'Naive_1': 1.0,\n",
       " 'Naive_2': 1.0,\n",
       " 'Naive_3': 1.0,\n",
       " 'R5neg_1': 2.183333333333333,\n",
       " 'R5neg_2': 2.29,\n",
       " 'R5neg_3': 2.8833333333333333}"
      ]
     },
     "execution_count": 391,
     "metadata": {},
     "output_type": "execute_result"
    }
   ],
   "source": [
    "factor_dict = create_factor_dict(clean_meta_df,column2factor = \"cell_number\")\n",
    "factor_dict"
   ]
  },
  {
   "cell_type": "code",
   "execution_count": 392,
   "id": "9d9da129-5433-416d-a02c-166fae01aafb",
   "metadata": {},
   "outputs": [
    {
     "name": "stdout",
     "output_type": "stream",
     "text": [
      "Naive_1    1.820704e+07\n",
      "Naive_2    1.696040e+07\n",
      "Naive_3    1.716203e+07\n",
      "R5neg_1    6.571239e+06\n",
      "R5neg_2    6.551989e+06\n",
      "dtype: float64\n"
     ]
    }
   ],
   "source": [
    "data_df = select_column_regExpr(outDrop_grp_filt_df,'R5pos\\\\_[0-9]+|R5neg\\\\_[0-9]+|Naive\\\\_[0-9]+')\n",
    "cellNorm_data_df = Customized_Normalization(data_df,factor_dict)"
   ]
  },
  {
   "cell_type": "code",
   "execution_count": 397,
   "id": "7be725eb-ab58-4603-8bf8-eb283da184ce",
   "metadata": {},
   "outputs": [
    {
     "data": {
      "image/png": "[encoded data removed]",
      "text/plain": [
       "<Figure size 432x288 with 1 Axes>"
      ]
     },
     "metadata": {
      "needs_background": "light"
     },
     "output_type": "display_data"
    },
    {
     "data": {
      "image/png": "[encoded data removed]",
      "text/plain": [
       "<Figure size 432x288 with 1 Axes>"
      ]
     },
     "metadata": {
      "needs_background": "light"
     },
     "output_type": "display_data"
    }
   ],
   "source": [
    "bar_plot_TIC(data_df)\n",
    "bar_plot_TIC(cellNorm_data_df)"
   ]
  },
  {
   "cell_type": "code",
   "execution_count": 393,
   "id": "afeff839-0b34-46bf-a00f-416b08fe4a06",
   "metadata": {},
   "outputs": [],
   "source": [
    "Cellnorm_feat_df = replace_col_wtTICnorm(feat_df = outDrop_grp_filt_df,\n",
    "                          data_df = cellNorm_data_df)"
   ]
  },
  {
   "cell_type": "code",
   "execution_count": 395,
   "id": "55d556f8-13b1-4b3a-90b1-236213bee029",
   "metadata": {},
   "outputs": [],
   "source": [
    "Cellnorm_feat_df.to_csv(\n",
    "        os.path.join(output_dir,\n",
    "                       f\"CellNumnorm_groupFil{group_percNA_threshold}_{mode}_featab.csv\"),index = False) # rename if needed"
   ]
  },
  {
   "cell_type": "markdown",
   "id": "ab924e6d-aeb1-47a1-b467-d4d94a686c5c",
   "metadata": {},
   "source": [
    "-----"
   ]
  },
  {
   "cell_type": "markdown",
   "id": "c027c754-4baf-4041-a832-5e4b60c99045",
   "metadata": {},
   "source": [
    "## Summary\n",
    "- normalization run two-ways:\n",
    "    - based on top 1000 feature TIC: `TICnorm_data_df`\n",
    "    - based on cell number: `cellNorm_data_df`"
   ]
  },
  {
   "cell_type": "markdown",
   "id": "bc6518af-8d04-4002-addf-164d958b1427",
   "metadata": {},
   "source": [
    "------"
   ]
  },
  {
   "cell_type": "markdown",
   "id": "c532b640-c577-407d-9b79-1895c061b05f",
   "metadata": {},
   "source": [
    "------"
   ]
  },
  {
   "cell_type": "markdown",
   "id": "653fb745-de27-4deb-8080-a7f7c4434bb1",
   "metadata": {
    "tags": []
   },
   "source": [
    "## Imputation with half minimum"
   ]
  },
  {
   "cell_type": "code",
   "execution_count": 436,
   "id": "a4f594db-5927-493c-b185-6f22906c43ba",
   "metadata": {},
   "outputs": [],
   "source": [
    "def imputation(norm_data_df,full_asari_data_df,replace = 'half_minimum'):\n",
    "    '''\n",
    "    the row index should be matched btw. normalized data df & full asari df\n",
    "    The reason to add full_asari_data_df is to add the true minimum across all samples. \n",
    "    It will better capture the baseline\n",
    "    Default setting: if there is 0, then it will automatically deem as NA.\n",
    "    full_asari_data_df can use the same dataset of norm_data_df\n",
    "    norm_data_df can be exactly the same with not normalized dataset\n",
    "    \n",
    "    Output\n",
    "    ======\n",
    "    Return the NA filled norm_data_df\n",
    "    ''' \n",
    "    \n",
    "    # turn zero to NA\n",
    "    norm_data_df[norm_data_df == 0] = np.nan\n",
    "    full_asari_data_df[full_asari_data_df == 0] = np.nan\n",
    "    \n",
    "    if replace == 'half_minimum':\n",
    "        for i,row in norm_data_df.iterrows():\n",
    "            minimum_value = full_asari_data_df.loc[i,:].min()\n",
    "            row.fillna(minimum_value/2,inplace = True) # imputation is minimum\n",
    "\n",
    "    return(norm_data_df)"
   ]
  },
  {
   "cell_type": "markdown",
   "id": "98182ab6-ec22-4188-94e7-11ac9e4e3619",
   "metadata": {},
   "source": [
    "#### TICnorm data"
   ]
  },
  {
   "cell_type": "code",
   "execution_count": 437,
   "id": "0266ec2a-3582-4591-828b-8d3f25a4db91",
   "metadata": {},
   "outputs": [],
   "source": [
    "TIC_full_data_df = select_column_regExpr(TICnorm_feat_df,'R5pos\\\\_[0-9]+|R5neg\\\\_[0-9]+|Naive\\\\_[0-9]+|q3June2014\\\\_[0-9]|nist')"
   ]
  },
  {
   "cell_type": "code",
   "execution_count": 438,
   "id": "e9c4dc19-18aa-4046-a71a-c666d5012e44",
   "metadata": {},
   "outputs": [
    {
     "data": {
      "text/plain": [
       "Index(['Naive_1', 'Naive_2', 'Naive_3', 'R5neg_1', 'R5neg_2', 'R5neg_3', 'R5pos_1', 'R5pos_2', 'R5pos_3', 'nist', 'q3June2014_1', 'q3June2014_2'], dtype='object')"
      ]
     },
     "execution_count": 438,
     "metadata": {},
     "output_type": "execute_result"
    }
   ],
   "source": [
    "# Make sure full asari data table including all different samples\n",
    "TIC_full_data_df.columns"
   ]
  },
  {
   "cell_type": "code",
   "execution_count": 439,
   "id": "48565f31-ce0c-4a3d-9d77-e0106970fb48",
   "metadata": {},
   "outputs": [
    {
     "name": "stdout",
     "output_type": "stream",
     "text": [
      "Index(['F1', 'F4', 'F20', 'F24', 'F25'], dtype='object')\n",
      "Index(['F1', 'F4', 'F20', 'F24', 'F25'], dtype='object')\n"
     ]
    }
   ],
   "source": [
    "# Make sure they both point to Feature ID\n",
    "print(TIC_full_data_df.index[0:5])\n",
    "print(TICnorm_data_df.index[0:5])"
   ]
  },
  {
   "cell_type": "code",
   "execution_count": 440,
   "id": "2fbe7ae9-accb-4d07-8ded-4489b3afc26c",
   "metadata": {},
   "outputs": [],
   "source": [
    "TICnorm_data_df_imphMin = imputation(norm_data_df = TICnorm_data_df,\n",
    "                                       full_asari_data_df = TIC_full_data_df,\n",
    "                                       replace = 'half_minimum')\n",
    "\n",
    "TICnorm_imphMin_feat_df = replace_col_wtTICnorm(feat_df = TICnorm_feat_df,\n",
    "                          data_df = TICnorm_data_df_imphMin)\n",
    "\n",
    "TICnorm_imphMin_feat_df.to_csv(\n",
    "        os.path.join(output_dir,\n",
    "                       f\"hMinImp_TICnorm_groupFil{group_percNA_threshold}_{mode}_featab.csv\"),index = False)"
   ]
  },
  {
   "cell_type": "markdown",
   "id": "6554c15b-e7ee-4580-a7fc-c7d288937080",
   "metadata": {},
   "source": [
    "#### Cellnorm data"
   ]
  },
  {
   "cell_type": "code",
   "execution_count": 441,
   "id": "1185b502-44cc-42e2-9315-2b69d8f80209",
   "metadata": {},
   "outputs": [],
   "source": [
    "cellNorm_full_data_df = select_column_regExpr(Cellnorm_feat_df,'R5pos\\\\_[0-9]+|R5neg\\\\_[0-9]+|Naive\\\\_[0-9]+|q3June2014\\\\_[0-9]|nist')"
   ]
  },
  {
   "cell_type": "code",
   "execution_count": 442,
   "id": "8cabcf28-7665-4547-b617-db370ea152a7",
   "metadata": {},
   "outputs": [
    {
     "data": {
      "text/plain": [
       "Index(['Naive_1', 'Naive_2', 'Naive_3', 'R5neg_1', 'R5neg_2', 'R5neg_3', 'R5pos_1', 'R5pos_2', 'R5pos_3', 'nist', 'q3June2014_1', 'q3June2014_2'], dtype='object')"
      ]
     },
     "execution_count": 442,
     "metadata": {},
     "output_type": "execute_result"
    }
   ],
   "source": [
    "# Make sure full asari data table including all different samples\n",
    "cellNorm_full_data_df.columns"
   ]
  },
  {
   "cell_type": "code",
   "execution_count": 443,
   "id": "65fc75bd-87b4-492d-9250-4ee6f419c43e",
   "metadata": {},
   "outputs": [
    {
     "name": "stdout",
     "output_type": "stream",
     "text": [
      "Index(['F1', 'F4', 'F20', 'F24', 'F25'], dtype='object')\n",
      "Index(['F1', 'F4', 'F20', 'F24', 'F25'], dtype='object')\n"
     ]
    }
   ],
   "source": [
    "# Make sure they both point to Feature ID\n",
    "print(cellNorm_full_data_df.index[0:5])\n",
    "print(cellNorm_data_df.index[0:5])"
   ]
  },
  {
   "cell_type": "code",
   "execution_count": 444,
   "id": "b8ea2ab3-c114-402b-b10e-02a7910ce0c6",
   "metadata": {},
   "outputs": [],
   "source": [
    "cellNorm_data_df_imphMin = imputation(norm_data_df = cellNorm_data_df,\n",
    "                                       full_asari_data_df = cellNorm_full_data_df,\n",
    "                                       replace = 'half_minimum')\n",
    "\n",
    "cellNorm_imphMin_feat_df = replace_col_wtTICnorm(feat_df = Cellnorm_feat_df,\n",
    "                          data_df = cellNorm_data_df_imphMin)\n",
    "\n",
    "cellNorm_imphMin_feat_df.to_csv(\n",
    "        os.path.join(output_dir,\n",
    "                       f\"hMinImp_cellNorm_groupFil{group_percNA_threshold}_{mode}_featab.csv\"),index = False)"
   ]
  },
  {
   "cell_type": "markdown",
   "id": "bf158f0e-c8d7-48c1-9dac-cd57781e6a7c",
   "metadata": {},
   "source": [
    "# log2 transform"
   ]
  },
  {
   "cell_type": "code",
   "execution_count": 458,
   "id": "d17fe52a-3b1c-4cee-a2ba-d612744b29b5",
   "metadata": {},
   "outputs": [],
   "source": [
    "def log2transform(data_df,\n",
    "                  back2Zero = False):\n",
    "    data_df[data_df == 0] = np.nan\n",
    "    data_df_log = data_df.apply(lambda x: np.log2(x)) # no need to add +1\n",
    "    if back2Zero == True:\n",
    "        data_df_log[data_df_log.isna()] = 0\n",
    "    return(data_df_log)"
   ]
  },
  {
   "cell_type": "code",
   "execution_count": 459,
   "id": "135e7675-3c6a-4827-81e2-a1b389ecfb06",
   "metadata": {},
   "outputs": [],
   "source": [
    "def log2transform_on_featab_wtRegExpr(feat_df,\n",
    "                                      back2Zero = False,\n",
    "                                      samplesRegExpr = 'R5pos\\\\_[0-9]+|R5neg\\\\_[0-9]+|Naive\\\\_[0-9]+|q3June2014\\\\_[0-9]|nist'):\n",
    "    data_df = select_column_regExpr(feat_df,samplesRegExpr)\n",
    "    log2_data_df = log2transform(data_df, back2Zero = back2Zero)\n",
    "    log2_feat_df = replace_col_wtTICnorm(feat_df = feat_df,\n",
    "                                         data_df = log2_data_df)\n",
    "    return(log2_feat_df)"
   ]
  },
  {
   "cell_type": "markdown",
   "id": "3faf6307-7421-48e7-af99-48fabaebb451",
   "metadata": {},
   "source": [
    "#### log2 tranxsform on the imputated feature tables"
   ]
  },
  {
   "cell_type": "code",
   "execution_count": 460,
   "id": "12e81e3c-4c65-4655-a194-cbc1845c8cff",
   "metadata": {},
   "outputs": [],
   "source": [
    "log2_TICnorm_imphMin_feat_df = log2transform_on_featab_wtRegExpr(TICnorm_imphMin_feat_df)\n",
    "log2_cellNorm_imphMin_feat_df = log2transform_on_featab_wtRegExpr(cellNorm_imphMin_feat_df)"
   ]
  },
  {
   "cell_type": "code",
   "execution_count": 461,
   "id": "3ccd9aee-1bcf-4135-b5ad-807e993fe4aa",
   "metadata": {},
   "outputs": [],
   "source": [
    "log2_TICnorm_imphMin_feat_df.to_csv(\n",
    "        os.path.join(output_dir,\n",
    "                       f\"log2_hMinImp_TICnorm_groupFil{group_percNA_threshold}_{mode}_featab.csv\"),index = False)"
   ]
  },
  {
   "cell_type": "code",
   "execution_count": 462,
   "id": "39e05ae9-c18e-4d6d-9151-9e512c451fb5",
   "metadata": {},
   "outputs": [],
   "source": [
    "log2_cellNorm_imphMin_feat_df.to_csv(\n",
    "        os.path.join(output_dir,\n",
    "                       f\"log2_hMinImp_cellNorm_groupFil{group_percNA_threshold}_{mode}_featab.csv\"),index = False)"
   ]
  },
  {
   "cell_type": "markdown",
   "id": "b1d2f3bb-aa1d-4987-80fb-0243ba670607",
   "metadata": {},
   "source": [
    "-------"
   ]
  },
  {
   "cell_type": "markdown",
   "id": "2cd49f06-580e-495e-8859-5d81a11e3a33",
   "metadata": {
    "tags": []
   },
   "source": [
    "#### log2 tranxsform on the original feature table without normalization & imputation"
   ]
  },
  {
   "cell_type": "code",
   "execution_count": 463,
   "id": "1d19554c-61dd-4be0-9a79-d5b385f8a626",
   "metadata": {},
   "outputs": [],
   "source": [
    "log2_outDrop_grp_filt_df = log2transform_on_featab_wtRegExpr(outDrop_grp_filt_df)\n",
    "log2_outDrop_grp_filt_df.to_csv(\n",
    "        os.path.join(output_dir,\n",
    "                       f\"log2_groupFil{group_percNA_threshold}_{mode}_featab.csv\"),index = False)"
   ]
  },
  {
   "cell_type": "markdown",
   "id": "e19826e7-5371-48cf-b0cf-5fe3f990146a",
   "metadata": {},
   "source": [
    "-----"
   ]
  },
  {
   "cell_type": "markdown",
   "id": "5ebd4979-4037-40b7-aa57-4bcd007a2486",
   "metadata": {},
   "source": [
    "-----"
   ]
  },
  {
   "cell_type": "markdown",
   "id": "17ae2814-3f93-41b9-8425-317223ca058b",
   "metadata": {},
   "source": [
    "## Report geometric mean of group"
   ]
  },
  {
   "cell_type": "code",
   "execution_count": 457,
   "id": "40c75fc5-d7cb-446d-9867-046f964eb935",
   "metadata": {},
   "outputs": [
    {
     "name": "stdout",
     "output_type": "stream",
     "text": [
      "[('john', 'jeff'),\n",
      " ('john', 'george'),\n",
      " ('john', 'peter'),\n",
      " ('john', 'ringo'),\n",
      " ('jeff', 'george'),\n",
      " ('jeff', 'peter'),\n",
      " ('jeff', 'ringo'),\n",
      " ('george', 'peter'),\n",
      " ('george', 'ringo'),\n",
      " ('peter', 'ringo')]\n"
     ]
    }
   ],
   "source": [
    "from itertools import combinations\n",
    "from pprint import pprint\n",
    "\n",
    "names = ['john', 'jeff', 'george', 'peter', 'ringo']\n",
    "\n",
    "combos = list(combinations(names, 2))\n",
    "# pairs = [[x, y] for x in combos for y in combos if not set(x).intersection(set(y))]\n",
    "\n",
    "pprint(combos)"
   ]
  },
  {
   "cell_type": "markdown",
   "id": "0162faac-cc16-4e32-b453-862865a841d9",
   "metadata": {
    "tags": []
   },
   "source": [
    "## the end index is `17`"
   ]
  },
  {
   "cell_type": "code",
   "execution_count": 466,
   "id": "fb9c1370-41cd-4452-a9fc-1d3b833be8c2",
   "metadata": {},
   "outputs": [
    {
     "data": {
      "text/plain": [
       "Index(['Naive_1', 'Naive_2', 'Naive_3', 'R5neg_1', 'R5neg_2', 'R5neg_3', 'R5pos_1', 'R5pos_2', 'R5pos_3', 'nist', 'q3June2014_1', 'q3June2014_2'], dtype='object')"
      ]
     },
     "execution_count": 466,
     "metadata": {},
     "output_type": "execute_result"
    }
   ],
   "source": [
    "log2_TICnorm_imphMin_feat_df.columns[17:]"
   ]
  },
  {
   "cell_type": "code",
   "execution_count": 467,
   "id": "c1c8f703-0f9a-4369-96b6-dd5068e9df48",
   "metadata": {},
   "outputs": [
    {
     "data": {
      "text/plain": [
       "Index(['Naive_1', 'Naive_2', 'Naive_3', 'R5neg_1', 'R5neg_2', 'R5neg_3', 'R5pos_1', 'R5pos_2', 'R5pos_3', 'nist', 'q3June2014_1', 'q3June2014_2'], dtype='object')"
      ]
     },
     "execution_count": 467,
     "metadata": {},
     "output_type": "execute_result"
    }
   ],
   "source": [
    "log2_cellNorm_imphMin_feat_df.columns[17:]"
   ]
  },
  {
   "cell_type": "code",
   "execution_count": 468,
   "id": "7bef62e9-6da0-4177-a2ed-04095a1772e8",
   "metadata": {},
   "outputs": [
    {
     "data": {
      "text/plain": [
       "Index(['Naive_1', 'Naive_2', 'Naive_3', 'R5neg_1', 'R5neg_2', 'R5neg_3', 'R5pos_1', 'R5pos_2', 'R5pos_3', 'nist', 'q3June2014_1', 'q3June2014_2'], dtype='object')"
      ]
     },
     "execution_count": 468,
     "metadata": {},
     "output_type": "execute_result"
    }
   ],
   "source": [
    "log2_outDrop_grp_filt_df.columns[17:]"
   ]
  },
  {
   "cell_type": "code",
   "execution_count": 475,
   "id": "40c04e7e-2a43-4102-9085-c189b8442277",
   "metadata": {},
   "outputs": [],
   "source": [
    "from itertools import combinations\n",
    "\n",
    "def log2FCreport(log2_feat_df, \n",
    "          groupRegExprs = ['Naive\\\\_[0-9]+','R5neg\\\\_[0-9]+','R5pos\\\\_[0-9]+'], # order always the reference on the left\n",
    "          end_index = 17):\n",
    "    '''\n",
    "    The function require log2 feature table\n",
    "    Using groupRegExprs to recognize the grouped samples. Only works for explicitly coded sample identification based on the name\n",
    "    End_index is where the index end on the meta information coded in the log2_feature table\n",
    "    Currently only deals with two group comparison\n",
    "    '''\n",
    "    #' separate data table and metainfo by `end_index` (needs to define beforehand)\n",
    "    data_df = log2_feat_df.iloc[:,end_index:log2_feat_df.shape[1]]\n",
    "    log2_feat_df_meta = log2_feat_df.iloc[:,0:end_index]\n",
    "    \n",
    "    # calculate gMean first\n",
    "    group_of_mean_dict = {}\n",
    "    for group in groupRegExprs:\n",
    "        group_df = select_column_regExpr(log2_feat_df,group)\n",
    "        group_df_mean = group_df.apply(lambda row: row.mean(),axis = 1)\n",
    "        group_id = group.split('\\\\')[0]\n",
    "        log2_feat_df_meta[f'gMean_{group_id}'] = group_df_mean\n",
    "        group_of_mean_dict.update({group_id : group_df_mean})\n",
    "    \n",
    "    # calculate log2 fold change  using `group_of_mean_dict`\n",
    "    combos = list(combinations(group_of_mean_dict.keys(), 2))\n",
    "    for combo in combos:\n",
    "        log2_feat_df_meta[f'log2FC_{combo[1]}vs{combo[0]}'] = [y - x for (x,y) in zip(group_of_mean_dict[combo[0]],\n",
    "                                                                                           group_of_mean_dict[combo[1]])]\n",
    "    final_df = pd.concat([log2_feat_df_meta,data_df],axis = 1)\n",
    "    return(final_df)"
   ]
  },
  {
   "cell_type": "markdown",
   "id": "b88c5e0d-773d-4deb-b7ee-585fbb1fb5e0",
   "metadata": {
    "tags": []
   },
   "source": [
    "### **Imputated** TICnorm log2 data : report gMean"
   ]
  },
  {
   "cell_type": "code",
   "execution_count": 476,
   "id": "7977e902-c046-40cc-9c2a-0f0af48fcef8",
   "metadata": {},
   "outputs": [],
   "source": [
    "FC_log2_TICnorm_imphMin_feat_df = log2FCreport(log2_feat_df = log2_TICnorm_imphMin_feat_df,\n",
    "                                      groupRegExprs = ['Naive\\\\_[0-9]+','R5neg\\\\_[0-9]+','R5pos\\\\_[0-9]+'],\n",
    "                                      end_index = 17)\n",
    "\n",
    "FC_log2_TICnorm_imphMin_feat_df.to_csv(\n",
    "        os.path.join(output_dir,\n",
    "                       f\"FC_log2_hMinImp_TICnorm_groupFil{group_percNA_threshold}_{mode}_featab.csv\"),index = False)"
   ]
  },
  {
   "cell_type": "code",
   "execution_count": 477,
   "id": "484ce0d6-6417-4dd7-862b-2a2410070cd6",
   "metadata": {},
   "outputs": [],
   "source": [
    "FC_log2_cellNorm_imphMin_feat_df = log2FCreport(log2_feat_df = log2_cellNorm_imphMin_feat_df,\n",
    "                                      groupRegExprs = ['Naive\\\\_[0-9]+','R5neg\\\\_[0-9]+','R5pos\\\\_[0-9]+'],\n",
    "                                      end_index = 17)\n",
    "\n",
    "FC_log2_cellNorm_imphMin_feat_df.to_csv(\n",
    "        os.path.join(output_dir,\n",
    "                       f\"FC_log2_hMinImp_cellNorm_groupFil{group_percNA_threshold}_{mode}_featab.csv\"),index = False)"
   ]
  },
  {
   "cell_type": "markdown",
   "id": "365399ed-067d-449a-9201-8894ba4a9649",
   "metadata": {},
   "source": [
    "# Normality test\n",
    "- Shapiro-Wilk Test"
   ]
  },
  {
   "cell_type": "markdown",
   "id": "412d21c0-cd38-4133-938e-cc355bd3eb4d",
   "metadata": {
    "tags": []
   },
   "source": [
    "### TICnorm Imputated and report gMean"
   ]
  },
  {
   "cell_type": "code",
   "execution_count": 478,
   "id": "5ff2e911-110f-48a8-9659-75b109a28ac8",
   "metadata": {},
   "outputs": [],
   "source": [
    "from scipy.stats import shapiro"
   ]
  },
  {
   "cell_type": "code",
   "execution_count": 479,
   "id": "26b7cbb2-aae1-4381-abbb-a30d228d13cc",
   "metadata": {},
   "outputs": [],
   "source": [
    "def SW_normality_test(data_df):\n",
    "    '''\n",
    "    index must be feature ID\n",
    "    '''\n",
    "    norm_tests_list = data_df.apply(lambda x: shapiro(x), axis = 1)\n",
    "    norm_df = pd.DataFrame({'pval':[x[0] for x in norm_tests_list],\n",
    "                             'stat':[x[1] for x in norm_tests_list]},\n",
    "                             index = norm_tests_list.index)\n",
    "    return(norm_df)"
   ]
  },
  {
   "cell_type": "markdown",
   "id": "83eada2b-67d6-49f6-b8ab-ae4020e9cd89",
   "metadata": {},
   "source": [
    "--------\n",
    "# since there are small sample size, drop this analysis for this dataset"
   ]
  }
 ],
 "metadata": {
  "kernelspec": {
   "display_name": "Python 3 (ipykernel)",
   "language": "python",
   "name": "python3"
  },
  "language_info": {
   "codemirror_mode": {
    "name": "ipython",
    "version": 3
   },
   "file_extension": ".py",
   "mimetype": "text/x-python",
   "name": "python",
   "nbconvert_exporter": "python",
   "pygments_lexer": "ipython3",
   "version": "3.10.5"
  }
 },
 "nbformat": 4,
 "nbformat_minor": 5
}
