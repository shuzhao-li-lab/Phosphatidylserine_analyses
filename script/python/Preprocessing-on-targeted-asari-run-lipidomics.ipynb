{
 "cells": [
  {
   "cell_type": "markdown",
   "id": "7a044215",
   "metadata": {},
   "source": [
    "# Asari table preprocessing"
   ]
  },
  {
   "cell_type": "code",
   "execution_count": 3,
   "id": "7e9912bf",
   "metadata": {
    "tags": []
   },
   "outputs": [
    {
     "name": "stdout",
     "output_type": "stream",
     "text": [
      "Collecting seaborn\n",
      "  Using cached seaborn-0.12.2-py3-none-any.whl (293 kB)\n",
      "Requirement already satisfied: pandas>=0.25 in /opt/conda/lib/python3.10/site-packages (from seaborn) (1.4.3)\n",
      "Requirement already satisfied: numpy!=1.24.0,>=1.17 in /opt/conda/lib/python3.10/site-packages (from seaborn) (1.23.1)\n",
      "Collecting matplotlib!=3.6.1,>=3.1\n",
      "  Using cached matplotlib-3.7.0-cp310-cp310-manylinux_2_17_x86_64.manylinux2014_x86_64.whl (11.6 MB)\n",
      "Collecting fonttools>=4.22.0\n",
      "  Using cached fonttools-4.38.0-py3-none-any.whl (965 kB)\n",
      "Collecting kiwisolver>=1.0.1\n",
      "  Using cached kiwisolver-1.4.4-cp310-cp310-manylinux_2_12_x86_64.manylinux2010_x86_64.whl (1.6 MB)\n",
      "Collecting pillow>=6.2.0\n",
      "  Using cached Pillow-9.4.0-cp310-cp310-manylinux_2_28_x86_64.whl (3.4 MB)\n",
      "Requirement already satisfied: packaging>=20.0 in /opt/conda/lib/python3.10/site-packages (from matplotlib!=3.6.1,>=3.1->seaborn) (23.0)\n",
      "Collecting contourpy>=1.0.1\n",
      "  Using cached contourpy-1.0.7-cp310-cp310-manylinux_2_17_x86_64.manylinux2014_x86_64.whl (300 kB)\n",
      "Collecting pyparsing>=2.3.1\n",
      "  Using cached pyparsing-3.0.9-py3-none-any.whl (98 kB)\n",
      "Collecting cycler>=0.10\n",
      "  Using cached cycler-0.11.0-py3-none-any.whl (6.4 kB)\n",
      "Requirement already satisfied: python-dateutil>=2.7 in /opt/conda/lib/python3.10/site-packages (from matplotlib!=3.6.1,>=3.1->seaborn) (2.8.2)\n",
      "Requirement already satisfied: pytz>=2020.1 in /opt/conda/lib/python3.10/site-packages (from pandas>=0.25->seaborn) (2022.7.1)\n",
      "Requirement already satisfied: six>=1.5 in /opt/conda/lib/python3.10/site-packages (from python-dateutil>=2.7->matplotlib!=3.6.1,>=3.1->seaborn) (1.16.0)\n",
      "Installing collected packages: pyparsing, pillow, kiwisolver, fonttools, cycler, contourpy, matplotlib, seaborn\n",
      "Successfully installed contourpy-1.0.7 cycler-0.11.0 fonttools-4.38.0 kiwisolver-1.4.4 matplotlib-3.7.0 pillow-9.4.0 pyparsing-3.0.9 seaborn-0.12.2\n"
     ]
    }
   ],
   "source": [
    "# !pip install seaborn"
   ]
  },
  {
   "cell_type": "code",
   "execution_count": 1,
   "id": "e363b14d",
   "metadata": {
    "tags": []
   },
   "outputs": [],
   "source": [
    "import pandas as pd\n",
    "import os\n",
    "import json\n",
    "import numpy as np\n",
    "import seaborn as sns\n",
    "import matplotlib.pyplot as plt\n",
    "import re\n",
    "from random import randrange"
   ]
  },
  {
   "cell_type": "code",
   "execution_count": 2,
   "id": "918f8c5d",
   "metadata": {},
   "outputs": [],
   "source": [
    "pd.set_option('display.max_rows', 1000)\n",
    "pd.set_option('display.max_columns', 500)\n",
    "pd.set_option('display.width', 1000)"
   ]
  },
  {
   "cell_type": "code",
   "execution_count": 3,
   "id": "9162c4a1",
   "metadata": {},
   "outputs": [],
   "source": [
    "asari_out_fdr = \"../../../asari-output-RPneg/output_asari_project_31312361/\"\n",
    "targeted_file = \"../../../target_list/PS-target-list-singular-M-H.txt\"\n",
    "metadata_file = \"../../../seq/RPneg_addgrp.csv\"\n",
    "mode = \"RPneg\"\n",
    "group_percNA_threshold = 0.3 # < percNA, should be presented in any group"
   ]
  },
  {
   "cell_type": "code",
   "execution_count": 4,
   "id": "c8d18a4a",
   "metadata": {},
   "outputs": [],
   "source": [
    "output_dir = \"../../output/preprocessing_on_targeted_extract\" + str(randrange(0,100))"
   ]
  },
  {
   "cell_type": "code",
   "execution_count": 5,
   "id": "6d81f7e4",
   "metadata": {},
   "outputs": [],
   "source": [
    "try:\n",
    "    os.mkdir(output_dir)\n",
    "except:\n",
    "    print(\"not done\")"
   ]
  },
  {
   "cell_type": "code",
   "execution_count": 6,
   "id": "85e67aeb",
   "metadata": {},
   "outputs": [],
   "source": [
    "target_feat_df = pd.read_csv(os.path.join(asari_out_fdr,'targeted_extraction__Feature_table.tsv'),sep = '\\t')"
   ]
  },
  {
   "cell_type": "code",
   "execution_count": 7,
   "id": "95a02bc4",
   "metadata": {},
   "outputs": [
    {
     "data": {
      "text/html": [
       "<div>\n",
       "<style scoped>\n",
       "    .dataframe tbody tr th:only-of-type {\n",
       "        vertical-align: middle;\n",
       "    }\n",
       "\n",
       "    .dataframe tbody tr th {\n",
       "        vertical-align: top;\n",
       "    }\n",
       "\n",
       "    .dataframe thead th {\n",
       "        text-align: right;\n",
       "    }\n",
       "</style>\n",
       "<table border=\"1\" class=\"dataframe\">\n",
       "  <thead>\n",
       "    <tr style=\"text-align: right;\">\n",
       "      <th></th>\n",
       "      <th>query_target</th>\n",
       "      <th>id_number</th>\n",
       "      <th>mz</th>\n",
       "      <th>rtime</th>\n",
       "      <th>rtime_left_base</th>\n",
       "      <th>rtime_right_base</th>\n",
       "      <th>parent_masstrack_id</th>\n",
       "      <th>peak_area</th>\n",
       "      <th>cSelectivity</th>\n",
       "      <th>goodness_fitting</th>\n",
       "      <th>snr</th>\n",
       "      <th>detection_counts</th>\n",
       "      <th>MT_20230308_032</th>\n",
       "      <th>Blank_20230308_002</th>\n",
       "      <th>Blank_20230308_004</th>\n",
       "      <th>Blank_20230308_006</th>\n",
       "      <th>Blank_std_20230308_1_002</th>\n",
       "      <th>MT_20230308_002</th>\n",
       "      <th>MT_20230308_004</th>\n",
       "      <th>MT_20230308_006</th>\n",
       "      <th>MT_20230308_008</th>\n",
       "      <th>MT_20230308_010</th>\n",
       "      <th>MT_20230308_012</th>\n",
       "      <th>MT_20230308_014</th>\n",
       "      <th>MT_20230308_016</th>\n",
       "      <th>MT_20230308_018</th>\n",
       "      <th>MT_20230308_020</th>\n",
       "      <th>MT_20230308_022</th>\n",
       "      <th>MT_20230308_024</th>\n",
       "      <th>MT_20230308_026</th>\n",
       "      <th>MT_20230308_028</th>\n",
       "      <th>MT_20230308_030</th>\n",
       "    </tr>\n",
       "  </thead>\n",
       "  <tbody>\n",
       "    <tr>\n",
       "      <th>0</th>\n",
       "      <td>482.288282</td>\n",
       "      <td>F1614</td>\n",
       "      <td>482.2890</td>\n",
       "      <td>207.04</td>\n",
       "      <td>204.92</td>\n",
       "      <td>209.41</td>\n",
       "      <td>1335</td>\n",
       "      <td>4365548</td>\n",
       "      <td>0.88</td>\n",
       "      <td>0.85</td>\n",
       "      <td>430</td>\n",
       "      <td>16</td>\n",
       "      <td>0</td>\n",
       "      <td>0</td>\n",
       "      <td>20555</td>\n",
       "      <td>48411</td>\n",
       "      <td>60662</td>\n",
       "      <td>0</td>\n",
       "      <td>0</td>\n",
       "      <td>321382</td>\n",
       "      <td>235911</td>\n",
       "      <td>655433</td>\n",
       "      <td>151268</td>\n",
       "      <td>66061</td>\n",
       "      <td>548649</td>\n",
       "      <td>448802</td>\n",
       "      <td>198916</td>\n",
       "      <td>441632</td>\n",
       "      <td>844487</td>\n",
       "      <td>167207</td>\n",
       "      <td>43418</td>\n",
       "      <td>395143</td>\n",
       "    </tr>\n",
       "    <tr>\n",
       "      <th>1</th>\n",
       "      <td>498.283197</td>\n",
       "      <td>F3712</td>\n",
       "      <td>498.2843</td>\n",
       "      <td>33.72</td>\n",
       "      <td>32.23</td>\n",
       "      <td>36.32</td>\n",
       "      <td>1567</td>\n",
       "      <td>18072147</td>\n",
       "      <td>1.00</td>\n",
       "      <td>0.94</td>\n",
       "      <td>270</td>\n",
       "      <td>15</td>\n",
       "      <td>0</td>\n",
       "      <td>837591</td>\n",
       "      <td>717296</td>\n",
       "      <td>646253</td>\n",
       "      <td>0</td>\n",
       "      <td>0</td>\n",
       "      <td>491014</td>\n",
       "      <td>1532934</td>\n",
       "      <td>1230597</td>\n",
       "      <td>910433</td>\n",
       "      <td>702748</td>\n",
       "      <td>621143</td>\n",
       "      <td>2266499</td>\n",
       "      <td>942310</td>\n",
       "      <td>1587450</td>\n",
       "      <td>1069759</td>\n",
       "      <td>1205834</td>\n",
       "      <td>0</td>\n",
       "      <td>0</td>\n",
       "      <td>1426358</td>\n",
       "    </tr>\n",
       "    <tr>\n",
       "      <th>2</th>\n",
       "      <td>524.298847</td>\n",
       "      <td>F1779</td>\n",
       "      <td>524.2982</td>\n",
       "      <td>96.47</td>\n",
       "      <td>93.85</td>\n",
       "      <td>99.13</td>\n",
       "      <td>1928</td>\n",
       "      <td>36918657</td>\n",
       "      <td>0.76</td>\n",
       "      <td>0.97</td>\n",
       "      <td>470</td>\n",
       "      <td>14</td>\n",
       "      <td>0</td>\n",
       "      <td>0</td>\n",
       "      <td>0</td>\n",
       "      <td>0</td>\n",
       "      <td>1698237</td>\n",
       "      <td>0</td>\n",
       "      <td>0</td>\n",
       "      <td>2803625</td>\n",
       "      <td>3026357</td>\n",
       "      <td>2958153</td>\n",
       "      <td>2827464</td>\n",
       "      <td>2817111</td>\n",
       "      <td>2754368</td>\n",
       "      <td>2156389</td>\n",
       "      <td>2912621</td>\n",
       "      <td>2697065</td>\n",
       "      <td>2971851</td>\n",
       "      <td>3236482</td>\n",
       "      <td>2724970</td>\n",
       "      <td>3001170</td>\n",
       "    </tr>\n",
       "    <tr>\n",
       "      <th>3</th>\n",
       "      <td>538.350882</td>\n",
       "      <td>F3031</td>\n",
       "      <td>538.3514</td>\n",
       "      <td>107.59</td>\n",
       "      <td>104.85</td>\n",
       "      <td>110.34</td>\n",
       "      <td>2126</td>\n",
       "      <td>30389790</td>\n",
       "      <td>0.92</td>\n",
       "      <td>0.98</td>\n",
       "      <td>119</td>\n",
       "      <td>3</td>\n",
       "      <td>9740323</td>\n",
       "      <td>0</td>\n",
       "      <td>0</td>\n",
       "      <td>0</td>\n",
       "      <td>0</td>\n",
       "      <td>10627114</td>\n",
       "      <td>10399747</td>\n",
       "      <td>0</td>\n",
       "      <td>0</td>\n",
       "      <td>0</td>\n",
       "      <td>0</td>\n",
       "      <td>0</td>\n",
       "      <td>0</td>\n",
       "      <td>0</td>\n",
       "      <td>0</td>\n",
       "      <td>0</td>\n",
       "      <td>0</td>\n",
       "      <td>0</td>\n",
       "      <td>0</td>\n",
       "      <td>0</td>\n",
       "    </tr>\n",
       "    <tr>\n",
       "      <th>4</th>\n",
       "      <td>540.330147</td>\n",
       "      <td>F3138</td>\n",
       "      <td>540.3305</td>\n",
       "      <td>70.18</td>\n",
       "      <td>67.44</td>\n",
       "      <td>72.92</td>\n",
       "      <td>2147</td>\n",
       "      <td>29371349</td>\n",
       "      <td>0.95</td>\n",
       "      <td>0.98</td>\n",
       "      <td>23</td>\n",
       "      <td>7</td>\n",
       "      <td>6883593</td>\n",
       "      <td>0</td>\n",
       "      <td>0</td>\n",
       "      <td>0</td>\n",
       "      <td>0</td>\n",
       "      <td>6872501</td>\n",
       "      <td>6813756</td>\n",
       "      <td>0</td>\n",
       "      <td>0</td>\n",
       "      <td>0</td>\n",
       "      <td>2352009</td>\n",
       "      <td>2308541</td>\n",
       "      <td>0</td>\n",
       "      <td>0</td>\n",
       "      <td>0</td>\n",
       "      <td>0</td>\n",
       "      <td>0</td>\n",
       "      <td>2322796</td>\n",
       "      <td>2729822</td>\n",
       "      <td>0</td>\n",
       "    </tr>\n",
       "  </tbody>\n",
       "</table>\n",
       "</div>"
      ],
      "text/plain": [
       "   query_target id_number        mz   rtime  rtime_left_base  rtime_right_base  parent_masstrack_id  peak_area  cSelectivity  goodness_fitting  snr  detection_counts  MT_20230308_032  Blank_20230308_002  Blank_20230308_004  Blank_20230308_006  Blank_std_20230308_1_002  MT_20230308_002  MT_20230308_004  MT_20230308_006  MT_20230308_008  MT_20230308_010  MT_20230308_012  MT_20230308_014  MT_20230308_016  MT_20230308_018  MT_20230308_020  MT_20230308_022  MT_20230308_024  MT_20230308_026  MT_20230308_028  MT_20230308_030\n",
       "0    482.288282     F1614  482.2890  207.04           204.92            209.41                 1335    4365548          0.88              0.85  430                16                0                   0               20555               48411                     60662                0                0           321382           235911           655433           151268            66061           548649           448802           198916           441632           844487           167207            43418           395143\n",
       "1    498.283197     F3712  498.2843   33.72            32.23             36.32                 1567   18072147          1.00              0.94  270                15                0              837591              717296              646253                         0                0           491014          1532934          1230597           910433           702748           621143          2266499           942310          1587450          1069759          1205834                0                0          1426358\n",
       "2    524.298847     F1779  524.2982   96.47            93.85             99.13                 1928   36918657          0.76              0.97  470                14                0                   0                   0                   0                   1698237                0                0          2803625          3026357          2958153          2827464          2817111          2754368          2156389          2912621          2697065          2971851          3236482          2724970          3001170\n",
       "3    538.350882     F3031  538.3514  107.59           104.85            110.34                 2126   30389790          0.92              0.98  119                 3          9740323                   0                   0                   0                         0         10627114         10399747                0                0                0                0                0                0                0                0                0                0                0                0                0\n",
       "4    540.330147     F3138  540.3305   70.18            67.44             72.92                 2147   29371349          0.95              0.98   23                 7          6883593                   0                   0                   0                         0          6872501          6813756                0                0                0          2352009          2308541                0                0                0                0                0          2322796          2729822                0"
      ]
     },
     "execution_count": 7,
     "metadata": {},
     "output_type": "execute_result"
    }
   ],
   "source": [
    "target_feat_df.head()"
   ]
  },
  {
   "cell_type": "code",
   "execution_count": 8,
   "id": "a1a726fe",
   "metadata": {},
   "outputs": [
    {
     "name": "stdout",
     "output_type": "stream",
     "text": [
      "number of features are: 108\n"
     ]
    }
   ],
   "source": [
    "print(f'number of features are: {target_feat_df.shape[0]}')"
   ]
  },
  {
   "cell_type": "code",
   "execution_count": 9,
   "id": "1c2c3b2d",
   "metadata": {},
   "outputs": [],
   "source": [
    "meta_df = pd.read_csv(metadata_file, header = 0)"
   ]
  },
  {
   "cell_type": "code",
   "execution_count": 10,
   "id": "f0d46fd0",
   "metadata": {},
   "outputs": [
    {
     "data": {
      "text/html": [
       "<div>\n",
       "<style scoped>\n",
       "    .dataframe tbody tr th:only-of-type {\n",
       "        vertical-align: middle;\n",
       "    }\n",
       "\n",
       "    .dataframe tbody tr th {\n",
       "        vertical-align: top;\n",
       "    }\n",
       "\n",
       "    .dataframe thead th {\n",
       "        text-align: right;\n",
       "    }\n",
       "</style>\n",
       "<table border=\"1\" class=\"dataframe\">\n",
       "  <thead>\n",
       "    <tr style=\"text-align: right;\">\n",
       "      <th></th>\n",
       "      <th>Sample Type</th>\n",
       "      <th>File Name</th>\n",
       "      <th>Sample ID</th>\n",
       "      <th>Sample_ID_upd</th>\n",
       "      <th>Comment</th>\n",
       "      <th>Path</th>\n",
       "      <th>Instrument Method</th>\n",
       "      <th>Process Method</th>\n",
       "      <th>Position</th>\n",
       "      <th>Inj Vol</th>\n",
       "    </tr>\n",
       "  </thead>\n",
       "  <tbody>\n",
       "    <tr>\n",
       "      <th>0</th>\n",
       "      <td>Blank</td>\n",
       "      <td>Blank_20230308_002</td>\n",
       "      <td>Blank_20230308_002</td>\n",
       "      <td>Blank_1</td>\n",
       "      <td>1</td>\n",
       "      <td>D:\\IDX_Data\\Maheshwor\\20220213_phosphatidylser...</td>\n",
       "      <td>C:\\Xcalibur\\methods\\MT\\phosphatidylserine_tSIM...</td>\n",
       "      <td>NaN</td>\n",
       "      <td>G:A1</td>\n",
       "      <td>2</td>\n",
       "    </tr>\n",
       "    <tr>\n",
       "      <th>1</th>\n",
       "      <td>Blank</td>\n",
       "      <td>Blank_20230308_004</td>\n",
       "      <td>Blank_20230308_004</td>\n",
       "      <td>Blank_2</td>\n",
       "      <td>1</td>\n",
       "      <td>D:\\IDX_Data\\Maheshwor\\20220213_phosphatidylser...</td>\n",
       "      <td>C:\\Xcalibur\\methods\\MT\\phosphatidylserine_tSIM...</td>\n",
       "      <td>NaN</td>\n",
       "      <td>G:A1</td>\n",
       "      <td>2</td>\n",
       "    </tr>\n",
       "    <tr>\n",
       "      <th>2</th>\n",
       "      <td>Blank</td>\n",
       "      <td>Blank_std_20230308_1_002</td>\n",
       "      <td>Blank_std_20230308_002</td>\n",
       "      <td>Blank_std_1</td>\n",
       "      <td>1</td>\n",
       "      <td>D:\\IDX_Data\\Maheshwor\\20220213_phosphatidylser...</td>\n",
       "      <td>C:\\Xcalibur\\methods\\MT\\phosphatidylserine_tSIM...</td>\n",
       "      <td>NaN</td>\n",
       "      <td>G:A2</td>\n",
       "      <td>2</td>\n",
       "    </tr>\n",
       "    <tr>\n",
       "      <th>3</th>\n",
       "      <td>QC</td>\n",
       "      <td>MT_20230308_002</td>\n",
       "      <td>Qstd_20230308_002</td>\n",
       "      <td>Qstd_1</td>\n",
       "      <td>1</td>\n",
       "      <td>D:\\IDX_Data\\Maheshwor\\20220213_phosphatidylser...</td>\n",
       "      <td>C:\\Xcalibur\\methods\\MT\\phosphatidylserine_tSIM...</td>\n",
       "      <td>NaN</td>\n",
       "      <td>G:A3</td>\n",
       "      <td>2</td>\n",
       "    </tr>\n",
       "    <tr>\n",
       "      <th>4</th>\n",
       "      <td>QC</td>\n",
       "      <td>MT_20230308_004</td>\n",
       "      <td>Qstd_20230308_004</td>\n",
       "      <td>Qstd_2</td>\n",
       "      <td>1</td>\n",
       "      <td>D:\\IDX_Data\\Maheshwor\\20220213_phosphatidylser...</td>\n",
       "      <td>C:\\Xcalibur\\methods\\MT\\phosphatidylserine_tSIM...</td>\n",
       "      <td>NaN</td>\n",
       "      <td>G:A3</td>\n",
       "      <td>2</td>\n",
       "    </tr>\n",
       "  </tbody>\n",
       "</table>\n",
       "</div>"
      ],
      "text/plain": [
       "  Sample Type                 File Name               Sample ID Sample_ID_upd  Comment                                               Path                                  Instrument Method  Process Method Position  Inj Vol\n",
       "0       Blank        Blank_20230308_002      Blank_20230308_002       Blank_1        1  D:\\IDX_Data\\Maheshwor\\20220213_phosphatidylser...  C:\\Xcalibur\\methods\\MT\\phosphatidylserine_tSIM...             NaN     G:A1        2\n",
       "1       Blank        Blank_20230308_004      Blank_20230308_004       Blank_2        1  D:\\IDX_Data\\Maheshwor\\20220213_phosphatidylser...  C:\\Xcalibur\\methods\\MT\\phosphatidylserine_tSIM...             NaN     G:A1        2\n",
       "2       Blank  Blank_std_20230308_1_002  Blank_std_20230308_002   Blank_std_1        1  D:\\IDX_Data\\Maheshwor\\20220213_phosphatidylser...  C:\\Xcalibur\\methods\\MT\\phosphatidylserine_tSIM...             NaN     G:A2        2\n",
       "3          QC           MT_20230308_002       Qstd_20230308_002        Qstd_1        1  D:\\IDX_Data\\Maheshwor\\20220213_phosphatidylser...  C:\\Xcalibur\\methods\\MT\\phosphatidylserine_tSIM...             NaN     G:A3        2\n",
       "4          QC           MT_20230308_004       Qstd_20230308_004        Qstd_2        1  D:\\IDX_Data\\Maheshwor\\20220213_phosphatidylser...  C:\\Xcalibur\\methods\\MT\\phosphatidylserine_tSIM...             NaN     G:A3        2"
      ]
     },
     "execution_count": 10,
     "metadata": {},
     "output_type": "execute_result"
    }
   ],
   "source": [
    "meta_df.head()"
   ]
  },
  {
   "cell_type": "code",
   "execution_count": 11,
   "id": "26d50465",
   "metadata": {},
   "outputs": [],
   "source": [
    "name_dict = {row['File Name']:row['Sample_ID_upd'] for i, row in meta_df.iterrows() }"
   ]
  },
  {
   "cell_type": "code",
   "execution_count": 12,
   "id": "7dd1715c",
   "metadata": {},
   "outputs": [],
   "source": [
    "target_feat_df.columns = [name_dict[x] if x in name_dict else x for x in target_feat_df.columns]"
   ]
  },
  {
   "cell_type": "code",
   "execution_count": 13,
   "id": "3005ab2c",
   "metadata": {},
   "outputs": [
    {
     "data": {
      "text/html": [
       "<div>\n",
       "<style scoped>\n",
       "    .dataframe tbody tr th:only-of-type {\n",
       "        vertical-align: middle;\n",
       "    }\n",
       "\n",
       "    .dataframe tbody tr th {\n",
       "        vertical-align: top;\n",
       "    }\n",
       "\n",
       "    .dataframe thead th {\n",
       "        text-align: right;\n",
       "    }\n",
       "</style>\n",
       "<table border=\"1\" class=\"dataframe\">\n",
       "  <thead>\n",
       "    <tr style=\"text-align: right;\">\n",
       "      <th></th>\n",
       "      <th>query_target</th>\n",
       "      <th>id_number</th>\n",
       "      <th>mz</th>\n",
       "      <th>rtime</th>\n",
       "      <th>rtime_left_base</th>\n",
       "      <th>rtime_right_base</th>\n",
       "      <th>parent_masstrack_id</th>\n",
       "      <th>peak_area</th>\n",
       "      <th>cSelectivity</th>\n",
       "      <th>goodness_fitting</th>\n",
       "      <th>snr</th>\n",
       "      <th>detection_counts</th>\n",
       "      <th>Qstd_3</th>\n",
       "      <th>Blank_1</th>\n",
       "      <th>Blank_2</th>\n",
       "      <th>Blank_3</th>\n",
       "      <th>Blank_std_1</th>\n",
       "      <th>Qstd_1</th>\n",
       "      <th>Qstd_2</th>\n",
       "      <th>pooled_1</th>\n",
       "      <th>Tn_250K_1</th>\n",
       "      <th>Tn_250K_2</th>\n",
       "      <th>Tn_750K_3</th>\n",
       "      <th>Tn_750K_4</th>\n",
       "      <th>CD8stem_250K_1</th>\n",
       "      <th>CD8stem_300K_2</th>\n",
       "      <th>pooled_2</th>\n",
       "      <th>CD8trans_350K_1</th>\n",
       "      <th>CD8trans_250K_2</th>\n",
       "      <th>CD8TD_750K_1</th>\n",
       "      <th>CD8TD_750K_2</th>\n",
       "      <th>pooled_3</th>\n",
       "    </tr>\n",
       "  </thead>\n",
       "  <tbody>\n",
       "    <tr>\n",
       "      <th>0</th>\n",
       "      <td>482.288282</td>\n",
       "      <td>F1614</td>\n",
       "      <td>482.2890</td>\n",
       "      <td>207.04</td>\n",
       "      <td>204.92</td>\n",
       "      <td>209.41</td>\n",
       "      <td>1335</td>\n",
       "      <td>4365548</td>\n",
       "      <td>0.88</td>\n",
       "      <td>0.85</td>\n",
       "      <td>430</td>\n",
       "      <td>16</td>\n",
       "      <td>0</td>\n",
       "      <td>0</td>\n",
       "      <td>20555</td>\n",
       "      <td>48411</td>\n",
       "      <td>60662</td>\n",
       "      <td>0</td>\n",
       "      <td>0</td>\n",
       "      <td>321382</td>\n",
       "      <td>235911</td>\n",
       "      <td>655433</td>\n",
       "      <td>151268</td>\n",
       "      <td>66061</td>\n",
       "      <td>548649</td>\n",
       "      <td>448802</td>\n",
       "      <td>198916</td>\n",
       "      <td>441632</td>\n",
       "      <td>844487</td>\n",
       "      <td>167207</td>\n",
       "      <td>43418</td>\n",
       "      <td>395143</td>\n",
       "    </tr>\n",
       "    <tr>\n",
       "      <th>1</th>\n",
       "      <td>498.283197</td>\n",
       "      <td>F3712</td>\n",
       "      <td>498.2843</td>\n",
       "      <td>33.72</td>\n",
       "      <td>32.23</td>\n",
       "      <td>36.32</td>\n",
       "      <td>1567</td>\n",
       "      <td>18072147</td>\n",
       "      <td>1.00</td>\n",
       "      <td>0.94</td>\n",
       "      <td>270</td>\n",
       "      <td>15</td>\n",
       "      <td>0</td>\n",
       "      <td>837591</td>\n",
       "      <td>717296</td>\n",
       "      <td>646253</td>\n",
       "      <td>0</td>\n",
       "      <td>0</td>\n",
       "      <td>491014</td>\n",
       "      <td>1532934</td>\n",
       "      <td>1230597</td>\n",
       "      <td>910433</td>\n",
       "      <td>702748</td>\n",
       "      <td>621143</td>\n",
       "      <td>2266499</td>\n",
       "      <td>942310</td>\n",
       "      <td>1587450</td>\n",
       "      <td>1069759</td>\n",
       "      <td>1205834</td>\n",
       "      <td>0</td>\n",
       "      <td>0</td>\n",
       "      <td>1426358</td>\n",
       "    </tr>\n",
       "    <tr>\n",
       "      <th>2</th>\n",
       "      <td>524.298847</td>\n",
       "      <td>F1779</td>\n",
       "      <td>524.2982</td>\n",
       "      <td>96.47</td>\n",
       "      <td>93.85</td>\n",
       "      <td>99.13</td>\n",
       "      <td>1928</td>\n",
       "      <td>36918657</td>\n",
       "      <td>0.76</td>\n",
       "      <td>0.97</td>\n",
       "      <td>470</td>\n",
       "      <td>14</td>\n",
       "      <td>0</td>\n",
       "      <td>0</td>\n",
       "      <td>0</td>\n",
       "      <td>0</td>\n",
       "      <td>1698237</td>\n",
       "      <td>0</td>\n",
       "      <td>0</td>\n",
       "      <td>2803625</td>\n",
       "      <td>3026357</td>\n",
       "      <td>2958153</td>\n",
       "      <td>2827464</td>\n",
       "      <td>2817111</td>\n",
       "      <td>2754368</td>\n",
       "      <td>2156389</td>\n",
       "      <td>2912621</td>\n",
       "      <td>2697065</td>\n",
       "      <td>2971851</td>\n",
       "      <td>3236482</td>\n",
       "      <td>2724970</td>\n",
       "      <td>3001170</td>\n",
       "    </tr>\n",
       "    <tr>\n",
       "      <th>3</th>\n",
       "      <td>538.350882</td>\n",
       "      <td>F3031</td>\n",
       "      <td>538.3514</td>\n",
       "      <td>107.59</td>\n",
       "      <td>104.85</td>\n",
       "      <td>110.34</td>\n",
       "      <td>2126</td>\n",
       "      <td>30389790</td>\n",
       "      <td>0.92</td>\n",
       "      <td>0.98</td>\n",
       "      <td>119</td>\n",
       "      <td>3</td>\n",
       "      <td>9740323</td>\n",
       "      <td>0</td>\n",
       "      <td>0</td>\n",
       "      <td>0</td>\n",
       "      <td>0</td>\n",
       "      <td>10627114</td>\n",
       "      <td>10399747</td>\n",
       "      <td>0</td>\n",
       "      <td>0</td>\n",
       "      <td>0</td>\n",
       "      <td>0</td>\n",
       "      <td>0</td>\n",
       "      <td>0</td>\n",
       "      <td>0</td>\n",
       "      <td>0</td>\n",
       "      <td>0</td>\n",
       "      <td>0</td>\n",
       "      <td>0</td>\n",
       "      <td>0</td>\n",
       "      <td>0</td>\n",
       "    </tr>\n",
       "    <tr>\n",
       "      <th>4</th>\n",
       "      <td>540.330147</td>\n",
       "      <td>F3138</td>\n",
       "      <td>540.3305</td>\n",
       "      <td>70.18</td>\n",
       "      <td>67.44</td>\n",
       "      <td>72.92</td>\n",
       "      <td>2147</td>\n",
       "      <td>29371349</td>\n",
       "      <td>0.95</td>\n",
       "      <td>0.98</td>\n",
       "      <td>23</td>\n",
       "      <td>7</td>\n",
       "      <td>6883593</td>\n",
       "      <td>0</td>\n",
       "      <td>0</td>\n",
       "      <td>0</td>\n",
       "      <td>0</td>\n",
       "      <td>6872501</td>\n",
       "      <td>6813756</td>\n",
       "      <td>0</td>\n",
       "      <td>0</td>\n",
       "      <td>0</td>\n",
       "      <td>2352009</td>\n",
       "      <td>2308541</td>\n",
       "      <td>0</td>\n",
       "      <td>0</td>\n",
       "      <td>0</td>\n",
       "      <td>0</td>\n",
       "      <td>0</td>\n",
       "      <td>2322796</td>\n",
       "      <td>2729822</td>\n",
       "      <td>0</td>\n",
       "    </tr>\n",
       "  </tbody>\n",
       "</table>\n",
       "</div>"
      ],
      "text/plain": [
       "   query_target id_number        mz   rtime  rtime_left_base  rtime_right_base  parent_masstrack_id  peak_area  cSelectivity  goodness_fitting  snr  detection_counts   Qstd_3  Blank_1  Blank_2  Blank_3  Blank_std_1    Qstd_1    Qstd_2  pooled_1  Tn_250K_1  Tn_250K_2  Tn_750K_3  Tn_750K_4  CD8stem_250K_1  CD8stem_300K_2  pooled_2  CD8trans_350K_1  CD8trans_250K_2  CD8TD_750K_1  CD8TD_750K_2  pooled_3\n",
       "0    482.288282     F1614  482.2890  207.04           204.92            209.41                 1335    4365548          0.88              0.85  430                16        0        0    20555    48411        60662         0         0    321382     235911     655433     151268      66061          548649          448802    198916           441632           844487        167207         43418    395143\n",
       "1    498.283197     F3712  498.2843   33.72            32.23             36.32                 1567   18072147          1.00              0.94  270                15        0   837591   717296   646253            0         0    491014   1532934    1230597     910433     702748     621143         2266499          942310   1587450          1069759          1205834             0             0   1426358\n",
       "2    524.298847     F1779  524.2982   96.47            93.85             99.13                 1928   36918657          0.76              0.97  470                14        0        0        0        0      1698237         0         0   2803625    3026357    2958153    2827464    2817111         2754368         2156389   2912621          2697065          2971851       3236482       2724970   3001170\n",
       "3    538.350882     F3031  538.3514  107.59           104.85            110.34                 2126   30389790          0.92              0.98  119                 3  9740323        0        0        0            0  10627114  10399747         0          0          0          0          0               0               0         0                0                0             0             0         0\n",
       "4    540.330147     F3138  540.3305   70.18            67.44             72.92                 2147   29371349          0.95              0.98   23                 7  6883593        0        0        0            0   6872501   6813756         0          0          0    2352009    2308541               0               0         0                0                0       2322796       2729822         0"
      ]
     },
     "execution_count": 13,
     "metadata": {},
     "output_type": "execute_result"
    }
   ],
   "source": [
    "target_feat_df.head()"
   ]
  },
  {
   "cell_type": "code",
   "execution_count": 14,
   "id": "a1c85380",
   "metadata": {},
   "outputs": [],
   "source": [
    "end_index = 12"
   ]
  },
  {
   "cell_type": "code",
   "execution_count": 15,
   "id": "5ccbaff3",
   "metadata": {},
   "outputs": [
    {
     "data": {
      "text/plain": [
       "Index(['snr', 'detection_counts', 'Qstd_3', 'Blank_1'], dtype='object')"
      ]
     },
     "execution_count": 15,
     "metadata": {},
     "output_type": "execute_result"
    }
   ],
   "source": [
    "target_feat_df.iloc[:,end_index-2:end_index +2].columns"
   ]
  },
  {
   "cell_type": "code",
   "execution_count": 16,
   "id": "5148ab5b",
   "metadata": {},
   "outputs": [],
   "source": [
    "new_col = target_feat_df.columns[0:end_index].tolist() + meta_df['Sample_ID_upd'].tolist()"
   ]
  },
  {
   "cell_type": "code",
   "execution_count": 17,
   "id": "de029147",
   "metadata": {},
   "outputs": [],
   "source": [
    "reord_target_feat_df = target_feat_df[new_col]"
   ]
  },
  {
   "cell_type": "markdown",
   "id": "6a216979",
   "metadata": {},
   "source": [
    "#### export the renamed target feature table without any normalizations..."
   ]
  },
  {
   "cell_type": "code",
   "execution_count": 18,
   "id": "99d2e22b",
   "metadata": {},
   "outputs": [],
   "source": [
    "reord_target_feat_df.to_csv(os.path.join(output_dir,\"renamed_targeted_extraction__Feature_table.csv\"),index = False)"
   ]
  },
  {
   "cell_type": "markdown",
   "id": "e2e4c628",
   "metadata": {},
   "source": [
    "------"
   ]
  },
  {
   "cell_type": "markdown",
   "id": "b4e81926",
   "metadata": {},
   "source": [
    "------"
   ]
  },
  {
   "cell_type": "markdown",
   "id": "4eded726",
   "metadata": {},
   "source": [
    "#### Since this is a small experiment\n",
    "- I have modified the metadata accordingly, no need for doing this in the later sections`m"
   ]
  },
  {
   "cell_type": "code",
   "execution_count": 19,
   "id": "afe665ed",
   "metadata": {},
   "outputs": [],
   "source": [
    "def extract_list2list(regExpr,a_list):\n",
    "    return([re.search(regExpr,x)[0] for x in a_list if re.search(regExpr,x)])\n",
    "\n",
    "def extract_list2dict(regExpr,a_list):\n",
    "    return({x:re.search(regExpr,x)[0] for x in a_list if re.search(regExpr,x)})"
   ]
  },
  {
   "cell_type": "markdown",
   "id": "7dcec0c0",
   "metadata": {},
   "source": [
    "---------"
   ]
  },
  {
   "cell_type": "markdown",
   "id": "f8f3841b",
   "metadata": {},
   "source": [
    "## Preprocess the asari table \n",
    "- Separate metainfo_df & data_df; convert zero to np.nan"
   ]
  },
  {
   "cell_type": "code",
   "execution_count": 20,
   "id": "54f47121",
   "metadata": {},
   "outputs": [],
   "source": [
    "reord_target_feat_df.index = reord_target_feat_df['id_number']"
   ]
  },
  {
   "cell_type": "code",
   "execution_count": 21,
   "id": "d6f6b38a",
   "metadata": {},
   "outputs": [],
   "source": [
    "end_index = 12"
   ]
  },
  {
   "cell_type": "code",
   "execution_count": 22,
   "id": "442ab86b",
   "metadata": {},
   "outputs": [
    {
     "data": {
      "text/plain": [
       "Index(['snr', 'detection_counts', 'Blank_1', 'Blank_2'], dtype='object')"
      ]
     },
     "execution_count": 22,
     "metadata": {},
     "output_type": "execute_result"
    }
   ],
   "source": [
    "reord_target_feat_df.columns[end_index-2:end_index+2]"
   ]
  },
  {
   "cell_type": "code",
   "execution_count": 23,
   "id": "9750c836",
   "metadata": {},
   "outputs": [],
   "source": [
    "data_df = reord_target_feat_df.iloc[:,end_index:]"
   ]
  },
  {
   "cell_type": "code",
   "execution_count": 24,
   "id": "ad341570",
   "metadata": {},
   "outputs": [
    {
     "data": {
      "text/html": [
       "<div>\n",
       "<style scoped>\n",
       "    .dataframe tbody tr th:only-of-type {\n",
       "        vertical-align: middle;\n",
       "    }\n",
       "\n",
       "    .dataframe tbody tr th {\n",
       "        vertical-align: top;\n",
       "    }\n",
       "\n",
       "    .dataframe thead th {\n",
       "        text-align: right;\n",
       "    }\n",
       "</style>\n",
       "<table border=\"1\" class=\"dataframe\">\n",
       "  <thead>\n",
       "    <tr style=\"text-align: right;\">\n",
       "      <th></th>\n",
       "      <th>Blank_1</th>\n",
       "      <th>Blank_2</th>\n",
       "      <th>Blank_std_1</th>\n",
       "      <th>Qstd_1</th>\n",
       "      <th>Qstd_2</th>\n",
       "      <th>pooled_1</th>\n",
       "      <th>Tn_250K_1</th>\n",
       "      <th>Tn_250K_2</th>\n",
       "      <th>Tn_750K_3</th>\n",
       "      <th>Tn_750K_4</th>\n",
       "      <th>CD8stem_250K_1</th>\n",
       "      <th>CD8stem_300K_2</th>\n",
       "      <th>pooled_2</th>\n",
       "      <th>CD8trans_350K_1</th>\n",
       "      <th>CD8trans_250K_2</th>\n",
       "      <th>CD8TD_750K_1</th>\n",
       "      <th>CD8TD_750K_2</th>\n",
       "      <th>pooled_3</th>\n",
       "      <th>Qstd_3</th>\n",
       "      <th>Blank_3</th>\n",
       "    </tr>\n",
       "    <tr>\n",
       "      <th>id_number</th>\n",
       "      <th></th>\n",
       "      <th></th>\n",
       "      <th></th>\n",
       "      <th></th>\n",
       "      <th></th>\n",
       "      <th></th>\n",
       "      <th></th>\n",
       "      <th></th>\n",
       "      <th></th>\n",
       "      <th></th>\n",
       "      <th></th>\n",
       "      <th></th>\n",
       "      <th></th>\n",
       "      <th></th>\n",
       "      <th></th>\n",
       "      <th></th>\n",
       "      <th></th>\n",
       "      <th></th>\n",
       "      <th></th>\n",
       "      <th></th>\n",
       "    </tr>\n",
       "  </thead>\n",
       "  <tbody>\n",
       "    <tr>\n",
       "      <th>F1614</th>\n",
       "      <td>0</td>\n",
       "      <td>20555</td>\n",
       "      <td>60662</td>\n",
       "      <td>0</td>\n",
       "      <td>0</td>\n",
       "      <td>321382</td>\n",
       "      <td>235911</td>\n",
       "      <td>655433</td>\n",
       "      <td>151268</td>\n",
       "      <td>66061</td>\n",
       "      <td>548649</td>\n",
       "      <td>448802</td>\n",
       "      <td>198916</td>\n",
       "      <td>441632</td>\n",
       "      <td>844487</td>\n",
       "      <td>167207</td>\n",
       "      <td>43418</td>\n",
       "      <td>395143</td>\n",
       "      <td>0</td>\n",
       "      <td>48411</td>\n",
       "    </tr>\n",
       "    <tr>\n",
       "      <th>F3712</th>\n",
       "      <td>837591</td>\n",
       "      <td>717296</td>\n",
       "      <td>0</td>\n",
       "      <td>0</td>\n",
       "      <td>491014</td>\n",
       "      <td>1532934</td>\n",
       "      <td>1230597</td>\n",
       "      <td>910433</td>\n",
       "      <td>702748</td>\n",
       "      <td>621143</td>\n",
       "      <td>2266499</td>\n",
       "      <td>942310</td>\n",
       "      <td>1587450</td>\n",
       "      <td>1069759</td>\n",
       "      <td>1205834</td>\n",
       "      <td>0</td>\n",
       "      <td>0</td>\n",
       "      <td>1426358</td>\n",
       "      <td>0</td>\n",
       "      <td>646253</td>\n",
       "    </tr>\n",
       "    <tr>\n",
       "      <th>F1779</th>\n",
       "      <td>0</td>\n",
       "      <td>0</td>\n",
       "      <td>1698237</td>\n",
       "      <td>0</td>\n",
       "      <td>0</td>\n",
       "      <td>2803625</td>\n",
       "      <td>3026357</td>\n",
       "      <td>2958153</td>\n",
       "      <td>2827464</td>\n",
       "      <td>2817111</td>\n",
       "      <td>2754368</td>\n",
       "      <td>2156389</td>\n",
       "      <td>2912621</td>\n",
       "      <td>2697065</td>\n",
       "      <td>2971851</td>\n",
       "      <td>3236482</td>\n",
       "      <td>2724970</td>\n",
       "      <td>3001170</td>\n",
       "      <td>0</td>\n",
       "      <td>0</td>\n",
       "    </tr>\n",
       "    <tr>\n",
       "      <th>F3031</th>\n",
       "      <td>0</td>\n",
       "      <td>0</td>\n",
       "      <td>0</td>\n",
       "      <td>10627114</td>\n",
       "      <td>10399747</td>\n",
       "      <td>0</td>\n",
       "      <td>0</td>\n",
       "      <td>0</td>\n",
       "      <td>0</td>\n",
       "      <td>0</td>\n",
       "      <td>0</td>\n",
       "      <td>0</td>\n",
       "      <td>0</td>\n",
       "      <td>0</td>\n",
       "      <td>0</td>\n",
       "      <td>0</td>\n",
       "      <td>0</td>\n",
       "      <td>0</td>\n",
       "      <td>9740323</td>\n",
       "      <td>0</td>\n",
       "    </tr>\n",
       "    <tr>\n",
       "      <th>F3138</th>\n",
       "      <td>0</td>\n",
       "      <td>0</td>\n",
       "      <td>0</td>\n",
       "      <td>6872501</td>\n",
       "      <td>6813756</td>\n",
       "      <td>0</td>\n",
       "      <td>0</td>\n",
       "      <td>0</td>\n",
       "      <td>2352009</td>\n",
       "      <td>2308541</td>\n",
       "      <td>0</td>\n",
       "      <td>0</td>\n",
       "      <td>0</td>\n",
       "      <td>0</td>\n",
       "      <td>0</td>\n",
       "      <td>2322796</td>\n",
       "      <td>2729822</td>\n",
       "      <td>0</td>\n",
       "      <td>6883593</td>\n",
       "      <td>0</td>\n",
       "    </tr>\n",
       "  </tbody>\n",
       "</table>\n",
       "</div>"
      ],
      "text/plain": [
       "           Blank_1  Blank_2  Blank_std_1    Qstd_1    Qstd_2  pooled_1  Tn_250K_1  Tn_250K_2  Tn_750K_3  Tn_750K_4  CD8stem_250K_1  CD8stem_300K_2  pooled_2  CD8trans_350K_1  CD8trans_250K_2  CD8TD_750K_1  CD8TD_750K_2  pooled_3   Qstd_3  Blank_3\n",
       "id_number                                                                                                                                                                                                                                             \n",
       "F1614            0    20555        60662         0         0    321382     235911     655433     151268      66061          548649          448802    198916           441632           844487        167207         43418    395143        0    48411\n",
       "F3712       837591   717296            0         0    491014   1532934    1230597     910433     702748     621143         2266499          942310   1587450          1069759          1205834             0             0   1426358        0   646253\n",
       "F1779            0        0      1698237         0         0   2803625    3026357    2958153    2827464    2817111         2754368         2156389   2912621          2697065          2971851       3236482       2724970   3001170        0        0\n",
       "F3031            0        0            0  10627114  10399747         0          0          0          0          0               0               0         0                0                0             0             0         0  9740323        0\n",
       "F3138            0        0            0   6872501   6813756         0          0          0    2352009    2308541               0               0         0                0                0       2322796       2729822         0  6883593        0"
      ]
     },
     "execution_count": 24,
     "metadata": {},
     "output_type": "execute_result"
    }
   ],
   "source": [
    "data_df.head()"
   ]
  },
  {
   "cell_type": "code",
   "execution_count": 25,
   "id": "f4af55d8",
   "metadata": {},
   "outputs": [],
   "source": [
    "metainfo_df = reord_target_feat_df.iloc[:,0:end_index]"
   ]
  },
  {
   "cell_type": "code",
   "execution_count": 26,
   "id": "3042d301",
   "metadata": {},
   "outputs": [],
   "source": [
    "# turn all zero to NA for easy manipulation later\n",
    "data_df[data_df == 0 ] = np.nan"
   ]
  },
  {
   "cell_type": "markdown",
   "id": "dbb5bc05",
   "metadata": {},
   "source": [
    "---"
   ]
  },
  {
   "cell_type": "markdown",
   "id": "c6e3a41e",
   "metadata": {},
   "source": [
    "-----"
   ]
  },
  {
   "cell_type": "markdown",
   "id": "3502e6e4",
   "metadata": {},
   "source": [
    "## Sample present reporting"
   ]
  },
  {
   "cell_type": "markdown",
   "id": "cbeac13f",
   "metadata": {
    "tags": []
   },
   "source": [
    "### functions"
   ]
  },
  {
   "cell_type": "code",
   "execution_count": 27,
   "id": "99e6d894",
   "metadata": {},
   "outputs": [],
   "source": [
    "def select_column_regExpr(feat_df,regPattern):\n",
    "    res_df = feat_df.loc[:,[x for x in feat_df.columns \\\n",
    "                            if re.search(regPattern,x)]]\n",
    "    return(res_df)\n",
    "\n",
    "def report_basic_stat(df):\n",
    "    '''\n",
    "    Default calculate mean and percentage of NA for any table.\n",
    "    Before inputting the table, filtering steps may need to be done like correlation of blank matrix and filter out samples.\n",
    "    '''\n",
    "    if any(df == 0):\n",
    "        df[df == 0] = np.nan\n",
    "    mean_list = df.apply(lambda x: x.mean(skipna = True), axis=1)\n",
    "    percNA_list = df.apply(lambda x: x.isna()).sum(axis = 1)/df.shape[1]\n",
    "    df_stat_tab = pd.DataFrame({\n",
    "                           'percNA':percNA_list, \n",
    "                           'mean': mean_list})\n",
    "    df_dict = df_stat_tab.to_dict('index')\n",
    "    return(df_dict)\n",
    "\n",
    "def select_and_report(feat_df,regPattern):\n",
    "    sel_df = select_column_regExpr(feat_df,regPattern)\n",
    "    rep_dict = report_basic_stat(sel_df)\n",
    "    return(rep_dict)"
   ]
  },
  {
   "cell_type": "markdown",
   "id": "41b0b1a0",
   "metadata": {},
   "source": [
    "### perform sample present report"
   ]
  },
  {
   "cell_type": "code",
   "execution_count": 28,
   "id": "159ad7d4",
   "metadata": {},
   "outputs": [],
   "source": [
    "Tn_dict = select_and_report(data_df,'Tn')\n",
    "CD8stem_dict = select_and_report(data_df,'CD8stem')\n",
    "CD8trans_dict = select_and_report(data_df,'CD8trans')\n",
    "CD8TD_dict = select_and_report(data_df,'CD8TD')"
   ]
  },
  {
   "cell_type": "code",
   "execution_count": 29,
   "id": "58eda239",
   "metadata": {},
   "outputs": [],
   "source": [
    "dict_of_dict = {'Tn': Tn_dict,\n",
    "                'CD8stem': CD8stem_dict,\n",
    "                'CD8trans': CD8trans_dict,\n",
    "                'CD8TD': CD8TD_dict      \n",
    "}"
   ]
  },
  {
   "cell_type": "code",
   "execution_count": 30,
   "id": "d87856d0",
   "metadata": {},
   "outputs": [],
   "source": [
    "def dicts2table(dict_of_dict):\n",
    "    new_df = pd.DataFrame()\n",
    "    for k,v in dict_of_dict.items():\n",
    "        tab = pd.DataFrame(v).transpose()\n",
    "        tab.columns = [k + \"_\" + x for x in tab.columns]\n",
    "        new_df =  pd.concat([new_df, tab], axis=1)\n",
    "    return(new_df)"
   ]
  },
  {
   "cell_type": "code",
   "execution_count": 31,
   "id": "7f8ab96b",
   "metadata": {},
   "outputs": [],
   "source": [
    "stat_tab = dicts2table(dict_of_dict)"
   ]
  },
  {
   "cell_type": "code",
   "execution_count": 32,
   "id": "16ce11c2",
   "metadata": {},
   "outputs": [
    {
     "data": {
      "text/html": [
       "<div>\n",
       "<style scoped>\n",
       "    .dataframe tbody tr th:only-of-type {\n",
       "        vertical-align: middle;\n",
       "    }\n",
       "\n",
       "    .dataframe tbody tr th {\n",
       "        vertical-align: top;\n",
       "    }\n",
       "\n",
       "    .dataframe thead th {\n",
       "        text-align: right;\n",
       "    }\n",
       "</style>\n",
       "<table border=\"1\" class=\"dataframe\">\n",
       "  <thead>\n",
       "    <tr style=\"text-align: right;\">\n",
       "      <th></th>\n",
       "      <th>Tn_percNA</th>\n",
       "      <th>Tn_mean</th>\n",
       "      <th>CD8stem_percNA</th>\n",
       "      <th>CD8stem_mean</th>\n",
       "      <th>CD8trans_percNA</th>\n",
       "      <th>CD8trans_mean</th>\n",
       "      <th>CD8TD_percNA</th>\n",
       "      <th>CD8TD_mean</th>\n",
       "    </tr>\n",
       "  </thead>\n",
       "  <tbody>\n",
       "    <tr>\n",
       "      <th>F1614</th>\n",
       "      <td>0.0</td>\n",
       "      <td>277168.25</td>\n",
       "      <td>0.0</td>\n",
       "      <td>498725.5</td>\n",
       "      <td>0.0</td>\n",
       "      <td>643059.5</td>\n",
       "      <td>0.0</td>\n",
       "      <td>105312.5</td>\n",
       "    </tr>\n",
       "    <tr>\n",
       "      <th>F3712</th>\n",
       "      <td>0.0</td>\n",
       "      <td>866230.25</td>\n",
       "      <td>0.0</td>\n",
       "      <td>1604404.5</td>\n",
       "      <td>0.0</td>\n",
       "      <td>1137796.5</td>\n",
       "      <td>1.0</td>\n",
       "      <td>NaN</td>\n",
       "    </tr>\n",
       "    <tr>\n",
       "      <th>F1779</th>\n",
       "      <td>0.0</td>\n",
       "      <td>2907271.25</td>\n",
       "      <td>0.0</td>\n",
       "      <td>2455378.5</td>\n",
       "      <td>0.0</td>\n",
       "      <td>2834458.0</td>\n",
       "      <td>0.0</td>\n",
       "      <td>2980726.0</td>\n",
       "    </tr>\n",
       "    <tr>\n",
       "      <th>F3031</th>\n",
       "      <td>1.0</td>\n",
       "      <td>NaN</td>\n",
       "      <td>1.0</td>\n",
       "      <td>NaN</td>\n",
       "      <td>1.0</td>\n",
       "      <td>NaN</td>\n",
       "      <td>1.0</td>\n",
       "      <td>NaN</td>\n",
       "    </tr>\n",
       "    <tr>\n",
       "      <th>F3138</th>\n",
       "      <td>0.5</td>\n",
       "      <td>2330275.00</td>\n",
       "      <td>1.0</td>\n",
       "      <td>NaN</td>\n",
       "      <td>1.0</td>\n",
       "      <td>NaN</td>\n",
       "      <td>0.0</td>\n",
       "      <td>2526309.0</td>\n",
       "    </tr>\n",
       "  </tbody>\n",
       "</table>\n",
       "</div>"
      ],
      "text/plain": [
       "       Tn_percNA     Tn_mean  CD8stem_percNA  CD8stem_mean  CD8trans_percNA  CD8trans_mean  CD8TD_percNA  CD8TD_mean\n",
       "F1614        0.0   277168.25             0.0      498725.5              0.0       643059.5           0.0    105312.5\n",
       "F3712        0.0   866230.25             0.0     1604404.5              0.0      1137796.5           1.0         NaN\n",
       "F1779        0.0  2907271.25             0.0     2455378.5              0.0      2834458.0           0.0   2980726.0\n",
       "F3031        1.0         NaN             1.0           NaN              1.0            NaN           1.0         NaN\n",
       "F3138        0.5  2330275.00             1.0           NaN              1.0            NaN           0.0   2526309.0"
      ]
     },
     "execution_count": 32,
     "metadata": {},
     "output_type": "execute_result"
    }
   ],
   "source": [
    "stat_tab.head()"
   ]
  },
  {
   "cell_type": "markdown",
   "id": "d559dcce",
   "metadata": {},
   "source": [
    "------"
   ]
  },
  {
   "cell_type": "markdown",
   "id": "ce644d83",
   "metadata": {},
   "source": [
    "## add stat into feature table and rearrange sample order"
   ]
  },
  {
   "cell_type": "code",
   "execution_count": 33,
   "id": "c5e751a5",
   "metadata": {},
   "outputs": [
    {
     "data": {
      "text/plain": [
       "Index(['query_target', 'id_number', 'mz', 'rtime', 'rtime_left_base', 'rtime_right_base', 'parent_masstrack_id', 'peak_area', 'cSelectivity', 'goodness_fitting', 'snr', 'detection_counts'], dtype='object')"
      ]
     },
     "execution_count": 33,
     "metadata": {},
     "output_type": "execute_result"
    }
   ],
   "source": [
    "metainfo_df.columns"
   ]
  },
  {
   "cell_type": "code",
   "execution_count": 34,
   "id": "6ce91338",
   "metadata": {},
   "outputs": [
    {
     "data": {
      "text/plain": [
       "Index(['Blank_1', 'Blank_2', 'Blank_std_1', 'Qstd_1', 'Qstd_2', 'pooled_1', 'Tn_250K_1', 'Tn_250K_2', 'Tn_750K_3', 'Tn_750K_4', 'CD8stem_250K_1', 'CD8stem_300K_2', 'pooled_2', 'CD8trans_350K_1', 'CD8trans_250K_2', 'CD8TD_750K_1', 'CD8TD_750K_2', 'pooled_3', 'Qstd_3', 'Blank_3'], dtype='object')"
      ]
     },
     "execution_count": 34,
     "metadata": {},
     "output_type": "execute_result"
    }
   ],
   "source": [
    "data_df.columns"
   ]
  },
  {
   "cell_type": "code",
   "execution_count": 35,
   "id": "ff734d55",
   "metadata": {},
   "outputs": [],
   "source": [
    "def group_filtering(feat_df = data_df,\n",
    "                    stat_df = stat_tab,\n",
    "                    group_percNA_threshold = group_percNA_threshold,\n",
    "                    group_signature = ['R5pos','R5neg','Naive'], # the group you would like to do filtering\n",
    "                    percNA_suffix_inRegExpr = '\\\\_percNA'):\n",
    "    '''\n",
    "    Perform group filtering\n",
    "    \n",
    "    '''\n",
    "    group_percNA_df = select_column_regExpr(stat_df,('|').join([x + percNA_suffix_inRegExpr \\\n",
    "                                                                            for x in group_signature]))\n",
    "    group_percNA_df_filtered = group_percNA_df.loc[group_percNA_df.apply(lambda x: x < group_percNA_threshold,\n",
    "                                                                         axis =1).any(axis = 1),\n",
    "                                                   :]\n",
    "    new_stat_df = stat_df.loc[group_percNA_df_filtered.index,:]\n",
    "    new_feat_df = feat_df.loc[group_percNA_df_filtered.index,:]\n",
    "    \n",
    "    return(new_feat_df,new_stat_df)"
   ]
  },
  {
   "cell_type": "code",
   "execution_count": 36,
   "id": "ad596a82",
   "metadata": {},
   "outputs": [],
   "source": [
    "grp_filt_df, grp_filt_stat_df = group_filtering(feat_df = data_df,\n",
    "                                                stat_df = stat_tab,\n",
    "                                                group_percNA_threshold = group_percNA_threshold,\n",
    "                                                group_signature = ['Tn','CD8stem','CD8trans','CD8TD'],\n",
    "                                                percNA_suffix_inRegExpr = '\\\\_percNA')"
   ]
  },
  {
   "cell_type": "code",
   "execution_count": 37,
   "id": "139561c1",
   "metadata": {},
   "outputs": [
    {
     "data": {
      "text/plain": [
       "(42, 8)"
      ]
     },
     "execution_count": 37,
     "metadata": {},
     "output_type": "execute_result"
    }
   ],
   "source": [
    "grp_filt_stat_df.shape"
   ]
  },
  {
   "cell_type": "code",
   "execution_count": 38,
   "id": "ada5d2dd",
   "metadata": {},
   "outputs": [
    {
     "name": "stdout",
     "output_type": "stream",
     "text": [
      "Before filtering, there are 108 number of features\n",
      " finally after group filtering, there are 42 number of features\n"
     ]
    }
   ],
   "source": [
    "print(f\"Before filtering, there are {reord_target_feat_df.shape[0]} number of features\\n \\\n",
    "finally after group filtering, there are {grp_filt_df.shape[0]} number of features\")"
   ]
  },
  {
   "cell_type": "code",
   "execution_count": 39,
   "id": "aae7f5c9",
   "metadata": {},
   "outputs": [],
   "source": [
    "def combine_tables(list_df = [metainfo_df,grp_filt_stat_df,grp_filt_df],\n",
    "                key_index_df = stat_tab):\n",
    "    index = key_index_df.index\n",
    "    new_list_df = []\n",
    "    for df in list_df:\n",
    "        new_list_df.append(df.loc[index,:])\n",
    "    merge_df = pd.concat(new_list_df,axis =1)\n",
    "    return(merge_df)"
   ]
  },
  {
   "cell_type": "code",
   "execution_count": 40,
   "id": "bf99be14",
   "metadata": {},
   "outputs": [],
   "source": [
    "m_df = combine_tables(list_df = [metainfo_df,grp_filt_stat_df,grp_filt_df],  # the order of df directly afffects the order of the columns\n",
    "                    key_index_df = grp_filt_stat_df)"
   ]
  },
  {
   "cell_type": "code",
   "execution_count": 41,
   "id": "4afeee11",
   "metadata": {},
   "outputs": [],
   "source": [
    "m_df.to_csv(\n",
    "    os.path.join(output_dir,\n",
    "                   f\"groupFil{group_percNA_threshold}_{mode}_featab.csv\"),index = False)\n",
    "\n",
    "grp_filt_stat_df.to_csv(\n",
    "    os.path.join(output_dir,\n",
    "                   f\"groupFil{group_percNA_threshold}_{mode}_stattab.csv\"))"
   ]
  },
  {
   "cell_type": "markdown",
   "id": "b0b4d79a",
   "metadata": {},
   "source": [
    "---"
   ]
  },
  {
   "cell_type": "markdown",
   "id": "37c11c56",
   "metadata": {},
   "source": [
    "---"
   ]
  },
  {
   "cell_type": "markdown",
   "id": "1b630188",
   "metadata": {},
   "source": [
    "---"
   ]
  },
  {
   "cell_type": "markdown",
   "id": "47a4ffbd",
   "metadata": {},
   "source": [
    "## Filtering samples based on QC report (if needed)"
   ]
  },
  {
   "cell_type": "code",
   "execution_count": 42,
   "id": "addfcb5e",
   "metadata": {},
   "outputs": [],
   "source": [
    "# No outliers identified in this analysis, thus the outliers list is empty\n",
    "outliers = []"
   ]
  },
  {
   "cell_type": "code",
   "execution_count": 43,
   "id": "5249ef42",
   "metadata": {},
   "outputs": [],
   "source": [
    "def dropSamples(feat_df,dropSampleList):\n",
    "    fil_feat_df = feat_df.drop(dropSampleList, axis = 1)\n",
    "    return(fil_feat_df)"
   ]
  },
  {
   "cell_type": "code",
   "execution_count": 44,
   "id": "14a847ea",
   "metadata": {},
   "outputs": [],
   "source": [
    "if outliers:\n",
    "    outDrop_grp_filt_df = dropSamples(grp_filt_df, outliers)\n",
    "    outDrop_grp_filt_df.to_csv(\n",
    "        os.path.join(output_dir,\n",
    "                       f\"outDrop_blankM_groupFil{group_percNA_threshold}_{mode}_featab.csv\"),index = False)\n",
    "else:\n",
    "    outDrop_grp_filt_df = m_df"
   ]
  },
  {
   "cell_type": "markdown",
   "id": "a3b0df11",
   "metadata": {
    "tags": []
   },
   "source": [
    "## TIC normalization for top 1000 features"
   ]
  },
  {
   "cell_type": "code",
   "execution_count": 45,
   "id": "4a83ce80",
   "metadata": {},
   "outputs": [
    {
     "data": {
      "text/html": [
       "<div>\n",
       "<style scoped>\n",
       "    .dataframe tbody tr th:only-of-type {\n",
       "        vertical-align: middle;\n",
       "    }\n",
       "\n",
       "    .dataframe tbody tr th {\n",
       "        vertical-align: top;\n",
       "    }\n",
       "\n",
       "    .dataframe thead th {\n",
       "        text-align: right;\n",
       "    }\n",
       "</style>\n",
       "<table border=\"1\" class=\"dataframe\">\n",
       "  <thead>\n",
       "    <tr style=\"text-align: right;\">\n",
       "      <th></th>\n",
       "      <th>Blank_1</th>\n",
       "      <th>Blank_2</th>\n",
       "      <th>Blank_std_1</th>\n",
       "      <th>Qstd_1</th>\n",
       "      <th>Qstd_2</th>\n",
       "      <th>pooled_1</th>\n",
       "      <th>Tn_250K_1</th>\n",
       "      <th>Tn_250K_2</th>\n",
       "      <th>Tn_750K_3</th>\n",
       "      <th>Tn_750K_4</th>\n",
       "      <th>CD8stem_250K_1</th>\n",
       "      <th>CD8stem_300K_2</th>\n",
       "      <th>pooled_2</th>\n",
       "      <th>CD8trans_350K_1</th>\n",
       "      <th>CD8trans_250K_2</th>\n",
       "      <th>CD8TD_750K_1</th>\n",
       "      <th>CD8TD_750K_2</th>\n",
       "      <th>pooled_3</th>\n",
       "      <th>Qstd_3</th>\n",
       "      <th>Blank_3</th>\n",
       "    </tr>\n",
       "  </thead>\n",
       "  <tbody>\n",
       "    <tr>\n",
       "      <th>F1614</th>\n",
       "      <td>NaN</td>\n",
       "      <td>20555.0</td>\n",
       "      <td>60662.0</td>\n",
       "      <td>NaN</td>\n",
       "      <td>NaN</td>\n",
       "      <td>321382.0</td>\n",
       "      <td>235911.0</td>\n",
       "      <td>655433.0</td>\n",
       "      <td>151268.0</td>\n",
       "      <td>66061.0</td>\n",
       "      <td>548649.0</td>\n",
       "      <td>448802.0</td>\n",
       "      <td>198916.0</td>\n",
       "      <td>441632.0</td>\n",
       "      <td>844487.0</td>\n",
       "      <td>167207.0</td>\n",
       "      <td>43418.0</td>\n",
       "      <td>395143.0</td>\n",
       "      <td>NaN</td>\n",
       "      <td>48411.0</td>\n",
       "    </tr>\n",
       "    <tr>\n",
       "      <th>F3712</th>\n",
       "      <td>837591.0</td>\n",
       "      <td>717296.0</td>\n",
       "      <td>NaN</td>\n",
       "      <td>NaN</td>\n",
       "      <td>491014.0</td>\n",
       "      <td>1532934.0</td>\n",
       "      <td>1230597.0</td>\n",
       "      <td>910433.0</td>\n",
       "      <td>702748.0</td>\n",
       "      <td>621143.0</td>\n",
       "      <td>2266499.0</td>\n",
       "      <td>942310.0</td>\n",
       "      <td>1587450.0</td>\n",
       "      <td>1069759.0</td>\n",
       "      <td>1205834.0</td>\n",
       "      <td>NaN</td>\n",
       "      <td>NaN</td>\n",
       "      <td>1426358.0</td>\n",
       "      <td>NaN</td>\n",
       "      <td>646253.0</td>\n",
       "    </tr>\n",
       "    <tr>\n",
       "      <th>F1779</th>\n",
       "      <td>NaN</td>\n",
       "      <td>NaN</td>\n",
       "      <td>1698237.0</td>\n",
       "      <td>NaN</td>\n",
       "      <td>NaN</td>\n",
       "      <td>2803625.0</td>\n",
       "      <td>3026357.0</td>\n",
       "      <td>2958153.0</td>\n",
       "      <td>2827464.0</td>\n",
       "      <td>2817111.0</td>\n",
       "      <td>2754368.0</td>\n",
       "      <td>2156389.0</td>\n",
       "      <td>2912621.0</td>\n",
       "      <td>2697065.0</td>\n",
       "      <td>2971851.0</td>\n",
       "      <td>3236482.0</td>\n",
       "      <td>2724970.0</td>\n",
       "      <td>3001170.0</td>\n",
       "      <td>NaN</td>\n",
       "      <td>NaN</td>\n",
       "    </tr>\n",
       "    <tr>\n",
       "      <th>F3138</th>\n",
       "      <td>NaN</td>\n",
       "      <td>NaN</td>\n",
       "      <td>NaN</td>\n",
       "      <td>6872501.0</td>\n",
       "      <td>6813756.0</td>\n",
       "      <td>NaN</td>\n",
       "      <td>NaN</td>\n",
       "      <td>NaN</td>\n",
       "      <td>2352009.0</td>\n",
       "      <td>2308541.0</td>\n",
       "      <td>NaN</td>\n",
       "      <td>NaN</td>\n",
       "      <td>NaN</td>\n",
       "      <td>NaN</td>\n",
       "      <td>NaN</td>\n",
       "      <td>2322796.0</td>\n",
       "      <td>2729822.0</td>\n",
       "      <td>NaN</td>\n",
       "      <td>6883593.0</td>\n",
       "      <td>NaN</td>\n",
       "    </tr>\n",
       "    <tr>\n",
       "      <th>F5983</th>\n",
       "      <td>1059689.0</td>\n",
       "      <td>NaN</td>\n",
       "      <td>NaN</td>\n",
       "      <td>NaN</td>\n",
       "      <td>NaN</td>\n",
       "      <td>2395823.0</td>\n",
       "      <td>2393499.0</td>\n",
       "      <td>1716285.0</td>\n",
       "      <td>1290411.0</td>\n",
       "      <td>1450712.0</td>\n",
       "      <td>3675461.0</td>\n",
       "      <td>1596170.0</td>\n",
       "      <td>2193715.0</td>\n",
       "      <td>1389912.0</td>\n",
       "      <td>2101354.0</td>\n",
       "      <td>NaN</td>\n",
       "      <td>1530704.0</td>\n",
       "      <td>2716537.0</td>\n",
       "      <td>NaN</td>\n",
       "      <td>793991.0</td>\n",
       "    </tr>\n",
       "  </tbody>\n",
       "</table>\n",
       "</div>"
      ],
      "text/plain": [
       "         Blank_1   Blank_2  Blank_std_1     Qstd_1     Qstd_2   pooled_1  Tn_250K_1  Tn_250K_2  Tn_750K_3  Tn_750K_4  CD8stem_250K_1  CD8stem_300K_2   pooled_2  CD8trans_350K_1  CD8trans_250K_2  CD8TD_750K_1  CD8TD_750K_2   pooled_3     Qstd_3   Blank_3\n",
       "F1614        NaN   20555.0      60662.0        NaN        NaN   321382.0   235911.0   655433.0   151268.0    66061.0        548649.0        448802.0   198916.0         441632.0         844487.0      167207.0       43418.0   395143.0        NaN   48411.0\n",
       "F3712   837591.0  717296.0          NaN        NaN   491014.0  1532934.0  1230597.0   910433.0   702748.0   621143.0       2266499.0        942310.0  1587450.0        1069759.0        1205834.0           NaN           NaN  1426358.0        NaN  646253.0\n",
       "F1779        NaN       NaN    1698237.0        NaN        NaN  2803625.0  3026357.0  2958153.0  2827464.0  2817111.0       2754368.0       2156389.0  2912621.0        2697065.0        2971851.0     3236482.0     2724970.0  3001170.0        NaN       NaN\n",
       "F3138        NaN       NaN          NaN  6872501.0  6813756.0        NaN        NaN        NaN  2352009.0  2308541.0             NaN             NaN        NaN              NaN              NaN     2322796.0     2729822.0        NaN  6883593.0       NaN\n",
       "F5983  1059689.0       NaN          NaN        NaN        NaN  2395823.0  2393499.0  1716285.0  1290411.0  1450712.0       3675461.0       1596170.0  2193715.0        1389912.0        2101354.0           NaN     1530704.0  2716537.0        NaN  793991.0"
      ]
     },
     "execution_count": 45,
     "metadata": {},
     "output_type": "execute_result"
    }
   ],
   "source": [
    "grp_filt_df.head()"
   ]
  },
  {
   "cell_type": "code",
   "execution_count": 46,
   "id": "ae77719b",
   "metadata": {},
   "outputs": [],
   "source": [
    "samples_df = select_column_regExpr(outDrop_grp_filt_df,'Tn\\\\_[0-9]+|CD8stem\\\\_[0-9]+|CD8trans\\\\_[0-9]+|CD8TD\\\\_[0-9]')"
   ]
  },
  {
   "cell_type": "code",
   "execution_count": 47,
   "id": "850599fa",
   "metadata": {},
   "outputs": [
    {
     "data": {
      "text/html": [
       "<div>\n",
       "<style scoped>\n",
       "    .dataframe tbody tr th:only-of-type {\n",
       "        vertical-align: middle;\n",
       "    }\n",
       "\n",
       "    .dataframe tbody tr th {\n",
       "        vertical-align: top;\n",
       "    }\n",
       "\n",
       "    .dataframe thead th {\n",
       "        text-align: right;\n",
       "    }\n",
       "</style>\n",
       "<table border=\"1\" class=\"dataframe\">\n",
       "  <thead>\n",
       "    <tr style=\"text-align: right;\">\n",
       "      <th></th>\n",
       "      <th>Tn_250K_1</th>\n",
       "      <th>Tn_250K_2</th>\n",
       "      <th>Tn_750K_3</th>\n",
       "      <th>Tn_750K_4</th>\n",
       "      <th>CD8stem_250K_1</th>\n",
       "      <th>CD8stem_300K_2</th>\n",
       "      <th>CD8trans_350K_1</th>\n",
       "      <th>CD8trans_250K_2</th>\n",
       "      <th>CD8TD_750K_1</th>\n",
       "      <th>CD8TD_750K_2</th>\n",
       "    </tr>\n",
       "  </thead>\n",
       "  <tbody>\n",
       "    <tr>\n",
       "      <th>F1614</th>\n",
       "      <td>235911.0</td>\n",
       "      <td>655433.0</td>\n",
       "      <td>151268.0</td>\n",
       "      <td>66061.0</td>\n",
       "      <td>548649.0</td>\n",
       "      <td>448802.0</td>\n",
       "      <td>441632.0</td>\n",
       "      <td>844487.0</td>\n",
       "      <td>167207.0</td>\n",
       "      <td>43418.0</td>\n",
       "    </tr>\n",
       "    <tr>\n",
       "      <th>F3712</th>\n",
       "      <td>1230597.0</td>\n",
       "      <td>910433.0</td>\n",
       "      <td>702748.0</td>\n",
       "      <td>621143.0</td>\n",
       "      <td>2266499.0</td>\n",
       "      <td>942310.0</td>\n",
       "      <td>1069759.0</td>\n",
       "      <td>1205834.0</td>\n",
       "      <td>NaN</td>\n",
       "      <td>NaN</td>\n",
       "    </tr>\n",
       "    <tr>\n",
       "      <th>F1779</th>\n",
       "      <td>3026357.0</td>\n",
       "      <td>2958153.0</td>\n",
       "      <td>2827464.0</td>\n",
       "      <td>2817111.0</td>\n",
       "      <td>2754368.0</td>\n",
       "      <td>2156389.0</td>\n",
       "      <td>2697065.0</td>\n",
       "      <td>2971851.0</td>\n",
       "      <td>3236482.0</td>\n",
       "      <td>2724970.0</td>\n",
       "    </tr>\n",
       "    <tr>\n",
       "      <th>F3138</th>\n",
       "      <td>NaN</td>\n",
       "      <td>NaN</td>\n",
       "      <td>2352009.0</td>\n",
       "      <td>2308541.0</td>\n",
       "      <td>NaN</td>\n",
       "      <td>NaN</td>\n",
       "      <td>NaN</td>\n",
       "      <td>NaN</td>\n",
       "      <td>2322796.0</td>\n",
       "      <td>2729822.0</td>\n",
       "    </tr>\n",
       "    <tr>\n",
       "      <th>F5983</th>\n",
       "      <td>2393499.0</td>\n",
       "      <td>1716285.0</td>\n",
       "      <td>1290411.0</td>\n",
       "      <td>1450712.0</td>\n",
       "      <td>3675461.0</td>\n",
       "      <td>1596170.0</td>\n",
       "      <td>1389912.0</td>\n",
       "      <td>2101354.0</td>\n",
       "      <td>NaN</td>\n",
       "      <td>1530704.0</td>\n",
       "    </tr>\n",
       "  </tbody>\n",
       "</table>\n",
       "</div>"
      ],
      "text/plain": [
       "       Tn_250K_1  Tn_250K_2  Tn_750K_3  Tn_750K_4  CD8stem_250K_1  CD8stem_300K_2  CD8trans_350K_1  CD8trans_250K_2  CD8TD_750K_1  CD8TD_750K_2\n",
       "F1614   235911.0   655433.0   151268.0    66061.0        548649.0        448802.0         441632.0         844487.0      167207.0       43418.0\n",
       "F3712  1230597.0   910433.0   702748.0   621143.0       2266499.0        942310.0        1069759.0        1205834.0           NaN           NaN\n",
       "F1779  3026357.0  2958153.0  2827464.0  2817111.0       2754368.0       2156389.0        2697065.0        2971851.0     3236482.0     2724970.0\n",
       "F3138        NaN        NaN  2352009.0  2308541.0             NaN             NaN              NaN              NaN     2322796.0     2729822.0\n",
       "F5983  2393499.0  1716285.0  1290411.0  1450712.0       3675461.0       1596170.0        1389912.0        2101354.0           NaN     1530704.0"
      ]
     },
     "execution_count": 47,
     "metadata": {},
     "output_type": "execute_result"
    }
   ],
   "source": [
    "samples_df.head()"
   ]
  },
  {
   "cell_type": "code",
   "execution_count": 70,
   "id": "401b59b9",
   "metadata": {},
   "outputs": [
    {
     "data": {
      "text/plain": [
       "(42, 10)"
      ]
     },
     "execution_count": 70,
     "metadata": {},
     "output_type": "execute_result"
    }
   ],
   "source": [
    "samples_df.shape"
   ]
  },
  {
   "cell_type": "code",
   "execution_count": 48,
   "id": "879cd5f1",
   "metadata": {},
   "outputs": [],
   "source": [
    "import copy\n",
    "def TIC_Normalization_TopN(data_df,\n",
    "                           topN = 1000):\n",
    "    if any(data_df.apply(lambda x: x == 0).any()):\n",
    "        data_df[data_df == 0] = np.nan\n",
    "    feature_ids = data_df.sum(axis = 1, \n",
    "                              skipna = True\n",
    "                             ).sort_values(ascending = False)[0:topN].index\n",
    "    meanTIC = data_df.loc[feature_ids,:].mean(axis=0,skipna = True)\n",
    "    # print mean of TIC of the topN features\n",
    "    print(meanTIC[0:5])\n",
    "    factor_dict = dict(meanTIC/meanTIC.median())\n",
    "    new_data_df = copy.deepcopy(data_df)\n",
    "    for k,v in factor_dict.items():\n",
    "        new_data_df[k] = [x/v for x in new_data_df[k]]\n",
    "    # print meanTIC of topN features post-TIC normalization, should be the same\n",
    "    print(new_data_df.loc[feature_ids,:].mean(axis=0,skipna = True)[0:5])\n",
    "    \n",
    "    # print meanTIC of all features post-TIC normalization, should be closed\n",
    "    print(new_data_df.mean(axis=0,skipna = True)[0:5])\n",
    "    \n",
    "    return(new_data_df)"
   ]
  },
  {
   "cell_type": "code",
   "execution_count": 49,
   "id": "743ed7fb",
   "metadata": {},
   "outputs": [
    {
     "name": "stdout",
     "output_type": "stream",
     "text": [
      "Tn_250K_1         3.782249e+06\n",
      "Tn_250K_2         3.450438e+06\n",
      "Tn_750K_3         3.456700e+06\n",
      "Tn_750K_4         3.545832e+06\n",
      "CD8stem_250K_1    5.319906e+06\n",
      "dtype: float64\n",
      "Tn_250K_1         3.997479e+06\n",
      "Tn_250K_2         3.997479e+06\n",
      "Tn_750K_3         3.997479e+06\n",
      "Tn_750K_4         3.997479e+06\n",
      "CD8stem_250K_1    3.997479e+06\n",
      "dtype: float64\n",
      "Tn_250K_1         3.997479e+06\n",
      "Tn_250K_2         3.997479e+06\n",
      "Tn_750K_3         3.997479e+06\n",
      "Tn_750K_4         3.997479e+06\n",
      "CD8stem_250K_1    3.997479e+06\n",
      "dtype: float64\n"
     ]
    }
   ],
   "source": [
    "TICnorm_data_df = TIC_Normalization_TopN(samples_df,topN = 1000)"
   ]
  },
  {
   "cell_type": "code",
   "execution_count": 50,
   "id": "d7318e14",
   "metadata": {},
   "outputs": [],
   "source": [
    "import numpy as np\n",
    "import matplotlib.pyplot as plt\n",
    "\n",
    "def bar_plot_TIC(df):\n",
    "    TIC = df.sum(axis = 0)\n",
    "    plt.bar(TIC.index, TIC)\n",
    "    plt.xticks(rotation=90)  # rotate x-axis labels to horizontal\n",
    "    plt.show()"
   ]
  },
  {
   "cell_type": "code",
   "execution_count": 51,
   "id": "465ca960",
   "metadata": {},
   "outputs": [
    {
     "data": {
      "image/png": "[encoded data removed]",
      "text/plain": [
       "<Figure size 432x288 with 1 Axes>"
      ]
     },
     "metadata": {
      "needs_background": "light"
     },
     "output_type": "display_data"
    },
    {
     "data": {
      "image/png": "[encoded data removed]",
      "text/plain": [
       "<Figure size 432x288 with 1 Axes>"
      ]
     },
     "metadata": {
      "needs_background": "light"
     },
     "output_type": "display_data"
    }
   ],
   "source": [
    "bar_plot_TIC(samples_df)\n",
    "bar_plot_TIC(TICnorm_data_df)"
   ]
  },
  {
   "cell_type": "markdown",
   "id": "978b5459",
   "metadata": {},
   "source": [
    "#### I will not use TIC normalized data for the subsequent analyses\n",
    "- This is targeted extract\n",
    "- The TIC doesn't look bad at all"
   ]
  },
  {
   "cell_type": "code",
   "execution_count": 52,
   "id": "9aea2499",
   "metadata": {},
   "outputs": [],
   "source": [
    "# # I decide to just replace the \n",
    "# def replace_col_wtTICnorm(feat_df = outDrop_grp_filt_df,\n",
    "#                           data_df = TICnorm_data_df):\n",
    "#     '''\n",
    "#     replace the same column of feature dataframe (feat_df) with the data_df that have the same column\n",
    "#     Return the feature dataframe. Note that the function is not limited to TIC normalized data.\n",
    "#     '''\n",
    "#     new_feat_df = copy.deepcopy(feat_df)\n",
    "#     for col in data_df.columns:\n",
    "#         new_feat_df[col] = data_df[col]\n",
    "\n",
    "#     return(new_feat_df)\n",
    "\n",
    "# TICnorm_feat_df = replace_col_wtTICnorm(feat_df = outDrop_grp_filt_df,\n",
    "#                           data_df = TICnorm_data_df)\n",
    "\n",
    "# TICnorm_feat_df.to_csv(\n",
    "#         os.path.join(output_dir,\n",
    "#                        f\"TICnorm_groupFil{group_percNA_threshold}_{mode}_featab.csv\"),index = False) # rename if needed"
   ]
  },
  {
   "cell_type": "markdown",
   "id": "5bf7e50d",
   "metadata": {},
   "source": [
    "------"
   ]
  },
  {
   "cell_type": "markdown",
   "id": "b65beef7",
   "metadata": {},
   "source": [
    "## Normalization by cell number??\n",
    "- no need for normalization of cell numbers, since during experiments, reconsititution of samples already considered that part!"
   ]
  },
  {
   "cell_type": "markdown",
   "id": "310488d7",
   "metadata": {},
   "source": [
    "-----"
   ]
  },
  {
   "cell_type": "markdown",
   "id": "0b2e9fba",
   "metadata": {},
   "source": [
    "## Summary\n",
    "- run no normalization, directly using the samples_df for analyses"
   ]
  },
  {
   "cell_type": "markdown",
   "id": "a8986cd7",
   "metadata": {},
   "source": [
    "------"
   ]
  },
  {
   "cell_type": "markdown",
   "id": "bcb51d52",
   "metadata": {},
   "source": [
    "------"
   ]
  },
  {
   "cell_type": "markdown",
   "id": "ffc6be5d",
   "metadata": {
    "tags": []
   },
   "source": [
    "## Imputation with half minimum"
   ]
  },
  {
   "cell_type": "code",
   "execution_count": 81,
   "id": "3de088c9",
   "metadata": {},
   "outputs": [],
   "source": [
    "# I decide to just replace the \n",
    "def replace_col_wtTICnorm(feat_df = outDrop_grp_filt_df,\n",
    "                          data_df = TICnorm_data_df):\n",
    "    '''\n",
    "    replace the same column of feature dataframe (feat_df) with the data_df that have the same column\n",
    "    Return the feature dataframe. Note that the function is not limited to TIC normalized data.\n",
    "    '''\n",
    "    new_feat_df = copy.deepcopy(feat_df)\n",
    "    new_feat_df = new_feat_df.loc[data_df.index,:]\n",
    "    for col in data_df.columns:\n",
    "        new_feat_df[col] = data_df[col]\n",
    "\n",
    "    return(new_feat_df)"
   ]
  },
  {
   "cell_type": "code",
   "execution_count": 82,
   "id": "884c75be",
   "metadata": {},
   "outputs": [],
   "source": [
    "def imputation(norm_data_df,full_asari_data_df,replace = 'half_minimum'):\n",
    "    '''\n",
    "    the row index should be matched btw. normalized data df & full asari df\n",
    "    The reason to add full_asari_data_df is to add the true minimum across all samples. \n",
    "    It will better capture the baseline\n",
    "    Default setting: if there is 0, then it will automatically deem as NA.\n",
    "    full_asari_data_df can use the same dataset of norm_data_df\n",
    "    norm_data_df can be exactly the same with not normalized dataset\n",
    "    \n",
    "    Output\n",
    "    ======\n",
    "    Return the NA filled norm_data_df\n",
    "    ''' \n",
    "    \n",
    "    # turn zero to NA\n",
    "    norm_data_df[norm_data_df == 0] = np.nan\n",
    "    full_asari_data_df[full_asari_data_df == 0] = np.nan\n",
    "    \n",
    "    if replace == 'half_minimum':\n",
    "        for i,row in norm_data_df.iterrows():\n",
    "            minimum_value = full_asari_data_df.loc[i,:].min()\n",
    "            row.fillna(minimum_value/2,inplace = True) # imputation is minimum\n",
    "\n",
    "    return(norm_data_df)"
   ]
  },
  {
   "cell_type": "markdown",
   "id": "ebbda4c1",
   "metadata": {},
   "source": [
    "#### unnormalized table"
   ]
  },
  {
   "cell_type": "code",
   "execution_count": 83,
   "id": "c9c95b6d",
   "metadata": {},
   "outputs": [
    {
     "data": {
      "text/plain": [
       "Index(['Blank_1', 'Blank_2', 'Blank_std_1', 'Qstd_1', 'Qstd_2', 'pooled_1', 'Tn_250K_1', 'Tn_250K_2', 'Tn_750K_3', 'Tn_750K_4', 'CD8stem_250K_1', 'CD8stem_300K_2', 'pooled_2', 'CD8trans_350K_1', 'CD8trans_250K_2', 'CD8TD_750K_1', 'CD8TD_750K_2', 'pooled_3', 'Qstd_3', 'Blank_3'], dtype='object')"
      ]
     },
     "execution_count": 83,
     "metadata": {},
     "output_type": "execute_result"
    }
   ],
   "source": [
    "# data_df contains all the samples columns including pooled blank and etc.\n",
    "data_df.columns"
   ]
  },
  {
   "cell_type": "code",
   "execution_count": 84,
   "id": "a658ef1b",
   "metadata": {},
   "outputs": [
    {
     "data": {
      "text/plain": [
       "Index(['Tn_250K_1', 'Tn_250K_2', 'Tn_750K_3', 'Tn_750K_4', 'CD8stem_250K_1', 'CD8stem_300K_2', 'CD8trans_350K_1', 'CD8trans_250K_2', 'CD8TD_750K_1', 'CD8TD_750K_2'], dtype='object')"
      ]
     },
     "execution_count": 84,
     "metadata": {},
     "output_type": "execute_result"
    }
   ],
   "source": [
    "# samples_df contains only relevant columns\n",
    "samples_df.columns"
   ]
  },
  {
   "cell_type": "code",
   "execution_count": 85,
   "id": "bae0b8a2",
   "metadata": {},
   "outputs": [
    {
     "name": "stdout",
     "output_type": "stream",
     "text": [
      "Index(['F1614', 'F3712', 'F1779', 'F3031', 'F3138'], dtype='object', name='id_number')\n",
      "Index(['F1614', 'F3712', 'F1779', 'F3138', 'F5983'], dtype='object')\n"
     ]
    }
   ],
   "source": [
    "# Make sure they both point to Feature ID\n",
    "print(data_df.index[0:5])\n",
    "print(samples_df.index[0:5])"
   ]
  },
  {
   "cell_type": "code",
   "execution_count": 86,
   "id": "c02c22b4",
   "metadata": {},
   "outputs": [],
   "source": [
    "data_df_imphMin = imputation(norm_data_df = samples_df,\n",
    "                                       full_asari_data_df = data_df,\n",
    "                                       replace = 'half_minimum')\n",
    "\n",
    "imphMin_feat_df = replace_col_wtTICnorm(feat_df = reord_target_feat_df,\n",
    "                          data_df = data_df_imphMin)\n",
    "\n",
    "imphMin_feat_df.to_csv(\n",
    "        os.path.join(output_dir,\n",
    "                       f\"hMinImp_groupFil{group_percNA_threshold}_{mode}_featab.csv\"),index = False)"
   ]
  },
  {
   "cell_type": "code",
   "execution_count": 88,
   "id": "01d279bc",
   "metadata": {},
   "outputs": [
    {
     "data": {
      "text/plain": [
       "(42, 32)"
      ]
     },
     "execution_count": 88,
     "metadata": {},
     "output_type": "execute_result"
    }
   ],
   "source": [
    "imphMin_feat_df.shape"
   ]
  },
  {
   "cell_type": "markdown",
   "id": "645b0ab0",
   "metadata": {},
   "source": [
    "# log2 transform"
   ]
  },
  {
   "cell_type": "code",
   "execution_count": 89,
   "id": "99595d4e",
   "metadata": {},
   "outputs": [],
   "source": [
    "def log2transform(data_df,\n",
    "                  back2Zero = False):\n",
    "    data_df[data_df == 0] = np.nan\n",
    "    data_df_log = data_df.apply(lambda x: np.log2(x)) # no need to add +1\n",
    "    if back2Zero == True:\n",
    "        data_df_log[data_df_log.isna()] = 0\n",
    "    return(data_df_log)"
   ]
  },
  {
   "cell_type": "code",
   "execution_count": 90,
   "id": "46e046b3",
   "metadata": {},
   "outputs": [],
   "source": [
    "def log2transform_on_featab_wtRegExpr(feat_df,\n",
    "                                      back2Zero = False,\n",
    "                                      samplesRegExpr = 'Tn\\\\_[0-9]+|CD8stem\\\\_[0-9]+|CD8trans\\\\_[0-9]+|CD8TD\\\\_[0-9]|pooled|Qstd|Blank'):\n",
    "    data_df = select_column_regExpr(feat_df,samplesRegExpr)\n",
    "    log2_data_df = log2transform(data_df, back2Zero = back2Zero)\n",
    "    log2_feat_df = replace_col_wtTICnorm(feat_df = feat_df,\n",
    "                                         data_df = log2_data_df)\n",
    "    return(log2_feat_df)"
   ]
  },
  {
   "cell_type": "markdown",
   "id": "9c97c573",
   "metadata": {},
   "source": [
    "#### log2 transform on the imputated feature tables"
   ]
  },
  {
   "cell_type": "code",
   "execution_count": 99,
   "id": "922df445",
   "metadata": {},
   "outputs": [],
   "source": [
    "log2_imphMin_feat_df = log2transform_on_featab_wtRegExpr(imphMin_feat_df)"
   ]
  },
  {
   "cell_type": "code",
   "execution_count": 100,
   "id": "75766262",
   "metadata": {},
   "outputs": [
    {
     "data": {
      "text/html": [
       "<div>\n",
       "<style scoped>\n",
       "    .dataframe tbody tr th:only-of-type {\n",
       "        vertical-align: middle;\n",
       "    }\n",
       "\n",
       "    .dataframe tbody tr th {\n",
       "        vertical-align: top;\n",
       "    }\n",
       "\n",
       "    .dataframe thead th {\n",
       "        text-align: right;\n",
       "    }\n",
       "</style>\n",
       "<table border=\"1\" class=\"dataframe\">\n",
       "  <thead>\n",
       "    <tr style=\"text-align: right;\">\n",
       "      <th></th>\n",
       "      <th>query_target</th>\n",
       "      <th>id_number</th>\n",
       "      <th>mz</th>\n",
       "      <th>rtime</th>\n",
       "      <th>rtime_left_base</th>\n",
       "      <th>rtime_right_base</th>\n",
       "      <th>parent_masstrack_id</th>\n",
       "      <th>peak_area</th>\n",
       "      <th>cSelectivity</th>\n",
       "      <th>goodness_fitting</th>\n",
       "      <th>snr</th>\n",
       "      <th>detection_counts</th>\n",
       "      <th>Blank_1</th>\n",
       "      <th>Blank_2</th>\n",
       "      <th>Blank_std_1</th>\n",
       "      <th>Qstd_1</th>\n",
       "      <th>Qstd_2</th>\n",
       "      <th>pooled_1</th>\n",
       "      <th>Tn_250K_1</th>\n",
       "      <th>Tn_250K_2</th>\n",
       "      <th>Tn_750K_3</th>\n",
       "      <th>Tn_750K_4</th>\n",
       "      <th>CD8stem_250K_1</th>\n",
       "      <th>CD8stem_300K_2</th>\n",
       "      <th>pooled_2</th>\n",
       "      <th>CD8trans_350K_1</th>\n",
       "      <th>CD8trans_250K_2</th>\n",
       "      <th>CD8TD_750K_1</th>\n",
       "      <th>CD8TD_750K_2</th>\n",
       "      <th>pooled_3</th>\n",
       "      <th>Qstd_3</th>\n",
       "      <th>Blank_3</th>\n",
       "    </tr>\n",
       "  </thead>\n",
       "  <tbody>\n",
       "    <tr>\n",
       "      <th>F1614</th>\n",
       "      <td>482.288282</td>\n",
       "      <td>F1614</td>\n",
       "      <td>482.2890</td>\n",
       "      <td>207.04</td>\n",
       "      <td>204.92</td>\n",
       "      <td>209.41</td>\n",
       "      <td>1335</td>\n",
       "      <td>4365548</td>\n",
       "      <td>0.88</td>\n",
       "      <td>0.85</td>\n",
       "      <td>430</td>\n",
       "      <td>16</td>\n",
       "      <td>NaN</td>\n",
       "      <td>14.327202</td>\n",
       "      <td>15.888505</td>\n",
       "      <td>NaN</td>\n",
       "      <td>NaN</td>\n",
       "      <td>18.293930</td>\n",
       "      <td>17.847883</td>\n",
       "      <td>19.322089</td>\n",
       "      <td>17.206747</td>\n",
       "      <td>16.011511</td>\n",
       "      <td>19.065524</td>\n",
       "      <td>18.775720</td>\n",
       "      <td>17.601800</td>\n",
       "      <td>18.752485</td>\n",
       "      <td>19.687716</td>\n",
       "      <td>17.351276</td>\n",
       "      <td>15.406006</td>\n",
       "      <td>18.592015</td>\n",
       "      <td>NaN</td>\n",
       "      <td>15.563047</td>\n",
       "    </tr>\n",
       "    <tr>\n",
       "      <th>F3712</th>\n",
       "      <td>498.283197</td>\n",
       "      <td>F3712</td>\n",
       "      <td>498.2843</td>\n",
       "      <td>33.72</td>\n",
       "      <td>32.23</td>\n",
       "      <td>36.32</td>\n",
       "      <td>1567</td>\n",
       "      <td>18072147</td>\n",
       "      <td>1.00</td>\n",
       "      <td>0.94</td>\n",
       "      <td>270</td>\n",
       "      <td>15</td>\n",
       "      <td>19.675886</td>\n",
       "      <td>19.452209</td>\n",
       "      <td>NaN</td>\n",
       "      <td>NaN</td>\n",
       "      <td>18.905405</td>\n",
       "      <td>20.547864</td>\n",
       "      <td>20.230927</td>\n",
       "      <td>19.796193</td>\n",
       "      <td>19.422648</td>\n",
       "      <td>19.244566</td>\n",
       "      <td>21.112034</td>\n",
       "      <td>19.845842</td>\n",
       "      <td>20.598280</td>\n",
       "      <td>20.028854</td>\n",
       "      <td>20.201600</td>\n",
       "      <td>17.905405</td>\n",
       "      <td>17.905405</td>\n",
       "      <td>20.443905</td>\n",
       "      <td>NaN</td>\n",
       "      <td>19.301740</td>\n",
       "    </tr>\n",
       "    <tr>\n",
       "      <th>F1779</th>\n",
       "      <td>524.298847</td>\n",
       "      <td>F1779</td>\n",
       "      <td>524.2982</td>\n",
       "      <td>96.47</td>\n",
       "      <td>93.85</td>\n",
       "      <td>99.13</td>\n",
       "      <td>1928</td>\n",
       "      <td>36918657</td>\n",
       "      <td>0.76</td>\n",
       "      <td>0.97</td>\n",
       "      <td>470</td>\n",
       "      <td>14</td>\n",
       "      <td>NaN</td>\n",
       "      <td>NaN</td>\n",
       "      <td>20.695606</td>\n",
       "      <td>NaN</td>\n",
       "      <td>NaN</td>\n",
       "      <td>21.418862</td>\n",
       "      <td>21.529151</td>\n",
       "      <td>21.496265</td>\n",
       "      <td>21.431077</td>\n",
       "      <td>21.425785</td>\n",
       "      <td>21.393290</td>\n",
       "      <td>21.040186</td>\n",
       "      <td>21.473887</td>\n",
       "      <td>21.362959</td>\n",
       "      <td>21.502930</td>\n",
       "      <td>21.625995</td>\n",
       "      <td>21.377809</td>\n",
       "      <td>21.517094</td>\n",
       "      <td>NaN</td>\n",
       "      <td>NaN</td>\n",
       "    </tr>\n",
       "    <tr>\n",
       "      <th>F3138</th>\n",
       "      <td>540.330147</td>\n",
       "      <td>F3138</td>\n",
       "      <td>540.3305</td>\n",
       "      <td>70.18</td>\n",
       "      <td>67.44</td>\n",
       "      <td>72.92</td>\n",
       "      <td>2147</td>\n",
       "      <td>29371349</td>\n",
       "      <td>0.95</td>\n",
       "      <td>0.98</td>\n",
       "      <td>23</td>\n",
       "      <td>7</td>\n",
       "      <td>NaN</td>\n",
       "      <td>NaN</td>\n",
       "      <td>NaN</td>\n",
       "      <td>22.712404</td>\n",
       "      <td>22.700019</td>\n",
       "      <td>NaN</td>\n",
       "      <td>20.138550</td>\n",
       "      <td>20.138550</td>\n",
       "      <td>21.165462</td>\n",
       "      <td>21.138550</td>\n",
       "      <td>20.138550</td>\n",
       "      <td>20.138550</td>\n",
       "      <td>NaN</td>\n",
       "      <td>20.138550</td>\n",
       "      <td>20.138550</td>\n",
       "      <td>21.147431</td>\n",
       "      <td>21.380375</td>\n",
       "      <td>NaN</td>\n",
       "      <td>22.71473</td>\n",
       "      <td>NaN</td>\n",
       "    </tr>\n",
       "    <tr>\n",
       "      <th>F5983</th>\n",
       "      <td>572.298847</td>\n",
       "      <td>F5983</td>\n",
       "      <td>572.2993</td>\n",
       "      <td>217.45</td>\n",
       "      <td>214.85</td>\n",
       "      <td>219.84</td>\n",
       "      <td>2580</td>\n",
       "      <td>25336616</td>\n",
       "      <td>1.00</td>\n",
       "      <td>0.94</td>\n",
       "      <td>1811</td>\n",
       "      <td>14</td>\n",
       "      <td>20.015209</td>\n",
       "      <td>NaN</td>\n",
       "      <td>NaN</td>\n",
       "      <td>NaN</td>\n",
       "      <td>NaN</td>\n",
       "      <td>21.192090</td>\n",
       "      <td>21.190690</td>\n",
       "      <td>20.710858</td>\n",
       "      <td>20.299399</td>\n",
       "      <td>20.468330</td>\n",
       "      <td>21.809494</td>\n",
       "      <td>20.606183</td>\n",
       "      <td>21.064945</td>\n",
       "      <td>20.406562</td>\n",
       "      <td>21.002888</td>\n",
       "      <td>18.598763</td>\n",
       "      <td>20.545764</td>\n",
       "      <td>21.373337</td>\n",
       "      <td>NaN</td>\n",
       "      <td>19.598763</td>\n",
       "    </tr>\n",
       "  </tbody>\n",
       "</table>\n",
       "</div>"
      ],
      "text/plain": [
       "       query_target id_number        mz   rtime  rtime_left_base  rtime_right_base  parent_masstrack_id  peak_area  cSelectivity  goodness_fitting   snr  detection_counts    Blank_1    Blank_2  Blank_std_1     Qstd_1     Qstd_2   pooled_1  Tn_250K_1  Tn_250K_2  Tn_750K_3  Tn_750K_4  CD8stem_250K_1  CD8stem_300K_2   pooled_2  CD8trans_350K_1  CD8trans_250K_2  CD8TD_750K_1  CD8TD_750K_2   pooled_3    Qstd_3    Blank_3\n",
       "F1614    482.288282     F1614  482.2890  207.04           204.92            209.41                 1335    4365548          0.88              0.85   430                16        NaN  14.327202    15.888505        NaN        NaN  18.293930  17.847883  19.322089  17.206747  16.011511       19.065524       18.775720  17.601800        18.752485        19.687716     17.351276     15.406006  18.592015       NaN  15.563047\n",
       "F3712    498.283197     F3712  498.2843   33.72            32.23             36.32                 1567   18072147          1.00              0.94   270                15  19.675886  19.452209          NaN        NaN  18.905405  20.547864  20.230927  19.796193  19.422648  19.244566       21.112034       19.845842  20.598280        20.028854        20.201600     17.905405     17.905405  20.443905       NaN  19.301740\n",
       "F1779    524.298847     F1779  524.2982   96.47            93.85             99.13                 1928   36918657          0.76              0.97   470                14        NaN        NaN    20.695606        NaN        NaN  21.418862  21.529151  21.496265  21.431077  21.425785       21.393290       21.040186  21.473887        21.362959        21.502930     21.625995     21.377809  21.517094       NaN        NaN\n",
       "F3138    540.330147     F3138  540.3305   70.18            67.44             72.92                 2147   29371349          0.95              0.98    23                 7        NaN        NaN          NaN  22.712404  22.700019        NaN  20.138550  20.138550  21.165462  21.138550       20.138550       20.138550        NaN        20.138550        20.138550     21.147431     21.380375        NaN  22.71473        NaN\n",
       "F5983    572.298847     F5983  572.2993  217.45           214.85            219.84                 2580   25336616          1.00              0.94  1811                14  20.015209        NaN          NaN        NaN        NaN  21.192090  21.190690  20.710858  20.299399  20.468330       21.809494       20.606183  21.064945        20.406562        21.002888     18.598763     20.545764  21.373337       NaN  19.598763"
      ]
     },
     "execution_count": 100,
     "metadata": {},
     "output_type": "execute_result"
    }
   ],
   "source": [
    "log2_imphMin_feat_df.head()"
   ]
  },
  {
   "cell_type": "code",
   "execution_count": 101,
   "id": "c1c3e738",
   "metadata": {},
   "outputs": [],
   "source": [
    "log2_imphMin_feat_df.to_csv(\n",
    "        os.path.join(output_dir,\n",
    "                       f\"log2_hMinImp_groupFil{group_percNA_threshold}_{mode}_featab.csv\"),index = False)"
   ]
  },
  {
   "cell_type": "markdown",
   "id": "a9281534",
   "metadata": {},
   "source": [
    "-------"
   ]
  },
  {
   "cell_type": "markdown",
   "id": "b7940132",
   "metadata": {},
   "source": [
    "-----"
   ]
  },
  {
   "cell_type": "markdown",
   "id": "8b20125f",
   "metadata": {},
   "source": [
    "-----"
   ]
  },
  {
   "cell_type": "markdown",
   "id": "7aadf1fc",
   "metadata": {},
   "source": [
    "## Report geometric mean of group"
   ]
  },
  {
   "cell_type": "code",
   "execution_count": 102,
   "id": "0bd946c0",
   "metadata": {},
   "outputs": [
    {
     "name": "stdout",
     "output_type": "stream",
     "text": [
      "[('john', 'jeff'),\n",
      " ('john', 'george'),\n",
      " ('john', 'peter'),\n",
      " ('john', 'ringo'),\n",
      " ('jeff', 'george'),\n",
      " ('jeff', 'peter'),\n",
      " ('jeff', 'ringo'),\n",
      " ('george', 'peter'),\n",
      " ('george', 'ringo'),\n",
      " ('peter', 'ringo')]\n"
     ]
    }
   ],
   "source": [
    "from itertools import combinations\n",
    "from pprint import pprint\n",
    "\n",
    "names = ['john', 'jeff', 'george', 'peter', 'ringo']\n",
    "\n",
    "combos = list(combinations(names, 2))\n",
    "# pairs = [[x, y] for x in combos for y in combos if not set(x).intersection(set(y))]\n",
    "\n",
    "pprint(combos)"
   ]
  },
  {
   "cell_type": "markdown",
   "id": "f1840c5b",
   "metadata": {
    "tags": []
   },
   "source": [
    "## the end index is `12`"
   ]
  },
  {
   "cell_type": "code",
   "execution_count": 106,
   "id": "3140de80",
   "metadata": {},
   "outputs": [
    {
     "data": {
      "text/plain": [
       "Index(['detection_counts', 'Blank_1', 'Blank_2', 'Blank_std_1', 'Qstd_1', 'Qstd_2', 'pooled_1', 'Tn_250K_1', 'Tn_250K_2', 'Tn_750K_3', 'Tn_750K_4', 'CD8stem_250K_1', 'CD8stem_300K_2', 'pooled_2', 'CD8trans_350K_1', 'CD8trans_250K_2', 'CD8TD_750K_1', 'CD8TD_750K_2', 'pooled_3', 'Qstd_3', 'Blank_3'], dtype='object')"
      ]
     },
     "execution_count": 106,
     "metadata": {},
     "output_type": "execute_result"
    }
   ],
   "source": [
    "log2_imphMin_feat_df.columns[11:]"
   ]
  },
  {
   "cell_type": "code",
   "execution_count": 110,
   "id": "0d133378",
   "metadata": {},
   "outputs": [],
   "source": [
    "from itertools import combinations\n",
    "\n",
    "def log2FCreport(log2_feat_df, \n",
    "          groupRegExprs = ['Tn\\\\_[0-9]+','CD8stem\\\\_[0-9]+','CD8trans\\\\_[0-9]+','CD8TD\\\\_[0-9]+'], # order always the reference on the left\n",
    "          end_index = 12):\n",
    "    '''\n",
    "    The function require log2 feature table\n",
    "    Using groupRegExprs to recognize the grouped samples. Only works for explicitly coded sample identification based on the name\n",
    "    End_index is where the index end on the meta information coded in the log2_feature table\n",
    "    Currently only deals with two group comparison\n",
    "    '''\n",
    "    #' separate data table and metainfo by `end_index` (needs to define beforehand)\n",
    "    data_df = log2_feat_df.iloc[:,end_index:log2_feat_df.shape[1]]\n",
    "    log2_feat_df_meta = log2_feat_df.iloc[:,0:end_index]\n",
    "    \n",
    "    # calculate gMean first\n",
    "    group_of_mean_dict = {}\n",
    "    for group in groupRegExprs:\n",
    "        group_df = select_column_regExpr(log2_feat_df,group)\n",
    "        group_df_mean = group_df.apply(lambda row: row.mean(),axis = 1)\n",
    "        group_id = group.split('\\\\')[0]\n",
    "        log2_feat_df_meta[f'gMean_{group_id}'] = group_df_mean\n",
    "        group_of_mean_dict.update({group_id : group_df_mean})\n",
    "    \n",
    "    # calculate log2 fold change  using `group_of_mean_dict`\n",
    "    combos = list(combinations(group_of_mean_dict.keys(), 2))\n",
    "    for combo in combos:\n",
    "        log2_feat_df_meta[f'log2FC_{combo[1]}vs{combo[0]}'] = [y - x for (x,y) in zip(group_of_mean_dict[combo[0]],\n",
    "                                                                                           group_of_mean_dict[combo[1]])]\n",
    "    final_df = pd.concat([log2_feat_df_meta,data_df],axis = 1)\n",
    "    return(final_df)"
   ]
  },
  {
   "cell_type": "markdown",
   "id": "16633c97",
   "metadata": {
    "tags": []
   },
   "source": [
    "### **Imputated** TICnorm log2 data : report gMean"
   ]
  },
  {
   "cell_type": "code",
   "execution_count": 112,
   "id": "8d01a0a7",
   "metadata": {},
   "outputs": [],
   "source": [
    "FC_log2_TICnorm_imphMin_feat_df = log2FCreport(log2_feat_df = log2_TICnorm_imphMin_feat_df,\n",
    "                                      end_index = 12)\n",
    "\n",
    "FC_log2_TICnorm_imphMin_feat_df.to_csv(\n",
    "        os.path.join(output_dir,\n",
    "                       f\"FC_log2_hMinImp_groupFil{group_percNA_threshold}_{mode}_featab.csv\"),index = False)"
   ]
  },
  {
   "cell_type": "markdown",
   "id": "ec1186cf",
   "metadata": {},
   "source": [
    "-------"
   ]
  },
  {
   "cell_type": "markdown",
   "id": "a99f15ac",
   "metadata": {},
   "source": [
    "-------"
   ]
  }
 ],
 "metadata": {
  "kernelspec": {
   "display_name": "Python 3 (ipykernel)",
   "language": "python",
   "name": "python3"
  },
  "language_info": {
   "codemirror_mode": {
    "name": "ipython",
    "version": 3
   },
   "file_extension": ".py",
   "mimetype": "text/x-python",
   "name": "python",
   "nbconvert_exporter": "python",
   "pygments_lexer": "ipython3",
   "version": "3.8.5"
  }
 },
 "nbformat": 4,
 "nbformat_minor": 5
}
