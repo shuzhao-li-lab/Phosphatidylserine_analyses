{
 "cells": [
  {
   "cell_type": "markdown",
   "id": "fe523e51-02e2-460a-b877-cc659d18a752",
   "metadata": {},
   "source": [
    "# Asari table preprocessing"
   ]
  },
  {
   "cell_type": "code",
   "execution_count": 89,
   "id": "a4761690-3eee-4754-b96b-22c8cc5bad54",
   "metadata": {
    "tags": []
   },
   "outputs": [],
   "source": [
    "# !pip install seaborn"
   ]
  },
  {
   "cell_type": "code",
   "execution_count": 90,
   "id": "d64df4c7-5f81-444a-85c5-bba07533bfb1",
   "metadata": {
    "tags": []
   },
   "outputs": [],
   "source": [
    "import pandas as pd\n",
    "import os\n",
    "import json\n",
    "import numpy as np\n",
    "import seaborn as sns\n",
    "import matplotlib.pyplot as plt\n",
    "import re\n",
    "from random import randrange"
   ]
  },
  {
   "cell_type": "code",
   "execution_count": 91,
   "id": "8cb37788-fb87-4f7c-9c2f-5fadd7834713",
   "metadata": {},
   "outputs": [],
   "source": [
    "pd.set_option('display.max_rows', 1000)\n",
    "pd.set_option('display.max_columns', 500)\n",
    "pd.set_option('display.width', 1000)"
   ]
  },
  {
   "cell_type": "code",
   "execution_count": 92,
   "id": "b482d3f8-1db4-4544-8b33-0373806009be",
   "metadata": {},
   "outputs": [],
   "source": [
    "asari_out_fdr = \"../../input/HILICpos_mzML/output_asari_project_224113827_targeted_search/\"\n",
    "targeted_file = \"../../input/HILICpos_mzML/output_asari_project_224113827_targeted_search/simp-m-targeted_extraction-Feature_table.tsv\"\n",
    "metadata_file = \"../../input/sequence_file/clean_meta_df_wt1_HILICpos.csv\"\n",
    "mode = \"HILICpos\"\n",
    "group_percNA_threshold = 0.3 # < percNA, should be presented in any group"
   ]
  },
  {
   "cell_type": "code",
   "execution_count": 93,
   "id": "b801641d-d2a7-41fa-a1e6-cc8d9ba2dd4d",
   "metadata": {},
   "outputs": [],
   "source": [
    "output_dir = \"../../output/preprocessing_on_targetd\" + str(randrange(0,100))"
   ]
  },
  {
   "cell_type": "code",
   "execution_count": 94,
   "id": "429a7649-480e-4ad0-9fba-1288af654ecc",
   "metadata": {},
   "outputs": [],
   "source": [
    "try:\n",
    "    os.mkdir(output_dir)\n",
    "except:\n",
    "    print(\"not done\")"
   ]
  },
  {
   "cell_type": "code",
   "execution_count": 95,
   "id": "2bff6408-9448-4c63-a399-a8b8e6e17422",
   "metadata": {},
   "outputs": [],
   "source": [
    "feat_df = pd.read_csv(os.path.join(asari_out_fdr,'preferred_Feature_table.tsv'),sep = '\\t')"
   ]
  },
  {
   "cell_type": "code",
   "execution_count": 96,
   "id": "7613846c-14cc-4c03-b001-a5123ae1c078",
   "metadata": {},
   "outputs": [
    {
     "data": {
      "text/html": [
       "<div>\n",
       "<style scoped>\n",
       "    .dataframe tbody tr th:only-of-type {\n",
       "        vertical-align: middle;\n",
       "    }\n",
       "\n",
       "    .dataframe tbody tr th {\n",
       "        vertical-align: top;\n",
       "    }\n",
       "\n",
       "    .dataframe thead th {\n",
       "        text-align: right;\n",
       "    }\n",
       "</style>\n",
       "<table border=\"1\" class=\"dataframe\">\n",
       "  <thead>\n",
       "    <tr style=\"text-align: right;\">\n",
       "      <th></th>\n",
       "      <th>id_number</th>\n",
       "      <th>mz</th>\n",
       "      <th>rtime</th>\n",
       "      <th>rtime_left_base</th>\n",
       "      <th>rtime_right_base</th>\n",
       "      <th>parent_masstrack_id</th>\n",
       "      <th>peak_area</th>\n",
       "      <th>cSelectivity</th>\n",
       "      <th>goodness_fitting</th>\n",
       "      <th>snr</th>\n",
       "      <th>detection_counts</th>\n",
       "      <th>nist_1</th>\n",
       "      <th>G1_Naive_1_300_1</th>\n",
       "      <th>G1_Naive_2_300_1</th>\n",
       "      <th>G1_Naive_3_300_1</th>\n",
       "      <th>G2_R5pos_1_142_1</th>\n",
       "      <th>G2_R5pos_2_200_1</th>\n",
       "      <th>G2_R5pos_3_150_1</th>\n",
       "      <th>G3_R5neg_1a_655_1</th>\n",
       "      <th>G3_R5neg_1b_655_1</th>\n",
       "      <th>G3_R5neg_2a_687_1</th>\n",
       "      <th>G3_R5neg_2b_687_1</th>\n",
       "      <th>G3_R5neg_3a_865_1</th>\n",
       "      <th>G3_R5neg_3b_865_1</th>\n",
       "      <th>nist_3</th>\n",
       "      <th>nist_5</th>\n",
       "      <th>q3June2014_1b_1</th>\n",
       "      <th>q3June2014_1b_3</th>\n",
       "      <th>q3June2014_1b_5</th>\n",
       "      <th>q3June2014_2a_1</th>\n",
       "      <th>q3June2014_2a_3</th>\n",
       "      <th>q3June2014_2a_5</th>\n",
       "      <th>q3June2014_2b_1</th>\n",
       "      <th>q3June2014_2b_3</th>\n",
       "      <th>q3June2014_2b_5</th>\n",
       "    </tr>\n",
       "  </thead>\n",
       "  <tbody>\n",
       "    <tr>\n",
       "      <th>0</th>\n",
       "      <td>F3</td>\n",
       "      <td>85.0477</td>\n",
       "      <td>61.69</td>\n",
       "      <td>58.54</td>\n",
       "      <td>64.84</td>\n",
       "      <td>0</td>\n",
       "      <td>22754577</td>\n",
       "      <td>1.00</td>\n",
       "      <td>0.86</td>\n",
       "      <td>1676</td>\n",
       "      <td>12</td>\n",
       "      <td>1224772</td>\n",
       "      <td>0</td>\n",
       "      <td>0</td>\n",
       "      <td>0</td>\n",
       "      <td>0</td>\n",
       "      <td>0</td>\n",
       "      <td>0</td>\n",
       "      <td>0</td>\n",
       "      <td>0</td>\n",
       "      <td>0</td>\n",
       "      <td>0</td>\n",
       "      <td>0</td>\n",
       "      <td>0</td>\n",
       "      <td>2637326</td>\n",
       "      <td>2387814</td>\n",
       "      <td>1207724</td>\n",
       "      <td>1045345</td>\n",
       "      <td>1231387</td>\n",
       "      <td>1400313</td>\n",
       "      <td>1448103</td>\n",
       "      <td>797729</td>\n",
       "      <td>819349</td>\n",
       "      <td>820781</td>\n",
       "      <td>800500</td>\n",
       "    </tr>\n",
       "    <tr>\n",
       "      <th>1</th>\n",
       "      <td>F5</td>\n",
       "      <td>115.0593</td>\n",
       "      <td>69.31</td>\n",
       "      <td>66.16</td>\n",
       "      <td>72.46</td>\n",
       "      <td>1358</td>\n",
       "      <td>4746480</td>\n",
       "      <td>1.00</td>\n",
       "      <td>0.92</td>\n",
       "      <td>321</td>\n",
       "      <td>6</td>\n",
       "      <td>0</td>\n",
       "      <td>0</td>\n",
       "      <td>0</td>\n",
       "      <td>0</td>\n",
       "      <td>0</td>\n",
       "      <td>0</td>\n",
       "      <td>0</td>\n",
       "      <td>0</td>\n",
       "      <td>0</td>\n",
       "      <td>0</td>\n",
       "      <td>0</td>\n",
       "      <td>0</td>\n",
       "      <td>0</td>\n",
       "      <td>0</td>\n",
       "      <td>0</td>\n",
       "      <td>535580</td>\n",
       "      <td>781938</td>\n",
       "      <td>0</td>\n",
       "      <td>646521</td>\n",
       "      <td>539292</td>\n",
       "      <td>660628</td>\n",
       "      <td>0</td>\n",
       "      <td>0</td>\n",
       "      <td>1252403</td>\n",
       "    </tr>\n",
       "    <tr>\n",
       "      <th>2</th>\n",
       "      <td>F11</td>\n",
       "      <td>115.0631</td>\n",
       "      <td>27.79</td>\n",
       "      <td>26.22</td>\n",
       "      <td>30.95</td>\n",
       "      <td>1359</td>\n",
       "      <td>192893328</td>\n",
       "      <td>0.92</td>\n",
       "      <td>0.72</td>\n",
       "      <td>150</td>\n",
       "      <td>12</td>\n",
       "      <td>6279652</td>\n",
       "      <td>0</td>\n",
       "      <td>0</td>\n",
       "      <td>0</td>\n",
       "      <td>0</td>\n",
       "      <td>0</td>\n",
       "      <td>0</td>\n",
       "      <td>0</td>\n",
       "      <td>0</td>\n",
       "      <td>0</td>\n",
       "      <td>0</td>\n",
       "      <td>0</td>\n",
       "      <td>0</td>\n",
       "      <td>25659794</td>\n",
       "      <td>27734392</td>\n",
       "      <td>22639464</td>\n",
       "      <td>23034231</td>\n",
       "      <td>24280391</td>\n",
       "      <td>24060609</td>\n",
       "      <td>24157986</td>\n",
       "      <td>24912400</td>\n",
       "      <td>25260023</td>\n",
       "      <td>23476439</td>\n",
       "      <td>22791126</td>\n",
       "    </tr>\n",
       "    <tr>\n",
       "      <th>3</th>\n",
       "      <td>F12</td>\n",
       "      <td>85.0647</td>\n",
       "      <td>62.21</td>\n",
       "      <td>59.06</td>\n",
       "      <td>64.84</td>\n",
       "      <td>2</td>\n",
       "      <td>4204718</td>\n",
       "      <td>1.00</td>\n",
       "      <td>0.93</td>\n",
       "      <td>39</td>\n",
       "      <td>12</td>\n",
       "      <td>0</td>\n",
       "      <td>163014</td>\n",
       "      <td>185168</td>\n",
       "      <td>311919</td>\n",
       "      <td>133599</td>\n",
       "      <td>101565</td>\n",
       "      <td>110948</td>\n",
       "      <td>368629</td>\n",
       "      <td>137644</td>\n",
       "      <td>103785</td>\n",
       "      <td>334050</td>\n",
       "      <td>410553</td>\n",
       "      <td>282564</td>\n",
       "      <td>0</td>\n",
       "      <td>0</td>\n",
       "      <td>0</td>\n",
       "      <td>0</td>\n",
       "      <td>0</td>\n",
       "      <td>0</td>\n",
       "      <td>0</td>\n",
       "      <td>0</td>\n",
       "      <td>0</td>\n",
       "      <td>0</td>\n",
       "      <td>0</td>\n",
       "    </tr>\n",
       "    <tr>\n",
       "      <th>4</th>\n",
       "      <td>F13</td>\n",
       "      <td>85.0647</td>\n",
       "      <td>65.10</td>\n",
       "      <td>64.84</td>\n",
       "      <td>67.47</td>\n",
       "      <td>2</td>\n",
       "      <td>1247893</td>\n",
       "      <td>1.00</td>\n",
       "      <td>0.87</td>\n",
       "      <td>27</td>\n",
       "      <td>12</td>\n",
       "      <td>0</td>\n",
       "      <td>134222</td>\n",
       "      <td>44310</td>\n",
       "      <td>101329</td>\n",
       "      <td>80291</td>\n",
       "      <td>136212</td>\n",
       "      <td>83206</td>\n",
       "      <td>367391</td>\n",
       "      <td>130567</td>\n",
       "      <td>65650</td>\n",
       "      <td>117937</td>\n",
       "      <td>166892</td>\n",
       "      <td>168016</td>\n",
       "      <td>0</td>\n",
       "      <td>0</td>\n",
       "      <td>0</td>\n",
       "      <td>0</td>\n",
       "      <td>0</td>\n",
       "      <td>0</td>\n",
       "      <td>0</td>\n",
       "      <td>0</td>\n",
       "      <td>0</td>\n",
       "      <td>0</td>\n",
       "      <td>0</td>\n",
       "    </tr>\n",
       "  </tbody>\n",
       "</table>\n",
       "</div>"
      ],
      "text/plain": [
       "  id_number        mz  rtime  rtime_left_base  rtime_right_base  parent_masstrack_id  peak_area  cSelectivity  goodness_fitting   snr  detection_counts   nist_1  G1_Naive_1_300_1  G1_Naive_2_300_1  G1_Naive_3_300_1  G2_R5pos_1_142_1  G2_R5pos_2_200_1  G2_R5pos_3_150_1  G3_R5neg_1a_655_1  G3_R5neg_1b_655_1  G3_R5neg_2a_687_1  G3_R5neg_2b_687_1  G3_R5neg_3a_865_1  G3_R5neg_3b_865_1    nist_3    nist_5  q3June2014_1b_1  q3June2014_1b_3  q3June2014_1b_5  q3June2014_2a_1  q3June2014_2a_3  q3June2014_2a_5  q3June2014_2b_1  q3June2014_2b_3  q3June2014_2b_5\n",
       "0        F3   85.0477  61.69            58.54             64.84                    0   22754577          1.00              0.86  1676                12  1224772                 0                 0                 0                 0                 0                 0                  0                  0                  0                  0                  0                  0   2637326   2387814          1207724          1045345          1231387          1400313          1448103           797729           819349           820781           800500\n",
       "1        F5  115.0593  69.31            66.16             72.46                 1358    4746480          1.00              0.92   321                 6        0                 0                 0                 0                 0                 0                 0                  0                  0                  0                  0                  0                  0         0         0           535580           781938                0           646521           539292           660628                0                0          1252403\n",
       "2       F11  115.0631  27.79            26.22             30.95                 1359  192893328          0.92              0.72   150                12  6279652                 0                 0                 0                 0                 0                 0                  0                  0                  0                  0                  0                  0  25659794  27734392         22639464         23034231         24280391         24060609         24157986         24912400         25260023         23476439         22791126\n",
       "3       F12   85.0647  62.21            59.06             64.84                    2    4204718          1.00              0.93    39                12        0            163014            185168            311919            133599            101565            110948             368629             137644             103785             334050             410553             282564         0         0                0                0                0                0                0                0                0                0                0\n",
       "4       F13   85.0647  65.10            64.84             67.47                    2    1247893          1.00              0.87    27                12        0            134222             44310            101329             80291            136212             83206             367391             130567              65650             117937             166892             168016         0         0                0                0                0                0                0                0                0                0                0"
      ]
     },
     "execution_count": 96,
     "metadata": {},
     "output_type": "execute_result"
    }
   ],
   "source": [
    "feat_df.head()"
   ]
  },
  {
   "cell_type": "code",
   "execution_count": 97,
   "id": "9ef71721-afd4-494d-b398-e224439a5e77",
   "metadata": {},
   "outputs": [
    {
     "name": "stdout",
     "output_type": "stream",
     "text": [
      "number of features are: 9756\n"
     ]
    }
   ],
   "source": [
    "print(f'number of features are: {feat_df.shape[0]}')"
   ]
  },
  {
   "cell_type": "code",
   "execution_count": 98,
   "id": "96f8eae7-e506-45c8-a13e-7204f24d50b3",
   "metadata": {},
   "outputs": [],
   "source": [
    "meta_df = pd.read_csv(\"../../input/sequence_file/CD8_Tcell_05222018_180522154617.csv\", header = 1 )"
   ]
  },
  {
   "cell_type": "code",
   "execution_count": 99,
   "id": "97541308-17a9-424e-9359-674cb162e6ae",
   "metadata": {},
   "outputs": [
    {
     "data": {
      "text/html": [
       "<div>\n",
       "<style scoped>\n",
       "    .dataframe tbody tr th:only-of-type {\n",
       "        vertical-align: middle;\n",
       "    }\n",
       "\n",
       "    .dataframe tbody tr th {\n",
       "        vertical-align: top;\n",
       "    }\n",
       "\n",
       "    .dataframe thead th {\n",
       "        text-align: right;\n",
       "    }\n",
       "</style>\n",
       "<table border=\"1\" class=\"dataframe\">\n",
       "  <thead>\n",
       "    <tr style=\"text-align: right;\">\n",
       "      <th></th>\n",
       "      <th>Sample Type</th>\n",
       "      <th>File Name</th>\n",
       "      <th>Sample ID</th>\n",
       "      <th>Path</th>\n",
       "      <th>Instrument Method</th>\n",
       "      <th>Process Method</th>\n",
       "      <th>Calibration File</th>\n",
       "      <th>Position</th>\n",
       "      <th>Inj Vol</th>\n",
       "      <th>Comment</th>\n",
       "      <th>Sample Name</th>\n",
       "    </tr>\n",
       "  </thead>\n",
       "  <tbody>\n",
       "    <tr>\n",
       "      <th>0</th>\n",
       "      <td>Unknown</td>\n",
       "      <td>yw_180522_M345_001</td>\n",
       "      <td>nist_1</td>\n",
       "      <td>C:\\Xcalibur\\data\\CD8TCell_Rafi\\batch1</td>\n",
       "      <td>C:\\Xcalibur\\methods\\Clinical_Biomarkers_Lab_Me...</td>\n",
       "      <td>NaN</td>\n",
       "      <td>NaN</td>\n",
       "      <td>GA1</td>\n",
       "      <td>10</td>\n",
       "      <td>1</td>\n",
       "      <td>NaN</td>\n",
       "    </tr>\n",
       "    <tr>\n",
       "      <th>1</th>\n",
       "      <td>Unknown</td>\n",
       "      <td>yw_180522_M345_002</td>\n",
       "      <td>nist_2</td>\n",
       "      <td>C:\\Xcalibur\\data\\CD8TCell_Rafi\\batch1</td>\n",
       "      <td>C:\\Xcalibur\\methods\\Clinical_Biomarkers_Lab_Me...</td>\n",
       "      <td>NaN</td>\n",
       "      <td>NaN</td>\n",
       "      <td>GA1</td>\n",
       "      <td>10</td>\n",
       "      <td>1</td>\n",
       "      <td>NaN</td>\n",
       "    </tr>\n",
       "    <tr>\n",
       "      <th>2</th>\n",
       "      <td>Unknown</td>\n",
       "      <td>yw_180522_M345_003</td>\n",
       "      <td>nist_3</td>\n",
       "      <td>C:\\Xcalibur\\data\\CD8TCell_Rafi\\batch1</td>\n",
       "      <td>C:\\Xcalibur\\methods\\Clinical_Biomarkers_Lab_Me...</td>\n",
       "      <td>NaN</td>\n",
       "      <td>NaN</td>\n",
       "      <td>GA1</td>\n",
       "      <td>10</td>\n",
       "      <td>1</td>\n",
       "      <td>NaN</td>\n",
       "    </tr>\n",
       "    <tr>\n",
       "      <th>3</th>\n",
       "      <td>Unknown</td>\n",
       "      <td>yw_180522_M345_004</td>\n",
       "      <td>nist_4</td>\n",
       "      <td>C:\\Xcalibur\\data\\CD8TCell_Rafi\\batch1</td>\n",
       "      <td>C:\\Xcalibur\\methods\\Clinical_Biomarkers_Lab_Me...</td>\n",
       "      <td>NaN</td>\n",
       "      <td>NaN</td>\n",
       "      <td>GA1</td>\n",
       "      <td>10</td>\n",
       "      <td>1</td>\n",
       "      <td>NaN</td>\n",
       "    </tr>\n",
       "    <tr>\n",
       "      <th>4</th>\n",
       "      <td>Unknown</td>\n",
       "      <td>yw_180522_M345_005</td>\n",
       "      <td>nist_5</td>\n",
       "      <td>C:\\Xcalibur\\data\\CD8TCell_Rafi\\batch1</td>\n",
       "      <td>C:\\Xcalibur\\methods\\Clinical_Biomarkers_Lab_Me...</td>\n",
       "      <td>NaN</td>\n",
       "      <td>NaN</td>\n",
       "      <td>GA1</td>\n",
       "      <td>10</td>\n",
       "      <td>1</td>\n",
       "      <td>NaN</td>\n",
       "    </tr>\n",
       "  </tbody>\n",
       "</table>\n",
       "</div>"
      ],
      "text/plain": [
       "  Sample Type           File Name Sample ID                                   Path                                  Instrument Method  Process Method  Calibration File Position  Inj Vol  Comment  Sample Name\n",
       "0     Unknown  yw_180522_M345_001    nist_1  C:\\Xcalibur\\data\\CD8TCell_Rafi\\batch1  C:\\Xcalibur\\methods\\Clinical_Biomarkers_Lab_Me...             NaN               NaN      GA1       10        1          NaN\n",
       "1     Unknown  yw_180522_M345_002    nist_2  C:\\Xcalibur\\data\\CD8TCell_Rafi\\batch1  C:\\Xcalibur\\methods\\Clinical_Biomarkers_Lab_Me...             NaN               NaN      GA1       10        1          NaN\n",
       "2     Unknown  yw_180522_M345_003    nist_3  C:\\Xcalibur\\data\\CD8TCell_Rafi\\batch1  C:\\Xcalibur\\methods\\Clinical_Biomarkers_Lab_Me...             NaN               NaN      GA1       10        1          NaN\n",
       "3     Unknown  yw_180522_M345_004    nist_4  C:\\Xcalibur\\data\\CD8TCell_Rafi\\batch1  C:\\Xcalibur\\methods\\Clinical_Biomarkers_Lab_Me...             NaN               NaN      GA1       10        1          NaN\n",
       "4     Unknown  yw_180522_M345_005    nist_5  C:\\Xcalibur\\data\\CD8TCell_Rafi\\batch1  C:\\Xcalibur\\methods\\Clinical_Biomarkers_Lab_Me...             NaN               NaN      GA1       10        1          NaN"
      ]
     },
     "execution_count": 99,
     "metadata": {},
     "output_type": "execute_result"
    }
   ],
   "source": [
    "meta_df.head()"
   ]
  },
  {
   "cell_type": "code",
   "execution_count": 100,
   "id": "4482c5ab-6b73-42e4-954f-c28f8d7b2e3b",
   "metadata": {},
   "outputs": [],
   "source": [
    "def extract_list2list(regExpr,a_list):\n",
    "    return([re.search(regExpr,x)[0] for x in a_list if re.search(regExpr,x)])\n",
    "\n",
    "def extract_list2dict(regExpr,a_list):\n",
    "    return({x:re.search(regExpr,x)[0] for x in a_list if re.search(regExpr,x)})"
   ]
  },
  {
   "cell_type": "code",
   "execution_count": 101,
   "id": "4bc11c09-2412-47e7-b926-5d3abab3a812",
   "metadata": {},
   "outputs": [],
   "source": [
    "def refactor_metadata(meta_df,sample_col):\n",
    "    rs_d = extract_list2dict(\"([R|N][0-9|a-z]+)\\\\_[a-z|0-9]+\",sample_col)\n",
    "    qstd_d = extract_list2dict(\"(q3June2014\\\\_[a-z|0-9]+)\",sample_col)\n",
    "    nist_d = extract_list2dict(\"(nist\\\\_[a-z|0-9])\",sample_col)\n",
    "\n",
    "    full_d = {}\n",
    "    full_d.update(rs_d)\n",
    "    full_d.update(qstd_d)\n",
    "    full_d.update(nist_d) \n",
    "    for i, row in meta_df.iterrows():\n",
    "        if row['Sample ID'] in full_d:\n",
    "            meta_df.loc[i,'tID'] = full_d[row['Sample ID']]\n",
    "    \n",
    "    subset_meta_df = meta_df.loc[[isinstance(x,str) for x in meta_df['tID']],['tID','Sample ID']]\n",
    "    subset_meta_df['tID_dedup'] = extract_list2list(\"(?i)([0-9|a-z]+\\\\_[0-9])\",subset_meta_df['tID'])\n",
    "    subset_meta_df['class'] = extract_list2list(\"(?i)([0-9|a-z])+\",subset_meta_df['tID_dedup'])\n",
    "    return(subset_meta_df)"
   ]
  },
  {
   "cell_type": "code",
   "execution_count": 102,
   "id": "009701bd-cb89-49a7-9636-5f8c4ffd41ec",
   "metadata": {},
   "outputs": [],
   "source": [
    "sample_col = feat_df.columns[11:] # select the column names decode samples\n",
    "clean_meta_df = refactor_metadata(meta_df,sample_col)\n",
    "clean_meta_df = clean_meta_df.reset_index()"
   ]
  },
  {
   "cell_type": "code",
   "execution_count": 103,
   "id": "94ebc0d2-301a-4682-9ce1-6abeb4364e10",
   "metadata": {},
   "outputs": [],
   "source": [
    "# Define biological samples\n",
    "clean_meta_df['biological_samples'] = 'No'\n",
    "clean_meta_df.loc[clean_meta_df['class'].isin(['R5pos','Naive','R5neg']),'biological_samples'] = 'Yes'"
   ]
  },
  {
   "cell_type": "code",
   "execution_count": 104,
   "id": "2eb606f4-fa8e-47f5-b890-75613ebef310",
   "metadata": {},
   "outputs": [],
   "source": [
    "test_list = clean_meta_df.loc[clean_meta_df['biological_samples'] == 'Yes','Sample ID']\n",
    "clean_meta_df.loc[clean_meta_df['biological_samples'] == 'Yes','cell_number'] = [re.search('[a-z]+\\\\_[0-9|a-z]+\\\\_([0-9]+)',x)[1] for x in test_list if re.search('[a-z]+\\\\_[0-9|a-z]+\\\\_([0-9]+)',x)]"
   ]
  },
  {
   "cell_type": "markdown",
   "id": "d7de24a9-2af5-4c93-b533-fd9a666f1615",
   "metadata": {},
   "source": [
    "#### correct the nist which should be actually technical duplicates"
   ]
  },
  {
   "cell_type": "code",
   "execution_count": 105,
   "id": "5584a958-d4c9-46c3-adb2-222f4ea408c7",
   "metadata": {},
   "outputs": [],
   "source": [
    "clean_meta_df.loc[clean_meta_df['class'] == 'nist', 'tID_dedup'] = 'nist'"
   ]
  },
  {
   "cell_type": "code",
   "execution_count": 106,
   "id": "7c3edf82-7735-4bf6-86d5-92bc39d7d645",
   "metadata": {},
   "outputs": [
    {
     "data": {
      "text/html": [
       "<div>\n",
       "<style scoped>\n",
       "    .dataframe tbody tr th:only-of-type {\n",
       "        vertical-align: middle;\n",
       "    }\n",
       "\n",
       "    .dataframe tbody tr th {\n",
       "        vertical-align: top;\n",
       "    }\n",
       "\n",
       "    .dataframe thead th {\n",
       "        text-align: right;\n",
       "    }\n",
       "</style>\n",
       "<table border=\"1\" class=\"dataframe\">\n",
       "  <thead>\n",
       "    <tr style=\"text-align: right;\">\n",
       "      <th></th>\n",
       "      <th>index</th>\n",
       "      <th>tID</th>\n",
       "      <th>Sample ID</th>\n",
       "      <th>tID_dedup</th>\n",
       "      <th>class</th>\n",
       "      <th>biological_samples</th>\n",
       "      <th>cell_number</th>\n",
       "    </tr>\n",
       "  </thead>\n",
       "  <tbody>\n",
       "    <tr>\n",
       "      <th>0</th>\n",
       "      <td>0</td>\n",
       "      <td>nist_1</td>\n",
       "      <td>nist_1</td>\n",
       "      <td>nist</td>\n",
       "      <td>nist</td>\n",
       "      <td>No</td>\n",
       "      <td>NaN</td>\n",
       "    </tr>\n",
       "    <tr>\n",
       "      <th>1</th>\n",
       "      <td>2</td>\n",
       "      <td>nist_3</td>\n",
       "      <td>nist_3</td>\n",
       "      <td>nist</td>\n",
       "      <td>nist</td>\n",
       "      <td>No</td>\n",
       "      <td>NaN</td>\n",
       "    </tr>\n",
       "    <tr>\n",
       "      <th>2</th>\n",
       "      <td>4</td>\n",
       "      <td>nist_5</td>\n",
       "      <td>nist_5</td>\n",
       "      <td>nist</td>\n",
       "      <td>nist</td>\n",
       "      <td>No</td>\n",
       "      <td>NaN</td>\n",
       "    </tr>\n",
       "    <tr>\n",
       "      <th>3</th>\n",
       "      <td>12</td>\n",
       "      <td>q3June2014_1b</td>\n",
       "      <td>q3June2014_1b_1</td>\n",
       "      <td>q3June2014_1</td>\n",
       "      <td>q3June2014</td>\n",
       "      <td>No</td>\n",
       "      <td>NaN</td>\n",
       "    </tr>\n",
       "    <tr>\n",
       "      <th>4</th>\n",
       "      <td>14</td>\n",
       "      <td>q3June2014_1b</td>\n",
       "      <td>q3June2014_1b_3</td>\n",
       "      <td>q3June2014_1</td>\n",
       "      <td>q3June2014</td>\n",
       "      <td>No</td>\n",
       "      <td>NaN</td>\n",
       "    </tr>\n",
       "    <tr>\n",
       "      <th>5</th>\n",
       "      <td>16</td>\n",
       "      <td>q3June2014_1b</td>\n",
       "      <td>q3June2014_1b_5</td>\n",
       "      <td>q3June2014_1</td>\n",
       "      <td>q3June2014</td>\n",
       "      <td>No</td>\n",
       "      <td>NaN</td>\n",
       "    </tr>\n",
       "    <tr>\n",
       "      <th>6</th>\n",
       "      <td>18</td>\n",
       "      <td>R5pos_1</td>\n",
       "      <td>G2_R5pos_1_142_1</td>\n",
       "      <td>R5pos_1</td>\n",
       "      <td>R5pos</td>\n",
       "      <td>Yes</td>\n",
       "      <td>142</td>\n",
       "    </tr>\n",
       "    <tr>\n",
       "      <th>7</th>\n",
       "      <td>20</td>\n",
       "      <td>R5pos_2</td>\n",
       "      <td>G2_R5pos_2_200_1</td>\n",
       "      <td>R5pos_2</td>\n",
       "      <td>R5pos</td>\n",
       "      <td>Yes</td>\n",
       "      <td>200</td>\n",
       "    </tr>\n",
       "    <tr>\n",
       "      <th>8</th>\n",
       "      <td>22</td>\n",
       "      <td>R5pos_3</td>\n",
       "      <td>G2_R5pos_3_150_1</td>\n",
       "      <td>R5pos_3</td>\n",
       "      <td>R5pos</td>\n",
       "      <td>Yes</td>\n",
       "      <td>150</td>\n",
       "    </tr>\n",
       "    <tr>\n",
       "      <th>9</th>\n",
       "      <td>24</td>\n",
       "      <td>Naive_1</td>\n",
       "      <td>G1_Naive_1_300_1</td>\n",
       "      <td>Naive_1</td>\n",
       "      <td>Naive</td>\n",
       "      <td>Yes</td>\n",
       "      <td>300</td>\n",
       "    </tr>\n",
       "    <tr>\n",
       "      <th>10</th>\n",
       "      <td>26</td>\n",
       "      <td>Naive_2</td>\n",
       "      <td>G1_Naive_2_300_1</td>\n",
       "      <td>Naive_2</td>\n",
       "      <td>Naive</td>\n",
       "      <td>Yes</td>\n",
       "      <td>300</td>\n",
       "    </tr>\n",
       "    <tr>\n",
       "      <th>11</th>\n",
       "      <td>28</td>\n",
       "      <td>Naive_3</td>\n",
       "      <td>G1_Naive_3_300_1</td>\n",
       "      <td>Naive_3</td>\n",
       "      <td>Naive</td>\n",
       "      <td>Yes</td>\n",
       "      <td>300</td>\n",
       "    </tr>\n",
       "    <tr>\n",
       "      <th>12</th>\n",
       "      <td>30</td>\n",
       "      <td>R5neg_1a</td>\n",
       "      <td>G3_R5neg_1a_655_1</td>\n",
       "      <td>R5neg_1</td>\n",
       "      <td>R5neg</td>\n",
       "      <td>Yes</td>\n",
       "      <td>655</td>\n",
       "    </tr>\n",
       "    <tr>\n",
       "      <th>13</th>\n",
       "      <td>32</td>\n",
       "      <td>R5neg_1b</td>\n",
       "      <td>G3_R5neg_1b_655_1</td>\n",
       "      <td>R5neg_1</td>\n",
       "      <td>R5neg</td>\n",
       "      <td>Yes</td>\n",
       "      <td>655</td>\n",
       "    </tr>\n",
       "    <tr>\n",
       "      <th>14</th>\n",
       "      <td>34</td>\n",
       "      <td>R5neg_2a</td>\n",
       "      <td>G3_R5neg_2a_687_1</td>\n",
       "      <td>R5neg_2</td>\n",
       "      <td>R5neg</td>\n",
       "      <td>Yes</td>\n",
       "      <td>687</td>\n",
       "    </tr>\n",
       "    <tr>\n",
       "      <th>15</th>\n",
       "      <td>36</td>\n",
       "      <td>R5neg_2b</td>\n",
       "      <td>G3_R5neg_2b_687_1</td>\n",
       "      <td>R5neg_2</td>\n",
       "      <td>R5neg</td>\n",
       "      <td>Yes</td>\n",
       "      <td>687</td>\n",
       "    </tr>\n",
       "    <tr>\n",
       "      <th>16</th>\n",
       "      <td>38</td>\n",
       "      <td>R5neg_3a</td>\n",
       "      <td>G3_R5neg_3a_865_1</td>\n",
       "      <td>R5neg_3</td>\n",
       "      <td>R5neg</td>\n",
       "      <td>Yes</td>\n",
       "      <td>865</td>\n",
       "    </tr>\n",
       "    <tr>\n",
       "      <th>17</th>\n",
       "      <td>40</td>\n",
       "      <td>R5neg_3b</td>\n",
       "      <td>G3_R5neg_3b_865_1</td>\n",
       "      <td>R5neg_3</td>\n",
       "      <td>R5neg</td>\n",
       "      <td>Yes</td>\n",
       "      <td>865</td>\n",
       "    </tr>\n",
       "    <tr>\n",
       "      <th>18</th>\n",
       "      <td>42</td>\n",
       "      <td>q3June2014_2a</td>\n",
       "      <td>q3June2014_2a_1</td>\n",
       "      <td>q3June2014_2</td>\n",
       "      <td>q3June2014</td>\n",
       "      <td>No</td>\n",
       "      <td>NaN</td>\n",
       "    </tr>\n",
       "    <tr>\n",
       "      <th>19</th>\n",
       "      <td>44</td>\n",
       "      <td>q3June2014_2a</td>\n",
       "      <td>q3June2014_2a_3</td>\n",
       "      <td>q3June2014_2</td>\n",
       "      <td>q3June2014</td>\n",
       "      <td>No</td>\n",
       "      <td>NaN</td>\n",
       "    </tr>\n",
       "    <tr>\n",
       "      <th>20</th>\n",
       "      <td>46</td>\n",
       "      <td>q3June2014_2a</td>\n",
       "      <td>q3June2014_2a_5</td>\n",
       "      <td>q3June2014_2</td>\n",
       "      <td>q3June2014</td>\n",
       "      <td>No</td>\n",
       "      <td>NaN</td>\n",
       "    </tr>\n",
       "    <tr>\n",
       "      <th>21</th>\n",
       "      <td>48</td>\n",
       "      <td>q3June2014_2b</td>\n",
       "      <td>q3June2014_2b_1</td>\n",
       "      <td>q3June2014_2</td>\n",
       "      <td>q3June2014</td>\n",
       "      <td>No</td>\n",
       "      <td>NaN</td>\n",
       "    </tr>\n",
       "    <tr>\n",
       "      <th>22</th>\n",
       "      <td>50</td>\n",
       "      <td>q3June2014_2b</td>\n",
       "      <td>q3June2014_2b_3</td>\n",
       "      <td>q3June2014_2</td>\n",
       "      <td>q3June2014</td>\n",
       "      <td>No</td>\n",
       "      <td>NaN</td>\n",
       "    </tr>\n",
       "    <tr>\n",
       "      <th>23</th>\n",
       "      <td>52</td>\n",
       "      <td>q3June2014_2b</td>\n",
       "      <td>q3June2014_2b_5</td>\n",
       "      <td>q3June2014_2</td>\n",
       "      <td>q3June2014</td>\n",
       "      <td>No</td>\n",
       "      <td>NaN</td>\n",
       "    </tr>\n",
       "  </tbody>\n",
       "</table>\n",
       "</div>"
      ],
      "text/plain": [
       "    index            tID          Sample ID     tID_dedup       class biological_samples cell_number\n",
       "0       0         nist_1             nist_1          nist        nist                 No         NaN\n",
       "1       2         nist_3             nist_3          nist        nist                 No         NaN\n",
       "2       4         nist_5             nist_5          nist        nist                 No         NaN\n",
       "3      12  q3June2014_1b    q3June2014_1b_1  q3June2014_1  q3June2014                 No         NaN\n",
       "4      14  q3June2014_1b    q3June2014_1b_3  q3June2014_1  q3June2014                 No         NaN\n",
       "5      16  q3June2014_1b    q3June2014_1b_5  q3June2014_1  q3June2014                 No         NaN\n",
       "6      18        R5pos_1   G2_R5pos_1_142_1       R5pos_1       R5pos                Yes         142\n",
       "7      20        R5pos_2   G2_R5pos_2_200_1       R5pos_2       R5pos                Yes         200\n",
       "8      22        R5pos_3   G2_R5pos_3_150_1       R5pos_3       R5pos                Yes         150\n",
       "9      24        Naive_1   G1_Naive_1_300_1       Naive_1       Naive                Yes         300\n",
       "10     26        Naive_2   G1_Naive_2_300_1       Naive_2       Naive                Yes         300\n",
       "11     28        Naive_3   G1_Naive_3_300_1       Naive_3       Naive                Yes         300\n",
       "12     30       R5neg_1a  G3_R5neg_1a_655_1       R5neg_1       R5neg                Yes         655\n",
       "13     32       R5neg_1b  G3_R5neg_1b_655_1       R5neg_1       R5neg                Yes         655\n",
       "14     34       R5neg_2a  G3_R5neg_2a_687_1       R5neg_2       R5neg                Yes         687\n",
       "15     36       R5neg_2b  G3_R5neg_2b_687_1       R5neg_2       R5neg                Yes         687\n",
       "16     38       R5neg_3a  G3_R5neg_3a_865_1       R5neg_3       R5neg                Yes         865\n",
       "17     40       R5neg_3b  G3_R5neg_3b_865_1       R5neg_3       R5neg                Yes         865\n",
       "18     42  q3June2014_2a    q3June2014_2a_1  q3June2014_2  q3June2014                 No         NaN\n",
       "19     44  q3June2014_2a    q3June2014_2a_3  q3June2014_2  q3June2014                 No         NaN\n",
       "20     46  q3June2014_2a    q3June2014_2a_5  q3June2014_2  q3June2014                 No         NaN\n",
       "21     48  q3June2014_2b    q3June2014_2b_1  q3June2014_2  q3June2014                 No         NaN\n",
       "22     50  q3June2014_2b    q3June2014_2b_3  q3June2014_2  q3June2014                 No         NaN\n",
       "23     52  q3June2014_2b    q3June2014_2b_5  q3June2014_2  q3June2014                 No         NaN"
      ]
     },
     "execution_count": 106,
     "metadata": {},
     "output_type": "execute_result"
    }
   ],
   "source": [
    "clean_meta_df"
   ]
  },
  {
   "cell_type": "markdown",
   "id": "7355081d-79b3-47bb-979c-e7b376189de0",
   "metadata": {},
   "source": [
    "#### create a dictionary to map samples with technical duplicates"
   ]
  },
  {
   "cell_type": "code",
   "execution_count": 107,
   "id": "7c0d8b0c-f882-4e21-b9bc-dd2300c48a70",
   "metadata": {},
   "outputs": [],
   "source": [
    "dedup_dict = {}\n",
    "dedupIDs = set(clean_meta_df['tID_dedup'])\n",
    "for dedupID in dedupIDs:\n",
    "    dedup_dict[dedupID] = clean_meta_df.loc[clean_meta_df['tID_dedup'] == dedupID,'Sample ID'].tolist()"
   ]
  },
  {
   "cell_type": "code",
   "execution_count": 108,
   "id": "d2166c0d-7d9c-489b-8ff1-33ff24e7cb9b",
   "metadata": {},
   "outputs": [
    {
     "data": {
      "text/plain": [
       "{'nist': ['nist_1', 'nist_3', 'nist_5'],\n",
       " 'q3June2014_1': ['q3June2014_1b_1', 'q3June2014_1b_3', 'q3June2014_1b_5'],\n",
       " 'R5neg_1': ['G3_R5neg_1a_655_1', 'G3_R5neg_1b_655_1'],\n",
       " 'Naive_2': ['G1_Naive_2_300_1'],\n",
       " 'Naive_1': ['G1_Naive_1_300_1'],\n",
       " 'R5pos_2': ['G2_R5pos_2_200_1'],\n",
       " 'q3June2014_2': ['q3June2014_2a_1',\n",
       "  'q3June2014_2a_3',\n",
       "  'q3June2014_2a_5',\n",
       "  'q3June2014_2b_1',\n",
       "  'q3June2014_2b_3',\n",
       "  'q3June2014_2b_5'],\n",
       " 'R5neg_3': ['G3_R5neg_3a_865_1', 'G3_R5neg_3b_865_1'],\n",
       " 'Naive_3': ['G1_Naive_3_300_1'],\n",
       " 'R5pos_1': ['G2_R5pos_1_142_1'],\n",
       " 'R5pos_3': ['G2_R5pos_3_150_1'],\n",
       " 'R5neg_2': ['G3_R5neg_2a_687_1', 'G3_R5neg_2b_687_1']}"
      ]
     },
     "execution_count": 108,
     "metadata": {},
     "output_type": "execute_result"
    }
   ],
   "source": [
    "dedup_dict"
   ]
  },
  {
   "cell_type": "code",
   "execution_count": 109,
   "id": "e7047192-3f41-4630-9784-51c688334270",
   "metadata": {},
   "outputs": [],
   "source": [
    "clean_meta_df.to_csv(\"../../input/sequence_file/clean_meta_df_wt1_HILICpos.csv\",index = False)"
   ]
  },
  {
   "cell_type": "markdown",
   "id": "647f4573-a6ef-45e8-8c3a-7f1939cb5c49",
   "metadata": {},
   "source": [
    "---------"
   ]
  },
  {
   "cell_type": "markdown",
   "id": "bd8661af-b218-4c3c-824f-f6f47324e1ef",
   "metadata": {},
   "source": [
    "## Preprocess the asari table \n",
    "- Separate metainfo_df & data_df; convert zero to np.nan"
   ]
  },
  {
   "cell_type": "code",
   "execution_count": 110,
   "id": "2ac644b2-323a-4c7c-a27d-1f557b4c3850",
   "metadata": {},
   "outputs": [],
   "source": [
    "feat_df.index = feat_df['id_number']"
   ]
  },
  {
   "cell_type": "code",
   "execution_count": 111,
   "id": "0c4d2766-aef1-4ca2-8915-584941c503d9",
   "metadata": {},
   "outputs": [],
   "source": [
    "end_index = 11"
   ]
  },
  {
   "cell_type": "code",
   "execution_count": 112,
   "id": "b3a0e0ee-c063-47eb-aeeb-0a573d7c8535",
   "metadata": {},
   "outputs": [],
   "source": [
    "data_df = feat_df.iloc[:,end_index:]"
   ]
  },
  {
   "cell_type": "code",
   "execution_count": 113,
   "id": "3aa3a32d-4899-43d3-b04a-9af551b38928",
   "metadata": {},
   "outputs": [],
   "source": [
    "metainfo_df = feat_df.iloc[:,0:end_index]"
   ]
  },
  {
   "cell_type": "code",
   "execution_count": 114,
   "id": "116ce475-237c-4b33-bb35-11f5af408bf5",
   "metadata": {},
   "outputs": [],
   "source": [
    "# turn all zero to NA for easy manipulation later\n",
    "data_df[data_df == 0 ] = np.nan"
   ]
  },
  {
   "cell_type": "markdown",
   "id": "19b69a56-c95b-40ef-9928-0f2d666649d4",
   "metadata": {},
   "source": [
    "---"
   ]
  },
  {
   "cell_type": "markdown",
   "id": "dc1d5bcc-0526-4858-8cf1-a2817d53dbd9",
   "metadata": {
    "tags": []
   },
   "source": [
    "## Perform deduplication of technical replicates"
   ]
  },
  {
   "cell_type": "code",
   "execution_count": 115,
   "id": "1f76d541-b428-4d80-9bcc-638431b8f398",
   "metadata": {},
   "outputs": [],
   "source": [
    "def deduplicate(data_df,dedup_dict = dedup_dict):\n",
    "    if data_df.eq(0).any().any(): # a way to check if any cell is zero\n",
    "        print(\"warning: detet zero in dataset\")\n",
    "    else:\n",
    "        new_df = pd.DataFrame()\n",
    "        for dedup_name,dup_name_list in dedup_dict.items():\n",
    "            print(dedup_name)\n",
    "            subset_df = data_df[dup_name_list]\n",
    "            print(subset_df.columns)\n",
    "            averaged_list = subset_df.apply(lambda x: x.mean(skipna = True), axis = 1)\n",
    "            new_df[dedup_name] = averaged_list\n",
    "        new_df = new_df[new_df.columns.sort_values()]\n",
    "        return(new_df)"
   ]
  },
  {
   "cell_type": "code",
   "execution_count": 116,
   "id": "e7835062-93f3-4dcd-b5b3-4c66d02f8b86",
   "metadata": {},
   "outputs": [
    {
     "name": "stdout",
     "output_type": "stream",
     "text": [
      "nist\n",
      "Index(['nist_1', 'nist_3', 'nist_5'], dtype='object')\n",
      "q3June2014_1\n",
      "Index(['q3June2014_1b_1', 'q3June2014_1b_3', 'q3June2014_1b_5'], dtype='object')\n",
      "R5neg_1\n",
      "Index(['G3_R5neg_1a_655_1', 'G3_R5neg_1b_655_1'], dtype='object')\n",
      "Naive_2\n",
      "Index(['G1_Naive_2_300_1'], dtype='object')\n",
      "Naive_1\n",
      "Index(['G1_Naive_1_300_1'], dtype='object')\n",
      "R5pos_2\n",
      "Index(['G2_R5pos_2_200_1'], dtype='object')\n",
      "q3June2014_2\n",
      "Index(['q3June2014_2a_1', 'q3June2014_2a_3', 'q3June2014_2a_5', 'q3June2014_2b_1', 'q3June2014_2b_3', 'q3June2014_2b_5'], dtype='object')\n",
      "R5neg_3\n",
      "Index(['G3_R5neg_3a_865_1', 'G3_R5neg_3b_865_1'], dtype='object')\n",
      "Naive_3\n",
      "Index(['G1_Naive_3_300_1'], dtype='object')\n",
      "R5pos_1\n",
      "Index(['G2_R5pos_1_142_1'], dtype='object')\n",
      "R5pos_3\n",
      "Index(['G2_R5pos_3_150_1'], dtype='object')\n",
      "R5neg_2\n",
      "Index(['G3_R5neg_2a_687_1', 'G3_R5neg_2b_687_1'], dtype='object')\n"
     ]
    }
   ],
   "source": [
    "data_df_dedup = deduplicate(data_df,dedup_dict)"
   ]
  },
  {
   "cell_type": "markdown",
   "id": "582b5496-8839-4b0e-81b6-da0a1b0fc895",
   "metadata": {},
   "source": [
    "#### Quick deduplicated data reporting"
   ]
  },
  {
   "cell_type": "code",
   "execution_count": 117,
   "id": "345efe4d-6e86-4652-8f1e-8d673af7bca6",
   "metadata": {},
   "outputs": [
    {
     "data": {
      "text/plain": [
       "<Axes: >"
      ]
     },
     "execution_count": 117,
     "metadata": {},
     "output_type": "execute_result"
    },
    {
     "data": {
      "image/png": "[encoded data removed]",
      "text/plain": [
       "<Figure size 640x480 with 2 Axes>"
      ]
     },
     "metadata": {},
     "output_type": "display_data"
    }
   ],
   "source": [
    "# quickly check if blank needs to be removed\n",
    "# Note that for drawing this, it will be better to not convert 0 to NA\n",
    "sns.heatmap(data_df_dedup.corr())"
   ]
  },
  {
   "cell_type": "markdown",
   "id": "c7cec478-1730-4112-a613-04a3c35becc0",
   "metadata": {},
   "source": [
    "-----"
   ]
  },
  {
   "cell_type": "markdown",
   "id": "c492f8c6-92e0-4523-a46d-6cce8f45f502",
   "metadata": {},
   "source": [
    "## Sample present reporting"
   ]
  },
  {
   "cell_type": "markdown",
   "id": "05184fa6-79a4-4c53-87b1-4a4479ae18ed",
   "metadata": {
    "tags": []
   },
   "source": [
    "### functions"
   ]
  },
  {
   "cell_type": "code",
   "execution_count": 118,
   "id": "11cac605-1a39-4369-a056-771ad6b54261",
   "metadata": {},
   "outputs": [],
   "source": [
    "def select_column_regExpr(feat_df,regPattern):\n",
    "    res_df = feat_df.loc[:,[x for x in feat_df.columns \\\n",
    "                            if re.search(regPattern,x)]]\n",
    "    return(res_df)\n",
    "\n",
    "def report_basic_stat(df):\n",
    "    '''\n",
    "    Default calculate mean and percentage of NA for any table.\n",
    "    Before inputting the table, filtering steps may need to be done like correlation of blank matrix and filter out samples.\n",
    "    '''\n",
    "    if any(df == 0):\n",
    "        df[df == 0] = np.nan\n",
    "    mean_list = df.apply(lambda x: x.mean(skipna = True), axis=1)\n",
    "    percNA_list = df.apply(lambda x: x.isna()).sum(axis = 1)/df.shape[1]\n",
    "    df_stat_tab = pd.DataFrame({\n",
    "                           'percNA':percNA_list, \n",
    "                           'mean': mean_list})\n",
    "    df_dict = df_stat_tab.to_dict('index')\n",
    "    return(df_dict)\n",
    "\n",
    "def select_and_report(feat_df,regPattern):\n",
    "    sel_df = select_column_regExpr(feat_df,regPattern)\n",
    "    rep_dict = report_basic_stat(sel_df)\n",
    "    return(rep_dict)"
   ]
  },
  {
   "cell_type": "markdown",
   "id": "52fcb6e5-1f78-4357-bbf8-80361ac0fd8a",
   "metadata": {},
   "source": [
    "### perform sample present report"
   ]
  },
  {
   "cell_type": "code",
   "execution_count": 119,
   "id": "44987879-bd3f-46a5-afb9-6a1dbd550095",
   "metadata": {},
   "outputs": [],
   "source": [
    "naive_dict = select_and_report(data_df_dedup,'Naive')\n",
    "R5neg_dict = select_and_report(data_df_dedup,'R5neg')\n",
    "R5pos_dict = select_and_report(data_df_dedup,'R5pos')"
   ]
  },
  {
   "cell_type": "code",
   "execution_count": 120,
   "id": "d94ef2c1-2b05-4207-b578-5a04ba36a715",
   "metadata": {},
   "outputs": [],
   "source": [
    "dict_of_dict = {'Naive': naive_dict,\n",
    "                'R5neg': R5neg_dict,\n",
    "                'R5pos': R5pos_dict\n",
    "}"
   ]
  },
  {
   "cell_type": "code",
   "execution_count": 121,
   "id": "8734547f-69ff-4c66-945d-414073db372b",
   "metadata": {},
   "outputs": [],
   "source": [
    "def dicts2table(dict_of_dict):\n",
    "    new_df = pd.DataFrame()\n",
    "    for k,v in dict_of_dict.items():\n",
    "        tab = pd.DataFrame(v).transpose()\n",
    "        tab.columns = [k + \"_\" + x for x in tab.columns]\n",
    "        new_df =  pd.concat([new_df, tab], axis=1)\n",
    "    return(new_df)"
   ]
  },
  {
   "cell_type": "code",
   "execution_count": 122,
   "id": "d781d26e-e554-4f3e-8c8b-c564eac17ac6",
   "metadata": {},
   "outputs": [],
   "source": [
    "stat_tab = dicts2table(dict_of_dict)"
   ]
  },
  {
   "cell_type": "code",
   "execution_count": 123,
   "id": "e950b25d-7cce-4c9b-b2fc-dabb7972ef87",
   "metadata": {},
   "outputs": [
    {
     "data": {
      "text/html": [
       "<div>\n",
       "<style scoped>\n",
       "    .dataframe tbody tr th:only-of-type {\n",
       "        vertical-align: middle;\n",
       "    }\n",
       "\n",
       "    .dataframe tbody tr th {\n",
       "        vertical-align: top;\n",
       "    }\n",
       "\n",
       "    .dataframe thead th {\n",
       "        text-align: right;\n",
       "    }\n",
       "</style>\n",
       "<table border=\"1\" class=\"dataframe\">\n",
       "  <thead>\n",
       "    <tr style=\"text-align: right;\">\n",
       "      <th></th>\n",
       "      <th>Naive_percNA</th>\n",
       "      <th>Naive_mean</th>\n",
       "      <th>R5neg_percNA</th>\n",
       "      <th>R5neg_mean</th>\n",
       "      <th>R5pos_percNA</th>\n",
       "      <th>R5pos_mean</th>\n",
       "    </tr>\n",
       "  </thead>\n",
       "  <tbody>\n",
       "    <tr>\n",
       "      <th>F3</th>\n",
       "      <td>1.000000</td>\n",
       "      <td>NaN</td>\n",
       "      <td>1.0</td>\n",
       "      <td>NaN</td>\n",
       "      <td>1.000000</td>\n",
       "      <td>NaN</td>\n",
       "    </tr>\n",
       "    <tr>\n",
       "      <th>F5</th>\n",
       "      <td>1.000000</td>\n",
       "      <td>NaN</td>\n",
       "      <td>1.0</td>\n",
       "      <td>NaN</td>\n",
       "      <td>1.000000</td>\n",
       "      <td>NaN</td>\n",
       "    </tr>\n",
       "    <tr>\n",
       "      <th>F11</th>\n",
       "      <td>1.000000</td>\n",
       "      <td>NaN</td>\n",
       "      <td>1.0</td>\n",
       "      <td>NaN</td>\n",
       "      <td>1.000000</td>\n",
       "      <td>NaN</td>\n",
       "    </tr>\n",
       "    <tr>\n",
       "      <th>F12</th>\n",
       "      <td>0.000000</td>\n",
       "      <td>220033.666667</td>\n",
       "      <td>0.0</td>\n",
       "      <td>272870.833333</td>\n",
       "      <td>0.000000</td>\n",
       "      <td>115370.666667</td>\n",
       "    </tr>\n",
       "    <tr>\n",
       "      <th>F13</th>\n",
       "      <td>0.000000</td>\n",
       "      <td>93287.000000</td>\n",
       "      <td>0.0</td>\n",
       "      <td>169408.833333</td>\n",
       "      <td>0.000000</td>\n",
       "      <td>99903.000000</td>\n",
       "    </tr>\n",
       "    <tr>\n",
       "      <th>...</th>\n",
       "      <td>...</td>\n",
       "      <td>...</td>\n",
       "      <td>...</td>\n",
       "      <td>...</td>\n",
       "      <td>...</td>\n",
       "      <td>...</td>\n",
       "    </tr>\n",
       "    <tr>\n",
       "      <th>F18900</th>\n",
       "      <td>0.000000</td>\n",
       "      <td>140482.333333</td>\n",
       "      <td>0.0</td>\n",
       "      <td>100424.000000</td>\n",
       "      <td>0.000000</td>\n",
       "      <td>29968.666667</td>\n",
       "    </tr>\n",
       "    <tr>\n",
       "      <th>F18902</th>\n",
       "      <td>1.000000</td>\n",
       "      <td>NaN</td>\n",
       "      <td>1.0</td>\n",
       "      <td>NaN</td>\n",
       "      <td>1.000000</td>\n",
       "      <td>NaN</td>\n",
       "    </tr>\n",
       "    <tr>\n",
       "      <th>F18909</th>\n",
       "      <td>1.000000</td>\n",
       "      <td>NaN</td>\n",
       "      <td>1.0</td>\n",
       "      <td>NaN</td>\n",
       "      <td>1.000000</td>\n",
       "      <td>NaN</td>\n",
       "    </tr>\n",
       "    <tr>\n",
       "      <th>F18910</th>\n",
       "      <td>0.666667</td>\n",
       "      <td>101892.000000</td>\n",
       "      <td>1.0</td>\n",
       "      <td>NaN</td>\n",
       "      <td>0.666667</td>\n",
       "      <td>59318.000000</td>\n",
       "    </tr>\n",
       "    <tr>\n",
       "      <th>F18911</th>\n",
       "      <td>1.000000</td>\n",
       "      <td>NaN</td>\n",
       "      <td>1.0</td>\n",
       "      <td>NaN</td>\n",
       "      <td>1.000000</td>\n",
       "      <td>NaN</td>\n",
       "    </tr>\n",
       "  </tbody>\n",
       "</table>\n",
       "<p>9756 rows × 6 columns</p>\n",
       "</div>"
      ],
      "text/plain": [
       "        Naive_percNA     Naive_mean  R5neg_percNA     R5neg_mean  R5pos_percNA     R5pos_mean\n",
       "F3          1.000000            NaN           1.0            NaN      1.000000            NaN\n",
       "F5          1.000000            NaN           1.0            NaN      1.000000            NaN\n",
       "F11         1.000000            NaN           1.0            NaN      1.000000            NaN\n",
       "F12         0.000000  220033.666667           0.0  272870.833333      0.000000  115370.666667\n",
       "F13         0.000000   93287.000000           0.0  169408.833333      0.000000   99903.000000\n",
       "...              ...            ...           ...            ...           ...            ...\n",
       "F18900      0.000000  140482.333333           0.0  100424.000000      0.000000   29968.666667\n",
       "F18902      1.000000            NaN           1.0            NaN      1.000000            NaN\n",
       "F18909      1.000000            NaN           1.0            NaN      1.000000            NaN\n",
       "F18910      0.666667  101892.000000           1.0            NaN      0.666667   59318.000000\n",
       "F18911      1.000000            NaN           1.0            NaN      1.000000            NaN\n",
       "\n",
       "[9756 rows x 6 columns]"
      ]
     },
     "execution_count": 123,
     "metadata": {},
     "output_type": "execute_result"
    }
   ],
   "source": [
    "stat_tab"
   ]
  },
  {
   "cell_type": "markdown",
   "id": "68576797-1e28-4ed6-9aa2-c3a44d5dfdef",
   "metadata": {},
   "source": [
    "------"
   ]
  },
  {
   "cell_type": "markdown",
   "id": "a55e9649-2be0-4e14-a688-731ff394de5e",
   "metadata": {},
   "source": [
    "## add stat into feature table and rearrange sample order"
   ]
  },
  {
   "cell_type": "code",
   "execution_count": 124,
   "id": "46c1beef-e71f-4ba1-8143-5b07f8099064",
   "metadata": {},
   "outputs": [
    {
     "data": {
      "text/plain": [
       "Index(['id_number', 'mz', 'rtime', 'rtime_left_base', 'rtime_right_base', 'parent_masstrack_id', 'peak_area', 'cSelectivity', 'goodness_fitting', 'snr', 'detection_counts'], dtype='object')"
      ]
     },
     "execution_count": 124,
     "metadata": {},
     "output_type": "execute_result"
    }
   ],
   "source": [
    "metainfo_df.columns"
   ]
  },
  {
   "cell_type": "code",
   "execution_count": 125,
   "id": "96de4751-17a3-4414-90a6-aedea230bc2a",
   "metadata": {},
   "outputs": [
    {
     "data": {
      "text/plain": [
       "Index(['Naive_1', 'Naive_2', 'Naive_3', 'R5neg_1', 'R5neg_2', 'R5neg_3', 'R5pos_1', 'R5pos_2', 'R5pos_3', 'nist', 'q3June2014_1', 'q3June2014_2'], dtype='object')"
      ]
     },
     "execution_count": 125,
     "metadata": {},
     "output_type": "execute_result"
    }
   ],
   "source": [
    "data_df_dedup.columns"
   ]
  },
  {
   "cell_type": "code",
   "execution_count": 126,
   "id": "fb62cef7-7268-44ff-b33b-8b6f730a89d9",
   "metadata": {},
   "outputs": [],
   "source": [
    "def group_filtering(feat_df = data_df_dedup,\n",
    "                    stat_df = stat_tab,\n",
    "                    group_percNA_threshold = group_percNA_threshold,\n",
    "                    group_signature = ['R5pos','R5neg','Naive'], # the group you would like to do filtering\n",
    "                    percNA_suffix_inRegExpr = '\\\\_percNA'):\n",
    "    '''\n",
    "    Perform group filtering\n",
    "    \n",
    "    '''\n",
    "    group_percNA_df = select_column_regExpr(stat_df,('|').join([x + percNA_suffix_inRegExpr \\\n",
    "                                                                            for x in group_signature]))\n",
    "    group_percNA_df_filtered = group_percNA_df.loc[group_percNA_df.apply(lambda x: x < group_percNA_threshold,\n",
    "                                                                         axis =1).any(axis = 1),\n",
    "                                                   :]\n",
    "    new_stat_df = stat_df.loc[group_percNA_df_filtered.index,:]\n",
    "    new_feat_df = feat_df.loc[group_percNA_df_filtered.index,:]\n",
    "    \n",
    "    return(new_feat_df,new_stat_df)"
   ]
  },
  {
   "cell_type": "code",
   "execution_count": 127,
   "id": "2d8f8a81-01f0-4ce0-a272-84889223a2fb",
   "metadata": {},
   "outputs": [],
   "source": [
    "grp_filt_df, grp_filt_stat_df = group_filtering(feat_df = data_df_dedup,\n",
    "                                                stat_df = stat_tab,\n",
    "                                                group_percNA_threshold = group_percNA_threshold,\n",
    "                                                group_signature = ['R5pos','R5neg','Naive'],\n",
    "                                                percNA_suffix_inRegExpr = '\\\\_percNA')"
   ]
  },
  {
   "cell_type": "code",
   "execution_count": 128,
   "id": "d0e25d27-6fee-42d7-a45a-ce223c15d220",
   "metadata": {},
   "outputs": [
    {
     "data": {
      "text/plain": [
       "(2771, 6)"
      ]
     },
     "execution_count": 128,
     "metadata": {},
     "output_type": "execute_result"
    }
   ],
   "source": [
    "grp_filt_stat_df.shape"
   ]
  },
  {
   "cell_type": "code",
   "execution_count": 129,
   "id": "4c768163-1205-4bc6-87f7-0ce45f80ceb6",
   "metadata": {},
   "outputs": [
    {
     "name": "stdout",
     "output_type": "stream",
     "text": [
      "Before filtering, there are 9756 number of features\n",
      " finally after group filtering, there are 2771 number of features\n"
     ]
    }
   ],
   "source": [
    "print(f\"Before filtering, there are {feat_df.shape[0]} number of features\\n \\\n",
    "finally after group filtering, there are {grp_filt_df.shape[0]} number of features\")"
   ]
  },
  {
   "cell_type": "code",
   "execution_count": 130,
   "id": "1aa626a1-6cc6-4531-9660-297d02f0704f",
   "metadata": {},
   "outputs": [],
   "source": [
    "def combine_tables(list_df = [metainfo_df,grp_filt_stat_df,grp_filt_df],\n",
    "                key_index_df = stat_tab):\n",
    "    index = key_index_df.index\n",
    "    new_list_df = []\n",
    "    for df in list_df:\n",
    "        new_list_df.append(df.loc[index,:])\n",
    "    merge_df = pd.concat(new_list_df,axis =1)\n",
    "    return(merge_df)"
   ]
  },
  {
   "cell_type": "code",
   "execution_count": 131,
   "id": "ba20d820-00ee-41e9-9445-60923a13db4a",
   "metadata": {},
   "outputs": [],
   "source": [
    "m_df = combine_tables(list_df = [metainfo_df,grp_filt_stat_df,grp_filt_df],  # the order of df directly afffects the order of the columns\n",
    "                    key_index_df = grp_filt_stat_df)"
   ]
  },
  {
   "cell_type": "code",
   "execution_count": 132,
   "id": "fcec6ef8-9da1-47ca-bd7d-6e4608549b45",
   "metadata": {},
   "outputs": [],
   "source": [
    "m_df.to_csv(\n",
    "    os.path.join(output_dir,\n",
    "                   f\"groupFil{group_percNA_threshold}_{mode}_featab.csv\"),index = False)\n",
    "\n",
    "grp_filt_stat_df.to_csv(\n",
    "    os.path.join(output_dir,\n",
    "                   f\"groupFil{group_percNA_threshold}_{mode}_stattab.csv\"))"
   ]
  },
  {
   "cell_type": "markdown",
   "id": "e1487e6f-44a2-4a16-a4d3-b6e23c7afed6",
   "metadata": {},
   "source": [
    "---"
   ]
  },
  {
   "cell_type": "markdown",
   "id": "ab7cdb70-8be1-41a1-ab16-484007dddd4e",
   "metadata": {},
   "source": [
    "---"
   ]
  },
  {
   "cell_type": "markdown",
   "id": "4213dd19-f72d-4a3f-ae2a-1340510b3311",
   "metadata": {},
   "source": [
    "---"
   ]
  },
  {
   "cell_type": "markdown",
   "id": "e3a7162a-7fa4-4969-ae81-8f5878de143f",
   "metadata": {},
   "source": [
    "## Filtering samples based on QC report (if needed)"
   ]
  },
  {
   "cell_type": "code",
   "execution_count": 133,
   "id": "65c91f62-a389-4d4e-854e-ea933b9346d1",
   "metadata": {},
   "outputs": [],
   "source": [
    "# No outliers identified in this analysis, thus the outliers list is empty\n",
    "outliers = []"
   ]
  },
  {
   "cell_type": "code",
   "execution_count": 134,
   "id": "debb15db-6952-4512-ad04-caa585baa313",
   "metadata": {},
   "outputs": [],
   "source": [
    "def dropSamples(feat_df,dropSampleList):\n",
    "    fil_feat_df = feat_df.drop(dropSampleList, axis = 1)\n",
    "    return(fil_feat_df)"
   ]
  },
  {
   "cell_type": "code",
   "execution_count": 135,
   "id": "95812003-8c78-499b-ab67-42c285413e4f",
   "metadata": {},
   "outputs": [],
   "source": [
    "if outliers:\n",
    "    outDrop_grp_filt_df = dropSamples(grp_filt_df, outliers)\n",
    "    outDrop_grp_filt_df.to_csv(\n",
    "        os.path.join(output_dir,\n",
    "                       f\"outDrop_blankM_groupFil{group_percNA_threshold}_{mode}_featab.csv\"),index = False)\n",
    "else:\n",
    "    outDrop_grp_filt_df = m_df"
   ]
  },
  {
   "cell_type": "markdown",
   "id": "7967e5d5-299c-4f4d-93b3-6123dee444e1",
   "metadata": {
    "tags": []
   },
   "source": [
    "## TIC normalization for top 1000 features"
   ]
  },
  {
   "cell_type": "code",
   "execution_count": 136,
   "id": "512f575c-0d07-4792-ba5c-63bbbfc18bce",
   "metadata": {},
   "outputs": [],
   "source": [
    "data_df = select_column_regExpr(outDrop_grp_filt_df,'R5pos\\\\_[0-9]+|R5neg\\\\_[0-9]+|Naive\\\\_[0-9]+')"
   ]
  },
  {
   "cell_type": "code",
   "execution_count": 137,
   "id": "1fdc31b1-cdf0-4eb1-883a-13ead3fa76ba",
   "metadata": {},
   "outputs": [
    {
     "data": {
      "text/html": [
       "<div>\n",
       "<style scoped>\n",
       "    .dataframe tbody tr th:only-of-type {\n",
       "        vertical-align: middle;\n",
       "    }\n",
       "\n",
       "    .dataframe tbody tr th {\n",
       "        vertical-align: top;\n",
       "    }\n",
       "\n",
       "    .dataframe thead th {\n",
       "        text-align: right;\n",
       "    }\n",
       "</style>\n",
       "<table border=\"1\" class=\"dataframe\">\n",
       "  <thead>\n",
       "    <tr style=\"text-align: right;\">\n",
       "      <th></th>\n",
       "      <th>Naive_1</th>\n",
       "      <th>Naive_2</th>\n",
       "      <th>Naive_3</th>\n",
       "      <th>R5neg_1</th>\n",
       "      <th>R5neg_2</th>\n",
       "      <th>R5neg_3</th>\n",
       "      <th>R5pos_1</th>\n",
       "      <th>R5pos_2</th>\n",
       "      <th>R5pos_3</th>\n",
       "    </tr>\n",
       "  </thead>\n",
       "  <tbody>\n",
       "    <tr>\n",
       "      <th>F12</th>\n",
       "      <td>163014.0</td>\n",
       "      <td>185168.0</td>\n",
       "      <td>311919.0</td>\n",
       "      <td>253136.5</td>\n",
       "      <td>218917.5</td>\n",
       "      <td>346558.5</td>\n",
       "      <td>133599.0</td>\n",
       "      <td>101565.0</td>\n",
       "      <td>110948.0</td>\n",
       "    </tr>\n",
       "    <tr>\n",
       "      <th>F13</th>\n",
       "      <td>134222.0</td>\n",
       "      <td>44310.0</td>\n",
       "      <td>101329.0</td>\n",
       "      <td>248979.0</td>\n",
       "      <td>91793.5</td>\n",
       "      <td>167454.0</td>\n",
       "      <td>80291.0</td>\n",
       "      <td>136212.0</td>\n",
       "      <td>83206.0</td>\n",
       "    </tr>\n",
       "    <tr>\n",
       "      <th>F22</th>\n",
       "      <td>951141.0</td>\n",
       "      <td>1549923.0</td>\n",
       "      <td>2303649.0</td>\n",
       "      <td>1573781.0</td>\n",
       "      <td>1631864.0</td>\n",
       "      <td>1939811.5</td>\n",
       "      <td>1073833.0</td>\n",
       "      <td>1293960.0</td>\n",
       "      <td>2205156.0</td>\n",
       "    </tr>\n",
       "    <tr>\n",
       "      <th>F23</th>\n",
       "      <td>1548625.0</td>\n",
       "      <td>1551932.0</td>\n",
       "      <td>1486245.0</td>\n",
       "      <td>1650246.0</td>\n",
       "      <td>1840498.5</td>\n",
       "      <td>2827805.0</td>\n",
       "      <td>3623620.0</td>\n",
       "      <td>1749825.0</td>\n",
       "      <td>1248065.0</td>\n",
       "    </tr>\n",
       "    <tr>\n",
       "      <th>F41</th>\n",
       "      <td>NaN</td>\n",
       "      <td>453107.0</td>\n",
       "      <td>NaN</td>\n",
       "      <td>713299.5</td>\n",
       "      <td>669238.0</td>\n",
       "      <td>739421.0</td>\n",
       "      <td>NaN</td>\n",
       "      <td>NaN</td>\n",
       "      <td>NaN</td>\n",
       "    </tr>\n",
       "    <tr>\n",
       "      <th>...</th>\n",
       "      <td>...</td>\n",
       "      <td>...</td>\n",
       "      <td>...</td>\n",
       "      <td>...</td>\n",
       "      <td>...</td>\n",
       "      <td>...</td>\n",
       "      <td>...</td>\n",
       "      <td>...</td>\n",
       "      <td>...</td>\n",
       "    </tr>\n",
       "    <tr>\n",
       "      <th>F18891</th>\n",
       "      <td>6392290.0</td>\n",
       "      <td>5026236.0</td>\n",
       "      <td>4857830.0</td>\n",
       "      <td>2289110.0</td>\n",
       "      <td>2670815.0</td>\n",
       "      <td>NaN</td>\n",
       "      <td>6891936.0</td>\n",
       "      <td>8780176.0</td>\n",
       "      <td>7164335.0</td>\n",
       "    </tr>\n",
       "    <tr>\n",
       "      <th>F18893</th>\n",
       "      <td>3258080.0</td>\n",
       "      <td>2191849.0</td>\n",
       "      <td>2805161.0</td>\n",
       "      <td>2862131.5</td>\n",
       "      <td>3699737.5</td>\n",
       "      <td>2819226.0</td>\n",
       "      <td>NaN</td>\n",
       "      <td>1537621.0</td>\n",
       "      <td>NaN</td>\n",
       "    </tr>\n",
       "    <tr>\n",
       "      <th>F18894</th>\n",
       "      <td>NaN</td>\n",
       "      <td>NaN</td>\n",
       "      <td>NaN</td>\n",
       "      <td>4867033.0</td>\n",
       "      <td>7876994.0</td>\n",
       "      <td>8398675.0</td>\n",
       "      <td>NaN</td>\n",
       "      <td>NaN</td>\n",
       "      <td>NaN</td>\n",
       "    </tr>\n",
       "    <tr>\n",
       "      <th>F18899</th>\n",
       "      <td>6118743.0</td>\n",
       "      <td>20455443.0</td>\n",
       "      <td>4579867.0</td>\n",
       "      <td>7040105.0</td>\n",
       "      <td>10223075.0</td>\n",
       "      <td>9672716.0</td>\n",
       "      <td>1403790.0</td>\n",
       "      <td>6310722.0</td>\n",
       "      <td>2412656.0</td>\n",
       "    </tr>\n",
       "    <tr>\n",
       "      <th>F18900</th>\n",
       "      <td>112974.0</td>\n",
       "      <td>206134.0</td>\n",
       "      <td>102339.0</td>\n",
       "      <td>28917.0</td>\n",
       "      <td>169481.0</td>\n",
       "      <td>102874.0</td>\n",
       "      <td>18211.0</td>\n",
       "      <td>49468.0</td>\n",
       "      <td>22227.0</td>\n",
       "    </tr>\n",
       "  </tbody>\n",
       "</table>\n",
       "<p>2771 rows × 9 columns</p>\n",
       "</div>"
      ],
      "text/plain": [
       "          Naive_1     Naive_2    Naive_3    R5neg_1     R5neg_2    R5neg_3    R5pos_1    R5pos_2    R5pos_3\n",
       "F12      163014.0    185168.0   311919.0   253136.5    218917.5   346558.5   133599.0   101565.0   110948.0\n",
       "F13      134222.0     44310.0   101329.0   248979.0     91793.5   167454.0    80291.0   136212.0    83206.0\n",
       "F22      951141.0   1549923.0  2303649.0  1573781.0   1631864.0  1939811.5  1073833.0  1293960.0  2205156.0\n",
       "F23     1548625.0   1551932.0  1486245.0  1650246.0   1840498.5  2827805.0  3623620.0  1749825.0  1248065.0\n",
       "F41           NaN    453107.0        NaN   713299.5    669238.0   739421.0        NaN        NaN        NaN\n",
       "...           ...         ...        ...        ...         ...        ...        ...        ...        ...\n",
       "F18891  6392290.0   5026236.0  4857830.0  2289110.0   2670815.0        NaN  6891936.0  8780176.0  7164335.0\n",
       "F18893  3258080.0   2191849.0  2805161.0  2862131.5   3699737.5  2819226.0        NaN  1537621.0        NaN\n",
       "F18894        NaN         NaN        NaN  4867033.0   7876994.0  8398675.0        NaN        NaN        NaN\n",
       "F18899  6118743.0  20455443.0  4579867.0  7040105.0  10223075.0  9672716.0  1403790.0  6310722.0  2412656.0\n",
       "F18900   112974.0    206134.0   102339.0    28917.0    169481.0   102874.0    18211.0    49468.0    22227.0\n",
       "\n",
       "[2771 rows x 9 columns]"
      ]
     },
     "execution_count": 137,
     "metadata": {},
     "output_type": "execute_result"
    }
   ],
   "source": [
    "data_df"
   ]
  },
  {
   "cell_type": "code",
   "execution_count": 138,
   "id": "8fdaa648-50f4-41fe-b55f-500ae196a77d",
   "metadata": {},
   "outputs": [],
   "source": [
    "import copy\n",
    "def TIC_Normalization_TopN(data_df,\n",
    "                           topN = 1000):\n",
    "    if any(data_df.apply(lambda x: x == 0).any()):\n",
    "        data_df[data_df == 0] = np.nan\n",
    "    feature_ids = data_df.sum(axis = 1, \n",
    "                              skipna = True\n",
    "                             ).sort_values(ascending = False)[0:topN].index\n",
    "    meanTIC = data_df.loc[feature_ids,:].mean(axis=0,skipna = True)\n",
    "    # print mean of TIC of the topN features\n",
    "    print(meanTIC[0:5])\n",
    "    factor_dict = dict(meanTIC/meanTIC.median())\n",
    "    new_data_df = copy.deepcopy(data_df)\n",
    "    for k,v in factor_dict.items():\n",
    "        new_data_df[k] = [x/v for x in new_data_df[k]]\n",
    "    # print meanTIC of topN features post-TIC normalization, should be the same\n",
    "    print(new_data_df.loc[feature_ids,:].mean(axis=0,skipna = True)[0:5])\n",
    "    \n",
    "    # print meanTIC of all features post-TIC normalization, should be closed\n",
    "    print(new_data_df.mean(axis=0,skipna = True)[0:5])\n",
    "    \n",
    "    return(new_data_df)"
   ]
  },
  {
   "cell_type": "code",
   "execution_count": 139,
   "id": "52c2218d-e499-4d47-84ae-343d985c6df0",
   "metadata": {},
   "outputs": [
    {
     "name": "stdout",
     "output_type": "stream",
     "text": [
      "Naive_1    2.252760e+07\n",
      "Naive_2    2.275197e+07\n",
      "Naive_3    2.785742e+07\n",
      "R5neg_1    1.831777e+07\n",
      "R5neg_2    1.898174e+07\n",
      "dtype: float64\n",
      "Naive_1    2.275197e+07\n",
      "Naive_2    2.275197e+07\n",
      "Naive_3    2.275197e+07\n",
      "R5neg_1    2.275197e+07\n",
      "R5neg_2    2.275197e+07\n",
      "dtype: float64\n",
      "Naive_1    1.096867e+07\n",
      "Naive_2    1.110736e+07\n",
      "Naive_3    1.039877e+07\n",
      "R5neg_1    9.965258e+06\n",
      "R5neg_2    9.781540e+06\n",
      "dtype: float64\n"
     ]
    }
   ],
   "source": [
    "TICnorm_data_df = TIC_Normalization_TopN(data_df,topN = 1000)"
   ]
  },
  {
   "cell_type": "code",
   "execution_count": 140,
   "id": "59b821c7-17d5-4419-aee7-f4f9ea63cff8",
   "metadata": {},
   "outputs": [],
   "source": [
    "import numpy as np\n",
    "import matplotlib.pyplot as plt\n",
    "\n",
    "def bar_plot_TIC(df):\n",
    "    TIC = df.sum(axis = 0)\n",
    "    plt.bar(TIC.index, TIC)\n",
    "    plt.show()"
   ]
  },
  {
   "cell_type": "code",
   "execution_count": 141,
   "id": "12db85ba-0bf8-4e0c-a948-8c24106a925b",
   "metadata": {},
   "outputs": [
    {
     "data": {
      "image/png": "[encoded data removed]",
      "text/plain": [
       "<Figure size 640x480 with 1 Axes>"
      ]
     },
     "metadata": {},
     "output_type": "display_data"
    },
    {
     "data": {
      "image/png": "[encoded data removed]",
      "text/plain": [
       "<Figure size 640x480 with 1 Axes>"
      ]
     },
     "metadata": {},
     "output_type": "display_data"
    }
   ],
   "source": [
    "bar_plot_TIC(data_df)\n",
    "bar_plot_TIC(TICnorm_data_df)"
   ]
  },
  {
   "cell_type": "code",
   "execution_count": 142,
   "id": "ddbb1633-2232-4491-ae8b-02d003bb0b36",
   "metadata": {
    "tags": []
   },
   "outputs": [],
   "source": [
    "# I decide to just replace the \n",
    "def replace_col_wtTICnorm(feat_df = outDrop_grp_filt_df,\n",
    "                          data_df = TICnorm_data_df):\n",
    "    '''\n",
    "    replace the same column of feature dataframe (feat_df) with the data_df that have the same column\n",
    "    Return the feature dataframe. Note that the function is not limited to TIC normalized data.\n",
    "    '''\n",
    "    new_feat_df = copy.deepcopy(feat_df)\n",
    "    for col in data_df.columns:\n",
    "        new_feat_df[col] = data_df[col]\n",
    "\n",
    "    return(new_feat_df)"
   ]
  },
  {
   "cell_type": "code",
   "execution_count": 143,
   "id": "71891ba3-1876-44c5-90de-6720d34a6e83",
   "metadata": {},
   "outputs": [],
   "source": [
    "TICnorm_feat_df = replace_col_wtTICnorm(feat_df = outDrop_grp_filt_df,\n",
    "                          data_df = TICnorm_data_df)"
   ]
  },
  {
   "cell_type": "code",
   "execution_count": 144,
   "id": "1dd7e4e1-ad12-4903-8606-1b18c579c37d",
   "metadata": {},
   "outputs": [],
   "source": [
    "TICnorm_feat_df.to_csv(\n",
    "        os.path.join(output_dir,\n",
    "                       f\"TICnorm_groupFil{group_percNA_threshold}_{mode}_featab.csv\"),index = False) # rename if needed"
   ]
  },
  {
   "cell_type": "markdown",
   "id": "a1c0b8f7-082c-429d-8a9d-60e8cb4a9690",
   "metadata": {},
   "source": [
    "------"
   ]
  },
  {
   "cell_type": "markdown",
   "id": "7bb61a20-443b-4410-a1c2-e85ea6b835e1",
   "metadata": {},
   "source": [
    "------"
   ]
  },
  {
   "cell_type": "markdown",
   "id": "33abc238-176a-4260-bbf1-aa2a50111730",
   "metadata": {},
   "source": [
    "------"
   ]
  },
  {
   "cell_type": "markdown",
   "id": "32fd6fbe-3d25-4bda-a002-83ffca07254d",
   "metadata": {},
   "source": [
    "------"
   ]
  },
  {
   "cell_type": "markdown",
   "id": "37b1cd80-d06d-4dd7-ba58-ff1632e37898",
   "metadata": {},
   "source": [
    "------"
   ]
  },
  {
   "cell_type": "markdown",
   "id": "da2134c6-b770-4c81-b6ad-4b07ada6a959",
   "metadata": {},
   "source": [
    "## Normalization by cell number"
   ]
  },
  {
   "cell_type": "code",
   "execution_count": 145,
   "id": "a15c9a1e-f885-4460-aa17-58be7d71e866",
   "metadata": {},
   "outputs": [],
   "source": [
    "import statistics as stat\n",
    "def create_factor_dict(clean_meta_df,column2factor):\n",
    "    factor_dict = {}\n",
    "    new_df = clean_meta_df.loc[clean_meta_df['biological_samples'] == 'Yes',:]\n",
    "    factor_dict = {row['tID_dedup']:row[column2factor] for i,row in new_df.iterrows()}\n",
    "    median_value = stat.median(factor_dict.values())\n",
    "    new_factor_dict = {k : float(v)/float(median_value) for k,v in factor_dict.items()}\n",
    "    return(new_factor_dict)"
   ]
  },
  {
   "cell_type": "code",
   "execution_count": 146,
   "id": "dfb9e408-0912-4d77-866e-8e6babe93c3f",
   "metadata": {},
   "outputs": [],
   "source": [
    "def Customized_Normalization(data_df,\n",
    "                           factor_dict):\n",
    "    if data_df.apply(lambda x: x == 0).any().any():\n",
    "        data_df[data_df == 0] = np.nan\n",
    "        \n",
    "    new_data_df = copy.deepcopy(data_df)\n",
    "    for k,v in factor_dict.items():\n",
    "        new_data_df[k] = [x/v for x in new_data_df[k]]\n",
    "    \n",
    "    # print meanTIC of all features post-TIC normalization, should be closed\n",
    "    print(new_data_df.mean(axis=0,skipna = True)[0:5])\n",
    "    \n",
    "    return(new_data_df)"
   ]
  },
  {
   "cell_type": "code",
   "execution_count": 147,
   "id": "0fb010a0-5cae-4f02-9a8c-a97a555a56cf",
   "metadata": {},
   "outputs": [
    {
     "data": {
      "text/plain": [
       "{'R5pos_1': 0.47333333333333333,\n",
       " 'R5pos_2': 0.6666666666666666,\n",
       " 'R5pos_3': 0.5,\n",
       " 'Naive_1': 1.0,\n",
       " 'Naive_2': 1.0,\n",
       " 'Naive_3': 1.0,\n",
       " 'R5neg_1': 2.183333333333333,\n",
       " 'R5neg_2': 2.29,\n",
       " 'R5neg_3': 2.8833333333333333}"
      ]
     },
     "execution_count": 147,
     "metadata": {},
     "output_type": "execute_result"
    }
   ],
   "source": [
    "factor_dict = create_factor_dict(clean_meta_df,column2factor = \"cell_number\")\n",
    "factor_dict"
   ]
  },
  {
   "cell_type": "code",
   "execution_count": 148,
   "id": "9d9da129-5433-416d-a02c-166fae01aafb",
   "metadata": {},
   "outputs": [
    {
     "name": "stdout",
     "output_type": "stream",
     "text": [
      "Naive_1    1.086051e+07\n",
      "Naive_2    1.110736e+07\n",
      "Naive_3    1.273221e+07\n",
      "R5neg_1    3.674703e+06\n",
      "R5neg_2    3.563600e+06\n",
      "dtype: float64\n"
     ]
    }
   ],
   "source": [
    "data_df = select_column_regExpr(outDrop_grp_filt_df,'R5pos\\\\_[0-9]+|R5neg\\\\_[0-9]+|Naive\\\\_[0-9]+')\n",
    "cellNorm_data_df = Customized_Normalization(data_df,factor_dict)"
   ]
  },
  {
   "cell_type": "code",
   "execution_count": 149,
   "id": "7be725eb-ab58-4603-8bf8-eb283da184ce",
   "metadata": {},
   "outputs": [
    {
     "data": {
      "image/png": "[encoded data removed]",
      "text/plain": [
       "<Figure size 640x480 with 1 Axes>"
      ]
     },
     "metadata": {},
     "output_type": "display_data"
    },
    {
     "data": {
      "image/png": "[encoded data removed]",
      "text/plain": [
       "<Figure size 640x480 with 1 Axes>"
      ]
     },
     "metadata": {},
     "output_type": "display_data"
    }
   ],
   "source": [
    "bar_plot_TIC(data_df)\n",
    "bar_plot_TIC(cellNorm_data_df)"
   ]
  },
  {
   "cell_type": "code",
   "execution_count": 150,
   "id": "afeff839-0b34-46bf-a00f-416b08fe4a06",
   "metadata": {},
   "outputs": [],
   "source": [
    "Cellnorm_feat_df = replace_col_wtTICnorm(feat_df = outDrop_grp_filt_df,\n",
    "                          data_df = cellNorm_data_df)"
   ]
  },
  {
   "cell_type": "code",
   "execution_count": 151,
   "id": "55d556f8-13b1-4b3a-90b1-236213bee029",
   "metadata": {},
   "outputs": [],
   "source": [
    "Cellnorm_feat_df.to_csv(\n",
    "        os.path.join(output_dir,\n",
    "                       f\"CellNumnorm_groupFil{group_percNA_threshold}_{mode}_featab.csv\"),index = False) # rename if needed"
   ]
  },
  {
   "cell_type": "markdown",
   "id": "ab924e6d-aeb1-47a1-b467-d4d94a686c5c",
   "metadata": {},
   "source": [
    "-----"
   ]
  },
  {
   "cell_type": "markdown",
   "id": "c027c754-4baf-4041-a832-5e4b60c99045",
   "metadata": {},
   "source": [
    "## Summary\n",
    "- normalization run two-ways:\n",
    "    - based on top 1000 feature TIC: `TICnorm_data_df`\n",
    "    - based on cell number: `cellNorm_data_df`"
   ]
  },
  {
   "cell_type": "markdown",
   "id": "bc6518af-8d04-4002-addf-164d958b1427",
   "metadata": {},
   "source": [
    "------"
   ]
  },
  {
   "cell_type": "markdown",
   "id": "c532b640-c577-407d-9b79-1895c061b05f",
   "metadata": {},
   "source": [
    "------"
   ]
  },
  {
   "cell_type": "markdown",
   "id": "653fb745-de27-4deb-8080-a7f7c4434bb1",
   "metadata": {
    "tags": []
   },
   "source": [
    "## Imputation with half minimum"
   ]
  },
  {
   "cell_type": "code",
   "execution_count": 152,
   "id": "a4f594db-5927-493c-b185-6f22906c43ba",
   "metadata": {},
   "outputs": [],
   "source": [
    "def imputation(norm_data_df,full_asari_data_df,replace = 'half_minimum'):\n",
    "    '''\n",
    "    the row index should be matched btw. normalized data df & full asari df\n",
    "    The reason to add full_asari_data_df is to add the true minimum across all samples. \n",
    "    It will better capture the baseline\n",
    "    Default setting: if there is 0, then it will automatically deem as NA.\n",
    "    full_asari_data_df can use the same dataset of norm_data_df\n",
    "    norm_data_df can be exactly the same with not normalized dataset\n",
    "    \n",
    "    Output\n",
    "    ======\n",
    "    Return the NA filled norm_data_df\n",
    "    ''' \n",
    "    \n",
    "    # turn zero to NA\n",
    "    norm_data_df[norm_data_df == 0] = np.nan\n",
    "    full_asari_data_df[full_asari_data_df == 0] = np.nan\n",
    "    \n",
    "    if replace == 'half_minimum':\n",
    "        for i,row in norm_data_df.iterrows():\n",
    "            minimum_value = full_asari_data_df.loc[i,:].min()\n",
    "            row.fillna(minimum_value/2,inplace = True) # imputation is minimum\n",
    "\n",
    "    return(norm_data_df)"
   ]
  },
  {
   "cell_type": "markdown",
   "id": "98182ab6-ec22-4188-94e7-11ac9e4e3619",
   "metadata": {},
   "source": [
    "#### TICnorm data"
   ]
  },
  {
   "cell_type": "code",
   "execution_count": 153,
   "id": "0266ec2a-3582-4591-828b-8d3f25a4db91",
   "metadata": {},
   "outputs": [],
   "source": [
    "TIC_full_data_df = select_column_regExpr(TICnorm_feat_df,'R5pos\\\\_[0-9]+|R5neg\\\\_[0-9]+|Naive\\\\_[0-9]+|q3June2014\\\\_[0-9]|nist')"
   ]
  },
  {
   "cell_type": "code",
   "execution_count": 154,
   "id": "e9c4dc19-18aa-4046-a71a-c666d5012e44",
   "metadata": {},
   "outputs": [
    {
     "data": {
      "text/plain": [
       "Index(['Naive_1', 'Naive_2', 'Naive_3', 'R5neg_1', 'R5neg_2', 'R5neg_3', 'R5pos_1', 'R5pos_2', 'R5pos_3', 'nist', 'q3June2014_1', 'q3June2014_2'], dtype='object')"
      ]
     },
     "execution_count": 154,
     "metadata": {},
     "output_type": "execute_result"
    }
   ],
   "source": [
    "# Make sure full asari data table including all different samples\n",
    "TIC_full_data_df.columns"
   ]
  },
  {
   "cell_type": "code",
   "execution_count": 155,
   "id": "48565f31-ce0c-4a3d-9d77-e0106970fb48",
   "metadata": {},
   "outputs": [
    {
     "name": "stdout",
     "output_type": "stream",
     "text": [
      "Index(['F12', 'F13', 'F22', 'F23', 'F41'], dtype='object')\n",
      "Index(['F12', 'F13', 'F22', 'F23', 'F41'], dtype='object')\n"
     ]
    }
   ],
   "source": [
    "# Make sure they both point to Feature ID\n",
    "print(TIC_full_data_df.index[0:5])\n",
    "print(TICnorm_data_df.index[0:5])"
   ]
  },
  {
   "cell_type": "code",
   "execution_count": 156,
   "id": "2fbe7ae9-accb-4d07-8ded-4489b3afc26c",
   "metadata": {},
   "outputs": [],
   "source": [
    "TICnorm_data_df_imphMin = imputation(norm_data_df = TICnorm_data_df,\n",
    "                                       full_asari_data_df = TIC_full_data_df,\n",
    "                                       replace = 'half_minimum')\n",
    "\n",
    "TICnorm_imphMin_feat_df = replace_col_wtTICnorm(feat_df = TICnorm_feat_df,\n",
    "                          data_df = TICnorm_data_df_imphMin)\n",
    "\n",
    "TICnorm_imphMin_feat_df.to_csv(\n",
    "        os.path.join(output_dir,\n",
    "                       f\"hMinImp_TICnorm_groupFil{group_percNA_threshold}_{mode}_featab.csv\"),index = False)"
   ]
  },
  {
   "cell_type": "markdown",
   "id": "6554c15b-e7ee-4580-a7fc-c7d288937080",
   "metadata": {},
   "source": [
    "#### Cellnorm data"
   ]
  },
  {
   "cell_type": "code",
   "execution_count": 157,
   "id": "1185b502-44cc-42e2-9315-2b69d8f80209",
   "metadata": {},
   "outputs": [],
   "source": [
    "cellNorm_full_data_df = select_column_regExpr(Cellnorm_feat_df,'R5pos\\\\_[0-9]+|R5neg\\\\_[0-9]+|Naive\\\\_[0-9]+|q3June2014\\\\_[0-9]|nist')"
   ]
  },
  {
   "cell_type": "code",
   "execution_count": 158,
   "id": "8cabcf28-7665-4547-b617-db370ea152a7",
   "metadata": {},
   "outputs": [
    {
     "data": {
      "text/plain": [
       "Index(['Naive_1', 'Naive_2', 'Naive_3', 'R5neg_1', 'R5neg_2', 'R5neg_3', 'R5pos_1', 'R5pos_2', 'R5pos_3', 'nist', 'q3June2014_1', 'q3June2014_2'], dtype='object')"
      ]
     },
     "execution_count": 158,
     "metadata": {},
     "output_type": "execute_result"
    }
   ],
   "source": [
    "# Make sure full asari data table including all different samples\n",
    "cellNorm_full_data_df.columns"
   ]
  },
  {
   "cell_type": "code",
   "execution_count": 159,
   "id": "65fc75bd-87b4-492d-9250-4ee6f419c43e",
   "metadata": {},
   "outputs": [
    {
     "name": "stdout",
     "output_type": "stream",
     "text": [
      "Index(['F12', 'F13', 'F22', 'F23', 'F41'], dtype='object')\n",
      "Index(['F12', 'F13', 'F22', 'F23', 'F41'], dtype='object')\n"
     ]
    }
   ],
   "source": [
    "# Make sure they both point to Feature ID\n",
    "print(cellNorm_full_data_df.index[0:5])\n",
    "print(cellNorm_data_df.index[0:5])"
   ]
  },
  {
   "cell_type": "code",
   "execution_count": 160,
   "id": "b8ea2ab3-c114-402b-b10e-02a7910ce0c6",
   "metadata": {},
   "outputs": [],
   "source": [
    "cellNorm_data_df_imphMin = imputation(norm_data_df = cellNorm_data_df,\n",
    "                                       full_asari_data_df = cellNorm_full_data_df,\n",
    "                                       replace = 'half_minimum')\n",
    "\n",
    "cellNorm_imphMin_feat_df = replace_col_wtTICnorm(feat_df = Cellnorm_feat_df,\n",
    "                          data_df = cellNorm_data_df_imphMin)\n",
    "\n",
    "cellNorm_imphMin_feat_df.to_csv(\n",
    "        os.path.join(output_dir,\n",
    "                       f\"hMinImp_cellNorm_groupFil{group_percNA_threshold}_{mode}_featab.csv\"),index = False)"
   ]
  },
  {
   "cell_type": "markdown",
   "id": "bf158f0e-c8d7-48c1-9dac-cd57781e6a7c",
   "metadata": {},
   "source": [
    "# log2 transform"
   ]
  },
  {
   "cell_type": "code",
   "execution_count": 161,
   "id": "d17fe52a-3b1c-4cee-a2ba-d612744b29b5",
   "metadata": {},
   "outputs": [],
   "source": [
    "def log2transform(data_df,\n",
    "                  back2Zero = False):\n",
    "    data_df[data_df == 0] = np.nan\n",
    "    data_df_log = data_df.apply(lambda x: np.log2(x)) # no need to add +1\n",
    "    if back2Zero == True:\n",
    "        data_df_log[data_df_log.isna()] = 0\n",
    "    return(data_df_log)"
   ]
  },
  {
   "cell_type": "code",
   "execution_count": 162,
   "id": "135e7675-3c6a-4827-81e2-a1b389ecfb06",
   "metadata": {},
   "outputs": [],
   "source": [
    "def log2transform_on_featab_wtRegExpr(feat_df,\n",
    "                                      back2Zero = False,\n",
    "                                      samplesRegExpr = 'R5pos\\\\_[0-9]+|R5neg\\\\_[0-9]+|Naive\\\\_[0-9]+|q3June2014\\\\_[0-9]|nist'):\n",
    "    data_df = select_column_regExpr(feat_df,samplesRegExpr)\n",
    "    log2_data_df = log2transform(data_df, back2Zero = back2Zero)\n",
    "    log2_feat_df = replace_col_wtTICnorm(feat_df = feat_df,\n",
    "                                         data_df = log2_data_df)\n",
    "    return(log2_feat_df)"
   ]
  },
  {
   "cell_type": "markdown",
   "id": "3faf6307-7421-48e7-af99-48fabaebb451",
   "metadata": {},
   "source": [
    "#### log2 tranxsform on the imputated feature tables"
   ]
  },
  {
   "cell_type": "code",
   "execution_count": 163,
   "id": "12e81e3c-4c65-4655-a194-cbc1845c8cff",
   "metadata": {},
   "outputs": [],
   "source": [
    "log2_TICnorm_imphMin_feat_df = log2transform_on_featab_wtRegExpr(TICnorm_imphMin_feat_df)\n",
    "log2_cellNorm_imphMin_feat_df = log2transform_on_featab_wtRegExpr(cellNorm_imphMin_feat_df)"
   ]
  },
  {
   "cell_type": "code",
   "execution_count": 164,
   "id": "3ccd9aee-1bcf-4135-b5ad-807e993fe4aa",
   "metadata": {},
   "outputs": [],
   "source": [
    "log2_TICnorm_imphMin_feat_df.to_csv(\n",
    "        os.path.join(output_dir,\n",
    "                       f\"log2_hMinImp_TICnorm_groupFil{group_percNA_threshold}_{mode}_featab.csv\"),index = False)"
   ]
  },
  {
   "cell_type": "code",
   "execution_count": 165,
   "id": "39e05ae9-c18e-4d6d-9151-9e512c451fb5",
   "metadata": {},
   "outputs": [],
   "source": [
    "log2_cellNorm_imphMin_feat_df.to_csv(\n",
    "        os.path.join(output_dir,\n",
    "                       f\"log2_hMinImp_cellNorm_groupFil{group_percNA_threshold}_{mode}_featab.csv\"),index = False)"
   ]
  },
  {
   "cell_type": "markdown",
   "id": "b1d2f3bb-aa1d-4987-80fb-0243ba670607",
   "metadata": {},
   "source": [
    "-------"
   ]
  },
  {
   "cell_type": "markdown",
   "id": "2cd49f06-580e-495e-8859-5d81a11e3a33",
   "metadata": {
    "tags": []
   },
   "source": [
    "#### log2 tranxsform on the original feature table without normalization & imputation"
   ]
  },
  {
   "cell_type": "code",
   "execution_count": 166,
   "id": "1d19554c-61dd-4be0-9a79-d5b385f8a626",
   "metadata": {},
   "outputs": [],
   "source": [
    "log2_outDrop_grp_filt_df = log2transform_on_featab_wtRegExpr(outDrop_grp_filt_df)\n",
    "log2_outDrop_grp_filt_df.to_csv(\n",
    "        os.path.join(output_dir,\n",
    "                       f\"log2_groupFil{group_percNA_threshold}_{mode}_featab.csv\"),index = False)"
   ]
  },
  {
   "cell_type": "markdown",
   "id": "e19826e7-5371-48cf-b0cf-5fe3f990146a",
   "metadata": {},
   "source": [
    "-----"
   ]
  },
  {
   "cell_type": "markdown",
   "id": "5ebd4979-4037-40b7-aa57-4bcd007a2486",
   "metadata": {},
   "source": [
    "-----"
   ]
  },
  {
   "cell_type": "markdown",
   "id": "17ae2814-3f93-41b9-8425-317223ca058b",
   "metadata": {},
   "source": [
    "## Report geometric mean of group"
   ]
  },
  {
   "cell_type": "code",
   "execution_count": 167,
   "id": "40c75fc5-d7cb-446d-9867-046f964eb935",
   "metadata": {},
   "outputs": [
    {
     "name": "stdout",
     "output_type": "stream",
     "text": [
      "[('john', 'jeff'),\n",
      " ('john', 'george'),\n",
      " ('john', 'peter'),\n",
      " ('john', 'ringo'),\n",
      " ('jeff', 'george'),\n",
      " ('jeff', 'peter'),\n",
      " ('jeff', 'ringo'),\n",
      " ('george', 'peter'),\n",
      " ('george', 'ringo'),\n",
      " ('peter', 'ringo')]\n"
     ]
    }
   ],
   "source": [
    "from itertools import combinations\n",
    "from pprint import pprint\n",
    "\n",
    "names = ['john', 'jeff', 'george', 'peter', 'ringo']\n",
    "\n",
    "combos = list(combinations(names, 2))\n",
    "# pairs = [[x, y] for x in combos for y in combos if not set(x).intersection(set(y))]\n",
    "\n",
    "pprint(combos)"
   ]
  },
  {
   "cell_type": "markdown",
   "id": "0162faac-cc16-4e32-b453-862865a841d9",
   "metadata": {
    "tags": []
   },
   "source": [
    "## the end index is `17`"
   ]
  },
  {
   "cell_type": "code",
   "execution_count": 168,
   "id": "fb9c1370-41cd-4452-a9fc-1d3b833be8c2",
   "metadata": {},
   "outputs": [
    {
     "data": {
      "text/plain": [
       "Index(['Naive_1', 'Naive_2', 'Naive_3', 'R5neg_1', 'R5neg_2', 'R5neg_3', 'R5pos_1', 'R5pos_2', 'R5pos_3', 'nist', 'q3June2014_1', 'q3June2014_2'], dtype='object')"
      ]
     },
     "execution_count": 168,
     "metadata": {},
     "output_type": "execute_result"
    }
   ],
   "source": [
    "log2_TICnorm_imphMin_feat_df.columns[17:]"
   ]
  },
  {
   "cell_type": "code",
   "execution_count": 169,
   "id": "c1c8f703-0f9a-4369-96b6-dd5068e9df48",
   "metadata": {},
   "outputs": [
    {
     "data": {
      "text/plain": [
       "Index(['Naive_1', 'Naive_2', 'Naive_3', 'R5neg_1', 'R5neg_2', 'R5neg_3', 'R5pos_1', 'R5pos_2', 'R5pos_3', 'nist', 'q3June2014_1', 'q3June2014_2'], dtype='object')"
      ]
     },
     "execution_count": 169,
     "metadata": {},
     "output_type": "execute_result"
    }
   ],
   "source": [
    "log2_cellNorm_imphMin_feat_df.columns[17:]"
   ]
  },
  {
   "cell_type": "code",
   "execution_count": 170,
   "id": "7bef62e9-6da0-4177-a2ed-04095a1772e8",
   "metadata": {},
   "outputs": [
    {
     "data": {
      "text/plain": [
       "Index(['Naive_1', 'Naive_2', 'Naive_3', 'R5neg_1', 'R5neg_2', 'R5neg_3', 'R5pos_1', 'R5pos_2', 'R5pos_3', 'nist', 'q3June2014_1', 'q3June2014_2'], dtype='object')"
      ]
     },
     "execution_count": 170,
     "metadata": {},
     "output_type": "execute_result"
    }
   ],
   "source": [
    "log2_outDrop_grp_filt_df.columns[17:]"
   ]
  },
  {
   "cell_type": "code",
   "execution_count": 171,
   "id": "40c04e7e-2a43-4102-9085-c189b8442277",
   "metadata": {},
   "outputs": [],
   "source": [
    "from itertools import combinations\n",
    "\n",
    "def log2FCreport(log2_feat_df, \n",
    "          groupRegExprs = ['Naive\\\\_[0-9]+','R5neg\\\\_[0-9]+','R5pos\\\\_[0-9]+'], # order always the reference on the left\n",
    "          end_index = 17):\n",
    "    '''\n",
    "    The function require log2 feature table\n",
    "    Using groupRegExprs to recognize the grouped samples. Only works for explicitly coded sample identification based on the name\n",
    "    End_index is where the index end on the meta information coded in the log2_feature table\n",
    "    Currently only deals with two group comparison\n",
    "    '''\n",
    "    #' separate data table and metainfo by `end_index` (needs to define beforehand)\n",
    "    data_df = log2_feat_df.iloc[:,end_index:log2_feat_df.shape[1]]\n",
    "    log2_feat_df_meta = log2_feat_df.iloc[:,0:end_index]\n",
    "    \n",
    "    # calculate gMean first\n",
    "    group_of_mean_dict = {}\n",
    "    for group in groupRegExprs:\n",
    "        group_df = select_column_regExpr(log2_feat_df,group)\n",
    "        group_df_mean = group_df.apply(lambda row: row.mean(),axis = 1)\n",
    "        group_id = group.split('\\\\')[0]\n",
    "        log2_feat_df_meta[f'gMean_{group_id}'] = group_df_mean\n",
    "        group_of_mean_dict.update({group_id : group_df_mean})\n",
    "    \n",
    "    # calculate log2 fold change  using `group_of_mean_dict`\n",
    "    combos = list(combinations(group_of_mean_dict.keys(), 2))\n",
    "    for combo in combos:\n",
    "        log2_feat_df_meta[f'log2FC_{combo[1]}vs{combo[0]}'] = [y - x for (x,y) in zip(group_of_mean_dict[combo[0]],\n",
    "                                                                                           group_of_mean_dict[combo[1]])]\n",
    "    final_df = pd.concat([log2_feat_df_meta,data_df],axis = 1)\n",
    "    return(final_df)"
   ]
  },
  {
   "cell_type": "markdown",
   "id": "b88c5e0d-773d-4deb-b7ee-585fbb1fb5e0",
   "metadata": {
    "tags": []
   },
   "source": [
    "### **Imputated** TICnorm log2 data : report gMean"
   ]
  },
  {
   "cell_type": "code",
   "execution_count": 172,
   "id": "7977e902-c046-40cc-9c2a-0f0af48fcef8",
   "metadata": {},
   "outputs": [],
   "source": [
    "FC_log2_TICnorm_imphMin_feat_df = log2FCreport(log2_feat_df = log2_TICnorm_imphMin_feat_df,\n",
    "                                      groupRegExprs = ['Naive\\\\_[0-9]+','R5neg\\\\_[0-9]+','R5pos\\\\_[0-9]+'],\n",
    "                                      end_index = 17)\n",
    "\n",
    "FC_log2_TICnorm_imphMin_feat_df.to_csv(\n",
    "        os.path.join(output_dir,\n",
    "                       f\"FC_log2_hMinImp_TICnorm_groupFil{group_percNA_threshold}_{mode}_featab.csv\"),index = False)"
   ]
  },
  {
   "cell_type": "code",
   "execution_count": 173,
   "id": "484ce0d6-6417-4dd7-862b-2a2410070cd6",
   "metadata": {},
   "outputs": [],
   "source": [
    "FC_log2_cellNorm_imphMin_feat_df = log2FCreport(log2_feat_df = log2_cellNorm_imphMin_feat_df,\n",
    "                                      groupRegExprs = ['Naive\\\\_[0-9]+','R5neg\\\\_[0-9]+','R5pos\\\\_[0-9]+'],\n",
    "                                      end_index = 17)\n",
    "\n",
    "FC_log2_cellNorm_imphMin_feat_df.to_csv(\n",
    "        os.path.join(output_dir,\n",
    "                       f\"FC_log2_hMinImp_cellNorm_groupFil{group_percNA_threshold}_{mode}_featab.csv\"),index = False)"
   ]
  },
  {
   "cell_type": "markdown",
   "id": "dde8887b-3b93-4b71-92bf-4e9bde46b75e",
   "metadata": {},
   "source": [
    "-------"
   ]
  },
  {
   "cell_type": "markdown",
   "id": "4e77da71-5247-45c3-b6c5-5062b6228a63",
   "metadata": {},
   "source": [
    "-------"
   ]
  },
  {
   "cell_type": "markdown",
   "id": "a2cef29e-5f64-486a-ab65-6292efdb054a",
   "metadata": {},
   "source": [
    "# Select the tageted features"
   ]
  },
  {
   "cell_type": "code",
   "execution_count": 179,
   "id": "a8422e2e-1229-4ad5-a232-ceecd8955acb",
   "metadata": {
    "tags": []
   },
   "outputs": [],
   "source": [
    "targeted_feat_tab = pd.read_csv(targeted_file, sep = '\\t')"
   ]
  },
  {
   "cell_type": "code",
   "execution_count": 186,
   "id": "f8b79828-4074-4c9a-b61a-90dfd6dcc122",
   "metadata": {
    "tags": []
   },
   "outputs": [
    {
     "data": {
      "text/plain": [
       "133"
      ]
     },
     "execution_count": 186,
     "metadata": {},
     "output_type": "execute_result"
    }
   ],
   "source": [
    "id_numbers = set(targeted_feat_tab['id_number']);len(id_number)"
   ]
  },
  {
   "cell_type": "code",
   "execution_count": 191,
   "id": "1f8f45cf-4c36-433e-9d83-d0a9d233ed51",
   "metadata": {
    "tags": []
   },
   "outputs": [
    {
     "data": {
      "text/html": [
       "<div>\n",
       "<style scoped>\n",
       "    .dataframe tbody tr th:only-of-type {\n",
       "        vertical-align: middle;\n",
       "    }\n",
       "\n",
       "    .dataframe tbody tr th {\n",
       "        vertical-align: top;\n",
       "    }\n",
       "\n",
       "    .dataframe thead th {\n",
       "        text-align: right;\n",
       "    }\n",
       "</style>\n",
       "<table border=\"1\" class=\"dataframe\">\n",
       "  <thead>\n",
       "    <tr style=\"text-align: right;\">\n",
       "      <th></th>\n",
       "      <th>id_number</th>\n",
       "      <th>mz</th>\n",
       "      <th>rtime</th>\n",
       "      <th>rtime_left_base</th>\n",
       "      <th>rtime_right_base</th>\n",
       "      <th>parent_masstrack_id</th>\n",
       "      <th>peak_area</th>\n",
       "      <th>cSelectivity</th>\n",
       "      <th>goodness_fitting</th>\n",
       "      <th>snr</th>\n",
       "      <th>detection_counts</th>\n",
       "      <th>Naive_percNA</th>\n",
       "      <th>Naive_mean</th>\n",
       "      <th>R5neg_percNA</th>\n",
       "      <th>R5neg_mean</th>\n",
       "      <th>R5pos_percNA</th>\n",
       "      <th>R5pos_mean</th>\n",
       "      <th>gMean_Naive</th>\n",
       "      <th>gMean_R5neg</th>\n",
       "      <th>gMean_R5pos</th>\n",
       "      <th>log2FC_R5negvsNaive</th>\n",
       "      <th>log2FC_R5posvsNaive</th>\n",
       "      <th>log2FC_R5posvsR5neg</th>\n",
       "      <th>Naive_1</th>\n",
       "      <th>Naive_2</th>\n",
       "      <th>Naive_3</th>\n",
       "      <th>R5neg_1</th>\n",
       "      <th>R5neg_2</th>\n",
       "      <th>R5neg_3</th>\n",
       "      <th>R5pos_1</th>\n",
       "      <th>R5pos_2</th>\n",
       "      <th>R5pos_3</th>\n",
       "      <th>nist</th>\n",
       "      <th>q3June2014_1</th>\n",
       "      <th>q3June2014_2</th>\n",
       "    </tr>\n",
       "  </thead>\n",
       "  <tbody>\n",
       "    <tr>\n",
       "      <th>F10769</th>\n",
       "      <td>F10769</td>\n",
       "      <td>372.7447</td>\n",
       "      <td>25.17</td>\n",
       "      <td>23.59</td>\n",
       "      <td>28.32</td>\n",
       "      <td>9930</td>\n",
       "      <td>2649961</td>\n",
       "      <td>1.0</td>\n",
       "      <td>0.99</td>\n",
       "      <td>456</td>\n",
       "      <td>5</td>\n",
       "      <td>0.333333</td>\n",
       "      <td>6.073210e+05</td>\n",
       "      <td>0.0</td>\n",
       "      <td>8.143117e+05</td>\n",
       "      <td>1.000000</td>\n",
       "      <td>NaN</td>\n",
       "      <td>18.873931</td>\n",
       "      <td>19.879238</td>\n",
       "      <td>18.184479</td>\n",
       "      <td>1.005307</td>\n",
       "      <td>-0.689452</td>\n",
       "      <td>-1.694759</td>\n",
       "      <td>19.184479</td>\n",
       "      <td>19.252834</td>\n",
       "      <td>18.184479</td>\n",
       "      <td>19.429964</td>\n",
       "      <td>20.426192</td>\n",
       "      <td>19.781558</td>\n",
       "      <td>18.184479</td>\n",
       "      <td>18.184479</td>\n",
       "      <td>18.184479</td>\n",
       "      <td>NaN</td>\n",
       "      <td>NaN</td>\n",
       "      <td>NaN</td>\n",
       "    </tr>\n",
       "    <tr>\n",
       "      <th>F11541</th>\n",
       "      <td>F11541</td>\n",
       "      <td>384.7631</td>\n",
       "      <td>38.83</td>\n",
       "      <td>36.20</td>\n",
       "      <td>41.72</td>\n",
       "      <td>10150</td>\n",
       "      <td>748661750</td>\n",
       "      <td>1.0</td>\n",
       "      <td>0.97</td>\n",
       "      <td>86549</td>\n",
       "      <td>22</td>\n",
       "      <td>0.000000</td>\n",
       "      <td>3.824048e+07</td>\n",
       "      <td>0.0</td>\n",
       "      <td>1.591458e+07</td>\n",
       "      <td>0.000000</td>\n",
       "      <td>5.196974e+07</td>\n",
       "      <td>25.080340</td>\n",
       "      <td>24.220631</td>\n",
       "      <td>25.295019</td>\n",
       "      <td>-0.859709</td>\n",
       "      <td>0.214678</td>\n",
       "      <td>1.074387</td>\n",
       "      <td>25.479941</td>\n",
       "      <td>24.984913</td>\n",
       "      <td>24.776167</td>\n",
       "      <td>24.178547</td>\n",
       "      <td>24.455772</td>\n",
       "      <td>24.027575</td>\n",
       "      <td>25.235763</td>\n",
       "      <td>25.452580</td>\n",
       "      <td>25.196713</td>\n",
       "      <td>25.997797</td>\n",
       "      <td>25.034226</td>\n",
       "      <td>25.011402</td>\n",
       "    </tr>\n",
       "    <tr>\n",
       "      <th>F13199</th>\n",
       "      <td>F13199</td>\n",
       "      <td>548.3007</td>\n",
       "      <td>24.64</td>\n",
       "      <td>22.28</td>\n",
       "      <td>27.79</td>\n",
       "      <td>12591</td>\n",
       "      <td>124579197</td>\n",
       "      <td>1.0</td>\n",
       "      <td>0.87</td>\n",
       "      <td>7880</td>\n",
       "      <td>13</td>\n",
       "      <td>0.000000</td>\n",
       "      <td>1.887858e+07</td>\n",
       "      <td>0.0</td>\n",
       "      <td>1.445907e+07</td>\n",
       "      <td>0.000000</td>\n",
       "      <td>2.428777e+07</td>\n",
       "      <td>24.060177</td>\n",
       "      <td>24.083186</td>\n",
       "      <td>24.057234</td>\n",
       "      <td>0.023009</td>\n",
       "      <td>-0.002942</td>\n",
       "      <td>-0.025952</td>\n",
       "      <td>24.083383</td>\n",
       "      <td>24.456704</td>\n",
       "      <td>23.640442</td>\n",
       "      <td>24.377426</td>\n",
       "      <td>23.837278</td>\n",
       "      <td>24.034854</td>\n",
       "      <td>22.912001</td>\n",
       "      <td>24.821222</td>\n",
       "      <td>24.438480</td>\n",
       "      <td>16.853358</td>\n",
       "      <td>NaN</td>\n",
       "      <td>NaN</td>\n",
       "    </tr>\n",
       "    <tr>\n",
       "      <th>F13675</th>\n",
       "      <td>F13675</td>\n",
       "      <td>557.3588</td>\n",
       "      <td>25.43</td>\n",
       "      <td>23.59</td>\n",
       "      <td>28.32</td>\n",
       "      <td>12697</td>\n",
       "      <td>4217228</td>\n",
       "      <td>1.0</td>\n",
       "      <td>0.97</td>\n",
       "      <td>587</td>\n",
       "      <td>6</td>\n",
       "      <td>1.000000</td>\n",
       "      <td>NaN</td>\n",
       "      <td>0.0</td>\n",
       "      <td>1.002161e+06</td>\n",
       "      <td>0.333333</td>\n",
       "      <td>1.337436e+06</td>\n",
       "      <td>18.729614</td>\n",
       "      <td>20.247478</td>\n",
       "      <td>19.627557</td>\n",
       "      <td>1.517865</td>\n",
       "      <td>0.897943</td>\n",
       "      <td>-0.619921</td>\n",
       "      <td>18.729614</td>\n",
       "      <td>18.729614</td>\n",
       "      <td>18.729614</td>\n",
       "      <td>20.279506</td>\n",
       "      <td>20.121738</td>\n",
       "      <td>20.341191</td>\n",
       "      <td>18.729614</td>\n",
       "      <td>19.729614</td>\n",
       "      <td>20.423444</td>\n",
       "      <td>NaN</td>\n",
       "      <td>NaN</td>\n",
       "      <td>NaN</td>\n",
       "    </tr>\n",
       "    <tr>\n",
       "      <th>F13861</th>\n",
       "      <td>F13861</td>\n",
       "      <td>486.2846</td>\n",
       "      <td>25.95</td>\n",
       "      <td>24.38</td>\n",
       "      <td>28.84</td>\n",
       "      <td>11788</td>\n",
       "      <td>3788049</td>\n",
       "      <td>1.0</td>\n",
       "      <td>0.84</td>\n",
       "      <td>363</td>\n",
       "      <td>5</td>\n",
       "      <td>0.666667</td>\n",
       "      <td>6.100260e+05</td>\n",
       "      <td>0.0</td>\n",
       "      <td>1.308416e+06</td>\n",
       "      <td>0.666667</td>\n",
       "      <td>1.049975e+06</td>\n",
       "      <td>18.551845</td>\n",
       "      <td>20.548794</td>\n",
       "      <td>18.736633</td>\n",
       "      <td>1.996950</td>\n",
       "      <td>0.184788</td>\n",
       "      <td>-1.812161</td>\n",
       "      <td>18.218511</td>\n",
       "      <td>19.218511</td>\n",
       "      <td>18.218511</td>\n",
       "      <td>19.842435</td>\n",
       "      <td>20.701393</td>\n",
       "      <td>21.102554</td>\n",
       "      <td>18.218511</td>\n",
       "      <td>19.772876</td>\n",
       "      <td>18.218511</td>\n",
       "      <td>NaN</td>\n",
       "      <td>NaN</td>\n",
       "      <td>NaN</td>\n",
       "    </tr>\n",
       "  </tbody>\n",
       "</table>\n",
       "</div>"
      ],
      "text/plain": [
       "       id_number        mz  rtime  rtime_left_base  rtime_right_base  parent_masstrack_id  peak_area  cSelectivity  goodness_fitting    snr  detection_counts  Naive_percNA    Naive_mean  R5neg_percNA    R5neg_mean  R5pos_percNA    R5pos_mean  gMean_Naive  gMean_R5neg  gMean_R5pos  log2FC_R5negvsNaive  log2FC_R5posvsNaive  log2FC_R5posvsR5neg    Naive_1    Naive_2    Naive_3    R5neg_1    R5neg_2    R5neg_3    R5pos_1    R5pos_2    R5pos_3       nist  q3June2014_1  q3June2014_2\n",
       "F10769    F10769  372.7447  25.17            23.59             28.32                 9930    2649961           1.0              0.99    456                 5      0.333333  6.073210e+05           0.0  8.143117e+05      1.000000           NaN    18.873931    19.879238    18.184479             1.005307            -0.689452            -1.694759  19.184479  19.252834  18.184479  19.429964  20.426192  19.781558  18.184479  18.184479  18.184479        NaN           NaN           NaN\n",
       "F11541    F11541  384.7631  38.83            36.20             41.72                10150  748661750           1.0              0.97  86549                22      0.000000  3.824048e+07           0.0  1.591458e+07      0.000000  5.196974e+07    25.080340    24.220631    25.295019            -0.859709             0.214678             1.074387  25.479941  24.984913  24.776167  24.178547  24.455772  24.027575  25.235763  25.452580  25.196713  25.997797     25.034226     25.011402\n",
       "F13199    F13199  548.3007  24.64            22.28             27.79                12591  124579197           1.0              0.87   7880                13      0.000000  1.887858e+07           0.0  1.445907e+07      0.000000  2.428777e+07    24.060177    24.083186    24.057234             0.023009            -0.002942            -0.025952  24.083383  24.456704  23.640442  24.377426  23.837278  24.034854  22.912001  24.821222  24.438480  16.853358           NaN           NaN\n",
       "F13675    F13675  557.3588  25.43            23.59             28.32                12697    4217228           1.0              0.97    587                 6      1.000000           NaN           0.0  1.002161e+06      0.333333  1.337436e+06    18.729614    20.247478    19.627557             1.517865             0.897943            -0.619921  18.729614  18.729614  18.729614  20.279506  20.121738  20.341191  18.729614  19.729614  20.423444        NaN           NaN           NaN\n",
       "F13861    F13861  486.2846  25.95            24.38             28.84                11788    3788049           1.0              0.84    363                 5      0.666667  6.100260e+05           0.0  1.308416e+06      0.666667  1.049975e+06    18.551845    20.548794    18.736633             1.996950             0.184788            -1.812161  18.218511  19.218511  18.218511  19.842435  20.701393  21.102554  18.218511  19.772876  18.218511        NaN           NaN           NaN"
      ]
     },
     "execution_count": 191,
     "metadata": {},
     "output_type": "execute_result"
    }
   ],
   "source": [
    "sel_final_df = FC_log2_TICnorm_imphMin_feat_df.loc[FC_log2_TICnorm_imphMin_feat_df['id_number'].isin(id_numbers),:];sel_final_df.head()"
   ]
  },
  {
   "cell_type": "code",
   "execution_count": 192,
   "id": "03b639b2-9465-43aa-a957-3379680c1988",
   "metadata": {
    "tags": []
   },
   "outputs": [],
   "source": [
    "sel_final_df.to_csv(\n",
    "        os.path.join(output_dir,\n",
    "                       f\"putative_PS_species_FC_log2_hMinImp_TICnorm_groupFil{group_percNA_threshold}_{mode}_featab.csv\"),index = False)"
   ]
  },
  {
   "cell_type": "markdown",
   "id": "077c0f9e-7e57-498a-ac44-ff157468e8ed",
   "metadata": {},
   "source": [
    "-------"
   ]
  },
  {
   "cell_type": "markdown",
   "id": "4bd19c08-a4d1-4a1c-8422-f6fb89505c05",
   "metadata": {},
   "source": [
    "-------"
   ]
  },
  {
   "cell_type": "markdown",
   "id": "3426e2de-efc3-436a-b6f9-33f7ffb2375a",
   "metadata": {},
   "source": [
    "-------"
   ]
  },
  {
   "cell_type": "markdown",
   "id": "01bf04f7-21d7-40d4-bdf7-4f9e7739a36b",
   "metadata": {},
   "source": [
    "-------"
   ]
  },
  {
   "cell_type": "markdown",
   "id": "365399ed-067d-449a-9201-8894ba4a9649",
   "metadata": {},
   "source": [
    "# Normality test\n",
    "- Shapiro-Wilk Test"
   ]
  },
  {
   "cell_type": "markdown",
   "id": "412d21c0-cd38-4133-938e-cc355bd3eb4d",
   "metadata": {
    "tags": []
   },
   "source": [
    "### TICnorm Imputated and report gMean"
   ]
  },
  {
   "cell_type": "code",
   "execution_count": 174,
   "id": "76ca4e59-3322-4759-8626-617115c2830a",
   "metadata": {
    "tags": []
   },
   "outputs": [],
   "source": [
    "# !pip install scipy"
   ]
  },
  {
   "cell_type": "code",
   "execution_count": 175,
   "id": "5ff2e911-110f-48a8-9659-75b109a28ac8",
   "metadata": {},
   "outputs": [],
   "source": [
    "from scipy.stats import shapiro"
   ]
  },
  {
   "cell_type": "code",
   "execution_count": 176,
   "id": "26b7cbb2-aae1-4381-abbb-a30d228d13cc",
   "metadata": {},
   "outputs": [],
   "source": [
    "def SW_normality_test(data_df):\n",
    "    '''\n",
    "    index must be feature ID\n",
    "    '''\n",
    "    norm_tests_list = data_df.apply(lambda x: shapiro(x), axis = 1)\n",
    "    norm_df = pd.DataFrame({'pval':[x[0] for x in norm_tests_list],\n",
    "                             'stat':[x[1] for x in norm_tests_list]},\n",
    "                             index = norm_tests_list.index)\n",
    "    return(norm_df)"
   ]
  },
  {
   "cell_type": "markdown",
   "id": "83eada2b-67d6-49f6-b8ab-ae4020e9cd89",
   "metadata": {},
   "source": [
    "--------\n",
    "# since there are small sample size, drop this analysis for this dataset"
   ]
  },
  {
   "cell_type": "markdown",
   "id": "5cbf08a5-80be-4763-be89-af95e2a1287c",
   "metadata": {},
   "source": [
    "------"
   ]
  }
 ],
 "metadata": {
  "kernelspec": {
   "display_name": "Python 3 (ipykernel)",
   "language": "python",
   "name": "python3"
  },
  "language_info": {
   "codemirror_mode": {
    "name": "ipython",
    "version": 3
   },
   "file_extension": ".py",
   "mimetype": "text/x-python",
   "name": "python",
   "nbconvert_exporter": "python",
   "pygments_lexer": "ipython3",
   "version": "3.10.9"
  }
 },
 "nbformat": 4,
 "nbformat_minor": 5
}
