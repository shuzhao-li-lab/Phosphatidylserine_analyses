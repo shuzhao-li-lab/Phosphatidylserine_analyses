{
 "cells": [
  {
   "cell_type": "markdown",
   "id": "218d71f2-4c71-48ca-bec0-fad594006edd",
   "metadata": {},
   "source": [
    "# MS1 annotations\n",
    "- The script for in-silico prediction & identifying isotopolgues was kindly provided by Joshua Mitchell\n",
    "- 03272023"
   ]
  },
  {
   "cell_type": "markdown",
   "id": "8b03e274-2ec1-4885-bc5c-0321b765932a",
   "metadata": {
    "tags": []
   },
   "source": [
    "## Run th search"
   ]
  },
  {
   "cell_type": "code",
   "execution_count": 126,
   "id": "78fcac18-6639-4a4a-9903-aa93bd907e36",
   "metadata": {
    "tags": []
   },
   "outputs": [],
   "source": [
    "!python3  PS_Lipid_Generator_and_Search.py ../../../asari-output-RPneg/output_asari_project_32322133_wtStemCell/export/full_Feature_table.tsv \\\n",
    "../../../target_list/PS-target-list-singular-M-H_corr.csv"
   ]
  },
  {
   "cell_type": "markdown",
   "id": "ac10dc7f-8691-47a4-b826-37ca6bb9da61",
   "metadata": {
    "tags": []
   },
   "source": [
    "##### Summary: This will generate json output that provides in-silico results & isotopologue results"
   ]
  },
  {
   "cell_type": "markdown",
   "id": "8dbf10bb-3eed-44fe-b27d-0a5dcaa1920e",
   "metadata": {},
   "source": [
    "## Incorporate In-silico prediction & isotopologue search"
   ]
  },
  {
   "cell_type": "code",
   "execution_count": 127,
   "id": "a3372557-f8cd-4758-864f-153721b0466b",
   "metadata": {},
   "outputs": [],
   "source": [
    "!pip install -q --upgrade mass2chem khipu-metabolomics jms-metabolite-services"
   ]
  },
  {
   "cell_type": "code",
   "execution_count": 128,
   "id": "9871f3ee-3971-4247-979a-5690210575e1",
   "metadata": {
    "tags": []
   },
   "outputs": [],
   "source": [
    "import json\n",
    "import numpy as np\n",
    "import pandas as pd\n",
    "\n",
    "from mass2chem.search import build_centurion_tree, find_all_matches_centurion_indexed_list"
   ]
  },
  {
   "cell_type": "code",
   "execution_count": 129,
   "id": "9b97e5fb-217f-4304-bb4c-a441943c667c",
   "metadata": {
    "tags": []
   },
   "outputs": [],
   "source": [
    "## missing the rtime range parameters\n",
    "df_feat = pd.read_csv(\"../../../asari-output-RPneg/output_asari_project_32322133_wtStemCell/export/full_Feature_table.tsv\",\n",
    "                      sep = '\\t', index_col=0)"
   ]
  },
  {
   "cell_type": "code",
   "execution_count": 130,
   "id": "0dedd545-837f-4940-9db1-302f5bfc32ed",
   "metadata": {
    "tags": []
   },
   "outputs": [],
   "source": [
    "annot_dict = {}\n",
    "for ftID,row in df_feat.iterrows():\n",
    "    annot_dict.update({ftID:{}})\n",
    "    annot_dict[ftID]['mz'] = row['mz']\n",
    "    annot_dict[ftID]['rtime'] = row['rtime']\n",
    "    annot_dict[ftID]['rtime_left_base'] = row['rtime_left_base']\n",
    "    annot_dict[ftID]['rtime_right_base'] = row['rtime_right_base']\n",
    "    annot_dict[ftID]['cSelectivity'] = row['cSelectivity']\n",
    "    annot_dict[ftID]['goodness_fitting'] = row['goodness_fitting']\n",
    "    annot_dict[ftID]['snr'] = row['snr']\n",
    "    annot_dict[ftID]['annotation_evidence'] = {}"
   ]
  },
  {
   "cell_type": "code",
   "execution_count": 131,
   "id": "783636a6-33d3-4f3c-b898-a15c11b8138e",
   "metadata": {
    "tags": []
   },
   "outputs": [],
   "source": [
    "with open(\"./theoretical_PS_search_results_MG_3_27_2023_v2.json\") as f:\n",
    "    PS2feature = json.load(f)"
   ]
  },
  {
   "cell_type": "code",
   "execution_count": 132,
   "id": "13d4ede1-8568-42a5-9964-0efbd931dd33",
   "metadata": {
    "tags": []
   },
   "outputs": [],
   "source": [
    "new_feat_list = []\n",
    "iso_feat_list = []\n",
    "for item in PS2feature:\n",
    "    if len(item['mz_only_hits'])>0:\n",
    "        new_feat_list.append(item)\n",
    "        if 'hits_isotopologue_chain' in item:\n",
    "            iso_feat_list.append(item)"
   ]
  },
  {
   "cell_type": "code",
   "execution_count": 133,
   "id": "1a292142-f120-4bce-9e2c-7c059dc05468",
   "metadata": {
    "tags": []
   },
   "outputs": [
    {
     "data": {
      "text/plain": [
       "{'name': 'PS 11:6',\n",
       " 'neutral_mass': 429.08248284315,\n",
       " 'formula': 'C17H20NO10P',\n",
       " 'formula_dict': {'C': 17, 'H': 20, 'O': 10, 'N': 1, 'P': 1},\n",
       " 'isomers': [],\n",
       " '[M-H+e]': 428.07520639082907,\n",
       " 'mz_only_hits': ['F1376']}"
      ]
     },
     "execution_count": 133,
     "metadata": {},
     "output_type": "execute_result"
    }
   ],
   "source": [
    "new_feat_list[0]"
   ]
  },
  {
   "cell_type": "code",
   "execution_count": 134,
   "id": "d23eed55-5876-487e-8864-40ced2e1b4c3",
   "metadata": {
    "tags": []
   },
   "outputs": [],
   "source": [
    "feat_wt_matches_dict = {}\n",
    "for item in new_feat_list:\n",
    "    for featID in item['mz_only_hits']:\n",
    "        temp_dict = {featID: {k:v for k,v in item.items() if 'mz_only_hits' not in k}}\n",
    "        \n",
    "        temp_dict[featID]['annotation_evidence'] = {'in-silico': \"1\"}\n",
    "        \n",
    "        feat_wt_matches_dict.update(temp_dict)"
   ]
  },
  {
   "cell_type": "code",
   "execution_count": 135,
   "id": "96262488-4d28-41c6-80e5-0db706a6b6ce",
   "metadata": {
    "tags": []
   },
   "outputs": [
    {
     "data": {
      "text/plain": [
       "('F3794',\n",
       " {'name': 'PS 12:3',\n",
       "  'neutral_mass': 449.14508310099,\n",
       "  'formula': 'C18H28NO10P',\n",
       "  'formula_dict': {'C': 18, 'H': 28, 'O': 10, 'N': 1, 'P': 1},\n",
       "  'isomers': [],\n",
       "  '[M-H+e]': 448.1378066486691,\n",
       "  'annotation_evidence': {'in-silico': '1'}})"
      ]
     },
     "execution_count": 135,
     "metadata": {},
     "output_type": "execute_result"
    }
   ],
   "source": [
    "list(feat_wt_matches_dict.items())[1]"
   ]
  },
  {
   "cell_type": "code",
   "execution_count": 136,
   "id": "ca65a0c9-e228-485f-8173-9d8e4a4c3764",
   "metadata": {
    "tags": []
   },
   "outputs": [
    {
     "name": "stdout",
     "output_type": "stream",
     "text": [
      "1699\n"
     ]
    }
   ],
   "source": [
    "print(len(list(feat_wt_matches_dict.items())))"
   ]
  },
  {
   "cell_type": "code",
   "execution_count": 137,
   "id": "bc7beb2a-4dc0-45c4-bd70-c3db6608df1b",
   "metadata": {
    "tags": []
   },
   "outputs": [],
   "source": [
    "feat_wt_isotopes_found = []\n",
    "for item in iso_feat_list:\n",
    "    for featID,v in item['hits_isotopologue_chain'].items():\n",
    "        feat_wt_matches_dict[featID]['annotation_evidence']['isotopes'] = \\\n",
    "                len(v.keys())-1"
   ]
  },
  {
   "cell_type": "code",
   "execution_count": 138,
   "id": "84c09e8e-a606-4915-a7c0-8ed3b360ad7b",
   "metadata": {
    "tags": []
   },
   "outputs": [],
   "source": [
    "for k,v in annot_dict.items():\n",
    "    if k in feat_wt_matches_dict:\n",
    "        annot_dict[k].update(feat_wt_matches_dict[k])"
   ]
  },
  {
   "cell_type": "markdown",
   "id": "c64d394e-4374-4166-9521-c32c8e05e2e0",
   "metadata": {
    "tags": []
   },
   "source": [
    "## incorporate lipidmaps experimental database"
   ]
  },
  {
   "cell_type": "code",
   "execution_count": 139,
   "id": "7cc0e653-54df-41b3-a5db-8e3278355e2f",
   "metadata": {
    "tags": []
   },
   "outputs": [],
   "source": [
    "annot_df = pd.read_csv(\"../../../asari-output-RPneg/output_asari_project_32322133_wtStemCell/Feature_annotation.tsv\", sep = '\\t')\n",
    "target_df = pd.read_excel(\"../../../target_list/PS_target_list_to_Minghao_corr.xlsx\")"
   ]
  },
  {
   "cell_type": "code",
   "execution_count": 140,
   "id": "fff0c9f3-cf0a-4802-b2e8-1bb1ad7e0baa",
   "metadata": {},
   "outputs": [],
   "source": [
    "annot_df.index = annot_df['[peak]id_number']\n",
    "\n",
    "# Drop duplicate rows based on index\n",
    "annot_df = annot_df.loc[~annot_df.index.duplicated(keep='first')]\n",
    "\n",
    "# Convert selected columns to a dictionary with unique index as keys\n",
    "features = [{'id':row['[peak]id_number'],\n",
    "             'mz':row['mz'],\n",
    "             'rt':row['rtime']} for i,row in annot_df.iterrows()]"
   ]
  },
  {
   "cell_type": "code",
   "execution_count": 141,
   "id": "428283bc-46f0-4c95-9a6f-3161480a11e5",
   "metadata": {
    "tags": []
   },
   "outputs": [
    {
     "data": {
      "text/plain": [
       "[{'id': 'F1590', 'mz': 371.02978515625, 'rt': 21.611541534},\n",
       " {'id': 'F4755', 'mz': 486.027961730957, 'rt': 19.48260084799998}]"
      ]
     },
     "execution_count": 141,
     "metadata": {},
     "output_type": "execute_result"
    }
   ],
   "source": [
    "features[0:2]"
   ]
  },
  {
   "cell_type": "code",
   "execution_count": 142,
   "id": "ae5554c8-9f61-460f-a002-41ec4ea89781",
   "metadata": {
    "tags": []
   },
   "outputs": [],
   "source": [
    "sim_targeted_df = target_df.loc[:,['Species Shorthand','Formula','Neutral_Mass','[M-H]-']].drop_duplicates()"
   ]
  },
  {
   "cell_type": "code",
   "execution_count": 143,
   "id": "895f1970-bac4-4147-b645-6686ad89475d",
   "metadata": {
    "tags": []
   },
   "outputs": [
    {
     "data": {
      "text/plain": [
       "260"
      ]
     },
     "execution_count": 143,
     "metadata": {},
     "output_type": "execute_result"
    }
   ],
   "source": [
    "sim_targeted_df.shape[0]"
   ]
  },
  {
   "cell_type": "code",
   "execution_count": 144,
   "id": "3901e5b5-f302-4ee4-800d-fff5778f69e9",
   "metadata": {
    "tags": []
   },
   "outputs": [
    {
     "data": {
      "text/plain": [
       "252"
      ]
     },
     "execution_count": 144,
     "metadata": {},
     "output_type": "execute_result"
    }
   ],
   "source": [
    "len(set(sim_targeted_df['[M-H]-']))"
   ]
  },
  {
   "cell_type": "code",
   "execution_count": 145,
   "id": "8c284a58-dda7-4778-8d52-bcf7fe1311e6",
   "metadata": {
    "tags": []
   },
   "outputs": [],
   "source": [
    "mztree = build_centurion_tree(features)\n",
    "sim_targeted_df.index = sim_targeted_df['Species Shorthand']"
   ]
  },
  {
   "cell_type": "code",
   "execution_count": 146,
   "id": "af58a185-21e1-413a-845f-00881e7e5844",
   "metadata": {
    "tags": []
   },
   "outputs": [],
   "source": [
    "target_dict = sim_targeted_df.to_dict(orient=\"index\")"
   ]
  },
  {
   "cell_type": "code",
   "execution_count": 147,
   "id": "f7fdc03b-a316-4e20-9e2a-fc71d456ebeb",
   "metadata": {
    "tags": []
   },
   "outputs": [
    {
     "data": {
      "text/plain": [
       "('PS 25:0',\n",
       " {'Species Shorthand': 'PS 25:0',\n",
       "  'Formula': 'C31H60NO10P',\n",
       "  'Neutral_Mass': 637.395487,\n",
       "  '[M-H]-': 636.38821053323})"
      ]
     },
     "execution_count": 147,
     "metadata": {},
     "output_type": "execute_result"
    }
   ],
   "source": [
    "list(target_dict.items())[0]"
   ]
  },
  {
   "cell_type": "code",
   "execution_count": 148,
   "id": "16eba543-46b9-4bf8-98b3-32ebb8ae3179",
   "metadata": {
    "tags": []
   },
   "outputs": [
    {
     "name": "stdout",
     "output_type": "stream",
     "text": [
      "113\n"
     ]
    }
   ],
   "source": [
    "dict_PS = {}\n",
    "for k,v in target_dict.items():\n",
    "    match = find_all_matches_centurion_indexed_list(v['[M-H]-'], mztree, 5)\n",
    "    if match:\n",
    "        v['matched'] = match\n",
    "        v['id_numbers'] = [x['id'] for x in v['matched']]\n",
    "        dict_PS.update({k:v})\n",
    "        \n",
    "print(len(dict_PS))"
   ]
  },
  {
   "cell_type": "code",
   "execution_count": 149,
   "id": "91178685-3052-4138-857d-df0e15f84eb8",
   "metadata": {
    "tags": []
   },
   "outputs": [
    {
     "data": {
      "text/plain": [
       "[{'PS 40:6': {'Species Shorthand': 'PS 40:6',\n",
       "   'Formula': 'C46H78NO10P',\n",
       "   'Neutral_Mass': 835.536337,\n",
       "   '[M-H]-': 834.52906053323,\n",
       "   'matched': [{'id': 'F15159',\n",
       "     'mz': 834.5291442871094,\n",
       "     'rt': 308.1190798069998},\n",
       "    {'id': 'F15158', 'mz': 834.5291442871094, 'rt': 301.513494207},\n",
       "    {'id': 'F15157', 'mz': 834.5291442871094, 'rt': 262.332738222},\n",
       "    {'id': 'F15160', 'mz': 834.5291442871094, 'rt': 341.13437214299995},\n",
       "    {'id': 'F15161', 'mz': 834.5291442871094, 'rt': 342.167908254}],\n",
       "   'id_numbers': ['F15159', 'F15158', 'F15157', 'F15160', 'F15161']}}]"
      ]
     },
     "execution_count": 149,
     "metadata": {},
     "output_type": "execute_result"
    }
   ],
   "source": [
    "# benchmarked PS species\n",
    "[{k:v} for k,v in dict_PS.items() if 'PS 40:6' in k]"
   ]
  },
  {
   "cell_type": "code",
   "execution_count": 150,
   "id": "168fa308-9fe8-4c72-a92d-454c26c594f7",
   "metadata": {
    "tags": []
   },
   "outputs": [],
   "source": [
    "reshuffled_dict = {}\n",
    "\n",
    "for k, v in dict_PS.items():\n",
    "    for item in v['matched']:\n",
    "        ion_relation = item.get('ion_relation') # .get() this can avoid empty of the ion_relation!\n",
    "        reshuffled_dict[item['id']] = {\n",
    "            'FTID': item['id'],\n",
    "            'formula': v['Formula'],\n",
    "            'neutral_mass': v['Neutral_Mass'],\n",
    "            'short_name': v['Species Shorthand']\n",
    "        }"
   ]
  },
  {
   "cell_type": "code",
   "execution_count": 151,
   "id": "f490b78c-8d9f-4a2e-b4e1-27f6b1ac4ecb",
   "metadata": {
    "tags": []
   },
   "outputs": [],
   "source": [
    "lipid_db_matched_df = pd.DataFrame(reshuffled_dict).transpose()"
   ]
  },
  {
   "cell_type": "code",
   "execution_count": 171,
   "id": "961c9291-df08-4702-9068-1b7c14ad219e",
   "metadata": {
    "tags": []
   },
   "outputs": [
    {
     "data": {
      "text/plain": [
       "(277, 4)"
      ]
     },
     "execution_count": 171,
     "metadata": {},
     "output_type": "execute_result"
    }
   ],
   "source": [
    "lipid_db_matched_df.shape"
   ]
  },
  {
   "cell_type": "code",
   "execution_count": 152,
   "id": "a01b2cba-33bf-4893-86ff-f097aa12ebda",
   "metadata": {
    "tags": []
   },
   "outputs": [
    {
     "data": {
      "text/plain": [
       "('F10004',\n",
       " {'mz': 788.5237,\n",
       "  'rtime': 300.27,\n",
       "  'rtime_left_base': 297.68,\n",
       "  'rtime_right_base': 302.55,\n",
       "  'cSelectivity': 1.0,\n",
       "  'goodness_fitting': 0.96,\n",
       "  'snr': 1060.0,\n",
       "  'annotation_evidence': {'in-silico': '1', 'isotopes': 2},\n",
       "  'name': 'LPS O-39:8',\n",
       "  'neutral_mass': 789.53085540889,\n",
       "  'formula': 'C45H76NO8P',\n",
       "  'formula_dict': {'C': 45, 'H': 76, 'O': 8, 'N': 1, 'P': 1},\n",
       "  'isomers': [],\n",
       "  '[M-H+e]': 788.523578956569,\n",
       "  'hits_isotopologue_chain': {'F10004': {'0': ['F10004'],\n",
       "    '1': ['F10115'],\n",
       "    '2': ['F10183']}}})"
      ]
     },
     "execution_count": 152,
     "metadata": {},
     "output_type": "execute_result"
    }
   ],
   "source": [
    "list(annot_dict.items())[10003]"
   ]
  },
  {
   "cell_type": "code",
   "execution_count": 153,
   "id": "15a87fcc-ab48-45fd-84e6-b57212ec6a06",
   "metadata": {
    "tags": []
   },
   "outputs": [],
   "source": [
    "for ftID,row in lipid_db_matched_df.iterrows():\n",
    "    annot_dict[ftID]['name'] = row['short_name']\n",
    "    annot_dict[ftID]['neutral_mass'] = row['neutral_mass']\n",
    "    annot_dict[ftID]['formula'] = row['formula']\n",
    "    annot_dict[ftID]['annotation_evidence'].update({'LMSD':\"1\"})"
   ]
  },
  {
   "cell_type": "code",
   "execution_count": 154,
   "id": "7354db49-a101-40a7-98d4-dff69b6ae0a8",
   "metadata": {
    "tags": []
   },
   "outputs": [],
   "source": [
    "PSonly_annot_dict = {}\n",
    "for ftID,v in annot_dict.items():\n",
    "    if len(v['annotation_evidence']) > 0:\n",
    "        PSonly_annot_dict.update({ftID:v})"
   ]
  },
  {
   "cell_type": "code",
   "execution_count": 155,
   "id": "a0b2100f-6d45-470c-9527-71b361c190a7",
   "metadata": {
    "tags": []
   },
   "outputs": [
    {
     "data": {
      "text/plain": [
       "1699"
      ]
     },
     "execution_count": 155,
     "metadata": {},
     "output_type": "execute_result"
    }
   ],
   "source": [
    "len(list(PSonly_annot_dict.items()))"
   ]
  },
  {
   "cell_type": "code",
   "execution_count": 156,
   "id": "e870de56-47f9-4ed2-8761-50c0f98e7667",
   "metadata": {
    "tags": []
   },
   "outputs": [
    {
     "data": {
      "text/plain": [
       "33"
      ]
     },
     "execution_count": 156,
     "metadata": {},
     "output_type": "execute_result"
    }
   ],
   "source": [
    "# check for 3-level annotations\n",
    "len([k for k,v in PSonly_annot_dict.items() if len(v['annotation_evidence'].keys()) == 3 ])"
   ]
  },
  {
   "cell_type": "code",
   "execution_count": 157,
   "id": "20b65497-c781-4b76-a8a7-36928ecd51d9",
   "metadata": {
    "tags": []
   },
   "outputs": [],
   "source": [
    "with open(\"./chainable_annotations_v2.json\", \"w\") as f:\n",
    "    json.dump(PSonly_annot_dict, f, indent=2)"
   ]
  },
  {
   "cell_type": "markdown",
   "id": "6ff1ba5d-4a52-475e-b04b-d6ebd68a2c7a",
   "metadata": {},
   "source": [
    "-----"
   ]
  },
  {
   "cell_type": "markdown",
   "id": "ea5a8f17-e965-4fcd-be09-5949cf95ca49",
   "metadata": {},
   "source": [
    "-----"
   ]
  },
  {
   "cell_type": "markdown",
   "id": "bc81692e-da9f-49d4-af0b-f3fc0040bd72",
   "metadata": {},
   "source": [
    "-----"
   ]
  },
  {
   "cell_type": "markdown",
   "id": "2fce32c5-5dae-46ac-8855-764425a801f2",
   "metadata": {
    "tags": []
   },
   "source": [
    "# Check level 1 annotation statistics"
   ]
  },
  {
   "cell_type": "code",
   "execution_count": 186,
   "id": "f0e6351d-f088-40cb-931d-716a61191421",
   "metadata": {
    "tags": []
   },
   "outputs": [],
   "source": [
    "comp_feats = [k for k,v in PSonly_annot_dict.items() \n",
    "     if \"in-silico\" in v['annotation_evidence'].keys() ]"
   ]
  },
  {
   "cell_type": "code",
   "execution_count": 187,
   "id": "a173821c-38ef-4f83-98ca-7ea2dd51710d",
   "metadata": {
    "tags": []
   },
   "outputs": [],
   "source": [
    "lipidmaps_feats = [k for k,v in PSonly_annot_dict.items() \n",
    "     if \"LMSD\" in v['annotation_evidence'].keys() ]"
   ]
  },
  {
   "cell_type": "code",
   "execution_count": 188,
   "id": "d83e8483-9172-48d0-9a63-004a8a060a46",
   "metadata": {
    "tags": []
   },
   "outputs": [],
   "source": [
    "iso_feats = [k for k,v in PSonly_annot_dict.items() \n",
    "     if \"isotopes\" in v['annotation_evidence'].keys() ]"
   ]
  },
  {
   "cell_type": "code",
   "execution_count": 189,
   "id": "7703aa18-d616-4099-9fbd-03384bb06bb3",
   "metadata": {
    "tags": []
   },
   "outputs": [
    {
     "data": {
      "text/plain": [
       "1699"
      ]
     },
     "execution_count": 189,
     "metadata": {},
     "output_type": "execute_result"
    }
   ],
   "source": [
    "len(comp_feats)"
   ]
  },
  {
   "cell_type": "code",
   "execution_count": 190,
   "id": "ba82f742-f387-4efe-a11a-69fbdc980bb0",
   "metadata": {
    "tags": []
   },
   "outputs": [
    {
     "data": {
      "text/plain": [
       "277"
      ]
     },
     "execution_count": 190,
     "metadata": {},
     "output_type": "execute_result"
    }
   ],
   "source": [
    "len(lipidmaps_feats)"
   ]
  },
  {
   "cell_type": "code",
   "execution_count": 191,
   "id": "656ba597-bd28-4d52-b156-98561639f181",
   "metadata": {
    "tags": []
   },
   "outputs": [
    {
     "data": {
      "text/plain": [
       "332"
      ]
     },
     "execution_count": 191,
     "metadata": {},
     "output_type": "execute_result"
    }
   ],
   "source": [
    "len(iso_feats)"
   ]
  },
  {
   "cell_type": "code",
   "execution_count": 192,
   "id": "f2260c4f-5f43-48b3-9004-348631e729ad",
   "metadata": {
    "tags": []
   },
   "outputs": [
    {
     "data": {
      "text/plain": [
       "33"
      ]
     },
     "execution_count": 192,
     "metadata": {},
     "output_type": "execute_result"
    }
   ],
   "source": [
    "len(set(iso_feats).intersection(set(lipidmaps_feats)))"
   ]
  },
  {
   "cell_type": "code",
   "execution_count": 193,
   "id": "4fc0972d-8617-42ac-9eaa-b06e9f4ead7d",
   "metadata": {
    "tags": []
   },
   "outputs": [
    {
     "data": {
      "text/plain": [
       "277"
      ]
     },
     "execution_count": 193,
     "metadata": {},
     "output_type": "execute_result"
    }
   ],
   "source": [
    "len(set(comp_feats).intersection(set(lipidmaps_feats)))"
   ]
  },
  {
   "cell_type": "code",
   "execution_count": 194,
   "id": "9041be52-8481-4b9f-878e-7ab4a4443c3c",
   "metadata": {
    "tags": []
   },
   "outputs": [
    {
     "data": {
      "text/plain": [
       "332"
      ]
     },
     "execution_count": 194,
     "metadata": {},
     "output_type": "execute_result"
    }
   ],
   "source": [
    "len(set(iso_feats).intersection(set(comp_feats)))"
   ]
  }
 ],
 "metadata": {
  "kernelspec": {
   "display_name": "Python 3 (ipykernel)",
   "language": "python",
   "name": "python3"
  },
  "language_info": {
   "codemirror_mode": {
    "name": "ipython",
    "version": 3
   },
   "file_extension": ".py",
   "mimetype": "text/x-python",
   "name": "python",
   "nbconvert_exporter": "python",
   "pygments_lexer": "ipython3",
   "version": "3.10.9"
  }
 },
 "nbformat": 4,
 "nbformat_minor": 5
}
