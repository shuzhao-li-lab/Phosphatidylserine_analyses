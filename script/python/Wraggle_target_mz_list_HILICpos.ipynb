{
 "cells": [
  {
   "cell_type": "markdown",
   "id": "81740710-c6c6-4188-9e2e-e5da030c4ebe",
   "metadata": {},
   "source": [
    "# Wraggle the target list of PS"
   ]
  },
  {
   "cell_type": "markdown",
   "id": "ead06a2c-5df0-41cc-ab2a-24968e2ad302",
   "metadata": {},
   "source": [
    "https://github.com/shuzhao-li/mass2chem/blob/master/mass2chem/adducts.py"
   ]
  },
  {
   "cell_type": "markdown",
   "id": "e75c94a9-7350-431a-b84f-2c0ae9e353b0",
   "metadata": {},
   "source": [
    "# Positive_mode"
   ]
  },
  {
   "cell_type": "code",
   "execution_count": 53,
   "id": "842a0a0c-5511-4751-80a6-2dfa52b1353d",
   "metadata": {
    "tags": []
   },
   "outputs": [],
   "source": [
    "PROTON = 1.00727646677"
   ]
  },
  {
   "cell_type": "code",
   "execution_count": 8,
   "id": "7df3cd0e-2068-432f-9f4d-32e81a7a26f2",
   "metadata": {
    "tags": []
   },
   "outputs": [],
   "source": [
    "def compute_adducts(mw, cFormula):\n",
    "    PROTON = 1.00727646677\n",
    "    adduct_dict = {'M+H[+]': mw + PROTON, \n",
    "                   'M+2H[2+]': (mw + PROTON*2)/2,\n",
    "                   'M+NH4[+]': mw + 17.0265 + PROTON,\n",
    "                   'M+H-H2O[+]': mw - 18.0106 + PROTON,\n",
    "                   'M+Na[+]': mw + 21.9820 + PROTON}\n",
    "    return adduct_dict[cFormula]"
   ]
  },
  {
   "cell_type": "code",
   "execution_count": 2,
   "id": "f2d7090b-cf05-4b7f-9623-bae19f7ef081",
   "metadata": {
    "tags": []
   },
   "outputs": [],
   "source": [
    "import pandas as pd"
   ]
  },
  {
   "cell_type": "code",
   "execution_count": 10,
   "id": "6393df8a-46d1-4568-af77-361f5be7bcb0",
   "metadata": {},
   "outputs": [],
   "source": [
    "PS_target_df = pd.read_excel(\"../../input/HILICpos_mzML/PS_target_list_to_Minghao.xlsx\")"
   ]
  },
  {
   "cell_type": "code",
   "execution_count": 24,
   "id": "e16cc059-dd0d-4177-8311-1e6ab8f842c4",
   "metadata": {
    "tags": []
   },
   "outputs": [],
   "source": [
    "targeted_adducts = ['M+H[+]','M+2H[2+]','M+NH4[+]','M+H-H2O[+]','M+Na[+]']"
   ]
  },
  {
   "cell_type": "code",
   "execution_count": 25,
   "id": "a1b3430f-9a1d-4829-a6fb-8906e0273e8b",
   "metadata": {
    "tags": []
   },
   "outputs": [],
   "source": [
    "columns = ['Species Shorthand','Formula','Common Name']"
   ]
  },
  {
   "cell_type": "code",
   "execution_count": 41,
   "id": "b1bfffcc-0797-4b74-b643-b3834e601d61",
   "metadata": {
    "tags": []
   },
   "outputs": [],
   "source": [
    "final_df = pd.DataFrame()\n",
    "for cFormula in targeted_adducts:\n",
    "    temp_df = PS_target_df.loc[:,columns]\n",
    "    temp_df['adduct_type'] = cFormula\n",
    "    temp_df['mz'] = temp_df['Formula'].apply(lambda x: compute_adducts(x, cFormula))\n",
    "    final_df = pd.concat([final_df,temp_df],axis = 0)"
   ]
  },
  {
   "cell_type": "code",
   "execution_count": 42,
   "id": "1aacd607-8c81-4c53-9c23-db8524f10145",
   "metadata": {
    "tags": []
   },
   "outputs": [
    {
     "data": {
      "text/html": [
       "<div>\n",
       "<style scoped>\n",
       "    .dataframe tbody tr th:only-of-type {\n",
       "        vertical-align: middle;\n",
       "    }\n",
       "\n",
       "    .dataframe tbody tr th {\n",
       "        vertical-align: top;\n",
       "    }\n",
       "\n",
       "    .dataframe thead th {\n",
       "        text-align: right;\n",
       "    }\n",
       "</style>\n",
       "<table border=\"1\" class=\"dataframe\">\n",
       "  <thead>\n",
       "    <tr style=\"text-align: right;\">\n",
       "      <th></th>\n",
       "      <th>Species Shorthand</th>\n",
       "      <th>Formula</th>\n",
       "      <th>Common Name</th>\n",
       "      <th>adduct_type</th>\n",
       "      <th>mz</th>\n",
       "    </tr>\n",
       "  </thead>\n",
       "  <tbody>\n",
       "    <tr>\n",
       "      <th>0</th>\n",
       "      <td>PS 25:0</td>\n",
       "      <td>637.395487</td>\n",
       "      <td>PS(12:0/13:0)</td>\n",
       "      <td>M+H[+]</td>\n",
       "      <td>638.402763</td>\n",
       "    </tr>\n",
       "    <tr>\n",
       "      <th>1</th>\n",
       "      <td>PS 37:4</td>\n",
       "      <td>797.520687</td>\n",
       "      <td>PS(17:0/20:4(5Z,8Z,11Z,14Z))</td>\n",
       "      <td>M+H[+]</td>\n",
       "      <td>798.527963</td>\n",
       "    </tr>\n",
       "    <tr>\n",
       "      <th>2</th>\n",
       "      <td>PS 43:6</td>\n",
       "      <td>877.583287</td>\n",
       "      <td>PS(21:0/22:6(4Z,7Z,10Z,13Z,16Z,19Z))</td>\n",
       "      <td>M+H[+]</td>\n",
       "      <td>878.590563</td>\n",
       "    </tr>\n",
       "    <tr>\n",
       "      <th>3</th>\n",
       "      <td>PS 31:1</td>\n",
       "      <td>719.473737</td>\n",
       "      <td>PS(17:0/14:1(9Z))</td>\n",
       "      <td>M+H[+]</td>\n",
       "      <td>720.481013</td>\n",
       "    </tr>\n",
       "    <tr>\n",
       "      <th>4</th>\n",
       "      <td>PS 34:1</td>\n",
       "      <td>761.520687</td>\n",
       "      <td>PS(16:0/18:1(11Z))</td>\n",
       "      <td>M+H[+]</td>\n",
       "      <td>762.527963</td>\n",
       "    </tr>\n",
       "    <tr>\n",
       "      <th>...</th>\n",
       "      <td>...</td>\n",
       "      <td>...</td>\n",
       "      <td>...</td>\n",
       "      <td>...</td>\n",
       "      <td>...</td>\n",
       "    </tr>\n",
       "    <tr>\n",
       "      <th>1212</th>\n",
       "      <td>LPS O-29:1;O</td>\n",
       "      <td>679.478822</td>\n",
       "      <td>1-(2-methoxy-21Z-octacosenyl)-sn-glycero-3-pho...</td>\n",
       "      <td>M+Na[+]</td>\n",
       "      <td>702.468098</td>\n",
       "    </tr>\n",
       "    <tr>\n",
       "      <th>1213</th>\n",
       "      <td>LPS O-27:2;O</td>\n",
       "      <td>649.431872</td>\n",
       "      <td>1-(2-methoxy-5Z,9Z-hexacosadienyl)-sn-glycero-...</td>\n",
       "      <td>M+Na[+]</td>\n",
       "      <td>672.421148</td>\n",
       "    </tr>\n",
       "    <tr>\n",
       "      <th>1214</th>\n",
       "      <td>LPS O-27:2;O</td>\n",
       "      <td>649.431872</td>\n",
       "      <td>1-(2-methoxy-5Z,19Z-hexacosadienyl)-sn-glycero...</td>\n",
       "      <td>M+Na[+]</td>\n",
       "      <td>672.421148</td>\n",
       "    </tr>\n",
       "    <tr>\n",
       "      <th>1215</th>\n",
       "      <td>LPS O-29:2;O</td>\n",
       "      <td>677.463172</td>\n",
       "      <td>1-(2-methoxy-7Z,21Z-octacosadienyl)-sn-glycero...</td>\n",
       "      <td>M+Na[+]</td>\n",
       "      <td>700.452448</td>\n",
       "    </tr>\n",
       "    <tr>\n",
       "      <th>1216</th>\n",
       "      <td>PS 44:10</td>\n",
       "      <td>883.536337</td>\n",
       "      <td>PS(22:4(7Z,10Z,13Z,16Z)/22:6(4Z,7Z,10Z,13Z,16Z...</td>\n",
       "      <td>M+Na[+]</td>\n",
       "      <td>906.525613</td>\n",
       "    </tr>\n",
       "  </tbody>\n",
       "</table>\n",
       "<p>6085 rows × 5 columns</p>\n",
       "</div>"
      ],
      "text/plain": [
       "     Species Shorthand     Formula  \\\n",
       "0              PS 25:0  637.395487   \n",
       "1              PS 37:4  797.520687   \n",
       "2              PS 43:6  877.583287   \n",
       "3              PS 31:1  719.473737   \n",
       "4              PS 34:1  761.520687   \n",
       "...                ...         ...   \n",
       "1212      LPS O-29:1;O  679.478822   \n",
       "1213      LPS O-27:2;O  649.431872   \n",
       "1214      LPS O-27:2;O  649.431872   \n",
       "1215      LPS O-29:2;O  677.463172   \n",
       "1216          PS 44:10  883.536337   \n",
       "\n",
       "                                            Common Name adduct_type  \\\n",
       "0                                         PS(12:0/13:0)      M+H[+]   \n",
       "1                          PS(17:0/20:4(5Z,8Z,11Z,14Z))      M+H[+]   \n",
       "2                  PS(21:0/22:6(4Z,7Z,10Z,13Z,16Z,19Z))      M+H[+]   \n",
       "3                                     PS(17:0/14:1(9Z))      M+H[+]   \n",
       "4                                    PS(16:0/18:1(11Z))      M+H[+]   \n",
       "...                                                 ...         ...   \n",
       "1212  1-(2-methoxy-21Z-octacosenyl)-sn-glycero-3-pho...     M+Na[+]   \n",
       "1213  1-(2-methoxy-5Z,9Z-hexacosadienyl)-sn-glycero-...     M+Na[+]   \n",
       "1214  1-(2-methoxy-5Z,19Z-hexacosadienyl)-sn-glycero...     M+Na[+]   \n",
       "1215  1-(2-methoxy-7Z,21Z-octacosadienyl)-sn-glycero...     M+Na[+]   \n",
       "1216  PS(22:4(7Z,10Z,13Z,16Z)/22:6(4Z,7Z,10Z,13Z,16Z...     M+Na[+]   \n",
       "\n",
       "              mz  \n",
       "0     638.402763  \n",
       "1     798.527963  \n",
       "2     878.590563  \n",
       "3     720.481013  \n",
       "4     762.527963  \n",
       "...          ...  \n",
       "1212  702.468098  \n",
       "1213  672.421148  \n",
       "1214  672.421148  \n",
       "1215  700.452448  \n",
       "1216  906.525613  \n",
       "\n",
       "[6085 rows x 5 columns]"
      ]
     },
     "execution_count": 42,
     "metadata": {},
     "output_type": "execute_result"
    }
   ],
   "source": [
    "final_df"
   ]
  },
  {
   "cell_type": "code",
   "execution_count": 54,
   "id": "69f80baa-338c-4228-bd63-19e5ae247f27",
   "metadata": {
    "tags": []
   },
   "outputs": [],
   "source": [
    "final_df = final_df.sort_values(['mz','Common Name'])"
   ]
  },
  {
   "cell_type": "code",
   "execution_count": 55,
   "id": "3ae53f64-347e-4819-88c4-ea05d9bcfe7f",
   "metadata": {},
   "outputs": [],
   "source": [
    "final_df = final_df.loc[:,['mz','Species Shorthand','Formula','Common Name','adduct_type']]"
   ]
  },
  {
   "cell_type": "code",
   "execution_count": 56,
   "id": "4d55f92c-a5b3-4f93-abe9-c1b9705425e1",
   "metadata": {
    "tags": []
   },
   "outputs": [],
   "source": [
    "final_df.to_csv(\"../../input/HILICpos_mzML/PS_target_list_pos_mode.txt\", sep = '\\t',index = False)"
   ]
  },
  {
   "cell_type": "markdown",
   "id": "9c955fce-ff9a-42a3-9193-596ec564f6e3",
   "metadata": {},
   "source": [
    "------"
   ]
  },
  {
   "cell_type": "markdown",
   "id": "24a46ddb-6bf2-4983-af68-64cb0e7e0353",
   "metadata": {},
   "source": [
    "------"
   ]
  },
  {
   "cell_type": "markdown",
   "id": "832937df-cd47-4737-8d64-319aba60a509",
   "metadata": {},
   "source": [
    "------"
   ]
  },
  {
   "cell_type": "markdown",
   "id": "48dc7135-f4f9-4029-8ee4-21814c55ef67",
   "metadata": {},
   "source": [
    "# When you have asari targeted extract..."
   ]
  },
  {
   "cell_type": "code",
   "execution_count": 59,
   "id": "74ac7d5a-32e2-49f8-91b6-97953dddaf42",
   "metadata": {
    "tags": []
   },
   "outputs": [],
   "source": [
    "targeted_feat_df = pd.read_csv(\"../../input/HILICpos_mzML/output_asari_project_224113827_targeted_search/targeted_extraction__Feature_table.tsv\", delimiter='\\t')"
   ]
  },
  {
   "cell_type": "code",
   "execution_count": 60,
   "id": "c5ec8eba-2659-4ec6-8109-e26f9db4b806",
   "metadata": {
    "tags": []
   },
   "outputs": [
    {
     "data": {
      "text/html": [
       "<div>\n",
       "<style scoped>\n",
       "    .dataframe tbody tr th:only-of-type {\n",
       "        vertical-align: middle;\n",
       "    }\n",
       "\n",
       "    .dataframe tbody tr th {\n",
       "        vertical-align: top;\n",
       "    }\n",
       "\n",
       "    .dataframe thead th {\n",
       "        text-align: right;\n",
       "    }\n",
       "</style>\n",
       "<table border=\"1\" class=\"dataframe\">\n",
       "  <thead>\n",
       "    <tr style=\"text-align: right;\">\n",
       "      <th></th>\n",
       "      <th>query_target</th>\n",
       "      <th>id_number</th>\n",
       "      <th>mz</th>\n",
       "      <th>rtime</th>\n",
       "      <th>rtime_left_base</th>\n",
       "      <th>rtime_right_base</th>\n",
       "      <th>parent_masstrack_id</th>\n",
       "      <th>peak_area</th>\n",
       "      <th>cSelectivity</th>\n",
       "      <th>goodness_fitting</th>\n",
       "      <th>...</th>\n",
       "      <th>nist_5</th>\n",
       "      <th>q3June2014_1b_1</th>\n",
       "      <th>q3June2014_1b_3</th>\n",
       "      <th>q3June2014_1b_5</th>\n",
       "      <th>q3June2014_2a_1</th>\n",
       "      <th>q3June2014_2a_3</th>\n",
       "      <th>q3June2014_2a_5</th>\n",
       "      <th>q3June2014_2b_1</th>\n",
       "      <th>q3June2014_2b_3</th>\n",
       "      <th>q3June2014_2b_5</th>\n",
       "    </tr>\n",
       "  </thead>\n",
       "  <tbody>\n",
       "    <tr>\n",
       "      <th>0</th>\n",
       "      <td>228.621487</td>\n",
       "      <td>F5597</td>\n",
       "      <td>228.6215</td>\n",
       "      <td>24.90</td>\n",
       "      <td>23.59</td>\n",
       "      <td>27.79</td>\n",
       "      <td>6243</td>\n",
       "      <td>11581986</td>\n",
       "      <td>1.00</td>\n",
       "      <td>0.92</td>\n",
       "      <td>...</td>\n",
       "      <td>0</td>\n",
       "      <td>0</td>\n",
       "      <td>0</td>\n",
       "      <td>0</td>\n",
       "      <td>0</td>\n",
       "      <td>0</td>\n",
       "      <td>0</td>\n",
       "      <td>0</td>\n",
       "      <td>0</td>\n",
       "      <td>0</td>\n",
       "    </tr>\n",
       "    <tr>\n",
       "      <th>1</th>\n",
       "      <td>285.644962</td>\n",
       "      <td>F8342</td>\n",
       "      <td>285.6449</td>\n",
       "      <td>24.12</td>\n",
       "      <td>22.01</td>\n",
       "      <td>25.43</td>\n",
       "      <td>7803</td>\n",
       "      <td>8354554</td>\n",
       "      <td>1.00</td>\n",
       "      <td>0.87</td>\n",
       "      <td>...</td>\n",
       "      <td>0</td>\n",
       "      <td>1880316</td>\n",
       "      <td>1898032</td>\n",
       "      <td>2087381</td>\n",
       "      <td>2028266</td>\n",
       "      <td>1400488</td>\n",
       "      <td>1438950</td>\n",
       "      <td>1530588</td>\n",
       "      <td>1802440</td>\n",
       "      <td>1358006</td>\n",
       "    </tr>\n",
       "    <tr>\n",
       "      <th>2</th>\n",
       "      <td>289.676262</td>\n",
       "      <td>F8901</td>\n",
       "      <td>289.6775</td>\n",
       "      <td>28.84</td>\n",
       "      <td>28.06</td>\n",
       "      <td>30.16</td>\n",
       "      <td>7939</td>\n",
       "      <td>15049385</td>\n",
       "      <td>1.00</td>\n",
       "      <td>0.88</td>\n",
       "      <td>...</td>\n",
       "      <td>0</td>\n",
       "      <td>0</td>\n",
       "      <td>0</td>\n",
       "      <td>0</td>\n",
       "      <td>0</td>\n",
       "      <td>0</td>\n",
       "      <td>0</td>\n",
       "      <td>0</td>\n",
       "      <td>0</td>\n",
       "      <td>0</td>\n",
       "    </tr>\n",
       "    <tr>\n",
       "      <th>3</th>\n",
       "      <td>372.744145</td>\n",
       "      <td>F10769</td>\n",
       "      <td>372.7447</td>\n",
       "      <td>25.17</td>\n",
       "      <td>23.59</td>\n",
       "      <td>28.32</td>\n",
       "      <td>9930</td>\n",
       "      <td>2649961</td>\n",
       "      <td>1.00</td>\n",
       "      <td>0.99</td>\n",
       "      <td>...</td>\n",
       "      <td>0</td>\n",
       "      <td>0</td>\n",
       "      <td>0</td>\n",
       "      <td>0</td>\n",
       "      <td>0</td>\n",
       "      <td>0</td>\n",
       "      <td>0</td>\n",
       "      <td>0</td>\n",
       "      <td>0</td>\n",
       "      <td>0</td>\n",
       "    </tr>\n",
       "    <tr>\n",
       "      <th>4</th>\n",
       "      <td>380.759795</td>\n",
       "      <td>F11347</td>\n",
       "      <td>380.7611</td>\n",
       "      <td>40.93</td>\n",
       "      <td>40.41</td>\n",
       "      <td>42.77</td>\n",
       "      <td>10096</td>\n",
       "      <td>3886624</td>\n",
       "      <td>0.36</td>\n",
       "      <td>0.76</td>\n",
       "      <td>...</td>\n",
       "      <td>0</td>\n",
       "      <td>955231</td>\n",
       "      <td>0</td>\n",
       "      <td>0</td>\n",
       "      <td>694556</td>\n",
       "      <td>652651</td>\n",
       "      <td>772866</td>\n",
       "      <td>0</td>\n",
       "      <td>775396</td>\n",
       "      <td>383544</td>\n",
       "    </tr>\n",
       "  </tbody>\n",
       "</table>\n",
       "<p>5 rows × 36 columns</p>\n",
       "</div>"
      ],
      "text/plain": [
       "   query_target id_number        mz  rtime  rtime_left_base  rtime_right_base  \\\n",
       "0    228.621487     F5597  228.6215  24.90            23.59             27.79   \n",
       "1    285.644962     F8342  285.6449  24.12            22.01             25.43   \n",
       "2    289.676262     F8901  289.6775  28.84            28.06             30.16   \n",
       "3    372.744145    F10769  372.7447  25.17            23.59             28.32   \n",
       "4    380.759795    F11347  380.7611  40.93            40.41             42.77   \n",
       "\n",
       "   parent_masstrack_id  peak_area  cSelectivity  goodness_fitting  ...  \\\n",
       "0                 6243   11581986          1.00              0.92  ...   \n",
       "1                 7803    8354554          1.00              0.87  ...   \n",
       "2                 7939   15049385          1.00              0.88  ...   \n",
       "3                 9930    2649961          1.00              0.99  ...   \n",
       "4                10096    3886624          0.36              0.76  ...   \n",
       "\n",
       "   nist_5  q3June2014_1b_1  q3June2014_1b_3  q3June2014_1b_5  q3June2014_2a_1  \\\n",
       "0       0                0                0                0                0   \n",
       "1       0          1880316          1898032          2087381          2028266   \n",
       "2       0                0                0                0                0   \n",
       "3       0                0                0                0                0   \n",
       "4       0           955231                0                0           694556   \n",
       "\n",
       "   q3June2014_2a_3  q3June2014_2a_5  q3June2014_2b_1  q3June2014_2b_3  \\\n",
       "0                0                0                0                0   \n",
       "1          1400488          1438950          1530588          1802440   \n",
       "2                0                0                0                0   \n",
       "3                0                0                0                0   \n",
       "4           652651           772866                0           775396   \n",
       "\n",
       "   q3June2014_2b_5  \n",
       "0                0  \n",
       "1          1358006  \n",
       "2                0  \n",
       "3                0  \n",
       "4           383544  \n",
       "\n",
       "[5 rows x 36 columns]"
      ]
     },
     "execution_count": 60,
     "metadata": {},
     "output_type": "execute_result"
    }
   ],
   "source": [
    "targeted_feat_df.head()"
   ]
  },
  {
   "cell_type": "code",
   "execution_count": 63,
   "id": "6c2fd4ab-742c-4a17-9f51-1df3d72a1a03",
   "metadata": {
    "tags": []
   },
   "outputs": [
    {
     "data": {
      "text/plain": [
       "Index(['mz', 'Species Shorthand', 'Formula', 'Common Name', 'adduct_type'], dtype='object')"
      ]
     },
     "execution_count": 63,
     "metadata": {},
     "output_type": "execute_result"
    }
   ],
   "source": [
    "final_df.columns"
   ]
  },
  {
   "cell_type": "code",
   "execution_count": 64,
   "id": "35f4407f-524a-4917-94d9-8be1d666578f",
   "metadata": {
    "tags": []
   },
   "outputs": [],
   "source": [
    "final_df.columns = ['query_target', 'Species Shorthand', 'Formula', 'Common Name', 'adduct_type'] # rename the mz with query_target"
   ]
  },
  {
   "cell_type": "code",
   "execution_count": 66,
   "id": "88844b02-7333-4005-8ddc-d51a1bf4f533",
   "metadata": {
    "tags": []
   },
   "outputs": [],
   "source": [
    "m_df = pd.merge(final_df,targeted_feat_df, on = 'query_target')"
   ]
  },
  {
   "cell_type": "code",
   "execution_count": 68,
   "id": "edf19c29-b15d-453e-b48a-d03f09116a67",
   "metadata": {
    "tags": []
   },
   "outputs": [
    {
     "data": {
      "text/plain": [
       "(717, 40)"
      ]
     },
     "execution_count": 68,
     "metadata": {},
     "output_type": "execute_result"
    }
   ],
   "source": [
    "m_df.shape"
   ]
  },
  {
   "cell_type": "code",
   "execution_count": 67,
   "id": "1e42fcaf-96fe-498d-9d13-92e148afe1b4",
   "metadata": {
    "tags": []
   },
   "outputs": [
    {
     "data": {
      "text/html": [
       "<div>\n",
       "<style scoped>\n",
       "    .dataframe tbody tr th:only-of-type {\n",
       "        vertical-align: middle;\n",
       "    }\n",
       "\n",
       "    .dataframe tbody tr th {\n",
       "        vertical-align: top;\n",
       "    }\n",
       "\n",
       "    .dataframe thead th {\n",
       "        text-align: right;\n",
       "    }\n",
       "</style>\n",
       "<table border=\"1\" class=\"dataframe\">\n",
       "  <thead>\n",
       "    <tr style=\"text-align: right;\">\n",
       "      <th></th>\n",
       "      <th>query_target</th>\n",
       "      <th>Species Shorthand</th>\n",
       "      <th>Formula</th>\n",
       "      <th>Common Name</th>\n",
       "      <th>adduct_type</th>\n",
       "      <th>id_number</th>\n",
       "      <th>mz</th>\n",
       "      <th>rtime</th>\n",
       "      <th>rtime_left_base</th>\n",
       "      <th>rtime_right_base</th>\n",
       "      <th>...</th>\n",
       "      <th>nist_5</th>\n",
       "      <th>q3June2014_1b_1</th>\n",
       "      <th>q3June2014_1b_3</th>\n",
       "      <th>q3June2014_1b_5</th>\n",
       "      <th>q3June2014_2a_1</th>\n",
       "      <th>q3June2014_2a_3</th>\n",
       "      <th>q3June2014_2a_5</th>\n",
       "      <th>q3June2014_2b_1</th>\n",
       "      <th>q3June2014_2b_3</th>\n",
       "      <th>q3June2014_2b_5</th>\n",
       "    </tr>\n",
       "  </thead>\n",
       "  <tbody>\n",
       "    <tr>\n",
       "      <th>0</th>\n",
       "      <td>285.644962</td>\n",
       "      <td>LPS 22:6</td>\n",
       "      <td>569.275372</td>\n",
       "      <td>PS(22:6(4Z,7Z,10Z,13Z,16Z,19Z)/0:0)</td>\n",
       "      <td>M+2H[2+]</td>\n",
       "      <td>F8342</td>\n",
       "      <td>285.6449</td>\n",
       "      <td>24.12</td>\n",
       "      <td>22.01</td>\n",
       "      <td>25.43</td>\n",
       "      <td>...</td>\n",
       "      <td>0</td>\n",
       "      <td>1880316</td>\n",
       "      <td>1898032</td>\n",
       "      <td>2087381</td>\n",
       "      <td>2028266</td>\n",
       "      <td>1400488</td>\n",
       "      <td>1438950</td>\n",
       "      <td>1530588</td>\n",
       "      <td>1802440</td>\n",
       "      <td>1358006</td>\n",
       "    </tr>\n",
       "    <tr>\n",
       "      <th>1</th>\n",
       "      <td>289.676262</td>\n",
       "      <td>LPS 22:2</td>\n",
       "      <td>577.337972</td>\n",
       "      <td>PS(22:2(13Z,16Z)/0:0)</td>\n",
       "      <td>M+2H[2+]</td>\n",
       "      <td>F8901</td>\n",
       "      <td>289.6775</td>\n",
       "      <td>28.84</td>\n",
       "      <td>28.06</td>\n",
       "      <td>30.16</td>\n",
       "      <td>...</td>\n",
       "      <td>0</td>\n",
       "      <td>0</td>\n",
       "      <td>0</td>\n",
       "      <td>0</td>\n",
       "      <td>0</td>\n",
       "      <td>0</td>\n",
       "      <td>0</td>\n",
       "      <td>0</td>\n",
       "      <td>0</td>\n",
       "      <td>0</td>\n",
       "    </tr>\n",
       "    <tr>\n",
       "      <th>2</th>\n",
       "      <td>372.744145</td>\n",
       "      <td>PS 33:3</td>\n",
       "      <td>743.473737</td>\n",
       "      <td>PS(13:0/20:3(8Z,11Z,14Z))</td>\n",
       "      <td>M+2H[2+]</td>\n",
       "      <td>F10769</td>\n",
       "      <td>372.7447</td>\n",
       "      <td>25.17</td>\n",
       "      <td>23.59</td>\n",
       "      <td>28.32</td>\n",
       "      <td>...</td>\n",
       "      <td>0</td>\n",
       "      <td>0</td>\n",
       "      <td>0</td>\n",
       "      <td>0</td>\n",
       "      <td>0</td>\n",
       "      <td>0</td>\n",
       "      <td>0</td>\n",
       "      <td>0</td>\n",
       "      <td>0</td>\n",
       "      <td>0</td>\n",
       "    </tr>\n",
       "    <tr>\n",
       "      <th>3</th>\n",
       "      <td>372.744145</td>\n",
       "      <td>PS 33:3</td>\n",
       "      <td>743.473737</td>\n",
       "      <td>PS(15:0/18:3(6Z,9Z,12Z))</td>\n",
       "      <td>M+2H[2+]</td>\n",
       "      <td>F10769</td>\n",
       "      <td>372.7447</td>\n",
       "      <td>25.17</td>\n",
       "      <td>23.59</td>\n",
       "      <td>28.32</td>\n",
       "      <td>...</td>\n",
       "      <td>0</td>\n",
       "      <td>0</td>\n",
       "      <td>0</td>\n",
       "      <td>0</td>\n",
       "      <td>0</td>\n",
       "      <td>0</td>\n",
       "      <td>0</td>\n",
       "      <td>0</td>\n",
       "      <td>0</td>\n",
       "      <td>0</td>\n",
       "    </tr>\n",
       "    <tr>\n",
       "      <th>4</th>\n",
       "      <td>372.744145</td>\n",
       "      <td>PS 33:3</td>\n",
       "      <td>743.473737</td>\n",
       "      <td>PS(15:0/18:3(9Z,12Z,15Z))</td>\n",
       "      <td>M+2H[2+]</td>\n",
       "      <td>F10769</td>\n",
       "      <td>372.7447</td>\n",
       "      <td>25.17</td>\n",
       "      <td>23.59</td>\n",
       "      <td>28.32</td>\n",
       "      <td>...</td>\n",
       "      <td>0</td>\n",
       "      <td>0</td>\n",
       "      <td>0</td>\n",
       "      <td>0</td>\n",
       "      <td>0</td>\n",
       "      <td>0</td>\n",
       "      <td>0</td>\n",
       "      <td>0</td>\n",
       "      <td>0</td>\n",
       "      <td>0</td>\n",
       "    </tr>\n",
       "  </tbody>\n",
       "</table>\n",
       "<p>5 rows × 40 columns</p>\n",
       "</div>"
      ],
      "text/plain": [
       "   query_target Species Shorthand     Formula  \\\n",
       "0    285.644962          LPS 22:6  569.275372   \n",
       "1    289.676262          LPS 22:2  577.337972   \n",
       "2    372.744145           PS 33:3  743.473737   \n",
       "3    372.744145           PS 33:3  743.473737   \n",
       "4    372.744145           PS 33:3  743.473737   \n",
       "\n",
       "                           Common Name adduct_type id_number        mz  rtime  \\\n",
       "0  PS(22:6(4Z,7Z,10Z,13Z,16Z,19Z)/0:0)    M+2H[2+]     F8342  285.6449  24.12   \n",
       "1                PS(22:2(13Z,16Z)/0:0)    M+2H[2+]     F8901  289.6775  28.84   \n",
       "2            PS(13:0/20:3(8Z,11Z,14Z))    M+2H[2+]    F10769  372.7447  25.17   \n",
       "3             PS(15:0/18:3(6Z,9Z,12Z))    M+2H[2+]    F10769  372.7447  25.17   \n",
       "4            PS(15:0/18:3(9Z,12Z,15Z))    M+2H[2+]    F10769  372.7447  25.17   \n",
       "\n",
       "   rtime_left_base  rtime_right_base  ...  nist_5  q3June2014_1b_1  \\\n",
       "0            22.01             25.43  ...       0          1880316   \n",
       "1            28.06             30.16  ...       0                0   \n",
       "2            23.59             28.32  ...       0                0   \n",
       "3            23.59             28.32  ...       0                0   \n",
       "4            23.59             28.32  ...       0                0   \n",
       "\n",
       "   q3June2014_1b_3  q3June2014_1b_5  q3June2014_2a_1  q3June2014_2a_3  \\\n",
       "0          1898032          2087381          2028266          1400488   \n",
       "1                0                0                0                0   \n",
       "2                0                0                0                0   \n",
       "3                0                0                0                0   \n",
       "4                0                0                0                0   \n",
       "\n",
       "   q3June2014_2a_5  q3June2014_2b_1  q3June2014_2b_3  q3June2014_2b_5  \n",
       "0          1438950          1530588          1802440          1358006  \n",
       "1                0                0                0                0  \n",
       "2                0                0                0                0  \n",
       "3                0                0                0                0  \n",
       "4                0                0                0                0  \n",
       "\n",
       "[5 rows x 40 columns]"
      ]
     },
     "execution_count": 67,
     "metadata": {},
     "output_type": "execute_result"
    }
   ],
   "source": [
    "m_df.head()"
   ]
  },
  {
   "cell_type": "code",
   "execution_count": 69,
   "id": "3cdeb2a8-fa35-4d33-9f7f-aefa09d92948",
   "metadata": {
    "tags": []
   },
   "outputs": [],
   "source": [
    "m_df.index = m_df.id_number"
   ]
  },
  {
   "cell_type": "code",
   "execution_count": 70,
   "id": "ee927214-ee58-4fea-850a-2617cf71a044",
   "metadata": {
    "tags": []
   },
   "outputs": [],
   "source": [
    "m_df.to_csv(\"../../input/HILICpos_mzML/output_asari_project_224113827_targeted_search/m-targeted_extraction-Feature_table.tsv\", sep = '\\t')"
   ]
  },
  {
   "cell_type": "markdown",
   "id": "69d662fd-99df-4d97-bd6b-1f7b242ff123",
   "metadata": {},
   "source": [
    "------"
   ]
  },
  {
   "cell_type": "markdown",
   "id": "18f99217-817c-441a-822b-4cd1af4f6209",
   "metadata": {},
   "source": [
    "------"
   ]
  },
  {
   "cell_type": "markdown",
   "id": "a35b1efb-4252-472f-95ab-97119bad4600",
   "metadata": {},
   "source": [
    "------"
   ]
  },
  {
   "cell_type": "code",
   "execution_count": 75,
   "id": "e3f4e952-122d-405b-955d-c8471fd8e250",
   "metadata": {
    "tags": []
   },
   "outputs": [
    {
     "data": {
      "text/plain": [
       "query_target\n",
       "285.644962     1\n",
       "289.676262     1\n",
       "372.744145    10\n",
       "380.759795    15\n",
       "380.777987     4\n",
       "              ..\n",
       "860.637513     6\n",
       "860.673898     2\n",
       "880.512313     1\n",
       "888.668813     2\n",
       "900.572563     2\n",
       "Name: Common Name, Length: 133, dtype: int64"
      ]
     },
     "execution_count": 75,
     "metadata": {},
     "output_type": "execute_result"
    }
   ],
   "source": [
    "m_df.groupby('query_target').aggregate('Common Name').count()"
   ]
  },
  {
   "cell_type": "code",
   "execution_count": 79,
   "id": "957dc654-77ba-4c1e-a3c2-c372567910e0",
   "metadata": {
    "tags": []
   },
   "outputs": [],
   "source": [
    "m_df_red = m_df.drop(['Common Name'], axis = 1)"
   ]
  },
  {
   "cell_type": "code",
   "execution_count": 81,
   "id": "b067ff70-483c-49b5-8f03-1d87e54aa79a",
   "metadata": {
    "tags": []
   },
   "outputs": [],
   "source": [
    "df_top = m_df_red.drop_duplicates(keep='first')\n"
   ]
  },
  {
   "cell_type": "code",
   "execution_count": 82,
   "id": "45e00678-7f95-4c86-916f-ac7154fbf961",
   "metadata": {
    "tags": []
   },
   "outputs": [
    {
     "data": {
      "text/plain": [
       "(136, 39)"
      ]
     },
     "execution_count": 82,
     "metadata": {},
     "output_type": "execute_result"
    }
   ],
   "source": [
    "df_top.shape"
   ]
  },
  {
   "cell_type": "code",
   "execution_count": 85,
   "id": "1ea37eb3-ae7e-4b45-a260-5f425d3e2b5c",
   "metadata": {
    "tags": []
   },
   "outputs": [],
   "source": [
    "df_top.to_csv(\"../../input/HILICpos_mzML/output_asari_project_224113827_targeted_search/simp-m-targeted_extraction-Feature_table.tsv\", sep = '\\t')"
   ]
  }
 ],
 "metadata": {
  "kernelspec": {
   "display_name": "Python 3 (ipykernel)",
   "language": "python",
   "name": "python3"
  },
  "language_info": {
   "codemirror_mode": {
    "name": "ipython",
    "version": 3
   },
   "file_extension": ".py",
   "mimetype": "text/x-python",
   "name": "python",
   "nbconvert_exporter": "python",
   "pygments_lexer": "ipython3",
   "version": "3.10.9"
  }
 },
 "nbformat": 4,
 "nbformat_minor": 5
}
