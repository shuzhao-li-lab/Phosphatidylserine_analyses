{
 "cells": [
  {
   "cell_type": "markdown",
   "id": "3e97e206-1fea-4714-8fff-626ccb7b9589",
   "metadata": {
    "tags": []
   },
   "source": [
    "# Summary and Pruning annotations"
   ]
  },
  {
   "cell_type": "code",
   "execution_count": 1,
   "id": "e5fc2e57-2078-43e1-a49a-fb8b27be8c08",
   "metadata": {
    "tags": []
   },
   "outputs": [],
   "source": [
    "import pandas as pd \n",
    "import json"
   ]
  },
  {
   "cell_type": "code",
   "execution_count": 2,
   "id": "a149d577-f60c-4d10-84e2-06b4dd7726f6",
   "metadata": {
    "tags": []
   },
   "outputs": [],
   "source": [
    "with open(\"./MS_MS_signatureSearch/data/output_pooled_regDDA_in-silico/chainable_annotation_pooled_regDDA.json\", \"r\") as f:\n",
    "    annot_dict = json.load(f)"
   ]
  },
  {
   "cell_type": "code",
   "execution_count": 3,
   "id": "c85fdaab-8f53-4959-807e-0770f7b5c374",
   "metadata": {
    "tags": []
   },
   "outputs": [
    {
     "data": {
      "text/plain": [
       "1699"
      ]
     },
     "execution_count": 3,
     "metadata": {},
     "output_type": "execute_result"
    }
   ],
   "source": [
    "len(annot_dict)"
   ]
  },
  {
   "cell_type": "code",
   "execution_count": 4,
   "id": "300bc2cd-29aa-41e3-bd5b-44772f94a94f",
   "metadata": {
    "tags": []
   },
   "outputs": [],
   "source": [
    "comp_feats = [k for k,v in annot_dict.items() \n",
    "     if \"in-silico\" in v['annotation_evidence'].keys() ]"
   ]
  },
  {
   "cell_type": "code",
   "execution_count": 5,
   "id": "de54a541-5c5f-4477-a90b-0e597e8f1a5c",
   "metadata": {
    "tags": []
   },
   "outputs": [],
   "source": [
    "lipidmaps_feats = [k for k,v in annot_dict.items() \n",
    "     if \"LMSD\" in v['annotation_evidence'].keys() ]"
   ]
  },
  {
   "cell_type": "code",
   "execution_count": 6,
   "id": "55817c99-cb72-4ab5-a3e1-34b923e81c6b",
   "metadata": {
    "tags": []
   },
   "outputs": [],
   "source": [
    "iso_feats = [k for k,v in annot_dict.items() \n",
    "     if \"isotopes\" in v['annotation_evidence'].keys() ]"
   ]
  },
  {
   "cell_type": "code",
   "execution_count": 7,
   "id": "78cd423a-b097-4aeb-bd0f-c0f8da32a134",
   "metadata": {
    "tags": []
   },
   "outputs": [],
   "source": [
    "ms2_feats = [k for k,v in annot_dict.items() \n",
    "     if \"MS2\" in v['annotation_evidence'].keys() and len(v['annotation_evidence']['MS2'][0]) > 0  ]"
   ]
  },
  {
   "cell_type": "code",
   "execution_count": 8,
   "id": "dd028014-bc94-4037-9c4a-b114c3af35e9",
   "metadata": {
    "tags": []
   },
   "outputs": [
    {
     "data": {
      "text/plain": [
       "1699"
      ]
     },
     "execution_count": 8,
     "metadata": {},
     "output_type": "execute_result"
    }
   ],
   "source": [
    "len(comp_feats)"
   ]
  },
  {
   "cell_type": "code",
   "execution_count": 9,
   "id": "9325b27f-d201-4e4b-8332-13e6bbf2158c",
   "metadata": {
    "tags": []
   },
   "outputs": [
    {
     "data": {
      "text/plain": [
       "277"
      ]
     },
     "execution_count": 9,
     "metadata": {},
     "output_type": "execute_result"
    }
   ],
   "source": [
    "len(lipidmaps_feats)"
   ]
  },
  {
   "cell_type": "code",
   "execution_count": 10,
   "id": "05b3f748-0264-4367-b42e-1c51dec4ed6a",
   "metadata": {
    "tags": []
   },
   "outputs": [
    {
     "data": {
      "text/plain": [
       "332"
      ]
     },
     "execution_count": 10,
     "metadata": {},
     "output_type": "execute_result"
    }
   ],
   "source": [
    "len(iso_feats)"
   ]
  },
  {
   "cell_type": "code",
   "execution_count": 11,
   "id": "49fc5667-3096-46ba-a410-00dfc72c1b4b",
   "metadata": {
    "tags": []
   },
   "outputs": [
    {
     "data": {
      "text/plain": [
       "8"
      ]
     },
     "execution_count": 11,
     "metadata": {},
     "output_type": "execute_result"
    }
   ],
   "source": [
    "len(ms2_feats)"
   ]
  },
  {
   "cell_type": "code",
   "execution_count": 12,
   "id": "651ab57d-2ba1-4f77-8c38-290793ac63b2",
   "metadata": {
    "tags": []
   },
   "outputs": [
    {
     "data": {
      "text/plain": [
       "33"
      ]
     },
     "execution_count": 12,
     "metadata": {},
     "output_type": "execute_result"
    }
   ],
   "source": [
    "len(set(iso_feats).intersection(set(lipidmaps_feats))) # isotopolgues with lipidmaps are relatively less "
   ]
  },
  {
   "cell_type": "code",
   "execution_count": 13,
   "id": "9df8afeb-6f0e-435f-84ec-b8641b5f3d54",
   "metadata": {
    "tags": []
   },
   "outputs": [
    {
     "data": {
      "text/plain": [
       "277"
      ]
     },
     "execution_count": 13,
     "metadata": {},
     "output_type": "execute_result"
    }
   ],
   "source": [
    "len(set(comp_feats).intersection(set(lipidmaps_feats))) # alllipidmaps also present in in-silico"
   ]
  },
  {
   "cell_type": "code",
   "execution_count": 14,
   "id": "246d0295-adb1-436b-afe4-b9b6d99477a3",
   "metadata": {
    "tags": []
   },
   "outputs": [
    {
     "data": {
      "text/plain": [
       "332"
      ]
     },
     "execution_count": 14,
     "metadata": {},
     "output_type": "execute_result"
    }
   ],
   "source": [
    "len(set(iso_feats).intersection(set(comp_feats)))"
   ]
  },
  {
   "cell_type": "markdown",
   "id": "1f4a666d-a303-4f61-a7ed-7dc035cf92b0",
   "metadata": {
    "tags": []
   },
   "source": [
    "# Get the final results into the output folder"
   ]
  },
  {
   "cell_type": "code",
   "execution_count": 15,
   "id": "8adb911e-32c5-4e07-8f23-3b082ddbf04c",
   "metadata": {
    "tags": []
   },
   "outputs": [],
   "source": [
    "import os\n",
    "try:\n",
    "    os.mkdir(\"../../output/annotations_MS1_MS2\")\n",
    "except:\n",
    "    None"
   ]
  },
  {
   "cell_type": "code",
   "execution_count": 16,
   "id": "18f3d93a-5103-4eca-a28e-a240c302e1eb",
   "metadata": {
    "tags": []
   },
   "outputs": [],
   "source": [
    "with open(\"../../output/annotations_MS1_MS2/chainable_annotation_final.json\", \"w\") as f:\n",
    "    json.dump(annot_dict,f, indent = 2)"
   ]
  },
  {
   "cell_type": "markdown",
   "id": "4dda88c4-64c0-4568-bed3-a28921f44454",
   "metadata": {},
   "source": [
    "### MS2 annotations involved multiple levels of annotations thus, create a json file with features only with MS2 annotations"
   ]
  },
  {
   "cell_type": "code",
   "execution_count": 17,
   "id": "e77a3dde-3ce3-449c-85c4-3ef9d02574ce",
   "metadata": {
    "tags": []
   },
   "outputs": [],
   "source": [
    "annot_dict_ms2 = {k:v for k,v in annot_dict.items() if k in ms2_feats}\n",
    "with open(\"../../output/annotations_MS1_MS2/chainable_annotation_withMS2matched.json\", \"w\") as f:\n",
    "    json.dump(annot_dict_ms2,f, indent = 2)"
   ]
  },
  {
   "cell_type": "code",
   "execution_count": 32,
   "id": "22fcbefc-0163-4ccd-93c0-c823b5769531",
   "metadata": {},
   "outputs": [],
   "source": [
    "import copy\n",
    "\n",
    "def construct_simplified_table(annot_dict,\n",
    "                               feats2keep,\n",
    "                               columns2exclude = ['formula_dict','hits_isotopologue_chain']):\n",
    "    annot_dict_sim = copy.deepcopy(annot_dict)\n",
    "    for k,v in annot_dict_sim.items():\n",
    "        v['annotation_evidence'] = \"|\".join(v['annotation_evidence'].keys())\n",
    "        v['isomers'] = \"|\".join(v['isomers'])\n",
    "    new_df = pd.DataFrame({k:v for k,v in annot_dict_sim.items() if k in feats2keep}).transpose()\n",
    "    new_df = new_df.drop(columns2exclude, axis = 1)\n",
    "    return new_df"
   ]
  },
  {
   "cell_type": "code",
   "execution_count": 33,
   "id": "1991d276-8241-49d7-b1b3-bc89670f24e7",
   "metadata": {
    "tags": []
   },
   "outputs": [],
   "source": [
    "# MS2 might deserved to output them all in one instance\n",
    "ms2_df = pd.DataFrame({k:v for k,v in annot_dict.items() if k in ms2_feats}).transpose()\n",
    "ms2_df.to_csv(\"../../output/annotations_MS1_MS2/features_wtMS2_annotations.csv\")\n",
    "\n",
    "comp_sim_df = construct_simplified_table(annot_dict,comp_feats);comp_sim_df.to_csv(\"../../output/annotations_MS1_MS2/features_wtInSilicoPS_predicted_annot_sim.csv\")\n",
    "ms2_sim_df = construct_simplified_table(annot_dict,ms2_feats);ms2_sim_df.to_csv(\"../../output/annotations_MS1_MS2/features_wtMS2_annot_sim.csv\")\n",
    "iso_sim_df = construct_simplified_table(annot_dict,iso_feats);iso_sim_df.to_csv(\"../../output/annotations_MS1_MS2/features_wtC13isotope_annot_sim.csv\")\n",
    "lmsd_sim_df = construct_simplified_table(annot_dict,lipidmaps_feats);lmsd_sim_df.to_csv(\"../../output/annotations_MS1_MS2/features_wtLMSD_annot_sim.csv\")\n",
    "\n",
    "lmsd_wt_iso_df = construct_simplified_table(annot_dict,set(iso_feats).intersection(set(lipidmaps_feats)));\n",
    "lmsd_wt_iso_df.to_csv(\"../../output/annotations_MS1_MS2/features_wtLMSD_C13isotope_annot_sim.csv\")"
   ]
  },
  {
   "cell_type": "markdown",
   "id": "ce6911ee-0f17-436e-b68b-f4ad190c1832",
   "metadata": {},
   "source": [
    "-----"
   ]
  },
  {
   "cell_type": "markdown",
   "id": "efe7b9c0-d69f-40a3-b89a-6280ff543886",
   "metadata": {},
   "source": [
    "-----"
   ]
  },
  {
   "cell_type": "markdown",
   "id": "4489a0ee-15cf-4656-aaac-308537d4f7f4",
   "metadata": {},
   "source": [
    "-----"
   ]
  },
  {
   "cell_type": "markdown",
   "id": "a2531cc9-dc6e-432f-bdf3-f3d48786aef9",
   "metadata": {},
   "source": [
    "# Annotate PS into the feature table\n",
    "- Unfortunately, in R there is no easy way to load these tables\n",
    "- I will directly merge the annotation tables with the feature table\n",
    "- Let's just go with `comp_sim_df`, which is more inclusive"
   ]
  },
  {
   "cell_type": "code",
   "execution_count": 37,
   "id": "e61aa332-d722-4e46-adf9-ec4edb0756df",
   "metadata": {
    "tags": []
   },
   "outputs": [],
   "source": [
    "df = pd.read_csv(\"../../output/hMinImp_TICnorm_groupFil0.3_RPneg_1wayANOVA/one_wayANOVA_hMinImp_TICnorm_groupFil0.3_RPneg_fullreport.csv\",index_col =0)"
   ]
  },
  {
   "cell_type": "code",
   "execution_count": 42,
   "id": "c4d3fa37-5fbe-4c01-a4a7-68206528050c",
   "metadata": {
    "tags": []
   },
   "outputs": [
    {
     "data": {
      "text/plain": [
       "(8862, 36)"
      ]
     },
     "execution_count": 42,
     "metadata": {},
     "output_type": "execute_result"
    }
   ],
   "source": [
    "df.shape"
   ]
  },
  {
   "cell_type": "code",
   "execution_count": 43,
   "id": "8098bca6-4dd4-45b3-aad8-3919e90748ba",
   "metadata": {
    "tags": []
   },
   "outputs": [],
   "source": [
    "PS_select_df = pd.merge(comp_sim_df,df,left_index=True,right_index=True, how = \"inner\")"
   ]
  },
  {
   "cell_type": "code",
   "execution_count": 44,
   "id": "4783563f-6cd2-4556-8041-860d5de1190d",
   "metadata": {
    "tags": []
   },
   "outputs": [],
   "source": [
    "PS_label_df = pd.merge(comp_sim_df,df,left_index=True,right_index=True, how = \"right\")"
   ]
  },
  {
   "cell_type": "code",
   "execution_count": 45,
   "id": "8dd12104-33d5-476b-b324-b9f0641b1fef",
   "metadata": {
    "tags": []
   },
   "outputs": [],
   "source": [
    "PS_select_df.to_csv(\"../../output/annotations_MS1_MS2/PS_selected_full_report.csv\")\n",
    "PS_label_df.to_csv(\"../../output/annotations_MS1_MS2/PS_labeled_full_report.csv\")"
   ]
  }
 ],
 "metadata": {
  "kernelspec": {
   "display_name": "Python 3 (ipykernel)",
   "language": "python",
   "name": "python3"
  },
  "language_info": {
   "codemirror_mode": {
    "name": "ipython",
    "version": 3
   },
   "file_extension": ".py",
   "mimetype": "text/x-python",
   "name": "python",
   "nbconvert_exporter": "python",
   "pygments_lexer": "ipython3",
   "version": "3.10.9"
  }
 },
 "nbformat": 4,
 "nbformat_minor": 5
}
