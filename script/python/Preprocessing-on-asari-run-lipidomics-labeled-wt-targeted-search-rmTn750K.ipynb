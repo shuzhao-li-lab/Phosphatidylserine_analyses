{
 "cells": [
  {
   "cell_type": "markdown",
   "id": "ac57dcf6",
   "metadata": {},
   "source": [
    "# Asari table preprocessing"
   ]
  },
  {
   "cell_type": "code",
   "execution_count": 3,
   "id": "100fb3c0",
   "metadata": {
    "tags": []
   },
   "outputs": [
    {
     "name": "stdout",
     "output_type": "stream",
     "text": [
      "Collecting seaborn\n",
      "  Downloading seaborn-0.12.2-py3-none-any.whl (293 kB)\n",
      "\u001b[2K     \u001b[90m━━━━━━━━━━━━━━━━━━━━━━━━━━━━━━━━━━━━━━━\u001b[0m \u001b[32m293.3/293.3 kB\u001b[0m \u001b[31m2.3 MB/s\u001b[0m eta \u001b[36m0:00:00\u001b[0m00:01\u001b[0m00:01\u001b[0m\n",
      "\u001b[?25hRequirement already satisfied: pandas>=0.25 in /opt/conda/lib/python3.10/site-packages (from seaborn) (1.4.3)\n",
      "Requirement already satisfied: numpy!=1.24.0,>=1.17 in /opt/conda/lib/python3.10/site-packages (from seaborn) (1.23.1)\n",
      "Collecting matplotlib!=3.6.1,>=3.1\n",
      "  Downloading matplotlib-3.7.1-cp310-cp310-manylinux_2_17_x86_64.manylinux2014_x86_64.whl (11.6 MB)\n",
      "\u001b[2K     \u001b[90m━━━━━━━━━━━━━━━━━━━━━━━━━━━━━━━━━━━━━━━━\u001b[0m \u001b[32m11.6/11.6 MB\u001b[0m \u001b[31m14.1 MB/s\u001b[0m eta \u001b[36m0:00:00\u001b[0m00:01\u001b[0m00:01\u001b[0m\n",
      "\u001b[?25hCollecting cycler>=0.10\n",
      "  Downloading cycler-0.11.0-py3-none-any.whl (6.4 kB)\n",
      "Collecting fonttools>=4.22.0\n",
      "  Downloading fonttools-4.39.0-py3-none-any.whl (1.0 MB)\n",
      "\u001b[2K     \u001b[90m━━━━━━━━━━━━━━━━━━━━━━━━━━━━━━━━━━━━━━━━\u001b[0m \u001b[32m1.0/1.0 MB\u001b[0m \u001b[31m10.8 MB/s\u001b[0m eta \u001b[36m0:00:00\u001b[0m00:01\u001b[0m00:01\u001b[0m\n",
      "\u001b[?25hCollecting contourpy>=1.0.1\n",
      "  Downloading contourpy-1.0.7-cp310-cp310-manylinux_2_17_x86_64.manylinux2014_x86_64.whl (300 kB)\n",
      "\u001b[2K     \u001b[90m━━━━━━━━━━━━━━━━━━━━━━━━━━━━━━━━━━━━━━━\u001b[0m \u001b[32m300.3/300.3 kB\u001b[0m \u001b[31m4.9 MB/s\u001b[0m eta \u001b[36m0:00:00\u001b[0m00:01\u001b[0m\n",
      "\u001b[?25hCollecting pyparsing>=2.3.1\n",
      "  Downloading pyparsing-3.0.9-py3-none-any.whl (98 kB)\n",
      "\u001b[2K     \u001b[90m━━━━━━━━━━━━━━━━━━━━━━━━━━━━━━━━━━━━━━━━\u001b[0m \u001b[32m98.3/98.3 kB\u001b[0m \u001b[31m3.2 MB/s\u001b[0m eta \u001b[36m0:00:00\u001b[0m\n",
      "\u001b[?25hCollecting kiwisolver>=1.0.1\n",
      "  Downloading kiwisolver-1.4.4-cp310-cp310-manylinux_2_12_x86_64.manylinux2010_x86_64.whl (1.6 MB)\n",
      "\u001b[2K     \u001b[90m━━━━━━━━━━━━━━━━━━━━━━━━━━━━━━━━━━━━━━━━\u001b[0m \u001b[32m1.6/1.6 MB\u001b[0m \u001b[31m10.4 MB/s\u001b[0m eta \u001b[36m0:00:00\u001b[0m00:01\u001b[0m00:01\u001b[0m\n",
      "\u001b[?25hRequirement already satisfied: python-dateutil>=2.7 in /opt/conda/lib/python3.10/site-packages (from matplotlib!=3.6.1,>=3.1->seaborn) (2.8.2)\n",
      "Collecting pillow>=6.2.0\n",
      "  Downloading Pillow-9.4.0-cp310-cp310-manylinux_2_28_x86_64.whl (3.4 MB)\n",
      "\u001b[2K     \u001b[90m━━━━━━━━━━━━━━━━━━━━━━━━━━━━━━━━━━━━━━━━\u001b[0m \u001b[32m3.4/3.4 MB\u001b[0m \u001b[31m12.6 MB/s\u001b[0m eta \u001b[36m0:00:00\u001b[0m00:01\u001b[0m00:01\u001b[0m\n",
      "\u001b[?25hRequirement already satisfied: packaging>=20.0 in /opt/conda/lib/python3.10/site-packages (from matplotlib!=3.6.1,>=3.1->seaborn) (23.0)\n",
      "Requirement already satisfied: pytz>=2020.1 in /opt/conda/lib/python3.10/site-packages (from pandas>=0.25->seaborn) (2022.7.1)\n",
      "Requirement already satisfied: six>=1.5 in /opt/conda/lib/python3.10/site-packages (from python-dateutil>=2.7->matplotlib!=3.6.1,>=3.1->seaborn) (1.16.0)\n",
      "Installing collected packages: pyparsing, pillow, kiwisolver, fonttools, cycler, contourpy, matplotlib, seaborn\n",
      "Successfully installed contourpy-1.0.7 cycler-0.11.0 fonttools-4.39.0 kiwisolver-1.4.4 matplotlib-3.7.1 pillow-9.4.0 pyparsing-3.0.9 seaborn-0.12.2\n"
     ]
    }
   ],
   "source": [
    "# !pip install seaborn"
   ]
  },
  {
   "cell_type": "code",
   "execution_count": 4,
   "id": "f02ae87b",
   "metadata": {
    "tags": []
   },
   "outputs": [],
   "source": [
    "import pandas as pd\n",
    "import os\n",
    "import json\n",
    "import numpy as np\n",
    "import seaborn as sns\n",
    "import matplotlib.pyplot as plt\n",
    "import re\n",
    "from random import randrange"
   ]
  },
  {
   "cell_type": "code",
   "execution_count": 5,
   "id": "1a091b57",
   "metadata": {},
   "outputs": [],
   "source": [
    "pd.set_option('display.max_rows', 1000)\n",
    "pd.set_option('display.max_columns', 500)\n",
    "pd.set_option('display.width', 1000)"
   ]
  },
  {
   "cell_type": "code",
   "execution_count": 6,
   "id": "74fcb5d3",
   "metadata": {},
   "outputs": [],
   "source": [
    "asari_out_fdr = \"../../../asari-output-RPneg/output_asari_project_31312361/\"\n",
    "targeted_file = \"../../../target_list/PS-target-list-singular-M-H.txt\"\n",
    "metadata_file = \"../../../seq/RPneg_addgrp.csv\"\n",
    "mode = \"RPneg\"\n",
    "group_percNA_threshold = 0.3 # < percNA, should be presented in any group\n",
    "rm_samples = ['Tn_750K_3', 'Tn_750K_4']"
   ]
  },
  {
   "cell_type": "code",
   "execution_count": 7,
   "id": "2764ec6d",
   "metadata": {},
   "outputs": [],
   "source": [
    "output_dir = \"../../output/preproc_fultab_lab_targlist_\" + str(randrange(0,100))"
   ]
  },
  {
   "cell_type": "code",
   "execution_count": 8,
   "id": "06ad15fe",
   "metadata": {},
   "outputs": [],
   "source": [
    "try:\n",
    "    os.mkdir(output_dir)\n",
    "except:\n",
    "    print(\"not done\")"
   ]
  },
  {
   "cell_type": "code",
   "execution_count": 9,
   "id": "4328e7f5",
   "metadata": {},
   "outputs": [],
   "source": [
    "feat_df = pd.read_csv(os.path.join(asari_out_fdr,'export/full_Feature_table.tsv'),sep = '\\t')"
   ]
  },
  {
   "cell_type": "code",
   "execution_count": 14,
   "id": "6186607e",
   "metadata": {},
   "outputs": [
    {
     "data": {
      "text/html": [
       "<div>\n",
       "<style scoped>\n",
       "    .dataframe tbody tr th:only-of-type {\n",
       "        vertical-align: middle;\n",
       "    }\n",
       "\n",
       "    .dataframe tbody tr th {\n",
       "        vertical-align: top;\n",
       "    }\n",
       "\n",
       "    .dataframe thead th {\n",
       "        text-align: right;\n",
       "    }\n",
       "</style>\n",
       "<table border=\"1\" class=\"dataframe\">\n",
       "  <thead>\n",
       "    <tr style=\"text-align: right;\">\n",
       "      <th></th>\n",
       "      <th>id_number</th>\n",
       "      <th>mz</th>\n",
       "      <th>rtime</th>\n",
       "      <th>rtime_left_base</th>\n",
       "      <th>rtime_right_base</th>\n",
       "      <th>parent_masstrack_id</th>\n",
       "      <th>peak_area</th>\n",
       "      <th>cSelectivity</th>\n",
       "      <th>goodness_fitting</th>\n",
       "      <th>snr</th>\n",
       "      <th>detection_counts</th>\n",
       "      <th>MT_20230308_032</th>\n",
       "      <th>Blank_20230308_002</th>\n",
       "      <th>Blank_20230308_004</th>\n",
       "      <th>Blank_20230308_006</th>\n",
       "      <th>Blank_std_20230308_1_002</th>\n",
       "      <th>MT_20230308_002</th>\n",
       "      <th>MT_20230308_004</th>\n",
       "      <th>MT_20230308_006</th>\n",
       "      <th>MT_20230308_008</th>\n",
       "      <th>MT_20230308_010</th>\n",
       "      <th>MT_20230308_012</th>\n",
       "      <th>MT_20230308_014</th>\n",
       "      <th>MT_20230308_016</th>\n",
       "      <th>MT_20230308_018</th>\n",
       "      <th>MT_20230308_020</th>\n",
       "      <th>MT_20230308_022</th>\n",
       "      <th>MT_20230308_024</th>\n",
       "      <th>MT_20230308_026</th>\n",
       "      <th>MT_20230308_028</th>\n",
       "      <th>MT_20230308_030</th>\n",
       "    </tr>\n",
       "  </thead>\n",
       "  <tbody>\n",
       "    <tr>\n",
       "      <th>0</th>\n",
       "      <td>F1</td>\n",
       "      <td>435.0348</td>\n",
       "      <td>21.61</td>\n",
       "      <td>20.57</td>\n",
       "      <td>23.50</td>\n",
       "      <td>562</td>\n",
       "      <td>1491847</td>\n",
       "      <td>1.00</td>\n",
       "      <td>0.98</td>\n",
       "      <td>211</td>\n",
       "      <td>2</td>\n",
       "      <td>0</td>\n",
       "      <td>0</td>\n",
       "      <td>0</td>\n",
       "      <td>0</td>\n",
       "      <td>0</td>\n",
       "      <td>0</td>\n",
       "      <td>0</td>\n",
       "      <td>0</td>\n",
       "      <td>0</td>\n",
       "      <td>597228</td>\n",
       "      <td>0</td>\n",
       "      <td>0</td>\n",
       "      <td>0</td>\n",
       "      <td>0</td>\n",
       "      <td>0</td>\n",
       "      <td>0</td>\n",
       "      <td>909625</td>\n",
       "      <td>0</td>\n",
       "      <td>0</td>\n",
       "      <td>0</td>\n",
       "    </tr>\n",
       "    <tr>\n",
       "      <th>1</th>\n",
       "      <td>F2</td>\n",
       "      <td>400.0653</td>\n",
       "      <td>21.40</td>\n",
       "      <td>20.14</td>\n",
       "      <td>23.94</td>\n",
       "      <td>1</td>\n",
       "      <td>35287713</td>\n",
       "      <td>1.00</td>\n",
       "      <td>0.95</td>\n",
       "      <td>3317</td>\n",
       "      <td>11</td>\n",
       "      <td>0</td>\n",
       "      <td>0</td>\n",
       "      <td>0</td>\n",
       "      <td>0</td>\n",
       "      <td>0</td>\n",
       "      <td>0</td>\n",
       "      <td>0</td>\n",
       "      <td>3390738</td>\n",
       "      <td>0</td>\n",
       "      <td>60376</td>\n",
       "      <td>6021134</td>\n",
       "      <td>7941851</td>\n",
       "      <td>1027433</td>\n",
       "      <td>2591103</td>\n",
       "      <td>3259847</td>\n",
       "      <td>1778230</td>\n",
       "      <td>0</td>\n",
       "      <td>1093155</td>\n",
       "      <td>7938840</td>\n",
       "      <td>3717405</td>\n",
       "    </tr>\n",
       "    <tr>\n",
       "      <th>2</th>\n",
       "      <td>F3</td>\n",
       "      <td>400.0653</td>\n",
       "      <td>27.00</td>\n",
       "      <td>24.82</td>\n",
       "      <td>29.40</td>\n",
       "      <td>1</td>\n",
       "      <td>12272252</td>\n",
       "      <td>0.92</td>\n",
       "      <td>0.79</td>\n",
       "      <td>885</td>\n",
       "      <td>14</td>\n",
       "      <td>0</td>\n",
       "      <td>873510</td>\n",
       "      <td>803898</td>\n",
       "      <td>1002504</td>\n",
       "      <td>0</td>\n",
       "      <td>0</td>\n",
       "      <td>0</td>\n",
       "      <td>748724</td>\n",
       "      <td>0</td>\n",
       "      <td>1615544</td>\n",
       "      <td>433001</td>\n",
       "      <td>914848</td>\n",
       "      <td>513672</td>\n",
       "      <td>1042438</td>\n",
       "      <td>785947</td>\n",
       "      <td>708850</td>\n",
       "      <td>0</td>\n",
       "      <td>339999</td>\n",
       "      <td>625787</td>\n",
       "      <td>765062</td>\n",
       "    </tr>\n",
       "    <tr>\n",
       "      <th>3</th>\n",
       "      <td>F4</td>\n",
       "      <td>435.1144</td>\n",
       "      <td>117.56</td>\n",
       "      <td>114.91</td>\n",
       "      <td>119.96</td>\n",
       "      <td>563</td>\n",
       "      <td>19862141</td>\n",
       "      <td>1.00</td>\n",
       "      <td>0.91</td>\n",
       "      <td>40</td>\n",
       "      <td>11</td>\n",
       "      <td>0</td>\n",
       "      <td>0</td>\n",
       "      <td>0</td>\n",
       "      <td>0</td>\n",
       "      <td>0</td>\n",
       "      <td>0</td>\n",
       "      <td>0</td>\n",
       "      <td>1456871</td>\n",
       "      <td>1419754</td>\n",
       "      <td>1996819</td>\n",
       "      <td>0</td>\n",
       "      <td>1703642</td>\n",
       "      <td>1769503</td>\n",
       "      <td>1820261</td>\n",
       "      <td>1966062</td>\n",
       "      <td>2140897</td>\n",
       "      <td>1946997</td>\n",
       "      <td>0</td>\n",
       "      <td>2309285</td>\n",
       "      <td>2216140</td>\n",
       "    </tr>\n",
       "    <tr>\n",
       "      <th>4</th>\n",
       "      <td>F5</td>\n",
       "      <td>435.1205</td>\n",
       "      <td>23.94</td>\n",
       "      <td>22.65</td>\n",
       "      <td>25.25</td>\n",
       "      <td>564</td>\n",
       "      <td>7169486</td>\n",
       "      <td>0.83</td>\n",
       "      <td>0.96</td>\n",
       "      <td>850</td>\n",
       "      <td>9</td>\n",
       "      <td>0</td>\n",
       "      <td>0</td>\n",
       "      <td>0</td>\n",
       "      <td>0</td>\n",
       "      <td>0</td>\n",
       "      <td>0</td>\n",
       "      <td>0</td>\n",
       "      <td>540403</td>\n",
       "      <td>0</td>\n",
       "      <td>0</td>\n",
       "      <td>781369</td>\n",
       "      <td>778594</td>\n",
       "      <td>789810</td>\n",
       "      <td>920317</td>\n",
       "      <td>924456</td>\n",
       "      <td>829886</td>\n",
       "      <td>0</td>\n",
       "      <td>0</td>\n",
       "      <td>746458</td>\n",
       "      <td>826633</td>\n",
       "    </tr>\n",
       "  </tbody>\n",
       "</table>\n",
       "</div>"
      ],
      "text/plain": [
       "  id_number        mz   rtime  rtime_left_base  rtime_right_base  parent_masstrack_id  peak_area  cSelectivity  goodness_fitting   snr  detection_counts  MT_20230308_032  Blank_20230308_002  Blank_20230308_004  Blank_20230308_006  Blank_std_20230308_1_002  MT_20230308_002  MT_20230308_004  MT_20230308_006  MT_20230308_008  MT_20230308_010  MT_20230308_012  MT_20230308_014  MT_20230308_016  MT_20230308_018  MT_20230308_020  MT_20230308_022  MT_20230308_024  MT_20230308_026  MT_20230308_028  MT_20230308_030\n",
       "0        F1  435.0348   21.61            20.57             23.50                  562    1491847          1.00              0.98   211                 2                0                   0                   0                   0                         0                0                0                0                0           597228                0                0                0                0                0                0           909625                0                0                0\n",
       "1        F2  400.0653   21.40            20.14             23.94                    1   35287713          1.00              0.95  3317                11                0                   0                   0                   0                         0                0                0          3390738                0            60376          6021134          7941851          1027433          2591103          3259847          1778230                0          1093155          7938840          3717405\n",
       "2        F3  400.0653   27.00            24.82             29.40                    1   12272252          0.92              0.79   885                14                0              873510              803898             1002504                         0                0                0           748724                0          1615544           433001           914848           513672          1042438           785947           708850                0           339999           625787           765062\n",
       "3        F4  435.1144  117.56           114.91            119.96                  563   19862141          1.00              0.91    40                11                0                   0                   0                   0                         0                0                0          1456871          1419754          1996819                0          1703642          1769503          1820261          1966062          2140897          1946997                0          2309285          2216140\n",
       "4        F5  435.1205   23.94            22.65             25.25                  564    7169486          0.83              0.96   850                 9                0                   0                   0                   0                         0                0                0           540403                0                0           781369           778594           789810           920317           924456           829886                0                0           746458           826633"
      ]
     },
     "execution_count": 14,
     "metadata": {},
     "output_type": "execute_result"
    }
   ],
   "source": [
    "feat_df.head()"
   ]
  },
  {
   "cell_type": "code",
   "execution_count": 15,
   "id": "ce0e5661-2dcf-427a-91dd-0e036e6e5dfc",
   "metadata": {
    "tags": []
   },
   "outputs": [],
   "source": [
    "target_feat_df = pd.read_csv(os.path.join(asari_out_fdr,'targeted_extraction__Feature_table.tsv'),sep = '\\t')\n",
    "target_list_df = pd.read_csv(targeted_file, sep = '\\t')"
   ]
  },
  {
   "cell_type": "code",
   "execution_count": 16,
   "id": "f8e1cdfa",
   "metadata": {},
   "outputs": [
    {
     "name": "stdout",
     "output_type": "stream",
     "text": [
      "number of features are: 17562\n"
     ]
    }
   ],
   "source": [
    "print(f'number of features are: {feat_df.shape[0]}')"
   ]
  },
  {
   "cell_type": "code",
   "execution_count": 17,
   "id": "b273eb2f",
   "metadata": {},
   "outputs": [
    {
     "name": "stdout",
     "output_type": "stream",
     "text": [
      "number of features are: 108\n"
     ]
    }
   ],
   "source": [
    "print(f'number of features are: {target_feat_df.shape[0]}')"
   ]
  },
  {
   "cell_type": "code",
   "execution_count": 18,
   "id": "d00217b3",
   "metadata": {},
   "outputs": [],
   "source": [
    "meta_df = pd.read_csv(metadata_file, header = 0)"
   ]
  },
  {
   "cell_type": "code",
   "execution_count": 19,
   "id": "80aeac28",
   "metadata": {},
   "outputs": [
    {
     "data": {
      "text/html": [
       "<div>\n",
       "<style scoped>\n",
       "    .dataframe tbody tr th:only-of-type {\n",
       "        vertical-align: middle;\n",
       "    }\n",
       "\n",
       "    .dataframe tbody tr th {\n",
       "        vertical-align: top;\n",
       "    }\n",
       "\n",
       "    .dataframe thead th {\n",
       "        text-align: right;\n",
       "    }\n",
       "</style>\n",
       "<table border=\"1\" class=\"dataframe\">\n",
       "  <thead>\n",
       "    <tr style=\"text-align: right;\">\n",
       "      <th></th>\n",
       "      <th>Sample Type</th>\n",
       "      <th>File Name</th>\n",
       "      <th>Sample ID</th>\n",
       "      <th>Sample_ID_upd</th>\n",
       "      <th>cell_number</th>\n",
       "      <th>group</th>\n",
       "      <th>Comment</th>\n",
       "      <th>Path</th>\n",
       "      <th>Instrument Method</th>\n",
       "      <th>Process Method</th>\n",
       "      <th>Position</th>\n",
       "      <th>Inj Vol</th>\n",
       "    </tr>\n",
       "  </thead>\n",
       "  <tbody>\n",
       "    <tr>\n",
       "      <th>0</th>\n",
       "      <td>Blank</td>\n",
       "      <td>Blank_20230308_002</td>\n",
       "      <td>Blank_20230308_002</td>\n",
       "      <td>Blank_1</td>\n",
       "      <td>NR</td>\n",
       "      <td>Blank</td>\n",
       "      <td>1</td>\n",
       "      <td>D:\\IDX_Data\\Maheshwor\\20220213_phosphatidylser...</td>\n",
       "      <td>C:\\Xcalibur\\methods\\MT\\phosphatidylserine_tSIM...</td>\n",
       "      <td>NaN</td>\n",
       "      <td>G:A1</td>\n",
       "      <td>2</td>\n",
       "    </tr>\n",
       "    <tr>\n",
       "      <th>1</th>\n",
       "      <td>Blank</td>\n",
       "      <td>Blank_20230308_004</td>\n",
       "      <td>Blank_20230308_004</td>\n",
       "      <td>Blank_2</td>\n",
       "      <td>NR</td>\n",
       "      <td>Blank</td>\n",
       "      <td>1</td>\n",
       "      <td>D:\\IDX_Data\\Maheshwor\\20220213_phosphatidylser...</td>\n",
       "      <td>C:\\Xcalibur\\methods\\MT\\phosphatidylserine_tSIM...</td>\n",
       "      <td>NaN</td>\n",
       "      <td>G:A1</td>\n",
       "      <td>2</td>\n",
       "    </tr>\n",
       "    <tr>\n",
       "      <th>2</th>\n",
       "      <td>Blank</td>\n",
       "      <td>Blank_std_20230308_1_002</td>\n",
       "      <td>Blank_std_20230308_002</td>\n",
       "      <td>Blank_std_1</td>\n",
       "      <td>NR</td>\n",
       "      <td>Blank_std</td>\n",
       "      <td>1</td>\n",
       "      <td>D:\\IDX_Data\\Maheshwor\\20220213_phosphatidylser...</td>\n",
       "      <td>C:\\Xcalibur\\methods\\MT\\phosphatidylserine_tSIM...</td>\n",
       "      <td>NaN</td>\n",
       "      <td>G:A2</td>\n",
       "      <td>2</td>\n",
       "    </tr>\n",
       "    <tr>\n",
       "      <th>3</th>\n",
       "      <td>QC</td>\n",
       "      <td>MT_20230308_002</td>\n",
       "      <td>Qstd_20230308_002</td>\n",
       "      <td>Qstd_1</td>\n",
       "      <td>NR</td>\n",
       "      <td>Qstd</td>\n",
       "      <td>1</td>\n",
       "      <td>D:\\IDX_Data\\Maheshwor\\20220213_phosphatidylser...</td>\n",
       "      <td>C:\\Xcalibur\\methods\\MT\\phosphatidylserine_tSIM...</td>\n",
       "      <td>NaN</td>\n",
       "      <td>G:A3</td>\n",
       "      <td>2</td>\n",
       "    </tr>\n",
       "    <tr>\n",
       "      <th>4</th>\n",
       "      <td>QC</td>\n",
       "      <td>MT_20230308_004</td>\n",
       "      <td>Qstd_20230308_004</td>\n",
       "      <td>Qstd_2</td>\n",
       "      <td>NR</td>\n",
       "      <td>Qstd</td>\n",
       "      <td>1</td>\n",
       "      <td>D:\\IDX_Data\\Maheshwor\\20220213_phosphatidylser...</td>\n",
       "      <td>C:\\Xcalibur\\methods\\MT\\phosphatidylserine_tSIM...</td>\n",
       "      <td>NaN</td>\n",
       "      <td>G:A3</td>\n",
       "      <td>2</td>\n",
       "    </tr>\n",
       "  </tbody>\n",
       "</table>\n",
       "</div>"
      ],
      "text/plain": [
       "  Sample Type                 File Name               Sample ID Sample_ID_upd cell_number      group  Comment                                               Path                                  Instrument Method  Process Method Position  Inj Vol\n",
       "0       Blank        Blank_20230308_002      Blank_20230308_002       Blank_1          NR      Blank        1  D:\\IDX_Data\\Maheshwor\\20220213_phosphatidylser...  C:\\Xcalibur\\methods\\MT\\phosphatidylserine_tSIM...             NaN     G:A1        2\n",
       "1       Blank        Blank_20230308_004      Blank_20230308_004       Blank_2          NR      Blank        1  D:\\IDX_Data\\Maheshwor\\20220213_phosphatidylser...  C:\\Xcalibur\\methods\\MT\\phosphatidylserine_tSIM...             NaN     G:A1        2\n",
       "2       Blank  Blank_std_20230308_1_002  Blank_std_20230308_002   Blank_std_1          NR  Blank_std        1  D:\\IDX_Data\\Maheshwor\\20220213_phosphatidylser...  C:\\Xcalibur\\methods\\MT\\phosphatidylserine_tSIM...             NaN     G:A2        2\n",
       "3          QC           MT_20230308_002       Qstd_20230308_002        Qstd_1          NR       Qstd        1  D:\\IDX_Data\\Maheshwor\\20220213_phosphatidylser...  C:\\Xcalibur\\methods\\MT\\phosphatidylserine_tSIM...             NaN     G:A3        2\n",
       "4          QC           MT_20230308_004       Qstd_20230308_004        Qstd_2          NR       Qstd        1  D:\\IDX_Data\\Maheshwor\\20220213_phosphatidylser...  C:\\Xcalibur\\methods\\MT\\phosphatidylserine_tSIM...             NaN     G:A3        2"
      ]
     },
     "execution_count": 19,
     "metadata": {},
     "output_type": "execute_result"
    }
   ],
   "source": [
    "meta_df.head()"
   ]
  },
  {
   "cell_type": "code",
   "execution_count": 20,
   "id": "a34891c3",
   "metadata": {},
   "outputs": [],
   "source": [
    "name_dict = {row['File Name']:row['Sample_ID_upd'] for i, row in meta_df.iterrows() }"
   ]
  },
  {
   "cell_type": "code",
   "execution_count": 21,
   "id": "c1842589",
   "metadata": {},
   "outputs": [],
   "source": [
    "feat_df.columns = [name_dict[x] if x in name_dict else x for x in feat_df.columns]"
   ]
  },
  {
   "cell_type": "code",
   "execution_count": 22,
   "id": "d43173dc",
   "metadata": {},
   "outputs": [
    {
     "data": {
      "text/plain": [
       "Index(['id_number', 'mz', 'rtime', 'rtime_left_base', 'rtime_right_base', 'parent_masstrack_id', 'peak_area', 'cSelectivity', 'goodness_fitting', 'snr', 'detection_counts', 'Qstd_3', 'Blank_1', 'Blank_2', 'Blank_3', 'Blank_std_1', 'Qstd_1', 'Qstd_2', 'pooled_1', 'Tn_250K_1', 'Tn_250K_2', 'Tn_750K_3', 'Tn_750K_4', 'CD8stem_250K_1', 'CD8stem_300K_2', 'pooled_2', 'CD8trans_350K_1', 'CD8trans_250K_2', 'CD8TD_750K_1', 'CD8TD_750K_2', 'pooled_3'], dtype='object')"
      ]
     },
     "execution_count": 22,
     "metadata": {},
     "output_type": "execute_result"
    }
   ],
   "source": [
    "feat_df.columns"
   ]
  },
  {
   "cell_type": "code",
   "execution_count": 23,
   "id": "e30e0ff8",
   "metadata": {},
   "outputs": [],
   "source": [
    "end_index = 11"
   ]
  },
  {
   "cell_type": "code",
   "execution_count": 24,
   "id": "62c80ace",
   "metadata": {},
   "outputs": [
    {
     "data": {
      "text/plain": [
       "Index(['snr', 'detection_counts', 'Qstd_3', 'Blank_1'], dtype='object')"
      ]
     },
     "execution_count": 24,
     "metadata": {},
     "output_type": "execute_result"
    }
   ],
   "source": [
    "feat_df.iloc[:,end_index-2:end_index +2].columns"
   ]
  },
  {
   "cell_type": "code",
   "execution_count": 25,
   "id": "85e5ee1d",
   "metadata": {},
   "outputs": [],
   "source": [
    "new_col = feat_df.columns[0:end_index].tolist() + meta_df['Sample_ID_upd'].tolist()"
   ]
  },
  {
   "cell_type": "code",
   "execution_count": 26,
   "id": "deaa2a3b",
   "metadata": {},
   "outputs": [],
   "source": [
    "reord_feat_df = feat_df[new_col]"
   ]
  },
  {
   "cell_type": "markdown",
   "id": "a592f25f-e52b-433a-b948-33173a2e826c",
   "metadata": {},
   "source": [
    "# remove samples if necessary"
   ]
  },
  {
   "cell_type": "code",
   "execution_count": 31,
   "id": "f976d43e-9577-43e5-99cd-e3b600744af5",
   "metadata": {},
   "outputs": [],
   "source": [
    "if len(rm_samples) > 0:\n",
    "    reord_feat_df = reord_feat_df.drop(rm_samples, axis = 1)  # rm_samples = ['Tn_750K_3', 'Tn_750K_4']"
   ]
  },
  {
   "cell_type": "code",
   "execution_count": 32,
   "id": "9be522c6-6908-48c6-8a34-27e60230c894",
   "metadata": {
    "tags": []
   },
   "outputs": [
    {
     "data": {
      "text/html": [
       "<div>\n",
       "<style scoped>\n",
       "    .dataframe tbody tr th:only-of-type {\n",
       "        vertical-align: middle;\n",
       "    }\n",
       "\n",
       "    .dataframe tbody tr th {\n",
       "        vertical-align: top;\n",
       "    }\n",
       "\n",
       "    .dataframe thead th {\n",
       "        text-align: right;\n",
       "    }\n",
       "</style>\n",
       "<table border=\"1\" class=\"dataframe\">\n",
       "  <thead>\n",
       "    <tr style=\"text-align: right;\">\n",
       "      <th></th>\n",
       "      <th>id_number</th>\n",
       "      <th>mz</th>\n",
       "      <th>rtime</th>\n",
       "      <th>rtime_left_base</th>\n",
       "      <th>rtime_right_base</th>\n",
       "      <th>parent_masstrack_id</th>\n",
       "      <th>peak_area</th>\n",
       "      <th>cSelectivity</th>\n",
       "      <th>goodness_fitting</th>\n",
       "      <th>snr</th>\n",
       "      <th>detection_counts</th>\n",
       "      <th>Blank_1</th>\n",
       "      <th>Blank_2</th>\n",
       "      <th>Blank_std_1</th>\n",
       "      <th>Qstd_1</th>\n",
       "      <th>Qstd_2</th>\n",
       "      <th>pooled_1</th>\n",
       "      <th>Tn_250K_1</th>\n",
       "      <th>Tn_250K_2</th>\n",
       "      <th>CD8stem_250K_1</th>\n",
       "      <th>CD8stem_300K_2</th>\n",
       "      <th>pooled_2</th>\n",
       "      <th>CD8trans_350K_1</th>\n",
       "      <th>CD8trans_250K_2</th>\n",
       "      <th>CD8TD_750K_1</th>\n",
       "      <th>CD8TD_750K_2</th>\n",
       "      <th>pooled_3</th>\n",
       "      <th>Qstd_3</th>\n",
       "      <th>Blank_3</th>\n",
       "    </tr>\n",
       "  </thead>\n",
       "  <tbody>\n",
       "    <tr>\n",
       "      <th>0</th>\n",
       "      <td>F1</td>\n",
       "      <td>435.0348</td>\n",
       "      <td>21.61</td>\n",
       "      <td>20.57</td>\n",
       "      <td>23.50</td>\n",
       "      <td>562</td>\n",
       "      <td>1491847</td>\n",
       "      <td>1.00</td>\n",
       "      <td>0.98</td>\n",
       "      <td>211</td>\n",
       "      <td>2</td>\n",
       "      <td>0</td>\n",
       "      <td>0</td>\n",
       "      <td>0</td>\n",
       "      <td>0</td>\n",
       "      <td>0</td>\n",
       "      <td>0</td>\n",
       "      <td>0</td>\n",
       "      <td>597228</td>\n",
       "      <td>0</td>\n",
       "      <td>0</td>\n",
       "      <td>0</td>\n",
       "      <td>0</td>\n",
       "      <td>909625</td>\n",
       "      <td>0</td>\n",
       "      <td>0</td>\n",
       "      <td>0</td>\n",
       "      <td>0</td>\n",
       "      <td>0</td>\n",
       "    </tr>\n",
       "    <tr>\n",
       "      <th>1</th>\n",
       "      <td>F2</td>\n",
       "      <td>400.0653</td>\n",
       "      <td>21.40</td>\n",
       "      <td>20.14</td>\n",
       "      <td>23.94</td>\n",
       "      <td>1</td>\n",
       "      <td>35287713</td>\n",
       "      <td>1.00</td>\n",
       "      <td>0.95</td>\n",
       "      <td>3317</td>\n",
       "      <td>11</td>\n",
       "      <td>0</td>\n",
       "      <td>0</td>\n",
       "      <td>0</td>\n",
       "      <td>0</td>\n",
       "      <td>0</td>\n",
       "      <td>3390738</td>\n",
       "      <td>0</td>\n",
       "      <td>60376</td>\n",
       "      <td>1027433</td>\n",
       "      <td>2591103</td>\n",
       "      <td>3259847</td>\n",
       "      <td>1778230</td>\n",
       "      <td>0</td>\n",
       "      <td>1093155</td>\n",
       "      <td>7938840</td>\n",
       "      <td>3717405</td>\n",
       "      <td>0</td>\n",
       "      <td>0</td>\n",
       "    </tr>\n",
       "    <tr>\n",
       "      <th>2</th>\n",
       "      <td>F3</td>\n",
       "      <td>400.0653</td>\n",
       "      <td>27.00</td>\n",
       "      <td>24.82</td>\n",
       "      <td>29.40</td>\n",
       "      <td>1</td>\n",
       "      <td>12272252</td>\n",
       "      <td>0.92</td>\n",
       "      <td>0.79</td>\n",
       "      <td>885</td>\n",
       "      <td>14</td>\n",
       "      <td>873510</td>\n",
       "      <td>803898</td>\n",
       "      <td>0</td>\n",
       "      <td>0</td>\n",
       "      <td>0</td>\n",
       "      <td>748724</td>\n",
       "      <td>0</td>\n",
       "      <td>1615544</td>\n",
       "      <td>513672</td>\n",
       "      <td>1042438</td>\n",
       "      <td>785947</td>\n",
       "      <td>708850</td>\n",
       "      <td>0</td>\n",
       "      <td>339999</td>\n",
       "      <td>625787</td>\n",
       "      <td>765062</td>\n",
       "      <td>0</td>\n",
       "      <td>1002504</td>\n",
       "    </tr>\n",
       "    <tr>\n",
       "      <th>3</th>\n",
       "      <td>F4</td>\n",
       "      <td>435.1144</td>\n",
       "      <td>117.56</td>\n",
       "      <td>114.91</td>\n",
       "      <td>119.96</td>\n",
       "      <td>563</td>\n",
       "      <td>19862141</td>\n",
       "      <td>1.00</td>\n",
       "      <td>0.91</td>\n",
       "      <td>40</td>\n",
       "      <td>11</td>\n",
       "      <td>0</td>\n",
       "      <td>0</td>\n",
       "      <td>0</td>\n",
       "      <td>0</td>\n",
       "      <td>0</td>\n",
       "      <td>1456871</td>\n",
       "      <td>1419754</td>\n",
       "      <td>1996819</td>\n",
       "      <td>1769503</td>\n",
       "      <td>1820261</td>\n",
       "      <td>1966062</td>\n",
       "      <td>2140897</td>\n",
       "      <td>1946997</td>\n",
       "      <td>0</td>\n",
       "      <td>2309285</td>\n",
       "      <td>2216140</td>\n",
       "      <td>0</td>\n",
       "      <td>0</td>\n",
       "    </tr>\n",
       "    <tr>\n",
       "      <th>4</th>\n",
       "      <td>F5</td>\n",
       "      <td>435.1205</td>\n",
       "      <td>23.94</td>\n",
       "      <td>22.65</td>\n",
       "      <td>25.25</td>\n",
       "      <td>564</td>\n",
       "      <td>7169486</td>\n",
       "      <td>0.83</td>\n",
       "      <td>0.96</td>\n",
       "      <td>850</td>\n",
       "      <td>9</td>\n",
       "      <td>0</td>\n",
       "      <td>0</td>\n",
       "      <td>0</td>\n",
       "      <td>0</td>\n",
       "      <td>0</td>\n",
       "      <td>540403</td>\n",
       "      <td>0</td>\n",
       "      <td>0</td>\n",
       "      <td>789810</td>\n",
       "      <td>920317</td>\n",
       "      <td>924456</td>\n",
       "      <td>829886</td>\n",
       "      <td>0</td>\n",
       "      <td>0</td>\n",
       "      <td>746458</td>\n",
       "      <td>826633</td>\n",
       "      <td>0</td>\n",
       "      <td>0</td>\n",
       "    </tr>\n",
       "    <tr>\n",
       "      <th>...</th>\n",
       "      <td>...</td>\n",
       "      <td>...</td>\n",
       "      <td>...</td>\n",
       "      <td>...</td>\n",
       "      <td>...</td>\n",
       "      <td>...</td>\n",
       "      <td>...</td>\n",
       "      <td>...</td>\n",
       "      <td>...</td>\n",
       "      <td>...</td>\n",
       "      <td>...</td>\n",
       "      <td>...</td>\n",
       "      <td>...</td>\n",
       "      <td>...</td>\n",
       "      <td>...</td>\n",
       "      <td>...</td>\n",
       "      <td>...</td>\n",
       "      <td>...</td>\n",
       "      <td>...</td>\n",
       "      <td>...</td>\n",
       "      <td>...</td>\n",
       "      <td>...</td>\n",
       "      <td>...</td>\n",
       "      <td>...</td>\n",
       "      <td>...</td>\n",
       "      <td>...</td>\n",
       "      <td>...</td>\n",
       "      <td>...</td>\n",
       "      <td>...</td>\n",
       "    </tr>\n",
       "    <tr>\n",
       "      <th>17557</th>\n",
       "      <td>F17558</td>\n",
       "      <td>949.7524</td>\n",
       "      <td>446.86</td>\n",
       "      <td>444.59</td>\n",
       "      <td>447.89</td>\n",
       "      <td>8377</td>\n",
       "      <td>87360761</td>\n",
       "      <td>0.85</td>\n",
       "      <td>0.71</td>\n",
       "      <td>437</td>\n",
       "      <td>18</td>\n",
       "      <td>4395512</td>\n",
       "      <td>4111804</td>\n",
       "      <td>5519261</td>\n",
       "      <td>757321</td>\n",
       "      <td>0</td>\n",
       "      <td>5827359</td>\n",
       "      <td>5668402</td>\n",
       "      <td>4952418</td>\n",
       "      <td>4991699</td>\n",
       "      <td>5691484</td>\n",
       "      <td>4797976</td>\n",
       "      <td>6410892</td>\n",
       "      <td>6217190</td>\n",
       "      <td>5430355</td>\n",
       "      <td>5087417</td>\n",
       "      <td>4235760</td>\n",
       "      <td>0</td>\n",
       "      <td>2044319</td>\n",
       "    </tr>\n",
       "    <tr>\n",
       "      <th>17558</th>\n",
       "      <td>F17559</td>\n",
       "      <td>949.7524</td>\n",
       "      <td>449.13</td>\n",
       "      <td>448.31</td>\n",
       "      <td>451.61</td>\n",
       "      <td>8377</td>\n",
       "      <td>82655055</td>\n",
       "      <td>0.83</td>\n",
       "      <td>0.84</td>\n",
       "      <td>403</td>\n",
       "      <td>18</td>\n",
       "      <td>4568972</td>\n",
       "      <td>4123292</td>\n",
       "      <td>4074285</td>\n",
       "      <td>1344715</td>\n",
       "      <td>0</td>\n",
       "      <td>6155774</td>\n",
       "      <td>5944471</td>\n",
       "      <td>5642641</td>\n",
       "      <td>4858907</td>\n",
       "      <td>5264818</td>\n",
       "      <td>5007545</td>\n",
       "      <td>5744498</td>\n",
       "      <td>6505515</td>\n",
       "      <td>4697388</td>\n",
       "      <td>4704692</td>\n",
       "      <td>3999424</td>\n",
       "      <td>0</td>\n",
       "      <td>2189983</td>\n",
       "    </tr>\n",
       "    <tr>\n",
       "      <th>17559</th>\n",
       "      <td>F17560</td>\n",
       "      <td>949.7524</td>\n",
       "      <td>481.09</td>\n",
       "      <td>478.46</td>\n",
       "      <td>479.12</td>\n",
       "      <td>8377</td>\n",
       "      <td>2347320</td>\n",
       "      <td>0.44</td>\n",
       "      <td>0.78</td>\n",
       "      <td>2</td>\n",
       "      <td>8</td>\n",
       "      <td>0</td>\n",
       "      <td>0</td>\n",
       "      <td>0</td>\n",
       "      <td>0</td>\n",
       "      <td>0</td>\n",
       "      <td>0</td>\n",
       "      <td>93241</td>\n",
       "      <td>31337</td>\n",
       "      <td>0</td>\n",
       "      <td>35465</td>\n",
       "      <td>27271</td>\n",
       "      <td>56619</td>\n",
       "      <td>58262</td>\n",
       "      <td>35735</td>\n",
       "      <td>0</td>\n",
       "      <td>0</td>\n",
       "      <td>0</td>\n",
       "      <td>0</td>\n",
       "    </tr>\n",
       "    <tr>\n",
       "      <th>17560</th>\n",
       "      <td>F17561</td>\n",
       "      <td>949.7524</td>\n",
       "      <td>481.74</td>\n",
       "      <td>481.30</td>\n",
       "      <td>483.93</td>\n",
       "      <td>8377</td>\n",
       "      <td>4419439</td>\n",
       "      <td>0.44</td>\n",
       "      <td>0.70</td>\n",
       "      <td>3</td>\n",
       "      <td>15</td>\n",
       "      <td>0</td>\n",
       "      <td>23157</td>\n",
       "      <td>19963</td>\n",
       "      <td>0</td>\n",
       "      <td>0</td>\n",
       "      <td>306927</td>\n",
       "      <td>371250</td>\n",
       "      <td>372913</td>\n",
       "      <td>99528</td>\n",
       "      <td>279660</td>\n",
       "      <td>129001</td>\n",
       "      <td>223732</td>\n",
       "      <td>332936</td>\n",
       "      <td>56875</td>\n",
       "      <td>123716</td>\n",
       "      <td>33300</td>\n",
       "      <td>0</td>\n",
       "      <td>0</td>\n",
       "    </tr>\n",
       "    <tr>\n",
       "      <th>17561</th>\n",
       "      <td>F17562</td>\n",
       "      <td>949.7624</td>\n",
       "      <td>473.08</td>\n",
       "      <td>470.59</td>\n",
       "      <td>475.60</td>\n",
       "      <td>8378</td>\n",
       "      <td>90369305</td>\n",
       "      <td>0.74</td>\n",
       "      <td>0.95</td>\n",
       "      <td>73</td>\n",
       "      <td>3</td>\n",
       "      <td>0</td>\n",
       "      <td>0</td>\n",
       "      <td>0</td>\n",
       "      <td>29155108</td>\n",
       "      <td>29732370</td>\n",
       "      <td>0</td>\n",
       "      <td>0</td>\n",
       "      <td>0</td>\n",
       "      <td>0</td>\n",
       "      <td>0</td>\n",
       "      <td>0</td>\n",
       "      <td>0</td>\n",
       "      <td>0</td>\n",
       "      <td>0</td>\n",
       "      <td>0</td>\n",
       "      <td>0</td>\n",
       "      <td>31506827</td>\n",
       "      <td>0</td>\n",
       "    </tr>\n",
       "  </tbody>\n",
       "</table>\n",
       "<p>17562 rows × 29 columns</p>\n",
       "</div>"
      ],
      "text/plain": [
       "      id_number        mz   rtime  rtime_left_base  rtime_right_base  parent_masstrack_id  peak_area  cSelectivity  goodness_fitting   snr  detection_counts  Blank_1  Blank_2  Blank_std_1    Qstd_1    Qstd_2  pooled_1  Tn_250K_1  Tn_250K_2  CD8stem_250K_1  CD8stem_300K_2  pooled_2  CD8trans_350K_1  CD8trans_250K_2  CD8TD_750K_1  CD8TD_750K_2  pooled_3    Qstd_3  Blank_3\n",
       "0            F1  435.0348   21.61            20.57             23.50                  562    1491847          1.00              0.98   211                 2        0        0            0         0         0         0          0     597228               0               0         0                0           909625             0             0         0         0        0\n",
       "1            F2  400.0653   21.40            20.14             23.94                    1   35287713          1.00              0.95  3317                11        0        0            0         0         0   3390738          0      60376         1027433         2591103   3259847          1778230                0       1093155       7938840   3717405         0        0\n",
       "2            F3  400.0653   27.00            24.82             29.40                    1   12272252          0.92              0.79   885                14   873510   803898            0         0         0    748724          0    1615544          513672         1042438    785947           708850                0        339999        625787    765062         0  1002504\n",
       "3            F4  435.1144  117.56           114.91            119.96                  563   19862141          1.00              0.91    40                11        0        0            0         0         0   1456871    1419754    1996819         1769503         1820261   1966062          2140897          1946997             0       2309285   2216140         0        0\n",
       "4            F5  435.1205   23.94            22.65             25.25                  564    7169486          0.83              0.96   850                 9        0        0            0         0         0    540403          0          0          789810          920317    924456           829886                0             0        746458    826633         0        0\n",
       "...         ...       ...     ...              ...               ...                  ...        ...           ...               ...   ...               ...      ...      ...          ...       ...       ...       ...        ...        ...             ...             ...       ...              ...              ...           ...           ...       ...       ...      ...\n",
       "17557    F17558  949.7524  446.86           444.59            447.89                 8377   87360761          0.85              0.71   437                18  4395512  4111804      5519261    757321         0   5827359    5668402    4952418         4991699         5691484   4797976          6410892          6217190       5430355       5087417   4235760         0  2044319\n",
       "17558    F17559  949.7524  449.13           448.31            451.61                 8377   82655055          0.83              0.84   403                18  4568972  4123292      4074285   1344715         0   6155774    5944471    5642641         4858907         5264818   5007545          5744498          6505515       4697388       4704692   3999424         0  2189983\n",
       "17559    F17560  949.7524  481.09           478.46            479.12                 8377    2347320          0.44              0.78     2                 8        0        0            0         0         0         0      93241      31337               0           35465     27271            56619            58262         35735             0         0         0        0\n",
       "17560    F17561  949.7524  481.74           481.30            483.93                 8377    4419439          0.44              0.70     3                15        0    23157        19963         0         0    306927     371250     372913           99528          279660    129001           223732           332936         56875        123716     33300         0        0\n",
       "17561    F17562  949.7624  473.08           470.59            475.60                 8378   90369305          0.74              0.95    73                 3        0        0            0  29155108  29732370         0          0          0               0               0         0                0                0             0             0         0  31506827        0\n",
       "\n",
       "[17562 rows x 29 columns]"
      ]
     },
     "execution_count": 32,
     "metadata": {},
     "output_type": "execute_result"
    }
   ],
   "source": [
    "reord_feat_df"
   ]
  },
  {
   "cell_type": "markdown",
   "id": "83022b5a",
   "metadata": {},
   "source": [
    "#### export the renamed target feature table without any normalizations..."
   ]
  },
  {
   "cell_type": "code",
   "execution_count": 33,
   "id": "c65873c9",
   "metadata": {
    "tags": []
   },
   "outputs": [],
   "source": [
    "reord_feat_df.to_csv(os.path.join(output_dir,\"renamed_full_feature_table.csv\"),index = False)"
   ]
  },
  {
   "cell_type": "markdown",
   "id": "3448c478",
   "metadata": {},
   "source": [
    "------"
   ]
  },
  {
   "cell_type": "markdown",
   "id": "fdd7a9d0",
   "metadata": {},
   "source": [
    "------"
   ]
  },
  {
   "cell_type": "markdown",
   "id": "20446161",
   "metadata": {},
   "source": [
    "#### Since this is a small experiment\n",
    "- I have modified the metadata accordingly, no need for doing this in the later sections`m"
   ]
  },
  {
   "cell_type": "code",
   "execution_count": 34,
   "id": "4aa05499",
   "metadata": {},
   "outputs": [],
   "source": [
    "def extract_list2list(regExpr,a_list):\n",
    "    return([re.search(regExpr,x)[0] for x in a_list if re.search(regExpr,x)])\n",
    "\n",
    "def extract_list2dict(regExpr,a_list):\n",
    "    return({x:re.search(regExpr,x)[0] for x in a_list if re.search(regExpr,x)})"
   ]
  },
  {
   "cell_type": "markdown",
   "id": "2e826b16",
   "metadata": {},
   "source": [
    "---------"
   ]
  },
  {
   "cell_type": "markdown",
   "id": "e31809fa",
   "metadata": {},
   "source": [
    "## Preprocess the asari table \n",
    "- Separate metainfo_df & data_df; convert zero to np.nan"
   ]
  },
  {
   "cell_type": "code",
   "execution_count": 35,
   "id": "b425ffa7",
   "metadata": {},
   "outputs": [],
   "source": [
    "reord_feat_df.index = reord_feat_df['id_number']"
   ]
  },
  {
   "cell_type": "code",
   "execution_count": 36,
   "id": "5d07a724",
   "metadata": {},
   "outputs": [],
   "source": [
    "data_df = reord_feat_df.iloc[:,end_index:]"
   ]
  },
  {
   "cell_type": "code",
   "execution_count": 37,
   "id": "6f20c736",
   "metadata": {},
   "outputs": [
    {
     "data": {
      "text/html": [
       "<div>\n",
       "<style scoped>\n",
       "    .dataframe tbody tr th:only-of-type {\n",
       "        vertical-align: middle;\n",
       "    }\n",
       "\n",
       "    .dataframe tbody tr th {\n",
       "        vertical-align: top;\n",
       "    }\n",
       "\n",
       "    .dataframe thead th {\n",
       "        text-align: right;\n",
       "    }\n",
       "</style>\n",
       "<table border=\"1\" class=\"dataframe\">\n",
       "  <thead>\n",
       "    <tr style=\"text-align: right;\">\n",
       "      <th></th>\n",
       "      <th>Blank_1</th>\n",
       "      <th>Blank_2</th>\n",
       "      <th>Blank_std_1</th>\n",
       "      <th>Qstd_1</th>\n",
       "      <th>Qstd_2</th>\n",
       "      <th>pooled_1</th>\n",
       "      <th>Tn_250K_1</th>\n",
       "      <th>Tn_250K_2</th>\n",
       "      <th>CD8stem_250K_1</th>\n",
       "      <th>CD8stem_300K_2</th>\n",
       "      <th>pooled_2</th>\n",
       "      <th>CD8trans_350K_1</th>\n",
       "      <th>CD8trans_250K_2</th>\n",
       "      <th>CD8TD_750K_1</th>\n",
       "      <th>CD8TD_750K_2</th>\n",
       "      <th>pooled_3</th>\n",
       "      <th>Qstd_3</th>\n",
       "      <th>Blank_3</th>\n",
       "    </tr>\n",
       "    <tr>\n",
       "      <th>id_number</th>\n",
       "      <th></th>\n",
       "      <th></th>\n",
       "      <th></th>\n",
       "      <th></th>\n",
       "      <th></th>\n",
       "      <th></th>\n",
       "      <th></th>\n",
       "      <th></th>\n",
       "      <th></th>\n",
       "      <th></th>\n",
       "      <th></th>\n",
       "      <th></th>\n",
       "      <th></th>\n",
       "      <th></th>\n",
       "      <th></th>\n",
       "      <th></th>\n",
       "      <th></th>\n",
       "      <th></th>\n",
       "    </tr>\n",
       "  </thead>\n",
       "  <tbody>\n",
       "    <tr>\n",
       "      <th>F1</th>\n",
       "      <td>0</td>\n",
       "      <td>0</td>\n",
       "      <td>0</td>\n",
       "      <td>0</td>\n",
       "      <td>0</td>\n",
       "      <td>0</td>\n",
       "      <td>0</td>\n",
       "      <td>597228</td>\n",
       "      <td>0</td>\n",
       "      <td>0</td>\n",
       "      <td>0</td>\n",
       "      <td>0</td>\n",
       "      <td>909625</td>\n",
       "      <td>0</td>\n",
       "      <td>0</td>\n",
       "      <td>0</td>\n",
       "      <td>0</td>\n",
       "      <td>0</td>\n",
       "    </tr>\n",
       "    <tr>\n",
       "      <th>F2</th>\n",
       "      <td>0</td>\n",
       "      <td>0</td>\n",
       "      <td>0</td>\n",
       "      <td>0</td>\n",
       "      <td>0</td>\n",
       "      <td>3390738</td>\n",
       "      <td>0</td>\n",
       "      <td>60376</td>\n",
       "      <td>1027433</td>\n",
       "      <td>2591103</td>\n",
       "      <td>3259847</td>\n",
       "      <td>1778230</td>\n",
       "      <td>0</td>\n",
       "      <td>1093155</td>\n",
       "      <td>7938840</td>\n",
       "      <td>3717405</td>\n",
       "      <td>0</td>\n",
       "      <td>0</td>\n",
       "    </tr>\n",
       "    <tr>\n",
       "      <th>F3</th>\n",
       "      <td>873510</td>\n",
       "      <td>803898</td>\n",
       "      <td>0</td>\n",
       "      <td>0</td>\n",
       "      <td>0</td>\n",
       "      <td>748724</td>\n",
       "      <td>0</td>\n",
       "      <td>1615544</td>\n",
       "      <td>513672</td>\n",
       "      <td>1042438</td>\n",
       "      <td>785947</td>\n",
       "      <td>708850</td>\n",
       "      <td>0</td>\n",
       "      <td>339999</td>\n",
       "      <td>625787</td>\n",
       "      <td>765062</td>\n",
       "      <td>0</td>\n",
       "      <td>1002504</td>\n",
       "    </tr>\n",
       "    <tr>\n",
       "      <th>F4</th>\n",
       "      <td>0</td>\n",
       "      <td>0</td>\n",
       "      <td>0</td>\n",
       "      <td>0</td>\n",
       "      <td>0</td>\n",
       "      <td>1456871</td>\n",
       "      <td>1419754</td>\n",
       "      <td>1996819</td>\n",
       "      <td>1769503</td>\n",
       "      <td>1820261</td>\n",
       "      <td>1966062</td>\n",
       "      <td>2140897</td>\n",
       "      <td>1946997</td>\n",
       "      <td>0</td>\n",
       "      <td>2309285</td>\n",
       "      <td>2216140</td>\n",
       "      <td>0</td>\n",
       "      <td>0</td>\n",
       "    </tr>\n",
       "    <tr>\n",
       "      <th>F5</th>\n",
       "      <td>0</td>\n",
       "      <td>0</td>\n",
       "      <td>0</td>\n",
       "      <td>0</td>\n",
       "      <td>0</td>\n",
       "      <td>540403</td>\n",
       "      <td>0</td>\n",
       "      <td>0</td>\n",
       "      <td>789810</td>\n",
       "      <td>920317</td>\n",
       "      <td>924456</td>\n",
       "      <td>829886</td>\n",
       "      <td>0</td>\n",
       "      <td>0</td>\n",
       "      <td>746458</td>\n",
       "      <td>826633</td>\n",
       "      <td>0</td>\n",
       "      <td>0</td>\n",
       "    </tr>\n",
       "  </tbody>\n",
       "</table>\n",
       "</div>"
      ],
      "text/plain": [
       "           Blank_1  Blank_2  Blank_std_1  Qstd_1  Qstd_2  pooled_1  Tn_250K_1  Tn_250K_2  CD8stem_250K_1  CD8stem_300K_2  pooled_2  CD8trans_350K_1  CD8trans_250K_2  CD8TD_750K_1  CD8TD_750K_2  pooled_3  Qstd_3  Blank_3\n",
       "id_number                                                                                                                                                                                                                  \n",
       "F1               0        0            0       0       0         0          0     597228               0               0         0                0           909625             0             0         0       0        0\n",
       "F2               0        0            0       0       0   3390738          0      60376         1027433         2591103   3259847          1778230                0       1093155       7938840   3717405       0        0\n",
       "F3          873510   803898            0       0       0    748724          0    1615544          513672         1042438    785947           708850                0        339999        625787    765062       0  1002504\n",
       "F4               0        0            0       0       0   1456871    1419754    1996819         1769503         1820261   1966062          2140897          1946997             0       2309285   2216140       0        0\n",
       "F5               0        0            0       0       0    540403          0          0          789810          920317    924456           829886                0             0        746458    826633       0        0"
      ]
     },
     "execution_count": 37,
     "metadata": {},
     "output_type": "execute_result"
    }
   ],
   "source": [
    "data_df.head()"
   ]
  },
  {
   "cell_type": "code",
   "execution_count": 38,
   "id": "78213679",
   "metadata": {},
   "outputs": [],
   "source": [
    "metainfo_df = reord_feat_df.iloc[:,0:end_index]"
   ]
  },
  {
   "cell_type": "code",
   "execution_count": 39,
   "id": "bcb968a7",
   "metadata": {},
   "outputs": [],
   "source": [
    "# turn all zero to NA for easy manipulation later\n",
    "data_df[data_df == 0 ] = np.nan"
   ]
  },
  {
   "cell_type": "markdown",
   "id": "81af98b8",
   "metadata": {},
   "source": [
    "---"
   ]
  },
  {
   "cell_type": "markdown",
   "id": "a5bc7a72",
   "metadata": {},
   "source": [
    "-----"
   ]
  },
  {
   "cell_type": "markdown",
   "id": "9d02d057",
   "metadata": {},
   "source": [
    "## Sample present reporting"
   ]
  },
  {
   "cell_type": "markdown",
   "id": "5171fc32",
   "metadata": {
    "tags": []
   },
   "source": [
    "### functions"
   ]
  },
  {
   "cell_type": "code",
   "execution_count": 40,
   "id": "7871d744",
   "metadata": {},
   "outputs": [],
   "source": [
    "import warnings\n",
    "def select_column_regExpr(feat_df,regPattern):\n",
    "    res_df = feat_df.loc[:,[x for x in feat_df.columns \\\n",
    "                            if re.search(regPattern,x)]]\n",
    "    return(res_df)\n",
    "\n",
    "def report_basic_stat(df):\n",
    "    '''\n",
    "    Default calculate mean, min & maximum and percentage of NA for any table.\n",
    "    Before inputting the table, filtering steps may need to be done like correlation of blank matrix and filter out samples.\n",
    "    '''\n",
    "    if any(df == 0):\n",
    "        df[df == 0] = np.nan\n",
    "    \n",
    "    # Use warnings.catch_warnings() to filter out warnings in this block\n",
    "    with warnings.catch_warnings():\n",
    "        warnings.simplefilter(\"ignore\")\n",
    "        mean_list = df.apply(lambda x: np.nanmean(x), axis=1)\n",
    "    \n",
    "        med_list = df.apply(lambda x: x.median(skipna=True), axis=1)\n",
    "        max_list = df.apply(lambda x: x.max(skipna=True), axis=1)\n",
    "        min_list = df.apply(lambda x: x.max(skipna=True), axis=1)\n",
    "\n",
    "        percNA_list = df.apply(lambda x: x.isna()).sum(axis=1) / df.shape[1]\n",
    "\n",
    "        cv_list = []\n",
    "        for i,row in df.iterrows():\n",
    "            if all(np.isnan(row)):\n",
    "                cv_list.append(np.nan)\n",
    "            else:\n",
    "                cv_list.append(row.std(skipna=True) / row.mean(skipna=True))\n",
    "        \n",
    "        df_stat_df1 = pd.DataFrame({\n",
    "            'percNA': percNA_list, \n",
    "            'mean': mean_list,\n",
    "            'median': med_list,\n",
    "            'max': max_list,\n",
    "            'min': min_list,\n",
    "            'cv': cv_list\n",
    "        })\n",
    "        df_dict = df_stat_df1.to_dict('index')\n",
    "    return df_dict\n",
    "\n",
    "\n",
    "def select_and_report(feat_df,regPattern):\n",
    "    sel_df = select_column_regExpr(feat_df,regPattern)\n",
    "    rep_dict = report_basic_stat(sel_df)\n",
    "    return(rep_dict)\n",
    "\n",
    "def dicts2table(dict_of_dict):\n",
    "    new_df = pd.DataFrame()\n",
    "    for k,v in dict_of_dict.items():\n",
    "        tab = pd.DataFrame(v).transpose()\n",
    "        tab.columns = [k + \"_\" + x for x in tab.columns]\n",
    "        new_df =  pd.concat([new_df, tab], axis=1)\n",
    "    return(new_df)"
   ]
  },
  {
   "cell_type": "markdown",
   "id": "6275661e",
   "metadata": {},
   "source": [
    "### Blank stat reporting"
   ]
  },
  {
   "cell_type": "code",
   "execution_count": 41,
   "id": "dcc23fda",
   "metadata": {},
   "outputs": [],
   "source": [
    "blank_df = select_column_regExpr(data_df,'Blank_[0-9]+')"
   ]
  },
  {
   "cell_type": "code",
   "execution_count": 42,
   "id": "3a21dbe7",
   "metadata": {},
   "outputs": [
    {
     "data": {
      "text/plain": [
       "<Axes: >"
      ]
     },
     "execution_count": 42,
     "metadata": {},
     "output_type": "execute_result"
    },
    {
     "data": {
      "image/png": "[encoded data removed]",
      "text/plain": [
       "<Figure size 640x480 with 2 Axes>"
      ]
     },
     "metadata": {},
     "output_type": "display_data"
    }
   ],
   "source": [
    "# quickly check if blank needs to be removed\n",
    "# Note that for drawing this, it will be better to not convert 0 to NA\n",
    "sns.heatmap(blank_df.corr(), cmap=\"coolwarm\")"
   ]
  },
  {
   "cell_type": "markdown",
   "id": "b42f5275",
   "metadata": {},
   "source": [
    "##### sample of `003` is very different, drop that for blank masking"
   ]
  },
  {
   "cell_type": "code",
   "execution_count": 43,
   "id": "49f83ea1",
   "metadata": {
    "tags": []
   },
   "outputs": [
    {
     "data": {
      "text/plain": [
       "<Axes: >"
      ]
     },
     "execution_count": 43,
     "metadata": {},
     "output_type": "execute_result"
    },
    {
     "data": {
      "image/png": "[encoded data removed]",
      "text/plain": [
       "<Figure size 640x480 with 2 Axes>"
      ]
     },
     "metadata": {},
     "output_type": "display_data"
    }
   ],
   "source": [
    "blank_df = select_column_regExpr(data_df,'Blank\\_[1-2]+') # ignore 001\n",
    "sns.heatmap(blank_df.corr(), cmap=\"coolwarm\")"
   ]
  },
  {
   "cell_type": "code",
   "execution_count": 44,
   "id": "356eb16e",
   "metadata": {},
   "outputs": [
    {
     "name": "stdout",
     "output_type": "stream",
     "text": [
      "Index(['Blank_1', 'Blank_2'], dtype='object')\n"
     ]
    }
   ],
   "source": [
    "print(blank_df.columns)\n",
    "blank_dict = report_basic_stat(blank_df)"
   ]
  },
  {
   "cell_type": "code",
   "execution_count": 45,
   "id": "600e9a80",
   "metadata": {},
   "outputs": [
    {
     "name": "stdout",
     "output_type": "stream",
     "text": [
      "Index(['Tn_250K_1', 'Tn_250K_2', 'CD8stem_250K_1', 'CD8stem_300K_2', 'CD8trans_350K_1', 'CD8trans_250K_2', 'CD8TD_750K_1', 'CD8TD_750K_2'], dtype='object')\n"
     ]
    }
   ],
   "source": [
    "sample_df = data_df.loc[:,[x for x in data_df.columns if re.search(\"CD8stem|Tn|CD8TD|CD8trans\",x)]]\n",
    "print(sample_df.columns)\n",
    "sample_dict = report_basic_stat(sample_df)"
   ]
  },
  {
   "cell_type": "code",
   "execution_count": 46,
   "id": "0dfa75c2",
   "metadata": {},
   "outputs": [
    {
     "data": {
      "text/html": [
       "<div>\n",
       "<style scoped>\n",
       "    .dataframe tbody tr th:only-of-type {\n",
       "        vertical-align: middle;\n",
       "    }\n",
       "\n",
       "    .dataframe tbody tr th {\n",
       "        vertical-align: top;\n",
       "    }\n",
       "\n",
       "    .dataframe thead th {\n",
       "        text-align: right;\n",
       "    }\n",
       "</style>\n",
       "<table border=\"1\" class=\"dataframe\">\n",
       "  <thead>\n",
       "    <tr style=\"text-align: right;\">\n",
       "      <th></th>\n",
       "      <th>blank_percNA</th>\n",
       "      <th>blank_mean</th>\n",
       "      <th>blank_median</th>\n",
       "      <th>blank_max</th>\n",
       "      <th>blank_min</th>\n",
       "      <th>blank_cv</th>\n",
       "      <th>sample_percNA</th>\n",
       "      <th>sample_mean</th>\n",
       "      <th>sample_median</th>\n",
       "      <th>sample_max</th>\n",
       "      <th>sample_min</th>\n",
       "      <th>sample_cv</th>\n",
       "    </tr>\n",
       "  </thead>\n",
       "  <tbody>\n",
       "    <tr>\n",
       "      <th>F1</th>\n",
       "      <td>1.0</td>\n",
       "      <td>NaN</td>\n",
       "      <td>NaN</td>\n",
       "      <td>NaN</td>\n",
       "      <td>NaN</td>\n",
       "      <td>NaN</td>\n",
       "      <td>0.750</td>\n",
       "      <td>7.534265e+05</td>\n",
       "      <td>753426.5</td>\n",
       "      <td>909625.0</td>\n",
       "      <td>909625.0</td>\n",
       "      <td>0.293191</td>\n",
       "    </tr>\n",
       "    <tr>\n",
       "      <th>F2</th>\n",
       "      <td>1.0</td>\n",
       "      <td>NaN</td>\n",
       "      <td>NaN</td>\n",
       "      <td>NaN</td>\n",
       "      <td>NaN</td>\n",
       "      <td>NaN</td>\n",
       "      <td>0.250</td>\n",
       "      <td>2.414856e+06</td>\n",
       "      <td>1435692.5</td>\n",
       "      <td>7938840.0</td>\n",
       "      <td>7938840.0</td>\n",
       "      <td>1.173691</td>\n",
       "    </tr>\n",
       "    <tr>\n",
       "      <th>F3</th>\n",
       "      <td>0.0</td>\n",
       "      <td>838704.0</td>\n",
       "      <td>838704.0</td>\n",
       "      <td>873510.0</td>\n",
       "      <td>873510.0</td>\n",
       "      <td>0.058689</td>\n",
       "      <td>0.250</td>\n",
       "      <td>8.077150e+05</td>\n",
       "      <td>667318.5</td>\n",
       "      <td>1615544.0</td>\n",
       "      <td>1615544.0</td>\n",
       "      <td>0.568908</td>\n",
       "    </tr>\n",
       "    <tr>\n",
       "      <th>F4</th>\n",
       "      <td>1.0</td>\n",
       "      <td>NaN</td>\n",
       "      <td>NaN</td>\n",
       "      <td>NaN</td>\n",
       "      <td>NaN</td>\n",
       "      <td>NaN</td>\n",
       "      <td>0.125</td>\n",
       "      <td>1.914788e+06</td>\n",
       "      <td>1946997.0</td>\n",
       "      <td>2309285.0</td>\n",
       "      <td>2309285.0</td>\n",
       "      <td>0.149188</td>\n",
       "    </tr>\n",
       "    <tr>\n",
       "      <th>F5</th>\n",
       "      <td>1.0</td>\n",
       "      <td>NaN</td>\n",
       "      <td>NaN</td>\n",
       "      <td>NaN</td>\n",
       "      <td>NaN</td>\n",
       "      <td>NaN</td>\n",
       "      <td>0.500</td>\n",
       "      <td>8.216178e+05</td>\n",
       "      <td>809848.0</td>\n",
       "      <td>920317.0</td>\n",
       "      <td>920317.0</td>\n",
       "      <td>0.090183</td>\n",
       "    </tr>\n",
       "  </tbody>\n",
       "</table>\n",
       "</div>"
      ],
      "text/plain": [
       "    blank_percNA  blank_mean  blank_median  blank_max  blank_min  blank_cv  sample_percNA   sample_mean  sample_median  sample_max  sample_min  sample_cv\n",
       "F1           1.0         NaN           NaN        NaN        NaN       NaN          0.750  7.534265e+05       753426.5    909625.0    909625.0   0.293191\n",
       "F2           1.0         NaN           NaN        NaN        NaN       NaN          0.250  2.414856e+06      1435692.5   7938840.0   7938840.0   1.173691\n",
       "F3           0.0    838704.0      838704.0   873510.0   873510.0  0.058689          0.250  8.077150e+05       667318.5   1615544.0   1615544.0   0.568908\n",
       "F4           1.0         NaN           NaN        NaN        NaN       NaN          0.125  1.914788e+06      1946997.0   2309285.0   2309285.0   0.149188\n",
       "F5           1.0         NaN           NaN        NaN        NaN       NaN          0.500  8.216178e+05       809848.0    920317.0    920317.0   0.090183"
      ]
     },
     "execution_count": 46,
     "metadata": {},
     "output_type": "execute_result"
    }
   ],
   "source": [
    "# get the NA percentage of blank and samples\n",
    "dict_of_dict = {'blank':blank_dict,\n",
    "                'sample':sample_dict,\n",
    "}\n",
    "\n",
    "stat_df1 = dicts2table(dict_of_dict)\n",
    "stat_df1.head(5) # the statistical table reporting NA was named stat_df1"
   ]
  },
  {
   "cell_type": "markdown",
   "id": "b9d6ca93",
   "metadata": {},
   "source": [
    "### Blank masking"
   ]
  },
  {
   "cell_type": "code",
   "execution_count": 47,
   "id": "df1d0cda",
   "metadata": {},
   "outputs": [],
   "source": [
    "def blank_masking_soft(feat_df,\n",
    "                  stat_df,\n",
    "                  blank_percNA_threshold = 1, # no percentage filtering\n",
    "                  samples2blank_ratio = 3):\n",
    "    new_stat_df = stat_df.loc[((stat_df['blank_percNA'] < blank_percNA_threshold) & \n",
    "                              (stat_df['sample_max'] > stat_df['blank_max']*samples2blank_ratio))| # using maximum\n",
    "                              (stat_df['blank_percNA'] >= blank_percNA_threshold),:] # IF Percentage of NA in blank dataframes exceeds certain levels, \n",
    "    new_feat_df = feat_df.loc[new_stat_df.index,]\n",
    "    return(new_feat_df,new_stat_df)"
   ]
  },
  {
   "cell_type": "code",
   "execution_count": 48,
   "id": "5a41658e",
   "metadata": {
    "tags": []
   },
   "outputs": [],
   "source": [
    "blankMasked_data_df,blankMasked_stat_df = blank_masking_soft(data_df,\n",
    "                                                               stat_df1, \n",
    "                                                               blank_percNA_threshold = 1, \n",
    "                                                               samples2blank_ratio = 2)"
   ]
  },
  {
   "cell_type": "code",
   "execution_count": 49,
   "id": "ff2673be",
   "metadata": {
    "tags": []
   },
   "outputs": [
    {
     "data": {
      "text/plain": [
       "(14702, 18)"
      ]
     },
     "execution_count": 49,
     "metadata": {},
     "output_type": "execute_result"
    }
   ],
   "source": [
    "blankMasked_data_df.shape"
   ]
  },
  {
   "cell_type": "code",
   "execution_count": 50,
   "id": "5d507e86",
   "metadata": {},
   "outputs": [
    {
     "data": {
      "text/html": [
       "<div>\n",
       "<style scoped>\n",
       "    .dataframe tbody tr th:only-of-type {\n",
       "        vertical-align: middle;\n",
       "    }\n",
       "\n",
       "    .dataframe tbody tr th {\n",
       "        vertical-align: top;\n",
       "    }\n",
       "\n",
       "    .dataframe thead th {\n",
       "        text-align: right;\n",
       "    }\n",
       "</style>\n",
       "<table border=\"1\" class=\"dataframe\">\n",
       "  <thead>\n",
       "    <tr style=\"text-align: right;\">\n",
       "      <th></th>\n",
       "      <th>Blank_1</th>\n",
       "      <th>Blank_2</th>\n",
       "      <th>Blank_std_1</th>\n",
       "      <th>Qstd_1</th>\n",
       "      <th>Qstd_2</th>\n",
       "      <th>pooled_1</th>\n",
       "      <th>Tn_250K_1</th>\n",
       "      <th>Tn_250K_2</th>\n",
       "      <th>CD8stem_250K_1</th>\n",
       "      <th>CD8stem_300K_2</th>\n",
       "      <th>pooled_2</th>\n",
       "      <th>CD8trans_350K_1</th>\n",
       "      <th>CD8trans_250K_2</th>\n",
       "      <th>CD8TD_750K_1</th>\n",
       "      <th>CD8TD_750K_2</th>\n",
       "      <th>pooled_3</th>\n",
       "      <th>Qstd_3</th>\n",
       "      <th>Blank_3</th>\n",
       "    </tr>\n",
       "  </thead>\n",
       "  <tbody>\n",
       "    <tr>\n",
       "      <th>F1</th>\n",
       "      <td>NaN</td>\n",
       "      <td>NaN</td>\n",
       "      <td>NaN</td>\n",
       "      <td>NaN</td>\n",
       "      <td>NaN</td>\n",
       "      <td>NaN</td>\n",
       "      <td>NaN</td>\n",
       "      <td>597228.0</td>\n",
       "      <td>NaN</td>\n",
       "      <td>NaN</td>\n",
       "      <td>NaN</td>\n",
       "      <td>NaN</td>\n",
       "      <td>909625.0</td>\n",
       "      <td>NaN</td>\n",
       "      <td>NaN</td>\n",
       "      <td>NaN</td>\n",
       "      <td>NaN</td>\n",
       "      <td>NaN</td>\n",
       "    </tr>\n",
       "    <tr>\n",
       "      <th>F2</th>\n",
       "      <td>NaN</td>\n",
       "      <td>NaN</td>\n",
       "      <td>NaN</td>\n",
       "      <td>NaN</td>\n",
       "      <td>NaN</td>\n",
       "      <td>3390738.0</td>\n",
       "      <td>NaN</td>\n",
       "      <td>60376.0</td>\n",
       "      <td>1027433.0</td>\n",
       "      <td>2591103.0</td>\n",
       "      <td>3259847.0</td>\n",
       "      <td>1778230.0</td>\n",
       "      <td>NaN</td>\n",
       "      <td>1093155.0</td>\n",
       "      <td>7938840.0</td>\n",
       "      <td>3717405.0</td>\n",
       "      <td>NaN</td>\n",
       "      <td>NaN</td>\n",
       "    </tr>\n",
       "    <tr>\n",
       "      <th>F4</th>\n",
       "      <td>NaN</td>\n",
       "      <td>NaN</td>\n",
       "      <td>NaN</td>\n",
       "      <td>NaN</td>\n",
       "      <td>NaN</td>\n",
       "      <td>1456871.0</td>\n",
       "      <td>1419754.0</td>\n",
       "      <td>1996819.0</td>\n",
       "      <td>1769503.0</td>\n",
       "      <td>1820261.0</td>\n",
       "      <td>1966062.0</td>\n",
       "      <td>2140897.0</td>\n",
       "      <td>1946997.0</td>\n",
       "      <td>NaN</td>\n",
       "      <td>2309285.0</td>\n",
       "      <td>2216140.0</td>\n",
       "      <td>NaN</td>\n",
       "      <td>NaN</td>\n",
       "    </tr>\n",
       "    <tr>\n",
       "      <th>F5</th>\n",
       "      <td>NaN</td>\n",
       "      <td>NaN</td>\n",
       "      <td>NaN</td>\n",
       "      <td>NaN</td>\n",
       "      <td>NaN</td>\n",
       "      <td>540403.0</td>\n",
       "      <td>NaN</td>\n",
       "      <td>NaN</td>\n",
       "      <td>789810.0</td>\n",
       "      <td>920317.0</td>\n",
       "      <td>924456.0</td>\n",
       "      <td>829886.0</td>\n",
       "      <td>NaN</td>\n",
       "      <td>NaN</td>\n",
       "      <td>746458.0</td>\n",
       "      <td>826633.0</td>\n",
       "      <td>NaN</td>\n",
       "      <td>NaN</td>\n",
       "    </tr>\n",
       "    <tr>\n",
       "      <th>F6</th>\n",
       "      <td>NaN</td>\n",
       "      <td>NaN</td>\n",
       "      <td>NaN</td>\n",
       "      <td>NaN</td>\n",
       "      <td>NaN</td>\n",
       "      <td>2236310.0</td>\n",
       "      <td>NaN</td>\n",
       "      <td>NaN</td>\n",
       "      <td>1492999.0</td>\n",
       "      <td>1951666.0</td>\n",
       "      <td>2219035.0</td>\n",
       "      <td>2146985.0</td>\n",
       "      <td>NaN</td>\n",
       "      <td>NaN</td>\n",
       "      <td>1616575.0</td>\n",
       "      <td>2157561.0</td>\n",
       "      <td>NaN</td>\n",
       "      <td>NaN</td>\n",
       "    </tr>\n",
       "  </tbody>\n",
       "</table>\n",
       "</div>"
      ],
      "text/plain": [
       "    Blank_1  Blank_2  Blank_std_1  Qstd_1  Qstd_2   pooled_1  Tn_250K_1  Tn_250K_2  CD8stem_250K_1  CD8stem_300K_2   pooled_2  CD8trans_350K_1  CD8trans_250K_2  CD8TD_750K_1  CD8TD_750K_2   pooled_3  Qstd_3  Blank_3\n",
       "F1      NaN      NaN          NaN     NaN     NaN        NaN        NaN   597228.0             NaN             NaN        NaN              NaN         909625.0           NaN           NaN        NaN     NaN      NaN\n",
       "F2      NaN      NaN          NaN     NaN     NaN  3390738.0        NaN    60376.0       1027433.0       2591103.0  3259847.0        1778230.0              NaN     1093155.0     7938840.0  3717405.0     NaN      NaN\n",
       "F4      NaN      NaN          NaN     NaN     NaN  1456871.0  1419754.0  1996819.0       1769503.0       1820261.0  1966062.0        2140897.0        1946997.0           NaN     2309285.0  2216140.0     NaN      NaN\n",
       "F5      NaN      NaN          NaN     NaN     NaN   540403.0        NaN        NaN        789810.0        920317.0   924456.0         829886.0              NaN           NaN      746458.0   826633.0     NaN      NaN\n",
       "F6      NaN      NaN          NaN     NaN     NaN  2236310.0        NaN        NaN       1492999.0       1951666.0  2219035.0        2146985.0              NaN           NaN     1616575.0  2157561.0     NaN      NaN"
      ]
     },
     "execution_count": 50,
     "metadata": {},
     "output_type": "execute_result"
    }
   ],
   "source": [
    "blankMasked_data_df.head()"
   ]
  },
  {
   "cell_type": "code",
   "execution_count": 51,
   "id": "c61b1efd",
   "metadata": {
    "tags": []
   },
   "outputs": [
    {
     "name": "stdout",
     "output_type": "stream",
     "text": [
      "Before filtering, there are 17562 number of features\n",
      " after blank masking, there are 14702 number of features\n",
      "\n"
     ]
    }
   ],
   "source": [
    "print(f\"Before filtering, there are {data_df.shape[0]} number of features\\n \\\n",
    "after blank masking, there are {blankMasked_data_df.shape[0]} number of features\\n\")"
   ]
  },
  {
   "cell_type": "code",
   "execution_count": 52,
   "id": "bcd58e09",
   "metadata": {
    "tags": []
   },
   "outputs": [],
   "source": [
    "blankMasked_data_df.to_csv(\n",
    "    os.path.join(output_dir,\n",
    "                    f\"blankM_{mode}_fulFeatab.csv\"),index = True)"
   ]
  },
  {
   "cell_type": "markdown",
   "id": "ade5d0a4",
   "metadata": {},
   "source": [
    "### perform sample present report"
   ]
  },
  {
   "cell_type": "code",
   "execution_count": 53,
   "id": "2b58c64b",
   "metadata": {},
   "outputs": [],
   "source": [
    "Tn_dict = select_and_report(blankMasked_data_df,'Tn')\n",
    "CD8stem_dict = select_and_report(blankMasked_data_df,'CD8stem')\n",
    "CD8trans_dict = select_and_report(blankMasked_data_df,'CD8trans')\n",
    "CD8TD_dict = select_and_report(blankMasked_data_df,'CD8TD')"
   ]
  },
  {
   "cell_type": "code",
   "execution_count": 54,
   "id": "08889a73",
   "metadata": {},
   "outputs": [],
   "source": [
    "dict_of_dict = {'Tn': Tn_dict,\n",
    "                'CD8stem': CD8stem_dict,\n",
    "                'CD8trans': CD8trans_dict,\n",
    "                'CD8TD': CD8TD_dict     \n",
    "}"
   ]
  },
  {
   "cell_type": "code",
   "execution_count": 55,
   "id": "bfe8fbaf",
   "metadata": {},
   "outputs": [],
   "source": [
    "stat_df2 = dicts2table(dict_of_dict)"
   ]
  },
  {
   "cell_type": "markdown",
   "id": "2b055917",
   "metadata": {},
   "source": [
    "------"
   ]
  },
  {
   "cell_type": "markdown",
   "id": "dede04a7",
   "metadata": {},
   "source": [
    "## add stat into feature table and rearrange sample order"
   ]
  },
  {
   "cell_type": "code",
   "execution_count": 56,
   "id": "a9fac2ce",
   "metadata": {},
   "outputs": [
    {
     "data": {
      "text/plain": [
       "Index(['id_number', 'mz', 'rtime', 'rtime_left_base', 'rtime_right_base', 'parent_masstrack_id', 'peak_area', 'cSelectivity', 'goodness_fitting', 'snr', 'detection_counts'], dtype='object')"
      ]
     },
     "execution_count": 56,
     "metadata": {},
     "output_type": "execute_result"
    }
   ],
   "source": [
    "metainfo_df.columns"
   ]
  },
  {
   "cell_type": "code",
   "execution_count": 57,
   "id": "44c83e18",
   "metadata": {},
   "outputs": [
    {
     "data": {
      "text/plain": [
       "Index(['Blank_1', 'Blank_2', 'Blank_std_1', 'Qstd_1', 'Qstd_2', 'pooled_1', 'Tn_250K_1', 'Tn_250K_2', 'CD8stem_250K_1', 'CD8stem_300K_2', 'pooled_2', 'CD8trans_350K_1', 'CD8trans_250K_2', 'CD8TD_750K_1', 'CD8TD_750K_2', 'pooled_3', 'Qstd_3', 'Blank_3'], dtype='object')"
      ]
     },
     "execution_count": 57,
     "metadata": {},
     "output_type": "execute_result"
    }
   ],
   "source": [
    "data_df.columns"
   ]
  },
  {
   "cell_type": "code",
   "execution_count": 58,
   "id": "9adaf712",
   "metadata": {},
   "outputs": [],
   "source": [
    "def group_filtering(feat_df,\n",
    "                    stat_df,\n",
    "                    group_percNA_threshold = group_percNA_threshold,\n",
    "                    group_signature = ['R5pos','R5neg','Naive'], # the group you would like to do filtering\n",
    "                    percNA_suffix_inRegExpr = '\\\\_percNA'):\n",
    "    '''\n",
    "    Perform group filtering\n",
    "    \n",
    "    '''\n",
    "    group_percNA_df = select_column_regExpr(stat_df,('|').join([x + percNA_suffix_inRegExpr \\\n",
    "                                                                            for x in group_signature]))\n",
    "    group_percNA_df_filtered = group_percNA_df.loc[group_percNA_df.apply(lambda x: x < group_percNA_threshold,\n",
    "                                                                         axis =1).any(axis = 1),\n",
    "                                                   :]\n",
    "    new_stat_df = stat_df.loc[group_percNA_df_filtered.index,:]\n",
    "    new_feat_df = feat_df.loc[group_percNA_df_filtered.index,:]\n",
    "    \n",
    "    return(new_feat_df,new_stat_df)"
   ]
  },
  {
   "cell_type": "code",
   "execution_count": 59,
   "id": "3ba950aa",
   "metadata": {},
   "outputs": [],
   "source": [
    "grp_filt_df, grp_filt_stat_df = group_filtering(feat_df = blankMasked_data_df,\n",
    "                                                stat_df = stat_df2,\n",
    "                                                group_percNA_threshold = group_percNA_threshold,\n",
    "                                                group_signature = ['Tn','CD8stem','CD8trans','CD8TD','pooled'],\n",
    "                                                percNA_suffix_inRegExpr = '\\\\_percNA')"
   ]
  },
  {
   "cell_type": "code",
   "execution_count": 60,
   "id": "f5647b31",
   "metadata": {},
   "outputs": [
    {
     "data": {
      "text/plain": [
       "(9322, 24)"
      ]
     },
     "execution_count": 60,
     "metadata": {},
     "output_type": "execute_result"
    }
   ],
   "source": [
    "grp_filt_stat_df.shape"
   ]
  },
  {
   "cell_type": "code",
   "execution_count": 61,
   "id": "7d01322e",
   "metadata": {},
   "outputs": [
    {
     "data": {
      "text/plain": [
       "9322"
      ]
     },
     "execution_count": 61,
     "metadata": {},
     "output_type": "execute_result"
    }
   ],
   "source": [
    "# so basically, when doing group filtering, the blank masking is useless :/. but good to check\n",
    "len(grp_filt_stat_df.index.intersection(blankMasked_stat_df.index))"
   ]
  },
  {
   "cell_type": "code",
   "execution_count": 62,
   "id": "43ca7eaf",
   "metadata": {},
   "outputs": [
    {
     "name": "stdout",
     "output_type": "stream",
     "text": [
      "Before filtering, there are 14702 number of features\n",
      " finally after group filtering, there are 9322 number of features\n"
     ]
    }
   ],
   "source": [
    "print(f\"Before filtering, there are {blankMasked_data_df.shape[0]} number of features\\n \\\n",
    "finally after group filtering, there are {grp_filt_df.shape[0]} number of features\")"
   ]
  },
  {
   "cell_type": "code",
   "execution_count": 63,
   "id": "a1372955",
   "metadata": {},
   "outputs": [],
   "source": [
    "def combine_tables(list_df = [metainfo_df,grp_filt_stat_df,grp_filt_df],\n",
    "                key_index_df = grp_filt_stat_df):\n",
    "    index = key_index_df.index\n",
    "    new_list_df = []\n",
    "    for df in list_df:\n",
    "        new_list_df.append(df.loc[index,:])\n",
    "    merge_df = pd.concat(new_list_df,axis =1)\n",
    "    return(merge_df)"
   ]
  },
  {
   "cell_type": "code",
   "execution_count": 64,
   "id": "2ddd5e69",
   "metadata": {},
   "outputs": [],
   "source": [
    "m_df = combine_tables(list_df = [metainfo_df,grp_filt_stat_df,grp_filt_df],  # the order of df directly afffects the order of the columns\n",
    "                    key_index_df = grp_filt_stat_df)"
   ]
  },
  {
   "cell_type": "code",
   "execution_count": 65,
   "id": "c2f46221",
   "metadata": {},
   "outputs": [],
   "source": [
    "m_df.to_csv(\n",
    "    os.path.join(output_dir,\n",
    "                   f\"groupFil{group_percNA_threshold}_{mode}_blkM_featab.csv\"),index = False)\n",
    "\n",
    "grp_filt_stat_df.to_csv(\n",
    "    os.path.join(output_dir,\n",
    "                   f\"groupFil{group_percNA_threshold}_{mode}_blkM_stattab.csv\"))"
   ]
  },
  {
   "cell_type": "markdown",
   "id": "bd4ba69a",
   "metadata": {},
   "source": [
    "---"
   ]
  },
  {
   "cell_type": "markdown",
   "id": "9a59cfba",
   "metadata": {},
   "source": [
    "---"
   ]
  },
  {
   "cell_type": "markdown",
   "id": "e4b8cfe9",
   "metadata": {},
   "source": [
    "---"
   ]
  },
  {
   "cell_type": "markdown",
   "id": "4c443304",
   "metadata": {},
   "source": [
    "## Filtering samples based on QC report (if needed)"
   ]
  },
  {
   "cell_type": "code",
   "execution_count": 66,
   "id": "ba006113",
   "metadata": {},
   "outputs": [],
   "source": [
    "# # No outliers identified in this analysis, thus the outliers list is empty\n",
    "# outliers = []\n",
    "\n",
    "# def dropSamples(feat_df,dropSampleList):\n",
    "#     fil_feat_df = feat_df.drop(dropSampleList, axis = 1)\n",
    "#     return(fil_feat_df)\n",
    "\n",
    "# if outliers:\n",
    "#     outDrop_grp_filt_df = dropSamples(grp_filt_df, outliers)\n",
    "#     outDrop_grp_filt_df.to_csv(\n",
    "#         os.path.join(output_dir,\n",
    "#                        f\"outDrop_blankM_groupFil{group_percNA_threshold}_{mode}_featab.csv\"),index = False)\n",
    "# else:\n",
    "#     outDrop_grp_filt_df = m_df"
   ]
  },
  {
   "cell_type": "markdown",
   "id": "a42712ab",
   "metadata": {},
   "source": [
    "-----"
   ]
  },
  {
   "cell_type": "markdown",
   "id": "872b984f",
   "metadata": {},
   "source": [
    "-----"
   ]
  },
  {
   "cell_type": "markdown",
   "id": "c72a438b",
   "metadata": {},
   "source": [
    "-----"
   ]
  },
  {
   "cell_type": "markdown",
   "id": "71ca86a0",
   "metadata": {
    "tags": []
   },
   "source": [
    "## TIC normalization for top 1000 features"
   ]
  },
  {
   "cell_type": "code",
   "execution_count": 67,
   "id": "d196d17e",
   "metadata": {},
   "outputs": [
    {
     "data": {
      "text/html": [
       "<div>\n",
       "<style scoped>\n",
       "    .dataframe tbody tr th:only-of-type {\n",
       "        vertical-align: middle;\n",
       "    }\n",
       "\n",
       "    .dataframe tbody tr th {\n",
       "        vertical-align: top;\n",
       "    }\n",
       "\n",
       "    .dataframe thead th {\n",
       "        text-align: right;\n",
       "    }\n",
       "</style>\n",
       "<table border=\"1\" class=\"dataframe\">\n",
       "  <thead>\n",
       "    <tr style=\"text-align: right;\">\n",
       "      <th></th>\n",
       "      <th>Blank_1</th>\n",
       "      <th>Blank_2</th>\n",
       "      <th>Blank_std_1</th>\n",
       "      <th>Qstd_1</th>\n",
       "      <th>Qstd_2</th>\n",
       "      <th>pooled_1</th>\n",
       "      <th>Tn_250K_1</th>\n",
       "      <th>Tn_250K_2</th>\n",
       "      <th>CD8stem_250K_1</th>\n",
       "      <th>CD8stem_300K_2</th>\n",
       "      <th>pooled_2</th>\n",
       "      <th>CD8trans_350K_1</th>\n",
       "      <th>CD8trans_250K_2</th>\n",
       "      <th>CD8TD_750K_1</th>\n",
       "      <th>CD8TD_750K_2</th>\n",
       "      <th>pooled_3</th>\n",
       "      <th>Qstd_3</th>\n",
       "      <th>Blank_3</th>\n",
       "    </tr>\n",
       "  </thead>\n",
       "  <tbody>\n",
       "    <tr>\n",
       "      <th>F2</th>\n",
       "      <td>NaN</td>\n",
       "      <td>NaN</td>\n",
       "      <td>NaN</td>\n",
       "      <td>NaN</td>\n",
       "      <td>NaN</td>\n",
       "      <td>3390738.0</td>\n",
       "      <td>NaN</td>\n",
       "      <td>60376.0</td>\n",
       "      <td>1027433.0</td>\n",
       "      <td>2591103.0</td>\n",
       "      <td>3259847.0</td>\n",
       "      <td>1778230.0</td>\n",
       "      <td>NaN</td>\n",
       "      <td>1093155.0</td>\n",
       "      <td>7938840.0</td>\n",
       "      <td>3717405.0</td>\n",
       "      <td>NaN</td>\n",
       "      <td>NaN</td>\n",
       "    </tr>\n",
       "    <tr>\n",
       "      <th>F4</th>\n",
       "      <td>NaN</td>\n",
       "      <td>NaN</td>\n",
       "      <td>NaN</td>\n",
       "      <td>NaN</td>\n",
       "      <td>NaN</td>\n",
       "      <td>1456871.0</td>\n",
       "      <td>1419754.0</td>\n",
       "      <td>1996819.0</td>\n",
       "      <td>1769503.0</td>\n",
       "      <td>1820261.0</td>\n",
       "      <td>1966062.0</td>\n",
       "      <td>2140897.0</td>\n",
       "      <td>1946997.0</td>\n",
       "      <td>NaN</td>\n",
       "      <td>2309285.0</td>\n",
       "      <td>2216140.0</td>\n",
       "      <td>NaN</td>\n",
       "      <td>NaN</td>\n",
       "    </tr>\n",
       "    <tr>\n",
       "      <th>F5</th>\n",
       "      <td>NaN</td>\n",
       "      <td>NaN</td>\n",
       "      <td>NaN</td>\n",
       "      <td>NaN</td>\n",
       "      <td>NaN</td>\n",
       "      <td>540403.0</td>\n",
       "      <td>NaN</td>\n",
       "      <td>NaN</td>\n",
       "      <td>789810.0</td>\n",
       "      <td>920317.0</td>\n",
       "      <td>924456.0</td>\n",
       "      <td>829886.0</td>\n",
       "      <td>NaN</td>\n",
       "      <td>NaN</td>\n",
       "      <td>746458.0</td>\n",
       "      <td>826633.0</td>\n",
       "      <td>NaN</td>\n",
       "      <td>NaN</td>\n",
       "    </tr>\n",
       "    <tr>\n",
       "      <th>F6</th>\n",
       "      <td>NaN</td>\n",
       "      <td>NaN</td>\n",
       "      <td>NaN</td>\n",
       "      <td>NaN</td>\n",
       "      <td>NaN</td>\n",
       "      <td>2236310.0</td>\n",
       "      <td>NaN</td>\n",
       "      <td>NaN</td>\n",
       "      <td>1492999.0</td>\n",
       "      <td>1951666.0</td>\n",
       "      <td>2219035.0</td>\n",
       "      <td>2146985.0</td>\n",
       "      <td>NaN</td>\n",
       "      <td>NaN</td>\n",
       "      <td>1616575.0</td>\n",
       "      <td>2157561.0</td>\n",
       "      <td>NaN</td>\n",
       "      <td>NaN</td>\n",
       "    </tr>\n",
       "    <tr>\n",
       "      <th>F10</th>\n",
       "      <td>NaN</td>\n",
       "      <td>NaN</td>\n",
       "      <td>118878.0</td>\n",
       "      <td>NaN</td>\n",
       "      <td>NaN</td>\n",
       "      <td>241990.0</td>\n",
       "      <td>105198.0</td>\n",
       "      <td>123773.0</td>\n",
       "      <td>130387.0</td>\n",
       "      <td>NaN</td>\n",
       "      <td>NaN</td>\n",
       "      <td>NaN</td>\n",
       "      <td>122843.0</td>\n",
       "      <td>NaN</td>\n",
       "      <td>NaN</td>\n",
       "      <td>109682.0</td>\n",
       "      <td>NaN</td>\n",
       "      <td>125634.0</td>\n",
       "    </tr>\n",
       "  </tbody>\n",
       "</table>\n",
       "</div>"
      ],
      "text/plain": [
       "     Blank_1  Blank_2  Blank_std_1  Qstd_1  Qstd_2   pooled_1  Tn_250K_1  Tn_250K_2  CD8stem_250K_1  CD8stem_300K_2   pooled_2  CD8trans_350K_1  CD8trans_250K_2  CD8TD_750K_1  CD8TD_750K_2   pooled_3  Qstd_3   Blank_3\n",
       "F2       NaN      NaN          NaN     NaN     NaN  3390738.0        NaN    60376.0       1027433.0       2591103.0  3259847.0        1778230.0              NaN     1093155.0     7938840.0  3717405.0     NaN       NaN\n",
       "F4       NaN      NaN          NaN     NaN     NaN  1456871.0  1419754.0  1996819.0       1769503.0       1820261.0  1966062.0        2140897.0        1946997.0           NaN     2309285.0  2216140.0     NaN       NaN\n",
       "F5       NaN      NaN          NaN     NaN     NaN   540403.0        NaN        NaN        789810.0        920317.0   924456.0         829886.0              NaN           NaN      746458.0   826633.0     NaN       NaN\n",
       "F6       NaN      NaN          NaN     NaN     NaN  2236310.0        NaN        NaN       1492999.0       1951666.0  2219035.0        2146985.0              NaN           NaN     1616575.0  2157561.0     NaN       NaN\n",
       "F10      NaN      NaN     118878.0     NaN     NaN   241990.0   105198.0   123773.0        130387.0             NaN        NaN              NaN         122843.0           NaN           NaN   109682.0     NaN  125634.0"
      ]
     },
     "execution_count": 67,
     "metadata": {},
     "output_type": "execute_result"
    }
   ],
   "source": [
    "grp_filt_df.head()"
   ]
  },
  {
   "cell_type": "code",
   "execution_count": 68,
   "id": "38ffeda0",
   "metadata": {},
   "outputs": [],
   "source": [
    "samples_df = select_column_regExpr(grp_filt_df,'Tn\\\\_[0-9]+|CD8stem\\\\_[0-9]+|CD8trans\\\\_[0-9]+|CD8TD\\\\_[0-9]|pooled')"
   ]
  },
  {
   "cell_type": "code",
   "execution_count": 69,
   "id": "d4efe4bb",
   "metadata": {},
   "outputs": [
    {
     "data": {
      "text/html": [
       "<div>\n",
       "<style scoped>\n",
       "    .dataframe tbody tr th:only-of-type {\n",
       "        vertical-align: middle;\n",
       "    }\n",
       "\n",
       "    .dataframe tbody tr th {\n",
       "        vertical-align: top;\n",
       "    }\n",
       "\n",
       "    .dataframe thead th {\n",
       "        text-align: right;\n",
       "    }\n",
       "</style>\n",
       "<table border=\"1\" class=\"dataframe\">\n",
       "  <thead>\n",
       "    <tr style=\"text-align: right;\">\n",
       "      <th></th>\n",
       "      <th>pooled_1</th>\n",
       "      <th>Tn_250K_1</th>\n",
       "      <th>Tn_250K_2</th>\n",
       "      <th>CD8stem_250K_1</th>\n",
       "      <th>CD8stem_300K_2</th>\n",
       "      <th>pooled_2</th>\n",
       "      <th>CD8trans_350K_1</th>\n",
       "      <th>CD8trans_250K_2</th>\n",
       "      <th>CD8TD_750K_1</th>\n",
       "      <th>CD8TD_750K_2</th>\n",
       "      <th>pooled_3</th>\n",
       "    </tr>\n",
       "  </thead>\n",
       "  <tbody>\n",
       "    <tr>\n",
       "      <th>F2</th>\n",
       "      <td>3390738.0</td>\n",
       "      <td>NaN</td>\n",
       "      <td>60376.0</td>\n",
       "      <td>1027433.0</td>\n",
       "      <td>2591103.0</td>\n",
       "      <td>3259847.0</td>\n",
       "      <td>1778230.0</td>\n",
       "      <td>NaN</td>\n",
       "      <td>1093155.0</td>\n",
       "      <td>7938840.0</td>\n",
       "      <td>3717405.0</td>\n",
       "    </tr>\n",
       "    <tr>\n",
       "      <th>F4</th>\n",
       "      <td>1456871.0</td>\n",
       "      <td>1419754.0</td>\n",
       "      <td>1996819.0</td>\n",
       "      <td>1769503.0</td>\n",
       "      <td>1820261.0</td>\n",
       "      <td>1966062.0</td>\n",
       "      <td>2140897.0</td>\n",
       "      <td>1946997.0</td>\n",
       "      <td>NaN</td>\n",
       "      <td>2309285.0</td>\n",
       "      <td>2216140.0</td>\n",
       "    </tr>\n",
       "    <tr>\n",
       "      <th>F5</th>\n",
       "      <td>540403.0</td>\n",
       "      <td>NaN</td>\n",
       "      <td>NaN</td>\n",
       "      <td>789810.0</td>\n",
       "      <td>920317.0</td>\n",
       "      <td>924456.0</td>\n",
       "      <td>829886.0</td>\n",
       "      <td>NaN</td>\n",
       "      <td>NaN</td>\n",
       "      <td>746458.0</td>\n",
       "      <td>826633.0</td>\n",
       "    </tr>\n",
       "    <tr>\n",
       "      <th>F6</th>\n",
       "      <td>2236310.0</td>\n",
       "      <td>NaN</td>\n",
       "      <td>NaN</td>\n",
       "      <td>1492999.0</td>\n",
       "      <td>1951666.0</td>\n",
       "      <td>2219035.0</td>\n",
       "      <td>2146985.0</td>\n",
       "      <td>NaN</td>\n",
       "      <td>NaN</td>\n",
       "      <td>1616575.0</td>\n",
       "      <td>2157561.0</td>\n",
       "    </tr>\n",
       "    <tr>\n",
       "      <th>F10</th>\n",
       "      <td>241990.0</td>\n",
       "      <td>105198.0</td>\n",
       "      <td>123773.0</td>\n",
       "      <td>130387.0</td>\n",
       "      <td>NaN</td>\n",
       "      <td>NaN</td>\n",
       "      <td>NaN</td>\n",
       "      <td>122843.0</td>\n",
       "      <td>NaN</td>\n",
       "      <td>NaN</td>\n",
       "      <td>109682.0</td>\n",
       "    </tr>\n",
       "  </tbody>\n",
       "</table>\n",
       "</div>"
      ],
      "text/plain": [
       "      pooled_1  Tn_250K_1  Tn_250K_2  CD8stem_250K_1  CD8stem_300K_2   pooled_2  CD8trans_350K_1  CD8trans_250K_2  CD8TD_750K_1  CD8TD_750K_2   pooled_3\n",
       "F2   3390738.0        NaN    60376.0       1027433.0       2591103.0  3259847.0        1778230.0              NaN     1093155.0     7938840.0  3717405.0\n",
       "F4   1456871.0  1419754.0  1996819.0       1769503.0       1820261.0  1966062.0        2140897.0        1946997.0           NaN     2309285.0  2216140.0\n",
       "F5    540403.0        NaN        NaN        789810.0        920317.0   924456.0         829886.0              NaN           NaN      746458.0   826633.0\n",
       "F6   2236310.0        NaN        NaN       1492999.0       1951666.0  2219035.0        2146985.0              NaN           NaN     1616575.0  2157561.0\n",
       "F10   241990.0   105198.0   123773.0        130387.0             NaN        NaN              NaN         122843.0           NaN           NaN   109682.0"
      ]
     },
     "execution_count": 69,
     "metadata": {},
     "output_type": "execute_result"
    }
   ],
   "source": [
    "samples_df.head()"
   ]
  },
  {
   "cell_type": "code",
   "execution_count": 70,
   "id": "be21b886",
   "metadata": {},
   "outputs": [
    {
     "data": {
      "text/plain": [
       "(9322, 11)"
      ]
     },
     "execution_count": 70,
     "metadata": {},
     "output_type": "execute_result"
    }
   ],
   "source": [
    "samples_df.shape"
   ]
  },
  {
   "cell_type": "code",
   "execution_count": 71,
   "id": "823465e4",
   "metadata": {},
   "outputs": [],
   "source": [
    "import copy\n",
    "def TIC_Normalization_TopN(data_df,\n",
    "                           topN = 1000):\n",
    "    if any(data_df.apply(lambda x: x == 0).any()):\n",
    "        data_df[data_df == 0] = np.nan\n",
    "    feature_ids = data_df.sum(axis = 1, \n",
    "                              skipna = True\n",
    "                             ).sort_values(ascending = False)[0:topN].index\n",
    "    meanTIC = data_df.loc[feature_ids,:].mean(axis=0,skipna = True)\n",
    "    # print mean of TIC of the topN features\n",
    "    print(meanTIC[0:5])\n",
    "    factor_dict = dict(meanTIC/meanTIC.median())\n",
    "    new_data_df = copy.deepcopy(data_df)\n",
    "    for k,v in factor_dict.items():\n",
    "        new_data_df[k] = [x/v for x in new_data_df[k]]\n",
    "    # print meanTIC of topN features post-TIC normalization, should be the same\n",
    "    print(new_data_df.loc[feature_ids,:].mean(axis=0,skipna = True)[0:5])\n",
    "    \n",
    "    # print meanTIC of all features post-TIC normalization, should be closed\n",
    "    print(new_data_df.mean(axis=0,skipna = True)[0:5])\n",
    "    \n",
    "    return(new_data_df)"
   ]
  },
  {
   "cell_type": "code",
   "execution_count": 72,
   "id": "c3f434f2",
   "metadata": {},
   "outputs": [
    {
     "name": "stdout",
     "output_type": "stream",
     "text": [
      "pooled_1          2.406203e+08\n",
      "Tn_250K_1         2.479539e+08\n",
      "Tn_250K_2         2.227856e+08\n",
      "CD8stem_250K_1    2.590707e+08\n",
      "CD8stem_300K_2    2.109629e+08\n",
      "dtype: float64\n",
      "pooled_1          2.294582e+08\n",
      "Tn_250K_1         2.294582e+08\n",
      "Tn_250K_2         2.294582e+08\n",
      "CD8stem_250K_1    2.294582e+08\n",
      "CD8stem_300K_2    2.294582e+08\n",
      "dtype: float64\n",
      "pooled_1          2.993753e+07\n",
      "Tn_250K_1         3.022000e+07\n",
      "Tn_250K_2         3.057369e+07\n",
      "CD8stem_250K_1    2.957167e+07\n",
      "CD8stem_300K_2    3.049433e+07\n",
      "dtype: float64\n"
     ]
    }
   ],
   "source": [
    "TICnorm_data_df = TIC_Normalization_TopN(samples_df,topN = 1000)"
   ]
  },
  {
   "cell_type": "code",
   "execution_count": 73,
   "id": "f686ac2f",
   "metadata": {},
   "outputs": [],
   "source": [
    "import numpy as np\n",
    "import matplotlib.pyplot as plt\n",
    "\n",
    "def bar_plot_TIC(df):\n",
    "    TIC = df.sum(axis = 0)\n",
    "    plt.bar(TIC.index, TIC)\n",
    "    plt.xticks(rotation=90)  # rotate x-axis labels to horizontal\n",
    "    plt.show()"
   ]
  },
  {
   "cell_type": "code",
   "execution_count": 74,
   "id": "dd5ef47f",
   "metadata": {},
   "outputs": [
    {
     "data": {
      "image/png": "[encoded data removed]",
      "text/plain": [
       "<Figure size 640x480 with 1 Axes>"
      ]
     },
     "metadata": {},
     "output_type": "display_data"
    },
    {
     "data": {
      "image/png": "[encoded data removed]",
      "text/plain": [
       "<Figure size 640x480 with 1 Axes>"
      ]
     },
     "metadata": {},
     "output_type": "display_data"
    }
   ],
   "source": [
    "bar_plot_TIC(samples_df)\n",
    "bar_plot_TIC(TICnorm_data_df)"
   ]
  },
  {
   "cell_type": "code",
   "execution_count": 75,
   "id": "741ebc66",
   "metadata": {},
   "outputs": [
    {
     "data": {
      "text/plain": [
       "Index(['CD8TD_750K_1', 'CD8TD_750K_2', 'CD8stem_250K_1', 'CD8stem_300K_2', 'CD8trans_250K_2', 'CD8trans_350K_1', 'Tn_250K_1', 'Tn_250K_2', 'pooled_1', 'pooled_2', 'pooled_3'], dtype='object')"
      ]
     },
     "execution_count": 75,
     "metadata": {},
     "output_type": "execute_result"
    }
   ],
   "source": [
    "TICnorm_data_df.columns.sort_values()"
   ]
  },
  {
   "cell_type": "code",
   "execution_count": 76,
   "id": "66feca19",
   "metadata": {},
   "outputs": [],
   "source": [
    "# after TIC normalization, the order becomes less useful, and I would like to see more the biologically meaning ordering\n",
    "TICnorm_data_df = TICnorm_data_df.loc[:,TICnorm_data_df.columns.sort_values()]"
   ]
  },
  {
   "cell_type": "code",
   "execution_count": 77,
   "id": "dee7bfe9",
   "metadata": {},
   "outputs": [],
   "source": [
    "TICnorm_data_df.to_csv(\n",
    "        os.path.join(output_dir,\n",
    "                       f\"TICnorm_groupFil{group_percNA_threshold}_{mode}_blkM_featab.csv\"),index = True) # rename if needed"
   ]
  },
  {
   "cell_type": "markdown",
   "id": "2e6faf7e",
   "metadata": {},
   "source": [
    "------"
   ]
  },
  {
   "cell_type": "markdown",
   "id": "019732ba",
   "metadata": {},
   "source": [
    "## Summary\n",
    "- run normalization"
   ]
  },
  {
   "cell_type": "markdown",
   "id": "afafc3d1",
   "metadata": {},
   "source": [
    "------"
   ]
  },
  {
   "cell_type": "markdown",
   "id": "efb6a9b6",
   "metadata": {},
   "source": [
    "------"
   ]
  },
  {
   "cell_type": "markdown",
   "id": "a4b8574e",
   "metadata": {
    "tags": []
   },
   "source": [
    "## Imputation with half minimum"
   ]
  },
  {
   "cell_type": "markdown",
   "id": "84c36afd",
   "metadata": {},
   "source": [
    "##### The following function is only used to assembly the metainfo, I thought this is not anymore useful for the subsequent steps\n",
    "- id_number\tmz\trtime\trtime_left_base\trtime_right_base\tparent_masstrack_id\tpeak_area\tcSelectivity\tgoodness_fitting\tsnr\tdetection_counts"
   ]
  },
  {
   "cell_type": "code",
   "execution_count": 78,
   "id": "adca7d30",
   "metadata": {},
   "outputs": [],
   "source": [
    "# def replace_col_wtTICnorm(feat_df = grp_filt_df,\n",
    "#                           data_df = TICnorm_data_df):\n",
    "#     '''\n",
    "#     replace the same column of feature dataframe (feat_df) with the data_df that have the same column\n",
    "#     Return the feature dataframe. Note that the function is not limited to TIC normalized data.\n",
    "#     '''\n",
    "#     new_feat_df = copy.deepcopy(feat_df)\n",
    "#     new_feat_df = new_feat_df.loc[data_df.index,:]\n",
    "#     for col in data_df.columns:\n",
    "#         new_feat_df[col] = data_df[col]\n",
    "\n",
    "#     return(new_feat_df)"
   ]
  },
  {
   "cell_type": "code",
   "execution_count": 79,
   "id": "b15c7171",
   "metadata": {},
   "outputs": [],
   "source": [
    "def imputation(norm_data_df,full_asari_data_df,replace = 'half_minimum'):\n",
    "    '''\n",
    "    the row index should be matched btw. normalized data df & full asari df\n",
    "    The reason to add full_asari_data_df is to add the true minimum across all samples. \n",
    "    It will better capture the baseline\n",
    "    Default setting: if there is 0, then it will automatically deem as NA.\n",
    "    full_asari_data_df can use the same dataset of norm_data_df\n",
    "    norm_data_df can be exactly the same with not normalized dataset\n",
    "    \n",
    "    Output\n",
    "    ======\n",
    "    Return the NA filled norm_data_df\n",
    "    ''' \n",
    "    \n",
    "    # turn zero to NA\n",
    "    norm_data_df[norm_data_df == 0] = np.nan\n",
    "    full_asari_data_df[full_asari_data_df == 0] = np.nan\n",
    "    \n",
    "    if replace == 'half_minimum':\n",
    "        for i,row in norm_data_df.iterrows():\n",
    "            minimum_value = full_asari_data_df.loc[i,:].min()\n",
    "            row.fillna(minimum_value/2,inplace = True) # imputation is minimum\n",
    "\n",
    "    return(norm_data_df)"
   ]
  },
  {
   "cell_type": "code",
   "execution_count": 80,
   "id": "bb777ae5",
   "metadata": {},
   "outputs": [
    {
     "data": {
      "text/plain": [
       "Index(['Blank_1', 'Blank_2', 'Blank_std_1', 'Qstd_1', 'Qstd_2', 'pooled_1', 'Tn_250K_1', 'Tn_250K_2', 'CD8stem_250K_1', 'CD8stem_300K_2', 'pooled_2', 'CD8trans_350K_1', 'CD8trans_250K_2', 'CD8TD_750K_1', 'CD8TD_750K_2', 'pooled_3', 'Qstd_3', 'Blank_3'], dtype='object')"
      ]
     },
     "execution_count": 80,
     "metadata": {},
     "output_type": "execute_result"
    }
   ],
   "source": [
    "# data_df contains all the samples columns including pooled blank and etc.\n",
    "grp_filt_df.columns"
   ]
  },
  {
   "cell_type": "code",
   "execution_count": 81,
   "id": "f2e15e65",
   "metadata": {},
   "outputs": [
    {
     "data": {
      "text/plain": [
       "Index(['CD8TD_750K_1', 'CD8TD_750K_2', 'CD8stem_250K_1', 'CD8stem_300K_2', 'CD8trans_250K_2', 'CD8trans_350K_1', 'Tn_250K_1', 'Tn_250K_2', 'pooled_1', 'pooled_2', 'pooled_3'], dtype='object')"
      ]
     },
     "execution_count": 81,
     "metadata": {},
     "output_type": "execute_result"
    }
   ],
   "source": [
    "# samples_df contains only relevant columns & after TIC normalization\n",
    "TICnorm_data_df.columns"
   ]
  },
  {
   "cell_type": "code",
   "execution_count": 82,
   "id": "a13bddda",
   "metadata": {},
   "outputs": [
    {
     "name": "stdout",
     "output_type": "stream",
     "text": [
      "Index(['F2', 'F4', 'F5', 'F6', 'F10'], dtype='object')\n",
      "Index(['F2', 'F4', 'F5', 'F6', 'F10'], dtype='object')\n"
     ]
    }
   ],
   "source": [
    "# Make sure they both point to Feature ID\n",
    "print(grp_filt_df.index[0:5])\n",
    "print(TICnorm_data_df.index[0:5])"
   ]
  },
  {
   "cell_type": "code",
   "execution_count": 83,
   "id": "805408c4",
   "metadata": {},
   "outputs": [],
   "source": [
    "data_df_imphMin = imputation(norm_data_df = TICnorm_data_df,\n",
    "                                       full_asari_data_df = grp_filt_df,\n",
    "                                       replace = 'half_minimum')\n",
    "\n",
    "data_df_imphMin.to_csv(\n",
    "        os.path.join(output_dir,\n",
    "                       f\"hMinImp_TICn_groupFil{group_percNA_threshold}_{mode}_blkM_featab.csv\"),index = True)"
   ]
  },
  {
   "cell_type": "code",
   "execution_count": 84,
   "id": "fc19a4e3",
   "metadata": {},
   "outputs": [
    {
     "data": {
      "text/html": [
       "<div>\n",
       "<style scoped>\n",
       "    .dataframe tbody tr th:only-of-type {\n",
       "        vertical-align: middle;\n",
       "    }\n",
       "\n",
       "    .dataframe tbody tr th {\n",
       "        vertical-align: top;\n",
       "    }\n",
       "\n",
       "    .dataframe thead th {\n",
       "        text-align: right;\n",
       "    }\n",
       "</style>\n",
       "<table border=\"1\" class=\"dataframe\">\n",
       "  <thead>\n",
       "    <tr style=\"text-align: right;\">\n",
       "      <th></th>\n",
       "      <th>CD8TD_750K_1</th>\n",
       "      <th>CD8TD_750K_2</th>\n",
       "      <th>CD8stem_250K_1</th>\n",
       "      <th>CD8stem_300K_2</th>\n",
       "      <th>CD8trans_250K_2</th>\n",
       "      <th>CD8trans_350K_1</th>\n",
       "      <th>Tn_250K_1</th>\n",
       "      <th>Tn_250K_2</th>\n",
       "      <th>pooled_1</th>\n",
       "      <th>pooled_2</th>\n",
       "      <th>pooled_3</th>\n",
       "    </tr>\n",
       "  </thead>\n",
       "  <tbody>\n",
       "    <tr>\n",
       "      <th>F2</th>\n",
       "      <td>1.717559e+06</td>\n",
       "      <td>1.136420e+07</td>\n",
       "      <td>9.099945e+05</td>\n",
       "      <td>2.818268e+06</td>\n",
       "      <td>3.018800e+04</td>\n",
       "      <td>1.974333e+06</td>\n",
       "      <td>3.018800e+04</td>\n",
       "      <td>6.218432e+04</td>\n",
       "      <td>3.233446e+06</td>\n",
       "      <td>3259847.0</td>\n",
       "      <td>3.698367e+06</td>\n",
       "    </tr>\n",
       "    <tr>\n",
       "      <th>F4</th>\n",
       "      <td>7.098770e+05</td>\n",
       "      <td>3.305669e+06</td>\n",
       "      <td>1.567244e+06</td>\n",
       "      <td>1.979845e+06</td>\n",
       "      <td>1.872265e+06</td>\n",
       "      <td>2.376995e+06</td>\n",
       "      <td>1.313850e+06</td>\n",
       "      <td>2.056626e+06</td>\n",
       "      <td>1.389289e+06</td>\n",
       "      <td>1966062.0</td>\n",
       "      <td>2.204791e+06</td>\n",
       "    </tr>\n",
       "    <tr>\n",
       "      <th>F5</th>\n",
       "      <td>2.702015e+05</td>\n",
       "      <td>1.068531e+06</td>\n",
       "      <td>6.995325e+05</td>\n",
       "      <td>1.001002e+06</td>\n",
       "      <td>2.702015e+05</td>\n",
       "      <td>9.214059e+05</td>\n",
       "      <td>2.702015e+05</td>\n",
       "      <td>2.702015e+05</td>\n",
       "      <td>5.153344e+05</td>\n",
       "      <td>924456.0</td>\n",
       "      <td>8.223996e+05</td>\n",
       "    </tr>\n",
       "    <tr>\n",
       "      <th>F6</th>\n",
       "      <td>7.464995e+05</td>\n",
       "      <td>2.314077e+06</td>\n",
       "      <td>1.322345e+06</td>\n",
       "      <td>2.122771e+06</td>\n",
       "      <td>7.464995e+05</td>\n",
       "      <td>2.383755e+06</td>\n",
       "      <td>7.464995e+05</td>\n",
       "      <td>7.464995e+05</td>\n",
       "      <td>2.132570e+06</td>\n",
       "      <td>2219035.0</td>\n",
       "      <td>2.146512e+06</td>\n",
       "    </tr>\n",
       "    <tr>\n",
       "      <th>F10</th>\n",
       "      <td>5.259900e+04</td>\n",
       "      <td>5.259900e+04</td>\n",
       "      <td>1.154834e+05</td>\n",
       "      <td>5.259900e+04</td>\n",
       "      <td>1.181279e+05</td>\n",
       "      <td>5.259900e+04</td>\n",
       "      <td>9.735094e+04</td>\n",
       "      <td>1.274801e+05</td>\n",
       "      <td>2.307644e+05</td>\n",
       "      <td>52599.0</td>\n",
       "      <td>1.091203e+05</td>\n",
       "    </tr>\n",
       "  </tbody>\n",
       "</table>\n",
       "</div>"
      ],
      "text/plain": [
       "     CD8TD_750K_1  CD8TD_750K_2  CD8stem_250K_1  CD8stem_300K_2  CD8trans_250K_2  CD8trans_350K_1     Tn_250K_1     Tn_250K_2      pooled_1   pooled_2      pooled_3\n",
       "F2   1.717559e+06  1.136420e+07    9.099945e+05    2.818268e+06     3.018800e+04     1.974333e+06  3.018800e+04  6.218432e+04  3.233446e+06  3259847.0  3.698367e+06\n",
       "F4   7.098770e+05  3.305669e+06    1.567244e+06    1.979845e+06     1.872265e+06     2.376995e+06  1.313850e+06  2.056626e+06  1.389289e+06  1966062.0  2.204791e+06\n",
       "F5   2.702015e+05  1.068531e+06    6.995325e+05    1.001002e+06     2.702015e+05     9.214059e+05  2.702015e+05  2.702015e+05  5.153344e+05   924456.0  8.223996e+05\n",
       "F6   7.464995e+05  2.314077e+06    1.322345e+06    2.122771e+06     7.464995e+05     2.383755e+06  7.464995e+05  7.464995e+05  2.132570e+06  2219035.0  2.146512e+06\n",
       "F10  5.259900e+04  5.259900e+04    1.154834e+05    5.259900e+04     1.181279e+05     5.259900e+04  9.735094e+04  1.274801e+05  2.307644e+05    52599.0  1.091203e+05"
      ]
     },
     "execution_count": 84,
     "metadata": {},
     "output_type": "execute_result"
    }
   ],
   "source": [
    "data_df_imphMin.head()"
   ]
  },
  {
   "cell_type": "markdown",
   "id": "e81b9e83",
   "metadata": {},
   "source": [
    "# log2 transform"
   ]
  },
  {
   "cell_type": "code",
   "execution_count": 85,
   "id": "b19ffea7",
   "metadata": {},
   "outputs": [],
   "source": [
    "def log2transform(data_df,\n",
    "                  back2Zero = False):\n",
    "    data_df[data_df == 0] = np.nan\n",
    "    data_df_log = data_df.apply(lambda x: np.log2(x)) # no need to add +1\n",
    "    if back2Zero == True:\n",
    "        data_df_log[data_df_log.isna()] = 0\n",
    "    return(data_df_log)"
   ]
  },
  {
   "cell_type": "code",
   "execution_count": 86,
   "id": "a2b8c3da",
   "metadata": {},
   "outputs": [],
   "source": [
    "# def log2transform_on_featab_wtRegExpr(feat_df,\n",
    "#                                       back2Zero = False,\n",
    "#                                       samplesRegExpr = 'Tn\\\\_[0-9]+|CD8stem\\\\_[0-9]+|CD8trans\\\\_[0-9]+|CD8TD\\\\_[0-9]|pooled|Qstd|Blank'):\n",
    "#     data_df = select_column_regExpr(feat_df,samplesRegExpr)\n",
    "#     log2_data_df = log2transform(data_df, back2Zero = back2Zero)\n",
    "#     log2_feat_df = replace_col_wtTICnorm(feat_df = feat_df,\n",
    "#                                          data_df = log2_data_df)\n",
    "#     return(log2_feat_df)"
   ]
  },
  {
   "cell_type": "markdown",
   "id": "a802a1b2",
   "metadata": {},
   "source": [
    "#### log2 transform on the imputated feature tables"
   ]
  },
  {
   "cell_type": "code",
   "execution_count": 87,
   "id": "56a7be8b",
   "metadata": {},
   "outputs": [],
   "source": [
    "log2_imphMin_data_df = log2transform(data_df_imphMin)"
   ]
  },
  {
   "cell_type": "code",
   "execution_count": 88,
   "id": "b3f84053",
   "metadata": {},
   "outputs": [
    {
     "data": {
      "text/html": [
       "<div>\n",
       "<style scoped>\n",
       "    .dataframe tbody tr th:only-of-type {\n",
       "        vertical-align: middle;\n",
       "    }\n",
       "\n",
       "    .dataframe tbody tr th {\n",
       "        vertical-align: top;\n",
       "    }\n",
       "\n",
       "    .dataframe thead th {\n",
       "        text-align: right;\n",
       "    }\n",
       "</style>\n",
       "<table border=\"1\" class=\"dataframe\">\n",
       "  <thead>\n",
       "    <tr style=\"text-align: right;\">\n",
       "      <th></th>\n",
       "      <th>CD8TD_750K_1</th>\n",
       "      <th>CD8TD_750K_2</th>\n",
       "      <th>CD8stem_250K_1</th>\n",
       "      <th>CD8stem_300K_2</th>\n",
       "      <th>CD8trans_250K_2</th>\n",
       "      <th>CD8trans_350K_1</th>\n",
       "      <th>Tn_250K_1</th>\n",
       "      <th>Tn_250K_2</th>\n",
       "      <th>pooled_1</th>\n",
       "      <th>pooled_2</th>\n",
       "      <th>pooled_3</th>\n",
       "    </tr>\n",
       "  </thead>\n",
       "  <tbody>\n",
       "    <tr>\n",
       "      <th>F2</th>\n",
       "      <td>20.711928</td>\n",
       "      <td>23.437993</td>\n",
       "      <td>19.795498</td>\n",
       "      <td>21.426377</td>\n",
       "      <td>14.881688</td>\n",
       "      <td>20.912934</td>\n",
       "      <td>14.881688</td>\n",
       "      <td>15.924263</td>\n",
       "      <td>21.624641</td>\n",
       "      <td>21.636373</td>\n",
       "      <td>21.818457</td>\n",
       "    </tr>\n",
       "    <tr>\n",
       "      <th>F4</th>\n",
       "      <td>19.437210</td>\n",
       "      <td>21.656511</td>\n",
       "      <td>20.579798</td>\n",
       "      <td>20.916956</td>\n",
       "      <td>20.836353</td>\n",
       "      <td>21.180708</td>\n",
       "      <td>20.325369</td>\n",
       "      <td>20.971848</td>\n",
       "      <td>20.405915</td>\n",
       "      <td>20.906877</td>\n",
       "      <td>21.072210</td>\n",
       "    </tr>\n",
       "    <tr>\n",
       "      <th>F5</th>\n",
       "      <td>18.043676</td>\n",
       "      <td>20.027198</td>\n",
       "      <td>19.416032</td>\n",
       "      <td>19.933014</td>\n",
       "      <td>18.043676</td>\n",
       "      <td>19.813477</td>\n",
       "      <td>18.043676</td>\n",
       "      <td>18.043676</td>\n",
       "      <td>18.975149</td>\n",
       "      <td>19.818245</td>\n",
       "      <td>19.649480</td>\n",
       "    </tr>\n",
       "    <tr>\n",
       "      <th>F6</th>\n",
       "      <td>19.509782</td>\n",
       "      <td>21.142005</td>\n",
       "      <td>20.334667</td>\n",
       "      <td>21.017517</td>\n",
       "      <td>19.509782</td>\n",
       "      <td>21.184804</td>\n",
       "      <td>19.509782</td>\n",
       "      <td>19.509782</td>\n",
       "      <td>21.024162</td>\n",
       "      <td>21.081501</td>\n",
       "      <td>21.033563</td>\n",
       "    </tr>\n",
       "    <tr>\n",
       "      <th>F10</th>\n",
       "      <td>15.682748</td>\n",
       "      <td>15.682748</td>\n",
       "      <td>16.817326</td>\n",
       "      <td>15.682748</td>\n",
       "      <td>16.849990</td>\n",
       "      <td>15.682748</td>\n",
       "      <td>16.570907</td>\n",
       "      <td>16.959913</td>\n",
       "      <td>17.816061</td>\n",
       "      <td>15.682748</td>\n",
       "      <td>16.735560</td>\n",
       "    </tr>\n",
       "  </tbody>\n",
       "</table>\n",
       "</div>"
      ],
      "text/plain": [
       "     CD8TD_750K_1  CD8TD_750K_2  CD8stem_250K_1  CD8stem_300K_2  CD8trans_250K_2  CD8trans_350K_1  Tn_250K_1  Tn_250K_2   pooled_1   pooled_2   pooled_3\n",
       "F2      20.711928     23.437993       19.795498       21.426377        14.881688        20.912934  14.881688  15.924263  21.624641  21.636373  21.818457\n",
       "F4      19.437210     21.656511       20.579798       20.916956        20.836353        21.180708  20.325369  20.971848  20.405915  20.906877  21.072210\n",
       "F5      18.043676     20.027198       19.416032       19.933014        18.043676        19.813477  18.043676  18.043676  18.975149  19.818245  19.649480\n",
       "F6      19.509782     21.142005       20.334667       21.017517        19.509782        21.184804  19.509782  19.509782  21.024162  21.081501  21.033563\n",
       "F10     15.682748     15.682748       16.817326       15.682748        16.849990        15.682748  16.570907  16.959913  17.816061  15.682748  16.735560"
      ]
     },
     "execution_count": 88,
     "metadata": {},
     "output_type": "execute_result"
    }
   ],
   "source": [
    "log2_imphMin_data_df.head()"
   ]
  },
  {
   "cell_type": "code",
   "execution_count": 89,
   "id": "f762f325",
   "metadata": {},
   "outputs": [],
   "source": [
    "log2_imphMin_data_df.to_csv(\n",
    "        os.path.join(output_dir,\n",
    "                       f\"log2_hMinImp_TICn_groupFil{group_percNA_threshold}_{mode}_blkM_featab.csv\"),index = True)"
   ]
  },
  {
   "cell_type": "markdown",
   "id": "0d4bf20a",
   "metadata": {},
   "source": [
    "-------"
   ]
  },
  {
   "cell_type": "markdown",
   "id": "7887124f",
   "metadata": {},
   "source": [
    "-----"
   ]
  },
  {
   "cell_type": "markdown",
   "id": "f242456a",
   "metadata": {},
   "source": [
    "-----"
   ]
  },
  {
   "cell_type": "markdown",
   "id": "3e7e67fe",
   "metadata": {},
   "source": [
    "## Report geometric mean of group"
   ]
  },
  {
   "cell_type": "markdown",
   "id": "7e20fa49",
   "metadata": {
    "tags": []
   },
   "source": [
    "## the end index is `12`"
   ]
  },
  {
   "cell_type": "code",
   "execution_count": 90,
   "id": "7772a657",
   "metadata": {},
   "outputs": [
    {
     "data": {
      "text/plain": [
       "Index(['CD8TD_750K_1', 'CD8TD_750K_2', 'CD8stem_250K_1', 'CD8stem_300K_2', 'CD8trans_250K_2', 'CD8trans_350K_1', 'Tn_250K_1', 'Tn_250K_2', 'pooled_1', 'pooled_2', 'pooled_3'], dtype='object')"
      ]
     },
     "execution_count": 90,
     "metadata": {},
     "output_type": "execute_result"
    }
   ],
   "source": [
    "log2_imphMin_data_df.columns[0:]"
   ]
  },
  {
   "cell_type": "code",
   "execution_count": 91,
   "id": "23cde6bc",
   "metadata": {},
   "outputs": [],
   "source": [
    "from itertools import combinations\n",
    "\n",
    "def log2FCreport(log2_feat_df, \n",
    "          groupRegExprs = ['Tn\\\\_[0-9]+','CD8stem\\\\_[0-9]+','CD8trans\\\\_[0-9]+','CD8TD\\\\_[0-9]+'], # order always the reference on the left\n",
    "          end_index = 12):\n",
    "    '''\n",
    "    The function require log2 feature table\n",
    "    Using groupRegExprs to recognize the grouped samples. Only works for explicitly coded sample identification based on the name\n",
    "    End_index is where the index end on the meta information coded in the log2_feature table\n",
    "    Currently only deals with two group comparison\n",
    "    '''\n",
    "    #' separate data table and metainfo by `end_index` (needs to define beforehand)\n",
    "    data_df = log2_feat_df.iloc[:,end_index:log2_feat_df.shape[1]]\n",
    "    log2_feat_df_meta = log2_feat_df.iloc[:,0:end_index]\n",
    "    \n",
    "    # calculate gMean first\n",
    "    group_of_mean_dict = {}\n",
    "    for group in groupRegExprs:\n",
    "        group_df = select_column_regExpr(log2_feat_df,group)\n",
    "        group_df_mean = group_df.apply(lambda row: row.mean(),axis = 1)\n",
    "        group_id = group.split('\\\\')[0]\n",
    "        log2_feat_df_meta[f'gMean_{group_id}'] = group_df_mean\n",
    "        group_of_mean_dict.update({group_id : group_df_mean})\n",
    "    \n",
    "    # calculate log2 fold change  using `group_of_mean_dict`\n",
    "    combos = list(combinations(group_of_mean_dict.keys(), 2))\n",
    "    for combo in combos:\n",
    "        log2_feat_df_meta[f'log2FC_{combo[1]}vs{combo[0]}'] = [y - x for (x,y) in zip(group_of_mean_dict[combo[0]],\n",
    "                                                                                           group_of_mean_dict[combo[1]])]\n",
    "    final_df = pd.concat([log2_feat_df_meta,data_df],axis = 1)\n",
    "    return(final_df)"
   ]
  },
  {
   "cell_type": "markdown",
   "id": "4817184a",
   "metadata": {
    "tags": []
   },
   "source": [
    "### **Imputated** TICnorm log2 data : report gMean"
   ]
  },
  {
   "cell_type": "code",
   "execution_count": 92,
   "id": "77dcde06",
   "metadata": {},
   "outputs": [],
   "source": [
    "FC_log2_TICnorm_imphMin_feat_df = log2FCreport(log2_feat_df = log2_imphMin_data_df,\n",
    "                                      end_index = 0)\n",
    "\n",
    "FC_log2_TICnorm_imphMin_feat_df.to_csv(\n",
    "        os.path.join(output_dir,\n",
    "                       f\"FC_log2_hMinImp_TICn_groupFil{group_percNA_threshold}_{mode}_blkM_featab.csv\"),index = True)"
   ]
  },
  {
   "cell_type": "markdown",
   "id": "ed8673cd",
   "metadata": {},
   "source": [
    "-------"
   ]
  },
  {
   "cell_type": "markdown",
   "id": "2453b688",
   "metadata": {},
   "source": [
    "-------"
   ]
  },
  {
   "cell_type": "markdown",
   "id": "b362ef75",
   "metadata": {},
   "source": [
    "## Label features matched with PS"
   ]
  },
  {
   "cell_type": "code",
   "execution_count": 93,
   "id": "81e7e7ad",
   "metadata": {},
   "outputs": [],
   "source": [
    "# target_feat_df = pd.read_csv(os.path.join(asari_out_fdr,'targeted_extraction__Feature_table.tsv'),sep = '\\t')\n",
    "# target_list_df = pd.read_csv(targeted_file, sep = '\\t')"
   ]
  },
  {
   "cell_type": "code",
   "execution_count": 94,
   "id": "aeba0d1a",
   "metadata": {},
   "outputs": [
    {
     "data": {
      "text/html": [
       "<div>\n",
       "<style scoped>\n",
       "    .dataframe tbody tr th:only-of-type {\n",
       "        vertical-align: middle;\n",
       "    }\n",
       "\n",
       "    .dataframe tbody tr th {\n",
       "        vertical-align: top;\n",
       "    }\n",
       "\n",
       "    .dataframe thead th {\n",
       "        text-align: right;\n",
       "    }\n",
       "</style>\n",
       "<table border=\"1\" class=\"dataframe\">\n",
       "  <thead>\n",
       "    <tr style=\"text-align: right;\">\n",
       "      <th></th>\n",
       "      <th>query_target</th>\n",
       "      <th>id_number</th>\n",
       "      <th>mz</th>\n",
       "      <th>rtime</th>\n",
       "      <th>rtime_left_base</th>\n",
       "      <th>rtime_right_base</th>\n",
       "      <th>parent_masstrack_id</th>\n",
       "      <th>peak_area</th>\n",
       "      <th>cSelectivity</th>\n",
       "      <th>goodness_fitting</th>\n",
       "      <th>snr</th>\n",
       "      <th>detection_counts</th>\n",
       "      <th>MT_20230308_032</th>\n",
       "      <th>Blank_20230308_002</th>\n",
       "      <th>Blank_20230308_004</th>\n",
       "      <th>Blank_20230308_006</th>\n",
       "      <th>Blank_std_20230308_1_002</th>\n",
       "      <th>MT_20230308_002</th>\n",
       "      <th>MT_20230308_004</th>\n",
       "      <th>MT_20230308_006</th>\n",
       "      <th>MT_20230308_008</th>\n",
       "      <th>MT_20230308_010</th>\n",
       "      <th>MT_20230308_012</th>\n",
       "      <th>MT_20230308_014</th>\n",
       "      <th>MT_20230308_016</th>\n",
       "      <th>MT_20230308_018</th>\n",
       "      <th>MT_20230308_020</th>\n",
       "      <th>MT_20230308_022</th>\n",
       "      <th>MT_20230308_024</th>\n",
       "      <th>MT_20230308_026</th>\n",
       "      <th>MT_20230308_028</th>\n",
       "      <th>MT_20230308_030</th>\n",
       "    </tr>\n",
       "  </thead>\n",
       "  <tbody>\n",
       "    <tr>\n",
       "      <th>0</th>\n",
       "      <td>482.288282</td>\n",
       "      <td>F1614</td>\n",
       "      <td>482.2890</td>\n",
       "      <td>207.04</td>\n",
       "      <td>204.92</td>\n",
       "      <td>209.41</td>\n",
       "      <td>1335</td>\n",
       "      <td>4365548</td>\n",
       "      <td>0.88</td>\n",
       "      <td>0.85</td>\n",
       "      <td>430</td>\n",
       "      <td>16</td>\n",
       "      <td>0</td>\n",
       "      <td>0</td>\n",
       "      <td>20555</td>\n",
       "      <td>48411</td>\n",
       "      <td>60662</td>\n",
       "      <td>0</td>\n",
       "      <td>0</td>\n",
       "      <td>321382</td>\n",
       "      <td>235911</td>\n",
       "      <td>655433</td>\n",
       "      <td>151268</td>\n",
       "      <td>66061</td>\n",
       "      <td>548649</td>\n",
       "      <td>448802</td>\n",
       "      <td>198916</td>\n",
       "      <td>441632</td>\n",
       "      <td>844487</td>\n",
       "      <td>167207</td>\n",
       "      <td>43418</td>\n",
       "      <td>395143</td>\n",
       "    </tr>\n",
       "    <tr>\n",
       "      <th>1</th>\n",
       "      <td>498.283197</td>\n",
       "      <td>F3712</td>\n",
       "      <td>498.2843</td>\n",
       "      <td>33.72</td>\n",
       "      <td>32.23</td>\n",
       "      <td>36.32</td>\n",
       "      <td>1567</td>\n",
       "      <td>18072147</td>\n",
       "      <td>1.00</td>\n",
       "      <td>0.94</td>\n",
       "      <td>270</td>\n",
       "      <td>15</td>\n",
       "      <td>0</td>\n",
       "      <td>837591</td>\n",
       "      <td>717296</td>\n",
       "      <td>646253</td>\n",
       "      <td>0</td>\n",
       "      <td>0</td>\n",
       "      <td>491014</td>\n",
       "      <td>1532934</td>\n",
       "      <td>1230597</td>\n",
       "      <td>910433</td>\n",
       "      <td>702748</td>\n",
       "      <td>621143</td>\n",
       "      <td>2266499</td>\n",
       "      <td>942310</td>\n",
       "      <td>1587450</td>\n",
       "      <td>1069759</td>\n",
       "      <td>1205834</td>\n",
       "      <td>0</td>\n",
       "      <td>0</td>\n",
       "      <td>1426358</td>\n",
       "    </tr>\n",
       "    <tr>\n",
       "      <th>2</th>\n",
       "      <td>524.298847</td>\n",
       "      <td>F1779</td>\n",
       "      <td>524.2982</td>\n",
       "      <td>96.47</td>\n",
       "      <td>93.85</td>\n",
       "      <td>99.13</td>\n",
       "      <td>1928</td>\n",
       "      <td>36918657</td>\n",
       "      <td>0.76</td>\n",
       "      <td>0.97</td>\n",
       "      <td>470</td>\n",
       "      <td>14</td>\n",
       "      <td>0</td>\n",
       "      <td>0</td>\n",
       "      <td>0</td>\n",
       "      <td>0</td>\n",
       "      <td>1698237</td>\n",
       "      <td>0</td>\n",
       "      <td>0</td>\n",
       "      <td>2803625</td>\n",
       "      <td>3026357</td>\n",
       "      <td>2958153</td>\n",
       "      <td>2827464</td>\n",
       "      <td>2817111</td>\n",
       "      <td>2754368</td>\n",
       "      <td>2156389</td>\n",
       "      <td>2912621</td>\n",
       "      <td>2697065</td>\n",
       "      <td>2971851</td>\n",
       "      <td>3236482</td>\n",
       "      <td>2724970</td>\n",
       "      <td>3001170</td>\n",
       "    </tr>\n",
       "    <tr>\n",
       "      <th>3</th>\n",
       "      <td>538.350882</td>\n",
       "      <td>F3031</td>\n",
       "      <td>538.3514</td>\n",
       "      <td>107.59</td>\n",
       "      <td>104.85</td>\n",
       "      <td>110.34</td>\n",
       "      <td>2126</td>\n",
       "      <td>30389790</td>\n",
       "      <td>0.92</td>\n",
       "      <td>0.98</td>\n",
       "      <td>119</td>\n",
       "      <td>3</td>\n",
       "      <td>9740323</td>\n",
       "      <td>0</td>\n",
       "      <td>0</td>\n",
       "      <td>0</td>\n",
       "      <td>0</td>\n",
       "      <td>10627114</td>\n",
       "      <td>10399747</td>\n",
       "      <td>0</td>\n",
       "      <td>0</td>\n",
       "      <td>0</td>\n",
       "      <td>0</td>\n",
       "      <td>0</td>\n",
       "      <td>0</td>\n",
       "      <td>0</td>\n",
       "      <td>0</td>\n",
       "      <td>0</td>\n",
       "      <td>0</td>\n",
       "      <td>0</td>\n",
       "      <td>0</td>\n",
       "      <td>0</td>\n",
       "    </tr>\n",
       "    <tr>\n",
       "      <th>4</th>\n",
       "      <td>540.330147</td>\n",
       "      <td>F3138</td>\n",
       "      <td>540.3305</td>\n",
       "      <td>70.18</td>\n",
       "      <td>67.44</td>\n",
       "      <td>72.92</td>\n",
       "      <td>2147</td>\n",
       "      <td>29371349</td>\n",
       "      <td>0.95</td>\n",
       "      <td>0.98</td>\n",
       "      <td>23</td>\n",
       "      <td>7</td>\n",
       "      <td>6883593</td>\n",
       "      <td>0</td>\n",
       "      <td>0</td>\n",
       "      <td>0</td>\n",
       "      <td>0</td>\n",
       "      <td>6872501</td>\n",
       "      <td>6813756</td>\n",
       "      <td>0</td>\n",
       "      <td>0</td>\n",
       "      <td>0</td>\n",
       "      <td>2352009</td>\n",
       "      <td>2308541</td>\n",
       "      <td>0</td>\n",
       "      <td>0</td>\n",
       "      <td>0</td>\n",
       "      <td>0</td>\n",
       "      <td>0</td>\n",
       "      <td>2322796</td>\n",
       "      <td>2729822</td>\n",
       "      <td>0</td>\n",
       "    </tr>\n",
       "  </tbody>\n",
       "</table>\n",
       "</div>"
      ],
      "text/plain": [
       "   query_target id_number        mz   rtime  rtime_left_base  rtime_right_base  parent_masstrack_id  peak_area  cSelectivity  goodness_fitting  snr  detection_counts  MT_20230308_032  Blank_20230308_002  Blank_20230308_004  Blank_20230308_006  Blank_std_20230308_1_002  MT_20230308_002  MT_20230308_004  MT_20230308_006  MT_20230308_008  MT_20230308_010  MT_20230308_012  MT_20230308_014  MT_20230308_016  MT_20230308_018  MT_20230308_020  MT_20230308_022  MT_20230308_024  MT_20230308_026  MT_20230308_028  MT_20230308_030\n",
       "0    482.288282     F1614  482.2890  207.04           204.92            209.41                 1335    4365548          0.88              0.85  430                16                0                   0               20555               48411                     60662                0                0           321382           235911           655433           151268            66061           548649           448802           198916           441632           844487           167207            43418           395143\n",
       "1    498.283197     F3712  498.2843   33.72            32.23             36.32                 1567   18072147          1.00              0.94  270                15                0              837591              717296              646253                         0                0           491014          1532934          1230597           910433           702748           621143          2266499           942310          1587450          1069759          1205834                0                0          1426358\n",
       "2    524.298847     F1779  524.2982   96.47            93.85             99.13                 1928   36918657          0.76              0.97  470                14                0                   0                   0                   0                   1698237                0                0          2803625          3026357          2958153          2827464          2817111          2754368          2156389          2912621          2697065          2971851          3236482          2724970          3001170\n",
       "3    538.350882     F3031  538.3514  107.59           104.85            110.34                 2126   30389790          0.92              0.98  119                 3          9740323                   0                   0                   0                         0         10627114         10399747                0                0                0                0                0                0                0                0                0                0                0                0                0\n",
       "4    540.330147     F3138  540.3305   70.18            67.44             72.92                 2147   29371349          0.95              0.98   23                 7          6883593                   0                   0                   0                         0          6872501          6813756                0                0                0          2352009          2308541                0                0                0                0                0          2322796          2729822                0"
      ]
     },
     "execution_count": 94,
     "metadata": {},
     "output_type": "execute_result"
    }
   ],
   "source": [
    "target_feat_df.head()"
   ]
  },
  {
   "cell_type": "code",
   "execution_count": 95,
   "id": "e7df58f4",
   "metadata": {},
   "outputs": [
    {
     "data": {
      "text/html": [
       "<div>\n",
       "<style scoped>\n",
       "    .dataframe tbody tr th:only-of-type {\n",
       "        vertical-align: middle;\n",
       "    }\n",
       "\n",
       "    .dataframe tbody tr th {\n",
       "        vertical-align: top;\n",
       "    }\n",
       "\n",
       "    .dataframe thead th {\n",
       "        text-align: right;\n",
       "    }\n",
       "</style>\n",
       "<table border=\"1\" class=\"dataframe\">\n",
       "  <thead>\n",
       "    <tr style=\"text-align: right;\">\n",
       "      <th></th>\n",
       "      <th>[M-H]</th>\n",
       "      <th>Species Shorthand</th>\n",
       "      <th>Formula</th>\n",
       "      <th>Neutral_Mass</th>\n",
       "      <th>Common Name</th>\n",
       "    </tr>\n",
       "  </thead>\n",
       "  <tbody>\n",
       "    <tr>\n",
       "      <th>0</th>\n",
       "      <td>440.204947</td>\n",
       "      <td>LPS 12:0</td>\n",
       "      <td>C18H36NO9P</td>\n",
       "      <td>441.212772</td>\n",
       "      <td>PS(12:0/0:0)</td>\n",
       "    </tr>\n",
       "    <tr>\n",
       "      <th>1</th>\n",
       "      <td>454.184212</td>\n",
       "      <td>PS 12:0</td>\n",
       "      <td>C18H34NO10P</td>\n",
       "      <td>455.192037</td>\n",
       "      <td>PS(6:0/6:0)</td>\n",
       "    </tr>\n",
       "    <tr>\n",
       "      <th>2</th>\n",
       "      <td>454.220597</td>\n",
       "      <td>LPS 13:0</td>\n",
       "      <td>C19H38NO9P</td>\n",
       "      <td>455.228422</td>\n",
       "      <td>PS(13:0/0:0)</td>\n",
       "    </tr>\n",
       "    <tr>\n",
       "      <th>3</th>\n",
       "      <td>466.220597</td>\n",
       "      <td>LPS 14:1</td>\n",
       "      <td>C20H38NO9P</td>\n",
       "      <td>467.228422</td>\n",
       "      <td>PS(14:1(9Z)/0:0)</td>\n",
       "    </tr>\n",
       "    <tr>\n",
       "      <th>4</th>\n",
       "      <td>468.236247</td>\n",
       "      <td>LPS 14:0</td>\n",
       "      <td>C20H40NO9P</td>\n",
       "      <td>469.244072</td>\n",
       "      <td>PS(14:0/0:0)</td>\n",
       "    </tr>\n",
       "  </tbody>\n",
       "</table>\n",
       "</div>"
      ],
      "text/plain": [
       "        [M-H] Species Shorthand      Formula  Neutral_Mass       Common Name\n",
       "0  440.204947          LPS 12:0   C18H36NO9P    441.212772      PS(12:0/0:0)\n",
       "1  454.184212           PS 12:0  C18H34NO10P    455.192037       PS(6:0/6:0)\n",
       "2  454.220597          LPS 13:0   C19H38NO9P    455.228422      PS(13:0/0:0)\n",
       "3  466.220597          LPS 14:1   C20H38NO9P    467.228422  PS(14:1(9Z)/0:0)\n",
       "4  468.236247          LPS 14:0   C20H40NO9P    469.244072      PS(14:0/0:0)"
      ]
     },
     "execution_count": 95,
     "metadata": {},
     "output_type": "execute_result"
    }
   ],
   "source": [
    "target_list_df.head()"
   ]
  },
  {
   "cell_type": "code",
   "execution_count": 96,
   "id": "3d804ddf",
   "metadata": {},
   "outputs": [],
   "source": [
    "mat_target_list_df = pd.merge(target_list_df,\n",
    "                              target_feat_df.loc[:,['query_target','id_number']], \n",
    "                              how='inner',\n",
    "                              left_on='[M-H]',\n",
    "                              right_on='query_target')"
   ]
  },
  {
   "cell_type": "code",
   "execution_count": 97,
   "id": "9dd49959",
   "metadata": {},
   "outputs": [
    {
     "data": {
      "text/html": [
       "<div>\n",
       "<style scoped>\n",
       "    .dataframe tbody tr th:only-of-type {\n",
       "        vertical-align: middle;\n",
       "    }\n",
       "\n",
       "    .dataframe tbody tr th {\n",
       "        vertical-align: top;\n",
       "    }\n",
       "\n",
       "    .dataframe thead th {\n",
       "        text-align: right;\n",
       "    }\n",
       "</style>\n",
       "<table border=\"1\" class=\"dataframe\">\n",
       "  <thead>\n",
       "    <tr style=\"text-align: right;\">\n",
       "      <th></th>\n",
       "      <th>[M-H]</th>\n",
       "      <th>Species Shorthand</th>\n",
       "      <th>Formula</th>\n",
       "      <th>Neutral_Mass</th>\n",
       "      <th>Common Name</th>\n",
       "      <th>query_target</th>\n",
       "      <th>id_number</th>\n",
       "    </tr>\n",
       "  </thead>\n",
       "  <tbody>\n",
       "    <tr>\n",
       "      <th>0</th>\n",
       "      <td>482.288282</td>\n",
       "      <td>LPS O-16:0</td>\n",
       "      <td>C22H46NO8P</td>\n",
       "      <td>483.296107</td>\n",
       "      <td>PS(O-16:0/0:0)</td>\n",
       "      <td>482.288282</td>\n",
       "      <td>F1614</td>\n",
       "    </tr>\n",
       "    <tr>\n",
       "      <th>1</th>\n",
       "      <td>498.283197</td>\n",
       "      <td>LPS O-16:0;O</td>\n",
       "      <td>C22H46NO9P</td>\n",
       "      <td>499.291022</td>\n",
       "      <td>1-(2-methoxy-13-methyl-tetradecanyl)-sn-glycer...</td>\n",
       "      <td>498.283197</td>\n",
       "      <td>F3712</td>\n",
       "    </tr>\n",
       "    <tr>\n",
       "      <th>2</th>\n",
       "      <td>524.298847</td>\n",
       "      <td>LPS 18:0</td>\n",
       "      <td>C24H48NO9P</td>\n",
       "      <td>525.306672</td>\n",
       "      <td>PS(18:0/0:0)</td>\n",
       "      <td>524.298847</td>\n",
       "      <td>F1779</td>\n",
       "    </tr>\n",
       "    <tr>\n",
       "      <th>3</th>\n",
       "      <td>524.298847</td>\n",
       "      <td>LPS O-18:1;O</td>\n",
       "      <td>C24H48NO9P</td>\n",
       "      <td>525.306672</td>\n",
       "      <td>1-(2-methoxy-6Z-heptadecenyl)-sn-glycero-3-pho...</td>\n",
       "      <td>524.298847</td>\n",
       "      <td>F1779</td>\n",
       "    </tr>\n",
       "    <tr>\n",
       "      <th>4</th>\n",
       "      <td>538.350882</td>\n",
       "      <td>LPS O-20:0</td>\n",
       "      <td>C26H54NO8P</td>\n",
       "      <td>539.358707</td>\n",
       "      <td>PS(O-20:0/0:0)</td>\n",
       "      <td>538.350882</td>\n",
       "      <td>F3031</td>\n",
       "    </tr>\n",
       "  </tbody>\n",
       "</table>\n",
       "</div>"
      ],
      "text/plain": [
       "        [M-H] Species Shorthand     Formula  Neutral_Mass                                        Common Name  query_target id_number\n",
       "0  482.288282        LPS O-16:0  C22H46NO8P    483.296107                                     PS(O-16:0/0:0)    482.288282     F1614\n",
       "1  498.283197      LPS O-16:0;O  C22H46NO9P    499.291022  1-(2-methoxy-13-methyl-tetradecanyl)-sn-glycer...    498.283197     F3712\n",
       "2  524.298847          LPS 18:0  C24H48NO9P    525.306672                                       PS(18:0/0:0)    524.298847     F1779\n",
       "3  524.298847      LPS O-18:1;O  C24H48NO9P    525.306672  1-(2-methoxy-6Z-heptadecenyl)-sn-glycero-3-pho...    524.298847     F1779\n",
       "4  538.350882        LPS O-20:0  C26H54NO8P    539.358707                                     PS(O-20:0/0:0)    538.350882     F3031"
      ]
     },
     "execution_count": 97,
     "metadata": {},
     "output_type": "execute_result"
    }
   ],
   "source": [
    "mat_target_list_df.head()"
   ]
  },
  {
   "cell_type": "code",
   "execution_count": 98,
   "id": "f0db7069",
   "metadata": {},
   "outputs": [],
   "source": [
    "mat_target_list_df = mat_target_list_df.loc[:,['id_number',\n",
    "                                               '[M-H]', \n",
    "                                               \"Species Shorthand\", \n",
    "                                               \"Formula\", \n",
    "                                               \"Neutral_Mass\", \n",
    "                                               \"Common Name\"]]"
   ]
  },
  {
   "cell_type": "code",
   "execution_count": 99,
   "id": "8b8054ba",
   "metadata": {},
   "outputs": [],
   "source": [
    "final_df = pd.merge(mat_target_list_df,\n",
    "         FC_log2_TICnorm_imphMin_feat_df,\n",
    "         how='right',\n",
    "         left_on='id_number',\n",
    "         right_index = True)"
   ]
  },
  {
   "cell_type": "code",
   "execution_count": 100,
   "id": "9f50141f",
   "metadata": {},
   "outputs": [
    {
     "data": {
      "text/html": [
       "<div>\n",
       "<style scoped>\n",
       "    .dataframe tbody tr th:only-of-type {\n",
       "        vertical-align: middle;\n",
       "    }\n",
       "\n",
       "    .dataframe tbody tr th {\n",
       "        vertical-align: top;\n",
       "    }\n",
       "\n",
       "    .dataframe thead th {\n",
       "        text-align: right;\n",
       "    }\n",
       "</style>\n",
       "<table border=\"1\" class=\"dataframe\">\n",
       "  <thead>\n",
       "    <tr style=\"text-align: right;\">\n",
       "      <th></th>\n",
       "      <th>id_number</th>\n",
       "      <th>[M-H]</th>\n",
       "      <th>Species Shorthand</th>\n",
       "      <th>Formula</th>\n",
       "      <th>Neutral_Mass</th>\n",
       "      <th>Common Name</th>\n",
       "      <th>gMean_Tn</th>\n",
       "      <th>gMean_CD8stem</th>\n",
       "      <th>gMean_CD8trans</th>\n",
       "      <th>gMean_CD8TD</th>\n",
       "      <th>log2FC_CD8stemvsTn</th>\n",
       "      <th>log2FC_CD8transvsTn</th>\n",
       "      <th>log2FC_CD8TDvsTn</th>\n",
       "      <th>log2FC_CD8transvsCD8stem</th>\n",
       "      <th>log2FC_CD8TDvsCD8stem</th>\n",
       "      <th>log2FC_CD8TDvsCD8trans</th>\n",
       "      <th>CD8TD_750K_1</th>\n",
       "      <th>CD8TD_750K_2</th>\n",
       "      <th>CD8stem_250K_1</th>\n",
       "      <th>CD8stem_300K_2</th>\n",
       "      <th>CD8trans_250K_2</th>\n",
       "      <th>CD8trans_350K_1</th>\n",
       "      <th>Tn_250K_1</th>\n",
       "      <th>Tn_250K_2</th>\n",
       "      <th>pooled_1</th>\n",
       "      <th>pooled_2</th>\n",
       "      <th>pooled_3</th>\n",
       "    </tr>\n",
       "  </thead>\n",
       "  <tbody>\n",
       "    <tr>\n",
       "      <th>NaN</th>\n",
       "      <td>F2</td>\n",
       "      <td>NaN</td>\n",
       "      <td>NaN</td>\n",
       "      <td>NaN</td>\n",
       "      <td>NaN</td>\n",
       "      <td>NaN</td>\n",
       "      <td>15.402975</td>\n",
       "      <td>20.610938</td>\n",
       "      <td>17.897311</td>\n",
       "      <td>22.074960</td>\n",
       "      <td>5.207962</td>\n",
       "      <td>2.494335</td>\n",
       "      <td>6.671985</td>\n",
       "      <td>-2.713627</td>\n",
       "      <td>1.464023</td>\n",
       "      <td>4.177650</td>\n",
       "      <td>20.711928</td>\n",
       "      <td>23.437993</td>\n",
       "      <td>19.795498</td>\n",
       "      <td>21.426377</td>\n",
       "      <td>14.881688</td>\n",
       "      <td>20.912934</td>\n",
       "      <td>14.881688</td>\n",
       "      <td>15.924263</td>\n",
       "      <td>21.624641</td>\n",
       "      <td>21.636373</td>\n",
       "      <td>21.818457</td>\n",
       "    </tr>\n",
       "    <tr>\n",
       "      <th>NaN</th>\n",
       "      <td>F4</td>\n",
       "      <td>NaN</td>\n",
       "      <td>NaN</td>\n",
       "      <td>NaN</td>\n",
       "      <td>NaN</td>\n",
       "      <td>NaN</td>\n",
       "      <td>20.648608</td>\n",
       "      <td>20.748377</td>\n",
       "      <td>21.008530</td>\n",
       "      <td>20.546860</td>\n",
       "      <td>0.099769</td>\n",
       "      <td>0.359922</td>\n",
       "      <td>-0.101748</td>\n",
       "      <td>0.260153</td>\n",
       "      <td>-0.201517</td>\n",
       "      <td>-0.461670</td>\n",
       "      <td>19.437210</td>\n",
       "      <td>21.656511</td>\n",
       "      <td>20.579798</td>\n",
       "      <td>20.916956</td>\n",
       "      <td>20.836353</td>\n",
       "      <td>21.180708</td>\n",
       "      <td>20.325369</td>\n",
       "      <td>20.971848</td>\n",
       "      <td>20.405915</td>\n",
       "      <td>20.906877</td>\n",
       "      <td>21.072210</td>\n",
       "    </tr>\n",
       "    <tr>\n",
       "      <th>NaN</th>\n",
       "      <td>F5</td>\n",
       "      <td>NaN</td>\n",
       "      <td>NaN</td>\n",
       "      <td>NaN</td>\n",
       "      <td>NaN</td>\n",
       "      <td>NaN</td>\n",
       "      <td>18.043676</td>\n",
       "      <td>19.674523</td>\n",
       "      <td>18.928577</td>\n",
       "      <td>19.035437</td>\n",
       "      <td>1.630846</td>\n",
       "      <td>0.884901</td>\n",
       "      <td>0.991761</td>\n",
       "      <td>-0.745946</td>\n",
       "      <td>-0.639086</td>\n",
       "      <td>0.106860</td>\n",
       "      <td>18.043676</td>\n",
       "      <td>20.027198</td>\n",
       "      <td>19.416032</td>\n",
       "      <td>19.933014</td>\n",
       "      <td>18.043676</td>\n",
       "      <td>19.813477</td>\n",
       "      <td>18.043676</td>\n",
       "      <td>18.043676</td>\n",
       "      <td>18.975149</td>\n",
       "      <td>19.818245</td>\n",
       "      <td>19.649480</td>\n",
       "    </tr>\n",
       "    <tr>\n",
       "      <th>NaN</th>\n",
       "      <td>F6</td>\n",
       "      <td>NaN</td>\n",
       "      <td>NaN</td>\n",
       "      <td>NaN</td>\n",
       "      <td>NaN</td>\n",
       "      <td>NaN</td>\n",
       "      <td>19.509782</td>\n",
       "      <td>20.676092</td>\n",
       "      <td>20.347293</td>\n",
       "      <td>20.325893</td>\n",
       "      <td>1.166310</td>\n",
       "      <td>0.837511</td>\n",
       "      <td>0.816112</td>\n",
       "      <td>-0.328799</td>\n",
       "      <td>-0.350199</td>\n",
       "      <td>-0.021400</td>\n",
       "      <td>19.509782</td>\n",
       "      <td>21.142005</td>\n",
       "      <td>20.334667</td>\n",
       "      <td>21.017517</td>\n",
       "      <td>19.509782</td>\n",
       "      <td>21.184804</td>\n",
       "      <td>19.509782</td>\n",
       "      <td>19.509782</td>\n",
       "      <td>21.024162</td>\n",
       "      <td>21.081501</td>\n",
       "      <td>21.033563</td>\n",
       "    </tr>\n",
       "    <tr>\n",
       "      <th>NaN</th>\n",
       "      <td>F10</td>\n",
       "      <td>NaN</td>\n",
       "      <td>NaN</td>\n",
       "      <td>NaN</td>\n",
       "      <td>NaN</td>\n",
       "      <td>NaN</td>\n",
       "      <td>16.765410</td>\n",
       "      <td>16.250037</td>\n",
       "      <td>16.266369</td>\n",
       "      <td>15.682748</td>\n",
       "      <td>-0.515373</td>\n",
       "      <td>-0.499041</td>\n",
       "      <td>-1.082662</td>\n",
       "      <td>0.016332</td>\n",
       "      <td>-0.567289</td>\n",
       "      <td>-0.583621</td>\n",
       "      <td>15.682748</td>\n",
       "      <td>15.682748</td>\n",
       "      <td>16.817326</td>\n",
       "      <td>15.682748</td>\n",
       "      <td>16.849990</td>\n",
       "      <td>15.682748</td>\n",
       "      <td>16.570907</td>\n",
       "      <td>16.959913</td>\n",
       "      <td>17.816061</td>\n",
       "      <td>15.682748</td>\n",
       "      <td>16.735560</td>\n",
       "    </tr>\n",
       "  </tbody>\n",
       "</table>\n",
       "</div>"
      ],
      "text/plain": [
       "    id_number  [M-H] Species Shorthand Formula  Neutral_Mass Common Name   gMean_Tn  gMean_CD8stem  gMean_CD8trans  gMean_CD8TD  log2FC_CD8stemvsTn  log2FC_CD8transvsTn  log2FC_CD8TDvsTn  log2FC_CD8transvsCD8stem  log2FC_CD8TDvsCD8stem  log2FC_CD8TDvsCD8trans  CD8TD_750K_1  CD8TD_750K_2  CD8stem_250K_1  CD8stem_300K_2  CD8trans_250K_2  CD8trans_350K_1  Tn_250K_1  Tn_250K_2   pooled_1   pooled_2   pooled_3\n",
       "NaN        F2    NaN               NaN     NaN           NaN         NaN  15.402975      20.610938       17.897311    22.074960            5.207962             2.494335          6.671985                 -2.713627               1.464023                4.177650     20.711928     23.437993       19.795498       21.426377        14.881688        20.912934  14.881688  15.924263  21.624641  21.636373  21.818457\n",
       "NaN        F4    NaN               NaN     NaN           NaN         NaN  20.648608      20.748377       21.008530    20.546860            0.099769             0.359922         -0.101748                  0.260153              -0.201517               -0.461670     19.437210     21.656511       20.579798       20.916956        20.836353        21.180708  20.325369  20.971848  20.405915  20.906877  21.072210\n",
       "NaN        F5    NaN               NaN     NaN           NaN         NaN  18.043676      19.674523       18.928577    19.035437            1.630846             0.884901          0.991761                 -0.745946              -0.639086                0.106860     18.043676     20.027198       19.416032       19.933014        18.043676        19.813477  18.043676  18.043676  18.975149  19.818245  19.649480\n",
       "NaN        F6    NaN               NaN     NaN           NaN         NaN  19.509782      20.676092       20.347293    20.325893            1.166310             0.837511          0.816112                 -0.328799              -0.350199               -0.021400     19.509782     21.142005       20.334667       21.017517        19.509782        21.184804  19.509782  19.509782  21.024162  21.081501  21.033563\n",
       "NaN       F10    NaN               NaN     NaN           NaN         NaN  16.765410      16.250037       16.266369    15.682748           -0.515373            -0.499041         -1.082662                  0.016332              -0.567289               -0.583621     15.682748     15.682748       16.817326       15.682748        16.849990        15.682748  16.570907  16.959913  17.816061  15.682748  16.735560"
      ]
     },
     "execution_count": 100,
     "metadata": {},
     "output_type": "execute_result"
    }
   ],
   "source": [
    "final_df.head()"
   ]
  },
  {
   "cell_type": "code",
   "execution_count": 101,
   "id": "90e45456",
   "metadata": {},
   "outputs": [],
   "source": [
    "final_short_df = pd.merge(mat_target_list_df,\n",
    "         FC_log2_TICnorm_imphMin_feat_df,\n",
    "         how='inner',\n",
    "         left_on='id_number',\n",
    "         right_index = True)"
   ]
  },
  {
   "cell_type": "code",
   "execution_count": 102,
   "id": "39c030bf",
   "metadata": {},
   "outputs": [
    {
     "data": {
      "text/plain": [
       "(41, 27)"
      ]
     },
     "execution_count": 102,
     "metadata": {},
     "output_type": "execute_result"
    }
   ],
   "source": [
    "final_short_df.shape"
   ]
  },
  {
   "cell_type": "code",
   "execution_count": 103,
   "id": "d6d1e2f7",
   "metadata": {},
   "outputs": [],
   "source": [
    "import math"
   ]
  },
  {
   "cell_type": "code",
   "execution_count": 104,
   "id": "b5d31d1a",
   "metadata": {},
   "outputs": [],
   "source": [
    "final_df.to_csv(\n",
    "        os.path.join(output_dir,\n",
    "                       f\"PSlab_FC_log2_hMinImp_TICn_groupFil{group_percNA_threshold}_{mode}_blkM_featab.csv\"),index = False)"
   ]
  },
  {
   "cell_type": "code",
   "execution_count": 105,
   "id": "279134fe",
   "metadata": {
    "tags": []
   },
   "outputs": [],
   "source": [
    "final_short_df.to_csv(\n",
    "        os.path.join(output_dir,\n",
    "                       f\"PSsel_FC_log2_hMinImp_TICn_groupFil{group_percNA_threshold}_{mode}_blkM_featab.csv\"),index = False)"
   ]
  }
 ],
 "metadata": {
  "kernelspec": {
   "display_name": "Python 3 (ipykernel)",
   "language": "python",
   "name": "python3"
  },
  "language_info": {
   "codemirror_mode": {
    "name": "ipython",
    "version": 3
   },
   "file_extension": ".py",
   "mimetype": "text/x-python",
   "name": "python",
   "nbconvert_exporter": "python",
   "pygments_lexer": "ipython3",
   "version": "3.10.9"
  }
 },
 "nbformat": 4,
 "nbformat_minor": 5
}
