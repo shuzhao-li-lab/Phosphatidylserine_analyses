{
 "cells": [
  {
   "cell_type": "markdown",
   "id": "ac57dcf6",
   "metadata": {},
   "source": [
    "# Asari table preprocessing"
   ]
  },
  {
   "cell_type": "code",
   "execution_count": 2,
   "id": "100fb3c0",
   "metadata": {
    "tags": []
   },
   "outputs": [],
   "source": [
    "# !pip install seaborn"
   ]
  },
  {
   "cell_type": "code",
   "execution_count": 22,
   "id": "f02ae87b",
   "metadata": {
    "tags": []
   },
   "outputs": [],
   "source": [
    "import pandas as pd\n",
    "import os\n",
    "import json\n",
    "import numpy as np\n",
    "import seaborn as sns\n",
    "import matplotlib.pyplot as plt\n",
    "import re\n",
    "from random import randrange"
   ]
  },
  {
   "cell_type": "code",
   "execution_count": 23,
   "id": "1a091b57",
   "metadata": {},
   "outputs": [],
   "source": [
    "pd.set_option('display.max_rows', 1000)\n",
    "pd.set_option('display.max_columns', 500)\n",
    "pd.set_option('display.width', 1000)"
   ]
  },
  {
   "cell_type": "code",
   "execution_count": 24,
   "id": "74fcb5d3",
   "metadata": {},
   "outputs": [],
   "source": [
    "asari_out_fdr = \"../../../asari-output-RPneg/output_asari_project_32322133_wtStemCell//\"\n",
    "metadata_file = \"../../../seq/RPneg_addgrp_wtStemCell.csv\"\n",
    "mode = \"RPneg\"\n",
    "group_percNA_threshold = 0.3 # < percNA, should be presented in any group\n",
    "rm_samples = ['Tn_750K_3', 'Tn_750K_4']"
   ]
  },
  {
   "cell_type": "code",
   "execution_count": 25,
   "id": "2764ec6d",
   "metadata": {},
   "outputs": [],
   "source": [
    "output_dir = \"../../output/preproc_fultab_wt_stemCell\" + str(randrange(0,100))"
   ]
  },
  {
   "cell_type": "code",
   "execution_count": 26,
   "id": "06ad15fe",
   "metadata": {},
   "outputs": [],
   "source": [
    "try:\n",
    "    os.mkdir(output_dir)\n",
    "except:\n",
    "    print(\"not done\")"
   ]
  },
  {
   "cell_type": "code",
   "execution_count": 27,
   "id": "4328e7f5",
   "metadata": {},
   "outputs": [],
   "source": [
    "feat_df = pd.read_csv(os.path.join(asari_out_fdr,'export/full_Feature_table.tsv'),sep = '\\t')"
   ]
  },
  {
   "cell_type": "code",
   "execution_count": 28,
   "id": "6186607e",
   "metadata": {},
   "outputs": [
    {
     "data": {
      "text/html": [
       "<div>\n",
       "<style scoped>\n",
       "    .dataframe tbody tr th:only-of-type {\n",
       "        vertical-align: middle;\n",
       "    }\n",
       "\n",
       "    .dataframe tbody tr th {\n",
       "        vertical-align: top;\n",
       "    }\n",
       "\n",
       "    .dataframe thead th {\n",
       "        text-align: right;\n",
       "    }\n",
       "</style>\n",
       "<table border=\"1\" class=\"dataframe\">\n",
       "  <thead>\n",
       "    <tr style=\"text-align: right;\">\n",
       "      <th></th>\n",
       "      <th>id_number</th>\n",
       "      <th>mz</th>\n",
       "      <th>rtime</th>\n",
       "      <th>rtime_left_base</th>\n",
       "      <th>rtime_right_base</th>\n",
       "      <th>parent_masstrack_id</th>\n",
       "      <th>peak_area</th>\n",
       "      <th>cSelectivity</th>\n",
       "      <th>goodness_fitting</th>\n",
       "      <th>snr</th>\n",
       "      <th>detection_counts</th>\n",
       "      <th>MT_20230308_032</th>\n",
       "      <th>Blank_20230308_002</th>\n",
       "      <th>Blank_20230308_004</th>\n",
       "      <th>Blank_20230308_006</th>\n",
       "      <th>Blank_std_20230308_1_002</th>\n",
       "      <th>MT_20230308_002</th>\n",
       "      <th>MT_20230308_004</th>\n",
       "      <th>MT_20230308_006</th>\n",
       "      <th>MT_20230308_008</th>\n",
       "      <th>MT_20230308_010</th>\n",
       "      <th>MT_20230308_012</th>\n",
       "      <th>MT_20230308_014</th>\n",
       "      <th>MT_20230308_016</th>\n",
       "      <th>MT_20230308_018</th>\n",
       "      <th>MT_20230308_020</th>\n",
       "      <th>MT_20230308_022</th>\n",
       "      <th>MT_20230308_024</th>\n",
       "      <th>MT_20230308_026</th>\n",
       "      <th>MT_20230308_028</th>\n",
       "      <th>MT_20230308_030</th>\n",
       "      <th>WT_Klof2_C1_pooled_02</th>\n",
       "      <th>WT_Klof2_C1_pooled_04</th>\n",
       "      <th>WT_Klof2_C1_pooled_06</th>\n",
       "    </tr>\n",
       "  </thead>\n",
       "  <tbody>\n",
       "    <tr>\n",
       "      <th>0</th>\n",
       "      <td>F1</td>\n",
       "      <td>100.9334</td>\n",
       "      <td>21.61</td>\n",
       "      <td>19.92</td>\n",
       "      <td>24.16</td>\n",
       "      <td>1</td>\n",
       "      <td>2092948</td>\n",
       "      <td>0.03</td>\n",
       "      <td>0.93</td>\n",
       "      <td>2</td>\n",
       "      <td>3</td>\n",
       "      <td>0</td>\n",
       "      <td>0</td>\n",
       "      <td>0</td>\n",
       "      <td>0</td>\n",
       "      <td>0</td>\n",
       "      <td>0</td>\n",
       "      <td>0</td>\n",
       "      <td>0</td>\n",
       "      <td>0</td>\n",
       "      <td>0</td>\n",
       "      <td>0</td>\n",
       "      <td>0</td>\n",
       "      <td>0</td>\n",
       "      <td>0</td>\n",
       "      <td>0</td>\n",
       "      <td>0</td>\n",
       "      <td>0</td>\n",
       "      <td>0</td>\n",
       "      <td>0</td>\n",
       "      <td>0</td>\n",
       "      <td>1935510</td>\n",
       "      <td>1154777</td>\n",
       "      <td>771318</td>\n",
       "    </tr>\n",
       "    <tr>\n",
       "      <th>1</th>\n",
       "      <td>F2</td>\n",
       "      <td>417.0238</td>\n",
       "      <td>31.14</td>\n",
       "      <td>28.75</td>\n",
       "      <td>33.51</td>\n",
       "      <td>625</td>\n",
       "      <td>1872502</td>\n",
       "      <td>1.00</td>\n",
       "      <td>0.97</td>\n",
       "      <td>9</td>\n",
       "      <td>2</td>\n",
       "      <td>0</td>\n",
       "      <td>0</td>\n",
       "      <td>0</td>\n",
       "      <td>0</td>\n",
       "      <td>0</td>\n",
       "      <td>0</td>\n",
       "      <td>0</td>\n",
       "      <td>0</td>\n",
       "      <td>0</td>\n",
       "      <td>0</td>\n",
       "      <td>1018472</td>\n",
       "      <td>0</td>\n",
       "      <td>0</td>\n",
       "      <td>0</td>\n",
       "      <td>0</td>\n",
       "      <td>0</td>\n",
       "      <td>588884</td>\n",
       "      <td>0</td>\n",
       "      <td>0</td>\n",
       "      <td>0</td>\n",
       "      <td>0</td>\n",
       "      <td>0</td>\n",
       "      <td>0</td>\n",
       "    </tr>\n",
       "    <tr>\n",
       "      <th>2</th>\n",
       "      <td>F3</td>\n",
       "      <td>417.0360</td>\n",
       "      <td>20.78</td>\n",
       "      <td>18.64</td>\n",
       "      <td>23.29</td>\n",
       "      <td>626</td>\n",
       "      <td>83870590</td>\n",
       "      <td>1.00</td>\n",
       "      <td>0.87</td>\n",
       "      <td>2479</td>\n",
       "      <td>16</td>\n",
       "      <td>16568160</td>\n",
       "      <td>0</td>\n",
       "      <td>0</td>\n",
       "      <td>0</td>\n",
       "      <td>0</td>\n",
       "      <td>16715971</td>\n",
       "      <td>17121711</td>\n",
       "      <td>3274770</td>\n",
       "      <td>1147107</td>\n",
       "      <td>929394</td>\n",
       "      <td>4321287</td>\n",
       "      <td>4923625</td>\n",
       "      <td>4235536</td>\n",
       "      <td>2278060</td>\n",
       "      <td>3153499</td>\n",
       "      <td>3491983</td>\n",
       "      <td>1715865</td>\n",
       "      <td>2483791</td>\n",
       "      <td>1925091</td>\n",
       "      <td>3148828</td>\n",
       "      <td>0</td>\n",
       "      <td>0</td>\n",
       "      <td>0</td>\n",
       "    </tr>\n",
       "    <tr>\n",
       "      <th>3</th>\n",
       "      <td>F4</td>\n",
       "      <td>113.0139</td>\n",
       "      <td>19.70</td>\n",
       "      <td>17.06</td>\n",
       "      <td>22.24</td>\n",
       "      <td>12</td>\n",
       "      <td>35797610</td>\n",
       "      <td>1.00</td>\n",
       "      <td>0.94</td>\n",
       "      <td>61</td>\n",
       "      <td>3</td>\n",
       "      <td>0</td>\n",
       "      <td>0</td>\n",
       "      <td>0</td>\n",
       "      <td>0</td>\n",
       "      <td>0</td>\n",
       "      <td>0</td>\n",
       "      <td>0</td>\n",
       "      <td>0</td>\n",
       "      <td>0</td>\n",
       "      <td>0</td>\n",
       "      <td>0</td>\n",
       "      <td>0</td>\n",
       "      <td>0</td>\n",
       "      <td>0</td>\n",
       "      <td>0</td>\n",
       "      <td>0</td>\n",
       "      <td>0</td>\n",
       "      <td>0</td>\n",
       "      <td>0</td>\n",
       "      <td>0</td>\n",
       "      <td>18939390</td>\n",
       "      <td>18710423</td>\n",
       "      <td>18048458</td>\n",
       "    </tr>\n",
       "    <tr>\n",
       "      <th>4</th>\n",
       "      <td>F5</td>\n",
       "      <td>452.2853</td>\n",
       "      <td>33.09</td>\n",
       "      <td>30.49</td>\n",
       "      <td>35.45</td>\n",
       "      <td>1214</td>\n",
       "      <td>5313362</td>\n",
       "      <td>1.00</td>\n",
       "      <td>0.92</td>\n",
       "      <td>212</td>\n",
       "      <td>4</td>\n",
       "      <td>0</td>\n",
       "      <td>0</td>\n",
       "      <td>0</td>\n",
       "      <td>0</td>\n",
       "      <td>0</td>\n",
       "      <td>0</td>\n",
       "      <td>0</td>\n",
       "      <td>0</td>\n",
       "      <td>1545347</td>\n",
       "      <td>1002182</td>\n",
       "      <td>0</td>\n",
       "      <td>0</td>\n",
       "      <td>414947</td>\n",
       "      <td>0</td>\n",
       "      <td>0</td>\n",
       "      <td>0</td>\n",
       "      <td>1929205</td>\n",
       "      <td>0</td>\n",
       "      <td>0</td>\n",
       "      <td>0</td>\n",
       "      <td>0</td>\n",
       "      <td>0</td>\n",
       "      <td>0</td>\n",
       "    </tr>\n",
       "  </tbody>\n",
       "</table>\n",
       "</div>"
      ],
      "text/plain": [
       "  id_number        mz  rtime  rtime_left_base  rtime_right_base  parent_masstrack_id  peak_area  cSelectivity  goodness_fitting   snr  detection_counts  MT_20230308_032  Blank_20230308_002  Blank_20230308_004  Blank_20230308_006  Blank_std_20230308_1_002  MT_20230308_002  MT_20230308_004  MT_20230308_006  MT_20230308_008  MT_20230308_010  MT_20230308_012  MT_20230308_014  MT_20230308_016  MT_20230308_018  MT_20230308_020  MT_20230308_022  MT_20230308_024  MT_20230308_026  MT_20230308_028  MT_20230308_030  WT_Klof2_C1_pooled_02  WT_Klof2_C1_pooled_04  WT_Klof2_C1_pooled_06\n",
       "0        F1  100.9334  21.61            19.92             24.16                    1    2092948          0.03              0.93     2                 3                0                   0                   0                   0                         0                0                0                0                0                0                0                0                0                0                0                0                0                0                0                0                1935510                1154777                 771318\n",
       "1        F2  417.0238  31.14            28.75             33.51                  625    1872502          1.00              0.97     9                 2                0                   0                   0                   0                         0                0                0                0                0                0          1018472                0                0                0                0                0           588884                0                0                0                      0                      0                      0\n",
       "2        F3  417.0360  20.78            18.64             23.29                  626   83870590          1.00              0.87  2479                16         16568160                   0                   0                   0                         0         16715971         17121711          3274770          1147107           929394          4321287          4923625          4235536          2278060          3153499          3491983          1715865          2483791          1925091          3148828                      0                      0                      0\n",
       "3        F4  113.0139  19.70            17.06             22.24                   12   35797610          1.00              0.94    61                 3                0                   0                   0                   0                         0                0                0                0                0                0                0                0                0                0                0                0                0                0                0                0               18939390               18710423               18048458\n",
       "4        F5  452.2853  33.09            30.49             35.45                 1214    5313362          1.00              0.92   212                 4                0                   0                   0                   0                         0                0                0                0          1545347          1002182                0                0           414947                0                0                0          1929205                0                0                0                      0                      0                      0"
      ]
     },
     "execution_count": 28,
     "metadata": {},
     "output_type": "execute_result"
    }
   ],
   "source": [
    "feat_df.head()"
   ]
  },
  {
   "cell_type": "code",
   "execution_count": 29,
   "id": "f8e1cdfa",
   "metadata": {},
   "outputs": [
    {
     "name": "stdout",
     "output_type": "stream",
     "text": [
      "number of features are: 18094\n"
     ]
    }
   ],
   "source": [
    "print(f'number of features are: {feat_df.shape[0]}')"
   ]
  },
  {
   "cell_type": "code",
   "execution_count": 30,
   "id": "d00217b3",
   "metadata": {},
   "outputs": [],
   "source": [
    "meta_df = pd.read_csv(metadata_file, header = 0)"
   ]
  },
  {
   "cell_type": "code",
   "execution_count": 31,
   "id": "80aeac28",
   "metadata": {},
   "outputs": [
    {
     "data": {
      "text/html": [
       "<div>\n",
       "<style scoped>\n",
       "    .dataframe tbody tr th:only-of-type {\n",
       "        vertical-align: middle;\n",
       "    }\n",
       "\n",
       "    .dataframe tbody tr th {\n",
       "        vertical-align: top;\n",
       "    }\n",
       "\n",
       "    .dataframe thead th {\n",
       "        text-align: right;\n",
       "    }\n",
       "</style>\n",
       "<table border=\"1\" class=\"dataframe\">\n",
       "  <thead>\n",
       "    <tr style=\"text-align: right;\">\n",
       "      <th></th>\n",
       "      <th>Sample Type</th>\n",
       "      <th>File Name</th>\n",
       "      <th>Sample ID</th>\n",
       "      <th>Sample_ID_upd</th>\n",
       "      <th>cell_number</th>\n",
       "      <th>group</th>\n",
       "      <th>Comment</th>\n",
       "      <th>Path</th>\n",
       "      <th>Instrument Method</th>\n",
       "      <th>Process Method</th>\n",
       "      <th>Position</th>\n",
       "      <th>Inj Vol</th>\n",
       "    </tr>\n",
       "  </thead>\n",
       "  <tbody>\n",
       "    <tr>\n",
       "      <th>0</th>\n",
       "      <td>Blank</td>\n",
       "      <td>Blank_20230308_002</td>\n",
       "      <td>Blank_20230308_002</td>\n",
       "      <td>Blank_1</td>\n",
       "      <td>NR</td>\n",
       "      <td>Blank</td>\n",
       "      <td>1</td>\n",
       "      <td>D:\\IDX_Data\\Maheshwor\\20220213_phosphatidylser...</td>\n",
       "      <td>C:\\Xcalibur\\methods\\MT\\phosphatidylserine_tSIM...</td>\n",
       "      <td>NaN</td>\n",
       "      <td>G:A1</td>\n",
       "      <td>2</td>\n",
       "    </tr>\n",
       "    <tr>\n",
       "      <th>1</th>\n",
       "      <td>Blank</td>\n",
       "      <td>Blank_20230308_004</td>\n",
       "      <td>Blank_20230308_004</td>\n",
       "      <td>Blank_2</td>\n",
       "      <td>NR</td>\n",
       "      <td>Blank</td>\n",
       "      <td>1</td>\n",
       "      <td>D:\\IDX_Data\\Maheshwor\\20220213_phosphatidylser...</td>\n",
       "      <td>C:\\Xcalibur\\methods\\MT\\phosphatidylserine_tSIM...</td>\n",
       "      <td>NaN</td>\n",
       "      <td>G:A1</td>\n",
       "      <td>2</td>\n",
       "    </tr>\n",
       "    <tr>\n",
       "      <th>2</th>\n",
       "      <td>Blank</td>\n",
       "      <td>Blank_std_20230308_1_002</td>\n",
       "      <td>Blank_std_20230308_002</td>\n",
       "      <td>Blank_std_1</td>\n",
       "      <td>NR</td>\n",
       "      <td>Blank_std</td>\n",
       "      <td>1</td>\n",
       "      <td>D:\\IDX_Data\\Maheshwor\\20220213_phosphatidylser...</td>\n",
       "      <td>C:\\Xcalibur\\methods\\MT\\phosphatidylserine_tSIM...</td>\n",
       "      <td>NaN</td>\n",
       "      <td>G:A2</td>\n",
       "      <td>2</td>\n",
       "    </tr>\n",
       "    <tr>\n",
       "      <th>3</th>\n",
       "      <td>QC</td>\n",
       "      <td>MT_20230308_002</td>\n",
       "      <td>Qstd_20230308_002</td>\n",
       "      <td>Qstd_1</td>\n",
       "      <td>NR</td>\n",
       "      <td>Qstd</td>\n",
       "      <td>1</td>\n",
       "      <td>D:\\IDX_Data\\Maheshwor\\20220213_phosphatidylser...</td>\n",
       "      <td>C:\\Xcalibur\\methods\\MT\\phosphatidylserine_tSIM...</td>\n",
       "      <td>NaN</td>\n",
       "      <td>G:A3</td>\n",
       "      <td>2</td>\n",
       "    </tr>\n",
       "    <tr>\n",
       "      <th>4</th>\n",
       "      <td>QC</td>\n",
       "      <td>MT_20230308_004</td>\n",
       "      <td>Qstd_20230308_004</td>\n",
       "      <td>Qstd_2</td>\n",
       "      <td>NR</td>\n",
       "      <td>Qstd</td>\n",
       "      <td>1</td>\n",
       "      <td>D:\\IDX_Data\\Maheshwor\\20220213_phosphatidylser...</td>\n",
       "      <td>C:\\Xcalibur\\methods\\MT\\phosphatidylserine_tSIM...</td>\n",
       "      <td>NaN</td>\n",
       "      <td>G:A3</td>\n",
       "      <td>2</td>\n",
       "    </tr>\n",
       "    <tr>\n",
       "      <th>5</th>\n",
       "      <td>Unknown</td>\n",
       "      <td>MT_20230308_006</td>\n",
       "      <td>pooledsample_02</td>\n",
       "      <td>pooled_1</td>\n",
       "      <td>NaN</td>\n",
       "      <td>pooled</td>\n",
       "      <td>1</td>\n",
       "      <td>D:\\IDX_Data\\Maheshwor\\20220213_phosphatidylser...</td>\n",
       "      <td>C:\\Xcalibur\\methods\\MT\\phosphatidylserine_tSIM...</td>\n",
       "      <td>NaN</td>\n",
       "      <td>G:A4</td>\n",
       "      <td>5</td>\n",
       "    </tr>\n",
       "    <tr>\n",
       "      <th>6</th>\n",
       "      <td>Unknown</td>\n",
       "      <td>MT_20230308_008</td>\n",
       "      <td>Naive_250k_01_02</td>\n",
       "      <td>Tn_250K_1</td>\n",
       "      <td>250000</td>\n",
       "      <td>Tn</td>\n",
       "      <td>1</td>\n",
       "      <td>D:\\IDX_Data\\Maheshwor\\20220213_phosphatidylser...</td>\n",
       "      <td>C:\\Xcalibur\\methods\\MT\\phosphatidylserine_tSIM...</td>\n",
       "      <td>NaN</td>\n",
       "      <td>G:B1</td>\n",
       "      <td>5</td>\n",
       "    </tr>\n",
       "    <tr>\n",
       "      <th>7</th>\n",
       "      <td>Unknown</td>\n",
       "      <td>MT_20230308_010</td>\n",
       "      <td>Naive_250k_02_02</td>\n",
       "      <td>Tn_250K_2</td>\n",
       "      <td>250000</td>\n",
       "      <td>Tn</td>\n",
       "      <td>1</td>\n",
       "      <td>D:\\IDX_Data\\Maheshwor\\20220213_phosphatidylser...</td>\n",
       "      <td>C:\\Xcalibur\\methods\\MT\\phosphatidylserine_tSIM...</td>\n",
       "      <td>NaN</td>\n",
       "      <td>G:B2</td>\n",
       "      <td>5</td>\n",
       "    </tr>\n",
       "    <tr>\n",
       "      <th>8</th>\n",
       "      <td>Unknown</td>\n",
       "      <td>MT_20230308_012</td>\n",
       "      <td>Naive_750k_01_02</td>\n",
       "      <td>Tn_750K_3</td>\n",
       "      <td>750000</td>\n",
       "      <td>Tn</td>\n",
       "      <td>1</td>\n",
       "      <td>D:\\IDX_Data\\Maheshwor\\20220213_phosphatidylser...</td>\n",
       "      <td>C:\\Xcalibur\\methods\\MT\\phosphatidylserine_tSIM...</td>\n",
       "      <td>NaN</td>\n",
       "      <td>G:B3</td>\n",
       "      <td>5</td>\n",
       "    </tr>\n",
       "    <tr>\n",
       "      <th>9</th>\n",
       "      <td>Unknown</td>\n",
       "      <td>MT_20230308_014</td>\n",
       "      <td>Naive_750k_02_02</td>\n",
       "      <td>Tn_750K_4</td>\n",
       "      <td>750000</td>\n",
       "      <td>Tn</td>\n",
       "      <td>1</td>\n",
       "      <td>D:\\IDX_Data\\Maheshwor\\20220213_phosphatidylser...</td>\n",
       "      <td>C:\\Xcalibur\\methods\\MT\\phosphatidylserine_tSIM...</td>\n",
       "      <td>NaN</td>\n",
       "      <td>G:B4</td>\n",
       "      <td>5</td>\n",
       "    </tr>\n",
       "    <tr>\n",
       "      <th>10</th>\n",
       "      <td>Unknown</td>\n",
       "      <td>MT_20230308_016</td>\n",
       "      <td>CD8T_stem_250k_01_02</td>\n",
       "      <td>CD8stem_250K_1</td>\n",
       "      <td>250000</td>\n",
       "      <td>CD8stem</td>\n",
       "      <td>1</td>\n",
       "      <td>D:\\IDX_Data\\Maheshwor\\20220213_phosphatidylser...</td>\n",
       "      <td>C:\\Xcalibur\\methods\\MT\\phosphatidylserine_tSIM...</td>\n",
       "      <td>NaN</td>\n",
       "      <td>G:B5</td>\n",
       "      <td>5</td>\n",
       "    </tr>\n",
       "    <tr>\n",
       "      <th>11</th>\n",
       "      <td>Unknown</td>\n",
       "      <td>MT_20230308_018</td>\n",
       "      <td>CD8T_stem_300k_01_02</td>\n",
       "      <td>CD8stem_300K_2</td>\n",
       "      <td>300000</td>\n",
       "      <td>CD8stem</td>\n",
       "      <td>1</td>\n",
       "      <td>D:\\IDX_Data\\Maheshwor\\20220213_phosphatidylser...</td>\n",
       "      <td>C:\\Xcalibur\\methods\\MT\\phosphatidylserine_tSIM...</td>\n",
       "      <td>NaN</td>\n",
       "      <td>G:B6</td>\n",
       "      <td>5</td>\n",
       "    </tr>\n",
       "    <tr>\n",
       "      <th>12</th>\n",
       "      <td>Unknown</td>\n",
       "      <td>MT_20230308_020</td>\n",
       "      <td>pooledsample_04</td>\n",
       "      <td>pooled_2</td>\n",
       "      <td>NaN</td>\n",
       "      <td>pooled</td>\n",
       "      <td>1</td>\n",
       "      <td>D:\\IDX_Data\\Maheshwor\\20220213_phosphatidylser...</td>\n",
       "      <td>C:\\Xcalibur\\methods\\MT\\phosphatidylserine_tSIM...</td>\n",
       "      <td>NaN</td>\n",
       "      <td>G:A4</td>\n",
       "      <td>5</td>\n",
       "    </tr>\n",
       "    <tr>\n",
       "      <th>13</th>\n",
       "      <td>Unknown</td>\n",
       "      <td>MT_20230308_022</td>\n",
       "      <td>CD8T_trans_350k_01_02</td>\n",
       "      <td>CD8trans_350K_1</td>\n",
       "      <td>350000</td>\n",
       "      <td>CD8trans</td>\n",
       "      <td>1</td>\n",
       "      <td>D:\\IDX_Data\\Maheshwor\\20220213_phosphatidylser...</td>\n",
       "      <td>C:\\Xcalibur\\methods\\MT\\phosphatidylserine_tSIM...</td>\n",
       "      <td>NaN</td>\n",
       "      <td>G:B7</td>\n",
       "      <td>5</td>\n",
       "    </tr>\n",
       "    <tr>\n",
       "      <th>14</th>\n",
       "      <td>Unknown</td>\n",
       "      <td>MT_20230308_024</td>\n",
       "      <td>CD8T_trans_250k_01_02</td>\n",
       "      <td>CD8trans_250K_2</td>\n",
       "      <td>250000</td>\n",
       "      <td>CD8trans</td>\n",
       "      <td>1</td>\n",
       "      <td>D:\\IDX_Data\\Maheshwor\\20220213_phosphatidylser...</td>\n",
       "      <td>C:\\Xcalibur\\methods\\MT\\phosphatidylserine_tSIM...</td>\n",
       "      <td>NaN</td>\n",
       "      <td>G:B8</td>\n",
       "      <td>5</td>\n",
       "    </tr>\n",
       "    <tr>\n",
       "      <th>15</th>\n",
       "      <td>Unknown</td>\n",
       "      <td>MT_20230308_026</td>\n",
       "      <td>CD8T_TD_750k_01_02</td>\n",
       "      <td>CD8TD_750K_1</td>\n",
       "      <td>750000</td>\n",
       "      <td>CD8TD</td>\n",
       "      <td>1</td>\n",
       "      <td>D:\\IDX_Data\\Maheshwor\\20220213_phosphatidylser...</td>\n",
       "      <td>C:\\Xcalibur\\methods\\MT\\phosphatidylserine_tSIM...</td>\n",
       "      <td>NaN</td>\n",
       "      <td>G:B9</td>\n",
       "      <td>5</td>\n",
       "    </tr>\n",
       "    <tr>\n",
       "      <th>16</th>\n",
       "      <td>Unknown</td>\n",
       "      <td>MT_20230308_028</td>\n",
       "      <td>CD8T_TD_750k_01_02</td>\n",
       "      <td>CD8TD_750K_2</td>\n",
       "      <td>750000</td>\n",
       "      <td>CD8TD</td>\n",
       "      <td>1</td>\n",
       "      <td>D:\\IDX_Data\\Maheshwor\\20220213_phosphatidylser...</td>\n",
       "      <td>C:\\Xcalibur\\methods\\MT\\phosphatidylserine_tSIM...</td>\n",
       "      <td>NaN</td>\n",
       "      <td>G:C1</td>\n",
       "      <td>5</td>\n",
       "    </tr>\n",
       "    <tr>\n",
       "      <th>17</th>\n",
       "      <td>Unknown</td>\n",
       "      <td>MT_20230308_030</td>\n",
       "      <td>pooledsample_06</td>\n",
       "      <td>pooled_3</td>\n",
       "      <td>NaN</td>\n",
       "      <td>pooled</td>\n",
       "      <td>1</td>\n",
       "      <td>D:\\IDX_Data\\Maheshwor\\20220213_phosphatidylser...</td>\n",
       "      <td>C:\\Xcalibur\\methods\\MT\\phosphatidylserine_tSIM...</td>\n",
       "      <td>NaN</td>\n",
       "      <td>G:A4</td>\n",
       "      <td>5</td>\n",
       "    </tr>\n",
       "    <tr>\n",
       "      <th>18</th>\n",
       "      <td>QC</td>\n",
       "      <td>MT_20230308_032</td>\n",
       "      <td>Qstd_20230308_006</td>\n",
       "      <td>Qstd_3</td>\n",
       "      <td>NR</td>\n",
       "      <td>Qstd</td>\n",
       "      <td>1</td>\n",
       "      <td>D:\\IDX_Data\\Maheshwor\\20220213_phosphatidylser...</td>\n",
       "      <td>C:\\Xcalibur\\methods\\MT\\phosphatidylserine_tSIM...</td>\n",
       "      <td>NaN</td>\n",
       "      <td>G:A3</td>\n",
       "      <td>2</td>\n",
       "    </tr>\n",
       "    <tr>\n",
       "      <th>19</th>\n",
       "      <td>Blank</td>\n",
       "      <td>Blank_20230308_006</td>\n",
       "      <td>Blank_20230308_006</td>\n",
       "      <td>Blank_3</td>\n",
       "      <td>NR</td>\n",
       "      <td>Blank</td>\n",
       "      <td>1</td>\n",
       "      <td>D:\\IDX_Data\\Maheshwor\\20220213_phosphatidylser...</td>\n",
       "      <td>C:\\Xcalibur\\methods\\MT\\phosphatidylserine_tSIM...</td>\n",
       "      <td>NaN</td>\n",
       "      <td>G:A1</td>\n",
       "      <td>2</td>\n",
       "    </tr>\n",
       "    <tr>\n",
       "      <th>20</th>\n",
       "      <td>Unknown</td>\n",
       "      <td>WT_Klof2_C1_pooled_02</td>\n",
       "      <td>WT_Klof2_C1_pooled_02</td>\n",
       "      <td>Klof2_1</td>\n",
       "      <td>NaN</td>\n",
       "      <td>Kof2_pooled</td>\n",
       "      <td>MT_20220323_024</td>\n",
       "      <td>D:\\IDX_Data\\Maheshwor\\Paul_Robson_collaboratio...</td>\n",
       "      <td>C:\\Xcalibur\\methods\\MT\\Metabolomics-Lipidomics...</td>\n",
       "      <td>NaN</td>\n",
       "      <td>NaN</td>\n",
       "      <td>3</td>\n",
       "    </tr>\n",
       "    <tr>\n",
       "      <th>21</th>\n",
       "      <td>Unknown</td>\n",
       "      <td>WT_Klof2_C1_pooled_04</td>\n",
       "      <td>WT_Klof2_C1_pooled_04</td>\n",
       "      <td>Klof2_2</td>\n",
       "      <td>NaN</td>\n",
       "      <td>Kof2_pooled</td>\n",
       "      <td>MT_20220323_038</td>\n",
       "      <td>D:\\IDX_Data\\Maheshwor\\Paul_Robson_collaboratio...</td>\n",
       "      <td>C:\\Xcalibur\\methods\\MT\\Metabolomics-Lipidomics...</td>\n",
       "      <td>NaN</td>\n",
       "      <td>NaN</td>\n",
       "      <td>3</td>\n",
       "    </tr>\n",
       "    <tr>\n",
       "      <th>22</th>\n",
       "      <td>Unknown</td>\n",
       "      <td>WT_Klof2_C1_pooled_06</td>\n",
       "      <td>WT_Klof2_C1_pooled_06</td>\n",
       "      <td>Klof2_3</td>\n",
       "      <td>NaN</td>\n",
       "      <td>Kof2_pooled</td>\n",
       "      <td>MT_20220323_058</td>\n",
       "      <td>D:\\IDX_Data\\Maheshwor\\Paul_Robson_collaboratio...</td>\n",
       "      <td>C:\\Xcalibur\\methods\\MT\\Metabolomics-Lipidomics...</td>\n",
       "      <td>NaN</td>\n",
       "      <td>NaN</td>\n",
       "      <td>3</td>\n",
       "    </tr>\n",
       "  </tbody>\n",
       "</table>\n",
       "</div>"
      ],
      "text/plain": [
       "   Sample Type                 File Name               Sample ID    Sample_ID_upd cell_number        group          Comment                                               Path                                  Instrument Method  Process Method Position  Inj Vol\n",
       "0        Blank        Blank_20230308_002      Blank_20230308_002          Blank_1          NR        Blank                1  D:\\IDX_Data\\Maheshwor\\20220213_phosphatidylser...  C:\\Xcalibur\\methods\\MT\\phosphatidylserine_tSIM...             NaN     G:A1        2\n",
       "1        Blank        Blank_20230308_004      Blank_20230308_004          Blank_2          NR        Blank                1  D:\\IDX_Data\\Maheshwor\\20220213_phosphatidylser...  C:\\Xcalibur\\methods\\MT\\phosphatidylserine_tSIM...             NaN     G:A1        2\n",
       "2        Blank  Blank_std_20230308_1_002  Blank_std_20230308_002      Blank_std_1          NR    Blank_std                1  D:\\IDX_Data\\Maheshwor\\20220213_phosphatidylser...  C:\\Xcalibur\\methods\\MT\\phosphatidylserine_tSIM...             NaN     G:A2        2\n",
       "3           QC           MT_20230308_002       Qstd_20230308_002           Qstd_1          NR         Qstd                1  D:\\IDX_Data\\Maheshwor\\20220213_phosphatidylser...  C:\\Xcalibur\\methods\\MT\\phosphatidylserine_tSIM...             NaN     G:A3        2\n",
       "4           QC           MT_20230308_004       Qstd_20230308_004           Qstd_2          NR         Qstd                1  D:\\IDX_Data\\Maheshwor\\20220213_phosphatidylser...  C:\\Xcalibur\\methods\\MT\\phosphatidylserine_tSIM...             NaN     G:A3        2\n",
       "5      Unknown           MT_20230308_006         pooledsample_02         pooled_1         NaN       pooled                1  D:\\IDX_Data\\Maheshwor\\20220213_phosphatidylser...  C:\\Xcalibur\\methods\\MT\\phosphatidylserine_tSIM...             NaN     G:A4        5\n",
       "6      Unknown           MT_20230308_008        Naive_250k_01_02        Tn_250K_1      250000           Tn                1  D:\\IDX_Data\\Maheshwor\\20220213_phosphatidylser...  C:\\Xcalibur\\methods\\MT\\phosphatidylserine_tSIM...             NaN     G:B1        5\n",
       "7      Unknown           MT_20230308_010        Naive_250k_02_02        Tn_250K_2      250000           Tn                1  D:\\IDX_Data\\Maheshwor\\20220213_phosphatidylser...  C:\\Xcalibur\\methods\\MT\\phosphatidylserine_tSIM...             NaN     G:B2        5\n",
       "8      Unknown           MT_20230308_012        Naive_750k_01_02        Tn_750K_3      750000           Tn                1  D:\\IDX_Data\\Maheshwor\\20220213_phosphatidylser...  C:\\Xcalibur\\methods\\MT\\phosphatidylserine_tSIM...             NaN     G:B3        5\n",
       "9      Unknown           MT_20230308_014        Naive_750k_02_02        Tn_750K_4      750000           Tn                1  D:\\IDX_Data\\Maheshwor\\20220213_phosphatidylser...  C:\\Xcalibur\\methods\\MT\\phosphatidylserine_tSIM...             NaN     G:B4        5\n",
       "10     Unknown           MT_20230308_016    CD8T_stem_250k_01_02   CD8stem_250K_1      250000      CD8stem                1  D:\\IDX_Data\\Maheshwor\\20220213_phosphatidylser...  C:\\Xcalibur\\methods\\MT\\phosphatidylserine_tSIM...             NaN     G:B5        5\n",
       "11     Unknown           MT_20230308_018    CD8T_stem_300k_01_02   CD8stem_300K_2      300000      CD8stem                1  D:\\IDX_Data\\Maheshwor\\20220213_phosphatidylser...  C:\\Xcalibur\\methods\\MT\\phosphatidylserine_tSIM...             NaN     G:B6        5\n",
       "12     Unknown           MT_20230308_020         pooledsample_04         pooled_2         NaN       pooled                1  D:\\IDX_Data\\Maheshwor\\20220213_phosphatidylser...  C:\\Xcalibur\\methods\\MT\\phosphatidylserine_tSIM...             NaN     G:A4        5\n",
       "13     Unknown           MT_20230308_022   CD8T_trans_350k_01_02  CD8trans_350K_1      350000     CD8trans                1  D:\\IDX_Data\\Maheshwor\\20220213_phosphatidylser...  C:\\Xcalibur\\methods\\MT\\phosphatidylserine_tSIM...             NaN     G:B7        5\n",
       "14     Unknown           MT_20230308_024   CD8T_trans_250k_01_02  CD8trans_250K_2      250000     CD8trans                1  D:\\IDX_Data\\Maheshwor\\20220213_phosphatidylser...  C:\\Xcalibur\\methods\\MT\\phosphatidylserine_tSIM...             NaN     G:B8        5\n",
       "15     Unknown           MT_20230308_026      CD8T_TD_750k_01_02     CD8TD_750K_1      750000        CD8TD                1  D:\\IDX_Data\\Maheshwor\\20220213_phosphatidylser...  C:\\Xcalibur\\methods\\MT\\phosphatidylserine_tSIM...             NaN     G:B9        5\n",
       "16     Unknown           MT_20230308_028      CD8T_TD_750k_01_02     CD8TD_750K_2      750000        CD8TD                1  D:\\IDX_Data\\Maheshwor\\20220213_phosphatidylser...  C:\\Xcalibur\\methods\\MT\\phosphatidylserine_tSIM...             NaN     G:C1        5\n",
       "17     Unknown           MT_20230308_030         pooledsample_06         pooled_3         NaN       pooled                1  D:\\IDX_Data\\Maheshwor\\20220213_phosphatidylser...  C:\\Xcalibur\\methods\\MT\\phosphatidylserine_tSIM...             NaN     G:A4        5\n",
       "18          QC           MT_20230308_032       Qstd_20230308_006           Qstd_3          NR         Qstd                1  D:\\IDX_Data\\Maheshwor\\20220213_phosphatidylser...  C:\\Xcalibur\\methods\\MT\\phosphatidylserine_tSIM...             NaN     G:A3        2\n",
       "19       Blank        Blank_20230308_006      Blank_20230308_006          Blank_3          NR        Blank                1  D:\\IDX_Data\\Maheshwor\\20220213_phosphatidylser...  C:\\Xcalibur\\methods\\MT\\phosphatidylserine_tSIM...             NaN     G:A1        2\n",
       "20     Unknown     WT_Klof2_C1_pooled_02   WT_Klof2_C1_pooled_02          Klof2_1         NaN  Kof2_pooled  MT_20220323_024  D:\\IDX_Data\\Maheshwor\\Paul_Robson_collaboratio...  C:\\Xcalibur\\methods\\MT\\Metabolomics-Lipidomics...             NaN      NaN        3\n",
       "21     Unknown     WT_Klof2_C1_pooled_04   WT_Klof2_C1_pooled_04          Klof2_2         NaN  Kof2_pooled  MT_20220323_038  D:\\IDX_Data\\Maheshwor\\Paul_Robson_collaboratio...  C:\\Xcalibur\\methods\\MT\\Metabolomics-Lipidomics...             NaN      NaN        3\n",
       "22     Unknown     WT_Klof2_C1_pooled_06   WT_Klof2_C1_pooled_06          Klof2_3         NaN  Kof2_pooled  MT_20220323_058  D:\\IDX_Data\\Maheshwor\\Paul_Robson_collaboratio...  C:\\Xcalibur\\methods\\MT\\Metabolomics-Lipidomics...             NaN      NaN        3"
      ]
     },
     "execution_count": 31,
     "metadata": {},
     "output_type": "execute_result"
    }
   ],
   "source": [
    "meta_df"
   ]
  },
  {
   "cell_type": "code",
   "execution_count": 32,
   "id": "a34891c3",
   "metadata": {},
   "outputs": [],
   "source": [
    "name_dict = {row['File Name']:row['Sample_ID_upd'] for i, row in meta_df.iterrows() }"
   ]
  },
  {
   "cell_type": "code",
   "execution_count": 33,
   "id": "c1842589",
   "metadata": {},
   "outputs": [],
   "source": [
    "feat_df.columns = [name_dict[x] if x in name_dict else x for x in feat_df.columns]"
   ]
  },
  {
   "cell_type": "code",
   "execution_count": 34,
   "id": "d43173dc",
   "metadata": {},
   "outputs": [
    {
     "data": {
      "text/plain": [
       "Index(['id_number', 'mz', 'rtime', 'rtime_left_base', 'rtime_right_base', 'parent_masstrack_id', 'peak_area', 'cSelectivity', 'goodness_fitting', 'snr', 'detection_counts', 'Qstd_3', 'Blank_1', 'Blank_2', 'Blank_3', 'Blank_std_1', 'Qstd_1', 'Qstd_2', 'pooled_1', 'Tn_250K_1', 'Tn_250K_2', 'Tn_750K_3', 'Tn_750K_4', 'CD8stem_250K_1', 'CD8stem_300K_2', 'pooled_2', 'CD8trans_350K_1', 'CD8trans_250K_2', 'CD8TD_750K_1', 'CD8TD_750K_2', 'pooled_3', 'Klof2_1', 'Klof2_2', 'Klof2_3'], dtype='object')"
      ]
     },
     "execution_count": 34,
     "metadata": {},
     "output_type": "execute_result"
    }
   ],
   "source": [
    "feat_df.columns"
   ]
  },
  {
   "cell_type": "code",
   "execution_count": 35,
   "id": "e30e0ff8",
   "metadata": {},
   "outputs": [],
   "source": [
    "end_index = 11"
   ]
  },
  {
   "cell_type": "code",
   "execution_count": 36,
   "id": "62c80ace",
   "metadata": {},
   "outputs": [
    {
     "data": {
      "text/plain": [
       "Index(['snr', 'detection_counts', 'Qstd_3', 'Blank_1'], dtype='object')"
      ]
     },
     "execution_count": 36,
     "metadata": {},
     "output_type": "execute_result"
    }
   ],
   "source": [
    "feat_df.iloc[:,end_index-2:end_index +2].columns"
   ]
  },
  {
   "cell_type": "code",
   "execution_count": 37,
   "id": "62a40d7e-d49e-459e-8cf1-4cd880a51b1a",
   "metadata": {
    "tags": []
   },
   "outputs": [
    {
     "data": {
      "text/plain": [
       "['Blank_1',\n",
       " 'Blank_2',\n",
       " 'Blank_std_1',\n",
       " 'Qstd_1',\n",
       " 'Qstd_2',\n",
       " 'pooled_1',\n",
       " 'Tn_250K_1',\n",
       " 'Tn_250K_2',\n",
       " 'Tn_750K_3',\n",
       " 'Tn_750K_4',\n",
       " 'CD8stem_250K_1',\n",
       " 'CD8stem_300K_2',\n",
       " 'pooled_2',\n",
       " 'CD8trans_350K_1',\n",
       " 'CD8trans_250K_2',\n",
       " 'CD8TD_750K_1',\n",
       " 'CD8TD_750K_2',\n",
       " 'pooled_3',\n",
       " 'Qstd_3',\n",
       " 'Blank_3',\n",
       " 'Klof2_1',\n",
       " 'Klof2_2',\n",
       " 'Klof2_3']"
      ]
     },
     "execution_count": 37,
     "metadata": {},
     "output_type": "execute_result"
    }
   ],
   "source": [
    "meta_df['Sample_ID_upd'].tolist()"
   ]
  },
  {
   "cell_type": "code",
   "execution_count": 38,
   "id": "85e5ee1d",
   "metadata": {},
   "outputs": [],
   "source": [
    "new_col = feat_df.columns[0:end_index].tolist() + meta_df['Sample_ID_upd'].tolist()"
   ]
  },
  {
   "cell_type": "code",
   "execution_count": 39,
   "id": "deaa2a3b",
   "metadata": {},
   "outputs": [],
   "source": [
    "reord_feat_df = feat_df[new_col]"
   ]
  },
  {
   "cell_type": "markdown",
   "id": "a592f25f-e52b-433a-b948-33173a2e826c",
   "metadata": {},
   "source": [
    "# remove samples if necessary"
   ]
  },
  {
   "cell_type": "code",
   "execution_count": 40,
   "id": "f976d43e-9577-43e5-99cd-e3b600744af5",
   "metadata": {},
   "outputs": [],
   "source": [
    "if len(rm_samples) > 0:\n",
    "    reord_feat_df = reord_feat_df.drop(rm_samples, axis = 1)  # rm_samples = ['Tn_750K_3', 'Tn_750K_4']"
   ]
  },
  {
   "cell_type": "code",
   "execution_count": 41,
   "id": "9be522c6-6908-48c6-8a34-27e60230c894",
   "metadata": {
    "tags": []
   },
   "outputs": [
    {
     "data": {
      "text/html": [
       "<div>\n",
       "<style scoped>\n",
       "    .dataframe tbody tr th:only-of-type {\n",
       "        vertical-align: middle;\n",
       "    }\n",
       "\n",
       "    .dataframe tbody tr th {\n",
       "        vertical-align: top;\n",
       "    }\n",
       "\n",
       "    .dataframe thead th {\n",
       "        text-align: right;\n",
       "    }\n",
       "</style>\n",
       "<table border=\"1\" class=\"dataframe\">\n",
       "  <thead>\n",
       "    <tr style=\"text-align: right;\">\n",
       "      <th></th>\n",
       "      <th>id_number</th>\n",
       "      <th>mz</th>\n",
       "      <th>rtime</th>\n",
       "      <th>rtime_left_base</th>\n",
       "      <th>rtime_right_base</th>\n",
       "      <th>parent_masstrack_id</th>\n",
       "      <th>peak_area</th>\n",
       "      <th>cSelectivity</th>\n",
       "      <th>goodness_fitting</th>\n",
       "      <th>snr</th>\n",
       "      <th>detection_counts</th>\n",
       "      <th>Blank_1</th>\n",
       "      <th>Blank_2</th>\n",
       "      <th>Blank_std_1</th>\n",
       "      <th>Qstd_1</th>\n",
       "      <th>Qstd_2</th>\n",
       "      <th>pooled_1</th>\n",
       "      <th>Tn_250K_1</th>\n",
       "      <th>Tn_250K_2</th>\n",
       "      <th>CD8stem_250K_1</th>\n",
       "      <th>CD8stem_300K_2</th>\n",
       "      <th>pooled_2</th>\n",
       "      <th>CD8trans_350K_1</th>\n",
       "      <th>CD8trans_250K_2</th>\n",
       "      <th>CD8TD_750K_1</th>\n",
       "      <th>CD8TD_750K_2</th>\n",
       "      <th>pooled_3</th>\n",
       "      <th>Qstd_3</th>\n",
       "      <th>Blank_3</th>\n",
       "      <th>Klof2_1</th>\n",
       "      <th>Klof2_2</th>\n",
       "      <th>Klof2_3</th>\n",
       "    </tr>\n",
       "  </thead>\n",
       "  <tbody>\n",
       "    <tr>\n",
       "      <th>0</th>\n",
       "      <td>F1</td>\n",
       "      <td>100.9334</td>\n",
       "      <td>21.61</td>\n",
       "      <td>19.92</td>\n",
       "      <td>24.16</td>\n",
       "      <td>1</td>\n",
       "      <td>2092948</td>\n",
       "      <td>0.03</td>\n",
       "      <td>0.93</td>\n",
       "      <td>2</td>\n",
       "      <td>3</td>\n",
       "      <td>0</td>\n",
       "      <td>0</td>\n",
       "      <td>0</td>\n",
       "      <td>0</td>\n",
       "      <td>0</td>\n",
       "      <td>0</td>\n",
       "      <td>0</td>\n",
       "      <td>0</td>\n",
       "      <td>0</td>\n",
       "      <td>0</td>\n",
       "      <td>0</td>\n",
       "      <td>0</td>\n",
       "      <td>0</td>\n",
       "      <td>0</td>\n",
       "      <td>0</td>\n",
       "      <td>0</td>\n",
       "      <td>0</td>\n",
       "      <td>0</td>\n",
       "      <td>1935510</td>\n",
       "      <td>1154777</td>\n",
       "      <td>771318</td>\n",
       "    </tr>\n",
       "    <tr>\n",
       "      <th>1</th>\n",
       "      <td>F2</td>\n",
       "      <td>417.0238</td>\n",
       "      <td>31.14</td>\n",
       "      <td>28.75</td>\n",
       "      <td>33.51</td>\n",
       "      <td>625</td>\n",
       "      <td>1872502</td>\n",
       "      <td>1.00</td>\n",
       "      <td>0.97</td>\n",
       "      <td>9</td>\n",
       "      <td>2</td>\n",
       "      <td>0</td>\n",
       "      <td>0</td>\n",
       "      <td>0</td>\n",
       "      <td>0</td>\n",
       "      <td>0</td>\n",
       "      <td>0</td>\n",
       "      <td>0</td>\n",
       "      <td>0</td>\n",
       "      <td>0</td>\n",
       "      <td>0</td>\n",
       "      <td>0</td>\n",
       "      <td>0</td>\n",
       "      <td>588884</td>\n",
       "      <td>0</td>\n",
       "      <td>0</td>\n",
       "      <td>0</td>\n",
       "      <td>0</td>\n",
       "      <td>0</td>\n",
       "      <td>0</td>\n",
       "      <td>0</td>\n",
       "      <td>0</td>\n",
       "    </tr>\n",
       "    <tr>\n",
       "      <th>2</th>\n",
       "      <td>F3</td>\n",
       "      <td>417.0360</td>\n",
       "      <td>20.78</td>\n",
       "      <td>18.64</td>\n",
       "      <td>23.29</td>\n",
       "      <td>626</td>\n",
       "      <td>83870590</td>\n",
       "      <td>1.00</td>\n",
       "      <td>0.87</td>\n",
       "      <td>2479</td>\n",
       "      <td>16</td>\n",
       "      <td>0</td>\n",
       "      <td>0</td>\n",
       "      <td>0</td>\n",
       "      <td>16715971</td>\n",
       "      <td>17121711</td>\n",
       "      <td>3274770</td>\n",
       "      <td>1147107</td>\n",
       "      <td>929394</td>\n",
       "      <td>4235536</td>\n",
       "      <td>2278060</td>\n",
       "      <td>3153499</td>\n",
       "      <td>3491983</td>\n",
       "      <td>1715865</td>\n",
       "      <td>2483791</td>\n",
       "      <td>1925091</td>\n",
       "      <td>3148828</td>\n",
       "      <td>16568160</td>\n",
       "      <td>0</td>\n",
       "      <td>0</td>\n",
       "      <td>0</td>\n",
       "      <td>0</td>\n",
       "    </tr>\n",
       "    <tr>\n",
       "      <th>3</th>\n",
       "      <td>F4</td>\n",
       "      <td>113.0139</td>\n",
       "      <td>19.70</td>\n",
       "      <td>17.06</td>\n",
       "      <td>22.24</td>\n",
       "      <td>12</td>\n",
       "      <td>35797610</td>\n",
       "      <td>1.00</td>\n",
       "      <td>0.94</td>\n",
       "      <td>61</td>\n",
       "      <td>3</td>\n",
       "      <td>0</td>\n",
       "      <td>0</td>\n",
       "      <td>0</td>\n",
       "      <td>0</td>\n",
       "      <td>0</td>\n",
       "      <td>0</td>\n",
       "      <td>0</td>\n",
       "      <td>0</td>\n",
       "      <td>0</td>\n",
       "      <td>0</td>\n",
       "      <td>0</td>\n",
       "      <td>0</td>\n",
       "      <td>0</td>\n",
       "      <td>0</td>\n",
       "      <td>0</td>\n",
       "      <td>0</td>\n",
       "      <td>0</td>\n",
       "      <td>0</td>\n",
       "      <td>18939390</td>\n",
       "      <td>18710423</td>\n",
       "      <td>18048458</td>\n",
       "    </tr>\n",
       "    <tr>\n",
       "      <th>4</th>\n",
       "      <td>F5</td>\n",
       "      <td>452.2853</td>\n",
       "      <td>33.09</td>\n",
       "      <td>30.49</td>\n",
       "      <td>35.45</td>\n",
       "      <td>1214</td>\n",
       "      <td>5313362</td>\n",
       "      <td>1.00</td>\n",
       "      <td>0.92</td>\n",
       "      <td>212</td>\n",
       "      <td>4</td>\n",
       "      <td>0</td>\n",
       "      <td>0</td>\n",
       "      <td>0</td>\n",
       "      <td>0</td>\n",
       "      <td>0</td>\n",
       "      <td>0</td>\n",
       "      <td>1545347</td>\n",
       "      <td>1002182</td>\n",
       "      <td>414947</td>\n",
       "      <td>0</td>\n",
       "      <td>0</td>\n",
       "      <td>0</td>\n",
       "      <td>1929205</td>\n",
       "      <td>0</td>\n",
       "      <td>0</td>\n",
       "      <td>0</td>\n",
       "      <td>0</td>\n",
       "      <td>0</td>\n",
       "      <td>0</td>\n",
       "      <td>0</td>\n",
       "      <td>0</td>\n",
       "    </tr>\n",
       "    <tr>\n",
       "      <th>...</th>\n",
       "      <td>...</td>\n",
       "      <td>...</td>\n",
       "      <td>...</td>\n",
       "      <td>...</td>\n",
       "      <td>...</td>\n",
       "      <td>...</td>\n",
       "      <td>...</td>\n",
       "      <td>...</td>\n",
       "      <td>...</td>\n",
       "      <td>...</td>\n",
       "      <td>...</td>\n",
       "      <td>...</td>\n",
       "      <td>...</td>\n",
       "      <td>...</td>\n",
       "      <td>...</td>\n",
       "      <td>...</td>\n",
       "      <td>...</td>\n",
       "      <td>...</td>\n",
       "      <td>...</td>\n",
       "      <td>...</td>\n",
       "      <td>...</td>\n",
       "      <td>...</td>\n",
       "      <td>...</td>\n",
       "      <td>...</td>\n",
       "      <td>...</td>\n",
       "      <td>...</td>\n",
       "      <td>...</td>\n",
       "      <td>...</td>\n",
       "      <td>...</td>\n",
       "      <td>...</td>\n",
       "      <td>...</td>\n",
       "      <td>...</td>\n",
       "    </tr>\n",
       "    <tr>\n",
       "      <th>18089</th>\n",
       "      <td>F18090</td>\n",
       "      <td>862.5595</td>\n",
       "      <td>272.26</td>\n",
       "      <td>270.40</td>\n",
       "      <td>274.74</td>\n",
       "      <td>7618</td>\n",
       "      <td>10852995</td>\n",
       "      <td>1.00</td>\n",
       "      <td>0.83</td>\n",
       "      <td>131</td>\n",
       "      <td>3</td>\n",
       "      <td>0</td>\n",
       "      <td>0</td>\n",
       "      <td>0</td>\n",
       "      <td>0</td>\n",
       "      <td>5697069</td>\n",
       "      <td>0</td>\n",
       "      <td>0</td>\n",
       "      <td>0</td>\n",
       "      <td>0</td>\n",
       "      <td>0</td>\n",
       "      <td>0</td>\n",
       "      <td>0</td>\n",
       "      <td>0</td>\n",
       "      <td>0</td>\n",
       "      <td>0</td>\n",
       "      <td>0</td>\n",
       "      <td>5095800</td>\n",
       "      <td>0</td>\n",
       "      <td>0</td>\n",
       "      <td>0</td>\n",
       "      <td>102276</td>\n",
       "    </tr>\n",
       "    <tr>\n",
       "      <th>18090</th>\n",
       "      <td>F18091</td>\n",
       "      <td>862.5595</td>\n",
       "      <td>280.93</td>\n",
       "      <td>278.45</td>\n",
       "      <td>283.43</td>\n",
       "      <td>7618</td>\n",
       "      <td>10391517</td>\n",
       "      <td>0.85</td>\n",
       "      <td>0.95</td>\n",
       "      <td>117</td>\n",
       "      <td>3</td>\n",
       "      <td>0</td>\n",
       "      <td>0</td>\n",
       "      <td>0</td>\n",
       "      <td>0</td>\n",
       "      <td>3810189</td>\n",
       "      <td>0</td>\n",
       "      <td>0</td>\n",
       "      <td>0</td>\n",
       "      <td>0</td>\n",
       "      <td>0</td>\n",
       "      <td>0</td>\n",
       "      <td>0</td>\n",
       "      <td>0</td>\n",
       "      <td>0</td>\n",
       "      <td>0</td>\n",
       "      <td>0</td>\n",
       "      <td>4284955</td>\n",
       "      <td>0</td>\n",
       "      <td>0</td>\n",
       "      <td>0</td>\n",
       "      <td>2209482</td>\n",
       "    </tr>\n",
       "    <tr>\n",
       "      <th>18091</th>\n",
       "      <td>F18092</td>\n",
       "      <td>862.6082</td>\n",
       "      <td>270.82</td>\n",
       "      <td>268.34</td>\n",
       "      <td>273.29</td>\n",
       "      <td>7619</td>\n",
       "      <td>60888843</td>\n",
       "      <td>1.00</td>\n",
       "      <td>0.97</td>\n",
       "      <td>206</td>\n",
       "      <td>3</td>\n",
       "      <td>0</td>\n",
       "      <td>0</td>\n",
       "      <td>0</td>\n",
       "      <td>19863111</td>\n",
       "      <td>20084621</td>\n",
       "      <td>0</td>\n",
       "      <td>0</td>\n",
       "      <td>0</td>\n",
       "      <td>0</td>\n",
       "      <td>0</td>\n",
       "      <td>0</td>\n",
       "      <td>0</td>\n",
       "      <td>0</td>\n",
       "      <td>0</td>\n",
       "      <td>0</td>\n",
       "      <td>0</td>\n",
       "      <td>20966111</td>\n",
       "      <td>0</td>\n",
       "      <td>0</td>\n",
       "      <td>0</td>\n",
       "      <td>0</td>\n",
       "    </tr>\n",
       "    <tr>\n",
       "      <th>18092</th>\n",
       "      <td>F18093</td>\n",
       "      <td>862.7874</td>\n",
       "      <td>539.97</td>\n",
       "      <td>537.35</td>\n",
       "      <td>542.58</td>\n",
       "      <td>7624</td>\n",
       "      <td>17459951</td>\n",
       "      <td>0.86</td>\n",
       "      <td>0.99</td>\n",
       "      <td>24</td>\n",
       "      <td>3</td>\n",
       "      <td>0</td>\n",
       "      <td>0</td>\n",
       "      <td>0</td>\n",
       "      <td>5909251</td>\n",
       "      <td>5862557</td>\n",
       "      <td>0</td>\n",
       "      <td>0</td>\n",
       "      <td>0</td>\n",
       "      <td>0</td>\n",
       "      <td>0</td>\n",
       "      <td>0</td>\n",
       "      <td>0</td>\n",
       "      <td>0</td>\n",
       "      <td>0</td>\n",
       "      <td>0</td>\n",
       "      <td>0</td>\n",
       "      <td>5779198</td>\n",
       "      <td>0</td>\n",
       "      <td>0</td>\n",
       "      <td>0</td>\n",
       "      <td>0</td>\n",
       "    </tr>\n",
       "    <tr>\n",
       "      <th>18093</th>\n",
       "      <td>F18094</td>\n",
       "      <td>862.7874</td>\n",
       "      <td>569.84</td>\n",
       "      <td>567.22</td>\n",
       "      <td>572.46</td>\n",
       "      <td>7624</td>\n",
       "      <td>2562923</td>\n",
       "      <td>0.41</td>\n",
       "      <td>0.96</td>\n",
       "      <td>2</td>\n",
       "      <td>3</td>\n",
       "      <td>0</td>\n",
       "      <td>0</td>\n",
       "      <td>0</td>\n",
       "      <td>941652</td>\n",
       "      <td>803409</td>\n",
       "      <td>0</td>\n",
       "      <td>0</td>\n",
       "      <td>0</td>\n",
       "      <td>0</td>\n",
       "      <td>0</td>\n",
       "      <td>0</td>\n",
       "      <td>0</td>\n",
       "      <td>0</td>\n",
       "      <td>0</td>\n",
       "      <td>0</td>\n",
       "      <td>0</td>\n",
       "      <td>923277</td>\n",
       "      <td>0</td>\n",
       "      <td>0</td>\n",
       "      <td>0</td>\n",
       "      <td>0</td>\n",
       "    </tr>\n",
       "  </tbody>\n",
       "</table>\n",
       "<p>18094 rows × 32 columns</p>\n",
       "</div>"
      ],
      "text/plain": [
       "      id_number        mz   rtime  rtime_left_base  rtime_right_base  parent_masstrack_id  peak_area  cSelectivity  goodness_fitting   snr  detection_counts  Blank_1  Blank_2  Blank_std_1    Qstd_1    Qstd_2  pooled_1  Tn_250K_1  Tn_250K_2  CD8stem_250K_1  CD8stem_300K_2  pooled_2  CD8trans_350K_1  CD8trans_250K_2  CD8TD_750K_1  CD8TD_750K_2  pooled_3    Qstd_3  Blank_3   Klof2_1   Klof2_2   Klof2_3\n",
       "0            F1  100.9334   21.61            19.92             24.16                    1    2092948          0.03              0.93     2                 3        0        0            0         0         0         0          0          0               0               0         0                0                0             0             0         0         0        0   1935510   1154777    771318\n",
       "1            F2  417.0238   31.14            28.75             33.51                  625    1872502          1.00              0.97     9                 2        0        0            0         0         0         0          0          0               0               0         0                0           588884             0             0         0         0        0         0         0         0\n",
       "2            F3  417.0360   20.78            18.64             23.29                  626   83870590          1.00              0.87  2479                16        0        0            0  16715971  17121711   3274770    1147107     929394         4235536         2278060   3153499          3491983          1715865       2483791       1925091   3148828  16568160        0         0         0         0\n",
       "3            F4  113.0139   19.70            17.06             22.24                   12   35797610          1.00              0.94    61                 3        0        0            0         0         0         0          0          0               0               0         0                0                0             0             0         0         0        0  18939390  18710423  18048458\n",
       "4            F5  452.2853   33.09            30.49             35.45                 1214    5313362          1.00              0.92   212                 4        0        0            0         0         0         0    1545347    1002182          414947               0         0                0          1929205             0             0         0         0        0         0         0         0\n",
       "...         ...       ...     ...              ...               ...                  ...        ...           ...               ...   ...               ...      ...      ...          ...       ...       ...       ...        ...        ...             ...             ...       ...              ...              ...           ...           ...       ...       ...      ...       ...       ...       ...\n",
       "18089    F18090  862.5595  272.26           270.40            274.74                 7618   10852995          1.00              0.83   131                 3        0        0            0         0   5697069         0          0          0               0               0         0                0                0             0             0         0   5095800        0         0         0    102276\n",
       "18090    F18091  862.5595  280.93           278.45            283.43                 7618   10391517          0.85              0.95   117                 3        0        0            0         0   3810189         0          0          0               0               0         0                0                0             0             0         0   4284955        0         0         0   2209482\n",
       "18091    F18092  862.6082  270.82           268.34            273.29                 7619   60888843          1.00              0.97   206                 3        0        0            0  19863111  20084621         0          0          0               0               0         0                0                0             0             0         0  20966111        0         0         0         0\n",
       "18092    F18093  862.7874  539.97           537.35            542.58                 7624   17459951          0.86              0.99    24                 3        0        0            0   5909251   5862557         0          0          0               0               0         0                0                0             0             0         0   5779198        0         0         0         0\n",
       "18093    F18094  862.7874  569.84           567.22            572.46                 7624    2562923          0.41              0.96     2                 3        0        0            0    941652    803409         0          0          0               0               0         0                0                0             0             0         0    923277        0         0         0         0\n",
       "\n",
       "[18094 rows x 32 columns]"
      ]
     },
     "execution_count": 41,
     "metadata": {},
     "output_type": "execute_result"
    }
   ],
   "source": [
    "reord_feat_df"
   ]
  },
  {
   "cell_type": "markdown",
   "id": "83022b5a",
   "metadata": {},
   "source": [
    "#### export the renamed feature table without any normalizations..."
   ]
  },
  {
   "cell_type": "code",
   "execution_count": 42,
   "id": "c65873c9",
   "metadata": {
    "tags": []
   },
   "outputs": [],
   "source": [
    "reord_feat_df.to_csv(os.path.join(output_dir,\"renamed_full_feature_table.csv\"),index = False)"
   ]
  },
  {
   "cell_type": "markdown",
   "id": "3448c478",
   "metadata": {},
   "source": [
    "------"
   ]
  },
  {
   "cell_type": "markdown",
   "id": "fdd7a9d0",
   "metadata": {},
   "source": [
    "------"
   ]
  },
  {
   "cell_type": "markdown",
   "id": "20446161",
   "metadata": {},
   "source": [
    "#### Since this is a small experiment\n",
    "- I have modified the metadata accordingly, no need for doing this in the later sections`m"
   ]
  },
  {
   "cell_type": "code",
   "execution_count": 43,
   "id": "4aa05499",
   "metadata": {},
   "outputs": [],
   "source": [
    "def extract_list2list(regExpr,a_list):\n",
    "    return([re.search(regExpr,x)[0] for x in a_list if re.search(regExpr,x)])\n",
    "\n",
    "def extract_list2dict(regExpr,a_list):\n",
    "    return({x:re.search(regExpr,x)[0] for x in a_list if re.search(regExpr,x)})"
   ]
  },
  {
   "cell_type": "markdown",
   "id": "2e826b16",
   "metadata": {},
   "source": [
    "---------"
   ]
  },
  {
   "cell_type": "markdown",
   "id": "e31809fa",
   "metadata": {},
   "source": [
    "## Preprocess the asari table \n",
    "- Separate metainfo_df & data_df; convert zero to np.nan"
   ]
  },
  {
   "cell_type": "code",
   "execution_count": 44,
   "id": "b425ffa7",
   "metadata": {},
   "outputs": [],
   "source": [
    "reord_feat_df.index = reord_feat_df['id_number']"
   ]
  },
  {
   "cell_type": "code",
   "execution_count": 45,
   "id": "5d07a724",
   "metadata": {},
   "outputs": [],
   "source": [
    "data_df = reord_feat_df.iloc[:,end_index:]"
   ]
  },
  {
   "cell_type": "code",
   "execution_count": 46,
   "id": "6f20c736",
   "metadata": {},
   "outputs": [
    {
     "data": {
      "text/html": [
       "<div>\n",
       "<style scoped>\n",
       "    .dataframe tbody tr th:only-of-type {\n",
       "        vertical-align: middle;\n",
       "    }\n",
       "\n",
       "    .dataframe tbody tr th {\n",
       "        vertical-align: top;\n",
       "    }\n",
       "\n",
       "    .dataframe thead th {\n",
       "        text-align: right;\n",
       "    }\n",
       "</style>\n",
       "<table border=\"1\" class=\"dataframe\">\n",
       "  <thead>\n",
       "    <tr style=\"text-align: right;\">\n",
       "      <th></th>\n",
       "      <th>Blank_1</th>\n",
       "      <th>Blank_2</th>\n",
       "      <th>Blank_std_1</th>\n",
       "      <th>Qstd_1</th>\n",
       "      <th>Qstd_2</th>\n",
       "      <th>pooled_1</th>\n",
       "      <th>Tn_250K_1</th>\n",
       "      <th>Tn_250K_2</th>\n",
       "      <th>CD8stem_250K_1</th>\n",
       "      <th>CD8stem_300K_2</th>\n",
       "      <th>pooled_2</th>\n",
       "      <th>CD8trans_350K_1</th>\n",
       "      <th>CD8trans_250K_2</th>\n",
       "      <th>CD8TD_750K_1</th>\n",
       "      <th>CD8TD_750K_2</th>\n",
       "      <th>pooled_3</th>\n",
       "      <th>Qstd_3</th>\n",
       "      <th>Blank_3</th>\n",
       "      <th>Klof2_1</th>\n",
       "      <th>Klof2_2</th>\n",
       "      <th>Klof2_3</th>\n",
       "    </tr>\n",
       "    <tr>\n",
       "      <th>id_number</th>\n",
       "      <th></th>\n",
       "      <th></th>\n",
       "      <th></th>\n",
       "      <th></th>\n",
       "      <th></th>\n",
       "      <th></th>\n",
       "      <th></th>\n",
       "      <th></th>\n",
       "      <th></th>\n",
       "      <th></th>\n",
       "      <th></th>\n",
       "      <th></th>\n",
       "      <th></th>\n",
       "      <th></th>\n",
       "      <th></th>\n",
       "      <th></th>\n",
       "      <th></th>\n",
       "      <th></th>\n",
       "      <th></th>\n",
       "      <th></th>\n",
       "      <th></th>\n",
       "    </tr>\n",
       "  </thead>\n",
       "  <tbody>\n",
       "    <tr>\n",
       "      <th>F1</th>\n",
       "      <td>0</td>\n",
       "      <td>0</td>\n",
       "      <td>0</td>\n",
       "      <td>0</td>\n",
       "      <td>0</td>\n",
       "      <td>0</td>\n",
       "      <td>0</td>\n",
       "      <td>0</td>\n",
       "      <td>0</td>\n",
       "      <td>0</td>\n",
       "      <td>0</td>\n",
       "      <td>0</td>\n",
       "      <td>0</td>\n",
       "      <td>0</td>\n",
       "      <td>0</td>\n",
       "      <td>0</td>\n",
       "      <td>0</td>\n",
       "      <td>0</td>\n",
       "      <td>1935510</td>\n",
       "      <td>1154777</td>\n",
       "      <td>771318</td>\n",
       "    </tr>\n",
       "    <tr>\n",
       "      <th>F2</th>\n",
       "      <td>0</td>\n",
       "      <td>0</td>\n",
       "      <td>0</td>\n",
       "      <td>0</td>\n",
       "      <td>0</td>\n",
       "      <td>0</td>\n",
       "      <td>0</td>\n",
       "      <td>0</td>\n",
       "      <td>0</td>\n",
       "      <td>0</td>\n",
       "      <td>0</td>\n",
       "      <td>0</td>\n",
       "      <td>588884</td>\n",
       "      <td>0</td>\n",
       "      <td>0</td>\n",
       "      <td>0</td>\n",
       "      <td>0</td>\n",
       "      <td>0</td>\n",
       "      <td>0</td>\n",
       "      <td>0</td>\n",
       "      <td>0</td>\n",
       "    </tr>\n",
       "    <tr>\n",
       "      <th>F3</th>\n",
       "      <td>0</td>\n",
       "      <td>0</td>\n",
       "      <td>0</td>\n",
       "      <td>16715971</td>\n",
       "      <td>17121711</td>\n",
       "      <td>3274770</td>\n",
       "      <td>1147107</td>\n",
       "      <td>929394</td>\n",
       "      <td>4235536</td>\n",
       "      <td>2278060</td>\n",
       "      <td>3153499</td>\n",
       "      <td>3491983</td>\n",
       "      <td>1715865</td>\n",
       "      <td>2483791</td>\n",
       "      <td>1925091</td>\n",
       "      <td>3148828</td>\n",
       "      <td>16568160</td>\n",
       "      <td>0</td>\n",
       "      <td>0</td>\n",
       "      <td>0</td>\n",
       "      <td>0</td>\n",
       "    </tr>\n",
       "    <tr>\n",
       "      <th>F4</th>\n",
       "      <td>0</td>\n",
       "      <td>0</td>\n",
       "      <td>0</td>\n",
       "      <td>0</td>\n",
       "      <td>0</td>\n",
       "      <td>0</td>\n",
       "      <td>0</td>\n",
       "      <td>0</td>\n",
       "      <td>0</td>\n",
       "      <td>0</td>\n",
       "      <td>0</td>\n",
       "      <td>0</td>\n",
       "      <td>0</td>\n",
       "      <td>0</td>\n",
       "      <td>0</td>\n",
       "      <td>0</td>\n",
       "      <td>0</td>\n",
       "      <td>0</td>\n",
       "      <td>18939390</td>\n",
       "      <td>18710423</td>\n",
       "      <td>18048458</td>\n",
       "    </tr>\n",
       "    <tr>\n",
       "      <th>F5</th>\n",
       "      <td>0</td>\n",
       "      <td>0</td>\n",
       "      <td>0</td>\n",
       "      <td>0</td>\n",
       "      <td>0</td>\n",
       "      <td>0</td>\n",
       "      <td>1545347</td>\n",
       "      <td>1002182</td>\n",
       "      <td>414947</td>\n",
       "      <td>0</td>\n",
       "      <td>0</td>\n",
       "      <td>0</td>\n",
       "      <td>1929205</td>\n",
       "      <td>0</td>\n",
       "      <td>0</td>\n",
       "      <td>0</td>\n",
       "      <td>0</td>\n",
       "      <td>0</td>\n",
       "      <td>0</td>\n",
       "      <td>0</td>\n",
       "      <td>0</td>\n",
       "    </tr>\n",
       "  </tbody>\n",
       "</table>\n",
       "</div>"
      ],
      "text/plain": [
       "           Blank_1  Blank_2  Blank_std_1    Qstd_1    Qstd_2  pooled_1  Tn_250K_1  Tn_250K_2  CD8stem_250K_1  CD8stem_300K_2  pooled_2  CD8trans_350K_1  CD8trans_250K_2  CD8TD_750K_1  CD8TD_750K_2  pooled_3    Qstd_3  Blank_3   Klof2_1   Klof2_2   Klof2_3\n",
       "id_number                                                                                                                                                                                                                                                      \n",
       "F1               0        0            0         0         0         0          0          0               0               0         0                0                0             0             0         0         0        0   1935510   1154777    771318\n",
       "F2               0        0            0         0         0         0          0          0               0               0         0                0           588884             0             0         0         0        0         0         0         0\n",
       "F3               0        0            0  16715971  17121711   3274770    1147107     929394         4235536         2278060   3153499          3491983          1715865       2483791       1925091   3148828  16568160        0         0         0         0\n",
       "F4               0        0            0         0         0         0          0          0               0               0         0                0                0             0             0         0         0        0  18939390  18710423  18048458\n",
       "F5               0        0            0         0         0         0    1545347    1002182          414947               0         0                0          1929205             0             0         0         0        0         0         0         0"
      ]
     },
     "execution_count": 46,
     "metadata": {},
     "output_type": "execute_result"
    }
   ],
   "source": [
    "data_df.head()"
   ]
  },
  {
   "cell_type": "code",
   "execution_count": 47,
   "id": "78213679",
   "metadata": {},
   "outputs": [],
   "source": [
    "metainfo_df = reord_feat_df.iloc[:,0:end_index]"
   ]
  },
  {
   "cell_type": "code",
   "execution_count": 48,
   "id": "bcb968a7",
   "metadata": {},
   "outputs": [],
   "source": [
    "# turn all zero to NA for easy manipulation later\n",
    "data_df[data_df == 0 ] = np.nan"
   ]
  },
  {
   "cell_type": "markdown",
   "id": "81af98b8",
   "metadata": {},
   "source": [
    "---"
   ]
  },
  {
   "cell_type": "markdown",
   "id": "a5bc7a72",
   "metadata": {},
   "source": [
    "-----"
   ]
  },
  {
   "cell_type": "markdown",
   "id": "9d02d057",
   "metadata": {},
   "source": [
    "## Sample present reporting"
   ]
  },
  {
   "cell_type": "markdown",
   "id": "5171fc32",
   "metadata": {
    "tags": []
   },
   "source": [
    "### functions"
   ]
  },
  {
   "cell_type": "code",
   "execution_count": 49,
   "id": "7871d744",
   "metadata": {},
   "outputs": [],
   "source": [
    "import warnings\n",
    "def select_column_regExpr(feat_df,regPattern):\n",
    "    res_df = feat_df.loc[:,[x for x in feat_df.columns \\\n",
    "                            if re.search(regPattern,x)]]\n",
    "    return(res_df)\n",
    "\n",
    "def report_basic_stat(df):\n",
    "    '''\n",
    "    Default calculate mean, min & maximum and percentage of NA for any table.\n",
    "    Before inputting the table, filtering steps may need to be done like correlation of blank matrix and filter out samples.\n",
    "    '''\n",
    "    if any(df == 0):\n",
    "        df[df == 0] = np.nan\n",
    "    \n",
    "    # Use warnings.catch_warnings() to filter out warnings in this block\n",
    "    with warnings.catch_warnings():\n",
    "        warnings.simplefilter(\"ignore\")\n",
    "        mean_list = df.apply(lambda x: np.nanmean(x), axis=1)\n",
    "    \n",
    "        med_list = df.apply(lambda x: x.median(skipna=True), axis=1)\n",
    "        max_list = df.apply(lambda x: x.max(skipna=True), axis=1)\n",
    "        min_list = df.apply(lambda x: x.max(skipna=True), axis=1)\n",
    "\n",
    "        percNA_list = df.apply(lambda x: x.isna()).sum(axis=1) / df.shape[1]\n",
    "\n",
    "        cv_list = []\n",
    "        for i,row in df.iterrows():\n",
    "            if all(np.isnan(row)):\n",
    "                cv_list.append(np.nan)\n",
    "            else:\n",
    "                cv_list.append(row.std(skipna=True) / row.mean(skipna=True))\n",
    "        \n",
    "        df_stat_df1 = pd.DataFrame({\n",
    "            'percNA': percNA_list, \n",
    "            'mean': mean_list,\n",
    "            'median': med_list,\n",
    "            'max': max_list,\n",
    "            'min': min_list,\n",
    "            'cv': cv_list\n",
    "        })\n",
    "        df_dict = df_stat_df1.to_dict('index')\n",
    "    return df_dict\n",
    "\n",
    "\n",
    "def select_and_report(feat_df,regPattern):\n",
    "    sel_df = select_column_regExpr(feat_df,regPattern)\n",
    "    rep_dict = report_basic_stat(sel_df)\n",
    "    return(rep_dict)\n",
    "\n",
    "def dicts2table(dict_of_dict):\n",
    "    new_df = pd.DataFrame()\n",
    "    for k,v in dict_of_dict.items():\n",
    "        tab = pd.DataFrame(v).transpose()\n",
    "        tab.columns = [k + \"_\" + x for x in tab.columns]\n",
    "        new_df =  pd.concat([new_df, tab], axis=1)\n",
    "    return(new_df)"
   ]
  },
  {
   "cell_type": "markdown",
   "id": "6275661e",
   "metadata": {},
   "source": [
    "### Blank stat reporting"
   ]
  },
  {
   "cell_type": "code",
   "execution_count": 50,
   "id": "dcc23fda",
   "metadata": {},
   "outputs": [],
   "source": [
    "blank_df = select_column_regExpr(data_df,'Blank')"
   ]
  },
  {
   "cell_type": "code",
   "execution_count": 51,
   "id": "3a21dbe7",
   "metadata": {},
   "outputs": [
    {
     "data": {
      "text/plain": [
       "<Axes: >"
      ]
     },
     "execution_count": 51,
     "metadata": {},
     "output_type": "execute_result"
    },
    {
     "data": {
      "image/png": "[encoded data removed]",
      "text/plain": [
       "<Figure size 640x480 with 2 Axes>"
      ]
     },
     "metadata": {},
     "output_type": "display_data"
    }
   ],
   "source": [
    "# quickly check if blank needs to be removed\n",
    "# Note that for drawing this, it will be better to not convert 0 to NA\n",
    "sns.heatmap(blank_df.corr(), cmap=\"coolwarm\")"
   ]
  },
  {
   "cell_type": "markdown",
   "id": "b42f5275",
   "metadata": {},
   "source": [
    "##### sample of `003` is very different (and it is the end, so might have more overflow), drop that for blank masking"
   ]
  },
  {
   "cell_type": "code",
   "execution_count": 53,
   "id": "49f83ea1",
   "metadata": {
    "tags": []
   },
   "outputs": [
    {
     "data": {
      "text/plain": [
       "<Axes: >"
      ]
     },
     "execution_count": 53,
     "metadata": {},
     "output_type": "execute_result"
    },
    {
     "data": {
      "image/png": "[encoded data removed]",
      "text/plain": [
       "<Figure size 640x480 with 2 Axes>"
      ]
     },
     "metadata": {},
     "output_type": "display_data"
    }
   ],
   "source": [
    "blank_df = select_column_regExpr(data_df,'Blank\\_[(1-2)|std]+') # ignore 001\n",
    "sns.heatmap(blank_df.corr(), cmap=\"coolwarm\")"
   ]
  },
  {
   "cell_type": "code",
   "execution_count": 54,
   "id": "356eb16e",
   "metadata": {},
   "outputs": [
    {
     "name": "stdout",
     "output_type": "stream",
     "text": [
      "Index(['Blank_1', 'Blank_2', 'Blank_std_1'], dtype='object')\n"
     ]
    }
   ],
   "source": [
    "print(blank_df.columns)\n",
    "blank_dict = report_basic_stat(blank_df)"
   ]
  },
  {
   "cell_type": "code",
   "execution_count": 55,
   "id": "600e9a80",
   "metadata": {},
   "outputs": [
    {
     "name": "stdout",
     "output_type": "stream",
     "text": [
      "Index(['Tn_250K_1', 'Tn_250K_2', 'CD8stem_250K_1', 'CD8stem_300K_2', 'CD8trans_350K_1', 'CD8trans_250K_2', 'CD8TD_750K_1', 'CD8TD_750K_2'], dtype='object')\n"
     ]
    }
   ],
   "source": [
    "sample_df = data_df.loc[:,[x for x in data_df.columns if re.search(\"CD8stem|Tn|CD8TD|CD8trans\",x)]]\n",
    "print(sample_df.columns)\n",
    "sample_dict = report_basic_stat(sample_df)"
   ]
  },
  {
   "cell_type": "code",
   "execution_count": 56,
   "id": "0dfa75c2",
   "metadata": {},
   "outputs": [
    {
     "data": {
      "text/html": [
       "<div>\n",
       "<style scoped>\n",
       "    .dataframe tbody tr th:only-of-type {\n",
       "        vertical-align: middle;\n",
       "    }\n",
       "\n",
       "    .dataframe tbody tr th {\n",
       "        vertical-align: top;\n",
       "    }\n",
       "\n",
       "    .dataframe thead th {\n",
       "        text-align: right;\n",
       "    }\n",
       "</style>\n",
       "<table border=\"1\" class=\"dataframe\">\n",
       "  <thead>\n",
       "    <tr style=\"text-align: right;\">\n",
       "      <th></th>\n",
       "      <th>blank_percNA</th>\n",
       "      <th>blank_mean</th>\n",
       "      <th>blank_median</th>\n",
       "      <th>blank_max</th>\n",
       "      <th>blank_min</th>\n",
       "      <th>blank_cv</th>\n",
       "      <th>sample_percNA</th>\n",
       "      <th>sample_mean</th>\n",
       "      <th>sample_median</th>\n",
       "      <th>sample_max</th>\n",
       "      <th>sample_min</th>\n",
       "      <th>sample_cv</th>\n",
       "    </tr>\n",
       "  </thead>\n",
       "  <tbody>\n",
       "    <tr>\n",
       "      <th>F1</th>\n",
       "      <td>1.0</td>\n",
       "      <td>NaN</td>\n",
       "      <td>NaN</td>\n",
       "      <td>NaN</td>\n",
       "      <td>NaN</td>\n",
       "      <td>NaN</td>\n",
       "      <td>1.000</td>\n",
       "      <td>NaN</td>\n",
       "      <td>NaN</td>\n",
       "      <td>NaN</td>\n",
       "      <td>NaN</td>\n",
       "      <td>NaN</td>\n",
       "    </tr>\n",
       "    <tr>\n",
       "      <th>F2</th>\n",
       "      <td>1.0</td>\n",
       "      <td>NaN</td>\n",
       "      <td>NaN</td>\n",
       "      <td>NaN</td>\n",
       "      <td>NaN</td>\n",
       "      <td>NaN</td>\n",
       "      <td>0.875</td>\n",
       "      <td>588884.000</td>\n",
       "      <td>588884.0</td>\n",
       "      <td>588884.0</td>\n",
       "      <td>588884.0</td>\n",
       "      <td>NaN</td>\n",
       "    </tr>\n",
       "    <tr>\n",
       "      <th>F3</th>\n",
       "      <td>1.0</td>\n",
       "      <td>NaN</td>\n",
       "      <td>NaN</td>\n",
       "      <td>NaN</td>\n",
       "      <td>NaN</td>\n",
       "      <td>NaN</td>\n",
       "      <td>0.000</td>\n",
       "      <td>2275853.375</td>\n",
       "      <td>2101575.5</td>\n",
       "      <td>4235536.0</td>\n",
       "      <td>4235536.0</td>\n",
       "      <td>0.495068</td>\n",
       "    </tr>\n",
       "    <tr>\n",
       "      <th>F4</th>\n",
       "      <td>1.0</td>\n",
       "      <td>NaN</td>\n",
       "      <td>NaN</td>\n",
       "      <td>NaN</td>\n",
       "      <td>NaN</td>\n",
       "      <td>NaN</td>\n",
       "      <td>1.000</td>\n",
       "      <td>NaN</td>\n",
       "      <td>NaN</td>\n",
       "      <td>NaN</td>\n",
       "      <td>NaN</td>\n",
       "      <td>NaN</td>\n",
       "    </tr>\n",
       "    <tr>\n",
       "      <th>F5</th>\n",
       "      <td>1.0</td>\n",
       "      <td>NaN</td>\n",
       "      <td>NaN</td>\n",
       "      <td>NaN</td>\n",
       "      <td>NaN</td>\n",
       "      <td>NaN</td>\n",
       "      <td>0.500</td>\n",
       "      <td>1222920.250</td>\n",
       "      <td>1273764.5</td>\n",
       "      <td>1929205.0</td>\n",
       "      <td>1929205.0</td>\n",
       "      <td>0.539184</td>\n",
       "    </tr>\n",
       "  </tbody>\n",
       "</table>\n",
       "</div>"
      ],
      "text/plain": [
       "    blank_percNA  blank_mean  blank_median  blank_max  blank_min  blank_cv  sample_percNA  sample_mean  sample_median  sample_max  sample_min  sample_cv\n",
       "F1           1.0         NaN           NaN        NaN        NaN       NaN          1.000          NaN            NaN         NaN         NaN        NaN\n",
       "F2           1.0         NaN           NaN        NaN        NaN       NaN          0.875   588884.000       588884.0    588884.0    588884.0        NaN\n",
       "F3           1.0         NaN           NaN        NaN        NaN       NaN          0.000  2275853.375      2101575.5   4235536.0   4235536.0   0.495068\n",
       "F4           1.0         NaN           NaN        NaN        NaN       NaN          1.000          NaN            NaN         NaN         NaN        NaN\n",
       "F5           1.0         NaN           NaN        NaN        NaN       NaN          0.500  1222920.250      1273764.5   1929205.0   1929205.0   0.539184"
      ]
     },
     "execution_count": 56,
     "metadata": {},
     "output_type": "execute_result"
    }
   ],
   "source": [
    "# get the NA percentage of blank and samples\n",
    "dict_of_dict = {'blank':blank_dict,\n",
    "                'sample':sample_dict,\n",
    "}\n",
    "\n",
    "stat_df1 = dicts2table(dict_of_dict)\n",
    "stat_df1.head(5) # the statistical table reporting NA was named stat_df1"
   ]
  },
  {
   "cell_type": "markdown",
   "id": "b9d6ca93",
   "metadata": {},
   "source": [
    "### Blank masking"
   ]
  },
  {
   "cell_type": "code",
   "execution_count": 57,
   "id": "df1d0cda",
   "metadata": {},
   "outputs": [],
   "source": [
    "def blank_masking_soft(feat_df,\n",
    "                  stat_df,\n",
    "                  blank_percNA_threshold = 1, # no percentage filtering\n",
    "                  samples2blank_ratio = 3):\n",
    "    new_stat_df = stat_df.loc[((stat_df['blank_percNA'] < blank_percNA_threshold) & \n",
    "                              (stat_df['sample_max'] > stat_df['blank_max']*samples2blank_ratio))| # using maximum\n",
    "                              (stat_df['blank_percNA'] >= blank_percNA_threshold),:] # IF Percentage of NA in blank dataframes exceeds certain levels, \n",
    "    new_feat_df = feat_df.loc[new_stat_df.index,]\n",
    "    return(new_feat_df,new_stat_df)"
   ]
  },
  {
   "cell_type": "code",
   "execution_count": 58,
   "id": "5a41658e",
   "metadata": {
    "tags": []
   },
   "outputs": [],
   "source": [
    "blankMasked_data_df,blankMasked_stat_df = blank_masking_soft(data_df,\n",
    "                                                               stat_df1, \n",
    "                                                               blank_percNA_threshold = 1, \n",
    "                                                               samples2blank_ratio = 2)"
   ]
  },
  {
   "cell_type": "code",
   "execution_count": 59,
   "id": "ff2673be",
   "metadata": {
    "tags": []
   },
   "outputs": [
    {
     "data": {
      "text/plain": [
       "(14616, 21)"
      ]
     },
     "execution_count": 59,
     "metadata": {},
     "output_type": "execute_result"
    }
   ],
   "source": [
    "blankMasked_data_df.shape"
   ]
  },
  {
   "cell_type": "code",
   "execution_count": 60,
   "id": "5d507e86",
   "metadata": {},
   "outputs": [
    {
     "data": {
      "text/html": [
       "<div>\n",
       "<style scoped>\n",
       "    .dataframe tbody tr th:only-of-type {\n",
       "        vertical-align: middle;\n",
       "    }\n",
       "\n",
       "    .dataframe tbody tr th {\n",
       "        vertical-align: top;\n",
       "    }\n",
       "\n",
       "    .dataframe thead th {\n",
       "        text-align: right;\n",
       "    }\n",
       "</style>\n",
       "<table border=\"1\" class=\"dataframe\">\n",
       "  <thead>\n",
       "    <tr style=\"text-align: right;\">\n",
       "      <th></th>\n",
       "      <th>Blank_1</th>\n",
       "      <th>Blank_2</th>\n",
       "      <th>Blank_std_1</th>\n",
       "      <th>Qstd_1</th>\n",
       "      <th>Qstd_2</th>\n",
       "      <th>pooled_1</th>\n",
       "      <th>Tn_250K_1</th>\n",
       "      <th>Tn_250K_2</th>\n",
       "      <th>CD8stem_250K_1</th>\n",
       "      <th>CD8stem_300K_2</th>\n",
       "      <th>pooled_2</th>\n",
       "      <th>CD8trans_350K_1</th>\n",
       "      <th>CD8trans_250K_2</th>\n",
       "      <th>CD8TD_750K_1</th>\n",
       "      <th>CD8TD_750K_2</th>\n",
       "      <th>pooled_3</th>\n",
       "      <th>Qstd_3</th>\n",
       "      <th>Blank_3</th>\n",
       "      <th>Klof2_1</th>\n",
       "      <th>Klof2_2</th>\n",
       "      <th>Klof2_3</th>\n",
       "    </tr>\n",
       "  </thead>\n",
       "  <tbody>\n",
       "    <tr>\n",
       "      <th>F1</th>\n",
       "      <td>NaN</td>\n",
       "      <td>NaN</td>\n",
       "      <td>NaN</td>\n",
       "      <td>NaN</td>\n",
       "      <td>NaN</td>\n",
       "      <td>NaN</td>\n",
       "      <td>NaN</td>\n",
       "      <td>NaN</td>\n",
       "      <td>NaN</td>\n",
       "      <td>NaN</td>\n",
       "      <td>NaN</td>\n",
       "      <td>NaN</td>\n",
       "      <td>NaN</td>\n",
       "      <td>NaN</td>\n",
       "      <td>NaN</td>\n",
       "      <td>NaN</td>\n",
       "      <td>NaN</td>\n",
       "      <td>NaN</td>\n",
       "      <td>1935510.0</td>\n",
       "      <td>1154777.0</td>\n",
       "      <td>771318.0</td>\n",
       "    </tr>\n",
       "    <tr>\n",
       "      <th>F2</th>\n",
       "      <td>NaN</td>\n",
       "      <td>NaN</td>\n",
       "      <td>NaN</td>\n",
       "      <td>NaN</td>\n",
       "      <td>NaN</td>\n",
       "      <td>NaN</td>\n",
       "      <td>NaN</td>\n",
       "      <td>NaN</td>\n",
       "      <td>NaN</td>\n",
       "      <td>NaN</td>\n",
       "      <td>NaN</td>\n",
       "      <td>NaN</td>\n",
       "      <td>588884.0</td>\n",
       "      <td>NaN</td>\n",
       "      <td>NaN</td>\n",
       "      <td>NaN</td>\n",
       "      <td>NaN</td>\n",
       "      <td>NaN</td>\n",
       "      <td>NaN</td>\n",
       "      <td>NaN</td>\n",
       "      <td>NaN</td>\n",
       "    </tr>\n",
       "    <tr>\n",
       "      <th>F3</th>\n",
       "      <td>NaN</td>\n",
       "      <td>NaN</td>\n",
       "      <td>NaN</td>\n",
       "      <td>16715971.0</td>\n",
       "      <td>17121711.0</td>\n",
       "      <td>3274770.0</td>\n",
       "      <td>1147107.0</td>\n",
       "      <td>929394.0</td>\n",
       "      <td>4235536.0</td>\n",
       "      <td>2278060.0</td>\n",
       "      <td>3153499.0</td>\n",
       "      <td>3491983.0</td>\n",
       "      <td>1715865.0</td>\n",
       "      <td>2483791.0</td>\n",
       "      <td>1925091.0</td>\n",
       "      <td>3148828.0</td>\n",
       "      <td>16568160.0</td>\n",
       "      <td>NaN</td>\n",
       "      <td>NaN</td>\n",
       "      <td>NaN</td>\n",
       "      <td>NaN</td>\n",
       "    </tr>\n",
       "    <tr>\n",
       "      <th>F4</th>\n",
       "      <td>NaN</td>\n",
       "      <td>NaN</td>\n",
       "      <td>NaN</td>\n",
       "      <td>NaN</td>\n",
       "      <td>NaN</td>\n",
       "      <td>NaN</td>\n",
       "      <td>NaN</td>\n",
       "      <td>NaN</td>\n",
       "      <td>NaN</td>\n",
       "      <td>NaN</td>\n",
       "      <td>NaN</td>\n",
       "      <td>NaN</td>\n",
       "      <td>NaN</td>\n",
       "      <td>NaN</td>\n",
       "      <td>NaN</td>\n",
       "      <td>NaN</td>\n",
       "      <td>NaN</td>\n",
       "      <td>NaN</td>\n",
       "      <td>18939390.0</td>\n",
       "      <td>18710423.0</td>\n",
       "      <td>18048458.0</td>\n",
       "    </tr>\n",
       "    <tr>\n",
       "      <th>F5</th>\n",
       "      <td>NaN</td>\n",
       "      <td>NaN</td>\n",
       "      <td>NaN</td>\n",
       "      <td>NaN</td>\n",
       "      <td>NaN</td>\n",
       "      <td>NaN</td>\n",
       "      <td>1545347.0</td>\n",
       "      <td>1002182.0</td>\n",
       "      <td>414947.0</td>\n",
       "      <td>NaN</td>\n",
       "      <td>NaN</td>\n",
       "      <td>NaN</td>\n",
       "      <td>1929205.0</td>\n",
       "      <td>NaN</td>\n",
       "      <td>NaN</td>\n",
       "      <td>NaN</td>\n",
       "      <td>NaN</td>\n",
       "      <td>NaN</td>\n",
       "      <td>NaN</td>\n",
       "      <td>NaN</td>\n",
       "      <td>NaN</td>\n",
       "    </tr>\n",
       "  </tbody>\n",
       "</table>\n",
       "</div>"
      ],
      "text/plain": [
       "    Blank_1  Blank_2  Blank_std_1      Qstd_1      Qstd_2   pooled_1  Tn_250K_1  Tn_250K_2  CD8stem_250K_1  CD8stem_300K_2   pooled_2  CD8trans_350K_1  CD8trans_250K_2  CD8TD_750K_1  CD8TD_750K_2   pooled_3      Qstd_3  Blank_3     Klof2_1     Klof2_2     Klof2_3\n",
       "F1      NaN      NaN          NaN         NaN         NaN        NaN        NaN        NaN             NaN             NaN        NaN              NaN              NaN           NaN           NaN        NaN         NaN      NaN   1935510.0   1154777.0    771318.0\n",
       "F2      NaN      NaN          NaN         NaN         NaN        NaN        NaN        NaN             NaN             NaN        NaN              NaN         588884.0           NaN           NaN        NaN         NaN      NaN         NaN         NaN         NaN\n",
       "F3      NaN      NaN          NaN  16715971.0  17121711.0  3274770.0  1147107.0   929394.0       4235536.0       2278060.0  3153499.0        3491983.0        1715865.0     2483791.0     1925091.0  3148828.0  16568160.0      NaN         NaN         NaN         NaN\n",
       "F4      NaN      NaN          NaN         NaN         NaN        NaN        NaN        NaN             NaN             NaN        NaN              NaN              NaN           NaN           NaN        NaN         NaN      NaN  18939390.0  18710423.0  18048458.0\n",
       "F5      NaN      NaN          NaN         NaN         NaN        NaN  1545347.0  1002182.0        414947.0             NaN        NaN              NaN        1929205.0           NaN           NaN        NaN         NaN      NaN         NaN         NaN         NaN"
      ]
     },
     "execution_count": 60,
     "metadata": {},
     "output_type": "execute_result"
    }
   ],
   "source": [
    "blankMasked_data_df.head()"
   ]
  },
  {
   "cell_type": "code",
   "execution_count": 61,
   "id": "c61b1efd",
   "metadata": {
    "tags": []
   },
   "outputs": [
    {
     "name": "stdout",
     "output_type": "stream",
     "text": [
      "Before filtering, there are 18094 number of features\n",
      " after blank masking, there are 14616 number of features\n",
      "\n"
     ]
    }
   ],
   "source": [
    "print(f\"Before filtering, there are {data_df.shape[0]} number of features\\n \\\n",
    "after blank masking, there are {blankMasked_data_df.shape[0]} number of features\\n\")"
   ]
  },
  {
   "cell_type": "code",
   "execution_count": 62,
   "id": "bcd58e09",
   "metadata": {
    "tags": []
   },
   "outputs": [],
   "source": [
    "blankMasked_data_df.to_csv(\n",
    "    os.path.join(output_dir,\n",
    "                    f\"blankM_{mode}_fulFeatab.csv\"),index = True)"
   ]
  },
  {
   "cell_type": "markdown",
   "id": "ade5d0a4",
   "metadata": {},
   "source": [
    "### perform sample present report"
   ]
  },
  {
   "cell_type": "code",
   "execution_count": 67,
   "id": "2b58c64b",
   "metadata": {},
   "outputs": [],
   "source": [
    "Tn_dict = select_and_report(blankMasked_data_df,'Tn')\n",
    "CD8stem_dict = select_and_report(blankMasked_data_df,'CD8stem')\n",
    "CD8trans_dict = select_and_report(blankMasked_data_df,'CD8trans')\n",
    "CD8TD_dict = select_and_report(blankMasked_data_df,'CD8TD')\n",
    "Stem_dict = select_and_report(blankMasked_data_df,'Klof2') # "
   ]
  },
  {
   "cell_type": "code",
   "execution_count": 68,
   "id": "08889a73",
   "metadata": {},
   "outputs": [],
   "source": [
    "dict_of_dict = {'Tn': Tn_dict,\n",
    "                'CD8stem': CD8stem_dict,\n",
    "                'CD8trans': CD8trans_dict,\n",
    "                'CD8TD': CD8TD_dict,\n",
    "                'Klof2': Stem_dict #\n",
    "}"
   ]
  },
  {
   "cell_type": "code",
   "execution_count": 69,
   "id": "bfe8fbaf",
   "metadata": {},
   "outputs": [],
   "source": [
    "stat_df2 = dicts2table(dict_of_dict)"
   ]
  },
  {
   "cell_type": "markdown",
   "id": "2b055917",
   "metadata": {},
   "source": [
    "------"
   ]
  },
  {
   "cell_type": "markdown",
   "id": "dede04a7",
   "metadata": {},
   "source": [
    "## add stat into feature table and rearrange sample order"
   ]
  },
  {
   "cell_type": "code",
   "execution_count": 70,
   "id": "a9fac2ce",
   "metadata": {},
   "outputs": [
    {
     "data": {
      "text/plain": [
       "Index(['id_number', 'mz', 'rtime', 'rtime_left_base', 'rtime_right_base', 'parent_masstrack_id', 'peak_area', 'cSelectivity', 'goodness_fitting', 'snr', 'detection_counts'], dtype='object')"
      ]
     },
     "execution_count": 70,
     "metadata": {},
     "output_type": "execute_result"
    }
   ],
   "source": [
    "metainfo_df.columns"
   ]
  },
  {
   "cell_type": "code",
   "execution_count": 71,
   "id": "44c83e18",
   "metadata": {},
   "outputs": [
    {
     "data": {
      "text/plain": [
       "Index(['Blank_1', 'Blank_2', 'Blank_std_1', 'Qstd_1', 'Qstd_2', 'pooled_1', 'Tn_250K_1', 'Tn_250K_2', 'CD8stem_250K_1', 'CD8stem_300K_2', 'pooled_2', 'CD8trans_350K_1', 'CD8trans_250K_2', 'CD8TD_750K_1', 'CD8TD_750K_2', 'pooled_3', 'Qstd_3', 'Blank_3', 'Klof2_1', 'Klof2_2', 'Klof2_3'], dtype='object')"
      ]
     },
     "execution_count": 71,
     "metadata": {},
     "output_type": "execute_result"
    }
   ],
   "source": [
    "data_df.columns"
   ]
  },
  {
   "cell_type": "code",
   "execution_count": 72,
   "id": "9adaf712",
   "metadata": {},
   "outputs": [],
   "source": [
    "def group_filtering(feat_df,\n",
    "                    stat_df,\n",
    "                    group_percNA_threshold = group_percNA_threshold,\n",
    "                    group_signature = ['R5pos','R5neg','Naive'], # the group you would like to do filtering\n",
    "                    percNA_suffix_inRegExpr = '\\\\_percNA'):\n",
    "    '''\n",
    "    Perform group filtering\n",
    "    \n",
    "    '''\n",
    "    group_percNA_df = select_column_regExpr(stat_df,('|').join([x + percNA_suffix_inRegExpr \\\n",
    "                                                                            for x in group_signature]))\n",
    "    group_percNA_df_filtered = group_percNA_df.loc[group_percNA_df.apply(lambda x: x < group_percNA_threshold,\n",
    "                                                                         axis =1).any(axis = 1),\n",
    "                                                   :]\n",
    "    new_stat_df = stat_df.loc[group_percNA_df_filtered.index,:]\n",
    "    new_feat_df = feat_df.loc[group_percNA_df_filtered.index,:]\n",
    "    \n",
    "    return(new_feat_df,new_stat_df)"
   ]
  },
  {
   "cell_type": "code",
   "execution_count": 73,
   "id": "3ba950aa",
   "metadata": {},
   "outputs": [],
   "source": [
    "grp_filt_df, grp_filt_stat_df = group_filtering(feat_df = blankMasked_data_df,\n",
    "                                                stat_df = stat_df2,\n",
    "                                                group_percNA_threshold = group_percNA_threshold,\n",
    "                                                group_signature = ['Tn','CD8stem','CD8trans','CD8TD','^pooled'],\n",
    "                                                percNA_suffix_inRegExpr = '\\\\_percNA')"
   ]
  },
  {
   "cell_type": "code",
   "execution_count": 74,
   "id": "f5647b31",
   "metadata": {},
   "outputs": [
    {
     "data": {
      "text/plain": [
       "(8862, 30)"
      ]
     },
     "execution_count": 74,
     "metadata": {},
     "output_type": "execute_result"
    }
   ],
   "source": [
    "grp_filt_stat_df.shape"
   ]
  },
  {
   "cell_type": "code",
   "execution_count": 75,
   "id": "7d01322e",
   "metadata": {},
   "outputs": [
    {
     "data": {
      "text/plain": [
       "8862"
      ]
     },
     "execution_count": 75,
     "metadata": {},
     "output_type": "execute_result"
    }
   ],
   "source": [
    "# so basically, when doing group filtering, the blank masking is useless :/. but good to check\n",
    "len(grp_filt_stat_df.index.intersection(blankMasked_stat_df.index))"
   ]
  },
  {
   "cell_type": "code",
   "execution_count": 76,
   "id": "43ca7eaf",
   "metadata": {},
   "outputs": [
    {
     "name": "stdout",
     "output_type": "stream",
     "text": [
      "Before filtering, there are 14616 number of features\n",
      " finally after group filtering, there are 8862 number of features\n"
     ]
    }
   ],
   "source": [
    "print(f\"Before filtering, there are {blankMasked_data_df.shape[0]} number of features\\n \\\n",
    "finally after group filtering, there are {grp_filt_df.shape[0]} number of features\")"
   ]
  },
  {
   "cell_type": "code",
   "execution_count": 77,
   "id": "a1372955",
   "metadata": {},
   "outputs": [],
   "source": [
    "def combine_tables(list_df = [metainfo_df,grp_filt_stat_df,grp_filt_df],\n",
    "                key_index_df = grp_filt_stat_df):\n",
    "    index = key_index_df.index\n",
    "    new_list_df = []\n",
    "    for df in list_df:\n",
    "        new_list_df.append(df.loc[index,:])\n",
    "    merge_df = pd.concat(new_list_df,axis =1)\n",
    "    return(merge_df)"
   ]
  },
  {
   "cell_type": "code",
   "execution_count": 78,
   "id": "2ddd5e69",
   "metadata": {},
   "outputs": [],
   "source": [
    "m_df = combine_tables(list_df = [metainfo_df,grp_filt_stat_df,grp_filt_df],  # the order of df directly afffects the order of the columns\n",
    "                    key_index_df = grp_filt_stat_df)"
   ]
  },
  {
   "cell_type": "code",
   "execution_count": 79,
   "id": "c2f46221",
   "metadata": {},
   "outputs": [],
   "source": [
    "m_df.to_csv(\n",
    "    os.path.join(output_dir,\n",
    "                   f\"groupFil{group_percNA_threshold}_{mode}_blkM_featab.csv\"),index = False)\n",
    "\n",
    "grp_filt_stat_df.to_csv(\n",
    "    os.path.join(output_dir,\n",
    "                   f\"groupFil{group_percNA_threshold}_{mode}_blkM_stattab.csv\"))"
   ]
  },
  {
   "cell_type": "markdown",
   "id": "bd4ba69a",
   "metadata": {},
   "source": [
    "---"
   ]
  },
  {
   "cell_type": "markdown",
   "id": "9a59cfba",
   "metadata": {},
   "source": [
    "---"
   ]
  },
  {
   "cell_type": "markdown",
   "id": "e4b8cfe9",
   "metadata": {},
   "source": [
    "---"
   ]
  },
  {
   "cell_type": "markdown",
   "id": "4c443304",
   "metadata": {},
   "source": [
    "## Filtering samples based on QC report (if needed)"
   ]
  },
  {
   "cell_type": "code",
   "execution_count": 80,
   "id": "ba006113",
   "metadata": {},
   "outputs": [],
   "source": [
    "# # No outliers identified in this analysis, thus the outliers list is empty\n",
    "# outliers = []\n",
    "\n",
    "# def dropSamples(feat_df,dropSampleList):\n",
    "#     fil_feat_df = feat_df.drop(dropSampleList, axis = 1)\n",
    "#     return(fil_feat_df)\n",
    "\n",
    "# if outliers:\n",
    "#     outDrop_grp_filt_df = dropSamples(grp_filt_df, outliers)\n",
    "#     outDrop_grp_filt_df.to_csv(\n",
    "#         os.path.join(output_dir,\n",
    "#                        f\"outDrop_blankM_groupFil{group_percNA_threshold}_{mode}_featab.csv\"),index = False)\n",
    "# else:\n",
    "#     outDrop_grp_filt_df = m_df"
   ]
  },
  {
   "cell_type": "markdown",
   "id": "a42712ab",
   "metadata": {},
   "source": [
    "-----"
   ]
  },
  {
   "cell_type": "markdown",
   "id": "872b984f",
   "metadata": {},
   "source": [
    "-----"
   ]
  },
  {
   "cell_type": "markdown",
   "id": "c72a438b",
   "metadata": {},
   "source": [
    "-----"
   ]
  },
  {
   "cell_type": "markdown",
   "id": "71ca86a0",
   "metadata": {
    "tags": []
   },
   "source": [
    "## TIC normalization for top 1000 features"
   ]
  },
  {
   "cell_type": "code",
   "execution_count": 81,
   "id": "d196d17e",
   "metadata": {},
   "outputs": [
    {
     "data": {
      "text/html": [
       "<div>\n",
       "<style scoped>\n",
       "    .dataframe tbody tr th:only-of-type {\n",
       "        vertical-align: middle;\n",
       "    }\n",
       "\n",
       "    .dataframe tbody tr th {\n",
       "        vertical-align: top;\n",
       "    }\n",
       "\n",
       "    .dataframe thead th {\n",
       "        text-align: right;\n",
       "    }\n",
       "</style>\n",
       "<table border=\"1\" class=\"dataframe\">\n",
       "  <thead>\n",
       "    <tr style=\"text-align: right;\">\n",
       "      <th></th>\n",
       "      <th>Blank_1</th>\n",
       "      <th>Blank_2</th>\n",
       "      <th>Blank_std_1</th>\n",
       "      <th>Qstd_1</th>\n",
       "      <th>Qstd_2</th>\n",
       "      <th>pooled_1</th>\n",
       "      <th>Tn_250K_1</th>\n",
       "      <th>Tn_250K_2</th>\n",
       "      <th>CD8stem_250K_1</th>\n",
       "      <th>CD8stem_300K_2</th>\n",
       "      <th>pooled_2</th>\n",
       "      <th>CD8trans_350K_1</th>\n",
       "      <th>CD8trans_250K_2</th>\n",
       "      <th>CD8TD_750K_1</th>\n",
       "      <th>CD8TD_750K_2</th>\n",
       "      <th>pooled_3</th>\n",
       "      <th>Qstd_3</th>\n",
       "      <th>Blank_3</th>\n",
       "      <th>Klof2_1</th>\n",
       "      <th>Klof2_2</th>\n",
       "      <th>Klof2_3</th>\n",
       "    </tr>\n",
       "  </thead>\n",
       "  <tbody>\n",
       "    <tr>\n",
       "      <th>F3</th>\n",
       "      <td>NaN</td>\n",
       "      <td>NaN</td>\n",
       "      <td>NaN</td>\n",
       "      <td>16715971.0</td>\n",
       "      <td>17121711.0</td>\n",
       "      <td>3274770.0</td>\n",
       "      <td>1147107.0</td>\n",
       "      <td>929394.0</td>\n",
       "      <td>4235536.0</td>\n",
       "      <td>2278060.0</td>\n",
       "      <td>3153499.0</td>\n",
       "      <td>3491983.0</td>\n",
       "      <td>1715865.0</td>\n",
       "      <td>2483791.0</td>\n",
       "      <td>1925091.0</td>\n",
       "      <td>3148828.0</td>\n",
       "      <td>16568160.0</td>\n",
       "      <td>NaN</td>\n",
       "      <td>NaN</td>\n",
       "      <td>NaN</td>\n",
       "      <td>NaN</td>\n",
       "    </tr>\n",
       "    <tr>\n",
       "      <th>F5</th>\n",
       "      <td>NaN</td>\n",
       "      <td>NaN</td>\n",
       "      <td>NaN</td>\n",
       "      <td>NaN</td>\n",
       "      <td>NaN</td>\n",
       "      <td>NaN</td>\n",
       "      <td>1545347.0</td>\n",
       "      <td>1002182.0</td>\n",
       "      <td>414947.0</td>\n",
       "      <td>NaN</td>\n",
       "      <td>NaN</td>\n",
       "      <td>NaN</td>\n",
       "      <td>1929205.0</td>\n",
       "      <td>NaN</td>\n",
       "      <td>NaN</td>\n",
       "      <td>NaN</td>\n",
       "      <td>NaN</td>\n",
       "      <td>NaN</td>\n",
       "      <td>NaN</td>\n",
       "      <td>NaN</td>\n",
       "      <td>NaN</td>\n",
       "    </tr>\n",
       "    <tr>\n",
       "      <th>F6</th>\n",
       "      <td>NaN</td>\n",
       "      <td>NaN</td>\n",
       "      <td>NaN</td>\n",
       "      <td>NaN</td>\n",
       "      <td>NaN</td>\n",
       "      <td>NaN</td>\n",
       "      <td>368156.0</td>\n",
       "      <td>NaN</td>\n",
       "      <td>408065.0</td>\n",
       "      <td>291290.0</td>\n",
       "      <td>NaN</td>\n",
       "      <td>321644.0</td>\n",
       "      <td>NaN</td>\n",
       "      <td>NaN</td>\n",
       "      <td>NaN</td>\n",
       "      <td>NaN</td>\n",
       "      <td>NaN</td>\n",
       "      <td>NaN</td>\n",
       "      <td>NaN</td>\n",
       "      <td>NaN</td>\n",
       "      <td>NaN</td>\n",
       "    </tr>\n",
       "    <tr>\n",
       "      <th>F7</th>\n",
       "      <td>NaN</td>\n",
       "      <td>NaN</td>\n",
       "      <td>NaN</td>\n",
       "      <td>NaN</td>\n",
       "      <td>NaN</td>\n",
       "      <td>NaN</td>\n",
       "      <td>393081.0</td>\n",
       "      <td>NaN</td>\n",
       "      <td>417734.0</td>\n",
       "      <td>329533.0</td>\n",
       "      <td>NaN</td>\n",
       "      <td>305394.0</td>\n",
       "      <td>NaN</td>\n",
       "      <td>NaN</td>\n",
       "      <td>NaN</td>\n",
       "      <td>NaN</td>\n",
       "      <td>NaN</td>\n",
       "      <td>NaN</td>\n",
       "      <td>NaN</td>\n",
       "      <td>NaN</td>\n",
       "      <td>NaN</td>\n",
       "    </tr>\n",
       "    <tr>\n",
       "      <th>F9</th>\n",
       "      <td>NaN</td>\n",
       "      <td>NaN</td>\n",
       "      <td>NaN</td>\n",
       "      <td>NaN</td>\n",
       "      <td>NaN</td>\n",
       "      <td>2512338.0</td>\n",
       "      <td>2814419.0</td>\n",
       "      <td>3031918.0</td>\n",
       "      <td>3413669.0</td>\n",
       "      <td>2767976.0</td>\n",
       "      <td>1917211.0</td>\n",
       "      <td>2560669.0</td>\n",
       "      <td>3038194.0</td>\n",
       "      <td>NaN</td>\n",
       "      <td>NaN</td>\n",
       "      <td>2054675.0</td>\n",
       "      <td>NaN</td>\n",
       "      <td>NaN</td>\n",
       "      <td>NaN</td>\n",
       "      <td>NaN</td>\n",
       "      <td>NaN</td>\n",
       "    </tr>\n",
       "  </tbody>\n",
       "</table>\n",
       "</div>"
      ],
      "text/plain": [
       "    Blank_1  Blank_2  Blank_std_1      Qstd_1      Qstd_2   pooled_1  Tn_250K_1  Tn_250K_2  CD8stem_250K_1  CD8stem_300K_2   pooled_2  CD8trans_350K_1  CD8trans_250K_2  CD8TD_750K_1  CD8TD_750K_2   pooled_3      Qstd_3  Blank_3  Klof2_1  Klof2_2  Klof2_3\n",
       "F3      NaN      NaN          NaN  16715971.0  17121711.0  3274770.0  1147107.0   929394.0       4235536.0       2278060.0  3153499.0        3491983.0        1715865.0     2483791.0     1925091.0  3148828.0  16568160.0      NaN      NaN      NaN      NaN\n",
       "F5      NaN      NaN          NaN         NaN         NaN        NaN  1545347.0  1002182.0        414947.0             NaN        NaN              NaN        1929205.0           NaN           NaN        NaN         NaN      NaN      NaN      NaN      NaN\n",
       "F6      NaN      NaN          NaN         NaN         NaN        NaN   368156.0        NaN        408065.0        291290.0        NaN         321644.0              NaN           NaN           NaN        NaN         NaN      NaN      NaN      NaN      NaN\n",
       "F7      NaN      NaN          NaN         NaN         NaN        NaN   393081.0        NaN        417734.0        329533.0        NaN         305394.0              NaN           NaN           NaN        NaN         NaN      NaN      NaN      NaN      NaN\n",
       "F9      NaN      NaN          NaN         NaN         NaN  2512338.0  2814419.0  3031918.0       3413669.0       2767976.0  1917211.0        2560669.0        3038194.0           NaN           NaN  2054675.0         NaN      NaN      NaN      NaN      NaN"
      ]
     },
     "execution_count": 81,
     "metadata": {},
     "output_type": "execute_result"
    }
   ],
   "source": [
    "grp_filt_df.head()"
   ]
  },
  {
   "cell_type": "code",
   "execution_count": 82,
   "id": "38ffeda0",
   "metadata": {},
   "outputs": [],
   "source": [
    "samples_df = select_column_regExpr(grp_filt_df,'Tn\\\\_[0-9]+|CD8stem\\\\_[0-9]+|CD8trans\\\\_[0-9]+|CD8TD\\\\_[0-9]|pooled')"
   ]
  },
  {
   "cell_type": "code",
   "execution_count": 83,
   "id": "d4efe4bb",
   "metadata": {},
   "outputs": [
    {
     "data": {
      "text/html": [
       "<div>\n",
       "<style scoped>\n",
       "    .dataframe tbody tr th:only-of-type {\n",
       "        vertical-align: middle;\n",
       "    }\n",
       "\n",
       "    .dataframe tbody tr th {\n",
       "        vertical-align: top;\n",
       "    }\n",
       "\n",
       "    .dataframe thead th {\n",
       "        text-align: right;\n",
       "    }\n",
       "</style>\n",
       "<table border=\"1\" class=\"dataframe\">\n",
       "  <thead>\n",
       "    <tr style=\"text-align: right;\">\n",
       "      <th></th>\n",
       "      <th>pooled_1</th>\n",
       "      <th>Tn_250K_1</th>\n",
       "      <th>Tn_250K_2</th>\n",
       "      <th>CD8stem_250K_1</th>\n",
       "      <th>CD8stem_300K_2</th>\n",
       "      <th>pooled_2</th>\n",
       "      <th>CD8trans_350K_1</th>\n",
       "      <th>CD8trans_250K_2</th>\n",
       "      <th>CD8TD_750K_1</th>\n",
       "      <th>CD8TD_750K_2</th>\n",
       "      <th>pooled_3</th>\n",
       "    </tr>\n",
       "  </thead>\n",
       "  <tbody>\n",
       "    <tr>\n",
       "      <th>F3</th>\n",
       "      <td>3274770.0</td>\n",
       "      <td>1147107.0</td>\n",
       "      <td>929394.0</td>\n",
       "      <td>4235536.0</td>\n",
       "      <td>2278060.0</td>\n",
       "      <td>3153499.0</td>\n",
       "      <td>3491983.0</td>\n",
       "      <td>1715865.0</td>\n",
       "      <td>2483791.0</td>\n",
       "      <td>1925091.0</td>\n",
       "      <td>3148828.0</td>\n",
       "    </tr>\n",
       "    <tr>\n",
       "      <th>F5</th>\n",
       "      <td>NaN</td>\n",
       "      <td>1545347.0</td>\n",
       "      <td>1002182.0</td>\n",
       "      <td>414947.0</td>\n",
       "      <td>NaN</td>\n",
       "      <td>NaN</td>\n",
       "      <td>NaN</td>\n",
       "      <td>1929205.0</td>\n",
       "      <td>NaN</td>\n",
       "      <td>NaN</td>\n",
       "      <td>NaN</td>\n",
       "    </tr>\n",
       "    <tr>\n",
       "      <th>F6</th>\n",
       "      <td>NaN</td>\n",
       "      <td>368156.0</td>\n",
       "      <td>NaN</td>\n",
       "      <td>408065.0</td>\n",
       "      <td>291290.0</td>\n",
       "      <td>NaN</td>\n",
       "      <td>321644.0</td>\n",
       "      <td>NaN</td>\n",
       "      <td>NaN</td>\n",
       "      <td>NaN</td>\n",
       "      <td>NaN</td>\n",
       "    </tr>\n",
       "    <tr>\n",
       "      <th>F7</th>\n",
       "      <td>NaN</td>\n",
       "      <td>393081.0</td>\n",
       "      <td>NaN</td>\n",
       "      <td>417734.0</td>\n",
       "      <td>329533.0</td>\n",
       "      <td>NaN</td>\n",
       "      <td>305394.0</td>\n",
       "      <td>NaN</td>\n",
       "      <td>NaN</td>\n",
       "      <td>NaN</td>\n",
       "      <td>NaN</td>\n",
       "    </tr>\n",
       "    <tr>\n",
       "      <th>F9</th>\n",
       "      <td>2512338.0</td>\n",
       "      <td>2814419.0</td>\n",
       "      <td>3031918.0</td>\n",
       "      <td>3413669.0</td>\n",
       "      <td>2767976.0</td>\n",
       "      <td>1917211.0</td>\n",
       "      <td>2560669.0</td>\n",
       "      <td>3038194.0</td>\n",
       "      <td>NaN</td>\n",
       "      <td>NaN</td>\n",
       "      <td>2054675.0</td>\n",
       "    </tr>\n",
       "  </tbody>\n",
       "</table>\n",
       "</div>"
      ],
      "text/plain": [
       "     pooled_1  Tn_250K_1  Tn_250K_2  CD8stem_250K_1  CD8stem_300K_2   pooled_2  CD8trans_350K_1  CD8trans_250K_2  CD8TD_750K_1  CD8TD_750K_2   pooled_3\n",
       "F3  3274770.0  1147107.0   929394.0       4235536.0       2278060.0  3153499.0        3491983.0        1715865.0     2483791.0     1925091.0  3148828.0\n",
       "F5        NaN  1545347.0  1002182.0        414947.0             NaN        NaN              NaN        1929205.0           NaN           NaN        NaN\n",
       "F6        NaN   368156.0        NaN        408065.0        291290.0        NaN         321644.0              NaN           NaN           NaN        NaN\n",
       "F7        NaN   393081.0        NaN        417734.0        329533.0        NaN         305394.0              NaN           NaN           NaN        NaN\n",
       "F9  2512338.0  2814419.0  3031918.0       3413669.0       2767976.0  1917211.0        2560669.0        3038194.0           NaN           NaN  2054675.0"
      ]
     },
     "execution_count": 83,
     "metadata": {},
     "output_type": "execute_result"
    }
   ],
   "source": [
    "samples_df.head()"
   ]
  },
  {
   "cell_type": "code",
   "execution_count": 84,
   "id": "be21b886",
   "metadata": {},
   "outputs": [
    {
     "data": {
      "text/plain": [
       "(8862, 11)"
      ]
     },
     "execution_count": 84,
     "metadata": {},
     "output_type": "execute_result"
    }
   ],
   "source": [
    "samples_df.shape"
   ]
  },
  {
   "cell_type": "code",
   "execution_count": 85,
   "id": "823465e4",
   "metadata": {},
   "outputs": [],
   "source": [
    "import copy\n",
    "def TIC_Normalization_TopN(data_df,\n",
    "                           topN = 1000):\n",
    "    if any(data_df.apply(lambda x: x == 0).any()):\n",
    "        data_df[data_df == 0] = np.nan\n",
    "    feature_ids = data_df.sum(axis = 1, \n",
    "                              skipna = True\n",
    "                             ).sort_values(ascending = False)[0:topN].index\n",
    "    meanTIC = data_df.loc[feature_ids,:].mean(axis=0,skipna = True)\n",
    "    # print mean of TIC of the topN features\n",
    "    print(meanTIC[0:5])\n",
    "    factor_dict = dict(meanTIC/meanTIC.median())\n",
    "    new_data_df = copy.deepcopy(data_df)\n",
    "    for k,v in factor_dict.items():\n",
    "        new_data_df[k] = [x/v for x in new_data_df[k]]\n",
    "    # print meanTIC of topN features post-TIC normalization, should be the same\n",
    "    print(new_data_df.loc[feature_ids,:].mean(axis=0,skipna = True)[0:5])\n",
    "    \n",
    "    # print meanTIC of all features post-TIC normalization, should be closed\n",
    "    print(new_data_df.mean(axis=0,skipna = True)[0:5])\n",
    "    \n",
    "    return(new_data_df)"
   ]
  },
  {
   "cell_type": "code",
   "execution_count": 86,
   "id": "c3f434f2",
   "metadata": {},
   "outputs": [
    {
     "name": "stdout",
     "output_type": "stream",
     "text": [
      "pooled_1          2.390267e+08\n",
      "Tn_250K_1         2.452112e+08\n",
      "Tn_250K_2         2.208231e+08\n",
      "CD8stem_250K_1    2.561571e+08\n",
      "CD8stem_300K_2    2.088821e+08\n",
      "dtype: float64\n",
      "pooled_1          2.274865e+08\n",
      "Tn_250K_1         2.274865e+08\n",
      "Tn_250K_2         2.274865e+08\n",
      "CD8stem_250K_1    2.274865e+08\n",
      "CD8stem_300K_2    2.274865e+08\n",
      "dtype: float64\n",
      "pooled_1          3.104716e+07\n",
      "Tn_250K_1         3.162239e+07\n",
      "Tn_250K_2         3.188049e+07\n",
      "CD8stem_250K_1    3.067534e+07\n",
      "CD8stem_300K_2    3.169264e+07\n",
      "dtype: float64\n"
     ]
    }
   ],
   "source": [
    "TICnorm_data_df = TIC_Normalization_TopN(samples_df,topN = 1000)"
   ]
  },
  {
   "cell_type": "code",
   "execution_count": 87,
   "id": "f686ac2f",
   "metadata": {},
   "outputs": [],
   "source": [
    "import numpy as np\n",
    "import matplotlib.pyplot as plt\n",
    "\n",
    "def bar_plot_TIC(df):\n",
    "    TIC = df.sum(axis = 0)\n",
    "    plt.bar(TIC.index, TIC)\n",
    "    plt.xticks(rotation=90)  # rotate x-axis labels to horizontal\n",
    "    plt.show()"
   ]
  },
  {
   "cell_type": "code",
   "execution_count": 88,
   "id": "dd5ef47f",
   "metadata": {},
   "outputs": [
    {
     "data": {
      "image/png": "[encoded data removed]",
      "text/plain": [
       "<Figure size 640x480 with 1 Axes>"
      ]
     },
     "metadata": {},
     "output_type": "display_data"
    },
    {
     "data": {
      "image/png": "[encoded data removed]",
      "text/plain": [
       "<Figure size 640x480 with 1 Axes>"
      ]
     },
     "metadata": {},
     "output_type": "display_data"
    }
   ],
   "source": [
    "bar_plot_TIC(samples_df)\n",
    "bar_plot_TIC(TICnorm_data_df)"
   ]
  },
  {
   "cell_type": "code",
   "execution_count": 89,
   "id": "741ebc66",
   "metadata": {},
   "outputs": [
    {
     "data": {
      "text/plain": [
       "Index(['CD8TD_750K_1', 'CD8TD_750K_2', 'CD8stem_250K_1', 'CD8stem_300K_2', 'CD8trans_250K_2', 'CD8trans_350K_1', 'Tn_250K_1', 'Tn_250K_2', 'pooled_1', 'pooled_2', 'pooled_3'], dtype='object')"
      ]
     },
     "execution_count": 89,
     "metadata": {},
     "output_type": "execute_result"
    }
   ],
   "source": [
    "TICnorm_data_df.columns.sort_values()"
   ]
  },
  {
   "cell_type": "code",
   "execution_count": 90,
   "id": "66feca19",
   "metadata": {},
   "outputs": [],
   "source": [
    "# after TIC normalization, the order becomes less useful, and I would like to see more the biologically meaning ordering\n",
    "TICnorm_data_df = TICnorm_data_df.loc[:,TICnorm_data_df.columns.sort_values()]"
   ]
  },
  {
   "cell_type": "code",
   "execution_count": 91,
   "id": "dee7bfe9",
   "metadata": {},
   "outputs": [],
   "source": [
    "TICnorm_data_df.to_csv(\n",
    "        os.path.join(output_dir,\n",
    "                       f\"TICnorm_groupFil{group_percNA_threshold}_{mode}_blkM_featab.csv\"),index = True) # rename if needed"
   ]
  },
  {
   "cell_type": "markdown",
   "id": "2e6faf7e",
   "metadata": {},
   "source": [
    "------"
   ]
  },
  {
   "cell_type": "markdown",
   "id": "019732ba",
   "metadata": {},
   "source": [
    "## Summary\n",
    "- run normalization"
   ]
  },
  {
   "cell_type": "markdown",
   "id": "afafc3d1",
   "metadata": {},
   "source": [
    "------"
   ]
  },
  {
   "cell_type": "markdown",
   "id": "efb6a9b6",
   "metadata": {},
   "source": [
    "------"
   ]
  },
  {
   "cell_type": "markdown",
   "id": "a4b8574e",
   "metadata": {
    "tags": []
   },
   "source": [
    "## Imputation with half minimum"
   ]
  },
  {
   "cell_type": "markdown",
   "id": "84c36afd",
   "metadata": {},
   "source": [
    "##### The following function is only used to assembly the metainfo, I thought this is not anymore useful for the subsequent steps\n",
    "- id_number\tmz\trtime\trtime_left_base\trtime_right_base\tparent_masstrack_id\tpeak_area\tcSelectivity\tgoodness_fitting\tsnr\tdetection_counts"
   ]
  },
  {
   "cell_type": "code",
   "execution_count": 78,
   "id": "adca7d30",
   "metadata": {},
   "outputs": [],
   "source": [
    "# def replace_col_wtTICnorm(feat_df = grp_filt_df,\n",
    "#                           data_df = TICnorm_data_df):\n",
    "#     '''\n",
    "#     replace the same column of feature dataframe (feat_df) with the data_df that have the same column\n",
    "#     Return the feature dataframe. Note that the function is not limited to TIC normalized data.\n",
    "#     '''\n",
    "#     new_feat_df = copy.deepcopy(feat_df)\n",
    "#     new_feat_df = new_feat_df.loc[data_df.index,:]\n",
    "#     for col in data_df.columns:\n",
    "#         new_feat_df[col] = data_df[col]\n",
    "\n",
    "#     return(new_feat_df)"
   ]
  },
  {
   "cell_type": "code",
   "execution_count": 92,
   "id": "b15c7171",
   "metadata": {},
   "outputs": [],
   "source": [
    "def imputation(norm_data_df,full_asari_data_df,replace = 'half_minimum'):\n",
    "    '''\n",
    "    the row index should be matched btw. normalized data df & full asari df\n",
    "    The reason to add full_asari_data_df is to add the true minimum across all samples. \n",
    "    It will better capture the baseline\n",
    "    Default setting: if there is 0, then it will automatically deem as NA.\n",
    "    full_asari_data_df can use the same dataset of norm_data_df\n",
    "    norm_data_df can be exactly the same with not normalized dataset\n",
    "    \n",
    "    Output\n",
    "    ======\n",
    "    Return the NA filled norm_data_df\n",
    "    ''' \n",
    "    \n",
    "    # turn zero to NA\n",
    "    norm_data_df[norm_data_df == 0] = np.nan\n",
    "    full_asari_data_df[full_asari_data_df == 0] = np.nan\n",
    "    \n",
    "    if replace == 'half_minimum':\n",
    "        for i,row in norm_data_df.iterrows():\n",
    "            minimum_value = full_asari_data_df.loc[i,:].min()\n",
    "            row.fillna(minimum_value/2,inplace = True) # imputation is minimum\n",
    "\n",
    "    return(norm_data_df)"
   ]
  },
  {
   "cell_type": "code",
   "execution_count": 93,
   "id": "bb777ae5",
   "metadata": {},
   "outputs": [
    {
     "data": {
      "text/plain": [
       "Index(['Blank_1', 'Blank_2', 'Blank_std_1', 'Qstd_1', 'Qstd_2', 'pooled_1', 'Tn_250K_1', 'Tn_250K_2', 'CD8stem_250K_1', 'CD8stem_300K_2', 'pooled_2', 'CD8trans_350K_1', 'CD8trans_250K_2', 'CD8TD_750K_1', 'CD8TD_750K_2', 'pooled_3', 'Qstd_3', 'Blank_3', 'Klof2_1', 'Klof2_2', 'Klof2_3'], dtype='object')"
      ]
     },
     "execution_count": 93,
     "metadata": {},
     "output_type": "execute_result"
    }
   ],
   "source": [
    "# data_df contains all the samples columns including pooled blank and etc.\n",
    "grp_filt_df.columns"
   ]
  },
  {
   "cell_type": "code",
   "execution_count": 94,
   "id": "f2e15e65",
   "metadata": {},
   "outputs": [
    {
     "data": {
      "text/plain": [
       "Index(['CD8TD_750K_1', 'CD8TD_750K_2', 'CD8stem_250K_1', 'CD8stem_300K_2', 'CD8trans_250K_2', 'CD8trans_350K_1', 'Tn_250K_1', 'Tn_250K_2', 'pooled_1', 'pooled_2', 'pooled_3'], dtype='object')"
      ]
     },
     "execution_count": 94,
     "metadata": {},
     "output_type": "execute_result"
    }
   ],
   "source": [
    "# samples_df contains only relevant columns & after TIC normalization\n",
    "TICnorm_data_df.columns"
   ]
  },
  {
   "cell_type": "code",
   "execution_count": 95,
   "id": "a13bddda",
   "metadata": {},
   "outputs": [
    {
     "name": "stdout",
     "output_type": "stream",
     "text": [
      "Index(['F3', 'F5', 'F6', 'F7', 'F9'], dtype='object')\n",
      "Index(['F3', 'F5', 'F6', 'F7', 'F9'], dtype='object')\n"
     ]
    }
   ],
   "source": [
    "# Make sure they both point to Feature ID\n",
    "print(grp_filt_df.index[0:5])\n",
    "print(TICnorm_data_df.index[0:5])"
   ]
  },
  {
   "cell_type": "code",
   "execution_count": 96,
   "id": "805408c4",
   "metadata": {},
   "outputs": [],
   "source": [
    "data_df_imphMin = imputation(norm_data_df = TICnorm_data_df,\n",
    "                                       full_asari_data_df = grp_filt_df,\n",
    "                                       replace = 'half_minimum')\n",
    "\n",
    "data_df_imphMin.to_csv(\n",
    "        os.path.join(output_dir,\n",
    "                       f\"hMinImp_TICn_groupFil{group_percNA_threshold}_{mode}_blkM_featab.csv\"),index = True)"
   ]
  },
  {
   "cell_type": "code",
   "execution_count": 97,
   "id": "fc19a4e3",
   "metadata": {},
   "outputs": [
    {
     "data": {
      "text/html": [
       "<div>\n",
       "<style scoped>\n",
       "    .dataframe tbody tr th:only-of-type {\n",
       "        vertical-align: middle;\n",
       "    }\n",
       "\n",
       "    .dataframe tbody tr th {\n",
       "        vertical-align: top;\n",
       "    }\n",
       "\n",
       "    .dataframe thead th {\n",
       "        text-align: right;\n",
       "    }\n",
       "</style>\n",
       "<table border=\"1\" class=\"dataframe\">\n",
       "  <thead>\n",
       "    <tr style=\"text-align: right;\">\n",
       "      <th></th>\n",
       "      <th>CD8TD_750K_1</th>\n",
       "      <th>CD8TD_750K_2</th>\n",
       "      <th>CD8stem_250K_1</th>\n",
       "      <th>CD8stem_300K_2</th>\n",
       "      <th>CD8trans_250K_2</th>\n",
       "      <th>CD8trans_350K_1</th>\n",
       "      <th>Tn_250K_1</th>\n",
       "      <th>Tn_250K_2</th>\n",
       "      <th>pooled_1</th>\n",
       "      <th>pooled_2</th>\n",
       "      <th>pooled_3</th>\n",
       "    </tr>\n",
       "  </thead>\n",
       "  <tbody>\n",
       "    <tr>\n",
       "      <th>F3</th>\n",
       "      <td>3.925627e+06</td>\n",
       "      <td>2.764136e+06</td>\n",
       "      <td>3.761470e+06</td>\n",
       "      <td>2.480960e+06</td>\n",
       "      <td>1.651622e+06</td>\n",
       "      <td>3.896304e+06</td>\n",
       "      <td>1.064190e+06</td>\n",
       "      <td>9.574390e+05</td>\n",
       "      <td>3.116664e+06</td>\n",
       "      <td>3153499.0</td>\n",
       "      <td>3.127431e+06</td>\n",
       "    </tr>\n",
       "    <tr>\n",
       "      <th>F5</th>\n",
       "      <td>2.074735e+05</td>\n",
       "      <td>2.074735e+05</td>\n",
       "      <td>3.685037e+05</td>\n",
       "      <td>2.074735e+05</td>\n",
       "      <td>1.856975e+06</td>\n",
       "      <td>2.074735e+05</td>\n",
       "      <td>1.433644e+06</td>\n",
       "      <td>1.032423e+06</td>\n",
       "      <td>2.074735e+05</td>\n",
       "      <td>207473.5</td>\n",
       "      <td>2.074735e+05</td>\n",
       "    </tr>\n",
       "    <tr>\n",
       "      <th>F6</th>\n",
       "      <td>1.456450e+05</td>\n",
       "      <td>1.456450e+05</td>\n",
       "      <td>3.623920e+05</td>\n",
       "      <td>3.172343e+05</td>\n",
       "      <td>1.456450e+05</td>\n",
       "      <td>3.588857e+05</td>\n",
       "      <td>3.415444e+05</td>\n",
       "      <td>1.456450e+05</td>\n",
       "      <td>1.456450e+05</td>\n",
       "      <td>145645.0</td>\n",
       "      <td>1.456450e+05</td>\n",
       "    </tr>\n",
       "    <tr>\n",
       "      <th>F7</th>\n",
       "      <td>1.526970e+05</td>\n",
       "      <td>1.526970e+05</td>\n",
       "      <td>3.709788e+05</td>\n",
       "      <td>3.588835e+05</td>\n",
       "      <td>1.526970e+05</td>\n",
       "      <td>3.407542e+05</td>\n",
       "      <td>3.646677e+05</td>\n",
       "      <td>1.526970e+05</td>\n",
       "      <td>1.526970e+05</td>\n",
       "      <td>152697.0</td>\n",
       "      <td>1.526970e+05</td>\n",
       "    </tr>\n",
       "    <tr>\n",
       "      <th>F9</th>\n",
       "      <td>9.586055e+05</td>\n",
       "      <td>9.586055e+05</td>\n",
       "      <td>3.031591e+06</td>\n",
       "      <td>3.014511e+06</td>\n",
       "      <td>2.924442e+06</td>\n",
       "      <td>2.857158e+06</td>\n",
       "      <td>2.610983e+06</td>\n",
       "      <td>3.123408e+06</td>\n",
       "      <td>2.391043e+06</td>\n",
       "      <td>1917211.0</td>\n",
       "      <td>2.040713e+06</td>\n",
       "    </tr>\n",
       "  </tbody>\n",
       "</table>\n",
       "</div>"
      ],
      "text/plain": [
       "    CD8TD_750K_1  CD8TD_750K_2  CD8stem_250K_1  CD8stem_300K_2  CD8trans_250K_2  CD8trans_350K_1     Tn_250K_1     Tn_250K_2      pooled_1   pooled_2      pooled_3\n",
       "F3  3.925627e+06  2.764136e+06    3.761470e+06    2.480960e+06     1.651622e+06     3.896304e+06  1.064190e+06  9.574390e+05  3.116664e+06  3153499.0  3.127431e+06\n",
       "F5  2.074735e+05  2.074735e+05    3.685037e+05    2.074735e+05     1.856975e+06     2.074735e+05  1.433644e+06  1.032423e+06  2.074735e+05   207473.5  2.074735e+05\n",
       "F6  1.456450e+05  1.456450e+05    3.623920e+05    3.172343e+05     1.456450e+05     3.588857e+05  3.415444e+05  1.456450e+05  1.456450e+05   145645.0  1.456450e+05\n",
       "F7  1.526970e+05  1.526970e+05    3.709788e+05    3.588835e+05     1.526970e+05     3.407542e+05  3.646677e+05  1.526970e+05  1.526970e+05   152697.0  1.526970e+05\n",
       "F9  9.586055e+05  9.586055e+05    3.031591e+06    3.014511e+06     2.924442e+06     2.857158e+06  2.610983e+06  3.123408e+06  2.391043e+06  1917211.0  2.040713e+06"
      ]
     },
     "execution_count": 97,
     "metadata": {},
     "output_type": "execute_result"
    }
   ],
   "source": [
    "data_df_imphMin.head()"
   ]
  },
  {
   "cell_type": "markdown",
   "id": "e81b9e83",
   "metadata": {},
   "source": [
    "# log2 transform"
   ]
  },
  {
   "cell_type": "code",
   "execution_count": 98,
   "id": "b19ffea7",
   "metadata": {},
   "outputs": [],
   "source": [
    "def log2transform(data_df,\n",
    "                  back2Zero = False):\n",
    "    data_df[data_df == 0] = np.nan\n",
    "    data_df_log = data_df.apply(lambda x: np.log2(x)) # no need to add +1\n",
    "    if back2Zero == True:\n",
    "        data_df_log[data_df_log.isna()] = 0\n",
    "    return(data_df_log)"
   ]
  },
  {
   "cell_type": "code",
   "execution_count": 99,
   "id": "a2b8c3da",
   "metadata": {},
   "outputs": [],
   "source": [
    "# def log2transform_on_featab_wtRegExpr(feat_df,\n",
    "#                                       back2Zero = False,\n",
    "#                                       samplesRegExpr = 'Tn\\\\_[0-9]+|CD8stem\\\\_[0-9]+|CD8trans\\\\_[0-9]+|CD8TD\\\\_[0-9]|pooled|Qstd|Blank'):\n",
    "#     data_df = select_column_regExpr(feat_df,samplesRegExpr)\n",
    "#     log2_data_df = log2transform(data_df, back2Zero = back2Zero)\n",
    "#     log2_feat_df = replace_col_wtTICnorm(feat_df = feat_df,\n",
    "#                                          data_df = log2_data_df)\n",
    "#     return(log2_feat_df)"
   ]
  },
  {
   "cell_type": "markdown",
   "id": "a802a1b2",
   "metadata": {},
   "source": [
    "#### log2 transform on the imputated feature tables"
   ]
  },
  {
   "cell_type": "code",
   "execution_count": 100,
   "id": "56a7be8b",
   "metadata": {},
   "outputs": [],
   "source": [
    "log2_imphMin_data_df = log2transform(data_df_imphMin)"
   ]
  },
  {
   "cell_type": "code",
   "execution_count": 101,
   "id": "b3f84053",
   "metadata": {},
   "outputs": [
    {
     "data": {
      "text/html": [
       "<div>\n",
       "<style scoped>\n",
       "    .dataframe tbody tr th:only-of-type {\n",
       "        vertical-align: middle;\n",
       "    }\n",
       "\n",
       "    .dataframe tbody tr th {\n",
       "        vertical-align: top;\n",
       "    }\n",
       "\n",
       "    .dataframe thead th {\n",
       "        text-align: right;\n",
       "    }\n",
       "</style>\n",
       "<table border=\"1\" class=\"dataframe\">\n",
       "  <thead>\n",
       "    <tr style=\"text-align: right;\">\n",
       "      <th></th>\n",
       "      <th>CD8TD_750K_1</th>\n",
       "      <th>CD8TD_750K_2</th>\n",
       "      <th>CD8stem_250K_1</th>\n",
       "      <th>CD8stem_300K_2</th>\n",
       "      <th>CD8trans_250K_2</th>\n",
       "      <th>CD8trans_350K_1</th>\n",
       "      <th>Tn_250K_1</th>\n",
       "      <th>Tn_250K_2</th>\n",
       "      <th>pooled_1</th>\n",
       "      <th>pooled_2</th>\n",
       "      <th>pooled_3</th>\n",
       "    </tr>\n",
       "  </thead>\n",
       "  <tbody>\n",
       "    <tr>\n",
       "      <th>F3</th>\n",
       "      <td>21.904492</td>\n",
       "      <td>21.398397</td>\n",
       "      <td>21.842865</td>\n",
       "      <td>21.242467</td>\n",
       "      <td>20.655452</td>\n",
       "      <td>21.893675</td>\n",
       "      <td>20.021325</td>\n",
       "      <td>19.868821</td>\n",
       "      <td>21.571571</td>\n",
       "      <td>21.588522</td>\n",
       "      <td>21.576547</td>\n",
       "    </tr>\n",
       "    <tr>\n",
       "      <th>F5</th>\n",
       "      <td>17.662568</td>\n",
       "      <td>17.662568</td>\n",
       "      <td>18.491320</td>\n",
       "      <td>17.662568</td>\n",
       "      <td>20.824523</td>\n",
       "      <td>17.662568</td>\n",
       "      <td>20.451255</td>\n",
       "      <td>19.977603</td>\n",
       "      <td>17.662568</td>\n",
       "      <td>17.662568</td>\n",
       "      <td>17.662568</td>\n",
       "    </tr>\n",
       "    <tr>\n",
       "      <th>F6</th>\n",
       "      <td>17.152097</td>\n",
       "      <td>17.152097</td>\n",
       "      <td>18.467192</td>\n",
       "      <td>18.275189</td>\n",
       "      <td>17.152097</td>\n",
       "      <td>18.453165</td>\n",
       "      <td>18.381714</td>\n",
       "      <td>17.152097</td>\n",
       "      <td>17.152097</td>\n",
       "      <td>17.152097</td>\n",
       "      <td>17.152097</td>\n",
       "    </tr>\n",
       "    <tr>\n",
       "      <th>F7</th>\n",
       "      <td>17.220312</td>\n",
       "      <td>17.220312</td>\n",
       "      <td>18.500977</td>\n",
       "      <td>18.453156</td>\n",
       "      <td>17.220312</td>\n",
       "      <td>18.378372</td>\n",
       "      <td>18.476223</td>\n",
       "      <td>17.220312</td>\n",
       "      <td>17.220312</td>\n",
       "      <td>17.220312</td>\n",
       "      <td>17.220312</td>\n",
       "    </tr>\n",
       "    <tr>\n",
       "      <th>F9</th>\n",
       "      <td>19.870578</td>\n",
       "      <td>19.870578</td>\n",
       "      <td>21.531644</td>\n",
       "      <td>21.523493</td>\n",
       "      <td>21.479730</td>\n",
       "      <td>21.446149</td>\n",
       "      <td>21.316162</td>\n",
       "      <td>21.574690</td>\n",
       "      <td>21.189208</td>\n",
       "      <td>20.870578</td>\n",
       "      <td>20.960642</td>\n",
       "    </tr>\n",
       "  </tbody>\n",
       "</table>\n",
       "</div>"
      ],
      "text/plain": [
       "    CD8TD_750K_1  CD8TD_750K_2  CD8stem_250K_1  CD8stem_300K_2  CD8trans_250K_2  CD8trans_350K_1  Tn_250K_1  Tn_250K_2   pooled_1   pooled_2   pooled_3\n",
       "F3     21.904492     21.398397       21.842865       21.242467        20.655452        21.893675  20.021325  19.868821  21.571571  21.588522  21.576547\n",
       "F5     17.662568     17.662568       18.491320       17.662568        20.824523        17.662568  20.451255  19.977603  17.662568  17.662568  17.662568\n",
       "F6     17.152097     17.152097       18.467192       18.275189        17.152097        18.453165  18.381714  17.152097  17.152097  17.152097  17.152097\n",
       "F7     17.220312     17.220312       18.500977       18.453156        17.220312        18.378372  18.476223  17.220312  17.220312  17.220312  17.220312\n",
       "F9     19.870578     19.870578       21.531644       21.523493        21.479730        21.446149  21.316162  21.574690  21.189208  20.870578  20.960642"
      ]
     },
     "execution_count": 101,
     "metadata": {},
     "output_type": "execute_result"
    }
   ],
   "source": [
    "log2_imphMin_data_df.head()"
   ]
  },
  {
   "cell_type": "code",
   "execution_count": 102,
   "id": "f762f325",
   "metadata": {},
   "outputs": [],
   "source": [
    "log2_imphMin_data_df.to_csv(\n",
    "        os.path.join(output_dir,\n",
    "                       f\"log2_hMinImp_TICn_groupFil{group_percNA_threshold}_{mode}_blkM_featab.csv\"),index = True)"
   ]
  },
  {
   "cell_type": "markdown",
   "id": "0d4bf20a",
   "metadata": {},
   "source": [
    "-------"
   ]
  },
  {
   "cell_type": "markdown",
   "id": "7887124f",
   "metadata": {},
   "source": [
    "-----"
   ]
  },
  {
   "cell_type": "markdown",
   "id": "f242456a",
   "metadata": {},
   "source": [
    "-----"
   ]
  },
  {
   "cell_type": "markdown",
   "id": "3e7e67fe",
   "metadata": {},
   "source": [
    "## Report geometric mean of group"
   ]
  },
  {
   "cell_type": "markdown",
   "id": "7e20fa49",
   "metadata": {
    "tags": []
   },
   "source": [
    "## the end index is `12`"
   ]
  },
  {
   "cell_type": "code",
   "execution_count": 103,
   "id": "7772a657",
   "metadata": {},
   "outputs": [
    {
     "data": {
      "text/plain": [
       "Index(['CD8TD_750K_1', 'CD8TD_750K_2', 'CD8stem_250K_1', 'CD8stem_300K_2', 'CD8trans_250K_2', 'CD8trans_350K_1', 'Tn_250K_1', 'Tn_250K_2', 'pooled_1', 'pooled_2', 'pooled_3'], dtype='object')"
      ]
     },
     "execution_count": 103,
     "metadata": {},
     "output_type": "execute_result"
    }
   ],
   "source": [
    "log2_imphMin_data_df.columns[0:]"
   ]
  },
  {
   "cell_type": "code",
   "execution_count": 104,
   "id": "23cde6bc",
   "metadata": {},
   "outputs": [],
   "source": [
    "from itertools import combinations\n",
    "\n",
    "def log2FCreport(log2_feat_df, \n",
    "          groupRegExprs = ['Tn\\\\_[0-9]+','CD8stem\\\\_[0-9]+','CD8trans\\\\_[0-9]+','CD8TD\\\\_[0-9]+'], # order always the reference on the left\n",
    "          end_index = 12):\n",
    "    '''\n",
    "    The function require log2 feature table\n",
    "    Using groupRegExprs to recognize the grouped samples. Only works for explicitly coded sample identification based on the name\n",
    "    End_index is where the index end on the meta information coded in the log2_feature table\n",
    "    Currently only deals with two group comparison\n",
    "    '''\n",
    "    #' separate data table and metainfo by `end_index` (needs to define beforehand)\n",
    "    data_df = log2_feat_df.iloc[:,end_index:log2_feat_df.shape[1]]\n",
    "    log2_feat_df_meta = log2_feat_df.iloc[:,0:end_index]\n",
    "    \n",
    "    # calculate gMean first\n",
    "    group_of_mean_dict = {}\n",
    "    for group in groupRegExprs:\n",
    "        group_df = select_column_regExpr(log2_feat_df,group)\n",
    "        group_df_mean = group_df.apply(lambda row: row.mean(),axis = 1)\n",
    "        group_id = group.split('\\\\')[0]\n",
    "        log2_feat_df_meta[f'gMean_{group_id}'] = group_df_mean\n",
    "        group_of_mean_dict.update({group_id : group_df_mean})\n",
    "    \n",
    "    # calculate log2 fold change  using `group_of_mean_dict`\n",
    "    combos = list(combinations(group_of_mean_dict.keys(), 2))\n",
    "    for combo in combos:\n",
    "        log2_feat_df_meta[f'log2FC_{combo[1]}vs{combo[0]}'] = [y - x for (x,y) in zip(group_of_mean_dict[combo[0]],\n",
    "                                                                                           group_of_mean_dict[combo[1]])]\n",
    "    final_df = pd.concat([log2_feat_df_meta,data_df],axis = 1)\n",
    "    return(final_df)"
   ]
  },
  {
   "cell_type": "markdown",
   "id": "4817184a",
   "metadata": {
    "tags": []
   },
   "source": [
    "### **Imputated** TICnorm log2 data : report gMean"
   ]
  },
  {
   "cell_type": "code",
   "execution_count": 105,
   "id": "77dcde06",
   "metadata": {},
   "outputs": [],
   "source": [
    "FC_log2_TICnorm_imphMin_feat_df = log2FCreport(log2_feat_df = log2_imphMin_data_df,\n",
    "                                      end_index = 0)\n",
    "\n",
    "FC_log2_TICnorm_imphMin_feat_df.to_csv(\n",
    "        os.path.join(output_dir,\n",
    "                       f\"FC_log2_hMinImp_TICn_groupFil{group_percNA_threshold}_{mode}_blkM_featab.csv\"),index = True)"
   ]
  },
  {
   "cell_type": "markdown",
   "id": "ed8673cd",
   "metadata": {},
   "source": [
    "-------"
   ]
  },
  {
   "cell_type": "markdown",
   "id": "2453b688",
   "metadata": {},
   "source": [
    "-------"
   ]
  }
 ],
 "metadata": {
  "kernelspec": {
   "display_name": "Python 3 (ipykernel)",
   "language": "python",
   "name": "python3"
  },
  "language_info": {
   "codemirror_mode": {
    "name": "ipython",
    "version": 3
   },
   "file_extension": ".py",
   "mimetype": "text/x-python",
   "name": "python",
   "nbconvert_exporter": "python",
   "pygments_lexer": "ipython3",
   "version": "3.10.9"
  }
 },
 "nbformat": 4,
 "nbformat_minor": 5
}
