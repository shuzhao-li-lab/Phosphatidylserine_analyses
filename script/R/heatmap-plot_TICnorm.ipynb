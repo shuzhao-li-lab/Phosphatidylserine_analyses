{
 "cells": [
  {
   "cell_type": "markdown",
   "id": "89dd4a3f-1ebc-4031-9043-a7b66ad4bf6e",
   "metadata": {},
   "source": [
    "# Heatmap \n",
    "- using padj < 0.01 as the cutoff for the current analysis"
   ]
  },
  {
   "cell_type": "code",
   "execution_count": 69,
   "id": "ee3a87a3",
   "metadata": {},
   "outputs": [],
   "source": [
    "# Let the middle rows included.\n",
    "options(repr.matrix.max.rows=600, repr.matrix.max.cols=200)"
   ]
  },
  {
   "cell_type": "code",
   "execution_count": 70,
   "id": "d66aaf6a",
   "metadata": {},
   "outputs": [],
   "source": [
    "library(ggplot2)\n",
    "library(dplyr)\n",
    "library(NMF)\n",
    "library(RColorBrewer)\n",
    "library(pheatmap)\n",
    "library(RColorBrewer)\n",
    "library(ggpubr)\n",
    "library(glue)"
   ]
  },
  {
   "cell_type": "code",
   "execution_count": 71,
   "id": "7b96e230",
   "metadata": {},
   "outputs": [],
   "source": [
    "feat_df <- read.table(\"../../output/hMinImp_TICnorm_groupFil0.3_HILICpos_1wayANOVA/one_wayANOVA_hMinImp_TICnorm_groupFil0.3_HILICpos_fullreport.csv\"\n",
    "        ,row.names = 1, header = TRUE, sep = ',')"
   ]
  },
  {
   "cell_type": "code",
   "execution_count": 72,
   "id": "b894413a-e765-4064-83dc-66a318f570c7",
   "metadata": {},
   "outputs": [
    {
     "data": {
      "text/html": [
       "<table class=\"dataframe\">\n",
       "<caption>A data.frame: 6 × 40</caption>\n",
       "<thead>\n",
       "\t<tr><th></th><th scope=col>mz</th><th scope=col>rtime</th><th scope=col>rtime_left_base</th><th scope=col>rtime_right_base</th><th scope=col>parent_masstrack_id</th><th scope=col>peak_area</th><th scope=col>cSelectivity</th><th scope=col>goodness_fitting</th><th scope=col>snr</th><th scope=col>detection_counts</th><th scope=col>Naive_percNA</th><th scope=col>Naive_mean</th><th scope=col>R5neg_percNA</th><th scope=col>R5neg_mean</th><th scope=col>R5pos_percNA</th><th scope=col>R5pos_mean</th><th scope=col>gMean_Naive</th><th scope=col>gMean_R5neg</th><th scope=col>gMean_R5pos</th><th scope=col>log2FC_R5negvsNaive</th><th scope=col>log2FC_R5posvsNaive</th><th scope=col>log2FC_R5posvsR5neg</th><th scope=col>f_score</th><th scope=col>pval</th><th scope=col>padj</th><th scope=col>Tpadj_R5neg.Naive</th><th scope=col>Tpadj_R5pos.Naive</th><th scope=col>Tpadj_R5pos.R5neg</th><th scope=col>Naive_1</th><th scope=col>Naive_2</th><th scope=col>Naive_3</th><th scope=col>R5neg_1</th><th scope=col>R5neg_2</th><th scope=col>R5neg_3</th><th scope=col>R5pos_1</th><th scope=col>R5pos_2</th><th scope=col>R5pos_3</th><th scope=col>nist</th><th scope=col>q3June2014_1</th><th scope=col>q3June2014_2</th></tr>\n",
       "\t<tr><th></th><th scope=col>&lt;dbl&gt;</th><th scope=col>&lt;dbl&gt;</th><th scope=col>&lt;dbl&gt;</th><th scope=col>&lt;dbl&gt;</th><th scope=col>&lt;int&gt;</th><th scope=col>&lt;dbl&gt;</th><th scope=col>&lt;dbl&gt;</th><th scope=col>&lt;dbl&gt;</th><th scope=col>&lt;int&gt;</th><th scope=col>&lt;int&gt;</th><th scope=col>&lt;dbl&gt;</th><th scope=col>&lt;dbl&gt;</th><th scope=col>&lt;dbl&gt;</th><th scope=col>&lt;dbl&gt;</th><th scope=col>&lt;dbl&gt;</th><th scope=col>&lt;dbl&gt;</th><th scope=col>&lt;dbl&gt;</th><th scope=col>&lt;dbl&gt;</th><th scope=col>&lt;dbl&gt;</th><th scope=col>&lt;dbl&gt;</th><th scope=col>&lt;dbl&gt;</th><th scope=col>&lt;dbl&gt;</th><th scope=col>&lt;dbl&gt;</th><th scope=col>&lt;dbl&gt;</th><th scope=col>&lt;dbl&gt;</th><th scope=col>&lt;dbl&gt;</th><th scope=col>&lt;dbl&gt;</th><th scope=col>&lt;dbl&gt;</th><th scope=col>&lt;dbl&gt;</th><th scope=col>&lt;dbl&gt;</th><th scope=col>&lt;dbl&gt;</th><th scope=col>&lt;dbl&gt;</th><th scope=col>&lt;dbl&gt;</th><th scope=col>&lt;dbl&gt;</th><th scope=col>&lt;dbl&gt;</th><th scope=col>&lt;dbl&gt;</th><th scope=col>&lt;dbl&gt;</th><th scope=col>&lt;dbl&gt;</th><th scope=col>&lt;dbl&gt;</th><th scope=col>&lt;dbl&gt;</th></tr>\n",
       "</thead>\n",
       "<tbody>\n",
       "\t<tr><th scope=row>F1</th><td> 85.0044</td><td> 26.00</td><td> 19.67</td><td> 28.11</td><td>   0</td><td> 2003055</td><td>0.96</td><td>0.93</td><td>106</td><td>23</td><td>0.0000000</td><td> 70477.00</td><td>0</td><td>118403.5</td><td>0.3333333</td><td> 33095.50</td><td>15.90627</td><td>17.05434</td><td>14.35138</td><td> 1.14807506</td><td>-1.5548861</td><td>-2.7029612</td><td>  8.8937320</td><td>1.604757e-02</td><td>0.0477060464</td><td>2.525009e-01</td><td>0.11346999</td><td>1.340772e-02</td><td>14.72954</td><td>16.52419</td><td>16.46507</td><td>17.00695</td><td>17.09726</td><td>17.05882</td><td>13.45488</td><td>15.26659</td><td>14.33267</td><td>16.25446</td><td>16.29809</td><td>16.52315</td></tr>\n",
       "\t<tr><th scope=row>F100</th><td>130.9851</td><td> 25.74</td><td> 19.67</td><td> 28.89</td><td>1936</td><td> 3512837</td><td>1.00</td><td>0.97</td><td>217</td><td>24</td><td>0.0000000</td><td>150293.00</td><td>0</td><td>141202.2</td><td>0.0000000</td><td>140867.67</td><td>17.07746</td><td>17.30965</td><td>15.63098</td><td> 0.23218340</td><td>-1.4464799</td><td>-1.6786633</td><td>  0.6509183</td><td>5.548268e-01</td><td>0.6244123004</td><td>9.883995e-01</td><td>0.65587558</td><td>5.741049e-01</td><td>17.57323</td><td>17.42220</td><td>16.23697</td><td>17.33909</td><td>17.29740</td><td>17.29246</td><td>11.81848</td><td>17.58103</td><td>17.49345</td><td>17.66144</td><td>17.55834</td><td>17.36552</td></tr>\n",
       "\t<tr><th scope=row>F10000</th><td>393.2598</td><td>422.45</td><td>419.56</td><td>429.02</td><td>8551</td><td> 3235844</td><td>1.00</td><td>0.90</td><td>148</td><td>17</td><td>0.0000000</td><td> 58362.33</td><td>1</td><td>      NA</td><td>0.0000000</td><td>127009.33</td><td>15.81875</td><td>12.01507</td><td>16.72202</td><td>-3.80368821</td><td> 0.9032661</td><td> 4.7069543</td><td>164.8421502</td><td>5.710323e-06</td><td>0.0005958801</td><td>2.179699e-05</td><td>0.03849116</td><td>5.862164e-06</td><td>15.98142</td><td>15.86099</td><td>15.61386</td><td>12.01507</td><td>12.01507</td><td>12.01507</td><td>16.84734</td><td>16.11733</td><td>17.20139</td><td>19.59158</td><td>16.12541</td><td>14.16461</td></tr>\n",
       "\t<tr><th scope=row>F10004</th><td>393.2680</td><td>482.62</td><td>478.42</td><td>487.62</td><td>8553</td><td> 1092807</td><td>0.91</td><td>0.97</td><td> 51</td><td>11</td><td>0.6666667</td><td>119684.00</td><td>1</td><td>      NA</td><td>0.0000000</td><td>157185.67</td><td>15.55525</td><td>14.89055</td><td>17.06225</td><td>-0.66469949</td><td> 1.5070002</td><td> 2.1716997</td><td>  7.4844840</td><td>2.342732e-02</td><td>0.0612671337</td><td>5.185935e-01</td><td>0.08764415</td><td>2.156493e-02</td><td>14.89055</td><td>14.89055</td><td>16.88465</td><td>14.89055</td><td>14.89055</td><td>14.89055</td><td>16.86880</td><td>16.79105</td><td>17.52690</td><td>16.32349</td><td>15.94052</td><td>15.99033</td></tr>\n",
       "\t<tr><th scope=row>F10006</th><td>409.2267</td><td>310.52</td><td>291.08</td><td>330.49</td><td>8979</td><td>10810474</td><td>1.00</td><td>0.95</td><td>161</td><td>24</td><td>0.0000000</td><td>573708.67</td><td>0</td><td>527570.3</td><td>0.0000000</td><td>420937.67</td><td>19.11073</td><td>19.20785</td><td>18.51229</td><td> 0.09712025</td><td>-0.5984424</td><td>-0.6955626</td><td> 11.5954627</td><td>8.683807e-03</td><td>0.0315446686</td><td>8.145709e-01</td><td>0.02037338</td><td>1.032288e-02</td><td>18.79916</td><td>19.33012</td><td>19.20292</td><td>19.18923</td><td>19.07756</td><td>19.35677</td><td>18.49627</td><td>18.63580</td><td>18.40481</td><td>17.48562</td><td>18.17996</td><td>18.92816</td></tr>\n",
       "\t<tr><th scope=row>F10007</th><td>409.2267</td><td>348.62</td><td>344.16</td><td>364.12</td><td>8979</td><td> 2149563</td><td>1.00</td><td>0.90</td><td> 69</td><td>24</td><td>0.0000000</td><td> 17758.00</td><td>0</td><td> 23847.5</td><td>0.0000000</td><td> 19529.67</td><td>14.07489</td><td>14.63280</td><td>13.93522</td><td> 0.55791087</td><td>-0.1396680</td><td>-0.6975789</td><td>  0.7671954</td><td>5.050208e-01</td><td>0.5786421349</td><td>6.394432e-01</td><td>0.97032238</td><td>5.107099e-01</td><td>14.18142</td><td>14.40873</td><td>13.63451</td><td>15.04201</td><td>13.74698</td><td>15.10940</td><td>12.87809</td><td>14.35426</td><td>14.57330</td><td>17.59065</td><td>16.99836</td><td>17.16847</td></tr>\n",
       "</tbody>\n",
       "</table>\n"
      ],
      "text/latex": [
       "A data.frame: 6 × 40\n",
       "\\begin{tabular}{r|llllllllllllllllllllllllllllllllllllllll}\n",
       "  & mz & rtime & rtime\\_left\\_base & rtime\\_right\\_base & parent\\_masstrack\\_id & peak\\_area & cSelectivity & goodness\\_fitting & snr & detection\\_counts & Naive\\_percNA & Naive\\_mean & R5neg\\_percNA & R5neg\\_mean & R5pos\\_percNA & R5pos\\_mean & gMean\\_Naive & gMean\\_R5neg & gMean\\_R5pos & log2FC\\_R5negvsNaive & log2FC\\_R5posvsNaive & log2FC\\_R5posvsR5neg & f\\_score & pval & padj & Tpadj\\_R5neg.Naive & Tpadj\\_R5pos.Naive & Tpadj\\_R5pos.R5neg & Naive\\_1 & Naive\\_2 & Naive\\_3 & R5neg\\_1 & R5neg\\_2 & R5neg\\_3 & R5pos\\_1 & R5pos\\_2 & R5pos\\_3 & nist & q3June2014\\_1 & q3June2014\\_2\\\\\n",
       "  & <dbl> & <dbl> & <dbl> & <dbl> & <int> & <dbl> & <dbl> & <dbl> & <int> & <int> & <dbl> & <dbl> & <dbl> & <dbl> & <dbl> & <dbl> & <dbl> & <dbl> & <dbl> & <dbl> & <dbl> & <dbl> & <dbl> & <dbl> & <dbl> & <dbl> & <dbl> & <dbl> & <dbl> & <dbl> & <dbl> & <dbl> & <dbl> & <dbl> & <dbl> & <dbl> & <dbl> & <dbl> & <dbl> & <dbl>\\\\\n",
       "\\hline\n",
       "\tF1 &  85.0044 &  26.00 &  19.67 &  28.11 &    0 &  2003055 & 0.96 & 0.93 & 106 & 23 & 0.0000000 &  70477.00 & 0 & 118403.5 & 0.3333333 &  33095.50 & 15.90627 & 17.05434 & 14.35138 &  1.14807506 & -1.5548861 & -2.7029612 &   8.8937320 & 1.604757e-02 & 0.0477060464 & 2.525009e-01 & 0.11346999 & 1.340772e-02 & 14.72954 & 16.52419 & 16.46507 & 17.00695 & 17.09726 & 17.05882 & 13.45488 & 15.26659 & 14.33267 & 16.25446 & 16.29809 & 16.52315\\\\\n",
       "\tF100 & 130.9851 &  25.74 &  19.67 &  28.89 & 1936 &  3512837 & 1.00 & 0.97 & 217 & 24 & 0.0000000 & 150293.00 & 0 & 141202.2 & 0.0000000 & 140867.67 & 17.07746 & 17.30965 & 15.63098 &  0.23218340 & -1.4464799 & -1.6786633 &   0.6509183 & 5.548268e-01 & 0.6244123004 & 9.883995e-01 & 0.65587558 & 5.741049e-01 & 17.57323 & 17.42220 & 16.23697 & 17.33909 & 17.29740 & 17.29246 & 11.81848 & 17.58103 & 17.49345 & 17.66144 & 17.55834 & 17.36552\\\\\n",
       "\tF10000 & 393.2598 & 422.45 & 419.56 & 429.02 & 8551 &  3235844 & 1.00 & 0.90 & 148 & 17 & 0.0000000 &  58362.33 & 1 &       NA & 0.0000000 & 127009.33 & 15.81875 & 12.01507 & 16.72202 & -3.80368821 &  0.9032661 &  4.7069543 & 164.8421502 & 5.710323e-06 & 0.0005958801 & 2.179699e-05 & 0.03849116 & 5.862164e-06 & 15.98142 & 15.86099 & 15.61386 & 12.01507 & 12.01507 & 12.01507 & 16.84734 & 16.11733 & 17.20139 & 19.59158 & 16.12541 & 14.16461\\\\\n",
       "\tF10004 & 393.2680 & 482.62 & 478.42 & 487.62 & 8553 &  1092807 & 0.91 & 0.97 &  51 & 11 & 0.6666667 & 119684.00 & 1 &       NA & 0.0000000 & 157185.67 & 15.55525 & 14.89055 & 17.06225 & -0.66469949 &  1.5070002 &  2.1716997 &   7.4844840 & 2.342732e-02 & 0.0612671337 & 5.185935e-01 & 0.08764415 & 2.156493e-02 & 14.89055 & 14.89055 & 16.88465 & 14.89055 & 14.89055 & 14.89055 & 16.86880 & 16.79105 & 17.52690 & 16.32349 & 15.94052 & 15.99033\\\\\n",
       "\tF10006 & 409.2267 & 310.52 & 291.08 & 330.49 & 8979 & 10810474 & 1.00 & 0.95 & 161 & 24 & 0.0000000 & 573708.67 & 0 & 527570.3 & 0.0000000 & 420937.67 & 19.11073 & 19.20785 & 18.51229 &  0.09712025 & -0.5984424 & -0.6955626 &  11.5954627 & 8.683807e-03 & 0.0315446686 & 8.145709e-01 & 0.02037338 & 1.032288e-02 & 18.79916 & 19.33012 & 19.20292 & 19.18923 & 19.07756 & 19.35677 & 18.49627 & 18.63580 & 18.40481 & 17.48562 & 18.17996 & 18.92816\\\\\n",
       "\tF10007 & 409.2267 & 348.62 & 344.16 & 364.12 & 8979 &  2149563 & 1.00 & 0.90 &  69 & 24 & 0.0000000 &  17758.00 & 0 &  23847.5 & 0.0000000 &  19529.67 & 14.07489 & 14.63280 & 13.93522 &  0.55791087 & -0.1396680 & -0.6975789 &   0.7671954 & 5.050208e-01 & 0.5786421349 & 6.394432e-01 & 0.97032238 & 5.107099e-01 & 14.18142 & 14.40873 & 13.63451 & 15.04201 & 13.74698 & 15.10940 & 12.87809 & 14.35426 & 14.57330 & 17.59065 & 16.99836 & 17.16847\\\\\n",
       "\\end{tabular}\n"
      ],
      "text/markdown": [
       "\n",
       "A data.frame: 6 × 40\n",
       "\n",
       "| <!--/--> | mz &lt;dbl&gt; | rtime &lt;dbl&gt; | rtime_left_base &lt;dbl&gt; | rtime_right_base &lt;dbl&gt; | parent_masstrack_id &lt;int&gt; | peak_area &lt;dbl&gt; | cSelectivity &lt;dbl&gt; | goodness_fitting &lt;dbl&gt; | snr &lt;int&gt; | detection_counts &lt;int&gt; | Naive_percNA &lt;dbl&gt; | Naive_mean &lt;dbl&gt; | R5neg_percNA &lt;dbl&gt; | R5neg_mean &lt;dbl&gt; | R5pos_percNA &lt;dbl&gt; | R5pos_mean &lt;dbl&gt; | gMean_Naive &lt;dbl&gt; | gMean_R5neg &lt;dbl&gt; | gMean_R5pos &lt;dbl&gt; | log2FC_R5negvsNaive &lt;dbl&gt; | log2FC_R5posvsNaive &lt;dbl&gt; | log2FC_R5posvsR5neg &lt;dbl&gt; | f_score &lt;dbl&gt; | pval &lt;dbl&gt; | padj &lt;dbl&gt; | Tpadj_R5neg.Naive &lt;dbl&gt; | Tpadj_R5pos.Naive &lt;dbl&gt; | Tpadj_R5pos.R5neg &lt;dbl&gt; | Naive_1 &lt;dbl&gt; | Naive_2 &lt;dbl&gt; | Naive_3 &lt;dbl&gt; | R5neg_1 &lt;dbl&gt; | R5neg_2 &lt;dbl&gt; | R5neg_3 &lt;dbl&gt; | R5pos_1 &lt;dbl&gt; | R5pos_2 &lt;dbl&gt; | R5pos_3 &lt;dbl&gt; | nist &lt;dbl&gt; | q3June2014_1 &lt;dbl&gt; | q3June2014_2 &lt;dbl&gt; |\n",
       "|---|---|---|---|---|---|---|---|---|---|---|---|---|---|---|---|---|---|---|---|---|---|---|---|---|---|---|---|---|---|---|---|---|---|---|---|---|---|---|---|---|\n",
       "| F1 |  85.0044 |  26.00 |  19.67 |  28.11 |    0 |  2003055 | 0.96 | 0.93 | 106 | 23 | 0.0000000 |  70477.00 | 0 | 118403.5 | 0.3333333 |  33095.50 | 15.90627 | 17.05434 | 14.35138 |  1.14807506 | -1.5548861 | -2.7029612 |   8.8937320 | 1.604757e-02 | 0.0477060464 | 2.525009e-01 | 0.11346999 | 1.340772e-02 | 14.72954 | 16.52419 | 16.46507 | 17.00695 | 17.09726 | 17.05882 | 13.45488 | 15.26659 | 14.33267 | 16.25446 | 16.29809 | 16.52315 |\n",
       "| F100 | 130.9851 |  25.74 |  19.67 |  28.89 | 1936 |  3512837 | 1.00 | 0.97 | 217 | 24 | 0.0000000 | 150293.00 | 0 | 141202.2 | 0.0000000 | 140867.67 | 17.07746 | 17.30965 | 15.63098 |  0.23218340 | -1.4464799 | -1.6786633 |   0.6509183 | 5.548268e-01 | 0.6244123004 | 9.883995e-01 | 0.65587558 | 5.741049e-01 | 17.57323 | 17.42220 | 16.23697 | 17.33909 | 17.29740 | 17.29246 | 11.81848 | 17.58103 | 17.49345 | 17.66144 | 17.55834 | 17.36552 |\n",
       "| F10000 | 393.2598 | 422.45 | 419.56 | 429.02 | 8551 |  3235844 | 1.00 | 0.90 | 148 | 17 | 0.0000000 |  58362.33 | 1 |       NA | 0.0000000 | 127009.33 | 15.81875 | 12.01507 | 16.72202 | -3.80368821 |  0.9032661 |  4.7069543 | 164.8421502 | 5.710323e-06 | 0.0005958801 | 2.179699e-05 | 0.03849116 | 5.862164e-06 | 15.98142 | 15.86099 | 15.61386 | 12.01507 | 12.01507 | 12.01507 | 16.84734 | 16.11733 | 17.20139 | 19.59158 | 16.12541 | 14.16461 |\n",
       "| F10004 | 393.2680 | 482.62 | 478.42 | 487.62 | 8553 |  1092807 | 0.91 | 0.97 |  51 | 11 | 0.6666667 | 119684.00 | 1 |       NA | 0.0000000 | 157185.67 | 15.55525 | 14.89055 | 17.06225 | -0.66469949 |  1.5070002 |  2.1716997 |   7.4844840 | 2.342732e-02 | 0.0612671337 | 5.185935e-01 | 0.08764415 | 2.156493e-02 | 14.89055 | 14.89055 | 16.88465 | 14.89055 | 14.89055 | 14.89055 | 16.86880 | 16.79105 | 17.52690 | 16.32349 | 15.94052 | 15.99033 |\n",
       "| F10006 | 409.2267 | 310.52 | 291.08 | 330.49 | 8979 | 10810474 | 1.00 | 0.95 | 161 | 24 | 0.0000000 | 573708.67 | 0 | 527570.3 | 0.0000000 | 420937.67 | 19.11073 | 19.20785 | 18.51229 |  0.09712025 | -0.5984424 | -0.6955626 |  11.5954627 | 8.683807e-03 | 0.0315446686 | 8.145709e-01 | 0.02037338 | 1.032288e-02 | 18.79916 | 19.33012 | 19.20292 | 19.18923 | 19.07756 | 19.35677 | 18.49627 | 18.63580 | 18.40481 | 17.48562 | 18.17996 | 18.92816 |\n",
       "| F10007 | 409.2267 | 348.62 | 344.16 | 364.12 | 8979 |  2149563 | 1.00 | 0.90 |  69 | 24 | 0.0000000 |  17758.00 | 0 |  23847.5 | 0.0000000 |  19529.67 | 14.07489 | 14.63280 | 13.93522 |  0.55791087 | -0.1396680 | -0.6975789 |   0.7671954 | 5.050208e-01 | 0.5786421349 | 6.394432e-01 | 0.97032238 | 5.107099e-01 | 14.18142 | 14.40873 | 13.63451 | 15.04201 | 13.74698 | 15.10940 | 12.87809 | 14.35426 | 14.57330 | 17.59065 | 16.99836 | 17.16847 |\n",
       "\n"
      ],
      "text/plain": [
       "       mz       rtime  rtime_left_base rtime_right_base parent_masstrack_id\n",
       "F1      85.0044  26.00  19.67           28.11              0               \n",
       "F100   130.9851  25.74  19.67           28.89           1936               \n",
       "F10000 393.2598 422.45 419.56          429.02           8551               \n",
       "F10004 393.2680 482.62 478.42          487.62           8553               \n",
       "F10006 409.2267 310.52 291.08          330.49           8979               \n",
       "F10007 409.2267 348.62 344.16          364.12           8979               \n",
       "       peak_area cSelectivity goodness_fitting snr detection_counts\n",
       "F1      2003055  0.96         0.93             106 23              \n",
       "F100    3512837  1.00         0.97             217 24              \n",
       "F10000  3235844  1.00         0.90             148 17              \n",
       "F10004  1092807  0.91         0.97              51 11              \n",
       "F10006 10810474  1.00         0.95             161 24              \n",
       "F10007  2149563  1.00         0.90              69 24              \n",
       "       Naive_percNA Naive_mean R5neg_percNA R5neg_mean R5pos_percNA R5pos_mean\n",
       "F1     0.0000000     70477.00  0            118403.5   0.3333333     33095.50 \n",
       "F100   0.0000000    150293.00  0            141202.2   0.0000000    140867.67 \n",
       "F10000 0.0000000     58362.33  1                  NA   0.0000000    127009.33 \n",
       "F10004 0.6666667    119684.00  1                  NA   0.0000000    157185.67 \n",
       "F10006 0.0000000    573708.67  0            527570.3   0.0000000    420937.67 \n",
       "F10007 0.0000000     17758.00  0             23847.5   0.0000000     19529.67 \n",
       "       gMean_Naive gMean_R5neg gMean_R5pos log2FC_R5negvsNaive\n",
       "F1     15.90627    17.05434    14.35138     1.14807506        \n",
       "F100   17.07746    17.30965    15.63098     0.23218340        \n",
       "F10000 15.81875    12.01507    16.72202    -3.80368821        \n",
       "F10004 15.55525    14.89055    17.06225    -0.66469949        \n",
       "F10006 19.11073    19.20785    18.51229     0.09712025        \n",
       "F10007 14.07489    14.63280    13.93522     0.55791087        \n",
       "       log2FC_R5posvsNaive log2FC_R5posvsR5neg f_score     pval        \n",
       "F1     -1.5548861          -2.7029612            8.8937320 1.604757e-02\n",
       "F100   -1.4464799          -1.6786633            0.6509183 5.548268e-01\n",
       "F10000  0.9032661           4.7069543          164.8421502 5.710323e-06\n",
       "F10004  1.5070002           2.1716997            7.4844840 2.342732e-02\n",
       "F10006 -0.5984424          -0.6955626           11.5954627 8.683807e-03\n",
       "F10007 -0.1396680          -0.6975789            0.7671954 5.050208e-01\n",
       "       padj         Tpadj_R5neg.Naive Tpadj_R5pos.Naive Tpadj_R5pos.R5neg\n",
       "F1     0.0477060464 2.525009e-01      0.11346999        1.340772e-02     \n",
       "F100   0.6244123004 9.883995e-01      0.65587558        5.741049e-01     \n",
       "F10000 0.0005958801 2.179699e-05      0.03849116        5.862164e-06     \n",
       "F10004 0.0612671337 5.185935e-01      0.08764415        2.156493e-02     \n",
       "F10006 0.0315446686 8.145709e-01      0.02037338        1.032288e-02     \n",
       "F10007 0.5786421349 6.394432e-01      0.97032238        5.107099e-01     \n",
       "       Naive_1  Naive_2  Naive_3  R5neg_1  R5neg_2  R5neg_3  R5pos_1  R5pos_2 \n",
       "F1     14.72954 16.52419 16.46507 17.00695 17.09726 17.05882 13.45488 15.26659\n",
       "F100   17.57323 17.42220 16.23697 17.33909 17.29740 17.29246 11.81848 17.58103\n",
       "F10000 15.98142 15.86099 15.61386 12.01507 12.01507 12.01507 16.84734 16.11733\n",
       "F10004 14.89055 14.89055 16.88465 14.89055 14.89055 14.89055 16.86880 16.79105\n",
       "F10006 18.79916 19.33012 19.20292 19.18923 19.07756 19.35677 18.49627 18.63580\n",
       "F10007 14.18142 14.40873 13.63451 15.04201 13.74698 15.10940 12.87809 14.35426\n",
       "       R5pos_3  nist     q3June2014_1 q3June2014_2\n",
       "F1     14.33267 16.25446 16.29809     16.52315    \n",
       "F100   17.49345 17.66144 17.55834     17.36552    \n",
       "F10000 17.20139 19.59158 16.12541     14.16461    \n",
       "F10004 17.52690 16.32349 15.94052     15.99033    \n",
       "F10006 18.40481 17.48562 18.17996     18.92816    \n",
       "F10007 14.57330 17.59065 16.99836     17.16847    "
      ]
     },
     "metadata": {},
     "output_type": "display_data"
    }
   ],
   "source": [
    "head(feat_df)"
   ]
  },
  {
   "cell_type": "code",
   "execution_count": 73,
   "id": "7f83563d",
   "metadata": {},
   "outputs": [],
   "source": [
    "meta_df <- read.table(\"../../input/sequence_file/clean_deduplicated_meta_df.csv\",\n",
    "                     header = TRUE, sep = ',', row.names = 1)"
   ]
  },
  {
   "cell_type": "code",
   "execution_count": 74,
   "id": "d1ff1174",
   "metadata": {},
   "outputs": [
    {
     "data": {
      "text/html": [
       "<table class=\"dataframe\">\n",
       "<caption>A data.frame: 5 × 3</caption>\n",
       "<thead>\n",
       "\t<tr><th></th><th scope=col>class</th><th scope=col>biological_samples</th><th scope=col>cell_number</th></tr>\n",
       "\t<tr><th></th><th scope=col>&lt;chr&gt;</th><th scope=col>&lt;chr&gt;</th><th scope=col>&lt;int&gt;</th></tr>\n",
       "</thead>\n",
       "<tbody>\n",
       "\t<tr><th scope=row>Naive_1</th><td>Naive</td><td>Yes</td><td>300</td></tr>\n",
       "\t<tr><th scope=row>Naive_2</th><td>Naive</td><td>Yes</td><td>300</td></tr>\n",
       "\t<tr><th scope=row>Naive_3</th><td>Naive</td><td>Yes</td><td>300</td></tr>\n",
       "\t<tr><th scope=row>R5neg_1</th><td>R5neg</td><td>Yes</td><td>655</td></tr>\n",
       "\t<tr><th scope=row>R5neg_2</th><td>R5neg</td><td>Yes</td><td>687</td></tr>\n",
       "</tbody>\n",
       "</table>\n"
      ],
      "text/latex": [
       "A data.frame: 5 × 3\n",
       "\\begin{tabular}{r|lll}\n",
       "  & class & biological\\_samples & cell\\_number\\\\\n",
       "  & <chr> & <chr> & <int>\\\\\n",
       "\\hline\n",
       "\tNaive\\_1 & Naive & Yes & 300\\\\\n",
       "\tNaive\\_2 & Naive & Yes & 300\\\\\n",
       "\tNaive\\_3 & Naive & Yes & 300\\\\\n",
       "\tR5neg\\_1 & R5neg & Yes & 655\\\\\n",
       "\tR5neg\\_2 & R5neg & Yes & 687\\\\\n",
       "\\end{tabular}\n"
      ],
      "text/markdown": [
       "\n",
       "A data.frame: 5 × 3\n",
       "\n",
       "| <!--/--> | class &lt;chr&gt; | biological_samples &lt;chr&gt; | cell_number &lt;int&gt; |\n",
       "|---|---|---|---|\n",
       "| Naive_1 | Naive | Yes | 300 |\n",
       "| Naive_2 | Naive | Yes | 300 |\n",
       "| Naive_3 | Naive | Yes | 300 |\n",
       "| R5neg_1 | R5neg | Yes | 655 |\n",
       "| R5neg_2 | R5neg | Yes | 687 |\n",
       "\n"
      ],
      "text/plain": [
       "        class biological_samples cell_number\n",
       "Naive_1 Naive Yes                300        \n",
       "Naive_2 Naive Yes                300        \n",
       "Naive_3 Naive Yes                300        \n",
       "R5neg_1 R5neg Yes                655        \n",
       "R5neg_2 R5neg Yes                687        "
      ]
     },
     "metadata": {},
     "output_type": "display_data"
    }
   ],
   "source": [
    "head(meta_df,5)"
   ]
  },
  {
   "cell_type": "code",
   "execution_count": 75,
   "id": "17d0200f",
   "metadata": {},
   "outputs": [
    {
     "data": {
      "text/html": [
       "<style>\n",
       ".list-inline {list-style: none; margin:0; padding: 0}\n",
       ".list-inline>li {display: inline-block}\n",
       ".list-inline>li:not(:last-child)::after {content: \"\\00b7\"; padding: 0 .5ex}\n",
       "</style>\n",
       "<ol class=list-inline><li>'Naive_1'</li><li>'Naive_2'</li><li>'Naive_3'</li><li>'R5neg_1'</li><li>'R5neg_2'</li><li>'R5neg_3'</li><li>'R5pos_1'</li><li>'R5pos_2'</li><li>'R5pos_3'</li></ol>\n"
      ],
      "text/latex": [
       "\\begin{enumerate*}\n",
       "\\item 'Naive\\_1'\n",
       "\\item 'Naive\\_2'\n",
       "\\item 'Naive\\_3'\n",
       "\\item 'R5neg\\_1'\n",
       "\\item 'R5neg\\_2'\n",
       "\\item 'R5neg\\_3'\n",
       "\\item 'R5pos\\_1'\n",
       "\\item 'R5pos\\_2'\n",
       "\\item 'R5pos\\_3'\n",
       "\\end{enumerate*}\n"
      ],
      "text/markdown": [
       "1. 'Naive_1'\n",
       "2. 'Naive_2'\n",
       "3. 'Naive_3'\n",
       "4. 'R5neg_1'\n",
       "5. 'R5neg_2'\n",
       "6. 'R5neg_3'\n",
       "7. 'R5pos_1'\n",
       "8. 'R5pos_2'\n",
       "9. 'R5pos_3'\n",
       "\n",
       "\n"
      ],
      "text/plain": [
       "[1] \"Naive_1\" \"Naive_2\" \"Naive_3\" \"R5neg_1\" \"R5neg_2\" \"R5neg_3\" \"R5pos_1\"\n",
       "[8] \"R5pos_2\" \"R5pos_3\""
      ]
     },
     "metadata": {},
     "output_type": "display_data"
    },
    {
     "data": {
      "text/html": [
       "9"
      ],
      "text/latex": [
       "9"
      ],
      "text/markdown": [
       "9"
      ],
      "text/plain": [
       "[1] 9"
      ]
     },
     "metadata": {},
     "output_type": "display_data"
    },
    {
     "data": {
      "text/html": [
       "<style>\n",
       ".list-inline {list-style: none; margin:0; padding: 0}\n",
       ".list-inline>li {display: inline-block}\n",
       ".list-inline>li:not(:last-child)::after {content: \"\\00b7\"; padding: 0 .5ex}\n",
       "</style>\n",
       "<ol class=list-inline><li>'padj'</li><li>'Tpadj_R5neg.Naive'</li><li>'Tpadj_R5pos.Naive'</li><li>'Tpadj_R5pos.R5neg'</li></ol>\n"
      ],
      "text/latex": [
       "\\begin{enumerate*}\n",
       "\\item 'padj'\n",
       "\\item 'Tpadj\\_R5neg.Naive'\n",
       "\\item 'Tpadj\\_R5pos.Naive'\n",
       "\\item 'Tpadj\\_R5pos.R5neg'\n",
       "\\end{enumerate*}\n"
      ],
      "text/markdown": [
       "1. 'padj'\n",
       "2. 'Tpadj_R5neg.Naive'\n",
       "3. 'Tpadj_R5pos.Naive'\n",
       "4. 'Tpadj_R5pos.R5neg'\n",
       "\n",
       "\n"
      ],
      "text/plain": [
       "[1] \"padj\"              \"Tpadj_R5neg.Naive\" \"Tpadj_R5pos.Naive\"\n",
       "[4] \"Tpadj_R5pos.R5neg\""
      ]
     },
     "metadata": {},
     "output_type": "display_data"
    }
   ],
   "source": [
    "sample_names = colnames(feat_df)[grepl('Naive\\\\_[0-9]+|R5pos\\\\_[0-9]+|R5neg\\\\_[0-9]+',colnames(feat_df))]\n",
    "sample_names\n",
    "length(sample_names)\n",
    "padj_columns = colnames(feat_df[grepl('padj',colnames(feat_df))]);padj_columns"
   ]
  },
  {
   "cell_type": "code",
   "execution_count": 76,
   "id": "32f67015",
   "metadata": {},
   "outputs": [
    {
     "data": {
      "text/html": [
       "<style>\n",
       ".list-inline {list-style: none; margin:0; padding: 0}\n",
       ".list-inline>li {display: inline-block}\n",
       ".list-inline>li:not(:last-child)::after {content: \"\\00b7\"; padding: 0 .5ex}\n",
       "</style>\n",
       "<ol class=list-inline><li>'class'</li><li>'biological_samples'</li><li>'cell_number'</li></ol>\n"
      ],
      "text/latex": [
       "\\begin{enumerate*}\n",
       "\\item 'class'\n",
       "\\item 'biological\\_samples'\n",
       "\\item 'cell\\_number'\n",
       "\\end{enumerate*}\n"
      ],
      "text/markdown": [
       "1. 'class'\n",
       "2. 'biological_samples'\n",
       "3. 'cell_number'\n",
       "\n",
       "\n"
      ],
      "text/plain": [
       "[1] \"class\"              \"biological_samples\" \"cell_number\"       "
      ]
     },
     "metadata": {},
     "output_type": "display_data"
    }
   ],
   "source": [
    "colnames(meta_df)"
   ]
  },
  {
   "cell_type": "markdown",
   "id": "772fb93f",
   "metadata": {},
   "source": [
    "# Define filtering level - FDR control"
   ]
  },
  {
   "cell_type": "code",
   "execution_count": 77,
   "id": "7c324e4f",
   "metadata": {},
   "outputs": [],
   "source": [
    "filtered_level = 0.01\n",
    "feat_df.filt = feat_df[feat_df$padj < filtered_level & !is.na(feat_df$padj),]"
   ]
  },
  {
   "cell_type": "code",
   "execution_count": 78,
   "id": "f8497981-28b0-4691-9832-6067d994f732",
   "metadata": {},
   "outputs": [
    {
     "data": {
      "text/html": [
       "<style>\n",
       ".list-inline {list-style: none; margin:0; padding: 0}\n",
       ".list-inline>li {display: inline-block}\n",
       ".list-inline>li:not(:last-child)::after {content: \"\\00b7\"; padding: 0 .5ex}\n",
       "</style>\n",
       "<ol class=list-inline><li>556</li><li>40</li></ol>\n"
      ],
      "text/latex": [
       "\\begin{enumerate*}\n",
       "\\item 556\n",
       "\\item 40\n",
       "\\end{enumerate*}\n"
      ],
      "text/markdown": [
       "1. 556\n",
       "2. 40\n",
       "\n",
       "\n"
      ],
      "text/plain": [
       "[1] 556  40"
      ]
     },
     "metadata": {},
     "output_type": "display_data"
    }
   ],
   "source": [
    "dim(feat_df.filt)"
   ]
  },
  {
   "cell_type": "markdown",
   "id": "50431841-66f4-467b-86e2-9371975cbd85",
   "metadata": {},
   "source": [
    "## subset datatable with only data values"
   ]
  },
  {
   "cell_type": "code",
   "execution_count": 79,
   "id": "e2bcceaa-fdba-452d-ab0f-ddbb3c4c8149",
   "metadata": {},
   "outputs": [],
   "source": [
    "feat_df.filt.data = feat_df.filt[sample_names]"
   ]
  },
  {
   "cell_type": "markdown",
   "id": "0f8b0535-f89b-455c-9647-802afdd51a2f",
   "metadata": {},
   "source": [
    "# Plot heatmap wrapper function"
   ]
  },
  {
   "cell_type": "code",
   "execution_count": 80,
   "id": "ff4c9748",
   "metadata": {},
   "outputs": [],
   "source": [
    "feat_df.filt.data.scale <- t(scale(t(feat_df.filt.data)))"
   ]
  },
  {
   "cell_type": "code",
   "execution_count": 81,
   "id": "e55fe7e2",
   "metadata": {},
   "outputs": [
    {
     "data": {
      "text/html": [
       "<style>\n",
       ".list-inline {list-style: none; margin:0; padding: 0}\n",
       ".list-inline>li {display: inline-block}\n",
       ".list-inline>li:not(:last-child)::after {content: \"\\00b7\"; padding: 0 .5ex}\n",
       "</style>\n",
       "<ol class=list-inline><li>-1.85601890402523</li><li>2.00072973703783</li></ol>\n"
      ],
      "text/latex": [
       "\\begin{enumerate*}\n",
       "\\item -1.85601890402523\n",
       "\\item 2.00072973703783\n",
       "\\end{enumerate*}\n"
      ],
      "text/markdown": [
       "1. -1.85601890402523\n",
       "2. 2.00072973703783\n",
       "\n",
       "\n"
      ],
      "text/plain": [
       "[1] -1.856019  2.000730"
      ]
     },
     "metadata": {},
     "output_type": "display_data"
    }
   ],
   "source": [
    "range(feat_df.filt.data.scale, na.rm = TRUE)"
   ]
  },
  {
   "cell_type": "markdown",
   "id": "351ea19c",
   "metadata": {},
   "source": [
    "#### columns and rows annotation"
   ]
  },
  {
   "cell_type": "code",
   "execution_count": 82,
   "id": "ebd3c980-f805-431f-848b-5a1bb76e3ce1",
   "metadata": {},
   "outputs": [
    {
     "data": {
      "text/html": [
       "<style>\n",
       ".list-inline {list-style: none; margin:0; padding: 0}\n",
       ".list-inline>li {display: inline-block}\n",
       ".list-inline>li:not(:last-child)::after {content: \"\\00b7\"; padding: 0 .5ex}\n",
       "</style>\n",
       "<ol class=list-inline><li>'class'</li><li>'biological_samples'</li><li>'cell_number'</li></ol>\n"
      ],
      "text/latex": [
       "\\begin{enumerate*}\n",
       "\\item 'class'\n",
       "\\item 'biological\\_samples'\n",
       "\\item 'cell\\_number'\n",
       "\\end{enumerate*}\n"
      ],
      "text/markdown": [
       "1. 'class'\n",
       "2. 'biological_samples'\n",
       "3. 'cell_number'\n",
       "\n",
       "\n"
      ],
      "text/plain": [
       "[1] \"class\"              \"biological_samples\" \"cell_number\"       "
      ]
     },
     "metadata": {},
     "output_type": "display_data"
    }
   ],
   "source": [
    "colnames(meta_df)"
   ]
  },
  {
   "cell_type": "code",
   "execution_count": 83,
   "id": "83187dd9-9b4b-4595-b31f-0add186738bc",
   "metadata": {},
   "outputs": [
    {
     "data": {
      "text/html": [
       "<style>\n",
       ".list-inline {list-style: none; margin:0; padding: 0}\n",
       ".list-inline>li {display: inline-block}\n",
       ".list-inline>li:not(:last-child)::after {content: \"\\00b7\"; padding: 0 .5ex}\n",
       "</style>\n",
       "<ol class=list-inline><li>'Naive'</li><li>'R5neg'</li><li>'R5pos'</li></ol>\n"
      ],
      "text/latex": [
       "\\begin{enumerate*}\n",
       "\\item 'Naive'\n",
       "\\item 'R5neg'\n",
       "\\item 'R5pos'\n",
       "\\end{enumerate*}\n"
      ],
      "text/markdown": [
       "1. 'Naive'\n",
       "2. 'R5neg'\n",
       "3. 'R5pos'\n",
       "\n",
       "\n"
      ],
      "text/plain": [
       "[1] \"Naive\" \"R5neg\" \"R5pos\""
      ]
     },
     "metadata": {},
     "output_type": "display_data"
    }
   ],
   "source": [
    "unique(meta_df$class)"
   ]
  },
  {
   "cell_type": "markdown",
   "id": "a11149ef-4a70-433d-ae51-8b1402a5e022",
   "metadata": {},
   "source": [
    "## Since the metadata is not exclusively the data "
   ]
  },
  {
   "cell_type": "code",
   "execution_count": 84,
   "id": "7b0b9d69-80da-41fa-b02f-031206006be9",
   "metadata": {},
   "outputs": [],
   "source": [
    "# since the row names are the sample.ID used in data colnames\n",
    "meta_df = meta_df[sample_names,]"
   ]
  },
  {
   "cell_type": "code",
   "execution_count": 85,
   "id": "daee90e8-36a9-4ccb-ac92-61a85baa1f31",
   "metadata": {},
   "outputs": [],
   "source": [
    "assign_values4annot <- function(df = feat_df.filt.data.scale, \n",
    "                                meta_column_name = 'class') {  \n",
    "    Var_vec = colnames(df)\n",
    "    for (factor_level in unique(meta_df[,meta_column_name])) {\n",
    "        Var_vec[Var_vec %in% \n",
    "                 rownames(meta_df[meta_df[,meta_column_name] == factor_level,])] = factor_level\n",
    "        }\n",
    "    return(Var_vec)\n",
    "}"
   ]
  },
  {
   "cell_type": "code",
   "execution_count": 86,
   "id": "24524412-3c8e-4f74-9308-6b9a86b1430c",
   "metadata": {
    "tags": []
   },
   "outputs": [],
   "source": [
    "Var1_vec = assign_values4annot(feat_df.filt.data.scale, 'class')"
   ]
  },
  {
   "cell_type": "code",
   "execution_count": 87,
   "id": "b92c6c1f",
   "metadata": {},
   "outputs": [],
   "source": [
    "annotation_col = data.frame(class = Var1_vec)\n",
    "rownames(annotation_col) = colnames(feat_df.filt.data.scale)                            \n",
    "\n",
    "# annotation_col = data.frame(illness_duration = Var1_vec, \n",
    "#                             gender = Var2_vec, \n",
    "#                             age = Var3_vec)\n",
    "# rownames(annotation_col) = colnames(feat_df.filt.data.scale)"
   ]
  },
  {
   "cell_type": "code",
   "execution_count": 88,
   "id": "af8a1798-4d47-4f46-8077-0a1466a03fb4",
   "metadata": {},
   "outputs": [],
   "source": [
    "# since age is continuous measure (integers), needs to convert to integers\n",
    "# annotation_col$age = as.integer(annotation_col$age)"
   ]
  },
  {
   "cell_type": "code",
   "execution_count": 89,
   "id": "11d4baa7",
   "metadata": {},
   "outputs": [
    {
     "data": {
      "text/html": [
       "<style>\n",
       ".list-inline {list-style: none; margin:0; padding: 0}\n",
       ".list-inline>li {display: inline-block}\n",
       ".list-inline>li:not(:last-child)::after {content: \"\\00b7\"; padding: 0 .5ex}\n",
       "</style>\n",
       "<ol class=list-inline><li>'Naive'</li><li>'Naive'</li><li>'Naive'</li><li>'R5neg'</li><li>'R5neg'</li><li>'R5neg'</li><li>'R5pos'</li><li>'R5pos'</li><li>'R5pos'</li></ol>\n"
      ],
      "text/latex": [
       "\\begin{enumerate*}\n",
       "\\item 'Naive'\n",
       "\\item 'Naive'\n",
       "\\item 'Naive'\n",
       "\\item 'R5neg'\n",
       "\\item 'R5neg'\n",
       "\\item 'R5neg'\n",
       "\\item 'R5pos'\n",
       "\\item 'R5pos'\n",
       "\\item 'R5pos'\n",
       "\\end{enumerate*}\n"
      ],
      "text/markdown": [
       "1. 'Naive'\n",
       "2. 'Naive'\n",
       "3. 'Naive'\n",
       "4. 'R5neg'\n",
       "5. 'R5neg'\n",
       "6. 'R5neg'\n",
       "7. 'R5pos'\n",
       "8. 'R5pos'\n",
       "9. 'R5pos'\n",
       "\n",
       "\n"
      ],
      "text/plain": [
       "[1] \"Naive\" \"Naive\" \"Naive\" \"R5neg\" \"R5neg\" \"R5neg\" \"R5pos\" \"R5pos\" \"R5pos\""
      ]
     },
     "metadata": {},
     "output_type": "display_data"
    }
   ],
   "source": [
    "annotation_col$class"
   ]
  },
  {
   "cell_type": "markdown",
   "id": "e5516950-2b55-4173-bdcf-895777990efc",
   "metadata": {},
   "source": [
    "#### Annotation of rows (here don't have these)"
   ]
  },
  {
   "cell_type": "code",
   "execution_count": 90,
   "id": "45935191-d55e-4086-9f87-02960f6c12aa",
   "metadata": {},
   "outputs": [],
   "source": [
    "# panel_vec = sapply(strsplit(rownames(feat_df.filt.data.scale),\"_\",1),function(x)x[1])\n",
    "# annotation_row = data.frame(panel = panel_vec) \n",
    "# rownames(annotation_row) = rownames(feat_df.filt.data.scale)"
   ]
  },
  {
   "cell_type": "markdown",
   "id": "43884a5d-fcc7-41bc-af18-afbfe45764cf",
   "metadata": {},
   "source": [
    "## Assign colors"
   ]
  },
  {
   "cell_type": "code",
   "execution_count": 91,
   "id": "95e4fe04",
   "metadata": {},
   "outputs": [],
   "source": [
    "class = c(\"#888888\",\"#0000ff\",\"#ff0000\")\n",
    "names(class) = c(\"Naive\",\"R5pos\",\"R5neg\")\n",
    "\n",
    "# gender = c(\"#FF7A33\", \"#33D7FF\")\n",
    "# names(gender) = c(\"Female\",\"Male\")"
   ]
  },
  {
   "cell_type": "code",
   "execution_count": 92,
   "id": "4a8c3274",
   "metadata": {},
   "outputs": [],
   "source": [
    "ann_colors = list(class = class)\n",
    "# ann_colors = list(illness_duration = illness_duration, \n",
    "#                   gender = gender,\n",
    "#                   age = age\n",
    "#                  )"
   ]
  },
  {
   "cell_type": "code",
   "execution_count": 93,
   "id": "24bfb53e-72bf-4364-8829-7c6914f91162",
   "metadata": {},
   "outputs": [
    {
     "data": {
      "text/html": [
       "<style>\n",
       ".list-inline {list-style: none; margin:0; padding: 0}\n",
       ".list-inline>li {display: inline-block}\n",
       ".list-inline>li:not(:last-child)::after {content: \"\\00b7\"; padding: 0 .5ex}\n",
       "</style>\n",
       "<ol class=list-inline><li>-1.85601890402523</li><li>2.00072973703783</li></ol>\n"
      ],
      "text/latex": [
       "\\begin{enumerate*}\n",
       "\\item -1.85601890402523\n",
       "\\item 2.00072973703783\n",
       "\\end{enumerate*}\n"
      ],
      "text/markdown": [
       "1. -1.85601890402523\n",
       "2. 2.00072973703783\n",
       "\n",
       "\n"
      ],
      "text/plain": [
       "[1] -1.856019  2.000730"
      ]
     },
     "metadata": {},
     "output_type": "display_data"
    }
   ],
   "source": [
    "range(feat_df.filt.data.scale) #check the range of z_transformed"
   ]
  },
  {
   "cell_type": "code",
   "execution_count": 94,
   "id": "935be085-437a-4738-8bb9-a151d6bf6de3",
   "metadata": {},
   "outputs": [],
   "source": [
    "feat_df.filt.data.scale[feat_df.filt.data.scale < -2] = -2\n",
    "feat_df.filt.data.scale[feat_df.filt.data.scale > 2] = 2"
   ]
  },
  {
   "cell_type": "code",
   "execution_count": 95,
   "id": "0eb3dcec-ef82-40f3-992f-90d2c4e05b96",
   "metadata": {},
   "outputs": [
    {
     "data": {
      "text/html": [
       "<style>\n",
       ".list-inline {list-style: none; margin:0; padding: 0}\n",
       ".list-inline>li {display: inline-block}\n",
       ".list-inline>li:not(:last-child)::after {content: \"\\00b7\"; padding: 0 .5ex}\n",
       "</style>\n",
       "<ol class=list-inline><li>-1.85601890402523</li><li>2</li></ol>\n"
      ],
      "text/latex": [
       "\\begin{enumerate*}\n",
       "\\item -1.85601890402523\n",
       "\\item 2\n",
       "\\end{enumerate*}\n"
      ],
      "text/markdown": [
       "1. -1.85601890402523\n",
       "2. 2\n",
       "\n",
       "\n"
      ],
      "text/plain": [
       "[1] -1.856019  2.000000"
      ]
     },
     "metadata": {},
     "output_type": "display_data"
    }
   ],
   "source": [
    "range(feat_df.filt.data.scale) #check the range of z_transformed"
   ]
  },
  {
   "cell_type": "code",
   "execution_count": 96,
   "id": "41b0c154-4313-402a-b493-b071db0a1370",
   "metadata": {},
   "outputs": [],
   "source": [
    "breaksList = seq(range(feat_df.filt.data.scale)[1],\n",
    "                 range(feat_df.filt.data.scale)[2],\n",
    "                 length.out = 100) \n",
    "\n",
    "quantile_breaks <- function(xs, n = 100) {\n",
    "  breaks <- quantile(xs, probs = seq(0, 1, length.out = n))\n",
    "  breaks[!duplicated(breaks)]\n",
    "}\n",
    "\n",
    "mat_breaks <- quantile_breaks(feat_df.filt.data.scale, n = 101)\n",
    "cell_colors <- colorRampPalette(rev(brewer.pal(n = 9, name = \"RdBu\")))(length(mat_breaks))"
   ]
  },
  {
   "cell_type": "code",
   "execution_count": 97,
   "id": "4cd5bbfa",
   "metadata": {
    "scrolled": true
   },
   "outputs": [],
   "source": [
    "# options(repr.plot.width=30, repr.plot.height=30, res=300)\n",
    "# pheatmap(feat_df.filt.data.NA.scale.rplNAmin, cluster_rows = TRUE, show_rownames = TRUE, cluster_cols = TRUE, \n",
    "#          annotation_col = annotation_col, annotation_row = annotation_row, clustering_method = \"complete\", \n",
    "#          cellwidth = 5,cellheight = 10, annotation_colors = ann_colors,\n",
    "#          color = cell_colors)"
   ]
  },
  {
   "cell_type": "code",
   "execution_count": 98,
   "id": "99889f0e",
   "metadata": {
    "scrolled": true
   },
   "outputs": [
    {
     "name": "stderr",
     "output_type": "stream",
     "text": [
      "Warning message in dir.create(out_dir):\n",
      "“'../../output/hMinImp_TICnorm_groupFil0.3_HILICpos_1wayANOVA/heatmap' already exists”\n"
     ]
    }
   ],
   "source": [
    "out_dir = \"../../output/hMinImp_TICnorm_groupFil0.3_HILICpos_1wayANOVA/heatmap/\"\n",
    "dir.create(out_dir)\n",
    "\n",
    "exp_label = 'hMinImp_TICnorm_HILICpos_1wayANOVA'\n",
    "out_pdf_file = file.path(out_dir, glue(\"{exp_label}_padj{filtered_level}_heatmap.pdf\"))"
   ]
  },
  {
   "cell_type": "code",
   "execution_count": 99,
   "id": "b23ef7ad",
   "metadata": {
    "scrolled": true
   },
   "outputs": [
    {
     "data": {
      "image/png": "[encoded data removed]",
      "text/plain": [
       "plot without title"
      ]
     },
     "metadata": {
      "image/png": {
       "height": 900,
       "width": 900
      }
     },
     "output_type": "display_data"
    }
   ],
   "source": [
    "figure_width = 15\n",
    "figure_height = 15\n",
    "options(repr.plot.width = figure_width, repr.plot.height = figure_height, res = 300)\n",
    "library(pheatmap)\n",
    "p <- pheatmap(feat_df.filt.data.scale,  # data file\n",
    "         cluster_rows = TRUE, \n",
    "         show_rownames = FALSE, \n",
    "         cluster_cols = TRUE, \n",
    "         annotation_col = annotation_col, \n",
    "         clustering_method = \"mcquitty\",\n",
    "         cellwidth = 8,\n",
    "         cellheight = 0.5,\n",
    "         color = cell_colors,\n",
    "         annotation_colors = ann_colors)\n",
    "ggsave(p, file = out_pdf_file, width = figure_width, height = figure_height, )"
   ]
  },
  {
   "cell_type": "markdown",
   "id": "05bbc2ed",
   "metadata": {},
   "source": [
    "-----"
   ]
  }
 ],
 "metadata": {
  "kernelspec": {
   "display_name": "R",
   "language": "R",
   "name": "ir"
  },
  "language_info": {
   "codemirror_mode": "r",
   "file_extension": ".r",
   "mimetype": "text/x-r-source",
   "name": "R",
   "pygments_lexer": "r",
   "version": "4.1.3"
  }
 },
 "nbformat": 4,
 "nbformat_minor": 5
}
