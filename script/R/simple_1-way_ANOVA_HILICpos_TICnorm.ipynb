{
 "cells": [
  {
   "cell_type": "markdown",
   "id": "e8913105-8258-4ab0-9357-a532193e01a8",
   "metadata": {},
   "source": [
    "# Simple one-way ANOVA \n",
    "- 07/28/2022\n",
    "- HILICpos\n",
    "- TIC normalized dataset"
   ]
  },
  {
   "cell_type": "markdown",
   "id": "c8cebb6b",
   "metadata": {},
   "source": [
    "# load library"
   ]
  },
  {
   "cell_type": "code",
   "execution_count": 1,
   "id": "cea55d1b",
   "metadata": {
    "vscode": {
     "languageId": "r"
    }
   },
   "outputs": [],
   "source": [
    "# Let the middle rows included.\n",
    "options(repr.matrix.max.rows=600, repr.matrix.max.cols=200)"
   ]
  },
  {
   "cell_type": "code",
   "execution_count": 2,
   "id": "778b9a63",
   "metadata": {
    "scrolled": true,
    "vscode": {
     "languageId": "r"
    }
   },
   "outputs": [
    {
     "name": "stderr",
     "output_type": "stream",
     "text": [
      "\n",
      "Attaching package: ‘dplyr’\n",
      "\n",
      "\n",
      "The following objects are masked from ‘package:stats’:\n",
      "\n",
      "    filter, lag\n",
      "\n",
      "\n",
      "The following objects are masked from ‘package:base’:\n",
      "\n",
      "    intersect, setdiff, setequal, union\n",
      "\n",
      "\n",
      "Loading required package: carData\n",
      "\n",
      "\n",
      "Attaching package: ‘car’\n",
      "\n",
      "\n",
      "The following object is masked from ‘package:dplyr’:\n",
      "\n",
      "    recode\n",
      "\n",
      "\n"
     ]
    }
   ],
   "source": [
    "library(dplyr)\n",
    "library(car)\n",
    "library(glue)\n",
    "source(\"./utilis/utilis.R\") # merge_by_rowName"
   ]
  },
  {
   "cell_type": "markdown",
   "id": "bb374861",
   "metadata": {},
   "source": [
    "## Read data table"
   ]
  },
  {
   "cell_type": "code",
   "execution_count": 3,
   "id": "ba73fcd6-3069-4be0-aea9-13595d2522b0",
   "metadata": {},
   "outputs": [],
   "source": [
    "exp_label = 'hMinImp_TICnorm_groupFil0.3_HILICpos'"
   ]
  },
  {
   "cell_type": "code",
   "execution_count": 4,
   "id": "d2912e5e",
   "metadata": {
    "scrolled": true,
    "vscode": {
     "languageId": "r"
    }
   },
   "outputs": [],
   "source": [
    "feat_df = read.csv(\"../../output/preprocessing_59/FC_log2_hMinImp_TICnorm_groupFil0.3_HILICpos_featab.csv\", row.names = 1)"
   ]
  },
  {
   "cell_type": "code",
   "execution_count": 5,
   "id": "63c10fcc-4836-4378-a5e3-fd40de46bece",
   "metadata": {
    "vscode": {
     "languageId": "r"
    }
   },
   "outputs": [
    {
     "data": {
      "text/html": [
       "<table class=\"dataframe\">\n",
       "<caption>A data.frame: 6 × 34</caption>\n",
       "<thead>\n",
       "\t<tr><th></th><th scope=col>mz</th><th scope=col>rtime</th><th scope=col>rtime_left_base</th><th scope=col>rtime_right_base</th><th scope=col>parent_masstrack_id</th><th scope=col>peak_area</th><th scope=col>cSelectivity</th><th scope=col>goodness_fitting</th><th scope=col>snr</th><th scope=col>detection_counts</th><th scope=col>Naive_percNA</th><th scope=col>Naive_mean</th><th scope=col>R5neg_percNA</th><th scope=col>R5neg_mean</th><th scope=col>R5pos_percNA</th><th scope=col>R5pos_mean</th><th scope=col>gMean_Naive</th><th scope=col>gMean_R5neg</th><th scope=col>gMean_R5pos</th><th scope=col>log2FC_R5negvsNaive</th><th scope=col>log2FC_R5posvsNaive</th><th scope=col>log2FC_R5posvsR5neg</th><th scope=col>Naive_1</th><th scope=col>Naive_2</th><th scope=col>Naive_3</th><th scope=col>R5neg_1</th><th scope=col>R5neg_2</th><th scope=col>R5neg_3</th><th scope=col>R5pos_1</th><th scope=col>R5pos_2</th><th scope=col>R5pos_3</th><th scope=col>nist</th><th scope=col>q3June2014_1</th><th scope=col>q3June2014_2</th></tr>\n",
       "\t<tr><th></th><th scope=col>&lt;dbl&gt;</th><th scope=col>&lt;dbl&gt;</th><th scope=col>&lt;dbl&gt;</th><th scope=col>&lt;dbl&gt;</th><th scope=col>&lt;int&gt;</th><th scope=col>&lt;dbl&gt;</th><th scope=col>&lt;dbl&gt;</th><th scope=col>&lt;dbl&gt;</th><th scope=col>&lt;int&gt;</th><th scope=col>&lt;int&gt;</th><th scope=col>&lt;dbl&gt;</th><th scope=col>&lt;dbl&gt;</th><th scope=col>&lt;dbl&gt;</th><th scope=col>&lt;dbl&gt;</th><th scope=col>&lt;dbl&gt;</th><th scope=col>&lt;dbl&gt;</th><th scope=col>&lt;dbl&gt;</th><th scope=col>&lt;dbl&gt;</th><th scope=col>&lt;dbl&gt;</th><th scope=col>&lt;dbl&gt;</th><th scope=col>&lt;dbl&gt;</th><th scope=col>&lt;dbl&gt;</th><th scope=col>&lt;dbl&gt;</th><th scope=col>&lt;dbl&gt;</th><th scope=col>&lt;dbl&gt;</th><th scope=col>&lt;dbl&gt;</th><th scope=col>&lt;dbl&gt;</th><th scope=col>&lt;dbl&gt;</th><th scope=col>&lt;dbl&gt;</th><th scope=col>&lt;dbl&gt;</th><th scope=col>&lt;dbl&gt;</th><th scope=col>&lt;dbl&gt;</th><th scope=col>&lt;dbl&gt;</th><th scope=col>&lt;dbl&gt;</th></tr>\n",
       "</thead>\n",
       "<tbody>\n",
       "\t<tr><th scope=row>F1</th><td> 85.0044</td><td>26.00</td><td>19.67</td><td>28.11</td><td>   0</td><td>  2003055</td><td>0.96</td><td>0.93</td><td> 106</td><td>23</td><td>0</td><td>   70477.0</td><td>0</td><td>  118403.5</td><td>0.3333333</td><td>   33095.5</td><td>15.90627</td><td>17.05434</td><td>14.35138</td><td> 1.1480751</td><td>-1.5548861</td><td>-2.7029612</td><td>14.72954</td><td>16.52419</td><td>16.46507</td><td>17.00695</td><td>17.09726</td><td>17.05882</td><td>13.45488</td><td>15.26659</td><td>14.33267</td><td>16.25446</td><td>16.29809</td><td>16.52315</td></tr>\n",
       "\t<tr><th scope=row>F4</th><td>105.0378</td><td>29.94</td><td>21.80</td><td>48.60</td><td> 491</td><td>319536206</td><td>1.00</td><td>0.97</td><td>  91</td><td>24</td><td>0</td><td>21717766.0</td><td>0</td><td>36992809.7</td><td>0.0000000</td><td>15374962.7</td><td>24.35723</td><td>25.33316</td><td>23.69380</td><td> 0.9759384</td><td>-0.6634247</td><td>-1.6393630</td><td>24.07682</td><td>24.49154</td><td>24.50332</td><td>25.40913</td><td>25.06637</td><td>25.52399</td><td>23.38120</td><td>23.72868</td><td>23.97152</td><td>21.56720</td><td>21.50691</td><td>21.33320</td></tr>\n",
       "\t<tr><th scope=row>F20</th><td>130.0874</td><td>31.78</td><td>29.94</td><td>50.70</td><td>1924</td><td>459680685</td><td>1.00</td><td>0.92</td><td> 126</td><td>24</td><td>0</td><td>  217572.3</td><td>0</td><td>  225211.0</td><td>0.0000000</td><td>  133405.7</td><td>17.32226</td><td>17.94356</td><td>16.79542</td><td> 0.6212999</td><td>-0.5268469</td><td>-1.1481468</td><td>16.97935</td><td>18.76444</td><td>16.22300</td><td>18.15003</td><td>18.21529</td><td>17.46537</td><td>16.12229</td><td>17.00383</td><td>17.26013</td><td>25.03785</td><td>25.57052</td><td>25.29792</td></tr>\n",
       "\t<tr><th scope=row>F24</th><td>151.0971</td><td>26.79</td><td>23.38</td><td>29.16</td><td>2390</td><td>  2167316</td><td>0.90</td><td>0.90</td><td> 175</td><td>10</td><td>0</td><td>  142990.0</td><td>0</td><td>  298345.7</td><td>0.6666667</td><td>  188441.0</td><td>16.77804</td><td>18.36806</td><td>15.85831</td><td> 1.5900138</td><td>-0.9197309</td><td>-2.5097447</td><td>16.09626</td><td>16.08670</td><td>18.15118</td><td>18.49526</td><td>17.98687</td><td>18.62205</td><td>15.08670</td><td>15.08670</td><td>17.40155</td><td>      NA</td><td>      NA</td><td>      NA</td></tr>\n",
       "\t<tr><th scope=row>F25</th><td>117.0379</td><td>29.94</td><td>26.53</td><td>33.89</td><td>1003</td><td> 32831098</td><td>1.00</td><td>0.95</td><td>2850</td><td>17</td><td>0</td><td> 2463366.3</td><td>0</td><td> 4966754.3</td><td>0.3333333</td><td> 1370735.0</td><td>21.17226</td><td>22.43561</td><td>17.02232</td><td> 1.2633433</td><td>-4.1499396</td><td>-5.4132828</td><td>20.56940</td><td>21.55389</td><td>21.39350</td><td>22.55255</td><td>22.14998</td><td>22.60429</td><td>10.56701</td><td>20.19821</td><td>20.30175</td><td>15.96518</td><td>15.39953</td><td>15.41820</td></tr>\n",
       "\t<tr><th scope=row>F51</th><td>130.8893</td><td>26.79</td><td>23.38</td><td>28.89</td><td>1927</td><td> 61854501</td><td>1.00</td><td>1.00</td><td>7061</td><td>22</td><td>0</td><td> 1707885.3</td><td>0</td><td> 1016526.0</td><td>0.3333333</td><td>  990471.5</td><td>20.65250</td><td>20.14292</td><td>19.41125</td><td>-0.5095775</td><td>-1.2412456</td><td>-0.7316681</td><td>20.19929</td><td>21.12595</td><td>20.63225</td><td>19.94389</td><td>20.37460</td><td>20.11027</td><td>18.67348</td><td>19.83385</td><td>19.72643</td><td>20.64454</td><td>22.73880</td><td>22.64871</td></tr>\n",
       "</tbody>\n",
       "</table>\n"
      ],
      "text/latex": [
       "A data.frame: 6 × 34\n",
       "\\begin{tabular}{r|llllllllllllllllllllllllllllllllll}\n",
       "  & mz & rtime & rtime\\_left\\_base & rtime\\_right\\_base & parent\\_masstrack\\_id & peak\\_area & cSelectivity & goodness\\_fitting & snr & detection\\_counts & Naive\\_percNA & Naive\\_mean & R5neg\\_percNA & R5neg\\_mean & R5pos\\_percNA & R5pos\\_mean & gMean\\_Naive & gMean\\_R5neg & gMean\\_R5pos & log2FC\\_R5negvsNaive & log2FC\\_R5posvsNaive & log2FC\\_R5posvsR5neg & Naive\\_1 & Naive\\_2 & Naive\\_3 & R5neg\\_1 & R5neg\\_2 & R5neg\\_3 & R5pos\\_1 & R5pos\\_2 & R5pos\\_3 & nist & q3June2014\\_1 & q3June2014\\_2\\\\\n",
       "  & <dbl> & <dbl> & <dbl> & <dbl> & <int> & <dbl> & <dbl> & <dbl> & <int> & <int> & <dbl> & <dbl> & <dbl> & <dbl> & <dbl> & <dbl> & <dbl> & <dbl> & <dbl> & <dbl> & <dbl> & <dbl> & <dbl> & <dbl> & <dbl> & <dbl> & <dbl> & <dbl> & <dbl> & <dbl> & <dbl> & <dbl> & <dbl> & <dbl>\\\\\n",
       "\\hline\n",
       "\tF1 &  85.0044 & 26.00 & 19.67 & 28.11 &    0 &   2003055 & 0.96 & 0.93 &  106 & 23 & 0 &    70477.0 & 0 &   118403.5 & 0.3333333 &    33095.5 & 15.90627 & 17.05434 & 14.35138 &  1.1480751 & -1.5548861 & -2.7029612 & 14.72954 & 16.52419 & 16.46507 & 17.00695 & 17.09726 & 17.05882 & 13.45488 & 15.26659 & 14.33267 & 16.25446 & 16.29809 & 16.52315\\\\\n",
       "\tF4 & 105.0378 & 29.94 & 21.80 & 48.60 &  491 & 319536206 & 1.00 & 0.97 &   91 & 24 & 0 & 21717766.0 & 0 & 36992809.7 & 0.0000000 & 15374962.7 & 24.35723 & 25.33316 & 23.69380 &  0.9759384 & -0.6634247 & -1.6393630 & 24.07682 & 24.49154 & 24.50332 & 25.40913 & 25.06637 & 25.52399 & 23.38120 & 23.72868 & 23.97152 & 21.56720 & 21.50691 & 21.33320\\\\\n",
       "\tF20 & 130.0874 & 31.78 & 29.94 & 50.70 & 1924 & 459680685 & 1.00 & 0.92 &  126 & 24 & 0 &   217572.3 & 0 &   225211.0 & 0.0000000 &   133405.7 & 17.32226 & 17.94356 & 16.79542 &  0.6212999 & -0.5268469 & -1.1481468 & 16.97935 & 18.76444 & 16.22300 & 18.15003 & 18.21529 & 17.46537 & 16.12229 & 17.00383 & 17.26013 & 25.03785 & 25.57052 & 25.29792\\\\\n",
       "\tF24 & 151.0971 & 26.79 & 23.38 & 29.16 & 2390 &   2167316 & 0.90 & 0.90 &  175 & 10 & 0 &   142990.0 & 0 &   298345.7 & 0.6666667 &   188441.0 & 16.77804 & 18.36806 & 15.85831 &  1.5900138 & -0.9197309 & -2.5097447 & 16.09626 & 16.08670 & 18.15118 & 18.49526 & 17.98687 & 18.62205 & 15.08670 & 15.08670 & 17.40155 &       NA &       NA &       NA\\\\\n",
       "\tF25 & 117.0379 & 29.94 & 26.53 & 33.89 & 1003 &  32831098 & 1.00 & 0.95 & 2850 & 17 & 0 &  2463366.3 & 0 &  4966754.3 & 0.3333333 &  1370735.0 & 21.17226 & 22.43561 & 17.02232 &  1.2633433 & -4.1499396 & -5.4132828 & 20.56940 & 21.55389 & 21.39350 & 22.55255 & 22.14998 & 22.60429 & 10.56701 & 20.19821 & 20.30175 & 15.96518 & 15.39953 & 15.41820\\\\\n",
       "\tF51 & 130.8893 & 26.79 & 23.38 & 28.89 & 1927 &  61854501 & 1.00 & 1.00 & 7061 & 22 & 0 &  1707885.3 & 0 &  1016526.0 & 0.3333333 &   990471.5 & 20.65250 & 20.14292 & 19.41125 & -0.5095775 & -1.2412456 & -0.7316681 & 20.19929 & 21.12595 & 20.63225 & 19.94389 & 20.37460 & 20.11027 & 18.67348 & 19.83385 & 19.72643 & 20.64454 & 22.73880 & 22.64871\\\\\n",
       "\\end{tabular}\n"
      ],
      "text/markdown": [
       "\n",
       "A data.frame: 6 × 34\n",
       "\n",
       "| <!--/--> | mz &lt;dbl&gt; | rtime &lt;dbl&gt; | rtime_left_base &lt;dbl&gt; | rtime_right_base &lt;dbl&gt; | parent_masstrack_id &lt;int&gt; | peak_area &lt;dbl&gt; | cSelectivity &lt;dbl&gt; | goodness_fitting &lt;dbl&gt; | snr &lt;int&gt; | detection_counts &lt;int&gt; | Naive_percNA &lt;dbl&gt; | Naive_mean &lt;dbl&gt; | R5neg_percNA &lt;dbl&gt; | R5neg_mean &lt;dbl&gt; | R5pos_percNA &lt;dbl&gt; | R5pos_mean &lt;dbl&gt; | gMean_Naive &lt;dbl&gt; | gMean_R5neg &lt;dbl&gt; | gMean_R5pos &lt;dbl&gt; | log2FC_R5negvsNaive &lt;dbl&gt; | log2FC_R5posvsNaive &lt;dbl&gt; | log2FC_R5posvsR5neg &lt;dbl&gt; | Naive_1 &lt;dbl&gt; | Naive_2 &lt;dbl&gt; | Naive_3 &lt;dbl&gt; | R5neg_1 &lt;dbl&gt; | R5neg_2 &lt;dbl&gt; | R5neg_3 &lt;dbl&gt; | R5pos_1 &lt;dbl&gt; | R5pos_2 &lt;dbl&gt; | R5pos_3 &lt;dbl&gt; | nist &lt;dbl&gt; | q3June2014_1 &lt;dbl&gt; | q3June2014_2 &lt;dbl&gt; |\n",
       "|---|---|---|---|---|---|---|---|---|---|---|---|---|---|---|---|---|---|---|---|---|---|---|---|---|---|---|---|---|---|---|---|---|---|---|\n",
       "| F1 |  85.0044 | 26.00 | 19.67 | 28.11 |    0 |   2003055 | 0.96 | 0.93 |  106 | 23 | 0 |    70477.0 | 0 |   118403.5 | 0.3333333 |    33095.5 | 15.90627 | 17.05434 | 14.35138 |  1.1480751 | -1.5548861 | -2.7029612 | 14.72954 | 16.52419 | 16.46507 | 17.00695 | 17.09726 | 17.05882 | 13.45488 | 15.26659 | 14.33267 | 16.25446 | 16.29809 | 16.52315 |\n",
       "| F4 | 105.0378 | 29.94 | 21.80 | 48.60 |  491 | 319536206 | 1.00 | 0.97 |   91 | 24 | 0 | 21717766.0 | 0 | 36992809.7 | 0.0000000 | 15374962.7 | 24.35723 | 25.33316 | 23.69380 |  0.9759384 | -0.6634247 | -1.6393630 | 24.07682 | 24.49154 | 24.50332 | 25.40913 | 25.06637 | 25.52399 | 23.38120 | 23.72868 | 23.97152 | 21.56720 | 21.50691 | 21.33320 |\n",
       "| F20 | 130.0874 | 31.78 | 29.94 | 50.70 | 1924 | 459680685 | 1.00 | 0.92 |  126 | 24 | 0 |   217572.3 | 0 |   225211.0 | 0.0000000 |   133405.7 | 17.32226 | 17.94356 | 16.79542 |  0.6212999 | -0.5268469 | -1.1481468 | 16.97935 | 18.76444 | 16.22300 | 18.15003 | 18.21529 | 17.46537 | 16.12229 | 17.00383 | 17.26013 | 25.03785 | 25.57052 | 25.29792 |\n",
       "| F24 | 151.0971 | 26.79 | 23.38 | 29.16 | 2390 |   2167316 | 0.90 | 0.90 |  175 | 10 | 0 |   142990.0 | 0 |   298345.7 | 0.6666667 |   188441.0 | 16.77804 | 18.36806 | 15.85831 |  1.5900138 | -0.9197309 | -2.5097447 | 16.09626 | 16.08670 | 18.15118 | 18.49526 | 17.98687 | 18.62205 | 15.08670 | 15.08670 | 17.40155 |       NA |       NA |       NA |\n",
       "| F25 | 117.0379 | 29.94 | 26.53 | 33.89 | 1003 |  32831098 | 1.00 | 0.95 | 2850 | 17 | 0 |  2463366.3 | 0 |  4966754.3 | 0.3333333 |  1370735.0 | 21.17226 | 22.43561 | 17.02232 |  1.2633433 | -4.1499396 | -5.4132828 | 20.56940 | 21.55389 | 21.39350 | 22.55255 | 22.14998 | 22.60429 | 10.56701 | 20.19821 | 20.30175 | 15.96518 | 15.39953 | 15.41820 |\n",
       "| F51 | 130.8893 | 26.79 | 23.38 | 28.89 | 1927 |  61854501 | 1.00 | 1.00 | 7061 | 22 | 0 |  1707885.3 | 0 |  1016526.0 | 0.3333333 |   990471.5 | 20.65250 | 20.14292 | 19.41125 | -0.5095775 | -1.2412456 | -0.7316681 | 20.19929 | 21.12595 | 20.63225 | 19.94389 | 20.37460 | 20.11027 | 18.67348 | 19.83385 | 19.72643 | 20.64454 | 22.73880 | 22.64871 |\n",
       "\n"
      ],
      "text/plain": [
       "    mz       rtime rtime_left_base rtime_right_base parent_masstrack_id\n",
       "F1   85.0044 26.00 19.67           28.11               0               \n",
       "F4  105.0378 29.94 21.80           48.60             491               \n",
       "F20 130.0874 31.78 29.94           50.70            1924               \n",
       "F24 151.0971 26.79 23.38           29.16            2390               \n",
       "F25 117.0379 29.94 26.53           33.89            1003               \n",
       "F51 130.8893 26.79 23.38           28.89            1927               \n",
       "    peak_area cSelectivity goodness_fitting snr  detection_counts Naive_percNA\n",
       "F1    2003055 0.96         0.93              106 23               0           \n",
       "F4  319536206 1.00         0.97               91 24               0           \n",
       "F20 459680685 1.00         0.92              126 24               0           \n",
       "F24   2167316 0.90         0.90              175 10               0           \n",
       "F25  32831098 1.00         0.95             2850 17               0           \n",
       "F51  61854501 1.00         1.00             7061 22               0           \n",
       "    Naive_mean R5neg_percNA R5neg_mean R5pos_percNA R5pos_mean gMean_Naive\n",
       "F1     70477.0 0              118403.5 0.3333333       33095.5 15.90627   \n",
       "F4  21717766.0 0            36992809.7 0.0000000    15374962.7 24.35723   \n",
       "F20   217572.3 0              225211.0 0.0000000      133405.7 17.32226   \n",
       "F24   142990.0 0              298345.7 0.6666667      188441.0 16.77804   \n",
       "F25  2463366.3 0             4966754.3 0.3333333     1370735.0 21.17226   \n",
       "F51  1707885.3 0             1016526.0 0.3333333      990471.5 20.65250   \n",
       "    gMean_R5neg gMean_R5pos log2FC_R5negvsNaive log2FC_R5posvsNaive\n",
       "F1  17.05434    14.35138     1.1480751          -1.5548861         \n",
       "F4  25.33316    23.69380     0.9759384          -0.6634247         \n",
       "F20 17.94356    16.79542     0.6212999          -0.5268469         \n",
       "F24 18.36806    15.85831     1.5900138          -0.9197309         \n",
       "F25 22.43561    17.02232     1.2633433          -4.1499396         \n",
       "F51 20.14292    19.41125    -0.5095775          -1.2412456         \n",
       "    log2FC_R5posvsR5neg Naive_1  Naive_2  Naive_3  R5neg_1  R5neg_2  R5neg_3 \n",
       "F1  -2.7029612          14.72954 16.52419 16.46507 17.00695 17.09726 17.05882\n",
       "F4  -1.6393630          24.07682 24.49154 24.50332 25.40913 25.06637 25.52399\n",
       "F20 -1.1481468          16.97935 18.76444 16.22300 18.15003 18.21529 17.46537\n",
       "F24 -2.5097447          16.09626 16.08670 18.15118 18.49526 17.98687 18.62205\n",
       "F25 -5.4132828          20.56940 21.55389 21.39350 22.55255 22.14998 22.60429\n",
       "F51 -0.7316681          20.19929 21.12595 20.63225 19.94389 20.37460 20.11027\n",
       "    R5pos_1  R5pos_2  R5pos_3  nist     q3June2014_1 q3June2014_2\n",
       "F1  13.45488 15.26659 14.33267 16.25446 16.29809     16.52315    \n",
       "F4  23.38120 23.72868 23.97152 21.56720 21.50691     21.33320    \n",
       "F20 16.12229 17.00383 17.26013 25.03785 25.57052     25.29792    \n",
       "F24 15.08670 15.08670 17.40155       NA       NA           NA    \n",
       "F25 10.56701 20.19821 20.30175 15.96518 15.39953     15.41820    \n",
       "F51 18.67348 19.83385 19.72643 20.64454 22.73880     22.64871    "
      ]
     },
     "metadata": {},
     "output_type": "display_data"
    }
   ],
   "source": [
    "head(feat_df)"
   ]
  },
  {
   "cell_type": "markdown",
   "id": "694e4392-0d90-44b2-9ff7-176d223f3776",
   "metadata": {},
   "source": [
    "##### Check the data, make sure it is already log2-transformed"
   ]
  },
  {
   "cell_type": "code",
   "execution_count": 6,
   "id": "80314c17-10b1-41ca-abf4-a8451a522d6a",
   "metadata": {
    "vscode": {
     "languageId": "r"
    }
   },
   "outputs": [],
   "source": [
    "data.df.log2 = feat_df[,grep('Naive\\\\_[0-9]+|R5[a-z]+\\\\_[0-9]+',colnames(feat_df))]"
   ]
  },
  {
   "cell_type": "markdown",
   "id": "82163198",
   "metadata": {},
   "source": [
    "## Read metadata"
   ]
  },
  {
   "cell_type": "code",
   "execution_count": 7,
   "id": "a0184f86",
   "metadata": {
    "vscode": {
     "languageId": "r"
    }
   },
   "outputs": [],
   "source": [
    "meta_df = read.csv(\"../../input/sequence_file/clean_meta_df.csv\", row.names = 1)"
   ]
  },
  {
   "cell_type": "code",
   "execution_count": 8,
   "id": "cf211a23-48be-481a-9888-ae4cd4c0d2c4",
   "metadata": {
    "vscode": {
     "languageId": "r"
    }
   },
   "outputs": [],
   "source": [
    "# since the meta_df originally have techincal replicates, which is not unique after technical replicate summaries\n",
    "# Thus processing metadata a little bit to retain only relevant rows\n",
    "sub_meta_df <- meta_df[c('tID_dedup','class','biological_samples','cell_number')]\n",
    "sub_meta_df <- unique(sub_meta_df)\n",
    "\n",
    "rownames(sub_meta_df) = sub_meta_df$tID_dedup\n",
    "sub_meta_df = sub_meta_df[colnames(data.df.log2),]\n",
    "meta_df = sub_meta_df"
   ]
  },
  {
   "cell_type": "code",
   "execution_count": 9,
   "id": "3dac25a6-2220-47c7-bc56-5070a8eab54e",
   "metadata": {},
   "outputs": [],
   "source": [
    "write.csv(meta_df,\"../../input/sequence_file/clean_deduplicated_meta_df.csv\", row.names = FALSE)"
   ]
  },
  {
   "cell_type": "markdown",
   "id": "87cff49f",
   "metadata": {},
   "source": [
    "------"
   ]
  },
  {
   "cell_type": "markdown",
   "id": "35cd9ca2",
   "metadata": {},
   "source": [
    "# Summary\n",
    "- check if the metadata & data matched (It should be as they have been filtered in the last notebook)\n",
    "- check key metadata"
   ]
  },
  {
   "cell_type": "code",
   "execution_count": 10,
   "id": "43c6ed48",
   "metadata": {
    "vscode": {
     "languageId": "r"
    }
   },
   "outputs": [
    {
     "data": {
      "text/html": [
       "TRUE"
      ],
      "text/latex": [
       "TRUE"
      ],
      "text/markdown": [
       "TRUE"
      ],
      "text/plain": [
       "[1] TRUE"
      ]
     },
     "metadata": {},
     "output_type": "display_data"
    }
   ],
   "source": [
    "nrow(meta_df) == ncol(data.df.log2)"
   ]
  },
  {
   "cell_type": "code",
   "execution_count": 11,
   "id": "1773b23d",
   "metadata": {
    "vscode": {
     "languageId": "r"
    }
   },
   "outputs": [
    {
     "data": {
      "text/plain": [
       "\n",
       "Naive R5neg R5pos \n",
       "    3     3     3 "
      ]
     },
     "metadata": {},
     "output_type": "display_data"
    }
   ],
   "source": [
    "table(meta_df['class'])"
   ]
  },
  {
   "cell_type": "markdown",
   "id": "dfef8246",
   "metadata": {},
   "source": [
    "### Transpose the table and prepare to merge with meta data"
   ]
  },
  {
   "cell_type": "code",
   "execution_count": 12,
   "id": "4b940106",
   "metadata": {
    "vscode": {
     "languageId": "r"
    }
   },
   "outputs": [],
   "source": [
    "data_df.t = t(data.df.log2) # transpose the table"
   ]
  },
  {
   "cell_type": "code",
   "execution_count": 13,
   "id": "11c12814",
   "metadata": {
    "scrolled": true,
    "vscode": {
     "languageId": "r"
    }
   },
   "outputs": [
    {
     "data": {
      "text/html": [
       "<table class=\"dataframe\">\n",
       "<caption>A matrix: 5 × 5 of type dbl</caption>\n",
       "<thead>\n",
       "\t<tr><th></th><th scope=col>F1</th><th scope=col>F4</th><th scope=col>F20</th><th scope=col>F24</th><th scope=col>F25</th></tr>\n",
       "</thead>\n",
       "<tbody>\n",
       "\t<tr><th scope=row>Naive_1</th><td>14.72954</td><td>24.07682</td><td>16.97935</td><td>16.09626</td><td>20.56940</td></tr>\n",
       "\t<tr><th scope=row>Naive_2</th><td>16.52419</td><td>24.49154</td><td>18.76444</td><td>16.08670</td><td>21.55389</td></tr>\n",
       "\t<tr><th scope=row>Naive_3</th><td>16.46507</td><td>24.50332</td><td>16.22300</td><td>18.15118</td><td>21.39350</td></tr>\n",
       "\t<tr><th scope=row>R5neg_1</th><td>17.00695</td><td>25.40913</td><td>18.15003</td><td>18.49526</td><td>22.55255</td></tr>\n",
       "\t<tr><th scope=row>R5neg_2</th><td>17.09726</td><td>25.06637</td><td>18.21529</td><td>17.98687</td><td>22.14998</td></tr>\n",
       "</tbody>\n",
       "</table>\n"
      ],
      "text/latex": [
       "A matrix: 5 × 5 of type dbl\n",
       "\\begin{tabular}{r|lllll}\n",
       "  & F1 & F4 & F20 & F24 & F25\\\\\n",
       "\\hline\n",
       "\tNaive\\_1 & 14.72954 & 24.07682 & 16.97935 & 16.09626 & 20.56940\\\\\n",
       "\tNaive\\_2 & 16.52419 & 24.49154 & 18.76444 & 16.08670 & 21.55389\\\\\n",
       "\tNaive\\_3 & 16.46507 & 24.50332 & 16.22300 & 18.15118 & 21.39350\\\\\n",
       "\tR5neg\\_1 & 17.00695 & 25.40913 & 18.15003 & 18.49526 & 22.55255\\\\\n",
       "\tR5neg\\_2 & 17.09726 & 25.06637 & 18.21529 & 17.98687 & 22.14998\\\\\n",
       "\\end{tabular}\n"
      ],
      "text/markdown": [
       "\n",
       "A matrix: 5 × 5 of type dbl\n",
       "\n",
       "| <!--/--> | F1 | F4 | F20 | F24 | F25 |\n",
       "|---|---|---|---|---|---|\n",
       "| Naive_1 | 14.72954 | 24.07682 | 16.97935 | 16.09626 | 20.56940 |\n",
       "| Naive_2 | 16.52419 | 24.49154 | 18.76444 | 16.08670 | 21.55389 |\n",
       "| Naive_3 | 16.46507 | 24.50332 | 16.22300 | 18.15118 | 21.39350 |\n",
       "| R5neg_1 | 17.00695 | 25.40913 | 18.15003 | 18.49526 | 22.55255 |\n",
       "| R5neg_2 | 17.09726 | 25.06637 | 18.21529 | 17.98687 | 22.14998 |\n",
       "\n"
      ],
      "text/plain": [
       "        F1       F4       F20      F24      F25     \n",
       "Naive_1 14.72954 24.07682 16.97935 16.09626 20.56940\n",
       "Naive_2 16.52419 24.49154 18.76444 16.08670 21.55389\n",
       "Naive_3 16.46507 24.50332 16.22300 18.15118 21.39350\n",
       "R5neg_1 17.00695 25.40913 18.15003 18.49526 22.55255\n",
       "R5neg_2 17.09726 25.06637 18.21529 17.98687 22.14998"
      ]
     },
     "metadata": {},
     "output_type": "display_data"
    }
   ],
   "source": [
    "data_df.t[1:5,1:5]"
   ]
  },
  {
   "cell_type": "code",
   "execution_count": 14,
   "id": "3a4babb3",
   "metadata": {
    "vscode": {
     "languageId": "r"
    }
   },
   "outputs": [
    {
     "data": {
      "text/html": [
       "<style>\n",
       ".list-inline {list-style: none; margin:0; padding: 0}\n",
       ".list-inline>li {display: inline-block}\n",
       ".list-inline>li:not(:last-child)::after {content: \"\\00b7\"; padding: 0 .5ex}\n",
       "</style>\n",
       "<ol class=list-inline><li>'F1'</li><li>'F4'</li><li>'F20'</li><li>'F24'</li><li>'F25'</li></ol>\n"
      ],
      "text/latex": [
       "\\begin{enumerate*}\n",
       "\\item 'F1'\n",
       "\\item 'F4'\n",
       "\\item 'F20'\n",
       "\\item 'F24'\n",
       "\\item 'F25'\n",
       "\\end{enumerate*}\n"
      ],
      "text/markdown": [
       "1. 'F1'\n",
       "2. 'F4'\n",
       "3. 'F20'\n",
       "4. 'F24'\n",
       "5. 'F25'\n",
       "\n",
       "\n"
      ],
      "text/plain": [
       "[1] \"F1\"  \"F4\"  \"F20\" \"F24\" \"F25\""
      ]
     },
     "metadata": {},
     "output_type": "display_data"
    }
   ],
   "source": [
    "ft_names = colnames(data_df.t);ft_names[1:5]"
   ]
  },
  {
   "cell_type": "code",
   "execution_count": 15,
   "id": "605c1158",
   "metadata": {
    "scrolled": true,
    "vscode": {
     "languageId": "r"
    }
   },
   "outputs": [
    {
     "data": {
      "text/html": [
       "<table class=\"dataframe\">\n",
       "<caption>A data.frame: 5 × 4</caption>\n",
       "<thead>\n",
       "\t<tr><th></th><th scope=col>tID_dedup</th><th scope=col>class</th><th scope=col>biological_samples</th><th scope=col>cell_number</th></tr>\n",
       "\t<tr><th></th><th scope=col>&lt;chr&gt;</th><th scope=col>&lt;chr&gt;</th><th scope=col>&lt;chr&gt;</th><th scope=col>&lt;int&gt;</th></tr>\n",
       "</thead>\n",
       "<tbody>\n",
       "\t<tr><th scope=row>Naive_1</th><td>Naive_1</td><td>Naive</td><td>Yes</td><td>300</td></tr>\n",
       "\t<tr><th scope=row>Naive_2</th><td>Naive_2</td><td>Naive</td><td>Yes</td><td>300</td></tr>\n",
       "\t<tr><th scope=row>Naive_3</th><td>Naive_3</td><td>Naive</td><td>Yes</td><td>300</td></tr>\n",
       "\t<tr><th scope=row>R5neg_1</th><td>R5neg_1</td><td>R5neg</td><td>Yes</td><td>655</td></tr>\n",
       "\t<tr><th scope=row>R5neg_2</th><td>R5neg_2</td><td>R5neg</td><td>Yes</td><td>687</td></tr>\n",
       "</tbody>\n",
       "</table>\n"
      ],
      "text/latex": [
       "A data.frame: 5 × 4\n",
       "\\begin{tabular}{r|llll}\n",
       "  & tID\\_dedup & class & biological\\_samples & cell\\_number\\\\\n",
       "  & <chr> & <chr> & <chr> & <int>\\\\\n",
       "\\hline\n",
       "\tNaive\\_1 & Naive\\_1 & Naive & Yes & 300\\\\\n",
       "\tNaive\\_2 & Naive\\_2 & Naive & Yes & 300\\\\\n",
       "\tNaive\\_3 & Naive\\_3 & Naive & Yes & 300\\\\\n",
       "\tR5neg\\_1 & R5neg\\_1 & R5neg & Yes & 655\\\\\n",
       "\tR5neg\\_2 & R5neg\\_2 & R5neg & Yes & 687\\\\\n",
       "\\end{tabular}\n"
      ],
      "text/markdown": [
       "\n",
       "A data.frame: 5 × 4\n",
       "\n",
       "| <!--/--> | tID_dedup &lt;chr&gt; | class &lt;chr&gt; | biological_samples &lt;chr&gt; | cell_number &lt;int&gt; |\n",
       "|---|---|---|---|---|\n",
       "| Naive_1 | Naive_1 | Naive | Yes | 300 |\n",
       "| Naive_2 | Naive_2 | Naive | Yes | 300 |\n",
       "| Naive_3 | Naive_3 | Naive | Yes | 300 |\n",
       "| R5neg_1 | R5neg_1 | R5neg | Yes | 655 |\n",
       "| R5neg_2 | R5neg_2 | R5neg | Yes | 687 |\n",
       "\n"
      ],
      "text/plain": [
       "        tID_dedup class biological_samples cell_number\n",
       "Naive_1 Naive_1   Naive Yes                300        \n",
       "Naive_2 Naive_2   Naive Yes                300        \n",
       "Naive_3 Naive_3   Naive Yes                300        \n",
       "R5neg_1 R5neg_1   R5neg Yes                655        \n",
       "R5neg_2 R5neg_2   R5neg Yes                687        "
      ]
     },
     "metadata": {},
     "output_type": "display_data"
    }
   ],
   "source": [
    "meta_df[1:5,]"
   ]
  },
  {
   "cell_type": "markdown",
   "id": "b51150e3",
   "metadata": {},
   "source": [
    "----"
   ]
  },
  {
   "cell_type": "markdown",
   "id": "ea3a70cc",
   "metadata": {},
   "source": [
    "------"
   ]
  },
  {
   "cell_type": "markdown",
   "id": "e14a1f3a",
   "metadata": {},
   "source": [
    "# Simple one-way ANOVA\n",
    "- Run all gated populations\n",
    "- `ft_names`"
   ]
  },
  {
   "cell_type": "markdown",
   "id": "aa30cf50",
   "metadata": {},
   "source": [
    "## Prepare for the table"
   ]
  },
  {
   "cell_type": "code",
   "execution_count": 16,
   "id": "f06c9abb",
   "metadata": {
    "vscode": {
     "languageId": "r"
    }
   },
   "outputs": [],
   "source": [
    "prep4anova_df = merge_by_rowName(data_df.t, meta_df) # merge data table and metadata"
   ]
  },
  {
   "cell_type": "code",
   "execution_count": 17,
   "id": "e08fbcbb",
   "metadata": {
    "vscode": {
     "languageId": "r"
    }
   },
   "outputs": [],
   "source": [
    "prep4anova_df_filt <- prep4anova_df[,c(\n",
    "    colnames(prep4anova_df)[colnames(prep4anova_df) %in% ft_names], # ft_names\n",
    "    c('class') # + critical study design factors\n",
    ")] # select the columns"
   ]
  },
  {
   "cell_type": "code",
   "execution_count": 18,
   "id": "f80eba4a",
   "metadata": {
    "vscode": {
     "languageId": "r"
    }
   },
   "outputs": [
    {
     "data": {
      "text/html": [
       "<table class=\"dataframe\">\n",
       "<caption>A data.frame: 9 × 2</caption>\n",
       "<thead>\n",
       "\t<tr><th></th><th scope=col>F14963</th><th scope=col>class</th></tr>\n",
       "\t<tr><th></th><th scope=col>&lt;dbl&gt;</th><th scope=col>&lt;chr&gt;</th></tr>\n",
       "</thead>\n",
       "<tbody>\n",
       "\t<tr><th scope=row>Naive_1</th><td>17.56975</td><td>Naive</td></tr>\n",
       "\t<tr><th scope=row>Naive_2</th><td>17.43526</td><td>Naive</td></tr>\n",
       "\t<tr><th scope=row>Naive_3</th><td>17.28606</td><td>Naive</td></tr>\n",
       "\t<tr><th scope=row>R5neg_1</th><td>17.90785</td><td>R5neg</td></tr>\n",
       "\t<tr><th scope=row>R5neg_2</th><td>17.36894</td><td>R5neg</td></tr>\n",
       "\t<tr><th scope=row>R5neg_3</th><td>16.75859</td><td>R5neg</td></tr>\n",
       "\t<tr><th scope=row>R5pos_1</th><td>17.29842</td><td>R5pos</td></tr>\n",
       "\t<tr><th scope=row>R5pos_2</th><td>16.98165</td><td>R5pos</td></tr>\n",
       "\t<tr><th scope=row>R5pos_3</th><td>17.35649</td><td>R5pos</td></tr>\n",
       "</tbody>\n",
       "</table>\n"
      ],
      "text/latex": [
       "A data.frame: 9 × 2\n",
       "\\begin{tabular}{r|ll}\n",
       "  & F14963 & class\\\\\n",
       "  & <dbl> & <chr>\\\\\n",
       "\\hline\n",
       "\tNaive\\_1 & 17.56975 & Naive\\\\\n",
       "\tNaive\\_2 & 17.43526 & Naive\\\\\n",
       "\tNaive\\_3 & 17.28606 & Naive\\\\\n",
       "\tR5neg\\_1 & 17.90785 & R5neg\\\\\n",
       "\tR5neg\\_2 & 17.36894 & R5neg\\\\\n",
       "\tR5neg\\_3 & 16.75859 & R5neg\\\\\n",
       "\tR5pos\\_1 & 17.29842 & R5pos\\\\\n",
       "\tR5pos\\_2 & 16.98165 & R5pos\\\\\n",
       "\tR5pos\\_3 & 17.35649 & R5pos\\\\\n",
       "\\end{tabular}\n"
      ],
      "text/markdown": [
       "\n",
       "A data.frame: 9 × 2\n",
       "\n",
       "| <!--/--> | F14963 &lt;dbl&gt; | class &lt;chr&gt; |\n",
       "|---|---|---|\n",
       "| Naive_1 | 17.56975 | Naive |\n",
       "| Naive_2 | 17.43526 | Naive |\n",
       "| Naive_3 | 17.28606 | Naive |\n",
       "| R5neg_1 | 17.90785 | R5neg |\n",
       "| R5neg_2 | 17.36894 | R5neg |\n",
       "| R5neg_3 | 16.75859 | R5neg |\n",
       "| R5pos_1 | 17.29842 | R5pos |\n",
       "| R5pos_2 | 16.98165 | R5pos |\n",
       "| R5pos_3 | 17.35649 | R5pos |\n",
       "\n"
      ],
      "text/plain": [
       "        F14963   class\n",
       "Naive_1 17.56975 Naive\n",
       "Naive_2 17.43526 Naive\n",
       "Naive_3 17.28606 Naive\n",
       "R5neg_1 17.90785 R5neg\n",
       "R5neg_2 17.36894 R5neg\n",
       "R5neg_3 16.75859 R5neg\n",
       "R5pos_1 17.29842 R5pos\n",
       "R5pos_2 16.98165 R5pos\n",
       "R5pos_3 17.35649 R5pos"
      ]
     },
     "metadata": {},
     "output_type": "display_data"
    }
   ],
   "source": [
    "prep4anova_df_filt[1:9,c(ncol(prep4anova_df_filt)-1, ncol(prep4anova_df_filt))]"
   ]
  },
  {
   "cell_type": "markdown",
   "id": "ce9888a8",
   "metadata": {},
   "source": [
    "## Run ANOVA"
   ]
  },
  {
   "cell_type": "code",
   "execution_count": 19,
   "id": "5b508e7c",
   "metadata": {
    "vscode": {
     "languageId": "r"
    }
   },
   "outputs": [],
   "source": [
    "anova_res_list <- lapply(prep4anova_df[,ft_names], function(x) {\n",
    "    return(tryCatch(\n",
    "        aov(x ~ prep4anova_df[,'class']), # no var.equal as the argument will be disregarded.\n",
    "        error=function(e) NULL))\n",
    "})"
   ]
  },
  {
   "cell_type": "markdown",
   "id": "710ce716",
   "metadata": {},
   "source": [
    "## Wrap ANOVA result into table"
   ]
  },
  {
   "cell_type": "code",
   "execution_count": 20,
   "id": "ab8829fd",
   "metadata": {
    "vscode": {
     "languageId": "r"
    }
   },
   "outputs": [],
   "source": [
    "anova_res_list2table <- function(anova_res_list = anova_res_list,\n",
    "                                 name_of_variable = \"FTID\") {\n",
    "    # Turn one-way Anova result into table\n",
    "    temp_row_list <- list()\n",
    "    for (i in 1:length(anova_res_list)) {\n",
    "      if(is.null(anova_res_list[[i]])) {\n",
    "        temp_row_list[[i]] <- data.frame(names(anova_res_list[i]),0,1) # If Null, f-score =0, pval = 1' somehow names should be using single bracket []\n",
    "        colnames(temp_row_list[[i]]) <- c(name_of_variable,\"f_score\",\"pval\")\n",
    "      } else {\n",
    "        anova_res.summary <- summary(anova_res_list[[i]])\n",
    "        temp_row_list[[i]] <- data.frame(names(anova_res_list[i]), anova_res.summary[[1]]['F value'][[1]][1], anova_res.summary[[1]]['Pr(>F)'][[1]][1])\n",
    "        colnames(temp_row_list[[i]]) <- c(name_of_variable,\"f_score\",\"pval\")\n",
    "      }\n",
    "    }\n",
    "    anova_res_df = do.call(rbind, temp_row_list)\n",
    "    anova_res_df$padj <- p.adjust(anova_res_df$pval, method = 'BH') \n",
    "\n",
    "    anova_res_df = data.frame(anova_res_df)\n",
    "    rownames(anova_res_df) = anova_res_df[,1]\n",
    "    anova_res_df = anova_res_df[,2:ncol(anova_res_df)]\n",
    "    return(anova_res_df)\n",
    "}"
   ]
  },
  {
   "cell_type": "markdown",
   "id": "45dec5e8-4b18-4e46-aaf5-d54aa001750c",
   "metadata": {},
   "source": [
    "#### debugging run"
   ]
  },
  {
   "cell_type": "code",
   "execution_count": 71,
   "id": "d46b026a-3563-409c-814e-ae6f356192a3",
   "metadata": {},
   "outputs": [
    {
     "data": {
      "text/html": [
       "<style>\n",
       ".list-inline {list-style: none; margin:0; padding: 0}\n",
       ".list-inline>li {display: inline-block}\n",
       ".list-inline>li:not(:last-child)::after {content: \"\\00b7\"; padding: 0 .5ex}\n",
       "</style>\n",
       "<ol class=list-inline><li>4370</li><li>3</li></ol>\n"
      ],
      "text/latex": [
       "\\begin{enumerate*}\n",
       "\\item 4370\n",
       "\\item 3\n",
       "\\end{enumerate*}\n"
      ],
      "text/markdown": [
       "1. 4370\n",
       "2. 3\n",
       "\n",
       "\n"
      ],
      "text/plain": [
       "[1] 4370    3"
      ]
     },
     "metadata": {},
     "output_type": "display_data"
    }
   ],
   "source": [
    "# anova_res_df = anova_res_list2table(anova_res_list, \"featureID\")\n",
    "# dim(anova_res_df) # the dimension should be the same with original table"
   ]
  },
  {
   "cell_type": "markdown",
   "id": "038d88a4",
   "metadata": {},
   "source": [
    "## Run tukey test on the `anova_res_list`"
   ]
  },
  {
   "cell_type": "code",
   "execution_count": 79,
   "id": "07979516",
   "metadata": {
    "vscode": {
     "languageId": "r"
    }
   },
   "outputs": [],
   "source": [
    "anova_res_list2tukeytest_table <- function(anova_res_list = anova_res_list,\n",
    "                                 name_of_variable = \"FTID\") {\n",
    "    # Perform tukey test and generate the table from anova result list\n",
    "    # Also current function only deals with one variable, for 2-way anova or multivariate regression, this function cannot implement\n",
    "    temp_row_list <- list()\n",
    "    \n",
    "    # search for a valid result to get template for set up the NA stuffs\n",
    "    for (i in 1:length(anova_res_list)) {\n",
    "      if(!is.null(anova_res_list[[i]])) {\n",
    "        tukey.test <- TukeyHSD(anova_res_list[[i]])\n",
    "        \n",
    "        obj_list = ls(tukey.test) # There will only be one if it is 1-way anova\n",
    "        obj = obj_list[[1]]\n",
    "        \n",
    "        tukey_oriTab = tukey.test[[obj]]\n",
    "        \n",
    "        padj_col_names = paste0('Tpadj_',rownames(tukey_oriTab))\n",
    "        colnames = c(name_of_variable,padj_col_names)\n",
    "        \n",
    "        length = dim(tukey_oriTab)[1]\n",
    "        \n",
    "        break\n",
    "        }\n",
    "    } \n",
    "    \n",
    "    # then go for the real run\n",
    "    for (i in 1:length(anova_res_list)) {\n",
    "      if(!is.null(anova_res_list[[i]])) {\n",
    "        tukey.test <- TukeyHSD(anova_res_list[[i]])\n",
    "        tukey_oriTab = tukey.test[[obj]]\n",
    "        temp_row_list[[i]] <- c(names(anova_res_list[i]), \n",
    "                                tukey_oriTab[,4] )\n",
    "        } \n",
    "        else \n",
    "        {\n",
    "        temp_row_list[[i]] <- c(names(anova_res_list[i]),\n",
    "                                rep(NA,length) ) # If Null, f-score =0, pval = 1' somehow names should be using single bracket []\n",
    "        \n",
    "      }\n",
    "    }\n",
    "    tukey_res_df = do.call(rbind, temp_row_list)\n",
    "    colnames(tukey_res_df) = colnames\n",
    "    \n",
    "    # handling the fickled things about numeric\n",
    "    tukey_res_df = data.frame(tukey_res_df)\n",
    "    rownames = tukey_res_df[,1]\n",
    "    tukey_res_df = tukey_res_df[,2:ncol(tukey_res_df)]\n",
    "    tukey_res_df = sapply(tukey_res_df, as.numeric)\n",
    "    tukey_res_df = data.frame(tukey_res_df)\n",
    "    rownames(tukey_res_df) = rownames\n",
    "    \n",
    "    # correction of Tukey post-hoc stat as well\n",
    "    Tpadj_cols = colnames(tukey_res_df)[grepl('Tpadj',colnames(tukey_res_df))]\n",
    "    for (Tpadj_col in Tpadj_cols) {\n",
    "        tukey_res_df[,gsub('Tpadj','TFDR',Tpadj_col)] <- p.adjust(tukey_res_df[,Tpadj_col], method = 'BH')\n",
    "    }\n",
    "\n",
    "    \n",
    "    # For tukey test, no need to do another round of FDR\n",
    "    return(tukey_res_df)\n",
    "}"
   ]
  },
  {
   "cell_type": "markdown",
   "id": "f0170c5c-a84a-412e-9439-ec74050a858b",
   "metadata": {
    "vscode": {
     "languageId": "r"
    }
   },
   "source": [
    "#### debugging run"
   ]
  },
  {
   "cell_type": "code",
   "execution_count": 74,
   "id": "05ed67af-78b7-4782-9c93-8724725cf6d4",
   "metadata": {
    "vscode": {
     "languageId": "r"
    }
   },
   "outputs": [
    {
     "data": {
      "text/html": [
       "<style>\n",
       ".list-inline {list-style: none; margin:0; padding: 0}\n",
       ".list-inline>li {display: inline-block}\n",
       ".list-inline>li:not(:last-child)::after {content: \"\\00b7\"; padding: 0 .5ex}\n",
       "</style>\n",
       "<ol class=list-inline><li>4370</li><li>6</li></ol>\n"
      ],
      "text/latex": [
       "\\begin{enumerate*}\n",
       "\\item 4370\n",
       "\\item 6\n",
       "\\end{enumerate*}\n"
      ],
      "text/markdown": [
       "1. 4370\n",
       "2. 6\n",
       "\n",
       "\n"
      ],
      "text/plain": [
       "[1] 4370    6"
      ]
     },
     "metadata": {},
     "output_type": "display_data"
    },
    {
     "data": {
      "text/html": [
       "TRUE"
      ],
      "text/latex": [
       "TRUE"
      ],
      "text/markdown": [
       "TRUE"
      ],
      "text/plain": [
       "[1] TRUE"
      ]
     },
     "metadata": {},
     "output_type": "display_data"
    },
    {
     "data": {
      "text/html": [
       "<style>\n",
       ".list-inline {list-style: none; margin:0; padding: 0}\n",
       ".list-inline>li {display: inline-block}\n",
       ".list-inline>li:not(:last-child)::after {content: \"\\00b7\"; padding: 0 .5ex}\n",
       "</style>\n",
       "<ol class=list-inline><li>4370</li><li>10</li></ol>\n"
      ],
      "text/latex": [
       "\\begin{enumerate*}\n",
       "\\item 4370\n",
       "\\item 10\n",
       "\\end{enumerate*}\n"
      ],
      "text/markdown": [
       "1. 4370\n",
       "2. 10\n",
       "\n",
       "\n"
      ],
      "text/plain": [
       "[1] 4370   10"
      ]
     },
     "metadata": {},
     "output_type": "display_data"
    },
    {
     "data": {
      "text/html": [
       "<style>\n",
       ".list-inline {list-style: none; margin:0; padding: 0}\n",
       ".list-inline>li {display: inline-block}\n",
       ".list-inline>li:not(:last-child)::after {content: \"\\00b7\"; padding: 0 .5ex}\n",
       "</style>\n",
       "<ol class=list-inline><li>'Row.names'</li><li>'f_score'</li><li>'pval'</li><li>'padj'</li><li>'Tpadj_R5neg.Naive'</li><li>'Tpadj_R5pos.Naive'</li><li>'Tpadj_R5pos.R5neg'</li><li>'TFDR_R5neg.Naive'</li><li>'TFDR_R5pos.Naive'</li><li>'TFDR_R5pos.R5neg'</li></ol>\n"
      ],
      "text/latex": [
       "\\begin{enumerate*}\n",
       "\\item 'Row.names'\n",
       "\\item 'f\\_score'\n",
       "\\item 'pval'\n",
       "\\item 'padj'\n",
       "\\item 'Tpadj\\_R5neg.Naive'\n",
       "\\item 'Tpadj\\_R5pos.Naive'\n",
       "\\item 'Tpadj\\_R5pos.R5neg'\n",
       "\\item 'TFDR\\_R5neg.Naive'\n",
       "\\item 'TFDR\\_R5pos.Naive'\n",
       "\\item 'TFDR\\_R5pos.R5neg'\n",
       "\\end{enumerate*}\n"
      ],
      "text/markdown": [
       "1. 'Row.names'\n",
       "2. 'f_score'\n",
       "3. 'pval'\n",
       "4. 'padj'\n",
       "5. 'Tpadj_R5neg.Naive'\n",
       "6. 'Tpadj_R5pos.Naive'\n",
       "7. 'Tpadj_R5pos.R5neg'\n",
       "8. 'TFDR_R5neg.Naive'\n",
       "9. 'TFDR_R5pos.Naive'\n",
       "10. 'TFDR_R5pos.R5neg'\n",
       "\n",
       "\n"
      ],
      "text/plain": [
       " [1] \"Row.names\"         \"f_score\"           \"pval\"             \n",
       " [4] \"padj\"              \"Tpadj_R5neg.Naive\" \"Tpadj_R5pos.Naive\"\n",
       " [7] \"Tpadj_R5pos.R5neg\" \"TFDR_R5neg.Naive\"  \"TFDR_R5pos.Naive\" \n",
       "[10] \"TFDR_R5pos.R5neg\" "
      ]
     },
     "metadata": {},
     "output_type": "display_data"
    }
   ],
   "source": [
    "# tukey_res_df = anova_res_list2tukeytest_table(anova_res_list,\"featureID\")\n",
    "\n",
    "# dim(tukey_res_df)\n",
    "\n",
    "# aov_tuk_df = merge(anova_res_df,tukey_res_df, by.x = 0, by.y = 0)\n",
    "\n",
    "# # check if rownames of both table to be merged is the same\n",
    "# all((rownames(tukey_res_df) == rownames(anova_res_df)) == TRUE)\n",
    "\n",
    "# dim(aov_tuk_df)\n",
    "# colnames(aov_tuk_df)"
   ]
  },
  {
   "cell_type": "markdown",
   "id": "61122963",
   "metadata": {},
   "source": [
    "# Wrapper function"
   ]
  },
  {
   "cell_type": "code",
   "execution_count": 80,
   "id": "14d89239",
   "metadata": {
    "vscode": {
     "languageId": "r"
    }
   },
   "outputs": [],
   "source": [
    "oneway_anova_tukey_analysis <- function(data_df = data_df.t,\n",
    "                                     meta_df = meta_df,\n",
    "                                     name_of_class = 'class',\n",
    "                                     name_of_variable = 'featureID') {\n",
    "    # always observations as rows, subjects as columns\n",
    "    # Here only suports 1-way anova which has only one variable\n",
    "    \n",
    "    prep4anova_df = merge_by_rowName(data_df, meta_df) # merge data table and metadata\n",
    "    ft_names = colnames(data_df)\n",
    "    prep4anova_df_filt <- prep4anova_df[,c(\n",
    "        colnames(prep4anova_df)[colnames(prep4anova_df) %in% ft_names], # ft_names\n",
    "        name_of_class)] # select the columns\n",
    "    \n",
    "    anova_res_list <- lapply(prep4anova_df[,ft_names], function(x) {\n",
    "                        return(tryCatch(\n",
    "                            aov(x ~ prep4anova_df[,name_of_class]), # no var.equal as the argument will be disregarded.\n",
    "                            error=function(e) NULL))\n",
    "                        })\n",
    "    anova_res_df = anova_res_list2table(anova_res_list, name_of_variable)\n",
    "    tukey_res_df = anova_res_list2tukeytest_table(anova_res_list, name_of_variable)\n",
    "    \n",
    "    # check if rownames of both table to be merged is the same\n",
    "    msg_check_rowName = all((rownames(tukey_res_df) == rownames(anova_res_df)) == TRUE)\n",
    "    print(glue('Row name of ANOVA & tukeyTest table is the same? :{msg_check_rowName}'))                           \n",
    "    \n",
    "    aov_tuk_df = merge_by_rowName(anova_res_df,tukey_res_df)\n",
    "\n",
    "    return(aov_tuk_df) # debug: list(anova_res_df,tukey_res_df)\n",
    "}"
   ]
  },
  {
   "cell_type": "code",
   "execution_count": 81,
   "id": "38e9b3f2",
   "metadata": {
    "vscode": {
     "languageId": "r"
    }
   },
   "outputs": [
    {
     "name": "stdout",
     "output_type": "stream",
     "text": [
      "Row name of ANOVA & tukeyTest table is the same? :TRUE\n"
     ]
    }
   ],
   "source": [
    "aov_tuk_df <- oneway_anova_tukey_analysis(data_df = data_df.t,\n",
    "                            meta_df = meta_df,\n",
    "                            name_of_class = 'class',\n",
    "                            name_of_variable = 'featureID')\n"
   ]
  },
  {
   "cell_type": "code",
   "execution_count": 82,
   "id": "b7570a3e-4c53-4f85-be60-c18f738eef3d",
   "metadata": {},
   "outputs": [
    {
     "data": {
      "text/html": [
       "<table class=\"dataframe\">\n",
       "<caption>A data.frame: 6 × 9</caption>\n",
       "<thead>\n",
       "\t<tr><th></th><th scope=col>f_score</th><th scope=col>pval</th><th scope=col>padj</th><th scope=col>Tpadj_R5neg.Naive</th><th scope=col>Tpadj_R5pos.Naive</th><th scope=col>Tpadj_R5pos.R5neg</th><th scope=col>TFDR_R5neg.Naive</th><th scope=col>TFDR_R5pos.Naive</th><th scope=col>TFDR_R5pos.R5neg</th></tr>\n",
       "\t<tr><th></th><th scope=col>&lt;dbl&gt;</th><th scope=col>&lt;dbl&gt;</th><th scope=col>&lt;dbl&gt;</th><th scope=col>&lt;dbl&gt;</th><th scope=col>&lt;dbl&gt;</th><th scope=col>&lt;dbl&gt;</th><th scope=col>&lt;dbl&gt;</th><th scope=col>&lt;dbl&gt;</th><th scope=col>&lt;dbl&gt;</th></tr>\n",
       "</thead>\n",
       "<tbody>\n",
       "\t<tr><th scope=row>F1</th><td>  8.8937320</td><td>1.604757e-02</td><td>0.0477060464</td><td>2.525009e-01</td><td>0.11346999</td><td>1.340772e-02</td><td>0.569658669</td><td>0.4245410</td><td>0.043642705</td></tr>\n",
       "\t<tr><th scope=row>F100</th><td>  0.6509183</td><td>5.548268e-01</td><td>0.6244123004</td><td>9.883995e-01</td><td>0.65587558</td><td>5.741049e-01</td><td>1.000000000</td><td>0.9640687</td><td>0.727410344</td></tr>\n",
       "\t<tr><th scope=row>F10000</th><td>164.8421502</td><td>5.710323e-06</td><td>0.0005958801</td><td>2.179699e-05</td><td>0.03849116</td><td>5.862164e-06</td><td>0.002442381</td><td>0.2762009</td><td>0.000826376</td></tr>\n",
       "\t<tr><th scope=row>F10004</th><td>  7.4844840</td><td>2.342732e-02</td><td>0.0612671337</td><td>5.185935e-01</td><td>0.08764415</td><td>2.156493e-02</td><td>0.849102118</td><td>0.3837725</td><td>0.060487001</td></tr>\n",
       "\t<tr><th scope=row>F10006</th><td> 11.5954627</td><td>8.683807e-03</td><td>0.0315446686</td><td>8.145709e-01</td><td>0.02037338</td><td>1.032288e-02</td><td>1.000000000</td><td>0.2176814</td><td>0.036409179</td></tr>\n",
       "\t<tr><th scope=row>F10007</th><td>  0.7671954</td><td>5.050208e-01</td><td>0.5786421349</td><td>6.394432e-01</td><td>0.97032238</td><td>5.107099e-01</td><td>0.938019256</td><td>1.0000000</td><td>0.671420627</td></tr>\n",
       "</tbody>\n",
       "</table>\n"
      ],
      "text/latex": [
       "A data.frame: 6 × 9\n",
       "\\begin{tabular}{r|lllllllll}\n",
       "  & f\\_score & pval & padj & Tpadj\\_R5neg.Naive & Tpadj\\_R5pos.Naive & Tpadj\\_R5pos.R5neg & TFDR\\_R5neg.Naive & TFDR\\_R5pos.Naive & TFDR\\_R5pos.R5neg\\\\\n",
       "  & <dbl> & <dbl> & <dbl> & <dbl> & <dbl> & <dbl> & <dbl> & <dbl> & <dbl>\\\\\n",
       "\\hline\n",
       "\tF1 &   8.8937320 & 1.604757e-02 & 0.0477060464 & 2.525009e-01 & 0.11346999 & 1.340772e-02 & 0.569658669 & 0.4245410 & 0.043642705\\\\\n",
       "\tF100 &   0.6509183 & 5.548268e-01 & 0.6244123004 & 9.883995e-01 & 0.65587558 & 5.741049e-01 & 1.000000000 & 0.9640687 & 0.727410344\\\\\n",
       "\tF10000 & 164.8421502 & 5.710323e-06 & 0.0005958801 & 2.179699e-05 & 0.03849116 & 5.862164e-06 & 0.002442381 & 0.2762009 & 0.000826376\\\\\n",
       "\tF10004 &   7.4844840 & 2.342732e-02 & 0.0612671337 & 5.185935e-01 & 0.08764415 & 2.156493e-02 & 0.849102118 & 0.3837725 & 0.060487001\\\\\n",
       "\tF10006 &  11.5954627 & 8.683807e-03 & 0.0315446686 & 8.145709e-01 & 0.02037338 & 1.032288e-02 & 1.000000000 & 0.2176814 & 0.036409179\\\\\n",
       "\tF10007 &   0.7671954 & 5.050208e-01 & 0.5786421349 & 6.394432e-01 & 0.97032238 & 5.107099e-01 & 0.938019256 & 1.0000000 & 0.671420627\\\\\n",
       "\\end{tabular}\n"
      ],
      "text/markdown": [
       "\n",
       "A data.frame: 6 × 9\n",
       "\n",
       "| <!--/--> | f_score &lt;dbl&gt; | pval &lt;dbl&gt; | padj &lt;dbl&gt; | Tpadj_R5neg.Naive &lt;dbl&gt; | Tpadj_R5pos.Naive &lt;dbl&gt; | Tpadj_R5pos.R5neg &lt;dbl&gt; | TFDR_R5neg.Naive &lt;dbl&gt; | TFDR_R5pos.Naive &lt;dbl&gt; | TFDR_R5pos.R5neg &lt;dbl&gt; |\n",
       "|---|---|---|---|---|---|---|---|---|---|\n",
       "| F1 |   8.8937320 | 1.604757e-02 | 0.0477060464 | 2.525009e-01 | 0.11346999 | 1.340772e-02 | 0.569658669 | 0.4245410 | 0.043642705 |\n",
       "| F100 |   0.6509183 | 5.548268e-01 | 0.6244123004 | 9.883995e-01 | 0.65587558 | 5.741049e-01 | 1.000000000 | 0.9640687 | 0.727410344 |\n",
       "| F10000 | 164.8421502 | 5.710323e-06 | 0.0005958801 | 2.179699e-05 | 0.03849116 | 5.862164e-06 | 0.002442381 | 0.2762009 | 0.000826376 |\n",
       "| F10004 |   7.4844840 | 2.342732e-02 | 0.0612671337 | 5.185935e-01 | 0.08764415 | 2.156493e-02 | 0.849102118 | 0.3837725 | 0.060487001 |\n",
       "| F10006 |  11.5954627 | 8.683807e-03 | 0.0315446686 | 8.145709e-01 | 0.02037338 | 1.032288e-02 | 1.000000000 | 0.2176814 | 0.036409179 |\n",
       "| F10007 |   0.7671954 | 5.050208e-01 | 0.5786421349 | 6.394432e-01 | 0.97032238 | 5.107099e-01 | 0.938019256 | 1.0000000 | 0.671420627 |\n",
       "\n"
      ],
      "text/plain": [
       "       f_score     pval         padj         Tpadj_R5neg.Naive\n",
       "F1       8.8937320 1.604757e-02 0.0477060464 2.525009e-01     \n",
       "F100     0.6509183 5.548268e-01 0.6244123004 9.883995e-01     \n",
       "F10000 164.8421502 5.710323e-06 0.0005958801 2.179699e-05     \n",
       "F10004   7.4844840 2.342732e-02 0.0612671337 5.185935e-01     \n",
       "F10006  11.5954627 8.683807e-03 0.0315446686 8.145709e-01     \n",
       "F10007   0.7671954 5.050208e-01 0.5786421349 6.394432e-01     \n",
       "       Tpadj_R5pos.Naive Tpadj_R5pos.R5neg TFDR_R5neg.Naive TFDR_R5pos.Naive\n",
       "F1     0.11346999        1.340772e-02      0.569658669      0.4245410       \n",
       "F100   0.65587558        5.741049e-01      1.000000000      0.9640687       \n",
       "F10000 0.03849116        5.862164e-06      0.002442381      0.2762009       \n",
       "F10004 0.08764415        2.156493e-02      0.849102118      0.3837725       \n",
       "F10006 0.02037338        1.032288e-02      1.000000000      0.2176814       \n",
       "F10007 0.97032238        5.107099e-01      0.938019256      1.0000000       \n",
       "       TFDR_R5pos.R5neg\n",
       "F1     0.043642705     \n",
       "F100   0.727410344     \n",
       "F10000 0.000826376     \n",
       "F10004 0.060487001     \n",
       "F10006 0.036409179     \n",
       "F10007 0.671420627     "
      ]
     },
     "metadata": {},
     "output_type": "display_data"
    }
   ],
   "source": [
    "head(aov_tuk_df)"
   ]
  },
  {
   "cell_type": "code",
   "execution_count": 27,
   "id": "ceb69de1",
   "metadata": {
    "vscode": {
     "languageId": "r"
    }
   },
   "outputs": [
    {
     "data": {
      "text/html": [
       "<style>\n",
       ".list-inline {list-style: none; margin:0; padding: 0}\n",
       ".list-inline>li {display: inline-block}\n",
       ".list-inline>li:not(:last-child)::after {content: \"\\00b7\"; padding: 0 .5ex}\n",
       "</style>\n",
       "<ol class=list-inline><li>'f_score'</li><li>'pval'</li><li>'padj'</li><li>'Tpadj_R5neg.Naive'</li><li>'Tpadj_R5pos.Naive'</li><li>'Tpadj_R5pos.R5neg'</li></ol>\n"
      ],
      "text/latex": [
       "\\begin{enumerate*}\n",
       "\\item 'f\\_score'\n",
       "\\item 'pval'\n",
       "\\item 'padj'\n",
       "\\item 'Tpadj\\_R5neg.Naive'\n",
       "\\item 'Tpadj\\_R5pos.Naive'\n",
       "\\item 'Tpadj\\_R5pos.R5neg'\n",
       "\\end{enumerate*}\n"
      ],
      "text/markdown": [
       "1. 'f_score'\n",
       "2. 'pval'\n",
       "3. 'padj'\n",
       "4. 'Tpadj_R5neg.Naive'\n",
       "5. 'Tpadj_R5pos.Naive'\n",
       "6. 'Tpadj_R5pos.R5neg'\n",
       "\n",
       "\n"
      ],
      "text/plain": [
       "[1] \"f_score\"           \"pval\"              \"padj\"             \n",
       "[4] \"Tpadj_R5neg.Naive\" \"Tpadj_R5pos.Naive\" \"Tpadj_R5pos.R5neg\""
      ]
     },
     "metadata": {},
     "output_type": "display_data"
    }
   ],
   "source": [
    "colnames(aov_tuk_df)"
   ]
  },
  {
   "cell_type": "code",
   "execution_count": 83,
   "id": "8584c9b6-bf05-451d-a621-fe9888e942e7",
   "metadata": {},
   "outputs": [
    {
     "data": {
      "text/html": [
       "<style>\n",
       ".list-inline {list-style: none; margin:0; padding: 0}\n",
       ".list-inline>li {display: inline-block}\n",
       ".list-inline>li:not(:last-child)::after {content: \"\\00b7\"; padding: 0 .5ex}\n",
       "</style>\n",
       "<ol class=list-inline><li>4370</li><li>9</li></ol>\n"
      ],
      "text/latex": [
       "\\begin{enumerate*}\n",
       "\\item 4370\n",
       "\\item 9\n",
       "\\end{enumerate*}\n"
      ],
      "text/markdown": [
       "1. 4370\n",
       "2. 9\n",
       "\n",
       "\n"
      ],
      "text/plain": [
       "[1] 4370    9"
      ]
     },
     "metadata": {},
     "output_type": "display_data"
    }
   ],
   "source": [
    "dim(aov_tuk_df)"
   ]
  },
  {
   "cell_type": "markdown",
   "id": "921d8065",
   "metadata": {},
   "source": [
    "----"
   ]
  },
  {
   "cell_type": "code",
   "execution_count": 84,
   "id": "1d1a23cd",
   "metadata": {
    "vscode": {
     "languageId": "r"
    }
   },
   "outputs": [],
   "source": [
    "histogram_p <- function(stat_df,p_label, title_label) {\n",
    "    par(mar=c(10,5,4,1))\n",
    "    par(mfrow=c(2,2))\n",
    "    pval_col_list = colnames(stat_df)[grepl(p_label, colnames(stat_df), fixed=TRUE)]\n",
    "    print(pval_col_list)\n",
    "    for (pval_col in pval_col_list) {\n",
    "        hist(stat_df[,pval_col],\n",
    "             col = 'skyblue3', \n",
    "             breaks = 20, \n",
    "             xlab=pval_col, \n",
    "             main=paste0(title_label,'\\n',gsub(p_label,'',pval_col)))\n",
    "    }\n",
    "}"
   ]
  },
  {
   "cell_type": "code",
   "execution_count": 85,
   "id": "14493c97-10c6-48d8-a4b2-a33cbeea26d6",
   "metadata": {},
   "outputs": [
    {
     "name": "stdout",
     "output_type": "stream",
     "text": [
      "[1] \"padj\"              \"Tpadj_R5neg.Naive\" \"Tpadj_R5pos.Naive\"\n",
      "[4] \"Tpadj_R5pos.R5neg\"\n"
     ]
    },
    {
     "data": {
      "image/png": "[encoded data removed]",
      "text/plain": [
       "Plot with title “\n",
       "log2perc[metabolite feature]\n",
       "T_R5pos.R5neg”"
      ]
     },
     "metadata": {
      "image/png": {
       "height": 420,
       "width": 420
      }
     },
     "output_type": "display_data"
    }
   ],
   "source": [
    "histogram_p(aov_tuk_df,'padj','\\nlog2perc[metabolite feature]')"
   ]
  },
  {
   "cell_type": "code",
   "execution_count": 86,
   "id": "0213bb00",
   "metadata": {
    "scrolled": true,
    "vscode": {
     "languageId": "r"
    }
   },
   "outputs": [
    {
     "name": "stdout",
     "output_type": "stream",
     "text": [
      "[1] \"TFDR_R5neg.Naive\" \"TFDR_R5pos.Naive\" \"TFDR_R5pos.R5neg\"\n"
     ]
    },
    {
     "data": {
      "image/png": "[encoded data removed]",
      "text/plain": [
       "Plot with title “\n",
       "log2perc[metabolite feature]\n",
       "_R5pos.R5neg”"
      ]
     },
     "metadata": {
      "image/png": {
       "height": 420,
       "width": 420
      }
     },
     "output_type": "display_data"
    }
   ],
   "source": [
    "histogram_p(aov_tuk_df,'TFDR','\\nlog2perc[metabolite feature]')"
   ]
  },
  {
   "cell_type": "code",
   "execution_count": 77,
   "id": "91ae1a0a",
   "metadata": {
    "vscode": {
     "languageId": "r"
    }
   },
   "outputs": [
    {
     "name": "stdout",
     "output_type": "stream",
     "text": [
      "[1] \"pval\"\n"
     ]
    },
    {
     "data": {
      "image/png": "[encoded data removed]",
      "text/plain": [
       "Plot with title “\n",
       "log2perc[metabolite feature]\n",
       "”"
      ]
     },
     "metadata": {
      "image/png": {
       "height": 420,
       "width": 420
      }
     },
     "output_type": "display_data"
    }
   ],
   "source": [
    "histogram_p(aov_tuk_df,'pval','\\nlog2perc[metabolite feature]')"
   ]
  },
  {
   "cell_type": "code",
   "execution_count": 87,
   "id": "e521d7a2",
   "metadata": {
    "vscode": {
     "languageId": "r"
    }
   },
   "outputs": [
    {
     "data": {
      "text/html": [
       "<style>\n",
       ".list-inline {list-style: none; margin:0; padding: 0}\n",
       ".list-inline>li {display: inline-block}\n",
       ".list-inline>li:not(:last-child)::after {content: \"\\00b7\"; padding: 0 .5ex}\n",
       "</style>\n",
       "<ol class=list-inline><li>'f_score'</li><li>'pval'</li><li>'padj'</li><li>'Tpadj_R5neg.Naive'</li><li>'Tpadj_R5pos.Naive'</li><li>'Tpadj_R5pos.R5neg'</li><li>'TFDR_R5neg.Naive'</li><li>'TFDR_R5pos.Naive'</li><li>'TFDR_R5pos.R5neg'</li></ol>\n"
      ],
      "text/latex": [
       "\\begin{enumerate*}\n",
       "\\item 'f\\_score'\n",
       "\\item 'pval'\n",
       "\\item 'padj'\n",
       "\\item 'Tpadj\\_R5neg.Naive'\n",
       "\\item 'Tpadj\\_R5pos.Naive'\n",
       "\\item 'Tpadj\\_R5pos.R5neg'\n",
       "\\item 'TFDR\\_R5neg.Naive'\n",
       "\\item 'TFDR\\_R5pos.Naive'\n",
       "\\item 'TFDR\\_R5pos.R5neg'\n",
       "\\end{enumerate*}\n"
      ],
      "text/markdown": [
       "1. 'f_score'\n",
       "2. 'pval'\n",
       "3. 'padj'\n",
       "4. 'Tpadj_R5neg.Naive'\n",
       "5. 'Tpadj_R5pos.Naive'\n",
       "6. 'Tpadj_R5pos.R5neg'\n",
       "7. 'TFDR_R5neg.Naive'\n",
       "8. 'TFDR_R5pos.Naive'\n",
       "9. 'TFDR_R5pos.R5neg'\n",
       "\n",
       "\n"
      ],
      "text/plain": [
       "[1] \"f_score\"           \"pval\"              \"padj\"             \n",
       "[4] \"Tpadj_R5neg.Naive\" \"Tpadj_R5pos.Naive\" \"Tpadj_R5pos.R5neg\"\n",
       "[7] \"TFDR_R5neg.Naive\"  \"TFDR_R5pos.Naive\"  \"TFDR_R5pos.R5neg\" "
      ]
     },
     "metadata": {},
     "output_type": "display_data"
    }
   ],
   "source": [
    "colnames(aov_tuk_df)"
   ]
  },
  {
   "cell_type": "code",
   "execution_count": 88,
   "id": "7c3350b9",
   "metadata": {
    "vscode": {
     "languageId": "r"
    }
   },
   "outputs": [
    {
     "data": {
      "text/html": [
       "<table class=\"dataframe\">\n",
       "<caption>A data.frame: 10 × 9</caption>\n",
       "<thead>\n",
       "\t<tr><th></th><th scope=col>f_score</th><th scope=col>pval</th><th scope=col>padj</th><th scope=col>Tpadj_R5neg.Naive</th><th scope=col>Tpadj_R5pos.Naive</th><th scope=col>Tpadj_R5pos.R5neg</th><th scope=col>TFDR_R5neg.Naive</th><th scope=col>TFDR_R5pos.Naive</th><th scope=col>TFDR_R5pos.R5neg</th></tr>\n",
       "\t<tr><th></th><th scope=col>&lt;dbl&gt;</th><th scope=col>&lt;dbl&gt;</th><th scope=col>&lt;dbl&gt;</th><th scope=col>&lt;dbl&gt;</th><th scope=col>&lt;dbl&gt;</th><th scope=col>&lt;dbl&gt;</th><th scope=col>&lt;dbl&gt;</th><th scope=col>&lt;dbl&gt;</th><th scope=col>&lt;dbl&gt;</th></tr>\n",
       "</thead>\n",
       "<tbody>\n",
       "\t<tr><th scope=row>F1</th><td>  8.893732</td><td>1.604757e-02</td><td>0.0477060464</td><td>2.525009e-01</td><td>0.11346999</td><td>1.340772e-02</td><td>0.569658669</td><td>0.4245410</td><td>0.043642705</td></tr>\n",
       "\t<tr><th scope=row>F10000</th><td>164.842150</td><td>5.710323e-06</td><td>0.0005958801</td><td>2.179699e-05</td><td>0.03849116</td><td>5.862164e-06</td><td>0.002442381</td><td>0.2762009</td><td>0.000826376</td></tr>\n",
       "\t<tr><th scope=row>F10006</th><td> 11.595463</td><td>8.683807e-03</td><td>0.0315446686</td><td>8.145709e-01</td><td>0.02037338</td><td>1.032288e-02</td><td>1.000000000</td><td>0.2176814</td><td>0.036409179</td></tr>\n",
       "\t<tr><th scope=row>F10010</th><td> 10.424715</td><td>1.115960e-02</td><td>0.0371126393</td><td>1.464763e-01</td><td>0.12384900</td><td>9.111863e-03</td><td>0.406155835</td><td>0.4390183</td><td>0.033206799</td></tr>\n",
       "\t<tr><th scope=row>F10015</th><td> 31.990585</td><td>6.302461e-04</td><td>0.0067997139</td><td>9.585662e-03</td><td>0.03118843</td><td>5.071496e-04</td><td>0.091869407</td><td>0.2532622</td><td>0.005957645</td></tr>\n",
       "\t<tr><th scope=row>F10016</th><td> 10.860398</td><td>1.013997e-02</td><td>0.0348636243</td><td>8.851236e-01</td><td>0.02151777</td><td>1.268558e-02</td><td>1.000000000</td><td>0.2238873</td><td>0.041965169</td></tr>\n",
       "\t<tr><th scope=row>F10027</th><td> 16.812905</td><td>3.471517e-03</td><td>0.0182338100</td><td>1.417907e-01</td><td>0.02935560</td><td>2.905392e-03</td><td>0.396941405</td><td>0.2499255</td><td>0.016575148</td></tr>\n",
       "\t<tr><th scope=row>F10036</th><td> 16.329541</td><td>3.738515e-03</td><td>0.0188870641</td><td>4.491388e-02</td><td>0.09599040</td><td>3.034032e-03</td><td>0.200075101</td><td>0.4006476</td><td>0.017020177</td></tr>\n",
       "\t<tr><th scope=row>F10037</th><td> 23.856699</td><td>1.393817e-03</td><td>0.0106156776</td><td>2.099753e-02</td><td>0.04827846</td><td>1.120106e-03</td><td>0.130711129</td><td>0.2980192</td><td>0.009333336</td></tr>\n",
       "\t<tr><th scope=row>F10042</th><td> 25.305006</td><td>1.190622e-03</td><td>0.0096021254</td><td>5.474991e-02</td><td>0.01513196</td><td>9.673734e-04</td><td>0.224925838</td><td>0.2048703</td><td>0.008454844</td></tr>\n",
       "</tbody>\n",
       "</table>\n"
      ],
      "text/latex": [
       "A data.frame: 10 × 9\n",
       "\\begin{tabular}{r|lllllllll}\n",
       "  & f\\_score & pval & padj & Tpadj\\_R5neg.Naive & Tpadj\\_R5pos.Naive & Tpadj\\_R5pos.R5neg & TFDR\\_R5neg.Naive & TFDR\\_R5pos.Naive & TFDR\\_R5pos.R5neg\\\\\n",
       "  & <dbl> & <dbl> & <dbl> & <dbl> & <dbl> & <dbl> & <dbl> & <dbl> & <dbl>\\\\\n",
       "\\hline\n",
       "\tF1 &   8.893732 & 1.604757e-02 & 0.0477060464 & 2.525009e-01 & 0.11346999 & 1.340772e-02 & 0.569658669 & 0.4245410 & 0.043642705\\\\\n",
       "\tF10000 & 164.842150 & 5.710323e-06 & 0.0005958801 & 2.179699e-05 & 0.03849116 & 5.862164e-06 & 0.002442381 & 0.2762009 & 0.000826376\\\\\n",
       "\tF10006 &  11.595463 & 8.683807e-03 & 0.0315446686 & 8.145709e-01 & 0.02037338 & 1.032288e-02 & 1.000000000 & 0.2176814 & 0.036409179\\\\\n",
       "\tF10010 &  10.424715 & 1.115960e-02 & 0.0371126393 & 1.464763e-01 & 0.12384900 & 9.111863e-03 & 0.406155835 & 0.4390183 & 0.033206799\\\\\n",
       "\tF10015 &  31.990585 & 6.302461e-04 & 0.0067997139 & 9.585662e-03 & 0.03118843 & 5.071496e-04 & 0.091869407 & 0.2532622 & 0.005957645\\\\\n",
       "\tF10016 &  10.860398 & 1.013997e-02 & 0.0348636243 & 8.851236e-01 & 0.02151777 & 1.268558e-02 & 1.000000000 & 0.2238873 & 0.041965169\\\\\n",
       "\tF10027 &  16.812905 & 3.471517e-03 & 0.0182338100 & 1.417907e-01 & 0.02935560 & 2.905392e-03 & 0.396941405 & 0.2499255 & 0.016575148\\\\\n",
       "\tF10036 &  16.329541 & 3.738515e-03 & 0.0188870641 & 4.491388e-02 & 0.09599040 & 3.034032e-03 & 0.200075101 & 0.4006476 & 0.017020177\\\\\n",
       "\tF10037 &  23.856699 & 1.393817e-03 & 0.0106156776 & 2.099753e-02 & 0.04827846 & 1.120106e-03 & 0.130711129 & 0.2980192 & 0.009333336\\\\\n",
       "\tF10042 &  25.305006 & 1.190622e-03 & 0.0096021254 & 5.474991e-02 & 0.01513196 & 9.673734e-04 & 0.224925838 & 0.2048703 & 0.008454844\\\\\n",
       "\\end{tabular}\n"
      ],
      "text/markdown": [
       "\n",
       "A data.frame: 10 × 9\n",
       "\n",
       "| <!--/--> | f_score &lt;dbl&gt; | pval &lt;dbl&gt; | padj &lt;dbl&gt; | Tpadj_R5neg.Naive &lt;dbl&gt; | Tpadj_R5pos.Naive &lt;dbl&gt; | Tpadj_R5pos.R5neg &lt;dbl&gt; | TFDR_R5neg.Naive &lt;dbl&gt; | TFDR_R5pos.Naive &lt;dbl&gt; | TFDR_R5pos.R5neg &lt;dbl&gt; |\n",
       "|---|---|---|---|---|---|---|---|---|---|\n",
       "| F1 |   8.893732 | 1.604757e-02 | 0.0477060464 | 2.525009e-01 | 0.11346999 | 1.340772e-02 | 0.569658669 | 0.4245410 | 0.043642705 |\n",
       "| F10000 | 164.842150 | 5.710323e-06 | 0.0005958801 | 2.179699e-05 | 0.03849116 | 5.862164e-06 | 0.002442381 | 0.2762009 | 0.000826376 |\n",
       "| F10006 |  11.595463 | 8.683807e-03 | 0.0315446686 | 8.145709e-01 | 0.02037338 | 1.032288e-02 | 1.000000000 | 0.2176814 | 0.036409179 |\n",
       "| F10010 |  10.424715 | 1.115960e-02 | 0.0371126393 | 1.464763e-01 | 0.12384900 | 9.111863e-03 | 0.406155835 | 0.4390183 | 0.033206799 |\n",
       "| F10015 |  31.990585 | 6.302461e-04 | 0.0067997139 | 9.585662e-03 | 0.03118843 | 5.071496e-04 | 0.091869407 | 0.2532622 | 0.005957645 |\n",
       "| F10016 |  10.860398 | 1.013997e-02 | 0.0348636243 | 8.851236e-01 | 0.02151777 | 1.268558e-02 | 1.000000000 | 0.2238873 | 0.041965169 |\n",
       "| F10027 |  16.812905 | 3.471517e-03 | 0.0182338100 | 1.417907e-01 | 0.02935560 | 2.905392e-03 | 0.396941405 | 0.2499255 | 0.016575148 |\n",
       "| F10036 |  16.329541 | 3.738515e-03 | 0.0188870641 | 4.491388e-02 | 0.09599040 | 3.034032e-03 | 0.200075101 | 0.4006476 | 0.017020177 |\n",
       "| F10037 |  23.856699 | 1.393817e-03 | 0.0106156776 | 2.099753e-02 | 0.04827846 | 1.120106e-03 | 0.130711129 | 0.2980192 | 0.009333336 |\n",
       "| F10042 |  25.305006 | 1.190622e-03 | 0.0096021254 | 5.474991e-02 | 0.01513196 | 9.673734e-04 | 0.224925838 | 0.2048703 | 0.008454844 |\n",
       "\n"
      ],
      "text/plain": [
       "       f_score    pval         padj         Tpadj_R5neg.Naive Tpadj_R5pos.Naive\n",
       "F1       8.893732 1.604757e-02 0.0477060464 2.525009e-01      0.11346999       \n",
       "F10000 164.842150 5.710323e-06 0.0005958801 2.179699e-05      0.03849116       \n",
       "F10006  11.595463 8.683807e-03 0.0315446686 8.145709e-01      0.02037338       \n",
       "F10010  10.424715 1.115960e-02 0.0371126393 1.464763e-01      0.12384900       \n",
       "F10015  31.990585 6.302461e-04 0.0067997139 9.585662e-03      0.03118843       \n",
       "F10016  10.860398 1.013997e-02 0.0348636243 8.851236e-01      0.02151777       \n",
       "F10027  16.812905 3.471517e-03 0.0182338100 1.417907e-01      0.02935560       \n",
       "F10036  16.329541 3.738515e-03 0.0188870641 4.491388e-02      0.09599040       \n",
       "F10037  23.856699 1.393817e-03 0.0106156776 2.099753e-02      0.04827846       \n",
       "F10042  25.305006 1.190622e-03 0.0096021254 5.474991e-02      0.01513196       \n",
       "       Tpadj_R5pos.R5neg TFDR_R5neg.Naive TFDR_R5pos.Naive TFDR_R5pos.R5neg\n",
       "F1     1.340772e-02      0.569658669      0.4245410        0.043642705     \n",
       "F10000 5.862164e-06      0.002442381      0.2762009        0.000826376     \n",
       "F10006 1.032288e-02      1.000000000      0.2176814        0.036409179     \n",
       "F10010 9.111863e-03      0.406155835      0.4390183        0.033206799     \n",
       "F10015 5.071496e-04      0.091869407      0.2532622        0.005957645     \n",
       "F10016 1.268558e-02      1.000000000      0.2238873        0.041965169     \n",
       "F10027 2.905392e-03      0.396941405      0.2499255        0.016575148     \n",
       "F10036 3.034032e-03      0.200075101      0.4006476        0.017020177     \n",
       "F10037 1.120106e-03      0.130711129      0.2980192        0.009333336     \n",
       "F10042 9.673734e-04      0.224925838      0.2048703        0.008454844     "
      ]
     },
     "metadata": {},
     "output_type": "display_data"
    }
   ],
   "source": [
    "sign_df = aov_tuk_df[(aov_tuk_df$padj < 0.05),]\n",
    "sign_df[1:10,]"
   ]
  },
  {
   "cell_type": "code",
   "execution_count": 89,
   "id": "9e2ff4a3-51fa-4415-afb1-2725d668deea",
   "metadata": {},
   "outputs": [
    {
     "data": {
      "text/html": [
       "1502"
      ],
      "text/latex": [
       "1502"
      ],
      "text/markdown": [
       "1502"
      ],
      "text/plain": [
       "[1] 1502"
      ]
     },
     "metadata": {},
     "output_type": "display_data"
    }
   ],
   "source": [
    "dim(aov_tuk_df[aov_tuk_df$padj < 0.05,])[1]"
   ]
  },
  {
   "cell_type": "code",
   "execution_count": 90,
   "id": "847222e6",
   "metadata": {
    "scrolled": true,
    "vscode": {
     "languageId": "r"
    }
   },
   "outputs": [
    {
     "data": {
      "text/html": [
       "2053"
      ],
      "text/latex": [
       "2053"
      ],
      "text/markdown": [
       "2053"
      ],
      "text/plain": [
       "[1] 2053"
      ]
     },
     "metadata": {},
     "output_type": "display_data"
    }
   ],
   "source": [
    "dim(aov_tuk_df[aov_tuk_df$padj < 0.1,])[1]"
   ]
  },
  {
   "cell_type": "code",
   "execution_count": 91,
   "id": "b47b71fc",
   "metadata": {
    "scrolled": true,
    "vscode": {
     "languageId": "r"
    }
   },
   "outputs": [
    {
     "data": {
      "text/html": [
       "2086"
      ],
      "text/latex": [
       "2086"
      ],
      "text/markdown": [
       "2086"
      ],
      "text/plain": [
       "[1] 2086"
      ]
     },
     "metadata": {},
     "output_type": "display_data"
    }
   ],
   "source": [
    "dim(aov_tuk_df[aov_tuk_df$pval < 0.05,])[1] # check raw p value"
   ]
  },
  {
   "cell_type": "markdown",
   "id": "2cdec720",
   "metadata": {},
   "source": [
    "-------"
   ]
  },
  {
   "cell_type": "markdown",
   "id": "9428ab20",
   "metadata": {},
   "source": [
    "----"
   ]
  },
  {
   "cell_type": "markdown",
   "id": "eb677709-b4fc-490c-bf71-02ac65ce7872",
   "metadata": {},
   "source": [
    "# construct the final result tables"
   ]
  },
  {
   "cell_type": "code",
   "execution_count": 92,
   "id": "85ea26f8-436b-478a-87df-27aaddd489ad",
   "metadata": {},
   "outputs": [],
   "source": [
    "detect_boundary_index = function(feat_df = feat_df,\n",
    "                                 Data_RegExpr = '\\\\_[0-9]+'\n",
    "                                ) {\n",
    "    # the output index is the last index for the metainfo\n",
    "    first_index4data = grep(Data_RegExpr,colnames(feat_df))[1]\n",
    "    # range = colnames(feat_df)[first_index4data - 1:first_index4data + 1]\n",
    "    print(colnames(feat_df)[first_index4data-1])\n",
    "    return(first_index4data-1)\n",
    "}"
   ]
  },
  {
   "cell_type": "code",
   "execution_count": 93,
   "id": "26390fab-d94f-46e3-bdd5-b272bf6125e5",
   "metadata": {},
   "outputs": [],
   "source": [
    "wrap_res2ful <- function(aov_tuk_df = aov_tuk_df,\n",
    "                         feat_df = feat_df,\n",
    "                         end_index = metainfo_end_index) {\n",
    "    metainfo_df = feat_df[,1:end_index]\n",
    "    metainfo_df = merge_by_rowName(metainfo_df,aov_tuk_df) # use merge by rowname in utilis\n",
    "    m_df = merge_by_rowName(metainfo_df,\n",
    "                 feat_df[(end_index + 1):ncol(feat_df)]) # use merge by rowname in utilis\n",
    "    return(m_df)\n",
    "}\n",
    "    "
   ]
  },
  {
   "cell_type": "code",
   "execution_count": 94,
   "id": "49b8332f-a97f-4afa-a110-fbc73dd18785",
   "metadata": {},
   "outputs": [
    {
     "name": "stdout",
     "output_type": "stream",
     "text": [
      "[1] \"log2FC_R5posvsR5neg\"\n"
     ]
    }
   ],
   "source": [
    "metainfo_end_index = detect_boundary_index(feat_df = feat_df, \n",
    "                                           Data_RegExpr = '\\\\_[0-9]+')\n",
    "full_res_df <- wrap_res2ful(aov_tuk_df = aov_tuk_df,\n",
    "                         feat_df = feat_df,\n",
    "                         end_index = metainfo_end_index)"
   ]
  },
  {
   "cell_type": "code",
   "execution_count": 95,
   "id": "c8f689a5-db50-4f1c-af1a-4edd58deca57",
   "metadata": {},
   "outputs": [
    {
     "data": {
      "text/html": [
       "<style>\n",
       ".list-inline {list-style: none; margin:0; padding: 0}\n",
       ".list-inline>li {display: inline-block}\n",
       ".list-inline>li:not(:last-child)::after {content: \"\\00b7\"; padding: 0 .5ex}\n",
       "</style>\n",
       "<ol class=list-inline><li>4370</li><li>43</li></ol>\n"
      ],
      "text/latex": [
       "\\begin{enumerate*}\n",
       "\\item 4370\n",
       "\\item 43\n",
       "\\end{enumerate*}\n"
      ],
      "text/markdown": [
       "1. 4370\n",
       "2. 43\n",
       "\n",
       "\n"
      ],
      "text/plain": [
       "[1] 4370   43"
      ]
     },
     "metadata": {},
     "output_type": "display_data"
    }
   ],
   "source": [
    "dim(full_res_df)"
   ]
  },
  {
   "cell_type": "code",
   "execution_count": 96,
   "id": "fd2a1b7a-0af4-4f3b-aa22-800ad216f968",
   "metadata": {},
   "outputs": [
    {
     "data": {
      "text/html": [
       "<style>\n",
       ".list-inline {list-style: none; margin:0; padding: 0}\n",
       ".list-inline>li {display: inline-block}\n",
       ".list-inline>li:not(:last-child)::after {content: \"\\00b7\"; padding: 0 .5ex}\n",
       "</style>\n",
       "<ol class=list-inline><li>'mz'</li><li>'rtime'</li><li>'rtime_left_base'</li><li>'rtime_right_base'</li><li>'parent_masstrack_id'</li><li>'peak_area'</li><li>'cSelectivity'</li><li>'goodness_fitting'</li><li>'snr'</li><li>'detection_counts'</li><li>'Naive_percNA'</li><li>'Naive_mean'</li><li>'R5neg_percNA'</li><li>'R5neg_mean'</li><li>'R5pos_percNA'</li><li>'R5pos_mean'</li><li>'gMean_Naive'</li><li>'gMean_R5neg'</li><li>'gMean_R5pos'</li><li>'log2FC_R5negvsNaive'</li><li>'log2FC_R5posvsNaive'</li><li>'log2FC_R5posvsR5neg'</li><li>'f_score'</li><li>'pval'</li><li>'padj'</li><li>'Tpadj_R5neg.Naive'</li><li>'Tpadj_R5pos.Naive'</li><li>'Tpadj_R5pos.R5neg'</li><li>'TFDR_R5neg.Naive'</li><li>'TFDR_R5pos.Naive'</li><li>'TFDR_R5pos.R5neg'</li><li>'Naive_1'</li><li>'Naive_2'</li><li>'Naive_3'</li><li>'R5neg_1'</li><li>'R5neg_2'</li><li>'R5neg_3'</li><li>'R5pos_1'</li><li>'R5pos_2'</li><li>'R5pos_3'</li><li>'nist'</li><li>'q3June2014_1'</li><li>'q3June2014_2'</li></ol>\n"
      ],
      "text/latex": [
       "\\begin{enumerate*}\n",
       "\\item 'mz'\n",
       "\\item 'rtime'\n",
       "\\item 'rtime\\_left\\_base'\n",
       "\\item 'rtime\\_right\\_base'\n",
       "\\item 'parent\\_masstrack\\_id'\n",
       "\\item 'peak\\_area'\n",
       "\\item 'cSelectivity'\n",
       "\\item 'goodness\\_fitting'\n",
       "\\item 'snr'\n",
       "\\item 'detection\\_counts'\n",
       "\\item 'Naive\\_percNA'\n",
       "\\item 'Naive\\_mean'\n",
       "\\item 'R5neg\\_percNA'\n",
       "\\item 'R5neg\\_mean'\n",
       "\\item 'R5pos\\_percNA'\n",
       "\\item 'R5pos\\_mean'\n",
       "\\item 'gMean\\_Naive'\n",
       "\\item 'gMean\\_R5neg'\n",
       "\\item 'gMean\\_R5pos'\n",
       "\\item 'log2FC\\_R5negvsNaive'\n",
       "\\item 'log2FC\\_R5posvsNaive'\n",
       "\\item 'log2FC\\_R5posvsR5neg'\n",
       "\\item 'f\\_score'\n",
       "\\item 'pval'\n",
       "\\item 'padj'\n",
       "\\item 'Tpadj\\_R5neg.Naive'\n",
       "\\item 'Tpadj\\_R5pos.Naive'\n",
       "\\item 'Tpadj\\_R5pos.R5neg'\n",
       "\\item 'TFDR\\_R5neg.Naive'\n",
       "\\item 'TFDR\\_R5pos.Naive'\n",
       "\\item 'TFDR\\_R5pos.R5neg'\n",
       "\\item 'Naive\\_1'\n",
       "\\item 'Naive\\_2'\n",
       "\\item 'Naive\\_3'\n",
       "\\item 'R5neg\\_1'\n",
       "\\item 'R5neg\\_2'\n",
       "\\item 'R5neg\\_3'\n",
       "\\item 'R5pos\\_1'\n",
       "\\item 'R5pos\\_2'\n",
       "\\item 'R5pos\\_3'\n",
       "\\item 'nist'\n",
       "\\item 'q3June2014\\_1'\n",
       "\\item 'q3June2014\\_2'\n",
       "\\end{enumerate*}\n"
      ],
      "text/markdown": [
       "1. 'mz'\n",
       "2. 'rtime'\n",
       "3. 'rtime_left_base'\n",
       "4. 'rtime_right_base'\n",
       "5. 'parent_masstrack_id'\n",
       "6. 'peak_area'\n",
       "7. 'cSelectivity'\n",
       "8. 'goodness_fitting'\n",
       "9. 'snr'\n",
       "10. 'detection_counts'\n",
       "11. 'Naive_percNA'\n",
       "12. 'Naive_mean'\n",
       "13. 'R5neg_percNA'\n",
       "14. 'R5neg_mean'\n",
       "15. 'R5pos_percNA'\n",
       "16. 'R5pos_mean'\n",
       "17. 'gMean_Naive'\n",
       "18. 'gMean_R5neg'\n",
       "19. 'gMean_R5pos'\n",
       "20. 'log2FC_R5negvsNaive'\n",
       "21. 'log2FC_R5posvsNaive'\n",
       "22. 'log2FC_R5posvsR5neg'\n",
       "23. 'f_score'\n",
       "24. 'pval'\n",
       "25. 'padj'\n",
       "26. 'Tpadj_R5neg.Naive'\n",
       "27. 'Tpadj_R5pos.Naive'\n",
       "28. 'Tpadj_R5pos.R5neg'\n",
       "29. 'TFDR_R5neg.Naive'\n",
       "30. 'TFDR_R5pos.Naive'\n",
       "31. 'TFDR_R5pos.R5neg'\n",
       "32. 'Naive_1'\n",
       "33. 'Naive_2'\n",
       "34. 'Naive_3'\n",
       "35. 'R5neg_1'\n",
       "36. 'R5neg_2'\n",
       "37. 'R5neg_3'\n",
       "38. 'R5pos_1'\n",
       "39. 'R5pos_2'\n",
       "40. 'R5pos_3'\n",
       "41. 'nist'\n",
       "42. 'q3June2014_1'\n",
       "43. 'q3June2014_2'\n",
       "\n",
       "\n"
      ],
      "text/plain": [
       " [1] \"mz\"                  \"rtime\"               \"rtime_left_base\"    \n",
       " [4] \"rtime_right_base\"    \"parent_masstrack_id\" \"peak_area\"          \n",
       " [7] \"cSelectivity\"        \"goodness_fitting\"    \"snr\"                \n",
       "[10] \"detection_counts\"    \"Naive_percNA\"        \"Naive_mean\"         \n",
       "[13] \"R5neg_percNA\"        \"R5neg_mean\"          \"R5pos_percNA\"       \n",
       "[16] \"R5pos_mean\"          \"gMean_Naive\"         \"gMean_R5neg\"        \n",
       "[19] \"gMean_R5pos\"         \"log2FC_R5negvsNaive\" \"log2FC_R5posvsNaive\"\n",
       "[22] \"log2FC_R5posvsR5neg\" \"f_score\"             \"pval\"               \n",
       "[25] \"padj\"                \"Tpadj_R5neg.Naive\"   \"Tpadj_R5pos.Naive\"  \n",
       "[28] \"Tpadj_R5pos.R5neg\"   \"TFDR_R5neg.Naive\"    \"TFDR_R5pos.Naive\"   \n",
       "[31] \"TFDR_R5pos.R5neg\"    \"Naive_1\"             \"Naive_2\"            \n",
       "[34] \"Naive_3\"             \"R5neg_1\"             \"R5neg_2\"            \n",
       "[37] \"R5neg_3\"             \"R5pos_1\"             \"R5pos_2\"            \n",
       "[40] \"R5pos_3\"             \"nist\"                \"q3June2014_1\"       \n",
       "[43] \"q3June2014_2\"       "
      ]
     },
     "metadata": {},
     "output_type": "display_data"
    }
   ],
   "source": [
    "colnames(full_res_df)"
   ]
  },
  {
   "cell_type": "markdown",
   "id": "7eab32b8-853f-485b-901b-3c6b9f04b34b",
   "metadata": {
    "tags": []
   },
   "source": [
    "## output"
   ]
  },
  {
   "cell_type": "code",
   "execution_count": 97,
   "id": "3e8f17e1-62ba-4ff2-962f-da5c491de17e",
   "metadata": {},
   "outputs": [
    {
     "name": "stderr",
     "output_type": "stream",
     "text": [
      "Warning message in dir.create(output_fdr):\n",
      "“'../../output/hMinImp_TICnorm_groupFil0.3_HILICpos_1wayANOVA' already exists”\n"
     ]
    }
   ],
   "source": [
    "output_fdr = glue('../../output/{exp_label}_1wayANOVA/')\n",
    "dir.create(output_fdr)"
   ]
  },
  {
   "cell_type": "code",
   "execution_count": 98,
   "id": "74313662-8080-436d-8028-2ff167d1d968",
   "metadata": {},
   "outputs": [],
   "source": [
    "write.csv(full_res_df,\n",
    "          file.path(output_fdr, \n",
    "                    glue('one_wayANOVA_{exp_label}_fullreport.csv')))"
   ]
  },
  {
   "cell_type": "markdown",
   "id": "659a331a-c75e-4ab7-bfe6-6096e2d93d26",
   "metadata": {},
   "source": [
    "------"
   ]
  },
  {
   "cell_type": "code",
   "execution_count": 99,
   "id": "9b5beb10-e7e8-4efd-b2ee-05f5f5d7a2d8",
   "metadata": {},
   "outputs": [],
   "source": [
    "col_stat_score = colnames(feat_df)[grep('log2FC',colnames(feat_df))]"
   ]
  },
  {
   "cell_type": "code",
   "execution_count": 100,
   "id": "b98e50f0-77c8-404e-a1e6-1abb60f28e5d",
   "metadata": {},
   "outputs": [
    {
     "data": {
      "text/html": [
       "<style>\n",
       ".list-inline {list-style: none; margin:0; padding: 0}\n",
       ".list-inline>li {display: inline-block}\n",
       ".list-inline>li:not(:last-child)::after {content: \"\\00b7\"; padding: 0 .5ex}\n",
       "</style>\n",
       "<ol class=list-inline><li>'log2FC_R5negvsNaive'</li><li>'log2FC_R5posvsNaive'</li><li>'log2FC_R5posvsR5neg'</li></ol>\n"
      ],
      "text/latex": [
       "\\begin{enumerate*}\n",
       "\\item 'log2FC\\_R5negvsNaive'\n",
       "\\item 'log2FC\\_R5posvsNaive'\n",
       "\\item 'log2FC\\_R5posvsR5neg'\n",
       "\\end{enumerate*}\n"
      ],
      "text/markdown": [
       "1. 'log2FC_R5negvsNaive'\n",
       "2. 'log2FC_R5posvsNaive'\n",
       "3. 'log2FC_R5posvsR5neg'\n",
       "\n",
       "\n"
      ],
      "text/plain": [
       "[1] \"log2FC_R5negvsNaive\" \"log2FC_R5posvsNaive\" \"log2FC_R5posvsR5neg\""
      ]
     },
     "metadata": {},
     "output_type": "display_data"
    }
   ],
   "source": [
    "col_stat_score"
   ]
  },
  {
   "cell_type": "code",
   "execution_count": 101,
   "id": "e8785ffa-b3b6-442d-abdd-2c3b634c9186",
   "metadata": {},
   "outputs": [],
   "source": [
    "col_padj_stat = colnames(aov_tuk_df)[grep('Tpadj',colnames(aov_tuk_df))]"
   ]
  },
  {
   "cell_type": "code",
   "execution_count": 102,
   "id": "89954474-4e50-4df1-9272-dec22c4ccd9c",
   "metadata": {},
   "outputs": [
    {
     "data": {
      "text/html": [
       "<style>\n",
       ".list-inline {list-style: none; margin:0; padding: 0}\n",
       ".list-inline>li {display: inline-block}\n",
       ".list-inline>li:not(:last-child)::after {content: \"\\00b7\"; padding: 0 .5ex}\n",
       "</style>\n",
       "<ol class=list-inline><li>'Tpadj_R5neg.Naive'</li><li>'Tpadj_R5pos.Naive'</li><li>'Tpadj_R5pos.R5neg'</li></ol>\n"
      ],
      "text/latex": [
       "\\begin{enumerate*}\n",
       "\\item 'Tpadj\\_R5neg.Naive'\n",
       "\\item 'Tpadj\\_R5pos.Naive'\n",
       "\\item 'Tpadj\\_R5pos.R5neg'\n",
       "\\end{enumerate*}\n"
      ],
      "text/markdown": [
       "1. 'Tpadj_R5neg.Naive'\n",
       "2. 'Tpadj_R5pos.Naive'\n",
       "3. 'Tpadj_R5pos.R5neg'\n",
       "\n",
       "\n"
      ],
      "text/plain": [
       "[1] \"Tpadj_R5neg.Naive\" \"Tpadj_R5pos.Naive\" \"Tpadj_R5pos.R5neg\""
      ]
     },
     "metadata": {},
     "output_type": "display_data"
    }
   ],
   "source": [
    "col_padj_stat"
   ]
  },
  {
   "cell_type": "code",
   "execution_count": 103,
   "id": "92ea859c-f2a0-4dcf-ac38-ab820959dfe2",
   "metadata": {},
   "outputs": [
    {
     "data": {
      "text/html": [
       "<style>\n",
       ".list-inline {list-style: none; margin:0; padding: 0}\n",
       ".list-inline>li {display: inline-block}\n",
       ".list-inline>li:not(:last-child)::after {content: \"\\00b7\"; padding: 0 .5ex}\n",
       "</style>\n",
       "<ol class=list-inline><li>TRUE</li><li>FALSE</li><li>FALSE</li></ol>\n"
      ],
      "text/latex": [
       "\\begin{enumerate*}\n",
       "\\item TRUE\n",
       "\\item FALSE\n",
       "\\item FALSE\n",
       "\\end{enumerate*}\n"
      ],
      "text/markdown": [
       "1. TRUE\n",
       "2. FALSE\n",
       "3. FALSE\n",
       "\n",
       "\n"
      ],
      "text/plain": [
       "[1]  TRUE FALSE FALSE"
      ]
     },
     "metadata": {},
     "output_type": "display_data"
    }
   ],
   "source": [
    "grepl('R5neg(\\\\.|vs)Naive',col_padj_stat)"
   ]
  },
  {
   "cell_type": "code",
   "execution_count": 114,
   "id": "3e88e2cc-3a7c-46a6-9738-3738b548e0de",
   "metadata": {
    "tags": []
   },
   "outputs": [],
   "source": [
    "contrast_regExprs = c('R5neg(\\\\.|vs)Naive',\n",
    "                      'R5pos(\\\\.|vs)Naive',\n",
    "                      'R5pos(\\\\.|vs)R5neg')\n",
    "\n",
    "res2mcg_tukey <- function(full_res_df = full_res_df,\n",
    "                         contrast_regExprs = contrast_regExprs,\n",
    "                         padj_label = 'TFDR',\n",
    "                         stat_label = 'log2FC',\n",
    "                         output_fdr = output_fdr) {\n",
    "    # Use log2FC as stat and padj/TFDR from tukey test for p cutoff\n",
    "    for (regExpr in contrast_regExprs) {\n",
    "        coln = colnames(full_res_df)\n",
    "        padj_col = coln[grep(glue(\"{padj_label}\\\\_{regExpr}\"),coln)]\n",
    "        stat_col = coln[grep(glue(\"{stat_label}\\\\_{regExpr}\"),coln)]\n",
    "        mcg_df = full_res_df[c('mz','rtime',padj_col,stat_col,'padj')]\n",
    "        mcg_df['id_number'] = rownames(full_res_df)\n",
    "        \n",
    "        true_label = strsplit(stat_col,'_')[[1]][2]\n",
    "        write.table(mcg_df,\n",
    "          file.path(output_fdr, \n",
    "                    glue('{true_label}_{exp_label}_{padj_label}_4mcg.txt')),\n",
    "                    sep = '\\t',\n",
    "                    row.names = FALSE)\n",
    "\n",
    "    }\n",
    "        \n",
    "}"
   ]
  },
  {
   "cell_type": "code",
   "execution_count": 107,
   "id": "e5a149b1-cca5-454c-8939-7ea13ee78866",
   "metadata": {
    "tags": []
   },
   "outputs": [],
   "source": [
    "res2mcg_tukey(full_res_df = full_res_df,\n",
    "                         contrast_regExprs = contrast_regExprs,\n",
    "                         padj_label = 'TFDR', # using tukey FDR instead\n",
    "                         stat_label = 'log2FC',\n",
    "                         output_fdr = output_fdr)"
   ]
  },
  {
   "cell_type": "markdown",
   "id": "6576def5-e292-41cb-b967-e148a52808c2",
   "metadata": {},
   "source": [
    "## 2-steps to control tukey stat\n"
   ]
  },
  {
   "cell_type": "code",
   "execution_count": 112,
   "id": "ed558ecb-ed9b-4a05-a387-a5016bc51f19",
   "metadata": {},
   "outputs": [],
   "source": [
    "res2mcg_tukey_2steps <- function(full_res_df = full_res_df,\n",
    "                         contrast_regExprs = contrast_regExprs,\n",
    "                         padj_label = 'Tpadj',\n",
    "                         stat_label = 'log2FC',\n",
    "                         output_fdr = output_fdr) {\n",
    "    # With 2 steps, the data go after Tpadj, \n",
    "    # but turn to 1 if the feature didn't pass the 1-way ANOVA FDR\n",
    "    # Use log2FC as stat and padj from tukey test for p cutoff\n",
    "    \n",
    "    for (regExpr in contrast_regExprs) {\n",
    "        coln = colnames(full_res_df)\n",
    "        padj_col = coln[grep(glue(\"{padj_label}\\\\_{regExpr}\"),coln)]\n",
    "        stat_col = coln[grep(glue(\"{stat_label}\\\\_{regExpr}\"),coln)]\n",
    "        mcg_df = full_res_df[c('mz','rtime',padj_col,stat_col,'padj')]\n",
    "        mcg_df['id_number'] = rownames(full_res_df)\n",
    "        \n",
    "        true_label = strsplit(stat_col,'_')[[1]][2] # just quick way to get the contrast\n",
    "        \n",
    "        mcg_df[glue(\"org_{padj_col}\")] = mcg_df[padj_col]\n",
    "        mcg_df[mcg_df$padj > 0.05, padj_col] = 1\n",
    "        \n",
    "        write.table(mcg_df,\n",
    "          file.path(output_fdr, \n",
    "                    glue('{true_label}_{exp_label}_{padj_label}_2steps_4mcg.txt')),\n",
    "                    sep = '\\t',\n",
    "                    row.names = FALSE)\n",
    "\n",
    "    }\n",
    "        \n",
    "}"
   ]
  },
  {
   "cell_type": "code",
   "execution_count": 113,
   "id": "b2c3a24e-250f-45b2-85d7-50471a28a34a",
   "metadata": {},
   "outputs": [],
   "source": [
    "res2mcg_tukey_2steps(full_res_df = full_res_df,\n",
    "                         contrast_regExprs = contrast_regExprs,\n",
    "                         padj_label = 'Tpadj', # using tukey FDR instead\n",
    "                         stat_label = 'log2FC',\n",
    "                         output_fdr = output_fdr)"
   ]
  },
  {
   "cell_type": "markdown",
   "id": "c16daf23",
   "metadata": {},
   "source": [
    "------"
   ]
  },
  {
   "cell_type": "markdown",
   "id": "71c3ae39",
   "metadata": {},
   "source": [
    "## Summary: normal one-way ANOVA\n",
    "- with Tukey post-hoc test\n",
    "- Run through all the contrast"
   ]
  }
 ],
 "metadata": {
  "kernelspec": {
   "display_name": "R",
   "language": "R",
   "name": "ir"
  },
  "language_info": {
   "codemirror_mode": "r",
   "file_extension": ".r",
   "mimetype": "text/x-r-source",
   "name": "R",
   "pygments_lexer": "r",
   "version": "4.1.3"
  }
 },
 "nbformat": 4,
 "nbformat_minor": 5
}
