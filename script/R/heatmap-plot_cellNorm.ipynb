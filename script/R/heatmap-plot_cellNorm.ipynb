{
 "cells": [
  {
   "cell_type": "markdown",
   "id": "89dd4a3f-1ebc-4031-9043-a7b66ad4bf6e",
   "metadata": {},
   "source": [
    "# Heatmap \n",
    "- using padj < 0.01 as the cutoff for the current analysis"
   ]
  },
  {
   "cell_type": "code",
   "execution_count": 5,
   "id": "ee3a87a3",
   "metadata": {},
   "outputs": [],
   "source": [
    "# Let the middle rows included.\n",
    "options(repr.matrix.max.rows=600, repr.matrix.max.cols=200)"
   ]
  },
  {
   "cell_type": "code",
   "execution_count": 6,
   "id": "d66aaf6a",
   "metadata": {},
   "outputs": [],
   "source": [
    "library(ggplot2)\n",
    "library(dplyr)\n",
    "library(NMF)\n",
    "library(RColorBrewer)\n",
    "library(pheatmap)\n",
    "library(RColorBrewer)\n",
    "library(ggpubr)\n",
    "library(glue)"
   ]
  },
  {
   "cell_type": "code",
   "execution_count": 7,
   "id": "7b96e230",
   "metadata": {},
   "outputs": [],
   "source": [
    "feat_df <- read.table(\"../../output/cellNorm_one_way_ANOVA/simple_one_wayANOVA_hMinImp_cellNorm_groupFil0.3_HILICpos_fullreport.csv\"\n",
    "        ,row.names = 1, header = TRUE, sep = ',')"
   ]
  },
  {
   "cell_type": "code",
   "execution_count": 8,
   "id": "b894413a-e765-4064-83dc-66a318f570c7",
   "metadata": {},
   "outputs": [
    {
     "data": {
      "text/html": [
       "<table class=\"dataframe\">\n",
       "<caption>A data.frame: 6 × 40</caption>\n",
       "<thead>\n",
       "\t<tr><th></th><th scope=col>mz</th><th scope=col>rtime</th><th scope=col>rtime_left_base</th><th scope=col>rtime_right_base</th><th scope=col>parent_masstrack_id</th><th scope=col>peak_area</th><th scope=col>cSelectivity</th><th scope=col>goodness_fitting</th><th scope=col>snr</th><th scope=col>detection_counts</th><th scope=col>Naive_percNA</th><th scope=col>Naive_mean</th><th scope=col>R5neg_percNA</th><th scope=col>R5neg_mean</th><th scope=col>R5pos_percNA</th><th scope=col>R5pos_mean</th><th scope=col>gMean_Naive</th><th scope=col>gMean_R5neg</th><th scope=col>gMean_R5pos</th><th scope=col>log2FC_R5negvsNaive</th><th scope=col>log2FC_R5posvsNaive</th><th scope=col>log2FC_R5posvsR5neg</th><th scope=col>f_score</th><th scope=col>pval</th><th scope=col>padj</th><th scope=col>Tpadj_R5neg.Naive</th><th scope=col>Tpadj_R5pos.Naive</th><th scope=col>Tpadj_R5pos.R5neg</th><th scope=col>Naive_1</th><th scope=col>Naive_2</th><th scope=col>Naive_3</th><th scope=col>R5neg_1</th><th scope=col>R5neg_2</th><th scope=col>R5neg_3</th><th scope=col>R5pos_1</th><th scope=col>R5pos_2</th><th scope=col>R5pos_3</th><th scope=col>nist</th><th scope=col>q3June2014_1</th><th scope=col>q3June2014_2</th></tr>\n",
       "\t<tr><th></th><th scope=col>&lt;dbl&gt;</th><th scope=col>&lt;dbl&gt;</th><th scope=col>&lt;dbl&gt;</th><th scope=col>&lt;dbl&gt;</th><th scope=col>&lt;int&gt;</th><th scope=col>&lt;dbl&gt;</th><th scope=col>&lt;dbl&gt;</th><th scope=col>&lt;dbl&gt;</th><th scope=col>&lt;int&gt;</th><th scope=col>&lt;int&gt;</th><th scope=col>&lt;dbl&gt;</th><th scope=col>&lt;dbl&gt;</th><th scope=col>&lt;dbl&gt;</th><th scope=col>&lt;dbl&gt;</th><th scope=col>&lt;dbl&gt;</th><th scope=col>&lt;dbl&gt;</th><th scope=col>&lt;dbl&gt;</th><th scope=col>&lt;dbl&gt;</th><th scope=col>&lt;dbl&gt;</th><th scope=col>&lt;dbl&gt;</th><th scope=col>&lt;dbl&gt;</th><th scope=col>&lt;dbl&gt;</th><th scope=col>&lt;dbl&gt;</th><th scope=col>&lt;dbl&gt;</th><th scope=col>&lt;dbl&gt;</th><th scope=col>&lt;dbl&gt;</th><th scope=col>&lt;dbl&gt;</th><th scope=col>&lt;dbl&gt;</th><th scope=col>&lt;dbl&gt;</th><th scope=col>&lt;dbl&gt;</th><th scope=col>&lt;dbl&gt;</th><th scope=col>&lt;dbl&gt;</th><th scope=col>&lt;dbl&gt;</th><th scope=col>&lt;dbl&gt;</th><th scope=col>&lt;dbl&gt;</th><th scope=col>&lt;dbl&gt;</th><th scope=col>&lt;dbl&gt;</th><th scope=col>&lt;dbl&gt;</th><th scope=col>&lt;dbl&gt;</th><th scope=col>&lt;dbl&gt;</th></tr>\n",
       "</thead>\n",
       "<tbody>\n",
       "\t<tr><th scope=row>F1</th><td> 85.0044</td><td> 26.00</td><td> 19.67</td><td> 28.11</td><td>   0</td><td> 2003055</td><td>0.96</td><td>0.93</td><td>106</td><td>23</td><td>0.0000000</td><td> 70477.00</td><td>0</td><td>118403.5</td><td>0.3333333</td><td> 33095.50</td><td>15.91038</td><td>15.56874</td><td>15.07132</td><td>-0.3416397</td><td>-0.8390586</td><td>-0.4974189</td><td> 0.6633234</td><td>5.492094e-01</td><td>0.5992622462</td><td>0.8891567450</td><td>0.524063422</td><td>7.837505e-01</td><td>14.75765</td><td>16.52419</td><td>16.44929</td><td>15.64991</td><td>15.73690</td><td>15.31941</td><td>13.75765</td><td>16.00143</td><td>15.45488</td><td>16.25446</td><td>16.29809</td><td>16.52315</td></tr>\n",
       "\t<tr><th scope=row>F100</th><td>130.9851</td><td> 25.74</td><td> 19.67</td><td> 28.89</td><td>1936</td><td> 3512837</td><td>1.00</td><td>0.97</td><td>217</td><td>24</td><td>0.0000000</td><td>150293.00</td><td>0</td><td>141202.2</td><td>0.0000000</td><td>140867.67</td><td>17.08157</td><td>15.82404</td><td>16.68579</td><td>-1.2575313</td><td>-0.3957843</td><td> 0.8617471</td><td> 0.3667367</td><td>7.075161e-01</td><td>0.7384392506</td><td>0.6954972259</td><td>0.962661078</td><td>8.384890e-01</td><td>17.60134</td><td>17.42220</td><td>16.22119</td><td>15.98205</td><td>15.93704</td><td>15.55304</td><td>13.12585</td><td>18.31586</td><td>18.61565</td><td>17.66144</td><td>17.55834</td><td>17.36552</td></tr>\n",
       "\t<tr><th scope=row>F10000</th><td>393.2598</td><td>422.45</td><td>419.56</td><td>429.02</td><td>8551</td><td> 3235844</td><td>1.00</td><td>0.90</td><td>148</td><td>17</td><td>0.0000000</td><td> 58362.33</td><td>1</td><td>      NA</td><td>0.0000000</td><td>127009.33</td><td>15.82286</td><td>13.16461</td><td>17.77683</td><td>-2.6582562</td><td> 1.9539617</td><td> 4.6122179</td><td>69.7260225</td><td>7.019307e-05</td><td>0.0003564284</td><td>0.0012265286</td><td>0.005972804</td><td>5.623715e-05</td><td>16.00952</td><td>15.86099</td><td>15.59808</td><td>13.16461</td><td>13.16461</td><td>13.16461</td><td>18.15472</td><td>16.85217</td><td>18.32359</td><td>19.59158</td><td>16.12541</td><td>14.16461</td></tr>\n",
       "\t<tr><th scope=row>F10004</th><td>393.2680</td><td>482.62</td><td>478.42</td><td>487.62</td><td>8553</td><td> 1092807</td><td>0.91</td><td>0.97</td><td> 51</td><td>11</td><td>0.6666667</td><td>119684.00</td><td>1</td><td>      NA</td><td>0.0000000</td><td>157185.67</td><td>15.58330</td><td>14.94052</td><td>18.11705</td><td>-0.6427836</td><td> 2.5337509</td><td> 3.1765344</td><td>16.2982521</td><td>3.756729e-03</td><td>0.0073322486</td><td>0.5523560280</td><td>0.011970521</td><td>4.010203e-03</td><td>14.94052</td><td>14.94052</td><td>16.86887</td><td>14.94052</td><td>14.94052</td><td>14.94052</td><td>18.17618</td><td>17.52588</td><td>18.64910</td><td>16.32349</td><td>15.94052</td><td>15.99033</td></tr>\n",
       "\t<tr><th scope=row>F10006</th><td>409.2267</td><td>310.52</td><td>291.08</td><td>330.49</td><td>8979</td><td>10810474</td><td>1.00</td><td>0.95</td><td>161</td><td>24</td><td>0.0000000</td><td>573708.67</td><td>0</td><td>527570.3</td><td>0.0000000</td><td>420937.67</td><td>19.11484</td><td>17.72225</td><td>19.56710</td><td>-1.3925945</td><td> 0.4522532</td><td> 1.8448477</td><td>65.6370762</td><td>8.350019e-05</td><td>0.0003935450</td><td>0.0004075358</td><td>0.079745275</td><td>8.316166e-05</td><td>18.82727</td><td>19.33012</td><td>19.18714</td><td>17.83219</td><td>17.71720</td><td>17.61735</td><td>19.80364</td><td>19.37064</td><td>19.52701</td><td>17.48562</td><td>18.17996</td><td>18.92816</td></tr>\n",
       "\t<tr><th scope=row>F10007</th><td>409.2267</td><td>348.62</td><td>344.16</td><td>364.12</td><td>8979</td><td> 2149563</td><td>1.00</td><td>0.90</td><td> 69</td><td>24</td><td>0.0000000</td><td> 17758.00</td><td>0</td><td> 23847.5</td><td>0.0000000</td><td> 19529.67</td><td>14.07900</td><td>13.14719</td><td>14.99002</td><td>-0.9318039</td><td> 0.9110276</td><td> 1.8428315</td><td> 6.3420846</td><td>3.311558e-02</td><td>0.0517579007</td><td>0.2475244610</td><td>0.260078640</td><td>2.763169e-02</td><td>14.20953</td><td>14.40873</td><td>13.61873</td><td>13.68497</td><td>12.38662</td><td>13.36999</td><td>14.18547</td><td>15.08910</td><td>15.69550</td><td>17.59065</td><td>16.99836</td><td>17.16847</td></tr>\n",
       "</tbody>\n",
       "</table>\n"
      ],
      "text/latex": [
       "A data.frame: 6 × 40\n",
       "\\begin{tabular}{r|llllllllllllllllllllllllllllllllllllllll}\n",
       "  & mz & rtime & rtime\\_left\\_base & rtime\\_right\\_base & parent\\_masstrack\\_id & peak\\_area & cSelectivity & goodness\\_fitting & snr & detection\\_counts & Naive\\_percNA & Naive\\_mean & R5neg\\_percNA & R5neg\\_mean & R5pos\\_percNA & R5pos\\_mean & gMean\\_Naive & gMean\\_R5neg & gMean\\_R5pos & log2FC\\_R5negvsNaive & log2FC\\_R5posvsNaive & log2FC\\_R5posvsR5neg & f\\_score & pval & padj & Tpadj\\_R5neg.Naive & Tpadj\\_R5pos.Naive & Tpadj\\_R5pos.R5neg & Naive\\_1 & Naive\\_2 & Naive\\_3 & R5neg\\_1 & R5neg\\_2 & R5neg\\_3 & R5pos\\_1 & R5pos\\_2 & R5pos\\_3 & nist & q3June2014\\_1 & q3June2014\\_2\\\\\n",
       "  & <dbl> & <dbl> & <dbl> & <dbl> & <int> & <dbl> & <dbl> & <dbl> & <int> & <int> & <dbl> & <dbl> & <dbl> & <dbl> & <dbl> & <dbl> & <dbl> & <dbl> & <dbl> & <dbl> & <dbl> & <dbl> & <dbl> & <dbl> & <dbl> & <dbl> & <dbl> & <dbl> & <dbl> & <dbl> & <dbl> & <dbl> & <dbl> & <dbl> & <dbl> & <dbl> & <dbl> & <dbl> & <dbl> & <dbl>\\\\\n",
       "\\hline\n",
       "\tF1 &  85.0044 &  26.00 &  19.67 &  28.11 &    0 &  2003055 & 0.96 & 0.93 & 106 & 23 & 0.0000000 &  70477.00 & 0 & 118403.5 & 0.3333333 &  33095.50 & 15.91038 & 15.56874 & 15.07132 & -0.3416397 & -0.8390586 & -0.4974189 &  0.6633234 & 5.492094e-01 & 0.5992622462 & 0.8891567450 & 0.524063422 & 7.837505e-01 & 14.75765 & 16.52419 & 16.44929 & 15.64991 & 15.73690 & 15.31941 & 13.75765 & 16.00143 & 15.45488 & 16.25446 & 16.29809 & 16.52315\\\\\n",
       "\tF100 & 130.9851 &  25.74 &  19.67 &  28.89 & 1936 &  3512837 & 1.00 & 0.97 & 217 & 24 & 0.0000000 & 150293.00 & 0 & 141202.2 & 0.0000000 & 140867.67 & 17.08157 & 15.82404 & 16.68579 & -1.2575313 & -0.3957843 &  0.8617471 &  0.3667367 & 7.075161e-01 & 0.7384392506 & 0.6954972259 & 0.962661078 & 8.384890e-01 & 17.60134 & 17.42220 & 16.22119 & 15.98205 & 15.93704 & 15.55304 & 13.12585 & 18.31586 & 18.61565 & 17.66144 & 17.55834 & 17.36552\\\\\n",
       "\tF10000 & 393.2598 & 422.45 & 419.56 & 429.02 & 8551 &  3235844 & 1.00 & 0.90 & 148 & 17 & 0.0000000 &  58362.33 & 1 &       NA & 0.0000000 & 127009.33 & 15.82286 & 13.16461 & 17.77683 & -2.6582562 &  1.9539617 &  4.6122179 & 69.7260225 & 7.019307e-05 & 0.0003564284 & 0.0012265286 & 0.005972804 & 5.623715e-05 & 16.00952 & 15.86099 & 15.59808 & 13.16461 & 13.16461 & 13.16461 & 18.15472 & 16.85217 & 18.32359 & 19.59158 & 16.12541 & 14.16461\\\\\n",
       "\tF10004 & 393.2680 & 482.62 & 478.42 & 487.62 & 8553 &  1092807 & 0.91 & 0.97 &  51 & 11 & 0.6666667 & 119684.00 & 1 &       NA & 0.0000000 & 157185.67 & 15.58330 & 14.94052 & 18.11705 & -0.6427836 &  2.5337509 &  3.1765344 & 16.2982521 & 3.756729e-03 & 0.0073322486 & 0.5523560280 & 0.011970521 & 4.010203e-03 & 14.94052 & 14.94052 & 16.86887 & 14.94052 & 14.94052 & 14.94052 & 18.17618 & 17.52588 & 18.64910 & 16.32349 & 15.94052 & 15.99033\\\\\n",
       "\tF10006 & 409.2267 & 310.52 & 291.08 & 330.49 & 8979 & 10810474 & 1.00 & 0.95 & 161 & 24 & 0.0000000 & 573708.67 & 0 & 527570.3 & 0.0000000 & 420937.67 & 19.11484 & 17.72225 & 19.56710 & -1.3925945 &  0.4522532 &  1.8448477 & 65.6370762 & 8.350019e-05 & 0.0003935450 & 0.0004075358 & 0.079745275 & 8.316166e-05 & 18.82727 & 19.33012 & 19.18714 & 17.83219 & 17.71720 & 17.61735 & 19.80364 & 19.37064 & 19.52701 & 17.48562 & 18.17996 & 18.92816\\\\\n",
       "\tF10007 & 409.2267 & 348.62 & 344.16 & 364.12 & 8979 &  2149563 & 1.00 & 0.90 &  69 & 24 & 0.0000000 &  17758.00 & 0 &  23847.5 & 0.0000000 &  19529.67 & 14.07900 & 13.14719 & 14.99002 & -0.9318039 &  0.9110276 &  1.8428315 &  6.3420846 & 3.311558e-02 & 0.0517579007 & 0.2475244610 & 0.260078640 & 2.763169e-02 & 14.20953 & 14.40873 & 13.61873 & 13.68497 & 12.38662 & 13.36999 & 14.18547 & 15.08910 & 15.69550 & 17.59065 & 16.99836 & 17.16847\\\\\n",
       "\\end{tabular}\n"
      ],
      "text/markdown": [
       "\n",
       "A data.frame: 6 × 40\n",
       "\n",
       "| <!--/--> | mz &lt;dbl&gt; | rtime &lt;dbl&gt; | rtime_left_base &lt;dbl&gt; | rtime_right_base &lt;dbl&gt; | parent_masstrack_id &lt;int&gt; | peak_area &lt;dbl&gt; | cSelectivity &lt;dbl&gt; | goodness_fitting &lt;dbl&gt; | snr &lt;int&gt; | detection_counts &lt;int&gt; | Naive_percNA &lt;dbl&gt; | Naive_mean &lt;dbl&gt; | R5neg_percNA &lt;dbl&gt; | R5neg_mean &lt;dbl&gt; | R5pos_percNA &lt;dbl&gt; | R5pos_mean &lt;dbl&gt; | gMean_Naive &lt;dbl&gt; | gMean_R5neg &lt;dbl&gt; | gMean_R5pos &lt;dbl&gt; | log2FC_R5negvsNaive &lt;dbl&gt; | log2FC_R5posvsNaive &lt;dbl&gt; | log2FC_R5posvsR5neg &lt;dbl&gt; | f_score &lt;dbl&gt; | pval &lt;dbl&gt; | padj &lt;dbl&gt; | Tpadj_R5neg.Naive &lt;dbl&gt; | Tpadj_R5pos.Naive &lt;dbl&gt; | Tpadj_R5pos.R5neg &lt;dbl&gt; | Naive_1 &lt;dbl&gt; | Naive_2 &lt;dbl&gt; | Naive_3 &lt;dbl&gt; | R5neg_1 &lt;dbl&gt; | R5neg_2 &lt;dbl&gt; | R5neg_3 &lt;dbl&gt; | R5pos_1 &lt;dbl&gt; | R5pos_2 &lt;dbl&gt; | R5pos_3 &lt;dbl&gt; | nist &lt;dbl&gt; | q3June2014_1 &lt;dbl&gt; | q3June2014_2 &lt;dbl&gt; |\n",
       "|---|---|---|---|---|---|---|---|---|---|---|---|---|---|---|---|---|---|---|---|---|---|---|---|---|---|---|---|---|---|---|---|---|---|---|---|---|---|---|---|---|\n",
       "| F1 |  85.0044 |  26.00 |  19.67 |  28.11 |    0 |  2003055 | 0.96 | 0.93 | 106 | 23 | 0.0000000 |  70477.00 | 0 | 118403.5 | 0.3333333 |  33095.50 | 15.91038 | 15.56874 | 15.07132 | -0.3416397 | -0.8390586 | -0.4974189 |  0.6633234 | 5.492094e-01 | 0.5992622462 | 0.8891567450 | 0.524063422 | 7.837505e-01 | 14.75765 | 16.52419 | 16.44929 | 15.64991 | 15.73690 | 15.31941 | 13.75765 | 16.00143 | 15.45488 | 16.25446 | 16.29809 | 16.52315 |\n",
       "| F100 | 130.9851 |  25.74 |  19.67 |  28.89 | 1936 |  3512837 | 1.00 | 0.97 | 217 | 24 | 0.0000000 | 150293.00 | 0 | 141202.2 | 0.0000000 | 140867.67 | 17.08157 | 15.82404 | 16.68579 | -1.2575313 | -0.3957843 |  0.8617471 |  0.3667367 | 7.075161e-01 | 0.7384392506 | 0.6954972259 | 0.962661078 | 8.384890e-01 | 17.60134 | 17.42220 | 16.22119 | 15.98205 | 15.93704 | 15.55304 | 13.12585 | 18.31586 | 18.61565 | 17.66144 | 17.55834 | 17.36552 |\n",
       "| F10000 | 393.2598 | 422.45 | 419.56 | 429.02 | 8551 |  3235844 | 1.00 | 0.90 | 148 | 17 | 0.0000000 |  58362.33 | 1 |       NA | 0.0000000 | 127009.33 | 15.82286 | 13.16461 | 17.77683 | -2.6582562 |  1.9539617 |  4.6122179 | 69.7260225 | 7.019307e-05 | 0.0003564284 | 0.0012265286 | 0.005972804 | 5.623715e-05 | 16.00952 | 15.86099 | 15.59808 | 13.16461 | 13.16461 | 13.16461 | 18.15472 | 16.85217 | 18.32359 | 19.59158 | 16.12541 | 14.16461 |\n",
       "| F10004 | 393.2680 | 482.62 | 478.42 | 487.62 | 8553 |  1092807 | 0.91 | 0.97 |  51 | 11 | 0.6666667 | 119684.00 | 1 |       NA | 0.0000000 | 157185.67 | 15.58330 | 14.94052 | 18.11705 | -0.6427836 |  2.5337509 |  3.1765344 | 16.2982521 | 3.756729e-03 | 0.0073322486 | 0.5523560280 | 0.011970521 | 4.010203e-03 | 14.94052 | 14.94052 | 16.86887 | 14.94052 | 14.94052 | 14.94052 | 18.17618 | 17.52588 | 18.64910 | 16.32349 | 15.94052 | 15.99033 |\n",
       "| F10006 | 409.2267 | 310.52 | 291.08 | 330.49 | 8979 | 10810474 | 1.00 | 0.95 | 161 | 24 | 0.0000000 | 573708.67 | 0 | 527570.3 | 0.0000000 | 420937.67 | 19.11484 | 17.72225 | 19.56710 | -1.3925945 |  0.4522532 |  1.8448477 | 65.6370762 | 8.350019e-05 | 0.0003935450 | 0.0004075358 | 0.079745275 | 8.316166e-05 | 18.82727 | 19.33012 | 19.18714 | 17.83219 | 17.71720 | 17.61735 | 19.80364 | 19.37064 | 19.52701 | 17.48562 | 18.17996 | 18.92816 |\n",
       "| F10007 | 409.2267 | 348.62 | 344.16 | 364.12 | 8979 |  2149563 | 1.00 | 0.90 |  69 | 24 | 0.0000000 |  17758.00 | 0 |  23847.5 | 0.0000000 |  19529.67 | 14.07900 | 13.14719 | 14.99002 | -0.9318039 |  0.9110276 |  1.8428315 |  6.3420846 | 3.311558e-02 | 0.0517579007 | 0.2475244610 | 0.260078640 | 2.763169e-02 | 14.20953 | 14.40873 | 13.61873 | 13.68497 | 12.38662 | 13.36999 | 14.18547 | 15.08910 | 15.69550 | 17.59065 | 16.99836 | 17.16847 |\n",
       "\n"
      ],
      "text/plain": [
       "       mz       rtime  rtime_left_base rtime_right_base parent_masstrack_id\n",
       "F1      85.0044  26.00  19.67           28.11              0               \n",
       "F100   130.9851  25.74  19.67           28.89           1936               \n",
       "F10000 393.2598 422.45 419.56          429.02           8551               \n",
       "F10004 393.2680 482.62 478.42          487.62           8553               \n",
       "F10006 409.2267 310.52 291.08          330.49           8979               \n",
       "F10007 409.2267 348.62 344.16          364.12           8979               \n",
       "       peak_area cSelectivity goodness_fitting snr detection_counts\n",
       "F1      2003055  0.96         0.93             106 23              \n",
       "F100    3512837  1.00         0.97             217 24              \n",
       "F10000  3235844  1.00         0.90             148 17              \n",
       "F10004  1092807  0.91         0.97              51 11              \n",
       "F10006 10810474  1.00         0.95             161 24              \n",
       "F10007  2149563  1.00         0.90              69 24              \n",
       "       Naive_percNA Naive_mean R5neg_percNA R5neg_mean R5pos_percNA R5pos_mean\n",
       "F1     0.0000000     70477.00  0            118403.5   0.3333333     33095.50 \n",
       "F100   0.0000000    150293.00  0            141202.2   0.0000000    140867.67 \n",
       "F10000 0.0000000     58362.33  1                  NA   0.0000000    127009.33 \n",
       "F10004 0.6666667    119684.00  1                  NA   0.0000000    157185.67 \n",
       "F10006 0.0000000    573708.67  0            527570.3   0.0000000    420937.67 \n",
       "F10007 0.0000000     17758.00  0             23847.5   0.0000000     19529.67 \n",
       "       gMean_Naive gMean_R5neg gMean_R5pos log2FC_R5negvsNaive\n",
       "F1     15.91038    15.56874    15.07132    -0.3416397         \n",
       "F100   17.08157    15.82404    16.68579    -1.2575313         \n",
       "F10000 15.82286    13.16461    17.77683    -2.6582562         \n",
       "F10004 15.58330    14.94052    18.11705    -0.6427836         \n",
       "F10006 19.11484    17.72225    19.56710    -1.3925945         \n",
       "F10007 14.07900    13.14719    14.99002    -0.9318039         \n",
       "       log2FC_R5posvsNaive log2FC_R5posvsR5neg f_score    pval        \n",
       "F1     -0.8390586          -0.4974189           0.6633234 5.492094e-01\n",
       "F100   -0.3957843           0.8617471           0.3667367 7.075161e-01\n",
       "F10000  1.9539617           4.6122179          69.7260225 7.019307e-05\n",
       "F10004  2.5337509           3.1765344          16.2982521 3.756729e-03\n",
       "F10006  0.4522532           1.8448477          65.6370762 8.350019e-05\n",
       "F10007  0.9110276           1.8428315           6.3420846 3.311558e-02\n",
       "       padj         Tpadj_R5neg.Naive Tpadj_R5pos.Naive Tpadj_R5pos.R5neg\n",
       "F1     0.5992622462 0.8891567450      0.524063422       7.837505e-01     \n",
       "F100   0.7384392506 0.6954972259      0.962661078       8.384890e-01     \n",
       "F10000 0.0003564284 0.0012265286      0.005972804       5.623715e-05     \n",
       "F10004 0.0073322486 0.5523560280      0.011970521       4.010203e-03     \n",
       "F10006 0.0003935450 0.0004075358      0.079745275       8.316166e-05     \n",
       "F10007 0.0517579007 0.2475244610      0.260078640       2.763169e-02     \n",
       "       Naive_1  Naive_2  Naive_3  R5neg_1  R5neg_2  R5neg_3  R5pos_1  R5pos_2 \n",
       "F1     14.75765 16.52419 16.44929 15.64991 15.73690 15.31941 13.75765 16.00143\n",
       "F100   17.60134 17.42220 16.22119 15.98205 15.93704 15.55304 13.12585 18.31586\n",
       "F10000 16.00952 15.86099 15.59808 13.16461 13.16461 13.16461 18.15472 16.85217\n",
       "F10004 14.94052 14.94052 16.86887 14.94052 14.94052 14.94052 18.17618 17.52588\n",
       "F10006 18.82727 19.33012 19.18714 17.83219 17.71720 17.61735 19.80364 19.37064\n",
       "F10007 14.20953 14.40873 13.61873 13.68497 12.38662 13.36999 14.18547 15.08910\n",
       "       R5pos_3  nist     q3June2014_1 q3June2014_2\n",
       "F1     15.45488 16.25446 16.29809     16.52315    \n",
       "F100   18.61565 17.66144 17.55834     17.36552    \n",
       "F10000 18.32359 19.59158 16.12541     14.16461    \n",
       "F10004 18.64910 16.32349 15.94052     15.99033    \n",
       "F10006 19.52701 17.48562 18.17996     18.92816    \n",
       "F10007 15.69550 17.59065 16.99836     17.16847    "
      ]
     },
     "metadata": {},
     "output_type": "display_data"
    }
   ],
   "source": [
    "head(feat_df)"
   ]
  },
  {
   "cell_type": "code",
   "execution_count": 9,
   "id": "7f83563d",
   "metadata": {},
   "outputs": [],
   "source": [
    "meta_df <- read.table(\"../../input/sequence_file/clean_deduplicated_meta_df.csv\",\n",
    "                     header = TRUE, sep = ',', row.names = 1)"
   ]
  },
  {
   "cell_type": "code",
   "execution_count": 10,
   "id": "d1ff1174",
   "metadata": {},
   "outputs": [
    {
     "data": {
      "text/html": [
       "<table class=\"dataframe\">\n",
       "<caption>A data.frame: 5 × 3</caption>\n",
       "<thead>\n",
       "\t<tr><th></th><th scope=col>class</th><th scope=col>biological_samples</th><th scope=col>cell_number</th></tr>\n",
       "\t<tr><th></th><th scope=col>&lt;chr&gt;</th><th scope=col>&lt;chr&gt;</th><th scope=col>&lt;int&gt;</th></tr>\n",
       "</thead>\n",
       "<tbody>\n",
       "\t<tr><th scope=row>Naive_1</th><td>Naive</td><td>Yes</td><td>300</td></tr>\n",
       "\t<tr><th scope=row>Naive_2</th><td>Naive</td><td>Yes</td><td>300</td></tr>\n",
       "\t<tr><th scope=row>Naive_3</th><td>Naive</td><td>Yes</td><td>300</td></tr>\n",
       "\t<tr><th scope=row>R5neg_1</th><td>R5neg</td><td>Yes</td><td>655</td></tr>\n",
       "\t<tr><th scope=row>R5neg_2</th><td>R5neg</td><td>Yes</td><td>687</td></tr>\n",
       "</tbody>\n",
       "</table>\n"
      ],
      "text/latex": [
       "A data.frame: 5 × 3\n",
       "\\begin{tabular}{r|lll}\n",
       "  & class & biological\\_samples & cell\\_number\\\\\n",
       "  & <chr> & <chr> & <int>\\\\\n",
       "\\hline\n",
       "\tNaive\\_1 & Naive & Yes & 300\\\\\n",
       "\tNaive\\_2 & Naive & Yes & 300\\\\\n",
       "\tNaive\\_3 & Naive & Yes & 300\\\\\n",
       "\tR5neg\\_1 & R5neg & Yes & 655\\\\\n",
       "\tR5neg\\_2 & R5neg & Yes & 687\\\\\n",
       "\\end{tabular}\n"
      ],
      "text/markdown": [
       "\n",
       "A data.frame: 5 × 3\n",
       "\n",
       "| <!--/--> | class &lt;chr&gt; | biological_samples &lt;chr&gt; | cell_number &lt;int&gt; |\n",
       "|---|---|---|---|\n",
       "| Naive_1 | Naive | Yes | 300 |\n",
       "| Naive_2 | Naive | Yes | 300 |\n",
       "| Naive_3 | Naive | Yes | 300 |\n",
       "| R5neg_1 | R5neg | Yes | 655 |\n",
       "| R5neg_2 | R5neg | Yes | 687 |\n",
       "\n"
      ],
      "text/plain": [
       "        class biological_samples cell_number\n",
       "Naive_1 Naive Yes                300        \n",
       "Naive_2 Naive Yes                300        \n",
       "Naive_3 Naive Yes                300        \n",
       "R5neg_1 R5neg Yes                655        \n",
       "R5neg_2 R5neg Yes                687        "
      ]
     },
     "metadata": {},
     "output_type": "display_data"
    }
   ],
   "source": [
    "head(meta_df,5)"
   ]
  },
  {
   "cell_type": "code",
   "execution_count": 11,
   "id": "17d0200f",
   "metadata": {},
   "outputs": [
    {
     "data": {
      "text/html": [
       "<style>\n",
       ".list-inline {list-style: none; margin:0; padding: 0}\n",
       ".list-inline>li {display: inline-block}\n",
       ".list-inline>li:not(:last-child)::after {content: \"\\00b7\"; padding: 0 .5ex}\n",
       "</style>\n",
       "<ol class=list-inline><li>'Naive_1'</li><li>'Naive_2'</li><li>'Naive_3'</li><li>'R5neg_1'</li><li>'R5neg_2'</li><li>'R5neg_3'</li><li>'R5pos_1'</li><li>'R5pos_2'</li><li>'R5pos_3'</li></ol>\n"
      ],
      "text/latex": [
       "\\begin{enumerate*}\n",
       "\\item 'Naive\\_1'\n",
       "\\item 'Naive\\_2'\n",
       "\\item 'Naive\\_3'\n",
       "\\item 'R5neg\\_1'\n",
       "\\item 'R5neg\\_2'\n",
       "\\item 'R5neg\\_3'\n",
       "\\item 'R5pos\\_1'\n",
       "\\item 'R5pos\\_2'\n",
       "\\item 'R5pos\\_3'\n",
       "\\end{enumerate*}\n"
      ],
      "text/markdown": [
       "1. 'Naive_1'\n",
       "2. 'Naive_2'\n",
       "3. 'Naive_3'\n",
       "4. 'R5neg_1'\n",
       "5. 'R5neg_2'\n",
       "6. 'R5neg_3'\n",
       "7. 'R5pos_1'\n",
       "8. 'R5pos_2'\n",
       "9. 'R5pos_3'\n",
       "\n",
       "\n"
      ],
      "text/plain": [
       "[1] \"Naive_1\" \"Naive_2\" \"Naive_3\" \"R5neg_1\" \"R5neg_2\" \"R5neg_3\" \"R5pos_1\"\n",
       "[8] \"R5pos_2\" \"R5pos_3\""
      ]
     },
     "metadata": {},
     "output_type": "display_data"
    },
    {
     "data": {
      "text/html": [
       "9"
      ],
      "text/latex": [
       "9"
      ],
      "text/markdown": [
       "9"
      ],
      "text/plain": [
       "[1] 9"
      ]
     },
     "metadata": {},
     "output_type": "display_data"
    },
    {
     "data": {
      "text/html": [
       "<style>\n",
       ".list-inline {list-style: none; margin:0; padding: 0}\n",
       ".list-inline>li {display: inline-block}\n",
       ".list-inline>li:not(:last-child)::after {content: \"\\00b7\"; padding: 0 .5ex}\n",
       "</style>\n",
       "<ol class=list-inline><li>'padj'</li><li>'Tpadj_R5neg.Naive'</li><li>'Tpadj_R5pos.Naive'</li><li>'Tpadj_R5pos.R5neg'</li></ol>\n"
      ],
      "text/latex": [
       "\\begin{enumerate*}\n",
       "\\item 'padj'\n",
       "\\item 'Tpadj\\_R5neg.Naive'\n",
       "\\item 'Tpadj\\_R5pos.Naive'\n",
       "\\item 'Tpadj\\_R5pos.R5neg'\n",
       "\\end{enumerate*}\n"
      ],
      "text/markdown": [
       "1. 'padj'\n",
       "2. 'Tpadj_R5neg.Naive'\n",
       "3. 'Tpadj_R5pos.Naive'\n",
       "4. 'Tpadj_R5pos.R5neg'\n",
       "\n",
       "\n"
      ],
      "text/plain": [
       "[1] \"padj\"              \"Tpadj_R5neg.Naive\" \"Tpadj_R5pos.Naive\"\n",
       "[4] \"Tpadj_R5pos.R5neg\""
      ]
     },
     "metadata": {},
     "output_type": "display_data"
    }
   ],
   "source": [
    "sample_names = colnames(feat_df)[grepl('Naive\\\\_[0-9]+|R5pos\\\\_[0-9]+|R5neg\\\\_[0-9]+',colnames(feat_df))]\n",
    "sample_names\n",
    "length(sample_names)\n",
    "padj_columns = colnames(feat_df[grepl('padj',colnames(feat_df))]);padj_columns"
   ]
  },
  {
   "cell_type": "code",
   "execution_count": 12,
   "id": "32f67015",
   "metadata": {},
   "outputs": [
    {
     "data": {
      "text/html": [
       "<style>\n",
       ".list-inline {list-style: none; margin:0; padding: 0}\n",
       ".list-inline>li {display: inline-block}\n",
       ".list-inline>li:not(:last-child)::after {content: \"\\00b7\"; padding: 0 .5ex}\n",
       "</style>\n",
       "<ol class=list-inline><li>'class'</li><li>'biological_samples'</li><li>'cell_number'</li></ol>\n"
      ],
      "text/latex": [
       "\\begin{enumerate*}\n",
       "\\item 'class'\n",
       "\\item 'biological\\_samples'\n",
       "\\item 'cell\\_number'\n",
       "\\end{enumerate*}\n"
      ],
      "text/markdown": [
       "1. 'class'\n",
       "2. 'biological_samples'\n",
       "3. 'cell_number'\n",
       "\n",
       "\n"
      ],
      "text/plain": [
       "[1] \"class\"              \"biological_samples\" \"cell_number\"       "
      ]
     },
     "metadata": {},
     "output_type": "display_data"
    }
   ],
   "source": [
    "colnames(meta_df)"
   ]
  },
  {
   "cell_type": "markdown",
   "id": "772fb93f",
   "metadata": {},
   "source": [
    "# Define filtering level - FDR control"
   ]
  },
  {
   "cell_type": "code",
   "execution_count": 13,
   "id": "7c324e4f",
   "metadata": {},
   "outputs": [],
   "source": [
    "filtered_level = 0.01\n",
    "feat_df.filt = feat_df[feat_df$padj < filtered_level & !is.na(feat_df$padj),]"
   ]
  },
  {
   "cell_type": "code",
   "execution_count": 14,
   "id": "f8497981-28b0-4691-9832-6067d994f732",
   "metadata": {},
   "outputs": [
    {
     "data": {
      "text/html": [
       "<style>\n",
       ".list-inline {list-style: none; margin:0; padding: 0}\n",
       ".list-inline>li {display: inline-block}\n",
       ".list-inline>li:not(:last-child)::after {content: \"\\00b7\"; padding: 0 .5ex}\n",
       "</style>\n",
       "<ol class=list-inline><li>2331</li><li>40</li></ol>\n"
      ],
      "text/latex": [
       "\\begin{enumerate*}\n",
       "\\item 2331\n",
       "\\item 40\n",
       "\\end{enumerate*}\n"
      ],
      "text/markdown": [
       "1. 2331\n",
       "2. 40\n",
       "\n",
       "\n"
      ],
      "text/plain": [
       "[1] 2331   40"
      ]
     },
     "metadata": {},
     "output_type": "display_data"
    }
   ],
   "source": [
    "dim(feat_df.filt)"
   ]
  },
  {
   "cell_type": "markdown",
   "id": "50431841-66f4-467b-86e2-9371975cbd85",
   "metadata": {},
   "source": [
    "## subset datatable with only data values"
   ]
  },
  {
   "cell_type": "code",
   "execution_count": 15,
   "id": "e2bcceaa-fdba-452d-ab0f-ddbb3c4c8149",
   "metadata": {},
   "outputs": [],
   "source": [
    "feat_df.filt.data = feat_df.filt[sample_names]"
   ]
  },
  {
   "cell_type": "markdown",
   "id": "0f8b0535-f89b-455c-9647-802afdd51a2f",
   "metadata": {},
   "source": [
    "# Plot heatmap wrapper function"
   ]
  },
  {
   "cell_type": "code",
   "execution_count": 16,
   "id": "ff4c9748",
   "metadata": {},
   "outputs": [],
   "source": [
    "feat_df.filt.data.scale <- t(scale(t(feat_df.filt.data)))"
   ]
  },
  {
   "cell_type": "code",
   "execution_count": 17,
   "id": "e55fe7e2",
   "metadata": {},
   "outputs": [
    {
     "data": {
      "text/html": [
       "<style>\n",
       ".list-inline {list-style: none; margin:0; padding: 0}\n",
       ".list-inline>li {display: inline-block}\n",
       ".list-inline>li:not(:last-child)::after {content: \"\\00b7\"; padding: 0 .5ex}\n",
       "</style>\n",
       "<ol class=list-inline><li>-2.01209926069708</li><li>2.15302122726038</li></ol>\n"
      ],
      "text/latex": [
       "\\begin{enumerate*}\n",
       "\\item -2.01209926069708\n",
       "\\item 2.15302122726038\n",
       "\\end{enumerate*}\n"
      ],
      "text/markdown": [
       "1. -2.01209926069708\n",
       "2. 2.15302122726038\n",
       "\n",
       "\n"
      ],
      "text/plain": [
       "[1] -2.012099  2.153021"
      ]
     },
     "metadata": {},
     "output_type": "display_data"
    }
   ],
   "source": [
    "range(feat_df.filt.data.scale, na.rm = TRUE)"
   ]
  },
  {
   "cell_type": "markdown",
   "id": "351ea19c",
   "metadata": {},
   "source": [
    "#### columns and rows annotation"
   ]
  },
  {
   "cell_type": "code",
   "execution_count": 18,
   "id": "ebd3c980-f805-431f-848b-5a1bb76e3ce1",
   "metadata": {},
   "outputs": [
    {
     "data": {
      "text/html": [
       "<style>\n",
       ".list-inline {list-style: none; margin:0; padding: 0}\n",
       ".list-inline>li {display: inline-block}\n",
       ".list-inline>li:not(:last-child)::after {content: \"\\00b7\"; padding: 0 .5ex}\n",
       "</style>\n",
       "<ol class=list-inline><li>'class'</li><li>'biological_samples'</li><li>'cell_number'</li></ol>\n"
      ],
      "text/latex": [
       "\\begin{enumerate*}\n",
       "\\item 'class'\n",
       "\\item 'biological\\_samples'\n",
       "\\item 'cell\\_number'\n",
       "\\end{enumerate*}\n"
      ],
      "text/markdown": [
       "1. 'class'\n",
       "2. 'biological_samples'\n",
       "3. 'cell_number'\n",
       "\n",
       "\n"
      ],
      "text/plain": [
       "[1] \"class\"              \"biological_samples\" \"cell_number\"       "
      ]
     },
     "metadata": {},
     "output_type": "display_data"
    }
   ],
   "source": [
    "colnames(meta_df)"
   ]
  },
  {
   "cell_type": "code",
   "execution_count": 19,
   "id": "83187dd9-9b4b-4595-b31f-0add186738bc",
   "metadata": {},
   "outputs": [
    {
     "data": {
      "text/html": [
       "<style>\n",
       ".list-inline {list-style: none; margin:0; padding: 0}\n",
       ".list-inline>li {display: inline-block}\n",
       ".list-inline>li:not(:last-child)::after {content: \"\\00b7\"; padding: 0 .5ex}\n",
       "</style>\n",
       "<ol class=list-inline><li>'Naive'</li><li>'R5neg'</li><li>'R5pos'</li></ol>\n"
      ],
      "text/latex": [
       "\\begin{enumerate*}\n",
       "\\item 'Naive'\n",
       "\\item 'R5neg'\n",
       "\\item 'R5pos'\n",
       "\\end{enumerate*}\n"
      ],
      "text/markdown": [
       "1. 'Naive'\n",
       "2. 'R5neg'\n",
       "3. 'R5pos'\n",
       "\n",
       "\n"
      ],
      "text/plain": [
       "[1] \"Naive\" \"R5neg\" \"R5pos\""
      ]
     },
     "metadata": {},
     "output_type": "display_data"
    }
   ],
   "source": [
    "unique(meta_df$class)"
   ]
  },
  {
   "cell_type": "markdown",
   "id": "a11149ef-4a70-433d-ae51-8b1402a5e022",
   "metadata": {},
   "source": [
    "## Since the metadata is not exclusively the data "
   ]
  },
  {
   "cell_type": "code",
   "execution_count": 20,
   "id": "7b0b9d69-80da-41fa-b02f-031206006be9",
   "metadata": {},
   "outputs": [],
   "source": [
    "# since the row names are the sample.ID used in data colnames\n",
    "meta_df = meta_df[sample_names,]"
   ]
  },
  {
   "cell_type": "code",
   "execution_count": 21,
   "id": "daee90e8-36a9-4ccb-ac92-61a85baa1f31",
   "metadata": {},
   "outputs": [],
   "source": [
    "assign_values4annot <- function(df = feat_df.filt.data.scale, \n",
    "                                meta_column_name = 'class') {  \n",
    "    Var_vec = colnames(df)\n",
    "    for (factor_level in unique(meta_df[,meta_column_name])) {\n",
    "        Var_vec[Var_vec %in% \n",
    "                 rownames(meta_df[meta_df[,meta_column_name] == factor_level,])] = factor_level\n",
    "        }\n",
    "    return(Var_vec)\n",
    "}"
   ]
  },
  {
   "cell_type": "code",
   "execution_count": 22,
   "id": "24524412-3c8e-4f74-9308-6b9a86b1430c",
   "metadata": {
    "tags": []
   },
   "outputs": [],
   "source": [
    "Var1_vec = assign_values4annot(feat_df.filt.data.scale, 'class')"
   ]
  },
  {
   "cell_type": "code",
   "execution_count": 23,
   "id": "b92c6c1f",
   "metadata": {},
   "outputs": [],
   "source": [
    "annotation_col = data.frame(class = Var1_vec)\n",
    "rownames(annotation_col) = colnames(feat_df.filt.data.scale)                            \n",
    "\n",
    "# annotation_col = data.frame(illness_duration = Var1_vec, \n",
    "#                             gender = Var2_vec, \n",
    "#                             age = Var3_vec)\n",
    "# rownames(annotation_col) = colnames(feat_df.filt.data.scale)"
   ]
  },
  {
   "cell_type": "code",
   "execution_count": 24,
   "id": "af8a1798-4d47-4f46-8077-0a1466a03fb4",
   "metadata": {},
   "outputs": [],
   "source": [
    "# since age is continuous measure (integers), needs to convert to integers\n",
    "# annotation_col$age = as.integer(annotation_col$age)"
   ]
  },
  {
   "cell_type": "code",
   "execution_count": 25,
   "id": "11d4baa7",
   "metadata": {},
   "outputs": [
    {
     "data": {
      "text/html": [
       "<style>\n",
       ".list-inline {list-style: none; margin:0; padding: 0}\n",
       ".list-inline>li {display: inline-block}\n",
       ".list-inline>li:not(:last-child)::after {content: \"\\00b7\"; padding: 0 .5ex}\n",
       "</style>\n",
       "<ol class=list-inline><li>'Naive'</li><li>'Naive'</li><li>'Naive'</li><li>'R5neg'</li><li>'R5neg'</li><li>'R5neg'</li><li>'R5pos'</li><li>'R5pos'</li><li>'R5pos'</li></ol>\n"
      ],
      "text/latex": [
       "\\begin{enumerate*}\n",
       "\\item 'Naive'\n",
       "\\item 'Naive'\n",
       "\\item 'Naive'\n",
       "\\item 'R5neg'\n",
       "\\item 'R5neg'\n",
       "\\item 'R5neg'\n",
       "\\item 'R5pos'\n",
       "\\item 'R5pos'\n",
       "\\item 'R5pos'\n",
       "\\end{enumerate*}\n"
      ],
      "text/markdown": [
       "1. 'Naive'\n",
       "2. 'Naive'\n",
       "3. 'Naive'\n",
       "4. 'R5neg'\n",
       "5. 'R5neg'\n",
       "6. 'R5neg'\n",
       "7. 'R5pos'\n",
       "8. 'R5pos'\n",
       "9. 'R5pos'\n",
       "\n",
       "\n"
      ],
      "text/plain": [
       "[1] \"Naive\" \"Naive\" \"Naive\" \"R5neg\" \"R5neg\" \"R5neg\" \"R5pos\" \"R5pos\" \"R5pos\""
      ]
     },
     "metadata": {},
     "output_type": "display_data"
    }
   ],
   "source": [
    "annotation_col$class"
   ]
  },
  {
   "cell_type": "markdown",
   "id": "e5516950-2b55-4173-bdcf-895777990efc",
   "metadata": {},
   "source": [
    "#### Annotation of rows (here don't have these)"
   ]
  },
  {
   "cell_type": "code",
   "execution_count": 26,
   "id": "45935191-d55e-4086-9f87-02960f6c12aa",
   "metadata": {},
   "outputs": [],
   "source": [
    "# panel_vec = sapply(strsplit(rownames(feat_df.filt.data.scale),\"_\",1),function(x)x[1])\n",
    "# annotation_row = data.frame(panel = panel_vec) \n",
    "# rownames(annotation_row) = rownames(feat_df.filt.data.scale)"
   ]
  },
  {
   "cell_type": "markdown",
   "id": "43884a5d-fcc7-41bc-af18-afbfe45764cf",
   "metadata": {},
   "source": [
    "## Assign colors"
   ]
  },
  {
   "cell_type": "code",
   "execution_count": 27,
   "id": "95e4fe04",
   "metadata": {},
   "outputs": [],
   "source": [
    "class = c(\"#888888\",\"#0000ff\",\"#ff0000\")\n",
    "names(class) = c(\"Naive\",\"R5pos\",\"R5neg\")\n",
    "\n",
    "# gender = c(\"#FF7A33\", \"#33D7FF\")\n",
    "# names(gender) = c(\"Female\",\"Male\")"
   ]
  },
  {
   "cell_type": "code",
   "execution_count": 28,
   "id": "4a8c3274",
   "metadata": {},
   "outputs": [],
   "source": [
    "ann_colors = list(class = class)\n",
    "# ann_colors = list(illness_duration = illness_duration, \n",
    "#                   gender = gender,\n",
    "#                   age = age\n",
    "#                  )"
   ]
  },
  {
   "cell_type": "code",
   "execution_count": 29,
   "id": "24bfb53e-72bf-4364-8829-7c6914f91162",
   "metadata": {},
   "outputs": [
    {
     "data": {
      "text/html": [
       "<style>\n",
       ".list-inline {list-style: none; margin:0; padding: 0}\n",
       ".list-inline>li {display: inline-block}\n",
       ".list-inline>li:not(:last-child)::after {content: \"\\00b7\"; padding: 0 .5ex}\n",
       "</style>\n",
       "<ol class=list-inline><li>-2.01209926069708</li><li>2.15302122726038</li></ol>\n"
      ],
      "text/latex": [
       "\\begin{enumerate*}\n",
       "\\item -2.01209926069708\n",
       "\\item 2.15302122726038\n",
       "\\end{enumerate*}\n"
      ],
      "text/markdown": [
       "1. -2.01209926069708\n",
       "2. 2.15302122726038\n",
       "\n",
       "\n"
      ],
      "text/plain": [
       "[1] -2.012099  2.153021"
      ]
     },
     "metadata": {},
     "output_type": "display_data"
    }
   ],
   "source": [
    "range(feat_df.filt.data.scale) #check the range of z_transformed"
   ]
  },
  {
   "cell_type": "code",
   "execution_count": 30,
   "id": "935be085-437a-4738-8bb9-a151d6bf6de3",
   "metadata": {},
   "outputs": [],
   "source": [
    "feat_df.filt.data.scale[feat_df.filt.data.scale < -2] = -2\n",
    "feat_df.filt.data.scale[feat_df.filt.data.scale > 2] = 2"
   ]
  },
  {
   "cell_type": "code",
   "execution_count": 31,
   "id": "0eb3dcec-ef82-40f3-992f-90d2c4e05b96",
   "metadata": {},
   "outputs": [
    {
     "data": {
      "text/html": [
       "<style>\n",
       ".list-inline {list-style: none; margin:0; padding: 0}\n",
       ".list-inline>li {display: inline-block}\n",
       ".list-inline>li:not(:last-child)::after {content: \"\\00b7\"; padding: 0 .5ex}\n",
       "</style>\n",
       "<ol class=list-inline><li>-2</li><li>2</li></ol>\n"
      ],
      "text/latex": [
       "\\begin{enumerate*}\n",
       "\\item -2\n",
       "\\item 2\n",
       "\\end{enumerate*}\n"
      ],
      "text/markdown": [
       "1. -2\n",
       "2. 2\n",
       "\n",
       "\n"
      ],
      "text/plain": [
       "[1] -2  2"
      ]
     },
     "metadata": {},
     "output_type": "display_data"
    }
   ],
   "source": [
    "range(feat_df.filt.data.scale) #check the range of z_transformed"
   ]
  },
  {
   "cell_type": "code",
   "execution_count": 32,
   "id": "41b0c154-4313-402a-b493-b071db0a1370",
   "metadata": {},
   "outputs": [],
   "source": [
    "breaksList = seq(range(feat_df.filt.data.scale)[1],\n",
    "                 range(feat_df.filt.data.scale)[2],\n",
    "                 length.out = 100) \n",
    "\n",
    "quantile_breaks <- function(xs, n = 100) {\n",
    "  breaks <- quantile(xs, probs = seq(0, 1, length.out = n))\n",
    "  breaks[!duplicated(breaks)]\n",
    "}\n",
    "\n",
    "mat_breaks <- quantile_breaks(feat_df.filt.data.scale, n = 101)\n",
    "cell_colors <- colorRampPalette(rev(brewer.pal(n = 9, name = \"RdBu\")))(length(mat_breaks))"
   ]
  },
  {
   "cell_type": "code",
   "execution_count": 33,
   "id": "4cd5bbfa",
   "metadata": {
    "scrolled": true
   },
   "outputs": [],
   "source": [
    "# options(repr.plot.width=30, repr.plot.height=30, res=300)\n",
    "# pheatmap(feat_df.filt.data.NA.scale.rplNAmin, cluster_rows = TRUE, show_rownames = TRUE, cluster_cols = TRUE, \n",
    "#          annotation_col = annotation_col, annotation_row = annotation_row, clustering_method = \"complete\", \n",
    "#          cellwidth = 5,cellheight = 10, annotation_colors = ann_colors,\n",
    "#          color = cell_colors)"
   ]
  },
  {
   "cell_type": "code",
   "execution_count": 34,
   "id": "99889f0e",
   "metadata": {
    "scrolled": true
   },
   "outputs": [
    {
     "name": "stderr",
     "output_type": "stream",
     "text": [
      "Warning message in dir.create(out_dir):\n",
      "“'../../output/cellNorm_one_way_ANOVA/heatmap' already exists”\n"
     ]
    }
   ],
   "source": [
    "out_dir = \"../../output/cellNorm_one_way_ANOVA/heatmap/\"\n",
    "dir.create(out_dir)\n",
    "\n",
    "exp_label = 'oneway_ANOVA_hMinImp_cellNorm_groupFil0.3_HILICpos'\n",
    "out_pdf_file = file.path(out_dir, glue(\"{exp_label}_padj{filtered_level}_heatmap.pdf\"))"
   ]
  },
  {
   "cell_type": "code",
   "execution_count": 35,
   "id": "b23ef7ad",
   "metadata": {
    "scrolled": true
   },
   "outputs": [
    {
     "data": {
      "image/png": "[encoded data removed]",
      "text/plain": [
       "plot without title"
      ]
     },
     "metadata": {
      "image/png": {
       "height": 900,
       "width": 900
      }
     },
     "output_type": "display_data"
    }
   ],
   "source": [
    "figure_width = 15\n",
    "figure_height = 15\n",
    "options(repr.plot.width = figure_width, repr.plot.height = figure_height, res = 300)\n",
    "library(pheatmap)\n",
    "p <- pheatmap(feat_df.filt.data.scale,  # data file\n",
    "         cluster_rows = TRUE, \n",
    "         show_rownames = FALSE, \n",
    "         cluster_cols = TRUE, \n",
    "         annotation_col = annotation_col, \n",
    "         clustering_method = \"mcquitty\",\n",
    "         cellwidth = 5,\n",
    "         cellheight = 0.05,\n",
    "         color = cell_colors,\n",
    "         annotation_colors = ann_colors)\n",
    "ggsave(p, file = out_pdf_file, width = figure_width, height = figure_height, )"
   ]
  },
  {
   "cell_type": "markdown",
   "id": "05bbc2ed",
   "metadata": {},
   "source": [
    "-----"
   ]
  }
 ],
 "metadata": {
  "kernelspec": {
   "display_name": "R",
   "language": "R",
   "name": "ir"
  },
  "language_info": {
   "codemirror_mode": "r",
   "file_extension": ".r",
   "mimetype": "text/x-r-source",
   "name": "R",
   "pygments_lexer": "r",
   "version": "4.1.3"
  }
 },
 "nbformat": 4,
 "nbformat_minor": 5
}
