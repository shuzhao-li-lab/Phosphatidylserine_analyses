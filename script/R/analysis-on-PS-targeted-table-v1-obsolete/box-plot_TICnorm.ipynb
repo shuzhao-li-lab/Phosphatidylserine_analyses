{
 "cells": [
  {
   "cell_type": "markdown",
   "id": "79823acb",
   "metadata": {},
   "source": [
    "# box plot "
   ]
  },
  {
   "cell_type": "markdown",
   "id": "c419d8c4-3364-440e-9623-292cb2e0cbc0",
   "metadata": {
    "tags": []
   },
   "source": [
    "# Load library"
   ]
  },
  {
   "cell_type": "code",
   "execution_count": 12,
   "id": "247e83ad",
   "metadata": {},
   "outputs": [],
   "source": [
    "library(ggplot2)\n",
    "library(Hmisc)\n",
    "source(\"../utilis/utilis.R\")\n",
    "library(glue)"
   ]
  },
  {
   "cell_type": "markdown",
   "id": "2f26b8e3-2f34-420c-9197-32aabbe6e864",
   "metadata": {},
   "source": [
    "# Set values & table names"
   ]
  },
  {
   "cell_type": "code",
   "execution_count": 13,
   "id": "223c88b8-3574-4fa3-ad10-c4fd55c23aa7",
   "metadata": {},
   "outputs": [],
   "source": [
    "threshold = 0.05\n",
    "cutoff_column = 'padj'\n",
    "data_df_path =  '../../../output/PS_speciesOnly_hMinImp_TICnorm_groupFil0.3_HILICpos_1wayANOVA/one_wayANOVA_PS_speciesOnly_hMinImp_TICnorm_groupFil0.3_HILICpos_fullreport.csv'\n",
    "meta_df_path =  '../../../input/sequence_file/clean_deduplicated_meta_df.csv'\n",
    "annot_df_path = '../../../input/HILICpos_mzML/output_asari_project_224113827_targeted_search/simp-m-targeted_extraction-Feature_table.tsv'"
   ]
  },
  {
   "cell_type": "markdown",
   "id": "160093ea-be50-4c0f-a63b-0c9f29fc5bb7",
   "metadata": {
    "tags": []
   },
   "source": [
    "# Prepare the data"
   ]
  },
  {
   "cell_type": "markdown",
   "id": "55dcea49-1899-4ccf-ad4b-7913743df329",
   "metadata": {
    "tags": []
   },
   "source": [
    "## Read and transform the data table and metadata table"
   ]
  },
  {
   "cell_type": "code",
   "execution_count": 14,
   "id": "fa6b0ede-3e0c-4ac5-8e3c-02a9bf8d48af",
   "metadata": {},
   "outputs": [],
   "source": [
    "df = read.csv(data_df_path, row.names = 1, sep = ',')\n",
    "meta_df = read.csv(meta_df_path, row.names = 1)\n",
    "annot_df = read.csv(annot_df_path, sep = '\\t')"
   ]
  },
  {
   "cell_type": "code",
   "execution_count": 15,
   "id": "9a3c1c3d-b4b6-46d0-890b-5760ca2387ed",
   "metadata": {
    "tags": []
   },
   "outputs": [],
   "source": [
    "id_annot = annot_df[['id_number']]\n",
    "names(id_annot) = annot_df[['Species.Shorthand']]"
   ]
  },
  {
   "cell_type": "markdown",
   "id": "ebb78ee6-01f6-4efc-a468-beb5b281164d",
   "metadata": {},
   "source": [
    "----"
   ]
  },
  {
   "cell_type": "code",
   "execution_count": 16,
   "id": "7654d288-5519-49c7-8b4a-1c9685de0c67",
   "metadata": {},
   "outputs": [
    {
     "data": {
      "text/html": [
       "<table class=\"dataframe\">\n",
       "<caption>A data.frame: 6 × 43</caption>\n",
       "<thead>\n",
       "\t<tr><th></th><th scope=col>mz</th><th scope=col>rtime</th><th scope=col>rtime_left_base</th><th scope=col>rtime_right_base</th><th scope=col>parent_masstrack_id</th><th scope=col>peak_area</th><th scope=col>cSelectivity</th><th scope=col>goodness_fitting</th><th scope=col>snr</th><th scope=col>detection_counts</th><th scope=col>⋯</th><th scope=col>Naive_3</th><th scope=col>R5neg_1</th><th scope=col>R5neg_2</th><th scope=col>R5neg_3</th><th scope=col>R5pos_1</th><th scope=col>R5pos_2</th><th scope=col>R5pos_3</th><th scope=col>nist</th><th scope=col>q3June2014_1</th><th scope=col>q3June2014_2</th></tr>\n",
       "\t<tr><th></th><th scope=col>&lt;dbl&gt;</th><th scope=col>&lt;dbl&gt;</th><th scope=col>&lt;dbl&gt;</th><th scope=col>&lt;dbl&gt;</th><th scope=col>&lt;int&gt;</th><th scope=col>&lt;int&gt;</th><th scope=col>&lt;dbl&gt;</th><th scope=col>&lt;dbl&gt;</th><th scope=col>&lt;int&gt;</th><th scope=col>&lt;int&gt;</th><th scope=col>⋯</th><th scope=col>&lt;dbl&gt;</th><th scope=col>&lt;dbl&gt;</th><th scope=col>&lt;dbl&gt;</th><th scope=col>&lt;dbl&gt;</th><th scope=col>&lt;dbl&gt;</th><th scope=col>&lt;dbl&gt;</th><th scope=col>&lt;dbl&gt;</th><th scope=col>&lt;dbl&gt;</th><th scope=col>&lt;dbl&gt;</th><th scope=col>&lt;dbl&gt;</th></tr>\n",
       "</thead>\n",
       "<tbody>\n",
       "\t<tr><th scope=row>F10769</th><td>372.7447</td><td>25.17</td><td>23.59</td><td>28.32</td><td> 9930</td><td>  2649961</td><td>1</td><td>0.99</td><td>  456</td><td> 5</td><td>⋯</td><td>18.18448</td><td>19.42996</td><td>20.42619</td><td>19.78156</td><td>18.18448</td><td>18.18448</td><td>18.18448</td><td>      NA</td><td>      NA</td><td>     NA</td></tr>\n",
       "\t<tr><th scope=row>F11541</th><td>384.7631</td><td>38.83</td><td>36.20</td><td>41.72</td><td>10150</td><td>748661750</td><td>1</td><td>0.97</td><td>86549</td><td>22</td><td>⋯</td><td>24.77617</td><td>24.17855</td><td>24.45577</td><td>24.02758</td><td>25.23576</td><td>25.45258</td><td>25.19671</td><td>25.99780</td><td>25.03423</td><td>25.0114</td></tr>\n",
       "\t<tr><th scope=row>F13199</th><td>548.3007</td><td>24.64</td><td>22.28</td><td>27.79</td><td>12591</td><td>124579197</td><td>1</td><td>0.87</td><td> 7880</td><td>13</td><td>⋯</td><td>23.64044</td><td>24.37743</td><td>23.83728</td><td>24.03485</td><td>22.91200</td><td>24.82122</td><td>24.43848</td><td>16.85336</td><td>      NA</td><td>     NA</td></tr>\n",
       "\t<tr><th scope=row>F13675</th><td>557.3588</td><td>25.43</td><td>23.59</td><td>28.32</td><td>12697</td><td>  4217228</td><td>1</td><td>0.97</td><td>  587</td><td> 6</td><td>⋯</td><td>18.72961</td><td>20.27951</td><td>20.12174</td><td>20.34119</td><td>18.72961</td><td>19.72961</td><td>20.42344</td><td>      NA</td><td>      NA</td><td>     NA</td></tr>\n",
       "\t<tr><th scope=row>F13861</th><td>486.2846</td><td>25.95</td><td>24.38</td><td>28.84</td><td>11788</td><td>  3788049</td><td>1</td><td>0.84</td><td>  363</td><td> 5</td><td>⋯</td><td>18.21851</td><td>19.84244</td><td>20.70139</td><td>21.10255</td><td>18.21851</td><td>19.77288</td><td>18.21851</td><td>      NA</td><td>      NA</td><td>     NA</td></tr>\n",
       "\t<tr><th scope=row>F14458</th><td>571.3745</td><td>25.69</td><td>23.59</td><td>28.84</td><td>12860</td><td> 57656484</td><td>1</td><td>0.89</td><td> 6250</td><td>12</td><td>⋯</td><td>22.78670</td><td>22.89830</td><td>23.05746</td><td>22.66804</td><td>22.39844</td><td>23.13912</td><td>23.15323</td><td>      NA</td><td>      NA</td><td>     NA</td></tr>\n",
       "</tbody>\n",
       "</table>\n"
      ],
      "text/latex": [
       "A data.frame: 6 × 43\n",
       "\\begin{tabular}{r|lllllllllllllllllllll}\n",
       "  & mz & rtime & rtime\\_left\\_base & rtime\\_right\\_base & parent\\_masstrack\\_id & peak\\_area & cSelectivity & goodness\\_fitting & snr & detection\\_counts & ⋯ & Naive\\_3 & R5neg\\_1 & R5neg\\_2 & R5neg\\_3 & R5pos\\_1 & R5pos\\_2 & R5pos\\_3 & nist & q3June2014\\_1 & q3June2014\\_2\\\\\n",
       "  & <dbl> & <dbl> & <dbl> & <dbl> & <int> & <int> & <dbl> & <dbl> & <int> & <int> & ⋯ & <dbl> & <dbl> & <dbl> & <dbl> & <dbl> & <dbl> & <dbl> & <dbl> & <dbl> & <dbl>\\\\\n",
       "\\hline\n",
       "\tF10769 & 372.7447 & 25.17 & 23.59 & 28.32 &  9930 &   2649961 & 1 & 0.99 &   456 &  5 & ⋯ & 18.18448 & 19.42996 & 20.42619 & 19.78156 & 18.18448 & 18.18448 & 18.18448 &       NA &       NA &      NA\\\\\n",
       "\tF11541 & 384.7631 & 38.83 & 36.20 & 41.72 & 10150 & 748661750 & 1 & 0.97 & 86549 & 22 & ⋯ & 24.77617 & 24.17855 & 24.45577 & 24.02758 & 25.23576 & 25.45258 & 25.19671 & 25.99780 & 25.03423 & 25.0114\\\\\n",
       "\tF13199 & 548.3007 & 24.64 & 22.28 & 27.79 & 12591 & 124579197 & 1 & 0.87 &  7880 & 13 & ⋯ & 23.64044 & 24.37743 & 23.83728 & 24.03485 & 22.91200 & 24.82122 & 24.43848 & 16.85336 &       NA &      NA\\\\\n",
       "\tF13675 & 557.3588 & 25.43 & 23.59 & 28.32 & 12697 &   4217228 & 1 & 0.97 &   587 &  6 & ⋯ & 18.72961 & 20.27951 & 20.12174 & 20.34119 & 18.72961 & 19.72961 & 20.42344 &       NA &       NA &      NA\\\\\n",
       "\tF13861 & 486.2846 & 25.95 & 24.38 & 28.84 & 11788 &   3788049 & 1 & 0.84 &   363 &  5 & ⋯ & 18.21851 & 19.84244 & 20.70139 & 21.10255 & 18.21851 & 19.77288 & 18.21851 &       NA &       NA &      NA\\\\\n",
       "\tF14458 & 571.3745 & 25.69 & 23.59 & 28.84 & 12860 &  57656484 & 1 & 0.89 &  6250 & 12 & ⋯ & 22.78670 & 22.89830 & 23.05746 & 22.66804 & 22.39844 & 23.13912 & 23.15323 &       NA &       NA &      NA\\\\\n",
       "\\end{tabular}\n"
      ],
      "text/markdown": [
       "\n",
       "A data.frame: 6 × 43\n",
       "\n",
       "| <!--/--> | mz &lt;dbl&gt; | rtime &lt;dbl&gt; | rtime_left_base &lt;dbl&gt; | rtime_right_base &lt;dbl&gt; | parent_masstrack_id &lt;int&gt; | peak_area &lt;int&gt; | cSelectivity &lt;dbl&gt; | goodness_fitting &lt;dbl&gt; | snr &lt;int&gt; | detection_counts &lt;int&gt; | ⋯ ⋯ | Naive_3 &lt;dbl&gt; | R5neg_1 &lt;dbl&gt; | R5neg_2 &lt;dbl&gt; | R5neg_3 &lt;dbl&gt; | R5pos_1 &lt;dbl&gt; | R5pos_2 &lt;dbl&gt; | R5pos_3 &lt;dbl&gt; | nist &lt;dbl&gt; | q3June2014_1 &lt;dbl&gt; | q3June2014_2 &lt;dbl&gt; |\n",
       "|---|---|---|---|---|---|---|---|---|---|---|---|---|---|---|---|---|---|---|---|---|---|\n",
       "| F10769 | 372.7447 | 25.17 | 23.59 | 28.32 |  9930 |   2649961 | 1 | 0.99 |   456 |  5 | ⋯ | 18.18448 | 19.42996 | 20.42619 | 19.78156 | 18.18448 | 18.18448 | 18.18448 |       NA |       NA |      NA |\n",
       "| F11541 | 384.7631 | 38.83 | 36.20 | 41.72 | 10150 | 748661750 | 1 | 0.97 | 86549 | 22 | ⋯ | 24.77617 | 24.17855 | 24.45577 | 24.02758 | 25.23576 | 25.45258 | 25.19671 | 25.99780 | 25.03423 | 25.0114 |\n",
       "| F13199 | 548.3007 | 24.64 | 22.28 | 27.79 | 12591 | 124579197 | 1 | 0.87 |  7880 | 13 | ⋯ | 23.64044 | 24.37743 | 23.83728 | 24.03485 | 22.91200 | 24.82122 | 24.43848 | 16.85336 |       NA |      NA |\n",
       "| F13675 | 557.3588 | 25.43 | 23.59 | 28.32 | 12697 |   4217228 | 1 | 0.97 |   587 |  6 | ⋯ | 18.72961 | 20.27951 | 20.12174 | 20.34119 | 18.72961 | 19.72961 | 20.42344 |       NA |       NA |      NA |\n",
       "| F13861 | 486.2846 | 25.95 | 24.38 | 28.84 | 11788 |   3788049 | 1 | 0.84 |   363 |  5 | ⋯ | 18.21851 | 19.84244 | 20.70139 | 21.10255 | 18.21851 | 19.77288 | 18.21851 |       NA |       NA |      NA |\n",
       "| F14458 | 571.3745 | 25.69 | 23.59 | 28.84 | 12860 |  57656484 | 1 | 0.89 |  6250 | 12 | ⋯ | 22.78670 | 22.89830 | 23.05746 | 22.66804 | 22.39844 | 23.13912 | 23.15323 |       NA |       NA |      NA |\n",
       "\n"
      ],
      "text/plain": [
       "       mz       rtime rtime_left_base rtime_right_base parent_masstrack_id\n",
       "F10769 372.7447 25.17 23.59           28.32             9930              \n",
       "F11541 384.7631 38.83 36.20           41.72            10150              \n",
       "F13199 548.3007 24.64 22.28           27.79            12591              \n",
       "F13675 557.3588 25.43 23.59           28.32            12697              \n",
       "F13861 486.2846 25.95 24.38           28.84            11788              \n",
       "F14458 571.3745 25.69 23.59           28.84            12860              \n",
       "       peak_area cSelectivity goodness_fitting snr   detection_counts ⋯\n",
       "F10769   2649961 1            0.99               456  5               ⋯\n",
       "F11541 748661750 1            0.97             86549 22               ⋯\n",
       "F13199 124579197 1            0.87              7880 13               ⋯\n",
       "F13675   4217228 1            0.97               587  6               ⋯\n",
       "F13861   3788049 1            0.84               363  5               ⋯\n",
       "F14458  57656484 1            0.89              6250 12               ⋯\n",
       "       Naive_3  R5neg_1  R5neg_2  R5neg_3  R5pos_1  R5pos_2  R5pos_3  nist    \n",
       "F10769 18.18448 19.42996 20.42619 19.78156 18.18448 18.18448 18.18448       NA\n",
       "F11541 24.77617 24.17855 24.45577 24.02758 25.23576 25.45258 25.19671 25.99780\n",
       "F13199 23.64044 24.37743 23.83728 24.03485 22.91200 24.82122 24.43848 16.85336\n",
       "F13675 18.72961 20.27951 20.12174 20.34119 18.72961 19.72961 20.42344       NA\n",
       "F13861 18.21851 19.84244 20.70139 21.10255 18.21851 19.77288 18.21851       NA\n",
       "F14458 22.78670 22.89830 23.05746 22.66804 22.39844 23.13912 23.15323       NA\n",
       "       q3June2014_1 q3June2014_2\n",
       "F10769       NA          NA     \n",
       "F11541 25.03423     25.0114     \n",
       "F13199       NA          NA     \n",
       "F13675       NA          NA     \n",
       "F13861       NA          NA     \n",
       "F14458       NA          NA     "
      ]
     },
     "metadata": {},
     "output_type": "display_data"
    }
   ],
   "source": [
    "head(df)"
   ]
  },
  {
   "cell_type": "code",
   "execution_count": 17,
   "id": "da93a755-f73e-49cf-9412-0c1d8b0aef97",
   "metadata": {},
   "outputs": [
    {
     "data": {
      "text/html": [
       "<style>\n",
       ".list-inline {list-style: none; margin:0; padding: 0}\n",
       ".list-inline>li {display: inline-block}\n",
       ".list-inline>li:not(:last-child)::after {content: \"\\00b7\"; padding: 0 .5ex}\n",
       "</style>\n",
       "<ol class=list-inline><li>FALSE</li><li>FALSE</li><li>FALSE</li><li>FALSE</li><li>FALSE</li><li>FALSE</li><li>FALSE</li><li>FALSE</li><li>FALSE</li><li>FALSE</li><li>FALSE</li><li>FALSE</li><li>FALSE</li><li>FALSE</li><li>FALSE</li><li>FALSE</li><li>FALSE</li><li>FALSE</li><li>FALSE</li><li>FALSE</li><li>FALSE</li><li>FALSE</li><li>FALSE</li><li>FALSE</li><li>FALSE</li><li>FALSE</li><li>FALSE</li><li>FALSE</li><li>FALSE</li><li>FALSE</li><li>FALSE</li><li>TRUE</li><li>TRUE</li><li>TRUE</li><li>TRUE</li><li>TRUE</li><li>TRUE</li><li>TRUE</li><li>TRUE</li><li>TRUE</li><li>FALSE</li><li>FALSE</li><li>FALSE</li></ol>\n"
      ],
      "text/latex": [
       "\\begin{enumerate*}\n",
       "\\item FALSE\n",
       "\\item FALSE\n",
       "\\item FALSE\n",
       "\\item FALSE\n",
       "\\item FALSE\n",
       "\\item FALSE\n",
       "\\item FALSE\n",
       "\\item FALSE\n",
       "\\item FALSE\n",
       "\\item FALSE\n",
       "\\item FALSE\n",
       "\\item FALSE\n",
       "\\item FALSE\n",
       "\\item FALSE\n",
       "\\item FALSE\n",
       "\\item FALSE\n",
       "\\item FALSE\n",
       "\\item FALSE\n",
       "\\item FALSE\n",
       "\\item FALSE\n",
       "\\item FALSE\n",
       "\\item FALSE\n",
       "\\item FALSE\n",
       "\\item FALSE\n",
       "\\item FALSE\n",
       "\\item FALSE\n",
       "\\item FALSE\n",
       "\\item FALSE\n",
       "\\item FALSE\n",
       "\\item FALSE\n",
       "\\item FALSE\n",
       "\\item TRUE\n",
       "\\item TRUE\n",
       "\\item TRUE\n",
       "\\item TRUE\n",
       "\\item TRUE\n",
       "\\item TRUE\n",
       "\\item TRUE\n",
       "\\item TRUE\n",
       "\\item TRUE\n",
       "\\item FALSE\n",
       "\\item FALSE\n",
       "\\item FALSE\n",
       "\\end{enumerate*}\n"
      ],
      "text/markdown": [
       "1. FALSE\n",
       "2. FALSE\n",
       "3. FALSE\n",
       "4. FALSE\n",
       "5. FALSE\n",
       "6. FALSE\n",
       "7. FALSE\n",
       "8. FALSE\n",
       "9. FALSE\n",
       "10. FALSE\n",
       "11. FALSE\n",
       "12. FALSE\n",
       "13. FALSE\n",
       "14. FALSE\n",
       "15. FALSE\n",
       "16. FALSE\n",
       "17. FALSE\n",
       "18. FALSE\n",
       "19. FALSE\n",
       "20. FALSE\n",
       "21. FALSE\n",
       "22. FALSE\n",
       "23. FALSE\n",
       "24. FALSE\n",
       "25. FALSE\n",
       "26. FALSE\n",
       "27. FALSE\n",
       "28. FALSE\n",
       "29. FALSE\n",
       "30. FALSE\n",
       "31. FALSE\n",
       "32. TRUE\n",
       "33. TRUE\n",
       "34. TRUE\n",
       "35. TRUE\n",
       "36. TRUE\n",
       "37. TRUE\n",
       "38. TRUE\n",
       "39. TRUE\n",
       "40. TRUE\n",
       "41. FALSE\n",
       "42. FALSE\n",
       "43. FALSE\n",
       "\n",
       "\n"
      ],
      "text/plain": [
       " [1] FALSE FALSE FALSE FALSE FALSE FALSE FALSE FALSE FALSE FALSE FALSE FALSE\n",
       "[13] FALSE FALSE FALSE FALSE FALSE FALSE FALSE FALSE FALSE FALSE FALSE FALSE\n",
       "[25] FALSE FALSE FALSE FALSE FALSE FALSE FALSE  TRUE  TRUE  TRUE  TRUE  TRUE\n",
       "[37]  TRUE  TRUE  TRUE  TRUE FALSE FALSE FALSE"
      ]
     },
     "metadata": {},
     "output_type": "display_data"
    }
   ],
   "source": [
    "grepl('Naive\\\\_[0-9]|R5pos\\\\_[0-9]|R5neg\\\\_[0-9]',colnames(df))"
   ]
  },
  {
   "cell_type": "code",
   "execution_count": 18,
   "id": "869d6308-0aff-4f68-81fa-f4e2438b1fd0",
   "metadata": {},
   "outputs": [],
   "source": [
    "data_df = df[grepl('Naive\\\\_[0-9]|R5pos\\\\_[0-9]|R5neg\\\\_[0-9]',colnames(df))]"
   ]
  },
  {
   "cell_type": "code",
   "execution_count": 19,
   "id": "ce6db72e-40e4-4d83-93cb-7bc53f70916f",
   "metadata": {},
   "outputs": [
    {
     "data": {
      "text/html": [
       "<table class=\"dataframe\">\n",
       "<caption>A data.frame: 6 × 9</caption>\n",
       "<thead>\n",
       "\t<tr><th></th><th scope=col>Naive_1</th><th scope=col>Naive_2</th><th scope=col>Naive_3</th><th scope=col>R5neg_1</th><th scope=col>R5neg_2</th><th scope=col>R5neg_3</th><th scope=col>R5pos_1</th><th scope=col>R5pos_2</th><th scope=col>R5pos_3</th></tr>\n",
       "\t<tr><th></th><th scope=col>&lt;dbl&gt;</th><th scope=col>&lt;dbl&gt;</th><th scope=col>&lt;dbl&gt;</th><th scope=col>&lt;dbl&gt;</th><th scope=col>&lt;dbl&gt;</th><th scope=col>&lt;dbl&gt;</th><th scope=col>&lt;dbl&gt;</th><th scope=col>&lt;dbl&gt;</th><th scope=col>&lt;dbl&gt;</th></tr>\n",
       "</thead>\n",
       "<tbody>\n",
       "\t<tr><th scope=row>F10769</th><td>19.18448</td><td>19.25283</td><td>18.18448</td><td>19.42996</td><td>20.42619</td><td>19.78156</td><td>18.18448</td><td>18.18448</td><td>18.18448</td></tr>\n",
       "\t<tr><th scope=row>F11541</th><td>25.47994</td><td>24.98491</td><td>24.77617</td><td>24.17855</td><td>24.45577</td><td>24.02758</td><td>25.23576</td><td>25.45258</td><td>25.19671</td></tr>\n",
       "\t<tr><th scope=row>F13199</th><td>24.08338</td><td>24.45670</td><td>23.64044</td><td>24.37743</td><td>23.83728</td><td>24.03485</td><td>22.91200</td><td>24.82122</td><td>24.43848</td></tr>\n",
       "\t<tr><th scope=row>F13675</th><td>18.72961</td><td>18.72961</td><td>18.72961</td><td>20.27951</td><td>20.12174</td><td>20.34119</td><td>18.72961</td><td>19.72961</td><td>20.42344</td></tr>\n",
       "\t<tr><th scope=row>F13861</th><td>18.21851</td><td>19.21851</td><td>18.21851</td><td>19.84244</td><td>20.70139</td><td>21.10255</td><td>18.21851</td><td>19.77288</td><td>18.21851</td></tr>\n",
       "\t<tr><th scope=row>F14458</th><td>22.18899</td><td>22.59417</td><td>22.78670</td><td>22.89830</td><td>23.05746</td><td>22.66804</td><td>22.39844</td><td>23.13912</td><td>23.15323</td></tr>\n",
       "</tbody>\n",
       "</table>\n"
      ],
      "text/latex": [
       "A data.frame: 6 × 9\n",
       "\\begin{tabular}{r|lllllllll}\n",
       "  & Naive\\_1 & Naive\\_2 & Naive\\_3 & R5neg\\_1 & R5neg\\_2 & R5neg\\_3 & R5pos\\_1 & R5pos\\_2 & R5pos\\_3\\\\\n",
       "  & <dbl> & <dbl> & <dbl> & <dbl> & <dbl> & <dbl> & <dbl> & <dbl> & <dbl>\\\\\n",
       "\\hline\n",
       "\tF10769 & 19.18448 & 19.25283 & 18.18448 & 19.42996 & 20.42619 & 19.78156 & 18.18448 & 18.18448 & 18.18448\\\\\n",
       "\tF11541 & 25.47994 & 24.98491 & 24.77617 & 24.17855 & 24.45577 & 24.02758 & 25.23576 & 25.45258 & 25.19671\\\\\n",
       "\tF13199 & 24.08338 & 24.45670 & 23.64044 & 24.37743 & 23.83728 & 24.03485 & 22.91200 & 24.82122 & 24.43848\\\\\n",
       "\tF13675 & 18.72961 & 18.72961 & 18.72961 & 20.27951 & 20.12174 & 20.34119 & 18.72961 & 19.72961 & 20.42344\\\\\n",
       "\tF13861 & 18.21851 & 19.21851 & 18.21851 & 19.84244 & 20.70139 & 21.10255 & 18.21851 & 19.77288 & 18.21851\\\\\n",
       "\tF14458 & 22.18899 & 22.59417 & 22.78670 & 22.89830 & 23.05746 & 22.66804 & 22.39844 & 23.13912 & 23.15323\\\\\n",
       "\\end{tabular}\n"
      ],
      "text/markdown": [
       "\n",
       "A data.frame: 6 × 9\n",
       "\n",
       "| <!--/--> | Naive_1 &lt;dbl&gt; | Naive_2 &lt;dbl&gt; | Naive_3 &lt;dbl&gt; | R5neg_1 &lt;dbl&gt; | R5neg_2 &lt;dbl&gt; | R5neg_3 &lt;dbl&gt; | R5pos_1 &lt;dbl&gt; | R5pos_2 &lt;dbl&gt; | R5pos_3 &lt;dbl&gt; |\n",
       "|---|---|---|---|---|---|---|---|---|---|\n",
       "| F10769 | 19.18448 | 19.25283 | 18.18448 | 19.42996 | 20.42619 | 19.78156 | 18.18448 | 18.18448 | 18.18448 |\n",
       "| F11541 | 25.47994 | 24.98491 | 24.77617 | 24.17855 | 24.45577 | 24.02758 | 25.23576 | 25.45258 | 25.19671 |\n",
       "| F13199 | 24.08338 | 24.45670 | 23.64044 | 24.37743 | 23.83728 | 24.03485 | 22.91200 | 24.82122 | 24.43848 |\n",
       "| F13675 | 18.72961 | 18.72961 | 18.72961 | 20.27951 | 20.12174 | 20.34119 | 18.72961 | 19.72961 | 20.42344 |\n",
       "| F13861 | 18.21851 | 19.21851 | 18.21851 | 19.84244 | 20.70139 | 21.10255 | 18.21851 | 19.77288 | 18.21851 |\n",
       "| F14458 | 22.18899 | 22.59417 | 22.78670 | 22.89830 | 23.05746 | 22.66804 | 22.39844 | 23.13912 | 23.15323 |\n",
       "\n"
      ],
      "text/plain": [
       "       Naive_1  Naive_2  Naive_3  R5neg_1  R5neg_2  R5neg_3  R5pos_1  R5pos_2 \n",
       "F10769 19.18448 19.25283 18.18448 19.42996 20.42619 19.78156 18.18448 18.18448\n",
       "F11541 25.47994 24.98491 24.77617 24.17855 24.45577 24.02758 25.23576 25.45258\n",
       "F13199 24.08338 24.45670 23.64044 24.37743 23.83728 24.03485 22.91200 24.82122\n",
       "F13675 18.72961 18.72961 18.72961 20.27951 20.12174 20.34119 18.72961 19.72961\n",
       "F13861 18.21851 19.21851 18.21851 19.84244 20.70139 21.10255 18.21851 19.77288\n",
       "F14458 22.18899 22.59417 22.78670 22.89830 23.05746 22.66804 22.39844 23.13912\n",
       "       R5pos_3 \n",
       "F10769 18.18448\n",
       "F11541 25.19671\n",
       "F13199 24.43848\n",
       "F13675 20.42344\n",
       "F13861 18.21851\n",
       "F14458 23.15323"
      ]
     },
     "metadata": {},
     "output_type": "display_data"
    }
   ],
   "source": [
    "head(data_df)"
   ]
  },
  {
   "cell_type": "markdown",
   "id": "2d786225-48de-4c7d-ba7d-d5de02a775f5",
   "metadata": {},
   "source": [
    "----"
   ]
  },
  {
   "cell_type": "code",
   "execution_count": 20,
   "id": "ef984df0-cd3e-4e4d-a75e-a30be935e7a8",
   "metadata": {},
   "outputs": [
    {
     "data": {
      "text/html": [
       "<table class=\"dataframe\">\n",
       "<caption>A data.frame: 6 × 3</caption>\n",
       "<thead>\n",
       "\t<tr><th></th><th scope=col>class</th><th scope=col>biological_samples</th><th scope=col>cell_number</th></tr>\n",
       "\t<tr><th></th><th scope=col>&lt;chr&gt;</th><th scope=col>&lt;chr&gt;</th><th scope=col>&lt;int&gt;</th></tr>\n",
       "</thead>\n",
       "<tbody>\n",
       "\t<tr><th scope=row>Naive_1</th><td>Naive</td><td>Yes</td><td>300</td></tr>\n",
       "\t<tr><th scope=row>Naive_2</th><td>Naive</td><td>Yes</td><td>300</td></tr>\n",
       "\t<tr><th scope=row>Naive_3</th><td>Naive</td><td>Yes</td><td>300</td></tr>\n",
       "\t<tr><th scope=row>R5neg_1</th><td>R5neg</td><td>Yes</td><td>655</td></tr>\n",
       "\t<tr><th scope=row>R5neg_2</th><td>R5neg</td><td>Yes</td><td>687</td></tr>\n",
       "\t<tr><th scope=row>R5neg_3</th><td>R5neg</td><td>Yes</td><td>865</td></tr>\n",
       "</tbody>\n",
       "</table>\n"
      ],
      "text/latex": [
       "A data.frame: 6 × 3\n",
       "\\begin{tabular}{r|lll}\n",
       "  & class & biological\\_samples & cell\\_number\\\\\n",
       "  & <chr> & <chr> & <int>\\\\\n",
       "\\hline\n",
       "\tNaive\\_1 & Naive & Yes & 300\\\\\n",
       "\tNaive\\_2 & Naive & Yes & 300\\\\\n",
       "\tNaive\\_3 & Naive & Yes & 300\\\\\n",
       "\tR5neg\\_1 & R5neg & Yes & 655\\\\\n",
       "\tR5neg\\_2 & R5neg & Yes & 687\\\\\n",
       "\tR5neg\\_3 & R5neg & Yes & 865\\\\\n",
       "\\end{tabular}\n"
      ],
      "text/markdown": [
       "\n",
       "A data.frame: 6 × 3\n",
       "\n",
       "| <!--/--> | class &lt;chr&gt; | biological_samples &lt;chr&gt; | cell_number &lt;int&gt; |\n",
       "|---|---|---|---|\n",
       "| Naive_1 | Naive | Yes | 300 |\n",
       "| Naive_2 | Naive | Yes | 300 |\n",
       "| Naive_3 | Naive | Yes | 300 |\n",
       "| R5neg_1 | R5neg | Yes | 655 |\n",
       "| R5neg_2 | R5neg | Yes | 687 |\n",
       "| R5neg_3 | R5neg | Yes | 865 |\n",
       "\n"
      ],
      "text/plain": [
       "        class biological_samples cell_number\n",
       "Naive_1 Naive Yes                300        \n",
       "Naive_2 Naive Yes                300        \n",
       "Naive_3 Naive Yes                300        \n",
       "R5neg_1 R5neg Yes                655        \n",
       "R5neg_2 R5neg Yes                687        \n",
       "R5neg_3 R5neg Yes                865        "
      ]
     },
     "metadata": {},
     "output_type": "display_data"
    }
   ],
   "source": [
    "head(meta_df)"
   ]
  },
  {
   "cell_type": "markdown",
   "id": "7e021c57-758a-470d-bba3-981807939faf",
   "metadata": {},
   "source": [
    "----"
   ]
  },
  {
   "cell_type": "code",
   "execution_count": 21,
   "id": "f3316dca-94a1-4c86-881c-62bbea23b969",
   "metadata": {},
   "outputs": [
    {
     "data": {
      "text/html": [
       "<table class=\"dataframe\">\n",
       "<caption>A data.frame: 10 × 40</caption>\n",
       "<thead>\n",
       "\t<tr><th></th><th scope=col>id_number</th><th scope=col>query_target</th><th scope=col>Species.Shorthand</th><th scope=col>Formula</th><th scope=col>adduct_type</th><th scope=col>id_number.1</th><th scope=col>mz</th><th scope=col>rtime</th><th scope=col>rtime_left_base</th><th scope=col>rtime_right_base</th><th scope=col>⋯</th><th scope=col>nist_5</th><th scope=col>q3June2014_1b_1</th><th scope=col>q3June2014_1b_3</th><th scope=col>q3June2014_1b_5</th><th scope=col>q3June2014_2a_1</th><th scope=col>q3June2014_2a_3</th><th scope=col>q3June2014_2a_5</th><th scope=col>q3June2014_2b_1</th><th scope=col>q3June2014_2b_3</th><th scope=col>q3June2014_2b_5</th></tr>\n",
       "\t<tr><th></th><th scope=col>&lt;chr&gt;</th><th scope=col>&lt;dbl&gt;</th><th scope=col>&lt;chr&gt;</th><th scope=col>&lt;dbl&gt;</th><th scope=col>&lt;chr&gt;</th><th scope=col>&lt;chr&gt;</th><th scope=col>&lt;dbl&gt;</th><th scope=col>&lt;dbl&gt;</th><th scope=col>&lt;dbl&gt;</th><th scope=col>&lt;dbl&gt;</th><th scope=col>⋯</th><th scope=col>&lt;int&gt;</th><th scope=col>&lt;int&gt;</th><th scope=col>&lt;int&gt;</th><th scope=col>&lt;int&gt;</th><th scope=col>&lt;int&gt;</th><th scope=col>&lt;int&gt;</th><th scope=col>&lt;int&gt;</th><th scope=col>&lt;int&gt;</th><th scope=col>&lt;int&gt;</th><th scope=col>&lt;int&gt;</th></tr>\n",
       "</thead>\n",
       "<tbody>\n",
       "\t<tr><th scope=row>1</th><td>F8342 </td><td>285.6450</td><td>LPS 22:6 </td><td>569.2754</td><td>M+2H[2+]</td><td>F8342 </td><td>285.6449</td><td>24.12</td><td>22.01</td><td>25.43</td><td>⋯</td><td>       0</td><td> 1880316</td><td> 1898032</td><td> 2087381</td><td> 2028266</td><td> 1400488</td><td> 1438950</td><td> 1530588</td><td> 1802440</td><td> 1358006</td></tr>\n",
       "\t<tr><th scope=row>2</th><td>F8901 </td><td>289.6763</td><td>LPS 22:2 </td><td>577.3380</td><td>M+2H[2+]</td><td>F8901 </td><td>289.6775</td><td>28.84</td><td>28.06</td><td>30.16</td><td>⋯</td><td>       0</td><td>       0</td><td>       0</td><td>       0</td><td>       0</td><td>       0</td><td>       0</td><td>       0</td><td>       0</td><td>       0</td></tr>\n",
       "\t<tr><th scope=row>3</th><td>F10769</td><td>372.7441</td><td>PS 33:3  </td><td>743.4737</td><td>M+2H[2+]</td><td>F10769</td><td>372.7447</td><td>25.17</td><td>23.59</td><td>28.32</td><td>⋯</td><td>       0</td><td>       0</td><td>       0</td><td>       0</td><td>       0</td><td>       0</td><td>       0</td><td>       0</td><td>       0</td><td>       0</td></tr>\n",
       "\t<tr><th scope=row>4</th><td>F11347</td><td>380.7598</td><td>PS 34:2  </td><td>759.5050</td><td>M+2H[2+]</td><td>F11347</td><td>380.7611</td><td>40.93</td><td>40.41</td><td>42.77</td><td>⋯</td><td>       0</td><td>  955231</td><td>       0</td><td>       0</td><td>  694556</td><td>  652651</td><td>  772866</td><td>       0</td><td>  775396</td><td>  383544</td></tr>\n",
       "\t<tr><th scope=row>5</th><td>F11353</td><td>380.7780</td><td>PS O-35:2</td><td>759.5414</td><td>M+2H[2+]</td><td>F11353</td><td>380.7779</td><td>88.75</td><td>86.65</td><td>91.90</td><td>⋯</td><td>   24566</td><td>  654880</td><td>  471393</td><td> 1098206</td><td>       0</td><td>  544060</td><td>       0</td><td>       0</td><td>  868383</td><td>       0</td></tr>\n",
       "\t<tr><th scope=row>6</th><td>F11541</td><td>384.7623</td><td>PS O-36:5</td><td>767.5101</td><td>M+2H[2+]</td><td>F11541</td><td>384.7631</td><td>38.83</td><td>36.20</td><td>41.72</td><td>⋯</td><td>69392814</td><td>33692448</td><td>33939957</td><td>35447573</td><td>34704157</td><td>33474863</td><td>33362928</td><td>34226621</td><td>32295323</td><td>34860102</td></tr>\n",
       "\t<tr><th scope=row>7</th><td>F11651</td><td>386.7598</td><td>PS 35:3  </td><td>771.5050</td><td>M+2H[2+]</td><td>F11651</td><td>386.7602</td><td>24.90</td><td>23.59</td><td>28.06</td><td>⋯</td><td>       0</td><td>       0</td><td>       0</td><td>       0</td><td>       0</td><td>       0</td><td>       0</td><td>       0</td><td>       0</td><td>       0</td></tr>\n",
       "\t<tr><th scope=row>8</th><td>F12286</td><td>394.7936</td><td>PS O-37:2</td><td>787.5727</td><td>M+2H[2+]</td><td>F12286</td><td>394.7919</td><td>55.38</td><td>53.02</td><td>56.96</td><td>⋯</td><td>       0</td><td>       0</td><td>       0</td><td>       0</td><td>       0</td><td>       0</td><td>       0</td><td>       0</td><td>       0</td><td>       0</td></tr>\n",
       "\t<tr><th scope=row>9</th><td>F12379</td><td>396.7441</td><td>PS 37:7  </td><td>791.4737</td><td>M+2H[2+]</td><td>F12379</td><td>396.7429</td><td>49.86</td><td>46.71</td><td>53.02</td><td>⋯</td><td>       0</td><td>  566139</td><td>  605128</td><td>  410833</td><td>  565248</td><td>  289234</td><td>  392083</td><td>  506119</td><td>  398836</td><td>  384224</td></tr>\n",
       "\t<tr><th scope=row>10</th><td>F12486</td><td>398.7598</td><td>PS 37:5  </td><td>795.5050</td><td>M+2H[2+]</td><td>F12486</td><td>398.7610</td><td>35.68</td><td>34.36</td><td>36.73</td><td>⋯</td><td>  102347</td><td>       0</td><td>       0</td><td>       0</td><td>  113982</td><td>       0</td><td>       0</td><td>   59759</td><td>   64824</td><td>       0</td></tr>\n",
       "</tbody>\n",
       "</table>\n"
      ],
      "text/latex": [
       "A data.frame: 10 × 40\n",
       "\\begin{tabular}{r|lllllllllllllllllllll}\n",
       "  & id\\_number & query\\_target & Species.Shorthand & Formula & adduct\\_type & id\\_number.1 & mz & rtime & rtime\\_left\\_base & rtime\\_right\\_base & ⋯ & nist\\_5 & q3June2014\\_1b\\_1 & q3June2014\\_1b\\_3 & q3June2014\\_1b\\_5 & q3June2014\\_2a\\_1 & q3June2014\\_2a\\_3 & q3June2014\\_2a\\_5 & q3June2014\\_2b\\_1 & q3June2014\\_2b\\_3 & q3June2014\\_2b\\_5\\\\\n",
       "  & <chr> & <dbl> & <chr> & <dbl> & <chr> & <chr> & <dbl> & <dbl> & <dbl> & <dbl> & ⋯ & <int> & <int> & <int> & <int> & <int> & <int> & <int> & <int> & <int> & <int>\\\\\n",
       "\\hline\n",
       "\t1 & F8342  & 285.6450 & LPS 22:6  & 569.2754 & M+2H{[}2+{]} & F8342  & 285.6449 & 24.12 & 22.01 & 25.43 & ⋯ &        0 &  1880316 &  1898032 &  2087381 &  2028266 &  1400488 &  1438950 &  1530588 &  1802440 &  1358006\\\\\n",
       "\t2 & F8901  & 289.6763 & LPS 22:2  & 577.3380 & M+2H{[}2+{]} & F8901  & 289.6775 & 28.84 & 28.06 & 30.16 & ⋯ &        0 &        0 &        0 &        0 &        0 &        0 &        0 &        0 &        0 &        0\\\\\n",
       "\t3 & F10769 & 372.7441 & PS 33:3   & 743.4737 & M+2H{[}2+{]} & F10769 & 372.7447 & 25.17 & 23.59 & 28.32 & ⋯ &        0 &        0 &        0 &        0 &        0 &        0 &        0 &        0 &        0 &        0\\\\\n",
       "\t4 & F11347 & 380.7598 & PS 34:2   & 759.5050 & M+2H{[}2+{]} & F11347 & 380.7611 & 40.93 & 40.41 & 42.77 & ⋯ &        0 &   955231 &        0 &        0 &   694556 &   652651 &   772866 &        0 &   775396 &   383544\\\\\n",
       "\t5 & F11353 & 380.7780 & PS O-35:2 & 759.5414 & M+2H{[}2+{]} & F11353 & 380.7779 & 88.75 & 86.65 & 91.90 & ⋯ &    24566 &   654880 &   471393 &  1098206 &        0 &   544060 &        0 &        0 &   868383 &        0\\\\\n",
       "\t6 & F11541 & 384.7623 & PS O-36:5 & 767.5101 & M+2H{[}2+{]} & F11541 & 384.7631 & 38.83 & 36.20 & 41.72 & ⋯ & 69392814 & 33692448 & 33939957 & 35447573 & 34704157 & 33474863 & 33362928 & 34226621 & 32295323 & 34860102\\\\\n",
       "\t7 & F11651 & 386.7598 & PS 35:3   & 771.5050 & M+2H{[}2+{]} & F11651 & 386.7602 & 24.90 & 23.59 & 28.06 & ⋯ &        0 &        0 &        0 &        0 &        0 &        0 &        0 &        0 &        0 &        0\\\\\n",
       "\t8 & F12286 & 394.7936 & PS O-37:2 & 787.5727 & M+2H{[}2+{]} & F12286 & 394.7919 & 55.38 & 53.02 & 56.96 & ⋯ &        0 &        0 &        0 &        0 &        0 &        0 &        0 &        0 &        0 &        0\\\\\n",
       "\t9 & F12379 & 396.7441 & PS 37:7   & 791.4737 & M+2H{[}2+{]} & F12379 & 396.7429 & 49.86 & 46.71 & 53.02 & ⋯ &        0 &   566139 &   605128 &   410833 &   565248 &   289234 &   392083 &   506119 &   398836 &   384224\\\\\n",
       "\t10 & F12486 & 398.7598 & PS 37:5   & 795.5050 & M+2H{[}2+{]} & F12486 & 398.7610 & 35.68 & 34.36 & 36.73 & ⋯ &   102347 &        0 &        0 &        0 &   113982 &        0 &        0 &    59759 &    64824 &        0\\\\\n",
       "\\end{tabular}\n"
      ],
      "text/markdown": [
       "\n",
       "A data.frame: 10 × 40\n",
       "\n",
       "| <!--/--> | id_number &lt;chr&gt; | query_target &lt;dbl&gt; | Species.Shorthand &lt;chr&gt; | Formula &lt;dbl&gt; | adduct_type &lt;chr&gt; | id_number.1 &lt;chr&gt; | mz &lt;dbl&gt; | rtime &lt;dbl&gt; | rtime_left_base &lt;dbl&gt; | rtime_right_base &lt;dbl&gt; | ⋯ ⋯ | nist_5 &lt;int&gt; | q3June2014_1b_1 &lt;int&gt; | q3June2014_1b_3 &lt;int&gt; | q3June2014_1b_5 &lt;int&gt; | q3June2014_2a_1 &lt;int&gt; | q3June2014_2a_3 &lt;int&gt; | q3June2014_2a_5 &lt;int&gt; | q3June2014_2b_1 &lt;int&gt; | q3June2014_2b_3 &lt;int&gt; | q3June2014_2b_5 &lt;int&gt; |\n",
       "|---|---|---|---|---|---|---|---|---|---|---|---|---|---|---|---|---|---|---|---|---|---|\n",
       "| 1 | F8342  | 285.6450 | LPS 22:6  | 569.2754 | M+2H[2+] | F8342  | 285.6449 | 24.12 | 22.01 | 25.43 | ⋯ |        0 |  1880316 |  1898032 |  2087381 |  2028266 |  1400488 |  1438950 |  1530588 |  1802440 |  1358006 |\n",
       "| 2 | F8901  | 289.6763 | LPS 22:2  | 577.3380 | M+2H[2+] | F8901  | 289.6775 | 28.84 | 28.06 | 30.16 | ⋯ |        0 |        0 |        0 |        0 |        0 |        0 |        0 |        0 |        0 |        0 |\n",
       "| 3 | F10769 | 372.7441 | PS 33:3   | 743.4737 | M+2H[2+] | F10769 | 372.7447 | 25.17 | 23.59 | 28.32 | ⋯ |        0 |        0 |        0 |        0 |        0 |        0 |        0 |        0 |        0 |        0 |\n",
       "| 4 | F11347 | 380.7598 | PS 34:2   | 759.5050 | M+2H[2+] | F11347 | 380.7611 | 40.93 | 40.41 | 42.77 | ⋯ |        0 |   955231 |        0 |        0 |   694556 |   652651 |   772866 |        0 |   775396 |   383544 |\n",
       "| 5 | F11353 | 380.7780 | PS O-35:2 | 759.5414 | M+2H[2+] | F11353 | 380.7779 | 88.75 | 86.65 | 91.90 | ⋯ |    24566 |   654880 |   471393 |  1098206 |        0 |   544060 |        0 |        0 |   868383 |        0 |\n",
       "| 6 | F11541 | 384.7623 | PS O-36:5 | 767.5101 | M+2H[2+] | F11541 | 384.7631 | 38.83 | 36.20 | 41.72 | ⋯ | 69392814 | 33692448 | 33939957 | 35447573 | 34704157 | 33474863 | 33362928 | 34226621 | 32295323 | 34860102 |\n",
       "| 7 | F11651 | 386.7598 | PS 35:3   | 771.5050 | M+2H[2+] | F11651 | 386.7602 | 24.90 | 23.59 | 28.06 | ⋯ |        0 |        0 |        0 |        0 |        0 |        0 |        0 |        0 |        0 |        0 |\n",
       "| 8 | F12286 | 394.7936 | PS O-37:2 | 787.5727 | M+2H[2+] | F12286 | 394.7919 | 55.38 | 53.02 | 56.96 | ⋯ |        0 |        0 |        0 |        0 |        0 |        0 |        0 |        0 |        0 |        0 |\n",
       "| 9 | F12379 | 396.7441 | PS 37:7   | 791.4737 | M+2H[2+] | F12379 | 396.7429 | 49.86 | 46.71 | 53.02 | ⋯ |        0 |   566139 |   605128 |   410833 |   565248 |   289234 |   392083 |   506119 |   398836 |   384224 |\n",
       "| 10 | F12486 | 398.7598 | PS 37:5   | 795.5050 | M+2H[2+] | F12486 | 398.7610 | 35.68 | 34.36 | 36.73 | ⋯ |   102347 |        0 |        0 |        0 |   113982 |        0 |        0 |    59759 |    64824 |        0 |\n",
       "\n"
      ],
      "text/plain": [
       "   id_number query_target Species.Shorthand Formula  adduct_type id_number.1\n",
       "1  F8342     285.6450     LPS 22:6          569.2754 M+2H[2+]    F8342      \n",
       "2  F8901     289.6763     LPS 22:2          577.3380 M+2H[2+]    F8901      \n",
       "3  F10769    372.7441     PS 33:3           743.4737 M+2H[2+]    F10769     \n",
       "4  F11347    380.7598     PS 34:2           759.5050 M+2H[2+]    F11347     \n",
       "5  F11353    380.7780     PS O-35:2         759.5414 M+2H[2+]    F11353     \n",
       "6  F11541    384.7623     PS O-36:5         767.5101 M+2H[2+]    F11541     \n",
       "7  F11651    386.7598     PS 35:3           771.5050 M+2H[2+]    F11651     \n",
       "8  F12286    394.7936     PS O-37:2         787.5727 M+2H[2+]    F12286     \n",
       "9  F12379    396.7441     PS 37:7           791.4737 M+2H[2+]    F12379     \n",
       "10 F12486    398.7598     PS 37:5           795.5050 M+2H[2+]    F12486     \n",
       "   mz       rtime rtime_left_base rtime_right_base ⋯ nist_5   q3June2014_1b_1\n",
       "1  285.6449 24.12 22.01           25.43            ⋯        0  1880316       \n",
       "2  289.6775 28.84 28.06           30.16            ⋯        0        0       \n",
       "3  372.7447 25.17 23.59           28.32            ⋯        0        0       \n",
       "4  380.7611 40.93 40.41           42.77            ⋯        0   955231       \n",
       "5  380.7779 88.75 86.65           91.90            ⋯    24566   654880       \n",
       "6  384.7631 38.83 36.20           41.72            ⋯ 69392814 33692448       \n",
       "7  386.7602 24.90 23.59           28.06            ⋯        0        0       \n",
       "8  394.7919 55.38 53.02           56.96            ⋯        0        0       \n",
       "9  396.7429 49.86 46.71           53.02            ⋯        0   566139       \n",
       "10 398.7610 35.68 34.36           36.73            ⋯   102347        0       \n",
       "   q3June2014_1b_3 q3June2014_1b_5 q3June2014_2a_1 q3June2014_2a_3\n",
       "1   1898032         2087381         2028266         1400488       \n",
       "2         0               0               0               0       \n",
       "3         0               0               0               0       \n",
       "4         0               0          694556          652651       \n",
       "5    471393         1098206               0          544060       \n",
       "6  33939957        35447573        34704157        33474863       \n",
       "7         0               0               0               0       \n",
       "8         0               0               0               0       \n",
       "9    605128          410833          565248          289234       \n",
       "10        0               0          113982               0       \n",
       "   q3June2014_2a_5 q3June2014_2b_1 q3June2014_2b_3 q3June2014_2b_5\n",
       "1   1438950         1530588         1802440         1358006       \n",
       "2         0               0               0               0       \n",
       "3         0               0               0               0       \n",
       "4    772866               0          775396          383544       \n",
       "5         0               0          868383               0       \n",
       "6  33362928        34226621        32295323        34860102       \n",
       "7         0               0               0               0       \n",
       "8         0               0               0               0       \n",
       "9    392083          506119          398836          384224       \n",
       "10        0           59759           64824               0       "
      ]
     },
     "metadata": {},
     "output_type": "display_data"
    }
   ],
   "source": [
    "annot_df[1:10,]"
   ]
  },
  {
   "cell_type": "code",
   "execution_count": 22,
   "id": "e7545ba3-53a5-43e3-9d37-d94723a0fa96",
   "metadata": {
    "tags": []
   },
   "outputs": [],
   "source": [
    "lookUpAnnot <- function(annot_df,\n",
    "                        FeatureID,\n",
    "                        look4column = '') {\n",
    "    output = annot_df[annot_df[,'id_number'] == FeatureID,look4column]\n",
    "    return(output)\n",
    "}"
   ]
  },
  {
   "cell_type": "code",
   "execution_count": 23,
   "id": "6b1aaf38-786a-4efe-ad74-19b73403db13",
   "metadata": {
    "tags": []
   },
   "outputs": [
    {
     "data": {
      "text/html": [
       "'LPS 22:6'"
      ],
      "text/latex": [
       "'LPS 22:6'"
      ],
      "text/markdown": [
       "'LPS 22:6'"
      ],
      "text/plain": [
       "[1] \"LPS 22:6\""
      ]
     },
     "metadata": {},
     "output_type": "display_data"
    }
   ],
   "source": [
    "lookUpAnnot(annot_df,'F8342','Species.Shorthand')"
   ]
  },
  {
   "cell_type": "markdown",
   "id": "f469a8dc-8c02-41a5-bbd7-87423583f54a",
   "metadata": {},
   "source": [
    "## Transform and merge data"
   ]
  },
  {
   "cell_type": "code",
   "execution_count": 25,
   "id": "9403fbb8-77ac-4103-b118-6e200d4af2c7",
   "metadata": {},
   "outputs": [],
   "source": [
    "source('../utilis/utilis.R')\n",
    "transform_merge_data4violin <- function(df = df,\n",
    "                                 meta_df = meta_df,\n",
    "                                 class_column = 'class',\n",
    "                                 cutoff_column = 'padj', \n",
    "                                 threshold = threshold) {\n",
    "    \n",
    "    df_filt <- df[df[,cutoff_column] < threshold,\n",
    "              colnames(df)[grepl('Naive\\\\_[0-9]|R5pos\\\\_[0-9]|R5neg\\\\_[0-9]',colnames(df))]] # \n",
    "    df_filt.T <- t(df_filt)\n",
    "    # print(head(df_filt.T))\n",
    "    merged_df = merge_by_rowName(meta_df,df_filt.T, all.y = TRUE)\n",
    "    merged_df[,class_column] = factor(\n",
    "        merged_df[,class_column],\n",
    "        level = c('Naive',\n",
    "                  'R5pos',\n",
    "                  'R5neg')\n",
    "    )\n",
    "    return(merged_df)\n",
    "}"
   ]
  },
  {
   "cell_type": "code",
   "execution_count": 26,
   "id": "09de2aff-85b6-48b3-8f29-08d00baaa6b6",
   "metadata": {},
   "outputs": [],
   "source": [
    "merged_df <- transform_merge_data4violin(df = df,\n",
    "                                         meta_df = meta_df,\n",
    "                                         class_column = 'class',\n",
    "                                         cutoff_column = 'padj', \n",
    "                                         threshold = threshold)"
   ]
  },
  {
   "cell_type": "code",
   "execution_count": 27,
   "id": "0e754c38",
   "metadata": {},
   "outputs": [
    {
     "data": {
      "text/html": [
       "<style>\n",
       ".list-inline {list-style: none; margin:0; padding: 0}\n",
       ".list-inline>li {display: inline-block}\n",
       ".list-inline>li:not(:last-child)::after {content: \"\\00b7\"; padding: 0 .5ex}\n",
       "</style>\n",
       "<ol class=list-inline><li>'class'</li><li>'biological_samples'</li><li>'cell_number'</li><li>'F10769'</li><li>'F11541'</li><li>'F16361'</li><li>'F17371'</li><li>'F17442'</li><li>'F17621'</li><li>'F17672'</li><li>'F18429'</li><li>'F18473'</li><li>'F18816'</li><li>'F18893'</li></ol>\n"
      ],
      "text/latex": [
       "\\begin{enumerate*}\n",
       "\\item 'class'\n",
       "\\item 'biological\\_samples'\n",
       "\\item 'cell\\_number'\n",
       "\\item 'F10769'\n",
       "\\item 'F11541'\n",
       "\\item 'F16361'\n",
       "\\item 'F17371'\n",
       "\\item 'F17442'\n",
       "\\item 'F17621'\n",
       "\\item 'F17672'\n",
       "\\item 'F18429'\n",
       "\\item 'F18473'\n",
       "\\item 'F18816'\n",
       "\\item 'F18893'\n",
       "\\end{enumerate*}\n"
      ],
      "text/markdown": [
       "1. 'class'\n",
       "2. 'biological_samples'\n",
       "3. 'cell_number'\n",
       "4. 'F10769'\n",
       "5. 'F11541'\n",
       "6. 'F16361'\n",
       "7. 'F17371'\n",
       "8. 'F17442'\n",
       "9. 'F17621'\n",
       "10. 'F17672'\n",
       "11. 'F18429'\n",
       "12. 'F18473'\n",
       "13. 'F18816'\n",
       "14. 'F18893'\n",
       "\n",
       "\n"
      ],
      "text/plain": [
       " [1] \"class\"              \"biological_samples\" \"cell_number\"       \n",
       " [4] \"F10769\"             \"F11541\"             \"F16361\"            \n",
       " [7] \"F17371\"             \"F17442\"             \"F17621\"            \n",
       "[10] \"F17672\"             \"F18429\"             \"F18473\"            \n",
       "[13] \"F18816\"             \"F18893\"            "
      ]
     },
     "metadata": {},
     "output_type": "display_data"
    }
   ],
   "source": [
    "colnames(merged_df)"
   ]
  },
  {
   "cell_type": "markdown",
   "id": "4afee4e2-cd85-4a2b-858e-5e503387ba02",
   "metadata": {},
   "source": [
    "# Output directory"
   ]
  },
  {
   "cell_type": "code",
   "execution_count": 28,
   "id": "cd50ca01-98c3-450e-b54f-0438fa81a4d6",
   "metadata": {
    "tags": []
   },
   "outputs": [
    {
     "name": "stderr",
     "output_type": "stream",
     "text": [
      "Warning message in dir.create(output_dir):\n",
      "“'../../../output/PS_speciesOnly_hMinImp_TICnorm_groupFil0.3_HILICpos_1wayANOVA/boxplot' already exists”\n"
     ]
    }
   ],
   "source": [
    "output_dir = \"../../../output/PS_speciesOnly_hMinImp_TICnorm_groupFil0.3_HILICpos_1wayANOVA/boxplot/\"\n",
    "dir.create(output_dir)"
   ]
  },
  {
   "cell_type": "markdown",
   "id": "12756014",
   "metadata": {
    "tags": []
   },
   "source": [
    "# Wrapper Function: plot a single box plot"
   ]
  },
  {
   "cell_type": "code",
   "execution_count": 29,
   "id": "aecbfbe9-3102-4481-9913-f8c84e9098d5",
   "metadata": {},
   "outputs": [],
   "source": [
    "box_plot <- function(long_df = merged_df,\n",
    "                        x = 'class',\n",
    "                        y = var,\n",
    "                        xlab = xlab,\n",
    "                        ylab = ylab,\n",
    "                        fill_color = 'class',\n",
    "                        fig_width = 8,\n",
    "                        fig_height = 8,\n",
    "                        text_size = 20,\n",
    "                        legend_size = 20,\n",
    "                        axis_title_size = 20,\n",
    "                        output_dir = \"\",\n",
    "                        pdf_prefix = 'test',\n",
    "                        show_plot = TRUE) {\n",
    "    \n",
    "    options(repr.plot.width = fig_width, repr.plot.height = fig_height)\n",
    "\n",
    "    p <- ggplot(long_df, aes_string(x = x, y = y, fill = fill_color)) + \n",
    "        geom_boxplot(outlier.shape = NA) +\n",
    "        xlab(xlab) + ylab(ylab) + \n",
    "        geom_jitter(alpha = 1) +\n",
    "        scale_fill_manual(values = c(\"#888888\",\"#0000ff\",\"#ff0000\")) +  #\n",
    "\n",
    "        # set transparency\n",
    "        # https://ggplot2.tidyverse.org/reference/theme.html\n",
    "        theme(\n",
    "          panel.grid.major = element_line(colour = \"grey50\",linetype = \"dashed\", size = 0.2),\n",
    "          panel.border = element_rect(fill = NA),\n",
    "          #panel.grid.minor = element_blank(),\n",
    "          panel.background = element_rect(fill = \"transparent\",colour = NA),\n",
    "          plot.background = element_rect(fill = \"transparent\",colour = NA),\n",
    "          axis.text = element_text(size = text_size, colour=\"black\"),\n",
    "          axis.text.x = element_text(angle = 45, vjust = 0.5, hjust=0.5, colour=\"black\"),\n",
    "          legend.text= element_text(size = legend_size),\n",
    "          legend.title = element_text(size = legend_size),\n",
    "          axis.title = element_text(size = axis_title_size)\n",
    "        )\n",
    "    if (show_plot == TRUE) {\n",
    "        print(p) # display the plot\n",
    "    } else {return(p)}\n",
    "\n",
    "    if (length(output_dir)!=0) {\n",
    "            ggsave(file.path(output_dir, paste0(\"ggplot_boxplot_\",pdf_prefix,\".pdf\")), width = fig_width, height = fig_height)\n",
    "        }\n",
    "}"
   ]
  },
  {
   "cell_type": "markdown",
   "id": "04a0e043-8ad0-4c31-b6e5-6f0dd71ef974",
   "metadata": {
    "tags": []
   },
   "source": [
    "# Plot a single box plot"
   ]
  },
  {
   "cell_type": "code",
   "execution_count": 30,
   "id": "dbe18864",
   "metadata": {},
   "outputs": [
    {
     "name": "stderr",
     "output_type": "stream",
     "text": [
      "Warning message:\n",
      "“\u001b[1m\u001b[22m`aes_string()` was deprecated in ggplot2 3.0.0.\n",
      "\u001b[36mℹ\u001b[39m Please use tidy evaluation ideoms with `aes()`”\n",
      "Warning message:\n",
      "“\u001b[1m\u001b[22mThe `size` argument of `element_line()` is deprecated as of ggplot2 3.4.0.\n",
      "\u001b[36mℹ\u001b[39m Please use the `linewidth` argument instead.”\n"
     ]
    },
    {
     "ename": "ERROR",
     "evalue": "\u001b[1m\u001b[33mError\u001b[39m in `geom_boxplot()`:\u001b[22m\n\u001b[1m\u001b[22m\u001b[33m!\u001b[39m Problem while computing aesthetics.\n\u001b[36mℹ\u001b[39m Error occurred in the 1st layer.\n\u001b[1mCaused by error in `FUN()`:\u001b[22m\n\u001b[33m!\u001b[39m object 'F10352' not found\n",
     "output_type": "error",
     "traceback": [
      "\u001b[1m\u001b[33mError\u001b[39m in `geom_boxplot()`:\u001b[22m\n\u001b[1m\u001b[22m\u001b[33m!\u001b[39m Problem while computing aesthetics.\n\u001b[36mℹ\u001b[39m Error occurred in the 1st layer.\n\u001b[1mCaused by error in `FUN()`:\u001b[22m\n\u001b[33m!\u001b[39m object 'F10352' not found\nTraceback:\n",
      "1. box_plot(long_df = merged_df, x = \"class\", y = var, xlab = \"class\", \n .     ylab = glue(\"{var}_{metab_name}\\nlog2peakArea\"), fill_color = \"class\", \n .     fig_width = 8, fig_height = 6, text_size = 20, legend_size = 20, \n .     axis_title_size = 20, output_dir = output_dir, pdf_prefix = \"test\")",
      "2. print(p)   # at line 39 of file <text>",
      "3. print.ggplot(p)",
      "4. ggplot_build(x)",
      "5. ggplot_build.ggplot(x)",
      "6. by_layer(function(l, d) l$compute_aesthetics(d, plot), layers, \n .     data, \"computing aesthetics\")",
      "7. try_fetch(for (i in seq_along(data)) {\n .     out[[i]] <- f(l = layers[[i]], d = data[[i]])\n . }, error = function(cnd) {\n .     cli::cli_abort(c(\"Problem while {step}.\", i = \"Error occurred in the {ordinal(i)} layer.\"), \n .         call = layers[[i]]$constructor, parent = cnd)\n . })",
      "8. tryCatch(withCallingHandlers(expr, error = function(cnd) {\n .     {\n .         .__handler_frame__. <- TRUE\n .         .__setup_frame__. <- frame\n .     }\n .     out <- handlers[[1L]](cnd)\n .     if (!inherits(out, \"rlang_zap\")) \n .         throw(out)\n . }), stackOverflowError = handlers[[1L]])",
      "9. tryCatchList(expr, classes, parentenv, handlers)",
      "10. tryCatchOne(expr, names, parentenv, handlers[[1L]])",
      "11. doTryCatch(return(expr), name, parentenv, handler)",
      "12. withCallingHandlers(expr, error = function(cnd) {\n  .     {\n  .         .__handler_frame__. <- TRUE\n  .         .__setup_frame__. <- frame\n  .     }\n  .     out <- handlers[[1L]](cnd)\n  .     if (!inherits(out, \"rlang_zap\")) \n  .         throw(out)\n  . })",
      "13. f(l = layers[[i]], d = data[[i]])",
      "14. l$compute_aesthetics(d, plot)",
      "15. compute_aesthetics(..., self = self)",
      "16. scales_add_defaults(plot$scales, data, aesthetics, plot$plot_env)",
      "17. lapply(aesthetics[new_aesthetics], eval_tidy, data = data)",
      "18. FUN(X[[i]], ...)",
      "19. .handleSimpleError(function (cnd) \n  . {\n  .     {\n  .         .__handler_frame__. <- TRUE\n  .         .__setup_frame__. <- frame\n  .     }\n  .     out <- handlers[[1L]](cnd)\n  .     if (!inherits(out, \"rlang_zap\")) \n  .         throw(out)\n  . }, \"object 'F10352' not found\", base::quote(FUN(X[[i]], ...)))",
      "20. h(simpleError(msg, call))",
      "21. handlers[[1L]](cnd)",
      "22. cli::cli_abort(c(\"Problem while {step}.\", i = \"Error occurred in the {ordinal(i)} layer.\"), \n  .     call = layers[[i]]$constructor, parent = cnd)",
      "23. rlang::abort(message, ..., call = call, use_cli_format = TRUE, \n  .     .frame = .frame)",
      "24. signal_abort(cnd, .file)"
     ]
    }
   ],
   "source": [
    "var <- sym('F10352')\n",
    "\n",
    "metab_name <- lookUpAnnot(annot_df,var,'Species.Shorthand')\n",
    "box_plot(long_df = merged_df,\n",
    "            x = 'class',\n",
    "            y = var,\n",
    "            xlab = 'class',\n",
    "            ylab = glue('{var}_{metab_name}\\nlog2peakArea'),\n",
    "            fill_color = 'class',\n",
    "            fig_width = 8,\n",
    "            fig_height = 6,\n",
    "            text_size = 20,\n",
    "            legend_size = 20,\n",
    "            axis_title_size = 20,\n",
    "            output_dir = output_dir,\n",
    "            pdf_prefix = 'test')"
   ]
  },
  {
   "cell_type": "markdown",
   "id": "9fc1f8be-aa7c-4b0c-804f-8a1351a7d5cd",
   "metadata": {},
   "source": [
    "# Wrapper for plotting out multiple"
   ]
  },
  {
   "cell_type": "code",
   "execution_count": 31,
   "id": "08ede61d-295e-4722-95da-289e0b84d9c6",
   "metadata": {},
   "outputs": [
    {
     "data": {
      "text/html": [
       "<table class=\"dataframe\">\n",
       "<caption>A data.frame: 6 × 14</caption>\n",
       "<thead>\n",
       "\t<tr><th></th><th scope=col>class</th><th scope=col>biological_samples</th><th scope=col>cell_number</th><th scope=col>F10769</th><th scope=col>F11541</th><th scope=col>F16361</th><th scope=col>F17371</th><th scope=col>F17442</th><th scope=col>F17621</th><th scope=col>F17672</th><th scope=col>F18429</th><th scope=col>F18473</th><th scope=col>F18816</th><th scope=col>F18893</th></tr>\n",
       "\t<tr><th></th><th scope=col>&lt;fct&gt;</th><th scope=col>&lt;chr&gt;</th><th scope=col>&lt;int&gt;</th><th scope=col>&lt;dbl&gt;</th><th scope=col>&lt;dbl&gt;</th><th scope=col>&lt;dbl&gt;</th><th scope=col>&lt;dbl&gt;</th><th scope=col>&lt;dbl&gt;</th><th scope=col>&lt;dbl&gt;</th><th scope=col>&lt;dbl&gt;</th><th scope=col>&lt;dbl&gt;</th><th scope=col>&lt;dbl&gt;</th><th scope=col>&lt;dbl&gt;</th><th scope=col>&lt;dbl&gt;</th></tr>\n",
       "</thead>\n",
       "<tbody>\n",
       "\t<tr><th scope=row>Naive_1</th><td>Naive</td><td>Yes</td><td>300</td><td>19.18448</td><td>25.47994</td><td>19.24376</td><td>23.16421</td><td>20.91839</td><td>19.94599</td><td>17.15498</td><td>17.55205</td><td>18.27402</td><td>20.84266</td><td>21.64989</td></tr>\n",
       "\t<tr><th scope=row>Naive_2</th><td>Naive</td><td>Yes</td><td>300</td><td>19.25283</td><td>24.98491</td><td>20.12250</td><td>22.49965</td><td>21.57313</td><td>19.94599</td><td>16.15498</td><td>17.55205</td><td>17.15197</td><td>20.34246</td><td>21.06372</td></tr>\n",
       "\t<tr><th scope=row>Naive_3</th><td>Naive</td><td>Yes</td><td>300</td><td>18.18448</td><td>24.77617</td><td>19.50661</td><td>21.99403</td><td>19.74208</td><td>19.94599</td><td>16.15498</td><td>17.55205</td><td>17.75366</td><td>20.32719</td><td>21.12758</td></tr>\n",
       "\t<tr><th scope=row>R5neg_1</th><td>R5neg</td><td>Yes</td><td>655</td><td>19.42996</td><td>24.17855</td><td>20.21215</td><td>20.91649</td><td>22.44738</td><td>20.95026</td><td>19.88481</td><td>19.39365</td><td>19.86190</td><td>19.48290</td><td>21.76141</td></tr>\n",
       "\t<tr><th scope=row>R5neg_2</th><td>R5neg</td><td>Yes</td><td>687</td><td>20.42619</td><td>24.45577</td><td>20.46708</td><td>20.90420</td><td>22.64255</td><td>21.16047</td><td>20.25283</td><td>18.55205</td><td>19.25296</td><td>18.48290</td><td>22.08037</td></tr>\n",
       "\t<tr><th scope=row>R5neg_3</th><td>R5neg</td><td>Yes</td><td>865</td><td>19.78156</td><td>24.02758</td><td>21.62299</td><td>19.90420</td><td>22.75459</td><td>20.94599</td><td>20.31554</td><td>19.32579</td><td>19.61891</td><td>18.48290</td><td>21.79392</td></tr>\n",
       "</tbody>\n",
       "</table>\n"
      ],
      "text/latex": [
       "A data.frame: 6 × 14\n",
       "\\begin{tabular}{r|llllllllllllll}\n",
       "  & class & biological\\_samples & cell\\_number & F10769 & F11541 & F16361 & F17371 & F17442 & F17621 & F17672 & F18429 & F18473 & F18816 & F18893\\\\\n",
       "  & <fct> & <chr> & <int> & <dbl> & <dbl> & <dbl> & <dbl> & <dbl> & <dbl> & <dbl> & <dbl> & <dbl> & <dbl> & <dbl>\\\\\n",
       "\\hline\n",
       "\tNaive\\_1 & Naive & Yes & 300 & 19.18448 & 25.47994 & 19.24376 & 23.16421 & 20.91839 & 19.94599 & 17.15498 & 17.55205 & 18.27402 & 20.84266 & 21.64989\\\\\n",
       "\tNaive\\_2 & Naive & Yes & 300 & 19.25283 & 24.98491 & 20.12250 & 22.49965 & 21.57313 & 19.94599 & 16.15498 & 17.55205 & 17.15197 & 20.34246 & 21.06372\\\\\n",
       "\tNaive\\_3 & Naive & Yes & 300 & 18.18448 & 24.77617 & 19.50661 & 21.99403 & 19.74208 & 19.94599 & 16.15498 & 17.55205 & 17.75366 & 20.32719 & 21.12758\\\\\n",
       "\tR5neg\\_1 & R5neg & Yes & 655 & 19.42996 & 24.17855 & 20.21215 & 20.91649 & 22.44738 & 20.95026 & 19.88481 & 19.39365 & 19.86190 & 19.48290 & 21.76141\\\\\n",
       "\tR5neg\\_2 & R5neg & Yes & 687 & 20.42619 & 24.45577 & 20.46708 & 20.90420 & 22.64255 & 21.16047 & 20.25283 & 18.55205 & 19.25296 & 18.48290 & 22.08037\\\\\n",
       "\tR5neg\\_3 & R5neg & Yes & 865 & 19.78156 & 24.02758 & 21.62299 & 19.90420 & 22.75459 & 20.94599 & 20.31554 & 19.32579 & 19.61891 & 18.48290 & 21.79392\\\\\n",
       "\\end{tabular}\n"
      ],
      "text/markdown": [
       "\n",
       "A data.frame: 6 × 14\n",
       "\n",
       "| <!--/--> | class &lt;fct&gt; | biological_samples &lt;chr&gt; | cell_number &lt;int&gt; | F10769 &lt;dbl&gt; | F11541 &lt;dbl&gt; | F16361 &lt;dbl&gt; | F17371 &lt;dbl&gt; | F17442 &lt;dbl&gt; | F17621 &lt;dbl&gt; | F17672 &lt;dbl&gt; | F18429 &lt;dbl&gt; | F18473 &lt;dbl&gt; | F18816 &lt;dbl&gt; | F18893 &lt;dbl&gt; |\n",
       "|---|---|---|---|---|---|---|---|---|---|---|---|---|---|---|\n",
       "| Naive_1 | Naive | Yes | 300 | 19.18448 | 25.47994 | 19.24376 | 23.16421 | 20.91839 | 19.94599 | 17.15498 | 17.55205 | 18.27402 | 20.84266 | 21.64989 |\n",
       "| Naive_2 | Naive | Yes | 300 | 19.25283 | 24.98491 | 20.12250 | 22.49965 | 21.57313 | 19.94599 | 16.15498 | 17.55205 | 17.15197 | 20.34246 | 21.06372 |\n",
       "| Naive_3 | Naive | Yes | 300 | 18.18448 | 24.77617 | 19.50661 | 21.99403 | 19.74208 | 19.94599 | 16.15498 | 17.55205 | 17.75366 | 20.32719 | 21.12758 |\n",
       "| R5neg_1 | R5neg | Yes | 655 | 19.42996 | 24.17855 | 20.21215 | 20.91649 | 22.44738 | 20.95026 | 19.88481 | 19.39365 | 19.86190 | 19.48290 | 21.76141 |\n",
       "| R5neg_2 | R5neg | Yes | 687 | 20.42619 | 24.45577 | 20.46708 | 20.90420 | 22.64255 | 21.16047 | 20.25283 | 18.55205 | 19.25296 | 18.48290 | 22.08037 |\n",
       "| R5neg_3 | R5neg | Yes | 865 | 19.78156 | 24.02758 | 21.62299 | 19.90420 | 22.75459 | 20.94599 | 20.31554 | 19.32579 | 19.61891 | 18.48290 | 21.79392 |\n",
       "\n"
      ],
      "text/plain": [
       "        class biological_samples cell_number F10769   F11541   F16361  \n",
       "Naive_1 Naive Yes                300         19.18448 25.47994 19.24376\n",
       "Naive_2 Naive Yes                300         19.25283 24.98491 20.12250\n",
       "Naive_3 Naive Yes                300         18.18448 24.77617 19.50661\n",
       "R5neg_1 R5neg Yes                655         19.42996 24.17855 20.21215\n",
       "R5neg_2 R5neg Yes                687         20.42619 24.45577 20.46708\n",
       "R5neg_3 R5neg Yes                865         19.78156 24.02758 21.62299\n",
       "        F17371   F17442   F17621   F17672   F18429   F18473   F18816   F18893  \n",
       "Naive_1 23.16421 20.91839 19.94599 17.15498 17.55205 18.27402 20.84266 21.64989\n",
       "Naive_2 22.49965 21.57313 19.94599 16.15498 17.55205 17.15197 20.34246 21.06372\n",
       "Naive_3 21.99403 19.74208 19.94599 16.15498 17.55205 17.75366 20.32719 21.12758\n",
       "R5neg_1 20.91649 22.44738 20.95026 19.88481 19.39365 19.86190 19.48290 21.76141\n",
       "R5neg_2 20.90420 22.64255 21.16047 20.25283 18.55205 19.25296 18.48290 22.08037\n",
       "R5neg_3 19.90420 22.75459 20.94599 20.31554 19.32579 19.61891 18.48290 21.79392"
      ]
     },
     "metadata": {},
     "output_type": "display_data"
    }
   ],
   "source": [
    "head(merged_df)"
   ]
  },
  {
   "cell_type": "code",
   "execution_count": 32,
   "id": "7fdae1cf-9e90-4186-b58c-d852baa5ac43",
   "metadata": {},
   "outputs": [],
   "source": [
    "listOfFeatures = colnames(merged_df)[grepl('F[0-9]',colnames(merged_df))] # "
   ]
  },
  {
   "cell_type": "code",
   "execution_count": 33,
   "id": "b6267d44-7088-4aac-8d22-52c5fdd9edbc",
   "metadata": {},
   "outputs": [],
   "source": [
    "# install.packages(\"ggpubr\")\n",
    "library(ggpubr)"
   ]
  },
  {
   "cell_type": "code",
   "execution_count": 34,
   "id": "60150d3d-6e26-499d-8834-01918be230b1",
   "metadata": {
    "tags": []
   },
   "outputs": [
    {
     "name": "stderr",
     "output_type": "stream",
     "text": [
      "file saved to ../../../output/PS_speciesOnly_hMinImp_TICnorm_groupFil0.3_HILICpos_1wayANOVA/boxplot//ggplot_multi_ggplot_test_padj_0.05.pdf\n",
      "\n"
     ]
    }
   ],
   "source": [
    "fig_l = list()\n",
    "for (i in 1:length(listOfFeatures)) {\n",
    "\n",
    "    pdf_prefix = paste('test',cutoff_column,threshold, sep = \"_\") # \n",
    "\n",
    "    featID <- listOfFeatures[[i]]\n",
    "    metab_name <- lookUpAnnot(annot_df,sym(featID),'Species.Shorthand')\n",
    "\n",
    "    fig_l[[i]] <- box_plot(long_df = merged_df,\n",
    "                            x = 'class', #\n",
    "                            y = sym(featID),\n",
    "                            xlab = 'class', # \n",
    "                            ylab = glue('{featID}_{metab_name}\\nlog2peakArea'),\n",
    "                            fill_color = 'class',\n",
    "                            fig_width = 4,\n",
    "                            fig_height = 4,\n",
    "                            text_size = 8, # important in report multiple ones.\n",
    "                            legend_size = 8,\n",
    "                            axis_title_size = 6,\n",
    "                            output_dir = NULL, # no need to define, this is for single plot\n",
    "                            pdf_prefix = NULL, # no need to define, this is for single plot\n",
    "                            show_plot = FALSE)\n",
    "                    }\n",
    "multi.page <- ggarrange(plotlist = fig_l,\n",
    "                        nrow = 3, ncol = 2)\n",
    "ggexport(multi.page, filename = file.path(output_dir, \n",
    "                                          paste0(\"ggplot_multi_ggplot_\",\n",
    "                                                 pdf_prefix,\n",
    "                                                 \".pdf\")))\n",
    "\n",
    "\n",
    "# library(ggpubr)\n",
    "# \n",
    "# my_comparisons = list( c(\"0.5\", \"1\"), c(\"1\", \"2\"), c(\"0.5\", \"2\") )\n",
    "# \n",
    "# ggboxplot(ToothGrowth, x = \"dose\", y = \"len\",\n",
    "#           color = \"dose\", palette = \"jco\")+ \n",
    "#   stat_compare_means(comparisons = my_comparisons, label.y = c(29, 35, 40))+\n",
    "#   stat_compare_means(label.y = 45)"
   ]
  },
  {
   "cell_type": "markdown",
   "id": "a11647dc-4b1b-4d4d-bacc-e13483eb609e",
   "metadata": {},
   "source": [
    "-------"
   ]
  },
  {
   "cell_type": "markdown",
   "id": "4300a21b-6cfe-437e-80a7-9b7072dd41f8",
   "metadata": {},
   "source": [
    "-------"
   ]
  },
  {
   "cell_type": "markdown",
   "id": "07dc57bb-a688-441d-b0d1-4a65e552b1a9",
   "metadata": {},
   "source": [
    "-------"
   ]
  }
 ],
 "metadata": {
  "kernelspec": {
   "display_name": "R",
   "language": "R",
   "name": "ir"
  },
  "language_info": {
   "codemirror_mode": "r",
   "file_extension": ".r",
   "mimetype": "text/x-r-source",
   "name": "R",
   "pygments_lexer": "r",
   "version": "4.2.2"
  }
 },
 "nbformat": 4,
 "nbformat_minor": 5
}
