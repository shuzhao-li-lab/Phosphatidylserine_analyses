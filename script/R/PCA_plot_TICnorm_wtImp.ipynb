{
 "cells": [
  {
   "cell_type": "markdown",
   "id": "522210e5-f233-471a-b8cb-13fd7ce913e6",
   "metadata": {},
   "source": [
    "# TIC norm with imputation"
   ]
  },
  {
   "cell_type": "code",
   "execution_count": 91,
   "id": "653df9c9-ce70-4454-b1cd-fb9d4e255f56",
   "metadata": {},
   "outputs": [],
   "source": [
    "library(glue)"
   ]
  },
  {
   "cell_type": "code",
   "execution_count": 92,
   "id": "5a85bd47-0752-4bcc-a4d7-93f0a316155b",
   "metadata": {},
   "outputs": [],
   "source": [
    "exp_label = \"TICnorm_wtImp\""
   ]
  },
  {
   "cell_type": "code",
   "execution_count": 93,
   "id": "6e72760e-a049-4425-b9cc-e1c7603d552e",
   "metadata": {},
   "outputs": [],
   "source": [
    "input_matrix_name = \"../../output/preprocessing_59/FC_log2_hMinImp_TICnorm_groupFil0.3_HILICpos_featab.csv\"\n",
    "meta_data_name = \"../../input/sequence_file/clean_meta_df.csv\""
   ]
  },
  {
   "cell_type": "code",
   "execution_count": 94,
   "id": "f3c7eeb8-00c9-426b-9a7e-533b147e049c",
   "metadata": {},
   "outputs": [],
   "source": [
    "rn = sample(1:100, 1)\n",
    "output_dir <- glue(\"../../output/PCA/TICnorm_wtImp_{rn}\")\n",
    "dir.create(output_dir)"
   ]
  },
  {
   "cell_type": "code",
   "execution_count": 95,
   "id": "98bf8af0-ebb3-49f5-961e-f025a315c98a",
   "metadata": {},
   "outputs": [],
   "source": [
    "df = read.table(input_matrix_name, header = TRUE,sep = ',',row.name = 1)\n",
    "meta_df = read.table(meta_data_name, header = TRUE, sep = ',')"
   ]
  },
  {
   "cell_type": "code",
   "execution_count": 96,
   "id": "c4f5043d-8e48-4a3b-86c1-8336b6c8ee1b",
   "metadata": {},
   "outputs": [],
   "source": [
    "# since the meta_df originally have techincal replicates, which is not unique after technical replicate summaries\n",
    "# Thus processing metadata a little bit to retain only relevant rows\n",
    "sub_meta_df <- meta_df[c('tID_dedup','class','biological_samples','cell_number')]\n",
    "sub_meta_df <- unique(sub_meta_df)\n",
    "\n",
    "rownames(sub_meta_df) = sub_meta_df$tID_dedup"
   ]
  },
  {
   "cell_type": "code",
   "execution_count": 97,
   "id": "8ee31724-1c5c-4833-bcf9-f0e27770569d",
   "metadata": {
    "tags": []
   },
   "outputs": [],
   "source": [
    "data.df = df[,grep('R5pos\\\\_[0-9]+|R5neg\\\\_[0-9]+|Naive\\\\_[0-9]+',colnames(df))]"
   ]
  },
  {
   "cell_type": "code",
   "execution_count": 98,
   "id": "e103f8e5-7a68-4340-84c1-b5f4ebe92011",
   "metadata": {},
   "outputs": [
    {
     "data": {
      "text/html": [
       "<table class=\"dataframe\">\n",
       "<caption>A data.frame: 6 × 9</caption>\n",
       "<thead>\n",
       "\t<tr><th></th><th scope=col>Naive_1</th><th scope=col>Naive_2</th><th scope=col>Naive_3</th><th scope=col>R5neg_1</th><th scope=col>R5neg_2</th><th scope=col>R5neg_3</th><th scope=col>R5pos_1</th><th scope=col>R5pos_2</th><th scope=col>R5pos_3</th></tr>\n",
       "\t<tr><th></th><th scope=col>&lt;dbl&gt;</th><th scope=col>&lt;dbl&gt;</th><th scope=col>&lt;dbl&gt;</th><th scope=col>&lt;dbl&gt;</th><th scope=col>&lt;dbl&gt;</th><th scope=col>&lt;dbl&gt;</th><th scope=col>&lt;dbl&gt;</th><th scope=col>&lt;dbl&gt;</th><th scope=col>&lt;dbl&gt;</th></tr>\n",
       "</thead>\n",
       "<tbody>\n",
       "\t<tr><th scope=row>F1</th><td>14.72954</td><td>16.52419</td><td>16.46507</td><td>17.00695</td><td>17.09726</td><td>17.05882</td><td>13.45488</td><td>15.26659</td><td>14.33267</td></tr>\n",
       "\t<tr><th scope=row>F4</th><td>24.07682</td><td>24.49154</td><td>24.50332</td><td>25.40913</td><td>25.06637</td><td>25.52399</td><td>23.38120</td><td>23.72868</td><td>23.97152</td></tr>\n",
       "\t<tr><th scope=row>F20</th><td>16.97935</td><td>18.76444</td><td>16.22300</td><td>18.15003</td><td>18.21529</td><td>17.46537</td><td>16.12229</td><td>17.00383</td><td>17.26013</td></tr>\n",
       "\t<tr><th scope=row>F24</th><td>16.09626</td><td>16.08670</td><td>18.15118</td><td>18.49526</td><td>17.98687</td><td>18.62205</td><td>15.08670</td><td>15.08670</td><td>17.40155</td></tr>\n",
       "\t<tr><th scope=row>F25</th><td>20.56940</td><td>21.55389</td><td>21.39350</td><td>22.55255</td><td>22.14998</td><td>22.60429</td><td>10.56701</td><td>20.19821</td><td>20.30175</td></tr>\n",
       "\t<tr><th scope=row>F51</th><td>20.19929</td><td>21.12595</td><td>20.63225</td><td>19.94389</td><td>20.37460</td><td>20.11027</td><td>18.67348</td><td>19.83385</td><td>19.72643</td></tr>\n",
       "</tbody>\n",
       "</table>\n"
      ],
      "text/latex": [
       "A data.frame: 6 × 9\n",
       "\\begin{tabular}{r|lllllllll}\n",
       "  & Naive\\_1 & Naive\\_2 & Naive\\_3 & R5neg\\_1 & R5neg\\_2 & R5neg\\_3 & R5pos\\_1 & R5pos\\_2 & R5pos\\_3\\\\\n",
       "  & <dbl> & <dbl> & <dbl> & <dbl> & <dbl> & <dbl> & <dbl> & <dbl> & <dbl>\\\\\n",
       "\\hline\n",
       "\tF1 & 14.72954 & 16.52419 & 16.46507 & 17.00695 & 17.09726 & 17.05882 & 13.45488 & 15.26659 & 14.33267\\\\\n",
       "\tF4 & 24.07682 & 24.49154 & 24.50332 & 25.40913 & 25.06637 & 25.52399 & 23.38120 & 23.72868 & 23.97152\\\\\n",
       "\tF20 & 16.97935 & 18.76444 & 16.22300 & 18.15003 & 18.21529 & 17.46537 & 16.12229 & 17.00383 & 17.26013\\\\\n",
       "\tF24 & 16.09626 & 16.08670 & 18.15118 & 18.49526 & 17.98687 & 18.62205 & 15.08670 & 15.08670 & 17.40155\\\\\n",
       "\tF25 & 20.56940 & 21.55389 & 21.39350 & 22.55255 & 22.14998 & 22.60429 & 10.56701 & 20.19821 & 20.30175\\\\\n",
       "\tF51 & 20.19929 & 21.12595 & 20.63225 & 19.94389 & 20.37460 & 20.11027 & 18.67348 & 19.83385 & 19.72643\\\\\n",
       "\\end{tabular}\n"
      ],
      "text/markdown": [
       "\n",
       "A data.frame: 6 × 9\n",
       "\n",
       "| <!--/--> | Naive_1 &lt;dbl&gt; | Naive_2 &lt;dbl&gt; | Naive_3 &lt;dbl&gt; | R5neg_1 &lt;dbl&gt; | R5neg_2 &lt;dbl&gt; | R5neg_3 &lt;dbl&gt; | R5pos_1 &lt;dbl&gt; | R5pos_2 &lt;dbl&gt; | R5pos_3 &lt;dbl&gt; |\n",
       "|---|---|---|---|---|---|---|---|---|---|\n",
       "| F1 | 14.72954 | 16.52419 | 16.46507 | 17.00695 | 17.09726 | 17.05882 | 13.45488 | 15.26659 | 14.33267 |\n",
       "| F4 | 24.07682 | 24.49154 | 24.50332 | 25.40913 | 25.06637 | 25.52399 | 23.38120 | 23.72868 | 23.97152 |\n",
       "| F20 | 16.97935 | 18.76444 | 16.22300 | 18.15003 | 18.21529 | 17.46537 | 16.12229 | 17.00383 | 17.26013 |\n",
       "| F24 | 16.09626 | 16.08670 | 18.15118 | 18.49526 | 17.98687 | 18.62205 | 15.08670 | 15.08670 | 17.40155 |\n",
       "| F25 | 20.56940 | 21.55389 | 21.39350 | 22.55255 | 22.14998 | 22.60429 | 10.56701 | 20.19821 | 20.30175 |\n",
       "| F51 | 20.19929 | 21.12595 | 20.63225 | 19.94389 | 20.37460 | 20.11027 | 18.67348 | 19.83385 | 19.72643 |\n",
       "\n"
      ],
      "text/plain": [
       "    Naive_1  Naive_2  Naive_3  R5neg_1  R5neg_2  R5neg_3  R5pos_1  R5pos_2 \n",
       "F1  14.72954 16.52419 16.46507 17.00695 17.09726 17.05882 13.45488 15.26659\n",
       "F4  24.07682 24.49154 24.50332 25.40913 25.06637 25.52399 23.38120 23.72868\n",
       "F20 16.97935 18.76444 16.22300 18.15003 18.21529 17.46537 16.12229 17.00383\n",
       "F24 16.09626 16.08670 18.15118 18.49526 17.98687 18.62205 15.08670 15.08670\n",
       "F25 20.56940 21.55389 21.39350 22.55255 22.14998 22.60429 10.56701 20.19821\n",
       "F51 20.19929 21.12595 20.63225 19.94389 20.37460 20.11027 18.67348 19.83385\n",
       "    R5pos_3 \n",
       "F1  14.33267\n",
       "F4  23.97152\n",
       "F20 17.26013\n",
       "F24 17.40155\n",
       "F25 20.30175\n",
       "F51 19.72643"
      ]
     },
     "metadata": {},
     "output_type": "display_data"
    }
   ],
   "source": [
    "head(data.df)"
   ]
  },
  {
   "cell_type": "code",
   "execution_count": 99,
   "id": "9c13b17f-d671-4b9f-b3c3-47f4a024a764",
   "metadata": {},
   "outputs": [],
   "source": [
    "if(any(data.df > 10000)) {\n",
    "    data.df[data.df == 0] = NA\n",
    "    data.df.log2 = log2(data.df)\n",
    "} else {\n",
    "    data.df.log2 = data.df\n",
    "}"
   ]
  },
  {
   "cell_type": "code",
   "execution_count": 100,
   "id": "fb21644d-01cd-4434-b08b-5ff9ad29041f",
   "metadata": {},
   "outputs": [
    {
     "data": {
      "text/html": [
       "<table class=\"dataframe\">\n",
       "<caption>A data.frame: 6 × 9</caption>\n",
       "<thead>\n",
       "\t<tr><th></th><th scope=col>Naive_1</th><th scope=col>Naive_2</th><th scope=col>Naive_3</th><th scope=col>R5neg_1</th><th scope=col>R5neg_2</th><th scope=col>R5neg_3</th><th scope=col>R5pos_1</th><th scope=col>R5pos_2</th><th scope=col>R5pos_3</th></tr>\n",
       "\t<tr><th></th><th scope=col>&lt;dbl&gt;</th><th scope=col>&lt;dbl&gt;</th><th scope=col>&lt;dbl&gt;</th><th scope=col>&lt;dbl&gt;</th><th scope=col>&lt;dbl&gt;</th><th scope=col>&lt;dbl&gt;</th><th scope=col>&lt;dbl&gt;</th><th scope=col>&lt;dbl&gt;</th><th scope=col>&lt;dbl&gt;</th></tr>\n",
       "</thead>\n",
       "<tbody>\n",
       "\t<tr><th scope=row>F1</th><td>14.72954</td><td>16.52419</td><td>16.46507</td><td>17.00695</td><td>17.09726</td><td>17.05882</td><td>13.45488</td><td>15.26659</td><td>14.33267</td></tr>\n",
       "\t<tr><th scope=row>F4</th><td>24.07682</td><td>24.49154</td><td>24.50332</td><td>25.40913</td><td>25.06637</td><td>25.52399</td><td>23.38120</td><td>23.72868</td><td>23.97152</td></tr>\n",
       "\t<tr><th scope=row>F20</th><td>16.97935</td><td>18.76444</td><td>16.22300</td><td>18.15003</td><td>18.21529</td><td>17.46537</td><td>16.12229</td><td>17.00383</td><td>17.26013</td></tr>\n",
       "\t<tr><th scope=row>F24</th><td>16.09626</td><td>16.08670</td><td>18.15118</td><td>18.49526</td><td>17.98687</td><td>18.62205</td><td>15.08670</td><td>15.08670</td><td>17.40155</td></tr>\n",
       "\t<tr><th scope=row>F25</th><td>20.56940</td><td>21.55389</td><td>21.39350</td><td>22.55255</td><td>22.14998</td><td>22.60429</td><td>10.56701</td><td>20.19821</td><td>20.30175</td></tr>\n",
       "\t<tr><th scope=row>F51</th><td>20.19929</td><td>21.12595</td><td>20.63225</td><td>19.94389</td><td>20.37460</td><td>20.11027</td><td>18.67348</td><td>19.83385</td><td>19.72643</td></tr>\n",
       "</tbody>\n",
       "</table>\n"
      ],
      "text/latex": [
       "A data.frame: 6 × 9\n",
       "\\begin{tabular}{r|lllllllll}\n",
       "  & Naive\\_1 & Naive\\_2 & Naive\\_3 & R5neg\\_1 & R5neg\\_2 & R5neg\\_3 & R5pos\\_1 & R5pos\\_2 & R5pos\\_3\\\\\n",
       "  & <dbl> & <dbl> & <dbl> & <dbl> & <dbl> & <dbl> & <dbl> & <dbl> & <dbl>\\\\\n",
       "\\hline\n",
       "\tF1 & 14.72954 & 16.52419 & 16.46507 & 17.00695 & 17.09726 & 17.05882 & 13.45488 & 15.26659 & 14.33267\\\\\n",
       "\tF4 & 24.07682 & 24.49154 & 24.50332 & 25.40913 & 25.06637 & 25.52399 & 23.38120 & 23.72868 & 23.97152\\\\\n",
       "\tF20 & 16.97935 & 18.76444 & 16.22300 & 18.15003 & 18.21529 & 17.46537 & 16.12229 & 17.00383 & 17.26013\\\\\n",
       "\tF24 & 16.09626 & 16.08670 & 18.15118 & 18.49526 & 17.98687 & 18.62205 & 15.08670 & 15.08670 & 17.40155\\\\\n",
       "\tF25 & 20.56940 & 21.55389 & 21.39350 & 22.55255 & 22.14998 & 22.60429 & 10.56701 & 20.19821 & 20.30175\\\\\n",
       "\tF51 & 20.19929 & 21.12595 & 20.63225 & 19.94389 & 20.37460 & 20.11027 & 18.67348 & 19.83385 & 19.72643\\\\\n",
       "\\end{tabular}\n"
      ],
      "text/markdown": [
       "\n",
       "A data.frame: 6 × 9\n",
       "\n",
       "| <!--/--> | Naive_1 &lt;dbl&gt; | Naive_2 &lt;dbl&gt; | Naive_3 &lt;dbl&gt; | R5neg_1 &lt;dbl&gt; | R5neg_2 &lt;dbl&gt; | R5neg_3 &lt;dbl&gt; | R5pos_1 &lt;dbl&gt; | R5pos_2 &lt;dbl&gt; | R5pos_3 &lt;dbl&gt; |\n",
       "|---|---|---|---|---|---|---|---|---|---|\n",
       "| F1 | 14.72954 | 16.52419 | 16.46507 | 17.00695 | 17.09726 | 17.05882 | 13.45488 | 15.26659 | 14.33267 |\n",
       "| F4 | 24.07682 | 24.49154 | 24.50332 | 25.40913 | 25.06637 | 25.52399 | 23.38120 | 23.72868 | 23.97152 |\n",
       "| F20 | 16.97935 | 18.76444 | 16.22300 | 18.15003 | 18.21529 | 17.46537 | 16.12229 | 17.00383 | 17.26013 |\n",
       "| F24 | 16.09626 | 16.08670 | 18.15118 | 18.49526 | 17.98687 | 18.62205 | 15.08670 | 15.08670 | 17.40155 |\n",
       "| F25 | 20.56940 | 21.55389 | 21.39350 | 22.55255 | 22.14998 | 22.60429 | 10.56701 | 20.19821 | 20.30175 |\n",
       "| F51 | 20.19929 | 21.12595 | 20.63225 | 19.94389 | 20.37460 | 20.11027 | 18.67348 | 19.83385 | 19.72643 |\n",
       "\n"
      ],
      "text/plain": [
       "    Naive_1  Naive_2  Naive_3  R5neg_1  R5neg_2  R5neg_3  R5pos_1  R5pos_2 \n",
       "F1  14.72954 16.52419 16.46507 17.00695 17.09726 17.05882 13.45488 15.26659\n",
       "F4  24.07682 24.49154 24.50332 25.40913 25.06637 25.52399 23.38120 23.72868\n",
       "F20 16.97935 18.76444 16.22300 18.15003 18.21529 17.46537 16.12229 17.00383\n",
       "F24 16.09626 16.08670 18.15118 18.49526 17.98687 18.62205 15.08670 15.08670\n",
       "F25 20.56940 21.55389 21.39350 22.55255 22.14998 22.60429 10.56701 20.19821\n",
       "F51 20.19929 21.12595 20.63225 19.94389 20.37460 20.11027 18.67348 19.83385\n",
       "    R5pos_3 \n",
       "F1  14.33267\n",
       "F4  23.97152\n",
       "F20 17.26013\n",
       "F24 17.40155\n",
       "F25 20.30175\n",
       "F51 19.72643"
      ]
     },
     "metadata": {},
     "output_type": "display_data"
    }
   ],
   "source": [
    "head(data.df.log2)"
   ]
  },
  {
   "cell_type": "code",
   "execution_count": 101,
   "id": "13e4c3c7-f432-4160-8b1b-74f592af7328",
   "metadata": {},
   "outputs": [],
   "source": [
    "sub_meta_df = sub_meta_df[colnames(data.df.log2),]"
   ]
  },
  {
   "cell_type": "code",
   "execution_count": 102,
   "id": "c242c84e-ab51-470d-af4b-691ac8d479f1",
   "metadata": {},
   "outputs": [
    {
     "data": {
      "text/html": [
       "<table class=\"dataframe\">\n",
       "<caption>A data.frame: 9 × 4</caption>\n",
       "<thead>\n",
       "\t<tr><th></th><th scope=col>tID_dedup</th><th scope=col>class</th><th scope=col>biological_samples</th><th scope=col>cell_number</th></tr>\n",
       "\t<tr><th></th><th scope=col>&lt;chr&gt;</th><th scope=col>&lt;chr&gt;</th><th scope=col>&lt;chr&gt;</th><th scope=col>&lt;int&gt;</th></tr>\n",
       "</thead>\n",
       "<tbody>\n",
       "\t<tr><th scope=row>Naive_1</th><td>Naive_1</td><td>Naive</td><td>Yes</td><td>300</td></tr>\n",
       "\t<tr><th scope=row>Naive_2</th><td>Naive_2</td><td>Naive</td><td>Yes</td><td>300</td></tr>\n",
       "\t<tr><th scope=row>Naive_3</th><td>Naive_3</td><td>Naive</td><td>Yes</td><td>300</td></tr>\n",
       "\t<tr><th scope=row>R5neg_1</th><td>R5neg_1</td><td>R5neg</td><td>Yes</td><td>655</td></tr>\n",
       "\t<tr><th scope=row>R5neg_2</th><td>R5neg_2</td><td>R5neg</td><td>Yes</td><td>687</td></tr>\n",
       "\t<tr><th scope=row>R5neg_3</th><td>R5neg_3</td><td>R5neg</td><td>Yes</td><td>865</td></tr>\n",
       "\t<tr><th scope=row>R5pos_1</th><td>R5pos_1</td><td>R5pos</td><td>Yes</td><td>142</td></tr>\n",
       "\t<tr><th scope=row>R5pos_2</th><td>R5pos_2</td><td>R5pos</td><td>Yes</td><td>200</td></tr>\n",
       "\t<tr><th scope=row>R5pos_3</th><td>R5pos_3</td><td>R5pos</td><td>Yes</td><td>150</td></tr>\n",
       "</tbody>\n",
       "</table>\n"
      ],
      "text/latex": [
       "A data.frame: 9 × 4\n",
       "\\begin{tabular}{r|llll}\n",
       "  & tID\\_dedup & class & biological\\_samples & cell\\_number\\\\\n",
       "  & <chr> & <chr> & <chr> & <int>\\\\\n",
       "\\hline\n",
       "\tNaive\\_1 & Naive\\_1 & Naive & Yes & 300\\\\\n",
       "\tNaive\\_2 & Naive\\_2 & Naive & Yes & 300\\\\\n",
       "\tNaive\\_3 & Naive\\_3 & Naive & Yes & 300\\\\\n",
       "\tR5neg\\_1 & R5neg\\_1 & R5neg & Yes & 655\\\\\n",
       "\tR5neg\\_2 & R5neg\\_2 & R5neg & Yes & 687\\\\\n",
       "\tR5neg\\_3 & R5neg\\_3 & R5neg & Yes & 865\\\\\n",
       "\tR5pos\\_1 & R5pos\\_1 & R5pos & Yes & 142\\\\\n",
       "\tR5pos\\_2 & R5pos\\_2 & R5pos & Yes & 200\\\\\n",
       "\tR5pos\\_3 & R5pos\\_3 & R5pos & Yes & 150\\\\\n",
       "\\end{tabular}\n"
      ],
      "text/markdown": [
       "\n",
       "A data.frame: 9 × 4\n",
       "\n",
       "| <!--/--> | tID_dedup &lt;chr&gt; | class &lt;chr&gt; | biological_samples &lt;chr&gt; | cell_number &lt;int&gt; |\n",
       "|---|---|---|---|---|\n",
       "| Naive_1 | Naive_1 | Naive | Yes | 300 |\n",
       "| Naive_2 | Naive_2 | Naive | Yes | 300 |\n",
       "| Naive_3 | Naive_3 | Naive | Yes | 300 |\n",
       "| R5neg_1 | R5neg_1 | R5neg | Yes | 655 |\n",
       "| R5neg_2 | R5neg_2 | R5neg | Yes | 687 |\n",
       "| R5neg_3 | R5neg_3 | R5neg | Yes | 865 |\n",
       "| R5pos_1 | R5pos_1 | R5pos | Yes | 142 |\n",
       "| R5pos_2 | R5pos_2 | R5pos | Yes | 200 |\n",
       "| R5pos_3 | R5pos_3 | R5pos | Yes | 150 |\n",
       "\n"
      ],
      "text/plain": [
       "        tID_dedup class biological_samples cell_number\n",
       "Naive_1 Naive_1   Naive Yes                300        \n",
       "Naive_2 Naive_2   Naive Yes                300        \n",
       "Naive_3 Naive_3   Naive Yes                300        \n",
       "R5neg_1 R5neg_1   R5neg Yes                655        \n",
       "R5neg_2 R5neg_2   R5neg Yes                687        \n",
       "R5neg_3 R5neg_3   R5neg Yes                865        \n",
       "R5pos_1 R5pos_1   R5pos Yes                142        \n",
       "R5pos_2 R5pos_2   R5pos Yes                200        \n",
       "R5pos_3 R5pos_3   R5pos Yes                150        "
      ]
     },
     "metadata": {},
     "output_type": "display_data"
    }
   ],
   "source": [
    "sub_meta_df"
   ]
  },
  {
   "cell_type": "code",
   "execution_count": 103,
   "id": "cd88d749-400e-452a-9591-df8cf82da895",
   "metadata": {},
   "outputs": [],
   "source": [
    "library(stringr)\n",
    "ordered_group_v = str_extract(colnames(data.df.log2),'Naive|R5neg|R5pos')"
   ]
  },
  {
   "cell_type": "code",
   "execution_count": 104,
   "id": "4d628b4b-cf52-4e77-ae8c-533772eb0ff4",
   "metadata": {},
   "outputs": [],
   "source": [
    "color_v = c('Naive' = \"#888888\", 'R5neg' = \"#ff0000\",'R5pos' = '#0000ff')[ordered_group_v]"
   ]
  },
  {
   "cell_type": "code",
   "execution_count": 105,
   "id": "c752e735-ef26-4fbe-ab4c-b39ad90030e4",
   "metadata": {},
   "outputs": [
    {
     "data": {
      "image/png": "[encoded data removed]",
      "text/plain": [
       "Plot with title “”"
      ]
     },
     "metadata": {
      "image/png": {
       "height": 420,
       "width": 420
      }
     },
     "output_type": "display_data"
    }
   ],
   "source": [
    "#' Perform the PCA omitting all features with an NA in any of the\n",
    "pc <- prcomp(t(na.omit(data.df.log2)), center = TRUE) \n",
    "\n",
    "#' Plot the PCA\n",
    "pcSummary <- summary(pc)\n",
    "plot(pc$x[, 1], pc$x[,2], pch = 21, main = \"\",\n",
    "     xlab = paste0(\"PC1: \", format(pcSummary$importance[2, 1] * 100,\n",
    "                                   digits = 3), \" % variance\"),\n",
    "     ylab = paste0(\"PC2: \", format(pcSummary$importance[2, 2] * 100,\n",
    "                                   digits = 3), \" % variance\"),\n",
    "     col = \"darkgrey\", bg = color_v, cex = 2)\n",
    "     grid()\n",
    "    # text(pc$x[, 1], pc$x[,2],  col = \"darkgrey\", labels = colnames(data.df.log2)\n",
    "    # pos = 3, cex = 2)"
   ]
  },
  {
   "cell_type": "code",
   "execution_count": 106,
   "id": "e14cb6d6-2327-402d-a888-09266986bb25",
   "metadata": {},
   "outputs": [
    {
     "data": {
      "text/html": [
       "<strong>png:</strong> 2"
      ],
      "text/latex": [
       "\\textbf{png:} 2"
      ],
      "text/markdown": [
       "**png:** 2"
      ],
      "text/plain": [
       "png \n",
       "  2 "
      ]
     },
     "metadata": {},
     "output_type": "display_data"
    }
   ],
   "source": [
    "# print the pdf\n",
    "pdf(file.path(output_dir,glue(\"{exp_label}_PCA_no_labels.pdf\")))\n",
    "#' Perform the PCA omitting all features with an NA in any of the\n",
    "pc <- prcomp(t(na.omit(data.df.log2)), center = TRUE) \n",
    "\n",
    "#' Plot the PCA\n",
    "pcSummary <- summary(pc)\n",
    "plot(pc$x[, 1], pc$x[,2], pch = 21, main = \"\",\n",
    "     xlab = paste0(\"PC1: \", format(pcSummary$importance[2, 1] * 100,\n",
    "                                   digits = 3), \" % variance\"),\n",
    "     ylab = paste0(\"PC2: \", format(pcSummary$importance[2, 2] * 100,\n",
    "                                   digits = 3), \" % variance\"),\n",
    "     col = \"darkgrey\", bg = color_v, cex = 2)\n",
    "     grid()\n",
    "    # text(pc$x[, 1], pc$x[,2],  col = \"darkgrey\", labels = colnames(data.df.log2)\n",
    "\n",
    "dev.off()"
   ]
  },
  {
   "cell_type": "markdown",
   "id": "8257d132-42ba-45bf-bf5b-f2f682913290",
   "metadata": {},
   "source": [
    "-----"
   ]
  }
 ],
 "metadata": {
  "kernelspec": {
   "display_name": "R",
   "language": "R",
   "name": "ir"
  },
  "language_info": {
   "codemirror_mode": "r",
   "file_extension": ".r",
   "mimetype": "text/x-r-source",
   "name": "R",
   "pygments_lexer": "r",
   "version": "4.1.3"
  }
 },
 "nbformat": 4,
 "nbformat_minor": 5
}
