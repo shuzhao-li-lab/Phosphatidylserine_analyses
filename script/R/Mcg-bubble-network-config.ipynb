{
 "cells": [
  {
   "cell_type": "markdown",
   "id": "2b62aea7-4282-4de1-a39a-1813742d655f",
   "metadata": {},
   "source": [
    "# Mummichog analysis - bubble & network"
   ]
  },
  {
   "cell_type": "markdown",
   "id": "8c5a1522-aa54-440e-a766-5cda5cd383e0",
   "metadata": {},
   "source": [
    "## load library"
   ]
  },
  {
   "cell_type": "code",
   "execution_count": 101,
   "id": "8a137bc3-929c-4827-83d0-ba35813fdb97",
   "metadata": {
    "vscode": {
     "languageId": "r"
    }
   },
   "outputs": [],
   "source": [
    "library(ggplot2)\n",
    "library(glue)\n",
    "options(ggrepel.max.overlaps = Inf)"
   ]
  },
  {
   "cell_type": "markdown",
   "id": "41c2d148-0336-4ea4-9e17-ede3ea2a9590",
   "metadata": {},
   "source": [
    "## padj 0.01"
   ]
  },
  {
   "cell_type": "markdown",
   "id": "e0c0a971-4d2b-4c1a-8256-9192a1299570",
   "metadata": {},
   "source": [
    "## Output and input"
   ]
  },
  {
   "cell_type": "code",
   "execution_count": 102,
   "id": "abe18f40-396f-4f80-aa20-8659c6143c50",
   "metadata": {
    "vscode": {
     "languageId": "r"
    }
   },
   "outputs": [],
   "source": [
    "label = 'HILICpos_padj01_TICnorm'"
   ]
  },
  {
   "cell_type": "code",
   "execution_count": 103,
   "id": "b77e7504-f5d4-45e1-9f3f-dcae78f14d0e",
   "metadata": {
    "vscode": {
     "languageId": "r"
    }
   },
   "outputs": [
    {
     "name": "stderr",
     "output_type": "stream",
     "text": [
      "Warning message in dir.create(output_dir):\n",
      "“'../../output/asari_prep_HILICpos_10/bubble_plot_pathway' already exists”\n"
     ]
    }
   ],
   "source": [
    "#before any operations. Please remove all empty space for the rows and columns\n",
    "output_dir <- \"../../output/asari_prep_HILICpos_10/bubble_plot_pathway/\"\n",
    "dir.create(output_dir)"
   ]
  },
  {
   "cell_type": "code",
   "execution_count": 104,
   "id": "c215fbf3-b59d-402a-9f41-966b525aadb3",
   "metadata": {
    "vscode": {
     "languageId": "r"
    }
   },
   "outputs": [],
   "source": [
    "df_filt <- read.table(\"../../output/asari_prep_HILICpos_10/mcg/1658803603.773464.padj01_ImpTICnorm_HILICpos/tables/mcg_pathwayanalysis_padj05_ImpTICnorm_HILICpos.tsv\", \n",
    "                      quote = \"\\\"\",, sep = \"\\t\",header = TRUE)"
   ]
  },
  {
   "cell_type": "code",
   "execution_count": 105,
   "id": "60a32d9b-bd05-4b34-a624-89d69a95c141",
   "metadata": {
    "vscode": {
     "languageId": "r"
    }
   },
   "outputs": [
    {
     "data": {
      "text/plain": [
       "   pathway           overlap_size     pathway_size       p.value        \n",
       " Length:119         Min.   : 0.000   Min.   : 0.000   Min.   :0.006487  \n",
       " Class :character   1st Qu.: 0.000   1st Qu.: 1.000   1st Qu.:0.380089  \n",
       " Mode  :character   Median : 0.000   Median : 5.000   Median :0.626012  \n",
       "                    Mean   : 1.462   Mean   : 7.933   Mean   :0.481114  \n",
       "                    3rd Qu.: 2.000   3rd Qu.:10.500   3rd Qu.:0.626012  \n",
       "                    Max.   :18.000   Max.   :59.000   Max.   :0.626012  \n",
       " overlap_EmpiricalCompounds..id. overlap_features..id. overlap_features..name.\n",
       " Length:119                      Length:119            Length:119             \n",
       " Class :character                Class :character      Class :character       \n",
       " Mode  :character                Mode  :character      Mode  :character       \n",
       "                                                                              \n",
       "                                                                              \n",
       "                                                                              "
      ]
     },
     "metadata": {},
     "output_type": "display_data"
    }
   ],
   "source": [
    "summary(df_filt)"
   ]
  },
  {
   "cell_type": "code",
   "execution_count": 106,
   "id": "99a1fead-f1dd-4675-aa9f-2de81396fc63",
   "metadata": {
    "vscode": {
     "languageId": "r"
    }
   },
   "outputs": [
    {
     "data": {
      "text/html": [
       "<style>\n",
       ".list-inline {list-style: none; margin:0; padding: 0}\n",
       ".list-inline>li {display: inline-block}\n",
       ".list-inline>li:not(:last-child)::after {content: \"\\00b7\"; padding: 0 .5ex}\n",
       "</style>\n",
       "<ol class=list-inline><li>6</li><li>8</li></ol>\n"
      ],
      "text/latex": [
       "\\begin{enumerate*}\n",
       "\\item 6\n",
       "\\item 8\n",
       "\\end{enumerate*}\n"
      ],
      "text/markdown": [
       "1. 6\n",
       "2. 8\n",
       "\n",
       "\n"
      ],
      "text/plain": [
       "[1] 6 8"
      ]
     },
     "metadata": {},
     "output_type": "display_data"
    },
    {
     "data": {
      "text/html": [
       "<style>\n",
       ".list-inline {list-style: none; margin:0; padding: 0}\n",
       ".list-inline>li {display: inline-block}\n",
       ".list-inline>li:not(:last-child)::after {content: \"\\00b7\"; padding: 0 .5ex}\n",
       "</style>\n",
       "<ol class=list-inline><li>1.35588792789261</li><li>2.18793331057492</li></ol>\n"
      ],
      "text/latex": [
       "\\begin{enumerate*}\n",
       "\\item 1.35588792789261\n",
       "\\item 2.18793331057492\n",
       "\\end{enumerate*}\n"
      ],
      "text/markdown": [
       "1. 1.35588792789261\n",
       "2. 2.18793331057492\n",
       "\n",
       "\n"
      ],
      "text/plain": [
       "[1] 1.355888 2.187933"
      ]
     },
     "metadata": {},
     "output_type": "display_data"
    },
    {
     "data": {
      "text/html": [
       "<style>\n",
       ".list-inline {list-style: none; margin:0; padding: 0}\n",
       ".list-inline>li {display: inline-block}\n",
       ".list-inline>li:not(:last-child)::after {content: \"\\00b7\"; padding: 0 .5ex}\n",
       "</style>\n",
       "<ol class=list-inline><li>3</li><li>18</li></ol>\n"
      ],
      "text/latex": [
       "\\begin{enumerate*}\n",
       "\\item 3\n",
       "\\item 18\n",
       "\\end{enumerate*}\n"
      ],
      "text/markdown": [
       "1. 3\n",
       "2. 18\n",
       "\n",
       "\n"
      ],
      "text/plain": [
       "[1]  3 18"
      ]
     },
     "metadata": {},
     "output_type": "display_data"
    }
   ],
   "source": [
    "df_filt$log10pvalue <- -log(df_filt$p.value,10)\n",
    "\n",
    "if(TRUE) {\n",
    "  df_filt <- df_filt[df_filt$p.value < 0.05,]\n",
    "}\n",
    "dim(df_filt)\n",
    "\n",
    "if(FALSE) {\n",
    "  df_filt$group <- factor(df_filt$group) \n",
    "} else {df_filt$group <- \"HEUvsHUU\"}\n",
    "\n",
    "if(FALSE) {\n",
    "  df_filt$color <- factor(df_filt$color)\n",
    "} else {df_filt$color <- \"#000000\"}\n",
    "\n",
    "\n",
    "\n",
    "df_filt$pathway = ordered(df_filt$pathway, level = rev(df_filt$pathway))\n",
    "range(df_filt$log10pvalue)\n",
    "#[1] 1.326042 2.271997\n",
    "range(df_filt$overlap_size)\n",
    "#[1] -3.386694  2.951662"
   ]
  },
  {
   "cell_type": "markdown",
   "id": "cd46bfb1-7762-43d6-b422-fdcafc5ae5fc",
   "metadata": {},
   "source": [
    "## figure configuration"
   ]
  },
  {
   "cell_type": "code",
   "execution_count": 111,
   "id": "82eb65c4-753f-45a2-aca6-ac78bb616ef7",
   "metadata": {
    "tags": [],
    "vscode": {
     "languageId": "r"
    }
   },
   "outputs": [],
   "source": [
    "fig_width = 3.8\n",
    "fig_height = 2\n",
    "options(repr.plot.width= fig_width, repr.plot.height= fig_height, res=200)"
   ]
  },
  {
   "cell_type": "code",
   "execution_count": 112,
   "id": "de9a179f-b88c-42e1-8735-ad832a29bc16",
   "metadata": {
    "vscode": {
     "languageId": "r"
    }
   },
   "outputs": [
    {
     "data": {
      "image/png": "[encoded data removed]",
      "text/plain": [
       "plot without title"
      ]
     },
     "metadata": {
      "image/png": {
       "height": 120,
       "width": 228
      }
     },
     "output_type": "display_data"
    }
   ],
   "source": [
    "p <- ggplot(df_filt, aes(x=group, y=pathway)) +\n",
    "    geom_point(aes(size=overlap_size, colour = log10pvalue)) +\n",
    "    scale_size_continuous(range = c(2, 6)) +\n",
    "    scale_colour_gradient2(low = \"blue\", mid = \"white\", high = \"red\", breaks = seq(1,2),0.1) +\n",
    "    # set transparency\n",
    "    # https://ggplot2.tidyverse.org/reference/theme.html\n",
    "    theme(\n",
    "      panel.grid.major = element_line(colour = \"grey50\",linetype = \"dashed\", size = 0.2),\n",
    "      panel.border = element_rect(fill = NA),\n",
    "      #panel.grid.minor = element_blank(),\n",
    "      panel.background = element_rect(fill = \"transparent\",colour = NA),\n",
    "      plot.background = element_rect(fill = \"transparent\",colour = NA)\n",
    "    )\n",
    "\n",
    "\n",
    "print(p)\n",
    "ggsave(glue(\"{label}_ggplot_bubble_pathway.pdf\"),path = output_dir, width = fig_width, height = fig_height)\n",
    "\n",
    "    "
   ]
  },
  {
   "cell_type": "markdown",
   "id": "1a6b6cac-4d97-4bd6-bde2-8581f0ddd093",
   "metadata": {},
   "source": [
    "-----"
   ]
  },
  {
   "cell_type": "markdown",
   "id": "6ee05894-2b2a-4682-b9c5-74fb6d327d11",
   "metadata": {},
   "source": [
    "--------"
   ]
  },
  {
   "cell_type": "markdown",
   "id": "1eca6feb-3d4d-4383-9267-d8d3074c10cb",
   "metadata": {},
   "source": [
    "## padj 0.05"
   ]
  },
  {
   "cell_type": "code",
   "execution_count": 122,
   "id": "7a687207-4c22-42f7-b16a-4599db381798",
   "metadata": {
    "vscode": {
     "languageId": "r"
    }
   },
   "outputs": [],
   "source": [
    "label = 'HILICpos_padj05_TICnorm'"
   ]
  },
  {
   "cell_type": "code",
   "execution_count": 123,
   "id": "f13c991b-a8c7-4ba7-ac48-860771e5c098",
   "metadata": {
    "vscode": {
     "languageId": "r"
    }
   },
   "outputs": [
    {
     "name": "stderr",
     "output_type": "stream",
     "text": [
      "Warning message in dir.create(output_dir):\n",
      "“'../../output/asari_prep_HILICpos_10/bubble_plot_pathway' already exists”\n"
     ]
    }
   ],
   "source": [
    "#before any operations. Please remove all empty space for the rows and columns\n",
    "output_dir <- \"../../output/asari_prep_HILICpos_10/bubble_plot_pathway/\"\n",
    "dir.create(output_dir)"
   ]
  },
  {
   "cell_type": "code",
   "execution_count": 124,
   "id": "30027319-afc4-4cce-833b-caa135019762",
   "metadata": {
    "vscode": {
     "languageId": "r"
    }
   },
   "outputs": [],
   "source": [
    "df_filt <- read.table(\"../../output/asari_prep_HILICpos_10/mcg/1658804992.364886.padj05_ImpTICnorm_HILICpos//tables/mcg_pathwayanalysis_padj05_ImpTICnorm_HILICpos.tsv\", \n",
    "                      quote = \"\\\"\",, sep = \"\\t\",header = TRUE)"
   ]
  },
  {
   "cell_type": "code",
   "execution_count": 125,
   "id": "72bdb846-71e2-438c-909b-36b5bdbf64d5",
   "metadata": {
    "vscode": {
     "languageId": "r"
    }
   },
   "outputs": [
    {
     "data": {
      "text/plain": [
       "   pathway           overlap_size     pathway_size       p.value        \n",
       " Length:119         Min.   : 0.000   Min.   : 0.000   Min.   :0.002336  \n",
       " Class :character   1st Qu.: 0.000   1st Qu.: 1.000   1st Qu.:0.358451  \n",
       " Mode  :character   Median : 1.000   Median : 5.000   Median :0.630701  \n",
       "                    Mean   : 2.067   Mean   : 7.933   Mean   :0.523340  \n",
       "                    3rd Qu.: 2.000   3rd Qu.:10.500   3rd Qu.:0.678373  \n",
       "                    Max.   :23.000   Max.   :59.000   Max.   :0.678373  \n",
       " overlap_EmpiricalCompounds..id. overlap_features..id. overlap_features..name.\n",
       " Length:119                      Length:119            Length:119             \n",
       " Class :character                Class :character      Class :character       \n",
       " Mode  :character                Mode  :character      Mode  :character       \n",
       "                                                                              \n",
       "                                                                              \n",
       "                                                                              "
      ]
     },
     "metadata": {},
     "output_type": "display_data"
    }
   ],
   "source": [
    "summary(df_filt)"
   ]
  },
  {
   "cell_type": "code",
   "execution_count": 126,
   "id": "72782641-61ab-4fbd-878b-db4aedddc99b",
   "metadata": {
    "vscode": {
     "languageId": "r"
    }
   },
   "outputs": [
    {
     "data": {
      "text/html": [
       "<style>\n",
       ".list-inline {list-style: none; margin:0; padding: 0}\n",
       ".list-inline>li {display: inline-block}\n",
       ".list-inline>li:not(:last-child)::after {content: \"\\00b7\"; padding: 0 .5ex}\n",
       "</style>\n",
       "<ol class=list-inline><li>3</li><li>8</li></ol>\n"
      ],
      "text/latex": [
       "\\begin{enumerate*}\n",
       "\\item 3\n",
       "\\item 8\n",
       "\\end{enumerate*}\n"
      ],
      "text/markdown": [
       "1. 3\n",
       "2. 8\n",
       "\n",
       "\n"
      ],
      "text/plain": [
       "[1] 3 8"
      ]
     },
     "metadata": {},
     "output_type": "display_data"
    },
    {
     "data": {
      "text/html": [
       "<style>\n",
       ".list-inline {list-style: none; margin:0; padding: 0}\n",
       ".list-inline>li {display: inline-block}\n",
       ".list-inline>li:not(:last-child)::after {content: \"\\00b7\"; padding: 0 .5ex}\n",
       "</style>\n",
       "<ol class=list-inline><li>1.43457255355233</li><li>2.63150581499258</li></ol>\n"
      ],
      "text/latex": [
       "\\begin{enumerate*}\n",
       "\\item 1.43457255355233\n",
       "\\item 2.63150581499258\n",
       "\\end{enumerate*}\n"
      ],
      "text/markdown": [
       "1. 1.43457255355233\n",
       "2. 2.63150581499258\n",
       "\n",
       "\n"
      ],
      "text/plain": [
       "[1] 1.434573 2.631506"
      ]
     },
     "metadata": {},
     "output_type": "display_data"
    },
    {
     "data": {
      "text/html": [
       "<style>\n",
       ".list-inline {list-style: none; margin:0; padding: 0}\n",
       ".list-inline>li {display: inline-block}\n",
       ".list-inline>li:not(:last-child)::after {content: \"\\00b7\"; padding: 0 .5ex}\n",
       "</style>\n",
       "<ol class=list-inline><li>7</li><li>23</li></ol>\n"
      ],
      "text/latex": [
       "\\begin{enumerate*}\n",
       "\\item 7\n",
       "\\item 23\n",
       "\\end{enumerate*}\n"
      ],
      "text/markdown": [
       "1. 7\n",
       "2. 23\n",
       "\n",
       "\n"
      ],
      "text/plain": [
       "[1]  7 23"
      ]
     },
     "metadata": {},
     "output_type": "display_data"
    }
   ],
   "source": [
    "df_filt$log10pvalue <- -log(df_filt$p.value,10)\n",
    "\n",
    "if(TRUE) {\n",
    "  df_filt <- df_filt[df_filt$p.value < 0.05,]\n",
    "}\n",
    "dim(df_filt)\n",
    "\n",
    "if(FALSE) {\n",
    "  df_filt$group <- factor(df_filt$group) \n",
    "} else {df_filt$group <- \"HEUvsHUU\"}\n",
    "\n",
    "if(FALSE) {\n",
    "  df_filt$color <- factor(df_filt$color)\n",
    "} else {df_filt$color <- \"#000000\"}\n",
    "\n",
    "\n",
    "\n",
    "df_filt$pathway = ordered(df_filt$pathway, level = rev(df_filt$pathway))\n",
    "range(df_filt$log10pvalue)\n",
    "#[1] 1.326042 2.271997\n",
    "range(df_filt$overlap_size)\n",
    "#[1] -3.386694  2.951662"
   ]
  },
  {
   "cell_type": "markdown",
   "id": "1d172718-5cf3-476c-a3ba-8a21b24ab891",
   "metadata": {},
   "source": [
    "## figure configuration"
   ]
  },
  {
   "cell_type": "code",
   "execution_count": 127,
   "id": "43382b23-658f-4249-94e2-c9c493bad927",
   "metadata": {
    "tags": [],
    "vscode": {
     "languageId": "r"
    }
   },
   "outputs": [],
   "source": [
    "fig_width = 3.8\n",
    "fig_height = 2\n",
    "options(repr.plot.width= fig_width, repr.plot.height= fig_height, res=200)"
   ]
  },
  {
   "cell_type": "code",
   "execution_count": 128,
   "id": "cc1fe7af-b9a8-4b8e-a356-e1ec9a71c2a4",
   "metadata": {
    "vscode": {
     "languageId": "r"
    }
   },
   "outputs": [
    {
     "data": {
      "image/png": "[encoded data removed]",
      "text/plain": [
       "plot without title"
      ]
     },
     "metadata": {
      "image/png": {
       "height": 120,
       "width": 228
      }
     },
     "output_type": "display_data"
    }
   ],
   "source": [
    "p <- ggplot(df_filt, aes(x=group, y=pathway)) +\n",
    "    geom_point(aes(size=overlap_size, colour = log10pvalue)) +\n",
    "    scale_size_continuous(range = c(2, 6)) +\n",
    "    scale_colour_gradient2(low = \"blue\", mid = \"white\", high = \"red\", breaks = seq(1,2),0.1) +\n",
    "    # set transparency\n",
    "    # https://ggplot2.tidyverse.org/reference/theme.html\n",
    "    theme(\n",
    "      panel.grid.major = element_line(colour = \"grey50\",linetype = \"dashed\", size = 0.2),\n",
    "      panel.border = element_rect(fill = NA),\n",
    "      #panel.grid.minor = element_blank(),\n",
    "      panel.background = element_rect(fill = \"transparent\",colour = NA),\n",
    "      plot.background = element_rect(fill = \"transparent\",colour = NA)\n",
    "    )\n",
    "\n",
    "\n",
    "print(p)\n",
    "ggsave(glue(\"{label}_ggplot_bubble_pathway.pdf\"),path = output_dir, width = fig_width, height = fig_height)\n",
    "\n",
    "    "
   ]
  },
  {
   "cell_type": "markdown",
   "id": "c6a5a5d9-4e51-4ca4-aa0e-6e9456bdc26c",
   "metadata": {},
   "source": [
    "-----"
   ]
  },
  {
   "cell_type": "markdown",
   "id": "c83706c3-b6e6-4b3d-a086-3b2ca8ed2c70",
   "metadata": {},
   "source": [
    "-----"
   ]
  },
  {
   "cell_type": "markdown",
   "id": "69005042-5111-4ade-93dd-c010b2cba01e",
   "metadata": {},
   "source": [
    "-----"
   ]
  },
  {
   "cell_type": "markdown",
   "id": "18b3f477-4640-471a-8cdd-6cafe439173f",
   "metadata": {},
   "source": [
    "-----"
   ]
  },
  {
   "cell_type": "markdown",
   "id": "8b93a20f-8bf6-4943-afe0-8fb4ef21216a",
   "metadata": {},
   "source": [
    "-----"
   ]
  },
  {
   "cell_type": "markdown",
   "id": "bacc1f55-36df-41f7-8223-5145046e5a1b",
   "metadata": {},
   "source": [
    "-----"
   ]
  },
  {
   "cell_type": "markdown",
   "id": "5f65ccce-b61d-493f-8609-ed6f1ee73715",
   "metadata": {},
   "source": [
    "-----"
   ]
  },
  {
   "cell_type": "markdown",
   "id": "db325e65-2cb0-477b-8f9e-fe5679407b3e",
   "metadata": {},
   "source": [
    "-----"
   ]
  },
  {
   "cell_type": "markdown",
   "id": "fcdcc388-82d6-4e97-a06c-efe37c624de0",
   "metadata": {},
   "source": [
    "-----"
   ]
  },
  {
   "cell_type": "markdown",
   "id": "cf3cea72-0a99-4203-ab68-79264e926cf5",
   "metadata": {},
   "source": [
    "## Module analysis\n",
    "- Node attribute add padj value there\n",
    "- Others are left for cytoscape\n",
    "- Both padj 0.01 & 0.05 using the same format. So I haven't duplicated the history"
   ]
  },
  {
   "cell_type": "code",
   "execution_count": 153,
   "id": "c4c0bc39-c832-4bd7-9f18-134e231e4116",
   "metadata": {
    "vscode": {
     "languageId": "r"
    }
   },
   "outputs": [],
   "source": [
    "node_attr_path = \"../../output/asari_prep_HILICpos_10/mcg/network_template_derived_from_old_run/figures/network_modules/Node_attributes.txt\"\n",
    "mcg_input_file_path = \"../../output/asari_prep_HILICpos_10//ttest//ttest_res_padj_HEUvsHUU.txt\""
   ]
  },
  {
   "cell_type": "code",
   "execution_count": 154,
   "id": "c9dec9b8-2058-43fb-b744-2051656d2c47",
   "metadata": {
    "vscode": {
     "languageId": "r"
    }
   },
   "outputs": [],
   "source": [
    "output_dir_attr <- \"../../output/asari_prep_HILICpos_10/mcg/network_template_derived_from_old_run/figures/network_modules/\""
   ]
  },
  {
   "cell_type": "code",
   "execution_count": 155,
   "id": "1bd3d65a-e29b-4cbf-8505-d746b5d76d13",
   "metadata": {
    "vscode": {
     "languageId": "r"
    }
   },
   "outputs": [],
   "source": [
    "node_attr_df <- read.table(node_attr_path, \n",
    "                      quote = \"\\\"\",, sep = \"\\t\",header = TRUE)"
   ]
  },
  {
   "cell_type": "code",
   "execution_count": 156,
   "id": "3272d64c-4d6e-4d3d-90da-6fd9cd5760fa",
   "metadata": {
    "vscode": {
     "languageId": "r"
    }
   },
   "outputs": [
    {
     "data": {
      "text/html": [
       "<table class=\"dataframe\">\n",
       "<caption>A data.frame: 6 × 5</caption>\n",
       "<thead>\n",
       "\t<tr><th></th><th scope=col>CPD_ID</th><th scope=col>CPD_NAME</th><th scope=col>mz_row_Statistic</th><th scope=col>From_mz_row</th><th scope=col>From_EmpiricalCompound</th></tr>\n",
       "\t<tr><th></th><th scope=col>&lt;chr&gt;</th><th scope=col>&lt;chr&gt;</th><th scope=col>&lt;dbl&gt;</th><th scope=col>&lt;chr&gt;</th><th scope=col>&lt;chr&gt;</th></tr>\n",
       "</thead>\n",
       "<tbody>\n",
       "\t<tr><th scope=row>1</th><td>C00645</td><td>N-Acetyl-D-mannosamine; 2-Acetamido-2-deoxy-D-mannose</td><td>-3.620727</td><td>row465 </td><td>E615 </td></tr>\n",
       "\t<tr><th scope=row>2</th><td>C00637</td><td>Indole-3-acetaldehyde                                </td><td>-2.636020</td><td>row3421</td><td>E2274</td></tr>\n",
       "\t<tr><th scope=row>3</th><td>C05198</td><td>5'-Deoxyadenosine                                    </td><td> 4.598325</td><td>row4798</td><td>E725 </td></tr>\n",
       "\t<tr><th scope=row>4</th><td>C01762</td><td>Xanthosine                                           </td><td> 3.476852</td><td>row343 </td><td>E663 </td></tr>\n",
       "\t<tr><th scope=row>5</th><td>C02470</td><td>Xanthurenic acid                                     </td><td>-2.751434</td><td>row4030</td><td>E1908</td></tr>\n",
       "\t<tr><th scope=row>6</th><td>C02700</td><td>L-Formylkynurenine                                   </td><td>-2.881923</td><td>row745 </td><td>E1104</td></tr>\n",
       "</tbody>\n",
       "</table>\n"
      ],
      "text/latex": [
       "A data.frame: 6 × 5\n",
       "\\begin{tabular}{r|lllll}\n",
       "  & CPD\\_ID & CPD\\_NAME & mz\\_row\\_Statistic & From\\_mz\\_row & From\\_EmpiricalCompound\\\\\n",
       "  & <chr> & <chr> & <dbl> & <chr> & <chr>\\\\\n",
       "\\hline\n",
       "\t1 & C00645 & N-Acetyl-D-mannosamine; 2-Acetamido-2-deoxy-D-mannose & -3.620727 & row465  & E615 \\\\\n",
       "\t2 & C00637 & Indole-3-acetaldehyde                                 & -2.636020 & row3421 & E2274\\\\\n",
       "\t3 & C05198 & 5'-Deoxyadenosine                                     &  4.598325 & row4798 & E725 \\\\\n",
       "\t4 & C01762 & Xanthosine                                            &  3.476852 & row343  & E663 \\\\\n",
       "\t5 & C02470 & Xanthurenic acid                                      & -2.751434 & row4030 & E1908\\\\\n",
       "\t6 & C02700 & L-Formylkynurenine                                    & -2.881923 & row745  & E1104\\\\\n",
       "\\end{tabular}\n"
      ],
      "text/markdown": [
       "\n",
       "A data.frame: 6 × 5\n",
       "\n",
       "| <!--/--> | CPD_ID &lt;chr&gt; | CPD_NAME &lt;chr&gt; | mz_row_Statistic &lt;dbl&gt; | From_mz_row &lt;chr&gt; | From_EmpiricalCompound &lt;chr&gt; |\n",
       "|---|---|---|---|---|---|\n",
       "| 1 | C00645 | N-Acetyl-D-mannosamine; 2-Acetamido-2-deoxy-D-mannose | -3.620727 | row465  | E615  |\n",
       "| 2 | C00637 | Indole-3-acetaldehyde                                 | -2.636020 | row3421 | E2274 |\n",
       "| 3 | C05198 | 5'-Deoxyadenosine                                     |  4.598325 | row4798 | E725  |\n",
       "| 4 | C01762 | Xanthosine                                            |  3.476852 | row343  | E663  |\n",
       "| 5 | C02470 | Xanthurenic acid                                      | -2.751434 | row4030 | E1908 |\n",
       "| 6 | C02700 | L-Formylkynurenine                                    | -2.881923 | row745  | E1104 |\n",
       "\n"
      ],
      "text/plain": [
       "  CPD_ID CPD_NAME                                              mz_row_Statistic\n",
       "1 C00645 N-Acetyl-D-mannosamine; 2-Acetamido-2-deoxy-D-mannose -3.620727       \n",
       "2 C00637 Indole-3-acetaldehyde                                 -2.636020       \n",
       "3 C05198 5'-Deoxyadenosine                                      4.598325       \n",
       "4 C01762 Xanthosine                                             3.476852       \n",
       "5 C02470 Xanthurenic acid                                      -2.751434       \n",
       "6 C02700 L-Formylkynurenine                                    -2.881923       \n",
       "  From_mz_row From_EmpiricalCompound\n",
       "1 row465      E615                  \n",
       "2 row3421     E2274                 \n",
       "3 row4798     E725                  \n",
       "4 row343      E663                  \n",
       "5 row4030     E1908                 \n",
       "6 row745      E1104                 "
      ]
     },
     "metadata": {},
     "output_type": "display_data"
    }
   ],
   "source": [
    "head(node_attr_df)"
   ]
  },
  {
   "cell_type": "code",
   "execution_count": 157,
   "id": "9f16daca-5ce0-43fc-864f-51f98277e7c8",
   "metadata": {
    "vscode": {
     "languageId": "r"
    }
   },
   "outputs": [],
   "source": [
    "mcg_input_df <- read.table(mcg_input_file_path, sep = \"\\t\",header = TRUE)"
   ]
  },
  {
   "cell_type": "code",
   "execution_count": 158,
   "id": "03b9f250-464a-4817-95d9-b284241ad983",
   "metadata": {
    "vscode": {
     "languageId": "r"
    }
   },
   "outputs": [],
   "source": [
    "add_stat2attr_df <- function(node_attr_df,mcg_input_df,end_index) {\n",
    "    row_index = gsub('row','',node_attr_df['From_mz_row'])\n",
    "    node_attr_df['col_index'] = sapply(node_attr_df['From_mz_row'],function(x)as.integer(gsub('row','',x)))\n",
    "    node_attr_df_new = merge(node_attr_df,mcg_input_df[,1:end_index], by.x = 'col_index', by.y = 0)\n",
    "    node_attr_df_new['col_index'] = NULL\n",
    "    return(node_attr_df_new)\n",
    "}\n"
   ]
  },
  {
   "cell_type": "code",
   "execution_count": 159,
   "id": "3da407be-31d0-450f-8cb7-a15484b580c1",
   "metadata": {
    "vscode": {
     "languageId": "r"
    }
   },
   "outputs": [],
   "source": [
    "padj_added_attr_df = add_stat2attr_df(node_attr_df,mcg_input_df, 25)"
   ]
  },
  {
   "cell_type": "code",
   "execution_count": 160,
   "id": "c5f59386-30ab-4050-b8c5-9c7c9cf589c3",
   "metadata": {
    "vscode": {
     "languageId": "r"
    }
   },
   "outputs": [],
   "source": [
    "padj_added_attr_df$log10padj = -log(padj_added_attr_df$padj,10)"
   ]
  },
  {
   "cell_type": "code",
   "execution_count": 162,
   "id": "3f0f72c9-9717-43a4-b489-b92130eb0361",
   "metadata": {
    "vscode": {
     "languageId": "r"
    }
   },
   "outputs": [],
   "source": [
    "padj_added_attr_df[padj_added_attr_df$log2FC >2.5 , 'log2FC'] = 2.5\n",
    "padj_added_attr_df[padj_added_attr_df$log2FC < -2.5 , 'log2FC'] = -2.5"
   ]
  },
  {
   "cell_type": "markdown",
   "id": "d4f3a99d-ff46-4c88-8d99-b30e1294e115",
   "metadata": {},
   "source": [
    "#### Cytoscape don't like quote marks!!! So you need to add the `quote=F`\n",
    "- So that the C00001 don't have \"C00001\"\n",
    "- And thus cytoscape can match it with the network table"
   ]
  },
  {
   "cell_type": "code",
   "execution_count": 163,
   "id": "51e695f9-e61e-444b-a14a-33e64f306b3c",
   "metadata": {
    "vscode": {
     "languageId": "r"
    }
   },
   "outputs": [],
   "source": [
    "write.table(padj_added_attr_df,\n",
    "            file.path(output_dir_attr, \"new_node_attributes_padj_added.txt\"), sep = '\\t', row.names = FALSE,  quote=F)"
   ]
  }
 ],
 "metadata": {
  "kernelspec": {
   "display_name": "R",
   "language": "R",
   "name": "ir"
  },
  "language_info": {
   "codemirror_mode": "r",
   "file_extension": ".r",
   "mimetype": "text/x-r-source",
   "name": "R",
   "pygments_lexer": "r",
   "version": "4.1.3"
  }
 },
 "nbformat": 4,
 "nbformat_minor": 5
}
