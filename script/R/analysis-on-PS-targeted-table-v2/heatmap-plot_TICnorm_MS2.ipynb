{
 "cells": [
  {
   "cell_type": "markdown",
   "id": "89dd4a3f-1ebc-4031-9043-a7b66ad4bf6e",
   "metadata": {},
   "source": [
    "# Heatmap \n",
    "- using padj < 0.01 as the cutoff for the current analysis"
   ]
  },
  {
   "cell_type": "code",
   "execution_count": 1,
   "id": "ee3a87a3",
   "metadata": {
    "tags": []
   },
   "outputs": [],
   "source": [
    "# Let the middle rows included.\n",
    "options(repr.matrix.max.rows=600, repr.matrix.max.cols=200)"
   ]
  },
  {
   "cell_type": "code",
   "execution_count": 2,
   "id": "d66aaf6a",
   "metadata": {
    "tags": []
   },
   "outputs": [
    {
     "name": "stderr",
     "output_type": "stream",
     "text": [
      "\n",
      "Attaching package: ‘dplyr’\n",
      "\n",
      "\n",
      "The following objects are masked from ‘package:stats’:\n",
      "\n",
      "    filter, lag\n",
      "\n",
      "\n",
      "The following objects are masked from ‘package:base’:\n",
      "\n",
      "    intersect, setdiff, setequal, union\n",
      "\n",
      "\n",
      "Loading required package: pkgmaker\n",
      "\n",
      "Loading required package: registry\n",
      "\n",
      "Loading required package: rngtools\n",
      "\n",
      "Loading required package: cluster\n",
      "\n",
      "NMF - BioConductor layer [OK] | Shared memory capabilities [NO: bigmemory] | Cores 7/8\n",
      "\n",
      "  To enable shared memory capabilities, try: install.extras('\n",
      "NMF\n",
      "')\n",
      "\n"
     ]
    }
   ],
   "source": [
    "library(ggplot2)\n",
    "library(dplyr)\n",
    "library(NMF)\n",
    "library(RColorBrewer)\n",
    "library(pheatmap)\n",
    "library(RColorBrewer)\n",
    "library(ggpubr)\n",
    "library(glue)\n",
    "library(rjson)"
   ]
  },
  {
   "cell_type": "code",
   "execution_count": 3,
   "id": "7b96e230",
   "metadata": {
    "tags": []
   },
   "outputs": [],
   "source": [
    "feat_df <- read.table(\"../../../output/annotations_MS1_MS2/PS_selected_full_report.csv\"\n",
    "        ,header = TRUE, sep = ',')\n",
    "annot_evidence = \"MS2\" # MS2, LMSD, isotopes\n",
    "filtered_level = 0.05"
   ]
  },
  {
   "cell_type": "code",
   "execution_count": 4,
   "id": "344a0295-c4fe-4240-8480-ef3b26b90bdd",
   "metadata": {},
   "outputs": [
    {
     "name": "stderr",
     "output_type": "stream",
     "text": [
      "Warning message in dir.create(out_dir):\n",
      "“'../../../output/heatmap_MS2' already exists”\n"
     ]
    }
   ],
   "source": [
    "out_dir = glue(\"../../../output/heatmap_{annot_evidence}/\")\n",
    "dir.create(out_dir)\n",
    "\n",
    "exp_label = 'hMinImp_TICnorm_HILICpos_1wayANOVA'\n",
    "out_pdf_file = file.path(out_dir, glue(\"{exp_label}_pval{filtered_level}_heatmap.pdf\"))"
   ]
  },
  {
   "cell_type": "code",
   "execution_count": 5,
   "id": "2f1e6df6-50bd-466c-8beb-26eb0aa9cfed",
   "metadata": {
    "tags": []
   },
   "outputs": [
    {
     "data": {
      "text/html": [
       "<style>\n",
       ".list-inline {list-style: none; margin:0; padding: 0}\n",
       ".list-inline>li {display: inline-block}\n",
       ".list-inline>li:not(:last-child)::after {content: \"\\00b7\"; padding: 0 .5ex}\n",
       "</style>\n",
       "<ol class=list-inline><li>'X'</li><li>'mz'</li><li>'rtime'</li><li>'rtime_left_base'</li><li>'rtime_right_base'</li><li>'cSelectivity'</li><li>'goodness_fitting'</li><li>'snr'</li><li>'annotation_evidence'</li><li>'name'</li><li>'neutral_mass'</li><li>'formula'</li><li>'isomers'</li><li>'X.M.H.e.'</li><li>'gMean_Tn'</li><li>'gMean_CD8stem'</li><li>'gMean_CD8trans'</li><li>'gMean_CD8TD'</li><li>'log2FC_CD8stemvsTn'</li><li>'log2FC_CD8transvsTn'</li><li>'log2FC_CD8TDvsTn'</li><li>'log2FC_CD8transvsCD8stem'</li><li>'log2FC_CD8TDvsCD8stem'</li><li>'log2FC_CD8TDvsCD8trans'</li><li>'f_score'</li><li>'pval'</li><li>'padj'</li><li>'Tpadj_CD8TD.CD8stem'</li><li>'Tpadj_CD8trans.CD8stem'</li><li>'Tpadj_Tn.CD8stem'</li><li>'Tpadj_CD8trans.CD8TD'</li><li>'Tpadj_Tn.CD8TD'</li><li>'Tpadj_Tn.CD8trans'</li><li>'TFDR_CD8TD.CD8stem'</li><li>'TFDR_CD8trans.CD8stem'</li><li>'TFDR_Tn.CD8stem'</li><li>'TFDR_CD8trans.CD8TD'</li><li>'TFDR_Tn.CD8TD'</li><li>'TFDR_Tn.CD8trans'</li><li>'CD8TD_750K_1'</li><li>'CD8TD_750K_2'</li><li>'CD8stem_250K_1'</li><li>'CD8stem_300K_2'</li><li>'CD8trans_250K_2'</li><li>'CD8trans_350K_1'</li><li>'Tn_250K_1'</li><li>'Tn_250K_2'</li><li>'pooled_1'</li><li>'pooled_2'</li><li>'pooled_3'</li></ol>\n"
      ],
      "text/latex": [
       "\\begin{enumerate*}\n",
       "\\item 'X'\n",
       "\\item 'mz'\n",
       "\\item 'rtime'\n",
       "\\item 'rtime\\_left\\_base'\n",
       "\\item 'rtime\\_right\\_base'\n",
       "\\item 'cSelectivity'\n",
       "\\item 'goodness\\_fitting'\n",
       "\\item 'snr'\n",
       "\\item 'annotation\\_evidence'\n",
       "\\item 'name'\n",
       "\\item 'neutral\\_mass'\n",
       "\\item 'formula'\n",
       "\\item 'isomers'\n",
       "\\item 'X.M.H.e.'\n",
       "\\item 'gMean\\_Tn'\n",
       "\\item 'gMean\\_CD8stem'\n",
       "\\item 'gMean\\_CD8trans'\n",
       "\\item 'gMean\\_CD8TD'\n",
       "\\item 'log2FC\\_CD8stemvsTn'\n",
       "\\item 'log2FC\\_CD8transvsTn'\n",
       "\\item 'log2FC\\_CD8TDvsTn'\n",
       "\\item 'log2FC\\_CD8transvsCD8stem'\n",
       "\\item 'log2FC\\_CD8TDvsCD8stem'\n",
       "\\item 'log2FC\\_CD8TDvsCD8trans'\n",
       "\\item 'f\\_score'\n",
       "\\item 'pval'\n",
       "\\item 'padj'\n",
       "\\item 'Tpadj\\_CD8TD.CD8stem'\n",
       "\\item 'Tpadj\\_CD8trans.CD8stem'\n",
       "\\item 'Tpadj\\_Tn.CD8stem'\n",
       "\\item 'Tpadj\\_CD8trans.CD8TD'\n",
       "\\item 'Tpadj\\_Tn.CD8TD'\n",
       "\\item 'Tpadj\\_Tn.CD8trans'\n",
       "\\item 'TFDR\\_CD8TD.CD8stem'\n",
       "\\item 'TFDR\\_CD8trans.CD8stem'\n",
       "\\item 'TFDR\\_Tn.CD8stem'\n",
       "\\item 'TFDR\\_CD8trans.CD8TD'\n",
       "\\item 'TFDR\\_Tn.CD8TD'\n",
       "\\item 'TFDR\\_Tn.CD8trans'\n",
       "\\item 'CD8TD\\_750K\\_1'\n",
       "\\item 'CD8TD\\_750K\\_2'\n",
       "\\item 'CD8stem\\_250K\\_1'\n",
       "\\item 'CD8stem\\_300K\\_2'\n",
       "\\item 'CD8trans\\_250K\\_2'\n",
       "\\item 'CD8trans\\_350K\\_1'\n",
       "\\item 'Tn\\_250K\\_1'\n",
       "\\item 'Tn\\_250K\\_2'\n",
       "\\item 'pooled\\_1'\n",
       "\\item 'pooled\\_2'\n",
       "\\item 'pooled\\_3'\n",
       "\\end{enumerate*}\n"
      ],
      "text/markdown": [
       "1. 'X'\n",
       "2. 'mz'\n",
       "3. 'rtime'\n",
       "4. 'rtime_left_base'\n",
       "5. 'rtime_right_base'\n",
       "6. 'cSelectivity'\n",
       "7. 'goodness_fitting'\n",
       "8. 'snr'\n",
       "9. 'annotation_evidence'\n",
       "10. 'name'\n",
       "11. 'neutral_mass'\n",
       "12. 'formula'\n",
       "13. 'isomers'\n",
       "14. 'X.M.H.e.'\n",
       "15. 'gMean_Tn'\n",
       "16. 'gMean_CD8stem'\n",
       "17. 'gMean_CD8trans'\n",
       "18. 'gMean_CD8TD'\n",
       "19. 'log2FC_CD8stemvsTn'\n",
       "20. 'log2FC_CD8transvsTn'\n",
       "21. 'log2FC_CD8TDvsTn'\n",
       "22. 'log2FC_CD8transvsCD8stem'\n",
       "23. 'log2FC_CD8TDvsCD8stem'\n",
       "24. 'log2FC_CD8TDvsCD8trans'\n",
       "25. 'f_score'\n",
       "26. 'pval'\n",
       "27. 'padj'\n",
       "28. 'Tpadj_CD8TD.CD8stem'\n",
       "29. 'Tpadj_CD8trans.CD8stem'\n",
       "30. 'Tpadj_Tn.CD8stem'\n",
       "31. 'Tpadj_CD8trans.CD8TD'\n",
       "32. 'Tpadj_Tn.CD8TD'\n",
       "33. 'Tpadj_Tn.CD8trans'\n",
       "34. 'TFDR_CD8TD.CD8stem'\n",
       "35. 'TFDR_CD8trans.CD8stem'\n",
       "36. 'TFDR_Tn.CD8stem'\n",
       "37. 'TFDR_CD8trans.CD8TD'\n",
       "38. 'TFDR_Tn.CD8TD'\n",
       "39. 'TFDR_Tn.CD8trans'\n",
       "40. 'CD8TD_750K_1'\n",
       "41. 'CD8TD_750K_2'\n",
       "42. 'CD8stem_250K_1'\n",
       "43. 'CD8stem_300K_2'\n",
       "44. 'CD8trans_250K_2'\n",
       "45. 'CD8trans_350K_1'\n",
       "46. 'Tn_250K_1'\n",
       "47. 'Tn_250K_2'\n",
       "48. 'pooled_1'\n",
       "49. 'pooled_2'\n",
       "50. 'pooled_3'\n",
       "\n",
       "\n"
      ],
      "text/plain": [
       " [1] \"X\"                        \"mz\"                      \n",
       " [3] \"rtime\"                    \"rtime_left_base\"         \n",
       " [5] \"rtime_right_base\"         \"cSelectivity\"            \n",
       " [7] \"goodness_fitting\"         \"snr\"                     \n",
       " [9] \"annotation_evidence\"      \"name\"                    \n",
       "[11] \"neutral_mass\"             \"formula\"                 \n",
       "[13] \"isomers\"                  \"X.M.H.e.\"                \n",
       "[15] \"gMean_Tn\"                 \"gMean_CD8stem\"           \n",
       "[17] \"gMean_CD8trans\"           \"gMean_CD8TD\"             \n",
       "[19] \"log2FC_CD8stemvsTn\"       \"log2FC_CD8transvsTn\"     \n",
       "[21] \"log2FC_CD8TDvsTn\"         \"log2FC_CD8transvsCD8stem\"\n",
       "[23] \"log2FC_CD8TDvsCD8stem\"    \"log2FC_CD8TDvsCD8trans\"  \n",
       "[25] \"f_score\"                  \"pval\"                    \n",
       "[27] \"padj\"                     \"Tpadj_CD8TD.CD8stem\"     \n",
       "[29] \"Tpadj_CD8trans.CD8stem\"   \"Tpadj_Tn.CD8stem\"        \n",
       "[31] \"Tpadj_CD8trans.CD8TD\"     \"Tpadj_Tn.CD8TD\"          \n",
       "[33] \"Tpadj_Tn.CD8trans\"        \"TFDR_CD8TD.CD8stem\"      \n",
       "[35] \"TFDR_CD8trans.CD8stem\"    \"TFDR_Tn.CD8stem\"         \n",
       "[37] \"TFDR_CD8trans.CD8TD\"      \"TFDR_Tn.CD8TD\"           \n",
       "[39] \"TFDR_Tn.CD8trans\"         \"CD8TD_750K_1\"            \n",
       "[41] \"CD8TD_750K_2\"             \"CD8stem_250K_1\"          \n",
       "[43] \"CD8stem_300K_2\"           \"CD8trans_250K_2\"         \n",
       "[45] \"CD8trans_350K_1\"          \"Tn_250K_1\"               \n",
       "[47] \"Tn_250K_2\"                \"pooled_1\"                \n",
       "[49] \"pooled_2\"                 \"pooled_3\"                "
      ]
     },
     "metadata": {},
     "output_type": "display_data"
    }
   ],
   "source": [
    "colnames(feat_df)"
   ]
  },
  {
   "cell_type": "code",
   "execution_count": 6,
   "id": "f3645eaf-165c-423c-af12-f516ae7c51f8",
   "metadata": {
    "tags": []
   },
   "outputs": [],
   "source": [
    "feat_df = feat_df[grepl(annot_evidence,feat_df[['annotation_evidence']]),]"
   ]
  },
  {
   "cell_type": "code",
   "execution_count": 7,
   "id": "b894413a-e765-4064-83dc-66a318f570c7",
   "metadata": {
    "tags": []
   },
   "outputs": [
    {
     "data": {
      "text/html": [
       "<table class=\"dataframe\">\n",
       "<caption>A data.frame: 6 × 50</caption>\n",
       "<thead>\n",
       "\t<tr><th></th><th scope=col>X</th><th scope=col>mz</th><th scope=col>rtime</th><th scope=col>rtime_left_base</th><th scope=col>rtime_right_base</th><th scope=col>cSelectivity</th><th scope=col>goodness_fitting</th><th scope=col>snr</th><th scope=col>annotation_evidence</th><th scope=col>name</th><th scope=col>neutral_mass</th><th scope=col>formula</th><th scope=col>isomers</th><th scope=col>X.M.H.e.</th><th scope=col>gMean_Tn</th><th scope=col>gMean_CD8stem</th><th scope=col>gMean_CD8trans</th><th scope=col>gMean_CD8TD</th><th scope=col>log2FC_CD8stemvsTn</th><th scope=col>log2FC_CD8transvsTn</th><th scope=col>log2FC_CD8TDvsTn</th><th scope=col>log2FC_CD8transvsCD8stem</th><th scope=col>log2FC_CD8TDvsCD8stem</th><th scope=col>log2FC_CD8TDvsCD8trans</th><th scope=col>f_score</th><th scope=col>pval</th><th scope=col>padj</th><th scope=col>Tpadj_CD8TD.CD8stem</th><th scope=col>Tpadj_CD8trans.CD8stem</th><th scope=col>Tpadj_Tn.CD8stem</th><th scope=col>Tpadj_CD8trans.CD8TD</th><th scope=col>Tpadj_Tn.CD8TD</th><th scope=col>Tpadj_Tn.CD8trans</th><th scope=col>TFDR_CD8TD.CD8stem</th><th scope=col>TFDR_CD8trans.CD8stem</th><th scope=col>TFDR_Tn.CD8stem</th><th scope=col>TFDR_CD8trans.CD8TD</th><th scope=col>TFDR_Tn.CD8TD</th><th scope=col>TFDR_Tn.CD8trans</th><th scope=col>CD8TD_750K_1</th><th scope=col>CD8TD_750K_2</th><th scope=col>CD8stem_250K_1</th><th scope=col>CD8stem_300K_2</th><th scope=col>CD8trans_250K_2</th><th scope=col>CD8trans_350K_1</th><th scope=col>Tn_250K_1</th><th scope=col>Tn_250K_2</th><th scope=col>pooled_1</th><th scope=col>pooled_2</th><th scope=col>pooled_3</th></tr>\n",
       "\t<tr><th></th><th scope=col>&lt;chr&gt;</th><th scope=col>&lt;dbl&gt;</th><th scope=col>&lt;dbl&gt;</th><th scope=col>&lt;dbl&gt;</th><th scope=col>&lt;dbl&gt;</th><th scope=col>&lt;dbl&gt;</th><th scope=col>&lt;dbl&gt;</th><th scope=col>&lt;dbl&gt;</th><th scope=col>&lt;chr&gt;</th><th scope=col>&lt;chr&gt;</th><th scope=col>&lt;dbl&gt;</th><th scope=col>&lt;chr&gt;</th><th scope=col>&lt;chr&gt;</th><th scope=col>&lt;dbl&gt;</th><th scope=col>&lt;dbl&gt;</th><th scope=col>&lt;dbl&gt;</th><th scope=col>&lt;dbl&gt;</th><th scope=col>&lt;dbl&gt;</th><th scope=col>&lt;dbl&gt;</th><th scope=col>&lt;dbl&gt;</th><th scope=col>&lt;dbl&gt;</th><th scope=col>&lt;dbl&gt;</th><th scope=col>&lt;dbl&gt;</th><th scope=col>&lt;dbl&gt;</th><th scope=col>&lt;dbl&gt;</th><th scope=col>&lt;dbl&gt;</th><th scope=col>&lt;dbl&gt;</th><th scope=col>&lt;dbl&gt;</th><th scope=col>&lt;dbl&gt;</th><th scope=col>&lt;dbl&gt;</th><th scope=col>&lt;dbl&gt;</th><th scope=col>&lt;dbl&gt;</th><th scope=col>&lt;dbl&gt;</th><th scope=col>&lt;dbl&gt;</th><th scope=col>&lt;dbl&gt;</th><th scope=col>&lt;dbl&gt;</th><th scope=col>&lt;dbl&gt;</th><th scope=col>&lt;dbl&gt;</th><th scope=col>&lt;dbl&gt;</th><th scope=col>&lt;dbl&gt;</th><th scope=col>&lt;dbl&gt;</th><th scope=col>&lt;dbl&gt;</th><th scope=col>&lt;dbl&gt;</th><th scope=col>&lt;dbl&gt;</th><th scope=col>&lt;dbl&gt;</th><th scope=col>&lt;dbl&gt;</th><th scope=col>&lt;dbl&gt;</th><th scope=col>&lt;dbl&gt;</th><th scope=col>&lt;dbl&gt;</th><th scope=col>&lt;dbl&gt;</th></tr>\n",
       "</thead>\n",
       "<tbody>\n",
       "\t<tr><th scope=row>524</th><td>F12463</td><td>810.5288</td><td>308.94</td><td>306.47</td><td>311.51</td><td>0.95</td><td>0.96</td><td> 37</td><td>in-silico|isotopes|LMSD|MS2</td><td>PS 38:4 </td><td>811.5363</td><td>C44H78NO10P</td><td>                      </td><td>810.5291</td><td>25.10654</td><td>24.51033</td><td>25.03449</td><td>25.55799</td><td>-0.596205255</td><td>-0.07204810</td><td>0.4514513</td><td> 0.52415715</td><td>1.0476566</td><td>0.5234994</td><td>14.437733</td><td>0.0130177306</td><td>0.10851997</td><td>0.009606254</td><td>0.09669417</td><td>0.06575320</td><td>0.097045889</td><td>0.1461028717</td><td>0.965963346</td><td>0.15210460</td><td>1</td><td>1.0000000</td><td>0.4543163</td><td>0.42972574</td><td>1.0000000</td><td>25.52216</td><td>25.59381</td><td>24.64683</td><td>24.37383</td><td>25.20658</td><td>24.86240</td><td>25.06763</td><td>25.14544</td><td>24.88909</td><td>24.95856</td><td>24.84137</td></tr>\n",
       "\t<tr><th scope=row>526</th><td>F12470</td><td>810.5680</td><td>292.49</td><td>289.89</td><td>295.07</td><td>1.00</td><td>0.99</td><td>105</td><td>in-silico|isotopes|MS2     </td><td>LPS 39:4</td><td>811.5727</td><td>C45H82NO9P </td><td>PS O-39:4|LPS O-39:5;O</td><td>810.5654</td><td>22.51266</td><td>22.43168</td><td>22.54696</td><td>23.10943</td><td>-0.080988386</td><td> 0.03429441</td><td>0.5967616</td><td> 0.11528280</td><td>0.6777500</td><td>0.5624672</td><td> 7.415098</td><td>0.0412729966</td><td>0.18412372</td><td>0.044843823</td><td>0.88610893</td><td>0.95414691</td><td>0.080341938</td><td>0.0671208485</td><td>0.996038015</td><td>0.29944541</td><td>1</td><td>1.0000000</td><td>0.4227971</td><td>0.29217164</td><td>1.0000000</td><td>23.06627</td><td>23.15258</td><td>22.58825</td><td>22.27510</td><td>22.38907</td><td>22.70485</td><td>22.53539</td><td>22.48994</td><td>22.07004</td><td>22.29301</td><td>22.31551</td></tr>\n",
       "\t<tr><th scope=row>668</th><td>F15158</td><td>834.5291</td><td>301.51</td><td>298.99</td><td>303.99</td><td>0.97</td><td>0.94</td><td>133</td><td>in-silico|isotopes|LMSD|MS2</td><td>PS 40:6 </td><td>835.5363</td><td>C46H78NO10P</td><td>                      </td><td>834.5291</td><td>26.07902</td><td>26.90208</td><td>27.21432</td><td>28.02267</td><td> 0.823060412</td><td> 1.13530368</td><td>1.9436481</td><td> 0.31224327</td><td>1.1205877</td><td>0.8083444</td><td>63.365140</td><td>0.0007908340</td><td>0.03073847</td><td>0.004934566</td><td>0.26877115</td><td>0.01530759</td><td>0.016322703</td><td>0.0005876647</td><td>0.004698438</td><td>0.11476990</td><td>1</td><td>0.7368816</td><td>0.2168693</td><td>0.03563030</td><td>0.4082114</td><td>27.99032</td><td>28.05502</td><td>26.98754</td><td>26.81662</td><td>27.39287</td><td>27.03578</td><td>26.05568</td><td>26.10236</td><td>26.57449</td><td>26.92189</td><td>27.01237</td></tr>\n",
       "\t<tr><th scope=row>669</th><td>F15159</td><td>834.5291</td><td>308.12</td><td>305.64</td><td>310.64</td><td>0.90</td><td>0.84</td><td> 58</td><td>in-silico|isotopes|LMSD|MS2</td><td>PS 40:6 </td><td>835.5363</td><td>C46H78NO10P</td><td>                      </td><td>834.5291</td><td>25.14319</td><td>25.90349</td><td>26.32767</td><td>27.12356</td><td> 0.760305306</td><td> 1.18448227</td><td>1.9803695</td><td> 0.42417696</td><td>1.2200642</td><td>0.7958872</td><td>98.612955</td><td>0.0003322041</td><td>0.01973469</td><td>0.001711447</td><td>0.07329742</td><td>0.01016903</td><td>0.008601006</td><td>0.0002608589</td><td>0.001918581</td><td>0.07222307</td><td>1</td><td>0.5906484</td><td>0.1651427</td><td>0.02201649</td><td>0.2585218</td><td>27.11598</td><td>27.13113</td><td>25.85956</td><td>25.94743</td><td>26.42658</td><td>26.22876</td><td>25.01684</td><td>25.26953</td><td>25.55195</td><td>25.88708</td><td>26.14004</td></tr>\n",
       "\t<tr><th scope=row>680</th><td>F15555</td><td>836.5432</td><td>308.74</td><td>306.26</td><td>311.29</td><td>0.91</td><td>0.93</td><td> 31</td><td>in-silico|isotopes|LMSD|MS2</td><td>PS 40:5 </td><td>837.5520</td><td>C46H80NO10P</td><td>                      </td><td>836.5447</td><td>24.55560</td><td>24.95548</td><td>25.44008</td><td>25.89067</td><td> 0.399876454</td><td> 0.88448048</td><td>1.3350704</td><td> 0.48460403</td><td>0.9351940</td><td>0.4505899</td><td>41.036856</td><td>0.0018371762</td><td>0.04478561</td><td>0.006457007</td><td>0.06296249</td><td>0.11132051</td><td>0.078657789</td><td>0.0016701568</td><td>0.007938214</td><td>0.13094278</td><td>1</td><td>1.0000000</td><td>0.4191106</td><td>0.05663564</td><td>0.5207756</td><td>25.85355</td><td>25.92778</td><td>25.03479</td><td>24.87616</td><td>25.58891</td><td>25.29125</td><td>24.50109</td><td>24.61011</td><td>24.98061</td><td>25.06496</td><td>24.91539</td></tr>\n",
       "\t<tr><th scope=row>681</th><td>F15557</td><td>836.5832</td><td>292.69</td><td>290.11</td><td>295.28</td><td>1.00</td><td>0.99</td><td>683</td><td>in-silico|isotopes|MS2     </td><td>LPS 41:5</td><td>837.5884</td><td>C47H84NO9P </td><td>PS O-41:5|LPS O-41:6;O</td><td>836.5811</td><td>23.04444</td><td>23.03596</td><td>23.01601</td><td>23.71091</td><td>-0.008479551</td><td>-0.02843373</td><td>0.6664706</td><td>-0.01995417</td><td>0.6749501</td><td>0.6949043</td><td> 7.610328</td><td>0.0395398672</td><td>0.18006285</td><td>0.058385360</td><td>0.99936995</td><td>0.99995131</td><td>0.053243073</td><td>0.0607467144</td><td>0.998193068</td><td>0.33399505</td><td>1</td><td>1.0000000</td><td>0.3501250</td><td>0.27965578</td><td>1.0000000</td><td>23.61982</td><td>23.80200</td><td>23.05063</td><td>23.02129</td><td>22.78776</td><td>23.24426</td><td>23.04642</td><td>23.04246</td><td>22.73396</td><td>22.89270</td><td>22.92948</td></tr>\n",
       "</tbody>\n",
       "</table>\n"
      ],
      "text/latex": [
       "A data.frame: 6 × 50\n",
       "\\begin{tabular}{r|llllllllllllllllllllllllllllllllllllllllllllllllll}\n",
       "  & X & mz & rtime & rtime\\_left\\_base & rtime\\_right\\_base & cSelectivity & goodness\\_fitting & snr & annotation\\_evidence & name & neutral\\_mass & formula & isomers & X.M.H.e. & gMean\\_Tn & gMean\\_CD8stem & gMean\\_CD8trans & gMean\\_CD8TD & log2FC\\_CD8stemvsTn & log2FC\\_CD8transvsTn & log2FC\\_CD8TDvsTn & log2FC\\_CD8transvsCD8stem & log2FC\\_CD8TDvsCD8stem & log2FC\\_CD8TDvsCD8trans & f\\_score & pval & padj & Tpadj\\_CD8TD.CD8stem & Tpadj\\_CD8trans.CD8stem & Tpadj\\_Tn.CD8stem & Tpadj\\_CD8trans.CD8TD & Tpadj\\_Tn.CD8TD & Tpadj\\_Tn.CD8trans & TFDR\\_CD8TD.CD8stem & TFDR\\_CD8trans.CD8stem & TFDR\\_Tn.CD8stem & TFDR\\_CD8trans.CD8TD & TFDR\\_Tn.CD8TD & TFDR\\_Tn.CD8trans & CD8TD\\_750K\\_1 & CD8TD\\_750K\\_2 & CD8stem\\_250K\\_1 & CD8stem\\_300K\\_2 & CD8trans\\_250K\\_2 & CD8trans\\_350K\\_1 & Tn\\_250K\\_1 & Tn\\_250K\\_2 & pooled\\_1 & pooled\\_2 & pooled\\_3\\\\\n",
       "  & <chr> & <dbl> & <dbl> & <dbl> & <dbl> & <dbl> & <dbl> & <dbl> & <chr> & <chr> & <dbl> & <chr> & <chr> & <dbl> & <dbl> & <dbl> & <dbl> & <dbl> & <dbl> & <dbl> & <dbl> & <dbl> & <dbl> & <dbl> & <dbl> & <dbl> & <dbl> & <dbl> & <dbl> & <dbl> & <dbl> & <dbl> & <dbl> & <dbl> & <dbl> & <dbl> & <dbl> & <dbl> & <dbl> & <dbl> & <dbl> & <dbl> & <dbl> & <dbl> & <dbl> & <dbl> & <dbl> & <dbl> & <dbl> & <dbl>\\\\\n",
       "\\hline\n",
       "\t524 & F12463 & 810.5288 & 308.94 & 306.47 & 311.51 & 0.95 & 0.96 &  37 & in-silico\\textbar{}isotopes\\textbar{}LMSD\\textbar{}MS2 & PS 38:4  & 811.5363 & C44H78NO10P &                        & 810.5291 & 25.10654 & 24.51033 & 25.03449 & 25.55799 & -0.596205255 & -0.07204810 & 0.4514513 &  0.52415715 & 1.0476566 & 0.5234994 & 14.437733 & 0.0130177306 & 0.10851997 & 0.009606254 & 0.09669417 & 0.06575320 & 0.097045889 & 0.1461028717 & 0.965963346 & 0.15210460 & 1 & 1.0000000 & 0.4543163 & 0.42972574 & 1.0000000 & 25.52216 & 25.59381 & 24.64683 & 24.37383 & 25.20658 & 24.86240 & 25.06763 & 25.14544 & 24.88909 & 24.95856 & 24.84137\\\\\n",
       "\t526 & F12470 & 810.5680 & 292.49 & 289.89 & 295.07 & 1.00 & 0.99 & 105 & in-silico\\textbar{}isotopes\\textbar{}MS2      & LPS 39:4 & 811.5727 & C45H82NO9P  & PS O-39:4\\textbar{}LPS O-39:5;O & 810.5654 & 22.51266 & 22.43168 & 22.54696 & 23.10943 & -0.080988386 &  0.03429441 & 0.5967616 &  0.11528280 & 0.6777500 & 0.5624672 &  7.415098 & 0.0412729966 & 0.18412372 & 0.044843823 & 0.88610893 & 0.95414691 & 0.080341938 & 0.0671208485 & 0.996038015 & 0.29944541 & 1 & 1.0000000 & 0.4227971 & 0.29217164 & 1.0000000 & 23.06627 & 23.15258 & 22.58825 & 22.27510 & 22.38907 & 22.70485 & 22.53539 & 22.48994 & 22.07004 & 22.29301 & 22.31551\\\\\n",
       "\t668 & F15158 & 834.5291 & 301.51 & 298.99 & 303.99 & 0.97 & 0.94 & 133 & in-silico\\textbar{}isotopes\\textbar{}LMSD\\textbar{}MS2 & PS 40:6  & 835.5363 & C46H78NO10P &                        & 834.5291 & 26.07902 & 26.90208 & 27.21432 & 28.02267 &  0.823060412 &  1.13530368 & 1.9436481 &  0.31224327 & 1.1205877 & 0.8083444 & 63.365140 & 0.0007908340 & 0.03073847 & 0.004934566 & 0.26877115 & 0.01530759 & 0.016322703 & 0.0005876647 & 0.004698438 & 0.11476990 & 1 & 0.7368816 & 0.2168693 & 0.03563030 & 0.4082114 & 27.99032 & 28.05502 & 26.98754 & 26.81662 & 27.39287 & 27.03578 & 26.05568 & 26.10236 & 26.57449 & 26.92189 & 27.01237\\\\\n",
       "\t669 & F15159 & 834.5291 & 308.12 & 305.64 & 310.64 & 0.90 & 0.84 &  58 & in-silico\\textbar{}isotopes\\textbar{}LMSD\\textbar{}MS2 & PS 40:6  & 835.5363 & C46H78NO10P &                        & 834.5291 & 25.14319 & 25.90349 & 26.32767 & 27.12356 &  0.760305306 &  1.18448227 & 1.9803695 &  0.42417696 & 1.2200642 & 0.7958872 & 98.612955 & 0.0003322041 & 0.01973469 & 0.001711447 & 0.07329742 & 0.01016903 & 0.008601006 & 0.0002608589 & 0.001918581 & 0.07222307 & 1 & 0.5906484 & 0.1651427 & 0.02201649 & 0.2585218 & 27.11598 & 27.13113 & 25.85956 & 25.94743 & 26.42658 & 26.22876 & 25.01684 & 25.26953 & 25.55195 & 25.88708 & 26.14004\\\\\n",
       "\t680 & F15555 & 836.5432 & 308.74 & 306.26 & 311.29 & 0.91 & 0.93 &  31 & in-silico\\textbar{}isotopes\\textbar{}LMSD\\textbar{}MS2 & PS 40:5  & 837.5520 & C46H80NO10P &                        & 836.5447 & 24.55560 & 24.95548 & 25.44008 & 25.89067 &  0.399876454 &  0.88448048 & 1.3350704 &  0.48460403 & 0.9351940 & 0.4505899 & 41.036856 & 0.0018371762 & 0.04478561 & 0.006457007 & 0.06296249 & 0.11132051 & 0.078657789 & 0.0016701568 & 0.007938214 & 0.13094278 & 1 & 1.0000000 & 0.4191106 & 0.05663564 & 0.5207756 & 25.85355 & 25.92778 & 25.03479 & 24.87616 & 25.58891 & 25.29125 & 24.50109 & 24.61011 & 24.98061 & 25.06496 & 24.91539\\\\\n",
       "\t681 & F15557 & 836.5832 & 292.69 & 290.11 & 295.28 & 1.00 & 0.99 & 683 & in-silico\\textbar{}isotopes\\textbar{}MS2      & LPS 41:5 & 837.5884 & C47H84NO9P  & PS O-41:5\\textbar{}LPS O-41:6;O & 836.5811 & 23.04444 & 23.03596 & 23.01601 & 23.71091 & -0.008479551 & -0.02843373 & 0.6664706 & -0.01995417 & 0.6749501 & 0.6949043 &  7.610328 & 0.0395398672 & 0.18006285 & 0.058385360 & 0.99936995 & 0.99995131 & 0.053243073 & 0.0607467144 & 0.998193068 & 0.33399505 & 1 & 1.0000000 & 0.3501250 & 0.27965578 & 1.0000000 & 23.61982 & 23.80200 & 23.05063 & 23.02129 & 22.78776 & 23.24426 & 23.04642 & 23.04246 & 22.73396 & 22.89270 & 22.92948\\\\\n",
       "\\end{tabular}\n"
      ],
      "text/markdown": [
       "\n",
       "A data.frame: 6 × 50\n",
       "\n",
       "| <!--/--> | X &lt;chr&gt; | mz &lt;dbl&gt; | rtime &lt;dbl&gt; | rtime_left_base &lt;dbl&gt; | rtime_right_base &lt;dbl&gt; | cSelectivity &lt;dbl&gt; | goodness_fitting &lt;dbl&gt; | snr &lt;dbl&gt; | annotation_evidence &lt;chr&gt; | name &lt;chr&gt; | neutral_mass &lt;dbl&gt; | formula &lt;chr&gt; | isomers &lt;chr&gt; | X.M.H.e. &lt;dbl&gt; | gMean_Tn &lt;dbl&gt; | gMean_CD8stem &lt;dbl&gt; | gMean_CD8trans &lt;dbl&gt; | gMean_CD8TD &lt;dbl&gt; | log2FC_CD8stemvsTn &lt;dbl&gt; | log2FC_CD8transvsTn &lt;dbl&gt; | log2FC_CD8TDvsTn &lt;dbl&gt; | log2FC_CD8transvsCD8stem &lt;dbl&gt; | log2FC_CD8TDvsCD8stem &lt;dbl&gt; | log2FC_CD8TDvsCD8trans &lt;dbl&gt; | f_score &lt;dbl&gt; | pval &lt;dbl&gt; | padj &lt;dbl&gt; | Tpadj_CD8TD.CD8stem &lt;dbl&gt; | Tpadj_CD8trans.CD8stem &lt;dbl&gt; | Tpadj_Tn.CD8stem &lt;dbl&gt; | Tpadj_CD8trans.CD8TD &lt;dbl&gt; | Tpadj_Tn.CD8TD &lt;dbl&gt; | Tpadj_Tn.CD8trans &lt;dbl&gt; | TFDR_CD8TD.CD8stem &lt;dbl&gt; | TFDR_CD8trans.CD8stem &lt;dbl&gt; | TFDR_Tn.CD8stem &lt;dbl&gt; | TFDR_CD8trans.CD8TD &lt;dbl&gt; | TFDR_Tn.CD8TD &lt;dbl&gt; | TFDR_Tn.CD8trans &lt;dbl&gt; | CD8TD_750K_1 &lt;dbl&gt; | CD8TD_750K_2 &lt;dbl&gt; | CD8stem_250K_1 &lt;dbl&gt; | CD8stem_300K_2 &lt;dbl&gt; | CD8trans_250K_2 &lt;dbl&gt; | CD8trans_350K_1 &lt;dbl&gt; | Tn_250K_1 &lt;dbl&gt; | Tn_250K_2 &lt;dbl&gt; | pooled_1 &lt;dbl&gt; | pooled_2 &lt;dbl&gt; | pooled_3 &lt;dbl&gt; |\n",
       "|---|---|---|---|---|---|---|---|---|---|---|---|---|---|---|---|---|---|---|---|---|---|---|---|---|---|---|---|---|---|---|---|---|---|---|---|---|---|---|---|---|---|---|---|---|---|---|---|---|---|---|\n",
       "| 524 | F12463 | 810.5288 | 308.94 | 306.47 | 311.51 | 0.95 | 0.96 |  37 | in-silico|isotopes|LMSD|MS2 | PS 38:4  | 811.5363 | C44H78NO10P | <!----> | 810.5291 | 25.10654 | 24.51033 | 25.03449 | 25.55799 | -0.596205255 | -0.07204810 | 0.4514513 |  0.52415715 | 1.0476566 | 0.5234994 | 14.437733 | 0.0130177306 | 0.10851997 | 0.009606254 | 0.09669417 | 0.06575320 | 0.097045889 | 0.1461028717 | 0.965963346 | 0.15210460 | 1 | 1.0000000 | 0.4543163 | 0.42972574 | 1.0000000 | 25.52216 | 25.59381 | 24.64683 | 24.37383 | 25.20658 | 24.86240 | 25.06763 | 25.14544 | 24.88909 | 24.95856 | 24.84137 |\n",
       "| 526 | F12470 | 810.5680 | 292.49 | 289.89 | 295.07 | 1.00 | 0.99 | 105 | in-silico|isotopes|MS2      | LPS 39:4 | 811.5727 | C45H82NO9P  | PS O-39:4|LPS O-39:5;O | 810.5654 | 22.51266 | 22.43168 | 22.54696 | 23.10943 | -0.080988386 |  0.03429441 | 0.5967616 |  0.11528280 | 0.6777500 | 0.5624672 |  7.415098 | 0.0412729966 | 0.18412372 | 0.044843823 | 0.88610893 | 0.95414691 | 0.080341938 | 0.0671208485 | 0.996038015 | 0.29944541 | 1 | 1.0000000 | 0.4227971 | 0.29217164 | 1.0000000 | 23.06627 | 23.15258 | 22.58825 | 22.27510 | 22.38907 | 22.70485 | 22.53539 | 22.48994 | 22.07004 | 22.29301 | 22.31551 |\n",
       "| 668 | F15158 | 834.5291 | 301.51 | 298.99 | 303.99 | 0.97 | 0.94 | 133 | in-silico|isotopes|LMSD|MS2 | PS 40:6  | 835.5363 | C46H78NO10P | <!----> | 834.5291 | 26.07902 | 26.90208 | 27.21432 | 28.02267 |  0.823060412 |  1.13530368 | 1.9436481 |  0.31224327 | 1.1205877 | 0.8083444 | 63.365140 | 0.0007908340 | 0.03073847 | 0.004934566 | 0.26877115 | 0.01530759 | 0.016322703 | 0.0005876647 | 0.004698438 | 0.11476990 | 1 | 0.7368816 | 0.2168693 | 0.03563030 | 0.4082114 | 27.99032 | 28.05502 | 26.98754 | 26.81662 | 27.39287 | 27.03578 | 26.05568 | 26.10236 | 26.57449 | 26.92189 | 27.01237 |\n",
       "| 669 | F15159 | 834.5291 | 308.12 | 305.64 | 310.64 | 0.90 | 0.84 |  58 | in-silico|isotopes|LMSD|MS2 | PS 40:6  | 835.5363 | C46H78NO10P | <!----> | 834.5291 | 25.14319 | 25.90349 | 26.32767 | 27.12356 |  0.760305306 |  1.18448227 | 1.9803695 |  0.42417696 | 1.2200642 | 0.7958872 | 98.612955 | 0.0003322041 | 0.01973469 | 0.001711447 | 0.07329742 | 0.01016903 | 0.008601006 | 0.0002608589 | 0.001918581 | 0.07222307 | 1 | 0.5906484 | 0.1651427 | 0.02201649 | 0.2585218 | 27.11598 | 27.13113 | 25.85956 | 25.94743 | 26.42658 | 26.22876 | 25.01684 | 25.26953 | 25.55195 | 25.88708 | 26.14004 |\n",
       "| 680 | F15555 | 836.5432 | 308.74 | 306.26 | 311.29 | 0.91 | 0.93 |  31 | in-silico|isotopes|LMSD|MS2 | PS 40:5  | 837.5520 | C46H80NO10P | <!----> | 836.5447 | 24.55560 | 24.95548 | 25.44008 | 25.89067 |  0.399876454 |  0.88448048 | 1.3350704 |  0.48460403 | 0.9351940 | 0.4505899 | 41.036856 | 0.0018371762 | 0.04478561 | 0.006457007 | 0.06296249 | 0.11132051 | 0.078657789 | 0.0016701568 | 0.007938214 | 0.13094278 | 1 | 1.0000000 | 0.4191106 | 0.05663564 | 0.5207756 | 25.85355 | 25.92778 | 25.03479 | 24.87616 | 25.58891 | 25.29125 | 24.50109 | 24.61011 | 24.98061 | 25.06496 | 24.91539 |\n",
       "| 681 | F15557 | 836.5832 | 292.69 | 290.11 | 295.28 | 1.00 | 0.99 | 683 | in-silico|isotopes|MS2      | LPS 41:5 | 837.5884 | C47H84NO9P  | PS O-41:5|LPS O-41:6;O | 836.5811 | 23.04444 | 23.03596 | 23.01601 | 23.71091 | -0.008479551 | -0.02843373 | 0.6664706 | -0.01995417 | 0.6749501 | 0.6949043 |  7.610328 | 0.0395398672 | 0.18006285 | 0.058385360 | 0.99936995 | 0.99995131 | 0.053243073 | 0.0607467144 | 0.998193068 | 0.33399505 | 1 | 1.0000000 | 0.3501250 | 0.27965578 | 1.0000000 | 23.61982 | 23.80200 | 23.05063 | 23.02129 | 22.78776 | 23.24426 | 23.04642 | 23.04246 | 22.73396 | 22.89270 | 22.92948 |\n",
       "\n"
      ],
      "text/plain": [
       "    X      mz       rtime  rtime_left_base rtime_right_base cSelectivity\n",
       "524 F12463 810.5288 308.94 306.47          311.51           0.95        \n",
       "526 F12470 810.5680 292.49 289.89          295.07           1.00        \n",
       "668 F15158 834.5291 301.51 298.99          303.99           0.97        \n",
       "669 F15159 834.5291 308.12 305.64          310.64           0.90        \n",
       "680 F15555 836.5432 308.74 306.26          311.29           0.91        \n",
       "681 F15557 836.5832 292.69 290.11          295.28           1.00        \n",
       "    goodness_fitting snr annotation_evidence         name     neutral_mass\n",
       "524 0.96              37 in-silico|isotopes|LMSD|MS2 PS 38:4  811.5363    \n",
       "526 0.99             105 in-silico|isotopes|MS2      LPS 39:4 811.5727    \n",
       "668 0.94             133 in-silico|isotopes|LMSD|MS2 PS 40:6  835.5363    \n",
       "669 0.84              58 in-silico|isotopes|LMSD|MS2 PS 40:6  835.5363    \n",
       "680 0.93              31 in-silico|isotopes|LMSD|MS2 PS 40:5  837.5520    \n",
       "681 0.99             683 in-silico|isotopes|MS2      LPS 41:5 837.5884    \n",
       "    formula     isomers                X.M.H.e. gMean_Tn gMean_CD8stem\n",
       "524 C44H78NO10P                        810.5291 25.10654 24.51033     \n",
       "526 C45H82NO9P  PS O-39:4|LPS O-39:5;O 810.5654 22.51266 22.43168     \n",
       "668 C46H78NO10P                        834.5291 26.07902 26.90208     \n",
       "669 C46H78NO10P                        834.5291 25.14319 25.90349     \n",
       "680 C46H80NO10P                        836.5447 24.55560 24.95548     \n",
       "681 C47H84NO9P  PS O-41:5|LPS O-41:6;O 836.5811 23.04444 23.03596     \n",
       "    gMean_CD8trans gMean_CD8TD log2FC_CD8stemvsTn log2FC_CD8transvsTn\n",
       "524 25.03449       25.55799    -0.596205255       -0.07204810        \n",
       "526 22.54696       23.10943    -0.080988386        0.03429441        \n",
       "668 27.21432       28.02267     0.823060412        1.13530368        \n",
       "669 26.32767       27.12356     0.760305306        1.18448227        \n",
       "680 25.44008       25.89067     0.399876454        0.88448048        \n",
       "681 23.01601       23.71091    -0.008479551       -0.02843373        \n",
       "    log2FC_CD8TDvsTn log2FC_CD8transvsCD8stem log2FC_CD8TDvsCD8stem\n",
       "524 0.4514513         0.52415715              1.0476566            \n",
       "526 0.5967616         0.11528280              0.6777500            \n",
       "668 1.9436481         0.31224327              1.1205877            \n",
       "669 1.9803695         0.42417696              1.2200642            \n",
       "680 1.3350704         0.48460403              0.9351940            \n",
       "681 0.6664706        -0.01995417              0.6749501            \n",
       "    log2FC_CD8TDvsCD8trans f_score   pval         padj      \n",
       "524 0.5234994              14.437733 0.0130177306 0.10851997\n",
       "526 0.5624672               7.415098 0.0412729966 0.18412372\n",
       "668 0.8083444              63.365140 0.0007908340 0.03073847\n",
       "669 0.7958872              98.612955 0.0003322041 0.01973469\n",
       "680 0.4505899              41.036856 0.0018371762 0.04478561\n",
       "681 0.6949043               7.610328 0.0395398672 0.18006285\n",
       "    Tpadj_CD8TD.CD8stem Tpadj_CD8trans.CD8stem Tpadj_Tn.CD8stem\n",
       "524 0.009606254         0.09669417             0.06575320      \n",
       "526 0.044843823         0.88610893             0.95414691      \n",
       "668 0.004934566         0.26877115             0.01530759      \n",
       "669 0.001711447         0.07329742             0.01016903      \n",
       "680 0.006457007         0.06296249             0.11132051      \n",
       "681 0.058385360         0.99936995             0.99995131      \n",
       "    Tpadj_CD8trans.CD8TD Tpadj_Tn.CD8TD Tpadj_Tn.CD8trans TFDR_CD8TD.CD8stem\n",
       "524 0.097045889          0.1461028717   0.965963346       0.15210460        \n",
       "526 0.080341938          0.0671208485   0.996038015       0.29944541        \n",
       "668 0.016322703          0.0005876647   0.004698438       0.11476990        \n",
       "669 0.008601006          0.0002608589   0.001918581       0.07222307        \n",
       "680 0.078657789          0.0016701568   0.007938214       0.13094278        \n",
       "681 0.053243073          0.0607467144   0.998193068       0.33399505        \n",
       "    TFDR_CD8trans.CD8stem TFDR_Tn.CD8stem TFDR_CD8trans.CD8TD TFDR_Tn.CD8TD\n",
       "524 1                     1.0000000       0.4543163           0.42972574   \n",
       "526 1                     1.0000000       0.4227971           0.29217164   \n",
       "668 1                     0.7368816       0.2168693           0.03563030   \n",
       "669 1                     0.5906484       0.1651427           0.02201649   \n",
       "680 1                     1.0000000       0.4191106           0.05663564   \n",
       "681 1                     1.0000000       0.3501250           0.27965578   \n",
       "    TFDR_Tn.CD8trans CD8TD_750K_1 CD8TD_750K_2 CD8stem_250K_1 CD8stem_300K_2\n",
       "524 1.0000000        25.52216     25.59381     24.64683       24.37383      \n",
       "526 1.0000000        23.06627     23.15258     22.58825       22.27510      \n",
       "668 0.4082114        27.99032     28.05502     26.98754       26.81662      \n",
       "669 0.2585218        27.11598     27.13113     25.85956       25.94743      \n",
       "680 0.5207756        25.85355     25.92778     25.03479       24.87616      \n",
       "681 1.0000000        23.61982     23.80200     23.05063       23.02129      \n",
       "    CD8trans_250K_2 CD8trans_350K_1 Tn_250K_1 Tn_250K_2 pooled_1 pooled_2\n",
       "524 25.20658        24.86240        25.06763  25.14544  24.88909 24.95856\n",
       "526 22.38907        22.70485        22.53539  22.48994  22.07004 22.29301\n",
       "668 27.39287        27.03578        26.05568  26.10236  26.57449 26.92189\n",
       "669 26.42658        26.22876        25.01684  25.26953  25.55195 25.88708\n",
       "680 25.58891        25.29125        24.50109  24.61011  24.98061 25.06496\n",
       "681 22.78776        23.24426        23.04642  23.04246  22.73396 22.89270\n",
       "    pooled_3\n",
       "524 24.84137\n",
       "526 22.31551\n",
       "668 27.01237\n",
       "669 26.14004\n",
       "680 24.91539\n",
       "681 22.92948"
      ]
     },
     "metadata": {},
     "output_type": "display_data"
    }
   ],
   "source": [
    "head(feat_df)"
   ]
  },
  {
   "cell_type": "code",
   "execution_count": 8,
   "id": "97371fc9-fa5b-4b8a-8ba4-0e17170ac628",
   "metadata": {
    "tags": []
   },
   "outputs": [],
   "source": [
    "feat_df = feat_df[!duplicated(feat_df$X),]"
   ]
  },
  {
   "cell_type": "code",
   "execution_count": 9,
   "id": "d0a51ca2-b978-4654-9757-328a3f40831e",
   "metadata": {
    "tags": []
   },
   "outputs": [
    {
     "data": {
      "text/html": [
       "<style>\n",
       ".list-inline {list-style: none; margin:0; padding: 0}\n",
       ".list-inline>li {display: inline-block}\n",
       ".list-inline>li:not(:last-child)::after {content: \"\\00b7\"; padding: 0 .5ex}\n",
       "</style>\n",
       "<ol class=list-inline><li>8</li><li>50</li></ol>\n"
      ],
      "text/latex": [
       "\\begin{enumerate*}\n",
       "\\item 8\n",
       "\\item 50\n",
       "\\end{enumerate*}\n"
      ],
      "text/markdown": [
       "1. 8\n",
       "2. 50\n",
       "\n",
       "\n"
      ],
      "text/plain": [
       "[1]  8 50"
      ]
     },
     "metadata": {},
     "output_type": "display_data"
    }
   ],
   "source": [
    "dim(feat_df)"
   ]
  },
  {
   "cell_type": "code",
   "execution_count": 10,
   "id": "e997bc03-5f62-41b7-9afe-9377c011ab9e",
   "metadata": {
    "tags": []
   },
   "outputs": [],
   "source": [
    "library(dplyr)\n",
    "\n",
    "feat_df = feat_df %>%\n",
    "  mutate(surrogate = paste(name, round(rtime,2), sep = \"_\"))\n",
    "\n",
    "rownames(feat_df) = feat_df$surrogate"
   ]
  },
  {
   "cell_type": "code",
   "execution_count": 11,
   "id": "50041c92-4765-4911-ad1b-b7429eaca6cf",
   "metadata": {
    "tags": []
   },
   "outputs": [
    {
     "data": {
      "text/html": [
       "<style>\n",
       ".list-inline {list-style: none; margin:0; padding: 0}\n",
       ".list-inline>li {display: inline-block}\n",
       ".list-inline>li:not(:last-child)::after {content: \"\\00b7\"; padding: 0 .5ex}\n",
       "</style>\n",
       "<ol class=list-inline><li>'PS 38:4_308.94'</li><li>'LPS 39:4_292.49'</li><li>'PS 40:6_301.51'</li><li>'PS 40:6_308.12'</li><li>'PS 40:5_308.74'</li></ol>\n"
      ],
      "text/latex": [
       "\\begin{enumerate*}\n",
       "\\item 'PS 38:4\\_308.94'\n",
       "\\item 'LPS 39:4\\_292.49'\n",
       "\\item 'PS 40:6\\_301.51'\n",
       "\\item 'PS 40:6\\_308.12'\n",
       "\\item 'PS 40:5\\_308.74'\n",
       "\\end{enumerate*}\n"
      ],
      "text/markdown": [
       "1. 'PS 38:4_308.94'\n",
       "2. 'LPS 39:4_292.49'\n",
       "3. 'PS 40:6_301.51'\n",
       "4. 'PS 40:6_308.12'\n",
       "5. 'PS 40:5_308.74'\n",
       "\n",
       "\n"
      ],
      "text/plain": [
       "[1] \"PS 38:4_308.94\"  \"LPS 39:4_292.49\" \"PS 40:6_301.51\"  \"PS 40:6_308.12\" \n",
       "[5] \"PS 40:5_308.74\" "
      ]
     },
     "metadata": {},
     "output_type": "display_data"
    }
   ],
   "source": [
    "rownames(feat_df)[1:5]"
   ]
  },
  {
   "cell_type": "code",
   "execution_count": 12,
   "id": "7f83563d",
   "metadata": {
    "tags": []
   },
   "outputs": [],
   "source": [
    "meta_df <- read.table(\"../../../../seq/RPneg_addgrp.csv\",\n",
    "                     header = TRUE, sep = ',') "
   ]
  },
  {
   "cell_type": "code",
   "execution_count": 13,
   "id": "d1ff1174",
   "metadata": {
    "tags": []
   },
   "outputs": [
    {
     "data": {
      "text/html": [
       "<table class=\"dataframe\">\n",
       "<caption>A data.frame: 5 × 12</caption>\n",
       "<thead>\n",
       "\t<tr><th></th><th scope=col>Sample.Type</th><th scope=col>File.Name</th><th scope=col>Sample.ID</th><th scope=col>Sample_ID_upd</th><th scope=col>cell_number</th><th scope=col>group</th><th scope=col>Comment</th><th scope=col>Path</th><th scope=col>Instrument.Method</th><th scope=col>Process.Method</th><th scope=col>Position</th><th scope=col>Inj.Vol</th></tr>\n",
       "\t<tr><th></th><th scope=col>&lt;chr&gt;</th><th scope=col>&lt;chr&gt;</th><th scope=col>&lt;chr&gt;</th><th scope=col>&lt;chr&gt;</th><th scope=col>&lt;chr&gt;</th><th scope=col>&lt;chr&gt;</th><th scope=col>&lt;int&gt;</th><th scope=col>&lt;chr&gt;</th><th scope=col>&lt;chr&gt;</th><th scope=col>&lt;lgl&gt;</th><th scope=col>&lt;chr&gt;</th><th scope=col>&lt;int&gt;</th></tr>\n",
       "</thead>\n",
       "<tbody>\n",
       "\t<tr><th scope=row>1</th><td>Blank</td><td>Blank_20230308_002      </td><td>Blank_20230308_002    </td><td>Blank_1    </td><td>NR</td><td>Blank    </td><td>1</td><td>D:\\IDX_Data\\Maheshwor\\20220213_phosphatidylserine\\20230308_sample_analysis\\HILICpos_RPneg</td><td>C:\\Xcalibur\\methods\\MT\\phosphatidylserine_tSIM_method\\20220322_MT_RPneg_Aria_FS_60Kres_20min_PS</td><td>NA</td><td>G:A1</td><td>2</td></tr>\n",
       "\t<tr><th scope=row>2</th><td>Blank</td><td>Blank_20230308_004      </td><td>Blank_20230308_004    </td><td>Blank_2    </td><td>NR</td><td>Blank    </td><td>1</td><td>D:\\IDX_Data\\Maheshwor\\20220213_phosphatidylserine\\20230308_sample_analysis\\HILICpos_RPneg</td><td>C:\\Xcalibur\\methods\\MT\\phosphatidylserine_tSIM_method\\20220322_MT_RPneg_Aria_FS_60Kres_20min_PS</td><td>NA</td><td>G:A1</td><td>2</td></tr>\n",
       "\t<tr><th scope=row>3</th><td>Blank</td><td>Blank_std_20230308_1_002</td><td>Blank_std_20230308_002</td><td>Blank_std_1</td><td>NR</td><td>Blank_std</td><td>1</td><td>D:\\IDX_Data\\Maheshwor\\20220213_phosphatidylserine\\20230308_sample_analysis\\HILICpos_RPneg</td><td>C:\\Xcalibur\\methods\\MT\\phosphatidylserine_tSIM_method\\20220322_MT_RPneg_Aria_FS_60Kres_20min_PS</td><td>NA</td><td>G:A2</td><td>2</td></tr>\n",
       "\t<tr><th scope=row>4</th><td>QC   </td><td>MT_20230308_002         </td><td>Qstd_20230308_002     </td><td>Qstd_1     </td><td>NR</td><td>Qstd     </td><td>1</td><td>D:\\IDX_Data\\Maheshwor\\20220213_phosphatidylserine\\20230308_sample_analysis\\HILICpos_RPneg</td><td>C:\\Xcalibur\\methods\\MT\\phosphatidylserine_tSIM_method\\20220322_MT_RPneg_Aria_FS_60Kres_20min_PS</td><td>NA</td><td>G:A3</td><td>2</td></tr>\n",
       "\t<tr><th scope=row>5</th><td>QC   </td><td>MT_20230308_004         </td><td>Qstd_20230308_004     </td><td>Qstd_2     </td><td>NR</td><td>Qstd     </td><td>1</td><td>D:\\IDX_Data\\Maheshwor\\20220213_phosphatidylserine\\20230308_sample_analysis\\HILICpos_RPneg</td><td>C:\\Xcalibur\\methods\\MT\\phosphatidylserine_tSIM_method\\20220322_MT_RPneg_Aria_FS_60Kres_20min_PS</td><td>NA</td><td>G:A3</td><td>2</td></tr>\n",
       "</tbody>\n",
       "</table>\n"
      ],
      "text/latex": [
       "A data.frame: 5 × 12\n",
       "\\begin{tabular}{r|llllllllllll}\n",
       "  & Sample.Type & File.Name & Sample.ID & Sample\\_ID\\_upd & cell\\_number & group & Comment & Path & Instrument.Method & Process.Method & Position & Inj.Vol\\\\\n",
       "  & <chr> & <chr> & <chr> & <chr> & <chr> & <chr> & <int> & <chr> & <chr> & <lgl> & <chr> & <int>\\\\\n",
       "\\hline\n",
       "\t1 & Blank & Blank\\_20230308\\_002       & Blank\\_20230308\\_002     & Blank\\_1     & NR & Blank     & 1 & D:\\textbackslash{}IDX\\_Data\\textbackslash{}Maheshwor\\textbackslash{}20220213\\_phosphatidylserine\\textbackslash{}20230308\\_sample\\_analysis\\textbackslash{}HILICpos\\_RPneg & C:\\textbackslash{}Xcalibur\\textbackslash{}methods\\textbackslash{}MT\\textbackslash{}phosphatidylserine\\_tSIM\\_method\\textbackslash{}20220322\\_MT\\_RPneg\\_Aria\\_FS\\_60Kres\\_20min\\_PS & NA & G:A1 & 2\\\\\n",
       "\t2 & Blank & Blank\\_20230308\\_004       & Blank\\_20230308\\_004     & Blank\\_2     & NR & Blank     & 1 & D:\\textbackslash{}IDX\\_Data\\textbackslash{}Maheshwor\\textbackslash{}20220213\\_phosphatidylserine\\textbackslash{}20230308\\_sample\\_analysis\\textbackslash{}HILICpos\\_RPneg & C:\\textbackslash{}Xcalibur\\textbackslash{}methods\\textbackslash{}MT\\textbackslash{}phosphatidylserine\\_tSIM\\_method\\textbackslash{}20220322\\_MT\\_RPneg\\_Aria\\_FS\\_60Kres\\_20min\\_PS & NA & G:A1 & 2\\\\\n",
       "\t3 & Blank & Blank\\_std\\_20230308\\_1\\_002 & Blank\\_std\\_20230308\\_002 & Blank\\_std\\_1 & NR & Blank\\_std & 1 & D:\\textbackslash{}IDX\\_Data\\textbackslash{}Maheshwor\\textbackslash{}20220213\\_phosphatidylserine\\textbackslash{}20230308\\_sample\\_analysis\\textbackslash{}HILICpos\\_RPneg & C:\\textbackslash{}Xcalibur\\textbackslash{}methods\\textbackslash{}MT\\textbackslash{}phosphatidylserine\\_tSIM\\_method\\textbackslash{}20220322\\_MT\\_RPneg\\_Aria\\_FS\\_60Kres\\_20min\\_PS & NA & G:A2 & 2\\\\\n",
       "\t4 & QC    & MT\\_20230308\\_002          & Qstd\\_20230308\\_002      & Qstd\\_1      & NR & Qstd      & 1 & D:\\textbackslash{}IDX\\_Data\\textbackslash{}Maheshwor\\textbackslash{}20220213\\_phosphatidylserine\\textbackslash{}20230308\\_sample\\_analysis\\textbackslash{}HILICpos\\_RPneg & C:\\textbackslash{}Xcalibur\\textbackslash{}methods\\textbackslash{}MT\\textbackslash{}phosphatidylserine\\_tSIM\\_method\\textbackslash{}20220322\\_MT\\_RPneg\\_Aria\\_FS\\_60Kres\\_20min\\_PS & NA & G:A3 & 2\\\\\n",
       "\t5 & QC    & MT\\_20230308\\_004          & Qstd\\_20230308\\_004      & Qstd\\_2      & NR & Qstd      & 1 & D:\\textbackslash{}IDX\\_Data\\textbackslash{}Maheshwor\\textbackslash{}20220213\\_phosphatidylserine\\textbackslash{}20230308\\_sample\\_analysis\\textbackslash{}HILICpos\\_RPneg & C:\\textbackslash{}Xcalibur\\textbackslash{}methods\\textbackslash{}MT\\textbackslash{}phosphatidylserine\\_tSIM\\_method\\textbackslash{}20220322\\_MT\\_RPneg\\_Aria\\_FS\\_60Kres\\_20min\\_PS & NA & G:A3 & 2\\\\\n",
       "\\end{tabular}\n"
      ],
      "text/markdown": [
       "\n",
       "A data.frame: 5 × 12\n",
       "\n",
       "| <!--/--> | Sample.Type &lt;chr&gt; | File.Name &lt;chr&gt; | Sample.ID &lt;chr&gt; | Sample_ID_upd &lt;chr&gt; | cell_number &lt;chr&gt; | group &lt;chr&gt; | Comment &lt;int&gt; | Path &lt;chr&gt; | Instrument.Method &lt;chr&gt; | Process.Method &lt;lgl&gt; | Position &lt;chr&gt; | Inj.Vol &lt;int&gt; |\n",
       "|---|---|---|---|---|---|---|---|---|---|---|---|---|\n",
       "| 1 | Blank | Blank_20230308_002       | Blank_20230308_002     | Blank_1     | NR | Blank     | 1 | D:\\IDX_Data\\Maheshwor\\20220213_phosphatidylserine\\20230308_sample_analysis\\HILICpos_RPneg | C:\\Xcalibur\\methods\\MT\\phosphatidylserine_tSIM_method\\20220322_MT_RPneg_Aria_FS_60Kres_20min_PS | NA | G:A1 | 2 |\n",
       "| 2 | Blank | Blank_20230308_004       | Blank_20230308_004     | Blank_2     | NR | Blank     | 1 | D:\\IDX_Data\\Maheshwor\\20220213_phosphatidylserine\\20230308_sample_analysis\\HILICpos_RPneg | C:\\Xcalibur\\methods\\MT\\phosphatidylserine_tSIM_method\\20220322_MT_RPneg_Aria_FS_60Kres_20min_PS | NA | G:A1 | 2 |\n",
       "| 3 | Blank | Blank_std_20230308_1_002 | Blank_std_20230308_002 | Blank_std_1 | NR | Blank_std | 1 | D:\\IDX_Data\\Maheshwor\\20220213_phosphatidylserine\\20230308_sample_analysis\\HILICpos_RPneg | C:\\Xcalibur\\methods\\MT\\phosphatidylserine_tSIM_method\\20220322_MT_RPneg_Aria_FS_60Kres_20min_PS | NA | G:A2 | 2 |\n",
       "| 4 | QC    | MT_20230308_002          | Qstd_20230308_002      | Qstd_1      | NR | Qstd      | 1 | D:\\IDX_Data\\Maheshwor\\20220213_phosphatidylserine\\20230308_sample_analysis\\HILICpos_RPneg | C:\\Xcalibur\\methods\\MT\\phosphatidylserine_tSIM_method\\20220322_MT_RPneg_Aria_FS_60Kres_20min_PS | NA | G:A3 | 2 |\n",
       "| 5 | QC    | MT_20230308_004          | Qstd_20230308_004      | Qstd_2      | NR | Qstd      | 1 | D:\\IDX_Data\\Maheshwor\\20220213_phosphatidylserine\\20230308_sample_analysis\\HILICpos_RPneg | C:\\Xcalibur\\methods\\MT\\phosphatidylserine_tSIM_method\\20220322_MT_RPneg_Aria_FS_60Kres_20min_PS | NA | G:A3 | 2 |\n",
       "\n"
      ],
      "text/plain": [
       "  Sample.Type File.Name                Sample.ID              Sample_ID_upd\n",
       "1 Blank       Blank_20230308_002       Blank_20230308_002     Blank_1      \n",
       "2 Blank       Blank_20230308_004       Blank_20230308_004     Blank_2      \n",
       "3 Blank       Blank_std_20230308_1_002 Blank_std_20230308_002 Blank_std_1  \n",
       "4 QC          MT_20230308_002          Qstd_20230308_002      Qstd_1       \n",
       "5 QC          MT_20230308_004          Qstd_20230308_004      Qstd_2       \n",
       "  cell_number group     Comment\n",
       "1 NR          Blank     1      \n",
       "2 NR          Blank     1      \n",
       "3 NR          Blank_std 1      \n",
       "4 NR          Qstd      1      \n",
       "5 NR          Qstd      1      \n",
       "  Path                                                                                          \n",
       "1 D:\\\\IDX_Data\\\\Maheshwor\\\\20220213_phosphatidylserine\\\\20230308_sample_analysis\\\\HILICpos_RPneg\n",
       "2 D:\\\\IDX_Data\\\\Maheshwor\\\\20220213_phosphatidylserine\\\\20230308_sample_analysis\\\\HILICpos_RPneg\n",
       "3 D:\\\\IDX_Data\\\\Maheshwor\\\\20220213_phosphatidylserine\\\\20230308_sample_analysis\\\\HILICpos_RPneg\n",
       "4 D:\\\\IDX_Data\\\\Maheshwor\\\\20220213_phosphatidylserine\\\\20230308_sample_analysis\\\\HILICpos_RPneg\n",
       "5 D:\\\\IDX_Data\\\\Maheshwor\\\\20220213_phosphatidylserine\\\\20230308_sample_analysis\\\\HILICpos_RPneg\n",
       "  Instrument.Method                                                                                   \n",
       "1 C:\\\\Xcalibur\\\\methods\\\\MT\\\\phosphatidylserine_tSIM_method\\\\20220322_MT_RPneg_Aria_FS_60Kres_20min_PS\n",
       "2 C:\\\\Xcalibur\\\\methods\\\\MT\\\\phosphatidylserine_tSIM_method\\\\20220322_MT_RPneg_Aria_FS_60Kres_20min_PS\n",
       "3 C:\\\\Xcalibur\\\\methods\\\\MT\\\\phosphatidylserine_tSIM_method\\\\20220322_MT_RPneg_Aria_FS_60Kres_20min_PS\n",
       "4 C:\\\\Xcalibur\\\\methods\\\\MT\\\\phosphatidylserine_tSIM_method\\\\20220322_MT_RPneg_Aria_FS_60Kres_20min_PS\n",
       "5 C:\\\\Xcalibur\\\\methods\\\\MT\\\\phosphatidylserine_tSIM_method\\\\20220322_MT_RPneg_Aria_FS_60Kres_20min_PS\n",
       "  Process.Method Position Inj.Vol\n",
       "1 NA             G:A1     2      \n",
       "2 NA             G:A1     2      \n",
       "3 NA             G:A2     2      \n",
       "4 NA             G:A3     2      \n",
       "5 NA             G:A3     2      "
      ]
     },
     "metadata": {},
     "output_type": "display_data"
    }
   ],
   "source": [
    "head(meta_df,5)"
   ]
  },
  {
   "cell_type": "code",
   "execution_count": 14,
   "id": "17d0200f",
   "metadata": {
    "tags": []
   },
   "outputs": [
    {
     "data": {
      "text/html": [
       "<style>\n",
       ".list-inline {list-style: none; margin:0; padding: 0}\n",
       ".list-inline>li {display: inline-block}\n",
       ".list-inline>li:not(:last-child)::after {content: \"\\00b7\"; padding: 0 .5ex}\n",
       "</style>\n",
       "<ol class=list-inline><li>'CD8TD_750K_1'</li><li>'CD8TD_750K_2'</li><li>'CD8stem_250K_1'</li><li>'CD8stem_300K_2'</li><li>'CD8trans_250K_2'</li><li>'CD8trans_350K_1'</li><li>'Tn_250K_1'</li><li>'Tn_250K_2'</li></ol>\n"
      ],
      "text/latex": [
       "\\begin{enumerate*}\n",
       "\\item 'CD8TD\\_750K\\_1'\n",
       "\\item 'CD8TD\\_750K\\_2'\n",
       "\\item 'CD8stem\\_250K\\_1'\n",
       "\\item 'CD8stem\\_300K\\_2'\n",
       "\\item 'CD8trans\\_250K\\_2'\n",
       "\\item 'CD8trans\\_350K\\_1'\n",
       "\\item 'Tn\\_250K\\_1'\n",
       "\\item 'Tn\\_250K\\_2'\n",
       "\\end{enumerate*}\n"
      ],
      "text/markdown": [
       "1. 'CD8TD_750K_1'\n",
       "2. 'CD8TD_750K_2'\n",
       "3. 'CD8stem_250K_1'\n",
       "4. 'CD8stem_300K_2'\n",
       "5. 'CD8trans_250K_2'\n",
       "6. 'CD8trans_350K_1'\n",
       "7. 'Tn_250K_1'\n",
       "8. 'Tn_250K_2'\n",
       "\n",
       "\n"
      ],
      "text/plain": [
       "[1] \"CD8TD_750K_1\"    \"CD8TD_750K_2\"    \"CD8stem_250K_1\"  \"CD8stem_300K_2\" \n",
       "[5] \"CD8trans_250K_2\" \"CD8trans_350K_1\" \"Tn_250K_1\"       \"Tn_250K_2\"      "
      ]
     },
     "metadata": {},
     "output_type": "display_data"
    },
    {
     "data": {
      "text/html": [
       "8"
      ],
      "text/latex": [
       "8"
      ],
      "text/markdown": [
       "8"
      ],
      "text/plain": [
       "[1] 8"
      ]
     },
     "metadata": {},
     "output_type": "display_data"
    },
    {
     "data": {
      "text/html": [
       "<style>\n",
       ".list-inline {list-style: none; margin:0; padding: 0}\n",
       ".list-inline>li {display: inline-block}\n",
       ".list-inline>li:not(:last-child)::after {content: \"\\00b7\"; padding: 0 .5ex}\n",
       "</style>\n",
       "<ol class=list-inline><li>'padj'</li><li>'Tpadj_CD8TD.CD8stem'</li><li>'Tpadj_CD8trans.CD8stem'</li><li>'Tpadj_Tn.CD8stem'</li><li>'Tpadj_CD8trans.CD8TD'</li><li>'Tpadj_Tn.CD8TD'</li><li>'Tpadj_Tn.CD8trans'</li></ol>\n"
      ],
      "text/latex": [
       "\\begin{enumerate*}\n",
       "\\item 'padj'\n",
       "\\item 'Tpadj\\_CD8TD.CD8stem'\n",
       "\\item 'Tpadj\\_CD8trans.CD8stem'\n",
       "\\item 'Tpadj\\_Tn.CD8stem'\n",
       "\\item 'Tpadj\\_CD8trans.CD8TD'\n",
       "\\item 'Tpadj\\_Tn.CD8TD'\n",
       "\\item 'Tpadj\\_Tn.CD8trans'\n",
       "\\end{enumerate*}\n"
      ],
      "text/markdown": [
       "1. 'padj'\n",
       "2. 'Tpadj_CD8TD.CD8stem'\n",
       "3. 'Tpadj_CD8trans.CD8stem'\n",
       "4. 'Tpadj_Tn.CD8stem'\n",
       "5. 'Tpadj_CD8trans.CD8TD'\n",
       "6. 'Tpadj_Tn.CD8TD'\n",
       "7. 'Tpadj_Tn.CD8trans'\n",
       "\n",
       "\n"
      ],
      "text/plain": [
       "[1] \"padj\"                   \"Tpadj_CD8TD.CD8stem\"    \"Tpadj_CD8trans.CD8stem\"\n",
       "[4] \"Tpadj_Tn.CD8stem\"       \"Tpadj_CD8trans.CD8TD\"   \"Tpadj_Tn.CD8TD\"        \n",
       "[7] \"Tpadj_Tn.CD8trans\"     "
      ]
     },
     "metadata": {},
     "output_type": "display_data"
    }
   ],
   "source": [
    "sample_names = colnames(feat_df)[grepl('(Tn|CD8stem|CD8TD|CD8trans)\\\\_[0-9]+',colnames(feat_df))]\n",
    "sample_names\n",
    "length(sample_names)\n",
    "padj_columns = colnames(feat_df[grepl('padj',colnames(feat_df))]);padj_columns"
   ]
  },
  {
   "cell_type": "code",
   "execution_count": 15,
   "id": "32f67015",
   "metadata": {
    "tags": []
   },
   "outputs": [
    {
     "data": {
      "text/html": [
       "<style>\n",
       ".list-inline {list-style: none; margin:0; padding: 0}\n",
       ".list-inline>li {display: inline-block}\n",
       ".list-inline>li:not(:last-child)::after {content: \"\\00b7\"; padding: 0 .5ex}\n",
       "</style>\n",
       "<ol class=list-inline><li>'Sample.Type'</li><li>'File.Name'</li><li>'Sample.ID'</li><li>'Sample_ID_upd'</li><li>'cell_number'</li><li>'group'</li><li>'Comment'</li><li>'Path'</li><li>'Instrument.Method'</li><li>'Process.Method'</li><li>'Position'</li><li>'Inj.Vol'</li></ol>\n"
      ],
      "text/latex": [
       "\\begin{enumerate*}\n",
       "\\item 'Sample.Type'\n",
       "\\item 'File.Name'\n",
       "\\item 'Sample.ID'\n",
       "\\item 'Sample\\_ID\\_upd'\n",
       "\\item 'cell\\_number'\n",
       "\\item 'group'\n",
       "\\item 'Comment'\n",
       "\\item 'Path'\n",
       "\\item 'Instrument.Method'\n",
       "\\item 'Process.Method'\n",
       "\\item 'Position'\n",
       "\\item 'Inj.Vol'\n",
       "\\end{enumerate*}\n"
      ],
      "text/markdown": [
       "1. 'Sample.Type'\n",
       "2. 'File.Name'\n",
       "3. 'Sample.ID'\n",
       "4. 'Sample_ID_upd'\n",
       "5. 'cell_number'\n",
       "6. 'group'\n",
       "7. 'Comment'\n",
       "8. 'Path'\n",
       "9. 'Instrument.Method'\n",
       "10. 'Process.Method'\n",
       "11. 'Position'\n",
       "12. 'Inj.Vol'\n",
       "\n",
       "\n"
      ],
      "text/plain": [
       " [1] \"Sample.Type\"       \"File.Name\"         \"Sample.ID\"        \n",
       " [4] \"Sample_ID_upd\"     \"cell_number\"       \"group\"            \n",
       " [7] \"Comment\"           \"Path\"              \"Instrument.Method\"\n",
       "[10] \"Process.Method\"    \"Position\"          \"Inj.Vol\"          "
      ]
     },
     "metadata": {},
     "output_type": "display_data"
    }
   ],
   "source": [
    "colnames(meta_df)"
   ]
  },
  {
   "cell_type": "code",
   "execution_count": 16,
   "id": "8694225b-6167-4d70-86b7-064a4ee6990d",
   "metadata": {
    "tags": []
   },
   "outputs": [],
   "source": [
    "# since the row names are the sample.ID used in data colnames\n",
    "meta_df = meta_df[meta_df$Sample_ID_upd %in% sample_names,]"
   ]
  },
  {
   "cell_type": "markdown",
   "id": "772fb93f",
   "metadata": {},
   "source": [
    "# Filter data"
   ]
  },
  {
   "cell_type": "code",
   "execution_count": 17,
   "id": "7c324e4f",
   "metadata": {},
   "outputs": [],
   "source": [
    "feat_df.filt = feat_df[feat_df$pval < filtered_level & !is.na(feat_df$pval),]"
   ]
  },
  {
   "cell_type": "code",
   "execution_count": 18,
   "id": "f8497981-28b0-4691-9832-6067d994f732",
   "metadata": {
    "tags": []
   },
   "outputs": [
    {
     "data": {
      "text/html": [
       "<style>\n",
       ".list-inline {list-style: none; margin:0; padding: 0}\n",
       ".list-inline>li {display: inline-block}\n",
       ".list-inline>li:not(:last-child)::after {content: \"\\00b7\"; padding: 0 .5ex}\n",
       "</style>\n",
       "<ol class=list-inline><li>6</li><li>51</li></ol>\n"
      ],
      "text/latex": [
       "\\begin{enumerate*}\n",
       "\\item 6\n",
       "\\item 51\n",
       "\\end{enumerate*}\n"
      ],
      "text/markdown": [
       "1. 6\n",
       "2. 51\n",
       "\n",
       "\n"
      ],
      "text/plain": [
       "[1]  6 51"
      ]
     },
     "metadata": {},
     "output_type": "display_data"
    }
   ],
   "source": [
    "dim(feat_df.filt)"
   ]
  },
  {
   "cell_type": "markdown",
   "id": "50431841-66f4-467b-86e2-9371975cbd85",
   "metadata": {},
   "source": [
    "## subset datatable with only data values"
   ]
  },
  {
   "cell_type": "code",
   "execution_count": 19,
   "id": "e2bcceaa-fdba-452d-ab0f-ddbb3c4c8149",
   "metadata": {
    "tags": []
   },
   "outputs": [],
   "source": [
    "feat_df.filt.data = feat_df.filt[sample_names]"
   ]
  },
  {
   "cell_type": "markdown",
   "id": "0f8b0535-f89b-455c-9647-802afdd51a2f",
   "metadata": {},
   "source": [
    "# Plot heatmap wrapper function"
   ]
  },
  {
   "cell_type": "code",
   "execution_count": 20,
   "id": "ff4c9748",
   "metadata": {},
   "outputs": [],
   "source": [
    "feat_df.filt.data.scale <- t(scale(t(feat_df.filt.data)))"
   ]
  },
  {
   "cell_type": "code",
   "execution_count": 21,
   "id": "e55fe7e2",
   "metadata": {},
   "outputs": [
    {
     "data": {
      "text/html": [
       "<style>\n",
       ".list-inline {list-style: none; margin:0; padding: 0}\n",
       ".list-inline>li {display: inline-block}\n",
       ".list-inline>li:not(:last-child)::after {content: \"\\00b7\"; padding: 0 .5ex}\n",
       "</style>\n",
       "<ol class=list-inline><li>-1.63363652753702</li><li>1.76088424588863</li></ol>\n"
      ],
      "text/latex": [
       "\\begin{enumerate*}\n",
       "\\item -1.63363652753702\n",
       "\\item 1.76088424588863\n",
       "\\end{enumerate*}\n"
      ],
      "text/markdown": [
       "1. -1.63363652753702\n",
       "2. 1.76088424588863\n",
       "\n",
       "\n"
      ],
      "text/plain": [
       "[1] -1.633637  1.760884"
      ]
     },
     "metadata": {},
     "output_type": "display_data"
    }
   ],
   "source": [
    "range(feat_df.filt.data.scale, na.rm = TRUE)"
   ]
  },
  {
   "cell_type": "markdown",
   "id": "351ea19c",
   "metadata": {},
   "source": [
    "#### columns and rows annotation"
   ]
  },
  {
   "cell_type": "code",
   "execution_count": 22,
   "id": "ebd3c980-f805-431f-848b-5a1bb76e3ce1",
   "metadata": {},
   "outputs": [
    {
     "data": {
      "text/html": [
       "<style>\n",
       ".list-inline {list-style: none; margin:0; padding: 0}\n",
       ".list-inline>li {display: inline-block}\n",
       ".list-inline>li:not(:last-child)::after {content: \"\\00b7\"; padding: 0 .5ex}\n",
       "</style>\n",
       "<ol class=list-inline><li>'Sample.Type'</li><li>'File.Name'</li><li>'Sample.ID'</li><li>'Sample_ID_upd'</li><li>'cell_number'</li><li>'group'</li><li>'Comment'</li><li>'Path'</li><li>'Instrument.Method'</li><li>'Process.Method'</li><li>'Position'</li><li>'Inj.Vol'</li></ol>\n"
      ],
      "text/latex": [
       "\\begin{enumerate*}\n",
       "\\item 'Sample.Type'\n",
       "\\item 'File.Name'\n",
       "\\item 'Sample.ID'\n",
       "\\item 'Sample\\_ID\\_upd'\n",
       "\\item 'cell\\_number'\n",
       "\\item 'group'\n",
       "\\item 'Comment'\n",
       "\\item 'Path'\n",
       "\\item 'Instrument.Method'\n",
       "\\item 'Process.Method'\n",
       "\\item 'Position'\n",
       "\\item 'Inj.Vol'\n",
       "\\end{enumerate*}\n"
      ],
      "text/markdown": [
       "1. 'Sample.Type'\n",
       "2. 'File.Name'\n",
       "3. 'Sample.ID'\n",
       "4. 'Sample_ID_upd'\n",
       "5. 'cell_number'\n",
       "6. 'group'\n",
       "7. 'Comment'\n",
       "8. 'Path'\n",
       "9. 'Instrument.Method'\n",
       "10. 'Process.Method'\n",
       "11. 'Position'\n",
       "12. 'Inj.Vol'\n",
       "\n",
       "\n"
      ],
      "text/plain": [
       " [1] \"Sample.Type\"       \"File.Name\"         \"Sample.ID\"        \n",
       " [4] \"Sample_ID_upd\"     \"cell_number\"       \"group\"            \n",
       " [7] \"Comment\"           \"Path\"              \"Instrument.Method\"\n",
       "[10] \"Process.Method\"    \"Position\"          \"Inj.Vol\"          "
      ]
     },
     "metadata": {},
     "output_type": "display_data"
    }
   ],
   "source": [
    "colnames(meta_df)"
   ]
  },
  {
   "cell_type": "code",
   "execution_count": 23,
   "id": "83187dd9-9b4b-4595-b31f-0add186738bc",
   "metadata": {
    "tags": []
   },
   "outputs": [
    {
     "data": {
      "text/html": [
       "<style>\n",
       ".list-inline {list-style: none; margin:0; padding: 0}\n",
       ".list-inline>li {display: inline-block}\n",
       ".list-inline>li:not(:last-child)::after {content: \"\\00b7\"; padding: 0 .5ex}\n",
       "</style>\n",
       "<ol class=list-inline><li>'Tn'</li><li>'CD8stem'</li><li>'CD8trans'</li><li>'CD8TD'</li></ol>\n"
      ],
      "text/latex": [
       "\\begin{enumerate*}\n",
       "\\item 'Tn'\n",
       "\\item 'CD8stem'\n",
       "\\item 'CD8trans'\n",
       "\\item 'CD8TD'\n",
       "\\end{enumerate*}\n"
      ],
      "text/markdown": [
       "1. 'Tn'\n",
       "2. 'CD8stem'\n",
       "3. 'CD8trans'\n",
       "4. 'CD8TD'\n",
       "\n",
       "\n"
      ],
      "text/plain": [
       "[1] \"Tn\"       \"CD8stem\"  \"CD8trans\" \"CD8TD\"   "
      ]
     },
     "metadata": {},
     "output_type": "display_data"
    }
   ],
   "source": [
    "unique(meta_df$group)"
   ]
  },
  {
   "cell_type": "markdown",
   "id": "a11149ef-4a70-433d-ae51-8b1402a5e022",
   "metadata": {},
   "source": [
    "## Since the metadata is not exclusively the data "
   ]
  },
  {
   "cell_type": "code",
   "execution_count": 24,
   "id": "5cb9e3a5-ecc1-4587-8544-61318449c121",
   "metadata": {
    "tags": []
   },
   "outputs": [],
   "source": [
    "rownames(meta_df) = meta_df$Sample_ID_upd"
   ]
  },
  {
   "cell_type": "code",
   "execution_count": 25,
   "id": "7b0b9d69-80da-41fa-b02f-031206006be9",
   "metadata": {},
   "outputs": [],
   "source": [
    "# since the row names are the sample.ID used in data colnames\n",
    "meta_df = meta_df[sample_names,]"
   ]
  },
  {
   "cell_type": "code",
   "execution_count": 26,
   "id": "daee90e8-36a9-4ccb-ac92-61a85baa1f31",
   "metadata": {
    "tags": []
   },
   "outputs": [],
   "source": [
    "assign_values4annot <- function(df = feat_df.filt.data.scale, \n",
    "                                meta_column_name = 'group') {  \n",
    "    Var_vec = colnames(df)\n",
    "    for (factor_level in unique(meta_df[,meta_column_name])) {\n",
    "        Var_vec[Var_vec %in% \n",
    "                 rownames(meta_df[meta_df[,meta_column_name] == factor_level,])] = factor_level\n",
    "        }\n",
    "    return(Var_vec)\n",
    "}"
   ]
  },
  {
   "cell_type": "code",
   "execution_count": 27,
   "id": "24524412-3c8e-4f74-9308-6b9a86b1430c",
   "metadata": {
    "tags": []
   },
   "outputs": [],
   "source": [
    "Var1_vec = assign_values4annot(feat_df.filt.data.scale, 'group')"
   ]
  },
  {
   "cell_type": "code",
   "execution_count": 28,
   "id": "b92c6c1f",
   "metadata": {},
   "outputs": [],
   "source": [
    "annotation_col = data.frame(group = Var1_vec)\n",
    "rownames(annotation_col) = colnames(feat_df.filt.data.scale)                            \n",
    "\n",
    "# annotation_col = data.frame(illness_duration = Var1_vec, \n",
    "#                             gender = Var2_vec, \n",
    "#                             age = Var3_vec)\n",
    "# rownames(annotation_col) = colnames(feat_df.filt.data.scale)"
   ]
  },
  {
   "cell_type": "code",
   "execution_count": 29,
   "id": "af8a1798-4d47-4f46-8077-0a1466a03fb4",
   "metadata": {},
   "outputs": [],
   "source": [
    "# since age is continuous measure (integers), needs to convert to integers\n",
    "# annotation_col$age = as.integer(annotation_col$age)"
   ]
  },
  {
   "cell_type": "code",
   "execution_count": 30,
   "id": "11d4baa7",
   "metadata": {
    "tags": []
   },
   "outputs": [
    {
     "data": {
      "text/html": [
       "<style>\n",
       ".list-inline {list-style: none; margin:0; padding: 0}\n",
       ".list-inline>li {display: inline-block}\n",
       ".list-inline>li:not(:last-child)::after {content: \"\\00b7\"; padding: 0 .5ex}\n",
       "</style>\n",
       "<ol class=list-inline><li>'CD8TD'</li><li>'CD8TD'</li><li>'CD8stem'</li><li>'CD8stem'</li><li>'CD8trans'</li><li>'CD8trans'</li><li>'Tn'</li><li>'Tn'</li></ol>\n"
      ],
      "text/latex": [
       "\\begin{enumerate*}\n",
       "\\item 'CD8TD'\n",
       "\\item 'CD8TD'\n",
       "\\item 'CD8stem'\n",
       "\\item 'CD8stem'\n",
       "\\item 'CD8trans'\n",
       "\\item 'CD8trans'\n",
       "\\item 'Tn'\n",
       "\\item 'Tn'\n",
       "\\end{enumerate*}\n"
      ],
      "text/markdown": [
       "1. 'CD8TD'\n",
       "2. 'CD8TD'\n",
       "3. 'CD8stem'\n",
       "4. 'CD8stem'\n",
       "5. 'CD8trans'\n",
       "6. 'CD8trans'\n",
       "7. 'Tn'\n",
       "8. 'Tn'\n",
       "\n",
       "\n"
      ],
      "text/plain": [
       "[1] \"CD8TD\"    \"CD8TD\"    \"CD8stem\"  \"CD8stem\"  \"CD8trans\" \"CD8trans\" \"Tn\"      \n",
       "[8] \"Tn\"      "
      ]
     },
     "metadata": {},
     "output_type": "display_data"
    }
   ],
   "source": [
    "annotation_col$group"
   ]
  },
  {
   "cell_type": "markdown",
   "id": "e5516950-2b55-4173-bdcf-895777990efc",
   "metadata": {},
   "source": [
    "#### Annotation of rows (here don't have these)"
   ]
  },
  {
   "cell_type": "code",
   "execution_count": 31,
   "id": "45935191-d55e-4086-9f87-02960f6c12aa",
   "metadata": {},
   "outputs": [],
   "source": [
    "# panel_vec = sapply(strsplit(rownames(feat_df.filt.data.scale),\"_\",1),function(x)x[1])\n",
    "# annotation_row = data.frame(panel = panel_vec) \n",
    "# rownames(annotation_row) = rownames(feat_df.filt.data.scale)"
   ]
  },
  {
   "cell_type": "markdown",
   "id": "43884a5d-fcc7-41bc-af18-afbfe45764cf",
   "metadata": {},
   "source": [
    "## Assign colors"
   ]
  },
  {
   "cell_type": "code",
   "execution_count": 32,
   "id": "95e4fe04",
   "metadata": {
    "tags": []
   },
   "outputs": [],
   "source": [
    "group = c(\"#888888\",\"#0000ff\",\"#FFA500\",\"#ff0000\")\n",
    "names(group) = c(\"Tn\",\"CD8stem\",\"CD8trans\",\"CD8TD\")\n",
    "\n",
    "# gender = c(\"#FF7A33\", \"#33D7FF\")\n",
    "# names(gender) = c(\"Female\",\"Male\")"
   ]
  },
  {
   "cell_type": "code",
   "execution_count": 33,
   "id": "4a8c3274",
   "metadata": {
    "tags": []
   },
   "outputs": [],
   "source": [
    "ann_colors = list(group = group)\n",
    "# ann_colors = list(illness_duration = illness_duration, \n",
    "#                   gender = gender,\n",
    "#                   age = age\n",
    "#                  )"
   ]
  },
  {
   "cell_type": "code",
   "execution_count": 34,
   "id": "24bfb53e-72bf-4364-8829-7c6914f91162",
   "metadata": {},
   "outputs": [
    {
     "data": {
      "text/html": [
       "<style>\n",
       ".list-inline {list-style: none; margin:0; padding: 0}\n",
       ".list-inline>li {display: inline-block}\n",
       ".list-inline>li:not(:last-child)::after {content: \"\\00b7\"; padding: 0 .5ex}\n",
       "</style>\n",
       "<ol class=list-inline><li>-1.63363652753702</li><li>1.76088424588863</li></ol>\n"
      ],
      "text/latex": [
       "\\begin{enumerate*}\n",
       "\\item -1.63363652753702\n",
       "\\item 1.76088424588863\n",
       "\\end{enumerate*}\n"
      ],
      "text/markdown": [
       "1. -1.63363652753702\n",
       "2. 1.76088424588863\n",
       "\n",
       "\n"
      ],
      "text/plain": [
       "[1] -1.633637  1.760884"
      ]
     },
     "metadata": {},
     "output_type": "display_data"
    }
   ],
   "source": [
    "range(feat_df.filt.data.scale) #check the range of z_transformed"
   ]
  },
  {
   "cell_type": "code",
   "execution_count": 35,
   "id": "935be085-437a-4738-8bb9-a151d6bf6de3",
   "metadata": {},
   "outputs": [],
   "source": [
    "feat_df.filt.data.scale[feat_df.filt.data.scale < -2] = -2.1\n",
    "feat_df.filt.data.scale[feat_df.filt.data.scale > 2] = 2.1"
   ]
  },
  {
   "cell_type": "code",
   "execution_count": 36,
   "id": "0eb3dcec-ef82-40f3-992f-90d2c4e05b96",
   "metadata": {
    "tags": []
   },
   "outputs": [
    {
     "data": {
      "text/html": [
       "<style>\n",
       ".list-inline {list-style: none; margin:0; padding: 0}\n",
       ".list-inline>li {display: inline-block}\n",
       ".list-inline>li:not(:last-child)::after {content: \"\\00b7\"; padding: 0 .5ex}\n",
       "</style>\n",
       "<ol class=list-inline><li>-1.63363652753702</li><li>1.76088424588863</li></ol>\n"
      ],
      "text/latex": [
       "\\begin{enumerate*}\n",
       "\\item -1.63363652753702\n",
       "\\item 1.76088424588863\n",
       "\\end{enumerate*}\n"
      ],
      "text/markdown": [
       "1. -1.63363652753702\n",
       "2. 1.76088424588863\n",
       "\n",
       "\n"
      ],
      "text/plain": [
       "[1] -1.633637  1.760884"
      ]
     },
     "metadata": {},
     "output_type": "display_data"
    }
   ],
   "source": [
    "range(feat_df.filt.data.scale) #check the range of z_transformed"
   ]
  },
  {
   "cell_type": "code",
   "execution_count": 37,
   "id": "41b0c154-4313-402a-b493-b071db0a1370",
   "metadata": {
    "tags": []
   },
   "outputs": [],
   "source": [
    "breaksList = seq(range(feat_df.filt.data.scale)[1],\n",
    "                 range(feat_df.filt.data.scale)[2],\n",
    "                 length.out = 100) \n",
    "\n",
    "quantile_breaks <- function(xs, n = 100) {\n",
    "  breaks <- quantile(xs, probs = seq(0, 1, length.out = n))\n",
    "  breaks[!duplicated(breaks)]\n",
    "}\n",
    "\n",
    "mat_breaks <- quantile_breaks(feat_df.filt.data.scale, n = 101)\n",
    "cell_colors <- colorRampPalette(rev(brewer.pal(n = 9, name = \"RdBu\")))(length(mat_breaks))"
   ]
  },
  {
   "cell_type": "code",
   "execution_count": 38,
   "id": "4cd5bbfa",
   "metadata": {
    "scrolled": true
   },
   "outputs": [],
   "source": [
    "# options(repr.plot.width=30, repr.plot.height=30, res=300)\n",
    "# pheatmap(feat_df.filt.data.NA.scale.rplNAmin, cluster_rows = TRUE, show_rownames = TRUE, cluster_cols = TRUE, \n",
    "#          annotation_col = annotation_col, annotation_row = annotation_row, clustering_method = \"complete\", \n",
    "#          cellwidth = 5,cellheight = 10, annotation_colors = ann_colors,\n",
    "#          color = cell_colors)"
   ]
  },
  {
   "cell_type": "code",
   "execution_count": 39,
   "id": "99b07db1-f6eb-4956-bdac-449c28c2a28c",
   "metadata": {
    "tags": []
   },
   "outputs": [
    {
     "data": {
      "text/html": [
       "<strong>$group</strong> = <style>\n",
       ".dl-inline {width: auto; margin:0; padding: 0}\n",
       ".dl-inline>dt, .dl-inline>dd {float: none; width: auto; display: inline-block}\n",
       ".dl-inline>dt::after {content: \":\\0020\"; padding-right: .5ex}\n",
       ".dl-inline>dt:not(:first-of-type) {padding-left: .5ex}\n",
       "</style><dl class=dl-inline><dt>Tn</dt><dd>'#888888'</dd><dt>CD8stem</dt><dd>'#0000ff'</dd><dt>CD8trans</dt><dd>'#FFA500'</dd><dt>CD8TD</dt><dd>'#ff0000'</dd></dl>\n"
      ],
      "text/latex": [
       "\\textbf{\\$group} = \\begin{description*}\n",
       "\\item[Tn] '\\#888888'\n",
       "\\item[CD8stem] '\\#0000ff'\n",
       "\\item[CD8trans] '\\#FFA500'\n",
       "\\item[CD8TD] '\\#ff0000'\n",
       "\\end{description*}\n"
      ],
      "text/markdown": [
       "**$group** = Tn\n",
       ":   '#888888'CD8stem\n",
       ":   '#0000ff'CD8trans\n",
       ":   '#FFA500'CD8TD\n",
       ":   '#ff0000'\n",
       "\n"
      ],
      "text/plain": [
       "$group\n",
       "       Tn   CD8stem  CD8trans     CD8TD \n",
       "\"#888888\" \"#0000ff\" \"#FFA500\" \"#ff0000\" \n"
      ]
     },
     "metadata": {},
     "output_type": "display_data"
    }
   ],
   "source": [
    "ann_colors"
   ]
  },
  {
   "cell_type": "code",
   "execution_count": 40,
   "id": "b23ef7ad",
   "metadata": {
    "scrolled": true,
    "tags": []
   },
   "outputs": [
    {
     "data": {
      "application/pdf": "[encoded data removed]",
      "image/jpeg": "[encoded data removed]",
      "image/png": "[encoded data removed]",
      "image/svg+xml": [
       "<?xml version=\"1.0\" encoding=\"UTF-8\"?>\n",
       "<svg xmlns=\"http://www.w3.org/2000/svg\" xmlns:xlink=\"http://www.w3.org/1999/xlink\" width=\"1080pt\" height=\"1080pt\" viewBox=\"0 0 1080 1080\" version=\"1.1\">\n",
       "<defs>\n",
       "<g>\n",
       "<symbol overflow=\"visible\" id=\"glyph0-0\">\n",
       "<path style=\"stroke:none;\" d=\"M 0 0.328125 L 6.671875 0.328125 L 6.671875 2.984375 L 0 2.984375 Z M 0.328125 0.671875 L 0.328125 2.65625 L 6.328125 2.65625 L 6.328125 0.671875 Z M 0.328125 0.671875 \"/>\n",
       "</symbol>\n",
       "<symbol overflow=\"visible\" id=\"glyph0-1\">\n",
       "<path style=\"stroke:none;\" d=\"M 6.21875 3.875 C 6.21875 3.476562 6.148438 3.128906 6.015625 2.828125 C 5.890625 2.523438 5.707031 2.269531 5.46875 2.0625 C 5.226562 1.863281 4.9375 1.710938 4.59375 1.609375 C 4.257812 1.503906 3.882812 1.453125 3.46875 1.453125 C 3.0625 1.453125 2.6875 1.507812 2.34375 1.625 C 2 1.738281 1.703125 1.898438 1.453125 2.109375 C 1.203125 2.316406 1.007812 2.570312 0.875 2.875 C 0.738281 3.175781 0.671875 3.519531 0.671875 3.90625 C 0.671875 4.175781 0.703125 4.421875 0.765625 4.640625 C 0.835938 4.859375 0.9375 5.054688 1.0625 5.234375 C 1.195312 5.410156 1.347656 5.566406 1.515625 5.703125 C 1.691406 5.847656 1.882812 5.972656 2.09375 6.078125 L 1.71875 6.84375 C 1.457031 6.71875 1.21875 6.5625 1 6.375 C 0.78125 6.195312 0.585938 5.984375 0.421875 5.734375 C 0.265625 5.492188 0.140625 5.21875 0.046875 4.90625 C -0.046875 4.59375 -0.09375 4.242188 -0.09375 3.859375 C -0.09375 3.304688 -0.00390625 2.816406 0.171875 2.390625 C 0.347656 1.972656 0.59375 1.625 0.90625 1.34375 C 1.226562 1.0625 1.609375 0.851562 2.046875 0.71875 C 2.484375 0.582031 2.957031 0.515625 3.46875 0.515625 C 4.007812 0.515625 4.492188 0.585938 4.921875 0.734375 C 5.359375 0.878906 5.726562 1.09375 6.03125 1.375 C 6.332031 1.664062 6.566406 2.019531 6.734375 2.4375 C 6.898438 2.851562 6.984375 3.328125 6.984375 3.859375 C 6.984375 4.585938 6.835938 5.195312 6.546875 5.6875 C 6.265625 6.1875 5.84375 6.550781 5.28125 6.78125 L 4.984375 5.890625 C 5.148438 5.828125 5.304688 5.738281 5.453125 5.625 C 5.597656 5.519531 5.726562 5.382812 5.84375 5.21875 C 5.957031 5.050781 6.046875 4.851562 6.109375 4.625 C 6.179688 4.40625 6.21875 4.15625 6.21875 3.875 Z M 6.21875 3.875 \"/>\n",
       "</symbol>\n",
       "<symbol overflow=\"visible\" id=\"glyph0-2\">\n",
       "<path style=\"stroke:none;\" d=\"M 3.515625 6.75 C 2.941406 6.75 2.4375 6.660156 2 6.484375 C 1.5625 6.304688 1.191406 6.066406 0.890625 5.765625 C 0.597656 5.472656 0.375 5.125 0.21875 4.71875 C 0.0703125 4.3125 0 3.867188 0 3.390625 L 0 0.828125 L 6.875 0.828125 L 6.875 3.09375 C 6.875 3.625 6.804688 4.113281 6.671875 4.5625 C 6.546875 5.007812 6.34375 5.394531 6.0625 5.71875 C 5.789062 6.039062 5.441406 6.289062 5.015625 6.46875 C 4.597656 6.65625 4.097656 6.75 3.515625 6.75 Z M 3.515625 5.8125 C 3.972656 5.8125 4.367188 5.742188 4.703125 5.609375 C 5.035156 5.472656 5.304688 5.285156 5.515625 5.046875 C 5.722656 4.804688 5.878906 4.515625 5.984375 4.171875 C 6.085938 3.835938 6.140625 3.472656 6.140625 3.078125 L 6.140625 1.75 L 0.75 1.75 L 0.75 3.28125 C 0.75 3.644531 0.804688 3.976562 0.921875 4.28125 C 1.035156 4.59375 1.207031 4.859375 1.4375 5.078125 C 1.675781 5.304688 1.96875 5.484375 2.3125 5.609375 C 2.65625 5.742188 3.054688 5.8125 3.515625 5.8125 Z M 3.515625 5.8125 \"/>\n",
       "</symbol>\n",
       "<symbol overflow=\"visible\" id=\"glyph0-3\">\n",
       "<path style=\"stroke:none;\" d=\"M 1.921875 5.125 C 1.628906 5.125 1.359375 5.078125 1.109375 4.984375 C 0.867188 4.890625 0.65625 4.75 0.46875 4.5625 C 0.289062 4.375 0.148438 4.128906 0.046875 3.828125 C -0.046875 3.535156 -0.09375 3.1875 -0.09375 2.78125 C -0.09375 2.375 -0.046875 2.023438 0.046875 1.734375 C 0.148438 1.441406 0.289062 1.195312 0.46875 1 C 0.644531 0.8125 0.851562 0.671875 1.09375 0.578125 C 1.34375 0.484375 1.613281 0.4375 1.90625 0.4375 C 2.15625 0.4375 2.378906 0.472656 2.578125 0.546875 C 2.773438 0.628906 2.941406 0.734375 3.078125 0.859375 C 3.222656 0.984375 3.335938 1.128906 3.421875 1.296875 C 3.515625 1.460938 3.570312 1.632812 3.59375 1.8125 L 3.625 1.8125 C 3.664062 1.613281 3.734375 1.4375 3.828125 1.28125 C 3.929688 1.132812 4.054688 1.007812 4.203125 0.90625 C 4.347656 0.800781 4.503906 0.722656 4.671875 0.671875 C 4.847656 0.617188 5.03125 0.59375 5.21875 0.59375 C 5.457031 0.59375 5.679688 0.640625 5.890625 0.734375 C 6.109375 0.828125 6.296875 0.960938 6.453125 1.140625 C 6.617188 1.328125 6.75 1.554688 6.84375 1.828125 C 6.9375 2.097656 6.984375 2.410156 6.984375 2.765625 C 6.984375 3.140625 6.9375 3.460938 6.84375 3.734375 C 6.75 4.015625 6.617188 4.242188 6.453125 4.421875 C 6.296875 4.597656 6.109375 4.726562 5.890625 4.8125 C 5.679688 4.90625 5.453125 4.953125 5.203125 4.953125 C 5.015625 4.953125 4.832031 4.925781 4.65625 4.875 C 4.488281 4.820312 4.332031 4.742188 4.1875 4.640625 C 4.050781 4.535156 3.929688 4.40625 3.828125 4.25 C 3.734375 4.101562 3.664062 3.929688 3.625 3.734375 L 3.609375 3.734375 C 3.578125 3.929688 3.515625 4.113281 3.421875 4.28125 C 3.335938 4.457031 3.222656 4.601562 3.078125 4.71875 C 2.941406 4.84375 2.773438 4.941406 2.578125 5.015625 C 2.390625 5.085938 2.171875 5.125 1.921875 5.125 Z M 5.15625 4.046875 C 5.332031 4.046875 5.488281 4.019531 5.625 3.96875 C 5.769531 3.925781 5.894531 3.851562 6 3.75 C 6.101562 3.65625 6.179688 3.523438 6.234375 3.359375 C 6.296875 3.203125 6.328125 3.003906 6.328125 2.765625 C 6.328125 2.535156 6.296875 2.335938 6.234375 2.171875 C 6.179688 2.015625 6.101562 1.882812 6 1.78125 C 5.894531 1.675781 5.769531 1.601562 5.625 1.5625 C 5.488281 1.519531 5.332031 1.5 5.15625 1.5 C 5.019531 1.5 4.878906 1.515625 4.734375 1.546875 C 4.597656 1.585938 4.46875 1.65625 4.34375 1.75 C 4.226562 1.84375 4.132812 1.972656 4.0625 2.140625 C 3.988281 2.304688 3.953125 2.519531 3.953125 2.78125 C 3.953125 3.050781 3.988281 3.269531 4.0625 3.4375 C 4.132812 3.601562 4.226562 3.726562 4.34375 3.8125 C 4.46875 3.90625 4.597656 3.96875 4.734375 4 C 4.878906 4.03125 5.019531 4.046875 5.15625 4.046875 Z M 2 4.21875 C 2.164062 4.21875 2.328125 4.191406 2.484375 4.140625 C 2.640625 4.097656 2.773438 4.019531 2.890625 3.90625 C 3.015625 3.800781 3.113281 3.65625 3.1875 3.46875 C 3.257812 3.28125 3.296875 3.046875 3.296875 2.765625 C 3.296875 2.503906 3.257812 2.285156 3.1875 2.109375 C 3.113281 1.929688 3.015625 1.785156 2.890625 1.671875 C 2.765625 1.554688 2.625 1.472656 2.46875 1.421875 C 2.3125 1.367188 2.148438 1.34375 1.984375 1.34375 C 1.773438 1.34375 1.582031 1.367188 1.40625 1.421875 C 1.226562 1.472656 1.078125 1.554688 0.953125 1.671875 C 0.828125 1.785156 0.726562 1.929688 0.65625 2.109375 C 0.59375 2.296875 0.5625 2.523438 0.5625 2.796875 C 0.5625 3.054688 0.59375 3.273438 0.65625 3.453125 C 0.726562 3.640625 0.828125 3.789062 0.953125 3.90625 C 1.078125 4.019531 1.226562 4.097656 1.40625 4.140625 C 1.582031 4.191406 1.78125 4.21875 2 4.21875 Z M 2 4.21875 \"/>\n",
       "</symbol>\n",
       "<symbol overflow=\"visible\" id=\"glyph0-4\">\n",
       "<path style=\"stroke:none;\" d=\"M 6.125 3.515625 L 0 3.515625 L 0 2.59375 L 6.125 2.59375 L 6.125 0.21875 L 6.875 0.21875 L 6.875 5.875 L 6.125 5.875 Z M 6.125 3.515625 \"/>\n",
       "</symbol>\n",
       "<symbol overflow=\"visible\" id=\"glyph0-5\">\n",
       "<path style=\"stroke:none;\" d=\"M -1.984375 -0.15625 L -1.359375 -0.15625 L -1.359375 5.671875 L -1.984375 5.671875 Z M -1.984375 -0.15625 \"/>\n",
       "</symbol>\n",
       "<symbol overflow=\"visible\" id=\"glyph0-6\">\n",
       "<path style=\"stroke:none;\" d=\"M 6.171875 5.0625 C 5.640625 4.71875 5.128906 4.398438 4.640625 4.109375 C 4.160156 3.816406 3.671875 3.566406 3.171875 3.359375 C 2.679688 3.148438 2.175781 2.988281 1.65625 2.875 C 1.132812 2.757812 0.582031 2.703125 0 2.703125 L 0 1.78125 C 0.550781 1.78125 1.085938 1.84375 1.609375 1.96875 C 2.140625 2.101562 2.660156 2.28125 3.171875 2.5 C 3.679688 2.726562 4.179688 2.988281 4.671875 3.28125 C 5.171875 3.570312 5.660156 3.878906 6.140625 4.203125 L 6.140625 0.515625 L 6.875 0.515625 L 6.875 5.0625 Z M 6.171875 5.0625 \"/>\n",
       "</symbol>\n",
       "<symbol overflow=\"visible\" id=\"glyph0-7\">\n",
       "<path style=\"stroke:none;\" d=\"M 2.234375 5.140625 C 1.890625 5.140625 1.570312 5.085938 1.28125 4.984375 C 1 4.878906 0.753906 4.722656 0.546875 4.515625 C 0.347656 4.316406 0.191406 4.0625 0.078125 3.75 C -0.0351562 3.445312 -0.09375 3.097656 -0.09375 2.703125 C -0.09375 2.335938 -0.0507812 2.019531 0.03125 1.75 C 0.113281 1.488281 0.226562 1.265625 0.375 1.078125 C 0.519531 0.890625 0.691406 0.738281 0.890625 0.625 C 1.097656 0.519531 1.3125 0.445312 1.53125 0.40625 L 1.640625 1.296875 C 1.515625 1.328125 1.390625 1.375 1.265625 1.4375 C 1.140625 1.5 1.03125 1.585938 0.9375 1.703125 C 0.84375 1.816406 0.765625 1.957031 0.703125 2.125 C 0.648438 2.289062 0.625 2.488281 0.625 2.71875 C 0.625 2.945312 0.65625 3.15625 0.71875 3.34375 C 0.789062 3.53125 0.894531 3.6875 1.03125 3.8125 C 1.164062 3.945312 1.332031 4.050781 1.53125 4.125 C 1.738281 4.195312 1.96875 4.234375 2.21875 4.234375 C 2.4375 4.234375 2.632812 4.195312 2.8125 4.125 C 2.988281 4.0625 3.140625 3.960938 3.265625 3.828125 C 3.390625 3.703125 3.488281 3.546875 3.5625 3.359375 C 3.632812 3.179688 3.671875 2.972656 3.671875 2.734375 C 3.671875 2.585938 3.65625 2.453125 3.625 2.328125 C 3.601562 2.210938 3.566406 2.097656 3.515625 1.984375 C 3.472656 1.878906 3.421875 1.785156 3.359375 1.703125 C 3.304688 1.617188 3.242188 1.535156 3.171875 1.453125 L 3.171875 0.59375 L 6.875 0.828125 L 6.875 4.734375 L 6.140625 4.734375 L 6.140625 1.625 L 3.953125 1.5 C 4.066406 1.65625 4.164062 1.847656 4.25 2.078125 C 4.34375 2.316406 4.390625 2.597656 4.390625 2.921875 C 4.390625 3.265625 4.335938 3.570312 4.234375 3.84375 C 4.128906 4.113281 3.976562 4.34375 3.78125 4.53125 C 3.59375 4.726562 3.367188 4.878906 3.109375 4.984375 C 2.847656 5.085938 2.554688 5.140625 2.234375 5.140625 Z M 2.234375 5.140625 \"/>\n",
       "</symbol>\n",
       "<symbol overflow=\"visible\" id=\"glyph0-8\">\n",
       "<path style=\"stroke:none;\" d=\"M 3.4375 5.171875 C 2.78125 5.171875 2.222656 5.109375 1.765625 4.984375 C 1.316406 4.859375 0.953125 4.6875 0.671875 4.46875 C 0.398438 4.25 0.203125 3.992188 0.078125 3.703125 C -0.0351562 3.410156 -0.09375 3.097656 -0.09375 2.765625 C -0.09375 2.429688 -0.0351562 2.117188 0.078125 1.828125 C 0.203125 1.535156 0.398438 1.28125 0.671875 1.0625 C 0.953125 0.851562 1.316406 0.6875 1.765625 0.5625 C 2.222656 0.445312 2.78125 0.390625 3.4375 0.390625 C 4.132812 0.390625 4.707031 0.445312 5.15625 0.5625 C 5.613281 0.6875 5.976562 0.859375 6.25 1.078125 C 6.519531 1.296875 6.707031 1.550781 6.8125 1.84375 C 6.925781 2.132812 6.984375 2.453125 6.984375 2.796875 C 6.984375 3.128906 6.925781 3.4375 6.8125 3.71875 C 6.707031 4.007812 6.519531 4.257812 6.25 4.46875 C 5.976562 4.6875 5.613281 4.859375 5.15625 4.984375 C 4.707031 5.109375 4.132812 5.171875 3.4375 5.171875 Z M 3.4375 4.28125 C 3.988281 4.28125 4.445312 4.242188 4.8125 4.171875 C 5.175781 4.109375 5.460938 4.015625 5.671875 3.890625 C 5.890625 3.765625 6.039062 3.609375 6.125 3.421875 C 6.21875 3.242188 6.265625 3.035156 6.265625 2.796875 C 6.265625 2.546875 6.21875 2.328125 6.125 2.140625 C 6.039062 1.953125 5.890625 1.789062 5.671875 1.65625 C 5.453125 1.53125 5.160156 1.4375 4.796875 1.375 C 4.441406 1.3125 3.988281 1.28125 3.4375 1.28125 C 2.914062 1.28125 2.472656 1.3125 2.109375 1.375 C 1.742188 1.445312 1.453125 1.546875 1.234375 1.671875 C 1.015625 1.796875 0.859375 1.953125 0.765625 2.140625 C 0.671875 2.328125 0.625 2.539062 0.625 2.78125 C 0.625 3.007812 0.671875 3.21875 0.765625 3.40625 C 0.859375 3.59375 1.015625 3.75 1.234375 3.875 C 1.453125 4 1.742188 4.097656 2.109375 4.171875 C 2.472656 4.242188 2.914062 4.28125 3.4375 4.28125 Z M 3.4375 4.28125 \"/>\n",
       "</symbol>\n",
       "<symbol overflow=\"visible\" id=\"glyph0-9\">\n",
       "<path style=\"stroke:none;\" d=\"M 0 5.40625 L 3.328125 2.65625 L 2.640625 1.75 L 0 1.75 L 0 0.828125 L 6.875 0.828125 L 6.875 1.75 L 3.4375 1.75 L 6.875 5.0625 L 6.875 6.171875 L 3.890625 3.234375 L 0 6.5625 Z M 0 5.40625 \"/>\n",
       "</symbol>\n",
       "<symbol overflow=\"visible\" id=\"glyph0-10\">\n",
       "<path style=\"stroke:none;\" d=\"M 0 0.765625 L 0.75 0.765625 L 0.75 2.515625 L 6.046875 2.515625 L 4.9375 0.96875 L 5.765625 0.96875 L 6.875 2.59375 L 6.875 3.40625 L 0.75 3.40625 L 0.75 5.078125 L 0 5.078125 Z M 0 0.765625 \"/>\n",
       "</symbol>\n",
       "<symbol overflow=\"visible\" id=\"glyph0-11\">\n",
       "<path style=\"stroke:none;\" d=\"M 0 0.5 L 0.625 0.5 C 1 0.664062 1.332031 0.867188 1.625 1.109375 C 1.914062 1.347656 2.179688 1.597656 2.421875 1.859375 C 2.660156 2.128906 2.878906 2.390625 3.078125 2.640625 C 3.273438 2.898438 3.472656 3.132812 3.671875 3.34375 C 3.878906 3.550781 4.09375 3.71875 4.3125 3.84375 C 4.539062 3.976562 4.789062 4.046875 5.0625 4.046875 C 5.257812 4.046875 5.429688 4.015625 5.578125 3.953125 C 5.734375 3.898438 5.859375 3.816406 5.953125 3.703125 C 6.054688 3.597656 6.132812 3.46875 6.1875 3.3125 C 6.238281 3.15625 6.265625 2.984375 6.265625 2.796875 C 6.265625 2.617188 6.238281 2.453125 6.1875 2.296875 C 6.132812 2.140625 6.0625 2 5.96875 1.875 C 5.875 1.757812 5.753906 1.660156 5.609375 1.578125 C 5.460938 1.503906 5.289062 1.457031 5.09375 1.4375 L 5.1875 0.546875 C 5.425781 0.578125 5.65625 0.644531 5.875 0.75 C 6.09375 0.851562 6.285156 1 6.453125 1.1875 C 6.617188 1.375 6.75 1.597656 6.84375 1.859375 C 6.9375 2.128906 6.984375 2.441406 6.984375 2.796875 C 6.984375 3.140625 6.941406 3.441406 6.859375 3.703125 C 6.773438 3.972656 6.65625 4.195312 6.5 4.375 C 6.34375 4.5625 6.144531 4.703125 5.90625 4.796875 C 5.675781 4.898438 5.40625 4.953125 5.09375 4.953125 C 4.863281 4.953125 4.644531 4.910156 4.4375 4.828125 C 4.226562 4.742188 4.03125 4.628906 3.84375 4.484375 C 3.65625 4.347656 3.472656 4.1875 3.296875 4 C 3.117188 3.820312 2.945312 3.632812 2.78125 3.4375 C 2.613281 3.238281 2.445312 3.039062 2.28125 2.84375 C 2.113281 2.644531 1.945312 2.453125 1.78125 2.265625 C 1.613281 2.085938 1.445312 1.929688 1.28125 1.796875 C 1.113281 1.660156 0.9375 1.550781 0.75 1.46875 L 0.75 5.0625 L 0 5.0625 Z M 0 0.5 \"/>\n",
       "</symbol>\n",
       "<symbol overflow=\"visible\" id=\"glyph0-12\">\n",
       "<path style=\"stroke:none;\" d=\"M 0 4.03125 L 3.34375 4.03125 C 3.601562 4.03125 3.816406 4.007812 3.984375 3.96875 C 4.160156 3.9375 4.300781 3.875 4.40625 3.78125 C 4.519531 3.695312 4.597656 3.585938 4.640625 3.453125 C 4.679688 3.316406 4.703125 3.144531 4.703125 2.9375 C 4.703125 2.726562 4.664062 2.539062 4.59375 2.375 C 4.519531 2.207031 4.410156 2.0625 4.265625 1.9375 C 4.128906 1.820312 3.957031 1.734375 3.75 1.671875 C 3.550781 1.609375 3.320312 1.578125 3.0625 1.578125 L 0 1.578125 L 0 0.6875 L 4.15625 0.6875 C 4.269531 0.6875 4.382812 0.6875 4.5 0.6875 C 4.625 0.6875 4.738281 0.679688 4.84375 0.671875 C 4.957031 0.671875 5.050781 0.671875 5.125 0.671875 C 5.207031 0.671875 5.257812 0.671875 5.28125 0.671875 L 5.28125 1.5 C 5.269531 1.5 5.226562 1.5 5.15625 1.5 C 5.082031 1.507812 5 1.515625 4.90625 1.515625 C 4.8125 1.523438 4.71875 1.53125 4.625 1.53125 C 4.53125 1.53125 4.445312 1.53125 4.375 1.53125 L 4.375 1.546875 C 4.53125 1.628906 4.671875 1.722656 4.796875 1.828125 C 4.921875 1.929688 5.023438 2.046875 5.109375 2.171875 C 5.191406 2.304688 5.253906 2.457031 5.296875 2.625 C 5.347656 2.800781 5.375 3.003906 5.375 3.234375 C 5.375 3.523438 5.335938 3.773438 5.265625 3.984375 C 5.203125 4.203125 5.09375 4.378906 4.9375 4.515625 C 4.789062 4.648438 4.597656 4.75 4.359375 4.8125 C 4.128906 4.875 3.847656 4.90625 3.515625 4.90625 L 0 4.90625 Z M 0 4.03125 \"/>\n",
       "</symbol>\n",
       "<symbol overflow=\"visible\" id=\"glyph0-13\">\n",
       "<path style=\"stroke:none;\" d=\"M 0.046875 2.703125 C 0.00390625 2.566406 -0.0234375 2.429688 -0.046875 2.296875 C -0.0664062 2.160156 -0.078125 2 -0.078125 1.8125 C -0.078125 1.113281 0.320312 0.765625 1.125 0.765625 L 4.640625 0.765625 L 4.640625 0.15625 L 5.28125 0.15625 L 5.28125 0.796875 L 6.46875 1.0625 L 6.46875 1.640625 L 5.28125 1.640625 L 5.28125 2.625 L 4.640625 2.625 L 4.640625 1.640625 L 1.3125 1.640625 C 1.050781 1.640625 0.867188 1.679688 0.765625 1.765625 C 0.671875 1.847656 0.625 1.992188 0.625 2.203125 C 0.625 2.285156 0.628906 2.363281 0.640625 2.4375 C 0.648438 2.519531 0.664062 2.609375 0.6875 2.703125 Z M 0.046875 2.703125 \"/>\n",
       "</symbol>\n",
       "<symbol overflow=\"visible\" id=\"glyph0-14\">\n",
       "<path style=\"stroke:none;\" d=\"M 0 0.6875 L 4.046875 0.6875 C 4.160156 0.6875 4.273438 0.6875 4.390625 0.6875 C 4.503906 0.6875 4.613281 0.679688 4.71875 0.671875 C 4.832031 0.671875 4.9375 0.671875 5.03125 0.671875 C 5.125 0.671875 5.207031 0.671875 5.28125 0.671875 L 5.28125 1.5 C 5.207031 1.5 5.125 1.5 5.03125 1.5 C 4.9375 1.507812 4.835938 1.515625 4.734375 1.515625 C 4.628906 1.523438 4.53125 1.53125 4.4375 1.53125 C 4.34375 1.53125 4.265625 1.53125 4.203125 1.53125 L 4.203125 1.546875 C 4.398438 1.609375 4.570312 1.675781 4.71875 1.75 C 4.875 1.820312 5 1.90625 5.09375 2 C 5.1875 2.09375 5.253906 2.203125 5.296875 2.328125 C 5.347656 2.460938 5.375 2.625 5.375 2.8125 C 5.375 2.882812 5.367188 2.953125 5.359375 3.015625 C 5.347656 3.078125 5.335938 3.128906 5.328125 3.171875 L 4.53125 3.171875 C 4.539062 3.109375 4.550781 3.035156 4.5625 2.953125 C 4.570312 2.878906 4.578125 2.796875 4.578125 2.703125 C 4.578125 2.492188 4.53125 2.316406 4.4375 2.171875 C 4.34375 2.035156 4.210938 1.921875 4.046875 1.828125 C 3.890625 1.742188 3.703125 1.679688 3.484375 1.640625 C 3.265625 1.597656 3.019531 1.578125 2.75 1.578125 L 0 1.578125 Z M 0 0.6875 \"/>\n",
       "</symbol>\n",
       "<symbol overflow=\"visible\" id=\"glyph0-15\">\n",
       "<path style=\"stroke:none;\" d=\"M -0.09375 2.015625 C -0.09375 1.484375 0.046875 1.082031 0.328125 0.8125 C 0.609375 0.550781 0.988281 0.421875 1.46875 0.421875 C 1.820312 0.421875 2.109375 0.488281 2.328125 0.625 C 2.554688 0.757812 2.734375 0.929688 2.859375 1.140625 C 2.984375 1.347656 3.066406 1.585938 3.109375 1.859375 C 3.160156 2.140625 3.191406 2.421875 3.203125 2.703125 L 3.21875 3.890625 L 3.515625 3.890625 C 3.734375 3.890625 3.914062 3.863281 4.0625 3.8125 C 4.21875 3.769531 4.34375 3.703125 4.4375 3.609375 C 4.53125 3.515625 4.597656 3.394531 4.640625 3.25 C 4.691406 3.113281 4.71875 2.953125 4.71875 2.765625 C 4.71875 2.585938 4.703125 2.429688 4.671875 2.296875 C 4.648438 2.160156 4.609375 2.039062 4.546875 1.9375 C 4.484375 1.84375 4.394531 1.765625 4.28125 1.703125 C 4.175781 1.640625 4.039062 1.597656 3.875 1.578125 L 3.953125 0.65625 C 4.160156 0.6875 4.351562 0.75 4.53125 0.84375 C 4.707031 0.9375 4.859375 1.066406 4.984375 1.234375 C 5.109375 1.398438 5.203125 1.609375 5.265625 1.859375 C 5.335938 2.109375 5.375 2.414062 5.375 2.78125 C 5.375 3.445312 5.222656 3.945312 4.921875 4.28125 C 4.617188 4.613281 4.179688 4.78125 3.609375 4.78125 L 1.328125 4.78125 C 1.066406 4.78125 0.867188 4.8125 0.734375 4.875 C 0.609375 4.945312 0.546875 5.082031 0.546875 5.28125 C 0.546875 5.320312 0.546875 5.367188 0.546875 5.421875 C 0.554688 5.472656 0.566406 5.519531 0.578125 5.5625 L 0.03125 5.5625 C 0 5.445312 -0.0195312 5.332031 -0.03125 5.21875 C -0.0390625 5.113281 -0.046875 5.003906 -0.046875 4.890625 C -0.046875 4.722656 -0.0234375 4.578125 0.015625 4.453125 C 0.0546875 4.335938 0.125 4.238281 0.21875 4.15625 C 0.3125 4.082031 0.421875 4.023438 0.546875 3.984375 C 0.679688 3.953125 0.835938 3.929688 1.015625 3.921875 L 1.015625 3.890625 C 0.835938 3.796875 0.679688 3.691406 0.546875 3.578125 C 0.410156 3.460938 0.296875 3.332031 0.203125 3.1875 C 0.109375 3.039062 0.0351562 2.867188 -0.015625 2.671875 C -0.0664062 2.484375 -0.09375 2.265625 -0.09375 2.015625 Z M 0.5625 2.21875 C 0.5625 2.5 0.613281 2.742188 0.71875 2.953125 C 0.820312 3.160156 0.953125 3.332031 1.109375 3.46875 C 1.265625 3.613281 1.4375 3.71875 1.625 3.78125 C 1.820312 3.851562 2.003906 3.890625 2.171875 3.890625 L 2.609375 3.890625 L 2.59375 2.9375 C 2.582031 2.71875 2.5625 2.507812 2.53125 2.3125 C 2.507812 2.125 2.457031 1.957031 2.375 1.8125 C 2.289062 1.664062 2.175781 1.546875 2.03125 1.453125 C 1.882812 1.367188 1.691406 1.328125 1.453125 1.328125 C 1.171875 1.328125 0.953125 1.40625 0.796875 1.5625 C 0.640625 1.71875 0.5625 1.9375 0.5625 2.21875 Z M 0.5625 2.21875 \"/>\n",
       "</symbol>\n",
       "<symbol overflow=\"visible\" id=\"glyph0-16\">\n",
       "<path style=\"stroke:none;\" d=\"M 1.453125 4.640625 C 1.210938 4.640625 0.992188 4.585938 0.796875 4.484375 C 0.609375 4.390625 0.445312 4.25 0.3125 4.0625 C 0.175781 3.882812 0.0703125 3.664062 0 3.40625 C -0.0625 3.144531 -0.09375 2.84375 -0.09375 2.5 C -0.09375 2.1875 -0.0664062 1.90625 -0.015625 1.65625 C 0.0234375 1.414062 0.0976562 1.203125 0.203125 1.015625 C 0.304688 0.835938 0.441406 0.679688 0.609375 0.546875 C 0.785156 0.421875 0.992188 0.332031 1.234375 0.28125 L 1.390625 1.0625 C 1.109375 1.132812 0.898438 1.285156 0.765625 1.515625 C 0.640625 1.753906 0.578125 2.082031 0.578125 2.5 C 0.578125 2.6875 0.585938 2.859375 0.609375 3.015625 C 0.640625 3.171875 0.6875 3.304688 0.75 3.421875 C 0.8125 3.535156 0.894531 3.625 1 3.6875 C 1.101562 3.75 1.234375 3.78125 1.390625 3.78125 C 1.546875 3.78125 1.675781 3.742188 1.78125 3.671875 C 1.882812 3.597656 1.96875 3.492188 2.03125 3.359375 C 2.101562 3.222656 2.164062 3.0625 2.21875 2.875 C 2.269531 2.6875 2.328125 2.476562 2.390625 2.25 C 2.441406 2.03125 2.5 1.816406 2.5625 1.609375 C 2.632812 1.398438 2.726562 1.210938 2.84375 1.046875 C 2.957031 0.878906 3.097656 0.742188 3.265625 0.640625 C 3.429688 0.535156 3.640625 0.484375 3.890625 0.484375 C 4.367188 0.484375 4.734375 0.65625 4.984375 1 C 5.234375 1.34375 5.359375 1.84375 5.359375 2.5 C 5.359375 3.082031 5.253906 3.546875 5.046875 3.890625 C 4.847656 4.234375 4.523438 4.453125 4.078125 4.546875 L 3.96875 3.75 C 4.113281 3.726562 4.226562 3.675781 4.3125 3.59375 C 4.40625 3.519531 4.476562 3.425781 4.53125 3.3125 C 4.59375 3.195312 4.632812 3.070312 4.65625 2.9375 C 4.6875 2.800781 4.703125 2.65625 4.703125 2.5 C 4.703125 2.101562 4.640625 1.8125 4.515625 1.625 C 4.398438 1.4375 4.21875 1.34375 3.96875 1.34375 C 3.832031 1.34375 3.71875 1.375 3.625 1.4375 C 3.53125 1.507812 3.453125 1.609375 3.390625 1.734375 C 3.328125 1.859375 3.269531 2.007812 3.21875 2.1875 C 3.175781 2.363281 3.128906 2.5625 3.078125 2.78125 C 3.035156 2.914062 2.992188 3.054688 2.953125 3.203125 C 2.910156 3.347656 2.859375 3.488281 2.796875 3.625 C 2.742188 3.769531 2.679688 3.898438 2.609375 4.015625 C 2.535156 4.140625 2.441406 4.25 2.328125 4.34375 C 2.222656 4.4375 2.097656 4.507812 1.953125 4.5625 C 1.816406 4.613281 1.648438 4.640625 1.453125 4.640625 Z M 1.453125 4.640625 \"/>\n",
       "</symbol>\n",
       "<symbol overflow=\"visible\" id=\"glyph0-17\">\n",
       "<path style=\"stroke:none;\" d=\"M 2.453125 1.34375 C 2.179688 1.34375 1.925781 1.367188 1.6875 1.421875 C 1.457031 1.484375 1.257812 1.570312 1.09375 1.6875 C 0.925781 1.8125 0.796875 1.96875 0.703125 2.15625 C 0.609375 2.34375 0.5625 2.566406 0.5625 2.828125 C 0.5625 3.203125 0.632812 3.503906 0.78125 3.734375 C 0.9375 3.960938 1.132812 4.117188 1.375 4.203125 L 1.15625 4.96875 C 1.007812 4.914062 0.859375 4.835938 0.703125 4.734375 C 0.554688 4.640625 0.421875 4.507812 0.296875 4.34375 C 0.179688 4.175781 0.0859375 3.96875 0.015625 3.71875 C -0.0546875 3.46875 -0.09375 3.171875 -0.09375 2.828125 C -0.09375 2.046875 0.132812 1.445312 0.59375 1.03125 C 1.0625 0.625 1.753906 0.421875 2.671875 0.421875 C 3.171875 0.421875 3.59375 0.484375 3.9375 0.609375 C 4.28125 0.734375 4.554688 0.898438 4.765625 1.109375 C 4.984375 1.328125 5.140625 1.578125 5.234375 1.859375 C 5.328125 2.148438 5.375 2.457031 5.375 2.78125 C 5.375 3.226562 5.300781 3.597656 5.15625 3.890625 C 5.019531 4.191406 4.820312 4.429688 4.5625 4.609375 C 4.3125 4.796875 4.015625 4.925781 3.671875 5 C 3.335938 5.082031 2.972656 5.125 2.578125 5.125 L 2.453125 5.125 Z M 3.125 4.203125 C 3.6875 4.160156 4.09375 4.019531 4.34375 3.78125 C 4.601562 3.550781 4.734375 3.21875 4.734375 2.78125 C 4.734375 2.625 4.707031 2.46875 4.65625 2.3125 C 4.613281 2.15625 4.53125 2.003906 4.40625 1.859375 C 4.289062 1.722656 4.128906 1.609375 3.921875 1.515625 C 3.710938 1.421875 3.445312 1.367188 3.125 1.359375 Z M 3.125 4.203125 \"/>\n",
       "</symbol>\n",
       "<symbol overflow=\"visible\" id=\"glyph0-18\">\n",
       "<path style=\"stroke:none;\" d=\"M 0 3.75 L 3.34375 3.75 C 3.601562 3.75 3.816406 3.734375 3.984375 3.703125 C 4.160156 3.671875 4.300781 3.613281 4.40625 3.53125 C 4.519531 3.457031 4.597656 3.359375 4.640625 3.234375 C 4.679688 3.109375 4.703125 2.957031 4.703125 2.78125 C 4.703125 2.59375 4.664062 2.425781 4.59375 2.28125 C 4.519531 2.132812 4.410156 2.003906 4.265625 1.890625 C 4.128906 1.785156 3.957031 1.703125 3.75 1.640625 C 3.550781 1.585938 3.320312 1.5625 3.0625 1.5625 L 0 1.5625 L 0 0.6875 L 4.15625 0.6875 C 4.269531 0.6875 4.382812 0.6875 4.5 0.6875 C 4.625 0.6875 4.738281 0.679688 4.84375 0.671875 C 4.957031 0.671875 5.050781 0.671875 5.125 0.671875 C 5.207031 0.671875 5.257812 0.671875 5.28125 0.671875 L 5.28125 1.5 C 5.269531 1.5 5.226562 1.5 5.15625 1.5 C 5.082031 1.507812 5 1.515625 4.90625 1.515625 C 4.8125 1.523438 4.71875 1.53125 4.625 1.53125 C 4.53125 1.53125 4.445312 1.53125 4.375 1.53125 L 4.375 1.546875 C 4.53125 1.628906 4.671875 1.710938 4.796875 1.796875 C 4.921875 1.890625 5.023438 2 5.109375 2.125 C 5.191406 2.25 5.253906 2.390625 5.296875 2.546875 C 5.347656 2.703125 5.375 2.882812 5.375 3.09375 C 5.375 3.488281 5.296875 3.800781 5.140625 4.03125 C 4.984375 4.269531 4.726562 4.4375 4.375 4.53125 L 4.375 4.546875 C 4.53125 4.617188 4.671875 4.703125 4.796875 4.796875 C 4.921875 4.898438 5.023438 5.015625 5.109375 5.140625 C 5.191406 5.273438 5.253906 5.421875 5.296875 5.578125 C 5.347656 5.742188 5.375 5.929688 5.375 6.140625 C 5.375 6.410156 5.335938 6.640625 5.265625 6.828125 C 5.203125 7.023438 5.09375 7.1875 4.9375 7.3125 C 4.789062 7.4375 4.597656 7.523438 4.359375 7.578125 C 4.128906 7.640625 3.847656 7.671875 3.515625 7.671875 L 0 7.671875 L 0 6.796875 L 3.34375 6.796875 C 3.601562 6.796875 3.816406 6.78125 3.984375 6.75 C 4.160156 6.71875 4.300781 6.660156 4.40625 6.578125 C 4.519531 6.503906 4.597656 6.40625 4.640625 6.28125 C 4.679688 6.164062 4.703125 6.015625 4.703125 5.828125 C 4.703125 5.648438 4.664062 5.484375 4.59375 5.328125 C 4.53125 5.179688 4.425781 5.054688 4.28125 4.953125 C 4.144531 4.847656 3.972656 4.765625 3.765625 4.703125 C 3.566406 4.648438 3.332031 4.625 3.0625 4.625 L 0 4.625 Z M 0 3.75 \"/>\n",
       "</symbol>\n",
       "<symbol overflow=\"visible\" id=\"glyph0-19\">\n",
       "<path style=\"stroke:none;\" d=\"M 1.90625 5.125 C 1.582031 5.125 1.296875 5.070312 1.046875 4.96875 C 0.804688 4.863281 0.597656 4.710938 0.421875 4.515625 C 0.253906 4.316406 0.125 4.070312 0.03125 3.78125 C -0.0507812 3.488281 -0.09375 3.15625 -0.09375 2.78125 C -0.09375 2.363281 -0.0390625 2.007812 0.0625 1.71875 C 0.164062 1.425781 0.304688 1.179688 0.484375 0.984375 C 0.660156 0.796875 0.859375 0.65625 1.078125 0.5625 C 1.296875 0.46875 1.523438 0.40625 1.765625 0.375 L 1.84375 1.296875 C 1.664062 1.316406 1.5 1.359375 1.34375 1.421875 C 1.195312 1.492188 1.070312 1.59375 0.96875 1.71875 C 0.863281 1.84375 0.78125 1.988281 0.71875 2.15625 C 0.65625 2.332031 0.625 2.539062 0.625 2.78125 C 0.625 3.226562 0.734375 3.578125 0.953125 3.828125 C 1.171875 4.078125 1.492188 4.203125 1.921875 4.203125 C 2.179688 4.203125 2.390625 4.144531 2.546875 4.03125 C 2.703125 3.925781 2.820312 3.789062 2.90625 3.625 C 2.988281 3.457031 3.046875 3.273438 3.078125 3.078125 C 3.109375 2.878906 3.125 2.695312 3.125 2.53125 L 3.125 2.03125 L 3.875 2.03125 L 3.875 2.515625 C 3.875 2.679688 3.890625 2.851562 3.921875 3.03125 C 3.960938 3.207031 4.023438 3.367188 4.109375 3.515625 C 4.203125 3.660156 4.328125 3.78125 4.484375 3.875 C 4.640625 3.976562 4.832031 4.03125 5.0625 4.03125 C 5.4375 4.03125 5.726562 3.921875 5.9375 3.703125 C 6.15625 3.484375 6.265625 3.160156 6.265625 2.734375 C 6.265625 2.347656 6.164062 2.035156 5.96875 1.796875 C 5.769531 1.554688 5.488281 1.414062 5.125 1.375 L 5.1875 0.5 C 5.488281 0.53125 5.75 0.609375 5.96875 0.734375 C 6.195312 0.867188 6.382812 1.035156 6.53125 1.234375 C 6.6875 1.441406 6.800781 1.671875 6.875 1.921875 C 6.945312 2.179688 6.984375 2.457031 6.984375 2.75 C 6.984375 3.132812 6.929688 3.460938 6.828125 3.734375 C 6.734375 4.015625 6.601562 4.242188 6.4375 4.421875 C 6.28125 4.597656 6.085938 4.726562 5.859375 4.8125 C 5.640625 4.894531 5.40625 4.9375 5.15625 4.9375 C 4.957031 4.9375 4.769531 4.90625 4.59375 4.84375 C 4.414062 4.789062 4.253906 4.707031 4.109375 4.59375 C 3.972656 4.476562 3.851562 4.328125 3.75 4.140625 C 3.65625 3.960938 3.582031 3.742188 3.53125 3.484375 L 3.515625 3.484375 C 3.484375 3.765625 3.414062 4.003906 3.3125 4.203125 C 3.21875 4.410156 3.097656 4.582031 2.953125 4.71875 C 2.816406 4.851562 2.65625 4.953125 2.46875 5.015625 C 2.289062 5.085938 2.101562 5.125 1.90625 5.125 Z M 1.90625 5.125 \"/>\n",
       "</symbol>\n",
       "<symbol overflow=\"visible\" id=\"glyph1-0\">\n",
       "<path style=\"stroke:none;\" d=\"M 0.328125 0 L 0.328125 -6.671875 L 2.984375 -6.671875 L 2.984375 0 Z M 0.671875 -0.328125 L 2.65625 -0.328125 L 2.65625 -6.328125 L 0.671875 -6.328125 Z M 0.671875 -0.328125 \"/>\n",
       "</symbol>\n",
       "<symbol overflow=\"visible\" id=\"glyph1-1\">\n",
       "<path style=\"stroke:none;\" d=\"M 6.140625 -4.8125 C 6.140625 -4.507812 6.085938 -4.226562 5.984375 -3.96875 C 5.890625 -3.707031 5.742188 -3.484375 5.546875 -3.296875 C 5.347656 -3.109375 5.097656 -2.957031 4.796875 -2.84375 C 4.503906 -2.738281 4.164062 -2.6875 3.78125 -2.6875 L 1.75 -2.6875 L 1.75 0 L 0.828125 0 L 0.828125 -6.875 L 3.71875 -6.875 C 4.125 -6.875 4.476562 -6.820312 4.78125 -6.71875 C 5.082031 -6.625 5.332031 -6.488281 5.53125 -6.3125 C 5.738281 -6.132812 5.890625 -5.914062 5.984375 -5.65625 C 6.085938 -5.40625 6.140625 -5.125 6.140625 -4.8125 Z M 5.203125 -4.796875 C 5.203125 -5.234375 5.066406 -5.566406 4.796875 -5.796875 C 4.535156 -6.023438 4.140625 -6.140625 3.609375 -6.140625 L 1.75 -6.140625 L 1.75 -3.421875 L 3.640625 -3.421875 C 4.179688 -3.421875 4.578125 -3.535156 4.828125 -3.765625 C 5.078125 -4.003906 5.203125 -4.347656 5.203125 -4.796875 Z M 5.203125 -4.796875 \"/>\n",
       "</symbol>\n",
       "<symbol overflow=\"visible\" id=\"glyph1-2\">\n",
       "<path style=\"stroke:none;\" d=\"M 6.21875 -1.90625 C 6.21875 -1.613281 6.160156 -1.34375 6.046875 -1.09375 C 5.929688 -0.851562 5.753906 -0.644531 5.515625 -0.46875 C 5.285156 -0.289062 4.992188 -0.148438 4.640625 -0.046875 C 4.285156 0.046875 3.863281 0.09375 3.375 0.09375 C 2.507812 0.09375 1.835938 -0.0507812 1.359375 -0.34375 C 0.890625 -0.644531 0.585938 -1.082031 0.453125 -1.65625 L 1.359375 -1.828125 C 1.398438 -1.648438 1.46875 -1.488281 1.5625 -1.34375 C 1.65625 -1.195312 1.78125 -1.070312 1.9375 -0.96875 C 2.101562 -0.863281 2.304688 -0.78125 2.546875 -0.71875 C 2.785156 -0.65625 3.070312 -0.625 3.40625 -0.625 C 3.675781 -0.625 3.925781 -0.644531 4.15625 -0.6875 C 4.394531 -0.738281 4.597656 -0.8125 4.765625 -0.90625 C 4.929688 -1.007812 5.054688 -1.140625 5.140625 -1.296875 C 5.234375 -1.453125 5.28125 -1.632812 5.28125 -1.84375 C 5.28125 -2.070312 5.226562 -2.253906 5.125 -2.390625 C 5.03125 -2.535156 4.890625 -2.648438 4.703125 -2.734375 C 4.515625 -2.828125 4.289062 -2.90625 4.03125 -2.96875 C 3.78125 -3.03125 3.5 -3.097656 3.1875 -3.171875 C 2.988281 -3.210938 2.789062 -3.257812 2.59375 -3.3125 C 2.40625 -3.363281 2.222656 -3.421875 2.046875 -3.484375 C 1.867188 -3.554688 1.703125 -3.640625 1.546875 -3.734375 C 1.390625 -3.828125 1.253906 -3.941406 1.140625 -4.078125 C 1.023438 -4.210938 0.9375 -4.363281 0.875 -4.53125 C 0.8125 -4.707031 0.78125 -4.910156 0.78125 -5.140625 C 0.78125 -5.460938 0.84375 -5.738281 0.96875 -5.96875 C 1.101562 -6.207031 1.285156 -6.398438 1.515625 -6.546875 C 1.753906 -6.703125 2.03125 -6.8125 2.34375 -6.875 C 2.664062 -6.945312 3.015625 -6.984375 3.390625 -6.984375 C 3.816406 -6.984375 4.179688 -6.945312 4.484375 -6.875 C 4.785156 -6.8125 5.039062 -6.710938 5.25 -6.578125 C 5.457031 -6.441406 5.625 -6.273438 5.75 -6.078125 C 5.875 -5.890625 5.972656 -5.664062 6.046875 -5.40625 L 5.125 -5.234375 C 5.082031 -5.398438 5.019531 -5.546875 4.9375 -5.671875 C 4.851562 -5.804688 4.738281 -5.914062 4.59375 -6 C 4.457031 -6.09375 4.285156 -6.160156 4.078125 -6.203125 C 3.878906 -6.253906 3.644531 -6.28125 3.375 -6.28125 C 3.0625 -6.28125 2.796875 -6.25 2.578125 -6.1875 C 2.359375 -6.132812 2.179688 -6.054688 2.046875 -5.953125 C 1.921875 -5.859375 1.828125 -5.742188 1.765625 -5.609375 C 1.710938 -5.484375 1.6875 -5.34375 1.6875 -5.1875 C 1.6875 -4.988281 1.738281 -4.820312 1.84375 -4.6875 C 1.945312 -4.550781 2.082031 -4.4375 2.25 -4.34375 C 2.425781 -4.257812 2.628906 -4.1875 2.859375 -4.125 C 3.097656 -4.070312 3.347656 -4.015625 3.609375 -3.953125 C 3.816406 -3.910156 4.023438 -3.863281 4.234375 -3.8125 C 4.441406 -3.757812 4.640625 -3.695312 4.828125 -3.625 C 5.023438 -3.5625 5.207031 -3.484375 5.375 -3.390625 C 5.539062 -3.296875 5.6875 -3.175781 5.8125 -3.03125 C 5.9375 -2.894531 6.035156 -2.734375 6.109375 -2.546875 C 6.179688 -2.367188 6.21875 -2.15625 6.21875 -1.90625 Z M 6.21875 -1.90625 \"/>\n",
       "</symbol>\n",
       "<symbol overflow=\"visible\" id=\"glyph1-3\">\n",
       "<path style=\"stroke:none;\" d=\"\"/>\n",
       "</symbol>\n",
       "<symbol overflow=\"visible\" id=\"glyph1-4\">\n",
       "<path style=\"stroke:none;\" d=\"M 4.296875 -1.5625 L 4.296875 0 L 3.46875 0 L 3.46875 -1.5625 L 0.234375 -1.5625 L 0.234375 -2.234375 L 3.375 -6.875 L 4.296875 -6.875 L 4.296875 -2.25 L 5.265625 -2.25 L 5.265625 -1.5625 Z M 3.46875 -5.890625 C 3.46875 -5.867188 3.453125 -5.832031 3.421875 -5.78125 C 3.398438 -5.738281 3.367188 -5.6875 3.328125 -5.625 C 3.296875 -5.570312 3.265625 -5.515625 3.234375 -5.453125 C 3.203125 -5.390625 3.171875 -5.34375 3.140625 -5.3125 L 1.375 -2.703125 C 1.363281 -2.679688 1.34375 -2.648438 1.3125 -2.609375 C 1.28125 -2.566406 1.25 -2.519531 1.21875 -2.46875 C 1.1875 -2.425781 1.148438 -2.382812 1.109375 -2.34375 C 1.078125 -2.300781 1.054688 -2.269531 1.046875 -2.25 L 3.46875 -2.25 Z M 3.46875 -5.890625 \"/>\n",
       "</symbol>\n",
       "<symbol overflow=\"visible\" id=\"glyph1-5\">\n",
       "<path style=\"stroke:none;\" d=\"M 5.171875 -3.4375 C 5.171875 -2.78125 5.109375 -2.222656 4.984375 -1.765625 C 4.859375 -1.316406 4.6875 -0.953125 4.46875 -0.671875 C 4.25 -0.398438 3.992188 -0.203125 3.703125 -0.078125 C 3.410156 0.0351562 3.097656 0.09375 2.765625 0.09375 C 2.429688 0.09375 2.117188 0.0351562 1.828125 -0.078125 C 1.535156 -0.203125 1.28125 -0.398438 1.0625 -0.671875 C 0.851562 -0.953125 0.6875 -1.316406 0.5625 -1.765625 C 0.445312 -2.222656 0.390625 -2.78125 0.390625 -3.4375 C 0.390625 -4.132812 0.445312 -4.707031 0.5625 -5.15625 C 0.6875 -5.613281 0.859375 -5.976562 1.078125 -6.25 C 1.296875 -6.519531 1.550781 -6.707031 1.84375 -6.8125 C 2.132812 -6.925781 2.453125 -6.984375 2.796875 -6.984375 C 3.128906 -6.984375 3.4375 -6.925781 3.71875 -6.8125 C 4.007812 -6.707031 4.257812 -6.519531 4.46875 -6.25 C 4.6875 -5.976562 4.859375 -5.613281 4.984375 -5.15625 C 5.109375 -4.707031 5.171875 -4.132812 5.171875 -3.4375 Z M 4.28125 -3.4375 C 4.28125 -3.988281 4.242188 -4.445312 4.171875 -4.8125 C 4.109375 -5.175781 4.015625 -5.460938 3.890625 -5.671875 C 3.765625 -5.890625 3.609375 -6.039062 3.421875 -6.125 C 3.242188 -6.21875 3.035156 -6.265625 2.796875 -6.265625 C 2.546875 -6.265625 2.328125 -6.21875 2.140625 -6.125 C 1.953125 -6.039062 1.789062 -5.890625 1.65625 -5.671875 C 1.53125 -5.453125 1.4375 -5.160156 1.375 -4.796875 C 1.3125 -4.441406 1.28125 -3.988281 1.28125 -3.4375 C 1.28125 -2.914062 1.3125 -2.472656 1.375 -2.109375 C 1.445312 -1.742188 1.546875 -1.453125 1.671875 -1.234375 C 1.796875 -1.015625 1.953125 -0.859375 2.140625 -0.765625 C 2.328125 -0.671875 2.539062 -0.625 2.78125 -0.625 C 3.007812 -0.625 3.21875 -0.671875 3.40625 -0.765625 C 3.59375 -0.859375 3.75 -1.015625 3.875 -1.234375 C 4 -1.453125 4.097656 -1.742188 4.171875 -2.109375 C 4.242188 -2.472656 4.28125 -2.914062 4.28125 -3.4375 Z M 4.28125 -3.4375 \"/>\n",
       "</symbol>\n",
       "<symbol overflow=\"visible\" id=\"glyph1-6\">\n",
       "<path style=\"stroke:none;\" d=\"M 0.90625 -4.265625 L 0.90625 -5.28125 L 1.859375 -5.28125 L 1.859375 -4.265625 Z M 0.90625 0 L 0.90625 -1.015625 L 1.859375 -1.015625 L 1.859375 0 Z M 0.90625 0 \"/>\n",
       "</symbol>\n",
       "<symbol overflow=\"visible\" id=\"glyph1-7\">\n",
       "<path style=\"stroke:none;\" d=\"M 5.140625 -2.234375 C 5.140625 -1.890625 5.085938 -1.570312 4.984375 -1.28125 C 4.878906 -1 4.722656 -0.753906 4.515625 -0.546875 C 4.316406 -0.347656 4.0625 -0.191406 3.75 -0.078125 C 3.445312 0.0351562 3.097656 0.09375 2.703125 0.09375 C 2.335938 0.09375 2.019531 0.0507812 1.75 -0.03125 C 1.488281 -0.113281 1.265625 -0.226562 1.078125 -0.375 C 0.890625 -0.519531 0.738281 -0.691406 0.625 -0.890625 C 0.519531 -1.097656 0.445312 -1.3125 0.40625 -1.53125 L 1.296875 -1.640625 C 1.328125 -1.515625 1.375 -1.390625 1.4375 -1.265625 C 1.5 -1.140625 1.585938 -1.03125 1.703125 -0.9375 C 1.816406 -0.84375 1.957031 -0.765625 2.125 -0.703125 C 2.289062 -0.648438 2.488281 -0.625 2.71875 -0.625 C 2.945312 -0.625 3.15625 -0.65625 3.34375 -0.71875 C 3.53125 -0.789062 3.6875 -0.894531 3.8125 -1.03125 C 3.945312 -1.164062 4.050781 -1.332031 4.125 -1.53125 C 4.195312 -1.738281 4.234375 -1.96875 4.234375 -2.21875 C 4.234375 -2.4375 4.195312 -2.632812 4.125 -2.8125 C 4.0625 -2.988281 3.960938 -3.140625 3.828125 -3.265625 C 3.703125 -3.390625 3.546875 -3.488281 3.359375 -3.5625 C 3.179688 -3.632812 2.972656 -3.671875 2.734375 -3.671875 C 2.585938 -3.671875 2.453125 -3.65625 2.328125 -3.625 C 2.210938 -3.601562 2.097656 -3.566406 1.984375 -3.515625 C 1.878906 -3.472656 1.785156 -3.421875 1.703125 -3.359375 C 1.617188 -3.304688 1.535156 -3.242188 1.453125 -3.171875 L 0.59375 -3.171875 L 0.828125 -6.875 L 4.734375 -6.875 L 4.734375 -6.140625 L 1.625 -6.140625 L 1.5 -3.953125 C 1.65625 -4.066406 1.847656 -4.164062 2.078125 -4.25 C 2.316406 -4.34375 2.597656 -4.390625 2.921875 -4.390625 C 3.265625 -4.390625 3.570312 -4.335938 3.84375 -4.234375 C 4.113281 -4.128906 4.34375 -3.976562 4.53125 -3.78125 C 4.726562 -3.59375 4.878906 -3.367188 4.984375 -3.109375 C 5.085938 -2.847656 5.140625 -2.554688 5.140625 -2.234375 Z M 5.140625 -2.234375 \"/>\n",
       "</symbol>\n",
       "<symbol overflow=\"visible\" id=\"glyph1-8\">\n",
       "<path style=\"stroke:none;\" d=\"M -0.15625 1.984375 L -0.15625 1.359375 L 5.671875 1.359375 L 5.671875 1.984375 Z M -0.15625 1.984375 \"/>\n",
       "</symbol>\n",
       "<symbol overflow=\"visible\" id=\"glyph1-9\">\n",
       "<path style=\"stroke:none;\" d=\"M 5.125 -1.90625 C 5.125 -1.582031 5.070312 -1.296875 4.96875 -1.046875 C 4.863281 -0.804688 4.710938 -0.597656 4.515625 -0.421875 C 4.316406 -0.253906 4.070312 -0.125 3.78125 -0.03125 C 3.488281 0.0507812 3.15625 0.09375 2.78125 0.09375 C 2.363281 0.09375 2.007812 0.0390625 1.71875 -0.0625 C 1.425781 -0.164062 1.179688 -0.304688 0.984375 -0.484375 C 0.796875 -0.660156 0.65625 -0.859375 0.5625 -1.078125 C 0.46875 -1.296875 0.40625 -1.523438 0.375 -1.765625 L 1.296875 -1.84375 C 1.316406 -1.664062 1.359375 -1.5 1.421875 -1.34375 C 1.492188 -1.195312 1.59375 -1.070312 1.71875 -0.96875 C 1.84375 -0.863281 1.988281 -0.78125 2.15625 -0.71875 C 2.332031 -0.65625 2.539062 -0.625 2.78125 -0.625 C 3.226562 -0.625 3.578125 -0.734375 3.828125 -0.953125 C 4.078125 -1.171875 4.203125 -1.492188 4.203125 -1.921875 C 4.203125 -2.179688 4.144531 -2.390625 4.03125 -2.546875 C 3.925781 -2.703125 3.789062 -2.820312 3.625 -2.90625 C 3.457031 -2.988281 3.273438 -3.046875 3.078125 -3.078125 C 2.878906 -3.109375 2.695312 -3.125 2.53125 -3.125 L 2.03125 -3.125 L 2.03125 -3.875 L 2.515625 -3.875 C 2.679688 -3.875 2.851562 -3.890625 3.03125 -3.921875 C 3.207031 -3.960938 3.367188 -4.023438 3.515625 -4.109375 C 3.660156 -4.203125 3.78125 -4.328125 3.875 -4.484375 C 3.976562 -4.640625 4.03125 -4.832031 4.03125 -5.0625 C 4.03125 -5.4375 3.921875 -5.726562 3.703125 -5.9375 C 3.484375 -6.15625 3.160156 -6.265625 2.734375 -6.265625 C 2.347656 -6.265625 2.035156 -6.164062 1.796875 -5.96875 C 1.554688 -5.769531 1.414062 -5.488281 1.375 -5.125 L 0.5 -5.1875 C 0.53125 -5.488281 0.609375 -5.75 0.734375 -5.96875 C 0.867188 -6.195312 1.035156 -6.382812 1.234375 -6.53125 C 1.441406 -6.6875 1.671875 -6.800781 1.921875 -6.875 C 2.179688 -6.945312 2.457031 -6.984375 2.75 -6.984375 C 3.132812 -6.984375 3.460938 -6.929688 3.734375 -6.828125 C 4.015625 -6.734375 4.242188 -6.601562 4.421875 -6.4375 C 4.597656 -6.28125 4.726562 -6.085938 4.8125 -5.859375 C 4.894531 -5.640625 4.9375 -5.40625 4.9375 -5.15625 C 4.9375 -4.957031 4.90625 -4.769531 4.84375 -4.59375 C 4.789062 -4.414062 4.707031 -4.253906 4.59375 -4.109375 C 4.476562 -3.972656 4.328125 -3.851562 4.140625 -3.75 C 3.960938 -3.65625 3.742188 -3.582031 3.484375 -3.53125 L 3.484375 -3.515625 C 3.765625 -3.484375 4.003906 -3.414062 4.203125 -3.3125 C 4.410156 -3.21875 4.582031 -3.097656 4.71875 -2.953125 C 4.851562 -2.816406 4.953125 -2.65625 5.015625 -2.46875 C 5.085938 -2.289062 5.125 -2.101562 5.125 -1.90625 Z M 5.125 -1.90625 \"/>\n",
       "</symbol>\n",
       "<symbol overflow=\"visible\" id=\"glyph1-10\">\n",
       "<path style=\"stroke:none;\" d=\"M 5.125 -1.921875 C 5.125 -1.628906 5.078125 -1.359375 4.984375 -1.109375 C 4.890625 -0.867188 4.75 -0.65625 4.5625 -0.46875 C 4.375 -0.289062 4.128906 -0.148438 3.828125 -0.046875 C 3.535156 0.046875 3.1875 0.09375 2.78125 0.09375 C 2.375 0.09375 2.023438 0.046875 1.734375 -0.046875 C 1.441406 -0.148438 1.195312 -0.289062 1 -0.46875 C 0.8125 -0.644531 0.671875 -0.851562 0.578125 -1.09375 C 0.484375 -1.34375 0.4375 -1.613281 0.4375 -1.90625 C 0.4375 -2.15625 0.472656 -2.378906 0.546875 -2.578125 C 0.628906 -2.773438 0.734375 -2.941406 0.859375 -3.078125 C 0.984375 -3.222656 1.128906 -3.335938 1.296875 -3.421875 C 1.460938 -3.515625 1.632812 -3.570312 1.8125 -3.59375 L 1.8125 -3.625 C 1.613281 -3.664062 1.4375 -3.734375 1.28125 -3.828125 C 1.132812 -3.929688 1.007812 -4.054688 0.90625 -4.203125 C 0.800781 -4.347656 0.722656 -4.503906 0.671875 -4.671875 C 0.617188 -4.847656 0.59375 -5.03125 0.59375 -5.21875 C 0.59375 -5.457031 0.640625 -5.679688 0.734375 -5.890625 C 0.828125 -6.109375 0.960938 -6.296875 1.140625 -6.453125 C 1.328125 -6.617188 1.554688 -6.75 1.828125 -6.84375 C 2.097656 -6.9375 2.410156 -6.984375 2.765625 -6.984375 C 3.140625 -6.984375 3.460938 -6.9375 3.734375 -6.84375 C 4.015625 -6.75 4.242188 -6.617188 4.421875 -6.453125 C 4.597656 -6.296875 4.726562 -6.109375 4.8125 -5.890625 C 4.90625 -5.679688 4.953125 -5.453125 4.953125 -5.203125 C 4.953125 -5.015625 4.925781 -4.832031 4.875 -4.65625 C 4.820312 -4.488281 4.742188 -4.332031 4.640625 -4.1875 C 4.535156 -4.050781 4.40625 -3.929688 4.25 -3.828125 C 4.101562 -3.734375 3.929688 -3.664062 3.734375 -3.625 L 3.734375 -3.609375 C 3.929688 -3.578125 4.113281 -3.515625 4.28125 -3.421875 C 4.457031 -3.335938 4.601562 -3.222656 4.71875 -3.078125 C 4.84375 -2.941406 4.941406 -2.773438 5.015625 -2.578125 C 5.085938 -2.390625 5.125 -2.171875 5.125 -1.921875 Z M 4.046875 -5.15625 C 4.046875 -5.332031 4.019531 -5.488281 3.96875 -5.625 C 3.925781 -5.769531 3.851562 -5.894531 3.75 -6 C 3.65625 -6.101562 3.523438 -6.179688 3.359375 -6.234375 C 3.203125 -6.296875 3.003906 -6.328125 2.765625 -6.328125 C 2.535156 -6.328125 2.335938 -6.296875 2.171875 -6.234375 C 2.015625 -6.179688 1.882812 -6.101562 1.78125 -6 C 1.675781 -5.894531 1.601562 -5.769531 1.5625 -5.625 C 1.519531 -5.488281 1.5 -5.332031 1.5 -5.15625 C 1.5 -5.019531 1.515625 -4.878906 1.546875 -4.734375 C 1.585938 -4.597656 1.65625 -4.46875 1.75 -4.34375 C 1.84375 -4.226562 1.972656 -4.132812 2.140625 -4.0625 C 2.304688 -3.988281 2.519531 -3.953125 2.78125 -3.953125 C 3.050781 -3.953125 3.269531 -3.988281 3.4375 -4.0625 C 3.601562 -4.132812 3.726562 -4.226562 3.8125 -4.34375 C 3.90625 -4.46875 3.96875 -4.597656 4 -4.734375 C 4.03125 -4.878906 4.046875 -5.019531 4.046875 -5.15625 Z M 4.21875 -2 C 4.21875 -2.164062 4.191406 -2.328125 4.140625 -2.484375 C 4.097656 -2.640625 4.019531 -2.773438 3.90625 -2.890625 C 3.800781 -3.015625 3.65625 -3.113281 3.46875 -3.1875 C 3.28125 -3.257812 3.046875 -3.296875 2.765625 -3.296875 C 2.503906 -3.296875 2.285156 -3.257812 2.109375 -3.1875 C 1.929688 -3.113281 1.785156 -3.015625 1.671875 -2.890625 C 1.554688 -2.765625 1.472656 -2.625 1.421875 -2.46875 C 1.367188 -2.3125 1.34375 -2.148438 1.34375 -1.984375 C 1.34375 -1.773438 1.367188 -1.582031 1.421875 -1.40625 C 1.472656 -1.226562 1.554688 -1.078125 1.671875 -0.953125 C 1.785156 -0.828125 1.929688 -0.726562 2.109375 -0.65625 C 2.296875 -0.59375 2.523438 -0.5625 2.796875 -0.5625 C 3.054688 -0.5625 3.273438 -0.59375 3.453125 -0.65625 C 3.640625 -0.726562 3.789062 -0.828125 3.90625 -0.953125 C 4.019531 -1.078125 4.097656 -1.226562 4.140625 -1.40625 C 4.191406 -1.582031 4.21875 -1.78125 4.21875 -2 Z M 4.21875 -2 \"/>\n",
       "</symbol>\n",
       "<symbol overflow=\"visible\" id=\"glyph1-11\">\n",
       "<path style=\"stroke:none;\" d=\"M 0.90625 0 L 0.90625 -1.0625 L 1.859375 -1.0625 L 1.859375 0 Z M 0.90625 0 \"/>\n",
       "</symbol>\n",
       "<symbol overflow=\"visible\" id=\"glyph1-12\">\n",
       "<path style=\"stroke:none;\" d=\"M 5.0625 -6.171875 C 4.71875 -5.640625 4.398438 -5.128906 4.109375 -4.640625 C 3.816406 -4.160156 3.566406 -3.671875 3.359375 -3.171875 C 3.148438 -2.679688 2.988281 -2.175781 2.875 -1.65625 C 2.757812 -1.132812 2.703125 -0.582031 2.703125 0 L 1.78125 0 C 1.78125 -0.550781 1.84375 -1.085938 1.96875 -1.609375 C 2.101562 -2.140625 2.28125 -2.660156 2.5 -3.171875 C 2.726562 -3.679688 2.988281 -4.179688 3.28125 -4.671875 C 3.570312 -5.171875 3.878906 -5.660156 4.203125 -6.140625 L 0.515625 -6.140625 L 0.515625 -6.875 L 5.0625 -6.875 Z M 5.0625 -6.171875 \"/>\n",
       "</symbol>\n",
       "<symbol overflow=\"visible\" id=\"glyph1-13\">\n",
       "<path style=\"stroke:none;\" d=\"M 5.125 -2.25 C 5.125 -1.90625 5.070312 -1.585938 4.96875 -1.296875 C 4.875 -1.015625 4.734375 -0.769531 4.546875 -0.5625 C 4.359375 -0.351562 4.125 -0.191406 3.84375 -0.078125 C 3.570312 0.0351562 3.257812 0.09375 2.90625 0.09375 C 2.5 0.09375 2.144531 0.0195312 1.84375 -0.125 C 1.550781 -0.28125 1.304688 -0.5 1.109375 -0.78125 C 0.910156 -1.070312 0.757812 -1.425781 0.65625 -1.84375 C 0.5625 -2.269531 0.515625 -2.75 0.515625 -3.28125 C 0.515625 -3.894531 0.566406 -4.429688 0.671875 -4.890625 C 0.785156 -5.359375 0.945312 -5.742188 1.15625 -6.046875 C 1.375 -6.359375 1.632812 -6.59375 1.9375 -6.75 C 2.238281 -6.90625 2.582031 -6.984375 2.96875 -6.984375 C 3.207031 -6.984375 3.425781 -6.957031 3.625 -6.90625 C 3.832031 -6.863281 4.019531 -6.785156 4.1875 -6.671875 C 4.351562 -6.566406 4.5 -6.421875 4.625 -6.234375 C 4.75 -6.054688 4.851562 -5.835938 4.9375 -5.578125 L 4.09375 -5.4375 C 4 -5.726562 3.851562 -5.9375 3.65625 -6.0625 C 3.457031 -6.195312 3.222656 -6.265625 2.953125 -6.265625 C 2.710938 -6.265625 2.492188 -6.207031 2.296875 -6.09375 C 2.109375 -5.976562 1.945312 -5.804688 1.8125 -5.578125 C 1.675781 -5.359375 1.566406 -5.078125 1.484375 -4.734375 C 1.410156 -4.390625 1.375 -3.992188 1.375 -3.546875 C 1.539062 -3.835938 1.765625 -4.0625 2.046875 -4.21875 C 2.335938 -4.375 2.671875 -4.453125 3.046875 -4.453125 C 3.359375 -4.453125 3.640625 -4.398438 3.890625 -4.296875 C 4.148438 -4.191406 4.367188 -4.046875 4.546875 -3.859375 C 4.734375 -3.671875 4.875 -3.441406 4.96875 -3.171875 C 5.070312 -2.898438 5.125 -2.59375 5.125 -2.25 Z M 4.234375 -2.21875 C 4.234375 -2.445312 4.203125 -2.65625 4.140625 -2.84375 C 4.078125 -3.039062 3.988281 -3.207031 3.875 -3.34375 C 3.757812 -3.476562 3.613281 -3.582031 3.4375 -3.65625 C 3.269531 -3.726562 3.070312 -3.765625 2.84375 -3.765625 C 2.6875 -3.765625 2.523438 -3.738281 2.359375 -3.6875 C 2.191406 -3.644531 2.039062 -3.570312 1.90625 -3.46875 C 1.78125 -3.363281 1.675781 -3.222656 1.59375 -3.046875 C 1.507812 -2.878906 1.46875 -2.671875 1.46875 -2.421875 C 1.46875 -2.171875 1.5 -1.929688 1.5625 -1.703125 C 1.632812 -1.484375 1.726562 -1.289062 1.84375 -1.125 C 1.96875 -0.96875 2.113281 -0.84375 2.28125 -0.75 C 2.457031 -0.65625 2.65625 -0.609375 2.875 -0.609375 C 3.082031 -0.609375 3.269531 -0.644531 3.4375 -0.71875 C 3.601562 -0.789062 3.742188 -0.894531 3.859375 -1.03125 C 3.984375 -1.175781 4.078125 -1.347656 4.140625 -1.546875 C 4.203125 -1.742188 4.234375 -1.96875 4.234375 -2.21875 Z M 4.234375 -2.21875 \"/>\n",
       "</symbol>\n",
       "<symbol overflow=\"visible\" id=\"glyph1-14\">\n",
       "<path style=\"stroke:none;\" d=\"M 0.765625 0 L 0.765625 -0.75 L 2.515625 -0.75 L 2.515625 -6.046875 L 0.96875 -4.9375 L 0.96875 -5.765625 L 2.59375 -6.875 L 3.40625 -6.875 L 3.40625 -0.75 L 5.078125 -0.75 L 5.078125 0 Z M 0.765625 0 \"/>\n",
       "</symbol>\n",
       "<symbol overflow=\"visible\" id=\"glyph1-15\">\n",
       "<path style=\"stroke:none;\" d=\"M 0.5 0 L 0.5 -0.625 C 0.664062 -1 0.867188 -1.332031 1.109375 -1.625 C 1.347656 -1.914062 1.597656 -2.179688 1.859375 -2.421875 C 2.128906 -2.660156 2.390625 -2.878906 2.640625 -3.078125 C 2.898438 -3.273438 3.132812 -3.472656 3.34375 -3.671875 C 3.550781 -3.878906 3.71875 -4.09375 3.84375 -4.3125 C 3.976562 -4.539062 4.046875 -4.789062 4.046875 -5.0625 C 4.046875 -5.257812 4.015625 -5.429688 3.953125 -5.578125 C 3.898438 -5.734375 3.816406 -5.859375 3.703125 -5.953125 C 3.597656 -6.054688 3.46875 -6.132812 3.3125 -6.1875 C 3.15625 -6.238281 2.984375 -6.265625 2.796875 -6.265625 C 2.617188 -6.265625 2.453125 -6.238281 2.296875 -6.1875 C 2.140625 -6.132812 2 -6.0625 1.875 -5.96875 C 1.757812 -5.875 1.660156 -5.753906 1.578125 -5.609375 C 1.503906 -5.460938 1.457031 -5.289062 1.4375 -5.09375 L 0.546875 -5.1875 C 0.578125 -5.425781 0.644531 -5.65625 0.75 -5.875 C 0.851562 -6.09375 1 -6.285156 1.1875 -6.453125 C 1.375 -6.617188 1.597656 -6.75 1.859375 -6.84375 C 2.128906 -6.9375 2.441406 -6.984375 2.796875 -6.984375 C 3.140625 -6.984375 3.441406 -6.941406 3.703125 -6.859375 C 3.972656 -6.773438 4.195312 -6.65625 4.375 -6.5 C 4.5625 -6.34375 4.703125 -6.144531 4.796875 -5.90625 C 4.898438 -5.675781 4.953125 -5.40625 4.953125 -5.09375 C 4.953125 -4.863281 4.910156 -4.644531 4.828125 -4.4375 C 4.742188 -4.226562 4.628906 -4.03125 4.484375 -3.84375 C 4.347656 -3.65625 4.1875 -3.472656 4 -3.296875 C 3.820312 -3.117188 3.632812 -2.945312 3.4375 -2.78125 C 3.238281 -2.613281 3.039062 -2.445312 2.84375 -2.28125 C 2.644531 -2.113281 2.453125 -1.945312 2.265625 -1.78125 C 2.085938 -1.613281 1.929688 -1.445312 1.796875 -1.28125 C 1.660156 -1.113281 1.550781 -0.9375 1.46875 -0.75 L 5.0625 -0.75 L 5.0625 0 Z M 0.5 0 \"/>\n",
       "</symbol>\n",
       "<symbol overflow=\"visible\" id=\"glyph1-16\">\n",
       "<path style=\"stroke:none;\" d=\"M 5.09375 -3.578125 C 5.09375 -2.960938 5.03125 -2.425781 4.90625 -1.96875 C 4.789062 -1.507812 4.625 -1.125 4.40625 -0.8125 C 4.195312 -0.507812 3.9375 -0.28125 3.625 -0.125 C 3.320312 0.0195312 2.976562 0.09375 2.59375 0.09375 C 2.332031 0.09375 2.09375 0.0664062 1.875 0.015625 C 1.664062 -0.0351562 1.476562 -0.117188 1.3125 -0.234375 C 1.144531 -0.347656 1.003906 -0.492188 0.890625 -0.671875 C 0.773438 -0.859375 0.679688 -1.082031 0.609375 -1.34375 L 1.453125 -1.46875 C 1.546875 -1.175781 1.6875 -0.957031 1.875 -0.8125 C 2.070312 -0.675781 2.316406 -0.609375 2.609375 -0.609375 C 2.847656 -0.609375 3.066406 -0.664062 3.265625 -0.78125 C 3.460938 -0.894531 3.628906 -1.0625 3.765625 -1.28125 C 3.898438 -1.507812 4.003906 -1.789062 4.078125 -2.125 C 4.160156 -2.46875 4.207031 -2.867188 4.21875 -3.328125 C 4.144531 -3.171875 4.050781 -3.03125 3.9375 -2.90625 C 3.820312 -2.789062 3.6875 -2.691406 3.53125 -2.609375 C 3.382812 -2.523438 3.222656 -2.457031 3.046875 -2.40625 C 2.867188 -2.363281 2.691406 -2.34375 2.515625 -2.34375 C 2.203125 -2.34375 1.914062 -2.398438 1.65625 -2.515625 C 1.40625 -2.628906 1.191406 -2.785156 1.015625 -2.984375 C 0.835938 -3.191406 0.703125 -3.4375 0.609375 -3.71875 C 0.515625 -4 0.46875 -4.316406 0.46875 -4.671875 C 0.46875 -5.023438 0.519531 -5.34375 0.625 -5.625 C 0.726562 -5.914062 0.875 -6.160156 1.0625 -6.359375 C 1.257812 -6.554688 1.5 -6.707031 1.78125 -6.8125 C 2.070312 -6.925781 2.398438 -6.984375 2.765625 -6.984375 C 3.523438 -6.984375 4.101562 -6.695312 4.5 -6.125 C 4.894531 -5.5625 5.09375 -4.710938 5.09375 -3.578125 Z M 4.125 -4.421875 C 4.125 -4.679688 4.09375 -4.921875 4.03125 -5.140625 C 3.976562 -5.367188 3.890625 -5.566406 3.765625 -5.734375 C 3.648438 -5.898438 3.503906 -6.03125 3.328125 -6.125 C 3.160156 -6.21875 2.960938 -6.265625 2.734375 -6.265625 C 2.515625 -6.265625 2.320312 -6.226562 2.15625 -6.15625 C 1.988281 -6.082031 1.84375 -5.972656 1.71875 -5.828125 C 1.601562 -5.691406 1.515625 -5.523438 1.453125 -5.328125 C 1.390625 -5.128906 1.359375 -4.910156 1.359375 -4.671875 C 1.359375 -4.441406 1.382812 -4.222656 1.4375 -4.015625 C 1.5 -3.816406 1.585938 -3.644531 1.703125 -3.5 C 1.816406 -3.363281 1.957031 -3.253906 2.125 -3.171875 C 2.300781 -3.085938 2.5 -3.046875 2.71875 -3.046875 C 2.882812 -3.046875 3.050781 -3.070312 3.21875 -3.125 C 3.382812 -3.175781 3.535156 -3.257812 3.671875 -3.375 C 3.804688 -3.488281 3.914062 -3.632812 4 -3.8125 C 4.082031 -3.988281 4.125 -4.191406 4.125 -4.421875 Z M 4.125 -4.421875 \"/>\n",
       "</symbol>\n",
       "<symbol overflow=\"visible\" id=\"glyph1-17\">\n",
       "<path style=\"stroke:none;\" d=\"M 0.828125 0 L 0.828125 -6.875 L 1.75 -6.875 L 1.75 -0.765625 L 5.234375 -0.765625 L 5.234375 0 Z M 0.828125 0 \"/>\n",
       "</symbol>\n",
       "<symbol overflow=\"visible\" id=\"glyph1-18\">\n",
       "<path style=\"stroke:none;\" d=\"M 3.515625 -6.125 L 3.515625 0 L 2.59375 0 L 2.59375 -6.125 L 0.21875 -6.125 L 0.21875 -6.875 L 5.875 -6.875 L 5.875 -6.125 Z M 3.515625 -6.125 \"/>\n",
       "</symbol>\n",
       "<symbol overflow=\"visible\" id=\"glyph1-19\">\n",
       "<path style=\"stroke:none;\" d=\"M 4.03125 0 L 4.03125 -3.34375 C 4.03125 -3.601562 4.007812 -3.816406 3.96875 -3.984375 C 3.9375 -4.160156 3.875 -4.300781 3.78125 -4.40625 C 3.695312 -4.519531 3.585938 -4.597656 3.453125 -4.640625 C 3.316406 -4.679688 3.144531 -4.703125 2.9375 -4.703125 C 2.726562 -4.703125 2.539062 -4.664062 2.375 -4.59375 C 2.207031 -4.519531 2.0625 -4.410156 1.9375 -4.265625 C 1.820312 -4.128906 1.734375 -3.957031 1.671875 -3.75 C 1.609375 -3.550781 1.578125 -3.320312 1.578125 -3.0625 L 1.578125 0 L 0.6875 0 L 0.6875 -4.15625 C 0.6875 -4.269531 0.6875 -4.382812 0.6875 -4.5 C 0.6875 -4.625 0.679688 -4.738281 0.671875 -4.84375 C 0.671875 -4.957031 0.671875 -5.050781 0.671875 -5.125 C 0.671875 -5.207031 0.671875 -5.257812 0.671875 -5.28125 L 1.5 -5.28125 C 1.5 -5.269531 1.5 -5.226562 1.5 -5.15625 C 1.507812 -5.082031 1.515625 -5 1.515625 -4.90625 C 1.523438 -4.8125 1.53125 -4.71875 1.53125 -4.625 C 1.53125 -4.53125 1.53125 -4.445312 1.53125 -4.375 L 1.546875 -4.375 C 1.628906 -4.53125 1.722656 -4.671875 1.828125 -4.796875 C 1.929688 -4.921875 2.046875 -5.023438 2.171875 -5.109375 C 2.304688 -5.191406 2.457031 -5.253906 2.625 -5.296875 C 2.800781 -5.347656 3.003906 -5.375 3.234375 -5.375 C 3.523438 -5.375 3.773438 -5.335938 3.984375 -5.265625 C 4.203125 -5.203125 4.378906 -5.09375 4.515625 -4.9375 C 4.648438 -4.789062 4.75 -4.597656 4.8125 -4.359375 C 4.875 -4.128906 4.90625 -3.847656 4.90625 -3.515625 L 4.90625 0 Z M 4.03125 0 \"/>\n",
       "</symbol>\n",
       "<symbol overflow=\"visible\" id=\"glyph1-20\">\n",
       "<path style=\"stroke:none;\" d=\"M 3.875 -6.21875 C 3.476562 -6.21875 3.128906 -6.148438 2.828125 -6.015625 C 2.523438 -5.890625 2.269531 -5.707031 2.0625 -5.46875 C 1.863281 -5.226562 1.710938 -4.9375 1.609375 -4.59375 C 1.503906 -4.257812 1.453125 -3.882812 1.453125 -3.46875 C 1.453125 -3.0625 1.507812 -2.6875 1.625 -2.34375 C 1.738281 -2 1.898438 -1.703125 2.109375 -1.453125 C 2.316406 -1.203125 2.570312 -1.007812 2.875 -0.875 C 3.175781 -0.738281 3.519531 -0.671875 3.90625 -0.671875 C 4.175781 -0.671875 4.421875 -0.703125 4.640625 -0.765625 C 4.859375 -0.835938 5.054688 -0.9375 5.234375 -1.0625 C 5.410156 -1.195312 5.566406 -1.347656 5.703125 -1.515625 C 5.847656 -1.691406 5.972656 -1.882812 6.078125 -2.09375 L 6.84375 -1.71875 C 6.71875 -1.457031 6.5625 -1.21875 6.375 -1 C 6.195312 -0.78125 5.984375 -0.585938 5.734375 -0.421875 C 5.492188 -0.265625 5.21875 -0.140625 4.90625 -0.046875 C 4.59375 0.046875 4.242188 0.09375 3.859375 0.09375 C 3.304688 0.09375 2.816406 0.00390625 2.390625 -0.171875 C 1.972656 -0.347656 1.625 -0.59375 1.34375 -0.90625 C 1.0625 -1.226562 0.851562 -1.609375 0.71875 -2.046875 C 0.582031 -2.484375 0.515625 -2.957031 0.515625 -3.46875 C 0.515625 -4.007812 0.585938 -4.492188 0.734375 -4.921875 C 0.878906 -5.359375 1.09375 -5.726562 1.375 -6.03125 C 1.664062 -6.332031 2.019531 -6.566406 2.4375 -6.734375 C 2.851562 -6.898438 3.328125 -6.984375 3.859375 -6.984375 C 4.585938 -6.984375 5.195312 -6.835938 5.6875 -6.546875 C 6.1875 -6.265625 6.550781 -5.84375 6.78125 -5.28125 L 5.890625 -4.984375 C 5.828125 -5.148438 5.738281 -5.304688 5.625 -5.453125 C 5.519531 -5.597656 5.382812 -5.726562 5.21875 -5.84375 C 5.050781 -5.957031 4.851562 -6.046875 4.625 -6.109375 C 4.40625 -6.179688 4.15625 -6.21875 3.875 -6.21875 Z M 3.875 -6.21875 \"/>\n",
       "</symbol>\n",
       "<symbol overflow=\"visible\" id=\"glyph1-21\">\n",
       "<path style=\"stroke:none;\" d=\"M 6.75 -3.515625 C 6.75 -2.941406 6.660156 -2.4375 6.484375 -2 C 6.304688 -1.5625 6.066406 -1.191406 5.765625 -0.890625 C 5.472656 -0.597656 5.125 -0.375 4.71875 -0.21875 C 4.3125 -0.0703125 3.867188 0 3.390625 0 L 0.828125 0 L 0.828125 -6.875 L 3.09375 -6.875 C 3.625 -6.875 4.113281 -6.804688 4.5625 -6.671875 C 5.007812 -6.546875 5.394531 -6.34375 5.71875 -6.0625 C 6.039062 -5.789062 6.289062 -5.441406 6.46875 -5.015625 C 6.65625 -4.597656 6.75 -4.097656 6.75 -3.515625 Z M 5.8125 -3.515625 C 5.8125 -3.972656 5.742188 -4.367188 5.609375 -4.703125 C 5.472656 -5.035156 5.285156 -5.304688 5.046875 -5.515625 C 4.804688 -5.722656 4.515625 -5.878906 4.171875 -5.984375 C 3.835938 -6.085938 3.472656 -6.140625 3.078125 -6.140625 L 1.75 -6.140625 L 1.75 -0.75 L 3.28125 -0.75 C 3.644531 -0.75 3.976562 -0.804688 4.28125 -0.921875 C 4.59375 -1.035156 4.859375 -1.207031 5.078125 -1.4375 C 5.304688 -1.675781 5.484375 -1.96875 5.609375 -2.3125 C 5.742188 -2.65625 5.8125 -3.054688 5.8125 -3.515625 Z M 5.8125 -3.515625 \"/>\n",
       "</symbol>\n",
       "<symbol overflow=\"visible\" id=\"glyph1-22\">\n",
       "<path style=\"stroke:none;\" d=\"M 4.640625 -1.453125 C 4.640625 -1.210938 4.585938 -0.992188 4.484375 -0.796875 C 4.390625 -0.609375 4.25 -0.445312 4.0625 -0.3125 C 3.882812 -0.175781 3.664062 -0.0703125 3.40625 0 C 3.144531 0.0625 2.84375 0.09375 2.5 0.09375 C 2.1875 0.09375 1.90625 0.0664062 1.65625 0.015625 C 1.414062 -0.0234375 1.203125 -0.0976562 1.015625 -0.203125 C 0.835938 -0.304688 0.679688 -0.441406 0.546875 -0.609375 C 0.421875 -0.785156 0.332031 -0.992188 0.28125 -1.234375 L 1.0625 -1.390625 C 1.132812 -1.109375 1.285156 -0.898438 1.515625 -0.765625 C 1.753906 -0.640625 2.082031 -0.578125 2.5 -0.578125 C 2.6875 -0.578125 2.859375 -0.585938 3.015625 -0.609375 C 3.171875 -0.640625 3.304688 -0.6875 3.421875 -0.75 C 3.535156 -0.8125 3.625 -0.894531 3.6875 -1 C 3.75 -1.101562 3.78125 -1.234375 3.78125 -1.390625 C 3.78125 -1.546875 3.742188 -1.675781 3.671875 -1.78125 C 3.597656 -1.882812 3.492188 -1.96875 3.359375 -2.03125 C 3.222656 -2.101562 3.0625 -2.164062 2.875 -2.21875 C 2.6875 -2.269531 2.476562 -2.328125 2.25 -2.390625 C 2.03125 -2.441406 1.816406 -2.5 1.609375 -2.5625 C 1.398438 -2.632812 1.210938 -2.726562 1.046875 -2.84375 C 0.878906 -2.957031 0.742188 -3.097656 0.640625 -3.265625 C 0.535156 -3.429688 0.484375 -3.640625 0.484375 -3.890625 C 0.484375 -4.367188 0.65625 -4.734375 1 -4.984375 C 1.34375 -5.234375 1.84375 -5.359375 2.5 -5.359375 C 3.082031 -5.359375 3.546875 -5.253906 3.890625 -5.046875 C 4.234375 -4.847656 4.453125 -4.523438 4.546875 -4.078125 L 3.75 -3.96875 C 3.726562 -4.113281 3.675781 -4.226562 3.59375 -4.3125 C 3.519531 -4.40625 3.425781 -4.476562 3.3125 -4.53125 C 3.195312 -4.59375 3.070312 -4.632812 2.9375 -4.65625 C 2.800781 -4.6875 2.65625 -4.703125 2.5 -4.703125 C 2.101562 -4.703125 1.8125 -4.640625 1.625 -4.515625 C 1.4375 -4.398438 1.34375 -4.21875 1.34375 -3.96875 C 1.34375 -3.832031 1.375 -3.71875 1.4375 -3.625 C 1.507812 -3.53125 1.609375 -3.453125 1.734375 -3.390625 C 1.859375 -3.328125 2.007812 -3.269531 2.1875 -3.21875 C 2.363281 -3.175781 2.5625 -3.128906 2.78125 -3.078125 C 2.914062 -3.035156 3.054688 -2.992188 3.203125 -2.953125 C 3.347656 -2.910156 3.488281 -2.859375 3.625 -2.796875 C 3.769531 -2.742188 3.898438 -2.679688 4.015625 -2.609375 C 4.140625 -2.535156 4.25 -2.441406 4.34375 -2.328125 C 4.4375 -2.222656 4.507812 -2.097656 4.5625 -1.953125 C 4.613281 -1.816406 4.640625 -1.648438 4.640625 -1.453125 Z M 4.640625 -1.453125 \"/>\n",
       "</symbol>\n",
       "<symbol overflow=\"visible\" id=\"glyph1-23\">\n",
       "<path style=\"stroke:none;\" d=\"M 2.703125 -0.046875 C 2.566406 -0.00390625 2.429688 0.0234375 2.296875 0.046875 C 2.160156 0.0664062 2 0.078125 1.8125 0.078125 C 1.113281 0.078125 0.765625 -0.320312 0.765625 -1.125 L 0.765625 -4.640625 L 0.15625 -4.640625 L 0.15625 -5.28125 L 0.796875 -5.28125 L 1.0625 -6.46875 L 1.640625 -6.46875 L 1.640625 -5.28125 L 2.625 -5.28125 L 2.625 -4.640625 L 1.640625 -4.640625 L 1.640625 -1.3125 C 1.640625 -1.050781 1.679688 -0.867188 1.765625 -0.765625 C 1.847656 -0.671875 1.992188 -0.625 2.203125 -0.625 C 2.285156 -0.625 2.363281 -0.628906 2.4375 -0.640625 C 2.519531 -0.648438 2.609375 -0.664062 2.703125 -0.6875 Z M 2.703125 -0.046875 \"/>\n",
       "</symbol>\n",
       "<symbol overflow=\"visible\" id=\"glyph1-24\">\n",
       "<path style=\"stroke:none;\" d=\"M 1.34375 -2.453125 C 1.34375 -2.179688 1.367188 -1.925781 1.421875 -1.6875 C 1.484375 -1.457031 1.570312 -1.257812 1.6875 -1.09375 C 1.8125 -0.925781 1.96875 -0.796875 2.15625 -0.703125 C 2.34375 -0.609375 2.566406 -0.5625 2.828125 -0.5625 C 3.203125 -0.5625 3.503906 -0.632812 3.734375 -0.78125 C 3.960938 -0.9375 4.117188 -1.132812 4.203125 -1.375 L 4.96875 -1.15625 C 4.914062 -1.007812 4.835938 -0.859375 4.734375 -0.703125 C 4.640625 -0.554688 4.507812 -0.421875 4.34375 -0.296875 C 4.175781 -0.179688 3.96875 -0.0859375 3.71875 -0.015625 C 3.46875 0.0546875 3.171875 0.09375 2.828125 0.09375 C 2.046875 0.09375 1.445312 -0.132812 1.03125 -0.59375 C 0.625 -1.0625 0.421875 -1.753906 0.421875 -2.671875 C 0.421875 -3.171875 0.484375 -3.59375 0.609375 -3.9375 C 0.734375 -4.28125 0.898438 -4.554688 1.109375 -4.765625 C 1.328125 -4.984375 1.578125 -5.140625 1.859375 -5.234375 C 2.148438 -5.328125 2.457031 -5.375 2.78125 -5.375 C 3.226562 -5.375 3.597656 -5.300781 3.890625 -5.15625 C 4.191406 -5.019531 4.429688 -4.820312 4.609375 -4.5625 C 4.796875 -4.3125 4.925781 -4.015625 5 -3.671875 C 5.082031 -3.335938 5.125 -2.972656 5.125 -2.578125 L 5.125 -2.453125 Z M 4.203125 -3.125 C 4.160156 -3.6875 4.019531 -4.09375 3.78125 -4.34375 C 3.550781 -4.601562 3.21875 -4.734375 2.78125 -4.734375 C 2.625 -4.734375 2.46875 -4.707031 2.3125 -4.65625 C 2.15625 -4.613281 2.003906 -4.53125 1.859375 -4.40625 C 1.722656 -4.289062 1.609375 -4.128906 1.515625 -3.921875 C 1.421875 -3.710938 1.367188 -3.445312 1.359375 -3.125 Z M 4.203125 -3.125 \"/>\n",
       "</symbol>\n",
       "<symbol overflow=\"visible\" id=\"glyph1-25\">\n",
       "<path style=\"stroke:none;\" d=\"M 3.75 0 L 3.75 -3.34375 C 3.75 -3.601562 3.734375 -3.816406 3.703125 -3.984375 C 3.671875 -4.160156 3.613281 -4.300781 3.53125 -4.40625 C 3.457031 -4.519531 3.359375 -4.597656 3.234375 -4.640625 C 3.109375 -4.679688 2.957031 -4.703125 2.78125 -4.703125 C 2.59375 -4.703125 2.425781 -4.664062 2.28125 -4.59375 C 2.132812 -4.519531 2.003906 -4.410156 1.890625 -4.265625 C 1.785156 -4.128906 1.703125 -3.957031 1.640625 -3.75 C 1.585938 -3.550781 1.5625 -3.320312 1.5625 -3.0625 L 1.5625 0 L 0.6875 0 L 0.6875 -4.15625 C 0.6875 -4.269531 0.6875 -4.382812 0.6875 -4.5 C 0.6875 -4.625 0.679688 -4.738281 0.671875 -4.84375 C 0.671875 -4.957031 0.671875 -5.050781 0.671875 -5.125 C 0.671875 -5.207031 0.671875 -5.257812 0.671875 -5.28125 L 1.5 -5.28125 C 1.5 -5.269531 1.5 -5.226562 1.5 -5.15625 C 1.507812 -5.082031 1.515625 -5 1.515625 -4.90625 C 1.523438 -4.8125 1.53125 -4.71875 1.53125 -4.625 C 1.53125 -4.53125 1.53125 -4.445312 1.53125 -4.375 L 1.546875 -4.375 C 1.628906 -4.53125 1.710938 -4.671875 1.796875 -4.796875 C 1.890625 -4.921875 2 -5.023438 2.125 -5.109375 C 2.25 -5.191406 2.390625 -5.253906 2.546875 -5.296875 C 2.703125 -5.347656 2.882812 -5.375 3.09375 -5.375 C 3.488281 -5.375 3.800781 -5.296875 4.03125 -5.140625 C 4.269531 -4.984375 4.4375 -4.726562 4.53125 -4.375 L 4.546875 -4.375 C 4.617188 -4.53125 4.703125 -4.671875 4.796875 -4.796875 C 4.898438 -4.921875 5.015625 -5.023438 5.140625 -5.109375 C 5.273438 -5.191406 5.421875 -5.253906 5.578125 -5.296875 C 5.742188 -5.347656 5.929688 -5.375 6.140625 -5.375 C 6.410156 -5.375 6.640625 -5.335938 6.828125 -5.265625 C 7.023438 -5.203125 7.1875 -5.09375 7.3125 -4.9375 C 7.4375 -4.789062 7.523438 -4.597656 7.578125 -4.359375 C 7.640625 -4.128906 7.671875 -3.847656 7.671875 -3.515625 L 7.671875 0 L 6.796875 0 L 6.796875 -3.34375 C 6.796875 -3.601562 6.78125 -3.816406 6.75 -3.984375 C 6.71875 -4.160156 6.660156 -4.300781 6.578125 -4.40625 C 6.503906 -4.519531 6.40625 -4.597656 6.28125 -4.640625 C 6.164062 -4.679688 6.015625 -4.703125 5.828125 -4.703125 C 5.648438 -4.703125 5.484375 -4.664062 5.328125 -4.59375 C 5.179688 -4.53125 5.054688 -4.425781 4.953125 -4.28125 C 4.847656 -4.144531 4.765625 -3.972656 4.703125 -3.765625 C 4.648438 -3.566406 4.625 -3.332031 4.625 -3.0625 L 4.625 0 Z M 3.75 0 \"/>\n",
       "</symbol>\n",
       "<symbol overflow=\"visible\" id=\"glyph1-26\">\n",
       "<path style=\"stroke:none;\" d=\"M 0.6875 0 L 0.6875 -4.046875 C 0.6875 -4.160156 0.6875 -4.273438 0.6875 -4.390625 C 0.6875 -4.503906 0.679688 -4.613281 0.671875 -4.71875 C 0.671875 -4.832031 0.671875 -4.9375 0.671875 -5.03125 C 0.671875 -5.125 0.671875 -5.207031 0.671875 -5.28125 L 1.5 -5.28125 C 1.5 -5.207031 1.5 -5.125 1.5 -5.03125 C 1.507812 -4.9375 1.515625 -4.835938 1.515625 -4.734375 C 1.523438 -4.628906 1.53125 -4.53125 1.53125 -4.4375 C 1.53125 -4.34375 1.53125 -4.265625 1.53125 -4.203125 L 1.546875 -4.203125 C 1.609375 -4.398438 1.675781 -4.570312 1.75 -4.71875 C 1.820312 -4.875 1.90625 -5 2 -5.09375 C 2.09375 -5.1875 2.203125 -5.253906 2.328125 -5.296875 C 2.460938 -5.347656 2.625 -5.375 2.8125 -5.375 C 2.882812 -5.375 2.953125 -5.367188 3.015625 -5.359375 C 3.078125 -5.347656 3.128906 -5.335938 3.171875 -5.328125 L 3.171875 -4.53125 C 3.109375 -4.539062 3.035156 -4.550781 2.953125 -4.5625 C 2.878906 -4.570312 2.796875 -4.578125 2.703125 -4.578125 C 2.492188 -4.578125 2.316406 -4.53125 2.171875 -4.4375 C 2.035156 -4.34375 1.921875 -4.210938 1.828125 -4.046875 C 1.742188 -3.890625 1.679688 -3.703125 1.640625 -3.484375 C 1.597656 -3.265625 1.578125 -3.019531 1.578125 -2.75 L 1.578125 0 Z M 0.6875 0 \"/>\n",
       "</symbol>\n",
       "<symbol overflow=\"visible\" id=\"glyph1-27\">\n",
       "<path style=\"stroke:none;\" d=\"M 2.015625 0.09375 C 1.484375 0.09375 1.082031 -0.046875 0.8125 -0.328125 C 0.550781 -0.609375 0.421875 -0.988281 0.421875 -1.46875 C 0.421875 -1.820312 0.488281 -2.109375 0.625 -2.328125 C 0.757812 -2.554688 0.929688 -2.734375 1.140625 -2.859375 C 1.347656 -2.984375 1.585938 -3.066406 1.859375 -3.109375 C 2.140625 -3.160156 2.421875 -3.191406 2.703125 -3.203125 L 3.890625 -3.21875 L 3.890625 -3.515625 C 3.890625 -3.734375 3.863281 -3.914062 3.8125 -4.0625 C 3.769531 -4.21875 3.703125 -4.34375 3.609375 -4.4375 C 3.515625 -4.53125 3.394531 -4.597656 3.25 -4.640625 C 3.113281 -4.691406 2.953125 -4.71875 2.765625 -4.71875 C 2.585938 -4.71875 2.429688 -4.703125 2.296875 -4.671875 C 2.160156 -4.648438 2.039062 -4.609375 1.9375 -4.546875 C 1.84375 -4.484375 1.765625 -4.394531 1.703125 -4.28125 C 1.640625 -4.175781 1.597656 -4.039062 1.578125 -3.875 L 0.65625 -3.953125 C 0.6875 -4.160156 0.75 -4.351562 0.84375 -4.53125 C 0.9375 -4.707031 1.066406 -4.859375 1.234375 -4.984375 C 1.398438 -5.109375 1.609375 -5.203125 1.859375 -5.265625 C 2.109375 -5.335938 2.414062 -5.375 2.78125 -5.375 C 3.445312 -5.375 3.945312 -5.222656 4.28125 -4.921875 C 4.613281 -4.617188 4.78125 -4.179688 4.78125 -3.609375 L 4.78125 -1.328125 C 4.78125 -1.066406 4.8125 -0.867188 4.875 -0.734375 C 4.945312 -0.609375 5.082031 -0.546875 5.28125 -0.546875 C 5.320312 -0.546875 5.367188 -0.546875 5.421875 -0.546875 C 5.472656 -0.554688 5.519531 -0.566406 5.5625 -0.578125 L 5.5625 -0.03125 C 5.445312 0 5.332031 0.0195312 5.21875 0.03125 C 5.113281 0.0390625 5.003906 0.046875 4.890625 0.046875 C 4.722656 0.046875 4.578125 0.0234375 4.453125 -0.015625 C 4.335938 -0.0546875 4.238281 -0.125 4.15625 -0.21875 C 4.082031 -0.3125 4.023438 -0.421875 3.984375 -0.546875 C 3.953125 -0.679688 3.929688 -0.835938 3.921875 -1.015625 L 3.890625 -1.015625 C 3.796875 -0.835938 3.691406 -0.679688 3.578125 -0.546875 C 3.460938 -0.410156 3.332031 -0.296875 3.1875 -0.203125 C 3.039062 -0.109375 2.867188 -0.0351562 2.671875 0.015625 C 2.484375 0.0664062 2.265625 0.09375 2.015625 0.09375 Z M 2.21875 -0.5625 C 2.5 -0.5625 2.742188 -0.613281 2.953125 -0.71875 C 3.160156 -0.820312 3.332031 -0.953125 3.46875 -1.109375 C 3.613281 -1.265625 3.71875 -1.4375 3.78125 -1.625 C 3.851562 -1.820312 3.890625 -2.003906 3.890625 -2.171875 L 3.890625 -2.609375 L 2.9375 -2.59375 C 2.71875 -2.582031 2.507812 -2.5625 2.3125 -2.53125 C 2.125 -2.507812 1.957031 -2.457031 1.8125 -2.375 C 1.664062 -2.289062 1.546875 -2.175781 1.453125 -2.03125 C 1.367188 -1.882812 1.328125 -1.691406 1.328125 -1.453125 C 1.328125 -1.171875 1.40625 -0.953125 1.5625 -0.796875 C 1.71875 -0.640625 1.9375 -0.5625 2.21875 -0.5625 Z M 2.21875 -0.5625 \"/>\n",
       "</symbol>\n",
       "<symbol overflow=\"visible\" id=\"glyph1-28\">\n",
       "<path style=\"stroke:none;\" d=\"M 0.4375 -2.265625 L 0.4375 -3.046875 L 2.890625 -3.046875 L 2.890625 -2.265625 Z M 0.4375 -2.265625 \"/>\n",
       "</symbol>\n",
       "<symbol overflow=\"visible\" id=\"glyph2-0\">\n",
       "<path style=\"stroke:none;\" d=\"M 0.328125 0 L 0.328125 -6.671875 L 2.984375 -6.671875 L 2.984375 0 Z M 0.671875 -0.328125 L 2.65625 -0.328125 L 2.65625 -6.328125 L 0.671875 -6.328125 Z M 0.671875 -0.328125 \"/>\n",
       "</symbol>\n",
       "<symbol overflow=\"visible\" id=\"glyph2-1\">\n",
       "<path style=\"stroke:none;\" d=\"M 2.90625 2.125 C 2.5625 2.125 2.253906 2.085938 1.984375 2.015625 C 1.722656 1.941406 1.5 1.84375 1.3125 1.71875 C 1.125 1.59375 0.972656 1.441406 0.859375 1.265625 C 0.742188 1.097656 0.664062 0.910156 0.625 0.703125 L 2 0.53125 C 2.050781 0.75 2.15625 0.914062 2.3125 1.03125 C 2.476562 1.15625 2.691406 1.21875 2.953125 1.21875 C 3.109375 1.21875 3.253906 1.191406 3.390625 1.140625 C 3.523438 1.097656 3.640625 1.019531 3.734375 0.90625 C 3.835938 0.800781 3.914062 0.660156 3.96875 0.484375 C 4.019531 0.304688 4.046875 0.0820312 4.046875 -0.1875 C 4.046875 -0.269531 4.046875 -0.359375 4.046875 -0.453125 C 4.046875 -0.546875 4.046875 -0.632812 4.046875 -0.71875 C 4.054688 -0.8125 4.0625 -0.898438 4.0625 -0.984375 L 4.046875 -0.984375 C 3.890625 -0.640625 3.664062 -0.390625 3.375 -0.234375 C 3.082031 -0.0859375 2.738281 -0.015625 2.34375 -0.015625 C 2.007812 -0.015625 1.722656 -0.078125 1.484375 -0.203125 C 1.242188 -0.335938 1.039062 -0.519531 0.875 -0.75 C 0.71875 -0.988281 0.597656 -1.269531 0.515625 -1.59375 C 0.441406 -1.925781 0.40625 -2.289062 0.40625 -2.6875 C 0.40625 -3.09375 0.445312 -3.457031 0.53125 -3.78125 C 0.613281 -4.113281 0.738281 -4.398438 0.90625 -4.640625 C 1.070312 -4.878906 1.28125 -5.0625 1.53125 -5.1875 C 1.789062 -5.320312 2.097656 -5.390625 2.453125 -5.390625 C 2.804688 -5.390625 3.117188 -5.3125 3.390625 -5.15625 C 3.671875 -5.007812 3.890625 -4.769531 4.046875 -4.4375 L 4.078125 -4.4375 C 4.078125 -4.5 4.078125 -4.578125 4.078125 -4.671875 C 4.085938 -4.765625 4.09375 -4.847656 4.09375 -4.921875 C 4.101562 -5.003906 4.109375 -5.078125 4.109375 -5.140625 C 4.117188 -5.210938 4.128906 -5.257812 4.140625 -5.28125 L 5.4375 -5.28125 C 5.4375 -5.164062 5.429688 -5 5.421875 -4.78125 C 5.410156 -4.570312 5.40625 -4.332031 5.40625 -4.0625 L 5.40625 -0.15625 C 5.40625 0.226562 5.347656 0.5625 5.234375 0.84375 C 5.128906 1.125 4.96875 1.359375 4.75 1.546875 C 4.539062 1.742188 4.28125 1.890625 3.96875 1.984375 C 3.65625 2.078125 3.300781 2.125 2.90625 2.125 Z M 4.0625 -2.71875 C 4.0625 -3.050781 4.023438 -3.328125 3.953125 -3.546875 C 3.890625 -3.765625 3.804688 -3.941406 3.703125 -4.078125 C 3.597656 -4.210938 3.476562 -4.304688 3.34375 -4.359375 C 3.207031 -4.410156 3.070312 -4.4375 2.9375 -4.4375 C 2.757812 -4.4375 2.601562 -4.398438 2.46875 -4.328125 C 2.332031 -4.265625 2.21875 -4.160156 2.125 -4.015625 C 2.03125 -3.878906 1.957031 -3.695312 1.90625 -3.46875 C 1.863281 -3.25 1.84375 -2.988281 1.84375 -2.6875 C 1.84375 -2.113281 1.929688 -1.679688 2.109375 -1.390625 C 2.296875 -1.109375 2.570312 -0.96875 2.9375 -0.96875 C 3.070312 -0.96875 3.207031 -0.992188 3.34375 -1.046875 C 3.476562 -1.097656 3.597656 -1.191406 3.703125 -1.328125 C 3.804688 -1.460938 3.890625 -1.640625 3.953125 -1.859375 C 4.023438 -2.085938 4.0625 -2.375 4.0625 -2.71875 Z M 4.0625 -2.71875 \"/>\n",
       "</symbol>\n",
       "<symbol overflow=\"visible\" id=\"glyph2-2\">\n",
       "<path style=\"stroke:none;\" d=\"M 0.703125 0 L 0.703125 -4.046875 C 0.703125 -4.160156 0.695312 -4.28125 0.6875 -4.40625 C 0.6875 -4.53125 0.679688 -4.648438 0.671875 -4.765625 C 0.671875 -4.878906 0.671875 -4.984375 0.671875 -5.078125 C 0.671875 -5.171875 0.664062 -5.238281 0.65625 -5.28125 L 1.96875 -5.28125 C 1.976562 -5.238281 1.984375 -5.171875 1.984375 -5.078125 C 1.992188 -4.984375 2 -4.878906 2 -4.765625 C 2.007812 -4.648438 2.015625 -4.535156 2.015625 -4.421875 C 2.023438 -4.316406 2.03125 -4.226562 2.03125 -4.15625 L 2.046875 -4.15625 C 2.117188 -4.34375 2.1875 -4.507812 2.25 -4.65625 C 2.320312 -4.8125 2.40625 -4.941406 2.5 -5.046875 C 2.59375 -5.160156 2.703125 -5.242188 2.828125 -5.296875 C 2.960938 -5.359375 3.125 -5.390625 3.3125 -5.390625 C 3.394531 -5.390625 3.472656 -5.378906 3.546875 -5.359375 C 3.628906 -5.347656 3.691406 -5.332031 3.734375 -5.3125 L 3.734375 -4.171875 C 3.648438 -4.179688 3.5625 -4.191406 3.46875 -4.203125 C 3.382812 -4.222656 3.28125 -4.234375 3.15625 -4.234375 C 2.8125 -4.234375 2.546875 -4.09375 2.359375 -3.8125 C 2.171875 -3.539062 2.078125 -3.132812 2.078125 -2.59375 L 2.078125 0 Z M 0.703125 0 \"/>\n",
       "</symbol>\n",
       "<symbol overflow=\"visible\" id=\"glyph2-3\">\n",
       "<path style=\"stroke:none;\" d=\"M 5.71875 -2.640625 C 5.71875 -2.242188 5.660156 -1.875 5.546875 -1.53125 C 5.429688 -1.195312 5.257812 -0.910156 5.03125 -0.671875 C 4.8125 -0.429688 4.535156 -0.242188 4.203125 -0.109375 C 3.867188 0.0234375 3.476562 0.09375 3.03125 0.09375 C 2.601562 0.09375 2.222656 0.03125 1.890625 -0.09375 C 1.566406 -0.226562 1.289062 -0.414062 1.0625 -0.65625 C 0.84375 -0.90625 0.675781 -1.195312 0.5625 -1.53125 C 0.445312 -1.863281 0.390625 -2.234375 0.390625 -2.640625 C 0.390625 -3.035156 0.441406 -3.398438 0.546875 -3.734375 C 0.660156 -4.066406 0.828125 -4.351562 1.046875 -4.59375 C 1.265625 -4.84375 1.539062 -5.035156 1.875 -5.171875 C 2.21875 -5.304688 2.613281 -5.375 3.0625 -5.375 C 3.539062 -5.375 3.945312 -5.304688 4.28125 -5.171875 C 4.613281 -5.035156 4.882812 -4.847656 5.09375 -4.609375 C 5.3125 -4.367188 5.46875 -4.082031 5.5625 -3.75 C 5.664062 -3.414062 5.71875 -3.046875 5.71875 -2.640625 Z M 4.28125 -2.640625 C 4.28125 -3.273438 4.175781 -3.734375 3.96875 -4.015625 C 3.769531 -4.296875 3.472656 -4.4375 3.078125 -4.4375 C 2.671875 -4.4375 2.359375 -4.289062 2.140625 -4 C 1.929688 -3.71875 1.828125 -3.265625 1.828125 -2.640625 C 1.828125 -2.328125 1.851562 -2.054688 1.90625 -1.828125 C 1.96875 -1.597656 2.050781 -1.410156 2.15625 -1.265625 C 2.257812 -1.117188 2.382812 -1.007812 2.53125 -0.9375 C 2.675781 -0.875 2.835938 -0.84375 3.015625 -0.84375 C 3.222656 -0.84375 3.40625 -0.875 3.5625 -0.9375 C 3.71875 -1.007812 3.847656 -1.117188 3.953125 -1.265625 C 4.054688 -1.410156 4.132812 -1.597656 4.1875 -1.828125 C 4.25 -2.054688 4.28125 -2.328125 4.28125 -2.640625 Z M 4.28125 -2.640625 \"/>\n",
       "</symbol>\n",
       "<symbol overflow=\"visible\" id=\"glyph2-4\">\n",
       "<path style=\"stroke:none;\" d=\"M 2 -5.28125 L 2 -2.3125 C 2 -2.113281 2.015625 -1.925781 2.046875 -1.75 C 2.078125 -1.582031 2.128906 -1.4375 2.203125 -1.3125 C 2.273438 -1.195312 2.367188 -1.101562 2.484375 -1.03125 C 2.609375 -0.957031 2.757812 -0.921875 2.9375 -0.921875 C 3.09375 -0.921875 3.238281 -0.957031 3.375 -1.03125 C 3.507812 -1.101562 3.625 -1.207031 3.71875 -1.34375 C 3.820312 -1.476562 3.898438 -1.640625 3.953125 -1.828125 C 4.003906 -2.015625 4.03125 -2.222656 4.03125 -2.453125 L 4.03125 -5.28125 L 5.40625 -5.28125 L 5.40625 -1.1875 C 5.40625 -1.070312 5.40625 -0.953125 5.40625 -0.828125 C 5.414062 -0.710938 5.421875 -0.597656 5.421875 -0.484375 C 5.429688 -0.378906 5.4375 -0.28125 5.4375 -0.1875 C 5.4375 -0.101562 5.441406 -0.0390625 5.453125 0 L 4.140625 0 C 4.140625 -0.0390625 4.132812 -0.101562 4.125 -0.1875 C 4.113281 -0.269531 4.101562 -0.363281 4.09375 -0.46875 C 4.09375 -0.570312 4.085938 -0.675781 4.078125 -0.78125 C 4.078125 -0.882812 4.078125 -0.972656 4.078125 -1.046875 L 4.0625 -1.046875 C 3.875 -0.648438 3.640625 -0.359375 3.359375 -0.171875 C 3.078125 0.00390625 2.742188 0.09375 2.359375 0.09375 C 2.046875 0.09375 1.773438 0.0390625 1.546875 -0.0625 C 1.328125 -0.164062 1.148438 -0.304688 1.015625 -0.484375 C 0.878906 -0.660156 0.78125 -0.875 0.71875 -1.125 C 0.65625 -1.375 0.625 -1.640625 0.625 -1.921875 L 0.625 -5.28125 Z M 2 -5.28125 \"/>\n",
       "</symbol>\n",
       "<symbol overflow=\"visible\" id=\"glyph2-5\">\n",
       "<path style=\"stroke:none;\" d=\"M 5.703125 -2.671875 C 5.703125 -2.265625 5.660156 -1.890625 5.578125 -1.546875 C 5.492188 -1.210938 5.367188 -0.921875 5.203125 -0.671875 C 5.046875 -0.429688 4.835938 -0.242188 4.578125 -0.109375 C 4.316406 0.0234375 4.015625 0.09375 3.671875 0.09375 C 3.515625 0.09375 3.359375 0.078125 3.203125 0.046875 C 3.046875 0.015625 2.894531 -0.0351562 2.75 -0.109375 C 2.613281 -0.179688 2.488281 -0.273438 2.375 -0.390625 C 2.257812 -0.515625 2.160156 -0.664062 2.078125 -0.84375 L 2.046875 -0.84375 C 2.046875 -0.820312 2.046875 -0.78125 2.046875 -0.71875 C 2.054688 -0.65625 2.0625 -0.578125 2.0625 -0.484375 C 2.0625 -0.398438 2.0625 -0.3125 2.0625 -0.21875 C 2.070312 -0.125 2.078125 -0.0351562 2.078125 0.046875 L 2.078125 2.078125 L 0.703125 2.078125 L 0.703125 -4.0625 C 0.703125 -4.332031 0.695312 -4.570312 0.6875 -4.78125 C 0.675781 -5 0.664062 -5.164062 0.65625 -5.28125 L 2 -5.28125 C 2 -5.257812 2.003906 -5.210938 2.015625 -5.140625 C 2.023438 -5.078125 2.03125 -5.003906 2.03125 -4.921875 C 2.039062 -4.835938 2.046875 -4.75 2.046875 -4.65625 C 2.046875 -4.570312 2.046875 -4.492188 2.046875 -4.421875 L 2.078125 -4.421875 C 2.234375 -4.773438 2.457031 -5.023438 2.75 -5.171875 C 3.039062 -5.316406 3.378906 -5.390625 3.765625 -5.390625 C 4.097656 -5.390625 4.382812 -5.320312 4.625 -5.1875 C 4.875 -5.050781 5.078125 -4.863281 5.234375 -4.625 C 5.390625 -4.382812 5.503906 -4.097656 5.578125 -3.765625 C 5.660156 -3.429688 5.703125 -3.066406 5.703125 -2.671875 Z M 4.265625 -2.671875 C 4.265625 -3.265625 4.171875 -3.707031 3.984375 -4 C 3.804688 -4.289062 3.535156 -4.4375 3.171875 -4.4375 C 3.035156 -4.4375 2.898438 -4.40625 2.765625 -4.34375 C 2.628906 -4.289062 2.507812 -4.195312 2.40625 -4.0625 C 2.300781 -3.925781 2.210938 -3.738281 2.140625 -3.5 C 2.078125 -3.269531 2.046875 -2.976562 2.046875 -2.625 C 2.046875 -2.28125 2.078125 -1.992188 2.140625 -1.765625 C 2.210938 -1.535156 2.300781 -1.351562 2.40625 -1.21875 C 2.507812 -1.082031 2.628906 -0.984375 2.765625 -0.921875 C 2.898438 -0.867188 3.035156 -0.84375 3.171875 -0.84375 C 3.347656 -0.84375 3.503906 -0.875 3.640625 -0.9375 C 3.773438 -1.007812 3.890625 -1.117188 3.984375 -1.265625 C 4.078125 -1.421875 4.144531 -1.613281 4.1875 -1.84375 C 4.238281 -2.070312 4.265625 -2.347656 4.265625 -2.671875 Z M 4.265625 -2.671875 \"/>\n",
       "</symbol>\n",
       "</g>\n",
       "<clipPath id=\"clip1\">\n",
       "  <path d=\"M 458 483 L 468 483 L 468 488.5 L 458 488.5 Z M 458 483 \"/>\n",
       "</clipPath>\n",
       "<clipPath id=\"clip2\">\n",
       "  <path d=\"M 442 481 L 452 481 L 452 488.5 L 442 488.5 Z M 442 481 \"/>\n",
       "</clipPath>\n",
       "<clipPath id=\"clip3\">\n",
       "  <path d=\"M 490 476 L 500 476 L 500 488.5 L 490 488.5 Z M 490 476 \"/>\n",
       "</clipPath>\n",
       "<clipPath id=\"clip4\">\n",
       "  <path d=\"M 482 469 L 496 469 L 496 488.5 L 482 488.5 Z M 482 469 \"/>\n",
       "</clipPath>\n",
       "<clipPath id=\"clip5\">\n",
       "  <path d=\"M 474 461 L 490 461 L 490 488.5 L 474 488.5 Z M 474 461 \"/>\n",
       "</clipPath>\n",
       "<clipPath id=\"clip6\">\n",
       "  <path d=\"M 430 514 L 439.320312 514 L 439.320312 523 L 430 523 Z M 430 514 \"/>\n",
       "</clipPath>\n",
       "<clipPath id=\"clip7\">\n",
       "  <path d=\"M 427 506 L 439.320312 506 L 439.320312 519 L 427 519 Z M 427 506 \"/>\n",
       "</clipPath>\n",
       "<clipPath id=\"clip8\">\n",
       "  <path d=\"M 419 538 L 439.320312 538 L 439.320312 547 L 419 547 Z M 419 538 \"/>\n",
       "</clipPath>\n",
       "<clipPath id=\"clip9\">\n",
       "  <path d=\"M 391 530 L 439.320312 530 L 439.320312 543 L 391 543 Z M 391 530 \"/>\n",
       "</clipPath>\n",
       "</defs>\n",
       "<g id=\"surface268\">\n",
       "<rect x=\"0\" y=\"0\" width=\"1080\" height=\"1080\" style=\"fill:rgb(100%,100%,100%);fill-opacity:1;stroke:none;\"/>\n",
       "<g clip-path=\"url(#clip1)\" clip-rule=\"nonzero\">\n",
       "<path style=\"fill:none;stroke-width:0.75;stroke-linecap:round;stroke-linejoin:round;stroke:rgb(0%,0%,0%);stroke-opacity:1;stroke-miterlimit:10;\" d=\"M 459.320312 488.5 L 459.320312 483.476562 L 467.320312 483.476562 L 467.320312 488.5 \"/>\n",
       "</g>\n",
       "<g clip-path=\"url(#clip2)\" clip-rule=\"nonzero\">\n",
       "<path style=\"fill:none;stroke-width:0.75;stroke-linecap:round;stroke-linejoin:round;stroke:rgb(0%,0%,0%);stroke-opacity:1;stroke-miterlimit:10;\" d=\"M 443.320312 488.5 L 443.320312 481.375 L 451.320312 481.375 L 451.320312 488.5 \"/>\n",
       "</g>\n",
       "<g clip-path=\"url(#clip3)\" clip-rule=\"nonzero\">\n",
       "<path style=\"fill:none;stroke-width:0.75;stroke-linecap:round;stroke-linejoin:round;stroke:rgb(0%,0%,0%);stroke-opacity:1;stroke-miterlimit:10;\" d=\"M 491.320312 488.5 L 491.320312 476.5 L 499.320312 476.5 L 499.320312 488.5 \"/>\n",
       "</g>\n",
       "<g clip-path=\"url(#clip4)\" clip-rule=\"nonzero\">\n",
       "<path style=\"fill:none;stroke-width:0.75;stroke-linecap:round;stroke-linejoin:round;stroke:rgb(0%,0%,0%);stroke-opacity:1;stroke-miterlimit:10;\" d=\"M 483.320312 488.5 L 483.320312 469.839844 L 495.320312 469.839844 L 495.320312 476.5 \"/>\n",
       "</g>\n",
       "<g clip-path=\"url(#clip5)\" clip-rule=\"nonzero\">\n",
       "<path style=\"fill:none;stroke-width:0.75;stroke-linecap:round;stroke-linejoin:round;stroke:rgb(0%,0%,0%);stroke-opacity:1;stroke-miterlimit:10;\" d=\"M 475.320312 488.5 L 475.320312 462.078125 L 489.320312 462.078125 L 489.320312 469.839844 \"/>\n",
       "</g>\n",
       "<path style=\"fill:none;stroke-width:0.75;stroke-linecap:round;stroke-linejoin:round;stroke:rgb(0%,0%,0%);stroke-opacity:1;stroke-miterlimit:10;\" d=\"M 463.320312 483.476562 L 463.320312 457.652344 L 482.320312 457.652344 L 482.320312 462.078125 \"/>\n",
       "<path style=\"fill:none;stroke-width:0.75;stroke-linecap:round;stroke-linejoin:round;stroke:rgb(0%,0%,0%);stroke-opacity:1;stroke-miterlimit:10;\" d=\"M 447.320312 481.375 L 447.320312 436.117188 L 472.820312 436.117188 L 472.820312 457.652344 \"/>\n",
       "<g clip-path=\"url(#clip6)\" clip-rule=\"nonzero\">\n",
       "<path style=\"fill:none;stroke-width:0.75;stroke-linecap:round;stroke-linejoin:round;stroke:rgb(0%,0%,0%);stroke-opacity:1;stroke-miterlimit:10;\" d=\"M 439.320312 514.5 L 430.714844 514.5 L 430.714844 522.5 L 439.320312 522.5 \"/>\n",
       "</g>\n",
       "<g clip-path=\"url(#clip7)\" clip-rule=\"nonzero\">\n",
       "<path style=\"fill:none;stroke-width:0.75;stroke-linecap:round;stroke-linejoin:round;stroke:rgb(0%,0%,0%);stroke-opacity:1;stroke-miterlimit:10;\" d=\"M 439.320312 506.5 L 427.457031 506.5 L 427.457031 518.5 L 430.714844 518.5 \"/>\n",
       "</g>\n",
       "<g clip-path=\"url(#clip8)\" clip-rule=\"nonzero\">\n",
       "<path style=\"fill:none;stroke-width:0.75;stroke-linecap:round;stroke-linejoin:round;stroke:rgb(0%,0%,0%);stroke-opacity:1;stroke-miterlimit:10;\" d=\"M 439.320312 538.5 L 420.0625 538.5 L 420.0625 546.5 L 439.320312 546.5 \"/>\n",
       "</g>\n",
       "<g clip-path=\"url(#clip9)\" clip-rule=\"nonzero\">\n",
       "<path style=\"fill:none;stroke-width:0.75;stroke-linecap:round;stroke-linejoin:round;stroke:rgb(0%,0%,0%);stroke-opacity:1;stroke-miterlimit:10;\" d=\"M 439.320312 530.5 L 391.398438 530.5 L 391.398438 542.5 L 420.0625 542.5 \"/>\n",
       "</g>\n",
       "<path style=\"fill:none;stroke-width:0.75;stroke-linecap:round;stroke-linejoin:round;stroke:rgb(0%,0%,0%);stroke-opacity:1;stroke-miterlimit:10;\" d=\"M 427.457031 512.5 L 386.9375 512.5 L 386.9375 536.5 L 391.398438 536.5 \"/>\n",
       "<path style=\"fill-rule:nonzero;fill:rgb(87.843137%,47.058824%,37.647059%);fill-opacity:1;stroke-width:0.75;stroke-linecap:round;stroke-linejoin:round;stroke:rgb(60%,60%,60%);stroke-opacity:1;stroke-miterlimit:10;\" d=\"M 439.320312 510.5 L 447.320312 510.5 L 447.320312 502.5 L 439.320312 502.5 Z M 439.320312 510.5 \"/>\n",
       "<path style=\"fill-rule:nonzero;fill:rgb(86.27451%,42.745098%,34.117647%);fill-opacity:1;stroke-width:0.75;stroke-linecap:round;stroke-linejoin:round;stroke:rgb(60%,60%,60%);stroke-opacity:1;stroke-miterlimit:10;\" d=\"M 439.320312 518.5 L 447.320312 518.5 L 447.320312 510.5 L 439.320312 510.5 Z M 439.320312 518.5 \"/>\n",
       "<path style=\"fill-rule:nonzero;fill:rgb(85.098039%,40.784314%,32.54902%);fill-opacity:1;stroke-width:0.75;stroke-linecap:round;stroke-linejoin:round;stroke:rgb(60%,60%,60%);stroke-opacity:1;stroke-miterlimit:10;\" d=\"M 439.320312 526.5 L 447.320312 526.5 L 447.320312 518.5 L 439.320312 518.5 Z M 439.320312 526.5 \"/>\n",
       "<path style=\"fill-rule:nonzero;fill:rgb(89.019608%,49.411765%,39.215686%);fill-opacity:1;stroke-width:0.75;stroke-linecap:round;stroke-linejoin:round;stroke:rgb(60%,60%,60%);stroke-opacity:1;stroke-miterlimit:10;\" d=\"M 439.320312 534.5 L 447.320312 534.5 L 447.320312 526.5 L 439.320312 526.5 Z M 439.320312 534.5 \"/>\n",
       "<path style=\"fill-rule:nonzero;fill:rgb(83.137255%,36.470588%,29.411765%);fill-opacity:1;stroke-width:0.75;stroke-linecap:round;stroke-linejoin:round;stroke:rgb(60%,60%,60%);stroke-opacity:1;stroke-miterlimit:10;\" d=\"M 439.320312 542.5 L 447.320312 542.5 L 447.320312 534.5 L 439.320312 534.5 Z M 439.320312 542.5 \"/>\n",
       "<path style=\"fill-rule:nonzero;fill:rgb(86.27451%,42.745098%,34.117647%);fill-opacity:1;stroke-width:0.75;stroke-linecap:round;stroke-linejoin:round;stroke:rgb(60%,60%,60%);stroke-opacity:1;stroke-miterlimit:10;\" d=\"M 439.320312 550.5 L 447.320312 550.5 L 447.320312 542.5 L 439.320312 542.5 Z M 439.320312 550.5 \"/>\n",
       "<path style=\"fill-rule:nonzero;fill:rgb(84.313725%,38.431373%,30.980392%);fill-opacity:1;stroke-width:0.75;stroke-linecap:round;stroke-linejoin:round;stroke:rgb(60%,60%,60%);stroke-opacity:1;stroke-miterlimit:10;\" d=\"M 447.320312 510.5 L 455.320312 510.5 L 455.320312 502.5 L 447.320312 502.5 Z M 447.320312 510.5 \"/>\n",
       "<path style=\"fill-rule:nonzero;fill:rgb(83.137255%,36.470588%,29.411765%);fill-opacity:1;stroke-width:0.75;stroke-linecap:round;stroke-linejoin:round;stroke:rgb(60%,60%,60%);stroke-opacity:1;stroke-miterlimit:10;\" d=\"M 447.320312 518.5 L 455.320312 518.5 L 455.320312 510.5 L 447.320312 510.5 Z M 447.320312 518.5 \"/>\n",
       "<path style=\"fill-rule:nonzero;fill:rgb(84.313725%,38.431373%,30.980392%);fill-opacity:1;stroke-width:0.75;stroke-linecap:round;stroke-linejoin:round;stroke:rgb(60%,60%,60%);stroke-opacity:1;stroke-miterlimit:10;\" d=\"M 447.320312 526.5 L 455.320312 526.5 L 455.320312 518.5 L 447.320312 518.5 Z M 447.320312 526.5 \"/>\n",
       "<path style=\"fill-rule:nonzero;fill:rgb(84.313725%,38.431373%,30.980392%);fill-opacity:1;stroke-width:0.75;stroke-linecap:round;stroke-linejoin:round;stroke:rgb(60%,60%,60%);stroke-opacity:1;stroke-miterlimit:10;\" d=\"M 447.320312 534.5 L 455.320312 534.5 L 455.320312 526.5 L 447.320312 526.5 Z M 447.320312 534.5 \"/>\n",
       "<path style=\"fill-rule:nonzero;fill:rgb(74.117647%,18.431373%,20.784314%);fill-opacity:1;stroke-width:0.75;stroke-linecap:round;stroke-linejoin:round;stroke:rgb(60%,60%,60%);stroke-opacity:1;stroke-miterlimit:10;\" d=\"M 447.320312 542.5 L 455.320312 542.5 L 455.320312 534.5 L 447.320312 534.5 Z M 447.320312 542.5 \"/>\n",
       "<path style=\"fill-rule:nonzero;fill:rgb(69.803922%,9.411765%,16.862745%);fill-opacity:1;stroke-width:0.75;stroke-linecap:round;stroke-linejoin:round;stroke:rgb(60%,60%,60%);stroke-opacity:1;stroke-miterlimit:10;\" d=\"M 447.320312 550.5 L 455.320312 550.5 L 455.320312 542.5 L 447.320312 542.5 Z M 447.320312 550.5 \"/>\n",
       "<path style=\"fill-rule:nonzero;fill:rgb(22.352941%,52.54902%,73.72549%);fill-opacity:1;stroke-width:0.75;stroke-linecap:round;stroke-linejoin:round;stroke:rgb(60%,60%,60%);stroke-opacity:1;stroke-miterlimit:10;\" d=\"M 455.320312 510.5 L 463.320312 510.5 L 463.320312 502.5 L 455.320312 502.5 Z M 455.320312 510.5 \"/>\n",
       "<path style=\"fill-rule:nonzero;fill:rgb(22.352941%,52.54902%,73.72549%);fill-opacity:1;stroke-width:0.75;stroke-linecap:round;stroke-linejoin:round;stroke:rgb(60%,60%,60%);stroke-opacity:1;stroke-miterlimit:10;\" d=\"M 455.320312 518.5 L 463.320312 518.5 L 463.320312 510.5 L 455.320312 510.5 Z M 455.320312 518.5 \"/>\n",
       "<path style=\"fill-rule:nonzero;fill:rgb(18.039216%,47.058824%,70.980392%);fill-opacity:1;stroke-width:0.75;stroke-linecap:round;stroke-linejoin:round;stroke:rgb(60%,60%,60%);stroke-opacity:1;stroke-miterlimit:10;\" d=\"M 455.320312 526.5 L 463.320312 526.5 L 463.320312 518.5 L 455.320312 518.5 Z M 455.320312 526.5 \"/>\n",
       "<path style=\"fill-rule:nonzero;fill:rgb(95.294118%,96.078431%,96.470588%);fill-opacity:1;stroke-width:0.75;stroke-linecap:round;stroke-linejoin:round;stroke:rgb(60%,60%,60%);stroke-opacity:1;stroke-miterlimit:10;\" d=\"M 455.320312 534.5 L 463.320312 534.5 L 463.320312 526.5 L 455.320312 526.5 Z M 455.320312 534.5 \"/>\n",
       "<path style=\"fill-rule:nonzero;fill:rgb(80.784314%,89.019608%,93.72549%);fill-opacity:1;stroke-width:0.75;stroke-linecap:round;stroke-linejoin:round;stroke:rgb(60%,60%,60%);stroke-opacity:1;stroke-miterlimit:10;\" d=\"M 455.320312 542.5 L 463.320312 542.5 L 463.320312 534.5 L 455.320312 534.5 Z M 455.320312 542.5 \"/>\n",
       "<path style=\"fill-rule:nonzero;fill:rgb(76.862745%,87.058824%,92.54902%);fill-opacity:1;stroke-width:0.75;stroke-linecap:round;stroke-linejoin:round;stroke:rgb(60%,60%,60%);stroke-opacity:1;stroke-miterlimit:10;\" d=\"M 455.320312 550.5 L 463.320312 550.5 L 463.320312 542.5 L 455.320312 542.5 Z M 455.320312 550.5 \"/>\n",
       "<path style=\"fill-rule:nonzero;fill:rgb(32.156863%,61.176471%,78.431373%);fill-opacity:1;stroke-width:0.75;stroke-linecap:round;stroke-linejoin:round;stroke:rgb(60%,60%,60%);stroke-opacity:1;stroke-miterlimit:10;\" d=\"M 463.320312 510.5 L 471.320312 510.5 L 471.320312 502.5 L 463.320312 502.5 Z M 463.320312 510.5 \"/>\n",
       "<path style=\"fill-rule:nonzero;fill:rgb(23.529412%,54.117647%,74.509804%);fill-opacity:1;stroke-width:0.75;stroke-linecap:round;stroke-linejoin:round;stroke:rgb(60%,60%,60%);stroke-opacity:1;stroke-miterlimit:10;\" d=\"M 463.320312 518.5 L 471.320312 518.5 L 471.320312 510.5 L 463.320312 510.5 Z M 463.320312 518.5 \"/>\n",
       "<path style=\"fill-rule:nonzero;fill:rgb(32.156863%,61.176471%,78.431373%);fill-opacity:1;stroke-width:0.75;stroke-linecap:round;stroke-linejoin:round;stroke:rgb(60%,60%,60%);stroke-opacity:1;stroke-miterlimit:10;\" d=\"M 463.320312 526.5 L 471.320312 526.5 L 471.320312 518.5 L 463.320312 518.5 Z M 463.320312 526.5 \"/>\n",
       "<path style=\"fill-rule:nonzero;fill:rgb(97.647059%,92.156863%,89.019608%);fill-opacity:1;stroke-width:0.75;stroke-linecap:round;stroke-linejoin:round;stroke:rgb(60%,60%,60%);stroke-opacity:1;stroke-miterlimit:10;\" d=\"M 463.320312 534.5 L 471.320312 534.5 L 471.320312 526.5 L 463.320312 526.5 Z M 463.320312 534.5 \"/>\n",
       "<path style=\"fill-rule:nonzero;fill:rgb(72.941176%,85.098039%,91.372549%);fill-opacity:1;stroke-width:0.75;stroke-linecap:round;stroke-linejoin:round;stroke:rgb(60%,60%,60%);stroke-opacity:1;stroke-miterlimit:10;\" d=\"M 463.320312 542.5 L 471.320312 542.5 L 471.320312 534.5 L 463.320312 534.5 Z M 463.320312 542.5 \"/>\n",
       "<path style=\"fill-rule:nonzero;fill:rgb(74.901961%,86.27451%,91.764706%);fill-opacity:1;stroke-width:0.75;stroke-linecap:round;stroke-linejoin:round;stroke:rgb(60%,60%,60%);stroke-opacity:1;stroke-miterlimit:10;\" d=\"M 463.320312 550.5 L 471.320312 550.5 L 471.320312 542.5 L 463.320312 542.5 Z M 463.320312 550.5 \"/>\n",
       "<path style=\"fill-rule:nonzero;fill:rgb(97.254902%,74.509804%,63.921569%);fill-opacity:1;stroke-width:0.75;stroke-linecap:round;stroke-linejoin:round;stroke:rgb(60%,60%,60%);stroke-opacity:1;stroke-miterlimit:10;\" d=\"M 471.320312 510.5 L 479.320312 510.5 L 479.320312 502.5 L 471.320312 502.5 Z M 471.320312 510.5 \"/>\n",
       "<path style=\"fill-rule:nonzero;fill:rgb(98.823529%,87.058824%,80%);fill-opacity:1;stroke-width:0.75;stroke-linecap:round;stroke-linejoin:round;stroke:rgb(60%,60%,60%);stroke-opacity:1;stroke-miterlimit:10;\" d=\"M 471.320312 518.5 L 479.320312 518.5 L 479.320312 510.5 L 471.320312 510.5 Z M 471.320312 518.5 \"/>\n",
       "<path style=\"fill-rule:nonzero;fill:rgb(98.431373%,87.843137%,81.568627%);fill-opacity:1;stroke-width:0.75;stroke-linecap:round;stroke-linejoin:round;stroke:rgb(60%,60%,60%);stroke-opacity:1;stroke-miterlimit:10;\" d=\"M 471.320312 526.5 L 479.320312 526.5 L 479.320312 518.5 L 471.320312 518.5 Z M 471.320312 526.5 \"/>\n",
       "<path style=\"fill-rule:nonzero;fill:rgb(98.431373%,88.627451%,83.137255%);fill-opacity:1;stroke-width:0.75;stroke-linecap:round;stroke-linejoin:round;stroke:rgb(60%,60%,60%);stroke-opacity:1;stroke-miterlimit:10;\" d=\"M 471.320312 534.5 L 479.320312 534.5 L 479.320312 526.5 L 471.320312 526.5 Z M 471.320312 534.5 \"/>\n",
       "<path style=\"fill-rule:nonzero;fill:rgb(52.156863%,74.117647%,85.098039%);fill-opacity:1;stroke-width:0.75;stroke-linecap:round;stroke-linejoin:round;stroke:rgb(60%,60%,60%);stroke-opacity:1;stroke-miterlimit:10;\" d=\"M 471.320312 542.5 L 479.320312 542.5 L 479.320312 534.5 L 471.320312 534.5 Z M 471.320312 542.5 \"/>\n",
       "<path style=\"fill-rule:nonzero;fill:rgb(25.490196%,56.862745%,76.078431%);fill-opacity:1;stroke-width:0.75;stroke-linecap:round;stroke-linejoin:round;stroke:rgb(60%,60%,60%);stroke-opacity:1;stroke-miterlimit:10;\" d=\"M 471.320312 550.5 L 479.320312 550.5 L 479.320312 542.5 L 471.320312 542.5 Z M 471.320312 550.5 \"/>\n",
       "<path style=\"fill-rule:nonzero;fill:rgb(67.058824%,81.960784%,89.803922%);fill-opacity:1;stroke-width:0.75;stroke-linecap:round;stroke-linejoin:round;stroke:rgb(60%,60%,60%);stroke-opacity:1;stroke-miterlimit:10;\" d=\"M 479.320312 510.5 L 487.320312 510.5 L 487.320312 502.5 L 479.320312 502.5 Z M 479.320312 510.5 \"/>\n",
       "<path style=\"fill-rule:nonzero;fill:rgb(83.529412%,90.588235%,94.117647%);fill-opacity:1;stroke-width:0.75;stroke-linecap:round;stroke-linejoin:round;stroke:rgb(60%,60%,60%);stroke-opacity:1;stroke-miterlimit:10;\" d=\"M 479.320312 518.5 L 487.320312 518.5 L 487.320312 510.5 L 479.320312 510.5 Z M 479.320312 518.5 \"/>\n",
       "<path style=\"fill-rule:nonzero;fill:rgb(85.882353%,91.764706%,94.509804%);fill-opacity:1;stroke-width:0.75;stroke-linecap:round;stroke-linejoin:round;stroke:rgb(60%,60%,60%);stroke-opacity:1;stroke-miterlimit:10;\" d=\"M 479.320312 526.5 L 487.320312 526.5 L 487.320312 518.5 L 479.320312 518.5 Z M 479.320312 526.5 \"/>\n",
       "<path style=\"fill-rule:nonzero;fill:rgb(12.941176%,40%,67.45098%);fill-opacity:1;stroke-width:0.75;stroke-linecap:round;stroke-linejoin:round;stroke:rgb(60%,60%,60%);stroke-opacity:1;stroke-miterlimit:10;\" d=\"M 479.320312 534.5 L 487.320312 534.5 L 487.320312 526.5 L 479.320312 526.5 Z M 479.320312 534.5 \"/>\n",
       "<path style=\"fill-rule:nonzero;fill:rgb(25.490196%,56.862745%,76.078431%);fill-opacity:1;stroke-width:0.75;stroke-linecap:round;stroke-linejoin:round;stroke:rgb(60%,60%,60%);stroke-opacity:1;stroke-miterlimit:10;\" d=\"M 479.320312 542.5 L 487.320312 542.5 L 487.320312 534.5 L 479.320312 534.5 Z M 479.320312 542.5 \"/>\n",
       "<path style=\"fill-rule:nonzero;fill:rgb(70.980392%,83.921569%,90.980392%);fill-opacity:1;stroke-width:0.75;stroke-linecap:round;stroke-linejoin:round;stroke:rgb(60%,60%,60%);stroke-opacity:1;stroke-miterlimit:10;\" d=\"M 479.320312 550.5 L 487.320312 550.5 L 487.320312 542.5 L 479.320312 542.5 Z M 479.320312 550.5 \"/>\n",
       "<path style=\"fill-rule:nonzero;fill:rgb(83.529412%,90.588235%,94.117647%);fill-opacity:1;stroke-width:0.75;stroke-linecap:round;stroke-linejoin:round;stroke:rgb(60%,60%,60%);stroke-opacity:1;stroke-miterlimit:10;\" d=\"M 487.320312 510.5 L 495.320312 510.5 L 495.320312 502.5 L 487.320312 502.5 Z M 487.320312 510.5 \"/>\n",
       "<path style=\"fill-rule:nonzero;fill:rgb(90.588235%,93.72549%,95.686275%);fill-opacity:1;stroke-width:0.75;stroke-linecap:round;stroke-linejoin:round;stroke:rgb(60%,60%,60%);stroke-opacity:1;stroke-miterlimit:10;\" d=\"M 487.320312 518.5 L 495.320312 518.5 L 495.320312 510.5 L 487.320312 510.5 Z M 487.320312 518.5 \"/>\n",
       "<path style=\"fill-rule:nonzero;fill:rgb(82.352941%,89.803922%,94.117647%);fill-opacity:1;stroke-width:0.75;stroke-linecap:round;stroke-linejoin:round;stroke:rgb(60%,60%,60%);stroke-opacity:1;stroke-miterlimit:10;\" d=\"M 487.320312 526.5 L 495.320312 526.5 L 495.320312 518.5 L 487.320312 518.5 Z M 487.320312 526.5 \"/>\n",
       "<path style=\"fill-rule:nonzero;fill:rgb(42.352941%,67.843137%,81.960784%);fill-opacity:1;stroke-width:0.75;stroke-linecap:round;stroke-linejoin:round;stroke:rgb(60%,60%,60%);stroke-opacity:1;stroke-miterlimit:10;\" d=\"M 487.320312 534.5 L 495.320312 534.5 L 495.320312 526.5 L 487.320312 526.5 Z M 487.320312 534.5 \"/>\n",
       "<path style=\"fill-rule:nonzero;fill:rgb(87.058824%,92.156863%,94.901961%);fill-opacity:1;stroke-width:0.75;stroke-linecap:round;stroke-linejoin:round;stroke:rgb(60%,60%,60%);stroke-opacity:1;stroke-miterlimit:10;\" d=\"M 487.320312 542.5 L 495.320312 542.5 L 495.320312 534.5 L 487.320312 534.5 Z M 487.320312 542.5 \"/>\n",
       "<path style=\"fill-rule:nonzero;fill:rgb(76.862745%,87.058824%,92.54902%);fill-opacity:1;stroke-width:0.75;stroke-linecap:round;stroke-linejoin:round;stroke:rgb(60%,60%,60%);stroke-opacity:1;stroke-miterlimit:10;\" d=\"M 487.320312 550.5 L 495.320312 550.5 L 495.320312 542.5 L 487.320312 542.5 Z M 487.320312 550.5 \"/>\n",
       "<path style=\"fill-rule:nonzero;fill:rgb(97.254902%,94.117647%,92.156863%);fill-opacity:1;stroke-width:0.75;stroke-linecap:round;stroke-linejoin:round;stroke:rgb(60%,60%,60%);stroke-opacity:1;stroke-miterlimit:10;\" d=\"M 495.320312 510.5 L 503.320312 510.5 L 503.320312 502.5 L 495.320312 502.5 Z M 495.320312 510.5 \"/>\n",
       "<path style=\"fill-rule:nonzero;fill:rgb(92.941176%,94.901961%,96.078431%);fill-opacity:1;stroke-width:0.75;stroke-linecap:round;stroke-linejoin:round;stroke:rgb(60%,60%,60%);stroke-opacity:1;stroke-miterlimit:10;\" d=\"M 495.320312 518.5 L 503.320312 518.5 L 503.320312 510.5 L 495.320312 510.5 Z M 495.320312 518.5 \"/>\n",
       "<path style=\"fill-rule:nonzero;fill:rgb(96.862745%,94.901961%,93.72549%);fill-opacity:1;stroke-width:0.75;stroke-linecap:round;stroke-linejoin:round;stroke:rgb(60%,60%,60%);stroke-opacity:1;stroke-miterlimit:10;\" d=\"M 495.320312 526.5 L 503.320312 526.5 L 503.320312 518.5 L 495.320312 518.5 Z M 495.320312 526.5 \"/>\n",
       "<path style=\"fill-rule:nonzero;fill:rgb(76.862745%,87.058824%,92.54902%);fill-opacity:1;stroke-width:0.75;stroke-linecap:round;stroke-linejoin:round;stroke:rgb(60%,60%,60%);stroke-opacity:1;stroke-miterlimit:10;\" d=\"M 495.320312 534.5 L 503.320312 534.5 L 503.320312 526.5 L 495.320312 526.5 Z M 495.320312 534.5 \"/>\n",
       "<path style=\"fill-rule:nonzero;fill:rgb(97.254902%,94.117647%,92.156863%);fill-opacity:1;stroke-width:0.75;stroke-linecap:round;stroke-linejoin:round;stroke:rgb(60%,60%,60%);stroke-opacity:1;stroke-miterlimit:10;\" d=\"M 495.320312 542.5 L 503.320312 542.5 L 503.320312 534.5 L 495.320312 534.5 Z M 495.320312 542.5 \"/>\n",
       "<path style=\"fill-rule:nonzero;fill:rgb(96.862745%,94.901961%,93.72549%);fill-opacity:1;stroke-width:0.75;stroke-linecap:round;stroke-linejoin:round;stroke:rgb(60%,60%,60%);stroke-opacity:1;stroke-miterlimit:10;\" d=\"M 495.320312 550.5 L 503.320312 550.5 L 503.320312 542.5 L 495.320312 542.5 Z M 495.320312 550.5 \"/>\n",
       "<g style=\"fill:rgb(0%,0%,0%);fill-opacity:1;\">\n",
       "  <use xlink:href=\"#glyph0-1\" x=\"440.767578\" y=\"553.5\"/>\n",
       "  <use xlink:href=\"#glyph0-2\" x=\"440.767578\" y=\"560.5\"/>\n",
       "  <use xlink:href=\"#glyph0-3\" x=\"440.767578\" y=\"567.5\"/>\n",
       "  <use xlink:href=\"#glyph0-4\" x=\"440.767578\" y=\"573.5\"/>\n",
       "  <use xlink:href=\"#glyph0-2\" x=\"440.767578\" y=\"579.5\"/>\n",
       "  <use xlink:href=\"#glyph0-5\" x=\"440.767578\" y=\"586.5\"/>\n",
       "  <use xlink:href=\"#glyph0-6\" x=\"440.767578\" y=\"592.5\"/>\n",
       "  <use xlink:href=\"#glyph0-7\" x=\"440.767578\" y=\"598.5\"/>\n",
       "  <use xlink:href=\"#glyph0-8\" x=\"440.767578\" y=\"604.5\"/>\n",
       "  <use xlink:href=\"#glyph0-9\" x=\"440.767578\" y=\"610.5\"/>\n",
       "  <use xlink:href=\"#glyph0-5\" x=\"440.767578\" y=\"617.5\"/>\n",
       "  <use xlink:href=\"#glyph0-10\" x=\"440.767578\" y=\"623.5\"/>\n",
       "</g>\n",
       "<g style=\"fill:rgb(0%,0%,0%);fill-opacity:1;\">\n",
       "  <use xlink:href=\"#glyph0-1\" x=\"448.767578\" y=\"553.5\"/>\n",
       "  <use xlink:href=\"#glyph0-2\" x=\"448.767578\" y=\"560.5\"/>\n",
       "  <use xlink:href=\"#glyph0-3\" x=\"448.767578\" y=\"567.5\"/>\n",
       "  <use xlink:href=\"#glyph0-4\" x=\"448.767578\" y=\"573.5\"/>\n",
       "  <use xlink:href=\"#glyph0-2\" x=\"448.767578\" y=\"579.5\"/>\n",
       "  <use xlink:href=\"#glyph0-5\" x=\"448.767578\" y=\"586.5\"/>\n",
       "  <use xlink:href=\"#glyph0-6\" x=\"448.767578\" y=\"592.5\"/>\n",
       "  <use xlink:href=\"#glyph0-7\" x=\"448.767578\" y=\"598.5\"/>\n",
       "  <use xlink:href=\"#glyph0-8\" x=\"448.767578\" y=\"604.5\"/>\n",
       "  <use xlink:href=\"#glyph0-9\" x=\"448.767578\" y=\"610.5\"/>\n",
       "  <use xlink:href=\"#glyph0-5\" x=\"448.767578\" y=\"617.5\"/>\n",
       "  <use xlink:href=\"#glyph0-11\" x=\"448.767578\" y=\"623.5\"/>\n",
       "</g>\n",
       "<g style=\"fill:rgb(0%,0%,0%);fill-opacity:1;\">\n",
       "  <use xlink:href=\"#glyph0-4\" x=\"456.767578\" y=\"553.5\"/>\n",
       "  <use xlink:href=\"#glyph0-12\" x=\"456.767578\" y=\"559.5\"/>\n",
       "  <use xlink:href=\"#glyph0-5\" x=\"456.767578\" y=\"565.5\"/>\n",
       "  <use xlink:href=\"#glyph0-11\" x=\"456.767578\" y=\"571.5\"/>\n",
       "  <use xlink:href=\"#glyph0-7\" x=\"456.767578\" y=\"577.5\"/>\n",
       "  <use xlink:href=\"#glyph0-8\" x=\"456.767578\" y=\"583.5\"/>\n",
       "  <use xlink:href=\"#glyph0-9\" x=\"456.767578\" y=\"589.5\"/>\n",
       "  <use xlink:href=\"#glyph0-5\" x=\"456.767578\" y=\"596.5\"/>\n",
       "  <use xlink:href=\"#glyph0-10\" x=\"456.767578\" y=\"602.5\"/>\n",
       "</g>\n",
       "<g style=\"fill:rgb(0%,0%,0%);fill-opacity:1;\">\n",
       "  <use xlink:href=\"#glyph0-4\" x=\"464.767578\" y=\"553.5\"/>\n",
       "  <use xlink:href=\"#glyph0-12\" x=\"464.767578\" y=\"559.5\"/>\n",
       "  <use xlink:href=\"#glyph0-5\" x=\"464.767578\" y=\"565.5\"/>\n",
       "  <use xlink:href=\"#glyph0-11\" x=\"464.767578\" y=\"571.5\"/>\n",
       "  <use xlink:href=\"#glyph0-7\" x=\"464.767578\" y=\"577.5\"/>\n",
       "  <use xlink:href=\"#glyph0-8\" x=\"464.767578\" y=\"583.5\"/>\n",
       "  <use xlink:href=\"#glyph0-9\" x=\"464.767578\" y=\"589.5\"/>\n",
       "  <use xlink:href=\"#glyph0-5\" x=\"464.767578\" y=\"596.5\"/>\n",
       "  <use xlink:href=\"#glyph0-11\" x=\"464.767578\" y=\"602.5\"/>\n",
       "</g>\n",
       "<g style=\"fill:rgb(0%,0%,0%);fill-opacity:1;\">\n",
       "  <use xlink:href=\"#glyph0-1\" x=\"472.767578\" y=\"553.5\"/>\n",
       "  <use xlink:href=\"#glyph0-2\" x=\"472.767578\" y=\"560.5\"/>\n",
       "  <use xlink:href=\"#glyph0-3\" x=\"472.767578\" y=\"567.5\"/>\n",
       "  <use xlink:href=\"#glyph0-13\" x=\"472.767578\" y=\"573.5\"/>\n",
       "  <use xlink:href=\"#glyph0-14\" x=\"472.767578\" y=\"576.5\"/>\n",
       "  <use xlink:href=\"#glyph0-15\" x=\"472.767578\" y=\"579.5\"/>\n",
       "  <use xlink:href=\"#glyph0-12\" x=\"472.767578\" y=\"585.5\"/>\n",
       "  <use xlink:href=\"#glyph0-16\" x=\"472.767578\" y=\"591.5\"/>\n",
       "  <use xlink:href=\"#glyph0-5\" x=\"472.767578\" y=\"596.5\"/>\n",
       "  <use xlink:href=\"#glyph0-11\" x=\"472.767578\" y=\"602.5\"/>\n",
       "  <use xlink:href=\"#glyph0-7\" x=\"472.767578\" y=\"608.5\"/>\n",
       "  <use xlink:href=\"#glyph0-8\" x=\"472.767578\" y=\"614.5\"/>\n",
       "  <use xlink:href=\"#glyph0-9\" x=\"472.767578\" y=\"620.5\"/>\n",
       "  <use xlink:href=\"#glyph0-5\" x=\"472.767578\" y=\"627.5\"/>\n",
       "  <use xlink:href=\"#glyph0-11\" x=\"472.767578\" y=\"633.5\"/>\n",
       "</g>\n",
       "<g style=\"fill:rgb(0%,0%,0%);fill-opacity:1;\">\n",
       "  <use xlink:href=\"#glyph0-1\" x=\"480.767578\" y=\"553.5\"/>\n",
       "  <use xlink:href=\"#glyph0-2\" x=\"480.767578\" y=\"560.5\"/>\n",
       "  <use xlink:href=\"#glyph0-3\" x=\"480.767578\" y=\"567.5\"/>\n",
       "  <use xlink:href=\"#glyph0-16\" x=\"480.767578\" y=\"573.5\"/>\n",
       "  <use xlink:href=\"#glyph0-13\" x=\"480.767578\" y=\"578.5\"/>\n",
       "  <use xlink:href=\"#glyph0-17\" x=\"480.767578\" y=\"581.5\"/>\n",
       "  <use xlink:href=\"#glyph0-18\" x=\"480.767578\" y=\"587.5\"/>\n",
       "  <use xlink:href=\"#glyph0-5\" x=\"480.767578\" y=\"595.5\"/>\n",
       "  <use xlink:href=\"#glyph0-19\" x=\"480.767578\" y=\"601.5\"/>\n",
       "  <use xlink:href=\"#glyph0-8\" x=\"480.767578\" y=\"607.5\"/>\n",
       "  <use xlink:href=\"#glyph0-8\" x=\"480.767578\" y=\"613.5\"/>\n",
       "  <use xlink:href=\"#glyph0-9\" x=\"480.767578\" y=\"619.5\"/>\n",
       "  <use xlink:href=\"#glyph0-5\" x=\"480.767578\" y=\"626.5\"/>\n",
       "  <use xlink:href=\"#glyph0-11\" x=\"480.767578\" y=\"632.5\"/>\n",
       "</g>\n",
       "<g style=\"fill:rgb(0%,0%,0%);fill-opacity:1;\">\n",
       "  <use xlink:href=\"#glyph0-1\" x=\"488.767578\" y=\"553.5\"/>\n",
       "  <use xlink:href=\"#glyph0-2\" x=\"488.767578\" y=\"560.5\"/>\n",
       "  <use xlink:href=\"#glyph0-3\" x=\"488.767578\" y=\"567.5\"/>\n",
       "  <use xlink:href=\"#glyph0-16\" x=\"488.767578\" y=\"573.5\"/>\n",
       "  <use xlink:href=\"#glyph0-13\" x=\"488.767578\" y=\"578.5\"/>\n",
       "  <use xlink:href=\"#glyph0-17\" x=\"488.767578\" y=\"581.5\"/>\n",
       "  <use xlink:href=\"#glyph0-18\" x=\"488.767578\" y=\"587.5\"/>\n",
       "  <use xlink:href=\"#glyph0-5\" x=\"488.767578\" y=\"595.5\"/>\n",
       "  <use xlink:href=\"#glyph0-11\" x=\"488.767578\" y=\"601.5\"/>\n",
       "  <use xlink:href=\"#glyph0-7\" x=\"488.767578\" y=\"607.5\"/>\n",
       "  <use xlink:href=\"#glyph0-8\" x=\"488.767578\" y=\"613.5\"/>\n",
       "  <use xlink:href=\"#glyph0-9\" x=\"488.767578\" y=\"619.5\"/>\n",
       "  <use xlink:href=\"#glyph0-5\" x=\"488.767578\" y=\"626.5\"/>\n",
       "  <use xlink:href=\"#glyph0-10\" x=\"488.767578\" y=\"632.5\"/>\n",
       "</g>\n",
       "<g style=\"fill:rgb(0%,0%,0%);fill-opacity:1;\">\n",
       "  <use xlink:href=\"#glyph0-1\" x=\"496.767578\" y=\"553.5\"/>\n",
       "  <use xlink:href=\"#glyph0-2\" x=\"496.767578\" y=\"560.5\"/>\n",
       "  <use xlink:href=\"#glyph0-3\" x=\"496.767578\" y=\"567.5\"/>\n",
       "  <use xlink:href=\"#glyph0-13\" x=\"496.767578\" y=\"573.5\"/>\n",
       "  <use xlink:href=\"#glyph0-14\" x=\"496.767578\" y=\"576.5\"/>\n",
       "  <use xlink:href=\"#glyph0-15\" x=\"496.767578\" y=\"579.5\"/>\n",
       "  <use xlink:href=\"#glyph0-12\" x=\"496.767578\" y=\"585.5\"/>\n",
       "  <use xlink:href=\"#glyph0-16\" x=\"496.767578\" y=\"591.5\"/>\n",
       "  <use xlink:href=\"#glyph0-5\" x=\"496.767578\" y=\"596.5\"/>\n",
       "  <use xlink:href=\"#glyph0-19\" x=\"496.767578\" y=\"602.5\"/>\n",
       "  <use xlink:href=\"#glyph0-7\" x=\"496.767578\" y=\"608.5\"/>\n",
       "  <use xlink:href=\"#glyph0-8\" x=\"496.767578\" y=\"614.5\"/>\n",
       "  <use xlink:href=\"#glyph0-9\" x=\"496.767578\" y=\"620.5\"/>\n",
       "  <use xlink:href=\"#glyph0-5\" x=\"496.767578\" y=\"627.5\"/>\n",
       "  <use xlink:href=\"#glyph0-10\" x=\"496.767578\" y=\"633.5\"/>\n",
       "</g>\n",
       "<g style=\"fill:rgb(0%,0%,0%);fill-opacity:1;\">\n",
       "  <use xlink:href=\"#glyph1-1\" x=\"506.320312\" y=\"509.052734\"/>\n",
       "  <use xlink:href=\"#glyph1-2\" x=\"513.320312\" y=\"509.052734\"/>\n",
       "  <use xlink:href=\"#glyph1-3\" x=\"520.320312\" y=\"509.052734\"/>\n",
       "  <use xlink:href=\"#glyph1-4\" x=\"523.320312\" y=\"509.052734\"/>\n",
       "  <use xlink:href=\"#glyph1-5\" x=\"529.320312\" y=\"509.052734\"/>\n",
       "  <use xlink:href=\"#glyph1-6\" x=\"535.320312\" y=\"509.052734\"/>\n",
       "  <use xlink:href=\"#glyph1-7\" x=\"538.320312\" y=\"509.052734\"/>\n",
       "  <use xlink:href=\"#glyph1-8\" x=\"544.320312\" y=\"509.052734\"/>\n",
       "  <use xlink:href=\"#glyph1-9\" x=\"550.320312\" y=\"509.052734\"/>\n",
       "  <use xlink:href=\"#glyph1-5\" x=\"556.320312\" y=\"509.052734\"/>\n",
       "  <use xlink:href=\"#glyph1-10\" x=\"562.320312\" y=\"509.052734\"/>\n",
       "  <use xlink:href=\"#glyph1-11\" x=\"568.320312\" y=\"509.052734\"/>\n",
       "  <use xlink:href=\"#glyph1-12\" x=\"571.320312\" y=\"509.052734\"/>\n",
       "  <use xlink:href=\"#glyph1-4\" x=\"577.320312\" y=\"509.052734\"/>\n",
       "</g>\n",
       "<g style=\"fill:rgb(0%,0%,0%);fill-opacity:1;\">\n",
       "  <use xlink:href=\"#glyph1-1\" x=\"506.320312\" y=\"517.052734\"/>\n",
       "  <use xlink:href=\"#glyph1-2\" x=\"513.320312\" y=\"517.052734\"/>\n",
       "  <use xlink:href=\"#glyph1-3\" x=\"520.320312\" y=\"517.052734\"/>\n",
       "  <use xlink:href=\"#glyph1-4\" x=\"523.320312\" y=\"517.052734\"/>\n",
       "  <use xlink:href=\"#glyph1-5\" x=\"529.320312\" y=\"517.052734\"/>\n",
       "  <use xlink:href=\"#glyph1-6\" x=\"535.320312\" y=\"517.052734\"/>\n",
       "  <use xlink:href=\"#glyph1-13\" x=\"538.320312\" y=\"517.052734\"/>\n",
       "  <use xlink:href=\"#glyph1-8\" x=\"544.320312\" y=\"517.052734\"/>\n",
       "  <use xlink:href=\"#glyph1-9\" x=\"550.320312\" y=\"517.052734\"/>\n",
       "  <use xlink:href=\"#glyph1-5\" x=\"556.320312\" y=\"517.052734\"/>\n",
       "  <use xlink:href=\"#glyph1-14\" x=\"562.320312\" y=\"517.052734\"/>\n",
       "  <use xlink:href=\"#glyph1-11\" x=\"568.320312\" y=\"517.052734\"/>\n",
       "  <use xlink:href=\"#glyph1-7\" x=\"571.320312\" y=\"517.052734\"/>\n",
       "  <use xlink:href=\"#glyph1-14\" x=\"577.320312\" y=\"517.052734\"/>\n",
       "</g>\n",
       "<g style=\"fill:rgb(0%,0%,0%);fill-opacity:1;\">\n",
       "  <use xlink:href=\"#glyph1-1\" x=\"506.320312\" y=\"525.052734\"/>\n",
       "  <use xlink:href=\"#glyph1-2\" x=\"513.320312\" y=\"525.052734\"/>\n",
       "  <use xlink:href=\"#glyph1-3\" x=\"520.320312\" y=\"525.052734\"/>\n",
       "  <use xlink:href=\"#glyph1-4\" x=\"523.320312\" y=\"525.052734\"/>\n",
       "  <use xlink:href=\"#glyph1-5\" x=\"529.320312\" y=\"525.052734\"/>\n",
       "  <use xlink:href=\"#glyph1-6\" x=\"535.320312\" y=\"525.052734\"/>\n",
       "  <use xlink:href=\"#glyph1-13\" x=\"538.320312\" y=\"525.052734\"/>\n",
       "  <use xlink:href=\"#glyph1-8\" x=\"544.320312\" y=\"525.052734\"/>\n",
       "  <use xlink:href=\"#glyph1-9\" x=\"550.320312\" y=\"525.052734\"/>\n",
       "  <use xlink:href=\"#glyph1-5\" x=\"556.320312\" y=\"525.052734\"/>\n",
       "  <use xlink:href=\"#glyph1-10\" x=\"562.320312\" y=\"525.052734\"/>\n",
       "  <use xlink:href=\"#glyph1-11\" x=\"568.320312\" y=\"525.052734\"/>\n",
       "  <use xlink:href=\"#glyph1-14\" x=\"571.320312\" y=\"525.052734\"/>\n",
       "  <use xlink:href=\"#glyph1-15\" x=\"577.320312\" y=\"525.052734\"/>\n",
       "</g>\n",
       "<g style=\"fill:rgb(0%,0%,0%);fill-opacity:1;\">\n",
       "  <use xlink:href=\"#glyph1-1\" x=\"506.320312\" y=\"533.052734\"/>\n",
       "  <use xlink:href=\"#glyph1-2\" x=\"513.320312\" y=\"533.052734\"/>\n",
       "  <use xlink:href=\"#glyph1-3\" x=\"520.320312\" y=\"533.052734\"/>\n",
       "  <use xlink:href=\"#glyph1-9\" x=\"523.320312\" y=\"533.052734\"/>\n",
       "  <use xlink:href=\"#glyph1-10\" x=\"529.320312\" y=\"533.052734\"/>\n",
       "  <use xlink:href=\"#glyph1-6\" x=\"535.320312\" y=\"533.052734\"/>\n",
       "  <use xlink:href=\"#glyph1-4\" x=\"538.320312\" y=\"533.052734\"/>\n",
       "  <use xlink:href=\"#glyph1-8\" x=\"544.320312\" y=\"533.052734\"/>\n",
       "  <use xlink:href=\"#glyph1-9\" x=\"550.320312\" y=\"533.052734\"/>\n",
       "  <use xlink:href=\"#glyph1-5\" x=\"556.320312\" y=\"533.052734\"/>\n",
       "  <use xlink:href=\"#glyph1-10\" x=\"562.320312\" y=\"533.052734\"/>\n",
       "  <use xlink:href=\"#glyph1-11\" x=\"568.320312\" y=\"533.052734\"/>\n",
       "  <use xlink:href=\"#glyph1-16\" x=\"571.320312\" y=\"533.052734\"/>\n",
       "  <use xlink:href=\"#glyph1-4\" x=\"577.320312\" y=\"533.052734\"/>\n",
       "</g>\n",
       "<g style=\"fill:rgb(0%,0%,0%);fill-opacity:1;\">\n",
       "  <use xlink:href=\"#glyph1-17\" x=\"506.320312\" y=\"541.052734\"/>\n",
       "  <use xlink:href=\"#glyph1-1\" x=\"512.320312\" y=\"541.052734\"/>\n",
       "  <use xlink:href=\"#glyph1-2\" x=\"519.320312\" y=\"541.052734\"/>\n",
       "  <use xlink:href=\"#glyph1-3\" x=\"526.320312\" y=\"541.052734\"/>\n",
       "  <use xlink:href=\"#glyph1-9\" x=\"529.320312\" y=\"541.052734\"/>\n",
       "  <use xlink:href=\"#glyph1-16\" x=\"535.320312\" y=\"541.052734\"/>\n",
       "  <use xlink:href=\"#glyph1-6\" x=\"541.320312\" y=\"541.052734\"/>\n",
       "  <use xlink:href=\"#glyph1-4\" x=\"544.320312\" y=\"541.052734\"/>\n",
       "  <use xlink:href=\"#glyph1-8\" x=\"550.320312\" y=\"541.052734\"/>\n",
       "  <use xlink:href=\"#glyph1-15\" x=\"556.320312\" y=\"541.052734\"/>\n",
       "  <use xlink:href=\"#glyph1-16\" x=\"562.320312\" y=\"541.052734\"/>\n",
       "  <use xlink:href=\"#glyph1-15\" x=\"568.320312\" y=\"541.052734\"/>\n",
       "  <use xlink:href=\"#glyph1-11\" x=\"574.320312\" y=\"541.052734\"/>\n",
       "  <use xlink:href=\"#glyph1-4\" x=\"577.320312\" y=\"541.052734\"/>\n",
       "  <use xlink:href=\"#glyph1-16\" x=\"583.320312\" y=\"541.052734\"/>\n",
       "</g>\n",
       "<g style=\"fill:rgb(0%,0%,0%);fill-opacity:1;\">\n",
       "  <use xlink:href=\"#glyph1-17\" x=\"506.320312\" y=\"549.052734\"/>\n",
       "  <use xlink:href=\"#glyph1-1\" x=\"512.320312\" y=\"549.052734\"/>\n",
       "  <use xlink:href=\"#glyph1-2\" x=\"519.320312\" y=\"549.052734\"/>\n",
       "  <use xlink:href=\"#glyph1-3\" x=\"526.320312\" y=\"549.052734\"/>\n",
       "  <use xlink:href=\"#glyph1-4\" x=\"529.320312\" y=\"549.052734\"/>\n",
       "  <use xlink:href=\"#glyph1-14\" x=\"535.320312\" y=\"549.052734\"/>\n",
       "  <use xlink:href=\"#glyph1-6\" x=\"541.320312\" y=\"549.052734\"/>\n",
       "  <use xlink:href=\"#glyph1-7\" x=\"544.320312\" y=\"549.052734\"/>\n",
       "  <use xlink:href=\"#glyph1-8\" x=\"550.320312\" y=\"549.052734\"/>\n",
       "  <use xlink:href=\"#glyph1-15\" x=\"556.320312\" y=\"549.052734\"/>\n",
       "  <use xlink:href=\"#glyph1-16\" x=\"562.320312\" y=\"549.052734\"/>\n",
       "  <use xlink:href=\"#glyph1-15\" x=\"568.320312\" y=\"549.052734\"/>\n",
       "  <use xlink:href=\"#glyph1-11\" x=\"574.320312\" y=\"549.052734\"/>\n",
       "  <use xlink:href=\"#glyph1-13\" x=\"577.320312\" y=\"549.052734\"/>\n",
       "  <use xlink:href=\"#glyph1-16\" x=\"583.320312\" y=\"549.052734\"/>\n",
       "</g>\n",
       "<path style=\"fill-rule:nonzero;fill:rgb(100%,0%,0%);fill-opacity:1;stroke-width:0.75;stroke-linecap:round;stroke-linejoin:round;stroke:rgb(60%,60%,60%);stroke-opacity:1;stroke-miterlimit:10;\" d=\"M 439.320312 499.5 L 447.320312 499.5 L 447.320312 489.5 L 439.320312 489.5 Z M 439.320312 499.5 \"/>\n",
       "<path style=\"fill-rule:nonzero;fill:rgb(100%,0%,0%);fill-opacity:1;stroke-width:0.75;stroke-linecap:round;stroke-linejoin:round;stroke:rgb(60%,60%,60%);stroke-opacity:1;stroke-miterlimit:10;\" d=\"M 447.320312 499.5 L 455.320312 499.5 L 455.320312 489.5 L 447.320312 489.5 Z M 447.320312 499.5 \"/>\n",
       "<path style=\"fill-rule:nonzero;fill:rgb(53.333333%,53.333333%,53.333333%);fill-opacity:1;stroke-width:0.75;stroke-linecap:round;stroke-linejoin:round;stroke:rgb(60%,60%,60%);stroke-opacity:1;stroke-miterlimit:10;\" d=\"M 455.320312 499.5 L 463.320312 499.5 L 463.320312 489.5 L 455.320312 489.5 Z M 455.320312 499.5 \"/>\n",
       "<path style=\"fill-rule:nonzero;fill:rgb(53.333333%,53.333333%,53.333333%);fill-opacity:1;stroke-width:0.75;stroke-linecap:round;stroke-linejoin:round;stroke:rgb(60%,60%,60%);stroke-opacity:1;stroke-miterlimit:10;\" d=\"M 463.320312 499.5 L 471.320312 499.5 L 471.320312 489.5 L 463.320312 489.5 Z M 463.320312 499.5 \"/>\n",
       "<path style=\"fill-rule:nonzero;fill:rgb(100%,64.705882%,0%);fill-opacity:1;stroke-width:0.75;stroke-linecap:round;stroke-linejoin:round;stroke:rgb(60%,60%,60%);stroke-opacity:1;stroke-miterlimit:10;\" d=\"M 471.320312 499.5 L 479.320312 499.5 L 479.320312 489.5 L 471.320312 489.5 Z M 471.320312 499.5 \"/>\n",
       "<path style=\"fill-rule:nonzero;fill:rgb(0%,0%,100%);fill-opacity:1;stroke-width:0.75;stroke-linecap:round;stroke-linejoin:round;stroke:rgb(60%,60%,60%);stroke-opacity:1;stroke-miterlimit:10;\" d=\"M 479.320312 499.5 L 487.320312 499.5 L 487.320312 489.5 L 479.320312 489.5 Z M 479.320312 499.5 \"/>\n",
       "<path style=\"fill-rule:nonzero;fill:rgb(0%,0%,100%);fill-opacity:1;stroke-width:0.75;stroke-linecap:round;stroke-linejoin:round;stroke:rgb(60%,60%,60%);stroke-opacity:1;stroke-miterlimit:10;\" d=\"M 487.320312 499.5 L 495.320312 499.5 L 495.320312 489.5 L 487.320312 489.5 Z M 487.320312 499.5 \"/>\n",
       "<path style=\"fill-rule:nonzero;fill:rgb(100%,64.705882%,0%);fill-opacity:1;stroke-width:0.75;stroke-linecap:round;stroke-linejoin:round;stroke:rgb(60%,60%,60%);stroke-opacity:1;stroke-miterlimit:10;\" d=\"M 495.320312 499.5 L 503.320312 499.5 L 503.320312 489.5 L 495.320312 489.5 Z M 495.320312 499.5 \"/>\n",
       "<g style=\"fill:rgb(0%,0%,0%);fill-opacity:1;\">\n",
       "  <use xlink:href=\"#glyph2-1\" x=\"506.320312\" y=\"497.052734\"/>\n",
       "  <use xlink:href=\"#glyph2-2\" x=\"512.320312\" y=\"497.052734\"/>\n",
       "  <use xlink:href=\"#glyph2-3\" x=\"516.320312\" y=\"497.052734\"/>\n",
       "  <use xlink:href=\"#glyph2-4\" x=\"522.320312\" y=\"497.052734\"/>\n",
       "  <use xlink:href=\"#glyph2-5\" x=\"528.320312\" y=\"497.052734\"/>\n",
       "</g>\n",
       "<g style=\"fill:rgb(0%,0%,0%);fill-opacity:1;\">\n",
       "  <use xlink:href=\"#glyph2-1\" x=\"632.078125\" y=\"494.552734\"/>\n",
       "  <use xlink:href=\"#glyph2-2\" x=\"638.078125\" y=\"494.552734\"/>\n",
       "  <use xlink:href=\"#glyph2-3\" x=\"642.078125\" y=\"494.552734\"/>\n",
       "  <use xlink:href=\"#glyph2-4\" x=\"648.078125\" y=\"494.552734\"/>\n",
       "  <use xlink:href=\"#glyph2-5\" x=\"654.078125\" y=\"494.552734\"/>\n",
       "</g>\n",
       "<path style=\"fill-rule:nonzero;fill:rgb(53.333333%,53.333333%,53.333333%);fill-opacity:1;stroke-width:0.75;stroke-linecap:round;stroke-linejoin:round;stroke:rgb(60%,60%,60%);stroke-opacity:1;stroke-miterlimit:10;\" d=\"M 632.078125 513 L 646.078125 513 L 646.078125 499 L 632.078125 499 Z M 632.078125 513 \"/>\n",
       "<path style=\"fill-rule:nonzero;fill:rgb(0%,0%,100%);fill-opacity:1;stroke-width:0.75;stroke-linecap:round;stroke-linejoin:round;stroke:rgb(60%,60%,60%);stroke-opacity:1;stroke-miterlimit:10;\" d=\"M 632.078125 527 L 646.078125 527 L 646.078125 513 L 632.078125 513 Z M 632.078125 527 \"/>\n",
       "<path style=\"fill-rule:nonzero;fill:rgb(100%,64.705882%,0%);fill-opacity:1;stroke-width:0.75;stroke-linecap:round;stroke-linejoin:round;stroke:rgb(60%,60%,60%);stroke-opacity:1;stroke-miterlimit:10;\" d=\"M 632.078125 541 L 646.078125 541 L 646.078125 527 L 632.078125 527 Z M 632.078125 541 \"/>\n",
       "<path style=\"fill-rule:nonzero;fill:rgb(100%,0%,0%);fill-opacity:1;stroke-width:0.75;stroke-linecap:round;stroke-linejoin:round;stroke:rgb(60%,60%,60%);stroke-opacity:1;stroke-miterlimit:10;\" d=\"M 632.078125 555 L 646.078125 555 L 646.078125 541 L 632.078125 541 Z M 632.078125 555 \"/>\n",
       "<g style=\"fill:rgb(0%,0%,0%);fill-opacity:1;\">\n",
       "  <use xlink:href=\"#glyph1-18\" x=\"648.878906\" y=\"508.552734\"/>\n",
       "  <use xlink:href=\"#glyph1-19\" x=\"654.878906\" y=\"508.552734\"/>\n",
       "</g>\n",
       "<g style=\"fill:rgb(0%,0%,0%);fill-opacity:1;\">\n",
       "  <use xlink:href=\"#glyph1-20\" x=\"648.878906\" y=\"522.552734\"/>\n",
       "  <use xlink:href=\"#glyph1-21\" x=\"655.878906\" y=\"522.552734\"/>\n",
       "  <use xlink:href=\"#glyph1-10\" x=\"662.878906\" y=\"522.552734\"/>\n",
       "  <use xlink:href=\"#glyph1-22\" x=\"668.878906\" y=\"522.552734\"/>\n",
       "  <use xlink:href=\"#glyph1-23\" x=\"673.878906\" y=\"522.552734\"/>\n",
       "  <use xlink:href=\"#glyph1-24\" x=\"676.878906\" y=\"522.552734\"/>\n",
       "  <use xlink:href=\"#glyph1-25\" x=\"682.878906\" y=\"522.552734\"/>\n",
       "</g>\n",
       "<g style=\"fill:rgb(0%,0%,0%);fill-opacity:1;\">\n",
       "  <use xlink:href=\"#glyph1-20\" x=\"648.878906\" y=\"536.552734\"/>\n",
       "  <use xlink:href=\"#glyph1-21\" x=\"655.878906\" y=\"536.552734\"/>\n",
       "  <use xlink:href=\"#glyph1-10\" x=\"662.878906\" y=\"536.552734\"/>\n",
       "  <use xlink:href=\"#glyph1-23\" x=\"668.878906\" y=\"536.552734\"/>\n",
       "  <use xlink:href=\"#glyph1-26\" x=\"671.878906\" y=\"536.552734\"/>\n",
       "  <use xlink:href=\"#glyph1-27\" x=\"674.878906\" y=\"536.552734\"/>\n",
       "  <use xlink:href=\"#glyph1-19\" x=\"680.878906\" y=\"536.552734\"/>\n",
       "  <use xlink:href=\"#glyph1-22\" x=\"686.878906\" y=\"536.552734\"/>\n",
       "</g>\n",
       "<g style=\"fill:rgb(0%,0%,0%);fill-opacity:1;\">\n",
       "  <use xlink:href=\"#glyph1-20\" x=\"648.878906\" y=\"550.552734\"/>\n",
       "  <use xlink:href=\"#glyph1-21\" x=\"655.878906\" y=\"550.552734\"/>\n",
       "  <use xlink:href=\"#glyph1-10\" x=\"662.878906\" y=\"550.552734\"/>\n",
       "  <use xlink:href=\"#glyph1-18\" x=\"668.878906\" y=\"550.552734\"/>\n",
       "  <use xlink:href=\"#glyph1-21\" x=\"674.878906\" y=\"550.552734\"/>\n",
       "</g>\n",
       "<path style=\" stroke:none;fill-rule:nonzero;fill:rgb(12.941176%,40%,67.45098%);fill-opacity:1;\" d=\"M 596.320312 638.5 L 606.320312 638.5 L 606.320312 637.015625 L 596.320312 637.015625 Z M 596.320312 638.5 \"/>\n",
       "<path style=\" stroke:none;fill-rule:nonzero;fill:rgb(13.72549%,41.176471%,67.843137%);fill-opacity:1;\" d=\"M 596.320312 637.015625 L 606.320312 637.015625 L 606.320312 635.53125 L 596.320312 635.53125 Z M 596.320312 637.015625 \"/>\n",
       "<path style=\" stroke:none;fill-rule:nonzero;fill:rgb(14.901961%,42.745098%,68.627451%);fill-opacity:1;\" d=\"M 596.320312 635.53125 L 606.320312 635.53125 L 606.320312 634.046875 L 596.320312 634.046875 Z M 596.320312 635.53125 \"/>\n",
       "<path style=\" stroke:none;fill-rule:nonzero;fill:rgb(16.078431%,43.921569%,69.411765%);fill-opacity:1;\" d=\"M 596.320312 634.042969 L 606.320312 634.042969 L 606.320312 632.558594 L 596.320312 632.558594 Z M 596.320312 634.042969 \"/>\n",
       "<path style=\" stroke:none;fill-rule:nonzero;fill:rgb(16.862745%,45.490196%,70.196078%);fill-opacity:1;\" d=\"M 596.320312 632.558594 L 606.320312 632.558594 L 606.320312 631.074219 L 596.320312 631.074219 Z M 596.320312 632.558594 \"/>\n",
       "<path style=\" stroke:none;fill-rule:nonzero;fill:rgb(18.039216%,47.058824%,70.980392%);fill-opacity:1;\" d=\"M 596.320312 631.074219 L 606.320312 631.074219 L 606.320312 629.589844 L 596.320312 629.589844 Z M 596.320312 631.074219 \"/>\n",
       "<path style=\" stroke:none;fill-rule:nonzero;fill:rgb(19.215686%,48.235294%,71.764706%);fill-opacity:1;\" d=\"M 596.320312 629.589844 L 606.320312 629.589844 L 606.320312 628.105469 L 596.320312 628.105469 Z M 596.320312 629.589844 \"/>\n",
       "<path style=\" stroke:none;fill-rule:nonzero;fill:rgb(20.392157%,49.803922%,72.156863%);fill-opacity:1;\" d=\"M 596.320312 628.105469 L 606.320312 628.105469 L 606.320312 626.621094 L 596.320312 626.621094 Z M 596.320312 628.105469 \"/>\n",
       "<path style=\" stroke:none;fill-rule:nonzero;fill:rgb(21.176471%,50.980392%,72.941176%);fill-opacity:1;\" d=\"M 596.320312 626.617188 L 606.320312 626.617188 L 606.320312 625.132812 L 596.320312 625.132812 Z M 596.320312 626.617188 \"/>\n",
       "<path style=\" stroke:none;fill-rule:nonzero;fill:rgb(22.352941%,52.54902%,73.72549%);fill-opacity:1;\" d=\"M 596.320312 625.132812 L 606.320312 625.132812 L 606.320312 623.648438 L 596.320312 623.648438 Z M 596.320312 625.132812 \"/>\n",
       "<path style=\" stroke:none;fill-rule:nonzero;fill:rgb(23.529412%,54.117647%,74.509804%);fill-opacity:1;\" d=\"M 596.320312 623.648438 L 606.320312 623.648438 L 606.320312 622.164062 L 596.320312 622.164062 Z M 596.320312 623.648438 \"/>\n",
       "<path style=\" stroke:none;fill-rule:nonzero;fill:rgb(24.313725%,55.294118%,75.294118%);fill-opacity:1;\" d=\"M 596.320312 622.164062 L 606.320312 622.164062 L 606.320312 620.679688 L 596.320312 620.679688 Z M 596.320312 622.164062 \"/>\n",
       "<path style=\" stroke:none;fill-rule:nonzero;fill:rgb(25.490196%,56.862745%,76.078431%);fill-opacity:1;\" d=\"M 596.320312 620.679688 L 606.320312 620.679688 L 606.320312 619.195312 L 596.320312 619.195312 Z M 596.320312 620.679688 \"/>\n",
       "<path style=\" stroke:none;fill-rule:nonzero;fill:rgb(27.45098%,58.039216%,76.862745%);fill-opacity:1;\" d=\"M 596.320312 619.191406 L 606.320312 619.191406 L 606.320312 617.707031 L 596.320312 617.707031 Z M 596.320312 619.191406 \"/>\n",
       "<path style=\" stroke:none;fill-rule:nonzero;fill:rgb(29.803922%,60%,77.647059%);fill-opacity:1;\" d=\"M 596.320312 617.707031 L 606.320312 617.707031 L 606.320312 616.222656 L 596.320312 616.222656 Z M 596.320312 617.707031 \"/>\n",
       "<path style=\" stroke:none;fill-rule:nonzero;fill:rgb(32.156863%,61.176471%,78.431373%);fill-opacity:1;\" d=\"M 596.320312 616.222656 L 606.320312 616.222656 L 606.320312 614.738281 L 596.320312 614.738281 Z M 596.320312 616.222656 \"/>\n",
       "<path style=\" stroke:none;fill-rule:nonzero;fill:rgb(34.901961%,63.137255%,79.215686%);fill-opacity:1;\" d=\"M 596.320312 614.738281 L 606.320312 614.738281 L 606.320312 613.253906 L 596.320312 613.253906 Z M 596.320312 614.738281 \"/>\n",
       "<path style=\" stroke:none;fill-rule:nonzero;fill:rgb(37.254902%,64.705882%,80%);fill-opacity:1;\" d=\"M 596.320312 613.253906 L 606.320312 613.253906 L 606.320312 611.769531 L 596.320312 611.769531 Z M 596.320312 613.253906 \"/>\n",
       "<path style=\" stroke:none;fill-rule:nonzero;fill:rgb(39.607843%,66.27451%,80.784314%);fill-opacity:1;\" d=\"M 596.320312 611.765625 L 606.320312 611.765625 L 606.320312 610.28125 L 596.320312 610.28125 Z M 596.320312 611.765625 \"/>\n",
       "<path style=\" stroke:none;fill-rule:nonzero;fill:rgb(42.352941%,67.843137%,81.960784%);fill-opacity:1;\" d=\"M 596.320312 610.28125 L 606.320312 610.28125 L 606.320312 608.796875 L 596.320312 608.796875 Z M 596.320312 610.28125 \"/>\n",
       "<path style=\" stroke:none;fill-rule:nonzero;fill:rgb(44.705882%,69.411765%,82.745098%);fill-opacity:1;\" d=\"M 596.320312 608.796875 L 606.320312 608.796875 L 606.320312 607.3125 L 596.320312 607.3125 Z M 596.320312 608.796875 \"/>\n",
       "<path style=\" stroke:none;fill-rule:nonzero;fill:rgb(47.058824%,70.980392%,83.529412%);fill-opacity:1;\" d=\"M 596.320312 607.3125 L 606.320312 607.3125 L 606.320312 605.828125 L 596.320312 605.828125 Z M 596.320312 607.3125 \"/>\n",
       "<path style=\" stroke:none;fill-rule:nonzero;fill:rgb(49.803922%,72.54902%,84.313725%);fill-opacity:1;\" d=\"M 596.320312 605.828125 L 606.320312 605.828125 L 606.320312 604.34375 L 596.320312 604.34375 Z M 596.320312 605.828125 \"/>\n",
       "<path style=\" stroke:none;fill-rule:nonzero;fill:rgb(52.156863%,74.117647%,85.098039%);fill-opacity:1;\" d=\"M 596.320312 604.339844 L 606.320312 604.339844 L 606.320312 602.855469 L 596.320312 602.855469 Z M 596.320312 604.339844 \"/>\n",
       "<path style=\" stroke:none;fill-rule:nonzero;fill:rgb(54.509804%,75.686275%,85.882353%);fill-opacity:1;\" d=\"M 596.320312 602.855469 L 606.320312 602.855469 L 606.320312 601.371094 L 596.320312 601.371094 Z M 596.320312 602.855469 \"/>\n",
       "<path style=\" stroke:none;fill-rule:nonzero;fill:rgb(57.254902%,77.254902%,87.058824%);fill-opacity:1;\" d=\"M 596.320312 601.371094 L 606.320312 601.371094 L 606.320312 599.886719 L 596.320312 599.886719 Z M 596.320312 601.371094 \"/>\n",
       "<path style=\" stroke:none;fill-rule:nonzero;fill:rgb(59.215686%,78.039216%,87.45098%);fill-opacity:1;\" d=\"M 596.320312 599.886719 L 606.320312 599.886719 L 606.320312 598.402344 L 596.320312 598.402344 Z M 596.320312 599.886719 \"/>\n",
       "<path style=\" stroke:none;fill-rule:nonzero;fill:rgb(61.176471%,79.215686%,87.843137%);fill-opacity:1;\" d=\"M 596.320312 598.402344 L 606.320312 598.402344 L 606.320312 596.917969 L 596.320312 596.917969 Z M 596.320312 598.402344 \"/>\n",
       "<path style=\" stroke:none;fill-rule:nonzero;fill:rgb(63.137255%,80%,88.627451%);fill-opacity:1;\" d=\"M 596.320312 596.914062 L 606.320312 596.914062 L 606.320312 595.429688 L 596.320312 595.429688 Z M 596.320312 596.914062 \"/>\n",
       "<path style=\" stroke:none;fill-rule:nonzero;fill:rgb(65.098039%,81.176471%,89.019608%);fill-opacity:1;\" d=\"M 596.320312 595.429688 L 606.320312 595.429688 L 606.320312 593.945312 L 596.320312 593.945312 Z M 596.320312 595.429688 \"/>\n",
       "<path style=\" stroke:none;fill-rule:nonzero;fill:rgb(67.058824%,81.960784%,89.803922%);fill-opacity:1;\" d=\"M 596.320312 593.945312 L 606.320312 593.945312 L 606.320312 592.460938 L 596.320312 592.460938 Z M 596.320312 593.945312 \"/>\n",
       "<path style=\" stroke:none;fill-rule:nonzero;fill:rgb(69.019608%,83.137255%,90.196078%);fill-opacity:1;\" d=\"M 596.320312 592.460938 L 606.320312 592.460938 L 606.320312 590.976562 L 596.320312 590.976562 Z M 596.320312 592.460938 \"/>\n",
       "<path style=\" stroke:none;fill-rule:nonzero;fill:rgb(70.980392%,83.921569%,90.980392%);fill-opacity:1;\" d=\"M 596.320312 590.976562 L 606.320312 590.976562 L 606.320312 589.492188 L 596.320312 589.492188 Z M 596.320312 590.976562 \"/>\n",
       "<path style=\" stroke:none;fill-rule:nonzero;fill:rgb(72.941176%,85.098039%,91.372549%);fill-opacity:1;\" d=\"M 596.320312 589.488281 L 606.320312 589.488281 L 606.320312 588.003906 L 596.320312 588.003906 Z M 596.320312 589.488281 \"/>\n",
       "<path style=\" stroke:none;fill-rule:nonzero;fill:rgb(74.901961%,86.27451%,91.764706%);fill-opacity:1;\" d=\"M 596.320312 588.003906 L 606.320312 588.003906 L 606.320312 586.519531 L 596.320312 586.519531 Z M 596.320312 588.003906 \"/>\n",
       "<path style=\" stroke:none;fill-rule:nonzero;fill:rgb(76.862745%,87.058824%,92.54902%);fill-opacity:1;\" d=\"M 596.320312 586.519531 L 606.320312 586.519531 L 606.320312 585.035156 L 596.320312 585.035156 Z M 596.320312 586.519531 \"/>\n",
       "<path style=\" stroke:none;fill-rule:nonzero;fill:rgb(78.823529%,88.235294%,92.941176%);fill-opacity:1;\" d=\"M 596.320312 585.035156 L 606.320312 585.035156 L 606.320312 583.550781 L 596.320312 583.550781 Z M 596.320312 585.035156 \"/>\n",
       "<path style=\" stroke:none;fill-rule:nonzero;fill:rgb(80.784314%,89.019608%,93.72549%);fill-opacity:1;\" d=\"M 596.320312 583.550781 L 606.320312 583.550781 L 606.320312 582.066406 L 596.320312 582.066406 Z M 596.320312 583.550781 \"/>\n",
       "<path style=\" stroke:none;fill-rule:nonzero;fill:rgb(82.352941%,89.803922%,94.117647%);fill-opacity:1;\" d=\"M 596.320312 582.0625 L 606.320312 582.0625 L 606.320312 580.578125 L 596.320312 580.578125 Z M 596.320312 582.0625 \"/>\n",
       "<path style=\" stroke:none;fill-rule:nonzero;fill:rgb(83.529412%,90.588235%,94.117647%);fill-opacity:1;\" d=\"M 596.320312 580.578125 L 606.320312 580.578125 L 606.320312 579.09375 L 596.320312 579.09375 Z M 596.320312 580.578125 \"/>\n",
       "<path style=\" stroke:none;fill-rule:nonzero;fill:rgb(84.705882%,90.980392%,94.509804%);fill-opacity:1;\" d=\"M 596.320312 579.09375 L 606.320312 579.09375 L 606.320312 577.609375 L 596.320312 577.609375 Z M 596.320312 579.09375 \"/>\n",
       "<path style=\" stroke:none;fill-rule:nonzero;fill:rgb(85.882353%,91.764706%,94.509804%);fill-opacity:1;\" d=\"M 596.320312 577.609375 L 606.320312 577.609375 L 606.320312 576.125 L 596.320312 576.125 Z M 596.320312 577.609375 \"/>\n",
       "<path style=\" stroke:none;fill-rule:nonzero;fill:rgb(87.058824%,92.156863%,94.901961%);fill-opacity:1;\" d=\"M 596.320312 576.125 L 606.320312 576.125 L 606.320312 574.640625 L 596.320312 574.640625 Z M 596.320312 576.125 \"/>\n",
       "<path style=\" stroke:none;fill-rule:nonzero;fill:rgb(88.235294%,92.54902%,95.294118%);fill-opacity:1;\" d=\"M 596.320312 574.636719 L 606.320312 574.636719 L 606.320312 573.152344 L 596.320312 573.152344 Z M 596.320312 574.636719 \"/>\n",
       "<path style=\" stroke:none;fill-rule:nonzero;fill:rgb(89.411765%,93.333333%,95.294118%);fill-opacity:1;\" d=\"M 596.320312 573.152344 L 606.320312 573.152344 L 606.320312 571.667969 L 596.320312 571.667969 Z M 596.320312 573.152344 \"/>\n",
       "<path style=\" stroke:none;fill-rule:nonzero;fill:rgb(90.588235%,93.72549%,95.686275%);fill-opacity:1;\" d=\"M 596.320312 571.667969 L 606.320312 571.667969 L 606.320312 570.183594 L 596.320312 570.183594 Z M 596.320312 571.667969 \"/>\n",
       "<path style=\" stroke:none;fill-rule:nonzero;fill:rgb(91.764706%,94.509804%,95.686275%);fill-opacity:1;\" d=\"M 596.320312 570.183594 L 606.320312 570.183594 L 606.320312 568.699219 L 596.320312 568.699219 Z M 596.320312 570.183594 \"/>\n",
       "<path style=\" stroke:none;fill-rule:nonzero;fill:rgb(92.941176%,94.901961%,96.078431%);fill-opacity:1;\" d=\"M 596.320312 568.699219 L 606.320312 568.699219 L 606.320312 567.214844 L 596.320312 567.214844 Z M 596.320312 568.699219 \"/>\n",
       "<path style=\" stroke:none;fill-rule:nonzero;fill:rgb(94.117647%,95.686275%,96.078431%);fill-opacity:1;\" d=\"M 596.320312 567.210938 L 606.320312 567.210938 L 606.320312 565.726562 L 596.320312 565.726562 Z M 596.320312 567.210938 \"/>\n",
       "<path style=\" stroke:none;fill-rule:nonzero;fill:rgb(95.294118%,96.078431%,96.470588%);fill-opacity:1;\" d=\"M 596.320312 565.726562 L 606.320312 565.726562 L 606.320312 564.242188 L 596.320312 564.242188 Z M 596.320312 565.726562 \"/>\n",
       "<path style=\" stroke:none;fill-rule:nonzero;fill:rgb(96.862745%,96.862745%,96.862745%);fill-opacity:1;\" d=\"M 596.320312 564.242188 L 606.320312 564.242188 L 606.320312 562.757812 L 596.320312 562.757812 Z M 596.320312 564.242188 \"/>\n",
       "<path style=\" stroke:none;fill-rule:nonzero;fill:rgb(96.862745%,95.686275%,95.294118%);fill-opacity:1;\" d=\"M 596.320312 562.757812 L 606.320312 562.757812 L 606.320312 561.273438 L 596.320312 561.273438 Z M 596.320312 562.757812 \"/>\n",
       "<path style=\" stroke:none;fill-rule:nonzero;fill:rgb(96.862745%,94.901961%,93.72549%);fill-opacity:1;\" d=\"M 596.320312 561.273438 L 606.320312 561.273438 L 606.320312 559.789062 L 596.320312 559.789062 Z M 596.320312 561.273438 \"/>\n",
       "<path style=\" stroke:none;fill-rule:nonzero;fill:rgb(97.254902%,94.117647%,92.156863%);fill-opacity:1;\" d=\"M 596.320312 559.789062 L 606.320312 559.789062 L 606.320312 558.304688 L 596.320312 558.304688 Z M 596.320312 559.789062 \"/>\n",
       "<path style=\" stroke:none;fill-rule:nonzero;fill:rgb(97.254902%,93.333333%,90.588235%);fill-opacity:1;\" d=\"M 596.320312 558.300781 L 606.320312 558.300781 L 606.320312 556.816406 L 596.320312 556.816406 Z M 596.320312 558.300781 \"/>\n",
       "<path style=\" stroke:none;fill-rule:nonzero;fill:rgb(97.647059%,92.156863%,89.019608%);fill-opacity:1;\" d=\"M 596.320312 556.816406 L 606.320312 556.816406 L 606.320312 555.332031 L 596.320312 555.332031 Z M 596.320312 556.816406 \"/>\n",
       "<path style=\" stroke:none;fill-rule:nonzero;fill:rgb(97.647059%,91.372549%,87.45098%);fill-opacity:1;\" d=\"M 596.320312 555.332031 L 606.320312 555.332031 L 606.320312 553.847656 L 596.320312 553.847656 Z M 596.320312 555.332031 \"/>\n",
       "<path style=\" stroke:none;fill-rule:nonzero;fill:rgb(98.039216%,90.588235%,86.27451%);fill-opacity:1;\" d=\"M 596.320312 553.847656 L 606.320312 553.847656 L 606.320312 552.363281 L 596.320312 552.363281 Z M 596.320312 553.847656 \"/>\n",
       "<path style=\" stroke:none;fill-rule:nonzero;fill:rgb(98.039216%,89.803922%,84.705882%);fill-opacity:1;\" d=\"M 596.320312 552.363281 L 606.320312 552.363281 L 606.320312 550.878906 L 596.320312 550.878906 Z M 596.320312 552.363281 \"/>\n",
       "<path style=\" stroke:none;fill-rule:nonzero;fill:rgb(98.431373%,88.627451%,83.137255%);fill-opacity:1;\" d=\"M 596.320312 550.875 L 606.320312 550.875 L 606.320312 549.390625 L 596.320312 549.390625 Z M 596.320312 550.875 \"/>\n",
       "<path style=\" stroke:none;fill-rule:nonzero;fill:rgb(98.431373%,87.843137%,81.568627%);fill-opacity:1;\" d=\"M 596.320312 549.390625 L 606.320312 549.390625 L 606.320312 547.90625 L 596.320312 547.90625 Z M 596.320312 549.390625 \"/>\n",
       "<path style=\" stroke:none;fill-rule:nonzero;fill:rgb(98.823529%,87.058824%,80%);fill-opacity:1;\" d=\"M 596.320312 547.90625 L 606.320312 547.90625 L 606.320312 546.421875 L 596.320312 546.421875 Z M 596.320312 547.90625 \"/>\n",
       "<path style=\" stroke:none;fill-rule:nonzero;fill:rgb(98.823529%,86.27451%,78.431373%);fill-opacity:1;\" d=\"M 596.320312 546.421875 L 606.320312 546.421875 L 606.320312 544.9375 L 596.320312 544.9375 Z M 596.320312 546.421875 \"/>\n",
       "<path style=\" stroke:none;fill-rule:nonzero;fill:rgb(98.823529%,84.705882%,76.862745%);fill-opacity:1;\" d=\"M 596.320312 544.9375 L 606.320312 544.9375 L 606.320312 543.453125 L 596.320312 543.453125 Z M 596.320312 544.9375 \"/>\n",
       "<path style=\" stroke:none;fill-rule:nonzero;fill:rgb(98.431373%,83.137255%,74.509804%);fill-opacity:1;\" d=\"M 596.320312 543.449219 L 606.320312 543.449219 L 606.320312 541.964844 L 596.320312 541.964844 Z M 596.320312 543.449219 \"/>\n",
       "<path style=\" stroke:none;fill-rule:nonzero;fill:rgb(98.431373%,81.568627%,72.54902%);fill-opacity:1;\" d=\"M 596.320312 541.964844 L 606.320312 541.964844 L 606.320312 540.480469 L 596.320312 540.480469 Z M 596.320312 541.964844 \"/>\n",
       "<path style=\" stroke:none;fill-rule:nonzero;fill:rgb(98.039216%,79.607843%,70.196078%);fill-opacity:1;\" d=\"M 596.320312 540.480469 L 606.320312 540.480469 L 606.320312 538.996094 L 596.320312 538.996094 Z M 596.320312 540.480469 \"/>\n",
       "<path style=\" stroke:none;fill-rule:nonzero;fill:rgb(97.647059%,78.039216%,68.235294%);fill-opacity:1;\" d=\"M 596.320312 538.996094 L 606.320312 538.996094 L 606.320312 537.511719 L 596.320312 537.511719 Z M 596.320312 538.996094 \"/>\n",
       "<path style=\" stroke:none;fill-rule:nonzero;fill:rgb(97.647059%,76.470588%,65.882353%);fill-opacity:1;\" d=\"M 596.320312 537.511719 L 606.320312 537.511719 L 606.320312 536.027344 L 596.320312 536.027344 Z M 596.320312 537.511719 \"/>\n",
       "<path style=\" stroke:none;fill-rule:nonzero;fill:rgb(97.254902%,74.509804%,63.921569%);fill-opacity:1;\" d=\"M 596.320312 536.023438 L 606.320312 536.023438 L 606.320312 534.539062 L 596.320312 534.539062 Z M 596.320312 536.023438 \"/>\n",
       "<path style=\" stroke:none;fill-rule:nonzero;fill:rgb(96.862745%,72.941176%,61.568627%);fill-opacity:1;\" d=\"M 596.320312 534.539062 L 606.320312 534.539062 L 606.320312 533.054688 L 596.320312 533.054688 Z M 596.320312 534.539062 \"/>\n",
       "<path style=\" stroke:none;fill-rule:nonzero;fill:rgb(96.470588%,71.372549%,59.607843%);fill-opacity:1;\" d=\"M 596.320312 533.054688 L 606.320312 533.054688 L 606.320312 531.570312 L 596.320312 531.570312 Z M 596.320312 533.054688 \"/>\n",
       "<path style=\" stroke:none;fill-rule:nonzero;fill:rgb(96.470588%,69.411765%,57.254902%);fill-opacity:1;\" d=\"M 596.320312 531.570312 L 606.320312 531.570312 L 606.320312 530.085938 L 596.320312 530.085938 Z M 596.320312 531.570312 \"/>\n",
       "<path style=\" stroke:none;fill-rule:nonzero;fill:rgb(96.078431%,67.843137%,55.294118%);fill-opacity:1;\" d=\"M 596.320312 530.085938 L 606.320312 530.085938 L 606.320312 528.601562 L 596.320312 528.601562 Z M 596.320312 530.085938 \"/>\n",
       "<path style=\" stroke:none;fill-rule:nonzero;fill:rgb(95.686275%,66.27451%,52.941176%);fill-opacity:1;\" d=\"M 596.320312 528.597656 L 606.320312 528.597656 L 606.320312 527.113281 L 596.320312 527.113281 Z M 596.320312 528.597656 \"/>\n",
       "<path style=\" stroke:none;fill-rule:nonzero;fill:rgb(95.686275%,64.705882%,50.980392%);fill-opacity:1;\" d=\"M 596.320312 527.113281 L 606.320312 527.113281 L 606.320312 525.628906 L 596.320312 525.628906 Z M 596.320312 527.113281 \"/>\n",
       "<path style=\" stroke:none;fill-rule:nonzero;fill:rgb(94.509804%,62.352941%,49.019608%);fill-opacity:1;\" d=\"M 596.320312 525.628906 L 606.320312 525.628906 L 606.320312 524.144531 L 596.320312 524.144531 Z M 596.320312 525.628906 \"/>\n",
       "<path style=\" stroke:none;fill-rule:nonzero;fill:rgb(93.72549%,60%,47.45098%);fill-opacity:1;\" d=\"M 596.320312 524.144531 L 606.320312 524.144531 L 606.320312 522.660156 L 596.320312 522.660156 Z M 596.320312 524.144531 \"/>\n",
       "<path style=\" stroke:none;fill-rule:nonzero;fill:rgb(92.54902%,58.039216%,45.882353%);fill-opacity:1;\" d=\"M 596.320312 522.660156 L 606.320312 522.660156 L 606.320312 521.175781 L 596.320312 521.175781 Z M 596.320312 522.660156 \"/>\n",
       "<path style=\" stroke:none;fill-rule:nonzero;fill:rgb(91.764706%,55.686275%,44.313725%);fill-opacity:1;\" d=\"M 596.320312 521.171875 L 606.320312 521.171875 L 606.320312 519.6875 L 596.320312 519.6875 Z M 596.320312 521.171875 \"/>\n",
       "<path style=\" stroke:none;fill-rule:nonzero;fill:rgb(90.980392%,53.72549%,42.352941%);fill-opacity:1;\" d=\"M 596.320312 519.6875 L 606.320312 519.6875 L 606.320312 518.203125 L 596.320312 518.203125 Z M 596.320312 519.6875 \"/>\n",
       "<path style=\" stroke:none;fill-rule:nonzero;fill:rgb(89.803922%,51.372549%,40.784314%);fill-opacity:1;\" d=\"M 596.320312 518.203125 L 606.320312 518.203125 L 606.320312 516.71875 L 596.320312 516.71875 Z M 596.320312 518.203125 \"/>\n",
       "<path style=\" stroke:none;fill-rule:nonzero;fill:rgb(89.019608%,49.411765%,39.215686%);fill-opacity:1;\" d=\"M 596.320312 516.71875 L 606.320312 516.71875 L 606.320312 515.234375 L 596.320312 515.234375 Z M 596.320312 516.71875 \"/>\n",
       "<path style=\" stroke:none;fill-rule:nonzero;fill:rgb(87.843137%,47.058824%,37.647059%);fill-opacity:1;\" d=\"M 596.320312 515.234375 L 606.320312 515.234375 L 606.320312 513.75 L 596.320312 513.75 Z M 596.320312 515.234375 \"/>\n",
       "<path style=\" stroke:none;fill-rule:nonzero;fill:rgb(87.058824%,45.098039%,35.686275%);fill-opacity:1;\" d=\"M 596.320312 513.746094 L 606.320312 513.746094 L 606.320312 512.261719 L 596.320312 512.261719 Z M 596.320312 513.746094 \"/>\n",
       "<path style=\" stroke:none;fill-rule:nonzero;fill:rgb(86.27451%,42.745098%,34.117647%);fill-opacity:1;\" d=\"M 596.320312 512.261719 L 606.320312 512.261719 L 606.320312 510.777344 L 596.320312 510.777344 Z M 596.320312 512.261719 \"/>\n",
       "<path style=\" stroke:none;fill-rule:nonzero;fill:rgb(85.098039%,40.784314%,32.54902%);fill-opacity:1;\" d=\"M 596.320312 510.777344 L 606.320312 510.777344 L 606.320312 509.292969 L 596.320312 509.292969 Z M 596.320312 510.777344 \"/>\n",
       "<path style=\" stroke:none;fill-rule:nonzero;fill:rgb(84.313725%,38.431373%,30.980392%);fill-opacity:1;\" d=\"M 596.320312 509.292969 L 606.320312 509.292969 L 606.320312 507.808594 L 596.320312 507.808594 Z M 596.320312 509.292969 \"/>\n",
       "<path style=\" stroke:none;fill-rule:nonzero;fill:rgb(83.137255%,36.470588%,29.411765%);fill-opacity:1;\" d=\"M 596.320312 507.808594 L 606.320312 507.808594 L 606.320312 506.324219 L 596.320312 506.324219 Z M 596.320312 507.808594 \"/>\n",
       "<path style=\" stroke:none;fill-rule:nonzero;fill:rgb(81.960784%,34.117647%,28.235294%);fill-opacity:1;\" d=\"M 596.320312 506.320312 L 606.320312 506.320312 L 606.320312 504.835938 L 596.320312 504.835938 Z M 596.320312 506.320312 \"/>\n",
       "<path style=\" stroke:none;fill-rule:nonzero;fill:rgb(80.784314%,31.764706%,27.45098%);fill-opacity:1;\" d=\"M 596.320312 504.835938 L 606.320312 504.835938 L 606.320312 503.351562 L 596.320312 503.351562 Z M 596.320312 504.835938 \"/>\n",
       "<path style=\" stroke:none;fill-rule:nonzero;fill:rgb(79.607843%,29.411765%,26.27451%);fill-opacity:1;\" d=\"M 596.320312 503.351562 L 606.320312 503.351562 L 606.320312 501.867188 L 596.320312 501.867188 Z M 596.320312 503.351562 \"/>\n",
       "<path style=\" stroke:none;fill-rule:nonzero;fill:rgb(78.823529%,27.45098%,25.098039%);fill-opacity:1;\" d=\"M 596.320312 501.867188 L 606.320312 501.867188 L 606.320312 500.382812 L 596.320312 500.382812 Z M 596.320312 501.867188 \"/>\n",
       "<path style=\" stroke:none;fill-rule:nonzero;fill:rgb(77.647059%,25.098039%,24.313725%);fill-opacity:1;\" d=\"M 596.320312 500.382812 L 606.320312 500.382812 L 606.320312 498.898438 L 596.320312 498.898438 Z M 596.320312 500.382812 \"/>\n",
       "<path style=\" stroke:none;fill-rule:nonzero;fill:rgb(76.470588%,22.745098%,23.137255%);fill-opacity:1;\" d=\"M 596.320312 498.894531 L 606.320312 498.894531 L 606.320312 497.410156 L 596.320312 497.410156 Z M 596.320312 498.894531 \"/>\n",
       "<path style=\" stroke:none;fill-rule:nonzero;fill:rgb(75.294118%,20.392157%,21.960784%);fill-opacity:1;\" d=\"M 596.320312 497.410156 L 606.320312 497.410156 L 606.320312 495.925781 L 596.320312 495.925781 Z M 596.320312 497.410156 \"/>\n",
       "<path style=\" stroke:none;fill-rule:nonzero;fill:rgb(74.117647%,18.431373%,20.784314%);fill-opacity:1;\" d=\"M 596.320312 495.925781 L 606.320312 495.925781 L 606.320312 494.441406 L 596.320312 494.441406 Z M 596.320312 495.925781 \"/>\n",
       "<path style=\" stroke:none;fill-rule:nonzero;fill:rgb(72.941176%,16.078431%,20%);fill-opacity:1;\" d=\"M 596.320312 494.441406 L 606.320312 494.441406 L 606.320312 492.957031 L 596.320312 492.957031 Z M 596.320312 494.441406 \"/>\n",
       "<path style=\" stroke:none;fill-rule:nonzero;fill:rgb(71.764706%,13.72549%,18.823529%);fill-opacity:1;\" d=\"M 596.320312 492.957031 L 606.320312 492.957031 L 606.320312 491.472656 L 596.320312 491.472656 Z M 596.320312 492.957031 \"/>\n",
       "<path style=\" stroke:none;fill-rule:nonzero;fill:rgb(70.588235%,11.372549%,17.647059%);fill-opacity:1;\" d=\"M 596.320312 491.46875 L 606.320312 491.46875 L 606.320312 489.984375 L 596.320312 489.984375 Z M 596.320312 491.46875 \"/>\n",
       "<path style=\" stroke:none;fill-rule:nonzero;fill:rgb(69.803922%,9.411765%,16.862745%);fill-opacity:1;\" d=\"M 596.320312 489.984375 L 606.320312 489.984375 L 606.320312 488.5 L 596.320312 488.5 Z M 596.320312 489.984375 \"/>\n",
       "<g style=\"fill:rgb(0%,0%,0%);fill-opacity:1;\">\n",
       "  <use xlink:href=\"#glyph1-28\" x=\"610.320312\" y=\"635.146484\"/>\n",
       "  <use xlink:href=\"#glyph1-14\" x=\"613.320312\" y=\"635.146484\"/>\n",
       "  <use xlink:href=\"#glyph1-11\" x=\"619.320312\" y=\"635.146484\"/>\n",
       "  <use xlink:href=\"#glyph1-7\" x=\"622.320312\" y=\"635.146484\"/>\n",
       "</g>\n",
       "<g style=\"fill:rgb(0%,0%,0%);fill-opacity:1;\">\n",
       "  <use xlink:href=\"#glyph1-28\" x=\"610.320312\" y=\"613.052734\"/>\n",
       "  <use xlink:href=\"#glyph1-14\" x=\"613.320312\" y=\"613.052734\"/>\n",
       "</g>\n",
       "<g style=\"fill:rgb(0%,0%,0%);fill-opacity:1;\">\n",
       "  <use xlink:href=\"#glyph1-28\" x=\"610.320312\" y=\"590.958984\"/>\n",
       "  <use xlink:href=\"#glyph1-5\" x=\"613.320312\" y=\"590.958984\"/>\n",
       "  <use xlink:href=\"#glyph1-11\" x=\"619.320312\" y=\"590.958984\"/>\n",
       "  <use xlink:href=\"#glyph1-7\" x=\"622.320312\" y=\"590.958984\"/>\n",
       "</g>\n",
       "<g style=\"fill:rgb(0%,0%,0%);fill-opacity:1;\">\n",
       "  <use xlink:href=\"#glyph1-5\" x=\"610.320312\" y=\"568.865234\"/>\n",
       "</g>\n",
       "<g style=\"fill:rgb(0%,0%,0%);fill-opacity:1;\">\n",
       "  <use xlink:href=\"#glyph1-5\" x=\"610.320312\" y=\"546.771484\"/>\n",
       "  <use xlink:href=\"#glyph1-11\" x=\"616.320312\" y=\"546.771484\"/>\n",
       "  <use xlink:href=\"#glyph1-7\" x=\"619.320312\" y=\"546.771484\"/>\n",
       "</g>\n",
       "<g style=\"fill:rgb(0%,0%,0%);fill-opacity:1;\">\n",
       "  <use xlink:href=\"#glyph1-14\" x=\"610.320312\" y=\"524.673828\"/>\n",
       "</g>\n",
       "<g style=\"fill:rgb(0%,0%,0%);fill-opacity:1;\">\n",
       "  <use xlink:href=\"#glyph1-14\" x=\"610.320312\" y=\"502.580078\"/>\n",
       "  <use xlink:href=\"#glyph1-11\" x=\"616.320312\" y=\"502.580078\"/>\n",
       "  <use xlink:href=\"#glyph1-7\" x=\"619.320312\" y=\"502.580078\"/>\n",
       "</g>\n",
       "</g>\n",
       "</svg>\n"
      ],
      "text/plain": [
       "plot without title"
      ]
     },
     "metadata": {
      "application/pdf": {
       "height": 900,
       "width": 900
      },
      "image/jpeg": {
       "height": 900,
       "width": 900
      },
      "image/png": {
       "height": 900,
       "width": 900
      },
      "image/svg+xml": {
       "height": 900,
       "isolated": true,
       "width": 900
      }
     },
     "output_type": "display_data"
    }
   ],
   "source": [
    "figure_width = 15\n",
    "figure_height = 15\n",
    "options(repr.plot.width = figure_width, repr.plot.height = figure_height, res = 300)\n",
    "library(pheatmap)\n",
    "p <- pheatmap(feat_df.filt.data.scale,  # data file\n",
    "         cluster_rows = TRUE, \n",
    "         show_rownames = TRUE, \n",
    "         cluster_cols = TRUE, \n",
    "         annotation_col = annotation_col, \n",
    "         clustering_method = \"mcquitty\",\n",
    "         cellwidth = 8,\n",
    "         cellheight = 8,\n",
    "         color = cell_colors,\n",
    "         annotation_colors = ann_colors)\n",
    "ggsave(p, file = out_pdf_file, width = figure_width, height = figure_height, )"
   ]
  },
  {
   "cell_type": "markdown",
   "id": "05bbc2ed",
   "metadata": {},
   "source": [
    "-----"
   ]
  }
 ],
 "metadata": {
  "kernelspec": {
   "display_name": "R",
   "language": "R",
   "name": "ir"
  },
  "language_info": {
   "codemirror_mode": "r",
   "file_extension": ".r",
   "mimetype": "text/x-r-source",
   "name": "R",
   "pygments_lexer": "r",
   "version": "4.2.2"
  }
 },
 "nbformat": 4,
 "nbformat_minor": 5
}
