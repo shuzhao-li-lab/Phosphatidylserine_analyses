{
 "cells": [
  {
   "cell_type": "markdown",
   "id": "79823acb",
   "metadata": {},
   "source": [
    "# box plot "
   ]
  },
  {
   "cell_type": "markdown",
   "id": "c419d8c4-3364-440e-9623-292cb2e0cbc0",
   "metadata": {
    "tags": []
   },
   "source": [
    "# Load library"
   ]
  },
  {
   "cell_type": "code",
   "execution_count": 12,
   "id": "247e83ad",
   "metadata": {},
   "outputs": [],
   "source": [
    "library(ggplot2)\n",
    "library(Hmisc)\n",
    "source(\"../utilis/utilis.R\")\n",
    "library(glue)\n",
    "library(dplyr)"
   ]
  },
  {
   "cell_type": "markdown",
   "id": "2f26b8e3-2f34-420c-9197-32aabbe6e864",
   "metadata": {},
   "source": [
    "# Set values & table names"
   ]
  },
  {
   "cell_type": "code",
   "execution_count": 13,
   "id": "223c88b8-3574-4fa3-ad10-c4fd55c23aa7",
   "metadata": {},
   "outputs": [],
   "source": [
    "threshold = 0.05\n",
    "cutoff_column = 'padj'\n",
    "data_df_path =  '../../../output/PS_species_v2_hMinImp_TICnorm_groupFil0.3_HILICpos_1wayANOVA/one_wayANOVA_PS_species_v2_hMinImp_TICnorm_groupFil0.3_HILICpos_fullreport.csv'\n",
    "meta_df_path =  '../../../input/sequence_file/clean_deduplicated_meta_df.csv'"
   ]
  },
  {
   "cell_type": "markdown",
   "id": "160093ea-be50-4c0f-a63b-0c9f29fc5bb7",
   "metadata": {
    "tags": []
   },
   "source": [
    "# Prepare the data"
   ]
  },
  {
   "cell_type": "markdown",
   "id": "55dcea49-1899-4ccf-ad4b-7913743df329",
   "metadata": {
    "tags": []
   },
   "source": [
    "## Read and transform the data table and metadata table"
   ]
  },
  {
   "cell_type": "code",
   "execution_count": 14,
   "id": "fa6b0ede-3e0c-4ac5-8e3c-02a9bf8d48af",
   "metadata": {},
   "outputs": [],
   "source": [
    "df = read.csv(data_df_path, row.names = 1, sep = ',')\n",
    "meta_df = read.csv(meta_df_path, row.names = 1)"
   ]
  },
  {
   "cell_type": "markdown",
   "id": "ebb78ee6-01f6-4efc-a468-beb5b281164d",
   "metadata": {},
   "source": [
    "----"
   ]
  },
  {
   "cell_type": "code",
   "execution_count": 15,
   "id": "cfba1baa-096a-4728-9cb4-760b9a256ddd",
   "metadata": {
    "tags": []
   },
   "outputs": [],
   "source": [
    "df = df %>% filter(!is.na(neutral_mass))"
   ]
  },
  {
   "cell_type": "code",
   "execution_count": 16,
   "id": "7ada13a9-d001-43a9-a90f-8c8cd6d1db06",
   "metadata": {
    "tags": []
   },
   "outputs": [
    {
     "data": {
      "text/html": [
       "<style>\n",
       ".list-inline {list-style: none; margin:0; padding: 0}\n",
       ".list-inline>li {display: inline-block}\n",
       ".list-inline>li:not(:last-child)::after {content: \"\\00b7\"; padding: 0 .5ex}\n",
       "</style>\n",
       "<ol class=list-inline><li>'F13199'</li><li>'F15644'</li><li>'F16887'</li><li>'F17414'</li><li>'F17672'</li><li>'F17876'</li><li>'F17923'</li><li>'F18169'</li><li>'F18473'</li><li>'F18893'</li></ol>\n"
      ],
      "text/latex": [
       "\\begin{enumerate*}\n",
       "\\item 'F13199'\n",
       "\\item 'F15644'\n",
       "\\item 'F16887'\n",
       "\\item 'F17414'\n",
       "\\item 'F17672'\n",
       "\\item 'F17876'\n",
       "\\item 'F17923'\n",
       "\\item 'F18169'\n",
       "\\item 'F18473'\n",
       "\\item 'F18893'\n",
       "\\end{enumerate*}\n"
      ],
      "text/markdown": [
       "1. 'F13199'\n",
       "2. 'F15644'\n",
       "3. 'F16887'\n",
       "4. 'F17414'\n",
       "5. 'F17672'\n",
       "6. 'F17876'\n",
       "7. 'F17923'\n",
       "8. 'F18169'\n",
       "9. 'F18473'\n",
       "10. 'F18893'\n",
       "\n",
       "\n"
      ],
      "text/plain": [
       " [1] \"F13199\" \"F15644\" \"F16887\" \"F17414\" \"F17672\" \"F17876\" \"F17923\" \"F18169\"\n",
       " [9] \"F18473\" \"F18893\""
      ]
     },
     "metadata": {},
     "output_type": "display_data"
    }
   ],
   "source": [
    "rownames(df)"
   ]
  },
  {
   "cell_type": "code",
   "execution_count": 17,
   "id": "0d7c65d9-ee0f-4b55-be44-deb8ae519fe9",
   "metadata": {
    "tags": []
   },
   "outputs": [],
   "source": [
    "if (!(grepl(\"\\\\|\",rownames(df)[1]))) {\n",
    "    rownames(df) = paste0(rownames(df),\"|\",df$ion_relation,\"|\",df$short_name)\n",
    "} \n"
   ]
  },
  {
   "cell_type": "code",
   "execution_count": 18,
   "id": "da93a755-f73e-49cf-9412-0c1d8b0aef97",
   "metadata": {},
   "outputs": [
    {
     "data": {
      "text/html": [
       "<style>\n",
       ".list-inline {list-style: none; margin:0; padding: 0}\n",
       ".list-inline>li {display: inline-block}\n",
       ".list-inline>li:not(:last-child)::after {content: \"\\00b7\"; padding: 0 .5ex}\n",
       "</style>\n",
       "<ol class=list-inline><li>FALSE</li><li>FALSE</li><li>FALSE</li><li>FALSE</li><li>FALSE</li><li>FALSE</li><li>FALSE</li><li>FALSE</li><li>FALSE</li><li>FALSE</li><li>FALSE</li><li>FALSE</li><li>FALSE</li><li>FALSE</li><li>FALSE</li><li>FALSE</li><li>FALSE</li><li>FALSE</li><li>FALSE</li><li>FALSE</li><li>FALSE</li><li>FALSE</li><li>FALSE</li><li>FALSE</li><li>FALSE</li><li>FALSE</li><li>FALSE</li><li>FALSE</li><li>FALSE</li><li>FALSE</li><li>FALSE</li><li>FALSE</li><li>FALSE</li><li>FALSE</li><li>FALSE</li><li>FALSE</li><li>FALSE</li><li>TRUE</li><li>TRUE</li><li>TRUE</li><li>TRUE</li><li>TRUE</li><li>TRUE</li><li>TRUE</li><li>TRUE</li><li>TRUE</li><li>FALSE</li><li>FALSE</li><li>FALSE</li></ol>\n"
      ],
      "text/latex": [
       "\\begin{enumerate*}\n",
       "\\item FALSE\n",
       "\\item FALSE\n",
       "\\item FALSE\n",
       "\\item FALSE\n",
       "\\item FALSE\n",
       "\\item FALSE\n",
       "\\item FALSE\n",
       "\\item FALSE\n",
       "\\item FALSE\n",
       "\\item FALSE\n",
       "\\item FALSE\n",
       "\\item FALSE\n",
       "\\item FALSE\n",
       "\\item FALSE\n",
       "\\item FALSE\n",
       "\\item FALSE\n",
       "\\item FALSE\n",
       "\\item FALSE\n",
       "\\item FALSE\n",
       "\\item FALSE\n",
       "\\item FALSE\n",
       "\\item FALSE\n",
       "\\item FALSE\n",
       "\\item FALSE\n",
       "\\item FALSE\n",
       "\\item FALSE\n",
       "\\item FALSE\n",
       "\\item FALSE\n",
       "\\item FALSE\n",
       "\\item FALSE\n",
       "\\item FALSE\n",
       "\\item FALSE\n",
       "\\item FALSE\n",
       "\\item FALSE\n",
       "\\item FALSE\n",
       "\\item FALSE\n",
       "\\item FALSE\n",
       "\\item TRUE\n",
       "\\item TRUE\n",
       "\\item TRUE\n",
       "\\item TRUE\n",
       "\\item TRUE\n",
       "\\item TRUE\n",
       "\\item TRUE\n",
       "\\item TRUE\n",
       "\\item TRUE\n",
       "\\item FALSE\n",
       "\\item FALSE\n",
       "\\item FALSE\n",
       "\\end{enumerate*}\n"
      ],
      "text/markdown": [
       "1. FALSE\n",
       "2. FALSE\n",
       "3. FALSE\n",
       "4. FALSE\n",
       "5. FALSE\n",
       "6. FALSE\n",
       "7. FALSE\n",
       "8. FALSE\n",
       "9. FALSE\n",
       "10. FALSE\n",
       "11. FALSE\n",
       "12. FALSE\n",
       "13. FALSE\n",
       "14. FALSE\n",
       "15. FALSE\n",
       "16. FALSE\n",
       "17. FALSE\n",
       "18. FALSE\n",
       "19. FALSE\n",
       "20. FALSE\n",
       "21. FALSE\n",
       "22. FALSE\n",
       "23. FALSE\n",
       "24. FALSE\n",
       "25. FALSE\n",
       "26. FALSE\n",
       "27. FALSE\n",
       "28. FALSE\n",
       "29. FALSE\n",
       "30. FALSE\n",
       "31. FALSE\n",
       "32. FALSE\n",
       "33. FALSE\n",
       "34. FALSE\n",
       "35. FALSE\n",
       "36. FALSE\n",
       "37. FALSE\n",
       "38. TRUE\n",
       "39. TRUE\n",
       "40. TRUE\n",
       "41. TRUE\n",
       "42. TRUE\n",
       "43. TRUE\n",
       "44. TRUE\n",
       "45. TRUE\n",
       "46. TRUE\n",
       "47. FALSE\n",
       "48. FALSE\n",
       "49. FALSE\n",
       "\n",
       "\n"
      ],
      "text/plain": [
       " [1] FALSE FALSE FALSE FALSE FALSE FALSE FALSE FALSE FALSE FALSE FALSE FALSE\n",
       "[13] FALSE FALSE FALSE FALSE FALSE FALSE FALSE FALSE FALSE FALSE FALSE FALSE\n",
       "[25] FALSE FALSE FALSE FALSE FALSE FALSE FALSE FALSE FALSE FALSE FALSE FALSE\n",
       "[37] FALSE  TRUE  TRUE  TRUE  TRUE  TRUE  TRUE  TRUE  TRUE  TRUE FALSE FALSE\n",
       "[49] FALSE"
      ]
     },
     "metadata": {},
     "output_type": "display_data"
    }
   ],
   "source": [
    "grepl('Naive\\\\_[0-9]|R5pos\\\\_[0-9]|R5neg\\\\_[0-9]',colnames(df))"
   ]
  },
  {
   "cell_type": "code",
   "execution_count": 19,
   "id": "869d6308-0aff-4f68-81fa-f4e2438b1fd0",
   "metadata": {},
   "outputs": [],
   "source": [
    "data_df = df[grepl('Naive\\\\_[0-9]|R5pos\\\\_[0-9]|R5neg\\\\_[0-9]',colnames(df))]"
   ]
  },
  {
   "cell_type": "code",
   "execution_count": 20,
   "id": "ce6db72e-40e4-4d83-93cb-7bc53f70916f",
   "metadata": {},
   "outputs": [
    {
     "data": {
      "text/html": [
       "<table class=\"dataframe\">\n",
       "<caption>A data.frame: 6 × 9</caption>\n",
       "<thead>\n",
       "\t<tr><th></th><th scope=col>Naive_1</th><th scope=col>Naive_2</th><th scope=col>Naive_3</th><th scope=col>R5neg_1</th><th scope=col>R5neg_2</th><th scope=col>R5neg_3</th><th scope=col>R5pos_1</th><th scope=col>R5pos_2</th><th scope=col>R5pos_3</th></tr>\n",
       "\t<tr><th></th><th scope=col>&lt;dbl&gt;</th><th scope=col>&lt;dbl&gt;</th><th scope=col>&lt;dbl&gt;</th><th scope=col>&lt;dbl&gt;</th><th scope=col>&lt;dbl&gt;</th><th scope=col>&lt;dbl&gt;</th><th scope=col>&lt;dbl&gt;</th><th scope=col>&lt;dbl&gt;</th><th scope=col>&lt;dbl&gt;</th></tr>\n",
       "</thead>\n",
       "<tbody>\n",
       "\t<tr><th scope=row>F13199|M0,M+H+|LPS 20:3</th><td>24.08338</td><td>24.45670</td><td>23.64044</td><td>24.37743</td><td>23.83728</td><td>24.03485</td><td>22.91200</td><td>24.82122</td><td>24.43848</td></tr>\n",
       "\t<tr><th scope=row>F15644|M0,M+H+|LPS O-17:0;O</th><td>23.00810</td><td>24.25440</td><td>24.76713</td><td>23.68646</td><td>23.98221</td><td>23.92793</td><td>25.25177</td><td>25.09492</td><td>24.15703</td></tr>\n",
       "\t<tr><th scope=row>F16887||PS 37:5</th><td>21.02884</td><td>21.17845</td><td>21.22538</td><td>19.57986</td><td>20.57986</td><td>19.57986</td><td>21.25309</td><td>21.85145</td><td>21.46881</td></tr>\n",
       "\t<tr><th scope=row>F17414|M0,M+H+|PS 40:6</th><td>22.89911</td><td>22.48117</td><td>22.37244</td><td>24.13285</td><td>24.24680</td><td>24.09082</td><td>21.21226</td><td>22.78435</td><td>22.03645</td></tr>\n",
       "\t<tr><th scope=row>F17672|M0,M+H+|PS 42:9</th><td>17.15498</td><td>16.15498</td><td>16.15498</td><td>19.88481</td><td>20.25283</td><td>20.31554</td><td>16.15498</td><td>16.15498</td><td>16.15498</td></tr>\n",
       "\t<tr><th scope=row>F17876||PS 42:9</th><td>21.05213</td><td>20.96355</td><td>20.42411</td><td>18.04788</td><td>20.15459</td><td>17.04788</td><td>17.04788</td><td>21.59848</td><td>21.23466</td></tr>\n",
       "</tbody>\n",
       "</table>\n"
      ],
      "text/latex": [
       "A data.frame: 6 × 9\n",
       "\\begin{tabular}{r|lllllllll}\n",
       "  & Naive\\_1 & Naive\\_2 & Naive\\_3 & R5neg\\_1 & R5neg\\_2 & R5neg\\_3 & R5pos\\_1 & R5pos\\_2 & R5pos\\_3\\\\\n",
       "  & <dbl> & <dbl> & <dbl> & <dbl> & <dbl> & <dbl> & <dbl> & <dbl> & <dbl>\\\\\n",
       "\\hline\n",
       "\tF13199\\textbar{}M0,M+H+\\textbar{}LPS 20:3 & 24.08338 & 24.45670 & 23.64044 & 24.37743 & 23.83728 & 24.03485 & 22.91200 & 24.82122 & 24.43848\\\\\n",
       "\tF15644\\textbar{}M0,M+H+\\textbar{}LPS O-17:0;O & 23.00810 & 24.25440 & 24.76713 & 23.68646 & 23.98221 & 23.92793 & 25.25177 & 25.09492 & 24.15703\\\\\n",
       "\tF16887\\textbar{}\\textbar{}PS 37:5 & 21.02884 & 21.17845 & 21.22538 & 19.57986 & 20.57986 & 19.57986 & 21.25309 & 21.85145 & 21.46881\\\\\n",
       "\tF17414\\textbar{}M0,M+H+\\textbar{}PS 40:6 & 22.89911 & 22.48117 & 22.37244 & 24.13285 & 24.24680 & 24.09082 & 21.21226 & 22.78435 & 22.03645\\\\\n",
       "\tF17672\\textbar{}M0,M+H+\\textbar{}PS 42:9 & 17.15498 & 16.15498 & 16.15498 & 19.88481 & 20.25283 & 20.31554 & 16.15498 & 16.15498 & 16.15498\\\\\n",
       "\tF17876\\textbar{}\\textbar{}PS 42:9 & 21.05213 & 20.96355 & 20.42411 & 18.04788 & 20.15459 & 17.04788 & 17.04788 & 21.59848 & 21.23466\\\\\n",
       "\\end{tabular}\n"
      ],
      "text/markdown": [
       "\n",
       "A data.frame: 6 × 9\n",
       "\n",
       "| <!--/--> | Naive_1 &lt;dbl&gt; | Naive_2 &lt;dbl&gt; | Naive_3 &lt;dbl&gt; | R5neg_1 &lt;dbl&gt; | R5neg_2 &lt;dbl&gt; | R5neg_3 &lt;dbl&gt; | R5pos_1 &lt;dbl&gt; | R5pos_2 &lt;dbl&gt; | R5pos_3 &lt;dbl&gt; |\n",
       "|---|---|---|---|---|---|---|---|---|---|\n",
       "| F13199|M0,M+H+|LPS 20:3 | 24.08338 | 24.45670 | 23.64044 | 24.37743 | 23.83728 | 24.03485 | 22.91200 | 24.82122 | 24.43848 |\n",
       "| F15644|M0,M+H+|LPS O-17:0;O | 23.00810 | 24.25440 | 24.76713 | 23.68646 | 23.98221 | 23.92793 | 25.25177 | 25.09492 | 24.15703 |\n",
       "| F16887||PS 37:5 | 21.02884 | 21.17845 | 21.22538 | 19.57986 | 20.57986 | 19.57986 | 21.25309 | 21.85145 | 21.46881 |\n",
       "| F17414|M0,M+H+|PS 40:6 | 22.89911 | 22.48117 | 22.37244 | 24.13285 | 24.24680 | 24.09082 | 21.21226 | 22.78435 | 22.03645 |\n",
       "| F17672|M0,M+H+|PS 42:9 | 17.15498 | 16.15498 | 16.15498 | 19.88481 | 20.25283 | 20.31554 | 16.15498 | 16.15498 | 16.15498 |\n",
       "| F17876||PS 42:9 | 21.05213 | 20.96355 | 20.42411 | 18.04788 | 20.15459 | 17.04788 | 17.04788 | 21.59848 | 21.23466 |\n",
       "\n"
      ],
      "text/plain": [
       "                            Naive_1  Naive_2  Naive_3  R5neg_1  R5neg_2 \n",
       "F13199|M0,M+H+|LPS 20:3     24.08338 24.45670 23.64044 24.37743 23.83728\n",
       "F15644|M0,M+H+|LPS O-17:0;O 23.00810 24.25440 24.76713 23.68646 23.98221\n",
       "F16887||PS 37:5             21.02884 21.17845 21.22538 19.57986 20.57986\n",
       "F17414|M0,M+H+|PS 40:6      22.89911 22.48117 22.37244 24.13285 24.24680\n",
       "F17672|M0,M+H+|PS 42:9      17.15498 16.15498 16.15498 19.88481 20.25283\n",
       "F17876||PS 42:9             21.05213 20.96355 20.42411 18.04788 20.15459\n",
       "                            R5neg_3  R5pos_1  R5pos_2  R5pos_3 \n",
       "F13199|M0,M+H+|LPS 20:3     24.03485 22.91200 24.82122 24.43848\n",
       "F15644|M0,M+H+|LPS O-17:0;O 23.92793 25.25177 25.09492 24.15703\n",
       "F16887||PS 37:5             19.57986 21.25309 21.85145 21.46881\n",
       "F17414|M0,M+H+|PS 40:6      24.09082 21.21226 22.78435 22.03645\n",
       "F17672|M0,M+H+|PS 42:9      20.31554 16.15498 16.15498 16.15498\n",
       "F17876||PS 42:9             17.04788 17.04788 21.59848 21.23466"
      ]
     },
     "metadata": {},
     "output_type": "display_data"
    }
   ],
   "source": [
    "head(data_df)"
   ]
  },
  {
   "cell_type": "markdown",
   "id": "2d786225-48de-4c7d-ba7d-d5de02a775f5",
   "metadata": {},
   "source": [
    "----"
   ]
  },
  {
   "cell_type": "code",
   "execution_count": 21,
   "id": "ef984df0-cd3e-4e4d-a75e-a30be935e7a8",
   "metadata": {},
   "outputs": [
    {
     "data": {
      "text/html": [
       "<table class=\"dataframe\">\n",
       "<caption>A data.frame: 6 × 3</caption>\n",
       "<thead>\n",
       "\t<tr><th></th><th scope=col>class</th><th scope=col>biological_samples</th><th scope=col>cell_number</th></tr>\n",
       "\t<tr><th></th><th scope=col>&lt;chr&gt;</th><th scope=col>&lt;chr&gt;</th><th scope=col>&lt;int&gt;</th></tr>\n",
       "</thead>\n",
       "<tbody>\n",
       "\t<tr><th scope=row>Naive_1</th><td>Naive</td><td>Yes</td><td>300</td></tr>\n",
       "\t<tr><th scope=row>Naive_2</th><td>Naive</td><td>Yes</td><td>300</td></tr>\n",
       "\t<tr><th scope=row>Naive_3</th><td>Naive</td><td>Yes</td><td>300</td></tr>\n",
       "\t<tr><th scope=row>R5neg_1</th><td>R5neg</td><td>Yes</td><td>655</td></tr>\n",
       "\t<tr><th scope=row>R5neg_2</th><td>R5neg</td><td>Yes</td><td>687</td></tr>\n",
       "\t<tr><th scope=row>R5neg_3</th><td>R5neg</td><td>Yes</td><td>865</td></tr>\n",
       "</tbody>\n",
       "</table>\n"
      ],
      "text/latex": [
       "A data.frame: 6 × 3\n",
       "\\begin{tabular}{r|lll}\n",
       "  & class & biological\\_samples & cell\\_number\\\\\n",
       "  & <chr> & <chr> & <int>\\\\\n",
       "\\hline\n",
       "\tNaive\\_1 & Naive & Yes & 300\\\\\n",
       "\tNaive\\_2 & Naive & Yes & 300\\\\\n",
       "\tNaive\\_3 & Naive & Yes & 300\\\\\n",
       "\tR5neg\\_1 & R5neg & Yes & 655\\\\\n",
       "\tR5neg\\_2 & R5neg & Yes & 687\\\\\n",
       "\tR5neg\\_3 & R5neg & Yes & 865\\\\\n",
       "\\end{tabular}\n"
      ],
      "text/markdown": [
       "\n",
       "A data.frame: 6 × 3\n",
       "\n",
       "| <!--/--> | class &lt;chr&gt; | biological_samples &lt;chr&gt; | cell_number &lt;int&gt; |\n",
       "|---|---|---|---|\n",
       "| Naive_1 | Naive | Yes | 300 |\n",
       "| Naive_2 | Naive | Yes | 300 |\n",
       "| Naive_3 | Naive | Yes | 300 |\n",
       "| R5neg_1 | R5neg | Yes | 655 |\n",
       "| R5neg_2 | R5neg | Yes | 687 |\n",
       "| R5neg_3 | R5neg | Yes | 865 |\n",
       "\n"
      ],
      "text/plain": [
       "        class biological_samples cell_number\n",
       "Naive_1 Naive Yes                300        \n",
       "Naive_2 Naive Yes                300        \n",
       "Naive_3 Naive Yes                300        \n",
       "R5neg_1 R5neg Yes                655        \n",
       "R5neg_2 R5neg Yes                687        \n",
       "R5neg_3 R5neg Yes                865        "
      ]
     },
     "metadata": {},
     "output_type": "display_data"
    }
   ],
   "source": [
    "head(meta_df)"
   ]
  },
  {
   "cell_type": "markdown",
   "id": "7e021c57-758a-470d-bba3-981807939faf",
   "metadata": {},
   "source": [
    "----"
   ]
  },
  {
   "cell_type": "markdown",
   "id": "f469a8dc-8c02-41a5-bbd7-87423583f54a",
   "metadata": {},
   "source": [
    "## Transform and merge data"
   ]
  },
  {
   "cell_type": "code",
   "execution_count": 22,
   "id": "9403fbb8-77ac-4103-b118-6e200d4af2c7",
   "metadata": {},
   "outputs": [],
   "source": [
    "source('../utilis/utilis.R')\n",
    "transform_merge_data4violin <- function(df = df,\n",
    "                                 meta_df = meta_df,\n",
    "                                 class_column = 'class',\n",
    "                                 cutoff_column = 'padj', \n",
    "                                 threshold = threshold) {\n",
    "    \n",
    "    df_filt <- df[df[,cutoff_column] < threshold,\n",
    "              colnames(df)[grepl('Naive\\\\_[0-9]|R5pos\\\\_[0-9]|R5neg\\\\_[0-9]',colnames(df))]] # \n",
    "    df_filt.T <- t(df_filt)\n",
    "    # print(head(df_filt.T))\n",
    "    merged_df = merge_by_rowName(meta_df,df_filt.T, all.y = TRUE)\n",
    "    merged_df[,class_column] = factor(\n",
    "        merged_df[,class_column],\n",
    "        level = c('Naive',\n",
    "                  'R5pos',\n",
    "                  'R5neg')\n",
    "    )\n",
    "    return(merged_df)\n",
    "}"
   ]
  },
  {
   "cell_type": "code",
   "execution_count": 23,
   "id": "09de2aff-85b6-48b3-8f29-08d00baaa6b6",
   "metadata": {},
   "outputs": [],
   "source": [
    "merged_df <- transform_merge_data4violin(df = df,\n",
    "                                         meta_df = meta_df,\n",
    "                                         class_column = 'class',\n",
    "                                         cutoff_column = 'padj', \n",
    "                                         threshold = threshold)"
   ]
  },
  {
   "cell_type": "code",
   "execution_count": 24,
   "id": "0e754c38",
   "metadata": {},
   "outputs": [
    {
     "data": {
      "text/html": [
       "<style>\n",
       ".list-inline {list-style: none; margin:0; padding: 0}\n",
       ".list-inline>li {display: inline-block}\n",
       ".list-inline>li:not(:last-child)::after {content: \"\\00b7\"; padding: 0 .5ex}\n",
       "</style>\n",
       "<ol class=list-inline><li>'class'</li><li>'biological_samples'</li><li>'cell_number'</li><li>'F16887||PS 37:5'</li><li>'F17414|M0,M+H+|PS 40:6'</li><li>'F17672|M0,M+H+|PS 42:9'</li><li>'F18473||PS 36:1'</li><li>'F18893|M0,Na/H|PS 36:1'</li></ol>\n"
      ],
      "text/latex": [
       "\\begin{enumerate*}\n",
       "\\item 'class'\n",
       "\\item 'biological\\_samples'\n",
       "\\item 'cell\\_number'\n",
       "\\item 'F16887\\textbar{}\\textbar{}PS 37:5'\n",
       "\\item 'F17414\\textbar{}M0,M+H+\\textbar{}PS 40:6'\n",
       "\\item 'F17672\\textbar{}M0,M+H+\\textbar{}PS 42:9'\n",
       "\\item 'F18473\\textbar{}\\textbar{}PS 36:1'\n",
       "\\item 'F18893\\textbar{}M0,Na/H\\textbar{}PS 36:1'\n",
       "\\end{enumerate*}\n"
      ],
      "text/markdown": [
       "1. 'class'\n",
       "2. 'biological_samples'\n",
       "3. 'cell_number'\n",
       "4. 'F16887||PS 37:5'\n",
       "5. 'F17414|M0,M+H+|PS 40:6'\n",
       "6. 'F17672|M0,M+H+|PS 42:9'\n",
       "7. 'F18473||PS 36:1'\n",
       "8. 'F18893|M0,Na/H|PS 36:1'\n",
       "\n",
       "\n"
      ],
      "text/plain": [
       "[1] \"class\"                  \"biological_samples\"     \"cell_number\"           \n",
       "[4] \"F16887||PS 37:5\"        \"F17414|M0,M+H+|PS 40:6\" \"F17672|M0,M+H+|PS 42:9\"\n",
       "[7] \"F18473||PS 36:1\"        \"F18893|M0,Na/H|PS 36:1\""
      ]
     },
     "metadata": {},
     "output_type": "display_data"
    }
   ],
   "source": [
    "colnames(merged_df)"
   ]
  },
  {
   "cell_type": "markdown",
   "id": "4afee4e2-cd85-4a2b-858e-5e503387ba02",
   "metadata": {},
   "source": [
    "# Output directory"
   ]
  },
  {
   "cell_type": "code",
   "execution_count": 25,
   "id": "cd50ca01-98c3-450e-b54f-0438fa81a4d6",
   "metadata": {
    "tags": []
   },
   "outputs": [],
   "source": [
    "output_dir = \"../../../output/PS_species_v2_hMinImp_TICnorm_groupFil0.3_HILICpos_1wayANOVA//boxplot/\"\n",
    "dir.create(output_dir)"
   ]
  },
  {
   "cell_type": "markdown",
   "id": "12756014",
   "metadata": {
    "tags": []
   },
   "source": [
    "# Wrapper Function: plot a single box plot"
   ]
  },
  {
   "cell_type": "code",
   "execution_count": 26,
   "id": "aecbfbe9-3102-4481-9913-f8c84e9098d5",
   "metadata": {},
   "outputs": [],
   "source": [
    "box_plot <- function(long_df = merged_df,\n",
    "                        x = 'class',\n",
    "                        y = var,\n",
    "                        xlab = xlab,\n",
    "                        ylab = ylab,\n",
    "                        fill_color = 'class',\n",
    "                        fig_width = 8,\n",
    "                        fig_height = 8,\n",
    "                        text_size = 20,\n",
    "                        legend_size = 20,\n",
    "                        axis_title_size = 20,\n",
    "                        output_dir = \"\",\n",
    "                        pdf_prefix = 'test',\n",
    "                        show_plot = TRUE) {\n",
    "    \n",
    "    options(repr.plot.width = fig_width, repr.plot.height = fig_height)\n",
    "\n",
    "    p <- ggplot(long_df, aes_string(x = x, y = y, fill = fill_color)) + \n",
    "        geom_boxplot(outlier.shape = NA) +\n",
    "        xlab(xlab) + ylab(ylab) + \n",
    "        geom_jitter(alpha = 1) +\n",
    "        scale_fill_manual(values = c(\"#888888\",\"#0000ff\",\"#ff0000\")) +  #\n",
    "\n",
    "        # set transparency\n",
    "        # https://ggplot2.tidyverse.org/reference/theme.html\n",
    "        theme(\n",
    "          panel.grid.major = element_line(colour = \"grey50\",linetype = \"dashed\", size = 0.2),\n",
    "          panel.border = element_rect(fill = NA),\n",
    "          #panel.grid.minor = element_blank(),\n",
    "          panel.background = element_rect(fill = \"transparent\",colour = NA),\n",
    "          plot.background = element_rect(fill = \"transparent\",colour = NA),\n",
    "          axis.text = element_text(size = text_size, colour=\"black\"),\n",
    "          axis.text.x = element_text(angle = 45, vjust = 0.5, hjust=0.5, colour=\"black\"),\n",
    "          legend.text= element_text(size = legend_size),\n",
    "          legend.title = element_text(size = legend_size),\n",
    "          axis.title = element_text(size = axis_title_size)\n",
    "        )\n",
    "    if (show_plot == TRUE) {\n",
    "        print(p) # display the plot\n",
    "    } else {return(p)}\n",
    "\n",
    "    if (length(output_dir)!=0) {\n",
    "            ggsave(file.path(output_dir, paste0(\"ggplot_boxplot_\",pdf_prefix,\".pdf\")), width = fig_width, height = fig_height)\n",
    "        }\n",
    "}"
   ]
  },
  {
   "cell_type": "markdown",
   "id": "04a0e043-8ad0-4c31-b6e5-6f0dd71ef974",
   "metadata": {
    "tags": []
   },
   "source": [
    "# Plot a single box plot"
   ]
  },
  {
   "cell_type": "code",
   "execution_count": 27,
   "id": "dbe18864",
   "metadata": {},
   "outputs": [],
   "source": [
    "# var <- sym('F10352')\n",
    "\n",
    "# metab_name <- lookUpAnnot(annot_df,var,'Species.Shorthand')\n",
    "# box_plot(long_df = merged_df,\n",
    "#             x = 'class',\n",
    "#             y = var,\n",
    "#             xlab = 'class',\n",
    "#             ylab = glue('{var}_{metab_name}\\nlog2peakArea'),\n",
    "#             fill_color = 'class',\n",
    "#             fig_width = 8,\n",
    "#             fig_height = 6,\n",
    "#             text_size = 20,\n",
    "#             legend_size = 20,\n",
    "#             axis_title_size = 20,\n",
    "#             output_dir = output_dir,\n",
    "#             pdf_prefix = 'test')"
   ]
  },
  {
   "cell_type": "markdown",
   "id": "9fc1f8be-aa7c-4b0c-804f-8a1351a7d5cd",
   "metadata": {},
   "source": [
    "# Wrapper for plotting out multiple"
   ]
  },
  {
   "cell_type": "code",
   "execution_count": 28,
   "id": "08ede61d-295e-4722-95da-289e0b84d9c6",
   "metadata": {},
   "outputs": [
    {
     "data": {
      "text/html": [
       "<table class=\"dataframe\">\n",
       "<caption>A data.frame: 6 × 8</caption>\n",
       "<thead>\n",
       "\t<tr><th></th><th scope=col>class</th><th scope=col>biological_samples</th><th scope=col>cell_number</th><th scope=col>F16887||PS 37:5</th><th scope=col>F17414|M0,M+H+|PS 40:6</th><th scope=col>F17672|M0,M+H+|PS 42:9</th><th scope=col>F18473||PS 36:1</th><th scope=col>F18893|M0,Na/H|PS 36:1</th></tr>\n",
       "\t<tr><th></th><th scope=col>&lt;fct&gt;</th><th scope=col>&lt;chr&gt;</th><th scope=col>&lt;int&gt;</th><th scope=col>&lt;dbl&gt;</th><th scope=col>&lt;dbl&gt;</th><th scope=col>&lt;dbl&gt;</th><th scope=col>&lt;dbl&gt;</th><th scope=col>&lt;dbl&gt;</th></tr>\n",
       "</thead>\n",
       "<tbody>\n",
       "\t<tr><th scope=row>Naive_1</th><td>Naive</td><td>Yes</td><td>300</td><td>21.02884</td><td>22.89911</td><td>17.15498</td><td>18.27402</td><td>21.64989</td></tr>\n",
       "\t<tr><th scope=row>Naive_2</th><td>Naive</td><td>Yes</td><td>300</td><td>21.17845</td><td>22.48117</td><td>16.15498</td><td>17.15197</td><td>21.06372</td></tr>\n",
       "\t<tr><th scope=row>Naive_3</th><td>Naive</td><td>Yes</td><td>300</td><td>21.22538</td><td>22.37244</td><td>16.15498</td><td>17.75366</td><td>21.12758</td></tr>\n",
       "\t<tr><th scope=row>R5neg_1</th><td>R5neg</td><td>Yes</td><td>655</td><td>19.57986</td><td>24.13285</td><td>19.88481</td><td>19.86190</td><td>21.76141</td></tr>\n",
       "\t<tr><th scope=row>R5neg_2</th><td>R5neg</td><td>Yes</td><td>687</td><td>20.57986</td><td>24.24680</td><td>20.25283</td><td>19.25296</td><td>22.08037</td></tr>\n",
       "\t<tr><th scope=row>R5neg_3</th><td>R5neg</td><td>Yes</td><td>865</td><td>19.57986</td><td>24.09082</td><td>20.31554</td><td>19.61891</td><td>21.79392</td></tr>\n",
       "</tbody>\n",
       "</table>\n"
      ],
      "text/latex": [
       "A data.frame: 6 × 8\n",
       "\\begin{tabular}{r|llllllll}\n",
       "  & class & biological\\_samples & cell\\_number & F16887\\textbar{}\\textbar{}PS 37:5 & F17414\\textbar{}M0,M+H+\\textbar{}PS 40:6 & F17672\\textbar{}M0,M+H+\\textbar{}PS 42:9 & F18473\\textbar{}\\textbar{}PS 36:1 & F18893\\textbar{}M0,Na/H\\textbar{}PS 36:1\\\\\n",
       "  & <fct> & <chr> & <int> & <dbl> & <dbl> & <dbl> & <dbl> & <dbl>\\\\\n",
       "\\hline\n",
       "\tNaive\\_1 & Naive & Yes & 300 & 21.02884 & 22.89911 & 17.15498 & 18.27402 & 21.64989\\\\\n",
       "\tNaive\\_2 & Naive & Yes & 300 & 21.17845 & 22.48117 & 16.15498 & 17.15197 & 21.06372\\\\\n",
       "\tNaive\\_3 & Naive & Yes & 300 & 21.22538 & 22.37244 & 16.15498 & 17.75366 & 21.12758\\\\\n",
       "\tR5neg\\_1 & R5neg & Yes & 655 & 19.57986 & 24.13285 & 19.88481 & 19.86190 & 21.76141\\\\\n",
       "\tR5neg\\_2 & R5neg & Yes & 687 & 20.57986 & 24.24680 & 20.25283 & 19.25296 & 22.08037\\\\\n",
       "\tR5neg\\_3 & R5neg & Yes & 865 & 19.57986 & 24.09082 & 20.31554 & 19.61891 & 21.79392\\\\\n",
       "\\end{tabular}\n"
      ],
      "text/markdown": [
       "\n",
       "A data.frame: 6 × 8\n",
       "\n",
       "| <!--/--> | class &lt;fct&gt; | biological_samples &lt;chr&gt; | cell_number &lt;int&gt; | F16887||PS 37:5 &lt;dbl&gt; | F17414|M0,M+H+|PS 40:6 &lt;dbl&gt; | F17672|M0,M+H+|PS 42:9 &lt;dbl&gt; | F18473||PS 36:1 &lt;dbl&gt; | F18893|M0,Na/H|PS 36:1 &lt;dbl&gt; |\n",
       "|---|---|---|---|---|---|---|---|---|\n",
       "| Naive_1 | Naive | Yes | 300 | 21.02884 | 22.89911 | 17.15498 | 18.27402 | 21.64989 |\n",
       "| Naive_2 | Naive | Yes | 300 | 21.17845 | 22.48117 | 16.15498 | 17.15197 | 21.06372 |\n",
       "| Naive_3 | Naive | Yes | 300 | 21.22538 | 22.37244 | 16.15498 | 17.75366 | 21.12758 |\n",
       "| R5neg_1 | R5neg | Yes | 655 | 19.57986 | 24.13285 | 19.88481 | 19.86190 | 21.76141 |\n",
       "| R5neg_2 | R5neg | Yes | 687 | 20.57986 | 24.24680 | 20.25283 | 19.25296 | 22.08037 |\n",
       "| R5neg_3 | R5neg | Yes | 865 | 19.57986 | 24.09082 | 20.31554 | 19.61891 | 21.79392 |\n",
       "\n"
      ],
      "text/plain": [
       "        class biological_samples cell_number F16887||PS 37:5\n",
       "Naive_1 Naive Yes                300         21.02884       \n",
       "Naive_2 Naive Yes                300         21.17845       \n",
       "Naive_3 Naive Yes                300         21.22538       \n",
       "R5neg_1 R5neg Yes                655         19.57986       \n",
       "R5neg_2 R5neg Yes                687         20.57986       \n",
       "R5neg_3 R5neg Yes                865         19.57986       \n",
       "        F17414|M0,M+H+|PS 40:6 F17672|M0,M+H+|PS 42:9 F18473||PS 36:1\n",
       "Naive_1 22.89911               17.15498               18.27402       \n",
       "Naive_2 22.48117               16.15498               17.15197       \n",
       "Naive_3 22.37244               16.15498               17.75366       \n",
       "R5neg_1 24.13285               19.88481               19.86190       \n",
       "R5neg_2 24.24680               20.25283               19.25296       \n",
       "R5neg_3 24.09082               20.31554               19.61891       \n",
       "        F18893|M0,Na/H|PS 36:1\n",
       "Naive_1 21.64989              \n",
       "Naive_2 21.06372              \n",
       "Naive_3 21.12758              \n",
       "R5neg_1 21.76141              \n",
       "R5neg_2 22.08037              \n",
       "R5neg_3 21.79392              "
      ]
     },
     "metadata": {},
     "output_type": "display_data"
    }
   ],
   "source": [
    "head(merged_df)"
   ]
  },
  {
   "cell_type": "code",
   "execution_count": 29,
   "id": "7fdae1cf-9e90-4186-b58c-d852baa5ac43",
   "metadata": {},
   "outputs": [],
   "source": [
    "listOfFeatures = colnames(merged_df)[grepl('F[0-9]',colnames(merged_df))] # "
   ]
  },
  {
   "cell_type": "code",
   "execution_count": 30,
   "id": "b6267d44-7088-4aac-8d22-52c5fdd9edbc",
   "metadata": {},
   "outputs": [],
   "source": [
    "# install.packages(\"ggpubr\")\n",
    "library(ggpubr)"
   ]
  },
  {
   "cell_type": "code",
   "execution_count": 33,
   "id": "60150d3d-6e26-499d-8834-01918be230b1",
   "metadata": {
    "tags": []
   },
   "outputs": [
    {
     "name": "stderr",
     "output_type": "stream",
     "text": [
      "Warning message:\n",
      "“\u001b[1m\u001b[22m`aes_string()` was deprecated in ggplot2 3.0.0.\n",
      "\u001b[36mℹ\u001b[39m Please use tidy evaluation ideoms with `aes()`”\n",
      "Warning message:\n",
      "“\u001b[1m\u001b[22mThe `size` argument of `element_line()` is deprecated as of ggplot2 3.4.0.\n",
      "\u001b[36mℹ\u001b[39m Please use the `linewidth` argument instead.”\n",
      "file saved to ../../../output/PS_species_v2_hMinImp_TICnorm_groupFil0.3_HILICpos_1wayANOVA//boxplot//ggplot_multi_ggplot_test_padj_0.05.pdf\n",
      "\n"
     ]
    }
   ],
   "source": [
    "fig_l = list()\n",
    "for (i in 1:length(listOfFeatures)) {\n",
    "\n",
    "    pdf_prefix = paste('test',cutoff_column,threshold, sep = \"_\") # \n",
    "\n",
    "    featID <- listOfFeatures[[i]]\n",
    "\n",
    "    fig_l[[i]] <- box_plot(long_df = merged_df,\n",
    "                            x = 'class', #\n",
    "                            y = sym(featID),\n",
    "                            xlab = 'class', # \n",
    "                            ylab = glue('{featID}\\nlog2peakArea'),\n",
    "                            fill_color = 'class',\n",
    "                            fig_width = 4,\n",
    "                            fig_height = 4,\n",
    "                            text_size = 8, # important in report multiple ones.\n",
    "                            legend_size = 8,\n",
    "                            axis_title_size = 6,\n",
    "                            output_dir = NULL, # no need to define, this is for single plot\n",
    "                            pdf_prefix = NULL, # no need to define, this is for single plot\n",
    "                            show_plot = FALSE)\n",
    "                    }\n",
    "multi.page <- ggarrange(plotlist = fig_l,\n",
    "                        nrow = 3, ncol = 2)\n",
    "ggexport(multi.page, filename = file.path(output_dir, \n",
    "                                          paste0(\"ggplot_multi_ggplot_\",\n",
    "                                                 pdf_prefix,\n",
    "                                                 \".pdf\")))\n",
    "\n",
    "\n",
    "# library(ggpubr)\n",
    "# \n",
    "# my_comparisons = list( c(\"0.5\", \"1\"), c(\"1\", \"2\"), c(\"0.5\", \"2\") )\n",
    "# \n",
    "# ggboxplot(ToothGrowth, x = \"dose\", y = \"len\",\n",
    "#           color = \"dose\", palette = \"jco\")+ \n",
    "#   stat_compare_means(comparisons = my_comparisons, label.y = c(29, 35, 40))+\n",
    "#   stat_compare_means(label.y = 45)"
   ]
  },
  {
   "cell_type": "markdown",
   "id": "a11647dc-4b1b-4d4d-bacc-e13483eb609e",
   "metadata": {},
   "source": [
    "-------"
   ]
  },
  {
   "cell_type": "markdown",
   "id": "4300a21b-6cfe-437e-80a7-9b7072dd41f8",
   "metadata": {},
   "source": [
    "-------"
   ]
  },
  {
   "cell_type": "markdown",
   "id": "07dc57bb-a688-441d-b0d1-4a65e552b1a9",
   "metadata": {},
   "source": [
    "-------"
   ]
  }
 ],
 "metadata": {
  "kernelspec": {
   "display_name": "R",
   "language": "R",
   "name": "ir"
  },
  "language_info": {
   "codemirror_mode": "r",
   "file_extension": ".r",
   "mimetype": "text/x-r-source",
   "name": "R",
   "pygments_lexer": "r",
   "version": "4.2.2"
  }
 },
 "nbformat": 4,
 "nbformat_minor": 5
}
